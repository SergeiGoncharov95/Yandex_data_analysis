{
 "cells": [
  {
   "cell_type": "markdown",
   "metadata": {},
   "source": [
    "<div style=\"border:solid purple 5px; padding: 20px\"> \n",
    "\n",
    "<b>Космическое привет, Сергей 🖖!</b>\n",
    "    \n",
    "\n",
    "Для упрощения коммуникации мои пометки будут в отдельных Markdown ячейках. <b>Пожалуйста, не удаляй и не меняй их</b> — так будет проще отслеживать внесенные изменения. К слову о доработках. Будет намного удобнее, если о сделанных изменениях ты так же сообщишь мне в отдельной Markdown ячейке (это позволит принять проект куда быстрее). \n",
    "    \n",
    "<hr>    \n",
    "Несколько  слов об оформлении. Мои комментарии будут оформлены тремя цветами:\n",
    "\n",
    "<div class=\"alert alert-success\">\n",
    "<b> 🤌  Комментарий тимлида</b>   — зеленый комментарий означает, что эта часть работы выполнена отлично;</div>\n",
    "    \n",
    "<div class=\"alert alert-warning\">\n",
    "<b>🕵️‍♀️  Комментарий тимлида </b> — желтый цвет укажет на хорошо проделанную работу и предложит (хоть это и необязательно) немного доработать текущий этап проекта;</div>\n",
    "    \n",
    "<div class=\"alert alert-danger\">\n",
    "<b> 👨‍🚒  Комментарий тимлида</b> — красный комментарий означает, что некоторые аспекты придется изменить, так как без их исправления работу принять я не смогу.</div> \n",
    "    \n",
    "    \n",
    "<div class=\"alert alert-info\">\n",
    "<b>🧑‍🎓 Комментарий джуна </b> — если хочешь, то можешь использовать синий цвет для своих комментариев, скопировав разметку из этой ячейки</div>    \n",
    "\n",
    "\n",
    "\n",
    "</div>      "
   ]
  },
  {
   "cell_type": "markdown",
   "metadata": {
    "toc": true
   },
   "source": [
    "<h1>Содержание<span class=\"tocSkip\"></span></h1>\n",
    "<div class=\"toc\"><ul class=\"toc-item\"><li><span><a href=\"#Подключение-к-базе-данных\" data-toc-modified-id=\"Подключение-к-базе-данных-1\"><span class=\"toc-item-num\">1&nbsp;&nbsp;</span>Подключение к базе данных</a></span></li><li><span><a href=\"#Исследуйте-таблицы-—-выведите-первые-строки\" data-toc-modified-id=\"Исследуйте-таблицы-—-выведите-первые-строки-2\"><span class=\"toc-item-num\">2&nbsp;&nbsp;</span>Исследуйте таблицы — выведите первые строки</a></span></li><li><span><a href=\"#Посчитайте,-сколько-книг-вышло-после-1-января-2000-года\" data-toc-modified-id=\"Посчитайте,-сколько-книг-вышло-после-1-января-2000-года-3\"><span class=\"toc-item-num\">3&nbsp;&nbsp;</span>Посчитайте, сколько книг вышло после 1 января 2000 года</a></span></li><li><span><a href=\"#Для-каждой-книги-посчитайте-количество-обзоров-и-среднюю-оценку\" data-toc-modified-id=\"Для-каждой-книги-посчитайте-количество-обзоров-и-среднюю-оценку-4\"><span class=\"toc-item-num\">4&nbsp;&nbsp;</span>Для каждой книги посчитайте количество обзоров и среднюю оценку</a></span></li><li><span><a href=\"#Определите-издательство,-которое-выпустило-наибольшее-число-книг-толще-50-страниц-—-так-вы-исключите-из-анализа-брошюры\" data-toc-modified-id=\"Определите-издательство,-которое-выпустило-наибольшее-число-книг-толще-50-страниц-—-так-вы-исключите-из-анализа-брошюры-5\"><span class=\"toc-item-num\">5&nbsp;&nbsp;</span>Определите издательство, которое выпустило наибольшее число книг толще 50 страниц — так вы исключите из анализа брошюры</a></span></li><li><span><a href=\"#Определите-автора-с-самой-высокой-средней-оценкой-книг-—-учитывайте-только-книги-с-50-и-более-оценками\" data-toc-modified-id=\"Определите-автора-с-самой-высокой-средней-оценкой-книг-—-учитывайте-только-книги-с-50-и-более-оценками-6\"><span class=\"toc-item-num\">6&nbsp;&nbsp;</span>Определите автора с самой высокой средней оценкой книг — учитывайте только книги с 50 и более оценками</a></span></li><li><span><a href=\"#Посчитайте-среднее-количество-обзоров-от-пользователей,-которые-поставили-больше-50-оценок\" data-toc-modified-id=\"Посчитайте-среднее-количество-обзоров-от-пользователей,-которые-поставили-больше-50-оценок-7\"><span class=\"toc-item-num\">7&nbsp;&nbsp;</span>Посчитайте среднее количество обзоров от пользователей, которые поставили больше 50 оценок</a></span></li></ul></div>"
   ]
  },
  {
   "cell_type": "markdown",
   "metadata": {},
   "source": [
    "# Проект по SQL"
   ]
  },
  {
   "cell_type": "markdown",
   "metadata": {},
   "source": [
    "Во время короновируса в свободное время жители городов стали больше читать различные книгни. Данный факт не остался без внимания стартаперов и они ринулись создавать приложения для читения книг. Наша компания купила крупный сервис для чтения книг по подписке. Необходимо проанализировать базу данных. В ней содержиться информация о книгах, издательствах, авторах, а также пользовательские обзоры книг. Эти данные помогут улучшить новый продукт."
   ]
  },
  {
   "cell_type": "markdown",
   "metadata": {},
   "source": [
    "# Описание данных"
   ]
  },
  {
   "cell_type": "markdown",
   "metadata": {},
   "source": [
    "**Таблица books**\n",
    "\n",
    "Содержит данные о книгах:\n",
    "- book_id — идентификатор книги;\n",
    "- author_id — идентификатор автора;\n",
    "- title — название книги;\n",
    "- num_pages — количество страниц;\n",
    "- publication_date — дата публикации книги;\n",
    "- publisher_id — идентификатор издателя.\n",
    "\n",
    "**Таблица authors**\n",
    "\n",
    "Содержит данные об авторах:\n",
    "- author_id — идентификатор автора;\n",
    "- author — имя автора.\n",
    "\n",
    "**Таблица publishers**\n",
    "\n",
    "Содержит данные об издательствах:\n",
    "- publisher_id — идентификатор издательства;\n",
    "- publisher — название издательства;\n",
    "\n",
    "**Таблица ratings**\n",
    "\n",
    "Содержит данные о пользовательских оценках книг:\n",
    "- rating_id — идентификатор оценки;\n",
    "- book_id — идентификатор книги;\n",
    "- username — имя пользователя, оставившего оценку;\n",
    "- rating — оценка книги.\n",
    "\n",
    "**Таблица reviews**\n",
    "\n",
    "Содержит данные о пользовательских обзорах:\n",
    "- review_id — идентификатор обзора;\n",
    "- book_id — идентификатор книги;\n",
    "- username — имя автора обзора;\n",
    "- text — текст обзора."
   ]
  },
  {
   "cell_type": "markdown",
   "metadata": {},
   "source": [
    "<div class=\"alert alert-warning\">\n",
    "<b>🕵️‍♀️  Комментарий тимлида </b>\n",
    "\n",
    "\n",
    "На финальном спринте ожидается, что уже не будет простого копирования брифа во введение. Вместо него хочется видеть интерпретацию аналитика, его словами изложенное введение \n",
    "    </div>"
   ]
  },
  {
   "cell_type": "markdown",
   "metadata": {},
   "source": [
    "<div class=\"alert alert-info\">\n",
    "<b>🧑‍🎓 Поправил </div> "
   ]
  },
  {
   "cell_type": "markdown",
   "metadata": {},
   "source": [
    "<div class=\"alert alert-success\">\n",
    "<b> 🤌  Комментарий тимлида (v.2)</b>  \n",
    "    \n",
    " 👍\n",
    "    \n",
    "</div>"
   ]
  },
  {
   "cell_type": "markdown",
   "metadata": {},
   "source": [
    "## Подключение к базе данных"
   ]
  },
  {
   "cell_type": "code",
   "execution_count": 1,
   "metadata": {},
   "outputs": [],
   "source": [
    "# импортируем библиотеки\n",
    "import pandas as pd\n",
    "from sqlalchemy import create_engine"
   ]
  },
  {
   "cell_type": "code",
   "execution_count": 2,
   "metadata": {},
   "outputs": [],
   "source": [
    "# устанавливаем параметры\n",
    "db_config = {'user': 'praktikum_student', # имя пользователя\n",
    "'pwd': 'Sdf4$2;d-d30pp', # пароль\n",
    "'host': 'rc1b-wcoijxj3yxfsf3fs.mdb.yandexcloud.net',\n",
    "'port': 6432, # порт подключения\n",
    "'db': 'data-analyst-final-project-db'} # название базы данных\n",
    "connection_string = 'postgresql://{}:{}@{}:{}/{}'.format(db_config['user'],\n",
    " db_config['pwd'],\n",
    " db_config['host'],\n",
    " db_config['port'],\n",
    " db_config['db'])"
   ]
  },
  {
   "cell_type": "code",
   "execution_count": 3,
   "metadata": {},
   "outputs": [],
   "source": [
    "# сохраняем коннектор\n",
    "engine = create_engine(connection_string, connect_args={'sslmode':'require'}) "
   ]
  },
  {
   "cell_type": "markdown",
   "metadata": {},
   "source": [
    "<div class=\"alert alert-warning\">\n",
    "<b>🕵️‍♀️  Комментарий тимлида </b>\n",
    "\n",
    "\n",
    "Когда и импорт библиотек, и импорт файла, и создание подключения происходят в одной ячейке, то изменения в любом из этих шагов, безусловно, ведут к перезаписи всех остальных.\n",
    "    \n",
    "    \n",
    "Например, ты захочешь расширить число используемых библиотек, но для этого заново придется перезаписывать переменную, а значит пересчитывать ноутбук. \n",
    "    \n",
    "    \n",
    "Чтобы этого избежать, лучше сразу разделять логически разные вещи:\n",
    "    \n",
    "— импорт библиотек   \n",
    "— загрузка файлов    \n",
    "— рабочий код   \n",
    "— и т.д.\n",
    "    </div>"
   ]
  },
  {
   "cell_type": "markdown",
   "metadata": {},
   "source": [
    "<div class=\"alert alert-info\">\n",
    "<b>🧑‍🎓 Поправил </div> "
   ]
  },
  {
   "cell_type": "markdown",
   "metadata": {},
   "source": [
    "<div class=\"alert alert-success\">\n",
    "<b> 🤌  Комментарий тимлида (v.2)</b>  \n",
    "    \n",
    "Супер!\n",
    "    \n",
    "</div>"
   ]
  },
  {
   "cell_type": "code",
   "execution_count": 4,
   "metadata": {},
   "outputs": [],
   "source": [
    "def select(query):\n",
    "    return pd.read_sql(query,con=engine)"
   ]
  },
  {
   "cell_type": "markdown",
   "metadata": {},
   "source": [
    "## Исследуйте таблицы — выведите первые строки"
   ]
  },
  {
   "cell_type": "markdown",
   "metadata": {},
   "source": [
    "Выведем на экран первые 5 строк таблицы с данными о книгах"
   ]
  },
  {
   "cell_type": "code",
   "execution_count": 5,
   "metadata": {
    "scrolled": true
   },
   "outputs": [
    {
     "data": {
      "text/html": [
       "<div>\n",
       "<style scoped>\n",
       "    .dataframe tbody tr th:only-of-type {\n",
       "        vertical-align: middle;\n",
       "    }\n",
       "\n",
       "    .dataframe tbody tr th {\n",
       "        vertical-align: top;\n",
       "    }\n",
       "\n",
       "    .dataframe thead th {\n",
       "        text-align: right;\n",
       "    }\n",
       "</style>\n",
       "<table border=\"1\" class=\"dataframe\">\n",
       "  <thead>\n",
       "    <tr style=\"text-align: right;\">\n",
       "      <th></th>\n",
       "      <th>book_id</th>\n",
       "      <th>author_id</th>\n",
       "      <th>title</th>\n",
       "      <th>num_pages</th>\n",
       "      <th>publication_date</th>\n",
       "      <th>publisher_id</th>\n",
       "    </tr>\n",
       "  </thead>\n",
       "  <tbody>\n",
       "    <tr>\n",
       "      <th>0</th>\n",
       "      <td>1</td>\n",
       "      <td>546</td>\n",
       "      <td>'Salem's Lot</td>\n",
       "      <td>594</td>\n",
       "      <td>2005-11-01</td>\n",
       "      <td>93</td>\n",
       "    </tr>\n",
       "    <tr>\n",
       "      <th>1</th>\n",
       "      <td>2</td>\n",
       "      <td>465</td>\n",
       "      <td>1 000 Places to See Before You Die</td>\n",
       "      <td>992</td>\n",
       "      <td>2003-05-22</td>\n",
       "      <td>336</td>\n",
       "    </tr>\n",
       "    <tr>\n",
       "      <th>2</th>\n",
       "      <td>3</td>\n",
       "      <td>407</td>\n",
       "      <td>13 Little Blue Envelopes (Little Blue Envelope...</td>\n",
       "      <td>322</td>\n",
       "      <td>2010-12-21</td>\n",
       "      <td>135</td>\n",
       "    </tr>\n",
       "    <tr>\n",
       "      <th>3</th>\n",
       "      <td>4</td>\n",
       "      <td>82</td>\n",
       "      <td>1491: New Revelations of the Americas Before C...</td>\n",
       "      <td>541</td>\n",
       "      <td>2006-10-10</td>\n",
       "      <td>309</td>\n",
       "    </tr>\n",
       "    <tr>\n",
       "      <th>4</th>\n",
       "      <td>5</td>\n",
       "      <td>125</td>\n",
       "      <td>1776</td>\n",
       "      <td>386</td>\n",
       "      <td>2006-07-04</td>\n",
       "      <td>268</td>\n",
       "    </tr>\n",
       "  </tbody>\n",
       "</table>\n",
       "</div>"
      ],
      "text/plain": [
       "   book_id  author_id                                              title  \\\n",
       "0        1        546                                       'Salem's Lot   \n",
       "1        2        465                 1 000 Places to See Before You Die   \n",
       "2        3        407  13 Little Blue Envelopes (Little Blue Envelope...   \n",
       "3        4         82  1491: New Revelations of the Americas Before C...   \n",
       "4        5        125                                               1776   \n",
       "\n",
       "   num_pages publication_date  publisher_id  \n",
       "0        594       2005-11-01            93  \n",
       "1        992       2003-05-22           336  \n",
       "2        322       2010-12-21           135  \n",
       "3        541       2006-10-10           309  \n",
       "4        386       2006-07-04           268  "
      ]
     },
     "execution_count": 5,
     "metadata": {},
     "output_type": "execute_result"
    }
   ],
   "source": [
    "sql_books = ''' SELECT * FROM books '''\n",
    "books = select(sql_books)\n",
    "books.head()"
   ]
  },
  {
   "cell_type": "markdown",
   "metadata": {},
   "source": [
    "Выведем на экран первые 5 строк таблицы с данными о авторах "
   ]
  },
  {
   "cell_type": "code",
   "execution_count": 6,
   "metadata": {},
   "outputs": [
    {
     "data": {
      "text/html": [
       "<div>\n",
       "<style scoped>\n",
       "    .dataframe tbody tr th:only-of-type {\n",
       "        vertical-align: middle;\n",
       "    }\n",
       "\n",
       "    .dataframe tbody tr th {\n",
       "        vertical-align: top;\n",
       "    }\n",
       "\n",
       "    .dataframe thead th {\n",
       "        text-align: right;\n",
       "    }\n",
       "</style>\n",
       "<table border=\"1\" class=\"dataframe\">\n",
       "  <thead>\n",
       "    <tr style=\"text-align: right;\">\n",
       "      <th></th>\n",
       "      <th>author_id</th>\n",
       "      <th>author</th>\n",
       "    </tr>\n",
       "  </thead>\n",
       "  <tbody>\n",
       "    <tr>\n",
       "      <th>0</th>\n",
       "      <td>1</td>\n",
       "      <td>A.S. Byatt</td>\n",
       "    </tr>\n",
       "    <tr>\n",
       "      <th>1</th>\n",
       "      <td>2</td>\n",
       "      <td>Aesop/Laura Harris/Laura Gibbs</td>\n",
       "    </tr>\n",
       "    <tr>\n",
       "      <th>2</th>\n",
       "      <td>3</td>\n",
       "      <td>Agatha Christie</td>\n",
       "    </tr>\n",
       "    <tr>\n",
       "      <th>3</th>\n",
       "      <td>4</td>\n",
       "      <td>Alan Brennert</td>\n",
       "    </tr>\n",
       "    <tr>\n",
       "      <th>4</th>\n",
       "      <td>5</td>\n",
       "      <td>Alan Moore/David   Lloyd</td>\n",
       "    </tr>\n",
       "  </tbody>\n",
       "</table>\n",
       "</div>"
      ],
      "text/plain": [
       "   author_id                          author\n",
       "0          1                      A.S. Byatt\n",
       "1          2  Aesop/Laura Harris/Laura Gibbs\n",
       "2          3                 Agatha Christie\n",
       "3          4                   Alan Brennert\n",
       "4          5        Alan Moore/David   Lloyd"
      ]
     },
     "execution_count": 6,
     "metadata": {},
     "output_type": "execute_result"
    }
   ],
   "source": [
    "sql_authors = ''' SELECT * FROM authors '''\n",
    "authors = select(sql_authors)\n",
    "authors.head()"
   ]
  },
  {
   "cell_type": "markdown",
   "metadata": {},
   "source": [
    "Выведем на экран первые 5 строк таблицы с данными об издательствах"
   ]
  },
  {
   "cell_type": "code",
   "execution_count": 7,
   "metadata": {},
   "outputs": [
    {
     "data": {
      "text/html": [
       "<div>\n",
       "<style scoped>\n",
       "    .dataframe tbody tr th:only-of-type {\n",
       "        vertical-align: middle;\n",
       "    }\n",
       "\n",
       "    .dataframe tbody tr th {\n",
       "        vertical-align: top;\n",
       "    }\n",
       "\n",
       "    .dataframe thead th {\n",
       "        text-align: right;\n",
       "    }\n",
       "</style>\n",
       "<table border=\"1\" class=\"dataframe\">\n",
       "  <thead>\n",
       "    <tr style=\"text-align: right;\">\n",
       "      <th></th>\n",
       "      <th>publisher_id</th>\n",
       "      <th>publisher</th>\n",
       "    </tr>\n",
       "  </thead>\n",
       "  <tbody>\n",
       "    <tr>\n",
       "      <th>0</th>\n",
       "      <td>1</td>\n",
       "      <td>Ace</td>\n",
       "    </tr>\n",
       "    <tr>\n",
       "      <th>1</th>\n",
       "      <td>2</td>\n",
       "      <td>Ace Book</td>\n",
       "    </tr>\n",
       "    <tr>\n",
       "      <th>2</th>\n",
       "      <td>3</td>\n",
       "      <td>Ace Books</td>\n",
       "    </tr>\n",
       "    <tr>\n",
       "      <th>3</th>\n",
       "      <td>4</td>\n",
       "      <td>Ace Hardcover</td>\n",
       "    </tr>\n",
       "    <tr>\n",
       "      <th>4</th>\n",
       "      <td>5</td>\n",
       "      <td>Addison Wesley Publishing Company</td>\n",
       "    </tr>\n",
       "  </tbody>\n",
       "</table>\n",
       "</div>"
      ],
      "text/plain": [
       "   publisher_id                          publisher\n",
       "0             1                                Ace\n",
       "1             2                           Ace Book\n",
       "2             3                          Ace Books\n",
       "3             4                      Ace Hardcover\n",
       "4             5  Addison Wesley Publishing Company"
      ]
     },
     "execution_count": 7,
     "metadata": {},
     "output_type": "execute_result"
    }
   ],
   "source": [
    "sql_publishers= ''' SELECT * FROM publishers '''\n",
    "publishers = select(sql_publishers) \n",
    "publishers.head()"
   ]
  },
  {
   "cell_type": "markdown",
   "metadata": {},
   "source": [
    "Выведем на экран первые 5 строк таблицы с данными о пользовательских оценках книг "
   ]
  },
  {
   "cell_type": "code",
   "execution_count": 8,
   "metadata": {},
   "outputs": [
    {
     "data": {
      "text/html": [
       "<div>\n",
       "<style scoped>\n",
       "    .dataframe tbody tr th:only-of-type {\n",
       "        vertical-align: middle;\n",
       "    }\n",
       "\n",
       "    .dataframe tbody tr th {\n",
       "        vertical-align: top;\n",
       "    }\n",
       "\n",
       "    .dataframe thead th {\n",
       "        text-align: right;\n",
       "    }\n",
       "</style>\n",
       "<table border=\"1\" class=\"dataframe\">\n",
       "  <thead>\n",
       "    <tr style=\"text-align: right;\">\n",
       "      <th></th>\n",
       "      <th>rating_id</th>\n",
       "      <th>book_id</th>\n",
       "      <th>username</th>\n",
       "      <th>rating</th>\n",
       "    </tr>\n",
       "  </thead>\n",
       "  <tbody>\n",
       "    <tr>\n",
       "      <th>0</th>\n",
       "      <td>1</td>\n",
       "      <td>1</td>\n",
       "      <td>ryanfranco</td>\n",
       "      <td>4</td>\n",
       "    </tr>\n",
       "    <tr>\n",
       "      <th>1</th>\n",
       "      <td>2</td>\n",
       "      <td>1</td>\n",
       "      <td>grantpatricia</td>\n",
       "      <td>2</td>\n",
       "    </tr>\n",
       "    <tr>\n",
       "      <th>2</th>\n",
       "      <td>3</td>\n",
       "      <td>1</td>\n",
       "      <td>brandtandrea</td>\n",
       "      <td>5</td>\n",
       "    </tr>\n",
       "    <tr>\n",
       "      <th>3</th>\n",
       "      <td>4</td>\n",
       "      <td>2</td>\n",
       "      <td>lorichen</td>\n",
       "      <td>3</td>\n",
       "    </tr>\n",
       "    <tr>\n",
       "      <th>4</th>\n",
       "      <td>5</td>\n",
       "      <td>2</td>\n",
       "      <td>mariokeller</td>\n",
       "      <td>2</td>\n",
       "    </tr>\n",
       "  </tbody>\n",
       "</table>\n",
       "</div>"
      ],
      "text/plain": [
       "   rating_id  book_id       username  rating\n",
       "0          1        1     ryanfranco       4\n",
       "1          2        1  grantpatricia       2\n",
       "2          3        1   brandtandrea       5\n",
       "3          4        2       lorichen       3\n",
       "4          5        2    mariokeller       2"
      ]
     },
     "execution_count": 8,
     "metadata": {},
     "output_type": "execute_result"
    }
   ],
   "source": [
    "sql_ratings = ''' SELECT * FROM ratings '''\n",
    "ratings = select(sql_ratings) \n",
    "ratings.head()"
   ]
  },
  {
   "cell_type": "markdown",
   "metadata": {},
   "source": [
    "Выведем на экран первые 5 строк таблицы с данными о пользовательских обзорах на книги"
   ]
  },
  {
   "cell_type": "code",
   "execution_count": 9,
   "metadata": {},
   "outputs": [
    {
     "data": {
      "text/html": [
       "<div>\n",
       "<style scoped>\n",
       "    .dataframe tbody tr th:only-of-type {\n",
       "        vertical-align: middle;\n",
       "    }\n",
       "\n",
       "    .dataframe tbody tr th {\n",
       "        vertical-align: top;\n",
       "    }\n",
       "\n",
       "    .dataframe thead th {\n",
       "        text-align: right;\n",
       "    }\n",
       "</style>\n",
       "<table border=\"1\" class=\"dataframe\">\n",
       "  <thead>\n",
       "    <tr style=\"text-align: right;\">\n",
       "      <th></th>\n",
       "      <th>review_id</th>\n",
       "      <th>book_id</th>\n",
       "      <th>username</th>\n",
       "      <th>text</th>\n",
       "    </tr>\n",
       "  </thead>\n",
       "  <tbody>\n",
       "    <tr>\n",
       "      <th>0</th>\n",
       "      <td>1</td>\n",
       "      <td>1</td>\n",
       "      <td>brandtandrea</td>\n",
       "      <td>Mention society tell send professor analysis. ...</td>\n",
       "    </tr>\n",
       "    <tr>\n",
       "      <th>1</th>\n",
       "      <td>2</td>\n",
       "      <td>1</td>\n",
       "      <td>ryanfranco</td>\n",
       "      <td>Foot glass pretty audience hit themselves. Amo...</td>\n",
       "    </tr>\n",
       "    <tr>\n",
       "      <th>2</th>\n",
       "      <td>3</td>\n",
       "      <td>2</td>\n",
       "      <td>lorichen</td>\n",
       "      <td>Listen treat keep worry. Miss husband tax but ...</td>\n",
       "    </tr>\n",
       "    <tr>\n",
       "      <th>3</th>\n",
       "      <td>4</td>\n",
       "      <td>3</td>\n",
       "      <td>johnsonamanda</td>\n",
       "      <td>Finally month interesting blue could nature cu...</td>\n",
       "    </tr>\n",
       "    <tr>\n",
       "      <th>4</th>\n",
       "      <td>5</td>\n",
       "      <td>3</td>\n",
       "      <td>scotttamara</td>\n",
       "      <td>Nation purpose heavy give wait song will. List...</td>\n",
       "    </tr>\n",
       "  </tbody>\n",
       "</table>\n",
       "</div>"
      ],
      "text/plain": [
       "   review_id  book_id       username  \\\n",
       "0          1        1   brandtandrea   \n",
       "1          2        1     ryanfranco   \n",
       "2          3        2       lorichen   \n",
       "3          4        3  johnsonamanda   \n",
       "4          5        3    scotttamara   \n",
       "\n",
       "                                                text  \n",
       "0  Mention society tell send professor analysis. ...  \n",
       "1  Foot glass pretty audience hit themselves. Amo...  \n",
       "2  Listen treat keep worry. Miss husband tax but ...  \n",
       "3  Finally month interesting blue could nature cu...  \n",
       "4  Nation purpose heavy give wait song will. List...  "
      ]
     },
     "execution_count": 9,
     "metadata": {},
     "output_type": "execute_result"
    }
   ],
   "source": [
    "sql_reviews = ''' SELECT * FROM reviews '''\n",
    "reviews = select(sql_reviews) \n",
    "reviews.head()"
   ]
  },
  {
   "cell_type": "markdown",
   "metadata": {},
   "source": [
    "<div class=\"alert alert-warning\">\n",
    "<b>🕵️‍♀️  Комментарий тимлида </b>\n",
    "\n",
    "    \n",
    "Лучше всегда иметь ввиду, что отсутствие ограничения в запросе, попросту ```limit``` может потенциально убить БД, если в таблице действительно много данных, а мы их пытаемся получить запросом вида ```селект все и еще немного больше``` 🙂\n",
    "    </div>"
   ]
  },
  {
   "cell_type": "markdown",
   "metadata": {},
   "source": [
    "## Посчитайте, сколько книг вышло после 1 января 2000 года"
   ]
  },
  {
   "cell_type": "code",
   "execution_count": 10,
   "metadata": {},
   "outputs": [
    {
     "data": {
      "text/html": [
       "<div>\n",
       "<style scoped>\n",
       "    .dataframe tbody tr th:only-of-type {\n",
       "        vertical-align: middle;\n",
       "    }\n",
       "\n",
       "    .dataframe tbody tr th {\n",
       "        vertical-align: top;\n",
       "    }\n",
       "\n",
       "    .dataframe thead th {\n",
       "        text-align: right;\n",
       "    }\n",
       "</style>\n",
       "<table border=\"1\" class=\"dataframe\">\n",
       "  <thead>\n",
       "    <tr style=\"text-align: right;\">\n",
       "      <th></th>\n",
       "      <th>count_books</th>\n",
       "    </tr>\n",
       "  </thead>\n",
       "  <tbody>\n",
       "    <tr>\n",
       "      <th>0</th>\n",
       "      <td>821</td>\n",
       "    </tr>\n",
       "  </tbody>\n",
       "</table>\n",
       "</div>"
      ],
      "text/plain": [
       "   count_books\n",
       "0          821"
      ]
     },
     "execution_count": 10,
     "metadata": {},
     "output_type": "execute_result"
    }
   ],
   "source": [
    "query = '''\n",
    "SELECT COUNT(DISTINCT book_id) AS count_books\n",
    "FROM books\n",
    "WHERE publication_date >= '2000-01-01'\n",
    "'''\n",
    "select(query)"
   ]
  },
  {
   "cell_type": "markdown",
   "metadata": {},
   "source": [
    "После 1 января 2000 года выпущена 821 книга"
   ]
  },
  {
   "cell_type": "markdown",
   "metadata": {},
   "source": [
    "<div class=\"alert alert-success\">\n",
    "<b> 🤌  Комментарий тимлида </b>  \n",
    "    \n",
    "![](https://i.gifer.com/FQY.gif)\n",
    "    \n",
    "    \n",
    "</div>"
   ]
  },
  {
   "cell_type": "markdown",
   "metadata": {},
   "source": [
    "## Для каждой книги посчитайте количество обзоров и среднюю оценку"
   ]
  },
  {
   "cell_type": "code",
   "execution_count": 11,
   "metadata": {},
   "outputs": [
    {
     "data": {
      "text/html": [
       "<div>\n",
       "<style scoped>\n",
       "    .dataframe tbody tr th:only-of-type {\n",
       "        vertical-align: middle;\n",
       "    }\n",
       "\n",
       "    .dataframe tbody tr th {\n",
       "        vertical-align: top;\n",
       "    }\n",
       "\n",
       "    .dataframe thead th {\n",
       "        text-align: right;\n",
       "    }\n",
       "</style>\n",
       "<table border=\"1\" class=\"dataframe\">\n",
       "  <thead>\n",
       "    <tr style=\"text-align: right;\">\n",
       "      <th></th>\n",
       "      <th>id</th>\n",
       "      <th>title_book</th>\n",
       "      <th>avg_rating</th>\n",
       "      <th>number_of_reviews</th>\n",
       "    </tr>\n",
       "  </thead>\n",
       "  <tbody>\n",
       "    <tr>\n",
       "      <th>0</th>\n",
       "      <td>948</td>\n",
       "      <td>Twilight (Twilight  #1)</td>\n",
       "      <td>3.662500</td>\n",
       "      <td>7</td>\n",
       "    </tr>\n",
       "    <tr>\n",
       "      <th>1</th>\n",
       "      <td>696</td>\n",
       "      <td>The Da Vinci Code (Robert Langdon  #2)</td>\n",
       "      <td>3.830508</td>\n",
       "      <td>6</td>\n",
       "    </tr>\n",
       "    <tr>\n",
       "      <th>2</th>\n",
       "      <td>207</td>\n",
       "      <td>Eat  Pray  Love</td>\n",
       "      <td>3.395833</td>\n",
       "      <td>6</td>\n",
       "    </tr>\n",
       "    <tr>\n",
       "      <th>3</th>\n",
       "      <td>627</td>\n",
       "      <td>The Alchemist</td>\n",
       "      <td>3.789474</td>\n",
       "      <td>6</td>\n",
       "    </tr>\n",
       "    <tr>\n",
       "      <th>4</th>\n",
       "      <td>673</td>\n",
       "      <td>The Catcher in the Rye</td>\n",
       "      <td>3.825581</td>\n",
       "      <td>6</td>\n",
       "    </tr>\n",
       "    <tr>\n",
       "      <th>5</th>\n",
       "      <td>695</td>\n",
       "      <td>The Curious Incident of the Dog in the Night-Time</td>\n",
       "      <td>4.081081</td>\n",
       "      <td>6</td>\n",
       "    </tr>\n",
       "    <tr>\n",
       "      <th>6</th>\n",
       "      <td>302</td>\n",
       "      <td>Harry Potter and the Prisoner of Azkaban (Harr...</td>\n",
       "      <td>4.414634</td>\n",
       "      <td>6</td>\n",
       "    </tr>\n",
       "    <tr>\n",
       "      <th>7</th>\n",
       "      <td>299</td>\n",
       "      <td>Harry Potter and the Chamber of Secrets (Harry...</td>\n",
       "      <td>4.287500</td>\n",
       "      <td>6</td>\n",
       "    </tr>\n",
       "    <tr>\n",
       "      <th>8</th>\n",
       "      <td>497</td>\n",
       "      <td>Outlander (Outlander  #1)</td>\n",
       "      <td>4.125000</td>\n",
       "      <td>6</td>\n",
       "    </tr>\n",
       "    <tr>\n",
       "      <th>9</th>\n",
       "      <td>656</td>\n",
       "      <td>The Book Thief</td>\n",
       "      <td>4.264151</td>\n",
       "      <td>6</td>\n",
       "    </tr>\n",
       "  </tbody>\n",
       "</table>\n",
       "</div>"
      ],
      "text/plain": [
       "    id                                         title_book  avg_rating  \\\n",
       "0  948                            Twilight (Twilight  #1)    3.662500   \n",
       "1  696             The Da Vinci Code (Robert Langdon  #2)    3.830508   \n",
       "2  207                                    Eat  Pray  Love    3.395833   \n",
       "3  627                                      The Alchemist    3.789474   \n",
       "4  673                             The Catcher in the Rye    3.825581   \n",
       "5  695  The Curious Incident of the Dog in the Night-Time    4.081081   \n",
       "6  302  Harry Potter and the Prisoner of Azkaban (Harr...    4.414634   \n",
       "7  299  Harry Potter and the Chamber of Secrets (Harry...    4.287500   \n",
       "8  497                          Outlander (Outlander  #1)    4.125000   \n",
       "9  656                                     The Book Thief    4.264151   \n",
       "\n",
       "   number_of_reviews  \n",
       "0                  7  \n",
       "1                  6  \n",
       "2                  6  \n",
       "3                  6  \n",
       "4                  6  \n",
       "5                  6  \n",
       "6                  6  \n",
       "7                  6  \n",
       "8                  6  \n",
       "9                  6  "
      ]
     },
     "execution_count": 11,
     "metadata": {},
     "output_type": "execute_result"
    }
   ],
   "source": [
    "query = '''\n",
    "SELECT\n",
    " books.book_id AS id,\n",
    " books.title AS title_book,\n",
    " AVG(ratings.rating) AS AVG_rating,\n",
    " COUNT(DISTINCT reviews.review_id) AS number_of_reviews\n",
    "FROM books\n",
    " INNER JOIN reviews ON reviews.book_id = books.book_id\n",
    " INNER JOIN ratings ON ratings.book_id = books.book_id\n",
    "GROUP BY\n",
    " id,\n",
    " title_book\n",
    "ORDER BY\n",
    " number_of_reviews DESC\n",
    "LIMIT 10\n",
    "'''\n",
    "select(query)"
   ]
  },
  {
   "cell_type": "markdown",
   "metadata": {},
   "source": [
    "Вывели топ 10 книг по количеству обзоров. Лидером оказалась книга \"Twilight (Twilight #1)\" у нее 7 обзоров, хотя и не самый большой ретинг (3,7)"
   ]
  },
  {
   "cell_type": "markdown",
   "metadata": {},
   "source": [
    "<div class=\"alert alert-success\">\n",
    "<b> 🤌  Комментарий тимлида </b>  \n",
    "    \n",
    "Отлично сработано\n",
    "    \n",
    "</div>"
   ]
  },
  {
   "cell_type": "markdown",
   "metadata": {},
   "source": [
    "## Определите издательство, которое выпустило наибольшее число книг толще 50 страниц — так вы исключите из анализа брошюры"
   ]
  },
  {
   "cell_type": "code",
   "execution_count": 12,
   "metadata": {},
   "outputs": [
    {
     "data": {
      "text/html": [
       "<div>\n",
       "<style scoped>\n",
       "    .dataframe tbody tr th:only-of-type {\n",
       "        vertical-align: middle;\n",
       "    }\n",
       "\n",
       "    .dataframe tbody tr th {\n",
       "        vertical-align: top;\n",
       "    }\n",
       "\n",
       "    .dataframe thead th {\n",
       "        text-align: right;\n",
       "    }\n",
       "</style>\n",
       "<table border=\"1\" class=\"dataframe\">\n",
       "  <thead>\n",
       "    <tr style=\"text-align: right;\">\n",
       "      <th></th>\n",
       "      <th>id</th>\n",
       "      <th>publisher</th>\n",
       "      <th>number_of_books</th>\n",
       "    </tr>\n",
       "  </thead>\n",
       "  <tbody>\n",
       "    <tr>\n",
       "      <th>0</th>\n",
       "      <td>212</td>\n",
       "      <td>Penguin Books</td>\n",
       "      <td>42</td>\n",
       "    </tr>\n",
       "    <tr>\n",
       "      <th>1</th>\n",
       "      <td>309</td>\n",
       "      <td>Vintage</td>\n",
       "      <td>31</td>\n",
       "    </tr>\n",
       "    <tr>\n",
       "      <th>2</th>\n",
       "      <td>116</td>\n",
       "      <td>Grand Central Publishing</td>\n",
       "      <td>25</td>\n",
       "    </tr>\n",
       "    <tr>\n",
       "      <th>3</th>\n",
       "      <td>217</td>\n",
       "      <td>Penguin Classics</td>\n",
       "      <td>24</td>\n",
       "    </tr>\n",
       "    <tr>\n",
       "      <th>4</th>\n",
       "      <td>33</td>\n",
       "      <td>Ballantine Books</td>\n",
       "      <td>19</td>\n",
       "    </tr>\n",
       "    <tr>\n",
       "      <th>5</th>\n",
       "      <td>35</td>\n",
       "      <td>Bantam</td>\n",
       "      <td>19</td>\n",
       "    </tr>\n",
       "    <tr>\n",
       "      <th>6</th>\n",
       "      <td>45</td>\n",
       "      <td>Berkley</td>\n",
       "      <td>17</td>\n",
       "    </tr>\n",
       "    <tr>\n",
       "      <th>7</th>\n",
       "      <td>46</td>\n",
       "      <td>Berkley Books</td>\n",
       "      <td>14</td>\n",
       "    </tr>\n",
       "    <tr>\n",
       "      <th>8</th>\n",
       "      <td>284</td>\n",
       "      <td>St. Martin's Press</td>\n",
       "      <td>14</td>\n",
       "    </tr>\n",
       "    <tr>\n",
       "      <th>9</th>\n",
       "      <td>83</td>\n",
       "      <td>Delta</td>\n",
       "      <td>13</td>\n",
       "    </tr>\n",
       "  </tbody>\n",
       "</table>\n",
       "</div>"
      ],
      "text/plain": [
       "    id                 publisher  number_of_books\n",
       "0  212             Penguin Books               42\n",
       "1  309                   Vintage               31\n",
       "2  116  Grand Central Publishing               25\n",
       "3  217          Penguin Classics               24\n",
       "4   33          Ballantine Books               19\n",
       "5   35                    Bantam               19\n",
       "6   45                   Berkley               17\n",
       "7   46             Berkley Books               14\n",
       "8  284        St. Martin's Press               14\n",
       "9   83                     Delta               13"
      ]
     },
     "execution_count": 12,
     "metadata": {},
     "output_type": "execute_result"
    }
   ],
   "source": [
    "query = '''\n",
    "SELECT\n",
    " publishers.publisher_id AS id,\n",
    " publishers.publisher AS publisher,\n",
    " COUNT(DISTINCT books.book_id) AS number_of_books\n",
    "FROM publishers\n",
    " LEFT JOIN books ON books.publisher_id = publishers.publisher_id\n",
    "WHERE \n",
    " books.num_pages > 50\n",
    "GROUP BY\n",
    " id,\n",
    " publisher\n",
    "ORDER BY\n",
    " number_of_books DESC\n",
    "LIMIT 10\n",
    "'''\n",
    "select(query)"
   ]
  },
  {
   "cell_type": "markdown",
   "metadata": {},
   "source": [
    "Оказалось, что издательство выпустившее наибольшее количество книг - это Penguin Books"
   ]
  },
  {
   "cell_type": "markdown",
   "metadata": {},
   "source": [
    "<div class=\"alert alert-success\">\n",
    "<b> 🤌  Комментарий тимлида </b>  \n",
    "    \n",
    "Совершенно верно\n",
    "    \n",
    "    \n",
    "![](https://i.gifer.com/4kj1.gif)\n",
    "    \n",
    "    \n",
    "</div>"
   ]
  },
  {
   "cell_type": "markdown",
   "metadata": {},
   "source": [
    "## Определите автора с самой высокой средней оценкой книг — учитывайте только книги с 50 и более оценками"
   ]
  },
  {
   "cell_type": "code",
   "execution_count": 13,
   "metadata": {},
   "outputs": [
    {
     "data": {
      "text/html": [
       "<div>\n",
       "<style scoped>\n",
       "    .dataframe tbody tr th:only-of-type {\n",
       "        vertical-align: middle;\n",
       "    }\n",
       "\n",
       "    .dataframe tbody tr th {\n",
       "        vertical-align: top;\n",
       "    }\n",
       "\n",
       "    .dataframe thead th {\n",
       "        text-align: right;\n",
       "    }\n",
       "</style>\n",
       "<table border=\"1\" class=\"dataframe\">\n",
       "  <thead>\n",
       "    <tr style=\"text-align: right;\">\n",
       "      <th></th>\n",
       "      <th>author</th>\n",
       "      <th>avg_rating</th>\n",
       "      <th>sum</th>\n",
       "    </tr>\n",
       "  </thead>\n",
       "  <tbody>\n",
       "    <tr>\n",
       "      <th>0</th>\n",
       "      <td>J.K. Rowling/Mary GrandPré</td>\n",
       "      <td>4.283844</td>\n",
       "      <td>310.0</td>\n",
       "    </tr>\n",
       "    <tr>\n",
       "      <th>1</th>\n",
       "      <td>Markus Zusak/Cao Xuân Việt Khương</td>\n",
       "      <td>4.264151</td>\n",
       "      <td>53.0</td>\n",
       "    </tr>\n",
       "    <tr>\n",
       "      <th>2</th>\n",
       "      <td>J.R.R. Tolkien</td>\n",
       "      <td>4.258446</td>\n",
       "      <td>162.0</td>\n",
       "    </tr>\n",
       "    <tr>\n",
       "      <th>3</th>\n",
       "      <td>Louisa May Alcott</td>\n",
       "      <td>4.192308</td>\n",
       "      <td>52.0</td>\n",
       "    </tr>\n",
       "    <tr>\n",
       "      <th>4</th>\n",
       "      <td>Rick Riordan</td>\n",
       "      <td>4.080645</td>\n",
       "      <td>62.0</td>\n",
       "    </tr>\n",
       "    <tr>\n",
       "      <th>5</th>\n",
       "      <td>William Golding</td>\n",
       "      <td>3.901408</td>\n",
       "      <td>71.0</td>\n",
       "    </tr>\n",
       "    <tr>\n",
       "      <th>6</th>\n",
       "      <td>J.D. Salinger</td>\n",
       "      <td>3.825581</td>\n",
       "      <td>86.0</td>\n",
       "    </tr>\n",
       "    <tr>\n",
       "      <th>7</th>\n",
       "      <td>Paulo Coelho/Alan R. Clarke/Özdemir İnce</td>\n",
       "      <td>3.789474</td>\n",
       "      <td>57.0</td>\n",
       "    </tr>\n",
       "    <tr>\n",
       "      <th>8</th>\n",
       "      <td>William Shakespeare/Paul Werstine/Barbara A. M...</td>\n",
       "      <td>3.787879</td>\n",
       "      <td>66.0</td>\n",
       "    </tr>\n",
       "    <tr>\n",
       "      <th>9</th>\n",
       "      <td>Dan Brown</td>\n",
       "      <td>3.754540</td>\n",
       "      <td>143.0</td>\n",
       "    </tr>\n",
       "    <tr>\n",
       "      <th>10</th>\n",
       "      <td>Lois Lowry</td>\n",
       "      <td>3.750000</td>\n",
       "      <td>56.0</td>\n",
       "    </tr>\n",
       "    <tr>\n",
       "      <th>11</th>\n",
       "      <td>George Orwell/Boris Grabnar/Peter Škerl</td>\n",
       "      <td>3.729730</td>\n",
       "      <td>74.0</td>\n",
       "    </tr>\n",
       "    <tr>\n",
       "      <th>12</th>\n",
       "      <td>Stephenie Meyer</td>\n",
       "      <td>3.662500</td>\n",
       "      <td>160.0</td>\n",
       "    </tr>\n",
       "    <tr>\n",
       "      <th>13</th>\n",
       "      <td>John Steinbeck</td>\n",
       "      <td>3.622951</td>\n",
       "      <td>61.0</td>\n",
       "    </tr>\n",
       "  </tbody>\n",
       "</table>\n",
       "</div>"
      ],
      "text/plain": [
       "                                               author  avg_rating    sum\n",
       "0                          J.K. Rowling/Mary GrandPré    4.283844  310.0\n",
       "1                   Markus Zusak/Cao Xuân Việt Khương    4.264151   53.0\n",
       "2                                      J.R.R. Tolkien    4.258446  162.0\n",
       "3                                   Louisa May Alcott    4.192308   52.0\n",
       "4                                        Rick Riordan    4.080645   62.0\n",
       "5                                     William Golding    3.901408   71.0\n",
       "6                                       J.D. Salinger    3.825581   86.0\n",
       "7            Paulo Coelho/Alan R. Clarke/Özdemir İnce    3.789474   57.0\n",
       "8   William Shakespeare/Paul Werstine/Barbara A. M...    3.787879   66.0\n",
       "9                                           Dan Brown    3.754540  143.0\n",
       "10                                         Lois Lowry    3.750000   56.0\n",
       "11            George Orwell/Boris Grabnar/Peter Škerl    3.729730   74.0\n",
       "12                                    Stephenie Meyer    3.662500  160.0\n",
       "13                                     John Steinbeck    3.622951   61.0"
      ]
     },
     "execution_count": 13,
     "metadata": {},
     "output_type": "execute_result"
    }
   ],
   "source": [
    "query = '''\n",
    "WITH data as (\n",
    "SELECT\n",
    "   a.author,\n",
    "   r.book_id,\n",
    "   COUNT(rating) as count_rating,\n",
    "   AVG(rating) as avg_rating\n",
    "FROM\n",
    "   ratings r\n",
    "LEFT JOIN books b ON r.book_id = b.book_id\n",
    "LEFT JOIN authors a ON b.author_id = a.author_id\n",
    "GROUP BY\n",
    "    a.author,\n",
    "    r.book_id\n",
    "HAVING\n",
    "   COUNT(rating) > 50\n",
    "   )\n",
    "\n",
    "SELECT\n",
    "    author,\n",
    "    AVG(avg_rating) as avg_rating,\n",
    "    SUM(count_rating)\n",
    "FROM\n",
    "    data\n",
    "GROUP BY\n",
    "    author\n",
    "ORDER BY\n",
    "    avg_rating DESC\n",
    "'''\n",
    "select(query)"
   ]
  },
  {
   "cell_type": "markdown",
   "metadata": {},
   "source": [
    "Автор с самой высокой среденей оценкой книг - J.K. Rowling/Mary GrandPré, за ней идёт Markus Zusak/Cao Xuân Việt Khương"
   ]
  },
  {
   "cell_type": "markdown",
   "metadata": {},
   "source": [
    "<div class=\"alert alert-danger\">\n",
    "<b> 👨‍🚒  Комментарий тимлида</b> \n",
    "    \n",
    "У тебя получилась таблица с авторами, у которых книги получили более 50 оценок. А необходимо учитывать для этих самых авторов только те книги, по которым есть больше 50 оценок. Грань тонка, я понимаю. Поэтому есть подсказка — в вывод должно быть учтено не 312 оценок книг Роулинг (как сейчас — если посмотреть count), а только 310 😉 \n",
    "</div>"
   ]
  },
  {
   "cell_type": "markdown",
   "metadata": {},
   "source": [
    "<div class=\"alert alert-info\">\n",
    "<b>🧑‍🎓 Комментарий джуна </b> Попправил, теперь учитывается 310 книг (проверку в выводе оставил) </div>"
   ]
  },
  {
   "cell_type": "markdown",
   "metadata": {},
   "source": [
    "<div class=\"alert alert-success\">\n",
    "<b> 🤌  Комментарий тимлида (v.2)</b>  \n",
    "    \n",
    "Да, теперь все работает так, как ожидалось. Супер! Поздравляю с завершением финальног спринта!\n",
    "    \n",
    "    \n",
    "![](https://i.gifer.com/2DV.gif)\n",
    "    \n",
    "</div>"
   ]
  },
  {
   "cell_type": "markdown",
   "metadata": {},
   "source": [
    "## Посчитайте среднее количество обзоров от пользователей, которые поставили больше 50 оценок"
   ]
  },
  {
   "cell_type": "code",
   "execution_count": 14,
   "metadata": {},
   "outputs": [
    {
     "data": {
      "text/html": [
       "<div>\n",
       "<style scoped>\n",
       "    .dataframe tbody tr th:only-of-type {\n",
       "        vertical-align: middle;\n",
       "    }\n",
       "\n",
       "    .dataframe tbody tr th {\n",
       "        vertical-align: top;\n",
       "    }\n",
       "\n",
       "    .dataframe thead th {\n",
       "        text-align: right;\n",
       "    }\n",
       "</style>\n",
       "<table border=\"1\" class=\"dataframe\">\n",
       "  <thead>\n",
       "    <tr style=\"text-align: right;\">\n",
       "      <th></th>\n",
       "      <th>avg_count</th>\n",
       "    </tr>\n",
       "  </thead>\n",
       "  <tbody>\n",
       "    <tr>\n",
       "      <th>0</th>\n",
       "      <td>24.333333</td>\n",
       "    </tr>\n",
       "  </tbody>\n",
       "</table>\n",
       "</div>"
      ],
      "text/plain": [
       "   avg_count\n",
       "0  24.333333"
      ]
     },
     "execution_count": 14,
     "metadata": {},
     "output_type": "execute_result"
    }
   ],
   "source": [
    "query = '''\n",
    "SELECT\n",
    " AVG (number_of_reviews) AS AVG_count\n",
    " FROM\n",
    " (\n",
    "   SELECT\n",
    "    COUNT (review_id) AS number_of_reviews\n",
    "   FROM\n",
    "    reviews\n",
    "   INNER JOIN\n",
    "   (SELECT\n",
    "     username,\n",
    "     COUNT (rating_id) AS number_of_ratings\n",
    "    FROM\n",
    "     ratings\n",
    "    GROUP BY\n",
    "     username\n",
    "    HAVING COUNT (rating_id) > 50 ) AS ratings_users ON ratings_users.username = reviews.username\n",
    "    GROUP BY\n",
    "    reviews.username\n",
    " ) AS number_of_reviews\n",
    "'''\n",
    "select(query)"
   ]
  },
  {
   "cell_type": "markdown",
   "metadata": {},
   "source": [
    "Среднее количество обзоров от пользователей, которые поставили больше 50 оценок равно 24"
   ]
  },
  {
   "cell_type": "markdown",
   "metadata": {},
   "source": [
    "<div class=\"alert alert-success\">\n",
    "<b> 🤌  Комментарий тимлида </b>  \n",
    "    \n",
    "Все так\n",
    "    \n",
    "</div>"
   ]
  },
  {
   "cell_type": "markdown",
   "metadata": {},
   "source": [
    "# Итоги"
   ]
  },
  {
   "cell_type": "markdown",
   "metadata": {},
   "source": [
    "- После 1 января 2000 года выпущена 821 книга\n",
    "- Лидером среди книг по количеству обзоров оказалась книга \"Twilight (Twilight #1)\" у нее 7 обзоров\n",
    "- Издательство выпустившее наибольшее количество книг - это Penguin Books\n",
    "- Автор с самой высокой среденей оценкой книг - J.K. Rowling/Mary GrandPré\n",
    "- Среднее количество обзоров от пользователей, которые поставили больше 50 оценок равно 24"
   ]
  }
 ],
 "metadata": {
  "ExecuteTimeLog": [
   {
    "duration": 7273,
    "start_time": "2022-07-27T08:16:16.552Z"
   },
   {
    "duration": 302,
    "start_time": "2022-07-27T08:18:11.722Z"
   },
   {
    "duration": 5,
    "start_time": "2022-07-27T08:19:19.726Z"
   },
   {
    "duration": 257,
    "start_time": "2022-07-27T08:30:35.620Z"
   },
   {
    "duration": 75,
    "start_time": "2022-07-27T08:32:33.618Z"
   },
   {
    "duration": 127,
    "start_time": "2022-07-27T08:34:11.397Z"
   },
   {
    "duration": 124,
    "start_time": "2022-07-27T08:35:44.804Z"
   },
   {
    "duration": 69,
    "start_time": "2022-07-27T08:37:14.048Z"
   },
   {
    "duration": 4,
    "start_time": "2022-07-27T08:37:30.798Z"
   },
   {
    "duration": 325,
    "start_time": "2022-07-27T08:37:30.805Z"
   },
   {
    "duration": 78,
    "start_time": "2022-07-27T08:37:31.132Z"
   },
   {
    "duration": 80,
    "start_time": "2022-07-27T08:37:31.213Z"
   },
   {
    "duration": 101,
    "start_time": "2022-07-27T08:37:31.294Z"
   },
   {
    "duration": 94,
    "start_time": "2022-07-27T08:37:31.397Z"
   },
   {
    "duration": 7,
    "start_time": "2022-07-27T08:37:31.493Z"
   },
   {
    "duration": 5,
    "start_time": "2022-07-27T08:38:38.107Z"
   },
   {
    "duration": 5,
    "start_time": "2022-07-27T08:38:59.496Z"
   },
   {
    "duration": 7,
    "start_time": "2022-07-27T08:43:19.829Z"
   },
   {
    "duration": 3,
    "start_time": "2022-07-27T08:52:16.910Z"
   },
   {
    "duration": 106,
    "start_time": "2022-07-27T08:52:55.281Z"
   },
   {
    "duration": 104,
    "start_time": "2022-07-27T08:56:20.107Z"
   },
   {
    "duration": 91,
    "start_time": "2022-07-27T08:56:29.690Z"
   },
   {
    "duration": 78,
    "start_time": "2022-07-27T08:57:01.170Z"
   },
   {
    "duration": 194,
    "start_time": "2022-07-27T08:57:30.826Z"
   },
   {
    "duration": 140,
    "start_time": "2022-07-27T08:58:21.135Z"
   },
   {
    "duration": 5,
    "start_time": "2022-07-27T08:58:36.812Z"
   },
   {
    "duration": 21,
    "start_time": "2022-07-27T08:58:36.820Z"
   },
   {
    "duration": 273,
    "start_time": "2022-07-27T08:58:36.844Z"
   },
   {
    "duration": 74,
    "start_time": "2022-07-27T08:58:37.119Z"
   },
   {
    "duration": 77,
    "start_time": "2022-07-27T08:58:37.195Z"
   },
   {
    "duration": 106,
    "start_time": "2022-07-27T08:58:37.275Z"
   },
   {
    "duration": 100,
    "start_time": "2022-07-27T08:58:37.383Z"
   },
   {
    "duration": 78,
    "start_time": "2022-07-27T08:58:37.485Z"
   },
   {
    "duration": 85,
    "start_time": "2022-07-27T09:01:33.688Z"
   },
   {
    "duration": 134,
    "start_time": "2022-07-27T09:01:57.790Z"
   },
   {
    "duration": 82,
    "start_time": "2022-07-27T09:02:16.168Z"
   },
   {
    "duration": 73,
    "start_time": "2022-07-27T09:05:53.854Z"
   },
   {
    "duration": 75,
    "start_time": "2022-07-27T09:07:56.910Z"
   },
   {
    "duration": 72,
    "start_time": "2022-07-27T09:10:15.825Z"
   },
   {
    "duration": 7925,
    "start_time": "2022-07-27T09:15:32.534Z"
   },
   {
    "duration": 3,
    "start_time": "2022-07-27T09:15:40.461Z"
   },
   {
    "duration": 333,
    "start_time": "2022-07-27T09:15:40.465Z"
   },
   {
    "duration": 77,
    "start_time": "2022-07-27T09:15:40.800Z"
   },
   {
    "duration": 79,
    "start_time": "2022-07-27T09:15:40.880Z"
   },
   {
    "duration": 100,
    "start_time": "2022-07-27T09:15:40.961Z"
   },
   {
    "duration": 93,
    "start_time": "2022-07-27T09:15:41.062Z"
   },
   {
    "duration": 75,
    "start_time": "2022-07-27T09:15:41.157Z"
   },
   {
    "duration": 88,
    "start_time": "2022-07-27T09:15:41.233Z"
   },
   {
    "duration": 77,
    "start_time": "2022-07-27T09:15:41.324Z"
   },
   {
    "duration": 81,
    "start_time": "2022-07-27T09:15:41.403Z"
   },
   {
    "duration": 80,
    "start_time": "2022-07-27T09:15:41.486Z"
   },
   {
    "duration": 9195,
    "start_time": "2022-07-27T18:07:36.314Z"
   },
   {
    "duration": 3,
    "start_time": "2022-07-27T18:07:45.511Z"
   },
   {
    "duration": 260,
    "start_time": "2022-07-27T18:07:45.515Z"
   },
   {
    "duration": 67,
    "start_time": "2022-07-27T18:07:45.776Z"
   },
   {
    "duration": 64,
    "start_time": "2022-07-27T18:07:45.846Z"
   },
   {
    "duration": 95,
    "start_time": "2022-07-27T18:07:45.912Z"
   },
   {
    "duration": 82,
    "start_time": "2022-07-27T18:07:46.008Z"
   },
   {
    "duration": 67,
    "start_time": "2022-07-27T18:07:46.091Z"
   },
   {
    "duration": 79,
    "start_time": "2022-07-27T18:07:46.160Z"
   },
   {
    "duration": 68,
    "start_time": "2022-07-27T18:07:46.240Z"
   },
   {
    "duration": 81,
    "start_time": "2022-07-27T18:07:46.310Z"
   },
   {
    "duration": 66,
    "start_time": "2022-07-27T18:07:46.393Z"
   },
   {
    "duration": 648,
    "start_time": "2022-07-27T18:11:34.471Z"
   },
   {
    "duration": 69,
    "start_time": "2022-07-27T18:11:41.830Z"
   },
   {
    "duration": 51,
    "start_time": "2022-07-28T05:28:36.768Z"
   },
   {
    "duration": 7123,
    "start_time": "2022-07-28T05:28:40.810Z"
   },
   {
    "duration": 4,
    "start_time": "2022-07-28T05:28:47.935Z"
   },
   {
    "duration": 317,
    "start_time": "2022-07-28T05:28:47.940Z"
   },
   {
    "duration": 83,
    "start_time": "2022-07-28T05:28:48.258Z"
   },
   {
    "duration": 87,
    "start_time": "2022-07-28T05:28:48.342Z"
   },
   {
    "duration": 108,
    "start_time": "2022-07-28T05:28:48.431Z"
   },
   {
    "duration": 121,
    "start_time": "2022-07-28T05:28:48.541Z"
   },
   {
    "duration": 85,
    "start_time": "2022-07-28T05:28:48.664Z"
   },
   {
    "duration": 97,
    "start_time": "2022-07-28T05:28:48.751Z"
   },
   {
    "duration": 86,
    "start_time": "2022-07-28T05:28:48.851Z"
   },
   {
    "duration": 178,
    "start_time": "2022-07-28T05:28:48.939Z"
   },
   {
    "duration": 0,
    "start_time": "2022-07-28T05:28:49.119Z"
   },
   {
    "duration": 156,
    "start_time": "2022-07-28T05:29:21.409Z"
   },
   {
    "duration": 127,
    "start_time": "2022-07-28T05:30:13.113Z"
   },
   {
    "duration": 72,
    "start_time": "2022-07-28T05:31:21.241Z"
   },
   {
    "duration": 129,
    "start_time": "2022-07-28T05:49:22.572Z"
   },
   {
    "duration": 164,
    "start_time": "2022-07-28T05:50:35.594Z"
   },
   {
    "duration": 131,
    "start_time": "2022-07-28T05:51:39.338Z"
   },
   {
    "duration": 75,
    "start_time": "2022-07-28T05:52:07.026Z"
   },
   {
    "duration": 2,
    "start_time": "2022-07-28T05:53:07.363Z"
   },
   {
    "duration": 4,
    "start_time": "2022-07-28T05:53:20.362Z"
   },
   {
    "duration": 81,
    "start_time": "2022-07-28T05:53:31.611Z"
   },
   {
    "duration": 76,
    "start_time": "2022-07-28T06:35:05.243Z"
   },
   {
    "duration": 74,
    "start_time": "2022-07-28T06:35:29.983Z"
   },
   {
    "duration": 76,
    "start_time": "2022-07-28T06:35:54.412Z"
   },
   {
    "duration": 73,
    "start_time": "2022-07-28T06:44:43.929Z"
   },
   {
    "duration": 228,
    "start_time": "2022-07-28T06:45:06.170Z"
   },
   {
    "duration": 134,
    "start_time": "2022-07-28T06:45:18.786Z"
   },
   {
    "duration": 151,
    "start_time": "2022-07-28T06:45:24.441Z"
   },
   {
    "duration": 148,
    "start_time": "2022-07-28T06:45:42.384Z"
   },
   {
    "duration": 162,
    "start_time": "2022-07-28T06:46:03.946Z"
   },
   {
    "duration": 144,
    "start_time": "2022-07-28T06:46:28.467Z"
   },
   {
    "duration": 143,
    "start_time": "2022-07-28T06:46:33.896Z"
   },
   {
    "duration": 72,
    "start_time": "2022-07-28T06:46:42.700Z"
   },
   {
    "duration": 135,
    "start_time": "2022-07-28T06:46:59.774Z"
   },
   {
    "duration": 145,
    "start_time": "2022-07-28T06:47:24.940Z"
   },
   {
    "duration": 129,
    "start_time": "2022-07-28T06:47:33.625Z"
   },
   {
    "duration": 3,
    "start_time": "2022-07-28T06:47:49.148Z"
   },
   {
    "duration": 77,
    "start_time": "2022-07-28T06:48:02.485Z"
   },
   {
    "duration": 72,
    "start_time": "2022-07-28T06:48:47.129Z"
   },
   {
    "duration": 150,
    "start_time": "2022-07-28T06:49:01.723Z"
   },
   {
    "duration": 80,
    "start_time": "2022-07-28T06:49:24.010Z"
   },
   {
    "duration": 75,
    "start_time": "2022-07-28T06:49:57.683Z"
   },
   {
    "duration": 79,
    "start_time": "2022-07-28T06:50:03.556Z"
   },
   {
    "duration": 79,
    "start_time": "2022-07-28T07:09:50.937Z"
   },
   {
    "duration": 79,
    "start_time": "2022-07-28T07:10:25.503Z"
   },
   {
    "duration": 76,
    "start_time": "2022-07-28T07:11:42.593Z"
   },
   {
    "duration": 76,
    "start_time": "2022-07-28T07:12:13.672Z"
   },
   {
    "duration": 2071,
    "start_time": "2022-07-28T07:13:13.696Z"
   },
   {
    "duration": 147,
    "start_time": "2022-07-28T07:13:26.735Z"
   },
   {
    "duration": 527,
    "start_time": "2022-07-28T07:13:37.103Z"
   },
   {
    "duration": 72,
    "start_time": "2022-07-28T07:15:15.690Z"
   },
   {
    "duration": 2441,
    "start_time": "2022-07-28T07:18:26.328Z"
   },
   {
    "duration": 176,
    "start_time": "2022-07-28T07:19:55.322Z"
   },
   {
    "duration": 80,
    "start_time": "2022-07-28T07:21:14.830Z"
   },
   {
    "duration": 126,
    "start_time": "2022-07-28T07:21:28.446Z"
   },
   {
    "duration": 147,
    "start_time": "2022-07-28T07:21:42.665Z"
   },
   {
    "duration": 136,
    "start_time": "2022-07-28T07:22:41.571Z"
   },
   {
    "duration": 125,
    "start_time": "2022-07-28T07:22:47.559Z"
   },
   {
    "duration": 144,
    "start_time": "2022-07-28T07:23:02.924Z"
   },
   {
    "duration": 145,
    "start_time": "2022-07-28T07:23:08.938Z"
   },
   {
    "duration": 80,
    "start_time": "2022-07-28T07:23:18.475Z"
   },
   {
    "duration": 74,
    "start_time": "2022-07-28T07:26:13.211Z"
   },
   {
    "duration": 131,
    "start_time": "2022-07-28T07:28:07.422Z"
   },
   {
    "duration": 130,
    "start_time": "2022-07-28T07:28:13.848Z"
   },
   {
    "duration": 77,
    "start_time": "2022-07-28T07:29:00.681Z"
   },
   {
    "duration": 144,
    "start_time": "2022-07-28T07:29:53.250Z"
   },
   {
    "duration": 132,
    "start_time": "2022-07-28T07:29:58.592Z"
   },
   {
    "duration": 139,
    "start_time": "2022-07-28T07:30:18.067Z"
   },
   {
    "duration": 146,
    "start_time": "2022-07-28T07:32:05.393Z"
   },
   {
    "duration": 75,
    "start_time": "2022-07-28T07:32:14.283Z"
   },
   {
    "duration": 134,
    "start_time": "2022-07-28T07:32:34.858Z"
   },
   {
    "duration": 135,
    "start_time": "2022-07-28T07:32:45.478Z"
   },
   {
    "duration": 76,
    "start_time": "2022-07-28T07:33:32.536Z"
   },
   {
    "duration": 72,
    "start_time": "2022-07-28T07:34:10.722Z"
   },
   {
    "duration": 146,
    "start_time": "2022-07-28T07:34:34.338Z"
   },
   {
    "duration": 127,
    "start_time": "2022-07-28T07:34:43.233Z"
   },
   {
    "duration": 72,
    "start_time": "2022-07-28T07:35:19.849Z"
   },
   {
    "duration": 73,
    "start_time": "2022-07-28T07:36:07.472Z"
   },
   {
    "duration": 177,
    "start_time": "2022-07-28T07:38:19.785Z"
   },
   {
    "duration": 78,
    "start_time": "2022-07-28T07:38:25.720Z"
   },
   {
    "duration": 3,
    "start_time": "2022-07-28T07:45:05.626Z"
   },
   {
    "duration": 4,
    "start_time": "2022-07-28T07:45:29.519Z"
   },
   {
    "duration": 5,
    "start_time": "2022-07-28T07:45:31.887Z"
   },
   {
    "duration": 504,
    "start_time": "2022-07-28T07:50:17.368Z"
   },
   {
    "duration": 4,
    "start_time": "2022-07-28T07:50:17.874Z"
   },
   {
    "duration": 6148,
    "start_time": "2022-07-28T07:50:17.880Z"
   },
   {
    "duration": 3,
    "start_time": "2022-07-28T07:50:24.030Z"
   },
   {
    "duration": 267,
    "start_time": "2022-07-28T07:50:24.035Z"
   },
   {
    "duration": 76,
    "start_time": "2022-07-28T07:50:24.303Z"
   },
   {
    "duration": 72,
    "start_time": "2022-07-28T07:50:24.380Z"
   },
   {
    "duration": 105,
    "start_time": "2022-07-28T07:50:24.453Z"
   },
   {
    "duration": 85,
    "start_time": "2022-07-28T07:50:24.560Z"
   },
   {
    "duration": 84,
    "start_time": "2022-07-28T07:50:24.647Z"
   },
   {
    "duration": 90,
    "start_time": "2022-07-28T07:50:24.733Z"
   },
   {
    "duration": 74,
    "start_time": "2022-07-28T07:50:24.824Z"
   },
   {
    "duration": 77,
    "start_time": "2022-07-28T07:50:24.900Z"
   },
   {
    "duration": 80,
    "start_time": "2022-07-28T07:50:24.979Z"
   },
   {
    "duration": 564,
    "start_time": "2022-07-28T11:32:35.641Z"
   },
   {
    "duration": 3,
    "start_time": "2022-07-28T11:32:36.208Z"
   },
   {
    "duration": 11601,
    "start_time": "2022-07-28T11:32:36.213Z"
   },
   {
    "duration": 3,
    "start_time": "2022-07-28T11:32:47.816Z"
   },
   {
    "duration": 388,
    "start_time": "2022-07-28T11:32:47.821Z"
   },
   {
    "duration": 94,
    "start_time": "2022-07-28T11:32:48.210Z"
   },
   {
    "duration": 84,
    "start_time": "2022-07-28T11:32:48.306Z"
   },
   {
    "duration": 107,
    "start_time": "2022-07-28T11:32:48.391Z"
   },
   {
    "duration": 105,
    "start_time": "2022-07-28T11:32:48.500Z"
   },
   {
    "duration": 78,
    "start_time": "2022-07-28T11:32:48.606Z"
   },
   {
    "duration": 103,
    "start_time": "2022-07-28T11:32:48.686Z"
   },
   {
    "duration": 90,
    "start_time": "2022-07-28T11:32:48.791Z"
   },
   {
    "duration": 113,
    "start_time": "2022-07-28T11:32:48.883Z"
   },
   {
    "duration": 91,
    "start_time": "2022-07-28T11:32:48.999Z"
   }
  ],
  "kernelspec": {
   "display_name": "Python 3 (ipykernel)",
   "language": "python",
   "name": "python3"
  },
  "language_info": {
   "codemirror_mode": {
    "name": "ipython",
    "version": 3
   },
   "file_extension": ".py",
   "mimetype": "text/x-python",
   "name": "python",
   "nbconvert_exporter": "python",
   "pygments_lexer": "ipython3",
   "version": "3.9.5"
  },
  "toc": {
   "base_numbering": 1,
   "nav_menu": {},
   "number_sections": true,
   "sideBar": true,
   "skip_h1_title": true,
   "title_cell": "Содержание",
   "title_sidebar": "Contents",
   "toc_cell": true,
   "toc_position": {},
   "toc_section_display": true,
   "toc_window_display": true
  }
 },
 "nbformat": 4,
 "nbformat_minor": 2
}
