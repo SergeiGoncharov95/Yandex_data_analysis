{
 "cells": [
  {
   "cell_type": "markdown",
   "metadata": {
    "toc": true
   },
   "source": [
    "<h1>Содержание<span class=\"tocSkip\"></span></h1>\n",
    "<div class=\"toc\"><ul class=\"toc-item\"><li><span><a href=\"#Изучение-данных-из-файлов-и-предобработка-данных\" data-toc-modified-id=\"Изучение-данных-из-файлов-и-предобработка-данных-1\"><span class=\"toc-item-num\">1&nbsp;&nbsp;</span>Изучение данных из файлов и предобработка данных</a></span></li><li><span><a href=\"#Подготовка-данных\" data-toc-modified-id=\"Подготовка-данных-2\"><span class=\"toc-item-num\">2&nbsp;&nbsp;</span>Подготовка данных</a></span></li><li><span><a href=\"#Анализ-данных\" data-toc-modified-id=\"Анализ-данных-3\"><span class=\"toc-item-num\">3&nbsp;&nbsp;</span>Анализ данных</a></span></li><li><span><a href=\"#Проверка-гипотез\" data-toc-modified-id=\"Проверка-гипотез-4\"><span class=\"toc-item-num\">4&nbsp;&nbsp;</span>Проверка гипотез</a></span></li><li><span><a href=\"#Общий-вывод\" data-toc-modified-id=\"Общий-вывод-5\"><span class=\"toc-item-num\">5&nbsp;&nbsp;</span>Общий вывод</a></span></li></ul></div>"
   ]
  },
  {
   "cell_type": "markdown",
   "metadata": {},
   "source": [
    "# Определение перспективного тарифа для телеком-компании"
   ]
  },
  {
   "cell_type": "markdown",
   "metadata": {},
   "source": [
    "Нам предоставлены данные компании «Мегалайн» — федерального оператора сотовой связи. Клиентам предлагают два тарифных плана: «Смарт» и «Ультра». Чтобы скорректировать рекламный бюджет, коммерческий департамент хочет понять, какой тариф приносит больше денег.\n",
    "Нам предстоит сделать предварительный анализ тарифов на небольшой выборке клиентов. В нашем распоряжении данные 500 пользователей «Мегалайна»: кто они, откуда, каким тарифом пользуются, сколько звонков и сообщений каждый отправил за 2018 год. Данные представлены в 5 таблицах: users (информация о пользователях), calls (информация о звонках), messages (информация о сообщениях), internet (информация об интернет-сессиях), tariffs (информация о тарифах). Нужно проанализировать поведение клиентов и сделать вывод — какой тариф лучше."
   ]
  },
  {
   "cell_type": "markdown",
   "metadata": {},
   "source": [
    "## Изучение данных из файлов и предобработка данных"
   ]
  },
  {
   "cell_type": "markdown",
   "metadata": {},
   "source": [
    "Последовательно изучим информацию из каждого файла и проведем предобработку данных"
   ]
  },
  {
   "cell_type": "code",
   "execution_count": 1,
   "metadata": {
    "scrolled": true
   },
   "outputs": [],
   "source": [
    "import pandas as pd\n",
    "import numpy as np"
   ]
  },
  {
   "cell_type": "code",
   "execution_count": 2,
   "metadata": {},
   "outputs": [
    {
     "data": {
      "text/html": [
       "<div>\n",
       "<style scoped>\n",
       "    .dataframe tbody tr th:only-of-type {\n",
       "        vertical-align: middle;\n",
       "    }\n",
       "\n",
       "    .dataframe tbody tr th {\n",
       "        vertical-align: top;\n",
       "    }\n",
       "\n",
       "    .dataframe thead th {\n",
       "        text-align: right;\n",
       "    }\n",
       "</style>\n",
       "<table border=\"1\" class=\"dataframe\">\n",
       "  <thead>\n",
       "    <tr style=\"text-align: right;\">\n",
       "      <th></th>\n",
       "      <th>id</th>\n",
       "      <th>call_date</th>\n",
       "      <th>duration</th>\n",
       "      <th>user_id</th>\n",
       "    </tr>\n",
       "  </thead>\n",
       "  <tbody>\n",
       "    <tr>\n",
       "      <th>0</th>\n",
       "      <td>1000_0</td>\n",
       "      <td>2018-07-25</td>\n",
       "      <td>0.00</td>\n",
       "      <td>1000</td>\n",
       "    </tr>\n",
       "    <tr>\n",
       "      <th>1</th>\n",
       "      <td>1000_1</td>\n",
       "      <td>2018-08-17</td>\n",
       "      <td>0.00</td>\n",
       "      <td>1000</td>\n",
       "    </tr>\n",
       "    <tr>\n",
       "      <th>2</th>\n",
       "      <td>1000_2</td>\n",
       "      <td>2018-06-11</td>\n",
       "      <td>2.85</td>\n",
       "      <td>1000</td>\n",
       "    </tr>\n",
       "    <tr>\n",
       "      <th>3</th>\n",
       "      <td>1000_3</td>\n",
       "      <td>2018-09-21</td>\n",
       "      <td>13.80</td>\n",
       "      <td>1000</td>\n",
       "    </tr>\n",
       "    <tr>\n",
       "      <th>4</th>\n",
       "      <td>1000_4</td>\n",
       "      <td>2018-12-15</td>\n",
       "      <td>5.18</td>\n",
       "      <td>1000</td>\n",
       "    </tr>\n",
       "    <tr>\n",
       "      <th>5</th>\n",
       "      <td>1000_5</td>\n",
       "      <td>2018-11-02</td>\n",
       "      <td>0.00</td>\n",
       "      <td>1000</td>\n",
       "    </tr>\n",
       "    <tr>\n",
       "      <th>6</th>\n",
       "      <td>1000_6</td>\n",
       "      <td>2018-10-18</td>\n",
       "      <td>0.00</td>\n",
       "      <td>1000</td>\n",
       "    </tr>\n",
       "    <tr>\n",
       "      <th>7</th>\n",
       "      <td>1000_7</td>\n",
       "      <td>2018-08-22</td>\n",
       "      <td>18.31</td>\n",
       "      <td>1000</td>\n",
       "    </tr>\n",
       "    <tr>\n",
       "      <th>8</th>\n",
       "      <td>1000_8</td>\n",
       "      <td>2018-09-15</td>\n",
       "      <td>18.44</td>\n",
       "      <td>1000</td>\n",
       "    </tr>\n",
       "    <tr>\n",
       "      <th>9</th>\n",
       "      <td>1000_9</td>\n",
       "      <td>2018-08-15</td>\n",
       "      <td>0.00</td>\n",
       "      <td>1000</td>\n",
       "    </tr>\n",
       "    <tr>\n",
       "      <th>10</th>\n",
       "      <td>1000_10</td>\n",
       "      <td>2018-08-22</td>\n",
       "      <td>5.03</td>\n",
       "      <td>1000</td>\n",
       "    </tr>\n",
       "    <tr>\n",
       "      <th>11</th>\n",
       "      <td>1000_11</td>\n",
       "      <td>2018-05-28</td>\n",
       "      <td>18.82</td>\n",
       "      <td>1000</td>\n",
       "    </tr>\n",
       "    <tr>\n",
       "      <th>12</th>\n",
       "      <td>1000_12</td>\n",
       "      <td>2018-07-05</td>\n",
       "      <td>2.02</td>\n",
       "      <td>1000</td>\n",
       "    </tr>\n",
       "    <tr>\n",
       "      <th>13</th>\n",
       "      <td>1000_13</td>\n",
       "      <td>2018-09-29</td>\n",
       "      <td>7.15</td>\n",
       "      <td>1000</td>\n",
       "    </tr>\n",
       "    <tr>\n",
       "      <th>14</th>\n",
       "      <td>1000_14</td>\n",
       "      <td>2018-12-11</td>\n",
       "      <td>9.13</td>\n",
       "      <td>1000</td>\n",
       "    </tr>\n",
       "  </tbody>\n",
       "</table>\n",
       "</div>"
      ],
      "text/plain": [
       "         id   call_date  duration  user_id\n",
       "0    1000_0  2018-07-25      0.00     1000\n",
       "1    1000_1  2018-08-17      0.00     1000\n",
       "2    1000_2  2018-06-11      2.85     1000\n",
       "3    1000_3  2018-09-21     13.80     1000\n",
       "4    1000_4  2018-12-15      5.18     1000\n",
       "5    1000_5  2018-11-02      0.00     1000\n",
       "6    1000_6  2018-10-18      0.00     1000\n",
       "7    1000_7  2018-08-22     18.31     1000\n",
       "8    1000_8  2018-09-15     18.44     1000\n",
       "9    1000_9  2018-08-15      0.00     1000\n",
       "10  1000_10  2018-08-22      5.03     1000\n",
       "11  1000_11  2018-05-28     18.82     1000\n",
       "12  1000_12  2018-07-05      2.02     1000\n",
       "13  1000_13  2018-09-29      7.15     1000\n",
       "14  1000_14  2018-12-11      9.13     1000"
      ]
     },
     "metadata": {},
     "output_type": "display_data"
    }
   ],
   "source": [
    "from scipy import stats as st\n",
    "calls = pd.read_csv('/datasets/calls.csv')\n",
    "display(calls.head(15))"
   ]
  },
  {
   "cell_type": "code",
   "execution_count": 3,
   "metadata": {
    "scrolled": true
   },
   "outputs": [
    {
     "name": "stdout",
     "output_type": "stream",
     "text": [
      "<class 'pandas.core.frame.DataFrame'>\n",
      "RangeIndex: 202607 entries, 0 to 202606\n",
      "Data columns (total 4 columns):\n",
      " #   Column     Non-Null Count   Dtype  \n",
      "---  ------     --------------   -----  \n",
      " 0   id         202607 non-null  object \n",
      " 1   call_date  202607 non-null  object \n",
      " 2   duration   202607 non-null  float64\n",
      " 3   user_id    202607 non-null  int64  \n",
      "dtypes: float64(1), int64(1), object(2)\n",
      "memory usage: 6.2+ MB\n"
     ]
    }
   ],
   "source": [
    "calls.info()"
   ]
  },
  {
   "cell_type": "markdown",
   "metadata": {},
   "source": [
    "Файл с информацией о звнках содержит 4 столбца и 202607 строк с разными типами данных. Исходя из общей информации о файле в столбах 'call_date' и 'duration' не подходящие типы данных, поменяем их, а также проверим на наличие пропусков таблицу"
   ]
  },
  {
   "cell_type": "code",
   "execution_count": 4,
   "metadata": {
    "scrolled": true
   },
   "outputs": [
    {
     "name": "stdout",
     "output_type": "stream",
     "text": [
      "id           0\n",
      "call_date    0\n",
      "duration     0\n",
      "user_id      0\n",
      "dtype: int64\n"
     ]
    }
   ],
   "source": [
    "calls_passes = calls.isna().sum() # проверяем пропуски в файле \n",
    "print(calls_passes)"
   ]
  },
  {
   "cell_type": "code",
   "execution_count": 5,
   "metadata": {},
   "outputs": [],
   "source": [
    "calls['call_date'] = pd.to_datetime(calls['call_date'], format = '%Y-%m-%dT%H:%M:%S')"
   ]
  },
  {
   "cell_type": "code",
   "execution_count": 6,
   "metadata": {
    "scrolled": true
   },
   "outputs": [
    {
     "name": "stdout",
     "output_type": "stream",
     "text": [
      "<class 'pandas.core.frame.DataFrame'>\n",
      "RangeIndex: 202607 entries, 0 to 202606\n",
      "Data columns (total 4 columns):\n",
      " #   Column     Non-Null Count   Dtype         \n",
      "---  ------     --------------   -----         \n",
      " 0   id         202607 non-null  object        \n",
      " 1   call_date  202607 non-null  datetime64[ns]\n",
      " 2   duration   202607 non-null  float64       \n",
      " 3   user_id    202607 non-null  int64         \n",
      "dtypes: datetime64[ns](1), float64(1), int64(1), object(1)\n",
      "memory usage: 6.2+ MB\n"
     ]
    }
   ],
   "source": [
    "calls.info()"
   ]
  },
  {
   "cell_type": "code",
   "execution_count": 7,
   "metadata": {},
   "outputs": [
    {
     "data": {
      "text/html": [
       "<div>\n",
       "<style scoped>\n",
       "    .dataframe tbody tr th:only-of-type {\n",
       "        vertical-align: middle;\n",
       "    }\n",
       "\n",
       "    .dataframe tbody tr th {\n",
       "        vertical-align: top;\n",
       "    }\n",
       "\n",
       "    .dataframe thead th {\n",
       "        text-align: right;\n",
       "    }\n",
       "</style>\n",
       "<table border=\"1\" class=\"dataframe\">\n",
       "  <thead>\n",
       "    <tr style=\"text-align: right;\">\n",
       "      <th></th>\n",
       "      <th>id</th>\n",
       "      <th>call_date</th>\n",
       "      <th>duration</th>\n",
       "      <th>user_id</th>\n",
       "    </tr>\n",
       "  </thead>\n",
       "  <tbody>\n",
       "    <tr>\n",
       "      <th>0</th>\n",
       "      <td>1000_0</td>\n",
       "      <td>2018-07-25</td>\n",
       "      <td>0</td>\n",
       "      <td>1000</td>\n",
       "    </tr>\n",
       "    <tr>\n",
       "      <th>1</th>\n",
       "      <td>1000_1</td>\n",
       "      <td>2018-08-17</td>\n",
       "      <td>0</td>\n",
       "      <td>1000</td>\n",
       "    </tr>\n",
       "    <tr>\n",
       "      <th>2</th>\n",
       "      <td>1000_2</td>\n",
       "      <td>2018-06-11</td>\n",
       "      <td>3</td>\n",
       "      <td>1000</td>\n",
       "    </tr>\n",
       "    <tr>\n",
       "      <th>3</th>\n",
       "      <td>1000_3</td>\n",
       "      <td>2018-09-21</td>\n",
       "      <td>14</td>\n",
       "      <td>1000</td>\n",
       "    </tr>\n",
       "    <tr>\n",
       "      <th>4</th>\n",
       "      <td>1000_4</td>\n",
       "      <td>2018-12-15</td>\n",
       "      <td>6</td>\n",
       "      <td>1000</td>\n",
       "    </tr>\n",
       "    <tr>\n",
       "      <th>5</th>\n",
       "      <td>1000_5</td>\n",
       "      <td>2018-11-02</td>\n",
       "      <td>0</td>\n",
       "      <td>1000</td>\n",
       "    </tr>\n",
       "    <tr>\n",
       "      <th>6</th>\n",
       "      <td>1000_6</td>\n",
       "      <td>2018-10-18</td>\n",
       "      <td>0</td>\n",
       "      <td>1000</td>\n",
       "    </tr>\n",
       "    <tr>\n",
       "      <th>7</th>\n",
       "      <td>1000_7</td>\n",
       "      <td>2018-08-22</td>\n",
       "      <td>19</td>\n",
       "      <td>1000</td>\n",
       "    </tr>\n",
       "    <tr>\n",
       "      <th>8</th>\n",
       "      <td>1000_8</td>\n",
       "      <td>2018-09-15</td>\n",
       "      <td>19</td>\n",
       "      <td>1000</td>\n",
       "    </tr>\n",
       "    <tr>\n",
       "      <th>9</th>\n",
       "      <td>1000_9</td>\n",
       "      <td>2018-08-15</td>\n",
       "      <td>0</td>\n",
       "      <td>1000</td>\n",
       "    </tr>\n",
       "  </tbody>\n",
       "</table>\n",
       "</div>"
      ],
      "text/plain": [
       "       id  call_date  duration  user_id\n",
       "0  1000_0 2018-07-25         0     1000\n",
       "1  1000_1 2018-08-17         0     1000\n",
       "2  1000_2 2018-06-11         3     1000\n",
       "3  1000_3 2018-09-21        14     1000\n",
       "4  1000_4 2018-12-15         6     1000\n",
       "5  1000_5 2018-11-02         0     1000\n",
       "6  1000_6 2018-10-18         0     1000\n",
       "7  1000_7 2018-08-22        19     1000\n",
       "8  1000_8 2018-09-15        19     1000\n",
       "9  1000_9 2018-08-15         0     1000"
      ]
     },
     "metadata": {},
     "output_type": "display_data"
    }
   ],
   "source": [
    "calls['duration'] = np.ceil(calls['duration'])\n",
    "calls = calls.astype({\"duration\":'int64'})\n",
    "display(calls.head(10))"
   ]
  },
  {
   "cell_type": "code",
   "execution_count": 8,
   "metadata": {
    "scrolled": true
   },
   "outputs": [
    {
     "data": {
      "text/html": [
       "<div>\n",
       "<style scoped>\n",
       "    .dataframe tbody tr th:only-of-type {\n",
       "        vertical-align: middle;\n",
       "    }\n",
       "\n",
       "    .dataframe tbody tr th {\n",
       "        vertical-align: top;\n",
       "    }\n",
       "\n",
       "    .dataframe thead th {\n",
       "        text-align: right;\n",
       "    }\n",
       "</style>\n",
       "<table border=\"1\" class=\"dataframe\">\n",
       "  <thead>\n",
       "    <tr style=\"text-align: right;\">\n",
       "      <th></th>\n",
       "      <th>id</th>\n",
       "      <th>call_date</th>\n",
       "      <th>duration</th>\n",
       "      <th>user_id</th>\n",
       "      <th>month</th>\n",
       "    </tr>\n",
       "  </thead>\n",
       "  <tbody>\n",
       "    <tr>\n",
       "      <th>0</th>\n",
       "      <td>1000_0</td>\n",
       "      <td>2018-07-25</td>\n",
       "      <td>0</td>\n",
       "      <td>1000</td>\n",
       "      <td>7</td>\n",
       "    </tr>\n",
       "    <tr>\n",
       "      <th>1</th>\n",
       "      <td>1000_1</td>\n",
       "      <td>2018-08-17</td>\n",
       "      <td>0</td>\n",
       "      <td>1000</td>\n",
       "      <td>8</td>\n",
       "    </tr>\n",
       "    <tr>\n",
       "      <th>2</th>\n",
       "      <td>1000_2</td>\n",
       "      <td>2018-06-11</td>\n",
       "      <td>3</td>\n",
       "      <td>1000</td>\n",
       "      <td>6</td>\n",
       "    </tr>\n",
       "    <tr>\n",
       "      <th>3</th>\n",
       "      <td>1000_3</td>\n",
       "      <td>2018-09-21</td>\n",
       "      <td>14</td>\n",
       "      <td>1000</td>\n",
       "      <td>9</td>\n",
       "    </tr>\n",
       "    <tr>\n",
       "      <th>4</th>\n",
       "      <td>1000_4</td>\n",
       "      <td>2018-12-15</td>\n",
       "      <td>6</td>\n",
       "      <td>1000</td>\n",
       "      <td>12</td>\n",
       "    </tr>\n",
       "    <tr>\n",
       "      <th>5</th>\n",
       "      <td>1000_5</td>\n",
       "      <td>2018-11-02</td>\n",
       "      <td>0</td>\n",
       "      <td>1000</td>\n",
       "      <td>11</td>\n",
       "    </tr>\n",
       "    <tr>\n",
       "      <th>6</th>\n",
       "      <td>1000_6</td>\n",
       "      <td>2018-10-18</td>\n",
       "      <td>0</td>\n",
       "      <td>1000</td>\n",
       "      <td>10</td>\n",
       "    </tr>\n",
       "    <tr>\n",
       "      <th>7</th>\n",
       "      <td>1000_7</td>\n",
       "      <td>2018-08-22</td>\n",
       "      <td>19</td>\n",
       "      <td>1000</td>\n",
       "      <td>8</td>\n",
       "    </tr>\n",
       "    <tr>\n",
       "      <th>8</th>\n",
       "      <td>1000_8</td>\n",
       "      <td>2018-09-15</td>\n",
       "      <td>19</td>\n",
       "      <td>1000</td>\n",
       "      <td>9</td>\n",
       "    </tr>\n",
       "    <tr>\n",
       "      <th>9</th>\n",
       "      <td>1000_9</td>\n",
       "      <td>2018-08-15</td>\n",
       "      <td>0</td>\n",
       "      <td>1000</td>\n",
       "      <td>8</td>\n",
       "    </tr>\n",
       "    <tr>\n",
       "      <th>10</th>\n",
       "      <td>1000_10</td>\n",
       "      <td>2018-08-22</td>\n",
       "      <td>6</td>\n",
       "      <td>1000</td>\n",
       "      <td>8</td>\n",
       "    </tr>\n",
       "    <tr>\n",
       "      <th>11</th>\n",
       "      <td>1000_11</td>\n",
       "      <td>2018-05-28</td>\n",
       "      <td>19</td>\n",
       "      <td>1000</td>\n",
       "      <td>5</td>\n",
       "    </tr>\n",
       "    <tr>\n",
       "      <th>12</th>\n",
       "      <td>1000_12</td>\n",
       "      <td>2018-07-05</td>\n",
       "      <td>3</td>\n",
       "      <td>1000</td>\n",
       "      <td>7</td>\n",
       "    </tr>\n",
       "    <tr>\n",
       "      <th>13</th>\n",
       "      <td>1000_13</td>\n",
       "      <td>2018-09-29</td>\n",
       "      <td>8</td>\n",
       "      <td>1000</td>\n",
       "      <td>9</td>\n",
       "    </tr>\n",
       "    <tr>\n",
       "      <th>14</th>\n",
       "      <td>1000_14</td>\n",
       "      <td>2018-12-11</td>\n",
       "      <td>10</td>\n",
       "      <td>1000</td>\n",
       "      <td>12</td>\n",
       "    </tr>\n",
       "  </tbody>\n",
       "</table>\n",
       "</div>"
      ],
      "text/plain": [
       "         id  call_date  duration  user_id  month\n",
       "0    1000_0 2018-07-25         0     1000      7\n",
       "1    1000_1 2018-08-17         0     1000      8\n",
       "2    1000_2 2018-06-11         3     1000      6\n",
       "3    1000_3 2018-09-21        14     1000      9\n",
       "4    1000_4 2018-12-15         6     1000     12\n",
       "5    1000_5 2018-11-02         0     1000     11\n",
       "6    1000_6 2018-10-18         0     1000     10\n",
       "7    1000_7 2018-08-22        19     1000      8\n",
       "8    1000_8 2018-09-15        19     1000      9\n",
       "9    1000_9 2018-08-15         0     1000      8\n",
       "10  1000_10 2018-08-22         6     1000      8\n",
       "11  1000_11 2018-05-28        19     1000      5\n",
       "12  1000_12 2018-07-05         3     1000      7\n",
       "13  1000_13 2018-09-29         8     1000      9\n",
       "14  1000_14 2018-12-11        10     1000     12"
      ]
     },
     "metadata": {},
     "output_type": "display_data"
    }
   ],
   "source": [
    "calls['month'] = pd.DatetimeIndex(calls['call_date']).month # добавим столбец с номер месяца для дальнейшего анализа \n",
    "display(calls.head(15))"
   ]
  },
  {
   "cell_type": "code",
   "execution_count": 9,
   "metadata": {
    "scrolled": true
   },
   "outputs": [
    {
     "data": {
      "text/html": [
       "<div>\n",
       "<style scoped>\n",
       "    .dataframe tbody tr th:only-of-type {\n",
       "        vertical-align: middle;\n",
       "    }\n",
       "\n",
       "    .dataframe tbody tr th {\n",
       "        vertical-align: top;\n",
       "    }\n",
       "\n",
       "    .dataframe thead th {\n",
       "        text-align: right;\n",
       "    }\n",
       "</style>\n",
       "<table border=\"1\" class=\"dataframe\">\n",
       "  <thead>\n",
       "    <tr style=\"text-align: right;\">\n",
       "      <th></th>\n",
       "      <th>id</th>\n",
       "      <th>mb_used</th>\n",
       "      <th>session_date</th>\n",
       "      <th>user_id</th>\n",
       "    </tr>\n",
       "  </thead>\n",
       "  <tbody>\n",
       "    <tr>\n",
       "      <th>0</th>\n",
       "      <td>1000_0</td>\n",
       "      <td>112.95</td>\n",
       "      <td>2018-11-25</td>\n",
       "      <td>1000</td>\n",
       "    </tr>\n",
       "    <tr>\n",
       "      <th>1</th>\n",
       "      <td>1000_1</td>\n",
       "      <td>1052.81</td>\n",
       "      <td>2018-09-07</td>\n",
       "      <td>1000</td>\n",
       "    </tr>\n",
       "    <tr>\n",
       "      <th>2</th>\n",
       "      <td>1000_2</td>\n",
       "      <td>1197.26</td>\n",
       "      <td>2018-06-25</td>\n",
       "      <td>1000</td>\n",
       "    </tr>\n",
       "    <tr>\n",
       "      <th>3</th>\n",
       "      <td>1000_3</td>\n",
       "      <td>550.27</td>\n",
       "      <td>2018-08-22</td>\n",
       "      <td>1000</td>\n",
       "    </tr>\n",
       "    <tr>\n",
       "      <th>4</th>\n",
       "      <td>1000_4</td>\n",
       "      <td>302.56</td>\n",
       "      <td>2018-09-24</td>\n",
       "      <td>1000</td>\n",
       "    </tr>\n",
       "    <tr>\n",
       "      <th>5</th>\n",
       "      <td>1000_5</td>\n",
       "      <td>399.97</td>\n",
       "      <td>2018-10-02</td>\n",
       "      <td>1000</td>\n",
       "    </tr>\n",
       "    <tr>\n",
       "      <th>6</th>\n",
       "      <td>1000_6</td>\n",
       "      <td>540.08</td>\n",
       "      <td>2018-09-07</td>\n",
       "      <td>1000</td>\n",
       "    </tr>\n",
       "    <tr>\n",
       "      <th>7</th>\n",
       "      <td>1000_7</td>\n",
       "      <td>415.70</td>\n",
       "      <td>2018-07-11</td>\n",
       "      <td>1000</td>\n",
       "    </tr>\n",
       "    <tr>\n",
       "      <th>8</th>\n",
       "      <td>1000_8</td>\n",
       "      <td>505.40</td>\n",
       "      <td>2018-10-08</td>\n",
       "      <td>1000</td>\n",
       "    </tr>\n",
       "    <tr>\n",
       "      <th>9</th>\n",
       "      <td>1000_9</td>\n",
       "      <td>345.54</td>\n",
       "      <td>2018-09-03</td>\n",
       "      <td>1000</td>\n",
       "    </tr>\n",
       "    <tr>\n",
       "      <th>10</th>\n",
       "      <td>1000_10</td>\n",
       "      <td>385.14</td>\n",
       "      <td>2018-09-27</td>\n",
       "      <td>1000</td>\n",
       "    </tr>\n",
       "    <tr>\n",
       "      <th>11</th>\n",
       "      <td>1000_11</td>\n",
       "      <td>0.00</td>\n",
       "      <td>2018-08-28</td>\n",
       "      <td>1000</td>\n",
       "    </tr>\n",
       "    <tr>\n",
       "      <th>12</th>\n",
       "      <td>1000_12</td>\n",
       "      <td>375.87</td>\n",
       "      <td>2018-06-20</td>\n",
       "      <td>1000</td>\n",
       "    </tr>\n",
       "    <tr>\n",
       "      <th>13</th>\n",
       "      <td>1000_13</td>\n",
       "      <td>393.83</td>\n",
       "      <td>2018-08-09</td>\n",
       "      <td>1000</td>\n",
       "    </tr>\n",
       "    <tr>\n",
       "      <th>14</th>\n",
       "      <td>1000_14</td>\n",
       "      <td>180.64</td>\n",
       "      <td>2018-08-11</td>\n",
       "      <td>1000</td>\n",
       "    </tr>\n",
       "  </tbody>\n",
       "</table>\n",
       "</div>"
      ],
      "text/plain": [
       "         id  mb_used session_date  user_id\n",
       "0    1000_0   112.95   2018-11-25     1000\n",
       "1    1000_1  1052.81   2018-09-07     1000\n",
       "2    1000_2  1197.26   2018-06-25     1000\n",
       "3    1000_3   550.27   2018-08-22     1000\n",
       "4    1000_4   302.56   2018-09-24     1000\n",
       "5    1000_5   399.97   2018-10-02     1000\n",
       "6    1000_6   540.08   2018-09-07     1000\n",
       "7    1000_7   415.70   2018-07-11     1000\n",
       "8    1000_8   505.40   2018-10-08     1000\n",
       "9    1000_9   345.54   2018-09-03     1000\n",
       "10  1000_10   385.14   2018-09-27     1000\n",
       "11  1000_11     0.00   2018-08-28     1000\n",
       "12  1000_12   375.87   2018-06-20     1000\n",
       "13  1000_13   393.83   2018-08-09     1000\n",
       "14  1000_14   180.64   2018-08-11     1000"
      ]
     },
     "metadata": {},
     "output_type": "display_data"
    }
   ],
   "source": [
    "internet = pd.read_csv('/datasets/internet.csv', index_col=0)\n",
    "display(internet.head(15))"
   ]
  },
  {
   "cell_type": "code",
   "execution_count": 10,
   "metadata": {
    "scrolled": false
   },
   "outputs": [
    {
     "name": "stdout",
     "output_type": "stream",
     "text": [
      "<class 'pandas.core.frame.DataFrame'>\n",
      "Int64Index: 149396 entries, 0 to 149395\n",
      "Data columns (total 4 columns):\n",
      " #   Column        Non-Null Count   Dtype  \n",
      "---  ------        --------------   -----  \n",
      " 0   id            149396 non-null  object \n",
      " 1   mb_used       149396 non-null  float64\n",
      " 2   session_date  149396 non-null  object \n",
      " 3   user_id       149396 non-null  int64  \n",
      "dtypes: float64(1), int64(1), object(2)\n",
      "memory usage: 5.7+ MB\n"
     ]
    }
   ],
   "source": [
    "internet.info()"
   ]
  },
  {
   "cell_type": "markdown",
   "metadata": {},
   "source": [
    "Файл с информацией о трафике в интернете содержит 5 столбцов и 149396 строк с разными типами данных. Исходя из общей информации о файле в столбах 'session_date' и 'mb_used' не подходящие типы данных, поменяем их, а также проверим на наличие пропусков таблицу"
   ]
  },
  {
   "cell_type": "code",
   "execution_count": 11,
   "metadata": {
    "scrolled": true
   },
   "outputs": [
    {
     "name": "stdout",
     "output_type": "stream",
     "text": [
      "id              0\n",
      "mb_used         0\n",
      "session_date    0\n",
      "user_id         0\n",
      "dtype: int64\n"
     ]
    }
   ],
   "source": [
    "internet_passes = internet.isna().sum()\n",
    "print(internet_passes)"
   ]
  },
  {
   "cell_type": "code",
   "execution_count": 12,
   "metadata": {},
   "outputs": [],
   "source": [
    "internet['session_date'] = pd.to_datetime(internet['session_date'], format = '%Y-%m-%dT%H:%M:%S')"
   ]
  },
  {
   "cell_type": "code",
   "execution_count": 13,
   "metadata": {
    "scrolled": true
   },
   "outputs": [
    {
     "name": "stdout",
     "output_type": "stream",
     "text": [
      "<class 'pandas.core.frame.DataFrame'>\n",
      "Int64Index: 149396 entries, 0 to 149395\n",
      "Data columns (total 4 columns):\n",
      " #   Column        Non-Null Count   Dtype         \n",
      "---  ------        --------------   -----         \n",
      " 0   id            149396 non-null  object        \n",
      " 1   mb_used       149396 non-null  float64       \n",
      " 2   session_date  149396 non-null  datetime64[ns]\n",
      " 3   user_id       149396 non-null  int64         \n",
      "dtypes: datetime64[ns](1), float64(1), int64(1), object(1)\n",
      "memory usage: 5.7+ MB\n"
     ]
    }
   ],
   "source": [
    "internet.info()"
   ]
  },
  {
   "cell_type": "code",
   "execution_count": 14,
   "metadata": {},
   "outputs": [
    {
     "data": {
      "text/html": [
       "<div>\n",
       "<style scoped>\n",
       "    .dataframe tbody tr th:only-of-type {\n",
       "        vertical-align: middle;\n",
       "    }\n",
       "\n",
       "    .dataframe tbody tr th {\n",
       "        vertical-align: top;\n",
       "    }\n",
       "\n",
       "    .dataframe thead th {\n",
       "        text-align: right;\n",
       "    }\n",
       "</style>\n",
       "<table border=\"1\" class=\"dataframe\">\n",
       "  <thead>\n",
       "    <tr style=\"text-align: right;\">\n",
       "      <th></th>\n",
       "      <th>id</th>\n",
       "      <th>mb_used</th>\n",
       "      <th>session_date</th>\n",
       "      <th>user_id</th>\n",
       "    </tr>\n",
       "  </thead>\n",
       "  <tbody>\n",
       "    <tr>\n",
       "      <th>0</th>\n",
       "      <td>1000_0</td>\n",
       "      <td>112</td>\n",
       "      <td>2018-11-25</td>\n",
       "      <td>1000</td>\n",
       "    </tr>\n",
       "    <tr>\n",
       "      <th>1</th>\n",
       "      <td>1000_1</td>\n",
       "      <td>1052</td>\n",
       "      <td>2018-09-07</td>\n",
       "      <td>1000</td>\n",
       "    </tr>\n",
       "    <tr>\n",
       "      <th>2</th>\n",
       "      <td>1000_2</td>\n",
       "      <td>1197</td>\n",
       "      <td>2018-06-25</td>\n",
       "      <td>1000</td>\n",
       "    </tr>\n",
       "    <tr>\n",
       "      <th>3</th>\n",
       "      <td>1000_3</td>\n",
       "      <td>550</td>\n",
       "      <td>2018-08-22</td>\n",
       "      <td>1000</td>\n",
       "    </tr>\n",
       "    <tr>\n",
       "      <th>4</th>\n",
       "      <td>1000_4</td>\n",
       "      <td>302</td>\n",
       "      <td>2018-09-24</td>\n",
       "      <td>1000</td>\n",
       "    </tr>\n",
       "    <tr>\n",
       "      <th>5</th>\n",
       "      <td>1000_5</td>\n",
       "      <td>399</td>\n",
       "      <td>2018-10-02</td>\n",
       "      <td>1000</td>\n",
       "    </tr>\n",
       "    <tr>\n",
       "      <th>6</th>\n",
       "      <td>1000_6</td>\n",
       "      <td>540</td>\n",
       "      <td>2018-09-07</td>\n",
       "      <td>1000</td>\n",
       "    </tr>\n",
       "    <tr>\n",
       "      <th>7</th>\n",
       "      <td>1000_7</td>\n",
       "      <td>415</td>\n",
       "      <td>2018-07-11</td>\n",
       "      <td>1000</td>\n",
       "    </tr>\n",
       "    <tr>\n",
       "      <th>8</th>\n",
       "      <td>1000_8</td>\n",
       "      <td>505</td>\n",
       "      <td>2018-10-08</td>\n",
       "      <td>1000</td>\n",
       "    </tr>\n",
       "    <tr>\n",
       "      <th>9</th>\n",
       "      <td>1000_9</td>\n",
       "      <td>345</td>\n",
       "      <td>2018-09-03</td>\n",
       "      <td>1000</td>\n",
       "    </tr>\n",
       "  </tbody>\n",
       "</table>\n",
       "</div>"
      ],
      "text/plain": [
       "       id  mb_used session_date  user_id\n",
       "0  1000_0      112   2018-11-25     1000\n",
       "1  1000_1     1052   2018-09-07     1000\n",
       "2  1000_2     1197   2018-06-25     1000\n",
       "3  1000_3      550   2018-08-22     1000\n",
       "4  1000_4      302   2018-09-24     1000\n",
       "5  1000_5      399   2018-10-02     1000\n",
       "6  1000_6      540   2018-09-07     1000\n",
       "7  1000_7      415   2018-07-11     1000\n",
       "8  1000_8      505   2018-10-08     1000\n",
       "9  1000_9      345   2018-09-03     1000"
      ]
     },
     "metadata": {},
     "output_type": "display_data"
    }
   ],
   "source": [
    "internet = internet.astype({\"mb_used\":'int64'}) # изменяю тип данных в нужных столбцах\n",
    "display(internet.head(10))"
   ]
  },
  {
   "cell_type": "code",
   "execution_count": 15,
   "metadata": {},
   "outputs": [
    {
     "data": {
      "text/html": [
       "<div>\n",
       "<style scoped>\n",
       "    .dataframe tbody tr th:only-of-type {\n",
       "        vertical-align: middle;\n",
       "    }\n",
       "\n",
       "    .dataframe tbody tr th {\n",
       "        vertical-align: top;\n",
       "    }\n",
       "\n",
       "    .dataframe thead th {\n",
       "        text-align: right;\n",
       "    }\n",
       "</style>\n",
       "<table border=\"1\" class=\"dataframe\">\n",
       "  <thead>\n",
       "    <tr style=\"text-align: right;\">\n",
       "      <th></th>\n",
       "      <th>id</th>\n",
       "      <th>mb_used</th>\n",
       "      <th>session_date</th>\n",
       "      <th>user_id</th>\n",
       "      <th>month</th>\n",
       "    </tr>\n",
       "  </thead>\n",
       "  <tbody>\n",
       "    <tr>\n",
       "      <th>0</th>\n",
       "      <td>1000_0</td>\n",
       "      <td>112</td>\n",
       "      <td>2018-11-25</td>\n",
       "      <td>1000</td>\n",
       "      <td>11</td>\n",
       "    </tr>\n",
       "    <tr>\n",
       "      <th>1</th>\n",
       "      <td>1000_1</td>\n",
       "      <td>1052</td>\n",
       "      <td>2018-09-07</td>\n",
       "      <td>1000</td>\n",
       "      <td>9</td>\n",
       "    </tr>\n",
       "    <tr>\n",
       "      <th>2</th>\n",
       "      <td>1000_2</td>\n",
       "      <td>1197</td>\n",
       "      <td>2018-06-25</td>\n",
       "      <td>1000</td>\n",
       "      <td>6</td>\n",
       "    </tr>\n",
       "    <tr>\n",
       "      <th>3</th>\n",
       "      <td>1000_3</td>\n",
       "      <td>550</td>\n",
       "      <td>2018-08-22</td>\n",
       "      <td>1000</td>\n",
       "      <td>8</td>\n",
       "    </tr>\n",
       "    <tr>\n",
       "      <th>4</th>\n",
       "      <td>1000_4</td>\n",
       "      <td>302</td>\n",
       "      <td>2018-09-24</td>\n",
       "      <td>1000</td>\n",
       "      <td>9</td>\n",
       "    </tr>\n",
       "    <tr>\n",
       "      <th>5</th>\n",
       "      <td>1000_5</td>\n",
       "      <td>399</td>\n",
       "      <td>2018-10-02</td>\n",
       "      <td>1000</td>\n",
       "      <td>10</td>\n",
       "    </tr>\n",
       "    <tr>\n",
       "      <th>6</th>\n",
       "      <td>1000_6</td>\n",
       "      <td>540</td>\n",
       "      <td>2018-09-07</td>\n",
       "      <td>1000</td>\n",
       "      <td>9</td>\n",
       "    </tr>\n",
       "    <tr>\n",
       "      <th>7</th>\n",
       "      <td>1000_7</td>\n",
       "      <td>415</td>\n",
       "      <td>2018-07-11</td>\n",
       "      <td>1000</td>\n",
       "      <td>7</td>\n",
       "    </tr>\n",
       "    <tr>\n",
       "      <th>8</th>\n",
       "      <td>1000_8</td>\n",
       "      <td>505</td>\n",
       "      <td>2018-10-08</td>\n",
       "      <td>1000</td>\n",
       "      <td>10</td>\n",
       "    </tr>\n",
       "    <tr>\n",
       "      <th>9</th>\n",
       "      <td>1000_9</td>\n",
       "      <td>345</td>\n",
       "      <td>2018-09-03</td>\n",
       "      <td>1000</td>\n",
       "      <td>9</td>\n",
       "    </tr>\n",
       "    <tr>\n",
       "      <th>10</th>\n",
       "      <td>1000_10</td>\n",
       "      <td>385</td>\n",
       "      <td>2018-09-27</td>\n",
       "      <td>1000</td>\n",
       "      <td>9</td>\n",
       "    </tr>\n",
       "    <tr>\n",
       "      <th>11</th>\n",
       "      <td>1000_11</td>\n",
       "      <td>0</td>\n",
       "      <td>2018-08-28</td>\n",
       "      <td>1000</td>\n",
       "      <td>8</td>\n",
       "    </tr>\n",
       "    <tr>\n",
       "      <th>12</th>\n",
       "      <td>1000_12</td>\n",
       "      <td>375</td>\n",
       "      <td>2018-06-20</td>\n",
       "      <td>1000</td>\n",
       "      <td>6</td>\n",
       "    </tr>\n",
       "    <tr>\n",
       "      <th>13</th>\n",
       "      <td>1000_13</td>\n",
       "      <td>393</td>\n",
       "      <td>2018-08-09</td>\n",
       "      <td>1000</td>\n",
       "      <td>8</td>\n",
       "    </tr>\n",
       "    <tr>\n",
       "      <th>14</th>\n",
       "      <td>1000_14</td>\n",
       "      <td>180</td>\n",
       "      <td>2018-08-11</td>\n",
       "      <td>1000</td>\n",
       "      <td>8</td>\n",
       "    </tr>\n",
       "  </tbody>\n",
       "</table>\n",
       "</div>"
      ],
      "text/plain": [
       "         id  mb_used session_date  user_id  month\n",
       "0    1000_0      112   2018-11-25     1000     11\n",
       "1    1000_1     1052   2018-09-07     1000      9\n",
       "2    1000_2     1197   2018-06-25     1000      6\n",
       "3    1000_3      550   2018-08-22     1000      8\n",
       "4    1000_4      302   2018-09-24     1000      9\n",
       "5    1000_5      399   2018-10-02     1000     10\n",
       "6    1000_6      540   2018-09-07     1000      9\n",
       "7    1000_7      415   2018-07-11     1000      7\n",
       "8    1000_8      505   2018-10-08     1000     10\n",
       "9    1000_9      345   2018-09-03     1000      9\n",
       "10  1000_10      385   2018-09-27     1000      9\n",
       "11  1000_11        0   2018-08-28     1000      8\n",
       "12  1000_12      375   2018-06-20     1000      6\n",
       "13  1000_13      393   2018-08-09     1000      8\n",
       "14  1000_14      180   2018-08-11     1000      8"
      ]
     },
     "metadata": {},
     "output_type": "display_data"
    }
   ],
   "source": [
    "internet['month'] = pd.DatetimeIndex(internet['session_date']).month\n",
    "display(internet.head(15))"
   ]
  },
  {
   "cell_type": "code",
   "execution_count": 16,
   "metadata": {
    "scrolled": true
   },
   "outputs": [
    {
     "data": {
      "text/html": [
       "<div>\n",
       "<style scoped>\n",
       "    .dataframe tbody tr th:only-of-type {\n",
       "        vertical-align: middle;\n",
       "    }\n",
       "\n",
       "    .dataframe tbody tr th {\n",
       "        vertical-align: top;\n",
       "    }\n",
       "\n",
       "    .dataframe thead th {\n",
       "        text-align: right;\n",
       "    }\n",
       "</style>\n",
       "<table border=\"1\" class=\"dataframe\">\n",
       "  <thead>\n",
       "    <tr style=\"text-align: right;\">\n",
       "      <th></th>\n",
       "      <th>id</th>\n",
       "      <th>message_date</th>\n",
       "      <th>user_id</th>\n",
       "    </tr>\n",
       "  </thead>\n",
       "  <tbody>\n",
       "    <tr>\n",
       "      <th>0</th>\n",
       "      <td>1000_0</td>\n",
       "      <td>2018-06-27</td>\n",
       "      <td>1000</td>\n",
       "    </tr>\n",
       "    <tr>\n",
       "      <th>1</th>\n",
       "      <td>1000_1</td>\n",
       "      <td>2018-10-08</td>\n",
       "      <td>1000</td>\n",
       "    </tr>\n",
       "    <tr>\n",
       "      <th>2</th>\n",
       "      <td>1000_2</td>\n",
       "      <td>2018-08-04</td>\n",
       "      <td>1000</td>\n",
       "    </tr>\n",
       "    <tr>\n",
       "      <th>3</th>\n",
       "      <td>1000_3</td>\n",
       "      <td>2018-06-16</td>\n",
       "      <td>1000</td>\n",
       "    </tr>\n",
       "    <tr>\n",
       "      <th>4</th>\n",
       "      <td>1000_4</td>\n",
       "      <td>2018-12-05</td>\n",
       "      <td>1000</td>\n",
       "    </tr>\n",
       "    <tr>\n",
       "      <th>5</th>\n",
       "      <td>1000_5</td>\n",
       "      <td>2018-06-20</td>\n",
       "      <td>1000</td>\n",
       "    </tr>\n",
       "    <tr>\n",
       "      <th>6</th>\n",
       "      <td>1000_6</td>\n",
       "      <td>2018-11-19</td>\n",
       "      <td>1000</td>\n",
       "    </tr>\n",
       "    <tr>\n",
       "      <th>7</th>\n",
       "      <td>1000_7</td>\n",
       "      <td>2018-10-29</td>\n",
       "      <td>1000</td>\n",
       "    </tr>\n",
       "    <tr>\n",
       "      <th>8</th>\n",
       "      <td>1000_8</td>\n",
       "      <td>2018-06-25</td>\n",
       "      <td>1000</td>\n",
       "    </tr>\n",
       "    <tr>\n",
       "      <th>9</th>\n",
       "      <td>1000_9</td>\n",
       "      <td>2018-12-18</td>\n",
       "      <td>1000</td>\n",
       "    </tr>\n",
       "    <tr>\n",
       "      <th>10</th>\n",
       "      <td>1000_10</td>\n",
       "      <td>2018-05-30</td>\n",
       "      <td>1000</td>\n",
       "    </tr>\n",
       "    <tr>\n",
       "      <th>11</th>\n",
       "      <td>1000_11</td>\n",
       "      <td>2018-07-06</td>\n",
       "      <td>1000</td>\n",
       "    </tr>\n",
       "    <tr>\n",
       "      <th>12</th>\n",
       "      <td>1000_12</td>\n",
       "      <td>2018-08-20</td>\n",
       "      <td>1000</td>\n",
       "    </tr>\n",
       "    <tr>\n",
       "      <th>13</th>\n",
       "      <td>1000_13</td>\n",
       "      <td>2018-10-30</td>\n",
       "      <td>1000</td>\n",
       "    </tr>\n",
       "    <tr>\n",
       "      <th>14</th>\n",
       "      <td>1000_14</td>\n",
       "      <td>2018-09-14</td>\n",
       "      <td>1000</td>\n",
       "    </tr>\n",
       "  </tbody>\n",
       "</table>\n",
       "</div>"
      ],
      "text/plain": [
       "         id message_date  user_id\n",
       "0    1000_0   2018-06-27     1000\n",
       "1    1000_1   2018-10-08     1000\n",
       "2    1000_2   2018-08-04     1000\n",
       "3    1000_3   2018-06-16     1000\n",
       "4    1000_4   2018-12-05     1000\n",
       "5    1000_5   2018-06-20     1000\n",
       "6    1000_6   2018-11-19     1000\n",
       "7    1000_7   2018-10-29     1000\n",
       "8    1000_8   2018-06-25     1000\n",
       "9    1000_9   2018-12-18     1000\n",
       "10  1000_10   2018-05-30     1000\n",
       "11  1000_11   2018-07-06     1000\n",
       "12  1000_12   2018-08-20     1000\n",
       "13  1000_13   2018-10-30     1000\n",
       "14  1000_14   2018-09-14     1000"
      ]
     },
     "metadata": {},
     "output_type": "display_data"
    }
   ],
   "source": [
    "messages = pd.read_csv('/datasets/messages.csv')\n",
    "display(messages.head(15))"
   ]
  },
  {
   "cell_type": "code",
   "execution_count": 17,
   "metadata": {
    "scrolled": true
   },
   "outputs": [
    {
     "name": "stdout",
     "output_type": "stream",
     "text": [
      "<class 'pandas.core.frame.DataFrame'>\n",
      "RangeIndex: 123036 entries, 0 to 123035\n",
      "Data columns (total 3 columns):\n",
      " #   Column        Non-Null Count   Dtype \n",
      "---  ------        --------------   ----- \n",
      " 0   id            123036 non-null  object\n",
      " 1   message_date  123036 non-null  object\n",
      " 2   user_id       123036 non-null  int64 \n",
      "dtypes: int64(1), object(2)\n",
      "memory usage: 2.8+ MB\n"
     ]
    }
   ],
   "source": [
    "messages.info()"
   ]
  },
  {
   "cell_type": "markdown",
   "metadata": {},
   "source": [
    "Файл с информацией о сообщениях содержит 3 столбца и 123036 строк с разными типами данных. Исходя из общей информации о файле в столбе 'message_date' не подходящие типы данных, поменяем их, а также проверим на наличие пропусков таблицу"
   ]
  },
  {
   "cell_type": "code",
   "execution_count": 18,
   "metadata": {
    "scrolled": true
   },
   "outputs": [
    {
     "name": "stdout",
     "output_type": "stream",
     "text": [
      "id              0\n",
      "message_date    0\n",
      "user_id         0\n",
      "dtype: int64\n"
     ]
    }
   ],
   "source": [
    "messages_passes = messages.isna().sum()\n",
    "print(messages_passes)"
   ]
  },
  {
   "cell_type": "code",
   "execution_count": 19,
   "metadata": {},
   "outputs": [],
   "source": [
    "messages['message_date'] = pd.to_datetime(messages['message_date'], format = '%Y-%m-%dT%H:%M:%S')"
   ]
  },
  {
   "cell_type": "code",
   "execution_count": 20,
   "metadata": {
    "scrolled": true
   },
   "outputs": [
    {
     "name": "stdout",
     "output_type": "stream",
     "text": [
      "<class 'pandas.core.frame.DataFrame'>\n",
      "RangeIndex: 123036 entries, 0 to 123035\n",
      "Data columns (total 3 columns):\n",
      " #   Column        Non-Null Count   Dtype         \n",
      "---  ------        --------------   -----         \n",
      " 0   id            123036 non-null  object        \n",
      " 1   message_date  123036 non-null  datetime64[ns]\n",
      " 2   user_id       123036 non-null  int64         \n",
      "dtypes: datetime64[ns](1), int64(1), object(1)\n",
      "memory usage: 2.8+ MB\n"
     ]
    }
   ],
   "source": [
    "messages.info()"
   ]
  },
  {
   "cell_type": "code",
   "execution_count": 21,
   "metadata": {},
   "outputs": [
    {
     "data": {
      "text/html": [
       "<div>\n",
       "<style scoped>\n",
       "    .dataframe tbody tr th:only-of-type {\n",
       "        vertical-align: middle;\n",
       "    }\n",
       "\n",
       "    .dataframe tbody tr th {\n",
       "        vertical-align: top;\n",
       "    }\n",
       "\n",
       "    .dataframe thead th {\n",
       "        text-align: right;\n",
       "    }\n",
       "</style>\n",
       "<table border=\"1\" class=\"dataframe\">\n",
       "  <thead>\n",
       "    <tr style=\"text-align: right;\">\n",
       "      <th></th>\n",
       "      <th>id</th>\n",
       "      <th>message_date</th>\n",
       "      <th>user_id</th>\n",
       "      <th>month</th>\n",
       "    </tr>\n",
       "  </thead>\n",
       "  <tbody>\n",
       "    <tr>\n",
       "      <th>0</th>\n",
       "      <td>1000_0</td>\n",
       "      <td>2018-06-27</td>\n",
       "      <td>1000</td>\n",
       "      <td>6</td>\n",
       "    </tr>\n",
       "    <tr>\n",
       "      <th>1</th>\n",
       "      <td>1000_1</td>\n",
       "      <td>2018-10-08</td>\n",
       "      <td>1000</td>\n",
       "      <td>10</td>\n",
       "    </tr>\n",
       "    <tr>\n",
       "      <th>2</th>\n",
       "      <td>1000_2</td>\n",
       "      <td>2018-08-04</td>\n",
       "      <td>1000</td>\n",
       "      <td>8</td>\n",
       "    </tr>\n",
       "    <tr>\n",
       "      <th>3</th>\n",
       "      <td>1000_3</td>\n",
       "      <td>2018-06-16</td>\n",
       "      <td>1000</td>\n",
       "      <td>6</td>\n",
       "    </tr>\n",
       "    <tr>\n",
       "      <th>4</th>\n",
       "      <td>1000_4</td>\n",
       "      <td>2018-12-05</td>\n",
       "      <td>1000</td>\n",
       "      <td>12</td>\n",
       "    </tr>\n",
       "    <tr>\n",
       "      <th>5</th>\n",
       "      <td>1000_5</td>\n",
       "      <td>2018-06-20</td>\n",
       "      <td>1000</td>\n",
       "      <td>6</td>\n",
       "    </tr>\n",
       "    <tr>\n",
       "      <th>6</th>\n",
       "      <td>1000_6</td>\n",
       "      <td>2018-11-19</td>\n",
       "      <td>1000</td>\n",
       "      <td>11</td>\n",
       "    </tr>\n",
       "    <tr>\n",
       "      <th>7</th>\n",
       "      <td>1000_7</td>\n",
       "      <td>2018-10-29</td>\n",
       "      <td>1000</td>\n",
       "      <td>10</td>\n",
       "    </tr>\n",
       "    <tr>\n",
       "      <th>8</th>\n",
       "      <td>1000_8</td>\n",
       "      <td>2018-06-25</td>\n",
       "      <td>1000</td>\n",
       "      <td>6</td>\n",
       "    </tr>\n",
       "    <tr>\n",
       "      <th>9</th>\n",
       "      <td>1000_9</td>\n",
       "      <td>2018-12-18</td>\n",
       "      <td>1000</td>\n",
       "      <td>12</td>\n",
       "    </tr>\n",
       "    <tr>\n",
       "      <th>10</th>\n",
       "      <td>1000_10</td>\n",
       "      <td>2018-05-30</td>\n",
       "      <td>1000</td>\n",
       "      <td>5</td>\n",
       "    </tr>\n",
       "    <tr>\n",
       "      <th>11</th>\n",
       "      <td>1000_11</td>\n",
       "      <td>2018-07-06</td>\n",
       "      <td>1000</td>\n",
       "      <td>7</td>\n",
       "    </tr>\n",
       "    <tr>\n",
       "      <th>12</th>\n",
       "      <td>1000_12</td>\n",
       "      <td>2018-08-20</td>\n",
       "      <td>1000</td>\n",
       "      <td>8</td>\n",
       "    </tr>\n",
       "    <tr>\n",
       "      <th>13</th>\n",
       "      <td>1000_13</td>\n",
       "      <td>2018-10-30</td>\n",
       "      <td>1000</td>\n",
       "      <td>10</td>\n",
       "    </tr>\n",
       "    <tr>\n",
       "      <th>14</th>\n",
       "      <td>1000_14</td>\n",
       "      <td>2018-09-14</td>\n",
       "      <td>1000</td>\n",
       "      <td>9</td>\n",
       "    </tr>\n",
       "  </tbody>\n",
       "</table>\n",
       "</div>"
      ],
      "text/plain": [
       "         id message_date  user_id  month\n",
       "0    1000_0   2018-06-27     1000      6\n",
       "1    1000_1   2018-10-08     1000     10\n",
       "2    1000_2   2018-08-04     1000      8\n",
       "3    1000_3   2018-06-16     1000      6\n",
       "4    1000_4   2018-12-05     1000     12\n",
       "5    1000_5   2018-06-20     1000      6\n",
       "6    1000_6   2018-11-19     1000     11\n",
       "7    1000_7   2018-10-29     1000     10\n",
       "8    1000_8   2018-06-25     1000      6\n",
       "9    1000_9   2018-12-18     1000     12\n",
       "10  1000_10   2018-05-30     1000      5\n",
       "11  1000_11   2018-07-06     1000      7\n",
       "12  1000_12   2018-08-20     1000      8\n",
       "13  1000_13   2018-10-30     1000     10\n",
       "14  1000_14   2018-09-14     1000      9"
      ]
     },
     "metadata": {},
     "output_type": "display_data"
    }
   ],
   "source": [
    "messages['month'] = pd.DatetimeIndex(messages['message_date']).month\n",
    "display(messages.head(15))"
   ]
  },
  {
   "cell_type": "code",
   "execution_count": 22,
   "metadata": {
    "scrolled": true
   },
   "outputs": [
    {
     "data": {
      "text/html": [
       "<div>\n",
       "<style scoped>\n",
       "    .dataframe tbody tr th:only-of-type {\n",
       "        vertical-align: middle;\n",
       "    }\n",
       "\n",
       "    .dataframe tbody tr th {\n",
       "        vertical-align: top;\n",
       "    }\n",
       "\n",
       "    .dataframe thead th {\n",
       "        text-align: right;\n",
       "    }\n",
       "</style>\n",
       "<table border=\"1\" class=\"dataframe\">\n",
       "  <thead>\n",
       "    <tr style=\"text-align: right;\">\n",
       "      <th></th>\n",
       "      <th>messages_included</th>\n",
       "      <th>mb_per_month_included</th>\n",
       "      <th>minutes_included</th>\n",
       "      <th>rub_monthly_fee</th>\n",
       "      <th>rub_per_gb</th>\n",
       "      <th>rub_per_message</th>\n",
       "      <th>rub_per_minute</th>\n",
       "      <th>tariff_name</th>\n",
       "    </tr>\n",
       "  </thead>\n",
       "  <tbody>\n",
       "    <tr>\n",
       "      <th>0</th>\n",
       "      <td>50</td>\n",
       "      <td>15360</td>\n",
       "      <td>500</td>\n",
       "      <td>550</td>\n",
       "      <td>200</td>\n",
       "      <td>3</td>\n",
       "      <td>3</td>\n",
       "      <td>smart</td>\n",
       "    </tr>\n",
       "    <tr>\n",
       "      <th>1</th>\n",
       "      <td>1000</td>\n",
       "      <td>30720</td>\n",
       "      <td>3000</td>\n",
       "      <td>1950</td>\n",
       "      <td>150</td>\n",
       "      <td>1</td>\n",
       "      <td>1</td>\n",
       "      <td>ultra</td>\n",
       "    </tr>\n",
       "  </tbody>\n",
       "</table>\n",
       "</div>"
      ],
      "text/plain": [
       "   messages_included  mb_per_month_included  minutes_included  \\\n",
       "0                 50                  15360               500   \n",
       "1               1000                  30720              3000   \n",
       "\n",
       "   rub_monthly_fee  rub_per_gb  rub_per_message  rub_per_minute tariff_name  \n",
       "0              550         200                3               3       smart  \n",
       "1             1950         150                1               1       ultra  "
      ]
     },
     "metadata": {},
     "output_type": "display_data"
    }
   ],
   "source": [
    "tariffs = pd.read_csv('/datasets/tariffs.csv')\n",
    "display(tariffs)"
   ]
  },
  {
   "cell_type": "code",
   "execution_count": 23,
   "metadata": {
    "scrolled": true
   },
   "outputs": [
    {
     "name": "stdout",
     "output_type": "stream",
     "text": [
      "<class 'pandas.core.frame.DataFrame'>\n",
      "RangeIndex: 2 entries, 0 to 1\n",
      "Data columns (total 8 columns):\n",
      " #   Column                 Non-Null Count  Dtype \n",
      "---  ------                 --------------  ----- \n",
      " 0   messages_included      2 non-null      int64 \n",
      " 1   mb_per_month_included  2 non-null      int64 \n",
      " 2   minutes_included       2 non-null      int64 \n",
      " 3   rub_monthly_fee        2 non-null      int64 \n",
      " 4   rub_per_gb             2 non-null      int64 \n",
      " 5   rub_per_message        2 non-null      int64 \n",
      " 6   rub_per_minute         2 non-null      int64 \n",
      " 7   tariff_name            2 non-null      object\n",
      "dtypes: int64(7), object(1)\n",
      "memory usage: 256.0+ bytes\n"
     ]
    }
   ],
   "source": [
    "tariffs.info()"
   ]
  },
  {
   "cell_type": "markdown",
   "metadata": {},
   "source": [
    "Файл с информацией о тарифах содержит 8 столбцов и 2 строки с разными типами данных. Проверим на наличие пропусков таблицу"
   ]
  },
  {
   "cell_type": "code",
   "execution_count": 24,
   "metadata": {
    "scrolled": true
   },
   "outputs": [
    {
     "name": "stdout",
     "output_type": "stream",
     "text": [
      "messages_included        0\n",
      "mb_per_month_included    0\n",
      "minutes_included         0\n",
      "rub_monthly_fee          0\n",
      "rub_per_gb               0\n",
      "rub_per_message          0\n",
      "rub_per_minute           0\n",
      "tariff_name              0\n",
      "dtype: int64\n"
     ]
    }
   ],
   "source": [
    "tariffs_passes = tariffs.isna().sum()\n",
    "print(tariffs_passes)"
   ]
  },
  {
   "cell_type": "code",
   "execution_count": 25,
   "metadata": {
    "scrolled": true
   },
   "outputs": [
    {
     "data": {
      "text/html": [
       "<div>\n",
       "<style scoped>\n",
       "    .dataframe tbody tr th:only-of-type {\n",
       "        vertical-align: middle;\n",
       "    }\n",
       "\n",
       "    .dataframe tbody tr th {\n",
       "        vertical-align: top;\n",
       "    }\n",
       "\n",
       "    .dataframe thead th {\n",
       "        text-align: right;\n",
       "    }\n",
       "</style>\n",
       "<table border=\"1\" class=\"dataframe\">\n",
       "  <thead>\n",
       "    <tr style=\"text-align: right;\">\n",
       "      <th></th>\n",
       "      <th>user_id</th>\n",
       "      <th>age</th>\n",
       "      <th>churn_date</th>\n",
       "      <th>city</th>\n",
       "      <th>first_name</th>\n",
       "      <th>last_name</th>\n",
       "      <th>reg_date</th>\n",
       "      <th>tariff</th>\n",
       "    </tr>\n",
       "  </thead>\n",
       "  <tbody>\n",
       "    <tr>\n",
       "      <th>0</th>\n",
       "      <td>1000</td>\n",
       "      <td>52</td>\n",
       "      <td>NaN</td>\n",
       "      <td>Краснодар</td>\n",
       "      <td>Рафаил</td>\n",
       "      <td>Верещагин</td>\n",
       "      <td>2018-05-25</td>\n",
       "      <td>ultra</td>\n",
       "    </tr>\n",
       "    <tr>\n",
       "      <th>1</th>\n",
       "      <td>1001</td>\n",
       "      <td>41</td>\n",
       "      <td>NaN</td>\n",
       "      <td>Москва</td>\n",
       "      <td>Иван</td>\n",
       "      <td>Ежов</td>\n",
       "      <td>2018-11-01</td>\n",
       "      <td>smart</td>\n",
       "    </tr>\n",
       "    <tr>\n",
       "      <th>2</th>\n",
       "      <td>1002</td>\n",
       "      <td>59</td>\n",
       "      <td>NaN</td>\n",
       "      <td>Стерлитамак</td>\n",
       "      <td>Евгений</td>\n",
       "      <td>Абрамович</td>\n",
       "      <td>2018-06-17</td>\n",
       "      <td>smart</td>\n",
       "    </tr>\n",
       "    <tr>\n",
       "      <th>3</th>\n",
       "      <td>1003</td>\n",
       "      <td>23</td>\n",
       "      <td>NaN</td>\n",
       "      <td>Москва</td>\n",
       "      <td>Белла</td>\n",
       "      <td>Белякова</td>\n",
       "      <td>2018-08-17</td>\n",
       "      <td>ultra</td>\n",
       "    </tr>\n",
       "    <tr>\n",
       "      <th>4</th>\n",
       "      <td>1004</td>\n",
       "      <td>68</td>\n",
       "      <td>NaN</td>\n",
       "      <td>Новокузнецк</td>\n",
       "      <td>Татьяна</td>\n",
       "      <td>Авдеенко</td>\n",
       "      <td>2018-05-14</td>\n",
       "      <td>ultra</td>\n",
       "    </tr>\n",
       "    <tr>\n",
       "      <th>5</th>\n",
       "      <td>1005</td>\n",
       "      <td>67</td>\n",
       "      <td>NaN</td>\n",
       "      <td>Набережные Челны</td>\n",
       "      <td>Афанасий</td>\n",
       "      <td>Горлов</td>\n",
       "      <td>2018-01-25</td>\n",
       "      <td>smart</td>\n",
       "    </tr>\n",
       "    <tr>\n",
       "      <th>6</th>\n",
       "      <td>1006</td>\n",
       "      <td>21</td>\n",
       "      <td>NaN</td>\n",
       "      <td>Ульяновск</td>\n",
       "      <td>Леонид</td>\n",
       "      <td>Ермолаев</td>\n",
       "      <td>2018-02-26</td>\n",
       "      <td>smart</td>\n",
       "    </tr>\n",
       "    <tr>\n",
       "      <th>7</th>\n",
       "      <td>1007</td>\n",
       "      <td>65</td>\n",
       "      <td>NaN</td>\n",
       "      <td>Москва</td>\n",
       "      <td>Юна</td>\n",
       "      <td>Березина</td>\n",
       "      <td>2018-04-19</td>\n",
       "      <td>smart</td>\n",
       "    </tr>\n",
       "    <tr>\n",
       "      <th>8</th>\n",
       "      <td>1008</td>\n",
       "      <td>63</td>\n",
       "      <td>NaN</td>\n",
       "      <td>Челябинск</td>\n",
       "      <td>Рустэм</td>\n",
       "      <td>Пономарёв</td>\n",
       "      <td>2018-12-19</td>\n",
       "      <td>smart</td>\n",
       "    </tr>\n",
       "    <tr>\n",
       "      <th>9</th>\n",
       "      <td>1009</td>\n",
       "      <td>24</td>\n",
       "      <td>NaN</td>\n",
       "      <td>Пермь</td>\n",
       "      <td>Василиса</td>\n",
       "      <td>Блинова</td>\n",
       "      <td>2018-03-22</td>\n",
       "      <td>smart</td>\n",
       "    </tr>\n",
       "    <tr>\n",
       "      <th>10</th>\n",
       "      <td>1010</td>\n",
       "      <td>26</td>\n",
       "      <td>NaN</td>\n",
       "      <td>Тюмень</td>\n",
       "      <td>Эдуард</td>\n",
       "      <td>Кононов</td>\n",
       "      <td>2018-08-05</td>\n",
       "      <td>smart</td>\n",
       "    </tr>\n",
       "    <tr>\n",
       "      <th>11</th>\n",
       "      <td>1011</td>\n",
       "      <td>44</td>\n",
       "      <td>NaN</td>\n",
       "      <td>Самара</td>\n",
       "      <td>Веселина</td>\n",
       "      <td>Алёшко</td>\n",
       "      <td>2018-03-19</td>\n",
       "      <td>smart</td>\n",
       "    </tr>\n",
       "    <tr>\n",
       "      <th>12</th>\n",
       "      <td>1012</td>\n",
       "      <td>38</td>\n",
       "      <td>NaN</td>\n",
       "      <td>Санкт-Петербург</td>\n",
       "      <td>Варлам</td>\n",
       "      <td>Соловьев</td>\n",
       "      <td>2018-03-28</td>\n",
       "      <td>smart</td>\n",
       "    </tr>\n",
       "    <tr>\n",
       "      <th>13</th>\n",
       "      <td>1013</td>\n",
       "      <td>36</td>\n",
       "      <td>NaN</td>\n",
       "      <td>Иваново</td>\n",
       "      <td>Борис</td>\n",
       "      <td>Андреенко</td>\n",
       "      <td>2018-11-14</td>\n",
       "      <td>ultra</td>\n",
       "    </tr>\n",
       "    <tr>\n",
       "      <th>14</th>\n",
       "      <td>1014</td>\n",
       "      <td>64</td>\n",
       "      <td>NaN</td>\n",
       "      <td>Чебоксары</td>\n",
       "      <td>Яков</td>\n",
       "      <td>Акинфьев</td>\n",
       "      <td>2018-05-15</td>\n",
       "      <td>smart</td>\n",
       "    </tr>\n",
       "  </tbody>\n",
       "</table>\n",
       "</div>"
      ],
      "text/plain": [
       "    user_id  age churn_date              city first_name  last_name  \\\n",
       "0      1000   52        NaN         Краснодар     Рафаил  Верещагин   \n",
       "1      1001   41        NaN            Москва       Иван       Ежов   \n",
       "2      1002   59        NaN       Стерлитамак    Евгений  Абрамович   \n",
       "3      1003   23        NaN            Москва      Белла   Белякова   \n",
       "4      1004   68        NaN       Новокузнецк    Татьяна   Авдеенко   \n",
       "5      1005   67        NaN  Набережные Челны   Афанасий     Горлов   \n",
       "6      1006   21        NaN         Ульяновск     Леонид   Ермолаев   \n",
       "7      1007   65        NaN            Москва        Юна   Березина   \n",
       "8      1008   63        NaN         Челябинск     Рустэм  Пономарёв   \n",
       "9      1009   24        NaN             Пермь   Василиса    Блинова   \n",
       "10     1010   26        NaN            Тюмень     Эдуард    Кононов   \n",
       "11     1011   44        NaN            Самара   Веселина     Алёшко   \n",
       "12     1012   38        NaN   Санкт-Петербург     Варлам   Соловьев   \n",
       "13     1013   36        NaN           Иваново      Борис  Андреенко   \n",
       "14     1014   64        NaN         Чебоксары       Яков   Акинфьев   \n",
       "\n",
       "      reg_date tariff  \n",
       "0   2018-05-25  ultra  \n",
       "1   2018-11-01  smart  \n",
       "2   2018-06-17  smart  \n",
       "3   2018-08-17  ultra  \n",
       "4   2018-05-14  ultra  \n",
       "5   2018-01-25  smart  \n",
       "6   2018-02-26  smart  \n",
       "7   2018-04-19  smart  \n",
       "8   2018-12-19  smart  \n",
       "9   2018-03-22  smart  \n",
       "10  2018-08-05  smart  \n",
       "11  2018-03-19  smart  \n",
       "12  2018-03-28  smart  \n",
       "13  2018-11-14  ultra  \n",
       "14  2018-05-15  smart  "
      ]
     },
     "metadata": {},
     "output_type": "display_data"
    }
   ],
   "source": [
    "users = pd.read_csv('/datasets/users.csv')\n",
    "display(users.head(15))"
   ]
  },
  {
   "cell_type": "code",
   "execution_count": 26,
   "metadata": {
    "scrolled": false
   },
   "outputs": [
    {
     "name": "stdout",
     "output_type": "stream",
     "text": [
      "<class 'pandas.core.frame.DataFrame'>\n",
      "RangeIndex: 500 entries, 0 to 499\n",
      "Data columns (total 8 columns):\n",
      " #   Column      Non-Null Count  Dtype \n",
      "---  ------      --------------  ----- \n",
      " 0   user_id     500 non-null    int64 \n",
      " 1   age         500 non-null    int64 \n",
      " 2   churn_date  38 non-null     object\n",
      " 3   city        500 non-null    object\n",
      " 4   first_name  500 non-null    object\n",
      " 5   last_name   500 non-null    object\n",
      " 6   reg_date    500 non-null    object\n",
      " 7   tariff      500 non-null    object\n",
      "dtypes: int64(2), object(6)\n",
      "memory usage: 31.4+ KB\n"
     ]
    }
   ],
   "source": [
    "users.info()"
   ]
  },
  {
   "cell_type": "markdown",
   "metadata": {},
   "source": [
    "Файл с информацией о пользователях содержит 8 столбцов и 500 строк с разными типами данных. Исходя из общей информации о файле в столбах 'reg_date' и 'churn_date' не подходящие типы данных, поменяем их, а также проверим на наличие пропусков таблицу"
   ]
  },
  {
   "cell_type": "code",
   "execution_count": 27,
   "metadata": {},
   "outputs": [
    {
     "name": "stdout",
     "output_type": "stream",
     "text": [
      "user_id         0\n",
      "age             0\n",
      "churn_date    462\n",
      "city            0\n",
      "first_name      0\n",
      "last_name       0\n",
      "reg_date        0\n",
      "tariff          0\n",
      "dtype: int64\n"
     ]
    }
   ],
   "source": [
    "users_passes = users.isna().sum()\n",
    "print(users_passes)"
   ]
  },
  {
   "cell_type": "code",
   "execution_count": 28,
   "metadata": {},
   "outputs": [],
   "source": [
    "users['reg_date'] = pd.to_datetime(users['reg_date'], format = '%Y-%m-%dT%H:%M:%S')\n",
    "users['churn_date'] = pd.to_datetime(users['churn_date'], format = '%Y-%m-%dT%H:%M:%S')"
   ]
  },
  {
   "cell_type": "code",
   "execution_count": 29,
   "metadata": {
    "scrolled": false
   },
   "outputs": [
    {
     "name": "stdout",
     "output_type": "stream",
     "text": [
      "<class 'pandas.core.frame.DataFrame'>\n",
      "RangeIndex: 500 entries, 0 to 499\n",
      "Data columns (total 8 columns):\n",
      " #   Column      Non-Null Count  Dtype         \n",
      "---  ------      --------------  -----         \n",
      " 0   user_id     500 non-null    int64         \n",
      " 1   age         500 non-null    int64         \n",
      " 2   churn_date  38 non-null     datetime64[ns]\n",
      " 3   city        500 non-null    object        \n",
      " 4   first_name  500 non-null    object        \n",
      " 5   last_name   500 non-null    object        \n",
      " 6   reg_date    500 non-null    datetime64[ns]\n",
      " 7   tariff      500 non-null    object        \n",
      "dtypes: datetime64[ns](2), int64(2), object(4)\n",
      "memory usage: 31.4+ KB\n"
     ]
    }
   ],
   "source": [
    "users.info()"
   ]
  },
  {
   "cell_type": "markdown",
   "metadata": {},
   "source": [
    "**Вывод**"
   ]
  },
  {
   "cell_type": "markdown",
   "metadata": {},
   "source": [
    "Удалось обнаружить и устранить имеющиеся проблемы в данных"
   ]
  },
  {
   "cell_type": "markdown",
   "metadata": {},
   "source": [
    "## Подготовка данных"
   ]
  },
  {
   "cell_type": "markdown",
   "metadata": {},
   "source": [
    "Посчитайте для каждого пользователя:\n",
    "- количество сделанных звонков и израсходованных минут разговора по месяцам;\n",
    "- количество отправленных сообщений по месяцам;\n",
    "- объем израсходованного интернет-трафика по месяцам;\n",
    "- помесячную выручку с каждого пользователя (вычтите бесплатный лимит из суммарного количества звонков, сообщений и интернет-- - трафика; остаток умножьте на значение из тарифного плана; прибавьте абонентскую плату, соответствующую тарифному плану).\n",
    "\n",
    "И объединим несколько таблиц в единый датафрейм"
   ]
  },
  {
   "cell_type": "code",
   "execution_count": 30,
   "metadata": {},
   "outputs": [],
   "source": [
    "calls.columns = ['id', 'date', 'duration', 'user_id', 'month'] # Переименуем столбцы в таблицах для единообразия\n",
    "internet.columns = ['id', 'mb_used', 'date', 'user_id', 'month']"
   ]
  },
  {
   "cell_type": "code",
   "execution_count": 31,
   "metadata": {
    "scrolled": true
   },
   "outputs": [
    {
     "data": {
      "text/html": [
       "<div>\n",
       "<style scoped>\n",
       "    .dataframe tbody tr th:only-of-type {\n",
       "        vertical-align: middle;\n",
       "    }\n",
       "\n",
       "    .dataframe tbody tr th {\n",
       "        vertical-align: top;\n",
       "    }\n",
       "\n",
       "    .dataframe thead th {\n",
       "        text-align: right;\n",
       "    }\n",
       "</style>\n",
       "<table border=\"1\" class=\"dataframe\">\n",
       "  <thead>\n",
       "    <tr style=\"text-align: right;\">\n",
       "      <th></th>\n",
       "      <th></th>\n",
       "      <th>count_calls</th>\n",
       "      <th>sum_calls</th>\n",
       "    </tr>\n",
       "    <tr>\n",
       "      <th>user_id</th>\n",
       "      <th>month</th>\n",
       "      <th></th>\n",
       "      <th></th>\n",
       "    </tr>\n",
       "  </thead>\n",
       "  <tbody>\n",
       "    <tr>\n",
       "      <th rowspan=\"8\" valign=\"top\">1000</th>\n",
       "      <th>5</th>\n",
       "      <td>22</td>\n",
       "      <td>159</td>\n",
       "    </tr>\n",
       "    <tr>\n",
       "      <th>6</th>\n",
       "      <td>43</td>\n",
       "      <td>172</td>\n",
       "    </tr>\n",
       "    <tr>\n",
       "      <th>7</th>\n",
       "      <td>47</td>\n",
       "      <td>340</td>\n",
       "    </tr>\n",
       "    <tr>\n",
       "      <th>8</th>\n",
       "      <td>52</td>\n",
       "      <td>408</td>\n",
       "    </tr>\n",
       "    <tr>\n",
       "      <th>9</th>\n",
       "      <td>58</td>\n",
       "      <td>466</td>\n",
       "    </tr>\n",
       "    <tr>\n",
       "      <th>10</th>\n",
       "      <td>57</td>\n",
       "      <td>350</td>\n",
       "    </tr>\n",
       "    <tr>\n",
       "      <th>11</th>\n",
       "      <td>43</td>\n",
       "      <td>338</td>\n",
       "    </tr>\n",
       "    <tr>\n",
       "      <th>12</th>\n",
       "      <td>46</td>\n",
       "      <td>333</td>\n",
       "    </tr>\n",
       "    <tr>\n",
       "      <th rowspan=\"2\" valign=\"top\">1001</th>\n",
       "      <th>11</th>\n",
       "      <td>59</td>\n",
       "      <td>430</td>\n",
       "    </tr>\n",
       "    <tr>\n",
       "      <th>12</th>\n",
       "      <td>63</td>\n",
       "      <td>414</td>\n",
       "    </tr>\n",
       "  </tbody>\n",
       "</table>\n",
       "</div>"
      ],
      "text/plain": [
       "               count_calls  sum_calls\n",
       "user_id month                        \n",
       "1000    5               22        159\n",
       "        6               43        172\n",
       "        7               47        340\n",
       "        8               52        408\n",
       "        9               58        466\n",
       "        10              57        350\n",
       "        11              43        338\n",
       "        12              46        333\n",
       "1001    11              59        430\n",
       "        12              63        414"
      ]
     },
     "metadata": {},
     "output_type": "display_data"
    }
   ],
   "source": [
    "calls_pivot = calls.pivot_table(index=[\"user_id\", \"month\"], values='duration', aggfunc=['count','sum']) # сделаем сводную таблицу для подсчета количества сделанных звонков и израсходованных минут разговора по месяцам \n",
    "calls_pivot.columns = ['count_calls', 'sum_calls'] # переименуем столбцы для удобства\n",
    "display(calls_pivot.head(10))"
   ]
  },
  {
   "cell_type": "code",
   "execution_count": 32,
   "metadata": {
    "scrolled": false
   },
   "outputs": [
    {
     "data": {
      "text/html": [
       "<div>\n",
       "<style scoped>\n",
       "    .dataframe tbody tr th:only-of-type {\n",
       "        vertical-align: middle;\n",
       "    }\n",
       "\n",
       "    .dataframe tbody tr th {\n",
       "        vertical-align: top;\n",
       "    }\n",
       "\n",
       "    .dataframe thead th {\n",
       "        text-align: right;\n",
       "    }\n",
       "</style>\n",
       "<table border=\"1\" class=\"dataframe\">\n",
       "  <thead>\n",
       "    <tr style=\"text-align: right;\">\n",
       "      <th></th>\n",
       "      <th></th>\n",
       "      <th>count_internet</th>\n",
       "      <th>sum_internet</th>\n",
       "    </tr>\n",
       "    <tr>\n",
       "      <th>user_id</th>\n",
       "      <th>month</th>\n",
       "      <th></th>\n",
       "      <th></th>\n",
       "    </tr>\n",
       "  </thead>\n",
       "  <tbody>\n",
       "    <tr>\n",
       "      <th rowspan=\"8\" valign=\"top\">1000</th>\n",
       "      <th>5</th>\n",
       "      <td>5</td>\n",
       "      <td>2252</td>\n",
       "    </tr>\n",
       "    <tr>\n",
       "      <th>6</th>\n",
       "      <td>49</td>\n",
       "      <td>23213</td>\n",
       "    </tr>\n",
       "    <tr>\n",
       "      <th>7</th>\n",
       "      <td>29</td>\n",
       "      <td>13988</td>\n",
       "    </tr>\n",
       "    <tr>\n",
       "      <th>8</th>\n",
       "      <td>29</td>\n",
       "      <td>14043</td>\n",
       "    </tr>\n",
       "    <tr>\n",
       "      <th>9</th>\n",
       "      <td>27</td>\n",
       "      <td>14556</td>\n",
       "    </tr>\n",
       "    <tr>\n",
       "      <th>10</th>\n",
       "      <td>27</td>\n",
       "      <td>14690</td>\n",
       "    </tr>\n",
       "    <tr>\n",
       "      <th>11</th>\n",
       "      <td>24</td>\n",
       "      <td>14745</td>\n",
       "    </tr>\n",
       "    <tr>\n",
       "      <th>12</th>\n",
       "      <td>21</td>\n",
       "      <td>9808</td>\n",
       "    </tr>\n",
       "    <tr>\n",
       "      <th rowspan=\"2\" valign=\"top\">1001</th>\n",
       "      <th>11</th>\n",
       "      <td>55</td>\n",
       "      <td>18405</td>\n",
       "    </tr>\n",
       "    <tr>\n",
       "      <th>12</th>\n",
       "      <td>41</td>\n",
       "      <td>14018</td>\n",
       "    </tr>\n",
       "  </tbody>\n",
       "</table>\n",
       "</div>"
      ],
      "text/plain": [
       "               count_internet  sum_internet\n",
       "user_id month                              \n",
       "1000    5                   5          2252\n",
       "        6                  49         23213\n",
       "        7                  29         13988\n",
       "        8                  29         14043\n",
       "        9                  27         14556\n",
       "        10                 27         14690\n",
       "        11                 24         14745\n",
       "        12                 21          9808\n",
       "1001    11                 55         18405\n",
       "        12                 41         14018"
      ]
     },
     "metadata": {},
     "output_type": "display_data"
    }
   ],
   "source": [
    "internet_pivot = internet.pivot_table(index=[\"user_id\", \"month\"], values='mb_used', aggfunc=['count','sum']) # сделаем сводную таблицу для подсчета количества объема израсходованного интернет-трафика по месяцам\n",
    "internet_pivot.columns = ['count_internet', 'sum_internet'] # переименуем столбцы для удобства\n",
    "display(internet_pivot.head(10))"
   ]
  },
  {
   "cell_type": "code",
   "execution_count": 33,
   "metadata": {},
   "outputs": [
    {
     "name": "stdout",
     "output_type": "stream",
     "text": [
      "<class 'pandas.core.frame.DataFrame'>\n",
      "MultiIndex: 3203 entries, (1000, 5) to (1499, 12)\n",
      "Data columns (total 2 columns):\n",
      " #   Column          Non-Null Count  Dtype\n",
      "---  ------          --------------  -----\n",
      " 0   count_internet  3203 non-null   int64\n",
      " 1   sum_internet    3203 non-null   int64\n",
      "dtypes: int64(2)\n",
      "memory usage: 63.5 KB\n"
     ]
    }
   ],
   "source": [
    "internet_pivot.info()"
   ]
  },
  {
   "cell_type": "code",
   "execution_count": 34,
   "metadata": {
    "scrolled": true
   },
   "outputs": [
    {
     "data": {
      "text/html": [
       "<div>\n",
       "<style scoped>\n",
       "    .dataframe tbody tr th:only-of-type {\n",
       "        vertical-align: middle;\n",
       "    }\n",
       "\n",
       "    .dataframe tbody tr th {\n",
       "        vertical-align: top;\n",
       "    }\n",
       "\n",
       "    .dataframe thead th {\n",
       "        text-align: right;\n",
       "    }\n",
       "</style>\n",
       "<table border=\"1\" class=\"dataframe\">\n",
       "  <thead>\n",
       "    <tr style=\"text-align: right;\">\n",
       "      <th></th>\n",
       "      <th></th>\n",
       "      <th>count_calls</th>\n",
       "      <th>sum_calls</th>\n",
       "      <th>count_internet</th>\n",
       "      <th>sum_internet</th>\n",
       "    </tr>\n",
       "    <tr>\n",
       "      <th>user_id</th>\n",
       "      <th>month</th>\n",
       "      <th></th>\n",
       "      <th></th>\n",
       "      <th></th>\n",
       "      <th></th>\n",
       "    </tr>\n",
       "  </thead>\n",
       "  <tbody>\n",
       "    <tr>\n",
       "      <th rowspan=\"5\" valign=\"top\">1000</th>\n",
       "      <th>5</th>\n",
       "      <td>22.0</td>\n",
       "      <td>159.0</td>\n",
       "      <td>5.0</td>\n",
       "      <td>2252.0</td>\n",
       "    </tr>\n",
       "    <tr>\n",
       "      <th>6</th>\n",
       "      <td>43.0</td>\n",
       "      <td>172.0</td>\n",
       "      <td>49.0</td>\n",
       "      <td>23213.0</td>\n",
       "    </tr>\n",
       "    <tr>\n",
       "      <th>7</th>\n",
       "      <td>47.0</td>\n",
       "      <td>340.0</td>\n",
       "      <td>29.0</td>\n",
       "      <td>13988.0</td>\n",
       "    </tr>\n",
       "    <tr>\n",
       "      <th>8</th>\n",
       "      <td>52.0</td>\n",
       "      <td>408.0</td>\n",
       "      <td>29.0</td>\n",
       "      <td>14043.0</td>\n",
       "    </tr>\n",
       "    <tr>\n",
       "      <th>9</th>\n",
       "      <td>58.0</td>\n",
       "      <td>466.0</td>\n",
       "      <td>27.0</td>\n",
       "      <td>14556.0</td>\n",
       "    </tr>\n",
       "    <tr>\n",
       "      <th>...</th>\n",
       "      <th>...</th>\n",
       "      <td>...</td>\n",
       "      <td>...</td>\n",
       "      <td>...</td>\n",
       "      <td>...</td>\n",
       "    </tr>\n",
       "    <tr>\n",
       "      <th rowspan=\"5\" valign=\"top\">1489</th>\n",
       "      <th>8</th>\n",
       "      <td>NaN</td>\n",
       "      <td>NaN</td>\n",
       "      <td>34.0</td>\n",
       "      <td>11038.0</td>\n",
       "    </tr>\n",
       "    <tr>\n",
       "      <th>9</th>\n",
       "      <td>NaN</td>\n",
       "      <td>NaN</td>\n",
       "      <td>63.0</td>\n",
       "      <td>17183.0</td>\n",
       "    </tr>\n",
       "    <tr>\n",
       "      <th>10</th>\n",
       "      <td>NaN</td>\n",
       "      <td>NaN</td>\n",
       "      <td>63.0</td>\n",
       "      <td>19538.0</td>\n",
       "    </tr>\n",
       "    <tr>\n",
       "      <th>11</th>\n",
       "      <td>NaN</td>\n",
       "      <td>NaN</td>\n",
       "      <td>55.0</td>\n",
       "      <td>17471.0</td>\n",
       "    </tr>\n",
       "    <tr>\n",
       "      <th>12</th>\n",
       "      <td>NaN</td>\n",
       "      <td>NaN</td>\n",
       "      <td>51.0</td>\n",
       "      <td>17298.0</td>\n",
       "    </tr>\n",
       "  </tbody>\n",
       "</table>\n",
       "<p>3214 rows × 4 columns</p>\n",
       "</div>"
      ],
      "text/plain": [
       "               count_calls  sum_calls  count_internet  sum_internet\n",
       "user_id month                                                      \n",
       "1000    5             22.0      159.0             5.0        2252.0\n",
       "        6             43.0      172.0            49.0       23213.0\n",
       "        7             47.0      340.0            29.0       13988.0\n",
       "        8             52.0      408.0            29.0       14043.0\n",
       "        9             58.0      466.0            27.0       14556.0\n",
       "...                    ...        ...             ...           ...\n",
       "1489    8              NaN        NaN            34.0       11038.0\n",
       "        9              NaN        NaN            63.0       17183.0\n",
       "        10             NaN        NaN            63.0       19538.0\n",
       "        11             NaN        NaN            55.0       17471.0\n",
       "        12             NaN        NaN            51.0       17298.0\n",
       "\n",
       "[3214 rows x 4 columns]"
      ]
     },
     "metadata": {},
     "output_type": "display_data"
    }
   ],
   "source": [
    "data = calls_pivot.merge(internet_pivot, on=['user_id', 'month'], how='outer') # объединим таблицы в одну\n",
    "display(data)"
   ]
  },
  {
   "cell_type": "code",
   "execution_count": 35,
   "metadata": {},
   "outputs": [
    {
     "name": "stdout",
     "output_type": "stream",
     "text": [
      "<class 'pandas.core.frame.DataFrame'>\n",
      "MultiIndex: 3214 entries, (1000, 5) to (1489, 12)\n",
      "Data columns (total 4 columns):\n",
      " #   Column          Non-Null Count  Dtype  \n",
      "---  ------          --------------  -----  \n",
      " 0   count_calls     3174 non-null   float64\n",
      " 1   sum_calls       3174 non-null   float64\n",
      " 2   count_internet  3203 non-null   float64\n",
      " 3   sum_internet    3203 non-null   float64\n",
      "dtypes: float64(4)\n",
      "memory usage: 130.4 KB\n"
     ]
    }
   ],
   "source": [
    "data.info()"
   ]
  },
  {
   "cell_type": "code",
   "execution_count": 36,
   "metadata": {},
   "outputs": [],
   "source": [
    "messages.columns = ['id', 'date', 'user_id', 'month'] # Переименуем столбцы в таблицах для единообразия"
   ]
  },
  {
   "cell_type": "code",
   "execution_count": 37,
   "metadata": {
    "scrolled": false
   },
   "outputs": [
    {
     "data": {
      "text/html": [
       "<div>\n",
       "<style scoped>\n",
       "    .dataframe tbody tr th:only-of-type {\n",
       "        vertical-align: middle;\n",
       "    }\n",
       "\n",
       "    .dataframe tbody tr th {\n",
       "        vertical-align: top;\n",
       "    }\n",
       "\n",
       "    .dataframe thead th {\n",
       "        text-align: right;\n",
       "    }\n",
       "</style>\n",
       "<table border=\"1\" class=\"dataframe\">\n",
       "  <thead>\n",
       "    <tr style=\"text-align: right;\">\n",
       "      <th></th>\n",
       "      <th></th>\n",
       "      <th>count_messages</th>\n",
       "    </tr>\n",
       "    <tr>\n",
       "      <th>user_id</th>\n",
       "      <th>month</th>\n",
       "      <th></th>\n",
       "    </tr>\n",
       "  </thead>\n",
       "  <tbody>\n",
       "    <tr>\n",
       "      <th rowspan=\"8\" valign=\"top\">1000</th>\n",
       "      <th>5</th>\n",
       "      <td>22</td>\n",
       "    </tr>\n",
       "    <tr>\n",
       "      <th>6</th>\n",
       "      <td>60</td>\n",
       "    </tr>\n",
       "    <tr>\n",
       "      <th>7</th>\n",
       "      <td>75</td>\n",
       "    </tr>\n",
       "    <tr>\n",
       "      <th>8</th>\n",
       "      <td>81</td>\n",
       "    </tr>\n",
       "    <tr>\n",
       "      <th>9</th>\n",
       "      <td>57</td>\n",
       "    </tr>\n",
       "    <tr>\n",
       "      <th>10</th>\n",
       "      <td>73</td>\n",
       "    </tr>\n",
       "    <tr>\n",
       "      <th>11</th>\n",
       "      <td>58</td>\n",
       "    </tr>\n",
       "    <tr>\n",
       "      <th>12</th>\n",
       "      <td>70</td>\n",
       "    </tr>\n",
       "    <tr>\n",
       "      <th rowspan=\"2\" valign=\"top\">1002</th>\n",
       "      <th>6</th>\n",
       "      <td>4</td>\n",
       "    </tr>\n",
       "    <tr>\n",
       "      <th>7</th>\n",
       "      <td>11</td>\n",
       "    </tr>\n",
       "  </tbody>\n",
       "</table>\n",
       "</div>"
      ],
      "text/plain": [
       "               count_messages\n",
       "user_id month                \n",
       "1000    5                  22\n",
       "        6                  60\n",
       "        7                  75\n",
       "        8                  81\n",
       "        9                  57\n",
       "        10                 73\n",
       "        11                 58\n",
       "        12                 70\n",
       "1002    6                   4\n",
       "        7                  11"
      ]
     },
     "metadata": {},
     "output_type": "display_data"
    }
   ],
   "source": [
    "messages_pivot = messages.pivot_table(index=[\"user_id\", \"month\"], values='id', aggfunc=['count']) # сделаем сводную таблицу для подсчета количества отправленных сообщений по месяцам\n",
    "messages_pivot.columns = ['count_messages'] # переименуем столбцы для удобства\n",
    "display(messages_pivot.head(10))"
   ]
  },
  {
   "cell_type": "code",
   "execution_count": 38,
   "metadata": {},
   "outputs": [
    {
     "name": "stdout",
     "output_type": "stream",
     "text": [
      "<class 'pandas.core.frame.DataFrame'>\n",
      "RangeIndex: 123036 entries, 0 to 123035\n",
      "Data columns (total 4 columns):\n",
      " #   Column   Non-Null Count   Dtype         \n",
      "---  ------   --------------   -----         \n",
      " 0   id       123036 non-null  object        \n",
      " 1   date     123036 non-null  datetime64[ns]\n",
      " 2   user_id  123036 non-null  int64         \n",
      " 3   month    123036 non-null  int64         \n",
      "dtypes: datetime64[ns](1), int64(2), object(1)\n",
      "memory usage: 3.8+ MB\n"
     ]
    }
   ],
   "source": [
    "messages.info()"
   ]
  },
  {
   "cell_type": "code",
   "execution_count": 39,
   "metadata": {
    "scrolled": true
   },
   "outputs": [
    {
     "data": {
      "text/html": [
       "<div>\n",
       "<style scoped>\n",
       "    .dataframe tbody tr th:only-of-type {\n",
       "        vertical-align: middle;\n",
       "    }\n",
       "\n",
       "    .dataframe tbody tr th {\n",
       "        vertical-align: top;\n",
       "    }\n",
       "\n",
       "    .dataframe thead th {\n",
       "        text-align: right;\n",
       "    }\n",
       "</style>\n",
       "<table border=\"1\" class=\"dataframe\">\n",
       "  <thead>\n",
       "    <tr style=\"text-align: right;\">\n",
       "      <th></th>\n",
       "      <th></th>\n",
       "      <th>count_calls</th>\n",
       "      <th>sum_calls</th>\n",
       "      <th>count_internet</th>\n",
       "      <th>sum_internet</th>\n",
       "      <th>count_messages</th>\n",
       "    </tr>\n",
       "    <tr>\n",
       "      <th>user_id</th>\n",
       "      <th>month</th>\n",
       "      <th></th>\n",
       "      <th></th>\n",
       "      <th></th>\n",
       "      <th></th>\n",
       "      <th></th>\n",
       "    </tr>\n",
       "  </thead>\n",
       "  <tbody>\n",
       "    <tr>\n",
       "      <th rowspan=\"5\" valign=\"top\">1000</th>\n",
       "      <th>5</th>\n",
       "      <td>22.0</td>\n",
       "      <td>159.0</td>\n",
       "      <td>5.0</td>\n",
       "      <td>2252.0</td>\n",
       "      <td>22.0</td>\n",
       "    </tr>\n",
       "    <tr>\n",
       "      <th>6</th>\n",
       "      <td>43.0</td>\n",
       "      <td>172.0</td>\n",
       "      <td>49.0</td>\n",
       "      <td>23213.0</td>\n",
       "      <td>60.0</td>\n",
       "    </tr>\n",
       "    <tr>\n",
       "      <th>7</th>\n",
       "      <td>47.0</td>\n",
       "      <td>340.0</td>\n",
       "      <td>29.0</td>\n",
       "      <td>13988.0</td>\n",
       "      <td>75.0</td>\n",
       "    </tr>\n",
       "    <tr>\n",
       "      <th>8</th>\n",
       "      <td>52.0</td>\n",
       "      <td>408.0</td>\n",
       "      <td>29.0</td>\n",
       "      <td>14043.0</td>\n",
       "      <td>81.0</td>\n",
       "    </tr>\n",
       "    <tr>\n",
       "      <th>9</th>\n",
       "      <td>58.0</td>\n",
       "      <td>466.0</td>\n",
       "      <td>27.0</td>\n",
       "      <td>14556.0</td>\n",
       "      <td>57.0</td>\n",
       "    </tr>\n",
       "    <tr>\n",
       "      <th>...</th>\n",
       "      <th>...</th>\n",
       "      <td>...</td>\n",
       "      <td>...</td>\n",
       "      <td>...</td>\n",
       "      <td>...</td>\n",
       "      <td>...</td>\n",
       "    </tr>\n",
       "    <tr>\n",
       "      <th rowspan=\"5\" valign=\"top\">1489</th>\n",
       "      <th>8</th>\n",
       "      <td>NaN</td>\n",
       "      <td>NaN</td>\n",
       "      <td>34.0</td>\n",
       "      <td>11038.0</td>\n",
       "      <td>17.0</td>\n",
       "    </tr>\n",
       "    <tr>\n",
       "      <th>9</th>\n",
       "      <td>NaN</td>\n",
       "      <td>NaN</td>\n",
       "      <td>63.0</td>\n",
       "      <td>17183.0</td>\n",
       "      <td>32.0</td>\n",
       "    </tr>\n",
       "    <tr>\n",
       "      <th>10</th>\n",
       "      <td>NaN</td>\n",
       "      <td>NaN</td>\n",
       "      <td>63.0</td>\n",
       "      <td>19538.0</td>\n",
       "      <td>21.0</td>\n",
       "    </tr>\n",
       "    <tr>\n",
       "      <th>11</th>\n",
       "      <td>NaN</td>\n",
       "      <td>NaN</td>\n",
       "      <td>55.0</td>\n",
       "      <td>17471.0</td>\n",
       "      <td>20.0</td>\n",
       "    </tr>\n",
       "    <tr>\n",
       "      <th>12</th>\n",
       "      <td>NaN</td>\n",
       "      <td>NaN</td>\n",
       "      <td>51.0</td>\n",
       "      <td>17298.0</td>\n",
       "      <td>35.0</td>\n",
       "    </tr>\n",
       "  </tbody>\n",
       "</table>\n",
       "<p>3214 rows × 5 columns</p>\n",
       "</div>"
      ],
      "text/plain": [
       "               count_calls  sum_calls  count_internet  sum_internet  \\\n",
       "user_id month                                                         \n",
       "1000    5             22.0      159.0             5.0        2252.0   \n",
       "        6             43.0      172.0            49.0       23213.0   \n",
       "        7             47.0      340.0            29.0       13988.0   \n",
       "        8             52.0      408.0            29.0       14043.0   \n",
       "        9             58.0      466.0            27.0       14556.0   \n",
       "...                    ...        ...             ...           ...   \n",
       "1489    8              NaN        NaN            34.0       11038.0   \n",
       "        9              NaN        NaN            63.0       17183.0   \n",
       "        10             NaN        NaN            63.0       19538.0   \n",
       "        11             NaN        NaN            55.0       17471.0   \n",
       "        12             NaN        NaN            51.0       17298.0   \n",
       "\n",
       "               count_messages  \n",
       "user_id month                  \n",
       "1000    5                22.0  \n",
       "        6                60.0  \n",
       "        7                75.0  \n",
       "        8                81.0  \n",
       "        9                57.0  \n",
       "...                       ...  \n",
       "1489    8                17.0  \n",
       "        9                32.0  \n",
       "        10               21.0  \n",
       "        11               20.0  \n",
       "        12               35.0  \n",
       "\n",
       "[3214 rows x 5 columns]"
      ]
     },
     "metadata": {},
     "output_type": "display_data"
    }
   ],
   "source": [
    "data = data.merge(messages_pivot, on=['user_id', 'month'], how='outer') # объединим таблицы в одну\n",
    "display(data)"
   ]
  },
  {
   "cell_type": "code",
   "execution_count": 40,
   "metadata": {
    "scrolled": true
   },
   "outputs": [
    {
     "name": "stdout",
     "output_type": "stream",
     "text": [
      "<class 'pandas.core.frame.DataFrame'>\n",
      "MultiIndex: 3214 entries, (1000, 5) to (1489, 12)\n",
      "Data columns (total 5 columns):\n",
      " #   Column          Non-Null Count  Dtype  \n",
      "---  ------          --------------  -----  \n",
      " 0   count_calls     3174 non-null   float64\n",
      " 1   sum_calls       3174 non-null   float64\n",
      " 2   count_internet  3203 non-null   float64\n",
      " 3   sum_internet    3203 non-null   float64\n",
      " 4   count_messages  2717 non-null   float64\n",
      "dtypes: float64(5)\n",
      "memory usage: 155.5 KB\n"
     ]
    }
   ],
   "source": [
    "data.info()"
   ]
  },
  {
   "cell_type": "code",
   "execution_count": 41,
   "metadata": {
    "scrolled": true
   },
   "outputs": [
    {
     "data": {
      "text/plain": [
       "0"
      ]
     },
     "execution_count": 41,
     "metadata": {},
     "output_type": "execute_result"
    }
   ],
   "source": [
    "data.duplicated().sum() # проверим дубликаты"
   ]
  },
  {
   "cell_type": "markdown",
   "metadata": {},
   "source": [
    "Заполним пропуски в нужных столбцах 0, так как если значения в данном столбце нет, значит услуга пользователем в этот период не использовалась  "
   ]
  },
  {
   "cell_type": "code",
   "execution_count": 42,
   "metadata": {},
   "outputs": [],
   "source": [
    "data['count_calls'] = data['count_calls'].fillna(0)\n",
    "data['sum_calls'] = data['sum_calls'].fillna(0)\n",
    "data['count_internet'] = data['count_internet'].fillna(0)\n",
    "data['sum_internet'] = data['sum_internet'].fillna(0)\n",
    "data['count_messages'] = data['count_messages'].fillna(0)"
   ]
  },
  {
   "cell_type": "code",
   "execution_count": 43,
   "metadata": {
    "scrolled": false
   },
   "outputs": [
    {
     "name": "stdout",
     "output_type": "stream",
     "text": [
      "<class 'pandas.core.frame.DataFrame'>\n",
      "MultiIndex: 3214 entries, (1000, 5) to (1489, 12)\n",
      "Data columns (total 5 columns):\n",
      " #   Column          Non-Null Count  Dtype\n",
      "---  ------          --------------  -----\n",
      " 0   count_calls     3214 non-null   int64\n",
      " 1   sum_calls       3214 non-null   Int64\n",
      " 2   count_internet  3214 non-null   Int64\n",
      " 3   sum_internet    3214 non-null   Int64\n",
      " 4   count_messages  3214 non-null   Int64\n",
      "dtypes: Int64(4), int64(1)\n",
      "memory usage: 168.1 KB\n"
     ]
    }
   ],
   "source": [
    "data = data.astype({\"count_calls\":'int64', \"sum_calls\":'Int64', \"count_internet\":'Int64', \"sum_internet\":'Int64', \"count_messages\":'Int64'}) # изменяю тип данных в нужных столбцах\n",
    "data.info()"
   ]
  },
  {
   "cell_type": "code",
   "execution_count": 44,
   "metadata": {
    "scrolled": true
   },
   "outputs": [
    {
     "data": {
      "text/html": [
       "<div>\n",
       "<style scoped>\n",
       "    .dataframe tbody tr th:only-of-type {\n",
       "        vertical-align: middle;\n",
       "    }\n",
       "\n",
       "    .dataframe tbody tr th {\n",
       "        vertical-align: top;\n",
       "    }\n",
       "\n",
       "    .dataframe thead th {\n",
       "        text-align: right;\n",
       "    }\n",
       "</style>\n",
       "<table border=\"1\" class=\"dataframe\">\n",
       "  <thead>\n",
       "    <tr style=\"text-align: right;\">\n",
       "      <th></th>\n",
       "      <th></th>\n",
       "      <th>count_calls</th>\n",
       "      <th>sum_calls</th>\n",
       "      <th>count_internet</th>\n",
       "      <th>sum_internet</th>\n",
       "      <th>count_messages</th>\n",
       "    </tr>\n",
       "    <tr>\n",
       "      <th>user_id</th>\n",
       "      <th>month</th>\n",
       "      <th></th>\n",
       "      <th></th>\n",
       "      <th></th>\n",
       "      <th></th>\n",
       "      <th></th>\n",
       "    </tr>\n",
       "  </thead>\n",
       "  <tbody>\n",
       "    <tr>\n",
       "      <th rowspan=\"5\" valign=\"top\">1000</th>\n",
       "      <th>5</th>\n",
       "      <td>22</td>\n",
       "      <td>159</td>\n",
       "      <td>5</td>\n",
       "      <td>2252</td>\n",
       "      <td>22</td>\n",
       "    </tr>\n",
       "    <tr>\n",
       "      <th>6</th>\n",
       "      <td>43</td>\n",
       "      <td>172</td>\n",
       "      <td>49</td>\n",
       "      <td>23213</td>\n",
       "      <td>60</td>\n",
       "    </tr>\n",
       "    <tr>\n",
       "      <th>7</th>\n",
       "      <td>47</td>\n",
       "      <td>340</td>\n",
       "      <td>29</td>\n",
       "      <td>13988</td>\n",
       "      <td>75</td>\n",
       "    </tr>\n",
       "    <tr>\n",
       "      <th>8</th>\n",
       "      <td>52</td>\n",
       "      <td>408</td>\n",
       "      <td>29</td>\n",
       "      <td>14043</td>\n",
       "      <td>81</td>\n",
       "    </tr>\n",
       "    <tr>\n",
       "      <th>9</th>\n",
       "      <td>58</td>\n",
       "      <td>466</td>\n",
       "      <td>27</td>\n",
       "      <td>14556</td>\n",
       "      <td>57</td>\n",
       "    </tr>\n",
       "    <tr>\n",
       "      <th>...</th>\n",
       "      <th>...</th>\n",
       "      <td>...</td>\n",
       "      <td>...</td>\n",
       "      <td>...</td>\n",
       "      <td>...</td>\n",
       "      <td>...</td>\n",
       "    </tr>\n",
       "    <tr>\n",
       "      <th rowspan=\"5\" valign=\"top\">1489</th>\n",
       "      <th>8</th>\n",
       "      <td>0</td>\n",
       "      <td>0</td>\n",
       "      <td>34</td>\n",
       "      <td>11038</td>\n",
       "      <td>17</td>\n",
       "    </tr>\n",
       "    <tr>\n",
       "      <th>9</th>\n",
       "      <td>0</td>\n",
       "      <td>0</td>\n",
       "      <td>63</td>\n",
       "      <td>17183</td>\n",
       "      <td>32</td>\n",
       "    </tr>\n",
       "    <tr>\n",
       "      <th>10</th>\n",
       "      <td>0</td>\n",
       "      <td>0</td>\n",
       "      <td>63</td>\n",
       "      <td>19538</td>\n",
       "      <td>21</td>\n",
       "    </tr>\n",
       "    <tr>\n",
       "      <th>11</th>\n",
       "      <td>0</td>\n",
       "      <td>0</td>\n",
       "      <td>55</td>\n",
       "      <td>17471</td>\n",
       "      <td>20</td>\n",
       "    </tr>\n",
       "    <tr>\n",
       "      <th>12</th>\n",
       "      <td>0</td>\n",
       "      <td>0</td>\n",
       "      <td>51</td>\n",
       "      <td>17298</td>\n",
       "      <td>35</td>\n",
       "    </tr>\n",
       "  </tbody>\n",
       "</table>\n",
       "<p>3214 rows × 5 columns</p>\n",
       "</div>"
      ],
      "text/plain": [
       "               count_calls  sum_calls  count_internet  sum_internet  \\\n",
       "user_id month                                                         \n",
       "1000    5               22        159               5          2252   \n",
       "        6               43        172              49         23213   \n",
       "        7               47        340              29         13988   \n",
       "        8               52        408              29         14043   \n",
       "        9               58        466              27         14556   \n",
       "...                    ...        ...             ...           ...   \n",
       "1489    8                0          0              34         11038   \n",
       "        9                0          0              63         17183   \n",
       "        10               0          0              63         19538   \n",
       "        11               0          0              55         17471   \n",
       "        12               0          0              51         17298   \n",
       "\n",
       "               count_messages  \n",
       "user_id month                  \n",
       "1000    5                  22  \n",
       "        6                  60  \n",
       "        7                  75  \n",
       "        8                  81  \n",
       "        9                  57  \n",
       "...                       ...  \n",
       "1489    8                  17  \n",
       "        9                  32  \n",
       "        10                 21  \n",
       "        11                 20  \n",
       "        12                 35  \n",
       "\n",
       "[3214 rows x 5 columns]"
      ]
     },
     "metadata": {},
     "output_type": "display_data"
    }
   ],
   "source": [
    "display(data)"
   ]
  },
  {
   "cell_type": "code",
   "execution_count": 45,
   "metadata": {
    "scrolled": true
   },
   "outputs": [
    {
     "data": {
      "text/html": [
       "<div>\n",
       "<style scoped>\n",
       "    .dataframe tbody tr th:only-of-type {\n",
       "        vertical-align: middle;\n",
       "    }\n",
       "\n",
       "    .dataframe tbody tr th {\n",
       "        vertical-align: top;\n",
       "    }\n",
       "\n",
       "    .dataframe thead th {\n",
       "        text-align: right;\n",
       "    }\n",
       "</style>\n",
       "<table border=\"1\" class=\"dataframe\">\n",
       "  <thead>\n",
       "    <tr style=\"text-align: right;\">\n",
       "      <th></th>\n",
       "      <th>user_id</th>\n",
       "      <th>month</th>\n",
       "      <th>count_calls</th>\n",
       "      <th>sum_calls</th>\n",
       "      <th>count_internet</th>\n",
       "      <th>sum_internet</th>\n",
       "      <th>count_messages</th>\n",
       "    </tr>\n",
       "  </thead>\n",
       "  <tbody>\n",
       "    <tr>\n",
       "      <th>0</th>\n",
       "      <td>1000</td>\n",
       "      <td>5</td>\n",
       "      <td>22</td>\n",
       "      <td>159</td>\n",
       "      <td>5</td>\n",
       "      <td>2252</td>\n",
       "      <td>22</td>\n",
       "    </tr>\n",
       "    <tr>\n",
       "      <th>1</th>\n",
       "      <td>1000</td>\n",
       "      <td>6</td>\n",
       "      <td>43</td>\n",
       "      <td>172</td>\n",
       "      <td>49</td>\n",
       "      <td>23213</td>\n",
       "      <td>60</td>\n",
       "    </tr>\n",
       "    <tr>\n",
       "      <th>2</th>\n",
       "      <td>1000</td>\n",
       "      <td>7</td>\n",
       "      <td>47</td>\n",
       "      <td>340</td>\n",
       "      <td>29</td>\n",
       "      <td>13988</td>\n",
       "      <td>75</td>\n",
       "    </tr>\n",
       "    <tr>\n",
       "      <th>3</th>\n",
       "      <td>1000</td>\n",
       "      <td>8</td>\n",
       "      <td>52</td>\n",
       "      <td>408</td>\n",
       "      <td>29</td>\n",
       "      <td>14043</td>\n",
       "      <td>81</td>\n",
       "    </tr>\n",
       "    <tr>\n",
       "      <th>4</th>\n",
       "      <td>1000</td>\n",
       "      <td>9</td>\n",
       "      <td>58</td>\n",
       "      <td>466</td>\n",
       "      <td>27</td>\n",
       "      <td>14556</td>\n",
       "      <td>57</td>\n",
       "    </tr>\n",
       "    <tr>\n",
       "      <th>...</th>\n",
       "      <td>...</td>\n",
       "      <td>...</td>\n",
       "      <td>...</td>\n",
       "      <td>...</td>\n",
       "      <td>...</td>\n",
       "      <td>...</td>\n",
       "      <td>...</td>\n",
       "    </tr>\n",
       "    <tr>\n",
       "      <th>3209</th>\n",
       "      <td>1489</td>\n",
       "      <td>8</td>\n",
       "      <td>0</td>\n",
       "      <td>0</td>\n",
       "      <td>34</td>\n",
       "      <td>11038</td>\n",
       "      <td>17</td>\n",
       "    </tr>\n",
       "    <tr>\n",
       "      <th>3210</th>\n",
       "      <td>1489</td>\n",
       "      <td>9</td>\n",
       "      <td>0</td>\n",
       "      <td>0</td>\n",
       "      <td>63</td>\n",
       "      <td>17183</td>\n",
       "      <td>32</td>\n",
       "    </tr>\n",
       "    <tr>\n",
       "      <th>3211</th>\n",
       "      <td>1489</td>\n",
       "      <td>10</td>\n",
       "      <td>0</td>\n",
       "      <td>0</td>\n",
       "      <td>63</td>\n",
       "      <td>19538</td>\n",
       "      <td>21</td>\n",
       "    </tr>\n",
       "    <tr>\n",
       "      <th>3212</th>\n",
       "      <td>1489</td>\n",
       "      <td>11</td>\n",
       "      <td>0</td>\n",
       "      <td>0</td>\n",
       "      <td>55</td>\n",
       "      <td>17471</td>\n",
       "      <td>20</td>\n",
       "    </tr>\n",
       "    <tr>\n",
       "      <th>3213</th>\n",
       "      <td>1489</td>\n",
       "      <td>12</td>\n",
       "      <td>0</td>\n",
       "      <td>0</td>\n",
       "      <td>51</td>\n",
       "      <td>17298</td>\n",
       "      <td>35</td>\n",
       "    </tr>\n",
       "  </tbody>\n",
       "</table>\n",
       "<p>3214 rows × 7 columns</p>\n",
       "</div>"
      ],
      "text/plain": [
       "      user_id  month  count_calls  sum_calls  count_internet  sum_internet  \\\n",
       "0        1000      5           22        159               5          2252   \n",
       "1        1000      6           43        172              49         23213   \n",
       "2        1000      7           47        340              29         13988   \n",
       "3        1000      8           52        408              29         14043   \n",
       "4        1000      9           58        466              27         14556   \n",
       "...       ...    ...          ...        ...             ...           ...   \n",
       "3209     1489      8            0          0              34         11038   \n",
       "3210     1489      9            0          0              63         17183   \n",
       "3211     1489     10            0          0              63         19538   \n",
       "3212     1489     11            0          0              55         17471   \n",
       "3213     1489     12            0          0              51         17298   \n",
       "\n",
       "      count_messages  \n",
       "0                 22  \n",
       "1                 60  \n",
       "2                 75  \n",
       "3                 81  \n",
       "4                 57  \n",
       "...              ...  \n",
       "3209              17  \n",
       "3210              32  \n",
       "3211              21  \n",
       "3212              20  \n",
       "3213              35  \n",
       "\n",
       "[3214 rows x 7 columns]"
      ]
     },
     "metadata": {},
     "output_type": "display_data"
    }
   ],
   "source": [
    "data = data.reset_index() # перед дальнейшим объединением очистим индексы\n",
    "display(data)"
   ]
  },
  {
   "cell_type": "markdown",
   "metadata": {},
   "source": [
    "Объединим таблицы с информацией о тарифах и пользователях в одну"
   ]
  },
  {
   "cell_type": "code",
   "execution_count": 46,
   "metadata": {
    "scrolled": false
   },
   "outputs": [
    {
     "data": {
      "text/html": [
       "<div>\n",
       "<style scoped>\n",
       "    .dataframe tbody tr th:only-of-type {\n",
       "        vertical-align: middle;\n",
       "    }\n",
       "\n",
       "    .dataframe tbody tr th {\n",
       "        vertical-align: top;\n",
       "    }\n",
       "\n",
       "    .dataframe thead th {\n",
       "        text-align: right;\n",
       "    }\n",
       "</style>\n",
       "<table border=\"1\" class=\"dataframe\">\n",
       "  <thead>\n",
       "    <tr style=\"text-align: right;\">\n",
       "      <th></th>\n",
       "      <th>index</th>\n",
       "      <th>user_id</th>\n",
       "      <th>age</th>\n",
       "      <th>churn_date</th>\n",
       "      <th>city</th>\n",
       "      <th>first_name</th>\n",
       "      <th>last_name</th>\n",
       "      <th>reg_date</th>\n",
       "      <th>tariff</th>\n",
       "      <th>messages_included</th>\n",
       "      <th>mb_per_month_included</th>\n",
       "      <th>minutes_included</th>\n",
       "      <th>rub_monthly_fee</th>\n",
       "      <th>rub_per_gb</th>\n",
       "      <th>rub_per_message</th>\n",
       "      <th>rub_per_minute</th>\n",
       "    </tr>\n",
       "  </thead>\n",
       "  <tbody>\n",
       "    <tr>\n",
       "      <th>0</th>\n",
       "      <td>0</td>\n",
       "      <td>1000</td>\n",
       "      <td>52</td>\n",
       "      <td>NaT</td>\n",
       "      <td>Краснодар</td>\n",
       "      <td>Рафаил</td>\n",
       "      <td>Верещагин</td>\n",
       "      <td>2018-05-25</td>\n",
       "      <td>ultra</td>\n",
       "      <td>1000</td>\n",
       "      <td>30720</td>\n",
       "      <td>3000</td>\n",
       "      <td>1950</td>\n",
       "      <td>150</td>\n",
       "      <td>1</td>\n",
       "      <td>1</td>\n",
       "    </tr>\n",
       "    <tr>\n",
       "      <th>1</th>\n",
       "      <td>1</td>\n",
       "      <td>1003</td>\n",
       "      <td>23</td>\n",
       "      <td>NaT</td>\n",
       "      <td>Москва</td>\n",
       "      <td>Белла</td>\n",
       "      <td>Белякова</td>\n",
       "      <td>2018-08-17</td>\n",
       "      <td>ultra</td>\n",
       "      <td>1000</td>\n",
       "      <td>30720</td>\n",
       "      <td>3000</td>\n",
       "      <td>1950</td>\n",
       "      <td>150</td>\n",
       "      <td>1</td>\n",
       "      <td>1</td>\n",
       "    </tr>\n",
       "    <tr>\n",
       "      <th>2</th>\n",
       "      <td>2</td>\n",
       "      <td>1004</td>\n",
       "      <td>68</td>\n",
       "      <td>NaT</td>\n",
       "      <td>Новокузнецк</td>\n",
       "      <td>Татьяна</td>\n",
       "      <td>Авдеенко</td>\n",
       "      <td>2018-05-14</td>\n",
       "      <td>ultra</td>\n",
       "      <td>1000</td>\n",
       "      <td>30720</td>\n",
       "      <td>3000</td>\n",
       "      <td>1950</td>\n",
       "      <td>150</td>\n",
       "      <td>1</td>\n",
       "      <td>1</td>\n",
       "    </tr>\n",
       "    <tr>\n",
       "      <th>3</th>\n",
       "      <td>3</td>\n",
       "      <td>1013</td>\n",
       "      <td>36</td>\n",
       "      <td>NaT</td>\n",
       "      <td>Иваново</td>\n",
       "      <td>Борис</td>\n",
       "      <td>Андреенко</td>\n",
       "      <td>2018-11-14</td>\n",
       "      <td>ultra</td>\n",
       "      <td>1000</td>\n",
       "      <td>30720</td>\n",
       "      <td>3000</td>\n",
       "      <td>1950</td>\n",
       "      <td>150</td>\n",
       "      <td>1</td>\n",
       "      <td>1</td>\n",
       "    </tr>\n",
       "    <tr>\n",
       "      <th>4</th>\n",
       "      <td>4</td>\n",
       "      <td>1016</td>\n",
       "      <td>58</td>\n",
       "      <td>NaT</td>\n",
       "      <td>Омск</td>\n",
       "      <td>Марица</td>\n",
       "      <td>Сазонова</td>\n",
       "      <td>2018-11-21</td>\n",
       "      <td>ultra</td>\n",
       "      <td>1000</td>\n",
       "      <td>30720</td>\n",
       "      <td>3000</td>\n",
       "      <td>1950</td>\n",
       "      <td>150</td>\n",
       "      <td>1</td>\n",
       "      <td>1</td>\n",
       "    </tr>\n",
       "    <tr>\n",
       "      <th>...</th>\n",
       "      <td>...</td>\n",
       "      <td>...</td>\n",
       "      <td>...</td>\n",
       "      <td>...</td>\n",
       "      <td>...</td>\n",
       "      <td>...</td>\n",
       "      <td>...</td>\n",
       "      <td>...</td>\n",
       "      <td>...</td>\n",
       "      <td>...</td>\n",
       "      <td>...</td>\n",
       "      <td>...</td>\n",
       "      <td>...</td>\n",
       "      <td>...</td>\n",
       "      <td>...</td>\n",
       "      <td>...</td>\n",
       "    </tr>\n",
       "    <tr>\n",
       "      <th>495</th>\n",
       "      <td>495</td>\n",
       "      <td>1494</td>\n",
       "      <td>62</td>\n",
       "      <td>NaT</td>\n",
       "      <td>Омск</td>\n",
       "      <td>Ренат</td>\n",
       "      <td>Андропов</td>\n",
       "      <td>2018-08-17</td>\n",
       "      <td>smart</td>\n",
       "      <td>50</td>\n",
       "      <td>15360</td>\n",
       "      <td>500</td>\n",
       "      <td>550</td>\n",
       "      <td>200</td>\n",
       "      <td>3</td>\n",
       "      <td>3</td>\n",
       "    </tr>\n",
       "    <tr>\n",
       "      <th>496</th>\n",
       "      <td>496</td>\n",
       "      <td>1496</td>\n",
       "      <td>36</td>\n",
       "      <td>NaT</td>\n",
       "      <td>Вологда</td>\n",
       "      <td>Трифон</td>\n",
       "      <td>Блохин</td>\n",
       "      <td>2018-01-27</td>\n",
       "      <td>smart</td>\n",
       "      <td>50</td>\n",
       "      <td>15360</td>\n",
       "      <td>500</td>\n",
       "      <td>550</td>\n",
       "      <td>200</td>\n",
       "      <td>3</td>\n",
       "      <td>3</td>\n",
       "    </tr>\n",
       "    <tr>\n",
       "      <th>497</th>\n",
       "      <td>497</td>\n",
       "      <td>1497</td>\n",
       "      <td>32</td>\n",
       "      <td>NaT</td>\n",
       "      <td>Челябинск</td>\n",
       "      <td>Каролина</td>\n",
       "      <td>Агеева</td>\n",
       "      <td>2018-10-09</td>\n",
       "      <td>smart</td>\n",
       "      <td>50</td>\n",
       "      <td>15360</td>\n",
       "      <td>500</td>\n",
       "      <td>550</td>\n",
       "      <td>200</td>\n",
       "      <td>3</td>\n",
       "      <td>3</td>\n",
       "    </tr>\n",
       "    <tr>\n",
       "      <th>498</th>\n",
       "      <td>498</td>\n",
       "      <td>1498</td>\n",
       "      <td>68</td>\n",
       "      <td>2018-10-25</td>\n",
       "      <td>Владикавказ</td>\n",
       "      <td>Всеволод</td>\n",
       "      <td>Акимчин</td>\n",
       "      <td>2018-07-19</td>\n",
       "      <td>smart</td>\n",
       "      <td>50</td>\n",
       "      <td>15360</td>\n",
       "      <td>500</td>\n",
       "      <td>550</td>\n",
       "      <td>200</td>\n",
       "      <td>3</td>\n",
       "      <td>3</td>\n",
       "    </tr>\n",
       "    <tr>\n",
       "      <th>499</th>\n",
       "      <td>499</td>\n",
       "      <td>1499</td>\n",
       "      <td>35</td>\n",
       "      <td>NaT</td>\n",
       "      <td>Пермь</td>\n",
       "      <td>Гектор</td>\n",
       "      <td>Корнилов</td>\n",
       "      <td>2018-09-27</td>\n",
       "      <td>smart</td>\n",
       "      <td>50</td>\n",
       "      <td>15360</td>\n",
       "      <td>500</td>\n",
       "      <td>550</td>\n",
       "      <td>200</td>\n",
       "      <td>3</td>\n",
       "      <td>3</td>\n",
       "    </tr>\n",
       "  </tbody>\n",
       "</table>\n",
       "<p>500 rows × 16 columns</p>\n",
       "</div>"
      ],
      "text/plain": [
       "     index  user_id  age churn_date         city first_name  last_name  \\\n",
       "0        0     1000   52        NaT    Краснодар     Рафаил  Верещагин   \n",
       "1        1     1003   23        NaT       Москва      Белла   Белякова   \n",
       "2        2     1004   68        NaT  Новокузнецк    Татьяна   Авдеенко   \n",
       "3        3     1013   36        NaT      Иваново      Борис  Андреенко   \n",
       "4        4     1016   58        NaT         Омск     Марица   Сазонова   \n",
       "..     ...      ...  ...        ...          ...        ...        ...   \n",
       "495    495     1494   62        NaT         Омск      Ренат   Андропов   \n",
       "496    496     1496   36        NaT      Вологда     Трифон     Блохин   \n",
       "497    497     1497   32        NaT    Челябинск   Каролина     Агеева   \n",
       "498    498     1498   68 2018-10-25  Владикавказ   Всеволод    Акимчин   \n",
       "499    499     1499   35        NaT        Пермь     Гектор   Корнилов   \n",
       "\n",
       "      reg_date tariff  messages_included  mb_per_month_included  \\\n",
       "0   2018-05-25  ultra               1000                  30720   \n",
       "1   2018-08-17  ultra               1000                  30720   \n",
       "2   2018-05-14  ultra               1000                  30720   \n",
       "3   2018-11-14  ultra               1000                  30720   \n",
       "4   2018-11-21  ultra               1000                  30720   \n",
       "..         ...    ...                ...                    ...   \n",
       "495 2018-08-17  smart                 50                  15360   \n",
       "496 2018-01-27  smart                 50                  15360   \n",
       "497 2018-10-09  smart                 50                  15360   \n",
       "498 2018-07-19  smart                 50                  15360   \n",
       "499 2018-09-27  smart                 50                  15360   \n",
       "\n",
       "     minutes_included  rub_monthly_fee  rub_per_gb  rub_per_message  \\\n",
       "0                3000             1950         150                1   \n",
       "1                3000             1950         150                1   \n",
       "2                3000             1950         150                1   \n",
       "3                3000             1950         150                1   \n",
       "4                3000             1950         150                1   \n",
       "..                ...              ...         ...              ...   \n",
       "495               500              550         200                3   \n",
       "496               500              550         200                3   \n",
       "497               500              550         200                3   \n",
       "498               500              550         200                3   \n",
       "499               500              550         200                3   \n",
       "\n",
       "     rub_per_minute  \n",
       "0                 1  \n",
       "1                 1  \n",
       "2                 1  \n",
       "3                 1  \n",
       "4                 1  \n",
       "..              ...  \n",
       "495               3  \n",
       "496               3  \n",
       "497               3  \n",
       "498               3  \n",
       "499               3  \n",
       "\n",
       "[500 rows x 16 columns]"
      ]
     },
     "metadata": {},
     "output_type": "display_data"
    }
   ],
   "source": [
    "tariffs.columns = ['messages_included', 'mb_per_month_included', 'minutes_included', 'rub_monthly_fee', 'rub_per_gb', 'rub_per_message', 'rub_per_minute', 'tariff']\n",
    "users = users.merge(tariffs, on=['tariff'], how='outer')\n",
    "users = users.reset_index()\n",
    "display(users)"
   ]
  },
  {
   "cell_type": "markdown",
   "metadata": {},
   "source": [
    "Сделаем единый датафрейм"
   ]
  },
  {
   "cell_type": "code",
   "execution_count": 47,
   "metadata": {
    "scrolled": true
   },
   "outputs": [
    {
     "data": {
      "text/html": [
       "<div>\n",
       "<style scoped>\n",
       "    .dataframe tbody tr th:only-of-type {\n",
       "        vertical-align: middle;\n",
       "    }\n",
       "\n",
       "    .dataframe tbody tr th {\n",
       "        vertical-align: top;\n",
       "    }\n",
       "\n",
       "    .dataframe thead th {\n",
       "        text-align: right;\n",
       "    }\n",
       "</style>\n",
       "<table border=\"1\" class=\"dataframe\">\n",
       "  <thead>\n",
       "    <tr style=\"text-align: right;\">\n",
       "      <th></th>\n",
       "      <th>user_id</th>\n",
       "      <th>month</th>\n",
       "      <th>count_calls</th>\n",
       "      <th>sum_calls</th>\n",
       "      <th>count_internet</th>\n",
       "      <th>sum_internet</th>\n",
       "      <th>count_messages</th>\n",
       "      <th>index</th>\n",
       "      <th>age</th>\n",
       "      <th>churn_date</th>\n",
       "      <th>...</th>\n",
       "      <th>last_name</th>\n",
       "      <th>reg_date</th>\n",
       "      <th>tariff</th>\n",
       "      <th>messages_included</th>\n",
       "      <th>mb_per_month_included</th>\n",
       "      <th>minutes_included</th>\n",
       "      <th>rub_monthly_fee</th>\n",
       "      <th>rub_per_gb</th>\n",
       "      <th>rub_per_message</th>\n",
       "      <th>rub_per_minute</th>\n",
       "    </tr>\n",
       "  </thead>\n",
       "  <tbody>\n",
       "    <tr>\n",
       "      <th>0</th>\n",
       "      <td>1000</td>\n",
       "      <td>5.0</td>\n",
       "      <td>22.0</td>\n",
       "      <td>159</td>\n",
       "      <td>5</td>\n",
       "      <td>2252</td>\n",
       "      <td>22</td>\n",
       "      <td>0</td>\n",
       "      <td>52</td>\n",
       "      <td>NaT</td>\n",
       "      <td>...</td>\n",
       "      <td>Верещагин</td>\n",
       "      <td>2018-05-25</td>\n",
       "      <td>ultra</td>\n",
       "      <td>1000</td>\n",
       "      <td>30720</td>\n",
       "      <td>3000</td>\n",
       "      <td>1950</td>\n",
       "      <td>150</td>\n",
       "      <td>1</td>\n",
       "      <td>1</td>\n",
       "    </tr>\n",
       "    <tr>\n",
       "      <th>1</th>\n",
       "      <td>1000</td>\n",
       "      <td>6.0</td>\n",
       "      <td>43.0</td>\n",
       "      <td>172</td>\n",
       "      <td>49</td>\n",
       "      <td>23213</td>\n",
       "      <td>60</td>\n",
       "      <td>0</td>\n",
       "      <td>52</td>\n",
       "      <td>NaT</td>\n",
       "      <td>...</td>\n",
       "      <td>Верещагин</td>\n",
       "      <td>2018-05-25</td>\n",
       "      <td>ultra</td>\n",
       "      <td>1000</td>\n",
       "      <td>30720</td>\n",
       "      <td>3000</td>\n",
       "      <td>1950</td>\n",
       "      <td>150</td>\n",
       "      <td>1</td>\n",
       "      <td>1</td>\n",
       "    </tr>\n",
       "    <tr>\n",
       "      <th>2</th>\n",
       "      <td>1000</td>\n",
       "      <td>7.0</td>\n",
       "      <td>47.0</td>\n",
       "      <td>340</td>\n",
       "      <td>29</td>\n",
       "      <td>13988</td>\n",
       "      <td>75</td>\n",
       "      <td>0</td>\n",
       "      <td>52</td>\n",
       "      <td>NaT</td>\n",
       "      <td>...</td>\n",
       "      <td>Верещагин</td>\n",
       "      <td>2018-05-25</td>\n",
       "      <td>ultra</td>\n",
       "      <td>1000</td>\n",
       "      <td>30720</td>\n",
       "      <td>3000</td>\n",
       "      <td>1950</td>\n",
       "      <td>150</td>\n",
       "      <td>1</td>\n",
       "      <td>1</td>\n",
       "    </tr>\n",
       "    <tr>\n",
       "      <th>3</th>\n",
       "      <td>1000</td>\n",
       "      <td>8.0</td>\n",
       "      <td>52.0</td>\n",
       "      <td>408</td>\n",
       "      <td>29</td>\n",
       "      <td>14043</td>\n",
       "      <td>81</td>\n",
       "      <td>0</td>\n",
       "      <td>52</td>\n",
       "      <td>NaT</td>\n",
       "      <td>...</td>\n",
       "      <td>Верещагин</td>\n",
       "      <td>2018-05-25</td>\n",
       "      <td>ultra</td>\n",
       "      <td>1000</td>\n",
       "      <td>30720</td>\n",
       "      <td>3000</td>\n",
       "      <td>1950</td>\n",
       "      <td>150</td>\n",
       "      <td>1</td>\n",
       "      <td>1</td>\n",
       "    </tr>\n",
       "    <tr>\n",
       "      <th>4</th>\n",
       "      <td>1000</td>\n",
       "      <td>9.0</td>\n",
       "      <td>58.0</td>\n",
       "      <td>466</td>\n",
       "      <td>27</td>\n",
       "      <td>14556</td>\n",
       "      <td>57</td>\n",
       "      <td>0</td>\n",
       "      <td>52</td>\n",
       "      <td>NaT</td>\n",
       "      <td>...</td>\n",
       "      <td>Верещагин</td>\n",
       "      <td>2018-05-25</td>\n",
       "      <td>ultra</td>\n",
       "      <td>1000</td>\n",
       "      <td>30720</td>\n",
       "      <td>3000</td>\n",
       "      <td>1950</td>\n",
       "      <td>150</td>\n",
       "      <td>1</td>\n",
       "      <td>1</td>\n",
       "    </tr>\n",
       "    <tr>\n",
       "      <th>...</th>\n",
       "      <td>...</td>\n",
       "      <td>...</td>\n",
       "      <td>...</td>\n",
       "      <td>...</td>\n",
       "      <td>...</td>\n",
       "      <td>...</td>\n",
       "      <td>...</td>\n",
       "      <td>...</td>\n",
       "      <td>...</td>\n",
       "      <td>...</td>\n",
       "      <td>...</td>\n",
       "      <td>...</td>\n",
       "      <td>...</td>\n",
       "      <td>...</td>\n",
       "      <td>...</td>\n",
       "      <td>...</td>\n",
       "      <td>...</td>\n",
       "      <td>...</td>\n",
       "      <td>...</td>\n",
       "      <td>...</td>\n",
       "      <td>...</td>\n",
       "    </tr>\n",
       "    <tr>\n",
       "      <th>3211</th>\n",
       "      <td>1489</td>\n",
       "      <td>10.0</td>\n",
       "      <td>0.0</td>\n",
       "      <td>0</td>\n",
       "      <td>63</td>\n",
       "      <td>19538</td>\n",
       "      <td>21</td>\n",
       "      <td>492</td>\n",
       "      <td>35</td>\n",
       "      <td>NaT</td>\n",
       "      <td>...</td>\n",
       "      <td>Гончаров</td>\n",
       "      <td>2018-08-15</td>\n",
       "      <td>smart</td>\n",
       "      <td>50</td>\n",
       "      <td>15360</td>\n",
       "      <td>500</td>\n",
       "      <td>550</td>\n",
       "      <td>200</td>\n",
       "      <td>3</td>\n",
       "      <td>3</td>\n",
       "    </tr>\n",
       "    <tr>\n",
       "      <th>3212</th>\n",
       "      <td>1489</td>\n",
       "      <td>11.0</td>\n",
       "      <td>0.0</td>\n",
       "      <td>0</td>\n",
       "      <td>55</td>\n",
       "      <td>17471</td>\n",
       "      <td>20</td>\n",
       "      <td>492</td>\n",
       "      <td>35</td>\n",
       "      <td>NaT</td>\n",
       "      <td>...</td>\n",
       "      <td>Гончаров</td>\n",
       "      <td>2018-08-15</td>\n",
       "      <td>smart</td>\n",
       "      <td>50</td>\n",
       "      <td>15360</td>\n",
       "      <td>500</td>\n",
       "      <td>550</td>\n",
       "      <td>200</td>\n",
       "      <td>3</td>\n",
       "      <td>3</td>\n",
       "    </tr>\n",
       "    <tr>\n",
       "      <th>3213</th>\n",
       "      <td>1489</td>\n",
       "      <td>12.0</td>\n",
       "      <td>0.0</td>\n",
       "      <td>0</td>\n",
       "      <td>51</td>\n",
       "      <td>17298</td>\n",
       "      <td>35</td>\n",
       "      <td>492</td>\n",
       "      <td>35</td>\n",
       "      <td>NaT</td>\n",
       "      <td>...</td>\n",
       "      <td>Гончаров</td>\n",
       "      <td>2018-08-15</td>\n",
       "      <td>smart</td>\n",
       "      <td>50</td>\n",
       "      <td>15360</td>\n",
       "      <td>500</td>\n",
       "      <td>550</td>\n",
       "      <td>200</td>\n",
       "      <td>3</td>\n",
       "      <td>3</td>\n",
       "    </tr>\n",
       "    <tr>\n",
       "      <th>3214</th>\n",
       "      <td>1128</td>\n",
       "      <td>NaN</td>\n",
       "      <td>NaN</td>\n",
       "      <td>&lt;NA&gt;</td>\n",
       "      <td>&lt;NA&gt;</td>\n",
       "      <td>&lt;NA&gt;</td>\n",
       "      <td>&lt;NA&gt;</td>\n",
       "      <td>36</td>\n",
       "      <td>51</td>\n",
       "      <td>2018-12-23</td>\n",
       "      <td>...</td>\n",
       "      <td>Агаева</td>\n",
       "      <td>2018-12-15</td>\n",
       "      <td>ultra</td>\n",
       "      <td>1000</td>\n",
       "      <td>30720</td>\n",
       "      <td>3000</td>\n",
       "      <td>1950</td>\n",
       "      <td>150</td>\n",
       "      <td>1</td>\n",
       "      <td>1</td>\n",
       "    </tr>\n",
       "    <tr>\n",
       "      <th>3215</th>\n",
       "      <td>1371</td>\n",
       "      <td>NaN</td>\n",
       "      <td>NaN</td>\n",
       "      <td>&lt;NA&gt;</td>\n",
       "      <td>&lt;NA&gt;</td>\n",
       "      <td>&lt;NA&gt;</td>\n",
       "      <td>&lt;NA&gt;</td>\n",
       "      <td>411</td>\n",
       "      <td>50</td>\n",
       "      <td>2018-12-30</td>\n",
       "      <td>...</td>\n",
       "      <td>Трофимов</td>\n",
       "      <td>2018-12-25</td>\n",
       "      <td>smart</td>\n",
       "      <td>50</td>\n",
       "      <td>15360</td>\n",
       "      <td>500</td>\n",
       "      <td>550</td>\n",
       "      <td>200</td>\n",
       "      <td>3</td>\n",
       "      <td>3</td>\n",
       "    </tr>\n",
       "  </tbody>\n",
       "</table>\n",
       "<p>3216 rows × 22 columns</p>\n",
       "</div>"
      ],
      "text/plain": [
       "      user_id  month  count_calls  sum_calls  count_internet  sum_internet  \\\n",
       "0        1000    5.0         22.0        159               5          2252   \n",
       "1        1000    6.0         43.0        172              49         23213   \n",
       "2        1000    7.0         47.0        340              29         13988   \n",
       "3        1000    8.0         52.0        408              29         14043   \n",
       "4        1000    9.0         58.0        466              27         14556   \n",
       "...       ...    ...          ...        ...             ...           ...   \n",
       "3211     1489   10.0          0.0          0              63         19538   \n",
       "3212     1489   11.0          0.0          0              55         17471   \n",
       "3213     1489   12.0          0.0          0              51         17298   \n",
       "3214     1128    NaN          NaN       <NA>            <NA>          <NA>   \n",
       "3215     1371    NaN          NaN       <NA>            <NA>          <NA>   \n",
       "\n",
       "      count_messages  index  age churn_date  ...  last_name   reg_date tariff  \\\n",
       "0                 22      0   52        NaT  ...  Верещагин 2018-05-25  ultra   \n",
       "1                 60      0   52        NaT  ...  Верещагин 2018-05-25  ultra   \n",
       "2                 75      0   52        NaT  ...  Верещагин 2018-05-25  ultra   \n",
       "3                 81      0   52        NaT  ...  Верещагин 2018-05-25  ultra   \n",
       "4                 57      0   52        NaT  ...  Верещагин 2018-05-25  ultra   \n",
       "...              ...    ...  ...        ...  ...        ...        ...    ...   \n",
       "3211              21    492   35        NaT  ...   Гончаров 2018-08-15  smart   \n",
       "3212              20    492   35        NaT  ...   Гончаров 2018-08-15  smart   \n",
       "3213              35    492   35        NaT  ...   Гончаров 2018-08-15  smart   \n",
       "3214            <NA>     36   51 2018-12-23  ...     Агаева 2018-12-15  ultra   \n",
       "3215            <NA>    411   50 2018-12-30  ...   Трофимов 2018-12-25  smart   \n",
       "\n",
       "     messages_included mb_per_month_included  minutes_included  \\\n",
       "0                 1000                 30720              3000   \n",
       "1                 1000                 30720              3000   \n",
       "2                 1000                 30720              3000   \n",
       "3                 1000                 30720              3000   \n",
       "4                 1000                 30720              3000   \n",
       "...                ...                   ...               ...   \n",
       "3211                50                 15360               500   \n",
       "3212                50                 15360               500   \n",
       "3213                50                 15360               500   \n",
       "3214              1000                 30720              3000   \n",
       "3215                50                 15360               500   \n",
       "\n",
       "      rub_monthly_fee  rub_per_gb  rub_per_message  rub_per_minute  \n",
       "0                1950         150                1               1  \n",
       "1                1950         150                1               1  \n",
       "2                1950         150                1               1  \n",
       "3                1950         150                1               1  \n",
       "4                1950         150                1               1  \n",
       "...               ...         ...              ...             ...  \n",
       "3211              550         200                3               3  \n",
       "3212              550         200                3               3  \n",
       "3213              550         200                3               3  \n",
       "3214             1950         150                1               1  \n",
       "3215              550         200                3               3  \n",
       "\n",
       "[3216 rows x 22 columns]"
      ]
     },
     "metadata": {},
     "output_type": "display_data"
    }
   ],
   "source": [
    "data = data.merge(users, on=['user_id'], how='outer')\n",
    "display(data)"
   ]
  },
  {
   "cell_type": "code",
   "execution_count": 48,
   "metadata": {
    "scrolled": false
   },
   "outputs": [
    {
     "name": "stdout",
     "output_type": "stream",
     "text": [
      "<class 'pandas.core.frame.DataFrame'>\n",
      "Int64Index: 3216 entries, 0 to 3215\n",
      "Data columns (total 22 columns):\n",
      " #   Column                 Non-Null Count  Dtype         \n",
      "---  ------                 --------------  -----         \n",
      " 0   user_id                3216 non-null   int64         \n",
      " 1   month                  3214 non-null   float64       \n",
      " 2   count_calls            3214 non-null   float64       \n",
      " 3   sum_calls              3214 non-null   Int64         \n",
      " 4   count_internet         3214 non-null   Int64         \n",
      " 5   sum_internet           3214 non-null   Int64         \n",
      " 6   count_messages         3214 non-null   Int64         \n",
      " 7   index                  3216 non-null   int64         \n",
      " 8   age                    3216 non-null   int64         \n",
      " 9   churn_date             189 non-null    datetime64[ns]\n",
      " 10  city                   3216 non-null   object        \n",
      " 11  first_name             3216 non-null   object        \n",
      " 12  last_name              3216 non-null   object        \n",
      " 13  reg_date               3216 non-null   datetime64[ns]\n",
      " 14  tariff                 3216 non-null   object        \n",
      " 15  messages_included      3216 non-null   int64         \n",
      " 16  mb_per_month_included  3216 non-null   int64         \n",
      " 17  minutes_included       3216 non-null   int64         \n",
      " 18  rub_monthly_fee        3216 non-null   int64         \n",
      " 19  rub_per_gb             3216 non-null   int64         \n",
      " 20  rub_per_message        3216 non-null   int64         \n",
      " 21  rub_per_minute         3216 non-null   int64         \n",
      "dtypes: Int64(4), datetime64[ns](2), float64(2), int64(10), object(4)\n",
      "memory usage: 590.4+ KB\n"
     ]
    }
   ],
   "source": [
    "data.info()"
   ]
  },
  {
   "cell_type": "code",
   "execution_count": 49,
   "metadata": {
    "scrolled": false
   },
   "outputs": [
    {
     "name": "stdout",
     "output_type": "stream",
     "text": [
      "user_id                     0\n",
      "month                       2\n",
      "count_calls                 2\n",
      "sum_calls                   2\n",
      "count_internet              2\n",
      "sum_internet                2\n",
      "count_messages              2\n",
      "index                       0\n",
      "age                         0\n",
      "churn_date               3027\n",
      "city                        0\n",
      "first_name                  0\n",
      "last_name                   0\n",
      "reg_date                    0\n",
      "tariff                      0\n",
      "messages_included           0\n",
      "mb_per_month_included       0\n",
      "minutes_included            0\n",
      "rub_monthly_fee             0\n",
      "rub_per_gb                  0\n",
      "rub_per_message             0\n",
      "rub_per_minute              0\n",
      "dtype: int64\n"
     ]
    }
   ],
   "source": [
    "number_of_passes = data.isna().sum()\n",
    "print(number_of_passes)"
   ]
  },
  {
   "cell_type": "code",
   "execution_count": 50,
   "metadata": {
    "scrolled": true
   },
   "outputs": [
    {
     "data": {
      "text/html": [
       "<div>\n",
       "<style scoped>\n",
       "    .dataframe tbody tr th:only-of-type {\n",
       "        vertical-align: middle;\n",
       "    }\n",
       "\n",
       "    .dataframe tbody tr th {\n",
       "        vertical-align: top;\n",
       "    }\n",
       "\n",
       "    .dataframe thead th {\n",
       "        text-align: right;\n",
       "    }\n",
       "</style>\n",
       "<table border=\"1\" class=\"dataframe\">\n",
       "  <thead>\n",
       "    <tr style=\"text-align: right;\">\n",
       "      <th></th>\n",
       "      <th>user_id</th>\n",
       "      <th>month</th>\n",
       "      <th>count_calls</th>\n",
       "      <th>sum_calls</th>\n",
       "      <th>count_internet</th>\n",
       "      <th>sum_internet</th>\n",
       "      <th>count_messages</th>\n",
       "      <th>index</th>\n",
       "      <th>age</th>\n",
       "      <th>churn_date</th>\n",
       "      <th>...</th>\n",
       "      <th>last_name</th>\n",
       "      <th>reg_date</th>\n",
       "      <th>tariff</th>\n",
       "      <th>messages_included</th>\n",
       "      <th>mb_per_month_included</th>\n",
       "      <th>minutes_included</th>\n",
       "      <th>rub_monthly_fee</th>\n",
       "      <th>rub_per_gb</th>\n",
       "      <th>rub_per_message</th>\n",
       "      <th>rub_per_minute</th>\n",
       "    </tr>\n",
       "  </thead>\n",
       "  <tbody>\n",
       "    <tr>\n",
       "      <th>0</th>\n",
       "      <td>1000</td>\n",
       "      <td>5.0</td>\n",
       "      <td>22.0</td>\n",
       "      <td>159</td>\n",
       "      <td>5</td>\n",
       "      <td>2252</td>\n",
       "      <td>22</td>\n",
       "      <td>0</td>\n",
       "      <td>52</td>\n",
       "      <td>NaT</td>\n",
       "      <td>...</td>\n",
       "      <td>Верещагин</td>\n",
       "      <td>2018-05-25</td>\n",
       "      <td>ultra</td>\n",
       "      <td>1000</td>\n",
       "      <td>30720</td>\n",
       "      <td>3000</td>\n",
       "      <td>1950</td>\n",
       "      <td>150</td>\n",
       "      <td>1</td>\n",
       "      <td>1</td>\n",
       "    </tr>\n",
       "    <tr>\n",
       "      <th>1</th>\n",
       "      <td>1000</td>\n",
       "      <td>6.0</td>\n",
       "      <td>43.0</td>\n",
       "      <td>172</td>\n",
       "      <td>49</td>\n",
       "      <td>23213</td>\n",
       "      <td>60</td>\n",
       "      <td>0</td>\n",
       "      <td>52</td>\n",
       "      <td>NaT</td>\n",
       "      <td>...</td>\n",
       "      <td>Верещагин</td>\n",
       "      <td>2018-05-25</td>\n",
       "      <td>ultra</td>\n",
       "      <td>1000</td>\n",
       "      <td>30720</td>\n",
       "      <td>3000</td>\n",
       "      <td>1950</td>\n",
       "      <td>150</td>\n",
       "      <td>1</td>\n",
       "      <td>1</td>\n",
       "    </tr>\n",
       "    <tr>\n",
       "      <th>2</th>\n",
       "      <td>1000</td>\n",
       "      <td>7.0</td>\n",
       "      <td>47.0</td>\n",
       "      <td>340</td>\n",
       "      <td>29</td>\n",
       "      <td>13988</td>\n",
       "      <td>75</td>\n",
       "      <td>0</td>\n",
       "      <td>52</td>\n",
       "      <td>NaT</td>\n",
       "      <td>...</td>\n",
       "      <td>Верещагин</td>\n",
       "      <td>2018-05-25</td>\n",
       "      <td>ultra</td>\n",
       "      <td>1000</td>\n",
       "      <td>30720</td>\n",
       "      <td>3000</td>\n",
       "      <td>1950</td>\n",
       "      <td>150</td>\n",
       "      <td>1</td>\n",
       "      <td>1</td>\n",
       "    </tr>\n",
       "    <tr>\n",
       "      <th>3</th>\n",
       "      <td>1000</td>\n",
       "      <td>8.0</td>\n",
       "      <td>52.0</td>\n",
       "      <td>408</td>\n",
       "      <td>29</td>\n",
       "      <td>14043</td>\n",
       "      <td>81</td>\n",
       "      <td>0</td>\n",
       "      <td>52</td>\n",
       "      <td>NaT</td>\n",
       "      <td>...</td>\n",
       "      <td>Верещагин</td>\n",
       "      <td>2018-05-25</td>\n",
       "      <td>ultra</td>\n",
       "      <td>1000</td>\n",
       "      <td>30720</td>\n",
       "      <td>3000</td>\n",
       "      <td>1950</td>\n",
       "      <td>150</td>\n",
       "      <td>1</td>\n",
       "      <td>1</td>\n",
       "    </tr>\n",
       "    <tr>\n",
       "      <th>4</th>\n",
       "      <td>1000</td>\n",
       "      <td>9.0</td>\n",
       "      <td>58.0</td>\n",
       "      <td>466</td>\n",
       "      <td>27</td>\n",
       "      <td>14556</td>\n",
       "      <td>57</td>\n",
       "      <td>0</td>\n",
       "      <td>52</td>\n",
       "      <td>NaT</td>\n",
       "      <td>...</td>\n",
       "      <td>Верещагин</td>\n",
       "      <td>2018-05-25</td>\n",
       "      <td>ultra</td>\n",
       "      <td>1000</td>\n",
       "      <td>30720</td>\n",
       "      <td>3000</td>\n",
       "      <td>1950</td>\n",
       "      <td>150</td>\n",
       "      <td>1</td>\n",
       "      <td>1</td>\n",
       "    </tr>\n",
       "    <tr>\n",
       "      <th>...</th>\n",
       "      <td>...</td>\n",
       "      <td>...</td>\n",
       "      <td>...</td>\n",
       "      <td>...</td>\n",
       "      <td>...</td>\n",
       "      <td>...</td>\n",
       "      <td>...</td>\n",
       "      <td>...</td>\n",
       "      <td>...</td>\n",
       "      <td>...</td>\n",
       "      <td>...</td>\n",
       "      <td>...</td>\n",
       "      <td>...</td>\n",
       "      <td>...</td>\n",
       "      <td>...</td>\n",
       "      <td>...</td>\n",
       "      <td>...</td>\n",
       "      <td>...</td>\n",
       "      <td>...</td>\n",
       "      <td>...</td>\n",
       "      <td>...</td>\n",
       "    </tr>\n",
       "    <tr>\n",
       "      <th>3209</th>\n",
       "      <td>1489</td>\n",
       "      <td>8.0</td>\n",
       "      <td>0.0</td>\n",
       "      <td>0</td>\n",
       "      <td>34</td>\n",
       "      <td>11038</td>\n",
       "      <td>17</td>\n",
       "      <td>492</td>\n",
       "      <td>35</td>\n",
       "      <td>NaT</td>\n",
       "      <td>...</td>\n",
       "      <td>Гончаров</td>\n",
       "      <td>2018-08-15</td>\n",
       "      <td>smart</td>\n",
       "      <td>50</td>\n",
       "      <td>15360</td>\n",
       "      <td>500</td>\n",
       "      <td>550</td>\n",
       "      <td>200</td>\n",
       "      <td>3</td>\n",
       "      <td>3</td>\n",
       "    </tr>\n",
       "    <tr>\n",
       "      <th>3210</th>\n",
       "      <td>1489</td>\n",
       "      <td>9.0</td>\n",
       "      <td>0.0</td>\n",
       "      <td>0</td>\n",
       "      <td>63</td>\n",
       "      <td>17183</td>\n",
       "      <td>32</td>\n",
       "      <td>492</td>\n",
       "      <td>35</td>\n",
       "      <td>NaT</td>\n",
       "      <td>...</td>\n",
       "      <td>Гончаров</td>\n",
       "      <td>2018-08-15</td>\n",
       "      <td>smart</td>\n",
       "      <td>50</td>\n",
       "      <td>15360</td>\n",
       "      <td>500</td>\n",
       "      <td>550</td>\n",
       "      <td>200</td>\n",
       "      <td>3</td>\n",
       "      <td>3</td>\n",
       "    </tr>\n",
       "    <tr>\n",
       "      <th>3211</th>\n",
       "      <td>1489</td>\n",
       "      <td>10.0</td>\n",
       "      <td>0.0</td>\n",
       "      <td>0</td>\n",
       "      <td>63</td>\n",
       "      <td>19538</td>\n",
       "      <td>21</td>\n",
       "      <td>492</td>\n",
       "      <td>35</td>\n",
       "      <td>NaT</td>\n",
       "      <td>...</td>\n",
       "      <td>Гончаров</td>\n",
       "      <td>2018-08-15</td>\n",
       "      <td>smart</td>\n",
       "      <td>50</td>\n",
       "      <td>15360</td>\n",
       "      <td>500</td>\n",
       "      <td>550</td>\n",
       "      <td>200</td>\n",
       "      <td>3</td>\n",
       "      <td>3</td>\n",
       "    </tr>\n",
       "    <tr>\n",
       "      <th>3212</th>\n",
       "      <td>1489</td>\n",
       "      <td>11.0</td>\n",
       "      <td>0.0</td>\n",
       "      <td>0</td>\n",
       "      <td>55</td>\n",
       "      <td>17471</td>\n",
       "      <td>20</td>\n",
       "      <td>492</td>\n",
       "      <td>35</td>\n",
       "      <td>NaT</td>\n",
       "      <td>...</td>\n",
       "      <td>Гончаров</td>\n",
       "      <td>2018-08-15</td>\n",
       "      <td>smart</td>\n",
       "      <td>50</td>\n",
       "      <td>15360</td>\n",
       "      <td>500</td>\n",
       "      <td>550</td>\n",
       "      <td>200</td>\n",
       "      <td>3</td>\n",
       "      <td>3</td>\n",
       "    </tr>\n",
       "    <tr>\n",
       "      <th>3213</th>\n",
       "      <td>1489</td>\n",
       "      <td>12.0</td>\n",
       "      <td>0.0</td>\n",
       "      <td>0</td>\n",
       "      <td>51</td>\n",
       "      <td>17298</td>\n",
       "      <td>35</td>\n",
       "      <td>492</td>\n",
       "      <td>35</td>\n",
       "      <td>NaT</td>\n",
       "      <td>...</td>\n",
       "      <td>Гончаров</td>\n",
       "      <td>2018-08-15</td>\n",
       "      <td>smart</td>\n",
       "      <td>50</td>\n",
       "      <td>15360</td>\n",
       "      <td>500</td>\n",
       "      <td>550</td>\n",
       "      <td>200</td>\n",
       "      <td>3</td>\n",
       "      <td>3</td>\n",
       "    </tr>\n",
       "  </tbody>\n",
       "</table>\n",
       "<p>3214 rows × 22 columns</p>\n",
       "</div>"
      ],
      "text/plain": [
       "      user_id  month  count_calls  sum_calls  count_internet  sum_internet  \\\n",
       "0        1000    5.0         22.0        159               5          2252   \n",
       "1        1000    6.0         43.0        172              49         23213   \n",
       "2        1000    7.0         47.0        340              29         13988   \n",
       "3        1000    8.0         52.0        408              29         14043   \n",
       "4        1000    9.0         58.0        466              27         14556   \n",
       "...       ...    ...          ...        ...             ...           ...   \n",
       "3209     1489    8.0          0.0          0              34         11038   \n",
       "3210     1489    9.0          0.0          0              63         17183   \n",
       "3211     1489   10.0          0.0          0              63         19538   \n",
       "3212     1489   11.0          0.0          0              55         17471   \n",
       "3213     1489   12.0          0.0          0              51         17298   \n",
       "\n",
       "      count_messages  index  age churn_date  ...  last_name   reg_date tariff  \\\n",
       "0                 22      0   52        NaT  ...  Верещагин 2018-05-25  ultra   \n",
       "1                 60      0   52        NaT  ...  Верещагин 2018-05-25  ultra   \n",
       "2                 75      0   52        NaT  ...  Верещагин 2018-05-25  ultra   \n",
       "3                 81      0   52        NaT  ...  Верещагин 2018-05-25  ultra   \n",
       "4                 57      0   52        NaT  ...  Верещагин 2018-05-25  ultra   \n",
       "...              ...    ...  ...        ...  ...        ...        ...    ...   \n",
       "3209              17    492   35        NaT  ...   Гончаров 2018-08-15  smart   \n",
       "3210              32    492   35        NaT  ...   Гончаров 2018-08-15  smart   \n",
       "3211              21    492   35        NaT  ...   Гончаров 2018-08-15  smart   \n",
       "3212              20    492   35        NaT  ...   Гончаров 2018-08-15  smart   \n",
       "3213              35    492   35        NaT  ...   Гончаров 2018-08-15  smart   \n",
       "\n",
       "     messages_included mb_per_month_included  minutes_included  \\\n",
       "0                 1000                 30720              3000   \n",
       "1                 1000                 30720              3000   \n",
       "2                 1000                 30720              3000   \n",
       "3                 1000                 30720              3000   \n",
       "4                 1000                 30720              3000   \n",
       "...                ...                   ...               ...   \n",
       "3209                50                 15360               500   \n",
       "3210                50                 15360               500   \n",
       "3211                50                 15360               500   \n",
       "3212                50                 15360               500   \n",
       "3213                50                 15360               500   \n",
       "\n",
       "      rub_monthly_fee  rub_per_gb  rub_per_message  rub_per_minute  \n",
       "0                1950         150                1               1  \n",
       "1                1950         150                1               1  \n",
       "2                1950         150                1               1  \n",
       "3                1950         150                1               1  \n",
       "4                1950         150                1               1  \n",
       "...               ...         ...              ...             ...  \n",
       "3209              550         200                3               3  \n",
       "3210              550         200                3               3  \n",
       "3211              550         200                3               3  \n",
       "3212              550         200                3               3  \n",
       "3213              550         200                3               3  \n",
       "\n",
       "[3214 rows x 22 columns]"
      ]
     },
     "metadata": {},
     "output_type": "display_data"
    }
   ],
   "source": [
    "data = data.dropna(subset=['sum_calls']) # удалим 2 пустые строки, появившиеся при объединении\n",
    "display(data)"
   ]
  },
  {
   "cell_type": "markdown",
   "metadata": {},
   "source": [
    "Почтитаем помесячную выручку с каждого пользователя\n",
    "Выручка это абонентская плата + стоимость перерасходов\n",
    "Стоимость перерасходов это стоимость минут сверх лимита + стоимость смс сверх лимита + стоимость интернета сверх лимита\n",
    "В случае если абонент не расходовал сверх лимита, выручка = абонентская плата\n",
    "для остальных случаев - необходимо прибавить к абонентской плате стоимость перерасходов\n",
    "Стоимость перерасходов:\n",
    "для звонков -  дельта sum_calls и minutes_included * тариф за минуту rub_per_minute \n",
    "для смс - дельта count_messages и messages_included  * тариф за смс rub_per_message\n",
    "для интернета - дельта sum_internet и mb_per_month_included  переведенная в Гби округленная вверх до целого числа * на тариф за Гб rub_per_gb  \n",
    "Реализовуем это в коде с помощью функции:"
   ]
  },
  {
   "cell_type": "code",
   "execution_count": 51,
   "metadata": {},
   "outputs": [],
   "source": [
    "def income_count(data):\n",
    "    '''\n",
    "    Функция для расчета выручки\n",
    "    \n",
    "    '''\n",
    "    user = data['user_id']\n",
    "    delta_calls = data['sum_calls'] - data['minutes_included']\n",
    "    delta_internet = data['sum_internet'] - data['mb_per_month_included']\n",
    "    delta_messages = data['count_messages'] - data['messages_included']\n",
    "    if delta_calls <= 0 and delta_internet <= 0 and delta_messages <= 0:\n",
    "        return data['rub_monthly_fee']\n",
    "    else:\n",
    "        call = 0\n",
    "        inet = 0\n",
    "        mess = 0\n",
    "        if delta_calls > 0:\n",
    "            call = delta_calls * data['rub_per_minute']\n",
    "        if delta_internet > 0:\n",
    "            inet = (np.ceil(delta_internet / 1024)) * data['rub_per_gb']\n",
    "        if delta_messages > 0:\n",
    "            mess = delta_messages * data['rub_per_message']\n",
    "        return data['rub_monthly_fee'] + call + inet + mess"
   ]
  },
  {
   "cell_type": "code",
   "execution_count": 52,
   "metadata": {},
   "outputs": [
    {
     "data": {
      "text/html": [
       "<div>\n",
       "<style scoped>\n",
       "    .dataframe tbody tr th:only-of-type {\n",
       "        vertical-align: middle;\n",
       "    }\n",
       "\n",
       "    .dataframe tbody tr th {\n",
       "        vertical-align: top;\n",
       "    }\n",
       "\n",
       "    .dataframe thead th {\n",
       "        text-align: right;\n",
       "    }\n",
       "</style>\n",
       "<table border=\"1\" class=\"dataframe\">\n",
       "  <thead>\n",
       "    <tr style=\"text-align: right;\">\n",
       "      <th></th>\n",
       "      <th>user_id</th>\n",
       "      <th>month</th>\n",
       "      <th>count_calls</th>\n",
       "      <th>sum_calls</th>\n",
       "      <th>count_internet</th>\n",
       "      <th>sum_internet</th>\n",
       "      <th>count_messages</th>\n",
       "      <th>index</th>\n",
       "      <th>age</th>\n",
       "      <th>churn_date</th>\n",
       "      <th>...</th>\n",
       "      <th>reg_date</th>\n",
       "      <th>tariff</th>\n",
       "      <th>messages_included</th>\n",
       "      <th>mb_per_month_included</th>\n",
       "      <th>minutes_included</th>\n",
       "      <th>rub_monthly_fee</th>\n",
       "      <th>rub_per_gb</th>\n",
       "      <th>rub_per_message</th>\n",
       "      <th>rub_per_minute</th>\n",
       "      <th>income</th>\n",
       "    </tr>\n",
       "  </thead>\n",
       "  <tbody>\n",
       "    <tr>\n",
       "      <th>0</th>\n",
       "      <td>1000</td>\n",
       "      <td>5.0</td>\n",
       "      <td>22.0</td>\n",
       "      <td>159</td>\n",
       "      <td>5</td>\n",
       "      <td>2252</td>\n",
       "      <td>22</td>\n",
       "      <td>0</td>\n",
       "      <td>52</td>\n",
       "      <td>NaT</td>\n",
       "      <td>...</td>\n",
       "      <td>2018-05-25</td>\n",
       "      <td>ultra</td>\n",
       "      <td>1000</td>\n",
       "      <td>30720</td>\n",
       "      <td>3000</td>\n",
       "      <td>1950</td>\n",
       "      <td>150</td>\n",
       "      <td>1</td>\n",
       "      <td>1</td>\n",
       "      <td>1950</td>\n",
       "    </tr>\n",
       "    <tr>\n",
       "      <th>1</th>\n",
       "      <td>1000</td>\n",
       "      <td>6.0</td>\n",
       "      <td>43.0</td>\n",
       "      <td>172</td>\n",
       "      <td>49</td>\n",
       "      <td>23213</td>\n",
       "      <td>60</td>\n",
       "      <td>0</td>\n",
       "      <td>52</td>\n",
       "      <td>NaT</td>\n",
       "      <td>...</td>\n",
       "      <td>2018-05-25</td>\n",
       "      <td>ultra</td>\n",
       "      <td>1000</td>\n",
       "      <td>30720</td>\n",
       "      <td>3000</td>\n",
       "      <td>1950</td>\n",
       "      <td>150</td>\n",
       "      <td>1</td>\n",
       "      <td>1</td>\n",
       "      <td>1950</td>\n",
       "    </tr>\n",
       "    <tr>\n",
       "      <th>2</th>\n",
       "      <td>1000</td>\n",
       "      <td>7.0</td>\n",
       "      <td>47.0</td>\n",
       "      <td>340</td>\n",
       "      <td>29</td>\n",
       "      <td>13988</td>\n",
       "      <td>75</td>\n",
       "      <td>0</td>\n",
       "      <td>52</td>\n",
       "      <td>NaT</td>\n",
       "      <td>...</td>\n",
       "      <td>2018-05-25</td>\n",
       "      <td>ultra</td>\n",
       "      <td>1000</td>\n",
       "      <td>30720</td>\n",
       "      <td>3000</td>\n",
       "      <td>1950</td>\n",
       "      <td>150</td>\n",
       "      <td>1</td>\n",
       "      <td>1</td>\n",
       "      <td>1950</td>\n",
       "    </tr>\n",
       "    <tr>\n",
       "      <th>3</th>\n",
       "      <td>1000</td>\n",
       "      <td>8.0</td>\n",
       "      <td>52.0</td>\n",
       "      <td>408</td>\n",
       "      <td>29</td>\n",
       "      <td>14043</td>\n",
       "      <td>81</td>\n",
       "      <td>0</td>\n",
       "      <td>52</td>\n",
       "      <td>NaT</td>\n",
       "      <td>...</td>\n",
       "      <td>2018-05-25</td>\n",
       "      <td>ultra</td>\n",
       "      <td>1000</td>\n",
       "      <td>30720</td>\n",
       "      <td>3000</td>\n",
       "      <td>1950</td>\n",
       "      <td>150</td>\n",
       "      <td>1</td>\n",
       "      <td>1</td>\n",
       "      <td>1950</td>\n",
       "    </tr>\n",
       "    <tr>\n",
       "      <th>4</th>\n",
       "      <td>1000</td>\n",
       "      <td>9.0</td>\n",
       "      <td>58.0</td>\n",
       "      <td>466</td>\n",
       "      <td>27</td>\n",
       "      <td>14556</td>\n",
       "      <td>57</td>\n",
       "      <td>0</td>\n",
       "      <td>52</td>\n",
       "      <td>NaT</td>\n",
       "      <td>...</td>\n",
       "      <td>2018-05-25</td>\n",
       "      <td>ultra</td>\n",
       "      <td>1000</td>\n",
       "      <td>30720</td>\n",
       "      <td>3000</td>\n",
       "      <td>1950</td>\n",
       "      <td>150</td>\n",
       "      <td>1</td>\n",
       "      <td>1</td>\n",
       "      <td>1950</td>\n",
       "    </tr>\n",
       "    <tr>\n",
       "      <th>5</th>\n",
       "      <td>1000</td>\n",
       "      <td>10.0</td>\n",
       "      <td>57.0</td>\n",
       "      <td>350</td>\n",
       "      <td>27</td>\n",
       "      <td>14690</td>\n",
       "      <td>73</td>\n",
       "      <td>0</td>\n",
       "      <td>52</td>\n",
       "      <td>NaT</td>\n",
       "      <td>...</td>\n",
       "      <td>2018-05-25</td>\n",
       "      <td>ultra</td>\n",
       "      <td>1000</td>\n",
       "      <td>30720</td>\n",
       "      <td>3000</td>\n",
       "      <td>1950</td>\n",
       "      <td>150</td>\n",
       "      <td>1</td>\n",
       "      <td>1</td>\n",
       "      <td>1950</td>\n",
       "    </tr>\n",
       "    <tr>\n",
       "      <th>6</th>\n",
       "      <td>1000</td>\n",
       "      <td>11.0</td>\n",
       "      <td>43.0</td>\n",
       "      <td>338</td>\n",
       "      <td>24</td>\n",
       "      <td>14745</td>\n",
       "      <td>58</td>\n",
       "      <td>0</td>\n",
       "      <td>52</td>\n",
       "      <td>NaT</td>\n",
       "      <td>...</td>\n",
       "      <td>2018-05-25</td>\n",
       "      <td>ultra</td>\n",
       "      <td>1000</td>\n",
       "      <td>30720</td>\n",
       "      <td>3000</td>\n",
       "      <td>1950</td>\n",
       "      <td>150</td>\n",
       "      <td>1</td>\n",
       "      <td>1</td>\n",
       "      <td>1950</td>\n",
       "    </tr>\n",
       "    <tr>\n",
       "      <th>7</th>\n",
       "      <td>1000</td>\n",
       "      <td>12.0</td>\n",
       "      <td>46.0</td>\n",
       "      <td>333</td>\n",
       "      <td>21</td>\n",
       "      <td>9808</td>\n",
       "      <td>70</td>\n",
       "      <td>0</td>\n",
       "      <td>52</td>\n",
       "      <td>NaT</td>\n",
       "      <td>...</td>\n",
       "      <td>2018-05-25</td>\n",
       "      <td>ultra</td>\n",
       "      <td>1000</td>\n",
       "      <td>30720</td>\n",
       "      <td>3000</td>\n",
       "      <td>1950</td>\n",
       "      <td>150</td>\n",
       "      <td>1</td>\n",
       "      <td>1</td>\n",
       "      <td>1950</td>\n",
       "    </tr>\n",
       "    <tr>\n",
       "      <th>8</th>\n",
       "      <td>1001</td>\n",
       "      <td>11.0</td>\n",
       "      <td>59.0</td>\n",
       "      <td>430</td>\n",
       "      <td>55</td>\n",
       "      <td>18405</td>\n",
       "      <td>0</td>\n",
       "      <td>149</td>\n",
       "      <td>41</td>\n",
       "      <td>NaT</td>\n",
       "      <td>...</td>\n",
       "      <td>2018-11-01</td>\n",
       "      <td>smart</td>\n",
       "      <td>50</td>\n",
       "      <td>15360</td>\n",
       "      <td>500</td>\n",
       "      <td>550</td>\n",
       "      <td>200</td>\n",
       "      <td>3</td>\n",
       "      <td>3</td>\n",
       "      <td>1150</td>\n",
       "    </tr>\n",
       "    <tr>\n",
       "      <th>9</th>\n",
       "      <td>1001</td>\n",
       "      <td>12.0</td>\n",
       "      <td>63.0</td>\n",
       "      <td>414</td>\n",
       "      <td>41</td>\n",
       "      <td>14018</td>\n",
       "      <td>0</td>\n",
       "      <td>149</td>\n",
       "      <td>41</td>\n",
       "      <td>NaT</td>\n",
       "      <td>...</td>\n",
       "      <td>2018-11-01</td>\n",
       "      <td>smart</td>\n",
       "      <td>50</td>\n",
       "      <td>15360</td>\n",
       "      <td>500</td>\n",
       "      <td>550</td>\n",
       "      <td>200</td>\n",
       "      <td>3</td>\n",
       "      <td>3</td>\n",
       "      <td>550</td>\n",
       "    </tr>\n",
       "    <tr>\n",
       "      <th>10</th>\n",
       "      <td>1002</td>\n",
       "      <td>6.0</td>\n",
       "      <td>15.0</td>\n",
       "      <td>117</td>\n",
       "      <td>34</td>\n",
       "      <td>10844</td>\n",
       "      <td>4</td>\n",
       "      <td>150</td>\n",
       "      <td>59</td>\n",
       "      <td>NaT</td>\n",
       "      <td>...</td>\n",
       "      <td>2018-06-17</td>\n",
       "      <td>smart</td>\n",
       "      <td>50</td>\n",
       "      <td>15360</td>\n",
       "      <td>500</td>\n",
       "      <td>550</td>\n",
       "      <td>200</td>\n",
       "      <td>3</td>\n",
       "      <td>3</td>\n",
       "      <td>550</td>\n",
       "    </tr>\n",
       "    <tr>\n",
       "      <th>11</th>\n",
       "      <td>1002</td>\n",
       "      <td>7.0</td>\n",
       "      <td>26.0</td>\n",
       "      <td>214</td>\n",
       "      <td>58</td>\n",
       "      <td>17557</td>\n",
       "      <td>11</td>\n",
       "      <td>150</td>\n",
       "      <td>59</td>\n",
       "      <td>NaT</td>\n",
       "      <td>...</td>\n",
       "      <td>2018-06-17</td>\n",
       "      <td>smart</td>\n",
       "      <td>50</td>\n",
       "      <td>15360</td>\n",
       "      <td>500</td>\n",
       "      <td>550</td>\n",
       "      <td>200</td>\n",
       "      <td>3</td>\n",
       "      <td>3</td>\n",
       "      <td>1150</td>\n",
       "    </tr>\n",
       "    <tr>\n",
       "      <th>12</th>\n",
       "      <td>1002</td>\n",
       "      <td>8.0</td>\n",
       "      <td>42.0</td>\n",
       "      <td>289</td>\n",
       "      <td>60</td>\n",
       "      <td>20298</td>\n",
       "      <td>13</td>\n",
       "      <td>150</td>\n",
       "      <td>59</td>\n",
       "      <td>NaT</td>\n",
       "      <td>...</td>\n",
       "      <td>2018-06-17</td>\n",
       "      <td>smart</td>\n",
       "      <td>50</td>\n",
       "      <td>15360</td>\n",
       "      <td>500</td>\n",
       "      <td>550</td>\n",
       "      <td>200</td>\n",
       "      <td>3</td>\n",
       "      <td>3</td>\n",
       "      <td>1550</td>\n",
       "    </tr>\n",
       "    <tr>\n",
       "      <th>13</th>\n",
       "      <td>1002</td>\n",
       "      <td>9.0</td>\n",
       "      <td>36.0</td>\n",
       "      <td>206</td>\n",
       "      <td>56</td>\n",
       "      <td>16669</td>\n",
       "      <td>4</td>\n",
       "      <td>150</td>\n",
       "      <td>59</td>\n",
       "      <td>NaT</td>\n",
       "      <td>...</td>\n",
       "      <td>2018-06-17</td>\n",
       "      <td>smart</td>\n",
       "      <td>50</td>\n",
       "      <td>15360</td>\n",
       "      <td>500</td>\n",
       "      <td>550</td>\n",
       "      <td>200</td>\n",
       "      <td>3</td>\n",
       "      <td>3</td>\n",
       "      <td>950</td>\n",
       "    </tr>\n",
       "    <tr>\n",
       "      <th>14</th>\n",
       "      <td>1002</td>\n",
       "      <td>10.0</td>\n",
       "      <td>33.0</td>\n",
       "      <td>212</td>\n",
       "      <td>44</td>\n",
       "      <td>13869</td>\n",
       "      <td>10</td>\n",
       "      <td>150</td>\n",
       "      <td>59</td>\n",
       "      <td>NaT</td>\n",
       "      <td>...</td>\n",
       "      <td>2018-06-17</td>\n",
       "      <td>smart</td>\n",
       "      <td>50</td>\n",
       "      <td>15360</td>\n",
       "      <td>500</td>\n",
       "      <td>550</td>\n",
       "      <td>200</td>\n",
       "      <td>3</td>\n",
       "      <td>3</td>\n",
       "      <td>550</td>\n",
       "    </tr>\n",
       "    <tr>\n",
       "      <th>15</th>\n",
       "      <td>1002</td>\n",
       "      <td>11.0</td>\n",
       "      <td>32.0</td>\n",
       "      <td>243</td>\n",
       "      <td>55</td>\n",
       "      <td>18566</td>\n",
       "      <td>16</td>\n",
       "      <td>150</td>\n",
       "      <td>59</td>\n",
       "      <td>NaT</td>\n",
       "      <td>...</td>\n",
       "      <td>2018-06-17</td>\n",
       "      <td>smart</td>\n",
       "      <td>50</td>\n",
       "      <td>15360</td>\n",
       "      <td>500</td>\n",
       "      <td>550</td>\n",
       "      <td>200</td>\n",
       "      <td>3</td>\n",
       "      <td>3</td>\n",
       "      <td>1350</td>\n",
       "    </tr>\n",
       "    <tr>\n",
       "      <th>16</th>\n",
       "      <td>1002</td>\n",
       "      <td>12.0</td>\n",
       "      <td>33.0</td>\n",
       "      <td>236</td>\n",
       "      <td>62</td>\n",
       "      <td>18087</td>\n",
       "      <td>12</td>\n",
       "      <td>150</td>\n",
       "      <td>59</td>\n",
       "      <td>NaT</td>\n",
       "      <td>...</td>\n",
       "      <td>2018-06-17</td>\n",
       "      <td>smart</td>\n",
       "      <td>50</td>\n",
       "      <td>15360</td>\n",
       "      <td>500</td>\n",
       "      <td>550</td>\n",
       "      <td>200</td>\n",
       "      <td>3</td>\n",
       "      <td>3</td>\n",
       "      <td>1150</td>\n",
       "    </tr>\n",
       "    <tr>\n",
       "      <th>17</th>\n",
       "      <td>1003</td>\n",
       "      <td>8.0</td>\n",
       "      <td>55.0</td>\n",
       "      <td>380</td>\n",
       "      <td>15</td>\n",
       "      <td>8557</td>\n",
       "      <td>37</td>\n",
       "      <td>1</td>\n",
       "      <td>23</td>\n",
       "      <td>NaT</td>\n",
       "      <td>...</td>\n",
       "      <td>2018-08-17</td>\n",
       "      <td>ultra</td>\n",
       "      <td>1000</td>\n",
       "      <td>30720</td>\n",
       "      <td>3000</td>\n",
       "      <td>1950</td>\n",
       "      <td>150</td>\n",
       "      <td>1</td>\n",
       "      <td>1</td>\n",
       "      <td>1950</td>\n",
       "    </tr>\n",
       "    <tr>\n",
       "      <th>18</th>\n",
       "      <td>1003</td>\n",
       "      <td>9.0</td>\n",
       "      <td>134.0</td>\n",
       "      <td>961</td>\n",
       "      <td>22</td>\n",
       "      <td>12457</td>\n",
       "      <td>91</td>\n",
       "      <td>1</td>\n",
       "      <td>23</td>\n",
       "      <td>NaT</td>\n",
       "      <td>...</td>\n",
       "      <td>2018-08-17</td>\n",
       "      <td>ultra</td>\n",
       "      <td>1000</td>\n",
       "      <td>30720</td>\n",
       "      <td>3000</td>\n",
       "      <td>1950</td>\n",
       "      <td>150</td>\n",
       "      <td>1</td>\n",
       "      <td>1</td>\n",
       "      <td>1950</td>\n",
       "    </tr>\n",
       "    <tr>\n",
       "      <th>19</th>\n",
       "      <td>1003</td>\n",
       "      <td>10.0</td>\n",
       "      <td>108.0</td>\n",
       "      <td>855</td>\n",
       "      <td>25</td>\n",
       "      <td>14754</td>\n",
       "      <td>83</td>\n",
       "      <td>1</td>\n",
       "      <td>23</td>\n",
       "      <td>NaT</td>\n",
       "      <td>...</td>\n",
       "      <td>2018-08-17</td>\n",
       "      <td>ultra</td>\n",
       "      <td>1000</td>\n",
       "      <td>30720</td>\n",
       "      <td>3000</td>\n",
       "      <td>1950</td>\n",
       "      <td>150</td>\n",
       "      <td>1</td>\n",
       "      <td>1</td>\n",
       "      <td>1950</td>\n",
       "    </tr>\n",
       "    <tr>\n",
       "      <th>20</th>\n",
       "      <td>1003</td>\n",
       "      <td>11.0</td>\n",
       "      <td>115.0</td>\n",
       "      <td>824</td>\n",
       "      <td>21</td>\n",
       "      <td>11348</td>\n",
       "      <td>94</td>\n",
       "      <td>1</td>\n",
       "      <td>23</td>\n",
       "      <td>NaT</td>\n",
       "      <td>...</td>\n",
       "      <td>2018-08-17</td>\n",
       "      <td>ultra</td>\n",
       "      <td>1000</td>\n",
       "      <td>30720</td>\n",
       "      <td>3000</td>\n",
       "      <td>1950</td>\n",
       "      <td>150</td>\n",
       "      <td>1</td>\n",
       "      <td>1</td>\n",
       "      <td>1950</td>\n",
       "    </tr>\n",
       "    <tr>\n",
       "      <th>21</th>\n",
       "      <td>1003</td>\n",
       "      <td>12.0</td>\n",
       "      <td>108.0</td>\n",
       "      <td>802</td>\n",
       "      <td>21</td>\n",
       "      <td>10111</td>\n",
       "      <td>75</td>\n",
       "      <td>1</td>\n",
       "      <td>23</td>\n",
       "      <td>NaT</td>\n",
       "      <td>...</td>\n",
       "      <td>2018-08-17</td>\n",
       "      <td>ultra</td>\n",
       "      <td>1000</td>\n",
       "      <td>30720</td>\n",
       "      <td>3000</td>\n",
       "      <td>1950</td>\n",
       "      <td>150</td>\n",
       "      <td>1</td>\n",
       "      <td>1</td>\n",
       "      <td>1950</td>\n",
       "    </tr>\n",
       "    <tr>\n",
       "      <th>22</th>\n",
       "      <td>1004</td>\n",
       "      <td>5.0</td>\n",
       "      <td>9.0</td>\n",
       "      <td>35</td>\n",
       "      <td>24</td>\n",
       "      <td>13392</td>\n",
       "      <td>95</td>\n",
       "      <td>2</td>\n",
       "      <td>68</td>\n",
       "      <td>NaT</td>\n",
       "      <td>...</td>\n",
       "      <td>2018-05-14</td>\n",
       "      <td>ultra</td>\n",
       "      <td>1000</td>\n",
       "      <td>30720</td>\n",
       "      <td>3000</td>\n",
       "      <td>1950</td>\n",
       "      <td>150</td>\n",
       "      <td>1</td>\n",
       "      <td>1</td>\n",
       "      <td>1950</td>\n",
       "    </tr>\n",
       "    <tr>\n",
       "      <th>23</th>\n",
       "      <td>1004</td>\n",
       "      <td>6.0</td>\n",
       "      <td>31.0</td>\n",
       "      <td>171</td>\n",
       "      <td>35</td>\n",
       "      <td>17586</td>\n",
       "      <td>134</td>\n",
       "      <td>2</td>\n",
       "      <td>68</td>\n",
       "      <td>NaT</td>\n",
       "      <td>...</td>\n",
       "      <td>2018-05-14</td>\n",
       "      <td>ultra</td>\n",
       "      <td>1000</td>\n",
       "      <td>30720</td>\n",
       "      <td>3000</td>\n",
       "      <td>1950</td>\n",
       "      <td>150</td>\n",
       "      <td>1</td>\n",
       "      <td>1</td>\n",
       "      <td>1950</td>\n",
       "    </tr>\n",
       "    <tr>\n",
       "      <th>24</th>\n",
       "      <td>1004</td>\n",
       "      <td>7.0</td>\n",
       "      <td>22.0</td>\n",
       "      <td>135</td>\n",
       "      <td>35</td>\n",
       "      <td>22211</td>\n",
       "      <td>181</td>\n",
       "      <td>2</td>\n",
       "      <td>68</td>\n",
       "      <td>NaT</td>\n",
       "      <td>...</td>\n",
       "      <td>2018-05-14</td>\n",
       "      <td>ultra</td>\n",
       "      <td>1000</td>\n",
       "      <td>30720</td>\n",
       "      <td>3000</td>\n",
       "      <td>1950</td>\n",
       "      <td>150</td>\n",
       "      <td>1</td>\n",
       "      <td>1</td>\n",
       "      <td>1950</td>\n",
       "    </tr>\n",
       "    <tr>\n",
       "      <th>25</th>\n",
       "      <td>1004</td>\n",
       "      <td>8.0</td>\n",
       "      <td>19.0</td>\n",
       "      <td>137</td>\n",
       "      <td>52</td>\n",
       "      <td>28558</td>\n",
       "      <td>151</td>\n",
       "      <td>2</td>\n",
       "      <td>68</td>\n",
       "      <td>NaT</td>\n",
       "      <td>...</td>\n",
       "      <td>2018-05-14</td>\n",
       "      <td>ultra</td>\n",
       "      <td>1000</td>\n",
       "      <td>30720</td>\n",
       "      <td>3000</td>\n",
       "      <td>1950</td>\n",
       "      <td>150</td>\n",
       "      <td>1</td>\n",
       "      <td>1</td>\n",
       "      <td>1950</td>\n",
       "    </tr>\n",
       "    <tr>\n",
       "      <th>26</th>\n",
       "      <td>1004</td>\n",
       "      <td>9.0</td>\n",
       "      <td>26.0</td>\n",
       "      <td>117</td>\n",
       "      <td>37</td>\n",
       "      <td>15093</td>\n",
       "      <td>146</td>\n",
       "      <td>2</td>\n",
       "      <td>68</td>\n",
       "      <td>NaT</td>\n",
       "      <td>...</td>\n",
       "      <td>2018-05-14</td>\n",
       "      <td>ultra</td>\n",
       "      <td>1000</td>\n",
       "      <td>30720</td>\n",
       "      <td>3000</td>\n",
       "      <td>1950</td>\n",
       "      <td>150</td>\n",
       "      <td>1</td>\n",
       "      <td>1</td>\n",
       "      <td>1950</td>\n",
       "    </tr>\n",
       "    <tr>\n",
       "      <th>27</th>\n",
       "      <td>1004</td>\n",
       "      <td>10.0</td>\n",
       "      <td>29.0</td>\n",
       "      <td>145</td>\n",
       "      <td>41</td>\n",
       "      <td>18457</td>\n",
       "      <td>165</td>\n",
       "      <td>2</td>\n",
       "      <td>68</td>\n",
       "      <td>NaT</td>\n",
       "      <td>...</td>\n",
       "      <td>2018-05-14</td>\n",
       "      <td>ultra</td>\n",
       "      <td>1000</td>\n",
       "      <td>30720</td>\n",
       "      <td>3000</td>\n",
       "      <td>1950</td>\n",
       "      <td>150</td>\n",
       "      <td>1</td>\n",
       "      <td>1</td>\n",
       "      <td>1950</td>\n",
       "    </tr>\n",
       "    <tr>\n",
       "      <th>28</th>\n",
       "      <td>1004</td>\n",
       "      <td>11.0</td>\n",
       "      <td>19.0</td>\n",
       "      <td>117</td>\n",
       "      <td>36</td>\n",
       "      <td>15598</td>\n",
       "      <td>158</td>\n",
       "      <td>2</td>\n",
       "      <td>68</td>\n",
       "      <td>NaT</td>\n",
       "      <td>...</td>\n",
       "      <td>2018-05-14</td>\n",
       "      <td>ultra</td>\n",
       "      <td>1000</td>\n",
       "      <td>30720</td>\n",
       "      <td>3000</td>\n",
       "      <td>1950</td>\n",
       "      <td>150</td>\n",
       "      <td>1</td>\n",
       "      <td>1</td>\n",
       "      <td>1950</td>\n",
       "    </tr>\n",
       "    <tr>\n",
       "      <th>29</th>\n",
       "      <td>1004</td>\n",
       "      <td>12.0</td>\n",
       "      <td>21.0</td>\n",
       "      <td>130</td>\n",
       "      <td>40</td>\n",
       "      <td>18002</td>\n",
       "      <td>162</td>\n",
       "      <td>2</td>\n",
       "      <td>68</td>\n",
       "      <td>NaT</td>\n",
       "      <td>...</td>\n",
       "      <td>2018-05-14</td>\n",
       "      <td>ultra</td>\n",
       "      <td>1000</td>\n",
       "      <td>30720</td>\n",
       "      <td>3000</td>\n",
       "      <td>1950</td>\n",
       "      <td>150</td>\n",
       "      <td>1</td>\n",
       "      <td>1</td>\n",
       "      <td>1950</td>\n",
       "    </tr>\n",
       "    <tr>\n",
       "      <th>30</th>\n",
       "      <td>1005</td>\n",
       "      <td>1.0</td>\n",
       "      <td>15.0</td>\n",
       "      <td>95</td>\n",
       "      <td>6</td>\n",
       "      <td>2724</td>\n",
       "      <td>7</td>\n",
       "      <td>151</td>\n",
       "      <td>67</td>\n",
       "      <td>NaT</td>\n",
       "      <td>...</td>\n",
       "      <td>2018-01-25</td>\n",
       "      <td>smart</td>\n",
       "      <td>50</td>\n",
       "      <td>15360</td>\n",
       "      <td>500</td>\n",
       "      <td>550</td>\n",
       "      <td>200</td>\n",
       "      <td>3</td>\n",
       "      <td>3</td>\n",
       "      <td>550</td>\n",
       "    </tr>\n",
       "    <tr>\n",
       "      <th>31</th>\n",
       "      <td>1005</td>\n",
       "      <td>2.0</td>\n",
       "      <td>69.0</td>\n",
       "      <td>456</td>\n",
       "      <td>24</td>\n",
       "      <td>7372</td>\n",
       "      <td>38</td>\n",
       "      <td>151</td>\n",
       "      <td>67</td>\n",
       "      <td>NaT</td>\n",
       "      <td>...</td>\n",
       "      <td>2018-01-25</td>\n",
       "      <td>smart</td>\n",
       "      <td>50</td>\n",
       "      <td>15360</td>\n",
       "      <td>500</td>\n",
       "      <td>550</td>\n",
       "      <td>200</td>\n",
       "      <td>3</td>\n",
       "      <td>3</td>\n",
       "      <td>550</td>\n",
       "    </tr>\n",
       "    <tr>\n",
       "      <th>32</th>\n",
       "      <td>1005</td>\n",
       "      <td>3.0</td>\n",
       "      <td>77.0</td>\n",
       "      <td>606</td>\n",
       "      <td>28</td>\n",
       "      <td>11092</td>\n",
       "      <td>56</td>\n",
       "      <td>151</td>\n",
       "      <td>67</td>\n",
       "      <td>NaT</td>\n",
       "      <td>...</td>\n",
       "      <td>2018-01-25</td>\n",
       "      <td>smart</td>\n",
       "      <td>50</td>\n",
       "      <td>15360</td>\n",
       "      <td>500</td>\n",
       "      <td>550</td>\n",
       "      <td>200</td>\n",
       "      <td>3</td>\n",
       "      <td>3</td>\n",
       "      <td>886</td>\n",
       "    </tr>\n",
       "    <tr>\n",
       "      <th>33</th>\n",
       "      <td>1005</td>\n",
       "      <td>4.0</td>\n",
       "      <td>101.0</td>\n",
       "      <td>712</td>\n",
       "      <td>30</td>\n",
       "      <td>9341</td>\n",
       "      <td>41</td>\n",
       "      <td>151</td>\n",
       "      <td>67</td>\n",
       "      <td>NaT</td>\n",
       "      <td>...</td>\n",
       "      <td>2018-01-25</td>\n",
       "      <td>smart</td>\n",
       "      <td>50</td>\n",
       "      <td>15360</td>\n",
       "      <td>500</td>\n",
       "      <td>550</td>\n",
       "      <td>200</td>\n",
       "      <td>3</td>\n",
       "      <td>3</td>\n",
       "      <td>1186</td>\n",
       "    </tr>\n",
       "    <tr>\n",
       "      <th>34</th>\n",
       "      <td>1005</td>\n",
       "      <td>5.0</td>\n",
       "      <td>73.0</td>\n",
       "      <td>595</td>\n",
       "      <td>25</td>\n",
       "      <td>7857</td>\n",
       "      <td>42</td>\n",
       "      <td>151</td>\n",
       "      <td>67</td>\n",
       "      <td>NaT</td>\n",
       "      <td>...</td>\n",
       "      <td>2018-01-25</td>\n",
       "      <td>smart</td>\n",
       "      <td>50</td>\n",
       "      <td>15360</td>\n",
       "      <td>500</td>\n",
       "      <td>550</td>\n",
       "      <td>200</td>\n",
       "      <td>3</td>\n",
       "      <td>3</td>\n",
       "      <td>835</td>\n",
       "    </tr>\n",
       "    <tr>\n",
       "      <th>35</th>\n",
       "      <td>1005</td>\n",
       "      <td>6.0</td>\n",
       "      <td>80.0</td>\n",
       "      <td>612</td>\n",
       "      <td>28</td>\n",
       "      <td>9851</td>\n",
       "      <td>47</td>\n",
       "      <td>151</td>\n",
       "      <td>67</td>\n",
       "      <td>NaT</td>\n",
       "      <td>...</td>\n",
       "      <td>2018-01-25</td>\n",
       "      <td>smart</td>\n",
       "      <td>50</td>\n",
       "      <td>15360</td>\n",
       "      <td>500</td>\n",
       "      <td>550</td>\n",
       "      <td>200</td>\n",
       "      <td>3</td>\n",
       "      <td>3</td>\n",
       "      <td>886</td>\n",
       "    </tr>\n",
       "    <tr>\n",
       "      <th>36</th>\n",
       "      <td>1005</td>\n",
       "      <td>7.0</td>\n",
       "      <td>77.0</td>\n",
       "      <td>569</td>\n",
       "      <td>21</td>\n",
       "      <td>7684</td>\n",
       "      <td>56</td>\n",
       "      <td>151</td>\n",
       "      <td>67</td>\n",
       "      <td>NaT</td>\n",
       "      <td>...</td>\n",
       "      <td>2018-01-25</td>\n",
       "      <td>smart</td>\n",
       "      <td>50</td>\n",
       "      <td>15360</td>\n",
       "      <td>500</td>\n",
       "      <td>550</td>\n",
       "      <td>200</td>\n",
       "      <td>3</td>\n",
       "      <td>3</td>\n",
       "      <td>775</td>\n",
       "    </tr>\n",
       "    <tr>\n",
       "      <th>37</th>\n",
       "      <td>1005</td>\n",
       "      <td>8.0</td>\n",
       "      <td>71.0</td>\n",
       "      <td>619</td>\n",
       "      <td>23</td>\n",
       "      <td>7535</td>\n",
       "      <td>64</td>\n",
       "      <td>151</td>\n",
       "      <td>67</td>\n",
       "      <td>NaT</td>\n",
       "      <td>...</td>\n",
       "      <td>2018-01-25</td>\n",
       "      <td>smart</td>\n",
       "      <td>50</td>\n",
       "      <td>15360</td>\n",
       "      <td>500</td>\n",
       "      <td>550</td>\n",
       "      <td>200</td>\n",
       "      <td>3</td>\n",
       "      <td>3</td>\n",
       "      <td>949</td>\n",
       "    </tr>\n",
       "    <tr>\n",
       "      <th>38</th>\n",
       "      <td>1005</td>\n",
       "      <td>9.0</td>\n",
       "      <td>66.0</td>\n",
       "      <td>479</td>\n",
       "      <td>24</td>\n",
       "      <td>7006</td>\n",
       "      <td>52</td>\n",
       "      <td>151</td>\n",
       "      <td>67</td>\n",
       "      <td>NaT</td>\n",
       "      <td>...</td>\n",
       "      <td>2018-01-25</td>\n",
       "      <td>smart</td>\n",
       "      <td>50</td>\n",
       "      <td>15360</td>\n",
       "      <td>500</td>\n",
       "      <td>550</td>\n",
       "      <td>200</td>\n",
       "      <td>3</td>\n",
       "      <td>3</td>\n",
       "      <td>556</td>\n",
       "    </tr>\n",
       "    <tr>\n",
       "      <th>39</th>\n",
       "      <td>1005</td>\n",
       "      <td>10.0</td>\n",
       "      <td>100.0</td>\n",
       "      <td>723</td>\n",
       "      <td>21</td>\n",
       "      <td>7790</td>\n",
       "      <td>44</td>\n",
       "      <td>151</td>\n",
       "      <td>67</td>\n",
       "      <td>NaT</td>\n",
       "      <td>...</td>\n",
       "      <td>2018-01-25</td>\n",
       "      <td>smart</td>\n",
       "      <td>50</td>\n",
       "      <td>15360</td>\n",
       "      <td>500</td>\n",
       "      <td>550</td>\n",
       "      <td>200</td>\n",
       "      <td>3</td>\n",
       "      <td>3</td>\n",
       "      <td>1219</td>\n",
       "    </tr>\n",
       "    <tr>\n",
       "      <th>40</th>\n",
       "      <td>1005</td>\n",
       "      <td>11.0</td>\n",
       "      <td>75.0</td>\n",
       "      <td>547</td>\n",
       "      <td>30</td>\n",
       "      <td>12654</td>\n",
       "      <td>51</td>\n",
       "      <td>151</td>\n",
       "      <td>67</td>\n",
       "      <td>NaT</td>\n",
       "      <td>...</td>\n",
       "      <td>2018-01-25</td>\n",
       "      <td>smart</td>\n",
       "      <td>50</td>\n",
       "      <td>15360</td>\n",
       "      <td>500</td>\n",
       "      <td>550</td>\n",
       "      <td>200</td>\n",
       "      <td>3</td>\n",
       "      <td>3</td>\n",
       "      <td>694</td>\n",
       "    </tr>\n",
       "    <tr>\n",
       "      <th>41</th>\n",
       "      <td>1005</td>\n",
       "      <td>12.0</td>\n",
       "      <td>84.0</td>\n",
       "      <td>592</td>\n",
       "      <td>29</td>\n",
       "      <td>8656</td>\n",
       "      <td>54</td>\n",
       "      <td>151</td>\n",
       "      <td>67</td>\n",
       "      <td>NaT</td>\n",
       "      <td>...</td>\n",
       "      <td>2018-01-25</td>\n",
       "      <td>smart</td>\n",
       "      <td>50</td>\n",
       "      <td>15360</td>\n",
       "      <td>500</td>\n",
       "      <td>550</td>\n",
       "      <td>200</td>\n",
       "      <td>3</td>\n",
       "      <td>3</td>\n",
       "      <td>838</td>\n",
       "    </tr>\n",
       "    <tr>\n",
       "      <th>42</th>\n",
       "      <td>1006</td>\n",
       "      <td>2.0</td>\n",
       "      <td>3.0</td>\n",
       "      <td>42</td>\n",
       "      <td>8</td>\n",
       "      <td>1391</td>\n",
       "      <td>0</td>\n",
       "      <td>152</td>\n",
       "      <td>21</td>\n",
       "      <td>NaT</td>\n",
       "      <td>...</td>\n",
       "      <td>2018-02-26</td>\n",
       "      <td>smart</td>\n",
       "      <td>50</td>\n",
       "      <td>15360</td>\n",
       "      <td>500</td>\n",
       "      <td>550</td>\n",
       "      <td>200</td>\n",
       "      <td>3</td>\n",
       "      <td>3</td>\n",
       "      <td>550</td>\n",
       "    </tr>\n",
       "    <tr>\n",
       "      <th>43</th>\n",
       "      <td>1006</td>\n",
       "      <td>3.0</td>\n",
       "      <td>46.0</td>\n",
       "      <td>286</td>\n",
       "      <td>52</td>\n",
       "      <td>17266</td>\n",
       "      <td>0</td>\n",
       "      <td>152</td>\n",
       "      <td>21</td>\n",
       "      <td>NaT</td>\n",
       "      <td>...</td>\n",
       "      <td>2018-02-26</td>\n",
       "      <td>smart</td>\n",
       "      <td>50</td>\n",
       "      <td>15360</td>\n",
       "      <td>500</td>\n",
       "      <td>550</td>\n",
       "      <td>200</td>\n",
       "      <td>3</td>\n",
       "      <td>3</td>\n",
       "      <td>950</td>\n",
       "    </tr>\n",
       "    <tr>\n",
       "      <th>44</th>\n",
       "      <td>1006</td>\n",
       "      <td>4.0</td>\n",
       "      <td>47.0</td>\n",
       "      <td>356</td>\n",
       "      <td>42</td>\n",
       "      <td>13922</td>\n",
       "      <td>0</td>\n",
       "      <td>152</td>\n",
       "      <td>21</td>\n",
       "      <td>NaT</td>\n",
       "      <td>...</td>\n",
       "      <td>2018-02-26</td>\n",
       "      <td>smart</td>\n",
       "      <td>50</td>\n",
       "      <td>15360</td>\n",
       "      <td>500</td>\n",
       "      <td>550</td>\n",
       "      <td>200</td>\n",
       "      <td>3</td>\n",
       "      <td>3</td>\n",
       "      <td>550</td>\n",
       "    </tr>\n",
       "    <tr>\n",
       "      <th>45</th>\n",
       "      <td>1006</td>\n",
       "      <td>5.0</td>\n",
       "      <td>56.0</td>\n",
       "      <td>370</td>\n",
       "      <td>46</td>\n",
       "      <td>12946</td>\n",
       "      <td>0</td>\n",
       "      <td>152</td>\n",
       "      <td>21</td>\n",
       "      <td>NaT</td>\n",
       "      <td>...</td>\n",
       "      <td>2018-02-26</td>\n",
       "      <td>smart</td>\n",
       "      <td>50</td>\n",
       "      <td>15360</td>\n",
       "      <td>500</td>\n",
       "      <td>550</td>\n",
       "      <td>200</td>\n",
       "      <td>3</td>\n",
       "      <td>3</td>\n",
       "      <td>550</td>\n",
       "    </tr>\n",
       "    <tr>\n",
       "      <th>46</th>\n",
       "      <td>1006</td>\n",
       "      <td>6.0</td>\n",
       "      <td>53.0</td>\n",
       "      <td>478</td>\n",
       "      <td>45</td>\n",
       "      <td>12354</td>\n",
       "      <td>0</td>\n",
       "      <td>152</td>\n",
       "      <td>21</td>\n",
       "      <td>NaT</td>\n",
       "      <td>...</td>\n",
       "      <td>2018-02-26</td>\n",
       "      <td>smart</td>\n",
       "      <td>50</td>\n",
       "      <td>15360</td>\n",
       "      <td>500</td>\n",
       "      <td>550</td>\n",
       "      <td>200</td>\n",
       "      <td>3</td>\n",
       "      <td>3</td>\n",
       "      <td>550</td>\n",
       "    </tr>\n",
       "    <tr>\n",
       "      <th>47</th>\n",
       "      <td>1006</td>\n",
       "      <td>7.0</td>\n",
       "      <td>49.0</td>\n",
       "      <td>316</td>\n",
       "      <td>58</td>\n",
       "      <td>19950</td>\n",
       "      <td>0</td>\n",
       "      <td>152</td>\n",
       "      <td>21</td>\n",
       "      <td>NaT</td>\n",
       "      <td>...</td>\n",
       "      <td>2018-02-26</td>\n",
       "      <td>smart</td>\n",
       "      <td>50</td>\n",
       "      <td>15360</td>\n",
       "      <td>500</td>\n",
       "      <td>550</td>\n",
       "      <td>200</td>\n",
       "      <td>3</td>\n",
       "      <td>3</td>\n",
       "      <td>1550</td>\n",
       "    </tr>\n",
       "    <tr>\n",
       "      <th>48</th>\n",
       "      <td>1006</td>\n",
       "      <td>8.0</td>\n",
       "      <td>42.0</td>\n",
       "      <td>275</td>\n",
       "      <td>53</td>\n",
       "      <td>19282</td>\n",
       "      <td>0</td>\n",
       "      <td>152</td>\n",
       "      <td>21</td>\n",
       "      <td>NaT</td>\n",
       "      <td>...</td>\n",
       "      <td>2018-02-26</td>\n",
       "      <td>smart</td>\n",
       "      <td>50</td>\n",
       "      <td>15360</td>\n",
       "      <td>500</td>\n",
       "      <td>550</td>\n",
       "      <td>200</td>\n",
       "      <td>3</td>\n",
       "      <td>3</td>\n",
       "      <td>1350</td>\n",
       "    </tr>\n",
       "    <tr>\n",
       "      <th>49</th>\n",
       "      <td>1006</td>\n",
       "      <td>9.0</td>\n",
       "      <td>54.0</td>\n",
       "      <td>360</td>\n",
       "      <td>50</td>\n",
       "      <td>15505</td>\n",
       "      <td>0</td>\n",
       "      <td>152</td>\n",
       "      <td>21</td>\n",
       "      <td>NaT</td>\n",
       "      <td>...</td>\n",
       "      <td>2018-02-26</td>\n",
       "      <td>smart</td>\n",
       "      <td>50</td>\n",
       "      <td>15360</td>\n",
       "      <td>500</td>\n",
       "      <td>550</td>\n",
       "      <td>200</td>\n",
       "      <td>3</td>\n",
       "      <td>3</td>\n",
       "      <td>750</td>\n",
       "    </tr>\n",
       "  </tbody>\n",
       "</table>\n",
       "<p>50 rows × 23 columns</p>\n",
       "</div>"
      ],
      "text/plain": [
       "    user_id  month  count_calls  sum_calls  count_internet  sum_internet  \\\n",
       "0      1000    5.0         22.0        159               5          2252   \n",
       "1      1000    6.0         43.0        172              49         23213   \n",
       "2      1000    7.0         47.0        340              29         13988   \n",
       "3      1000    8.0         52.0        408              29         14043   \n",
       "4      1000    9.0         58.0        466              27         14556   \n",
       "5      1000   10.0         57.0        350              27         14690   \n",
       "6      1000   11.0         43.0        338              24         14745   \n",
       "7      1000   12.0         46.0        333              21          9808   \n",
       "8      1001   11.0         59.0        430              55         18405   \n",
       "9      1001   12.0         63.0        414              41         14018   \n",
       "10     1002    6.0         15.0        117              34         10844   \n",
       "11     1002    7.0         26.0        214              58         17557   \n",
       "12     1002    8.0         42.0        289              60         20298   \n",
       "13     1002    9.0         36.0        206              56         16669   \n",
       "14     1002   10.0         33.0        212              44         13869   \n",
       "15     1002   11.0         32.0        243              55         18566   \n",
       "16     1002   12.0         33.0        236              62         18087   \n",
       "17     1003    8.0         55.0        380              15          8557   \n",
       "18     1003    9.0        134.0        961              22         12457   \n",
       "19     1003   10.0        108.0        855              25         14754   \n",
       "20     1003   11.0        115.0        824              21         11348   \n",
       "21     1003   12.0        108.0        802              21         10111   \n",
       "22     1004    5.0          9.0         35              24         13392   \n",
       "23     1004    6.0         31.0        171              35         17586   \n",
       "24     1004    7.0         22.0        135              35         22211   \n",
       "25     1004    8.0         19.0        137              52         28558   \n",
       "26     1004    9.0         26.0        117              37         15093   \n",
       "27     1004   10.0         29.0        145              41         18457   \n",
       "28     1004   11.0         19.0        117              36         15598   \n",
       "29     1004   12.0         21.0        130              40         18002   \n",
       "30     1005    1.0         15.0         95               6          2724   \n",
       "31     1005    2.0         69.0        456              24          7372   \n",
       "32     1005    3.0         77.0        606              28         11092   \n",
       "33     1005    4.0        101.0        712              30          9341   \n",
       "34     1005    5.0         73.0        595              25          7857   \n",
       "35     1005    6.0         80.0        612              28          9851   \n",
       "36     1005    7.0         77.0        569              21          7684   \n",
       "37     1005    8.0         71.0        619              23          7535   \n",
       "38     1005    9.0         66.0        479              24          7006   \n",
       "39     1005   10.0        100.0        723              21          7790   \n",
       "40     1005   11.0         75.0        547              30         12654   \n",
       "41     1005   12.0         84.0        592              29          8656   \n",
       "42     1006    2.0          3.0         42               8          1391   \n",
       "43     1006    3.0         46.0        286              52         17266   \n",
       "44     1006    4.0         47.0        356              42         13922   \n",
       "45     1006    5.0         56.0        370              46         12946   \n",
       "46     1006    6.0         53.0        478              45         12354   \n",
       "47     1006    7.0         49.0        316              58         19950   \n",
       "48     1006    8.0         42.0        275              53         19282   \n",
       "49     1006    9.0         54.0        360              50         15505   \n",
       "\n",
       "    count_messages  index  age churn_date  ...   reg_date tariff  \\\n",
       "0               22      0   52        NaT  ... 2018-05-25  ultra   \n",
       "1               60      0   52        NaT  ... 2018-05-25  ultra   \n",
       "2               75      0   52        NaT  ... 2018-05-25  ultra   \n",
       "3               81      0   52        NaT  ... 2018-05-25  ultra   \n",
       "4               57      0   52        NaT  ... 2018-05-25  ultra   \n",
       "5               73      0   52        NaT  ... 2018-05-25  ultra   \n",
       "6               58      0   52        NaT  ... 2018-05-25  ultra   \n",
       "7               70      0   52        NaT  ... 2018-05-25  ultra   \n",
       "8                0    149   41        NaT  ... 2018-11-01  smart   \n",
       "9                0    149   41        NaT  ... 2018-11-01  smart   \n",
       "10               4    150   59        NaT  ... 2018-06-17  smart   \n",
       "11              11    150   59        NaT  ... 2018-06-17  smart   \n",
       "12              13    150   59        NaT  ... 2018-06-17  smart   \n",
       "13               4    150   59        NaT  ... 2018-06-17  smart   \n",
       "14              10    150   59        NaT  ... 2018-06-17  smart   \n",
       "15              16    150   59        NaT  ... 2018-06-17  smart   \n",
       "16              12    150   59        NaT  ... 2018-06-17  smart   \n",
       "17              37      1   23        NaT  ... 2018-08-17  ultra   \n",
       "18              91      1   23        NaT  ... 2018-08-17  ultra   \n",
       "19              83      1   23        NaT  ... 2018-08-17  ultra   \n",
       "20              94      1   23        NaT  ... 2018-08-17  ultra   \n",
       "21              75      1   23        NaT  ... 2018-08-17  ultra   \n",
       "22              95      2   68        NaT  ... 2018-05-14  ultra   \n",
       "23             134      2   68        NaT  ... 2018-05-14  ultra   \n",
       "24             181      2   68        NaT  ... 2018-05-14  ultra   \n",
       "25             151      2   68        NaT  ... 2018-05-14  ultra   \n",
       "26             146      2   68        NaT  ... 2018-05-14  ultra   \n",
       "27             165      2   68        NaT  ... 2018-05-14  ultra   \n",
       "28             158      2   68        NaT  ... 2018-05-14  ultra   \n",
       "29             162      2   68        NaT  ... 2018-05-14  ultra   \n",
       "30               7    151   67        NaT  ... 2018-01-25  smart   \n",
       "31              38    151   67        NaT  ... 2018-01-25  smart   \n",
       "32              56    151   67        NaT  ... 2018-01-25  smart   \n",
       "33              41    151   67        NaT  ... 2018-01-25  smart   \n",
       "34              42    151   67        NaT  ... 2018-01-25  smart   \n",
       "35              47    151   67        NaT  ... 2018-01-25  smart   \n",
       "36              56    151   67        NaT  ... 2018-01-25  smart   \n",
       "37              64    151   67        NaT  ... 2018-01-25  smart   \n",
       "38              52    151   67        NaT  ... 2018-01-25  smart   \n",
       "39              44    151   67        NaT  ... 2018-01-25  smart   \n",
       "40              51    151   67        NaT  ... 2018-01-25  smart   \n",
       "41              54    151   67        NaT  ... 2018-01-25  smart   \n",
       "42               0    152   21        NaT  ... 2018-02-26  smart   \n",
       "43               0    152   21        NaT  ... 2018-02-26  smart   \n",
       "44               0    152   21        NaT  ... 2018-02-26  smart   \n",
       "45               0    152   21        NaT  ... 2018-02-26  smart   \n",
       "46               0    152   21        NaT  ... 2018-02-26  smart   \n",
       "47               0    152   21        NaT  ... 2018-02-26  smart   \n",
       "48               0    152   21        NaT  ... 2018-02-26  smart   \n",
       "49               0    152   21        NaT  ... 2018-02-26  smart   \n",
       "\n",
       "   messages_included mb_per_month_included minutes_included  rub_monthly_fee  \\\n",
       "0               1000                 30720             3000             1950   \n",
       "1               1000                 30720             3000             1950   \n",
       "2               1000                 30720             3000             1950   \n",
       "3               1000                 30720             3000             1950   \n",
       "4               1000                 30720             3000             1950   \n",
       "5               1000                 30720             3000             1950   \n",
       "6               1000                 30720             3000             1950   \n",
       "7               1000                 30720             3000             1950   \n",
       "8                 50                 15360              500              550   \n",
       "9                 50                 15360              500              550   \n",
       "10                50                 15360              500              550   \n",
       "11                50                 15360              500              550   \n",
       "12                50                 15360              500              550   \n",
       "13                50                 15360              500              550   \n",
       "14                50                 15360              500              550   \n",
       "15                50                 15360              500              550   \n",
       "16                50                 15360              500              550   \n",
       "17              1000                 30720             3000             1950   \n",
       "18              1000                 30720             3000             1950   \n",
       "19              1000                 30720             3000             1950   \n",
       "20              1000                 30720             3000             1950   \n",
       "21              1000                 30720             3000             1950   \n",
       "22              1000                 30720             3000             1950   \n",
       "23              1000                 30720             3000             1950   \n",
       "24              1000                 30720             3000             1950   \n",
       "25              1000                 30720             3000             1950   \n",
       "26              1000                 30720             3000             1950   \n",
       "27              1000                 30720             3000             1950   \n",
       "28              1000                 30720             3000             1950   \n",
       "29              1000                 30720             3000             1950   \n",
       "30                50                 15360              500              550   \n",
       "31                50                 15360              500              550   \n",
       "32                50                 15360              500              550   \n",
       "33                50                 15360              500              550   \n",
       "34                50                 15360              500              550   \n",
       "35                50                 15360              500              550   \n",
       "36                50                 15360              500              550   \n",
       "37                50                 15360              500              550   \n",
       "38                50                 15360              500              550   \n",
       "39                50                 15360              500              550   \n",
       "40                50                 15360              500              550   \n",
       "41                50                 15360              500              550   \n",
       "42                50                 15360              500              550   \n",
       "43                50                 15360              500              550   \n",
       "44                50                 15360              500              550   \n",
       "45                50                 15360              500              550   \n",
       "46                50                 15360              500              550   \n",
       "47                50                 15360              500              550   \n",
       "48                50                 15360              500              550   \n",
       "49                50                 15360              500              550   \n",
       "\n",
       "    rub_per_gb  rub_per_message  rub_per_minute  income  \n",
       "0          150                1               1    1950  \n",
       "1          150                1               1    1950  \n",
       "2          150                1               1    1950  \n",
       "3          150                1               1    1950  \n",
       "4          150                1               1    1950  \n",
       "5          150                1               1    1950  \n",
       "6          150                1               1    1950  \n",
       "7          150                1               1    1950  \n",
       "8          200                3               3    1150  \n",
       "9          200                3               3     550  \n",
       "10         200                3               3     550  \n",
       "11         200                3               3    1150  \n",
       "12         200                3               3    1550  \n",
       "13         200                3               3     950  \n",
       "14         200                3               3     550  \n",
       "15         200                3               3    1350  \n",
       "16         200                3               3    1150  \n",
       "17         150                1               1    1950  \n",
       "18         150                1               1    1950  \n",
       "19         150                1               1    1950  \n",
       "20         150                1               1    1950  \n",
       "21         150                1               1    1950  \n",
       "22         150                1               1    1950  \n",
       "23         150                1               1    1950  \n",
       "24         150                1               1    1950  \n",
       "25         150                1               1    1950  \n",
       "26         150                1               1    1950  \n",
       "27         150                1               1    1950  \n",
       "28         150                1               1    1950  \n",
       "29         150                1               1    1950  \n",
       "30         200                3               3     550  \n",
       "31         200                3               3     550  \n",
       "32         200                3               3     886  \n",
       "33         200                3               3    1186  \n",
       "34         200                3               3     835  \n",
       "35         200                3               3     886  \n",
       "36         200                3               3     775  \n",
       "37         200                3               3     949  \n",
       "38         200                3               3     556  \n",
       "39         200                3               3    1219  \n",
       "40         200                3               3     694  \n",
       "41         200                3               3     838  \n",
       "42         200                3               3     550  \n",
       "43         200                3               3     950  \n",
       "44         200                3               3     550  \n",
       "45         200                3               3     550  \n",
       "46         200                3               3     550  \n",
       "47         200                3               3    1550  \n",
       "48         200                3               3    1350  \n",
       "49         200                3               3     750  \n",
       "\n",
       "[50 rows x 23 columns]"
      ]
     },
     "execution_count": 52,
     "metadata": {},
     "output_type": "execute_result"
    }
   ],
   "source": [
    "data['income'] = data.apply(income_count, axis = 1)\n",
    "data['income'] = data['income'].astype(int)\n",
    "data.head(50)"
   ]
  },
  {
   "cell_type": "markdown",
   "metadata": {},
   "source": [
    "**Вывод**"
   ]
  },
  {
   "cell_type": "markdown",
   "metadata": {},
   "source": [
    "Удалось объединить все данные вединый датафрейм и подсчитать необходимые параметры для каждого пользователя"
   ]
  },
  {
   "cell_type": "markdown",
   "metadata": {},
   "source": [
    "## Анализ данных"
   ]
  },
  {
   "cell_type": "markdown",
   "metadata": {},
   "source": [
    "Для того что бы узнать сколько минут разговора, сколько сообщений и какой объём интернет-трафика требуется пользователям каждого тарифа в месяц? Посчитаем среднее количество, дисперсию и стандартное отклонение по выборке по каждому из параметров и тарифов и построим гистограммы."
   ]
  },
  {
   "cell_type": "markdown",
   "metadata": {},
   "source": [
    "**Тариф smart**"
   ]
  },
  {
   "cell_type": "code",
   "execution_count": 53,
   "metadata": {},
   "outputs": [],
   "source": [
    "data_smart = data.query('tariff == \"smart\"') # сделаем срез данных по тарифу smart"
   ]
  },
  {
   "cell_type": "code",
   "execution_count": 54,
   "metadata": {},
   "outputs": [
    {
     "name": "stdout",
     "output_type": "stream",
     "text": [
      "417.9349484073576\n"
     ]
    }
   ],
   "source": [
    "mean_smart_calls = data_smart['sum_calls'].mean() # вычисляем среднее занчение для длительности звонков в месяц звонков по тарифу smart\n",
    "print(mean_smart_calls)"
   ]
  },
  {
   "cell_type": "code",
   "execution_count": 55,
   "metadata": {},
   "outputs": [
    {
     "name": "stdout",
     "output_type": "stream",
     "text": [
      "33.384028712427096\n"
     ]
    }
   ],
   "source": [
    "mean_smart_messages = data_smart['count_messages'].mean() # вычисляем среднее занчение для количесвта сообщений в месяц по тарифу smart\n",
    "print(mean_smart_messages)"
   ]
  },
  {
   "cell_type": "code",
   "execution_count": 56,
   "metadata": {
    "scrolled": false
   },
   "outputs": [
    {
     "name": "stdout",
     "output_type": "stream",
     "text": [
      "16187.578734858682\n"
     ]
    }
   ],
   "source": [
    "mean_smart_internet = data_smart['sum_internet'].mean() # вычисляем среднее занчение для объема интернет трафика в месяц по тарифу smart\n",
    "print(mean_smart_internet)"
   ]
  },
  {
   "cell_type": "code",
   "execution_count": 57,
   "metadata": {},
   "outputs": [
    {
     "name": "stdout",
     "output_type": "stream",
     "text": [
      "36219.31578434428\n"
     ]
    }
   ],
   "source": [
    "variance_smart_calls = np.var(data_smart['sum_calls'], ddof=1) # вычисляем дисперсию для длительности звонков в месяц звонков по тарифу smart\n",
    "print(variance_smart_calls) "
   ]
  },
  {
   "cell_type": "code",
   "execution_count": 58,
   "metadata": {},
   "outputs": [
    {
     "name": "stdout",
     "output_type": "stream",
     "text": [
      "796.8129584480083\n"
     ]
    }
   ],
   "source": [
    "variance_smart_messages = np.var(data_smart['count_messages'], ddof=1) # вычисляем дисперсию для количесвта сообщений в месяц по тарифу smart\n",
    "print(variance_smart_messages) "
   ]
  },
  {
   "cell_type": "code",
   "execution_count": 59,
   "metadata": {},
   "outputs": [
    {
     "name": "stdout",
     "output_type": "stream",
     "text": [
      "301.68556839699954\n"
     ]
    }
   ],
   "source": [
    "variance_smart_internet = np.var(data_smart['count_internet'], ddof=1) # вычисляем дисперсию для объема интернет трафика в месяц по тарифу smart\n",
    "print(variance_smart_internet) "
   ]
  },
  {
   "cell_type": "code",
   "execution_count": 60,
   "metadata": {},
   "outputs": [
    {
     "name": "stdout",
     "output_type": "stream",
     "text": [
      "190.31372988921288\n"
     ]
    }
   ],
   "source": [
    "standard_smart_calls = np.std(data_smart['sum_calls'], ddof=1) # вычисляем стандартное отклонение для длительности звонков в месяц звонков по тарифу smart\n",
    "print(standard_smart_calls)"
   ]
  },
  {
   "cell_type": "code",
   "execution_count": 61,
   "metadata": {},
   "outputs": [
    {
     "name": "stdout",
     "output_type": "stream",
     "text": [
      "28.22787555676141\n"
     ]
    }
   ],
   "source": [
    "standard_smart_messages = np.std(data_smart['count_messages'], ddof=1) # вычисляем стандартное отклонение для количесвта сообщений в месяц по тарифу smart\n",
    "print(standard_smart_messages)"
   ]
  },
  {
   "cell_type": "code",
   "execution_count": 62,
   "metadata": {},
   "outputs": [
    {
     "name": "stdout",
     "output_type": "stream",
     "text": [
      "301.68556839699954\n",
      "5863.430302151049\n"
     ]
    }
   ],
   "source": [
    "standard_smart_internet = np.std(data_smart['sum_internet'], ddof=1) # вычисляем стандартное отклонение для объема интернет трафика в месяц по тарифу smart\n",
    "print(variance_smart_internet) \n",
    "print(standard_smart_internet)"
   ]
  },
  {
   "cell_type": "code",
   "execution_count": 63,
   "metadata": {
    "scrolled": true
   },
   "outputs": [
    {
     "data": {
      "text/plain": [
       "array([[<AxesSubplot:title={'center':'sum_calls'}>]], dtype=object)"
      ]
     },
     "execution_count": 63,
     "metadata": {},
     "output_type": "execute_result"
    },
    {
     "data": {
      "image/png": "[encoded data removed]",
      "text/plain": [
       "<Figure size 432x288 with 1 Axes>"
      ]
     },
     "metadata": {
      "needs_background": "light"
     },
     "output_type": "display_data"
    }
   ],
   "source": [
    "data_smart.hist('sum_calls', bins=10, range = (0, 1200)) "
   ]
  },
  {
   "cell_type": "code",
   "execution_count": 64,
   "metadata": {},
   "outputs": [
    {
     "name": "stdout",
     "output_type": "stream",
     "text": [
      "count    2229.000000\n",
      "mean      417.934948\n",
      "std       190.313730\n",
      "min         0.000000\n",
      "25%       282.000000\n",
      "50%       422.000000\n",
      "75%       545.000000\n",
      "max      1435.000000\n",
      "Name: sum_calls, dtype: float64\n"
     ]
    }
   ],
   "source": [
    "print(data_smart['sum_calls'].describe()) # вызываю метод describe()"
   ]
  },
  {
   "cell_type": "markdown",
   "metadata": {},
   "source": [
    "Помесячная длительность звонков  распределена нормально. Значения варируется от 0 до 1435 минут со срденим занчением 417.935 и стандартным отклонение 190.314. Наибольшее количество абонентов имеют длительность звонков в месяц примерно от 350 до 450 минут "
   ]
  },
  {
   "cell_type": "code",
   "execution_count": 65,
   "metadata": {
    "scrolled": false
   },
   "outputs": [
    {
     "data": {
      "text/plain": [
       "array([[<AxesSubplot:title={'center':'count_messages'}>]], dtype=object)"
      ]
     },
     "execution_count": 65,
     "metadata": {},
     "output_type": "execute_result"
    },
    {
     "data": {
      "image/png": "[encoded data removed]",
      "text/plain": [
       "<Figure size 432x288 with 1 Axes>"
      ]
     },
     "metadata": {
      "needs_background": "light"
     },
     "output_type": "display_data"
    }
   ],
   "source": [
    "data_smart.hist('count_messages', bins=10, range = (0, 150)) "
   ]
  },
  {
   "cell_type": "code",
   "execution_count": 66,
   "metadata": {},
   "outputs": [
    {
     "name": "stdout",
     "output_type": "stream",
     "text": [
      "count    2229.000000\n",
      "mean       33.384029\n",
      "std        28.227876\n",
      "min         0.000000\n",
      "25%        10.000000\n",
      "50%        28.000000\n",
      "75%        51.000000\n",
      "max       143.000000\n",
      "Name: count_messages, dtype: float64\n"
     ]
    }
   ],
   "source": [
    "print(data_smart['count_messages'].describe()) # вызываю метод describe()"
   ]
  },
  {
   "cell_type": "markdown",
   "metadata": {},
   "source": [
    "Количество сообщений в месяц пользователей с тарифом смарт распределено по распределению Пуассона. Значения варируется от 0 до 143. В среднем пользователи отправляют 33 сообщения в месяц, а стандартное отклонение равно 28.228. Наибольшее количество абонентов отправляют примерно от 0 до 15 сообщений в месяц."
   ]
  },
  {
   "cell_type": "code",
   "execution_count": 67,
   "metadata": {
    "scrolled": false
   },
   "outputs": [
    {
     "data": {
      "text/plain": [
       "array([[<AxesSubplot:title={'center':'sum_internet'}>]], dtype=object)"
      ]
     },
     "execution_count": 67,
     "metadata": {},
     "output_type": "execute_result"
    },
    {
     "data": {
      "image/png": "[encoded data removed]",
      "text/plain": [
       "<Figure size 432x288 with 1 Axes>"
      ]
     },
     "metadata": {
      "needs_background": "light"
     },
     "output_type": "display_data"
    }
   ],
   "source": [
    "data_smart.hist('sum_internet', bins=10, range = (0, 40000))"
   ]
  },
  {
   "cell_type": "code",
   "execution_count": 68,
   "metadata": {},
   "outputs": [
    {
     "name": "stdout",
     "output_type": "stream",
     "text": [
      "count     2229.000000\n",
      "mean     16187.578735\n",
      "std       5863.430302\n",
      "min          0.000000\n",
      "25%      12625.000000\n",
      "50%      16482.000000\n",
      "75%      20017.000000\n",
      "max      38510.000000\n",
      "Name: sum_internet, dtype: float64\n"
     ]
    }
   ],
   "source": [
    "print(data_smart['sum_internet'].describe()) # вызываю метод describe()"
   ]
  },
  {
   "cell_type": "markdown",
   "metadata": {},
   "source": [
    "Помесячный объём интернет трафика распределён нормально. Значения варируется от 0 до 38610 мегабайт со срденим занчением 16229 мегабайт и стандартным отклонение 5877.577. Наибольшее количество абонентов тарифа смарт потребляют примерно от 16 000 до 20 000 мегабайт трафика в месяц. "
   ]
  },
  {
   "cell_type": "markdown",
   "metadata": {},
   "source": [
    "**Тариф ultra**"
   ]
  },
  {
   "cell_type": "code",
   "execution_count": 69,
   "metadata": {},
   "outputs": [],
   "source": [
    "data_ultra = data.query('tariff == \"ultra\"') # сделаем срез данных по тарифу ultra"
   ]
  },
  {
   "cell_type": "code",
   "execution_count": 70,
   "metadata": {},
   "outputs": [
    {
     "name": "stdout",
     "output_type": "stream",
     "text": [
      "526.6233502538071\n"
     ]
    }
   ],
   "source": [
    "mean_ultra_calls = data_ultra['sum_calls'].mean() # вычисляем среднее занчение для длительности звонков в месяц звонков по тарифу ultra\n",
    "print(mean_ultra_calls)"
   ]
  },
  {
   "cell_type": "code",
   "execution_count": 71,
   "metadata": {},
   "outputs": [
    {
     "name": "stdout",
     "output_type": "stream",
     "text": [
      "49.36345177664975\n"
     ]
    }
   ],
   "source": [
    "mean_ultra_messages = data_ultra['count_messages'].mean() # вычисляем среднее занчение для количесвта сообщений в месяц по тарифу ultra\n",
    "print(mean_ultra_messages)"
   ]
  },
  {
   "cell_type": "code",
   "execution_count": 72,
   "metadata": {
    "scrolled": true
   },
   "outputs": [
    {
     "name": "stdout",
     "output_type": "stream",
     "text": [
      "19450.643654822336\n"
     ]
    }
   ],
   "source": [
    "mean_ultra_internet = data_ultra['sum_internet'].mean() # вычисляем среднее занчение для объема интернет трафика в месяц по тарифу ultra\n",
    "print(mean_ultra_internet)"
   ]
  },
  {
   "cell_type": "code",
   "execution_count": 73,
   "metadata": {},
   "outputs": [
    {
     "name": "stdout",
     "output_type": "stream",
     "text": [
      "100873.63339730098\n"
     ]
    }
   ],
   "source": [
    "variance_ultra_calls = np.var(data_ultra['sum_calls'], ddof=1) # вычисляем дисперсию для длительности звонков в месяц звонков по тарифу ultra\n",
    "print(variance_ultra_calls) "
   ]
  },
  {
   "cell_type": "code",
   "execution_count": 74,
   "metadata": {},
   "outputs": [
    {
     "name": "stdout",
     "output_type": "stream",
     "text": [
      "2285.2661425446736\n"
     ]
    }
   ],
   "source": [
    "variance_ultra_messages = np.var(data_ultra['count_messages'], ddof=1) # вычисляем дисперсию для количесвта сообщений в месяц по тарифу ultra\n",
    "print(variance_ultra_messages) "
   ]
  },
  {
   "cell_type": "code",
   "execution_count": 75,
   "metadata": {},
   "outputs": [
    {
     "name": "stdout",
     "output_type": "stream",
     "text": [
      "301.68556839699954\n",
      "101566078.84341753\n"
     ]
    }
   ],
   "source": [
    "variance_ultra_internet = np.var(data_ultra['sum_internet'], ddof=1) # вычисляем дисперсию для объема интернет трафика в месяц по тарифу ultra\n",
    "print(variance_smart_internet) \n",
    "print(variance_ultra_internet) "
   ]
  },
  {
   "cell_type": "code",
   "execution_count": 76,
   "metadata": {},
   "outputs": [
    {
     "name": "stdout",
     "output_type": "stream",
     "text": [
      "317.6060978591264\n"
     ]
    }
   ],
   "source": [
    "standard_ultra_calls = np.std(data_ultra['sum_calls'], ddof=1) # вычисляем стандартное отклонение для длительности звонков в месяц звонков по тарифу ultra\n",
    "print(standard_ultra_calls)"
   ]
  },
  {
   "cell_type": "code",
   "execution_count": 77,
   "metadata": {},
   "outputs": [
    {
     "name": "stdout",
     "output_type": "stream",
     "text": [
      "47.804457350174715\n"
     ]
    }
   ],
   "source": [
    "standard_ultra_messages = np.std(data_ultra['count_messages'], ddof=1) # вычисляем стандартное отклонение для количесвта сообщений в месяц по тарифу ultra\n",
    "print(standard_ultra_messages)"
   ]
  },
  {
   "cell_type": "code",
   "execution_count": 78,
   "metadata": {},
   "outputs": [
    {
     "name": "stdout",
     "output_type": "stream",
     "text": [
      "10077.999744166375\n"
     ]
    }
   ],
   "source": [
    "standard_ultra_internet = np.std(data_ultra['sum_internet'], ddof=1) # вычисляем стандартное отклонение для объема интернет трафика в месяц по тарифу ultra\n",
    "print(standard_ultra_internet)"
   ]
  },
  {
   "cell_type": "code",
   "execution_count": 79,
   "metadata": {
    "scrolled": true
   },
   "outputs": [
    {
     "data": {
      "text/plain": [
       "array([[<AxesSubplot:title={'center':'sum_calls'}>]], dtype=object)"
      ]
     },
     "execution_count": 79,
     "metadata": {},
     "output_type": "execute_result"
    },
    {
     "data": {
      "image/png": "[encoded data removed]",
      "text/plain": [
       "<Figure size 432x288 with 1 Axes>"
      ]
     },
     "metadata": {
      "needs_background": "light"
     },
     "output_type": "display_data"
    }
   ],
   "source": [
    "data_ultra.hist('sum_calls', bins=10, range = (0, 1700)) "
   ]
  },
  {
   "cell_type": "code",
   "execution_count": 80,
   "metadata": {},
   "outputs": [
    {
     "name": "stdout",
     "output_type": "stream",
     "text": [
      "count     985.000000\n",
      "mean      526.623350\n",
      "std       317.606098\n",
      "min         0.000000\n",
      "25%       284.000000\n",
      "50%       518.000000\n",
      "75%       752.000000\n",
      "max      1673.000000\n",
      "Name: sum_calls, dtype: float64\n"
     ]
    }
   ],
   "source": [
    "print(data_ultra['sum_calls'].describe()) # вызываю метод describe()"
   ]
  },
  {
   "cell_type": "markdown",
   "metadata": {},
   "source": [
    "В помесячная длительности звонков абонентов тарифа ультра значения варируется от 0 до 1673 минут со срденим занчением 526.623 и стандартным отклонение 317.606. Наибольшее количество абонентов имеют длительность звонков в месяц примерно от 500 до 650 минут"
   ]
  },
  {
   "cell_type": "code",
   "execution_count": 81,
   "metadata": {
    "scrolled": true
   },
   "outputs": [
    {
     "data": {
      "text/plain": [
       "array([[<AxesSubplot:title={'center':'count_messages'}>]], dtype=object)"
      ]
     },
     "execution_count": 81,
     "metadata": {},
     "output_type": "execute_result"
    },
    {
     "data": {
      "image/png": "[encoded data removed]",
      "text/plain": [
       "<Figure size 432x288 with 1 Axes>"
      ]
     },
     "metadata": {
      "needs_background": "light"
     },
     "output_type": "display_data"
    }
   ],
   "source": [
    "data_ultra.hist('count_messages', bins=10) "
   ]
  },
  {
   "cell_type": "code",
   "execution_count": 82,
   "metadata": {},
   "outputs": [
    {
     "name": "stdout",
     "output_type": "stream",
     "text": [
      "count    985.000000\n",
      "mean      49.363452\n",
      "std       47.804457\n",
      "min        0.000000\n",
      "25%        6.000000\n",
      "50%       38.000000\n",
      "75%       79.000000\n",
      "max      224.000000\n",
      "Name: count_messages, dtype: float64\n"
     ]
    }
   ],
   "source": [
    "print(data_ultra['count_messages'].describe()) # вызываю метод describe()"
   ]
  },
  {
   "cell_type": "markdown",
   "metadata": {},
   "source": [
    "Количество сообщений в месяц пользователей с тарифом смарт распределено по распределению Пуассона. Значения варируется от 0 до 224. В среднем пользователи отправляют 49 сообщения в месяц, а стандартное отклонение равно 47.804. Наибольшее количество абонентов отправляют примерно от 0 до 20 сообщений в месяц."
   ]
  },
  {
   "cell_type": "code",
   "execution_count": 83,
   "metadata": {
    "scrolled": true
   },
   "outputs": [
    {
     "data": {
      "text/plain": [
       "array([[<AxesSubplot:title={'center':'sum_internet'}>]], dtype=object)"
      ]
     },
     "execution_count": 83,
     "metadata": {},
     "output_type": "execute_result"
    },
    {
     "data": {
      "image/png": "[encoded data removed]",
      "text/plain": [
       "<Figure size 432x288 with 1 Axes>"
      ]
     },
     "metadata": {
      "needs_background": "light"
     },
     "output_type": "display_data"
    }
   ],
   "source": [
    "data_ultra.hist('sum_internet', bins=10) "
   ]
  },
  {
   "cell_type": "code",
   "execution_count": 84,
   "metadata": {},
   "outputs": [
    {
     "name": "stdout",
     "output_type": "stream",
     "text": [
      "count      985.000000\n",
      "mean     19450.643655\n",
      "std      10077.999744\n",
      "min          0.000000\n",
      "25%      11762.000000\n",
      "50%      19289.000000\n",
      "75%      26810.000000\n",
      "max      49701.000000\n",
      "Name: sum_internet, dtype: float64\n"
     ]
    }
   ],
   "source": [
    "print(data_ultra['sum_internet'].describe()) # вызываю метод describe()"
   ]
  },
  {
   "cell_type": "markdown",
   "metadata": {},
   "source": [
    "Помесячный объём интернет трафика пользователей тарифа ультра распределён нормально. Значения варируется от 0 до 49789 мегабайт со срденим занчением 19487 мегабайт и стандартным отклонение 10096.317. Наибольшее количество абонентов тарифа смарт потребляют примерно от 16 000 до 20 000 мегабайт трафика в месяц. "
   ]
  },
  {
   "cell_type": "markdown",
   "metadata": {},
   "source": [
    "**Вывод**"
   ]
  },
  {
   "cell_type": "markdown",
   "metadata": {},
   "source": [
    "Абоненты тарифа ультра больше разговаривают по телефону, отправляют сообщений и пользуются интернетом. Это можно объяснить тем, что лимиты включенные в абонентскую плату тарифа ultra больше, чем тарифа smart"
   ]
  },
  {
   "cell_type": "markdown",
   "metadata": {},
   "source": [
    "## Проверка гипотез"
   ]
  },
  {
   "cell_type": "markdown",
   "metadata": {},
   "source": [
    "**Средняя выручка пользователей тарифов «Ультра» и «Смарт» различаются**"
   ]
  },
  {
   "cell_type": "markdown",
   "metadata": {},
   "source": [
    "Проверим гипотезу о том, что средняя выручка пользователей тарифов «Ультра» и «Смарт» различаются с помщью t-теста"
   ]
  },
  {
   "cell_type": "markdown",
   "metadata": {},
   "source": [
    "Нулевая гипотеза: средняя выручка пользователей тарифов «Ультра» и «Смарт» не различаются\n",
    "Альтернативная: средняя выручка пользователей тарифов «Ультра» и «Смарт» различаются"
   ]
  },
  {
   "cell_type": "code",
   "execution_count": 85,
   "metadata": {},
   "outputs": [
    {
     "name": "stdout",
     "output_type": "stream",
     "text": [
      "p-значение: 2.717446581911462e-162\n",
      "Отвергаем нулевую гипотезу\n"
     ]
    }
   ],
   "source": [
    "ultra = data_ultra['income']\n",
    "\n",
    "smart = data_smart['income']\n",
    "\n",
    "alpha =  0.05 # критический уровень статистической значимости\n",
    "\n",
    "results = st.ttest_ind(\n",
    "    ultra, \n",
    "    smart) # проверим гипотезу о равенстве средних двух совокупностей\n",
    "\n",
    "print('p-значение:', results.pvalue)\n",
    "\n",
    "if results.pvalue < alpha: # сравниваем получившееся p-значение с заданным уровнем статистической значимости :\n",
    "    print(\"Отвергаем нулевую гипотезу\")\n",
    "else:\n",
    "    print(\"Не получилось отвергнуть нулевую гипотезу\")"
   ]
  },
  {
   "cell_type": "code",
   "execution_count": 86,
   "metadata": {},
   "outputs": [
    {
     "data": {
      "text/plain": [
       "2069.543147208122"
      ]
     },
     "execution_count": 86,
     "metadata": {},
     "output_type": "execute_result"
    }
   ],
   "source": [
    "ultra.mean()"
   ]
  },
  {
   "cell_type": "markdown",
   "metadata": {},
   "source": [
    "Полученное значение p-value говорит о том, что вероятность получить такое или большее различие случайно очень мала. Это явно слишком маленькая вероятность, можно сделать вывод о значимом различии между средними выручками пользователей тарифов «Ультра» и «Смарт». Знак p-значения говорит что выручка в тарифе «Ультра» больше."
   ]
  },
  {
   "cell_type": "markdown",
   "metadata": {},
   "source": [
    "**Средняя выручка пользователей из Москвы отличается от выручки пользователей из других регионов**"
   ]
  },
  {
   "cell_type": "markdown",
   "metadata": {},
   "source": [
    "Проверим гипотезу о том, что cредняя выручка пользователей из Москвы отличается от выручки пользователей из других регионов с помщью t-теста"
   ]
  },
  {
   "cell_type": "code",
   "execution_count": 87,
   "metadata": {},
   "outputs": [],
   "source": [
    "data_moscow = data.query('city == \"Москва\"') # сделаем срез данных по городу Москва"
   ]
  },
  {
   "cell_type": "code",
   "execution_count": 88,
   "metadata": {},
   "outputs": [],
   "source": [
    "data_other_regions = data.query('city != \"Москва\"') # сделаем срез данных по другим городам"
   ]
  },
  {
   "cell_type": "code",
   "execution_count": 89,
   "metadata": {},
   "outputs": [
    {
     "name": "stdout",
     "output_type": "stream",
     "text": [
      "p-значение: 0.5357407978453328\n",
      "Не получилось отвергнуть нулевую гипотезу\n"
     ]
    }
   ],
   "source": [
    "moscow = data_moscow['income']\n",
    "\n",
    "other_regions = data_other_regions['income']\n",
    "\n",
    "alpha =  0.05 # критический уровень статистической значимости\n",
    "\n",
    "results = st.ttest_ind(\n",
    "    moscow, \n",
    "    other_regions) # проверим гипотезу о равенстве средних двух совокупностей\n",
    "\n",
    "print('p-значение:', results.pvalue)\n",
    "\n",
    "if results.pvalue < alpha: # сравниваем получившееся p-значение с заданным уровнем статистической значимости :\n",
    "    print(\"Отвергаем нулевую гипотезу\")\n",
    "else:\n",
    "    print(\"Не получилось отвергнуть нулевую гипотезу\")"
   ]
  },
  {
   "cell_type": "markdown",
   "metadata": {},
   "source": [
    "Полученное значение p-value говорит о том, что вероятность получить такое или большее различие случайно 53 %, хотя средняя выручка и не неодинакова. Это слишком большая вероятность, чтобы делать вывод о значимом различии между средними выручками Москвы и других городов."
   ]
  },
  {
   "cell_type": "markdown",
   "metadata": {},
   "source": [
    "**Вывод**"
   ]
  },
  {
   "cell_type": "markdown",
   "metadata": {},
   "source": [
    "Удалось проверить необходимые гипотезы о том, что:\n",
    "- средняя выручка пользователей тарифов «Ультра» и «Смарт» различаются;\n",
    "- средняя выручка пользователей из Москвы отличается от выручки пользователей из других регионов.\n",
    "\n",
    "Сделал вывод о значимом различии между средними выручками пользователей тарифов «Ультра» и «Смарт» по первой гипотезе. По второй гипотезе сделал вывод о том, что вероятность получить такое или большее различие случайно слишком большая чтобы делать вывод о значимом различии между средними выручками Москвы и других городов.\n"
   ]
  },
  {
   "cell_type": "markdown",
   "metadata": {},
   "source": [
    "## Общий вывод"
   ]
  },
  {
   "cell_type": "markdown",
   "metadata": {},
   "source": [
    "В ходе исследования были изучены два тарифных плана.\n",
    "\n",
    "Посчитано для каждого пользователя:\n",
    "- количество сделанных звонков и израсходованных минут разговора по месяцам;\n",
    "- количество отправленных сообщений по месяцам;\n",
    "- объем израсходованного интернет-трафика по месяцам;\n",
    "- помесячная выручка с каждого пользователя.\n",
    "- сколько минут разговора, сколько сообщений и какой объём интернет-трафика требуется пользователям каждого тарифа в месяц. Среднее количество, дисперсия и стандартное отклонение. Построены гистограммы. Опишисаны распределения.\n",
    "\n",
    "Проверены гипотезы:\n",
    "- средняя выручка пользователей тарифов «Ультра» и «Смарт» различаются;\n",
    "- средняя выручка пользователей из Москвы отличается от выручки пользователей из других регионов.\n",
    "\n",
    "А также дан ответ на вопрос какой тариф лучше. Оказалось, что средняя выручка, которую компания получает с тарифа \"Ультра\" больше, чем выручка с тарифа \"Смарт\", следовательно, для компании тариф \"Ультра\" выгоднее, то есть лучше.\n",
    "\n",
    "Таким образом, были выполнены все задачи, поставленные перед началом исследования."
   ]
  }
 ],
 "metadata": {
  "ExecuteTimeLog": [
   {
    "duration": 162,
    "start_time": "2022-03-20T11:51:11.808Z"
   },
   {
    "duration": 146,
    "start_time": "2022-03-20T11:51:35.328Z"
   },
   {
    "duration": 135,
    "start_time": "2022-03-20T11:51:43.943Z"
   },
   {
    "duration": 100,
    "start_time": "2022-03-20T11:52:12.293Z"
   },
   {
    "duration": 21,
    "start_time": "2022-03-20T11:52:46.635Z"
   },
   {
    "duration": 60,
    "start_time": "2022-03-20T11:53:23.827Z"
   },
   {
    "duration": 12,
    "start_time": "2022-03-20T12:52:50.498Z"
   },
   {
    "duration": 11,
    "start_time": "2022-03-20T12:53:19.660Z"
   },
   {
    "duration": 23,
    "start_time": "2022-03-20T12:53:42.662Z"
   },
   {
    "duration": 24,
    "start_time": "2022-03-20T12:54:25.316Z"
   },
   {
    "duration": 28,
    "start_time": "2022-03-20T12:55:03.702Z"
   },
   {
    "duration": 85,
    "start_time": "2022-03-20T13:28:04.499Z"
   },
   {
    "duration": 23,
    "start_time": "2022-03-20T13:28:22.296Z"
   },
   {
    "duration": 22,
    "start_time": "2022-03-20T13:28:41.087Z"
   },
   {
    "duration": 22,
    "start_time": "2022-03-20T13:29:02.536Z"
   },
   {
    "duration": 21,
    "start_time": "2022-03-20T13:31:29.896Z"
   },
   {
    "duration": 5,
    "start_time": "2022-03-20T13:32:04.847Z"
   },
   {
    "duration": 16,
    "start_time": "2022-03-20T13:32:31.165Z"
   },
   {
    "duration": 19,
    "start_time": "2022-03-20T13:32:47.403Z"
   },
   {
    "duration": 6,
    "start_time": "2022-03-20T13:33:36.851Z"
   },
   {
    "duration": 59,
    "start_time": "2022-03-20T13:40:23.572Z"
   },
   {
    "duration": 24,
    "start_time": "2022-03-20T13:40:42.441Z"
   },
   {
    "duration": 26,
    "start_time": "2022-03-20T13:46:03.655Z"
   },
   {
    "duration": 27,
    "start_time": "2022-03-20T13:46:23.130Z"
   },
   {
    "duration": 21,
    "start_time": "2022-03-20T13:47:31.493Z"
   },
   {
    "duration": 18,
    "start_time": "2022-03-20T13:47:32.933Z"
   },
   {
    "duration": 4,
    "start_time": "2022-03-20T13:49:20.612Z"
   },
   {
    "duration": 13,
    "start_time": "2022-03-20T13:49:28.652Z"
   },
   {
    "duration": 4,
    "start_time": "2022-03-20T14:03:25.140Z"
   },
   {
    "duration": 10,
    "start_time": "2022-03-20T14:03:53.289Z"
   },
   {
    "duration": 8,
    "start_time": "2022-03-20T14:05:53.535Z"
   },
   {
    "duration": 175,
    "start_time": "2022-03-20T14:06:08.842Z"
   },
   {
    "duration": 34,
    "start_time": "2022-03-20T14:06:09.019Z"
   },
   {
    "duration": 27,
    "start_time": "2022-03-20T14:06:09.054Z"
   },
   {
    "duration": 49,
    "start_time": "2022-03-20T14:06:09.083Z"
   },
   {
    "duration": 21,
    "start_time": "2022-03-20T14:06:09.134Z"
   },
   {
    "duration": 4,
    "start_time": "2022-03-20T14:06:09.157Z"
   },
   {
    "duration": 160,
    "start_time": "2022-03-20T14:06:09.163Z"
   },
   {
    "duration": 29,
    "start_time": "2022-03-20T14:06:09.324Z"
   },
   {
    "duration": 17,
    "start_time": "2022-03-20T14:06:09.355Z"
   },
   {
    "duration": 26,
    "start_time": "2022-03-20T14:06:09.375Z"
   },
   {
    "duration": 18,
    "start_time": "2022-03-20T14:06:09.431Z"
   },
   {
    "duration": 94,
    "start_time": "2022-03-20T14:06:09.450Z"
   },
   {
    "duration": 21,
    "start_time": "2022-03-20T14:06:09.546Z"
   },
   {
    "duration": 16,
    "start_time": "2022-03-20T14:06:09.570Z"
   },
   {
    "duration": 44,
    "start_time": "2022-03-20T14:06:09.588Z"
   },
   {
    "duration": 17,
    "start_time": "2022-03-20T14:06:09.633Z"
   },
   {
    "duration": 19,
    "start_time": "2022-03-20T14:06:09.651Z"
   },
   {
    "duration": 11,
    "start_time": "2022-03-20T14:06:09.672Z"
   },
   {
    "duration": 8,
    "start_time": "2022-03-20T14:06:09.685Z"
   },
   {
    "duration": 61,
    "start_time": "2022-03-20T14:06:09.694Z"
   },
   {
    "duration": 10,
    "start_time": "2022-03-20T14:06:09.756Z"
   },
   {
    "duration": 8,
    "start_time": "2022-03-20T14:06:09.768Z"
   },
   {
    "duration": 8,
    "start_time": "2022-03-20T14:06:09.777Z"
   },
   {
    "duration": 15,
    "start_time": "2022-03-20T14:06:09.786Z"
   },
   {
    "duration": 5,
    "start_time": "2022-03-20T14:06:35.900Z"
   },
   {
    "duration": 13,
    "start_time": "2022-03-20T14:07:23.677Z"
   },
   {
    "duration": 12,
    "start_time": "2022-03-20T14:07:32.925Z"
   },
   {
    "duration": 11,
    "start_time": "2022-03-20T14:14:23.178Z"
   },
   {
    "duration": 143,
    "start_time": "2022-03-20T14:17:57.651Z"
   },
   {
    "duration": 132,
    "start_time": "2022-03-20T14:18:15.007Z"
   },
   {
    "duration": 22,
    "start_time": "2022-03-20T14:18:56.910Z"
   },
   {
    "duration": 156,
    "start_time": "2022-03-20T14:19:19.382Z"
   },
   {
    "duration": 26,
    "start_time": "2022-03-20T14:19:19.540Z"
   },
   {
    "duration": 22,
    "start_time": "2022-03-20T14:19:19.568Z"
   },
   {
    "duration": 48,
    "start_time": "2022-03-20T14:19:19.592Z"
   },
   {
    "duration": 20,
    "start_time": "2022-03-20T14:19:19.643Z"
   },
   {
    "duration": 26,
    "start_time": "2022-03-20T14:19:19.665Z"
   },
   {
    "duration": 158,
    "start_time": "2022-03-20T14:19:19.692Z"
   },
   {
    "duration": 23,
    "start_time": "2022-03-20T14:19:19.851Z"
   },
   {
    "duration": 17,
    "start_time": "2022-03-20T14:19:19.876Z"
   },
   {
    "duration": 50,
    "start_time": "2022-03-20T14:19:19.895Z"
   },
   {
    "duration": 19,
    "start_time": "2022-03-20T14:19:19.947Z"
   },
   {
    "duration": 11,
    "start_time": "2022-03-20T14:19:19.967Z"
   },
   {
    "duration": 116,
    "start_time": "2022-03-20T14:19:19.979Z"
   },
   {
    "duration": 33,
    "start_time": "2022-03-20T14:19:20.099Z"
   },
   {
    "duration": 17,
    "start_time": "2022-03-20T14:19:20.135Z"
   },
   {
    "duration": 23,
    "start_time": "2022-03-20T14:19:20.154Z"
   },
   {
    "duration": 17,
    "start_time": "2022-03-20T14:19:20.179Z"
   },
   {
    "duration": 40,
    "start_time": "2022-03-20T14:19:20.198Z"
   },
   {
    "duration": 11,
    "start_time": "2022-03-20T14:19:20.240Z"
   },
   {
    "duration": 8,
    "start_time": "2022-03-20T14:19:20.252Z"
   },
   {
    "duration": 54,
    "start_time": "2022-03-20T14:19:20.262Z"
   },
   {
    "duration": 10,
    "start_time": "2022-03-20T14:19:20.318Z"
   },
   {
    "duration": 10,
    "start_time": "2022-03-20T14:19:20.329Z"
   },
   {
    "duration": 7,
    "start_time": "2022-03-20T14:19:20.341Z"
   },
   {
    "duration": 15,
    "start_time": "2022-03-20T14:19:20.350Z"
   },
   {
    "duration": 23,
    "start_time": "2022-03-20T14:21:04.518Z"
   },
   {
    "duration": 20,
    "start_time": "2022-03-20T14:21:59.739Z"
   },
   {
    "duration": 230,
    "start_time": "2022-03-20T14:33:25.669Z"
   },
   {
    "duration": 187,
    "start_time": "2022-03-20T14:33:55.267Z"
   },
   {
    "duration": 151,
    "start_time": "2022-03-20T14:34:23.602Z"
   },
   {
    "duration": 158,
    "start_time": "2022-03-20T14:34:49.548Z"
   },
   {
    "duration": 45,
    "start_time": "2022-03-24T17:44:19.184Z"
   },
   {
    "duration": 555,
    "start_time": "2022-03-24T17:44:28.582Z"
   },
   {
    "duration": 25,
    "start_time": "2022-03-24T17:44:29.138Z"
   },
   {
    "duration": 20,
    "start_time": "2022-03-24T17:44:29.165Z"
   },
   {
    "duration": 46,
    "start_time": "2022-03-24T17:44:29.187Z"
   },
   {
    "duration": 16,
    "start_time": "2022-03-24T17:44:29.235Z"
   },
   {
    "duration": 21,
    "start_time": "2022-03-24T17:44:29.253Z"
   },
   {
    "duration": 143,
    "start_time": "2022-03-24T17:44:29.275Z"
   },
   {
    "duration": 21,
    "start_time": "2022-03-24T17:44:29.419Z"
   },
   {
    "duration": 15,
    "start_time": "2022-03-24T17:44:29.442Z"
   },
   {
    "duration": 22,
    "start_time": "2022-03-24T17:44:29.460Z"
   },
   {
    "duration": 17,
    "start_time": "2022-03-24T17:44:29.501Z"
   },
   {
    "duration": 25,
    "start_time": "2022-03-24T17:44:29.520Z"
   },
   {
    "duration": 87,
    "start_time": "2022-03-24T17:44:29.547Z"
   },
   {
    "duration": 18,
    "start_time": "2022-03-24T17:44:29.635Z"
   },
   {
    "duration": 12,
    "start_time": "2022-03-24T17:44:29.655Z"
   },
   {
    "duration": 40,
    "start_time": "2022-03-24T17:44:29.669Z"
   },
   {
    "duration": 13,
    "start_time": "2022-03-24T17:44:29.711Z"
   },
   {
    "duration": 19,
    "start_time": "2022-03-24T17:44:29.726Z"
   },
   {
    "duration": 9,
    "start_time": "2022-03-24T17:44:29.747Z"
   },
   {
    "duration": 5,
    "start_time": "2022-03-24T17:44:29.758Z"
   },
   {
    "duration": 39,
    "start_time": "2022-03-24T17:44:29.765Z"
   },
   {
    "duration": 9,
    "start_time": "2022-03-24T17:44:29.806Z"
   },
   {
    "duration": 5,
    "start_time": "2022-03-24T17:44:29.817Z"
   },
   {
    "duration": 5,
    "start_time": "2022-03-24T17:44:29.823Z"
   },
   {
    "duration": 14,
    "start_time": "2022-03-24T17:44:29.829Z"
   },
   {
    "duration": 189,
    "start_time": "2022-03-24T17:44:29.844Z"
   },
   {
    "duration": 186,
    "start_time": "2022-03-24T17:44:30.037Z"
   },
   {
    "duration": 0,
    "start_time": "2022-03-24T17:44:30.225Z"
   },
   {
    "duration": 175,
    "start_time": "2022-03-24T17:45:04.291Z"
   },
   {
    "duration": 198,
    "start_time": "2022-03-24T17:45:55.630Z"
   },
   {
    "duration": 4,
    "start_time": "2022-03-24T18:07:07.883Z"
   },
   {
    "duration": 3,
    "start_time": "2022-03-24T18:07:20.015Z"
   },
   {
    "duration": 4,
    "start_time": "2022-03-24T18:07:33.201Z"
   },
   {
    "duration": 4,
    "start_time": "2022-03-24T18:08:54.568Z"
   },
   {
    "duration": 4,
    "start_time": "2022-03-24T18:09:18.402Z"
   },
   {
    "duration": 159,
    "start_time": "2022-03-24T18:11:47.981Z"
   },
   {
    "duration": 159,
    "start_time": "2022-03-24T18:12:13.728Z"
   },
   {
    "duration": 215,
    "start_time": "2022-03-24T18:12:37.431Z"
   },
   {
    "duration": 163,
    "start_time": "2022-03-24T18:13:07.532Z"
   },
   {
    "duration": 15,
    "start_time": "2022-03-24T18:18:28.548Z"
   },
   {
    "duration": 14,
    "start_time": "2022-03-24T18:18:40.950Z"
   },
   {
    "duration": 192,
    "start_time": "2022-03-24T18:18:57.171Z"
   },
   {
    "duration": 35,
    "start_time": "2022-03-24T18:19:33.072Z"
   },
   {
    "duration": 14,
    "start_time": "2022-03-24T18:20:03.864Z"
   },
   {
    "duration": 14,
    "start_time": "2022-03-24T18:20:37.082Z"
   },
   {
    "duration": 283,
    "start_time": "2022-03-24T18:20:38.160Z"
   },
   {
    "duration": 67,
    "start_time": "2022-03-24T18:23:10.514Z"
   },
   {
    "duration": 69,
    "start_time": "2022-03-24T18:23:28.499Z"
   },
   {
    "duration": 76,
    "start_time": "2022-03-24T18:23:48.752Z"
   },
   {
    "duration": 77,
    "start_time": "2022-03-24T18:24:07.248Z"
   },
   {
    "duration": 66,
    "start_time": "2022-03-24T18:24:16.159Z"
   },
   {
    "duration": 67,
    "start_time": "2022-03-24T18:24:25.693Z"
   },
   {
    "duration": 56,
    "start_time": "2022-03-24T18:30:42.232Z"
   },
   {
    "duration": 56,
    "start_time": "2022-03-24T18:30:57.065Z"
   },
   {
    "duration": 57,
    "start_time": "2022-03-24T18:34:12.426Z"
   },
   {
    "duration": 62,
    "start_time": "2022-03-24T18:34:32.947Z"
   },
   {
    "duration": 861,
    "start_time": "2022-03-24T18:36:17.470Z"
   },
   {
    "duration": 15,
    "start_time": "2022-03-24T18:55:02.969Z"
   },
   {
    "duration": 12,
    "start_time": "2022-03-24T18:56:12.602Z"
   },
   {
    "duration": 13,
    "start_time": "2022-03-24T18:56:53.666Z"
   },
   {
    "duration": 769,
    "start_time": "2022-03-24T18:57:32.838Z"
   },
   {
    "duration": 178,
    "start_time": "2022-03-24T18:57:36.770Z"
   },
   {
    "duration": 29,
    "start_time": "2022-03-24T18:57:36.950Z"
   },
   {
    "duration": 35,
    "start_time": "2022-03-24T18:57:36.981Z"
   },
   {
    "duration": 35,
    "start_time": "2022-03-24T18:57:37.018Z"
   },
   {
    "duration": 21,
    "start_time": "2022-03-24T18:57:37.054Z"
   },
   {
    "duration": 54,
    "start_time": "2022-03-24T18:57:37.077Z"
   },
   {
    "duration": 162,
    "start_time": "2022-03-24T18:57:37.133Z"
   },
   {
    "duration": 28,
    "start_time": "2022-03-24T18:57:37.296Z"
   },
   {
    "duration": 23,
    "start_time": "2022-03-24T18:57:37.326Z"
   },
   {
    "duration": 60,
    "start_time": "2022-03-24T18:57:37.353Z"
   },
   {
    "duration": 18,
    "start_time": "2022-03-24T18:57:37.414Z"
   },
   {
    "duration": 20,
    "start_time": "2022-03-24T18:57:37.434Z"
   },
   {
    "duration": 116,
    "start_time": "2022-03-24T18:57:37.456Z"
   },
   {
    "duration": 29,
    "start_time": "2022-03-24T18:57:37.573Z"
   },
   {
    "duration": 15,
    "start_time": "2022-03-24T18:57:37.603Z"
   },
   {
    "duration": 20,
    "start_time": "2022-03-24T18:57:37.620Z"
   },
   {
    "duration": 15,
    "start_time": "2022-03-24T18:57:37.642Z"
   },
   {
    "duration": 21,
    "start_time": "2022-03-24T18:57:37.659Z"
   },
   {
    "duration": 28,
    "start_time": "2022-03-24T18:57:37.681Z"
   },
   {
    "duration": 6,
    "start_time": "2022-03-24T18:57:37.711Z"
   },
   {
    "duration": 68,
    "start_time": "2022-03-24T18:57:37.718Z"
   },
   {
    "duration": 11,
    "start_time": "2022-03-24T18:57:37.787Z"
   },
   {
    "duration": 7,
    "start_time": "2022-03-24T18:57:37.801Z"
   },
   {
    "duration": 6,
    "start_time": "2022-03-24T18:57:37.810Z"
   },
   {
    "duration": 13,
    "start_time": "2022-03-24T18:57:37.818Z"
   },
   {
    "duration": 228,
    "start_time": "2022-03-24T18:57:37.833Z"
   },
   {
    "duration": 744,
    "start_time": "2022-03-24T18:57:38.064Z"
   },
   {
    "duration": 0,
    "start_time": "2022-03-24T18:57:38.810Z"
   },
   {
    "duration": 0,
    "start_time": "2022-03-24T18:57:38.811Z"
   },
   {
    "duration": 0,
    "start_time": "2022-03-24T18:57:38.813Z"
   },
   {
    "duration": 0,
    "start_time": "2022-03-24T18:57:38.814Z"
   },
   {
    "duration": 659,
    "start_time": "2022-03-24T18:58:35.839Z"
   },
   {
    "duration": 25,
    "start_time": "2022-03-24T18:59:55.582Z"
   },
   {
    "duration": 78,
    "start_time": "2022-03-24T19:01:13.042Z"
   },
   {
    "duration": 67,
    "start_time": "2022-03-24T19:01:20.513Z"
   },
   {
    "duration": 727,
    "start_time": "2022-03-24T19:01:34.835Z"
   },
   {
    "duration": 71,
    "start_time": "2022-03-24T19:01:54.466Z"
   },
   {
    "duration": 687,
    "start_time": "2022-03-24T19:02:55.014Z"
   },
   {
    "duration": 844,
    "start_time": "2022-03-24T19:03:13.046Z"
   },
   {
    "duration": 61,
    "start_time": "2022-03-24T19:03:25.022Z"
   },
   {
    "duration": 13,
    "start_time": "2022-03-24T19:08:47.087Z"
   },
   {
    "duration": 12,
    "start_time": "2022-03-24T19:09:23.928Z"
   },
   {
    "duration": 711,
    "start_time": "2022-03-26T15:56:29.370Z"
   },
   {
    "duration": 34,
    "start_time": "2022-03-26T15:56:30.085Z"
   },
   {
    "duration": 36,
    "start_time": "2022-03-26T15:56:30.121Z"
   },
   {
    "duration": 89,
    "start_time": "2022-03-26T15:56:30.161Z"
   },
   {
    "duration": 25,
    "start_time": "2022-03-26T15:56:30.252Z"
   },
   {
    "duration": 88,
    "start_time": "2022-03-26T15:56:30.280Z"
   },
   {
    "duration": 170,
    "start_time": "2022-03-26T15:56:30.372Z"
   },
   {
    "duration": 44,
    "start_time": "2022-03-26T15:56:30.544Z"
   },
   {
    "duration": 51,
    "start_time": "2022-03-26T15:56:30.590Z"
   },
   {
    "duration": 62,
    "start_time": "2022-03-26T15:56:30.646Z"
   },
   {
    "duration": 56,
    "start_time": "2022-03-26T15:56:30.710Z"
   },
   {
    "duration": 63,
    "start_time": "2022-03-26T15:56:30.768Z"
   },
   {
    "duration": 149,
    "start_time": "2022-03-26T15:56:30.834Z"
   },
   {
    "duration": 28,
    "start_time": "2022-03-26T15:56:30.986Z"
   },
   {
    "duration": 59,
    "start_time": "2022-03-26T15:56:31.017Z"
   },
   {
    "duration": 88,
    "start_time": "2022-03-26T15:56:31.079Z"
   },
   {
    "duration": 38,
    "start_time": "2022-03-26T15:56:31.169Z"
   },
   {
    "duration": 28,
    "start_time": "2022-03-26T15:56:31.209Z"
   },
   {
    "duration": 19,
    "start_time": "2022-03-26T15:56:31.239Z"
   },
   {
    "duration": 40,
    "start_time": "2022-03-26T15:56:31.260Z"
   },
   {
    "duration": 72,
    "start_time": "2022-03-26T15:56:31.303Z"
   },
   {
    "duration": 16,
    "start_time": "2022-03-26T15:56:31.377Z"
   },
   {
    "duration": 52,
    "start_time": "2022-03-26T15:56:31.396Z"
   },
   {
    "duration": 56,
    "start_time": "2022-03-26T15:56:31.451Z"
   },
   {
    "duration": 41,
    "start_time": "2022-03-26T15:56:31.510Z"
   },
   {
    "duration": 138,
    "start_time": "2022-03-26T15:56:31.553Z"
   },
   {
    "duration": 0,
    "start_time": "2022-03-26T15:56:31.693Z"
   },
   {
    "duration": 0,
    "start_time": "2022-03-26T15:56:31.695Z"
   },
   {
    "duration": 0,
    "start_time": "2022-03-26T15:56:31.696Z"
   },
   {
    "duration": 0,
    "start_time": "2022-03-26T15:56:31.698Z"
   },
   {
    "duration": 0,
    "start_time": "2022-03-26T15:56:31.699Z"
   },
   {
    "duration": 0,
    "start_time": "2022-03-26T15:56:31.700Z"
   },
   {
    "duration": 251,
    "start_time": "2022-03-26T15:57:10.838Z"
   },
   {
    "duration": 103,
    "start_time": "2022-03-26T15:57:25.457Z"
   },
   {
    "duration": 89,
    "start_time": "2022-03-26T15:58:17.280Z"
   },
   {
    "duration": 20,
    "start_time": "2022-03-26T15:58:24.672Z"
   },
   {
    "duration": 16,
    "start_time": "2022-03-26T15:58:32.050Z"
   },
   {
    "duration": 65,
    "start_time": "2022-03-26T16:16:10.989Z"
   },
   {
    "duration": 676,
    "start_time": "2022-03-26T16:16:21.398Z"
   },
   {
    "duration": 32,
    "start_time": "2022-03-26T16:16:22.083Z"
   },
   {
    "duration": 25,
    "start_time": "2022-03-26T16:16:22.117Z"
   },
   {
    "duration": 76,
    "start_time": "2022-03-26T16:16:22.146Z"
   },
   {
    "duration": 25,
    "start_time": "2022-03-26T16:16:22.224Z"
   },
   {
    "duration": 58,
    "start_time": "2022-03-26T16:16:22.252Z"
   },
   {
    "duration": 171,
    "start_time": "2022-03-26T16:16:22.312Z"
   },
   {
    "duration": 27,
    "start_time": "2022-03-26T16:16:22.486Z"
   },
   {
    "duration": 19,
    "start_time": "2022-03-26T16:16:22.515Z"
   },
   {
    "duration": 67,
    "start_time": "2022-03-26T16:16:22.539Z"
   },
   {
    "duration": 23,
    "start_time": "2022-03-26T16:16:22.609Z"
   },
   {
    "duration": 53,
    "start_time": "2022-03-26T16:16:22.634Z"
   },
   {
    "duration": 112,
    "start_time": "2022-03-26T16:16:22.690Z"
   },
   {
    "duration": 28,
    "start_time": "2022-03-26T16:16:22.804Z"
   },
   {
    "duration": 50,
    "start_time": "2022-03-26T16:16:22.835Z"
   },
   {
    "duration": 29,
    "start_time": "2022-03-26T16:16:22.887Z"
   },
   {
    "duration": 19,
    "start_time": "2022-03-26T16:16:22.918Z"
   },
   {
    "duration": 50,
    "start_time": "2022-03-26T16:16:22.940Z"
   },
   {
    "duration": 14,
    "start_time": "2022-03-26T16:16:22.993Z"
   },
   {
    "duration": 15,
    "start_time": "2022-03-26T16:16:23.009Z"
   },
   {
    "duration": 33,
    "start_time": "2022-03-26T16:16:23.026Z"
   },
   {
    "duration": 32,
    "start_time": "2022-03-26T16:16:23.061Z"
   },
   {
    "duration": 17,
    "start_time": "2022-03-26T16:16:23.095Z"
   },
   {
    "duration": 9,
    "start_time": "2022-03-26T16:16:23.114Z"
   },
   {
    "duration": 18,
    "start_time": "2022-03-26T16:16:23.125Z"
   },
   {
    "duration": 67,
    "start_time": "2022-03-26T16:16:48.576Z"
   },
   {
    "duration": 8,
    "start_time": "2022-03-26T16:16:54.041Z"
   },
   {
    "duration": 9,
    "start_time": "2022-03-26T16:17:46.171Z"
   },
   {
    "duration": 725,
    "start_time": "2022-03-26T16:18:12.459Z"
   },
   {
    "duration": 33,
    "start_time": "2022-03-26T16:18:13.187Z"
   },
   {
    "duration": 23,
    "start_time": "2022-03-26T16:18:13.223Z"
   },
   {
    "duration": 81,
    "start_time": "2022-03-26T16:18:13.249Z"
   },
   {
    "duration": 49,
    "start_time": "2022-03-26T16:18:13.334Z"
   },
   {
    "duration": 32,
    "start_time": "2022-03-26T16:18:13.386Z"
   },
   {
    "duration": 190,
    "start_time": "2022-03-26T16:18:13.420Z"
   },
   {
    "duration": 32,
    "start_time": "2022-03-26T16:18:13.613Z"
   },
   {
    "duration": 59,
    "start_time": "2022-03-26T16:18:13.648Z"
   },
   {
    "duration": 34,
    "start_time": "2022-03-26T16:18:13.709Z"
   },
   {
    "duration": 48,
    "start_time": "2022-03-26T16:18:13.745Z"
   },
   {
    "duration": 28,
    "start_time": "2022-03-26T16:18:13.797Z"
   },
   {
    "duration": 139,
    "start_time": "2022-03-26T16:18:13.827Z"
   },
   {
    "duration": 36,
    "start_time": "2022-03-26T16:18:13.971Z"
   },
   {
    "duration": 31,
    "start_time": "2022-03-26T16:18:14.010Z"
   },
   {
    "duration": 52,
    "start_time": "2022-03-26T16:18:14.043Z"
   },
   {
    "duration": 59,
    "start_time": "2022-03-26T16:18:14.098Z"
   },
   {
    "duration": 54,
    "start_time": "2022-03-26T16:18:14.160Z"
   },
   {
    "duration": 50,
    "start_time": "2022-03-26T16:18:14.216Z"
   },
   {
    "duration": 42,
    "start_time": "2022-03-26T16:18:14.269Z"
   },
   {
    "duration": 63,
    "start_time": "2022-03-26T16:18:14.314Z"
   },
   {
    "duration": 60,
    "start_time": "2022-03-26T16:18:14.380Z"
   },
   {
    "duration": 42,
    "start_time": "2022-03-26T16:18:14.442Z"
   },
   {
    "duration": 62,
    "start_time": "2022-03-26T16:18:14.486Z"
   },
   {
    "duration": 49,
    "start_time": "2022-03-26T16:18:14.550Z"
   },
   {
    "duration": 73,
    "start_time": "2022-03-26T16:18:35.200Z"
   },
   {
    "duration": 9,
    "start_time": "2022-03-26T16:18:51.757Z"
   },
   {
    "duration": 747,
    "start_time": "2022-03-26T16:18:55.641Z"
   },
   {
    "duration": 39,
    "start_time": "2022-03-26T16:18:56.390Z"
   },
   {
    "duration": 54,
    "start_time": "2022-03-26T16:18:56.432Z"
   },
   {
    "duration": 54,
    "start_time": "2022-03-26T16:18:56.489Z"
   },
   {
    "duration": 55,
    "start_time": "2022-03-26T16:18:56.546Z"
   },
   {
    "duration": 33,
    "start_time": "2022-03-26T16:18:56.604Z"
   },
   {
    "duration": 192,
    "start_time": "2022-03-26T16:18:56.639Z"
   },
   {
    "duration": 27,
    "start_time": "2022-03-26T16:18:56.834Z"
   },
   {
    "duration": 20,
    "start_time": "2022-03-26T16:18:56.882Z"
   },
   {
    "duration": 38,
    "start_time": "2022-03-26T16:18:56.904Z"
   },
   {
    "duration": 48,
    "start_time": "2022-03-26T16:18:56.944Z"
   },
   {
    "duration": 26,
    "start_time": "2022-03-26T16:18:56.994Z"
   },
   {
    "duration": 141,
    "start_time": "2022-03-26T16:18:57.022Z"
   },
   {
    "duration": 33,
    "start_time": "2022-03-26T16:18:57.167Z"
   },
   {
    "duration": 16,
    "start_time": "2022-03-26T16:18:57.202Z"
   },
   {
    "duration": 27,
    "start_time": "2022-03-26T16:18:57.221Z"
   },
   {
    "duration": 47,
    "start_time": "2022-03-26T16:18:57.251Z"
   },
   {
    "duration": 19,
    "start_time": "2022-03-26T16:18:57.300Z"
   },
   {
    "duration": 14,
    "start_time": "2022-03-26T16:18:57.321Z"
   },
   {
    "duration": 46,
    "start_time": "2022-03-26T16:18:57.337Z"
   },
   {
    "duration": 35,
    "start_time": "2022-03-26T16:18:57.386Z"
   },
   {
    "duration": 16,
    "start_time": "2022-03-26T16:18:57.423Z"
   },
   {
    "duration": 8,
    "start_time": "2022-03-26T16:18:57.441Z"
   },
   {
    "duration": 5,
    "start_time": "2022-03-26T16:18:57.482Z"
   },
   {
    "duration": 21,
    "start_time": "2022-03-26T16:18:57.489Z"
   },
   {
    "duration": 70,
    "start_time": "2022-03-26T16:18:57.513Z"
   },
   {
    "duration": 0,
    "start_time": "2022-03-26T16:18:57.585Z"
   },
   {
    "duration": 0,
    "start_time": "2022-03-26T16:18:57.587Z"
   },
   {
    "duration": 0,
    "start_time": "2022-03-26T16:18:57.589Z"
   },
   {
    "duration": 0,
    "start_time": "2022-03-26T16:18:57.590Z"
   },
   {
    "duration": 0,
    "start_time": "2022-03-26T16:18:57.592Z"
   },
   {
    "duration": 0,
    "start_time": "2022-03-26T16:18:57.593Z"
   },
   {
    "duration": 264,
    "start_time": "2022-03-26T16:19:08.633Z"
   },
   {
    "duration": 66,
    "start_time": "2022-03-26T16:23:00.693Z"
   },
   {
    "duration": 735,
    "start_time": "2022-03-26T16:23:09.356Z"
   },
   {
    "duration": 35,
    "start_time": "2022-03-26T16:23:10.094Z"
   },
   {
    "duration": 55,
    "start_time": "2022-03-26T16:23:10.132Z"
   },
   {
    "duration": 49,
    "start_time": "2022-03-26T16:23:10.190Z"
   },
   {
    "duration": 48,
    "start_time": "2022-03-26T16:23:10.242Z"
   },
   {
    "duration": 37,
    "start_time": "2022-03-26T16:23:10.292Z"
   },
   {
    "duration": 182,
    "start_time": "2022-03-26T16:23:10.332Z"
   },
   {
    "duration": 29,
    "start_time": "2022-03-26T16:23:10.516Z"
   },
   {
    "duration": 44,
    "start_time": "2022-03-26T16:23:10.547Z"
   },
   {
    "duration": 35,
    "start_time": "2022-03-26T16:23:10.595Z"
   },
   {
    "duration": 23,
    "start_time": "2022-03-26T16:23:10.633Z"
   },
   {
    "duration": 25,
    "start_time": "2022-03-26T16:23:10.683Z"
   },
   {
    "duration": 133,
    "start_time": "2022-03-26T16:23:10.710Z"
   },
   {
    "duration": 40,
    "start_time": "2022-03-26T16:23:10.846Z"
   },
   {
    "duration": 30,
    "start_time": "2022-03-26T16:23:10.888Z"
   },
   {
    "duration": 46,
    "start_time": "2022-03-26T16:23:10.921Z"
   },
   {
    "duration": 28,
    "start_time": "2022-03-26T16:23:10.969Z"
   },
   {
    "duration": 22,
    "start_time": "2022-03-26T16:23:10.999Z"
   },
   {
    "duration": 24,
    "start_time": "2022-03-26T16:23:11.024Z"
   },
   {
    "duration": 31,
    "start_time": "2022-03-26T16:23:11.051Z"
   },
   {
    "duration": 58,
    "start_time": "2022-03-26T16:23:11.085Z"
   },
   {
    "duration": 22,
    "start_time": "2022-03-26T16:23:11.146Z"
   },
   {
    "duration": 9,
    "start_time": "2022-03-26T16:23:11.181Z"
   },
   {
    "duration": 27,
    "start_time": "2022-03-26T16:23:11.193Z"
   },
   {
    "duration": 42,
    "start_time": "2022-03-26T16:23:11.222Z"
   },
   {
    "duration": 81,
    "start_time": "2022-03-26T16:23:29.676Z"
   },
   {
    "duration": 9,
    "start_time": "2022-03-26T16:23:33.066Z"
   },
   {
    "duration": 720,
    "start_time": "2022-03-26T16:23:37.222Z"
   },
   {
    "duration": 50,
    "start_time": "2022-03-26T16:23:37.945Z"
   },
   {
    "duration": 25,
    "start_time": "2022-03-26T16:23:37.997Z"
   },
   {
    "duration": 84,
    "start_time": "2022-03-26T16:23:38.025Z"
   },
   {
    "duration": 26,
    "start_time": "2022-03-26T16:23:38.111Z"
   },
   {
    "duration": 63,
    "start_time": "2022-03-26T16:23:38.139Z"
   },
   {
    "duration": 178,
    "start_time": "2022-03-26T16:23:38.204Z"
   },
   {
    "duration": 28,
    "start_time": "2022-03-26T16:23:38.384Z"
   },
   {
    "duration": 27,
    "start_time": "2022-03-26T16:23:38.414Z"
   },
   {
    "duration": 63,
    "start_time": "2022-03-26T16:23:38.447Z"
   },
   {
    "duration": 27,
    "start_time": "2022-03-26T16:23:38.514Z"
   },
   {
    "duration": 69,
    "start_time": "2022-03-26T16:23:38.544Z"
   },
   {
    "duration": 133,
    "start_time": "2022-03-26T16:23:38.616Z"
   },
   {
    "duration": 36,
    "start_time": "2022-03-26T16:23:38.751Z"
   },
   {
    "duration": 18,
    "start_time": "2022-03-26T16:23:38.789Z"
   },
   {
    "duration": 38,
    "start_time": "2022-03-26T16:23:38.810Z"
   },
   {
    "duration": 54,
    "start_time": "2022-03-26T16:23:38.851Z"
   },
   {
    "duration": 19,
    "start_time": "2022-03-26T16:23:38.908Z"
   },
   {
    "duration": 16,
    "start_time": "2022-03-26T16:23:38.930Z"
   },
   {
    "duration": 10,
    "start_time": "2022-03-26T16:23:38.989Z"
   },
   {
    "duration": 48,
    "start_time": "2022-03-26T16:23:39.003Z"
   },
   {
    "duration": 30,
    "start_time": "2022-03-26T16:23:39.053Z"
   },
   {
    "duration": 10,
    "start_time": "2022-03-26T16:23:39.086Z"
   },
   {
    "duration": 16,
    "start_time": "2022-03-26T16:23:39.099Z"
   },
   {
    "duration": 33,
    "start_time": "2022-03-26T16:23:39.119Z"
   },
   {
    "duration": 69,
    "start_time": "2022-03-26T16:23:52.034Z"
   },
   {
    "duration": 72,
    "start_time": "2022-03-26T16:27:46.505Z"
   },
   {
    "duration": 665,
    "start_time": "2022-03-26T16:27:51.528Z"
   },
   {
    "duration": 35,
    "start_time": "2022-03-26T16:27:52.196Z"
   },
   {
    "duration": 52,
    "start_time": "2022-03-26T16:27:52.233Z"
   },
   {
    "duration": 55,
    "start_time": "2022-03-26T16:27:52.288Z"
   },
   {
    "duration": 50,
    "start_time": "2022-03-26T16:27:52.347Z"
   },
   {
    "duration": 40,
    "start_time": "2022-03-26T16:27:52.400Z"
   },
   {
    "duration": 192,
    "start_time": "2022-03-26T16:27:52.442Z"
   },
   {
    "duration": 28,
    "start_time": "2022-03-26T16:27:52.636Z"
   },
   {
    "duration": 25,
    "start_time": "2022-03-26T16:27:52.683Z"
   },
   {
    "duration": 35,
    "start_time": "2022-03-26T16:27:52.710Z"
   },
   {
    "duration": 53,
    "start_time": "2022-03-26T16:27:52.747Z"
   },
   {
    "duration": 35,
    "start_time": "2022-03-26T16:27:52.802Z"
   },
   {
    "duration": 124,
    "start_time": "2022-03-26T16:27:52.840Z"
   },
   {
    "duration": 36,
    "start_time": "2022-03-26T16:27:52.971Z"
   },
   {
    "duration": 30,
    "start_time": "2022-03-26T16:27:53.010Z"
   },
   {
    "duration": 50,
    "start_time": "2022-03-26T16:27:53.043Z"
   },
   {
    "duration": 31,
    "start_time": "2022-03-26T16:27:53.095Z"
   },
   {
    "duration": 46,
    "start_time": "2022-03-26T16:27:53.129Z"
   },
   {
    "duration": 21,
    "start_time": "2022-03-26T16:27:53.177Z"
   },
   {
    "duration": 28,
    "start_time": "2022-03-26T16:27:53.200Z"
   },
   {
    "duration": 68,
    "start_time": "2022-03-26T16:27:53.231Z"
   },
   {
    "duration": 18,
    "start_time": "2022-03-26T16:27:53.302Z"
   },
   {
    "duration": 39,
    "start_time": "2022-03-26T16:27:53.323Z"
   },
   {
    "duration": 48,
    "start_time": "2022-03-26T16:27:53.365Z"
   },
   {
    "duration": 41,
    "start_time": "2022-03-26T16:27:53.415Z"
   },
   {
    "duration": 72,
    "start_time": "2022-03-26T16:28:19.204Z"
   },
   {
    "duration": 710,
    "start_time": "2022-03-26T16:28:23.105Z"
   },
   {
    "duration": 33,
    "start_time": "2022-03-26T16:28:23.818Z"
   },
   {
    "duration": 49,
    "start_time": "2022-03-26T16:28:23.853Z"
   },
   {
    "duration": 59,
    "start_time": "2022-03-26T16:28:23.905Z"
   },
   {
    "duration": 42,
    "start_time": "2022-03-26T16:28:23.966Z"
   },
   {
    "duration": 63,
    "start_time": "2022-03-26T16:28:24.011Z"
   },
   {
    "duration": 165,
    "start_time": "2022-03-26T16:28:24.076Z"
   },
   {
    "duration": 48,
    "start_time": "2022-03-26T16:28:24.243Z"
   },
   {
    "duration": 24,
    "start_time": "2022-03-26T16:28:24.293Z"
   },
   {
    "duration": 42,
    "start_time": "2022-03-26T16:28:24.323Z"
   },
   {
    "duration": 28,
    "start_time": "2022-03-26T16:28:24.382Z"
   },
   {
    "duration": 40,
    "start_time": "2022-03-26T16:28:24.412Z"
   },
   {
    "duration": 140,
    "start_time": "2022-03-26T16:28:24.455Z"
   },
   {
    "duration": 29,
    "start_time": "2022-03-26T16:28:24.598Z"
   },
   {
    "duration": 29,
    "start_time": "2022-03-26T16:28:24.629Z"
   },
   {
    "duration": 34,
    "start_time": "2022-03-26T16:28:24.683Z"
   },
   {
    "duration": 28,
    "start_time": "2022-03-26T16:28:24.719Z"
   },
   {
    "duration": 40,
    "start_time": "2022-03-26T16:28:24.750Z"
   },
   {
    "duration": 32,
    "start_time": "2022-03-26T16:28:24.793Z"
   },
   {
    "duration": 24,
    "start_time": "2022-03-26T16:28:24.828Z"
   },
   {
    "duration": 51,
    "start_time": "2022-03-26T16:28:24.854Z"
   },
   {
    "duration": 15,
    "start_time": "2022-03-26T16:28:24.907Z"
   },
   {
    "duration": 30,
    "start_time": "2022-03-26T16:28:24.924Z"
   },
   {
    "duration": 32,
    "start_time": "2022-03-26T16:28:24.956Z"
   },
   {
    "duration": 31,
    "start_time": "2022-03-26T16:28:24.990Z"
   },
   {
    "duration": 77,
    "start_time": "2022-03-26T16:28:25.023Z"
   },
   {
    "duration": 0,
    "start_time": "2022-03-26T16:28:25.103Z"
   },
   {
    "duration": 0,
    "start_time": "2022-03-26T16:28:25.104Z"
   },
   {
    "duration": 0,
    "start_time": "2022-03-26T16:28:25.106Z"
   },
   {
    "duration": 0,
    "start_time": "2022-03-26T16:28:25.107Z"
   },
   {
    "duration": 0,
    "start_time": "2022-03-26T16:28:25.109Z"
   },
   {
    "duration": 0,
    "start_time": "2022-03-26T16:28:25.110Z"
   },
   {
    "duration": 17,
    "start_time": "2022-03-26T16:29:19.822Z"
   },
   {
    "duration": 16,
    "start_time": "2022-03-26T16:31:28.433Z"
   },
   {
    "duration": 19,
    "start_time": "2022-03-26T16:32:23.100Z"
   },
   {
    "duration": 716,
    "start_time": "2022-03-26T16:32:59.467Z"
   },
   {
    "duration": 33,
    "start_time": "2022-03-26T16:33:00.186Z"
   },
   {
    "duration": 58,
    "start_time": "2022-03-26T16:33:00.225Z"
   },
   {
    "duration": 51,
    "start_time": "2022-03-26T16:33:00.286Z"
   },
   {
    "duration": 55,
    "start_time": "2022-03-26T16:33:00.340Z"
   },
   {
    "duration": 40,
    "start_time": "2022-03-26T16:33:00.397Z"
   },
   {
    "duration": 185,
    "start_time": "2022-03-26T16:33:00.440Z"
   },
   {
    "duration": 31,
    "start_time": "2022-03-26T16:33:00.628Z"
   },
   {
    "duration": 43,
    "start_time": "2022-03-26T16:33:00.684Z"
   },
   {
    "duration": 88,
    "start_time": "2022-03-26T16:33:00.730Z"
   },
   {
    "duration": 33,
    "start_time": "2022-03-26T16:33:00.820Z"
   },
   {
    "duration": 35,
    "start_time": "2022-03-26T16:33:00.856Z"
   },
   {
    "duration": 122,
    "start_time": "2022-03-26T16:33:00.897Z"
   },
   {
    "duration": 29,
    "start_time": "2022-03-26T16:33:01.022Z"
   },
   {
    "duration": 71,
    "start_time": "2022-03-26T16:33:01.054Z"
   },
   {
    "duration": 90,
    "start_time": "2022-03-26T16:33:01.128Z"
   },
   {
    "duration": 41,
    "start_time": "2022-03-26T16:33:01.220Z"
   },
   {
    "duration": 24,
    "start_time": "2022-03-26T16:33:01.264Z"
   },
   {
    "duration": 25,
    "start_time": "2022-03-26T16:33:01.291Z"
   },
   {
    "duration": 71,
    "start_time": "2022-03-26T16:33:01.319Z"
   },
   {
    "duration": 102,
    "start_time": "2022-03-26T16:33:01.393Z"
   },
   {
    "duration": 31,
    "start_time": "2022-03-26T16:33:01.497Z"
   },
   {
    "duration": 44,
    "start_time": "2022-03-26T16:33:01.531Z"
   },
   {
    "duration": 45,
    "start_time": "2022-03-26T16:33:01.578Z"
   },
   {
    "duration": 48,
    "start_time": "2022-03-26T16:33:01.626Z"
   },
   {
    "duration": 729,
    "start_time": "2022-03-26T16:34:23.853Z"
   },
   {
    "duration": 38,
    "start_time": "2022-03-26T16:34:24.585Z"
   },
   {
    "duration": 56,
    "start_time": "2022-03-26T16:34:24.626Z"
   },
   {
    "duration": 51,
    "start_time": "2022-03-26T16:34:24.686Z"
   },
   {
    "duration": 49,
    "start_time": "2022-03-26T16:34:24.739Z"
   },
   {
    "duration": 32,
    "start_time": "2022-03-26T16:34:24.790Z"
   },
   {
    "duration": 185,
    "start_time": "2022-03-26T16:34:24.824Z"
   },
   {
    "duration": 32,
    "start_time": "2022-03-26T16:34:25.011Z"
   },
   {
    "duration": 42,
    "start_time": "2022-03-26T16:34:25.045Z"
   },
   {
    "duration": 34,
    "start_time": "2022-03-26T16:34:25.091Z"
   },
   {
    "duration": 55,
    "start_time": "2022-03-26T16:34:25.127Z"
   },
   {
    "duration": 28,
    "start_time": "2022-03-26T16:34:25.184Z"
   },
   {
    "duration": 133,
    "start_time": "2022-03-26T16:34:25.215Z"
   },
   {
    "duration": 37,
    "start_time": "2022-03-26T16:34:25.350Z"
   },
   {
    "duration": 17,
    "start_time": "2022-03-26T16:34:25.389Z"
   },
   {
    "duration": 31,
    "start_time": "2022-03-26T16:34:25.408Z"
   },
   {
    "duration": 48,
    "start_time": "2022-03-26T16:34:25.441Z"
   },
   {
    "duration": 20,
    "start_time": "2022-03-26T16:34:25.491Z"
   },
   {
    "duration": 15,
    "start_time": "2022-03-26T16:34:25.513Z"
   },
   {
    "duration": 11,
    "start_time": "2022-03-26T16:34:25.530Z"
   },
   {
    "duration": 31,
    "start_time": "2022-03-26T16:34:25.583Z"
   },
   {
    "duration": 16,
    "start_time": "2022-03-26T16:34:25.616Z"
   },
   {
    "duration": 15,
    "start_time": "2022-03-26T16:34:25.634Z"
   },
   {
    "duration": 36,
    "start_time": "2022-03-26T16:34:25.652Z"
   },
   {
    "duration": 19,
    "start_time": "2022-03-26T16:34:25.691Z"
   },
   {
    "duration": 74,
    "start_time": "2022-03-26T16:34:43.449Z"
   },
   {
    "duration": 707,
    "start_time": "2022-03-26T16:34:48.983Z"
   },
   {
    "duration": 35,
    "start_time": "2022-03-26T16:34:49.692Z"
   },
   {
    "duration": 53,
    "start_time": "2022-03-26T16:34:49.729Z"
   },
   {
    "duration": 48,
    "start_time": "2022-03-26T16:34:49.785Z"
   },
   {
    "duration": 54,
    "start_time": "2022-03-26T16:34:49.836Z"
   },
   {
    "duration": 31,
    "start_time": "2022-03-26T16:34:49.892Z"
   },
   {
    "duration": 186,
    "start_time": "2022-03-26T16:34:49.925Z"
   },
   {
    "duration": 28,
    "start_time": "2022-03-26T16:34:50.113Z"
   },
   {
    "duration": 44,
    "start_time": "2022-03-26T16:34:50.143Z"
   },
   {
    "duration": 36,
    "start_time": "2022-03-26T16:34:50.193Z"
   },
   {
    "duration": 61,
    "start_time": "2022-03-26T16:34:50.231Z"
   },
   {
    "duration": 29,
    "start_time": "2022-03-26T16:34:50.295Z"
   },
   {
    "duration": 148,
    "start_time": "2022-03-26T16:34:50.327Z"
   },
   {
    "duration": 27,
    "start_time": "2022-03-26T16:34:50.477Z"
   },
   {
    "duration": 40,
    "start_time": "2022-03-26T16:34:50.506Z"
   },
   {
    "duration": 43,
    "start_time": "2022-03-26T16:34:50.548Z"
   },
   {
    "duration": 22,
    "start_time": "2022-03-26T16:34:50.593Z"
   },
   {
    "duration": 19,
    "start_time": "2022-03-26T16:34:50.617Z"
   },
   {
    "duration": 15,
    "start_time": "2022-03-26T16:34:50.638Z"
   },
   {
    "duration": 7,
    "start_time": "2022-03-26T16:34:50.683Z"
   },
   {
    "duration": 34,
    "start_time": "2022-03-26T16:34:50.693Z"
   },
   {
    "duration": 16,
    "start_time": "2022-03-26T16:34:50.729Z"
   },
   {
    "duration": 7,
    "start_time": "2022-03-26T16:34:50.783Z"
   },
   {
    "duration": 17,
    "start_time": "2022-03-26T16:34:50.793Z"
   },
   {
    "duration": 20,
    "start_time": "2022-03-26T16:34:50.812Z"
   },
   {
    "duration": 293,
    "start_time": "2022-03-26T16:34:50.835Z"
   },
   {
    "duration": 122,
    "start_time": "2022-03-26T16:34:51.130Z"
   },
   {
    "duration": 98,
    "start_time": "2022-03-26T16:34:51.256Z"
   },
   {
    "duration": 67,
    "start_time": "2022-03-26T16:34:51.356Z"
   },
   {
    "duration": 0,
    "start_time": "2022-03-26T16:34:51.425Z"
   },
   {
    "duration": 0,
    "start_time": "2022-03-26T16:34:51.426Z"
   },
   {
    "duration": 1141,
    "start_time": "2022-03-26T16:35:08.911Z"
   },
   {
    "duration": 69,
    "start_time": "2022-03-26T16:42:50.528Z"
   },
   {
    "duration": 127,
    "start_time": "2022-03-26T16:46:38.942Z"
   },
   {
    "duration": 9,
    "start_time": "2022-03-26T16:46:55.203Z"
   },
   {
    "duration": 9,
    "start_time": "2022-03-26T16:47:19.936Z"
   },
   {
    "duration": 10,
    "start_time": "2022-03-26T16:47:33.168Z"
   },
   {
    "duration": 666,
    "start_time": "2022-03-26T16:47:35.216Z"
   },
   {
    "duration": 34,
    "start_time": "2022-03-26T16:47:35.884Z"
   },
   {
    "duration": 32,
    "start_time": "2022-03-26T16:47:35.920Z"
   },
   {
    "duration": 69,
    "start_time": "2022-03-26T16:47:35.955Z"
   },
   {
    "duration": 27,
    "start_time": "2022-03-26T16:47:36.026Z"
   },
   {
    "duration": 32,
    "start_time": "2022-03-26T16:47:36.083Z"
   },
   {
    "duration": 182,
    "start_time": "2022-03-26T16:47:36.118Z"
   },
   {
    "duration": 35,
    "start_time": "2022-03-26T16:47:36.302Z"
   },
   {
    "duration": 62,
    "start_time": "2022-03-26T16:47:36.340Z"
   },
   {
    "duration": 35,
    "start_time": "2022-03-26T16:47:36.408Z"
   },
   {
    "duration": 49,
    "start_time": "2022-03-26T16:47:36.446Z"
   },
   {
    "duration": 27,
    "start_time": "2022-03-26T16:47:36.498Z"
   },
   {
    "duration": 152,
    "start_time": "2022-03-26T16:47:36.527Z"
   },
   {
    "duration": 25,
    "start_time": "2022-03-26T16:47:36.682Z"
   },
   {
    "duration": 22,
    "start_time": "2022-03-26T16:47:36.709Z"
   },
   {
    "duration": 58,
    "start_time": "2022-03-26T16:47:36.733Z"
   },
   {
    "duration": 22,
    "start_time": "2022-03-26T16:47:36.793Z"
   },
   {
    "duration": 23,
    "start_time": "2022-03-26T16:47:36.817Z"
   },
   {
    "duration": 44,
    "start_time": "2022-03-26T16:47:36.842Z"
   },
   {
    "duration": 24,
    "start_time": "2022-03-26T16:47:36.888Z"
   },
   {
    "duration": 39,
    "start_time": "2022-03-26T16:47:36.915Z"
   },
   {
    "duration": 15,
    "start_time": "2022-03-26T16:47:36.957Z"
   },
   {
    "duration": 21,
    "start_time": "2022-03-26T16:47:36.974Z"
   },
   {
    "duration": 27,
    "start_time": "2022-03-26T16:47:36.997Z"
   },
   {
    "duration": 27,
    "start_time": "2022-03-26T16:47:37.026Z"
   },
   {
    "duration": 606,
    "start_time": "2022-03-26T16:47:37.055Z"
   },
   {
    "duration": 0,
    "start_time": "2022-03-26T16:47:37.663Z"
   },
   {
    "duration": 0,
    "start_time": "2022-03-26T16:47:37.665Z"
   },
   {
    "duration": 0,
    "start_time": "2022-03-26T16:47:37.667Z"
   },
   {
    "duration": 100,
    "start_time": "2022-03-26T16:48:03.469Z"
   },
   {
    "duration": 474,
    "start_time": "2022-03-26T16:49:19.462Z"
   },
   {
    "duration": 4,
    "start_time": "2022-03-26T16:50:59.221Z"
   },
   {
    "duration": 23,
    "start_time": "2022-03-26T16:51:04.710Z"
   },
   {
    "duration": 101,
    "start_time": "2022-03-26T16:51:16.725Z"
   },
   {
    "duration": 442,
    "start_time": "2022-03-26T16:52:30.058Z"
   },
   {
    "duration": 4,
    "start_time": "2022-03-26T16:52:44.606Z"
   },
   {
    "duration": 5,
    "start_time": "2022-03-26T16:52:46.982Z"
   },
   {
    "duration": 101,
    "start_time": "2022-03-26T16:52:57.094Z"
   },
   {
    "duration": 62,
    "start_time": "2022-03-26T16:53:08.839Z"
   },
   {
    "duration": 15,
    "start_time": "2022-03-26T16:55:19.926Z"
   },
   {
    "duration": 16,
    "start_time": "2022-03-26T16:56:22.565Z"
   },
   {
    "duration": 195,
    "start_time": "2022-03-26T16:57:20.720Z"
   },
   {
    "duration": 34,
    "start_time": "2022-03-26T16:57:20.917Z"
   },
   {
    "duration": 56,
    "start_time": "2022-03-26T16:57:20.953Z"
   },
   {
    "duration": 49,
    "start_time": "2022-03-26T16:57:21.012Z"
   },
   {
    "duration": 25,
    "start_time": "2022-03-26T16:57:21.081Z"
   },
   {
    "duration": 36,
    "start_time": "2022-03-26T16:57:21.109Z"
   },
   {
    "duration": 174,
    "start_time": "2022-03-26T16:57:21.148Z"
   },
   {
    "duration": 28,
    "start_time": "2022-03-26T16:57:21.324Z"
   },
   {
    "duration": 43,
    "start_time": "2022-03-26T16:57:21.355Z"
   },
   {
    "duration": 36,
    "start_time": "2022-03-26T16:57:21.402Z"
   },
   {
    "duration": 60,
    "start_time": "2022-03-26T16:57:21.441Z"
   },
   {
    "duration": 28,
    "start_time": "2022-03-26T16:57:21.503Z"
   },
   {
    "duration": 144,
    "start_time": "2022-03-26T16:57:21.534Z"
   },
   {
    "duration": 25,
    "start_time": "2022-03-26T16:57:21.682Z"
   },
   {
    "duration": 17,
    "start_time": "2022-03-26T16:57:21.710Z"
   },
   {
    "duration": 68,
    "start_time": "2022-03-26T16:57:21.729Z"
   },
   {
    "duration": 21,
    "start_time": "2022-03-26T16:57:21.800Z"
   },
   {
    "duration": 18,
    "start_time": "2022-03-26T16:57:21.824Z"
   },
   {
    "duration": 46,
    "start_time": "2022-03-26T16:57:21.845Z"
   },
   {
    "duration": 16,
    "start_time": "2022-03-26T16:57:21.893Z"
   },
   {
    "duration": 35,
    "start_time": "2022-03-26T16:57:21.911Z"
   },
   {
    "duration": 36,
    "start_time": "2022-03-26T16:57:21.949Z"
   },
   {
    "duration": 18,
    "start_time": "2022-03-26T16:57:21.988Z"
   },
   {
    "duration": 8,
    "start_time": "2022-03-26T16:57:22.009Z"
   },
   {
    "duration": 19,
    "start_time": "2022-03-26T16:57:22.019Z"
   },
   {
    "duration": 41,
    "start_time": "2022-03-26T16:57:22.041Z"
   },
   {
    "duration": 113,
    "start_time": "2022-03-26T16:57:22.085Z"
   },
   {
    "duration": 110,
    "start_time": "2022-03-26T16:57:22.205Z"
   },
   {
    "duration": 19,
    "start_time": "2022-03-26T16:57:22.318Z"
   },
   {
    "duration": 90,
    "start_time": "2022-03-26T16:57:22.339Z"
   },
   {
    "duration": 16,
    "start_time": "2022-03-26T16:57:22.432Z"
   },
   {
    "duration": 305,
    "start_time": "2022-03-26T16:57:22.450Z"
   },
   {
    "duration": 505,
    "start_time": "2022-03-27T08:17:23.956Z"
   },
   {
    "duration": 23,
    "start_time": "2022-03-27T08:17:24.463Z"
   },
   {
    "duration": 33,
    "start_time": "2022-03-27T08:17:24.488Z"
   },
   {
    "duration": 33,
    "start_time": "2022-03-27T08:17:24.523Z"
   },
   {
    "duration": 18,
    "start_time": "2022-03-27T08:17:24.558Z"
   },
   {
    "duration": 47,
    "start_time": "2022-03-27T08:17:24.577Z"
   },
   {
    "duration": 124,
    "start_time": "2022-03-27T08:17:24.626Z"
   },
   {
    "duration": 19,
    "start_time": "2022-03-27T08:17:24.751Z"
   },
   {
    "duration": 14,
    "start_time": "2022-03-27T08:17:24.771Z"
   },
   {
    "duration": 46,
    "start_time": "2022-03-27T08:17:24.787Z"
   },
   {
    "duration": 16,
    "start_time": "2022-03-27T08:17:24.834Z"
   },
   {
    "duration": 19,
    "start_time": "2022-03-27T08:17:24.852Z"
   },
   {
    "duration": 91,
    "start_time": "2022-03-27T08:17:24.872Z"
   },
   {
    "duration": 17,
    "start_time": "2022-03-27T08:17:24.965Z"
   },
   {
    "duration": 22,
    "start_time": "2022-03-27T08:17:24.983Z"
   },
   {
    "duration": 22,
    "start_time": "2022-03-27T08:17:25.007Z"
   },
   {
    "duration": 13,
    "start_time": "2022-03-27T08:17:25.031Z"
   },
   {
    "duration": 19,
    "start_time": "2022-03-27T08:17:25.046Z"
   },
   {
    "duration": 9,
    "start_time": "2022-03-27T08:17:25.066Z"
   },
   {
    "duration": 32,
    "start_time": "2022-03-27T08:17:25.077Z"
   },
   {
    "duration": 34,
    "start_time": "2022-03-27T08:17:25.110Z"
   },
   {
    "duration": 9,
    "start_time": "2022-03-27T08:17:25.146Z"
   },
   {
    "duration": 6,
    "start_time": "2022-03-27T08:17:25.157Z"
   },
   {
    "duration": 5,
    "start_time": "2022-03-27T08:17:25.165Z"
   },
   {
    "duration": 11,
    "start_time": "2022-03-27T08:17:25.172Z"
   },
   {
    "duration": 8,
    "start_time": "2022-03-27T08:17:25.184Z"
   },
   {
    "duration": 86,
    "start_time": "2022-03-27T08:17:25.193Z"
   },
   {
    "duration": 72,
    "start_time": "2022-03-27T08:17:25.282Z"
   },
   {
    "duration": 10,
    "start_time": "2022-03-27T08:17:25.355Z"
   },
   {
    "duration": 56,
    "start_time": "2022-03-27T08:17:25.366Z"
   },
   {
    "duration": 11,
    "start_time": "2022-03-27T08:17:25.423Z"
   },
   {
    "duration": 160,
    "start_time": "2022-03-27T08:17:25.436Z"
   },
   {
    "duration": 104,
    "start_time": "2022-03-27T08:19:20.347Z"
   },
   {
    "duration": 182,
    "start_time": "2022-03-27T08:19:35.196Z"
   },
   {
    "duration": 156,
    "start_time": "2022-03-27T08:19:48.050Z"
   },
   {
    "duration": 42,
    "start_time": "2022-03-27T08:21:18.308Z"
   },
   {
    "duration": 40,
    "start_time": "2022-03-27T08:21:34.725Z"
   },
   {
    "duration": 39,
    "start_time": "2022-03-27T08:21:50.266Z"
   },
   {
    "duration": 41,
    "start_time": "2022-03-27T08:24:01.198Z"
   },
   {
    "duration": 2593,
    "start_time": "2022-03-27T08:24:38.662Z"
   },
   {
    "duration": 41,
    "start_time": "2022-03-27T08:25:08.020Z"
   },
   {
    "duration": 41,
    "start_time": "2022-03-27T08:25:56.868Z"
   },
   {
    "duration": 2575,
    "start_time": "2022-03-27T08:26:31.214Z"
   },
   {
    "duration": 40,
    "start_time": "2022-03-27T08:26:45.402Z"
   },
   {
    "duration": 47,
    "start_time": "2022-03-27T08:27:20.665Z"
   },
   {
    "duration": 40,
    "start_time": "2022-03-27T08:27:51.389Z"
   },
   {
    "duration": 3,
    "start_time": "2022-03-27T08:32:25.870Z"
   },
   {
    "duration": 1301,
    "start_time": "2022-03-27T08:35:01.820Z"
   },
   {
    "duration": 35,
    "start_time": "2022-03-27T08:35:15.395Z"
   },
   {
    "duration": 75,
    "start_time": "2022-03-27T08:36:16.874Z"
   },
   {
    "duration": 54,
    "start_time": "2022-03-27T08:36:19.559Z"
   },
   {
    "duration": 13,
    "start_time": "2022-03-27T08:36:23.158Z"
   },
   {
    "duration": 68,
    "start_time": "2022-03-27T08:36:26.489Z"
   },
   {
    "duration": 17,
    "start_time": "2022-03-27T08:36:34.589Z"
   },
   {
    "duration": 71,
    "start_time": "2022-03-27T08:38:07.980Z"
   },
   {
    "duration": 27,
    "start_time": "2022-03-27T08:43:20.566Z"
   },
   {
    "duration": 13,
    "start_time": "2022-03-27T08:50:34.635Z"
   },
   {
    "duration": 20,
    "start_time": "2022-03-27T08:51:16.734Z"
   },
   {
    "duration": 12,
    "start_time": "2022-03-27T08:53:35.685Z"
   },
   {
    "duration": 15,
    "start_time": "2022-03-27T08:53:49.237Z"
   },
   {
    "duration": 60,
    "start_time": "2022-03-27T08:54:44.206Z"
   },
   {
    "duration": 61,
    "start_time": "2022-03-27T08:56:01.085Z"
   },
   {
    "duration": 129,
    "start_time": "2022-03-27T08:56:24.155Z"
   },
   {
    "duration": 78,
    "start_time": "2022-03-27T08:56:29.560Z"
   },
   {
    "duration": 270,
    "start_time": "2022-03-27T08:57:39.615Z"
   },
   {
    "duration": 90,
    "start_time": "2022-03-27T09:13:00.309Z"
   },
   {
    "duration": 66,
    "start_time": "2022-03-27T09:20:43.848Z"
   },
   {
    "duration": 14,
    "start_time": "2022-03-27T09:21:07.882Z"
   },
   {
    "duration": 12,
    "start_time": "2022-03-27T09:22:00.127Z"
   },
   {
    "duration": 155,
    "start_time": "2022-03-27T09:22:07.471Z"
   },
   {
    "duration": 24,
    "start_time": "2022-03-27T09:22:07.628Z"
   },
   {
    "duration": 20,
    "start_time": "2022-03-27T09:22:07.654Z"
   },
   {
    "duration": 53,
    "start_time": "2022-03-27T09:22:07.676Z"
   },
   {
    "duration": 18,
    "start_time": "2022-03-27T09:22:07.731Z"
   },
   {
    "duration": 19,
    "start_time": "2022-03-27T09:22:07.750Z"
   },
   {
    "duration": 154,
    "start_time": "2022-03-27T09:22:07.770Z"
   },
   {
    "duration": 22,
    "start_time": "2022-03-27T09:22:07.926Z"
   },
   {
    "duration": 17,
    "start_time": "2022-03-27T09:22:07.949Z"
   },
   {
    "duration": 49,
    "start_time": "2022-03-27T09:22:07.969Z"
   },
   {
    "duration": 17,
    "start_time": "2022-03-27T09:22:08.021Z"
   },
   {
    "duration": 19,
    "start_time": "2022-03-27T09:22:08.039Z"
   },
   {
    "duration": 100,
    "start_time": "2022-03-27T09:22:08.059Z"
   },
   {
    "duration": 19,
    "start_time": "2022-03-27T09:22:08.161Z"
   },
   {
    "duration": 26,
    "start_time": "2022-03-27T09:22:08.182Z"
   },
   {
    "duration": 38,
    "start_time": "2022-03-27T09:22:08.211Z"
   },
   {
    "duration": 49,
    "start_time": "2022-03-27T09:22:08.252Z"
   },
   {
    "duration": 25,
    "start_time": "2022-03-27T09:22:08.304Z"
   },
   {
    "duration": 16,
    "start_time": "2022-03-27T09:22:08.332Z"
   },
   {
    "duration": 7,
    "start_time": "2022-03-27T09:22:08.350Z"
   },
   {
    "duration": 77,
    "start_time": "2022-03-27T09:22:08.360Z"
   },
   {
    "duration": 12,
    "start_time": "2022-03-27T09:22:08.440Z"
   },
   {
    "duration": 6,
    "start_time": "2022-03-27T09:22:08.453Z"
   },
   {
    "duration": 12,
    "start_time": "2022-03-27T09:22:08.460Z"
   },
   {
    "duration": 13,
    "start_time": "2022-03-27T09:22:08.473Z"
   },
   {
    "duration": 13,
    "start_time": "2022-03-27T09:22:08.488Z"
   },
   {
    "duration": 64,
    "start_time": "2022-03-27T09:22:08.502Z"
   },
   {
    "duration": 85,
    "start_time": "2022-03-27T09:22:08.570Z"
   },
   {
    "duration": 13,
    "start_time": "2022-03-27T09:22:08.656Z"
   },
   {
    "duration": 57,
    "start_time": "2022-03-27T09:22:08.671Z"
   },
   {
    "duration": 11,
    "start_time": "2022-03-27T09:22:08.729Z"
   },
   {
    "duration": 3,
    "start_time": "2022-03-27T09:22:08.742Z"
   },
   {
    "duration": 32,
    "start_time": "2022-03-27T09:22:08.747Z"
   },
   {
    "duration": 16,
    "start_time": "2022-03-27T09:22:08.802Z"
   },
   {
    "duration": 39,
    "start_time": "2022-03-27T09:22:08.820Z"
   },
   {
    "duration": 59,
    "start_time": "2022-03-27T09:22:08.861Z"
   },
   {
    "duration": 27,
    "start_time": "2022-03-27T09:22:08.922Z"
   },
   {
    "duration": 176,
    "start_time": "2022-03-27T09:22:08.951Z"
   },
   {
    "duration": 12,
    "start_time": "2022-03-27T09:22:21.262Z"
   },
   {
    "duration": 12,
    "start_time": "2022-03-27T09:23:03.713Z"
   },
   {
    "duration": 14,
    "start_time": "2022-03-27T09:23:38.786Z"
   },
   {
    "duration": 171,
    "start_time": "2022-03-27T09:23:53.863Z"
   },
   {
    "duration": 26,
    "start_time": "2022-03-27T09:23:54.037Z"
   },
   {
    "duration": 38,
    "start_time": "2022-03-27T09:23:54.065Z"
   },
   {
    "duration": 32,
    "start_time": "2022-03-27T09:23:54.106Z"
   },
   {
    "duration": 18,
    "start_time": "2022-03-27T09:23:54.140Z"
   },
   {
    "duration": 51,
    "start_time": "2022-03-27T09:23:54.160Z"
   },
   {
    "duration": 130,
    "start_time": "2022-03-27T09:23:54.212Z"
   },
   {
    "duration": 19,
    "start_time": "2022-03-27T09:23:54.344Z"
   },
   {
    "duration": 15,
    "start_time": "2022-03-27T09:23:54.365Z"
   },
   {
    "duration": 35,
    "start_time": "2022-03-27T09:23:54.382Z"
   },
   {
    "duration": 17,
    "start_time": "2022-03-27T09:23:54.418Z"
   },
   {
    "duration": 16,
    "start_time": "2022-03-27T09:23:54.437Z"
   },
   {
    "duration": 102,
    "start_time": "2022-03-27T09:23:54.455Z"
   },
   {
    "duration": 44,
    "start_time": "2022-03-27T09:23:54.559Z"
   },
   {
    "duration": 13,
    "start_time": "2022-03-27T09:23:54.606Z"
   },
   {
    "duration": 19,
    "start_time": "2022-03-27T09:23:54.620Z"
   },
   {
    "duration": 14,
    "start_time": "2022-03-27T09:23:54.640Z"
   },
   {
    "duration": 19,
    "start_time": "2022-03-27T09:23:54.655Z"
   },
   {
    "duration": 26,
    "start_time": "2022-03-27T09:23:54.676Z"
   },
   {
    "duration": 6,
    "start_time": "2022-03-27T09:23:54.704Z"
   },
   {
    "duration": 57,
    "start_time": "2022-03-27T09:23:54.712Z"
   },
   {
    "duration": 10,
    "start_time": "2022-03-27T09:23:54.770Z"
   },
   {
    "duration": 7,
    "start_time": "2022-03-27T09:23:54.782Z"
   },
   {
    "duration": 6,
    "start_time": "2022-03-27T09:23:54.790Z"
   },
   {
    "duration": 11,
    "start_time": "2022-03-27T09:23:54.797Z"
   },
   {
    "duration": 4,
    "start_time": "2022-03-27T09:23:54.810Z"
   },
   {
    "duration": 67,
    "start_time": "2022-03-27T09:23:54.815Z"
   },
   {
    "duration": 63,
    "start_time": "2022-03-27T09:23:54.885Z"
   },
   {
    "duration": 12,
    "start_time": "2022-03-27T09:23:54.950Z"
   },
   {
    "duration": 58,
    "start_time": "2022-03-27T09:23:54.964Z"
   },
   {
    "duration": 10,
    "start_time": "2022-03-27T09:23:55.023Z"
   },
   {
    "duration": 3,
    "start_time": "2022-03-27T09:23:55.034Z"
   },
   {
    "duration": 34,
    "start_time": "2022-03-27T09:23:55.038Z"
   },
   {
    "duration": 35,
    "start_time": "2022-03-27T09:23:55.074Z"
   },
   {
    "duration": 34,
    "start_time": "2022-03-27T09:23:55.110Z"
   },
   {
    "duration": 70,
    "start_time": "2022-03-27T09:23:55.146Z"
   },
   {
    "duration": 28,
    "start_time": "2022-03-27T09:23:55.217Z"
   },
   {
    "duration": 163,
    "start_time": "2022-03-27T09:23:55.246Z"
   },
   {
    "duration": 41,
    "start_time": "2022-03-27T09:28:01.874Z"
   },
   {
    "duration": 172,
    "start_time": "2022-03-27T09:28:10.702Z"
   },
   {
    "duration": 32,
    "start_time": "2022-03-27T09:28:10.876Z"
   },
   {
    "duration": 19,
    "start_time": "2022-03-27T09:28:10.910Z"
   },
   {
    "duration": 31,
    "start_time": "2022-03-27T09:28:10.932Z"
   },
   {
    "duration": 67,
    "start_time": "2022-03-27T09:28:10.966Z"
   },
   {
    "duration": 23,
    "start_time": "2022-03-27T09:28:11.035Z"
   },
   {
    "duration": 142,
    "start_time": "2022-03-27T09:28:11.061Z"
   },
   {
    "duration": 22,
    "start_time": "2022-03-27T09:28:11.204Z"
   },
   {
    "duration": 16,
    "start_time": "2022-03-27T09:28:11.227Z"
   },
   {
    "duration": 56,
    "start_time": "2022-03-27T09:28:11.245Z"
   },
   {
    "duration": 16,
    "start_time": "2022-03-27T09:28:11.303Z"
   },
   {
    "duration": 53,
    "start_time": "2022-03-27T09:28:11.321Z"
   },
   {
    "duration": 100,
    "start_time": "2022-03-27T09:28:11.375Z"
   },
   {
    "duration": 36,
    "start_time": "2022-03-27T09:28:11.476Z"
   },
   {
    "duration": 15,
    "start_time": "2022-03-27T09:28:11.513Z"
   },
   {
    "duration": 24,
    "start_time": "2022-03-27T09:28:11.530Z"
   },
   {
    "duration": 14,
    "start_time": "2022-03-27T09:28:11.556Z"
   },
   {
    "duration": 44,
    "start_time": "2022-03-27T09:28:11.572Z"
   },
   {
    "duration": 17,
    "start_time": "2022-03-27T09:28:11.619Z"
   },
   {
    "duration": 9,
    "start_time": "2022-03-27T09:28:11.638Z"
   },
   {
    "duration": 66,
    "start_time": "2022-03-27T09:28:11.649Z"
   },
   {
    "duration": 18,
    "start_time": "2022-03-27T09:28:11.718Z"
   },
   {
    "duration": 9,
    "start_time": "2022-03-27T09:28:11.738Z"
   },
   {
    "duration": 8,
    "start_time": "2022-03-27T09:28:11.749Z"
   },
   {
    "duration": 13,
    "start_time": "2022-03-27T09:28:11.759Z"
   },
   {
    "duration": 27,
    "start_time": "2022-03-27T09:28:11.774Z"
   },
   {
    "duration": 67,
    "start_time": "2022-03-27T09:28:11.803Z"
   },
   {
    "duration": 82,
    "start_time": "2022-03-27T09:28:11.873Z"
   },
   {
    "duration": 12,
    "start_time": "2022-03-27T09:28:11.958Z"
   },
   {
    "duration": 58,
    "start_time": "2022-03-27T09:28:11.971Z"
   },
   {
    "duration": 10,
    "start_time": "2022-03-27T09:28:12.030Z"
   },
   {
    "duration": 3,
    "start_time": "2022-03-27T09:28:12.042Z"
   },
   {
    "duration": 36,
    "start_time": "2022-03-27T09:28:12.046Z"
   },
   {
    "duration": 16,
    "start_time": "2022-03-27T09:28:12.102Z"
   },
   {
    "duration": 39,
    "start_time": "2022-03-27T09:28:12.120Z"
   },
   {
    "duration": 74,
    "start_time": "2022-03-27T09:28:12.161Z"
   },
   {
    "duration": 28,
    "start_time": "2022-03-27T09:28:12.237Z"
   },
   {
    "duration": 171,
    "start_time": "2022-03-27T09:28:12.267Z"
   },
   {
    "duration": 39,
    "start_time": "2022-03-27T09:29:37.743Z"
   },
   {
    "duration": 39,
    "start_time": "2022-03-27T09:29:52.268Z"
   },
   {
    "duration": 40,
    "start_time": "2022-03-27T09:31:01.648Z"
   },
   {
    "duration": 50,
    "start_time": "2022-03-27T09:31:14.306Z"
   },
   {
    "duration": 126,
    "start_time": "2022-03-27T09:31:22.152Z"
   },
   {
    "duration": 117,
    "start_time": "2022-03-27T09:31:39.605Z"
   },
   {
    "duration": 306,
    "start_time": "2022-03-27T09:32:49.863Z"
   },
   {
    "duration": 537,
    "start_time": "2022-03-27T09:33:07.927Z"
   },
   {
    "duration": 20,
    "start_time": "2022-03-27T09:33:11.012Z"
   },
   {
    "duration": 161,
    "start_time": "2022-03-27T09:34:16.392Z"
   },
   {
    "duration": 25,
    "start_time": "2022-03-27T09:34:16.554Z"
   },
   {
    "duration": 35,
    "start_time": "2022-03-27T09:34:16.580Z"
   },
   {
    "duration": 30,
    "start_time": "2022-03-27T09:34:16.617Z"
   },
   {
    "duration": 20,
    "start_time": "2022-03-27T09:34:16.649Z"
   },
   {
    "duration": 44,
    "start_time": "2022-03-27T09:34:16.672Z"
   },
   {
    "duration": 153,
    "start_time": "2022-03-27T09:34:16.718Z"
   },
   {
    "duration": 36,
    "start_time": "2022-03-27T09:34:16.873Z"
   },
   {
    "duration": 18,
    "start_time": "2022-03-27T09:34:16.911Z"
   },
   {
    "duration": 48,
    "start_time": "2022-03-27T09:34:16.931Z"
   },
   {
    "duration": 26,
    "start_time": "2022-03-27T09:34:16.981Z"
   },
   {
    "duration": 18,
    "start_time": "2022-03-27T09:34:17.009Z"
   },
   {
    "duration": 105,
    "start_time": "2022-03-27T09:34:17.028Z"
   },
   {
    "duration": 20,
    "start_time": "2022-03-27T09:34:17.136Z"
   },
   {
    "duration": 13,
    "start_time": "2022-03-27T09:34:17.158Z"
   },
   {
    "duration": 38,
    "start_time": "2022-03-27T09:34:17.173Z"
   },
   {
    "duration": 16,
    "start_time": "2022-03-27T09:34:17.212Z"
   },
   {
    "duration": 21,
    "start_time": "2022-03-27T09:34:17.230Z"
   },
   {
    "duration": 9,
    "start_time": "2022-03-27T09:34:17.253Z"
   },
   {
    "duration": 6,
    "start_time": "2022-03-27T09:34:17.264Z"
   },
   {
    "duration": 85,
    "start_time": "2022-03-27T09:34:17.271Z"
   },
   {
    "duration": 11,
    "start_time": "2022-03-27T09:34:17.358Z"
   },
   {
    "duration": 5,
    "start_time": "2022-03-27T09:34:17.371Z"
   },
   {
    "duration": 5,
    "start_time": "2022-03-27T09:34:17.378Z"
   },
   {
    "duration": 12,
    "start_time": "2022-03-27T09:34:17.384Z"
   },
   {
    "duration": 6,
    "start_time": "2022-03-27T09:34:17.398Z"
   },
   {
    "duration": 72,
    "start_time": "2022-03-27T09:34:17.406Z"
   },
   {
    "duration": 80,
    "start_time": "2022-03-27T09:34:17.480Z"
   },
   {
    "duration": 15,
    "start_time": "2022-03-27T09:34:17.563Z"
   },
   {
    "duration": 62,
    "start_time": "2022-03-27T09:34:17.580Z"
   },
   {
    "duration": 13,
    "start_time": "2022-03-27T09:34:17.645Z"
   },
   {
    "duration": 4,
    "start_time": "2022-03-27T09:34:17.661Z"
   },
   {
    "duration": 66,
    "start_time": "2022-03-27T09:34:17.667Z"
   },
   {
    "duration": 17,
    "start_time": "2022-03-27T09:34:17.735Z"
   },
   {
    "duration": 73,
    "start_time": "2022-03-27T09:34:17.754Z"
   },
   {
    "duration": 46,
    "start_time": "2022-03-27T09:34:17.828Z"
   },
   {
    "duration": 41,
    "start_time": "2022-03-27T09:34:17.876Z"
   },
   {
    "duration": 8,
    "start_time": "2022-03-27T09:34:17.919Z"
   },
   {
    "duration": 0,
    "start_time": "2022-03-27T09:34:17.929Z"
   },
   {
    "duration": 11,
    "start_time": "2022-03-27T09:38:13.412Z"
   },
   {
    "duration": 128,
    "start_time": "2022-03-27T09:38:49.564Z"
   },
   {
    "duration": 30,
    "start_time": "2022-03-27T09:40:59.467Z"
   },
   {
    "duration": 45,
    "start_time": "2022-03-27T09:41:47.082Z"
   },
   {
    "duration": 31,
    "start_time": "2022-03-27T09:41:47.131Z"
   },
   {
    "duration": 71,
    "start_time": "2022-03-27T09:42:14.576Z"
   },
   {
    "duration": 86,
    "start_time": "2022-03-27T09:42:53.684Z"
   },
   {
    "duration": 149,
    "start_time": "2022-03-27T09:43:37.840Z"
   },
   {
    "duration": 31,
    "start_time": "2022-03-27T09:43:37.991Z"
   },
   {
    "duration": 20,
    "start_time": "2022-03-27T09:43:38.024Z"
   },
   {
    "duration": 56,
    "start_time": "2022-03-27T09:43:38.045Z"
   },
   {
    "duration": 18,
    "start_time": "2022-03-27T09:43:38.104Z"
   },
   {
    "duration": 18,
    "start_time": "2022-03-27T09:43:38.124Z"
   },
   {
    "duration": 137,
    "start_time": "2022-03-27T09:43:38.144Z"
   },
   {
    "duration": 26,
    "start_time": "2022-03-27T09:43:38.283Z"
   },
   {
    "duration": 17,
    "start_time": "2022-03-27T09:43:38.311Z"
   },
   {
    "duration": 40,
    "start_time": "2022-03-27T09:43:38.331Z"
   },
   {
    "duration": 49,
    "start_time": "2022-03-27T09:43:38.374Z"
   },
   {
    "duration": 27,
    "start_time": "2022-03-27T09:43:38.426Z"
   },
   {
    "duration": 147,
    "start_time": "2022-03-27T09:43:38.455Z"
   },
   {
    "duration": 35,
    "start_time": "2022-03-27T09:43:38.607Z"
   },
   {
    "duration": 24,
    "start_time": "2022-03-27T09:43:38.644Z"
   },
   {
    "duration": 56,
    "start_time": "2022-03-27T09:43:38.671Z"
   },
   {
    "duration": 27,
    "start_time": "2022-03-27T09:43:38.729Z"
   },
   {
    "duration": 26,
    "start_time": "2022-03-27T09:43:38.758Z"
   },
   {
    "duration": 23,
    "start_time": "2022-03-27T09:43:38.786Z"
   },
   {
    "duration": 4,
    "start_time": "2022-03-27T09:43:38.811Z"
   },
   {
    "duration": 77,
    "start_time": "2022-03-27T09:43:38.817Z"
   },
   {
    "duration": 10,
    "start_time": "2022-03-27T09:43:38.896Z"
   },
   {
    "duration": 7,
    "start_time": "2022-03-27T09:43:38.908Z"
   },
   {
    "duration": 5,
    "start_time": "2022-03-27T09:43:38.916Z"
   },
   {
    "duration": 10,
    "start_time": "2022-03-27T09:43:38.923Z"
   },
   {
    "duration": 4,
    "start_time": "2022-03-27T09:43:38.935Z"
   },
   {
    "duration": 90,
    "start_time": "2022-03-27T09:43:38.941Z"
   },
   {
    "duration": 72,
    "start_time": "2022-03-27T09:43:39.033Z"
   },
   {
    "duration": 11,
    "start_time": "2022-03-27T09:43:39.107Z"
   },
   {
    "duration": 36,
    "start_time": "2022-03-27T09:43:39.119Z"
   },
   {
    "duration": 10,
    "start_time": "2022-03-27T09:43:39.157Z"
   },
   {
    "duration": 33,
    "start_time": "2022-03-27T09:43:39.169Z"
   },
   {
    "duration": 56,
    "start_time": "2022-03-27T09:43:39.205Z"
   },
   {
    "duration": 43,
    "start_time": "2022-03-27T09:43:39.263Z"
   },
   {
    "duration": 40,
    "start_time": "2022-03-27T09:43:39.308Z"
   },
   {
    "duration": 64,
    "start_time": "2022-03-27T09:43:39.350Z"
   },
   {
    "duration": 30,
    "start_time": "2022-03-27T09:43:39.417Z"
   },
   {
    "duration": 95,
    "start_time": "2022-03-27T09:43:39.449Z"
   },
   {
    "duration": 57,
    "start_time": "2022-03-27T09:43:39.547Z"
   },
   {
    "duration": 240,
    "start_time": "2022-03-27T09:43:39.606Z"
   },
   {
    "duration": 46,
    "start_time": "2022-03-27T09:44:18.473Z"
   },
   {
    "duration": 1837,
    "start_time": "2022-03-27T09:44:37.083Z"
   },
   {
    "duration": 25,
    "start_time": "2022-03-27T09:44:38.922Z"
   },
   {
    "duration": 20,
    "start_time": "2022-03-27T09:44:38.948Z"
   },
   {
    "duration": 54,
    "start_time": "2022-03-27T09:44:38.970Z"
   },
   {
    "duration": 17,
    "start_time": "2022-03-27T09:44:39.026Z"
   },
   {
    "duration": 18,
    "start_time": "2022-03-27T09:44:39.045Z"
   },
   {
    "duration": 148,
    "start_time": "2022-03-27T09:44:39.065Z"
   },
   {
    "duration": 21,
    "start_time": "2022-03-27T09:44:39.215Z"
   },
   {
    "duration": 16,
    "start_time": "2022-03-27T09:44:39.238Z"
   },
   {
    "duration": 49,
    "start_time": "2022-03-27T09:44:39.256Z"
   },
   {
    "duration": 19,
    "start_time": "2022-03-27T09:44:39.307Z"
   },
   {
    "duration": 26,
    "start_time": "2022-03-27T09:44:39.328Z"
   },
   {
    "duration": 158,
    "start_time": "2022-03-27T09:44:39.356Z"
   },
   {
    "duration": 34,
    "start_time": "2022-03-27T09:44:39.520Z"
   },
   {
    "duration": 24,
    "start_time": "2022-03-27T09:44:39.557Z"
   },
   {
    "duration": 35,
    "start_time": "2022-03-27T09:44:39.601Z"
   },
   {
    "duration": 26,
    "start_time": "2022-03-27T09:44:39.639Z"
   },
   {
    "duration": 26,
    "start_time": "2022-03-27T09:44:39.667Z"
   },
   {
    "duration": 14,
    "start_time": "2022-03-27T09:44:39.702Z"
   },
   {
    "duration": 6,
    "start_time": "2022-03-27T09:44:39.718Z"
   },
   {
    "duration": 86,
    "start_time": "2022-03-27T09:44:39.727Z"
   },
   {
    "duration": 16,
    "start_time": "2022-03-27T09:44:39.815Z"
   },
   {
    "duration": 7,
    "start_time": "2022-03-27T09:44:39.834Z"
   },
   {
    "duration": 5,
    "start_time": "2022-03-27T09:44:39.843Z"
   },
   {
    "duration": 15,
    "start_time": "2022-03-27T09:44:39.850Z"
   },
   {
    "duration": 35,
    "start_time": "2022-03-27T09:44:39.866Z"
   },
   {
    "duration": 61,
    "start_time": "2022-03-27T09:44:39.903Z"
   },
   {
    "duration": 73,
    "start_time": "2022-03-27T09:44:39.965Z"
   },
   {
    "duration": 10,
    "start_time": "2022-03-27T09:44:40.040Z"
   },
   {
    "duration": 57,
    "start_time": "2022-03-27T09:44:40.052Z"
   },
   {
    "duration": 10,
    "start_time": "2022-03-27T09:44:40.111Z"
   },
   {
    "duration": 3,
    "start_time": "2022-03-27T09:44:40.122Z"
   },
   {
    "duration": 34,
    "start_time": "2022-03-27T09:44:40.126Z"
   },
   {
    "duration": 14,
    "start_time": "2022-03-27T09:44:40.162Z"
   },
   {
    "duration": 60,
    "start_time": "2022-03-27T09:44:40.178Z"
   },
   {
    "duration": 43,
    "start_time": "2022-03-27T09:44:40.239Z"
   },
   {
    "duration": 45,
    "start_time": "2022-03-27T09:44:40.284Z"
   },
   {
    "duration": 46,
    "start_time": "2022-03-27T09:44:40.331Z"
   },
   {
    "duration": 70,
    "start_time": "2022-03-27T09:44:40.379Z"
   },
   {
    "duration": 163,
    "start_time": "2022-03-27T09:44:40.452Z"
   },
   {
    "duration": 82,
    "start_time": "2022-03-27T09:45:36.972Z"
   },
   {
    "duration": 50,
    "start_time": "2022-03-27T09:45:41.239Z"
   },
   {
    "duration": 99,
    "start_time": "2022-03-27T09:46:00.827Z"
   },
   {
    "duration": 157,
    "start_time": "2022-03-27T09:46:06.924Z"
   },
   {
    "duration": 33,
    "start_time": "2022-03-27T09:46:07.082Z"
   },
   {
    "duration": 26,
    "start_time": "2022-03-27T09:46:07.116Z"
   },
   {
    "duration": 32,
    "start_time": "2022-03-27T09:46:07.144Z"
   },
   {
    "duration": 35,
    "start_time": "2022-03-27T09:46:07.178Z"
   },
   {
    "duration": 19,
    "start_time": "2022-03-27T09:46:07.214Z"
   },
   {
    "duration": 144,
    "start_time": "2022-03-27T09:46:07.235Z"
   },
   {
    "duration": 30,
    "start_time": "2022-03-27T09:46:07.380Z"
   },
   {
    "duration": 22,
    "start_time": "2022-03-27T09:46:07.411Z"
   },
   {
    "duration": 34,
    "start_time": "2022-03-27T09:46:07.435Z"
   },
   {
    "duration": 34,
    "start_time": "2022-03-27T09:46:07.470Z"
   },
   {
    "duration": 18,
    "start_time": "2022-03-27T09:46:07.506Z"
   },
   {
    "duration": 101,
    "start_time": "2022-03-27T09:46:07.525Z"
   },
   {
    "duration": 19,
    "start_time": "2022-03-27T09:46:07.628Z"
   },
   {
    "duration": 23,
    "start_time": "2022-03-27T09:46:07.649Z"
   },
   {
    "duration": 36,
    "start_time": "2022-03-27T09:46:07.674Z"
   },
   {
    "duration": 15,
    "start_time": "2022-03-27T09:46:07.712Z"
   },
   {
    "duration": 38,
    "start_time": "2022-03-27T09:46:07.728Z"
   },
   {
    "duration": 10,
    "start_time": "2022-03-27T09:46:07.767Z"
   },
   {
    "duration": 27,
    "start_time": "2022-03-27T09:46:07.778Z"
   },
   {
    "duration": 67,
    "start_time": "2022-03-27T09:46:07.807Z"
   },
   {
    "duration": 11,
    "start_time": "2022-03-27T09:46:07.875Z"
   },
   {
    "duration": 9,
    "start_time": "2022-03-27T09:46:07.887Z"
   },
   {
    "duration": 6,
    "start_time": "2022-03-27T09:46:07.897Z"
   },
   {
    "duration": 12,
    "start_time": "2022-03-27T09:46:07.904Z"
   },
   {
    "duration": 4,
    "start_time": "2022-03-27T09:46:07.918Z"
   },
   {
    "duration": 88,
    "start_time": "2022-03-27T09:46:07.924Z"
   },
   {
    "duration": 60,
    "start_time": "2022-03-27T09:46:08.017Z"
   },
   {
    "duration": 33,
    "start_time": "2022-03-27T09:46:08.079Z"
   },
   {
    "duration": 42,
    "start_time": "2022-03-27T09:46:08.114Z"
   },
   {
    "duration": 12,
    "start_time": "2022-03-27T09:46:08.157Z"
   },
   {
    "duration": 3,
    "start_time": "2022-03-27T09:46:08.170Z"
   },
   {
    "duration": 33,
    "start_time": "2022-03-27T09:46:08.201Z"
   },
   {
    "duration": 14,
    "start_time": "2022-03-27T09:46:08.236Z"
   },
   {
    "duration": 60,
    "start_time": "2022-03-27T09:46:08.251Z"
   },
   {
    "duration": 45,
    "start_time": "2022-03-27T09:46:08.313Z"
   },
   {
    "duration": 64,
    "start_time": "2022-03-27T09:46:08.359Z"
   },
   {
    "duration": 105,
    "start_time": "2022-03-27T09:46:08.425Z"
   },
   {
    "duration": 51,
    "start_time": "2022-03-27T09:46:08.533Z"
   },
   {
    "duration": 169,
    "start_time": "2022-03-27T09:46:08.602Z"
   },
   {
    "duration": 97,
    "start_time": "2022-03-27T09:50:34.745Z"
   },
   {
    "duration": 4,
    "start_time": "2022-03-27T09:58:40.667Z"
   },
   {
    "duration": 5,
    "start_time": "2022-03-27T09:59:03.429Z"
   },
   {
    "duration": 2665,
    "start_time": "2022-03-27T09:59:29.912Z"
   },
   {
    "duration": 8,
    "start_time": "2022-03-27T10:00:37.273Z"
   },
   {
    "duration": 51,
    "start_time": "2022-03-27T10:06:18.849Z"
   },
   {
    "duration": 22,
    "start_time": "2022-03-27T10:06:44.812Z"
   },
   {
    "duration": 750,
    "start_time": "2022-03-27T10:29:31.630Z"
   },
   {
    "duration": 33,
    "start_time": "2022-03-27T10:29:32.382Z"
   },
   {
    "duration": 25,
    "start_time": "2022-03-27T10:29:32.417Z"
   },
   {
    "duration": 55,
    "start_time": "2022-03-27T10:29:32.469Z"
   },
   {
    "duration": 47,
    "start_time": "2022-03-27T10:29:32.526Z"
   },
   {
    "duration": 33,
    "start_time": "2022-03-27T10:29:32.575Z"
   },
   {
    "duration": 188,
    "start_time": "2022-03-27T10:29:32.610Z"
   },
   {
    "duration": 29,
    "start_time": "2022-03-27T10:29:32.800Z"
   },
   {
    "duration": 41,
    "start_time": "2022-03-27T10:29:32.831Z"
   },
   {
    "duration": 33,
    "start_time": "2022-03-27T10:29:32.877Z"
   },
   {
    "duration": 25,
    "start_time": "2022-03-27T10:29:32.913Z"
   },
   {
    "duration": 30,
    "start_time": "2022-03-27T10:29:32.968Z"
   },
   {
    "duration": 133,
    "start_time": "2022-03-27T10:29:33.000Z"
   },
   {
    "duration": 39,
    "start_time": "2022-03-27T10:29:33.136Z"
   },
   {
    "duration": 18,
    "start_time": "2022-03-27T10:29:33.177Z"
   },
   {
    "duration": 30,
    "start_time": "2022-03-27T10:29:33.197Z"
   },
   {
    "duration": 45,
    "start_time": "2022-03-27T10:29:33.229Z"
   },
   {
    "duration": 20,
    "start_time": "2022-03-27T10:29:33.277Z"
   },
   {
    "duration": 15,
    "start_time": "2022-03-27T10:29:33.299Z"
   },
   {
    "duration": 8,
    "start_time": "2022-03-27T10:29:33.317Z"
   },
   {
    "duration": 59,
    "start_time": "2022-03-27T10:29:33.327Z"
   },
   {
    "duration": 15,
    "start_time": "2022-03-27T10:29:33.388Z"
   },
   {
    "duration": 9,
    "start_time": "2022-03-27T10:29:33.406Z"
   },
   {
    "duration": 11,
    "start_time": "2022-03-27T10:29:33.417Z"
   },
   {
    "duration": 52,
    "start_time": "2022-03-27T10:29:33.430Z"
   },
   {
    "duration": 7,
    "start_time": "2022-03-27T10:29:33.485Z"
   },
   {
    "duration": 132,
    "start_time": "2022-03-27T10:29:33.495Z"
   },
   {
    "duration": 102,
    "start_time": "2022-03-27T10:29:33.632Z"
   },
   {
    "duration": 17,
    "start_time": "2022-03-27T10:29:33.736Z"
   },
   {
    "duration": 61,
    "start_time": "2022-03-27T10:29:33.768Z"
   },
   {
    "duration": 36,
    "start_time": "2022-03-27T10:29:33.831Z"
   },
   {
    "duration": 4,
    "start_time": "2022-03-27T10:29:33.869Z"
   },
   {
    "duration": 48,
    "start_time": "2022-03-27T10:29:33.875Z"
   },
   {
    "duration": 47,
    "start_time": "2022-03-27T10:29:33.926Z"
   },
   {
    "duration": 67,
    "start_time": "2022-03-27T10:29:33.975Z"
   },
   {
    "duration": 103,
    "start_time": "2022-03-27T10:29:34.046Z"
   },
   {
    "duration": 40,
    "start_time": "2022-03-27T10:29:34.152Z"
   },
   {
    "duration": 94,
    "start_time": "2022-03-27T10:29:34.195Z"
   },
   {
    "duration": 38,
    "start_time": "2022-03-27T10:29:34.292Z"
   },
   {
    "duration": 124,
    "start_time": "2022-03-27T10:29:34.333Z"
   },
   {
    "duration": 14,
    "start_time": "2022-03-27T10:29:34.459Z"
   },
   {
    "duration": 56,
    "start_time": "2022-03-27T10:29:34.476Z"
   },
   {
    "duration": 2658,
    "start_time": "2022-03-27T10:29:34.535Z"
   },
   {
    "duration": 26,
    "start_time": "2022-03-27T10:30:16.558Z"
   },
   {
    "duration": 16,
    "start_time": "2022-03-27T10:31:10.403Z"
   },
   {
    "duration": 14,
    "start_time": "2022-03-27T10:33:07.710Z"
   },
   {
    "duration": 20,
    "start_time": "2022-03-27T10:33:18.717Z"
   },
   {
    "duration": 71,
    "start_time": "2022-03-27T10:33:27.456Z"
   },
   {
    "duration": 46,
    "start_time": "2022-03-27T10:33:39.404Z"
   },
   {
    "duration": 134,
    "start_time": "2022-03-27T10:34:26.380Z"
   },
   {
    "duration": 33,
    "start_time": "2022-03-27T10:34:58.673Z"
   },
   {
    "duration": 45,
    "start_time": "2022-03-27T10:35:28.180Z"
   },
   {
    "duration": 214,
    "start_time": "2022-03-27T10:36:17.332Z"
   },
   {
    "duration": 36,
    "start_time": "2022-03-27T10:36:17.548Z"
   },
   {
    "duration": 24,
    "start_time": "2022-03-27T10:36:17.586Z"
   },
   {
    "duration": 73,
    "start_time": "2022-03-27T10:36:17.612Z"
   },
   {
    "duration": 27,
    "start_time": "2022-03-27T10:36:17.688Z"
   },
   {
    "duration": 27,
    "start_time": "2022-03-27T10:36:17.717Z"
   },
   {
    "duration": 163,
    "start_time": "2022-03-27T10:36:17.768Z"
   },
   {
    "duration": 44,
    "start_time": "2022-03-27T10:36:17.934Z"
   },
   {
    "duration": 20,
    "start_time": "2022-03-27T10:36:17.980Z"
   },
   {
    "duration": 36,
    "start_time": "2022-03-27T10:36:18.002Z"
   },
   {
    "duration": 79,
    "start_time": "2022-03-27T10:36:18.041Z"
   },
   {
    "duration": 25,
    "start_time": "2022-03-27T10:36:18.122Z"
   },
   {
    "duration": 118,
    "start_time": "2022-03-27T10:36:18.149Z"
   },
   {
    "duration": 25,
    "start_time": "2022-03-27T10:36:18.271Z"
   },
   {
    "duration": 18,
    "start_time": "2022-03-27T10:36:18.299Z"
   },
   {
    "duration": 58,
    "start_time": "2022-03-27T10:36:18.319Z"
   },
   {
    "duration": 21,
    "start_time": "2022-03-27T10:36:18.380Z"
   },
   {
    "duration": 20,
    "start_time": "2022-03-27T10:36:18.403Z"
   },
   {
    "duration": 43,
    "start_time": "2022-03-27T10:36:18.425Z"
   },
   {
    "duration": 8,
    "start_time": "2022-03-27T10:36:18.470Z"
   },
   {
    "duration": 38,
    "start_time": "2022-03-27T10:36:18.480Z"
   },
   {
    "duration": 15,
    "start_time": "2022-03-27T10:36:18.520Z"
   },
   {
    "duration": 32,
    "start_time": "2022-03-27T10:36:18.537Z"
   },
   {
    "duration": 9,
    "start_time": "2022-03-27T10:36:18.571Z"
   },
   {
    "duration": 17,
    "start_time": "2022-03-27T10:36:18.582Z"
   },
   {
    "duration": 5,
    "start_time": "2022-03-27T10:36:18.601Z"
   },
   {
    "duration": 138,
    "start_time": "2022-03-27T10:36:18.609Z"
   },
   {
    "duration": 93,
    "start_time": "2022-03-27T10:36:18.750Z"
   },
   {
    "duration": 30,
    "start_time": "2022-03-27T10:36:18.846Z"
   },
   {
    "duration": 57,
    "start_time": "2022-03-27T10:36:18.878Z"
   },
   {
    "duration": 35,
    "start_time": "2022-03-27T10:36:18.937Z"
   },
   {
    "duration": 4,
    "start_time": "2022-03-27T10:36:18.975Z"
   },
   {
    "duration": 47,
    "start_time": "2022-03-27T10:36:18.981Z"
   },
   {
    "duration": 55,
    "start_time": "2022-03-27T10:36:19.030Z"
   },
   {
    "duration": 58,
    "start_time": "2022-03-27T10:36:19.088Z"
   },
   {
    "duration": 86,
    "start_time": "2022-03-27T10:36:19.148Z"
   },
   {
    "duration": 58,
    "start_time": "2022-03-27T10:36:19.237Z"
   },
   {
    "duration": 100,
    "start_time": "2022-03-27T10:36:19.298Z"
   },
   {
    "duration": 37,
    "start_time": "2022-03-27T10:36:19.401Z"
   },
   {
    "duration": 116,
    "start_time": "2022-03-27T10:36:19.440Z"
   },
   {
    "duration": 9,
    "start_time": "2022-03-27T10:36:19.570Z"
   },
   {
    "duration": 55,
    "start_time": "2022-03-27T10:36:19.581Z"
   },
   {
    "duration": 65,
    "start_time": "2022-03-27T10:36:19.639Z"
   },
   {
    "duration": 33,
    "start_time": "2022-03-27T11:09:59.455Z"
   },
   {
    "duration": 34,
    "start_time": "2022-03-27T11:10:04.351Z"
   },
   {
    "duration": 9,
    "start_time": "2022-03-27T11:11:43.902Z"
   },
   {
    "duration": 49,
    "start_time": "2022-03-27T11:11:54.567Z"
   },
   {
    "duration": 44,
    "start_time": "2022-03-27T11:12:15.269Z"
   },
   {
    "duration": 49,
    "start_time": "2022-03-27T11:15:08.063Z"
   },
   {
    "duration": 47,
    "start_time": "2022-03-27T11:15:33.680Z"
   },
   {
    "duration": 114,
    "start_time": "2022-03-27T11:20:48.828Z"
   },
   {
    "duration": 138,
    "start_time": "2022-03-27T11:20:55.301Z"
   },
   {
    "duration": 124,
    "start_time": "2022-03-27T11:23:15.191Z"
   },
   {
    "duration": 112,
    "start_time": "2022-03-27T11:23:26.531Z"
   },
   {
    "duration": 18,
    "start_time": "2022-03-27T11:23:45.605Z"
   },
   {
    "duration": 25,
    "start_time": "2022-03-27T11:24:01.175Z"
   },
   {
    "duration": 28,
    "start_time": "2022-03-27T11:24:42.169Z"
   },
   {
    "duration": 41,
    "start_time": "2022-03-27T11:26:33.647Z"
   },
   {
    "duration": 40,
    "start_time": "2022-03-27T11:26:53.349Z"
   },
   {
    "duration": 50,
    "start_time": "2022-03-27T11:27:35.800Z"
   },
   {
    "duration": 38,
    "start_time": "2022-03-27T11:29:42.611Z"
   },
   {
    "duration": 34,
    "start_time": "2022-03-27T11:31:13.245Z"
   },
   {
    "duration": 33,
    "start_time": "2022-03-27T11:31:34.231Z"
   },
   {
    "duration": 34,
    "start_time": "2022-03-27T11:32:19.395Z"
   },
   {
    "duration": 43,
    "start_time": "2022-03-27T11:33:55.758Z"
   },
   {
    "duration": 30,
    "start_time": "2022-03-27T11:35:27.198Z"
   },
   {
    "duration": 41,
    "start_time": "2022-03-27T11:35:40.228Z"
   },
   {
    "duration": 66,
    "start_time": "2022-03-29T18:41:45.475Z"
   },
   {
    "duration": 698,
    "start_time": "2022-03-29T18:41:50.847Z"
   },
   {
    "duration": 40,
    "start_time": "2022-03-29T18:41:51.548Z"
   },
   {
    "duration": 24,
    "start_time": "2022-03-29T18:41:51.590Z"
   },
   {
    "duration": 72,
    "start_time": "2022-03-29T18:41:51.617Z"
   },
   {
    "duration": 23,
    "start_time": "2022-03-29T18:41:51.691Z"
   },
   {
    "duration": 39,
    "start_time": "2022-03-29T18:41:51.717Z"
   },
   {
    "duration": 167,
    "start_time": "2022-03-29T18:41:51.758Z"
   },
   {
    "duration": 28,
    "start_time": "2022-03-29T18:41:51.928Z"
   },
   {
    "duration": 50,
    "start_time": "2022-03-29T18:41:51.959Z"
   },
   {
    "duration": 47,
    "start_time": "2022-03-29T18:41:52.014Z"
   },
   {
    "duration": 49,
    "start_time": "2022-03-29T18:41:52.064Z"
   },
   {
    "duration": 26,
    "start_time": "2022-03-29T18:41:52.115Z"
   },
   {
    "duration": 132,
    "start_time": "2022-03-29T18:41:52.144Z"
   },
   {
    "duration": 24,
    "start_time": "2022-03-29T18:41:52.282Z"
   },
   {
    "duration": 18,
    "start_time": "2022-03-29T18:41:52.309Z"
   },
   {
    "duration": 53,
    "start_time": "2022-03-29T18:41:52.329Z"
   },
   {
    "duration": 19,
    "start_time": "2022-03-29T18:41:52.388Z"
   },
   {
    "duration": 31,
    "start_time": "2022-03-29T18:41:52.410Z"
   },
   {
    "duration": 16,
    "start_time": "2022-03-29T18:41:52.443Z"
   },
   {
    "duration": 36,
    "start_time": "2022-03-29T18:41:52.461Z"
   },
   {
    "duration": 44,
    "start_time": "2022-03-29T18:41:52.499Z"
   },
   {
    "duration": 18,
    "start_time": "2022-03-29T18:41:52.546Z"
   },
   {
    "duration": 25,
    "start_time": "2022-03-29T18:41:52.566Z"
   },
   {
    "duration": 27,
    "start_time": "2022-03-29T18:41:52.593Z"
   },
   {
    "duration": 41,
    "start_time": "2022-03-29T18:41:52.623Z"
   },
   {
    "duration": 20,
    "start_time": "2022-03-29T18:41:52.666Z"
   },
   {
    "duration": 155,
    "start_time": "2022-03-29T18:41:52.688Z"
   },
   {
    "duration": 136,
    "start_time": "2022-03-29T18:41:52.851Z"
   },
   {
    "duration": 20,
    "start_time": "2022-03-29T18:41:52.989Z"
   },
   {
    "duration": 101,
    "start_time": "2022-03-29T18:41:53.012Z"
   },
   {
    "duration": 19,
    "start_time": "2022-03-29T18:41:53.115Z"
   },
   {
    "duration": 5,
    "start_time": "2022-03-29T18:41:53.136Z"
   },
   {
    "duration": 94,
    "start_time": "2022-03-29T18:41:53.143Z"
   },
   {
    "duration": 21,
    "start_time": "2022-03-29T18:41:53.240Z"
   },
   {
    "duration": 79,
    "start_time": "2022-03-29T18:41:53.263Z"
   },
   {
    "duration": 88,
    "start_time": "2022-03-29T18:41:53.345Z"
   },
   {
    "duration": 48,
    "start_time": "2022-03-29T18:41:53.435Z"
   },
   {
    "duration": 78,
    "start_time": "2022-03-29T18:41:53.485Z"
   },
   {
    "duration": 52,
    "start_time": "2022-03-29T18:41:53.565Z"
   },
   {
    "duration": 114,
    "start_time": "2022-03-29T18:41:53.619Z"
   },
   {
    "duration": 11,
    "start_time": "2022-03-29T18:41:53.736Z"
   },
   {
    "duration": 85,
    "start_time": "2022-03-29T18:41:53.749Z"
   },
   {
    "duration": 72,
    "start_time": "2022-03-29T18:41:53.836Z"
   },
   {
    "duration": 36,
    "start_time": "2022-03-29T18:41:53.911Z"
   },
   {
    "duration": 40,
    "start_time": "2022-03-29T18:41:53.949Z"
   },
   {
    "duration": 31,
    "start_time": "2022-03-29T18:41:53.991Z"
   },
   {
    "duration": 6,
    "start_time": "2022-03-29T18:41:54.024Z"
   },
   {
    "duration": 34,
    "start_time": "2022-03-29T18:43:20.893Z"
   },
   {
    "duration": 62,
    "start_time": "2022-03-29T18:43:30.454Z"
   },
   {
    "duration": 62,
    "start_time": "2022-03-29T18:45:06.673Z"
   },
   {
    "duration": 44,
    "start_time": "2022-04-02T13:51:44.189Z"
   },
   {
    "duration": 513,
    "start_time": "2022-04-02T13:51:47.656Z"
   },
   {
    "duration": 36,
    "start_time": "2022-04-02T13:51:48.172Z"
   },
   {
    "duration": 20,
    "start_time": "2022-04-02T13:51:48.209Z"
   },
   {
    "duration": 37,
    "start_time": "2022-04-02T13:51:48.230Z"
   },
   {
    "duration": 41,
    "start_time": "2022-04-02T13:51:48.269Z"
   },
   {
    "duration": 23,
    "start_time": "2022-04-02T13:51:48.311Z"
   },
   {
    "duration": 132,
    "start_time": "2022-04-02T13:51:48.335Z"
   },
   {
    "duration": 20,
    "start_time": "2022-04-02T13:51:48.468Z"
   },
   {
    "duration": 26,
    "start_time": "2022-04-02T13:51:48.489Z"
   },
   {
    "duration": 25,
    "start_time": "2022-04-02T13:51:48.516Z"
   },
   {
    "duration": 16,
    "start_time": "2022-04-02T13:51:48.542Z"
   },
   {
    "duration": 17,
    "start_time": "2022-04-02T13:51:48.559Z"
   },
   {
    "duration": 95,
    "start_time": "2022-04-02T13:51:48.578Z"
   },
   {
    "duration": 32,
    "start_time": "2022-04-02T13:51:48.676Z"
   },
   {
    "duration": 14,
    "start_time": "2022-04-02T13:51:48.710Z"
   },
   {
    "duration": 20,
    "start_time": "2022-04-02T13:51:48.726Z"
   },
   {
    "duration": 16,
    "start_time": "2022-04-02T13:51:48.748Z"
   },
   {
    "duration": 40,
    "start_time": "2022-04-02T13:51:48.766Z"
   },
   {
    "duration": 9,
    "start_time": "2022-04-02T13:51:48.808Z"
   },
   {
    "duration": 6,
    "start_time": "2022-04-02T13:51:48.819Z"
   },
   {
    "duration": 37,
    "start_time": "2022-04-02T13:51:48.827Z"
   },
   {
    "duration": 9,
    "start_time": "2022-04-02T13:51:48.866Z"
   },
   {
    "duration": 6,
    "start_time": "2022-04-02T13:51:48.877Z"
   },
   {
    "duration": 19,
    "start_time": "2022-04-02T13:51:48.884Z"
   },
   {
    "duration": 10,
    "start_time": "2022-04-02T13:51:48.905Z"
   },
   {
    "duration": 3,
    "start_time": "2022-04-02T13:51:48.918Z"
   },
   {
    "duration": 100,
    "start_time": "2022-04-02T13:51:48.923Z"
   },
   {
    "duration": 80,
    "start_time": "2022-04-02T13:51:49.025Z"
   },
   {
    "duration": 10,
    "start_time": "2022-04-02T13:51:49.107Z"
   },
   {
    "duration": 39,
    "start_time": "2022-04-02T13:51:49.118Z"
   },
   {
    "duration": 11,
    "start_time": "2022-04-02T13:51:49.159Z"
   },
   {
    "duration": 3,
    "start_time": "2022-04-02T13:51:49.171Z"
   },
   {
    "duration": 56,
    "start_time": "2022-04-02T13:51:49.176Z"
   },
   {
    "duration": 13,
    "start_time": "2022-04-02T13:51:49.233Z"
   },
   {
    "duration": 62,
    "start_time": "2022-04-02T13:51:49.247Z"
   },
   {
    "duration": 46,
    "start_time": "2022-04-02T13:51:49.310Z"
   },
   {
    "duration": 53,
    "start_time": "2022-04-02T13:51:49.358Z"
   },
   {
    "duration": 51,
    "start_time": "2022-04-02T13:51:49.413Z"
   },
   {
    "duration": 44,
    "start_time": "2022-04-02T13:51:49.465Z"
   },
   {
    "duration": 62,
    "start_time": "2022-04-02T13:51:49.511Z"
   },
   {
    "duration": 7,
    "start_time": "2022-04-02T13:51:49.577Z"
   },
   {
    "duration": 55,
    "start_time": "2022-04-02T13:51:49.585Z"
   },
   {
    "duration": 27,
    "start_time": "2022-04-02T13:51:49.642Z"
   },
   {
    "duration": 41,
    "start_time": "2022-04-02T13:51:49.671Z"
   },
   {
    "duration": 19,
    "start_time": "2022-04-02T13:51:49.714Z"
   },
   {
    "duration": 22,
    "start_time": "2022-04-02T13:51:49.734Z"
   },
   {
    "duration": 63,
    "start_time": "2022-04-02T13:51:49.758Z"
   },
   {
    "duration": 170,
    "start_time": "2022-04-02T13:51:49.823Z"
   },
   {
    "duration": 0,
    "start_time": "2022-04-02T13:51:49.994Z"
   },
   {
    "duration": 0,
    "start_time": "2022-04-02T13:51:49.996Z"
   },
   {
    "duration": 3,
    "start_time": "2022-04-02T14:11:26.034Z"
   },
   {
    "duration": 688,
    "start_time": "2022-04-02T14:15:21.605Z"
   },
   {
    "duration": 1975,
    "start_time": "2022-04-02T14:15:39.239Z"
   },
   {
    "duration": 181,
    "start_time": "2022-04-02T14:16:20.447Z"
   },
   {
    "duration": 27,
    "start_time": "2022-04-02T14:16:20.630Z"
   },
   {
    "duration": 20,
    "start_time": "2022-04-02T14:16:20.659Z"
   },
   {
    "duration": 32,
    "start_time": "2022-04-02T14:16:20.701Z"
   },
   {
    "duration": 19,
    "start_time": "2022-04-02T14:16:20.735Z"
   },
   {
    "duration": 47,
    "start_time": "2022-04-02T14:16:20.756Z"
   },
   {
    "duration": 135,
    "start_time": "2022-04-02T14:16:20.804Z"
   },
   {
    "duration": 21,
    "start_time": "2022-04-02T14:16:20.941Z"
   },
   {
    "duration": 16,
    "start_time": "2022-04-02T14:16:20.963Z"
   },
   {
    "duration": 37,
    "start_time": "2022-04-02T14:16:20.982Z"
   },
   {
    "duration": 17,
    "start_time": "2022-04-02T14:16:21.021Z"
   },
   {
    "duration": 20,
    "start_time": "2022-04-02T14:16:21.039Z"
   },
   {
    "duration": 110,
    "start_time": "2022-04-02T14:16:21.061Z"
   },
   {
    "duration": 28,
    "start_time": "2022-04-02T14:16:21.173Z"
   },
   {
    "duration": 13,
    "start_time": "2022-04-02T14:16:21.203Z"
   },
   {
    "duration": 20,
    "start_time": "2022-04-02T14:16:21.217Z"
   },
   {
    "duration": 13,
    "start_time": "2022-04-02T14:16:21.239Z"
   },
   {
    "duration": 19,
    "start_time": "2022-04-02T14:16:21.254Z"
   },
   {
    "duration": 27,
    "start_time": "2022-04-02T14:16:21.275Z"
   },
   {
    "duration": 6,
    "start_time": "2022-04-02T14:16:21.304Z"
   },
   {
    "duration": 35,
    "start_time": "2022-04-02T14:16:21.312Z"
   },
   {
    "duration": 9,
    "start_time": "2022-04-02T14:16:21.348Z"
   },
   {
    "duration": 6,
    "start_time": "2022-04-02T14:16:21.358Z"
   },
   {
    "duration": 9,
    "start_time": "2022-04-02T14:16:21.365Z"
   },
   {
    "duration": 12,
    "start_time": "2022-04-02T14:16:21.375Z"
   },
   {
    "duration": 4,
    "start_time": "2022-04-02T14:16:21.401Z"
   },
   {
    "duration": 72,
    "start_time": "2022-04-02T14:16:21.407Z"
   },
   {
    "duration": 73,
    "start_time": "2022-04-02T14:16:21.483Z"
   },
   {
    "duration": 11,
    "start_time": "2022-04-02T14:16:21.557Z"
   },
   {
    "duration": 55,
    "start_time": "2022-04-02T14:16:21.570Z"
   },
   {
    "duration": 11,
    "start_time": "2022-04-02T14:16:21.626Z"
   },
   {
    "duration": 2,
    "start_time": "2022-04-02T14:16:21.639Z"
   },
   {
    "duration": 36,
    "start_time": "2022-04-02T14:16:21.643Z"
   },
   {
    "duration": 14,
    "start_time": "2022-04-02T14:16:21.701Z"
   },
   {
    "duration": 39,
    "start_time": "2022-04-02T14:16:21.716Z"
   },
   {
    "duration": 63,
    "start_time": "2022-04-02T14:16:21.756Z"
   },
   {
    "duration": 25,
    "start_time": "2022-04-02T14:16:21.821Z"
   },
   {
    "duration": 67,
    "start_time": "2022-04-02T14:16:21.847Z"
   },
   {
    "duration": 26,
    "start_time": "2022-04-02T14:16:21.916Z"
   },
   {
    "duration": 79,
    "start_time": "2022-04-02T14:16:21.944Z"
   },
   {
    "duration": 7,
    "start_time": "2022-04-02T14:16:22.025Z"
   },
   {
    "duration": 47,
    "start_time": "2022-04-02T14:16:22.033Z"
   },
   {
    "duration": 40,
    "start_time": "2022-04-02T14:16:22.081Z"
   },
   {
    "duration": 24,
    "start_time": "2022-04-02T14:16:22.123Z"
   },
   {
    "duration": 20,
    "start_time": "2022-04-02T14:16:22.148Z"
   },
   {
    "duration": 45,
    "start_time": "2022-04-02T14:16:22.170Z"
   },
   {
    "duration": 24,
    "start_time": "2022-04-02T14:16:22.217Z"
   },
   {
    "duration": 3,
    "start_time": "2022-04-02T14:16:22.242Z"
   },
   {
    "duration": 659,
    "start_time": "2022-04-02T14:16:22.247Z"
   },
   {
    "duration": 0,
    "start_time": "2022-04-02T14:16:22.908Z"
   },
   {
    "duration": 0,
    "start_time": "2022-04-02T14:16:22.909Z"
   },
   {
    "duration": 0,
    "start_time": "2022-04-02T14:16:22.910Z"
   },
   {
    "duration": 3,
    "start_time": "2022-04-02T14:16:34.179Z"
   },
   {
    "duration": 4,
    "start_time": "2022-04-02T14:19:35.043Z"
   },
   {
    "duration": 3,
    "start_time": "2022-04-02T14:19:58.672Z"
   },
   {
    "duration": 15,
    "start_time": "2022-04-02T14:20:18.313Z"
   },
   {
    "duration": 13,
    "start_time": "2022-04-02T14:20:43.866Z"
   },
   {
    "duration": 14,
    "start_time": "2022-04-02T15:22:10.994Z"
   },
   {
    "duration": 4,
    "start_time": "2022-04-02T15:25:25.729Z"
   },
   {
    "duration": 15,
    "start_time": "2022-04-02T15:25:29.110Z"
   },
   {
    "duration": 24,
    "start_time": "2022-04-02T15:33:38.668Z"
   },
   {
    "duration": 4,
    "start_time": "2022-04-02T15:38:14.498Z"
   },
   {
    "duration": 3,
    "start_time": "2022-04-02T15:38:18.138Z"
   },
   {
    "duration": 3,
    "start_time": "2022-04-02T15:38:20.762Z"
   },
   {
    "duration": 48,
    "start_time": "2022-04-02T15:39:54.692Z"
   },
   {
    "duration": 54,
    "start_time": "2022-04-02T15:40:10.137Z"
   },
   {
    "duration": 76,
    "start_time": "2022-04-02T15:40:28.309Z"
   },
   {
    "duration": 83,
    "start_time": "2022-04-02T15:41:02.114Z"
   },
   {
    "duration": 54,
    "start_time": "2022-04-02T15:41:22.179Z"
   },
   {
    "duration": 61,
    "start_time": "2022-04-02T15:41:29.421Z"
   },
   {
    "duration": 54,
    "start_time": "2022-04-02T15:41:39.212Z"
   },
   {
    "duration": 61,
    "start_time": "2022-04-02T15:41:46.660Z"
   },
   {
    "duration": 51,
    "start_time": "2022-04-02T15:43:12.146Z"
   },
   {
    "duration": 26,
    "start_time": "2022-04-02T15:43:33.329Z"
   },
   {
    "duration": 7,
    "start_time": "2022-04-02T15:46:28.695Z"
   },
   {
    "duration": 7,
    "start_time": "2022-04-02T15:46:52.580Z"
   },
   {
    "duration": 675,
    "start_time": "2022-04-02T15:47:04.574Z"
   },
   {
    "duration": 9,
    "start_time": "2022-04-02T15:47:37.577Z"
   },
   {
    "duration": 7,
    "start_time": "2022-04-02T15:48:48.906Z"
   },
   {
    "duration": 4,
    "start_time": "2022-04-02T15:49:05.645Z"
   },
   {
    "duration": 30,
    "start_time": "2022-04-02T15:58:19.143Z"
   },
   {
    "duration": 32,
    "start_time": "2022-04-02T15:59:31.162Z"
   },
   {
    "duration": 41,
    "start_time": "2022-04-02T16:12:03.156Z"
   },
   {
    "duration": 6,
    "start_time": "2022-04-02T16:12:19.141Z"
   },
   {
    "duration": 9,
    "start_time": "2022-04-02T16:12:41.471Z"
   },
   {
    "duration": 33,
    "start_time": "2022-04-02T16:13:00.403Z"
   },
   {
    "duration": 33,
    "start_time": "2022-04-02T16:13:12.195Z"
   },
   {
    "duration": 178,
    "start_time": "2022-04-02T16:13:14.450Z"
   },
   {
    "duration": 44,
    "start_time": "2022-04-02T16:13:14.631Z"
   },
   {
    "duration": 53,
    "start_time": "2022-04-02T16:13:14.677Z"
   },
   {
    "duration": 68,
    "start_time": "2022-04-02T16:13:14.733Z"
   },
   {
    "duration": 20,
    "start_time": "2022-04-02T16:13:14.804Z"
   },
   {
    "duration": 20,
    "start_time": "2022-04-02T16:13:14.826Z"
   },
   {
    "duration": 164,
    "start_time": "2022-04-02T16:13:14.848Z"
   },
   {
    "duration": 22,
    "start_time": "2022-04-02T16:13:15.014Z"
   },
   {
    "duration": 17,
    "start_time": "2022-04-02T16:13:15.037Z"
   },
   {
    "duration": 54,
    "start_time": "2022-04-02T16:13:15.057Z"
   },
   {
    "duration": 18,
    "start_time": "2022-04-02T16:13:15.113Z"
   },
   {
    "duration": 20,
    "start_time": "2022-04-02T16:13:15.134Z"
   },
   {
    "duration": 106,
    "start_time": "2022-04-02T16:13:15.156Z"
   },
   {
    "duration": 19,
    "start_time": "2022-04-02T16:13:15.264Z"
   },
   {
    "duration": 30,
    "start_time": "2022-04-02T16:13:15.285Z"
   },
   {
    "duration": 21,
    "start_time": "2022-04-02T16:13:15.317Z"
   },
   {
    "duration": 16,
    "start_time": "2022-04-02T16:13:15.339Z"
   },
   {
    "duration": 21,
    "start_time": "2022-04-02T16:13:15.356Z"
   },
   {
    "duration": 29,
    "start_time": "2022-04-02T16:13:15.378Z"
   },
   {
    "duration": 7,
    "start_time": "2022-04-02T16:13:15.408Z"
   },
   {
    "duration": 37,
    "start_time": "2022-04-02T16:13:15.416Z"
   },
   {
    "duration": 11,
    "start_time": "2022-04-02T16:13:15.455Z"
   },
   {
    "duration": 8,
    "start_time": "2022-04-02T16:13:15.468Z"
   },
   {
    "duration": 6,
    "start_time": "2022-04-02T16:13:15.477Z"
   },
   {
    "duration": 19,
    "start_time": "2022-04-02T16:13:15.485Z"
   },
   {
    "duration": 7,
    "start_time": "2022-04-02T16:13:15.506Z"
   },
   {
    "duration": 70,
    "start_time": "2022-04-02T16:13:15.515Z"
   },
   {
    "duration": 59,
    "start_time": "2022-04-02T16:13:15.600Z"
   },
   {
    "duration": 12,
    "start_time": "2022-04-02T16:13:15.661Z"
   },
   {
    "duration": 56,
    "start_time": "2022-04-02T16:13:15.674Z"
   },
   {
    "duration": 10,
    "start_time": "2022-04-02T16:13:15.732Z"
   },
   {
    "duration": 3,
    "start_time": "2022-04-02T16:13:15.744Z"
   },
   {
    "duration": 57,
    "start_time": "2022-04-02T16:13:15.748Z"
   },
   {
    "duration": 15,
    "start_time": "2022-04-02T16:13:15.806Z"
   },
   {
    "duration": 40,
    "start_time": "2022-04-02T16:13:15.822Z"
   },
   {
    "duration": 64,
    "start_time": "2022-04-02T16:13:15.864Z"
   },
   {
    "duration": 25,
    "start_time": "2022-04-02T16:13:15.930Z"
   },
   {
    "duration": 72,
    "start_time": "2022-04-02T16:13:15.957Z"
   },
   {
    "duration": 28,
    "start_time": "2022-04-02T16:13:16.031Z"
   },
   {
    "duration": 79,
    "start_time": "2022-04-02T16:13:16.061Z"
   },
   {
    "duration": 7,
    "start_time": "2022-04-02T16:13:16.142Z"
   },
   {
    "duration": 59,
    "start_time": "2022-04-02T16:13:16.150Z"
   },
   {
    "duration": 30,
    "start_time": "2022-04-02T16:13:16.211Z"
   },
   {
    "duration": 32,
    "start_time": "2022-04-02T16:13:16.243Z"
   },
   {
    "duration": 52,
    "start_time": "2022-04-02T16:13:16.277Z"
   },
   {
    "duration": 3,
    "start_time": "2022-04-02T16:13:16.331Z"
   },
   {
    "duration": 3201,
    "start_time": "2022-04-02T16:13:16.335Z"
   },
   {
    "duration": 0,
    "start_time": "2022-04-02T16:13:19.538Z"
   },
   {
    "duration": 0,
    "start_time": "2022-04-02T16:13:19.539Z"
   },
   {
    "duration": 0,
    "start_time": "2022-04-02T16:13:19.540Z"
   },
   {
    "duration": 8,
    "start_time": "2022-04-02T16:13:24.040Z"
   },
   {
    "duration": 43,
    "start_time": "2022-04-02T16:13:37.811Z"
   },
   {
    "duration": 24,
    "start_time": "2022-04-02T16:13:58.341Z"
   },
   {
    "duration": 29,
    "start_time": "2022-04-02T16:14:39.978Z"
   },
   {
    "duration": 32,
    "start_time": "2022-04-02T16:16:17.736Z"
   },
   {
    "duration": 176,
    "start_time": "2022-04-02T16:16:29.474Z"
   },
   {
    "duration": 27,
    "start_time": "2022-04-02T16:16:29.652Z"
   },
   {
    "duration": 41,
    "start_time": "2022-04-02T16:16:29.681Z"
   },
   {
    "duration": 34,
    "start_time": "2022-04-02T16:16:29.724Z"
   },
   {
    "duration": 19,
    "start_time": "2022-04-02T16:16:29.761Z"
   },
   {
    "duration": 20,
    "start_time": "2022-04-02T16:16:29.802Z"
   },
   {
    "duration": 135,
    "start_time": "2022-04-02T16:16:29.823Z"
   },
   {
    "duration": 21,
    "start_time": "2022-04-02T16:16:29.959Z"
   },
   {
    "duration": 28,
    "start_time": "2022-04-02T16:16:29.981Z"
   },
   {
    "duration": 33,
    "start_time": "2022-04-02T16:16:30.011Z"
   },
   {
    "duration": 28,
    "start_time": "2022-04-02T16:16:30.046Z"
   },
   {
    "duration": 32,
    "start_time": "2022-04-02T16:16:30.075Z"
   },
   {
    "duration": 89,
    "start_time": "2022-04-02T16:16:30.109Z"
   },
   {
    "duration": 19,
    "start_time": "2022-04-02T16:16:30.201Z"
   },
   {
    "duration": 28,
    "start_time": "2022-04-02T16:16:30.222Z"
   },
   {
    "duration": 29,
    "start_time": "2022-04-02T16:16:30.253Z"
   },
   {
    "duration": 26,
    "start_time": "2022-04-02T16:16:30.284Z"
   },
   {
    "duration": 22,
    "start_time": "2022-04-02T16:16:30.311Z"
   },
   {
    "duration": 11,
    "start_time": "2022-04-02T16:16:30.335Z"
   },
   {
    "duration": 17,
    "start_time": "2022-04-02T16:16:30.348Z"
   },
   {
    "duration": 55,
    "start_time": "2022-04-02T16:16:30.366Z"
   },
   {
    "duration": 11,
    "start_time": "2022-04-02T16:16:30.423Z"
   },
   {
    "duration": 16,
    "start_time": "2022-04-02T16:16:30.436Z"
   },
   {
    "duration": 18,
    "start_time": "2022-04-02T16:16:30.453Z"
   },
   {
    "duration": 18,
    "start_time": "2022-04-02T16:16:30.473Z"
   },
   {
    "duration": 9,
    "start_time": "2022-04-02T16:16:30.494Z"
   },
   {
    "duration": 83,
    "start_time": "2022-04-02T16:16:30.504Z"
   },
   {
    "duration": 58,
    "start_time": "2022-04-02T16:16:30.589Z"
   },
   {
    "duration": 10,
    "start_time": "2022-04-02T16:16:30.649Z"
   },
   {
    "duration": 49,
    "start_time": "2022-04-02T16:16:30.660Z"
   },
   {
    "duration": 10,
    "start_time": "2022-04-02T16:16:30.711Z"
   },
   {
    "duration": 22,
    "start_time": "2022-04-02T16:16:30.722Z"
   },
   {
    "duration": 41,
    "start_time": "2022-04-02T16:16:30.746Z"
   },
   {
    "duration": 14,
    "start_time": "2022-04-02T16:16:30.788Z"
   },
   {
    "duration": 61,
    "start_time": "2022-04-02T16:16:30.804Z"
   },
   {
    "duration": 42,
    "start_time": "2022-04-02T16:16:30.867Z"
   },
   {
    "duration": 25,
    "start_time": "2022-04-02T16:16:30.911Z"
   },
   {
    "duration": 52,
    "start_time": "2022-04-02T16:16:30.938Z"
   },
   {
    "duration": 37,
    "start_time": "2022-04-02T16:16:30.991Z"
   },
   {
    "duration": 83,
    "start_time": "2022-04-02T16:16:31.030Z"
   },
   {
    "duration": 7,
    "start_time": "2022-04-02T16:16:31.117Z"
   },
   {
    "duration": 53,
    "start_time": "2022-04-02T16:16:31.126Z"
   },
   {
    "duration": 38,
    "start_time": "2022-04-02T16:16:31.181Z"
   },
   {
    "duration": 30,
    "start_time": "2022-04-02T16:16:31.221Z"
   },
   {
    "duration": 50,
    "start_time": "2022-04-02T16:16:31.252Z"
   },
   {
    "duration": 3,
    "start_time": "2022-04-02T16:16:31.304Z"
   },
   {
    "duration": 2678,
    "start_time": "2022-04-02T16:16:31.309Z"
   },
   {
    "duration": 0,
    "start_time": "2022-04-02T16:16:33.989Z"
   },
   {
    "duration": 0,
    "start_time": "2022-04-02T16:16:33.990Z"
   },
   {
    "duration": 0,
    "start_time": "2022-04-02T16:16:33.992Z"
   },
   {
    "duration": 21,
    "start_time": "2022-04-02T16:17:20.166Z"
   },
   {
    "duration": 31,
    "start_time": "2022-04-02T16:30:45.970Z"
   },
   {
    "duration": 9,
    "start_time": "2022-04-02T16:31:52.718Z"
   },
   {
    "duration": 34,
    "start_time": "2022-04-02T16:33:11.964Z"
   },
   {
    "duration": 111,
    "start_time": "2022-04-02T16:41:01.644Z"
   },
   {
    "duration": 122,
    "start_time": "2022-04-02T16:41:08.877Z"
   },
   {
    "duration": 175,
    "start_time": "2022-04-02T16:41:15.608Z"
   },
   {
    "duration": 30,
    "start_time": "2022-04-02T16:41:15.786Z"
   },
   {
    "duration": 23,
    "start_time": "2022-04-02T16:41:15.818Z"
   },
   {
    "duration": 58,
    "start_time": "2022-04-02T16:41:15.843Z"
   },
   {
    "duration": 21,
    "start_time": "2022-04-02T16:41:15.904Z"
   },
   {
    "duration": 21,
    "start_time": "2022-04-02T16:41:15.926Z"
   },
   {
    "duration": 158,
    "start_time": "2022-04-02T16:41:15.949Z"
   },
   {
    "duration": 24,
    "start_time": "2022-04-02T16:41:16.109Z"
   },
   {
    "duration": 17,
    "start_time": "2022-04-02T16:41:16.135Z"
   },
   {
    "duration": 56,
    "start_time": "2022-04-02T16:41:16.154Z"
   },
   {
    "duration": 19,
    "start_time": "2022-04-02T16:41:16.212Z"
   },
   {
    "duration": 19,
    "start_time": "2022-04-02T16:41:16.233Z"
   },
   {
    "duration": 101,
    "start_time": "2022-04-02T16:41:16.255Z"
   },
   {
    "duration": 18,
    "start_time": "2022-04-02T16:41:16.360Z"
   },
   {
    "duration": 31,
    "start_time": "2022-04-02T16:41:16.380Z"
   },
   {
    "duration": 22,
    "start_time": "2022-04-02T16:41:16.413Z"
   },
   {
    "duration": 15,
    "start_time": "2022-04-02T16:41:16.437Z"
   },
   {
    "duration": 20,
    "start_time": "2022-04-02T16:41:16.454Z"
   },
   {
    "duration": 28,
    "start_time": "2022-04-02T16:41:16.476Z"
   },
   {
    "duration": 6,
    "start_time": "2022-04-02T16:41:16.506Z"
   },
   {
    "duration": 34,
    "start_time": "2022-04-02T16:41:16.514Z"
   },
   {
    "duration": 9,
    "start_time": "2022-04-02T16:41:16.551Z"
   },
   {
    "duration": 7,
    "start_time": "2022-04-02T16:41:16.562Z"
   },
   {
    "duration": 6,
    "start_time": "2022-04-02T16:41:16.571Z"
   },
   {
    "duration": 26,
    "start_time": "2022-04-02T16:41:16.578Z"
   },
   {
    "duration": 6,
    "start_time": "2022-04-02T16:41:16.606Z"
   },
   {
    "duration": 66,
    "start_time": "2022-04-02T16:41:16.614Z"
   },
   {
    "duration": 75,
    "start_time": "2022-04-02T16:41:16.682Z"
   },
   {
    "duration": 11,
    "start_time": "2022-04-02T16:41:16.759Z"
   },
   {
    "duration": 59,
    "start_time": "2022-04-02T16:41:16.771Z"
   },
   {
    "duration": 11,
    "start_time": "2022-04-02T16:41:16.831Z"
   },
   {
    "duration": 3,
    "start_time": "2022-04-02T16:41:16.844Z"
   },
   {
    "duration": 54,
    "start_time": "2022-04-02T16:41:16.848Z"
   },
   {
    "duration": 16,
    "start_time": "2022-04-02T16:41:16.904Z"
   },
   {
    "duration": 39,
    "start_time": "2022-04-02T16:41:16.922Z"
   },
   {
    "duration": 67,
    "start_time": "2022-04-02T16:41:16.963Z"
   },
   {
    "duration": 128,
    "start_time": "2022-04-02T16:45:48.058Z"
   },
   {
    "duration": 172,
    "start_time": "2022-04-02T16:45:52.414Z"
   },
   {
    "duration": 33,
    "start_time": "2022-04-02T16:45:52.589Z"
   },
   {
    "duration": 26,
    "start_time": "2022-04-02T16:45:52.624Z"
   },
   {
    "duration": 32,
    "start_time": "2022-04-02T16:45:52.652Z"
   },
   {
    "duration": 30,
    "start_time": "2022-04-02T16:45:52.685Z"
   },
   {
    "duration": 25,
    "start_time": "2022-04-02T16:45:52.717Z"
   },
   {
    "duration": 137,
    "start_time": "2022-04-02T16:45:52.743Z"
   },
   {
    "duration": 28,
    "start_time": "2022-04-02T16:45:52.882Z"
   },
   {
    "duration": 22,
    "start_time": "2022-04-02T16:45:52.912Z"
   },
   {
    "duration": 39,
    "start_time": "2022-04-02T16:45:52.937Z"
   },
   {
    "duration": 31,
    "start_time": "2022-04-02T16:45:52.977Z"
   },
   {
    "duration": 23,
    "start_time": "2022-04-02T16:45:53.010Z"
   },
   {
    "duration": 90,
    "start_time": "2022-04-02T16:45:53.036Z"
   },
   {
    "duration": 19,
    "start_time": "2022-04-02T16:45:53.127Z"
   },
   {
    "duration": 22,
    "start_time": "2022-04-02T16:45:53.147Z"
   },
   {
    "duration": 41,
    "start_time": "2022-04-02T16:45:53.171Z"
   },
   {
    "duration": 15,
    "start_time": "2022-04-02T16:45:53.214Z"
   },
   {
    "duration": 104,
    "start_time": "2022-04-02T16:45:53.231Z"
   },
   {
    "duration": 10,
    "start_time": "2022-04-02T16:45:53.337Z"
   },
   {
    "duration": 6,
    "start_time": "2022-04-02T16:45:53.348Z"
   },
   {
    "duration": 87,
    "start_time": "2022-04-02T16:45:53.356Z"
   },
   {
    "duration": 11,
    "start_time": "2022-04-02T16:45:53.445Z"
   },
   {
    "duration": 9,
    "start_time": "2022-04-02T16:45:53.457Z"
   },
   {
    "duration": 11,
    "start_time": "2022-04-02T16:45:53.467Z"
   },
   {
    "duration": 20,
    "start_time": "2022-04-02T16:45:53.479Z"
   },
   {
    "duration": 18,
    "start_time": "2022-04-02T16:45:53.501Z"
   },
   {
    "duration": 89,
    "start_time": "2022-04-02T16:45:53.521Z"
   },
   {
    "duration": 56,
    "start_time": "2022-04-02T16:45:53.614Z"
   },
   {
    "duration": 11,
    "start_time": "2022-04-02T16:45:53.672Z"
   },
   {
    "duration": 36,
    "start_time": "2022-04-02T16:45:53.701Z"
   },
   {
    "duration": 11,
    "start_time": "2022-04-02T16:45:53.739Z"
   },
   {
    "duration": 3,
    "start_time": "2022-04-02T16:45:53.752Z"
   },
   {
    "duration": 61,
    "start_time": "2022-04-02T16:45:53.757Z"
   },
   {
    "duration": 12,
    "start_time": "2022-04-02T16:45:53.821Z"
   },
   {
    "duration": 40,
    "start_time": "2022-04-02T16:45:53.835Z"
   },
   {
    "duration": 63,
    "start_time": "2022-04-02T16:45:53.877Z"
   },
   {
    "duration": 29,
    "start_time": "2022-04-02T16:45:53.950Z"
   },
   {
    "duration": 59,
    "start_time": "2022-04-02T16:45:53.980Z"
   },
   {
    "duration": 31,
    "start_time": "2022-04-02T16:45:54.041Z"
   },
   {
    "duration": 76,
    "start_time": "2022-04-02T16:45:54.073Z"
   },
   {
    "duration": 8,
    "start_time": "2022-04-02T16:45:54.150Z"
   },
   {
    "duration": 58,
    "start_time": "2022-04-02T16:45:54.160Z"
   },
   {
    "duration": 25,
    "start_time": "2022-04-02T16:45:54.219Z"
   },
   {
    "duration": 27,
    "start_time": "2022-04-02T16:45:54.246Z"
   },
   {
    "duration": 47,
    "start_time": "2022-04-02T16:45:54.275Z"
   },
   {
    "duration": 3,
    "start_time": "2022-04-02T16:45:54.324Z"
   },
   {
    "duration": 2622,
    "start_time": "2022-04-02T16:45:54.328Z"
   },
   {
    "duration": 0,
    "start_time": "2022-04-02T16:45:56.951Z"
   },
   {
    "duration": 0,
    "start_time": "2022-04-02T16:45:56.953Z"
   },
   {
    "duration": 0,
    "start_time": "2022-04-02T16:45:56.954Z"
   },
   {
    "duration": 112,
    "start_time": "2022-04-02T16:47:28.908Z"
   },
   {
    "duration": 16,
    "start_time": "2022-04-02T16:47:38.508Z"
   },
   {
    "duration": 164,
    "start_time": "2022-04-02T16:47:51.641Z"
   },
   {
    "duration": 41,
    "start_time": "2022-04-02T16:47:51.807Z"
   },
   {
    "duration": 51,
    "start_time": "2022-04-02T16:47:51.850Z"
   },
   {
    "duration": 32,
    "start_time": "2022-04-02T16:47:51.903Z"
   },
   {
    "duration": 18,
    "start_time": "2022-04-02T16:47:51.937Z"
   },
   {
    "duration": 18,
    "start_time": "2022-04-02T16:47:51.957Z"
   },
   {
    "duration": 150,
    "start_time": "2022-04-02T16:47:51.976Z"
   },
   {
    "duration": 20,
    "start_time": "2022-04-02T16:47:52.127Z"
   },
   {
    "duration": 15,
    "start_time": "2022-04-02T16:47:52.149Z"
   },
   {
    "duration": 48,
    "start_time": "2022-04-02T16:47:52.166Z"
   },
   {
    "duration": 15,
    "start_time": "2022-04-02T16:47:52.216Z"
   },
   {
    "duration": 17,
    "start_time": "2022-04-02T16:47:52.233Z"
   },
   {
    "duration": 102,
    "start_time": "2022-04-02T16:47:52.251Z"
   },
   {
    "duration": 18,
    "start_time": "2022-04-02T16:47:52.356Z"
   },
   {
    "duration": 26,
    "start_time": "2022-04-02T16:47:52.375Z"
   },
   {
    "duration": 18,
    "start_time": "2022-04-02T16:47:52.403Z"
   },
   {
    "duration": 14,
    "start_time": "2022-04-02T16:47:52.422Z"
   },
   {
    "duration": 20,
    "start_time": "2022-04-02T16:47:52.437Z"
   },
   {
    "duration": 9,
    "start_time": "2022-04-02T16:47:52.459Z"
   },
   {
    "duration": 5,
    "start_time": "2022-04-02T16:47:52.470Z"
   },
   {
    "duration": 36,
    "start_time": "2022-04-02T16:47:52.477Z"
   },
   {
    "duration": 10,
    "start_time": "2022-04-02T16:47:52.515Z"
   },
   {
    "duration": 5,
    "start_time": "2022-04-02T16:47:52.527Z"
   },
   {
    "duration": 5,
    "start_time": "2022-04-02T16:47:52.534Z"
   },
   {
    "duration": 11,
    "start_time": "2022-04-02T16:47:52.540Z"
   },
   {
    "duration": 3,
    "start_time": "2022-04-02T16:47:52.553Z"
   },
   {
    "duration": 102,
    "start_time": "2022-04-02T16:47:52.558Z"
   },
   {
    "duration": 65,
    "start_time": "2022-04-02T16:47:52.662Z"
   },
   {
    "duration": 11,
    "start_time": "2022-04-02T16:47:52.728Z"
   },
   {
    "duration": 37,
    "start_time": "2022-04-02T16:47:52.740Z"
   },
   {
    "duration": 27,
    "start_time": "2022-04-02T16:47:52.778Z"
   },
   {
    "duration": 3,
    "start_time": "2022-04-02T16:47:52.807Z"
   },
   {
    "duration": 33,
    "start_time": "2022-04-02T16:47:52.811Z"
   },
   {
    "duration": 14,
    "start_time": "2022-04-02T16:47:52.846Z"
   },
   {
    "duration": 72,
    "start_time": "2022-04-02T16:47:52.861Z"
   },
   {
    "duration": 42,
    "start_time": "2022-04-02T16:47:52.935Z"
   },
   {
    "duration": 44,
    "start_time": "2022-04-02T16:47:52.978Z"
   },
   {
    "duration": 54,
    "start_time": "2022-04-02T16:47:53.023Z"
   },
   {
    "duration": 47,
    "start_time": "2022-04-02T16:47:53.079Z"
   },
   {
    "duration": 74,
    "start_time": "2022-04-02T16:47:53.128Z"
   },
   {
    "duration": 7,
    "start_time": "2022-04-02T16:47:53.206Z"
   },
   {
    "duration": 40,
    "start_time": "2022-04-02T16:47:53.215Z"
   },
   {
    "duration": 47,
    "start_time": "2022-04-02T16:47:53.257Z"
   },
   {
    "duration": 32,
    "start_time": "2022-04-02T16:47:53.306Z"
   },
   {
    "duration": 29,
    "start_time": "2022-04-02T16:47:53.340Z"
   },
   {
    "duration": 3,
    "start_time": "2022-04-02T16:47:53.370Z"
   },
   {
    "duration": 2806,
    "start_time": "2022-04-02T16:47:53.375Z"
   },
   {
    "duration": 0,
    "start_time": "2022-04-02T16:47:56.183Z"
   },
   {
    "duration": 0,
    "start_time": "2022-04-02T16:47:56.185Z"
   },
   {
    "duration": 0,
    "start_time": "2022-04-02T16:47:56.186Z"
   },
   {
    "duration": 117,
    "start_time": "2022-04-02T16:48:24.832Z"
   },
   {
    "duration": 206,
    "start_time": "2022-04-02T16:48:29.887Z"
   },
   {
    "duration": 30,
    "start_time": "2022-04-02T16:48:30.095Z"
   },
   {
    "duration": 21,
    "start_time": "2022-04-02T16:48:30.127Z"
   },
   {
    "duration": 57,
    "start_time": "2022-04-02T16:48:30.150Z"
   },
   {
    "duration": 19,
    "start_time": "2022-04-02T16:48:30.209Z"
   },
   {
    "duration": 21,
    "start_time": "2022-04-02T16:48:30.230Z"
   },
   {
    "duration": 144,
    "start_time": "2022-04-02T16:48:30.252Z"
   },
   {
    "duration": 20,
    "start_time": "2022-04-02T16:48:30.398Z"
   },
   {
    "duration": 24,
    "start_time": "2022-04-02T16:48:30.420Z"
   },
   {
    "duration": 38,
    "start_time": "2022-04-02T16:48:30.446Z"
   },
   {
    "duration": 19,
    "start_time": "2022-04-02T16:48:30.485Z"
   },
   {
    "duration": 18,
    "start_time": "2022-04-02T16:48:30.506Z"
   },
   {
    "duration": 93,
    "start_time": "2022-04-02T16:48:30.526Z"
   },
   {
    "duration": 21,
    "start_time": "2022-04-02T16:48:30.621Z"
   },
   {
    "duration": 19,
    "start_time": "2022-04-02T16:48:30.644Z"
   },
   {
    "duration": 60,
    "start_time": "2022-04-02T16:48:30.665Z"
   },
   {
    "duration": 19,
    "start_time": "2022-04-02T16:48:30.727Z"
   },
   {
    "duration": 24,
    "start_time": "2022-04-02T16:48:30.748Z"
   },
   {
    "duration": 10,
    "start_time": "2022-04-02T16:48:30.774Z"
   },
   {
    "duration": 11,
    "start_time": "2022-04-02T16:48:30.786Z"
   },
   {
    "duration": 42,
    "start_time": "2022-04-02T16:48:30.799Z"
   },
   {
    "duration": 11,
    "start_time": "2022-04-02T16:48:30.843Z"
   },
   {
    "duration": 38,
    "start_time": "2022-04-02T16:48:30.856Z"
   },
   {
    "duration": 13,
    "start_time": "2022-04-02T16:48:30.895Z"
   },
   {
    "duration": 14,
    "start_time": "2022-04-02T16:48:30.910Z"
   },
   {
    "duration": 7,
    "start_time": "2022-04-02T16:48:30.925Z"
   },
   {
    "duration": 68,
    "start_time": "2022-04-02T16:48:30.934Z"
   },
   {
    "duration": 61,
    "start_time": "2022-04-02T16:48:31.005Z"
   },
   {
    "duration": 11,
    "start_time": "2022-04-02T16:48:31.068Z"
   },
   {
    "duration": 57,
    "start_time": "2022-04-02T16:48:31.081Z"
   },
   {
    "duration": 10,
    "start_time": "2022-04-02T16:48:31.140Z"
   },
   {
    "duration": 2,
    "start_time": "2022-04-02T16:48:31.152Z"
   },
   {
    "duration": 59,
    "start_time": "2022-04-02T16:48:31.156Z"
   },
   {
    "duration": 14,
    "start_time": "2022-04-02T16:48:31.216Z"
   },
   {
    "duration": 47,
    "start_time": "2022-04-02T16:48:31.231Z"
   },
   {
    "duration": 54,
    "start_time": "2022-04-02T16:48:31.280Z"
   },
   {
    "duration": 28,
    "start_time": "2022-04-02T16:48:31.335Z"
   },
   {
    "duration": 65,
    "start_time": "2022-04-02T16:48:31.365Z"
   },
   {
    "duration": 30,
    "start_time": "2022-04-02T16:48:31.432Z"
   },
   {
    "duration": 79,
    "start_time": "2022-04-02T16:48:31.464Z"
   },
   {
    "duration": 8,
    "start_time": "2022-04-02T16:48:31.545Z"
   },
   {
    "duration": 62,
    "start_time": "2022-04-02T16:48:31.555Z"
   },
   {
    "duration": 30,
    "start_time": "2022-04-02T16:48:31.620Z"
   },
   {
    "duration": 50,
    "start_time": "2022-04-02T16:48:31.652Z"
   },
   {
    "duration": 33,
    "start_time": "2022-04-02T16:48:31.703Z"
   },
   {
    "duration": 3,
    "start_time": "2022-04-02T16:48:31.737Z"
   },
   {
    "duration": 3208,
    "start_time": "2022-04-02T16:48:31.741Z"
   },
   {
    "duration": 0,
    "start_time": "2022-04-02T16:48:34.951Z"
   },
   {
    "duration": 0,
    "start_time": "2022-04-02T16:48:34.952Z"
   },
   {
    "duration": 0,
    "start_time": "2022-04-02T16:48:34.953Z"
   },
   {
    "duration": 91,
    "start_time": "2022-04-02T16:48:48.730Z"
   },
   {
    "duration": 160,
    "start_time": "2022-04-02T16:48:53.551Z"
   },
   {
    "duration": 24,
    "start_time": "2022-04-02T16:48:53.713Z"
   },
   {
    "duration": 20,
    "start_time": "2022-04-02T16:48:53.738Z"
   },
   {
    "duration": 52,
    "start_time": "2022-04-02T16:48:53.760Z"
   },
   {
    "duration": 21,
    "start_time": "2022-04-02T16:48:53.814Z"
   },
   {
    "duration": 20,
    "start_time": "2022-04-02T16:48:53.837Z"
   },
   {
    "duration": 146,
    "start_time": "2022-04-02T16:48:53.859Z"
   },
   {
    "duration": 22,
    "start_time": "2022-04-02T16:48:54.007Z"
   },
   {
    "duration": 19,
    "start_time": "2022-04-02T16:48:54.031Z"
   },
   {
    "duration": 52,
    "start_time": "2022-04-02T16:48:54.054Z"
   },
   {
    "duration": 17,
    "start_time": "2022-04-02T16:48:54.108Z"
   },
   {
    "duration": 20,
    "start_time": "2022-04-02T16:48:54.127Z"
   },
   {
    "duration": 101,
    "start_time": "2022-04-02T16:48:54.149Z"
   },
   {
    "duration": 20,
    "start_time": "2022-04-02T16:48:54.251Z"
   },
   {
    "duration": 29,
    "start_time": "2022-04-02T16:48:54.272Z"
   },
   {
    "duration": 22,
    "start_time": "2022-04-02T16:48:54.303Z"
   },
   {
    "duration": 15,
    "start_time": "2022-04-02T16:48:54.327Z"
   },
   {
    "duration": 19,
    "start_time": "2022-04-02T16:48:54.344Z"
   },
   {
    "duration": 10,
    "start_time": "2022-04-02T16:48:54.364Z"
   },
   {
    "duration": 28,
    "start_time": "2022-04-02T16:48:54.375Z"
   },
   {
    "duration": 36,
    "start_time": "2022-04-02T16:48:54.405Z"
   },
   {
    "duration": 11,
    "start_time": "2022-04-02T16:48:54.443Z"
   },
   {
    "duration": 9,
    "start_time": "2022-04-02T16:48:54.456Z"
   },
   {
    "duration": 6,
    "start_time": "2022-04-02T16:48:54.467Z"
   },
   {
    "duration": 20,
    "start_time": "2022-04-02T16:48:54.475Z"
   },
   {
    "duration": 7,
    "start_time": "2022-04-02T16:48:54.497Z"
   },
   {
    "duration": 74,
    "start_time": "2022-04-02T16:48:54.505Z"
   },
   {
    "duration": 66,
    "start_time": "2022-04-02T16:48:54.582Z"
   },
   {
    "duration": 11,
    "start_time": "2022-04-02T16:48:54.649Z"
   },
   {
    "duration": 49,
    "start_time": "2022-04-02T16:48:54.662Z"
   },
   {
    "duration": 11,
    "start_time": "2022-04-02T16:48:54.713Z"
   },
   {
    "duration": 3,
    "start_time": "2022-04-02T16:48:54.726Z"
   },
   {
    "duration": 39,
    "start_time": "2022-04-02T16:48:54.731Z"
   },
   {
    "duration": 37,
    "start_time": "2022-04-02T16:48:54.772Z"
   },
   {
    "duration": 39,
    "start_time": "2022-04-02T16:48:54.811Z"
   },
   {
    "duration": 70,
    "start_time": "2022-04-02T16:48:54.852Z"
   },
   {
    "duration": 40,
    "start_time": "2022-04-02T16:48:54.923Z"
   },
   {
    "duration": 92,
    "start_time": "2022-04-02T16:48:54.966Z"
   },
   {
    "duration": 50,
    "start_time": "2022-04-02T16:48:55.060Z"
   },
   {
    "duration": 102,
    "start_time": "2022-04-02T16:48:55.112Z"
   },
   {
    "duration": 10,
    "start_time": "2022-04-02T16:48:55.216Z"
   },
   {
    "duration": 73,
    "start_time": "2022-04-02T16:48:55.228Z"
   },
   {
    "duration": 45,
    "start_time": "2022-04-02T16:48:55.303Z"
   },
   {
    "duration": 57,
    "start_time": "2022-04-02T16:48:55.350Z"
   },
   {
    "duration": 55,
    "start_time": "2022-04-02T16:48:55.410Z"
   },
   {
    "duration": 3,
    "start_time": "2022-04-02T16:48:55.467Z"
   },
   {
    "duration": 2765,
    "start_time": "2022-04-02T16:48:55.471Z"
   },
   {
    "duration": 0,
    "start_time": "2022-04-02T16:48:58.237Z"
   },
   {
    "duration": 0,
    "start_time": "2022-04-02T16:48:58.239Z"
   },
   {
    "duration": 0,
    "start_time": "2022-04-02T16:48:58.240Z"
   },
   {
    "duration": 15,
    "start_time": "2022-04-02T16:49:30.557Z"
   },
   {
    "duration": 81,
    "start_time": "2022-04-02T16:49:39.361Z"
   },
   {
    "duration": 152,
    "start_time": "2022-04-02T16:49:48.473Z"
   },
   {
    "duration": 23,
    "start_time": "2022-04-02T16:49:48.627Z"
   },
   {
    "duration": 19,
    "start_time": "2022-04-02T16:49:48.652Z"
   },
   {
    "duration": 52,
    "start_time": "2022-04-02T16:49:48.673Z"
   },
   {
    "duration": 18,
    "start_time": "2022-04-02T16:49:48.727Z"
   },
   {
    "duration": 18,
    "start_time": "2022-04-02T16:49:48.746Z"
   },
   {
    "duration": 144,
    "start_time": "2022-04-02T16:49:48.766Z"
   },
   {
    "duration": 22,
    "start_time": "2022-04-02T16:49:48.912Z"
   },
   {
    "duration": 17,
    "start_time": "2022-04-02T16:49:48.936Z"
   },
   {
    "duration": 45,
    "start_time": "2022-04-02T16:49:48.956Z"
   },
   {
    "duration": 16,
    "start_time": "2022-04-02T16:49:49.003Z"
   },
   {
    "duration": 18,
    "start_time": "2022-04-02T16:49:49.021Z"
   },
   {
    "duration": 93,
    "start_time": "2022-04-02T16:49:49.041Z"
   },
   {
    "duration": 19,
    "start_time": "2022-04-02T16:49:49.135Z"
   },
   {
    "duration": 14,
    "start_time": "2022-04-02T16:49:49.156Z"
   },
   {
    "duration": 53,
    "start_time": "2022-04-02T16:49:49.173Z"
   },
   {
    "duration": 22,
    "start_time": "2022-04-02T16:49:49.228Z"
   },
   {
    "duration": 22,
    "start_time": "2022-04-02T16:49:49.252Z"
   },
   {
    "duration": 11,
    "start_time": "2022-04-02T16:49:49.275Z"
   },
   {
    "duration": 15,
    "start_time": "2022-04-02T16:49:49.288Z"
   },
   {
    "duration": 35,
    "start_time": "2022-04-02T16:49:49.305Z"
   },
   {
    "duration": 10,
    "start_time": "2022-04-02T16:49:49.341Z"
   },
   {
    "duration": 6,
    "start_time": "2022-04-02T16:49:49.352Z"
   },
   {
    "duration": 7,
    "start_time": "2022-04-02T16:49:49.359Z"
   },
   {
    "duration": 11,
    "start_time": "2022-04-02T16:49:49.367Z"
   },
   {
    "duration": 4,
    "start_time": "2022-04-02T16:49:49.379Z"
   },
   {
    "duration": 72,
    "start_time": "2022-04-02T16:49:49.384Z"
   },
   {
    "duration": 67,
    "start_time": "2022-04-02T16:49:49.459Z"
   },
   {
    "duration": 9,
    "start_time": "2022-04-02T16:49:49.528Z"
   },
   {
    "duration": 36,
    "start_time": "2022-04-02T16:49:49.539Z"
   },
   {
    "duration": 33,
    "start_time": "2022-04-02T16:49:49.576Z"
   },
   {
    "duration": 3,
    "start_time": "2022-04-02T16:49:49.610Z"
   },
   {
    "duration": 34,
    "start_time": "2022-04-02T16:49:49.615Z"
   },
   {
    "duration": 14,
    "start_time": "2022-04-02T16:49:49.650Z"
   },
   {
    "duration": 68,
    "start_time": "2022-04-02T16:49:49.666Z"
   },
   {
    "duration": 41,
    "start_time": "2022-04-02T16:49:49.736Z"
   },
   {
    "duration": 42,
    "start_time": "2022-04-02T16:49:49.779Z"
   },
   {
    "duration": 51,
    "start_time": "2022-04-02T16:49:49.823Z"
   },
   {
    "duration": 49,
    "start_time": "2022-04-02T16:49:49.876Z"
   },
   {
    "duration": 55,
    "start_time": "2022-04-02T16:49:49.926Z"
   },
   {
    "duration": 20,
    "start_time": "2022-04-02T16:49:49.982Z"
   },
   {
    "duration": 41,
    "start_time": "2022-04-02T16:49:50.003Z"
   },
   {
    "duration": 30,
    "start_time": "2022-04-02T16:49:50.045Z"
   },
   {
    "duration": 45,
    "start_time": "2022-04-02T16:49:50.077Z"
   },
   {
    "duration": 29,
    "start_time": "2022-04-02T16:49:50.124Z"
   },
   {
    "duration": 2,
    "start_time": "2022-04-02T16:49:50.155Z"
   },
   {
    "duration": 3466,
    "start_time": "2022-04-02T16:49:50.159Z"
   },
   {
    "duration": 0,
    "start_time": "2022-04-02T16:49:53.627Z"
   },
   {
    "duration": 0,
    "start_time": "2022-04-02T16:49:53.628Z"
   },
   {
    "duration": 0,
    "start_time": "2022-04-02T16:49:53.629Z"
   },
   {
    "duration": 113,
    "start_time": "2022-04-02T16:50:10.610Z"
   },
   {
    "duration": 75,
    "start_time": "2022-04-02T16:51:32.506Z"
   },
   {
    "duration": 156,
    "start_time": "2022-04-02T16:51:48.409Z"
   },
   {
    "duration": 35,
    "start_time": "2022-04-02T16:51:48.566Z"
   },
   {
    "duration": 19,
    "start_time": "2022-04-02T16:51:48.603Z"
   },
   {
    "duration": 32,
    "start_time": "2022-04-02T16:51:48.624Z"
   },
   {
    "duration": 19,
    "start_time": "2022-04-02T16:51:48.659Z"
   },
   {
    "duration": 20,
    "start_time": "2022-04-02T16:51:48.702Z"
   },
   {
    "duration": 138,
    "start_time": "2022-04-02T16:51:48.724Z"
   },
   {
    "duration": 20,
    "start_time": "2022-04-02T16:51:48.864Z"
   },
   {
    "duration": 28,
    "start_time": "2022-04-02T16:51:48.885Z"
   },
   {
    "duration": 23,
    "start_time": "2022-04-02T16:51:48.915Z"
   },
   {
    "duration": 15,
    "start_time": "2022-04-02T16:51:48.940Z"
   },
   {
    "duration": 15,
    "start_time": "2022-04-02T16:51:48.957Z"
   },
   {
    "duration": 99,
    "start_time": "2022-04-02T16:51:48.974Z"
   },
   {
    "duration": 25,
    "start_time": "2022-04-02T16:51:49.077Z"
   },
   {
    "duration": 15,
    "start_time": "2022-04-02T16:51:49.104Z"
   },
   {
    "duration": 20,
    "start_time": "2022-04-02T16:51:49.120Z"
   },
   {
    "duration": 13,
    "start_time": "2022-04-02T16:51:49.142Z"
   },
   {
    "duration": 19,
    "start_time": "2022-04-02T16:51:49.157Z"
   },
   {
    "duration": 32,
    "start_time": "2022-04-02T16:51:49.177Z"
   },
   {
    "duration": 6,
    "start_time": "2022-04-02T16:51:49.210Z"
   },
   {
    "duration": 39,
    "start_time": "2022-04-02T16:51:49.218Z"
   },
   {
    "duration": 10,
    "start_time": "2022-04-02T16:51:49.259Z"
   },
   {
    "duration": 6,
    "start_time": "2022-04-02T16:51:49.270Z"
   },
   {
    "duration": 6,
    "start_time": "2022-04-02T16:51:49.277Z"
   },
   {
    "duration": 18,
    "start_time": "2022-04-02T16:51:49.285Z"
   },
   {
    "duration": 3,
    "start_time": "2022-04-02T16:51:49.305Z"
   },
   {
    "duration": 70,
    "start_time": "2022-04-02T16:51:49.310Z"
   },
   {
    "duration": 0,
    "start_time": "2022-04-02T16:51:49.382Z"
   },
   {
    "duration": 0,
    "start_time": "2022-04-02T16:51:49.383Z"
   },
   {
    "duration": 0,
    "start_time": "2022-04-02T16:51:49.384Z"
   },
   {
    "duration": 0,
    "start_time": "2022-04-02T16:51:49.385Z"
   },
   {
    "duration": 0,
    "start_time": "2022-04-02T16:51:49.401Z"
   },
   {
    "duration": 0,
    "start_time": "2022-04-02T16:51:49.402Z"
   },
   {
    "duration": 0,
    "start_time": "2022-04-02T16:51:49.403Z"
   },
   {
    "duration": 1,
    "start_time": "2022-04-02T16:51:49.404Z"
   },
   {
    "duration": 0,
    "start_time": "2022-04-02T16:51:49.405Z"
   },
   {
    "duration": 0,
    "start_time": "2022-04-02T16:51:49.406Z"
   },
   {
    "duration": 0,
    "start_time": "2022-04-02T16:51:49.407Z"
   },
   {
    "duration": 0,
    "start_time": "2022-04-02T16:51:49.408Z"
   },
   {
    "duration": 0,
    "start_time": "2022-04-02T16:51:49.409Z"
   },
   {
    "duration": 0,
    "start_time": "2022-04-02T16:51:49.410Z"
   },
   {
    "duration": 0,
    "start_time": "2022-04-02T16:51:49.411Z"
   },
   {
    "duration": 0,
    "start_time": "2022-04-02T16:51:49.412Z"
   },
   {
    "duration": 0,
    "start_time": "2022-04-02T16:51:49.414Z"
   },
   {
    "duration": 0,
    "start_time": "2022-04-02T16:51:49.415Z"
   },
   {
    "duration": 0,
    "start_time": "2022-04-02T16:51:49.416Z"
   },
   {
    "duration": 0,
    "start_time": "2022-04-02T16:51:49.417Z"
   },
   {
    "duration": 0,
    "start_time": "2022-04-02T16:51:49.418Z"
   },
   {
    "duration": 0,
    "start_time": "2022-04-02T16:51:49.419Z"
   },
   {
    "duration": 0,
    "start_time": "2022-04-02T16:51:49.420Z"
   },
   {
    "duration": 82,
    "start_time": "2022-04-02T16:52:15.333Z"
   },
   {
    "duration": 105,
    "start_time": "2022-04-02T16:52:40.399Z"
   },
   {
    "duration": 64,
    "start_time": "2022-04-02T16:52:48.055Z"
   },
   {
    "duration": 73,
    "start_time": "2022-04-02T16:52:54.971Z"
   },
   {
    "duration": 83,
    "start_time": "2022-04-02T16:53:09.500Z"
   },
   {
    "duration": 64,
    "start_time": "2022-04-02T16:53:29.015Z"
   },
   {
    "duration": 80,
    "start_time": "2022-04-02T16:53:50.286Z"
   },
   {
    "duration": 76,
    "start_time": "2022-04-02T16:54:16.881Z"
   },
   {
    "duration": 10,
    "start_time": "2022-04-02T16:54:25.649Z"
   },
   {
    "duration": 77,
    "start_time": "2022-04-02T16:55:02.093Z"
   },
   {
    "duration": 87,
    "start_time": "2022-04-02T16:55:09.045Z"
   },
   {
    "duration": 173,
    "start_time": "2022-04-02T16:55:16.103Z"
   },
   {
    "duration": 36,
    "start_time": "2022-04-02T16:55:16.278Z"
   },
   {
    "duration": 22,
    "start_time": "2022-04-02T16:55:16.316Z"
   },
   {
    "duration": 61,
    "start_time": "2022-04-02T16:55:16.340Z"
   },
   {
    "duration": 21,
    "start_time": "2022-04-02T16:55:16.403Z"
   },
   {
    "duration": 21,
    "start_time": "2022-04-02T16:55:16.426Z"
   },
   {
    "duration": 158,
    "start_time": "2022-04-02T16:55:16.449Z"
   },
   {
    "duration": 24,
    "start_time": "2022-04-02T16:55:16.609Z"
   },
   {
    "duration": 19,
    "start_time": "2022-04-02T16:55:16.635Z"
   },
   {
    "duration": 57,
    "start_time": "2022-04-02T16:55:16.658Z"
   },
   {
    "duration": 19,
    "start_time": "2022-04-02T16:55:16.717Z"
   },
   {
    "duration": 29,
    "start_time": "2022-04-02T16:55:16.738Z"
   },
   {
    "duration": 98,
    "start_time": "2022-04-02T16:55:16.769Z"
   },
   {
    "duration": 20,
    "start_time": "2022-04-02T16:55:16.869Z"
   },
   {
    "duration": 17,
    "start_time": "2022-04-02T16:55:16.901Z"
   },
   {
    "duration": 24,
    "start_time": "2022-04-02T16:55:16.919Z"
   },
   {
    "duration": 18,
    "start_time": "2022-04-02T16:55:16.945Z"
   },
   {
    "duration": 41,
    "start_time": "2022-04-02T16:55:16.965Z"
   },
   {
    "duration": 14,
    "start_time": "2022-04-02T16:55:17.009Z"
   },
   {
    "duration": 5,
    "start_time": "2022-04-02T16:55:17.025Z"
   },
   {
    "duration": 39,
    "start_time": "2022-04-02T16:55:17.032Z"
   },
   {
    "duration": 12,
    "start_time": "2022-04-02T16:55:17.073Z"
   },
   {
    "duration": 18,
    "start_time": "2022-04-02T16:55:17.087Z"
   },
   {
    "duration": 7,
    "start_time": "2022-04-02T16:55:17.107Z"
   },
   {
    "duration": 13,
    "start_time": "2022-04-02T16:55:17.115Z"
   },
   {
    "duration": 4,
    "start_time": "2022-04-02T16:55:17.130Z"
   },
   {
    "duration": 109,
    "start_time": "2022-04-02T16:55:17.136Z"
   },
   {
    "duration": 76,
    "start_time": "2022-04-02T16:55:17.249Z"
   },
   {
    "duration": 11,
    "start_time": "2022-04-02T16:55:17.327Z"
   },
   {
    "duration": 61,
    "start_time": "2022-04-02T16:55:17.340Z"
   },
   {
    "duration": 12,
    "start_time": "2022-04-02T16:55:17.403Z"
   },
   {
    "duration": 3,
    "start_time": "2022-04-02T16:55:17.417Z"
   },
   {
    "duration": 37,
    "start_time": "2022-04-02T16:55:17.422Z"
   },
   {
    "duration": 42,
    "start_time": "2022-04-02T16:55:17.462Z"
   },
   {
    "duration": 53,
    "start_time": "2022-04-02T16:55:17.506Z"
   },
   {
    "duration": 83,
    "start_time": "2022-04-02T16:55:17.562Z"
   },
   {
    "duration": 44,
    "start_time": "2022-04-02T16:55:17.647Z"
   },
   {
    "duration": 56,
    "start_time": "2022-04-02T16:55:17.702Z"
   },
   {
    "duration": 41,
    "start_time": "2022-04-02T16:55:17.760Z"
   },
   {
    "duration": 59,
    "start_time": "2022-04-02T16:55:17.803Z"
   },
   {
    "duration": 8,
    "start_time": "2022-04-02T16:55:17.863Z"
   },
   {
    "duration": 61,
    "start_time": "2022-04-02T16:55:17.873Z"
   },
   {
    "duration": 30,
    "start_time": "2022-04-02T16:55:17.936Z"
   },
   {
    "duration": 56,
    "start_time": "2022-04-02T16:55:17.968Z"
   },
   {
    "duration": 34,
    "start_time": "2022-04-02T16:55:18.026Z"
   },
   {
    "duration": 4,
    "start_time": "2022-04-02T16:55:18.062Z"
   },
   {
    "duration": 2696,
    "start_time": "2022-04-02T16:55:18.067Z"
   },
   {
    "duration": 0,
    "start_time": "2022-04-02T16:55:20.764Z"
   },
   {
    "duration": 0,
    "start_time": "2022-04-02T16:55:20.765Z"
   },
   {
    "duration": 0,
    "start_time": "2022-04-02T16:55:20.767Z"
   },
   {
    "duration": 61,
    "start_time": "2022-04-02T16:56:31.449Z"
   },
   {
    "duration": 59,
    "start_time": "2022-04-02T16:56:36.351Z"
   },
   {
    "duration": 11,
    "start_time": "2022-04-02T16:56:43.834Z"
   },
   {
    "duration": 36,
    "start_time": "2022-04-02T16:56:45.815Z"
   },
   {
    "duration": 39,
    "start_time": "2022-04-02T16:56:57.377Z"
   },
   {
    "duration": 42,
    "start_time": "2022-04-02T16:57:02.576Z"
   },
   {
    "duration": 40,
    "start_time": "2022-04-02T16:57:08.768Z"
   },
   {
    "duration": 138,
    "start_time": "2022-04-02T16:57:25.538Z"
   },
   {
    "duration": 27,
    "start_time": "2022-04-02T16:57:25.678Z"
   },
   {
    "duration": 18,
    "start_time": "2022-04-02T16:57:25.707Z"
   },
   {
    "duration": 32,
    "start_time": "2022-04-02T16:57:25.727Z"
   },
   {
    "duration": 39,
    "start_time": "2022-04-02T16:57:25.762Z"
   },
   {
    "duration": 21,
    "start_time": "2022-04-02T16:57:25.803Z"
   },
   {
    "duration": 133,
    "start_time": "2022-04-02T16:57:25.825Z"
   },
   {
    "duration": 21,
    "start_time": "2022-04-02T16:57:25.959Z"
   },
   {
    "duration": 24,
    "start_time": "2022-04-02T16:57:25.982Z"
   },
   {
    "duration": 27,
    "start_time": "2022-04-02T16:57:26.008Z"
   },
   {
    "duration": 19,
    "start_time": "2022-04-02T16:57:26.036Z"
   },
   {
    "duration": 48,
    "start_time": "2022-04-02T16:57:26.056Z"
   },
   {
    "duration": 86,
    "start_time": "2022-04-02T16:57:26.106Z"
   },
   {
    "duration": 18,
    "start_time": "2022-04-02T16:57:26.200Z"
   },
   {
    "duration": 14,
    "start_time": "2022-04-02T16:57:26.219Z"
   },
   {
    "duration": 20,
    "start_time": "2022-04-02T16:57:26.234Z"
   },
   {
    "duration": 17,
    "start_time": "2022-04-02T16:57:26.256Z"
   },
   {
    "duration": 33,
    "start_time": "2022-04-02T16:57:26.274Z"
   },
   {
    "duration": 9,
    "start_time": "2022-04-02T16:57:26.308Z"
   },
   {
    "duration": 7,
    "start_time": "2022-04-02T16:57:26.319Z"
   },
   {
    "duration": 36,
    "start_time": "2022-04-02T16:57:26.327Z"
   },
   {
    "duration": 10,
    "start_time": "2022-04-02T16:57:26.365Z"
   },
   {
    "duration": 7,
    "start_time": "2022-04-02T16:57:26.376Z"
   },
   {
    "duration": 5,
    "start_time": "2022-04-02T16:57:26.402Z"
   },
   {
    "duration": 12,
    "start_time": "2022-04-02T16:57:26.409Z"
   },
   {
    "duration": 5,
    "start_time": "2022-04-02T16:57:26.423Z"
   },
   {
    "duration": 82,
    "start_time": "2022-04-02T16:57:26.430Z"
   },
   {
    "duration": 62,
    "start_time": "2022-04-02T16:57:26.515Z"
   },
   {
    "duration": 28,
    "start_time": "2022-04-02T16:57:26.579Z"
   },
   {
    "duration": 39,
    "start_time": "2022-04-02T16:57:26.609Z"
   },
   {
    "duration": 11,
    "start_time": "2022-04-02T16:57:26.650Z"
   },
   {
    "duration": 3,
    "start_time": "2022-04-02T16:57:26.662Z"
   },
   {
    "duration": 55,
    "start_time": "2022-04-02T16:57:26.667Z"
   },
   {
    "duration": 15,
    "start_time": "2022-04-02T16:57:26.724Z"
   },
   {
    "duration": 61,
    "start_time": "2022-04-02T16:57:26.741Z"
   },
   {
    "duration": 42,
    "start_time": "2022-04-02T16:57:26.804Z"
   },
   {
    "duration": 27,
    "start_time": "2022-04-02T16:57:26.848Z"
   },
   {
    "duration": 67,
    "start_time": "2022-04-02T16:57:26.877Z"
   },
   {
    "duration": 29,
    "start_time": "2022-04-02T16:57:26.945Z"
   },
   {
    "duration": 79,
    "start_time": "2022-04-02T16:57:26.976Z"
   },
   {
    "duration": 8,
    "start_time": "2022-04-02T16:57:27.059Z"
   },
   {
    "duration": 57,
    "start_time": "2022-04-02T16:57:27.069Z"
   },
   {
    "duration": 2697,
    "start_time": "2022-04-02T16:57:27.128Z"
   },
   {
    "duration": 0,
    "start_time": "2022-04-02T16:57:29.827Z"
   },
   {
    "duration": 0,
    "start_time": "2022-04-02T16:57:29.828Z"
   },
   {
    "duration": 0,
    "start_time": "2022-04-02T16:57:29.830Z"
   },
   {
    "duration": 0,
    "start_time": "2022-04-02T16:57:29.831Z"
   },
   {
    "duration": 0,
    "start_time": "2022-04-02T16:57:29.833Z"
   },
   {
    "duration": 0,
    "start_time": "2022-04-02T16:57:29.835Z"
   },
   {
    "duration": 0,
    "start_time": "2022-04-02T16:57:29.836Z"
   },
   {
    "duration": 96,
    "start_time": "2022-04-02T16:59:35.142Z"
   },
   {
    "duration": 14,
    "start_time": "2022-04-02T17:02:23.386Z"
   },
   {
    "duration": 141,
    "start_time": "2022-04-02T17:02:35.436Z"
   },
   {
    "duration": 37,
    "start_time": "2022-04-02T17:02:35.579Z"
   },
   {
    "duration": 25,
    "start_time": "2022-04-02T17:02:35.618Z"
   },
   {
    "duration": 31,
    "start_time": "2022-04-02T17:02:35.646Z"
   },
   {
    "duration": 39,
    "start_time": "2022-04-02T17:02:35.679Z"
   },
   {
    "duration": 27,
    "start_time": "2022-04-02T17:02:35.719Z"
   },
   {
    "duration": 143,
    "start_time": "2022-04-02T17:02:35.748Z"
   },
   {
    "duration": 26,
    "start_time": "2022-04-02T17:02:35.893Z"
   },
   {
    "duration": 27,
    "start_time": "2022-04-02T17:02:35.921Z"
   },
   {
    "duration": 34,
    "start_time": "2022-04-02T17:02:35.952Z"
   },
   {
    "duration": 25,
    "start_time": "2022-04-02T17:02:35.988Z"
   },
   {
    "duration": 31,
    "start_time": "2022-04-02T17:02:36.015Z"
   },
   {
    "duration": 99,
    "start_time": "2022-04-02T17:02:36.048Z"
   },
   {
    "duration": 32,
    "start_time": "2022-04-02T17:02:36.149Z"
   },
   {
    "duration": 36,
    "start_time": "2022-04-02T17:02:36.183Z"
   },
   {
    "duration": 31,
    "start_time": "2022-04-02T17:02:36.221Z"
   },
   {
    "duration": 18,
    "start_time": "2022-04-02T17:02:36.253Z"
   },
   {
    "duration": 22,
    "start_time": "2022-04-02T17:02:36.273Z"
   },
   {
    "duration": 12,
    "start_time": "2022-04-02T17:02:36.296Z"
   },
   {
    "duration": 25,
    "start_time": "2022-04-02T17:02:36.310Z"
   },
   {
    "duration": 78,
    "start_time": "2022-04-02T17:02:36.337Z"
   },
   {
    "duration": 11,
    "start_time": "2022-04-02T17:02:36.417Z"
   },
   {
    "duration": 24,
    "start_time": "2022-04-02T17:02:36.430Z"
   },
   {
    "duration": 14,
    "start_time": "2022-04-02T17:02:36.456Z"
   },
   {
    "duration": 26,
    "start_time": "2022-04-02T17:02:36.472Z"
   },
   {
    "duration": 19,
    "start_time": "2022-04-02T17:02:36.500Z"
   },
   {
    "duration": 85,
    "start_time": "2022-04-02T17:02:36.521Z"
   },
   {
    "duration": 63,
    "start_time": "2022-04-02T17:02:36.610Z"
   },
   {
    "duration": 26,
    "start_time": "2022-04-02T17:02:36.675Z"
   },
   {
    "duration": 41,
    "start_time": "2022-04-02T17:02:36.703Z"
   },
   {
    "duration": 11,
    "start_time": "2022-04-02T17:02:36.746Z"
   },
   {
    "duration": 16,
    "start_time": "2022-04-02T17:02:36.759Z"
   },
   {
    "duration": 49,
    "start_time": "2022-04-02T17:02:36.777Z"
   },
   {
    "duration": 16,
    "start_time": "2022-04-02T17:02:36.828Z"
   },
   {
    "duration": 62,
    "start_time": "2022-04-02T17:02:36.846Z"
   },
   {
    "duration": 14,
    "start_time": "2022-04-02T17:02:36.910Z"
   },
   {
    "duration": 0,
    "start_time": "2022-04-02T17:02:36.926Z"
   },
   {
    "duration": 0,
    "start_time": "2022-04-02T17:02:36.927Z"
   },
   {
    "duration": 0,
    "start_time": "2022-04-02T17:02:36.929Z"
   },
   {
    "duration": 0,
    "start_time": "2022-04-02T17:02:36.930Z"
   },
   {
    "duration": 0,
    "start_time": "2022-04-02T17:02:36.932Z"
   },
   {
    "duration": 0,
    "start_time": "2022-04-02T17:02:36.933Z"
   },
   {
    "duration": 0,
    "start_time": "2022-04-02T17:02:36.935Z"
   },
   {
    "duration": 0,
    "start_time": "2022-04-02T17:02:36.936Z"
   },
   {
    "duration": 0,
    "start_time": "2022-04-02T17:02:36.938Z"
   },
   {
    "duration": 0,
    "start_time": "2022-04-02T17:02:36.939Z"
   },
   {
    "duration": 0,
    "start_time": "2022-04-02T17:02:36.941Z"
   },
   {
    "duration": 0,
    "start_time": "2022-04-02T17:02:36.942Z"
   },
   {
    "duration": 0,
    "start_time": "2022-04-02T17:02:36.944Z"
   },
   {
    "duration": 0,
    "start_time": "2022-04-02T17:02:36.946Z"
   },
   {
    "duration": 30,
    "start_time": "2022-04-02T17:05:41.033Z"
   },
   {
    "duration": 28,
    "start_time": "2022-04-02T17:06:02.467Z"
   },
   {
    "duration": 160,
    "start_time": "2022-04-02T17:06:44.656Z"
   },
   {
    "duration": 28,
    "start_time": "2022-04-02T17:06:44.818Z"
   },
   {
    "duration": 22,
    "start_time": "2022-04-02T17:06:44.848Z"
   },
   {
    "duration": 58,
    "start_time": "2022-04-02T17:06:44.873Z"
   },
   {
    "duration": 20,
    "start_time": "2022-04-02T17:06:44.932Z"
   },
   {
    "duration": 20,
    "start_time": "2022-04-02T17:06:44.954Z"
   },
   {
    "duration": 143,
    "start_time": "2022-04-02T17:06:44.976Z"
   },
   {
    "duration": 21,
    "start_time": "2022-04-02T17:06:45.121Z"
   },
   {
    "duration": 16,
    "start_time": "2022-04-02T17:06:45.144Z"
   },
   {
    "duration": 49,
    "start_time": "2022-04-02T17:06:45.163Z"
   },
   {
    "duration": 17,
    "start_time": "2022-04-02T17:06:45.213Z"
   },
   {
    "duration": 20,
    "start_time": "2022-04-02T17:06:45.232Z"
   },
   {
    "duration": 104,
    "start_time": "2022-04-02T17:06:45.254Z"
   },
   {
    "duration": 20,
    "start_time": "2022-04-02T17:06:45.360Z"
   },
   {
    "duration": 26,
    "start_time": "2022-04-02T17:06:45.382Z"
   },
   {
    "duration": 21,
    "start_time": "2022-04-02T17:06:45.410Z"
   },
   {
    "duration": 16,
    "start_time": "2022-04-02T17:06:45.432Z"
   },
   {
    "duration": 22,
    "start_time": "2022-04-02T17:06:45.449Z"
   },
   {
    "duration": 8,
    "start_time": "2022-04-02T17:06:45.473Z"
   },
   {
    "duration": 22,
    "start_time": "2022-04-02T17:06:45.483Z"
   },
   {
    "duration": 51,
    "start_time": "2022-04-02T17:06:45.507Z"
   },
   {
    "duration": 10,
    "start_time": "2022-04-02T17:06:45.560Z"
   },
   {
    "duration": 9,
    "start_time": "2022-04-02T17:06:45.572Z"
   },
   {
    "duration": 6,
    "start_time": "2022-04-02T17:06:45.583Z"
   },
   {
    "duration": 11,
    "start_time": "2022-04-02T17:06:45.591Z"
   },
   {
    "duration": 7,
    "start_time": "2022-04-02T17:06:45.604Z"
   },
   {
    "duration": 72,
    "start_time": "2022-04-02T17:06:45.613Z"
   },
   {
    "duration": 57,
    "start_time": "2022-04-02T17:06:45.701Z"
   },
   {
    "duration": 14,
    "start_time": "2022-04-02T17:06:45.760Z"
   },
   {
    "duration": 79,
    "start_time": "2022-04-02T17:06:45.776Z"
   },
   {
    "duration": 13,
    "start_time": "2022-04-02T17:06:45.857Z"
   },
   {
    "duration": 3,
    "start_time": "2022-04-02T17:06:45.872Z"
   },
   {
    "duration": 65,
    "start_time": "2022-04-02T17:06:45.877Z"
   },
   {
    "duration": 23,
    "start_time": "2022-04-02T17:06:45.944Z"
   },
   {
    "duration": 57,
    "start_time": "2022-04-02T17:06:45.969Z"
   },
   {
    "duration": 23,
    "start_time": "2022-04-02T17:06:46.029Z"
   },
   {
    "duration": 11,
    "start_time": "2022-04-02T17:06:46.053Z"
   },
   {
    "duration": 40,
    "start_time": "2022-04-02T17:06:46.066Z"
   },
   {
    "duration": 0,
    "start_time": "2022-04-02T17:06:46.108Z"
   },
   {
    "duration": 0,
    "start_time": "2022-04-02T17:06:46.109Z"
   },
   {
    "duration": 0,
    "start_time": "2022-04-02T17:06:46.110Z"
   },
   {
    "duration": 0,
    "start_time": "2022-04-02T17:06:46.111Z"
   },
   {
    "duration": 0,
    "start_time": "2022-04-02T17:06:46.112Z"
   },
   {
    "duration": 0,
    "start_time": "2022-04-02T17:06:46.113Z"
   },
   {
    "duration": 0,
    "start_time": "2022-04-02T17:06:46.114Z"
   },
   {
    "duration": 0,
    "start_time": "2022-04-02T17:06:46.115Z"
   },
   {
    "duration": 0,
    "start_time": "2022-04-02T17:06:46.116Z"
   },
   {
    "duration": 0,
    "start_time": "2022-04-02T17:06:46.117Z"
   },
   {
    "duration": 0,
    "start_time": "2022-04-02T17:06:46.118Z"
   },
   {
    "duration": 0,
    "start_time": "2022-04-02T17:06:46.119Z"
   },
   {
    "duration": 12,
    "start_time": "2022-04-02T17:08:21.700Z"
   },
   {
    "duration": 15,
    "start_time": "2022-04-02T17:08:38.507Z"
   },
   {
    "duration": 16,
    "start_time": "2022-04-02T17:09:45.227Z"
   },
   {
    "duration": 8,
    "start_time": "2022-04-02T17:10:37.077Z"
   },
   {
    "duration": 17,
    "start_time": "2022-04-02T17:11:06.733Z"
   },
   {
    "duration": 19,
    "start_time": "2022-04-02T17:11:58.695Z"
   },
   {
    "duration": 138,
    "start_time": "2022-04-02T17:13:50.525Z"
   },
   {
    "duration": 24,
    "start_time": "2022-04-02T17:13:50.665Z"
   },
   {
    "duration": 20,
    "start_time": "2022-04-02T17:13:50.701Z"
   },
   {
    "duration": 30,
    "start_time": "2022-04-02T17:13:50.723Z"
   },
   {
    "duration": 17,
    "start_time": "2022-04-02T17:13:50.755Z"
   },
   {
    "duration": 45,
    "start_time": "2022-04-02T17:13:50.774Z"
   },
   {
    "duration": 177,
    "start_time": "2022-04-02T17:13:50.820Z"
   },
   {
    "duration": 35,
    "start_time": "2022-04-02T17:13:51.001Z"
   },
   {
    "duration": 28,
    "start_time": "2022-04-02T17:13:51.039Z"
   },
   {
    "duration": 65,
    "start_time": "2022-04-02T17:13:51.072Z"
   },
   {
    "duration": 30,
    "start_time": "2022-04-02T17:13:51.140Z"
   },
   {
    "duration": 46,
    "start_time": "2022-04-02T17:13:51.173Z"
   },
   {
    "duration": 126,
    "start_time": "2022-04-02T17:13:51.221Z"
   },
   {
    "duration": 31,
    "start_time": "2022-04-02T17:13:51.348Z"
   },
   {
    "duration": 32,
    "start_time": "2022-04-02T17:13:51.381Z"
   },
   {
    "duration": 34,
    "start_time": "2022-04-02T17:13:51.415Z"
   },
   {
    "duration": 19,
    "start_time": "2022-04-02T17:13:51.451Z"
   },
   {
    "duration": 35,
    "start_time": "2022-04-02T17:13:51.472Z"
   },
   {
    "duration": 10,
    "start_time": "2022-04-02T17:13:51.508Z"
   },
   {
    "duration": 6,
    "start_time": "2022-04-02T17:13:51.520Z"
   },
   {
    "duration": 44,
    "start_time": "2022-04-02T17:13:51.528Z"
   },
   {
    "duration": 10,
    "start_time": "2022-04-02T17:13:51.574Z"
   },
   {
    "duration": 6,
    "start_time": "2022-04-02T17:13:51.586Z"
   },
   {
    "duration": 10,
    "start_time": "2022-04-02T17:13:51.594Z"
   },
   {
    "duration": 13,
    "start_time": "2022-04-02T17:13:51.606Z"
   },
   {
    "duration": 4,
    "start_time": "2022-04-02T17:13:51.621Z"
   },
   {
    "duration": 87,
    "start_time": "2022-04-02T17:13:51.626Z"
   },
   {
    "duration": 59,
    "start_time": "2022-04-02T17:13:51.717Z"
   },
   {
    "duration": 29,
    "start_time": "2022-04-02T17:13:51.777Z"
   },
   {
    "duration": 39,
    "start_time": "2022-04-02T17:13:51.807Z"
   },
   {
    "duration": 10,
    "start_time": "2022-04-02T17:13:51.847Z"
   },
   {
    "duration": 3,
    "start_time": "2022-04-02T17:13:51.859Z"
   },
   {
    "duration": 69,
    "start_time": "2022-04-02T17:13:51.863Z"
   },
   {
    "duration": 14,
    "start_time": "2022-04-02T17:13:51.934Z"
   },
   {
    "duration": 56,
    "start_time": "2022-04-02T17:13:51.949Z"
   },
   {
    "duration": 11,
    "start_time": "2022-04-02T17:13:52.007Z"
   },
   {
    "duration": 14,
    "start_time": "2022-04-02T17:13:52.019Z"
   },
   {
    "duration": 7,
    "start_time": "2022-04-02T17:13:52.034Z"
   },
   {
    "duration": 14,
    "start_time": "2022-04-02T17:13:52.043Z"
   },
   {
    "duration": 2641,
    "start_time": "2022-04-02T17:13:52.059Z"
   },
   {
    "duration": 0,
    "start_time": "2022-04-02T17:13:54.702Z"
   },
   {
    "duration": 0,
    "start_time": "2022-04-02T17:13:54.704Z"
   },
   {
    "duration": 0,
    "start_time": "2022-04-02T17:13:54.705Z"
   },
   {
    "duration": 0,
    "start_time": "2022-04-02T17:13:54.706Z"
   },
   {
    "duration": 0,
    "start_time": "2022-04-02T17:13:54.708Z"
   },
   {
    "duration": 0,
    "start_time": "2022-04-02T17:13:54.709Z"
   },
   {
    "duration": 0,
    "start_time": "2022-04-02T17:13:54.711Z"
   },
   {
    "duration": 0,
    "start_time": "2022-04-02T17:13:54.713Z"
   },
   {
    "duration": 0,
    "start_time": "2022-04-02T17:13:54.714Z"
   },
   {
    "duration": 2987,
    "start_time": "2022-04-02T17:15:17.111Z"
   },
   {
    "duration": 3258,
    "start_time": "2022-04-02T17:17:13.324Z"
   },
   {
    "duration": 2756,
    "start_time": "2022-04-02T17:23:56.633Z"
   },
   {
    "duration": 209,
    "start_time": "2022-04-02T17:24:56.370Z"
   },
   {
    "duration": 44,
    "start_time": "2022-04-02T17:24:56.582Z"
   },
   {
    "duration": 32,
    "start_time": "2022-04-02T17:24:56.628Z"
   },
   {
    "duration": 69,
    "start_time": "2022-04-02T17:24:56.662Z"
   },
   {
    "duration": 29,
    "start_time": "2022-04-02T17:24:56.734Z"
   },
   {
    "duration": 43,
    "start_time": "2022-04-02T17:24:56.765Z"
   },
   {
    "duration": 180,
    "start_time": "2022-04-02T17:24:56.810Z"
   },
   {
    "duration": 41,
    "start_time": "2022-04-02T17:24:56.991Z"
   },
   {
    "duration": 17,
    "start_time": "2022-04-02T17:24:57.034Z"
   },
   {
    "duration": 26,
    "start_time": "2022-04-02T17:24:57.053Z"
   },
   {
    "duration": 35,
    "start_time": "2022-04-02T17:24:57.081Z"
   },
   {
    "duration": 20,
    "start_time": "2022-04-02T17:24:57.118Z"
   },
   {
    "duration": 102,
    "start_time": "2022-04-02T17:24:57.140Z"
   },
   {
    "duration": 20,
    "start_time": "2022-04-02T17:24:57.245Z"
   },
   {
    "duration": 35,
    "start_time": "2022-04-02T17:24:57.267Z"
   },
   {
    "duration": 20,
    "start_time": "2022-04-02T17:24:57.303Z"
   },
   {
    "duration": 17,
    "start_time": "2022-04-02T17:24:57.325Z"
   },
   {
    "duration": 20,
    "start_time": "2022-04-02T17:24:57.344Z"
   },
   {
    "duration": 10,
    "start_time": "2022-04-02T17:24:57.366Z"
   },
   {
    "duration": 24,
    "start_time": "2022-04-02T17:24:57.378Z"
   },
   {
    "duration": 43,
    "start_time": "2022-04-02T17:24:57.404Z"
   },
   {
    "duration": 11,
    "start_time": "2022-04-02T17:24:57.449Z"
   },
   {
    "duration": 7,
    "start_time": "2022-04-02T17:24:57.462Z"
   },
   {
    "duration": 7,
    "start_time": "2022-04-02T17:24:57.470Z"
   },
   {
    "duration": 10,
    "start_time": "2022-04-02T17:24:57.479Z"
   },
   {
    "duration": 13,
    "start_time": "2022-04-02T17:24:57.490Z"
   },
   {
    "duration": 66,
    "start_time": "2022-04-02T17:24:57.505Z"
   },
   {
    "duration": 79,
    "start_time": "2022-04-02T17:24:57.573Z"
   },
   {
    "duration": 12,
    "start_time": "2022-04-02T17:24:57.654Z"
   },
   {
    "duration": 57,
    "start_time": "2022-04-02T17:24:57.668Z"
   },
   {
    "duration": 11,
    "start_time": "2022-04-02T17:24:57.727Z"
   },
   {
    "duration": 3,
    "start_time": "2022-04-02T17:24:57.739Z"
   },
   {
    "duration": 60,
    "start_time": "2022-04-02T17:24:57.743Z"
   },
   {
    "duration": 18,
    "start_time": "2022-04-02T17:24:57.804Z"
   },
   {
    "duration": 51,
    "start_time": "2022-04-02T17:24:57.824Z"
   },
   {
    "duration": 25,
    "start_time": "2022-04-02T17:24:57.877Z"
   },
   {
    "duration": 14,
    "start_time": "2022-04-02T17:24:57.904Z"
   },
   {
    "duration": 8,
    "start_time": "2022-04-02T17:24:57.920Z"
   },
   {
    "duration": 2972,
    "start_time": "2022-04-02T17:24:57.930Z"
   },
   {
    "duration": 0,
    "start_time": "2022-04-02T17:25:00.905Z"
   },
   {
    "duration": 0,
    "start_time": "2022-04-02T17:25:00.906Z"
   },
   {
    "duration": 0,
    "start_time": "2022-04-02T17:25:00.907Z"
   },
   {
    "duration": 0,
    "start_time": "2022-04-02T17:25:00.908Z"
   },
   {
    "duration": 0,
    "start_time": "2022-04-02T17:25:00.909Z"
   },
   {
    "duration": 0,
    "start_time": "2022-04-02T17:25:00.910Z"
   },
   {
    "duration": 0,
    "start_time": "2022-04-02T17:25:00.911Z"
   },
   {
    "duration": 0,
    "start_time": "2022-04-02T17:25:00.913Z"
   },
   {
    "duration": 0,
    "start_time": "2022-04-02T17:25:00.914Z"
   },
   {
    "duration": 0,
    "start_time": "2022-04-02T17:25:00.915Z"
   },
   {
    "duration": 0,
    "start_time": "2022-04-02T17:25:00.917Z"
   },
   {
    "duration": 11,
    "start_time": "2022-04-02T17:26:54.938Z"
   },
   {
    "duration": 160,
    "start_time": "2022-04-02T17:27:14.619Z"
   },
   {
    "duration": 15,
    "start_time": "2022-04-02T17:27:24.764Z"
   },
   {
    "duration": 19,
    "start_time": "2022-04-02T17:29:07.541Z"
   },
   {
    "duration": 19,
    "start_time": "2022-04-02T17:29:27.583Z"
   },
   {
    "duration": 25,
    "start_time": "2022-04-02T17:29:45.289Z"
   },
   {
    "duration": 13,
    "start_time": "2022-04-02T17:29:55.383Z"
   },
   {
    "duration": 19,
    "start_time": "2022-04-02T17:30:10.197Z"
   },
   {
    "duration": 8,
    "start_time": "2022-04-02T17:30:38.264Z"
   },
   {
    "duration": 16,
    "start_time": "2022-04-02T17:30:50.495Z"
   },
   {
    "duration": 51,
    "start_time": "2022-04-02T17:31:56.566Z"
   },
   {
    "duration": 466,
    "start_time": "2022-04-02T17:35:06.264Z"
   },
   {
    "duration": 51,
    "start_time": "2022-04-02T17:36:00.124Z"
   },
   {
    "duration": 2677,
    "start_time": "2022-04-02T17:38:25.437Z"
   },
   {
    "duration": 718,
    "start_time": "2022-04-03T10:58:01.961Z"
   },
   {
    "duration": 35,
    "start_time": "2022-04-03T10:58:02.682Z"
   },
   {
    "duration": 51,
    "start_time": "2022-04-03T10:58:02.719Z"
   },
   {
    "duration": 51,
    "start_time": "2022-04-03T10:58:02.773Z"
   },
   {
    "duration": 51,
    "start_time": "2022-04-03T10:58:02.826Z"
   },
   {
    "duration": 31,
    "start_time": "2022-04-03T10:58:02.879Z"
   },
   {
    "duration": 179,
    "start_time": "2022-04-03T10:58:02.912Z"
   },
   {
    "duration": 29,
    "start_time": "2022-04-03T10:58:03.094Z"
   },
   {
    "duration": 44,
    "start_time": "2022-04-03T10:58:03.125Z"
   },
   {
    "duration": 34,
    "start_time": "2022-04-03T10:58:03.173Z"
   },
   {
    "duration": 24,
    "start_time": "2022-04-03T10:58:03.209Z"
   },
   {
    "duration": 55,
    "start_time": "2022-04-03T10:58:03.235Z"
   },
   {
    "duration": 115,
    "start_time": "2022-04-03T10:58:03.292Z"
   },
   {
    "duration": 25,
    "start_time": "2022-04-03T10:58:03.409Z"
   },
   {
    "duration": 33,
    "start_time": "2022-04-03T10:58:03.436Z"
   },
   {
    "duration": 29,
    "start_time": "2022-04-03T10:58:03.471Z"
   },
   {
    "duration": 23,
    "start_time": "2022-04-03T10:58:03.502Z"
   },
   {
    "duration": 43,
    "start_time": "2022-04-03T10:58:03.527Z"
   },
   {
    "duration": 15,
    "start_time": "2022-04-03T10:58:03.572Z"
   },
   {
    "duration": 8,
    "start_time": "2022-04-03T10:58:03.589Z"
   },
   {
    "duration": 31,
    "start_time": "2022-04-03T10:58:03.599Z"
   },
   {
    "duration": 45,
    "start_time": "2022-04-03T10:58:03.633Z"
   },
   {
    "duration": 10,
    "start_time": "2022-04-03T10:58:03.681Z"
   },
   {
    "duration": 8,
    "start_time": "2022-04-03T10:58:03.693Z"
   },
   {
    "duration": 19,
    "start_time": "2022-04-03T10:58:03.704Z"
   },
   {
    "duration": 43,
    "start_time": "2022-04-03T10:58:03.725Z"
   },
   {
    "duration": 49,
    "start_time": "2022-04-03T10:58:03.770Z"
   },
   {
    "duration": 125,
    "start_time": "2022-04-03T10:58:03.825Z"
   },
   {
    "duration": 94,
    "start_time": "2022-04-03T10:58:03.952Z"
   },
   {
    "duration": 28,
    "start_time": "2022-04-03T10:58:04.049Z"
   },
   {
    "duration": 63,
    "start_time": "2022-04-03T10:58:04.079Z"
   },
   {
    "duration": 16,
    "start_time": "2022-04-03T10:58:04.167Z"
   },
   {
    "duration": 7,
    "start_time": "2022-04-03T10:58:04.185Z"
   },
   {
    "duration": 72,
    "start_time": "2022-04-03T10:58:04.195Z"
   },
   {
    "duration": 21,
    "start_time": "2022-04-03T10:58:04.270Z"
   },
   {
    "duration": 78,
    "start_time": "2022-04-03T10:58:04.294Z"
   },
   {
    "duration": 18,
    "start_time": "2022-04-03T10:58:04.375Z"
   },
   {
    "duration": 19,
    "start_time": "2022-04-03T10:58:04.395Z"
   },
   {
    "duration": 11,
    "start_time": "2022-04-03T10:58:04.417Z"
   },
   {
    "duration": 58,
    "start_time": "2022-04-03T10:58:04.430Z"
   },
   {
    "duration": 2259,
    "start_time": "2022-04-03T10:58:04.491Z"
   },
   {
    "duration": 0,
    "start_time": "2022-04-03T10:58:06.753Z"
   },
   {
    "duration": 0,
    "start_time": "2022-04-03T10:58:06.755Z"
   },
   {
    "duration": 0,
    "start_time": "2022-04-03T10:58:06.757Z"
   },
   {
    "duration": 0,
    "start_time": "2022-04-03T10:58:06.758Z"
   },
   {
    "duration": 0,
    "start_time": "2022-04-03T10:58:06.759Z"
   },
   {
    "duration": 0,
    "start_time": "2022-04-03T10:58:06.761Z"
   },
   {
    "duration": 0,
    "start_time": "2022-04-03T10:58:06.762Z"
   },
   {
    "duration": 0,
    "start_time": "2022-04-03T10:58:06.764Z"
   },
   {
    "duration": 0,
    "start_time": "2022-04-03T10:58:06.765Z"
   },
   {
    "duration": 5,
    "start_time": "2022-04-03T11:02:52.826Z"
   },
   {
    "duration": 10,
    "start_time": "2022-04-03T11:03:12.082Z"
   },
   {
    "duration": 8,
    "start_time": "2022-04-03T11:03:41.685Z"
   },
   {
    "duration": 39,
    "start_time": "2022-04-03T11:03:49.688Z"
   },
   {
    "duration": 1962,
    "start_time": "2022-04-03T11:09:19.881Z"
   },
   {
    "duration": 2233,
    "start_time": "2022-04-03T11:09:44.286Z"
   },
   {
    "duration": 2176,
    "start_time": "2022-04-03T11:09:56.478Z"
   },
   {
    "duration": 2047,
    "start_time": "2022-04-03T11:34:28.324Z"
   },
   {
    "duration": 2171,
    "start_time": "2022-04-03T11:40:59.194Z"
   },
   {
    "duration": 330,
    "start_time": "2022-04-03T11:41:24.360Z"
   },
   {
    "duration": 36,
    "start_time": "2022-04-03T11:41:24.693Z"
   },
   {
    "duration": 50,
    "start_time": "2022-04-03T11:41:24.731Z"
   },
   {
    "duration": 47,
    "start_time": "2022-04-03T11:41:24.784Z"
   },
   {
    "duration": 45,
    "start_time": "2022-04-03T11:41:24.836Z"
   },
   {
    "duration": 30,
    "start_time": "2022-04-03T11:41:24.884Z"
   },
   {
    "duration": 2144,
    "start_time": "2022-04-03T11:41:24.917Z"
   },
   {
    "duration": 0,
    "start_time": "2022-04-03T11:41:27.067Z"
   },
   {
    "duration": 0,
    "start_time": "2022-04-03T11:41:27.070Z"
   },
   {
    "duration": 0,
    "start_time": "2022-04-03T11:41:27.072Z"
   },
   {
    "duration": 0,
    "start_time": "2022-04-03T11:41:27.074Z"
   },
   {
    "duration": 0,
    "start_time": "2022-04-03T11:41:27.075Z"
   },
   {
    "duration": 1,
    "start_time": "2022-04-03T11:41:27.078Z"
   },
   {
    "duration": 0,
    "start_time": "2022-04-03T11:41:27.080Z"
   },
   {
    "duration": 0,
    "start_time": "2022-04-03T11:41:27.081Z"
   },
   {
    "duration": 0,
    "start_time": "2022-04-03T11:41:27.083Z"
   },
   {
    "duration": 0,
    "start_time": "2022-04-03T11:41:27.085Z"
   },
   {
    "duration": 0,
    "start_time": "2022-04-03T11:41:27.086Z"
   },
   {
    "duration": 0,
    "start_time": "2022-04-03T11:41:27.088Z"
   },
   {
    "duration": 1,
    "start_time": "2022-04-03T11:41:27.089Z"
   },
   {
    "duration": 0,
    "start_time": "2022-04-03T11:41:27.091Z"
   },
   {
    "duration": 0,
    "start_time": "2022-04-03T11:41:27.093Z"
   },
   {
    "duration": 0,
    "start_time": "2022-04-03T11:41:27.094Z"
   },
   {
    "duration": 0,
    "start_time": "2022-04-03T11:41:27.096Z"
   },
   {
    "duration": 0,
    "start_time": "2022-04-03T11:41:27.097Z"
   },
   {
    "duration": 0,
    "start_time": "2022-04-03T11:41:27.098Z"
   },
   {
    "duration": 0,
    "start_time": "2022-04-03T11:41:27.100Z"
   },
   {
    "duration": 0,
    "start_time": "2022-04-03T11:41:27.101Z"
   },
   {
    "duration": 0,
    "start_time": "2022-04-03T11:41:27.103Z"
   },
   {
    "duration": 0,
    "start_time": "2022-04-03T11:41:27.104Z"
   },
   {
    "duration": 0,
    "start_time": "2022-04-03T11:41:27.105Z"
   },
   {
    "duration": 0,
    "start_time": "2022-04-03T11:41:27.107Z"
   },
   {
    "duration": 0,
    "start_time": "2022-04-03T11:41:27.108Z"
   },
   {
    "duration": 0,
    "start_time": "2022-04-03T11:41:27.110Z"
   },
   {
    "duration": 0,
    "start_time": "2022-04-03T11:41:27.173Z"
   },
   {
    "duration": 0,
    "start_time": "2022-04-03T11:41:27.175Z"
   },
   {
    "duration": 0,
    "start_time": "2022-04-03T11:41:27.177Z"
   },
   {
    "duration": 0,
    "start_time": "2022-04-03T11:41:27.179Z"
   },
   {
    "duration": 0,
    "start_time": "2022-04-03T11:41:27.181Z"
   },
   {
    "duration": 0,
    "start_time": "2022-04-03T11:41:27.183Z"
   },
   {
    "duration": 0,
    "start_time": "2022-04-03T11:41:27.185Z"
   },
   {
    "duration": 0,
    "start_time": "2022-04-03T11:41:27.187Z"
   },
   {
    "duration": 0,
    "start_time": "2022-04-03T11:41:27.188Z"
   },
   {
    "duration": 1,
    "start_time": "2022-04-03T11:41:27.189Z"
   },
   {
    "duration": 0,
    "start_time": "2022-04-03T11:41:27.192Z"
   },
   {
    "duration": 0,
    "start_time": "2022-04-03T11:41:27.193Z"
   },
   {
    "duration": 0,
    "start_time": "2022-04-03T11:41:27.195Z"
   },
   {
    "duration": 0,
    "start_time": "2022-04-03T11:41:27.197Z"
   },
   {
    "duration": 0,
    "start_time": "2022-04-03T11:41:27.199Z"
   },
   {
    "duration": 0,
    "start_time": "2022-04-03T11:41:27.201Z"
   },
   {
    "duration": 0,
    "start_time": "2022-04-03T11:41:27.203Z"
   },
   {
    "duration": 41,
    "start_time": "2022-04-03T11:41:54.515Z"
   },
   {
    "duration": 32,
    "start_time": "2022-04-03T11:45:21.342Z"
   },
   {
    "duration": 23,
    "start_time": "2022-04-03T11:46:06.742Z"
   },
   {
    "duration": 22,
    "start_time": "2022-04-03T11:46:10.582Z"
   },
   {
    "duration": 2160,
    "start_time": "2022-04-03T11:46:15.832Z"
   },
   {
    "duration": 0,
    "start_time": "2022-04-03T11:46:17.995Z"
   },
   {
    "duration": 249,
    "start_time": "2022-04-03T11:47:19.036Z"
   },
   {
    "duration": 35,
    "start_time": "2022-04-03T11:47:19.288Z"
   },
   {
    "duration": 50,
    "start_time": "2022-04-03T11:47:19.326Z"
   },
   {
    "duration": 46,
    "start_time": "2022-04-03T11:47:19.379Z"
   },
   {
    "duration": 49,
    "start_time": "2022-04-03T11:47:19.427Z"
   },
   {
    "duration": 26,
    "start_time": "2022-04-03T11:47:19.478Z"
   },
   {
    "duration": 68,
    "start_time": "2022-04-03T11:47:19.507Z"
   },
   {
    "duration": 176,
    "start_time": "2022-04-03T11:47:19.577Z"
   },
   {
    "duration": 54,
    "start_time": "2022-04-03T11:47:19.755Z"
   },
   {
    "duration": 34,
    "start_time": "2022-04-03T11:47:19.814Z"
   },
   {
    "duration": 37,
    "start_time": "2022-04-03T11:47:19.868Z"
   },
   {
    "duration": 24,
    "start_time": "2022-04-03T11:47:19.908Z"
   },
   {
    "duration": 53,
    "start_time": "2022-04-03T11:47:19.934Z"
   },
   {
    "duration": 2083,
    "start_time": "2022-04-03T11:47:19.990Z"
   },
   {
    "duration": 1,
    "start_time": "2022-04-03T11:47:22.077Z"
   },
   {
    "duration": 0,
    "start_time": "2022-04-03T11:47:22.080Z"
   },
   {
    "duration": 0,
    "start_time": "2022-04-03T11:47:22.082Z"
   },
   {
    "duration": 0,
    "start_time": "2022-04-03T11:47:22.084Z"
   },
   {
    "duration": 0,
    "start_time": "2022-04-03T11:47:22.085Z"
   },
   {
    "duration": 0,
    "start_time": "2022-04-03T11:47:22.088Z"
   },
   {
    "duration": 0,
    "start_time": "2022-04-03T11:47:22.090Z"
   },
   {
    "duration": 0,
    "start_time": "2022-04-03T11:47:22.092Z"
   },
   {
    "duration": 0,
    "start_time": "2022-04-03T11:47:22.094Z"
   },
   {
    "duration": 1,
    "start_time": "2022-04-03T11:47:22.096Z"
   },
   {
    "duration": 0,
    "start_time": "2022-04-03T11:47:22.098Z"
   },
   {
    "duration": 0,
    "start_time": "2022-04-03T11:47:22.101Z"
   },
   {
    "duration": 0,
    "start_time": "2022-04-03T11:47:22.103Z"
   },
   {
    "duration": 0,
    "start_time": "2022-04-03T11:47:22.106Z"
   },
   {
    "duration": 0,
    "start_time": "2022-04-03T11:47:22.108Z"
   },
   {
    "duration": 0,
    "start_time": "2022-04-03T11:47:22.110Z"
   },
   {
    "duration": 0,
    "start_time": "2022-04-03T11:47:22.112Z"
   },
   {
    "duration": 0,
    "start_time": "2022-04-03T11:47:22.114Z"
   },
   {
    "duration": 0,
    "start_time": "2022-04-03T11:47:22.116Z"
   },
   {
    "duration": 0,
    "start_time": "2022-04-03T11:47:22.168Z"
   },
   {
    "duration": 0,
    "start_time": "2022-04-03T11:47:22.171Z"
   },
   {
    "duration": 0,
    "start_time": "2022-04-03T11:47:22.172Z"
   },
   {
    "duration": 0,
    "start_time": "2022-04-03T11:47:22.175Z"
   },
   {
    "duration": 0,
    "start_time": "2022-04-03T11:47:22.177Z"
   },
   {
    "duration": 0,
    "start_time": "2022-04-03T11:47:22.179Z"
   },
   {
    "duration": 0,
    "start_time": "2022-04-03T11:47:22.181Z"
   },
   {
    "duration": 0,
    "start_time": "2022-04-03T11:47:22.183Z"
   },
   {
    "duration": 0,
    "start_time": "2022-04-03T11:47:22.185Z"
   },
   {
    "duration": 0,
    "start_time": "2022-04-03T11:47:22.187Z"
   },
   {
    "duration": 0,
    "start_time": "2022-04-03T11:47:22.189Z"
   },
   {
    "duration": 0,
    "start_time": "2022-04-03T11:47:22.190Z"
   },
   {
    "duration": 0,
    "start_time": "2022-04-03T11:47:22.192Z"
   },
   {
    "duration": 0,
    "start_time": "2022-04-03T11:47:22.194Z"
   },
   {
    "duration": 0,
    "start_time": "2022-04-03T11:47:22.196Z"
   },
   {
    "duration": 0,
    "start_time": "2022-04-03T11:47:22.198Z"
   },
   {
    "duration": 0,
    "start_time": "2022-04-03T11:47:22.200Z"
   },
   {
    "duration": 0,
    "start_time": "2022-04-03T11:47:22.202Z"
   },
   {
    "duration": 0,
    "start_time": "2022-04-03T11:47:22.204Z"
   },
   {
    "duration": 46,
    "start_time": "2022-04-03T11:47:57.700Z"
   },
   {
    "duration": 125,
    "start_time": "2022-04-03T11:50:22.762Z"
   },
   {
    "duration": 27,
    "start_time": "2022-04-03T11:50:28.283Z"
   },
   {
    "duration": 234,
    "start_time": "2022-04-03T11:50:32.320Z"
   },
   {
    "duration": 45,
    "start_time": "2022-04-03T11:50:32.558Z"
   },
   {
    "duration": 25,
    "start_time": "2022-04-03T11:50:32.605Z"
   },
   {
    "duration": 79,
    "start_time": "2022-04-03T11:50:32.633Z"
   },
   {
    "duration": 25,
    "start_time": "2022-04-03T11:50:32.714Z"
   },
   {
    "duration": 53,
    "start_time": "2022-04-03T11:50:32.741Z"
   },
   {
    "duration": 38,
    "start_time": "2022-04-03T11:50:32.796Z"
   },
   {
    "duration": 186,
    "start_time": "2022-04-03T11:50:32.836Z"
   },
   {
    "duration": 28,
    "start_time": "2022-04-03T11:50:33.024Z"
   },
   {
    "duration": 38,
    "start_time": "2022-04-03T11:50:33.056Z"
   },
   {
    "duration": 36,
    "start_time": "2022-04-03T11:50:33.096Z"
   },
   {
    "duration": 53,
    "start_time": "2022-04-03T11:50:33.134Z"
   },
   {
    "duration": 26,
    "start_time": "2022-04-03T11:50:33.190Z"
   },
   {
    "duration": 68,
    "start_time": "2022-04-03T11:50:33.219Z"
   },
   {
    "duration": 131,
    "start_time": "2022-04-03T11:50:33.289Z"
   },
   {
    "duration": 26,
    "start_time": "2022-04-03T11:50:33.423Z"
   },
   {
    "duration": 38,
    "start_time": "2022-04-03T11:50:33.451Z"
   },
   {
    "duration": 30,
    "start_time": "2022-04-03T11:50:33.492Z"
   },
   {
    "duration": 56,
    "start_time": "2022-04-03T11:50:33.524Z"
   },
   {
    "duration": 19,
    "start_time": "2022-04-03T11:50:33.583Z"
   },
   {
    "duration": 13,
    "start_time": "2022-04-03T11:50:33.605Z"
   },
   {
    "duration": 8,
    "start_time": "2022-04-03T11:50:33.621Z"
   },
   {
    "duration": 37,
    "start_time": "2022-04-03T11:50:33.669Z"
   },
   {
    "duration": 17,
    "start_time": "2022-04-03T11:50:33.709Z"
   },
   {
    "duration": 8,
    "start_time": "2022-04-03T11:50:33.728Z"
   },
   {
    "duration": 36,
    "start_time": "2022-04-03T11:50:33.739Z"
   },
   {
    "duration": 21,
    "start_time": "2022-04-03T11:50:33.778Z"
   },
   {
    "duration": 537,
    "start_time": "2022-04-03T11:50:33.807Z"
   },
   {
    "duration": 0,
    "start_time": "2022-04-03T11:50:34.346Z"
   },
   {
    "duration": 0,
    "start_time": "2022-04-03T11:50:34.348Z"
   },
   {
    "duration": 0,
    "start_time": "2022-04-03T11:50:34.349Z"
   },
   {
    "duration": 0,
    "start_time": "2022-04-03T11:50:34.350Z"
   },
   {
    "duration": 0,
    "start_time": "2022-04-03T11:50:34.352Z"
   },
   {
    "duration": 0,
    "start_time": "2022-04-03T11:50:34.354Z"
   },
   {
    "duration": 0,
    "start_time": "2022-04-03T11:50:34.356Z"
   },
   {
    "duration": 0,
    "start_time": "2022-04-03T11:50:34.357Z"
   },
   {
    "duration": 0,
    "start_time": "2022-04-03T11:50:34.359Z"
   },
   {
    "duration": 0,
    "start_time": "2022-04-03T11:50:34.360Z"
   },
   {
    "duration": 0,
    "start_time": "2022-04-03T11:50:34.361Z"
   },
   {
    "duration": 1,
    "start_time": "2022-04-03T11:50:34.362Z"
   },
   {
    "duration": 0,
    "start_time": "2022-04-03T11:50:34.364Z"
   },
   {
    "duration": 0,
    "start_time": "2022-04-03T11:50:34.366Z"
   },
   {
    "duration": 0,
    "start_time": "2022-04-03T11:50:34.370Z"
   },
   {
    "duration": 0,
    "start_time": "2022-04-03T11:50:34.373Z"
   },
   {
    "duration": 0,
    "start_time": "2022-04-03T11:50:34.375Z"
   },
   {
    "duration": 0,
    "start_time": "2022-04-03T11:50:34.378Z"
   },
   {
    "duration": 0,
    "start_time": "2022-04-03T11:50:34.380Z"
   },
   {
    "duration": 0,
    "start_time": "2022-04-03T11:50:34.382Z"
   },
   {
    "duration": 0,
    "start_time": "2022-04-03T11:50:34.385Z"
   },
   {
    "duration": 0,
    "start_time": "2022-04-03T11:50:34.387Z"
   },
   {
    "duration": 0,
    "start_time": "2022-04-03T11:50:34.388Z"
   },
   {
    "duration": 0,
    "start_time": "2022-04-03T11:50:34.390Z"
   },
   {
    "duration": 60,
    "start_time": "2022-04-03T11:51:47.661Z"
   },
   {
    "duration": 27,
    "start_time": "2022-04-03T11:52:07.096Z"
   },
   {
    "duration": 18,
    "start_time": "2022-04-03T11:52:26.208Z"
   },
   {
    "duration": 31,
    "start_time": "2022-04-03T11:52:30.883Z"
   },
   {
    "duration": 5,
    "start_time": "2022-04-03T11:56:16.777Z"
   },
   {
    "duration": 215,
    "start_time": "2022-04-03T11:56:29.062Z"
   },
   {
    "duration": 30,
    "start_time": "2022-04-03T11:56:29.280Z"
   },
   {
    "duration": 53,
    "start_time": "2022-04-03T11:56:29.312Z"
   },
   {
    "duration": 43,
    "start_time": "2022-04-03T11:56:29.368Z"
   },
   {
    "duration": 30,
    "start_time": "2022-04-03T11:56:29.413Z"
   },
   {
    "duration": 42,
    "start_time": "2022-04-03T11:56:29.445Z"
   },
   {
    "duration": 39,
    "start_time": "2022-04-03T11:56:29.489Z"
   },
   {
    "duration": 176,
    "start_time": "2022-04-03T11:56:29.530Z"
   },
   {
    "duration": 29,
    "start_time": "2022-04-03T11:56:29.708Z"
   },
   {
    "duration": 36,
    "start_time": "2022-04-03T11:56:29.740Z"
   },
   {
    "duration": 46,
    "start_time": "2022-04-03T11:56:29.778Z"
   },
   {
    "duration": 22,
    "start_time": "2022-04-03T11:56:29.826Z"
   },
   {
    "duration": 36,
    "start_time": "2022-04-03T11:56:29.850Z"
   },
   {
    "duration": 32,
    "start_time": "2022-04-03T11:56:29.888Z"
   },
   {
    "duration": 126,
    "start_time": "2022-04-03T11:56:29.922Z"
   },
   {
    "duration": 34,
    "start_time": "2022-04-03T11:56:30.051Z"
   },
   {
    "duration": 18,
    "start_time": "2022-04-03T11:56:30.088Z"
   },
   {
    "duration": 60,
    "start_time": "2022-04-03T11:56:30.108Z"
   },
   {
    "duration": 29,
    "start_time": "2022-04-03T11:56:30.170Z"
   },
   {
    "duration": 76,
    "start_time": "2022-04-03T11:56:30.202Z"
   },
   {
    "duration": 20,
    "start_time": "2022-04-03T11:56:30.281Z"
   },
   {
    "duration": 16,
    "start_time": "2022-04-03T11:56:30.303Z"
   },
   {
    "duration": 21,
    "start_time": "2022-04-03T11:56:30.321Z"
   },
   {
    "duration": 39,
    "start_time": "2022-04-03T11:56:30.344Z"
   },
   {
    "duration": 29,
    "start_time": "2022-04-03T11:56:30.385Z"
   },
   {
    "duration": 26,
    "start_time": "2022-04-03T11:56:30.416Z"
   },
   {
    "duration": 18,
    "start_time": "2022-04-03T11:56:30.445Z"
   },
   {
    "duration": 25,
    "start_time": "2022-04-03T11:56:30.468Z"
   },
   {
    "duration": 35,
    "start_time": "2022-04-03T11:56:30.496Z"
   },
   {
    "duration": 81,
    "start_time": "2022-04-03T11:56:30.534Z"
   },
   {
    "duration": 110,
    "start_time": "2022-04-03T11:56:30.617Z"
   },
   {
    "duration": 95,
    "start_time": "2022-04-03T11:56:30.729Z"
   },
   {
    "duration": 16,
    "start_time": "2022-04-03T11:56:30.826Z"
   },
   {
    "duration": 77,
    "start_time": "2022-04-03T11:56:30.844Z"
   },
   {
    "duration": 16,
    "start_time": "2022-04-03T11:56:30.923Z"
   },
   {
    "duration": 645,
    "start_time": "2022-04-03T11:56:30.941Z"
   },
   {
    "duration": 0,
    "start_time": "2022-04-03T11:56:31.588Z"
   },
   {
    "duration": 0,
    "start_time": "2022-04-03T11:56:31.590Z"
   },
   {
    "duration": 0,
    "start_time": "2022-04-03T11:56:31.592Z"
   },
   {
    "duration": 0,
    "start_time": "2022-04-03T11:56:31.593Z"
   },
   {
    "duration": 0,
    "start_time": "2022-04-03T11:56:31.595Z"
   },
   {
    "duration": 0,
    "start_time": "2022-04-03T11:56:31.596Z"
   },
   {
    "duration": 0,
    "start_time": "2022-04-03T11:56:31.598Z"
   },
   {
    "duration": 0,
    "start_time": "2022-04-03T11:56:31.599Z"
   },
   {
    "duration": 0,
    "start_time": "2022-04-03T11:56:31.601Z"
   },
   {
    "duration": 0,
    "start_time": "2022-04-03T11:56:31.602Z"
   },
   {
    "duration": 0,
    "start_time": "2022-04-03T11:56:31.604Z"
   },
   {
    "duration": 0,
    "start_time": "2022-04-03T11:56:31.605Z"
   },
   {
    "duration": 0,
    "start_time": "2022-04-03T11:56:31.607Z"
   },
   {
    "duration": 0,
    "start_time": "2022-04-03T11:56:31.611Z"
   },
   {
    "duration": 0,
    "start_time": "2022-04-03T11:56:31.612Z"
   },
   {
    "duration": 0,
    "start_time": "2022-04-03T11:56:31.614Z"
   },
   {
    "duration": 0,
    "start_time": "2022-04-03T11:56:31.616Z"
   },
   {
    "duration": 52,
    "start_time": "2022-04-03T11:58:37.405Z"
   },
   {
    "duration": 46,
    "start_time": "2022-04-03T11:59:53.639Z"
   },
   {
    "duration": 29,
    "start_time": "2022-04-03T12:00:29.347Z"
   },
   {
    "duration": 209,
    "start_time": "2022-04-03T12:00:40.334Z"
   },
   {
    "duration": 40,
    "start_time": "2022-04-03T12:00:40.546Z"
   },
   {
    "duration": 25,
    "start_time": "2022-04-03T12:00:40.588Z"
   },
   {
    "duration": 66,
    "start_time": "2022-04-03T12:00:40.617Z"
   },
   {
    "duration": 25,
    "start_time": "2022-04-03T12:00:40.685Z"
   },
   {
    "duration": 25,
    "start_time": "2022-04-03T12:00:40.712Z"
   },
   {
    "duration": 66,
    "start_time": "2022-04-03T12:00:40.740Z"
   },
   {
    "duration": 171,
    "start_time": "2022-04-03T12:00:40.808Z"
   },
   {
    "duration": 29,
    "start_time": "2022-04-03T12:00:40.982Z"
   },
   {
    "duration": 20,
    "start_time": "2022-04-03T12:00:41.016Z"
   },
   {
    "duration": 58,
    "start_time": "2022-04-03T12:00:41.038Z"
   },
   {
    "duration": 23,
    "start_time": "2022-04-03T12:00:41.099Z"
   },
   {
    "duration": 52,
    "start_time": "2022-04-03T12:00:41.124Z"
   },
   {
    "duration": 33,
    "start_time": "2022-04-03T12:00:41.178Z"
   },
   {
    "duration": 112,
    "start_time": "2022-04-03T12:00:41.213Z"
   },
   {
    "duration": 41,
    "start_time": "2022-04-03T12:00:41.327Z"
   },
   {
    "duration": 17,
    "start_time": "2022-04-03T12:00:41.370Z"
   },
   {
    "duration": 28,
    "start_time": "2022-04-03T12:00:41.389Z"
   },
   {
    "duration": 50,
    "start_time": "2022-04-03T12:00:41.419Z"
   },
   {
    "duration": 53,
    "start_time": "2022-04-03T12:00:41.471Z"
   },
   {
    "duration": 19,
    "start_time": "2022-04-03T12:00:41.526Z"
   },
   {
    "duration": 31,
    "start_time": "2022-04-03T12:00:41.547Z"
   },
   {
    "duration": 8,
    "start_time": "2022-04-03T12:00:41.580Z"
   },
   {
    "duration": 31,
    "start_time": "2022-04-03T12:00:41.590Z"
   },
   {
    "duration": 14,
    "start_time": "2022-04-03T12:00:41.623Z"
   },
   {
    "duration": 33,
    "start_time": "2022-04-03T12:00:41.639Z"
   },
   {
    "duration": 9,
    "start_time": "2022-04-03T12:00:41.674Z"
   },
   {
    "duration": 15,
    "start_time": "2022-04-03T12:00:41.688Z"
   },
   {
    "duration": 9,
    "start_time": "2022-04-03T12:00:41.705Z"
   },
   {
    "duration": 89,
    "start_time": "2022-04-03T12:00:41.716Z"
   },
   {
    "duration": 48,
    "start_time": "2022-04-03T12:00:41.807Z"
   },
   {
    "duration": 15,
    "start_time": "2022-04-03T12:00:41.867Z"
   },
   {
    "duration": 31,
    "start_time": "2022-04-03T12:00:41.885Z"
   },
   {
    "duration": 15,
    "start_time": "2022-04-03T12:00:41.919Z"
   },
   {
    "duration": 527,
    "start_time": "2022-04-03T12:00:41.935Z"
   },
   {
    "duration": 0,
    "start_time": "2022-04-03T12:00:42.465Z"
   },
   {
    "duration": 0,
    "start_time": "2022-04-03T12:00:42.466Z"
   },
   {
    "duration": 0,
    "start_time": "2022-04-03T12:00:42.468Z"
   },
   {
    "duration": 0,
    "start_time": "2022-04-03T12:00:42.470Z"
   },
   {
    "duration": 0,
    "start_time": "2022-04-03T12:00:42.471Z"
   },
   {
    "duration": 0,
    "start_time": "2022-04-03T12:00:42.473Z"
   },
   {
    "duration": 0,
    "start_time": "2022-04-03T12:00:42.474Z"
   },
   {
    "duration": 0,
    "start_time": "2022-04-03T12:00:42.475Z"
   },
   {
    "duration": 0,
    "start_time": "2022-04-03T12:00:42.477Z"
   },
   {
    "duration": 0,
    "start_time": "2022-04-03T12:00:42.479Z"
   },
   {
    "duration": 0,
    "start_time": "2022-04-03T12:00:42.480Z"
   },
   {
    "duration": 0,
    "start_time": "2022-04-03T12:00:42.482Z"
   },
   {
    "duration": 0,
    "start_time": "2022-04-03T12:00:42.483Z"
   },
   {
    "duration": 0,
    "start_time": "2022-04-03T12:00:42.485Z"
   },
   {
    "duration": 0,
    "start_time": "2022-04-03T12:00:42.486Z"
   },
   {
    "duration": 0,
    "start_time": "2022-04-03T12:00:42.488Z"
   },
   {
    "duration": 0,
    "start_time": "2022-04-03T12:00:42.490Z"
   },
   {
    "duration": 4,
    "start_time": "2022-04-03T12:01:15.981Z"
   },
   {
    "duration": 50,
    "start_time": "2022-04-03T12:01:38.264Z"
   },
   {
    "duration": 217,
    "start_time": "2022-04-03T12:02:05.442Z"
   },
   {
    "duration": 32,
    "start_time": "2022-04-03T12:02:05.668Z"
   },
   {
    "duration": 24,
    "start_time": "2022-04-03T12:02:05.702Z"
   },
   {
    "duration": 68,
    "start_time": "2022-04-03T12:02:05.729Z"
   },
   {
    "duration": 24,
    "start_time": "2022-04-03T12:02:05.799Z"
   },
   {
    "duration": 49,
    "start_time": "2022-04-03T12:02:05.825Z"
   },
   {
    "duration": 40,
    "start_time": "2022-04-03T12:02:05.876Z"
   },
   {
    "duration": 167,
    "start_time": "2022-04-03T12:02:05.918Z"
   },
   {
    "duration": 28,
    "start_time": "2022-04-03T12:02:06.088Z"
   },
   {
    "duration": 20,
    "start_time": "2022-04-03T12:02:06.120Z"
   },
   {
    "duration": 33,
    "start_time": "2022-04-03T12:02:06.168Z"
   },
   {
    "duration": 21,
    "start_time": "2022-04-03T12:02:06.204Z"
   },
   {
    "duration": 46,
    "start_time": "2022-04-03T12:02:06.227Z"
   },
   {
    "duration": 31,
    "start_time": "2022-04-03T12:02:06.275Z"
   },
   {
    "duration": 113,
    "start_time": "2022-04-03T12:02:06.308Z"
   },
   {
    "duration": 45,
    "start_time": "2022-04-03T12:02:06.424Z"
   },
   {
    "duration": 19,
    "start_time": "2022-04-03T12:02:06.471Z"
   },
   {
    "duration": 28,
    "start_time": "2022-04-03T12:02:06.492Z"
   },
   {
    "duration": 54,
    "start_time": "2022-04-03T12:02:06.523Z"
   },
   {
    "duration": 53,
    "start_time": "2022-04-03T12:02:06.579Z"
   },
   {
    "duration": 35,
    "start_time": "2022-04-03T12:02:06.634Z"
   },
   {
    "duration": 15,
    "start_time": "2022-04-03T12:02:06.671Z"
   },
   {
    "duration": 7,
    "start_time": "2022-04-03T12:02:06.688Z"
   },
   {
    "duration": 30,
    "start_time": "2022-04-03T12:02:06.697Z"
   },
   {
    "duration": 41,
    "start_time": "2022-04-03T12:02:06.729Z"
   },
   {
    "duration": 8,
    "start_time": "2022-04-03T12:02:06.772Z"
   },
   {
    "duration": 13,
    "start_time": "2022-04-03T12:02:06.782Z"
   },
   {
    "duration": 15,
    "start_time": "2022-04-03T12:02:06.800Z"
   },
   {
    "duration": 6,
    "start_time": "2022-04-03T12:02:06.817Z"
   },
   {
    "duration": 85,
    "start_time": "2022-04-03T12:02:06.825Z"
   },
   {
    "duration": 58,
    "start_time": "2022-04-03T12:02:06.912Z"
   },
   {
    "duration": 15,
    "start_time": "2022-04-03T12:02:06.972Z"
   },
   {
    "duration": 29,
    "start_time": "2022-04-03T12:02:06.989Z"
   },
   {
    "duration": 14,
    "start_time": "2022-04-03T12:02:07.020Z"
   },
   {
    "duration": 4,
    "start_time": "2022-04-03T12:02:07.068Z"
   },
   {
    "duration": 51,
    "start_time": "2022-04-03T12:02:07.074Z"
   },
   {
    "duration": 49,
    "start_time": "2022-04-03T12:02:07.127Z"
   },
   {
    "duration": 19,
    "start_time": "2022-04-03T12:02:07.178Z"
   },
   {
    "duration": 0,
    "start_time": "2022-04-03T12:02:07.200Z"
   },
   {
    "duration": 0,
    "start_time": "2022-04-03T12:02:07.202Z"
   },
   {
    "duration": 0,
    "start_time": "2022-04-03T12:02:07.204Z"
   },
   {
    "duration": 0,
    "start_time": "2022-04-03T12:02:07.206Z"
   },
   {
    "duration": 0,
    "start_time": "2022-04-03T12:02:07.208Z"
   },
   {
    "duration": 0,
    "start_time": "2022-04-03T12:02:07.210Z"
   },
   {
    "duration": 0,
    "start_time": "2022-04-03T12:02:07.212Z"
   },
   {
    "duration": 0,
    "start_time": "2022-04-03T12:02:07.214Z"
   },
   {
    "duration": 0,
    "start_time": "2022-04-03T12:02:07.217Z"
   },
   {
    "duration": 0,
    "start_time": "2022-04-03T12:02:07.218Z"
   },
   {
    "duration": 0,
    "start_time": "2022-04-03T12:02:07.221Z"
   },
   {
    "duration": 0,
    "start_time": "2022-04-03T12:02:07.222Z"
   },
   {
    "duration": 0,
    "start_time": "2022-04-03T12:02:07.268Z"
   },
   {
    "duration": 0,
    "start_time": "2022-04-03T12:02:07.270Z"
   },
   {
    "duration": 1932,
    "start_time": "2022-04-03T12:04:25.309Z"
   },
   {
    "duration": 2011,
    "start_time": "2022-04-03T12:04:31.540Z"
   },
   {
    "duration": 208,
    "start_time": "2022-04-03T12:04:40.491Z"
   },
   {
    "duration": 33,
    "start_time": "2022-04-03T12:04:40.702Z"
   },
   {
    "duration": 41,
    "start_time": "2022-04-03T12:04:40.737Z"
   },
   {
    "duration": 48,
    "start_time": "2022-04-03T12:04:40.781Z"
   },
   {
    "duration": 51,
    "start_time": "2022-04-03T12:04:40.831Z"
   },
   {
    "duration": 28,
    "start_time": "2022-04-03T12:04:40.885Z"
   },
   {
    "duration": 68,
    "start_time": "2022-04-03T12:04:40.915Z"
   },
   {
    "duration": 171,
    "start_time": "2022-04-03T12:04:40.986Z"
   },
   {
    "duration": 33,
    "start_time": "2022-04-03T12:04:41.159Z"
   },
   {
    "duration": 27,
    "start_time": "2022-04-03T12:04:41.196Z"
   },
   {
    "duration": 61,
    "start_time": "2022-04-03T12:04:41.225Z"
   },
   {
    "duration": 22,
    "start_time": "2022-04-03T12:04:41.288Z"
   },
   {
    "duration": 23,
    "start_time": "2022-04-03T12:04:41.312Z"
   },
   {
    "duration": 56,
    "start_time": "2022-04-03T12:04:41.337Z"
   },
   {
    "duration": 115,
    "start_time": "2022-04-03T12:04:41.395Z"
   },
   {
    "duration": 24,
    "start_time": "2022-04-03T12:04:41.512Z"
   },
   {
    "duration": 33,
    "start_time": "2022-04-03T12:04:41.538Z"
   },
   {
    "duration": 26,
    "start_time": "2022-04-03T12:04:41.574Z"
   },
   {
    "duration": 25,
    "start_time": "2022-04-03T12:04:41.602Z"
   },
   {
    "duration": 79,
    "start_time": "2022-04-03T12:04:41.629Z"
   },
   {
    "duration": 19,
    "start_time": "2022-04-03T12:04:41.710Z"
   },
   {
    "duration": 14,
    "start_time": "2022-04-03T12:04:41.731Z"
   },
   {
    "duration": 6,
    "start_time": "2022-04-03T12:04:41.767Z"
   },
   {
    "duration": 39,
    "start_time": "2022-04-03T12:04:41.775Z"
   },
   {
    "duration": 15,
    "start_time": "2022-04-03T12:04:41.816Z"
   },
   {
    "duration": 9,
    "start_time": "2022-04-03T12:04:41.833Z"
   },
   {
    "duration": 7,
    "start_time": "2022-04-03T12:04:41.868Z"
   },
   {
    "duration": 18,
    "start_time": "2022-04-03T12:04:41.880Z"
   },
   {
    "duration": 6,
    "start_time": "2022-04-03T12:04:41.901Z"
   },
   {
    "duration": 79,
    "start_time": "2022-04-03T12:04:41.909Z"
   },
   {
    "duration": 47,
    "start_time": "2022-04-03T12:04:41.990Z"
   },
   {
    "duration": 34,
    "start_time": "2022-04-03T12:04:42.039Z"
   },
   {
    "duration": 30,
    "start_time": "2022-04-03T12:04:42.076Z"
   },
   {
    "duration": 15,
    "start_time": "2022-04-03T12:04:42.108Z"
   },
   {
    "duration": 7,
    "start_time": "2022-04-03T12:04:42.125Z"
   },
   {
    "duration": 51,
    "start_time": "2022-04-03T12:04:42.167Z"
   },
   {
    "duration": 20,
    "start_time": "2022-04-03T12:04:42.220Z"
   },
   {
    "duration": 38,
    "start_time": "2022-04-03T12:04:42.243Z"
   },
   {
    "duration": 0,
    "start_time": "2022-04-03T12:04:42.283Z"
   },
   {
    "duration": 0,
    "start_time": "2022-04-03T12:04:42.285Z"
   },
   {
    "duration": 0,
    "start_time": "2022-04-03T12:04:42.287Z"
   },
   {
    "duration": 0,
    "start_time": "2022-04-03T12:04:42.288Z"
   },
   {
    "duration": 0,
    "start_time": "2022-04-03T12:04:42.290Z"
   },
   {
    "duration": 0,
    "start_time": "2022-04-03T12:04:42.291Z"
   },
   {
    "duration": 0,
    "start_time": "2022-04-03T12:04:42.293Z"
   },
   {
    "duration": 0,
    "start_time": "2022-04-03T12:04:42.294Z"
   },
   {
    "duration": 0,
    "start_time": "2022-04-03T12:04:42.296Z"
   },
   {
    "duration": 0,
    "start_time": "2022-04-03T12:04:42.297Z"
   },
   {
    "duration": 0,
    "start_time": "2022-04-03T12:04:42.298Z"
   },
   {
    "duration": 0,
    "start_time": "2022-04-03T12:04:42.300Z"
   },
   {
    "duration": 0,
    "start_time": "2022-04-03T12:04:42.301Z"
   },
   {
    "duration": 0,
    "start_time": "2022-04-03T12:04:42.303Z"
   },
   {
    "duration": 2250,
    "start_time": "2022-04-03T12:05:47.599Z"
   },
   {
    "duration": 225,
    "start_time": "2022-04-03T12:06:11.509Z"
   },
   {
    "duration": 45,
    "start_time": "2022-04-03T12:06:11.738Z"
   },
   {
    "duration": 26,
    "start_time": "2022-04-03T12:06:11.786Z"
   },
   {
    "duration": 68,
    "start_time": "2022-04-03T12:06:11.815Z"
   },
   {
    "duration": 23,
    "start_time": "2022-04-03T12:06:11.885Z"
   },
   {
    "duration": 25,
    "start_time": "2022-04-03T12:06:11.910Z"
   },
   {
    "duration": 59,
    "start_time": "2022-04-03T12:06:11.937Z"
   },
   {
    "duration": 183,
    "start_time": "2022-04-03T12:06:11.998Z"
   },
   {
    "duration": 29,
    "start_time": "2022-04-03T12:06:12.183Z"
   },
   {
    "duration": 20,
    "start_time": "2022-04-03T12:06:12.216Z"
   },
   {
    "duration": 57,
    "start_time": "2022-04-03T12:06:12.238Z"
   },
   {
    "duration": 22,
    "start_time": "2022-04-03T12:06:12.297Z"
   },
   {
    "duration": 47,
    "start_time": "2022-04-03T12:06:12.322Z"
   },
   {
    "duration": 33,
    "start_time": "2022-04-03T12:06:12.372Z"
   },
   {
    "duration": 118,
    "start_time": "2022-04-03T12:06:12.407Z"
   },
   {
    "duration": 24,
    "start_time": "2022-04-03T12:06:12.527Z"
   },
   {
    "duration": 17,
    "start_time": "2022-04-03T12:06:12.567Z"
   },
   {
    "duration": 30,
    "start_time": "2022-04-03T12:06:12.586Z"
   },
   {
    "duration": 20,
    "start_time": "2022-04-03T12:06:12.618Z"
   },
   {
    "duration": 30,
    "start_time": "2022-04-03T12:06:12.667Z"
   },
   {
    "duration": 19,
    "start_time": "2022-04-03T12:06:12.699Z"
   },
   {
    "duration": 14,
    "start_time": "2022-04-03T12:06:12.720Z"
   },
   {
    "duration": 33,
    "start_time": "2022-04-03T12:06:12.736Z"
   },
   {
    "duration": 32,
    "start_time": "2022-04-03T12:06:12.771Z"
   },
   {
    "duration": 15,
    "start_time": "2022-04-03T12:06:12.805Z"
   },
   {
    "duration": 11,
    "start_time": "2022-04-03T12:06:12.823Z"
   },
   {
    "duration": 32,
    "start_time": "2022-04-03T12:06:12.836Z"
   },
   {
    "duration": 17,
    "start_time": "2022-04-03T12:06:12.874Z"
   },
   {
    "duration": 4,
    "start_time": "2022-04-03T12:06:12.894Z"
   },
   {
    "duration": 87,
    "start_time": "2022-04-03T12:06:12.901Z"
   },
   {
    "duration": 46,
    "start_time": "2022-04-03T12:06:12.991Z"
   },
   {
    "duration": 34,
    "start_time": "2022-04-03T12:06:13.039Z"
   },
   {
    "duration": 30,
    "start_time": "2022-04-03T12:06:13.076Z"
   },
   {
    "duration": 15,
    "start_time": "2022-04-03T12:06:13.108Z"
   },
   {
    "duration": 619,
    "start_time": "2022-04-03T12:06:13.125Z"
   },
   {
    "duration": 0,
    "start_time": "2022-04-03T12:06:13.747Z"
   },
   {
    "duration": 0,
    "start_time": "2022-04-03T12:06:13.749Z"
   },
   {
    "duration": 0,
    "start_time": "2022-04-03T12:06:13.750Z"
   },
   {
    "duration": 0,
    "start_time": "2022-04-03T12:06:13.752Z"
   },
   {
    "duration": 0,
    "start_time": "2022-04-03T12:06:13.753Z"
   },
   {
    "duration": 0,
    "start_time": "2022-04-03T12:06:13.754Z"
   },
   {
    "duration": 0,
    "start_time": "2022-04-03T12:06:13.756Z"
   },
   {
    "duration": 0,
    "start_time": "2022-04-03T12:06:13.758Z"
   },
   {
    "duration": 0,
    "start_time": "2022-04-03T12:06:13.759Z"
   },
   {
    "duration": 0,
    "start_time": "2022-04-03T12:06:13.761Z"
   },
   {
    "duration": 0,
    "start_time": "2022-04-03T12:06:13.762Z"
   },
   {
    "duration": 0,
    "start_time": "2022-04-03T12:06:13.764Z"
   },
   {
    "duration": 0,
    "start_time": "2022-04-03T12:06:13.765Z"
   },
   {
    "duration": 0,
    "start_time": "2022-04-03T12:06:13.767Z"
   },
   {
    "duration": 0,
    "start_time": "2022-04-03T12:06:13.768Z"
   },
   {
    "duration": 0,
    "start_time": "2022-04-03T12:06:13.769Z"
   },
   {
    "duration": 0,
    "start_time": "2022-04-03T12:06:13.771Z"
   },
   {
    "duration": 36,
    "start_time": "2022-04-03T12:06:47.380Z"
   },
   {
    "duration": 224,
    "start_time": "2022-04-03T12:07:12.519Z"
   },
   {
    "duration": 40,
    "start_time": "2022-04-03T12:07:12.746Z"
   },
   {
    "duration": 24,
    "start_time": "2022-04-03T12:07:12.788Z"
   },
   {
    "duration": 64,
    "start_time": "2022-04-03T12:07:12.815Z"
   },
   {
    "duration": 25,
    "start_time": "2022-04-03T12:07:12.882Z"
   },
   {
    "duration": 27,
    "start_time": "2022-04-03T12:07:12.910Z"
   },
   {
    "duration": 66,
    "start_time": "2022-04-03T12:07:12.939Z"
   },
   {
    "duration": 176,
    "start_time": "2022-04-03T12:07:13.008Z"
   },
   {
    "duration": 28,
    "start_time": "2022-04-03T12:07:13.187Z"
   },
   {
    "duration": 23,
    "start_time": "2022-04-03T12:07:13.219Z"
   },
   {
    "duration": 34,
    "start_time": "2022-04-03T12:07:13.267Z"
   },
   {
    "duration": 23,
    "start_time": "2022-04-03T12:07:13.303Z"
   },
   {
    "duration": 52,
    "start_time": "2022-04-03T12:07:13.328Z"
   },
   {
    "duration": 33,
    "start_time": "2022-04-03T12:07:13.382Z"
   },
   {
    "duration": 123,
    "start_time": "2022-04-03T12:07:13.417Z"
   },
   {
    "duration": 30,
    "start_time": "2022-04-03T12:07:13.542Z"
   },
   {
    "duration": 18,
    "start_time": "2022-04-03T12:07:13.574Z"
   },
   {
    "duration": 30,
    "start_time": "2022-04-03T12:07:13.595Z"
   },
   {
    "duration": 53,
    "start_time": "2022-04-03T12:07:13.627Z"
   },
   {
    "duration": 28,
    "start_time": "2022-04-03T12:07:13.682Z"
   },
   {
    "duration": 18,
    "start_time": "2022-04-03T12:07:13.713Z"
   },
   {
    "duration": 38,
    "start_time": "2022-04-03T12:07:13.733Z"
   },
   {
    "duration": 10,
    "start_time": "2022-04-03T12:07:13.773Z"
   },
   {
    "duration": 31,
    "start_time": "2022-04-03T12:07:13.786Z"
   },
   {
    "duration": 15,
    "start_time": "2022-04-03T12:07:13.819Z"
   },
   {
    "duration": 32,
    "start_time": "2022-04-03T12:07:13.836Z"
   },
   {
    "duration": 7,
    "start_time": "2022-04-03T12:07:13.870Z"
   },
   {
    "duration": 24,
    "start_time": "2022-04-03T12:07:13.883Z"
   },
   {
    "duration": 5,
    "start_time": "2022-04-03T12:07:13.909Z"
   },
   {
    "duration": 75,
    "start_time": "2022-04-03T12:07:13.916Z"
   },
   {
    "duration": 46,
    "start_time": "2022-04-03T12:07:13.993Z"
   },
   {
    "duration": 35,
    "start_time": "2022-04-03T12:07:14.041Z"
   },
   {
    "duration": 29,
    "start_time": "2022-04-03T12:07:14.078Z"
   },
   {
    "duration": 15,
    "start_time": "2022-04-03T12:07:14.109Z"
   },
   {
    "duration": 5,
    "start_time": "2022-04-03T12:07:14.126Z"
   },
   {
    "duration": 39,
    "start_time": "2022-04-03T12:07:14.167Z"
   },
   {
    "duration": 20,
    "start_time": "2022-04-03T12:07:14.208Z"
   },
   {
    "duration": 41,
    "start_time": "2022-04-03T12:07:14.229Z"
   },
   {
    "duration": 0,
    "start_time": "2022-04-03T12:07:14.272Z"
   },
   {
    "duration": 0,
    "start_time": "2022-04-03T12:07:14.274Z"
   },
   {
    "duration": 0,
    "start_time": "2022-04-03T12:07:14.277Z"
   },
   {
    "duration": 0,
    "start_time": "2022-04-03T12:07:14.279Z"
   },
   {
    "duration": 0,
    "start_time": "2022-04-03T12:07:14.281Z"
   },
   {
    "duration": 0,
    "start_time": "2022-04-03T12:07:14.283Z"
   },
   {
    "duration": 0,
    "start_time": "2022-04-03T12:07:14.285Z"
   },
   {
    "duration": 0,
    "start_time": "2022-04-03T12:07:14.288Z"
   },
   {
    "duration": 0,
    "start_time": "2022-04-03T12:07:14.290Z"
   },
   {
    "duration": 0,
    "start_time": "2022-04-03T12:07:14.291Z"
   },
   {
    "duration": 0,
    "start_time": "2022-04-03T12:07:14.293Z"
   },
   {
    "duration": 0,
    "start_time": "2022-04-03T12:07:14.295Z"
   },
   {
    "duration": 0,
    "start_time": "2022-04-03T12:07:14.296Z"
   },
   {
    "duration": 0,
    "start_time": "2022-04-03T12:07:14.297Z"
   },
   {
    "duration": 32,
    "start_time": "2022-04-03T12:09:05.377Z"
   },
   {
    "duration": 222,
    "start_time": "2022-04-03T12:09:27.014Z"
   },
   {
    "duration": 44,
    "start_time": "2022-04-03T12:09:27.240Z"
   },
   {
    "duration": 24,
    "start_time": "2022-04-03T12:09:27.286Z"
   },
   {
    "duration": 76,
    "start_time": "2022-04-03T12:09:27.313Z"
   },
   {
    "duration": 24,
    "start_time": "2022-04-03T12:09:27.391Z"
   },
   {
    "duration": 25,
    "start_time": "2022-04-03T12:09:27.418Z"
   },
   {
    "duration": 58,
    "start_time": "2022-04-03T12:09:27.445Z"
   },
   {
    "duration": 179,
    "start_time": "2022-04-03T12:09:27.506Z"
   },
   {
    "duration": 28,
    "start_time": "2022-04-03T12:09:27.687Z"
   },
   {
    "duration": 21,
    "start_time": "2022-04-03T12:09:27.720Z"
   },
   {
    "duration": 36,
    "start_time": "2022-04-03T12:09:27.768Z"
   },
   {
    "duration": 23,
    "start_time": "2022-04-03T12:09:27.807Z"
   },
   {
    "duration": 52,
    "start_time": "2022-04-03T12:09:27.832Z"
   },
   {
    "duration": 34,
    "start_time": "2022-04-03T12:09:27.886Z"
   },
   {
    "duration": 132,
    "start_time": "2022-04-03T12:09:27.922Z"
   },
   {
    "duration": 36,
    "start_time": "2022-04-03T12:09:28.056Z"
   },
   {
    "duration": 26,
    "start_time": "2022-04-03T12:09:28.094Z"
   },
   {
    "duration": 62,
    "start_time": "2022-04-03T12:09:28.122Z"
   },
   {
    "duration": 21,
    "start_time": "2022-04-03T12:09:28.186Z"
   },
   {
    "duration": 27,
    "start_time": "2022-04-03T12:09:28.209Z"
   },
   {
    "duration": 41,
    "start_time": "2022-04-03T12:09:28.239Z"
   },
   {
    "duration": 15,
    "start_time": "2022-04-03T12:09:28.283Z"
   },
   {
    "duration": 8,
    "start_time": "2022-04-03T12:09:28.301Z"
   },
   {
    "duration": 56,
    "start_time": "2022-04-03T12:09:28.311Z"
   },
   {
    "duration": 16,
    "start_time": "2022-04-03T12:09:28.369Z"
   },
   {
    "duration": 8,
    "start_time": "2022-04-03T12:09:28.388Z"
   },
   {
    "duration": 9,
    "start_time": "2022-04-03T12:09:28.398Z"
   },
   {
    "duration": 15,
    "start_time": "2022-04-03T12:09:28.412Z"
   },
   {
    "duration": 6,
    "start_time": "2022-04-03T12:09:28.468Z"
   },
   {
    "duration": 53,
    "start_time": "2022-04-03T12:09:28.476Z"
   },
   {
    "duration": 69,
    "start_time": "2022-04-03T12:09:28.531Z"
   },
   {
    "duration": 15,
    "start_time": "2022-04-03T12:09:28.603Z"
   },
   {
    "duration": 53,
    "start_time": "2022-04-03T12:09:28.620Z"
   },
   {
    "duration": 15,
    "start_time": "2022-04-03T12:09:28.676Z"
   },
   {
    "duration": 5,
    "start_time": "2022-04-03T12:09:28.693Z"
   },
   {
    "duration": 36,
    "start_time": "2022-04-03T12:09:28.700Z"
   },
   {
    "duration": 19,
    "start_time": "2022-04-03T12:09:28.767Z"
   },
   {
    "duration": 30,
    "start_time": "2022-04-03T12:09:28.789Z"
   },
   {
    "duration": 15,
    "start_time": "2022-04-03T12:09:28.821Z"
   },
   {
    "duration": 34,
    "start_time": "2022-04-03T12:09:28.838Z"
   },
   {
    "duration": 8,
    "start_time": "2022-04-03T12:09:28.873Z"
   },
   {
    "duration": 37,
    "start_time": "2022-04-03T12:09:28.883Z"
   },
   {
    "duration": 1895,
    "start_time": "2022-04-03T12:09:28.923Z"
   },
   {
    "duration": 0,
    "start_time": "2022-04-03T12:09:30.820Z"
   },
   {
    "duration": 0,
    "start_time": "2022-04-03T12:09:30.822Z"
   },
   {
    "duration": 0,
    "start_time": "2022-04-03T12:09:30.824Z"
   },
   {
    "duration": 0,
    "start_time": "2022-04-03T12:09:30.825Z"
   },
   {
    "duration": 0,
    "start_time": "2022-04-03T12:09:30.826Z"
   },
   {
    "duration": 0,
    "start_time": "2022-04-03T12:09:30.827Z"
   },
   {
    "duration": 0,
    "start_time": "2022-04-03T12:09:30.829Z"
   },
   {
    "duration": 0,
    "start_time": "2022-04-03T12:09:30.830Z"
   },
   {
    "duration": 0,
    "start_time": "2022-04-03T12:09:30.831Z"
   },
   {
    "duration": 23,
    "start_time": "2022-04-03T12:12:15.815Z"
   },
   {
    "duration": 31,
    "start_time": "2022-04-03T12:13:46.957Z"
   },
   {
    "duration": 48,
    "start_time": "2022-04-03T12:17:53.188Z"
   },
   {
    "duration": 46,
    "start_time": "2022-04-03T12:20:47.687Z"
   },
   {
    "duration": 222,
    "start_time": "2022-04-03T12:21:27.441Z"
   },
   {
    "duration": 32,
    "start_time": "2022-04-03T12:21:27.668Z"
   },
   {
    "duration": 66,
    "start_time": "2022-04-03T12:21:27.702Z"
   },
   {
    "duration": 46,
    "start_time": "2022-04-03T12:21:27.772Z"
   },
   {
    "duration": 51,
    "start_time": "2022-04-03T12:21:27.820Z"
   },
   {
    "duration": 37,
    "start_time": "2022-04-03T12:21:27.873Z"
   },
   {
    "duration": 42,
    "start_time": "2022-04-03T12:21:27.913Z"
   },
   {
    "duration": 200,
    "start_time": "2022-04-03T12:21:27.967Z"
   },
   {
    "duration": 45,
    "start_time": "2022-04-03T12:21:28.170Z"
   },
   {
    "duration": 47,
    "start_time": "2022-04-03T12:21:28.220Z"
   },
   {
    "duration": 37,
    "start_time": "2022-04-03T12:21:28.270Z"
   },
   {
    "duration": 24,
    "start_time": "2022-04-03T12:21:28.309Z"
   },
   {
    "duration": 48,
    "start_time": "2022-04-03T12:21:28.336Z"
   },
   {
    "duration": 33,
    "start_time": "2022-04-03T12:21:28.388Z"
   },
   {
    "duration": 130,
    "start_time": "2022-04-03T12:21:28.424Z"
   },
   {
    "duration": 35,
    "start_time": "2022-04-03T12:21:28.556Z"
   },
   {
    "duration": 17,
    "start_time": "2022-04-03T12:21:28.593Z"
   },
   {
    "duration": 56,
    "start_time": "2022-04-03T12:21:28.612Z"
   },
   {
    "duration": 21,
    "start_time": "2022-04-03T12:21:28.670Z"
   },
   {
    "duration": 27,
    "start_time": "2022-04-03T12:21:28.693Z"
   },
   {
    "duration": 19,
    "start_time": "2022-04-03T12:21:28.722Z"
   },
   {
    "duration": 35,
    "start_time": "2022-04-03T12:21:28.743Z"
   },
   {
    "duration": 10,
    "start_time": "2022-04-03T12:21:28.781Z"
   },
   {
    "duration": 30,
    "start_time": "2022-04-03T12:21:28.793Z"
   },
   {
    "duration": 42,
    "start_time": "2022-04-03T12:21:28.825Z"
   },
   {
    "duration": 7,
    "start_time": "2022-04-03T12:21:28.870Z"
   },
   {
    "duration": 10,
    "start_time": "2022-04-03T12:21:28.880Z"
   },
   {
    "duration": 15,
    "start_time": "2022-04-03T12:21:28.897Z"
   },
   {
    "duration": 16,
    "start_time": "2022-04-03T12:21:28.913Z"
   },
   {
    "duration": 85,
    "start_time": "2022-04-03T12:21:28.932Z"
   },
   {
    "duration": 60,
    "start_time": "2022-04-03T12:21:29.020Z"
   },
   {
    "duration": 15,
    "start_time": "2022-04-03T12:21:29.082Z"
   },
   {
    "duration": 29,
    "start_time": "2022-04-03T12:21:29.099Z"
   },
   {
    "duration": 42,
    "start_time": "2022-04-03T12:21:29.130Z"
   },
   {
    "duration": 4,
    "start_time": "2022-04-03T12:21:29.174Z"
   },
   {
    "duration": 38,
    "start_time": "2022-04-03T12:21:29.180Z"
   },
   {
    "duration": 47,
    "start_time": "2022-04-03T12:21:29.221Z"
   },
   {
    "duration": 30,
    "start_time": "2022-04-03T12:21:29.271Z"
   },
   {
    "duration": 15,
    "start_time": "2022-04-03T12:21:29.303Z"
   },
   {
    "duration": 9,
    "start_time": "2022-04-03T12:21:29.320Z"
   },
   {
    "duration": 40,
    "start_time": "2022-04-03T12:21:29.331Z"
   },
   {
    "duration": 19,
    "start_time": "2022-04-03T12:21:29.373Z"
   },
   {
    "duration": 24,
    "start_time": "2022-04-03T12:21:29.394Z"
   },
   {
    "duration": 67,
    "start_time": "2022-04-03T12:21:29.420Z"
   },
   {
    "duration": 52,
    "start_time": "2022-04-03T12:21:29.489Z"
   },
   {
    "duration": 1962,
    "start_time": "2022-04-03T12:21:29.543Z"
   },
   {
    "duration": 0,
    "start_time": "2022-04-03T12:21:31.507Z"
   },
   {
    "duration": 0,
    "start_time": "2022-04-03T12:21:31.508Z"
   },
   {
    "duration": 0,
    "start_time": "2022-04-03T12:21:31.510Z"
   },
   {
    "duration": 0,
    "start_time": "2022-04-03T12:21:31.512Z"
   },
   {
    "duration": 0,
    "start_time": "2022-04-03T12:21:31.514Z"
   },
   {
    "duration": 0,
    "start_time": "2022-04-03T12:21:31.515Z"
   },
   {
    "duration": 0,
    "start_time": "2022-04-03T12:21:31.517Z"
   },
   {
    "duration": 22,
    "start_time": "2022-04-03T12:24:37.798Z"
   },
   {
    "duration": 23,
    "start_time": "2022-04-03T12:24:59.082Z"
   },
   {
    "duration": 53,
    "start_time": "2022-04-03T12:25:24.587Z"
   },
   {
    "duration": 9,
    "start_time": "2022-04-03T12:29:18.916Z"
   },
   {
    "duration": 31,
    "start_time": "2022-04-03T12:29:36.517Z"
   },
   {
    "duration": 20,
    "start_time": "2022-04-03T12:31:03.557Z"
   },
   {
    "duration": 12,
    "start_time": "2022-04-03T12:38:37.329Z"
   },
   {
    "duration": 2092,
    "start_time": "2022-04-03T12:44:43.961Z"
   },
   {
    "duration": 198,
    "start_time": "2022-04-03T12:45:08.196Z"
   },
   {
    "duration": 32,
    "start_time": "2022-04-03T12:45:08.397Z"
   },
   {
    "duration": 41,
    "start_time": "2022-04-03T12:45:08.431Z"
   },
   {
    "duration": 45,
    "start_time": "2022-04-03T12:45:08.475Z"
   },
   {
    "duration": 48,
    "start_time": "2022-04-03T12:45:08.523Z"
   },
   {
    "duration": 26,
    "start_time": "2022-04-03T12:45:08.573Z"
   },
   {
    "duration": 68,
    "start_time": "2022-04-03T12:45:08.601Z"
   },
   {
    "duration": 173,
    "start_time": "2022-04-03T12:45:08.671Z"
   },
   {
    "duration": 33,
    "start_time": "2022-04-03T12:45:08.846Z"
   },
   {
    "duration": 27,
    "start_time": "2022-04-03T12:45:08.881Z"
   },
   {
    "duration": 70,
    "start_time": "2022-04-03T12:45:08.910Z"
   },
   {
    "duration": 22,
    "start_time": "2022-04-03T12:45:08.982Z"
   },
   {
    "duration": 23,
    "start_time": "2022-04-03T12:45:09.006Z"
   },
   {
    "duration": 64,
    "start_time": "2022-04-03T12:45:09.034Z"
   },
   {
    "duration": 117,
    "start_time": "2022-04-03T12:45:09.100Z"
   },
   {
    "duration": 25,
    "start_time": "2022-04-03T12:45:09.219Z"
   },
   {
    "duration": 34,
    "start_time": "2022-04-03T12:45:09.246Z"
   },
   {
    "duration": 29,
    "start_time": "2022-04-03T12:45:09.283Z"
   },
   {
    "duration": 20,
    "start_time": "2022-04-03T12:45:09.314Z"
   },
   {
    "duration": 28,
    "start_time": "2022-04-03T12:45:09.367Z"
   },
   {
    "duration": 18,
    "start_time": "2022-04-03T12:45:09.397Z"
   },
   {
    "duration": 14,
    "start_time": "2022-04-03T12:45:09.417Z"
   },
   {
    "duration": 39,
    "start_time": "2022-04-03T12:45:09.433Z"
   },
   {
    "duration": 33,
    "start_time": "2022-04-03T12:45:09.474Z"
   },
   {
    "duration": 15,
    "start_time": "2022-04-03T12:45:09.509Z"
   },
   {
    "duration": 10,
    "start_time": "2022-04-03T12:45:09.526Z"
   },
   {
    "duration": 35,
    "start_time": "2022-04-03T12:45:09.538Z"
   },
   {
    "duration": 21,
    "start_time": "2022-04-03T12:45:09.576Z"
   },
   {
    "duration": 6,
    "start_time": "2022-04-03T12:45:09.600Z"
   },
   {
    "duration": 2263,
    "start_time": "2022-04-03T12:45:09.609Z"
   },
   {
    "duration": 53,
    "start_time": "2022-04-03T12:45:11.874Z"
   },
   {
    "duration": 73,
    "start_time": "2022-04-03T12:45:11.930Z"
   },
   {
    "duration": 15,
    "start_time": "2022-04-03T12:45:12.005Z"
   },
   {
    "duration": 128,
    "start_time": "2022-04-03T12:45:12.022Z"
   },
   {
    "duration": 21,
    "start_time": "2022-04-03T12:45:12.152Z"
   },
   {
    "duration": 5,
    "start_time": "2022-04-03T12:45:12.175Z"
   },
   {
    "duration": 37,
    "start_time": "2022-04-03T12:45:12.182Z"
   },
   {
    "duration": 61,
    "start_time": "2022-04-03T12:45:12.221Z"
   },
   {
    "duration": 33,
    "start_time": "2022-04-03T12:45:12.284Z"
   },
   {
    "duration": 16,
    "start_time": "2022-04-03T12:45:12.319Z"
   },
   {
    "duration": 33,
    "start_time": "2022-04-03T12:45:12.341Z"
   },
   {
    "duration": 7,
    "start_time": "2022-04-03T12:45:12.376Z"
   },
   {
    "duration": 21,
    "start_time": "2022-04-03T12:45:12.386Z"
   },
   {
    "duration": 63,
    "start_time": "2022-04-03T12:45:12.410Z"
   },
   {
    "duration": 36,
    "start_time": "2022-04-03T12:45:12.476Z"
   },
   {
    "duration": 11,
    "start_time": "2022-04-03T12:45:12.515Z"
   },
   {
    "duration": 0,
    "start_time": "2022-04-03T12:45:12.529Z"
   },
   {
    "duration": 0,
    "start_time": "2022-04-03T12:45:12.531Z"
   },
   {
    "duration": 0,
    "start_time": "2022-04-03T12:45:12.568Z"
   },
   {
    "duration": 0,
    "start_time": "2022-04-03T12:45:12.570Z"
   },
   {
    "duration": 0,
    "start_time": "2022-04-03T12:45:12.572Z"
   },
   {
    "duration": 0,
    "start_time": "2022-04-03T12:45:12.573Z"
   },
   {
    "duration": 0,
    "start_time": "2022-04-03T12:45:12.575Z"
   },
   {
    "duration": 0,
    "start_time": "2022-04-03T12:45:12.577Z"
   },
   {
    "duration": 0,
    "start_time": "2022-04-03T12:45:12.578Z"
   },
   {
    "duration": 11,
    "start_time": "2022-04-03T12:48:33.528Z"
   },
   {
    "duration": 202,
    "start_time": "2022-04-03T13:02:04.918Z"
   },
   {
    "duration": 45,
    "start_time": "2022-04-03T13:02:05.123Z"
   },
   {
    "duration": 25,
    "start_time": "2022-04-03T13:02:05.171Z"
   },
   {
    "duration": 68,
    "start_time": "2022-04-03T13:02:05.199Z"
   },
   {
    "duration": 25,
    "start_time": "2022-04-03T13:02:05.270Z"
   },
   {
    "duration": 26,
    "start_time": "2022-04-03T13:02:05.298Z"
   },
   {
    "duration": 67,
    "start_time": "2022-04-03T13:02:05.326Z"
   },
   {
    "duration": 178,
    "start_time": "2022-04-03T13:02:05.396Z"
   },
   {
    "duration": 29,
    "start_time": "2022-04-03T13:02:05.576Z"
   },
   {
    "duration": 22,
    "start_time": "2022-04-03T13:02:05.610Z"
   },
   {
    "duration": 59,
    "start_time": "2022-04-03T13:02:05.635Z"
   },
   {
    "duration": 25,
    "start_time": "2022-04-03T13:02:05.697Z"
   },
   {
    "duration": 54,
    "start_time": "2022-04-03T13:02:05.725Z"
   },
   {
    "duration": 33,
    "start_time": "2022-04-03T13:02:05.781Z"
   },
   {
    "duration": 127,
    "start_time": "2022-04-03T13:02:05.816Z"
   },
   {
    "duration": 29,
    "start_time": "2022-04-03T13:02:05.945Z"
   },
   {
    "duration": 17,
    "start_time": "2022-04-03T13:02:05.977Z"
   },
   {
    "duration": 26,
    "start_time": "2022-04-03T13:02:05.997Z"
   },
   {
    "duration": 48,
    "start_time": "2022-04-03T13:02:06.025Z"
   },
   {
    "duration": 26,
    "start_time": "2022-04-03T13:02:06.075Z"
   },
   {
    "duration": 19,
    "start_time": "2022-04-03T13:02:06.103Z"
   },
   {
    "duration": 13,
    "start_time": "2022-04-03T13:02:06.124Z"
   },
   {
    "duration": 6,
    "start_time": "2022-04-03T13:02:06.168Z"
   },
   {
    "duration": 32,
    "start_time": "2022-04-03T13:02:06.176Z"
   },
   {
    "duration": 14,
    "start_time": "2022-04-03T13:02:06.211Z"
   },
   {
    "duration": 7,
    "start_time": "2022-04-03T13:02:06.227Z"
   },
   {
    "duration": 36,
    "start_time": "2022-04-03T13:02:06.236Z"
   },
   {
    "duration": 15,
    "start_time": "2022-04-03T13:02:06.278Z"
   },
   {
    "duration": 8,
    "start_time": "2022-04-03T13:02:06.296Z"
   },
   {
    "duration": 77,
    "start_time": "2022-04-03T13:02:06.306Z"
   },
   {
    "duration": 47,
    "start_time": "2022-04-03T13:02:06.385Z"
   },
   {
    "duration": 36,
    "start_time": "2022-04-03T13:02:06.434Z"
   },
   {
    "duration": 31,
    "start_time": "2022-04-03T13:02:06.472Z"
   },
   {
    "duration": 14,
    "start_time": "2022-04-03T13:02:06.505Z"
   },
   {
    "duration": 8,
    "start_time": "2022-04-03T13:02:06.521Z"
   },
   {
    "duration": 67,
    "start_time": "2022-04-03T13:02:06.531Z"
   },
   {
    "duration": 21,
    "start_time": "2022-04-03T13:02:06.600Z"
   },
   {
    "duration": 57,
    "start_time": "2022-04-03T13:02:06.623Z"
   },
   {
    "duration": 16,
    "start_time": "2022-04-03T13:02:06.682Z"
   },
   {
    "duration": 16,
    "start_time": "2022-04-03T13:02:06.700Z"
   },
   {
    "duration": 16,
    "start_time": "2022-04-03T13:02:06.718Z"
   },
   {
    "duration": 37,
    "start_time": "2022-04-03T13:02:06.736Z"
   },
   {
    "duration": 24,
    "start_time": "2022-04-03T13:02:06.775Z"
   },
   {
    "duration": 40,
    "start_time": "2022-04-03T13:02:06.802Z"
   },
   {
    "duration": 13,
    "start_time": "2022-04-03T13:02:06.868Z"
   },
   {
    "duration": 0,
    "start_time": "2022-04-03T13:02:06.883Z"
   },
   {
    "duration": 0,
    "start_time": "2022-04-03T13:02:06.886Z"
   },
   {
    "duration": 0,
    "start_time": "2022-04-03T13:02:06.888Z"
   },
   {
    "duration": 0,
    "start_time": "2022-04-03T13:02:06.891Z"
   },
   {
    "duration": 0,
    "start_time": "2022-04-03T13:02:06.893Z"
   },
   {
    "duration": 0,
    "start_time": "2022-04-03T13:02:06.896Z"
   },
   {
    "duration": 0,
    "start_time": "2022-04-03T13:02:06.898Z"
   },
   {
    "duration": 0,
    "start_time": "2022-04-03T13:02:06.900Z"
   },
   {
    "duration": 0,
    "start_time": "2022-04-03T13:02:06.903Z"
   },
   {
    "duration": 20,
    "start_time": "2022-04-03T13:02:40.709Z"
   },
   {
    "duration": 14,
    "start_time": "2022-04-03T13:02:50.535Z"
   },
   {
    "duration": 18,
    "start_time": "2022-04-03T13:02:57.506Z"
   },
   {
    "duration": 46,
    "start_time": "2022-04-03T13:03:38.516Z"
   },
   {
    "duration": 46,
    "start_time": "2022-04-03T13:07:34.695Z"
   },
   {
    "duration": 6,
    "start_time": "2022-04-03T13:07:40.748Z"
   },
   {
    "duration": 44,
    "start_time": "2022-04-03T13:07:49.560Z"
   },
   {
    "duration": 46,
    "start_time": "2022-04-03T13:08:18.557Z"
   },
   {
    "duration": 47,
    "start_time": "2022-04-03T13:09:46.655Z"
   },
   {
    "duration": 46,
    "start_time": "2022-04-03T13:10:00.836Z"
   },
   {
    "duration": 213,
    "start_time": "2022-04-03T13:10:07.285Z"
   },
   {
    "duration": 33,
    "start_time": "2022-04-03T13:10:07.501Z"
   },
   {
    "duration": 42,
    "start_time": "2022-04-03T13:10:07.536Z"
   },
   {
    "duration": 46,
    "start_time": "2022-04-03T13:10:07.581Z"
   },
   {
    "duration": 47,
    "start_time": "2022-04-03T13:10:07.629Z"
   },
   {
    "duration": 26,
    "start_time": "2022-04-03T13:10:07.678Z"
   },
   {
    "duration": 63,
    "start_time": "2022-04-03T13:10:07.707Z"
   },
   {
    "duration": 188,
    "start_time": "2022-04-03T13:10:07.772Z"
   },
   {
    "duration": 30,
    "start_time": "2022-04-03T13:10:07.963Z"
   },
   {
    "duration": 22,
    "start_time": "2022-04-03T13:10:07.998Z"
   },
   {
    "duration": 59,
    "start_time": "2022-04-03T13:10:08.022Z"
   },
   {
    "duration": 22,
    "start_time": "2022-04-03T13:10:08.084Z"
   },
   {
    "duration": 24,
    "start_time": "2022-04-03T13:10:08.108Z"
   },
   {
    "duration": 61,
    "start_time": "2022-04-03T13:10:08.134Z"
   },
   {
    "duration": 120,
    "start_time": "2022-04-03T13:10:08.198Z"
   },
   {
    "duration": 29,
    "start_time": "2022-04-03T13:10:08.320Z"
   },
   {
    "duration": 42,
    "start_time": "2022-04-03T13:10:08.351Z"
   },
   {
    "duration": 44,
    "start_time": "2022-04-03T13:10:08.396Z"
   },
   {
    "duration": 50,
    "start_time": "2022-04-03T13:10:08.443Z"
   },
   {
    "duration": 37,
    "start_time": "2022-04-03T13:10:08.495Z"
   },
   {
    "duration": 41,
    "start_time": "2022-04-03T13:10:08.535Z"
   },
   {
    "duration": 15,
    "start_time": "2022-04-03T13:10:08.578Z"
   },
   {
    "duration": 11,
    "start_time": "2022-04-03T13:10:08.595Z"
   },
   {
    "duration": 43,
    "start_time": "2022-04-03T13:10:08.608Z"
   },
   {
    "duration": 29,
    "start_time": "2022-04-03T13:10:08.653Z"
   },
   {
    "duration": 8,
    "start_time": "2022-04-03T13:10:08.685Z"
   },
   {
    "duration": 9,
    "start_time": "2022-04-03T13:10:08.696Z"
   },
   {
    "duration": 15,
    "start_time": "2022-04-03T13:10:08.712Z"
   },
   {
    "duration": 6,
    "start_time": "2022-04-03T13:10:08.768Z"
   },
   {
    "duration": 55,
    "start_time": "2022-04-03T13:10:08.776Z"
   },
   {
    "duration": 75,
    "start_time": "2022-04-03T13:10:08.834Z"
   },
   {
    "duration": 15,
    "start_time": "2022-04-03T13:10:08.912Z"
   },
   {
    "duration": 55,
    "start_time": "2022-04-03T13:10:08.929Z"
   },
   {
    "duration": 16,
    "start_time": "2022-04-03T13:10:08.986Z"
   },
   {
    "duration": 5,
    "start_time": "2022-04-03T13:10:09.004Z"
   },
   {
    "duration": 62,
    "start_time": "2022-04-03T13:10:09.011Z"
   },
   {
    "duration": 20,
    "start_time": "2022-04-03T13:10:09.075Z"
   },
   {
    "duration": 32,
    "start_time": "2022-04-03T13:10:09.097Z"
   },
   {
    "duration": 47,
    "start_time": "2022-04-03T13:10:09.131Z"
   },
   {
    "duration": 11,
    "start_time": "2022-04-03T13:10:09.181Z"
   },
   {
    "duration": 8,
    "start_time": "2022-04-03T13:10:09.194Z"
   },
   {
    "duration": 27,
    "start_time": "2022-04-03T13:10:09.204Z"
   },
   {
    "duration": 50,
    "start_time": "2022-04-03T13:10:09.234Z"
   },
   {
    "duration": 37,
    "start_time": "2022-04-03T13:10:09.286Z"
   },
   {
    "duration": 2249,
    "start_time": "2022-04-03T13:10:09.326Z"
   },
   {
    "duration": 0,
    "start_time": "2022-04-03T13:10:11.578Z"
   },
   {
    "duration": 0,
    "start_time": "2022-04-03T13:10:11.580Z"
   },
   {
    "duration": 0,
    "start_time": "2022-04-03T13:10:11.581Z"
   },
   {
    "duration": 0,
    "start_time": "2022-04-03T13:10:11.582Z"
   },
   {
    "duration": 0,
    "start_time": "2022-04-03T13:10:11.584Z"
   },
   {
    "duration": 0,
    "start_time": "2022-04-03T13:10:11.586Z"
   },
   {
    "duration": 0,
    "start_time": "2022-04-03T13:10:11.588Z"
   },
   {
    "duration": 8,
    "start_time": "2022-04-03T13:10:44.448Z"
   },
   {
    "duration": 32,
    "start_time": "2022-04-03T13:10:52.216Z"
   },
   {
    "duration": 234,
    "start_time": "2022-04-03T13:10:56.469Z"
   },
   {
    "duration": 33,
    "start_time": "2022-04-03T13:10:56.706Z"
   },
   {
    "duration": 51,
    "start_time": "2022-04-03T13:10:56.741Z"
   },
   {
    "duration": 47,
    "start_time": "2022-04-03T13:10:56.795Z"
   },
   {
    "duration": 37,
    "start_time": "2022-04-03T13:10:56.844Z"
   },
   {
    "duration": 26,
    "start_time": "2022-04-03T13:10:56.883Z"
   },
   {
    "duration": 63,
    "start_time": "2022-04-03T13:10:56.911Z"
   },
   {
    "duration": 176,
    "start_time": "2022-04-03T13:10:56.976Z"
   },
   {
    "duration": 39,
    "start_time": "2022-04-03T13:10:57.154Z"
   },
   {
    "duration": 21,
    "start_time": "2022-04-03T13:10:57.197Z"
   },
   {
    "duration": 55,
    "start_time": "2022-04-03T13:10:57.221Z"
   },
   {
    "duration": 23,
    "start_time": "2022-04-03T13:10:57.279Z"
   },
   {
    "duration": 29,
    "start_time": "2022-04-03T13:10:57.304Z"
   },
   {
    "duration": 56,
    "start_time": "2022-04-03T13:10:57.336Z"
   },
   {
    "duration": 112,
    "start_time": "2022-04-03T13:10:57.394Z"
   },
   {
    "duration": 25,
    "start_time": "2022-04-03T13:10:57.509Z"
   },
   {
    "duration": 34,
    "start_time": "2022-04-03T13:10:57.537Z"
   },
   {
    "duration": 42,
    "start_time": "2022-04-03T13:10:57.573Z"
   },
   {
    "duration": 19,
    "start_time": "2022-04-03T13:10:57.618Z"
   },
   {
    "duration": 47,
    "start_time": "2022-04-03T13:10:57.639Z"
   },
   {
    "duration": 18,
    "start_time": "2022-04-03T13:10:57.688Z"
   },
   {
    "duration": 19,
    "start_time": "2022-04-03T13:10:57.708Z"
   },
   {
    "duration": 19,
    "start_time": "2022-04-03T13:10:57.729Z"
   },
   {
    "duration": 51,
    "start_time": "2022-04-03T13:10:57.750Z"
   },
   {
    "duration": 15,
    "start_time": "2022-04-03T13:10:57.803Z"
   },
   {
    "duration": 18,
    "start_time": "2022-04-03T13:10:57.821Z"
   },
   {
    "duration": 21,
    "start_time": "2022-04-03T13:10:57.841Z"
   },
   {
    "duration": 33,
    "start_time": "2022-04-03T13:10:57.868Z"
   },
   {
    "duration": 17,
    "start_time": "2022-04-03T13:10:57.903Z"
   },
   {
    "duration": 67,
    "start_time": "2022-04-03T13:10:57.923Z"
   },
   {
    "duration": 47,
    "start_time": "2022-04-03T13:10:57.993Z"
   },
   {
    "duration": 35,
    "start_time": "2022-04-03T13:10:58.042Z"
   },
   {
    "duration": 47,
    "start_time": "2022-04-03T13:10:58.079Z"
   },
   {
    "duration": 15,
    "start_time": "2022-04-03T13:10:58.128Z"
   },
   {
    "duration": 22,
    "start_time": "2022-04-03T13:10:58.145Z"
   },
   {
    "duration": 37,
    "start_time": "2022-04-03T13:10:58.170Z"
   },
   {
    "duration": 21,
    "start_time": "2022-04-03T13:10:58.209Z"
   },
   {
    "duration": 60,
    "start_time": "2022-04-03T13:10:58.232Z"
   },
   {
    "duration": 16,
    "start_time": "2022-04-03T13:10:58.294Z"
   },
   {
    "duration": 11,
    "start_time": "2022-04-03T13:10:58.312Z"
   },
   {
    "duration": 7,
    "start_time": "2022-04-03T13:10:58.325Z"
   },
   {
    "duration": 52,
    "start_time": "2022-04-03T13:10:58.335Z"
   },
   {
    "duration": 23,
    "start_time": "2022-04-03T13:10:58.389Z"
   },
   {
    "duration": 21,
    "start_time": "2022-04-03T13:10:58.415Z"
   },
   {
    "duration": 38,
    "start_time": "2022-04-03T13:10:58.468Z"
   },
   {
    "duration": 1965,
    "start_time": "2022-04-03T13:10:58.508Z"
   },
   {
    "duration": 0,
    "start_time": "2022-04-03T13:11:00.475Z"
   },
   {
    "duration": 0,
    "start_time": "2022-04-03T13:11:00.477Z"
   },
   {
    "duration": 0,
    "start_time": "2022-04-03T13:11:00.478Z"
   },
   {
    "duration": 0,
    "start_time": "2022-04-03T13:11:00.479Z"
   },
   {
    "duration": 0,
    "start_time": "2022-04-03T13:11:00.480Z"
   },
   {
    "duration": 0,
    "start_time": "2022-04-03T13:11:00.482Z"
   },
   {
    "duration": 0,
    "start_time": "2022-04-03T13:11:00.484Z"
   },
   {
    "duration": 56,
    "start_time": "2022-04-03T13:13:02.339Z"
   },
   {
    "duration": 52,
    "start_time": "2022-04-03T13:13:32.735Z"
   },
   {
    "duration": 234,
    "start_time": "2022-04-03T13:15:04.977Z"
   },
   {
    "duration": 33,
    "start_time": "2022-04-03T13:15:05.214Z"
   },
   {
    "duration": 46,
    "start_time": "2022-04-03T13:15:05.249Z"
   },
   {
    "duration": 50,
    "start_time": "2022-04-03T13:15:05.299Z"
   },
   {
    "duration": 31,
    "start_time": "2022-04-03T13:15:05.369Z"
   },
   {
    "duration": 27,
    "start_time": "2022-04-03T13:15:05.402Z"
   },
   {
    "duration": 69,
    "start_time": "2022-04-03T13:15:05.431Z"
   },
   {
    "duration": 195,
    "start_time": "2022-04-03T13:15:05.502Z"
   },
   {
    "duration": 27,
    "start_time": "2022-04-03T13:15:05.700Z"
   },
   {
    "duration": 44,
    "start_time": "2022-04-03T13:15:05.731Z"
   },
   {
    "duration": 35,
    "start_time": "2022-04-03T13:15:05.780Z"
   },
   {
    "duration": 24,
    "start_time": "2022-04-03T13:15:05.817Z"
   },
   {
    "duration": 27,
    "start_time": "2022-04-03T13:15:05.867Z"
   },
   {
    "duration": 34,
    "start_time": "2022-04-03T13:15:05.897Z"
   },
   {
    "duration": 139,
    "start_time": "2022-04-03T13:15:05.933Z"
   },
   {
    "duration": 29,
    "start_time": "2022-04-03T13:15:06.075Z"
   },
   {
    "duration": 20,
    "start_time": "2022-04-03T13:15:06.106Z"
   },
   {
    "duration": 64,
    "start_time": "2022-04-03T13:15:06.129Z"
   },
   {
    "duration": 21,
    "start_time": "2022-04-03T13:15:06.196Z"
   },
   {
    "duration": 65,
    "start_time": "2022-04-03T13:15:06.220Z"
   },
   {
    "duration": 19,
    "start_time": "2022-04-03T13:15:06.288Z"
   },
   {
    "duration": 15,
    "start_time": "2022-04-03T13:15:06.310Z"
   },
   {
    "duration": 8,
    "start_time": "2022-04-03T13:15:06.328Z"
   },
   {
    "duration": 34,
    "start_time": "2022-04-03T13:15:06.369Z"
   },
   {
    "duration": 15,
    "start_time": "2022-04-03T13:15:06.406Z"
   },
   {
    "duration": 9,
    "start_time": "2022-04-03T13:15:06.424Z"
   },
   {
    "duration": 39,
    "start_time": "2022-04-03T13:15:06.436Z"
   },
   {
    "duration": 16,
    "start_time": "2022-04-03T13:15:06.484Z"
   },
   {
    "duration": 4,
    "start_time": "2022-04-03T13:15:06.503Z"
   },
   {
    "duration": 98,
    "start_time": "2022-04-03T13:15:06.509Z"
   },
   {
    "duration": 47,
    "start_time": "2022-04-03T13:15:06.609Z"
   },
   {
    "duration": 20,
    "start_time": "2022-04-03T13:15:06.667Z"
   },
   {
    "duration": 35,
    "start_time": "2022-04-03T13:15:06.689Z"
   },
   {
    "duration": 14,
    "start_time": "2022-04-03T13:15:06.727Z"
   },
   {
    "duration": 6,
    "start_time": "2022-04-03T13:15:06.769Z"
   },
   {
    "duration": 45,
    "start_time": "2022-04-03T13:15:06.777Z"
   },
   {
    "duration": 45,
    "start_time": "2022-04-03T13:15:06.824Z"
   },
   {
    "duration": 34,
    "start_time": "2022-04-03T13:15:06.873Z"
   },
   {
    "duration": 15,
    "start_time": "2022-04-03T13:15:06.909Z"
   },
   {
    "duration": 43,
    "start_time": "2022-04-03T13:15:06.926Z"
   },
   {
    "duration": 11,
    "start_time": "2022-04-03T13:15:06.972Z"
   },
   {
    "duration": 19,
    "start_time": "2022-04-03T13:15:06.985Z"
   },
   {
    "duration": 23,
    "start_time": "2022-04-03T13:15:07.007Z"
   },
   {
    "duration": 63,
    "start_time": "2022-04-03T13:15:07.032Z"
   },
   {
    "duration": 38,
    "start_time": "2022-04-03T13:15:07.097Z"
   },
   {
    "duration": 85,
    "start_time": "2022-04-03T13:15:07.137Z"
   },
   {
    "duration": 2784,
    "start_time": "2022-04-03T13:15:07.224Z"
   },
   {
    "duration": 0,
    "start_time": "2022-04-03T13:15:10.011Z"
   },
   {
    "duration": 0,
    "start_time": "2022-04-03T13:15:10.013Z"
   },
   {
    "duration": 0,
    "start_time": "2022-04-03T13:15:10.014Z"
   },
   {
    "duration": 0,
    "start_time": "2022-04-03T13:15:10.016Z"
   },
   {
    "duration": 0,
    "start_time": "2022-04-03T13:15:10.018Z"
   },
   {
    "duration": 0,
    "start_time": "2022-04-03T13:15:10.019Z"
   },
   {
    "duration": 0,
    "start_time": "2022-04-03T13:15:10.021Z"
   },
   {
    "duration": 19,
    "start_time": "2022-04-03T13:15:43.279Z"
   },
   {
    "duration": 204,
    "start_time": "2022-04-03T13:20:01.911Z"
   },
   {
    "duration": 34,
    "start_time": "2022-04-03T13:20:02.117Z"
   },
   {
    "duration": 39,
    "start_time": "2022-04-03T13:20:02.153Z"
   },
   {
    "duration": 71,
    "start_time": "2022-04-03T13:20:02.196Z"
   },
   {
    "duration": 26,
    "start_time": "2022-04-03T13:20:02.270Z"
   },
   {
    "duration": 27,
    "start_time": "2022-04-03T13:20:02.298Z"
   },
   {
    "duration": 68,
    "start_time": "2022-04-03T13:20:02.328Z"
   },
   {
    "duration": 186,
    "start_time": "2022-04-03T13:20:02.399Z"
   },
   {
    "duration": 29,
    "start_time": "2022-04-03T13:20:02.587Z"
   },
   {
    "duration": 20,
    "start_time": "2022-04-03T13:20:02.620Z"
   },
   {
    "duration": 59,
    "start_time": "2022-04-03T13:20:02.642Z"
   },
   {
    "duration": 22,
    "start_time": "2022-04-03T13:20:02.704Z"
   },
   {
    "duration": 52,
    "start_time": "2022-04-03T13:20:02.728Z"
   },
   {
    "duration": 34,
    "start_time": "2022-04-03T13:20:02.782Z"
   },
   {
    "duration": 131,
    "start_time": "2022-04-03T13:20:02.818Z"
   },
   {
    "duration": 31,
    "start_time": "2022-04-03T13:20:02.952Z"
   },
   {
    "duration": 20,
    "start_time": "2022-04-03T13:20:02.986Z"
   },
   {
    "duration": 63,
    "start_time": "2022-04-03T13:20:03.009Z"
   },
   {
    "duration": 23,
    "start_time": "2022-04-03T13:20:03.075Z"
   },
   {
    "duration": 29,
    "start_time": "2022-04-03T13:20:03.100Z"
   },
   {
    "duration": 45,
    "start_time": "2022-04-03T13:20:03.131Z"
   },
   {
    "duration": 17,
    "start_time": "2022-04-03T13:20:03.178Z"
   },
   {
    "duration": 9,
    "start_time": "2022-04-03T13:20:03.197Z"
   },
   {
    "duration": 62,
    "start_time": "2022-04-03T13:20:03.208Z"
   },
   {
    "duration": 16,
    "start_time": "2022-04-03T13:20:03.272Z"
   },
   {
    "duration": 9,
    "start_time": "2022-04-03T13:20:03.291Z"
   },
   {
    "duration": 11,
    "start_time": "2022-04-03T13:20:03.302Z"
   },
   {
    "duration": 62,
    "start_time": "2022-04-03T13:20:03.320Z"
   },
   {
    "duration": 8,
    "start_time": "2022-04-03T13:20:03.385Z"
   },
   {
    "duration": 95,
    "start_time": "2022-04-03T13:20:03.395Z"
   },
   {
    "duration": 83,
    "start_time": "2022-04-03T13:20:03.493Z"
   },
   {
    "duration": 20,
    "start_time": "2022-04-03T13:20:03.579Z"
   },
   {
    "duration": 31,
    "start_time": "2022-04-03T13:20:03.602Z"
   },
   {
    "duration": 45,
    "start_time": "2022-04-03T13:20:03.635Z"
   },
   {
    "duration": 6,
    "start_time": "2022-04-03T13:20:03.682Z"
   },
   {
    "duration": 41,
    "start_time": "2022-04-03T13:20:03.690Z"
   },
   {
    "duration": 45,
    "start_time": "2022-04-03T13:20:03.733Z"
   },
   {
    "duration": 33,
    "start_time": "2022-04-03T13:20:03.780Z"
   },
   {
    "duration": 16,
    "start_time": "2022-04-03T13:20:03.815Z"
   },
   {
    "duration": 42,
    "start_time": "2022-04-03T13:20:03.833Z"
   },
   {
    "duration": 7,
    "start_time": "2022-04-03T13:20:03.877Z"
   },
   {
    "duration": 21,
    "start_time": "2022-04-03T13:20:03.886Z"
   },
   {
    "duration": 23,
    "start_time": "2022-04-03T13:20:03.909Z"
   },
   {
    "duration": 55,
    "start_time": "2022-04-03T13:20:03.934Z"
   },
   {
    "duration": 37,
    "start_time": "2022-04-03T13:20:03.992Z"
   },
   {
    "duration": 50,
    "start_time": "2022-04-03T13:20:04.067Z"
   },
   {
    "duration": 21,
    "start_time": "2022-04-03T13:20:04.119Z"
   },
   {
    "duration": 24,
    "start_time": "2022-04-03T13:20:04.143Z"
   },
   {
    "duration": 1031,
    "start_time": "2022-04-03T13:20:04.170Z"
   },
   {
    "duration": 0,
    "start_time": "2022-04-03T13:20:05.204Z"
   },
   {
    "duration": 0,
    "start_time": "2022-04-03T13:20:05.205Z"
   },
   {
    "duration": 0,
    "start_time": "2022-04-03T13:20:05.207Z"
   },
   {
    "duration": 5,
    "start_time": "2022-04-03T13:21:09.218Z"
   },
   {
    "duration": 1147,
    "start_time": "2022-04-03T13:21:11.511Z"
   },
   {
    "duration": 5,
    "start_time": "2022-04-03T13:26:32.935Z"
   },
   {
    "duration": 5,
    "start_time": "2022-04-03T13:26:56.006Z"
   },
   {
    "duration": 45,
    "start_time": "2022-04-03T13:27:10.033Z"
   },
   {
    "duration": 9,
    "start_time": "2022-04-03T13:30:22.199Z"
   },
   {
    "duration": 17,
    "start_time": "2022-04-03T13:30:33.455Z"
   },
   {
    "duration": 11,
    "start_time": "2022-04-03T13:30:40.015Z"
   },
   {
    "duration": 10,
    "start_time": "2022-04-03T13:40:08.987Z"
   },
   {
    "duration": 9,
    "start_time": "2022-04-03T13:40:18.499Z"
   },
   {
    "duration": 23,
    "start_time": "2022-04-03T13:40:45.006Z"
   },
   {
    "duration": 45,
    "start_time": "2022-04-03T13:41:01.935Z"
   },
   {
    "duration": 8,
    "start_time": "2022-04-03T13:41:13.799Z"
   },
   {
    "duration": 4,
    "start_time": "2022-04-03T13:42:06.043Z"
   },
   {
    "duration": 43,
    "start_time": "2022-04-03T13:42:07.737Z"
   },
   {
    "duration": 117,
    "start_time": "2022-04-03T13:48:57.401Z"
   },
   {
    "duration": 43,
    "start_time": "2022-04-03T13:49:04.498Z"
   },
   {
    "duration": 207,
    "start_time": "2022-04-03T13:50:05.919Z"
   },
   {
    "duration": 39,
    "start_time": "2022-04-03T13:50:06.129Z"
   },
   {
    "duration": 24,
    "start_time": "2022-04-03T13:50:06.171Z"
   },
   {
    "duration": 68,
    "start_time": "2022-04-03T13:50:06.199Z"
   },
   {
    "duration": 25,
    "start_time": "2022-04-03T13:50:06.270Z"
   },
   {
    "duration": 25,
    "start_time": "2022-04-03T13:50:06.297Z"
   },
   {
    "duration": 68,
    "start_time": "2022-04-03T13:50:06.324Z"
   },
   {
    "duration": 175,
    "start_time": "2022-04-03T13:50:06.394Z"
   },
   {
    "duration": 29,
    "start_time": "2022-04-03T13:50:06.571Z"
   },
   {
    "duration": 22,
    "start_time": "2022-04-03T13:50:06.605Z"
   },
   {
    "duration": 64,
    "start_time": "2022-04-03T13:50:06.630Z"
   },
   {
    "duration": 26,
    "start_time": "2022-04-03T13:50:06.697Z"
   },
   {
    "duration": 55,
    "start_time": "2022-04-03T13:50:06.725Z"
   },
   {
    "duration": 33,
    "start_time": "2022-04-03T13:50:06.783Z"
   },
   {
    "duration": 126,
    "start_time": "2022-04-03T13:50:06.819Z"
   },
   {
    "duration": 28,
    "start_time": "2022-04-03T13:50:06.948Z"
   },
   {
    "duration": 16,
    "start_time": "2022-04-03T13:50:06.978Z"
   },
   {
    "duration": 28,
    "start_time": "2022-04-03T13:50:06.997Z"
   },
   {
    "duration": 47,
    "start_time": "2022-04-03T13:50:07.027Z"
   },
   {
    "duration": 28,
    "start_time": "2022-04-03T13:50:07.076Z"
   },
   {
    "duration": 18,
    "start_time": "2022-04-03T13:50:07.107Z"
   },
   {
    "duration": 42,
    "start_time": "2022-04-03T13:50:07.127Z"
   },
   {
    "duration": 13,
    "start_time": "2022-04-03T13:50:07.170Z"
   },
   {
    "duration": 37,
    "start_time": "2022-04-03T13:50:07.185Z"
   },
   {
    "duration": 15,
    "start_time": "2022-04-03T13:50:07.224Z"
   },
   {
    "duration": 8,
    "start_time": "2022-04-03T13:50:07.242Z"
   },
   {
    "duration": 8,
    "start_time": "2022-04-03T13:50:07.267Z"
   },
   {
    "duration": 16,
    "start_time": "2022-04-03T13:50:07.280Z"
   },
   {
    "duration": 6,
    "start_time": "2022-04-03T13:50:07.298Z"
   },
   {
    "duration": 87,
    "start_time": "2022-04-03T13:50:07.306Z"
   },
   {
    "duration": 47,
    "start_time": "2022-04-03T13:50:07.395Z"
   },
   {
    "duration": 35,
    "start_time": "2022-04-03T13:50:07.444Z"
   },
   {
    "duration": 30,
    "start_time": "2022-04-03T13:50:07.481Z"
   },
   {
    "duration": 15,
    "start_time": "2022-04-03T13:50:07.513Z"
   },
   {
    "duration": 39,
    "start_time": "2022-04-03T13:50:07.530Z"
   },
   {
    "duration": 37,
    "start_time": "2022-04-03T13:50:07.571Z"
   },
   {
    "duration": 19,
    "start_time": "2022-04-03T13:50:07.611Z"
   },
   {
    "duration": 55,
    "start_time": "2022-04-03T13:50:07.632Z"
   },
   {
    "duration": 15,
    "start_time": "2022-04-03T13:50:07.689Z"
   },
   {
    "duration": 7,
    "start_time": "2022-04-03T13:50:07.707Z"
   },
   {
    "duration": 8,
    "start_time": "2022-04-03T13:50:07.716Z"
   },
   {
    "duration": 54,
    "start_time": "2022-04-03T13:50:07.726Z"
   },
   {
    "duration": 23,
    "start_time": "2022-04-03T13:50:07.782Z"
   },
   {
    "duration": 22,
    "start_time": "2022-04-03T13:50:07.807Z"
   },
   {
    "duration": 68,
    "start_time": "2022-04-03T13:50:07.831Z"
   },
   {
    "duration": 47,
    "start_time": "2022-04-03T13:50:07.901Z"
   },
   {
    "duration": 19,
    "start_time": "2022-04-03T13:50:07.967Z"
   },
   {
    "duration": 42,
    "start_time": "2022-04-03T13:50:07.989Z"
   },
   {
    "duration": 37,
    "start_time": "2022-04-03T13:50:08.033Z"
   },
   {
    "duration": 9,
    "start_time": "2022-04-03T13:50:08.073Z"
   },
   {
    "duration": 4,
    "start_time": "2022-04-03T13:50:08.084Z"
   },
   {
    "duration": 41,
    "start_time": "2022-04-03T13:50:08.090Z"
   },
   {
    "duration": 124,
    "start_time": "2022-04-03T13:50:08.132Z"
   },
   {
    "duration": 1,
    "start_time": "2022-04-03T13:50:08.258Z"
   },
   {
    "duration": 0,
    "start_time": "2022-04-03T13:50:08.260Z"
   },
   {
    "duration": 63,
    "start_time": "2022-04-03T13:50:22.486Z"
   },
   {
    "duration": 45,
    "start_time": "2022-04-03T13:50:37.895Z"
   },
   {
    "duration": 54,
    "start_time": "2022-04-03T13:50:46.396Z"
   },
   {
    "duration": 128,
    "start_time": "2022-04-03T14:12:14.298Z"
   },
   {
    "duration": 127,
    "start_time": "2022-04-03T14:12:27.243Z"
   },
   {
    "duration": 121,
    "start_time": "2022-04-03T14:12:51.635Z"
   },
   {
    "duration": 228,
    "start_time": "2022-04-03T14:13:20.817Z"
   },
   {
    "duration": 43,
    "start_time": "2022-04-03T14:13:21.048Z"
   },
   {
    "duration": 25,
    "start_time": "2022-04-03T14:13:21.093Z"
   },
   {
    "duration": 69,
    "start_time": "2022-04-03T14:13:21.121Z"
   },
   {
    "duration": 26,
    "start_time": "2022-04-03T14:13:21.192Z"
   },
   {
    "duration": 53,
    "start_time": "2022-04-03T14:13:21.220Z"
   },
   {
    "duration": 38,
    "start_time": "2022-04-03T14:13:21.275Z"
   },
   {
    "duration": 190,
    "start_time": "2022-04-03T14:13:21.315Z"
   },
   {
    "duration": 28,
    "start_time": "2022-04-03T14:13:21.508Z"
   },
   {
    "duration": 41,
    "start_time": "2022-04-03T14:13:21.540Z"
   },
   {
    "duration": 34,
    "start_time": "2022-04-03T14:13:21.583Z"
   },
   {
    "duration": 62,
    "start_time": "2022-04-03T14:13:21.620Z"
   },
   {
    "duration": 25,
    "start_time": "2022-04-03T14:13:21.686Z"
   },
   {
    "duration": 59,
    "start_time": "2022-04-03T14:13:21.713Z"
   },
   {
    "duration": 110,
    "start_time": "2022-04-03T14:13:21.774Z"
   },
   {
    "duration": 25,
    "start_time": "2022-04-03T14:13:21.887Z"
   },
   {
    "duration": 19,
    "start_time": "2022-04-03T14:13:21.914Z"
   },
   {
    "duration": 55,
    "start_time": "2022-04-03T14:13:21.935Z"
   },
   {
    "duration": 20,
    "start_time": "2022-04-03T14:13:21.993Z"
   },
   {
    "duration": 27,
    "start_time": "2022-04-03T14:13:22.015Z"
   },
   {
    "duration": 35,
    "start_time": "2022-04-03T14:13:22.044Z"
   },
   {
    "duration": 20,
    "start_time": "2022-04-03T14:13:22.083Z"
   },
   {
    "duration": 8,
    "start_time": "2022-04-03T14:13:22.107Z"
   },
   {
    "duration": 70,
    "start_time": "2022-04-03T14:13:22.119Z"
   },
   {
    "duration": 22,
    "start_time": "2022-04-03T14:13:22.192Z"
   },
   {
    "duration": 11,
    "start_time": "2022-04-03T14:13:22.216Z"
   },
   {
    "duration": 39,
    "start_time": "2022-04-03T14:13:22.229Z"
   },
   {
    "duration": 22,
    "start_time": "2022-04-03T14:13:22.279Z"
   },
   {
    "duration": 6,
    "start_time": "2022-04-03T14:13:22.304Z"
   },
   {
    "duration": 111,
    "start_time": "2022-04-03T14:13:22.313Z"
   },
   {
    "duration": 88,
    "start_time": "2022-04-03T14:13:22.428Z"
   },
   {
    "duration": 22,
    "start_time": "2022-04-03T14:13:22.519Z"
   },
   {
    "duration": 63,
    "start_time": "2022-04-03T14:13:22.544Z"
   },
   {
    "duration": 22,
    "start_time": "2022-04-03T14:13:22.611Z"
   },
   {
    "duration": 5,
    "start_time": "2022-04-03T14:13:22.635Z"
   },
   {
    "duration": 60,
    "start_time": "2022-04-03T14:13:22.642Z"
   },
   {
    "duration": 23,
    "start_time": "2022-04-03T14:13:22.705Z"
   },
   {
    "duration": 63,
    "start_time": "2022-04-03T14:13:22.731Z"
   },
   {
    "duration": 15,
    "start_time": "2022-04-03T14:13:22.797Z"
   },
   {
    "duration": 9,
    "start_time": "2022-04-03T14:13:22.815Z"
   },
   {
    "duration": 44,
    "start_time": "2022-04-03T14:13:22.826Z"
   },
   {
    "duration": 18,
    "start_time": "2022-04-03T14:13:22.873Z"
   },
   {
    "duration": 27,
    "start_time": "2022-04-03T14:13:22.894Z"
   },
   {
    "duration": 54,
    "start_time": "2022-04-03T14:13:22.923Z"
   },
   {
    "duration": 38,
    "start_time": "2022-04-03T14:13:22.979Z"
   },
   {
    "duration": 74,
    "start_time": "2022-04-03T14:13:23.020Z"
   },
   {
    "duration": 19,
    "start_time": "2022-04-03T14:13:23.096Z"
   },
   {
    "duration": 71,
    "start_time": "2022-04-03T14:13:23.118Z"
   },
   {
    "duration": 11,
    "start_time": "2022-04-03T14:13:23.191Z"
   },
   {
    "duration": 10,
    "start_time": "2022-04-03T14:13:23.204Z"
   },
   {
    "duration": 125,
    "start_time": "2022-04-03T14:13:23.217Z"
   },
   {
    "duration": 0,
    "start_time": "2022-04-03T14:13:23.344Z"
   },
   {
    "duration": 0,
    "start_time": "2022-04-03T14:13:23.346Z"
   },
   {
    "duration": 0,
    "start_time": "2022-04-03T14:13:23.349Z"
   },
   {
    "duration": 0,
    "start_time": "2022-04-03T14:13:23.351Z"
   },
   {
    "duration": 7,
    "start_time": "2022-04-03T14:13:56.622Z"
   },
   {
    "duration": 506,
    "start_time": "2022-04-03T14:14:03.992Z"
   },
   {
    "duration": 5,
    "start_time": "2022-04-03T14:14:56.954Z"
   },
   {
    "duration": 628,
    "start_time": "2022-04-03T14:14:59.249Z"
   },
   {
    "duration": 14,
    "start_time": "2022-04-03T14:15:29.070Z"
   },
   {
    "duration": 631,
    "start_time": "2022-04-03T14:15:31.912Z"
   },
   {
    "duration": 6,
    "start_time": "2022-04-03T14:18:27.767Z"
   },
   {
    "duration": 1975,
    "start_time": "2022-04-03T14:18:52.435Z"
   },
   {
    "duration": 471,
    "start_time": "2022-04-03T14:19:11.873Z"
   },
   {
    "duration": 6,
    "start_time": "2022-04-03T14:19:56.398Z"
   },
   {
    "duration": 575,
    "start_time": "2022-04-03T14:19:58.646Z"
   },
   {
    "duration": 6,
    "start_time": "2022-04-03T14:20:20.272Z"
   },
   {
    "duration": 485,
    "start_time": "2022-04-03T14:20:22.156Z"
   },
   {
    "duration": 5,
    "start_time": "2022-04-03T14:22:24.857Z"
   },
   {
    "duration": 776,
    "start_time": "2022-04-03T14:22:27.302Z"
   },
   {
    "duration": 5,
    "start_time": "2022-04-03T14:33:04.203Z"
   },
   {
    "duration": 16,
    "start_time": "2022-04-03T14:33:06.592Z"
   },
   {
    "duration": 5,
    "start_time": "2022-04-03T14:37:07.677Z"
   },
   {
    "duration": 55,
    "start_time": "2022-04-03T14:37:09.505Z"
   },
   {
    "duration": 14,
    "start_time": "2022-04-03T14:52:04.277Z"
   },
   {
    "duration": 49,
    "start_time": "2022-04-03T14:57:57.538Z"
   },
   {
    "duration": 4,
    "start_time": "2022-04-03T14:59:54.881Z"
   },
   {
    "duration": 266,
    "start_time": "2022-04-03T14:59:59.963Z"
   },
   {
    "duration": 4,
    "start_time": "2022-04-03T15:00:46.519Z"
   },
   {
    "duration": 1109,
    "start_time": "2022-04-03T15:00:49.101Z"
   },
   {
    "duration": 330,
    "start_time": "2022-04-03T15:01:09.539Z"
   },
   {
    "duration": 52,
    "start_time": "2022-04-03T15:01:09.872Z"
   },
   {
    "duration": 49,
    "start_time": "2022-04-03T15:01:09.926Z"
   },
   {
    "duration": 46,
    "start_time": "2022-04-03T15:01:09.977Z"
   },
   {
    "duration": 49,
    "start_time": "2022-04-03T15:01:10.025Z"
   },
   {
    "duration": 26,
    "start_time": "2022-04-03T15:01:10.077Z"
   },
   {
    "duration": 68,
    "start_time": "2022-04-03T15:01:10.105Z"
   },
   {
    "duration": 176,
    "start_time": "2022-04-03T15:01:10.175Z"
   },
   {
    "duration": 61,
    "start_time": "2022-04-03T15:01:10.354Z"
   },
   {
    "duration": 39,
    "start_time": "2022-04-03T15:01:10.419Z"
   },
   {
    "duration": 60,
    "start_time": "2022-04-03T15:01:10.460Z"
   },
   {
    "duration": 54,
    "start_time": "2022-04-03T15:01:10.524Z"
   },
   {
    "duration": 35,
    "start_time": "2022-04-03T15:01:10.581Z"
   },
   {
    "duration": 73,
    "start_time": "2022-04-03T15:01:10.618Z"
   },
   {
    "duration": 119,
    "start_time": "2022-04-03T15:01:10.693Z"
   },
   {
    "duration": 26,
    "start_time": "2022-04-03T15:01:10.814Z"
   },
   {
    "duration": 39,
    "start_time": "2022-04-03T15:01:10.843Z"
   },
   {
    "duration": 31,
    "start_time": "2022-04-03T15:01:10.886Z"
   },
   {
    "duration": 20,
    "start_time": "2022-04-03T15:01:10.919Z"
   },
   {
    "duration": 29,
    "start_time": "2022-04-03T15:01:10.972Z"
   },
   {
    "duration": 19,
    "start_time": "2022-04-03T15:01:11.003Z"
   },
   {
    "duration": 14,
    "start_time": "2022-04-03T15:01:11.025Z"
   },
   {
    "duration": 8,
    "start_time": "2022-04-03T15:01:11.067Z"
   },
   {
    "duration": 33,
    "start_time": "2022-04-03T15:01:11.078Z"
   },
   {
    "duration": 15,
    "start_time": "2022-04-03T15:01:11.114Z"
   },
   {
    "duration": 38,
    "start_time": "2022-04-03T15:01:11.132Z"
   },
   {
    "duration": 13,
    "start_time": "2022-04-03T15:01:11.173Z"
   },
   {
    "duration": 24,
    "start_time": "2022-04-03T15:01:11.197Z"
   },
   {
    "duration": 10,
    "start_time": "2022-04-03T15:01:11.224Z"
   },
   {
    "duration": 84,
    "start_time": "2022-04-03T15:01:11.269Z"
   },
   {
    "duration": 49,
    "start_time": "2022-04-03T15:01:11.369Z"
   },
   {
    "duration": 16,
    "start_time": "2022-04-03T15:01:11.420Z"
   },
   {
    "duration": 49,
    "start_time": "2022-04-03T15:01:11.467Z"
   },
   {
    "duration": 16,
    "start_time": "2022-04-03T15:01:11.518Z"
   },
   {
    "duration": 6,
    "start_time": "2022-04-03T15:01:11.569Z"
   },
   {
    "duration": 56,
    "start_time": "2022-04-03T15:01:11.578Z"
   },
   {
    "duration": 54,
    "start_time": "2022-04-03T15:01:11.637Z"
   },
   {
    "duration": 50,
    "start_time": "2022-04-03T15:01:11.694Z"
   },
   {
    "duration": 23,
    "start_time": "2022-04-03T15:01:11.767Z"
   },
   {
    "duration": 12,
    "start_time": "2022-04-03T15:01:11.793Z"
   },
   {
    "duration": 11,
    "start_time": "2022-04-03T15:01:11.808Z"
   },
   {
    "duration": 65,
    "start_time": "2022-04-03T15:01:11.822Z"
   },
   {
    "duration": 26,
    "start_time": "2022-04-03T15:01:11.889Z"
   },
   {
    "duration": 56,
    "start_time": "2022-04-03T15:01:11.917Z"
   },
   {
    "duration": 39,
    "start_time": "2022-04-03T15:01:11.975Z"
   },
   {
    "duration": 80,
    "start_time": "2022-04-03T15:01:12.016Z"
   },
   {
    "duration": 20,
    "start_time": "2022-04-03T15:01:12.099Z"
   },
   {
    "duration": 74,
    "start_time": "2022-04-03T15:01:12.121Z"
   },
   {
    "duration": 12,
    "start_time": "2022-04-03T15:01:12.197Z"
   },
   {
    "duration": 14,
    "start_time": "2022-04-03T15:01:12.212Z"
   },
   {
    "duration": 73,
    "start_time": "2022-04-03T15:01:12.229Z"
   },
   {
    "duration": 5,
    "start_time": "2022-04-03T15:01:12.305Z"
   },
   {
    "duration": 4774,
    "start_time": "2022-04-03T15:01:12.313Z"
   },
   {
    "duration": 0,
    "start_time": "2022-04-03T15:01:17.089Z"
   },
   {
    "duration": 0,
    "start_time": "2022-04-03T15:01:17.090Z"
   },
   {
    "duration": 0,
    "start_time": "2022-04-03T15:01:17.092Z"
   },
   {
    "duration": 0,
    "start_time": "2022-04-03T15:01:17.093Z"
   },
   {
    "duration": 4,
    "start_time": "2022-04-03T15:02:05.165Z"
   },
   {
    "duration": 2691,
    "start_time": "2022-04-03T15:02:08.023Z"
   },
   {
    "duration": 216,
    "start_time": "2022-04-03T15:02:33.143Z"
   },
   {
    "duration": 37,
    "start_time": "2022-04-03T15:02:33.361Z"
   },
   {
    "duration": 26,
    "start_time": "2022-04-03T15:02:33.400Z"
   },
   {
    "duration": 69,
    "start_time": "2022-04-03T15:02:33.429Z"
   },
   {
    "duration": 26,
    "start_time": "2022-04-03T15:02:33.500Z"
   },
   {
    "duration": 51,
    "start_time": "2022-04-03T15:02:33.528Z"
   },
   {
    "duration": 40,
    "start_time": "2022-04-03T15:02:33.581Z"
   },
   {
    "duration": 175,
    "start_time": "2022-04-03T15:02:33.623Z"
   },
   {
    "duration": 29,
    "start_time": "2022-04-03T15:02:33.801Z"
   },
   {
    "duration": 42,
    "start_time": "2022-04-03T15:02:33.834Z"
   },
   {
    "duration": 35,
    "start_time": "2022-04-03T15:02:33.878Z"
   },
   {
    "duration": 23,
    "start_time": "2022-04-03T15:02:33.915Z"
   },
   {
    "duration": 25,
    "start_time": "2022-04-03T15:02:33.966Z"
   },
   {
    "duration": 33,
    "start_time": "2022-04-03T15:02:33.993Z"
   },
   {
    "duration": 129,
    "start_time": "2022-04-03T15:02:34.029Z"
   },
   {
    "duration": 26,
    "start_time": "2022-04-03T15:02:34.168Z"
   },
   {
    "duration": 18,
    "start_time": "2022-04-03T15:02:34.196Z"
   },
   {
    "duration": 58,
    "start_time": "2022-04-03T15:02:34.217Z"
   },
   {
    "duration": 19,
    "start_time": "2022-04-03T15:02:34.277Z"
   },
   {
    "duration": 28,
    "start_time": "2022-04-03T15:02:34.298Z"
   },
   {
    "duration": 43,
    "start_time": "2022-04-03T15:02:34.328Z"
   },
   {
    "duration": 14,
    "start_time": "2022-04-03T15:02:34.373Z"
   },
   {
    "duration": 8,
    "start_time": "2022-04-03T15:02:34.390Z"
   },
   {
    "duration": 32,
    "start_time": "2022-04-03T15:02:34.400Z"
   },
   {
    "duration": 41,
    "start_time": "2022-04-03T15:02:34.435Z"
   },
   {
    "duration": 8,
    "start_time": "2022-04-03T15:02:34.478Z"
   },
   {
    "duration": 9,
    "start_time": "2022-04-03T15:02:34.488Z"
   },
   {
    "duration": 15,
    "start_time": "2022-04-03T15:02:34.503Z"
   },
   {
    "duration": 46,
    "start_time": "2022-04-03T15:02:34.521Z"
   },
   {
    "duration": 53,
    "start_time": "2022-04-03T15:02:34.570Z"
   },
   {
    "duration": 69,
    "start_time": "2022-04-03T15:02:34.625Z"
   },
   {
    "duration": 15,
    "start_time": "2022-04-03T15:02:34.696Z"
   },
   {
    "duration": 30,
    "start_time": "2022-04-03T15:02:34.713Z"
   },
   {
    "duration": 18,
    "start_time": "2022-04-03T15:02:34.768Z"
   },
   {
    "duration": 5,
    "start_time": "2022-04-03T15:02:34.789Z"
   },
   {
    "duration": 72,
    "start_time": "2022-04-03T15:02:34.797Z"
   },
   {
    "duration": 21,
    "start_time": "2022-04-03T15:02:34.872Z"
   },
   {
    "duration": 34,
    "start_time": "2022-04-03T15:02:34.895Z"
   },
   {
    "duration": 50,
    "start_time": "2022-04-03T15:02:34.932Z"
   },
   {
    "duration": 10,
    "start_time": "2022-04-03T15:02:34.985Z"
   },
   {
    "duration": 8,
    "start_time": "2022-04-03T15:02:34.997Z"
   },
   {
    "duration": 21,
    "start_time": "2022-04-03T15:02:35.008Z"
   },
   {
    "duration": 56,
    "start_time": "2022-04-03T15:02:35.032Z"
   },
   {
    "duration": 22,
    "start_time": "2022-04-03T15:02:35.090Z"
   },
   {
    "duration": 70,
    "start_time": "2022-04-03T15:02:35.114Z"
   },
   {
    "duration": 49,
    "start_time": "2022-04-03T15:02:35.187Z"
   },
   {
    "duration": 40,
    "start_time": "2022-04-03T15:02:35.238Z"
   },
   {
    "duration": 47,
    "start_time": "2022-04-03T15:02:35.281Z"
   },
   {
    "duration": 38,
    "start_time": "2022-04-03T15:02:35.330Z"
   },
   {
    "duration": 13,
    "start_time": "2022-04-03T15:02:35.371Z"
   },
   {
    "duration": 49,
    "start_time": "2022-04-03T15:02:35.386Z"
   },
   {
    "duration": 5,
    "start_time": "2022-04-03T15:02:35.437Z"
   },
   {
    "duration": 2930,
    "start_time": "2022-04-03T15:02:35.444Z"
   },
   {
    "duration": 0,
    "start_time": "2022-04-03T15:02:38.376Z"
   },
   {
    "duration": 0,
    "start_time": "2022-04-03T15:02:38.378Z"
   },
   {
    "duration": 0,
    "start_time": "2022-04-03T15:02:38.379Z"
   },
   {
    "duration": 0,
    "start_time": "2022-04-03T15:02:38.380Z"
   },
   {
    "duration": 4,
    "start_time": "2022-04-03T15:03:05.565Z"
   },
   {
    "duration": 4,
    "start_time": "2022-04-03T15:03:16.648Z"
   },
   {
    "duration": 53,
    "start_time": "2022-04-03T15:03:19.159Z"
   },
   {
    "duration": 222,
    "start_time": "2022-04-03T15:03:37.893Z"
   },
   {
    "duration": 55,
    "start_time": "2022-04-03T15:03:38.118Z"
   },
   {
    "duration": 25,
    "start_time": "2022-04-03T15:03:38.175Z"
   },
   {
    "duration": 67,
    "start_time": "2022-04-03T15:03:38.203Z"
   },
   {
    "duration": 24,
    "start_time": "2022-04-03T15:03:38.272Z"
   },
   {
    "duration": 24,
    "start_time": "2022-04-03T15:03:38.298Z"
   },
   {
    "duration": 66,
    "start_time": "2022-04-03T15:03:38.325Z"
   },
   {
    "duration": 992,
    "start_time": "2022-04-03T15:03:38.394Z"
   },
   {
    "duration": 32,
    "start_time": "2022-04-03T15:03:39.389Z"
   },
   {
    "duration": 45,
    "start_time": "2022-04-03T15:03:39.427Z"
   },
   {
    "duration": 36,
    "start_time": "2022-04-03T15:03:39.474Z"
   },
   {
    "duration": 25,
    "start_time": "2022-04-03T15:03:39.512Z"
   },
   {
    "duration": 25,
    "start_time": "2022-04-03T15:03:39.568Z"
   },
   {
    "duration": 35,
    "start_time": "2022-04-03T15:03:39.596Z"
   },
   {
    "duration": 138,
    "start_time": "2022-04-03T15:03:39.634Z"
   },
   {
    "duration": 25,
    "start_time": "2022-04-03T15:03:39.775Z"
   },
   {
    "duration": 17,
    "start_time": "2022-04-03T15:03:39.803Z"
   },
   {
    "duration": 58,
    "start_time": "2022-04-03T15:03:39.822Z"
   },
   {
    "duration": 23,
    "start_time": "2022-04-03T15:03:39.883Z"
   },
   {
    "duration": 37,
    "start_time": "2022-04-03T15:03:39.909Z"
   },
   {
    "duration": 19,
    "start_time": "2022-04-03T15:03:39.968Z"
   },
   {
    "duration": 15,
    "start_time": "2022-04-03T15:03:39.990Z"
   },
   {
    "duration": 15,
    "start_time": "2022-04-03T15:03:40.007Z"
   },
   {
    "duration": 52,
    "start_time": "2022-04-03T15:03:40.024Z"
   },
   {
    "duration": 15,
    "start_time": "2022-04-03T15:03:40.078Z"
   },
   {
    "duration": 15,
    "start_time": "2022-04-03T15:03:40.095Z"
   },
   {
    "duration": 12,
    "start_time": "2022-04-03T15:03:40.112Z"
   },
   {
    "duration": 39,
    "start_time": "2022-04-03T15:03:40.130Z"
   },
   {
    "duration": 5,
    "start_time": "2022-04-03T15:03:40.172Z"
   },
   {
    "duration": 63,
    "start_time": "2022-04-03T15:03:40.179Z"
   },
   {
    "duration": 69,
    "start_time": "2022-04-03T15:03:40.244Z"
   },
   {
    "duration": 15,
    "start_time": "2022-04-03T15:03:40.316Z"
   },
   {
    "duration": 62,
    "start_time": "2022-04-03T15:03:40.333Z"
   },
   {
    "duration": 16,
    "start_time": "2022-04-03T15:03:40.398Z"
   },
   {
    "duration": 21,
    "start_time": "2022-04-03T15:03:40.416Z"
   },
   {
    "duration": 54,
    "start_time": "2022-04-03T15:03:40.440Z"
   },
   {
    "duration": 25,
    "start_time": "2022-04-03T15:03:40.496Z"
   },
   {
    "duration": 61,
    "start_time": "2022-04-03T15:03:40.523Z"
   },
   {
    "duration": 16,
    "start_time": "2022-04-03T15:03:40.587Z"
   },
   {
    "duration": 12,
    "start_time": "2022-04-03T15:03:40.605Z"
   },
   {
    "duration": 8,
    "start_time": "2022-04-03T15:03:40.620Z"
   },
   {
    "duration": 58,
    "start_time": "2022-04-03T15:03:40.631Z"
   },
   {
    "duration": 46,
    "start_time": "2022-04-03T15:03:40.692Z"
   },
   {
    "duration": 26,
    "start_time": "2022-04-03T15:03:40.741Z"
   },
   {
    "duration": 41,
    "start_time": "2022-04-03T15:03:40.770Z"
   },
   {
    "duration": 76,
    "start_time": "2022-04-03T15:03:40.813Z"
   },
   {
    "duration": 22,
    "start_time": "2022-04-03T15:03:40.891Z"
   },
   {
    "duration": 72,
    "start_time": "2022-04-03T15:03:40.915Z"
   },
   {
    "duration": 12,
    "start_time": "2022-04-03T15:03:40.989Z"
   },
   {
    "duration": 17,
    "start_time": "2022-04-03T15:03:41.004Z"
   },
   {
    "duration": 76,
    "start_time": "2022-04-03T15:03:41.023Z"
   },
   {
    "duration": 5,
    "start_time": "2022-04-03T15:03:41.101Z"
   },
   {
    "duration": 77,
    "start_time": "2022-04-03T15:03:41.108Z"
   },
   {
    "duration": 11,
    "start_time": "2022-04-03T15:03:41.188Z"
   },
   {
    "duration": 0,
    "start_time": "2022-04-03T15:03:41.203Z"
   },
   {
    "duration": 0,
    "start_time": "2022-04-03T15:03:41.204Z"
   },
   {
    "duration": 0,
    "start_time": "2022-04-03T15:03:41.207Z"
   },
   {
    "duration": 4,
    "start_time": "2022-04-03T15:04:30.031Z"
   },
   {
    "duration": 53,
    "start_time": "2022-04-03T15:04:33.390Z"
   },
   {
    "duration": 209,
    "start_time": "2022-04-03T15:05:28.731Z"
   },
   {
    "duration": 48,
    "start_time": "2022-04-03T15:05:28.943Z"
   },
   {
    "duration": 27,
    "start_time": "2022-04-03T15:05:28.993Z"
   },
   {
    "duration": 69,
    "start_time": "2022-04-03T15:05:29.023Z"
   },
   {
    "duration": 26,
    "start_time": "2022-04-03T15:05:29.095Z"
   },
   {
    "duration": 48,
    "start_time": "2022-04-03T15:05:29.123Z"
   },
   {
    "duration": 39,
    "start_time": "2022-04-03T15:05:29.174Z"
   },
   {
    "duration": 166,
    "start_time": "2022-04-03T15:05:29.215Z"
   },
   {
    "duration": 28,
    "start_time": "2022-04-03T15:05:29.384Z"
   },
   {
    "duration": 19,
    "start_time": "2022-04-03T15:05:29.416Z"
   },
   {
    "duration": 61,
    "start_time": "2022-04-03T15:05:29.437Z"
   },
   {
    "duration": 21,
    "start_time": "2022-04-03T15:05:29.501Z"
   },
   {
    "duration": 49,
    "start_time": "2022-04-03T15:05:29.524Z"
   },
   {
    "duration": 33,
    "start_time": "2022-04-03T15:05:29.575Z"
   },
   {
    "duration": 111,
    "start_time": "2022-04-03T15:05:29.610Z"
   },
   {
    "duration": 25,
    "start_time": "2022-04-03T15:05:29.724Z"
   },
   {
    "duration": 30,
    "start_time": "2022-04-03T15:05:29.751Z"
   },
   {
    "duration": 29,
    "start_time": "2022-04-03T15:05:29.783Z"
   },
   {
    "duration": 19,
    "start_time": "2022-04-03T15:05:29.814Z"
   },
   {
    "duration": 55,
    "start_time": "2022-04-03T15:05:29.835Z"
   },
   {
    "duration": 19,
    "start_time": "2022-04-03T15:05:29.892Z"
   },
   {
    "duration": 14,
    "start_time": "2022-04-03T15:05:29.913Z"
   },
   {
    "duration": 7,
    "start_time": "2022-04-03T15:05:29.929Z"
   },
   {
    "duration": 42,
    "start_time": "2022-04-03T15:05:29.968Z"
   },
   {
    "duration": 16,
    "start_time": "2022-04-03T15:05:30.013Z"
   },
   {
    "duration": 12,
    "start_time": "2022-04-03T15:05:30.032Z"
   },
   {
    "duration": 22,
    "start_time": "2022-04-03T15:05:30.047Z"
   },
   {
    "duration": 17,
    "start_time": "2022-04-03T15:05:30.075Z"
   },
   {
    "duration": 10,
    "start_time": "2022-04-03T15:05:30.094Z"
   },
   {
    "duration": 80,
    "start_time": "2022-04-03T15:05:30.106Z"
   },
   {
    "duration": 49,
    "start_time": "2022-04-03T15:05:30.188Z"
   },
   {
    "duration": 38,
    "start_time": "2022-04-03T15:05:30.239Z"
   },
   {
    "duration": 46,
    "start_time": "2022-04-03T15:05:30.279Z"
   },
   {
    "duration": 16,
    "start_time": "2022-04-03T15:05:30.328Z"
   },
   {
    "duration": 22,
    "start_time": "2022-04-03T15:05:30.346Z"
   },
   {
    "duration": 62,
    "start_time": "2022-04-03T15:05:30.370Z"
   },
   {
    "duration": 22,
    "start_time": "2022-04-03T15:05:30.434Z"
   },
   {
    "duration": 43,
    "start_time": "2022-04-03T15:05:30.458Z"
   },
   {
    "duration": 16,
    "start_time": "2022-04-03T15:05:30.503Z"
   },
   {
    "duration": 22,
    "start_time": "2022-04-03T15:05:30.522Z"
   },
   {
    "duration": 23,
    "start_time": "2022-04-03T15:05:30.547Z"
   },
   {
    "duration": 36,
    "start_time": "2022-04-03T15:05:30.572Z"
   },
   {
    "duration": 26,
    "start_time": "2022-04-03T15:05:30.610Z"
   },
   {
    "duration": 39,
    "start_time": "2022-04-03T15:05:30.639Z"
   },
   {
    "duration": 40,
    "start_time": "2022-04-03T15:05:30.680Z"
   },
   {
    "duration": 72,
    "start_time": "2022-04-03T15:05:30.722Z"
   },
   {
    "duration": 20,
    "start_time": "2022-04-03T15:05:30.796Z"
   },
   {
    "duration": 67,
    "start_time": "2022-04-03T15:05:30.818Z"
   },
   {
    "duration": 10,
    "start_time": "2022-04-03T15:05:30.887Z"
   },
   {
    "duration": 13,
    "start_time": "2022-04-03T15:05:30.899Z"
   },
   {
    "duration": 71,
    "start_time": "2022-04-03T15:05:30.914Z"
   },
   {
    "duration": 4,
    "start_time": "2022-04-03T15:05:30.987Z"
   },
   {
    "duration": 60,
    "start_time": "2022-04-03T15:05:30.993Z"
   },
   {
    "duration": 10,
    "start_time": "2022-04-03T15:05:31.067Z"
   },
   {
    "duration": 0,
    "start_time": "2022-04-03T15:05:31.079Z"
   },
   {
    "duration": 0,
    "start_time": "2022-04-03T15:05:31.081Z"
   },
   {
    "duration": 0,
    "start_time": "2022-04-03T15:05:31.084Z"
   },
   {
    "duration": 5,
    "start_time": "2022-04-03T15:05:34.768Z"
   },
   {
    "duration": 5,
    "start_time": "2022-04-03T15:06:00.992Z"
   },
   {
    "duration": 58,
    "start_time": "2022-04-03T15:06:03.457Z"
   },
   {
    "duration": 168,
    "start_time": "2022-04-03T15:06:54.261Z"
   },
   {
    "duration": 4,
    "start_time": "2022-04-03T15:07:08.249Z"
   },
   {
    "duration": 979,
    "start_time": "2022-04-03T15:07:10.749Z"
   },
   {
    "duration": 4,
    "start_time": "2022-04-03T15:08:13.416Z"
   },
   {
    "duration": 2573,
    "start_time": "2022-04-03T15:08:16.157Z"
   },
   {
    "duration": 203,
    "start_time": "2022-04-03T15:10:18.936Z"
   },
   {
    "duration": 45,
    "start_time": "2022-04-03T15:10:19.141Z"
   },
   {
    "duration": 26,
    "start_time": "2022-04-03T15:10:19.188Z"
   },
   {
    "duration": 67,
    "start_time": "2022-04-03T15:10:19.217Z"
   },
   {
    "duration": 26,
    "start_time": "2022-04-03T15:10:19.286Z"
   },
   {
    "duration": 26,
    "start_time": "2022-04-03T15:10:19.314Z"
   },
   {
    "duration": 62,
    "start_time": "2022-04-03T15:10:19.342Z"
   },
   {
    "duration": 163,
    "start_time": "2022-04-03T15:10:19.406Z"
   },
   {
    "duration": 28,
    "start_time": "2022-04-03T15:10:19.571Z"
   },
   {
    "duration": 21,
    "start_time": "2022-04-03T15:10:19.603Z"
   },
   {
    "duration": 70,
    "start_time": "2022-04-03T15:10:19.626Z"
   },
   {
    "duration": 23,
    "start_time": "2022-04-03T15:10:19.698Z"
   },
   {
    "duration": 52,
    "start_time": "2022-04-03T15:10:19.724Z"
   },
   {
    "duration": 33,
    "start_time": "2022-04-03T15:10:19.778Z"
   },
   {
    "duration": 117,
    "start_time": "2022-04-03T15:10:19.813Z"
   },
   {
    "duration": 36,
    "start_time": "2022-04-03T15:10:19.933Z"
   },
   {
    "duration": 17,
    "start_time": "2022-04-03T15:10:19.972Z"
   },
   {
    "duration": 28,
    "start_time": "2022-04-03T15:10:19.991Z"
   },
   {
    "duration": 55,
    "start_time": "2022-04-03T15:10:20.022Z"
   },
   {
    "duration": 30,
    "start_time": "2022-04-03T15:10:20.080Z"
   },
   {
    "duration": 24,
    "start_time": "2022-04-03T15:10:20.113Z"
   },
   {
    "duration": 16,
    "start_time": "2022-04-03T15:10:20.168Z"
   },
   {
    "duration": 9,
    "start_time": "2022-04-03T15:10:20.186Z"
   },
   {
    "duration": 38,
    "start_time": "2022-04-03T15:10:20.198Z"
   },
   {
    "duration": 30,
    "start_time": "2022-04-03T15:10:20.238Z"
   },
   {
    "duration": 10,
    "start_time": "2022-04-03T15:10:20.271Z"
   },
   {
    "duration": 10,
    "start_time": "2022-04-03T15:10:20.284Z"
   },
   {
    "duration": 78,
    "start_time": "2022-04-03T15:10:20.299Z"
   },
   {
    "duration": 7,
    "start_time": "2022-04-03T15:10:20.379Z"
   },
   {
    "duration": 90,
    "start_time": "2022-04-03T15:10:20.388Z"
   },
   {
    "duration": 51,
    "start_time": "2022-04-03T15:10:20.480Z"
   },
   {
    "duration": 34,
    "start_time": "2022-04-03T15:10:20.533Z"
   },
   {
    "duration": 32,
    "start_time": "2022-04-03T15:10:20.569Z"
   },
   {
    "duration": 16,
    "start_time": "2022-04-03T15:10:20.604Z"
   },
   {
    "duration": 6,
    "start_time": "2022-04-03T15:10:20.622Z"
   },
   {
    "duration": 84,
    "start_time": "2022-04-03T15:10:20.630Z"
   },
   {
    "duration": 21,
    "start_time": "2022-04-03T15:10:20.717Z"
   },
   {
    "duration": 50,
    "start_time": "2022-04-03T15:10:20.741Z"
   },
   {
    "duration": 16,
    "start_time": "2022-04-03T15:10:20.793Z"
   },
   {
    "duration": 13,
    "start_time": "2022-04-03T15:10:20.811Z"
   },
   {
    "duration": 25,
    "start_time": "2022-04-03T15:10:20.826Z"
   },
   {
    "duration": 27,
    "start_time": "2022-04-03T15:10:20.853Z"
   },
   {
    "duration": 24,
    "start_time": "2022-04-03T15:10:20.883Z"
   },
   {
    "duration": 35,
    "start_time": "2022-04-03T15:10:20.910Z"
   },
   {
    "duration": 36,
    "start_time": "2022-04-03T15:10:20.966Z"
   },
   {
    "duration": 68,
    "start_time": "2022-04-03T15:10:21.004Z"
   },
   {
    "duration": 17,
    "start_time": "2022-04-03T15:10:21.075Z"
   },
   {
    "duration": 50,
    "start_time": "2022-04-03T15:10:21.095Z"
   },
   {
    "duration": 26,
    "start_time": "2022-04-03T15:10:21.147Z"
   },
   {
    "duration": 17,
    "start_time": "2022-04-03T15:10:21.175Z"
   },
   {
    "duration": 44,
    "start_time": "2022-04-03T15:10:21.195Z"
   },
   {
    "duration": 26,
    "start_time": "2022-04-03T15:10:21.241Z"
   },
   {
    "duration": 2969,
    "start_time": "2022-04-03T15:10:21.269Z"
   },
   {
    "duration": 0,
    "start_time": "2022-04-03T15:10:24.240Z"
   },
   {
    "duration": 0,
    "start_time": "2022-04-03T15:10:24.242Z"
   },
   {
    "duration": 0,
    "start_time": "2022-04-03T15:10:24.244Z"
   },
   {
    "duration": 0,
    "start_time": "2022-04-03T15:10:24.246Z"
   },
   {
    "duration": 5,
    "start_time": "2022-04-03T15:11:54.163Z"
   },
   {
    "duration": 3126,
    "start_time": "2022-04-03T15:12:04.413Z"
   },
   {
    "duration": 2944,
    "start_time": "2022-04-03T15:12:19.267Z"
   },
   {
    "duration": 196,
    "start_time": "2022-04-03T15:12:32.700Z"
   },
   {
    "duration": 34,
    "start_time": "2022-04-03T15:12:32.899Z"
   },
   {
    "duration": 42,
    "start_time": "2022-04-03T15:12:32.935Z"
   },
   {
    "duration": 46,
    "start_time": "2022-04-03T15:12:32.980Z"
   },
   {
    "duration": 46,
    "start_time": "2022-04-03T15:12:33.028Z"
   },
   {
    "duration": 28,
    "start_time": "2022-04-03T15:12:33.076Z"
   },
   {
    "duration": 62,
    "start_time": "2022-04-03T15:12:33.106Z"
   },
   {
    "duration": 165,
    "start_time": "2022-04-03T15:12:33.170Z"
   },
   {
    "duration": 36,
    "start_time": "2022-04-03T15:12:33.338Z"
   },
   {
    "duration": 21,
    "start_time": "2022-04-03T15:12:33.378Z"
   },
   {
    "duration": 43,
    "start_time": "2022-04-03T15:12:33.401Z"
   },
   {
    "duration": 40,
    "start_time": "2022-04-03T15:12:33.446Z"
   },
   {
    "duration": 24,
    "start_time": "2022-04-03T15:12:33.488Z"
   },
   {
    "duration": 62,
    "start_time": "2022-04-03T15:12:33.514Z"
   },
   {
    "duration": 109,
    "start_time": "2022-04-03T15:12:33.578Z"
   },
   {
    "duration": 26,
    "start_time": "2022-04-03T15:12:33.689Z"
   },
   {
    "duration": 19,
    "start_time": "2022-04-03T15:12:33.717Z"
   },
   {
    "duration": 54,
    "start_time": "2022-04-03T15:12:33.739Z"
   },
   {
    "duration": 21,
    "start_time": "2022-04-03T15:12:33.795Z"
   },
   {
    "duration": 56,
    "start_time": "2022-04-03T15:12:33.819Z"
   },
   {
    "duration": 19,
    "start_time": "2022-04-03T15:12:33.878Z"
   },
   {
    "duration": 232,
    "start_time": "2022-04-03T15:12:33.899Z"
   },
   {
    "duration": 12,
    "start_time": "2022-04-03T15:12:34.133Z"
   },
   {
    "duration": 33,
    "start_time": "2022-04-03T15:12:34.148Z"
   },
   {
    "duration": 15,
    "start_time": "2022-04-03T15:12:34.184Z"
   },
   {
    "duration": 7,
    "start_time": "2022-04-03T15:12:34.202Z"
   },
   {
    "duration": 8,
    "start_time": "2022-04-03T15:12:34.211Z"
   },
   {
    "duration": 44,
    "start_time": "2022-04-03T15:12:34.225Z"
   },
   {
    "duration": 5,
    "start_time": "2022-04-03T15:12:34.271Z"
   },
   {
    "duration": 55,
    "start_time": "2022-04-03T15:12:34.278Z"
   },
   {
    "duration": 76,
    "start_time": "2022-04-03T15:12:34.335Z"
   },
   {
    "duration": 16,
    "start_time": "2022-04-03T15:12:34.413Z"
   },
   {
    "duration": 54,
    "start_time": "2022-04-03T15:12:34.431Z"
   },
   {
    "duration": 15,
    "start_time": "2022-04-03T15:12:34.487Z"
   },
   {
    "duration": 5,
    "start_time": "2022-04-03T15:12:34.504Z"
   },
   {
    "duration": 63,
    "start_time": "2022-04-03T15:12:34.511Z"
   },
   {
    "duration": 20,
    "start_time": "2022-04-03T15:12:34.576Z"
   },
   {
    "duration": 32,
    "start_time": "2022-04-03T15:12:34.598Z"
   },
   {
    "duration": 46,
    "start_time": "2022-04-03T15:12:34.632Z"
   },
   {
    "duration": 10,
    "start_time": "2022-04-03T15:12:34.680Z"
   },
   {
    "duration": 7,
    "start_time": "2022-04-03T15:12:34.692Z"
   },
   {
    "duration": 21,
    "start_time": "2022-04-03T15:12:34.701Z"
   },
   {
    "duration": 53,
    "start_time": "2022-04-03T15:12:34.724Z"
   },
   {
    "duration": 25,
    "start_time": "2022-04-03T15:12:34.780Z"
   },
   {
    "duration": 76,
    "start_time": "2022-04-03T15:12:34.807Z"
   },
   {
    "duration": 51,
    "start_time": "2022-04-03T15:12:34.885Z"
   },
   {
    "duration": 47,
    "start_time": "2022-04-03T15:12:34.939Z"
   },
   {
    "duration": 44,
    "start_time": "2022-04-03T15:12:34.989Z"
   },
   {
    "duration": 40,
    "start_time": "2022-04-03T15:12:35.036Z"
   },
   {
    "duration": 11,
    "start_time": "2022-04-03T15:12:35.079Z"
   },
   {
    "duration": 75,
    "start_time": "2022-04-03T15:12:35.092Z"
   },
   {
    "duration": 5,
    "start_time": "2022-04-03T15:12:35.169Z"
   },
   {
    "duration": 5140,
    "start_time": "2022-04-03T15:12:35.176Z"
   },
   {
    "duration": 0,
    "start_time": "2022-04-03T15:12:40.318Z"
   },
   {
    "duration": 0,
    "start_time": "2022-04-03T15:12:40.320Z"
   },
   {
    "duration": 0,
    "start_time": "2022-04-03T15:12:40.321Z"
   },
   {
    "duration": 0,
    "start_time": "2022-04-03T15:12:40.322Z"
   },
   {
    "duration": 5,
    "start_time": "2022-04-03T15:15:22.572Z"
   },
   {
    "duration": 271,
    "start_time": "2022-04-03T15:15:26.424Z"
   },
   {
    "duration": 33,
    "start_time": "2022-04-03T15:15:26.698Z"
   },
   {
    "duration": 39,
    "start_time": "2022-04-03T15:15:26.733Z"
   },
   {
    "duration": 96,
    "start_time": "2022-04-03T15:15:26.777Z"
   },
   {
    "duration": 37,
    "start_time": "2022-04-03T15:15:26.876Z"
   },
   {
    "duration": 31,
    "start_time": "2022-04-03T15:15:26.916Z"
   },
   {
    "duration": 45,
    "start_time": "2022-04-03T15:15:26.976Z"
   },
   {
    "duration": 184,
    "start_time": "2022-04-03T15:15:27.023Z"
   },
   {
    "duration": 29,
    "start_time": "2022-04-03T15:15:27.209Z"
   },
   {
    "duration": 58,
    "start_time": "2022-04-03T15:15:27.243Z"
   },
   {
    "duration": 33,
    "start_time": "2022-04-03T15:15:27.303Z"
   },
   {
    "duration": 54,
    "start_time": "2022-04-03T15:15:27.338Z"
   },
   {
    "duration": 25,
    "start_time": "2022-04-03T15:15:27.395Z"
   },
   {
    "duration": 58,
    "start_time": "2022-04-03T15:15:27.422Z"
   },
   {
    "duration": 129,
    "start_time": "2022-04-03T15:15:27.483Z"
   },
   {
    "duration": 28,
    "start_time": "2022-04-03T15:15:27.614Z"
   },
   {
    "duration": 54,
    "start_time": "2022-04-03T15:15:27.644Z"
   },
   {
    "duration": 45,
    "start_time": "2022-04-03T15:15:27.701Z"
   },
   {
    "duration": 30,
    "start_time": "2022-04-03T15:15:27.748Z"
   },
   {
    "duration": 35,
    "start_time": "2022-04-03T15:15:27.781Z"
   },
   {
    "duration": 20,
    "start_time": "2022-04-03T15:15:27.819Z"
   },
   {
    "duration": 47,
    "start_time": "2022-04-03T15:15:27.841Z"
   },
   {
    "duration": 8,
    "start_time": "2022-04-03T15:15:27.894Z"
   },
   {
    "duration": 46,
    "start_time": "2022-04-03T15:15:27.905Z"
   },
   {
    "duration": 27,
    "start_time": "2022-04-03T15:15:27.954Z"
   },
   {
    "duration": 25,
    "start_time": "2022-04-03T15:15:27.984Z"
   },
   {
    "duration": 26,
    "start_time": "2022-04-03T15:15:28.011Z"
   },
   {
    "duration": 40,
    "start_time": "2022-04-03T15:15:28.042Z"
   },
   {
    "duration": 24,
    "start_time": "2022-04-03T15:15:28.085Z"
   },
   {
    "duration": 75,
    "start_time": "2022-04-03T15:15:28.111Z"
   },
   {
    "duration": 50,
    "start_time": "2022-04-03T15:15:28.189Z"
   },
   {
    "duration": 35,
    "start_time": "2022-04-03T15:15:28.241Z"
   },
   {
    "duration": 35,
    "start_time": "2022-04-03T15:15:28.279Z"
   },
   {
    "duration": 14,
    "start_time": "2022-04-03T15:15:28.317Z"
   },
   {
    "duration": 34,
    "start_time": "2022-04-03T15:15:28.334Z"
   },
   {
    "duration": 49,
    "start_time": "2022-04-03T15:15:28.371Z"
   },
   {
    "duration": 46,
    "start_time": "2022-04-03T15:15:28.423Z"
   },
   {
    "duration": 41,
    "start_time": "2022-04-03T15:15:28.472Z"
   },
   {
    "duration": 16,
    "start_time": "2022-04-03T15:15:28.516Z"
   },
   {
    "duration": 40,
    "start_time": "2022-04-03T15:15:28.535Z"
   },
   {
    "duration": 25,
    "start_time": "2022-04-03T15:15:28.578Z"
   },
   {
    "duration": 27,
    "start_time": "2022-04-03T15:15:28.606Z"
   },
   {
    "duration": 32,
    "start_time": "2022-04-03T15:15:28.636Z"
   },
   {
    "duration": 29,
    "start_time": "2022-04-03T15:15:28.671Z"
   },
   {
    "duration": 39,
    "start_time": "2022-04-03T15:15:28.703Z"
   },
   {
    "duration": 54,
    "start_time": "2022-04-03T15:15:28.773Z"
   },
   {
    "duration": 40,
    "start_time": "2022-04-03T15:15:28.829Z"
   },
   {
    "duration": 73,
    "start_time": "2022-04-03T15:15:28.872Z"
   },
   {
    "duration": 31,
    "start_time": "2022-04-03T15:15:28.948Z"
   },
   {
    "duration": 30,
    "start_time": "2022-04-03T15:15:28.982Z"
   },
   {
    "duration": 67,
    "start_time": "2022-04-03T15:15:29.015Z"
   },
   {
    "duration": 5,
    "start_time": "2022-04-03T15:15:29.085Z"
   },
   {
    "duration": 3495,
    "start_time": "2022-04-03T15:15:29.092Z"
   },
   {
    "duration": 0,
    "start_time": "2022-04-03T15:15:32.590Z"
   },
   {
    "duration": 0,
    "start_time": "2022-04-03T15:15:32.592Z"
   },
   {
    "duration": 0,
    "start_time": "2022-04-03T15:15:32.594Z"
   },
   {
    "duration": 0,
    "start_time": "2022-04-03T15:15:32.598Z"
   },
   {
    "duration": 2905,
    "start_time": "2022-04-03T15:16:23.916Z"
   },
   {
    "duration": 3026,
    "start_time": "2022-04-03T15:16:59.457Z"
   },
   {
    "duration": 5,
    "start_time": "2022-04-03T15:17:18.131Z"
   },
   {
    "duration": 2832,
    "start_time": "2022-04-03T15:18:26.484Z"
   },
   {
    "duration": 4,
    "start_time": "2022-04-03T15:18:52.785Z"
   },
   {
    "duration": 57,
    "start_time": "2022-04-03T15:18:54.987Z"
   },
   {
    "duration": 4,
    "start_time": "2022-04-03T15:21:05.063Z"
   },
   {
    "duration": 2914,
    "start_time": "2022-04-03T15:21:07.479Z"
   },
   {
    "duration": 4,
    "start_time": "2022-04-03T15:21:30.613Z"
   },
   {
    "duration": 51,
    "start_time": "2022-04-03T15:21:34.541Z"
   },
   {
    "duration": 55,
    "start_time": "2022-04-03T15:23:31.105Z"
   },
   {
    "duration": 5,
    "start_time": "2022-04-03T15:30:40.150Z"
   },
   {
    "duration": 40,
    "start_time": "2022-04-03T15:30:53.554Z"
   },
   {
    "duration": 5,
    "start_time": "2022-04-03T16:14:30.790Z"
   },
   {
    "duration": 52,
    "start_time": "2022-04-03T16:14:33.111Z"
   },
   {
    "duration": 560,
    "start_time": "2022-04-04T18:43:08.430Z"
   },
   {
    "duration": 32,
    "start_time": "2022-04-04T18:43:08.993Z"
   },
   {
    "duration": 21,
    "start_time": "2022-04-04T18:43:09.027Z"
   },
   {
    "duration": 37,
    "start_time": "2022-04-04T18:43:09.050Z"
   },
   {
    "duration": 19,
    "start_time": "2022-04-04T18:43:09.110Z"
   },
   {
    "duration": 26,
    "start_time": "2022-04-04T18:43:09.131Z"
   },
   {
    "duration": 54,
    "start_time": "2022-04-04T18:43:09.159Z"
   },
   {
    "duration": 131,
    "start_time": "2022-04-04T18:43:09.215Z"
   },
   {
    "duration": 22,
    "start_time": "2022-04-04T18:43:09.348Z"
   },
   {
    "duration": 18,
    "start_time": "2022-04-04T18:43:09.372Z"
   },
   {
    "duration": 24,
    "start_time": "2022-04-04T18:43:09.408Z"
   },
   {
    "duration": 16,
    "start_time": "2022-04-04T18:43:09.434Z"
   },
   {
    "duration": 19,
    "start_time": "2022-04-04T18:43:09.451Z"
   },
   {
    "duration": 56,
    "start_time": "2022-04-04T18:43:09.471Z"
   },
   {
    "duration": 87,
    "start_time": "2022-04-04T18:43:09.528Z"
   },
   {
    "duration": 19,
    "start_time": "2022-04-04T18:43:09.616Z"
   },
   {
    "duration": 12,
    "start_time": "2022-04-04T18:43:09.637Z"
   },
   {
    "duration": 20,
    "start_time": "2022-04-04T18:43:09.651Z"
   },
   {
    "duration": 38,
    "start_time": "2022-04-04T18:43:09.673Z"
   },
   {
    "duration": 20,
    "start_time": "2022-04-04T18:43:09.713Z"
   },
   {
    "duration": 14,
    "start_time": "2022-04-04T18:43:09.735Z"
   },
   {
    "duration": 10,
    "start_time": "2022-04-04T18:43:09.751Z"
   },
   {
    "duration": 10,
    "start_time": "2022-04-04T18:43:09.762Z"
   },
   {
    "duration": 43,
    "start_time": "2022-04-04T18:43:09.773Z"
   },
   {
    "duration": 9,
    "start_time": "2022-04-04T18:43:09.818Z"
   },
   {
    "duration": 6,
    "start_time": "2022-04-04T18:43:09.829Z"
   },
   {
    "duration": 9,
    "start_time": "2022-04-04T18:43:09.837Z"
   },
   {
    "duration": 12,
    "start_time": "2022-04-04T18:43:09.849Z"
   },
   {
    "duration": 5,
    "start_time": "2022-04-04T18:43:09.863Z"
   },
   {
    "duration": 77,
    "start_time": "2022-04-04T18:43:09.870Z"
   },
   {
    "duration": 38,
    "start_time": "2022-04-04T18:43:09.948Z"
   },
   {
    "duration": 25,
    "start_time": "2022-04-04T18:43:09.988Z"
   },
   {
    "duration": 25,
    "start_time": "2022-04-04T18:43:10.015Z"
   },
   {
    "duration": 11,
    "start_time": "2022-04-04T18:43:10.042Z"
   },
   {
    "duration": 9,
    "start_time": "2022-04-04T18:43:10.054Z"
   },
   {
    "duration": 50,
    "start_time": "2022-04-04T18:43:10.065Z"
   },
   {
    "duration": 17,
    "start_time": "2022-04-04T18:43:10.117Z"
   },
   {
    "duration": 23,
    "start_time": "2022-04-04T18:43:10.135Z"
   },
   {
    "duration": 10,
    "start_time": "2022-04-04T18:43:10.159Z"
   },
   {
    "duration": 8,
    "start_time": "2022-04-04T18:43:10.171Z"
   },
   {
    "duration": 6,
    "start_time": "2022-04-04T18:43:10.209Z"
   },
   {
    "duration": 19,
    "start_time": "2022-04-04T18:43:10.216Z"
   },
   {
    "duration": 15,
    "start_time": "2022-04-04T18:43:10.236Z"
   },
   {
    "duration": 14,
    "start_time": "2022-04-04T18:43:10.252Z"
   },
   {
    "duration": 54,
    "start_time": "2022-04-04T18:43:10.268Z"
   },
   {
    "duration": 33,
    "start_time": "2022-04-04T18:43:10.324Z"
   },
   {
    "duration": 14,
    "start_time": "2022-04-04T18:43:10.358Z"
   },
   {
    "duration": 6,
    "start_time": "2022-04-04T18:43:10.373Z"
   },
   {
    "duration": 583,
    "start_time": "2022-04-04T18:43:10.380Z"
   },
   {
    "duration": 0,
    "start_time": "2022-04-04T18:43:10.964Z"
   },
   {
    "duration": 0,
    "start_time": "2022-04-04T18:43:10.965Z"
   },
   {
    "duration": 0,
    "start_time": "2022-04-04T18:43:10.966Z"
   },
   {
    "duration": 0,
    "start_time": "2022-04-04T18:43:10.968Z"
   },
   {
    "duration": 0,
    "start_time": "2022-04-04T18:43:10.968Z"
   },
   {
    "duration": 5,
    "start_time": "2022-04-04T18:43:15.839Z"
   },
   {
    "duration": 27,
    "start_time": "2022-04-04T18:44:06.276Z"
   },
   {
    "duration": 40,
    "start_time": "2022-04-04T18:44:18.313Z"
   },
   {
    "duration": 8,
    "start_time": "2022-04-04T18:44:47.638Z"
   },
   {
    "duration": 142,
    "start_time": "2022-04-04T18:44:57.523Z"
   },
   {
    "duration": 45,
    "start_time": "2022-04-04T18:44:57.666Z"
   },
   {
    "duration": 19,
    "start_time": "2022-04-04T18:44:57.712Z"
   },
   {
    "duration": 31,
    "start_time": "2022-04-04T18:44:57.732Z"
   },
   {
    "duration": 18,
    "start_time": "2022-04-04T18:44:57.764Z"
   },
   {
    "duration": 42,
    "start_time": "2022-04-04T18:44:57.784Z"
   },
   {
    "duration": 34,
    "start_time": "2022-04-04T18:44:57.828Z"
   },
   {
    "duration": 137,
    "start_time": "2022-04-04T18:44:57.863Z"
   },
   {
    "duration": 25,
    "start_time": "2022-04-04T18:44:58.001Z"
   },
   {
    "duration": 15,
    "start_time": "2022-04-04T18:44:58.029Z"
   },
   {
    "duration": 40,
    "start_time": "2022-04-04T18:44:58.046Z"
   },
   {
    "duration": 35,
    "start_time": "2022-04-04T18:44:58.088Z"
   },
   {
    "duration": 17,
    "start_time": "2022-04-04T18:44:58.124Z"
   },
   {
    "duration": 22,
    "start_time": "2022-04-04T18:44:58.143Z"
   },
   {
    "duration": 99,
    "start_time": "2022-04-04T18:44:58.166Z"
   },
   {
    "duration": 17,
    "start_time": "2022-04-04T18:44:58.267Z"
   },
   {
    "duration": 26,
    "start_time": "2022-04-04T18:44:58.285Z"
   },
   {
    "duration": 24,
    "start_time": "2022-04-04T18:44:58.312Z"
   },
   {
    "duration": 16,
    "start_time": "2022-04-04T18:44:58.338Z"
   },
   {
    "duration": 21,
    "start_time": "2022-04-04T18:44:58.355Z"
   },
   {
    "duration": 35,
    "start_time": "2022-04-04T18:44:58.377Z"
   },
   {
    "duration": 9,
    "start_time": "2022-04-04T18:44:58.414Z"
   },
   {
    "duration": 7,
    "start_time": "2022-04-04T18:44:58.425Z"
   },
   {
    "duration": 39,
    "start_time": "2022-04-04T18:44:58.435Z"
   },
   {
    "duration": 43,
    "start_time": "2022-04-04T18:44:58.476Z"
   },
   {
    "duration": 8,
    "start_time": "2022-04-04T18:44:58.521Z"
   },
   {
    "duration": 11,
    "start_time": "2022-04-04T18:44:58.530Z"
   },
   {
    "duration": 9,
    "start_time": "2022-04-04T18:44:58.544Z"
   },
   {
    "duration": 6,
    "start_time": "2022-04-04T18:44:58.555Z"
   },
   {
    "duration": 63,
    "start_time": "2022-04-04T18:44:58.563Z"
   },
   {
    "duration": 33,
    "start_time": "2022-04-04T18:44:58.628Z"
   },
   {
    "duration": 11,
    "start_time": "2022-04-04T18:44:58.663Z"
   },
   {
    "duration": 46,
    "start_time": "2022-04-04T18:44:58.676Z"
   },
   {
    "duration": 10,
    "start_time": "2022-04-04T18:44:58.724Z"
   },
   {
    "duration": 5,
    "start_time": "2022-04-04T18:44:58.736Z"
   },
   {
    "duration": 30,
    "start_time": "2022-04-04T18:44:58.742Z"
   },
   {
    "duration": 40,
    "start_time": "2022-04-04T18:44:58.774Z"
   },
   {
    "duration": 23,
    "start_time": "2022-04-04T18:44:58.815Z"
   },
   {
    "duration": 10,
    "start_time": "2022-04-04T18:44:58.840Z"
   },
   {
    "duration": 6,
    "start_time": "2022-04-04T18:44:58.852Z"
   },
   {
    "duration": 5,
    "start_time": "2022-04-04T18:44:58.860Z"
   },
   {
    "duration": 45,
    "start_time": "2022-04-04T18:44:58.866Z"
   },
   {
    "duration": 14,
    "start_time": "2022-04-04T18:44:58.913Z"
   },
   {
    "duration": 15,
    "start_time": "2022-04-04T18:44:58.928Z"
   },
   {
    "duration": 23,
    "start_time": "2022-04-04T18:44:58.944Z"
   },
   {
    "duration": 59,
    "start_time": "2022-04-04T18:44:58.969Z"
   },
   {
    "duration": 13,
    "start_time": "2022-04-04T18:44:59.029Z"
   },
   {
    "duration": 6,
    "start_time": "2022-04-04T18:44:59.044Z"
   },
   {
    "duration": 6,
    "start_time": "2022-04-04T18:44:59.051Z"
   },
   {
    "duration": 599,
    "start_time": "2022-04-04T18:44:59.058Z"
   },
   {
    "duration": 0,
    "start_time": "2022-04-04T18:44:59.659Z"
   },
   {
    "duration": 0,
    "start_time": "2022-04-04T18:44:59.660Z"
   },
   {
    "duration": 0,
    "start_time": "2022-04-04T18:44:59.661Z"
   },
   {
    "duration": 0,
    "start_time": "2022-04-04T18:44:59.662Z"
   },
   {
    "duration": 0,
    "start_time": "2022-04-04T18:44:59.663Z"
   },
   {
    "duration": 6,
    "start_time": "2022-04-04T18:45:33.029Z"
   },
   {
    "duration": 6,
    "start_time": "2022-04-04T18:45:50.397Z"
   },
   {
    "duration": 30,
    "start_time": "2022-04-04T18:46:08.495Z"
   },
   {
    "duration": 132,
    "start_time": "2022-04-04T18:46:15.253Z"
   },
   {
    "duration": 146,
    "start_time": "2022-04-04T18:47:27.152Z"
   },
   {
    "duration": 551,
    "start_time": "2022-04-06T17:19:21.521Z"
   },
   {
    "duration": 24,
    "start_time": "2022-04-06T17:19:22.074Z"
   },
   {
    "duration": 19,
    "start_time": "2022-04-06T17:19:22.099Z"
   },
   {
    "duration": 47,
    "start_time": "2022-04-06T17:19:22.119Z"
   },
   {
    "duration": 18,
    "start_time": "2022-04-06T17:19:22.168Z"
   },
   {
    "duration": 24,
    "start_time": "2022-04-06T17:19:22.187Z"
   },
   {
    "duration": 51,
    "start_time": "2022-04-06T17:19:22.213Z"
   },
   {
    "duration": 129,
    "start_time": "2022-04-06T17:19:22.266Z"
   },
   {
    "duration": 22,
    "start_time": "2022-04-06T17:19:22.397Z"
   },
   {
    "duration": 16,
    "start_time": "2022-04-06T17:19:22.421Z"
   },
   {
    "duration": 46,
    "start_time": "2022-04-06T17:19:22.440Z"
   },
   {
    "duration": 17,
    "start_time": "2022-04-06T17:19:22.488Z"
   },
   {
    "duration": 21,
    "start_time": "2022-04-06T17:19:22.506Z"
   },
   {
    "duration": 43,
    "start_time": "2022-04-06T17:19:22.530Z"
   },
   {
    "duration": 91,
    "start_time": "2022-04-06T17:19:22.575Z"
   },
   {
    "duration": 18,
    "start_time": "2022-04-06T17:19:22.668Z"
   },
   {
    "duration": 22,
    "start_time": "2022-04-06T17:19:22.688Z"
   },
   {
    "duration": 54,
    "start_time": "2022-04-06T17:19:22.711Z"
   },
   {
    "duration": 18,
    "start_time": "2022-04-06T17:19:22.767Z"
   },
   {
    "duration": 22,
    "start_time": "2022-04-06T17:19:22.787Z"
   },
   {
    "duration": 15,
    "start_time": "2022-04-06T17:19:22.810Z"
   },
   {
    "duration": 10,
    "start_time": "2022-04-06T17:19:22.826Z"
   },
   {
    "duration": 26,
    "start_time": "2022-04-06T17:19:22.837Z"
   },
   {
    "duration": 25,
    "start_time": "2022-04-06T17:19:22.865Z"
   },
   {
    "duration": 11,
    "start_time": "2022-04-06T17:19:22.891Z"
   },
   {
    "duration": 8,
    "start_time": "2022-04-06T17:19:22.904Z"
   },
   {
    "duration": 9,
    "start_time": "2022-04-06T17:19:22.913Z"
   },
   {
    "duration": 16,
    "start_time": "2022-04-06T17:19:22.924Z"
   },
   {
    "duration": 20,
    "start_time": "2022-04-06T17:19:22.942Z"
   },
   {
    "duration": 68,
    "start_time": "2022-04-06T17:19:22.964Z"
   },
   {
    "duration": 63,
    "start_time": "2022-04-06T17:19:23.034Z"
   },
   {
    "duration": 12,
    "start_time": "2022-04-06T17:19:23.099Z"
   },
   {
    "duration": 24,
    "start_time": "2022-04-06T17:19:23.113Z"
   },
   {
    "duration": 28,
    "start_time": "2022-04-06T17:19:23.139Z"
   },
   {
    "duration": 5,
    "start_time": "2022-04-06T17:19:23.169Z"
   },
   {
    "duration": 30,
    "start_time": "2022-04-06T17:19:23.175Z"
   },
   {
    "duration": 16,
    "start_time": "2022-04-06T17:19:23.207Z"
   },
   {
    "duration": 45,
    "start_time": "2022-04-06T17:19:23.224Z"
   },
   {
    "duration": 11,
    "start_time": "2022-04-06T17:19:23.270Z"
   },
   {
    "duration": 7,
    "start_time": "2022-04-06T17:19:23.283Z"
   },
   {
    "duration": 5,
    "start_time": "2022-04-06T17:19:23.293Z"
   },
   {
    "duration": 14,
    "start_time": "2022-04-06T17:19:23.299Z"
   },
   {
    "duration": 14,
    "start_time": "2022-04-06T17:19:23.314Z"
   },
   {
    "duration": 43,
    "start_time": "2022-04-06T17:19:23.329Z"
   },
   {
    "duration": 21,
    "start_time": "2022-04-06T17:19:23.374Z"
   },
   {
    "duration": 31,
    "start_time": "2022-04-06T17:19:23.397Z"
   },
   {
    "duration": 38,
    "start_time": "2022-04-06T17:19:23.430Z"
   },
   {
    "duration": 7,
    "start_time": "2022-04-06T17:19:23.469Z"
   },
   {
    "duration": 8,
    "start_time": "2022-04-06T17:19:23.478Z"
   },
   {
    "duration": 28,
    "start_time": "2022-04-06T17:19:23.487Z"
   },
   {
    "duration": 5,
    "start_time": "2022-04-06T17:19:23.516Z"
   },
   {
    "duration": 154,
    "start_time": "2022-04-06T17:19:23.522Z"
   },
   {
    "duration": 13,
    "start_time": "2022-04-06T17:23:19.444Z"
   },
   {
    "duration": 108,
    "start_time": "2022-04-06T17:25:40.651Z"
   },
   {
    "duration": 1702,
    "start_time": "2022-04-06T17:26:59.271Z"
   },
   {
    "duration": 138,
    "start_time": "2022-04-06T17:27:06.180Z"
   },
   {
    "duration": 24,
    "start_time": "2022-04-06T17:27:06.320Z"
   },
   {
    "duration": 46,
    "start_time": "2022-04-06T17:27:06.346Z"
   },
   {
    "duration": 34,
    "start_time": "2022-04-06T17:27:06.394Z"
   },
   {
    "duration": 36,
    "start_time": "2022-04-06T17:27:06.429Z"
   },
   {
    "duration": 22,
    "start_time": "2022-04-06T17:27:06.467Z"
   },
   {
    "duration": 36,
    "start_time": "2022-04-06T17:27:06.490Z"
   },
   {
    "duration": 145,
    "start_time": "2022-04-06T17:27:06.527Z"
   },
   {
    "duration": 21,
    "start_time": "2022-04-06T17:27:06.673Z"
   },
   {
    "duration": 15,
    "start_time": "2022-04-06T17:27:06.697Z"
   },
   {
    "duration": 22,
    "start_time": "2022-04-06T17:27:06.714Z"
   },
   {
    "duration": 35,
    "start_time": "2022-04-06T17:27:06.738Z"
   },
   {
    "duration": 18,
    "start_time": "2022-04-06T17:27:06.775Z"
   },
   {
    "duration": 22,
    "start_time": "2022-04-06T17:27:06.794Z"
   },
   {
    "duration": 102,
    "start_time": "2022-04-06T17:27:06.817Z"
   },
   {
    "duration": 18,
    "start_time": "2022-04-06T17:27:06.921Z"
   },
   {
    "duration": 26,
    "start_time": "2022-04-06T17:27:06.941Z"
   },
   {
    "duration": 20,
    "start_time": "2022-04-06T17:27:06.969Z"
   },
   {
    "duration": 16,
    "start_time": "2022-04-06T17:27:06.991Z"
   },
   {
    "duration": 20,
    "start_time": "2022-04-06T17:27:07.009Z"
   },
   {
    "duration": 41,
    "start_time": "2022-04-06T17:27:07.031Z"
   },
   {
    "duration": 10,
    "start_time": "2022-04-06T17:27:07.074Z"
   },
   {
    "duration": 8,
    "start_time": "2022-04-06T17:27:07.086Z"
   },
   {
    "duration": 27,
    "start_time": "2022-04-06T17:27:07.095Z"
   },
   {
    "duration": 10,
    "start_time": "2022-04-06T17:27:07.123Z"
   },
   {
    "duration": 28,
    "start_time": "2022-04-06T17:27:07.135Z"
   },
   {
    "duration": 7,
    "start_time": "2022-04-06T17:27:07.165Z"
   },
   {
    "duration": 9,
    "start_time": "2022-04-06T17:27:07.175Z"
   },
   {
    "duration": 3,
    "start_time": "2022-04-06T17:27:07.186Z"
   },
   {
    "duration": 43,
    "start_time": "2022-04-06T17:27:07.191Z"
   },
   {
    "duration": 51,
    "start_time": "2022-04-06T17:27:07.236Z"
   },
   {
    "duration": 10,
    "start_time": "2022-04-06T17:27:07.289Z"
   },
   {
    "duration": 20,
    "start_time": "2022-04-06T17:27:07.300Z"
   },
   {
    "duration": 41,
    "start_time": "2022-04-06T17:27:07.322Z"
   },
   {
    "duration": 6,
    "start_time": "2022-04-06T17:27:07.364Z"
   },
   {
    "duration": 63,
    "start_time": "2022-04-06T17:27:07.371Z"
   },
   {
    "duration": 35,
    "start_time": "2022-04-06T17:27:07.436Z"
   },
   {
    "duration": 28,
    "start_time": "2022-04-06T17:27:07.473Z"
   },
   {
    "duration": 60,
    "start_time": "2022-04-06T17:27:07.503Z"
   },
   {
    "duration": 7,
    "start_time": "2022-04-06T17:27:07.565Z"
   },
   {
    "duration": 7,
    "start_time": "2022-04-06T17:27:07.574Z"
   },
   {
    "duration": 15,
    "start_time": "2022-04-06T17:27:07.583Z"
   },
   {
    "duration": 64,
    "start_time": "2022-04-06T17:27:07.600Z"
   },
   {
    "duration": 21,
    "start_time": "2022-04-06T17:27:07.666Z"
   },
   {
    "duration": 86,
    "start_time": "2022-04-06T17:27:07.689Z"
   },
   {
    "duration": 35,
    "start_time": "2022-04-06T17:27:07.777Z"
   },
   {
    "duration": 11,
    "start_time": "2022-04-06T17:27:07.813Z"
   },
   {
    "duration": 38,
    "start_time": "2022-04-06T17:27:07.825Z"
   },
   {
    "duration": 10,
    "start_time": "2022-04-06T17:27:07.865Z"
   },
   {
    "duration": 29,
    "start_time": "2022-04-06T17:27:07.876Z"
   },
   {
    "duration": 5,
    "start_time": "2022-04-06T17:27:07.907Z"
   },
   {
    "duration": 133,
    "start_time": "2022-04-06T17:27:07.914Z"
   },
   {
    "duration": 3,
    "start_time": "2022-04-06T17:45:36.368Z"
   },
   {
    "duration": 37,
    "start_time": "2022-04-06T17:47:41.997Z"
   },
   {
    "duration": 35,
    "start_time": "2022-04-06T17:54:09.697Z"
   },
   {
    "duration": 38,
    "start_time": "2022-04-06T17:54:51.027Z"
   },
   {
    "duration": 31,
    "start_time": "2022-04-06T17:58:26.945Z"
   },
   {
    "duration": 11,
    "start_time": "2022-04-06T17:59:32.554Z"
   },
   {
    "duration": 25,
    "start_time": "2022-04-06T18:02:03.613Z"
   },
   {
    "duration": 25,
    "start_time": "2022-04-06T18:05:54.913Z"
   },
   {
    "duration": 735,
    "start_time": "2022-04-07T17:52:02.204Z"
   },
   {
    "duration": 49,
    "start_time": "2022-04-07T17:52:02.941Z"
   },
   {
    "duration": 25,
    "start_time": "2022-04-07T17:52:02.992Z"
   },
   {
    "duration": 77,
    "start_time": "2022-04-07T17:52:03.020Z"
   },
   {
    "duration": 25,
    "start_time": "2022-04-07T17:52:03.100Z"
   },
   {
    "duration": 46,
    "start_time": "2022-04-07T17:52:03.128Z"
   },
   {
    "duration": 41,
    "start_time": "2022-04-07T17:52:03.184Z"
   },
   {
    "duration": 195,
    "start_time": "2022-04-07T17:52:03.227Z"
   },
   {
    "duration": 28,
    "start_time": "2022-04-07T17:52:03.424Z"
   },
   {
    "duration": 41,
    "start_time": "2022-04-07T17:52:03.456Z"
   },
   {
    "duration": 49,
    "start_time": "2022-04-07T17:52:03.500Z"
   },
   {
    "duration": 34,
    "start_time": "2022-04-07T17:52:03.551Z"
   },
   {
    "duration": 28,
    "start_time": "2022-04-07T17:52:03.587Z"
   },
   {
    "duration": 34,
    "start_time": "2022-04-07T17:52:03.617Z"
   },
   {
    "duration": 144,
    "start_time": "2022-04-07T17:52:03.653Z"
   },
   {
    "duration": 25,
    "start_time": "2022-04-07T17:52:03.799Z"
   },
   {
    "duration": 19,
    "start_time": "2022-04-07T17:52:03.826Z"
   },
   {
    "duration": 60,
    "start_time": "2022-04-07T17:52:03.848Z"
   },
   {
    "duration": 23,
    "start_time": "2022-04-07T17:52:03.910Z"
   },
   {
    "duration": 61,
    "start_time": "2022-04-07T17:52:03.936Z"
   },
   {
    "duration": 20,
    "start_time": "2022-04-07T17:52:04.000Z"
   },
   {
    "duration": 17,
    "start_time": "2022-04-07T17:52:04.023Z"
   },
   {
    "duration": 42,
    "start_time": "2022-04-07T17:52:04.043Z"
   },
   {
    "duration": 65,
    "start_time": "2022-04-07T17:52:04.088Z"
   },
   {
    "duration": 17,
    "start_time": "2022-04-07T17:52:04.155Z"
   },
   {
    "duration": 11,
    "start_time": "2022-04-07T17:52:04.174Z"
   },
   {
    "duration": 11,
    "start_time": "2022-04-07T17:52:04.187Z"
   },
   {
    "duration": 15,
    "start_time": "2022-04-07T17:52:04.204Z"
   },
   {
    "duration": 9,
    "start_time": "2022-04-07T17:52:04.222Z"
   },
   {
    "duration": 100,
    "start_time": "2022-04-07T17:52:04.234Z"
   },
   {
    "duration": 64,
    "start_time": "2022-04-07T17:52:04.336Z"
   },
   {
    "duration": 16,
    "start_time": "2022-04-07T17:52:04.403Z"
   },
   {
    "duration": 58,
    "start_time": "2022-04-07T17:52:04.421Z"
   },
   {
    "duration": 15,
    "start_time": "2022-04-07T17:52:04.483Z"
   },
   {
    "duration": 7,
    "start_time": "2022-04-07T17:52:04.501Z"
   },
   {
    "duration": 72,
    "start_time": "2022-04-07T17:52:04.511Z"
   },
   {
    "duration": 25,
    "start_time": "2022-04-07T17:52:04.586Z"
   },
   {
    "duration": 38,
    "start_time": "2022-04-07T17:52:04.613Z"
   },
   {
    "duration": 40,
    "start_time": "2022-04-07T17:52:04.653Z"
   },
   {
    "duration": 22,
    "start_time": "2022-04-07T17:52:04.695Z"
   },
   {
    "duration": 31,
    "start_time": "2022-04-07T17:52:04.719Z"
   },
   {
    "duration": 24,
    "start_time": "2022-04-07T17:52:04.753Z"
   },
   {
    "duration": 27,
    "start_time": "2022-04-07T17:52:04.780Z"
   },
   {
    "duration": 25,
    "start_time": "2022-04-07T17:52:04.809Z"
   },
   {
    "duration": 68,
    "start_time": "2022-04-07T17:52:04.836Z"
   },
   {
    "duration": 58,
    "start_time": "2022-04-07T17:52:04.907Z"
   },
   {
    "duration": 20,
    "start_time": "2022-04-07T17:52:04.984Z"
   },
   {
    "duration": 10,
    "start_time": "2022-04-07T17:52:05.006Z"
   },
   {
    "duration": 80,
    "start_time": "2022-04-07T17:52:05.018Z"
   },
   {
    "duration": 7,
    "start_time": "2022-04-07T17:52:05.100Z"
   },
   {
    "duration": 258,
    "start_time": "2022-04-07T17:52:05.109Z"
   },
   {
    "duration": 173,
    "start_time": "2022-04-07T17:52:05.369Z"
   },
   {
    "duration": 5,
    "start_time": "2022-04-07T18:11:14.314Z"
   },
   {
    "duration": 175,
    "start_time": "2022-04-07T18:12:14.133Z"
   },
   {
    "duration": 5,
    "start_time": "2022-04-07T18:12:22.561Z"
   },
   {
    "duration": 15,
    "start_time": "2022-04-07T18:16:10.106Z"
   },
   {
    "duration": 6,
    "start_time": "2022-04-07T18:16:13.102Z"
   },
   {
    "duration": 5,
    "start_time": "2022-04-07T18:16:26.733Z"
   },
   {
    "duration": 8,
    "start_time": "2022-04-07T18:18:02.693Z"
   },
   {
    "duration": 5,
    "start_time": "2022-04-07T18:18:40.076Z"
   },
   {
    "duration": 8,
    "start_time": "2022-04-07T18:18:49.172Z"
   },
   {
    "duration": 6,
    "start_time": "2022-04-07T18:18:50.622Z"
   },
   {
    "duration": 5,
    "start_time": "2022-04-07T18:20:27.421Z"
   },
   {
    "duration": 7,
    "start_time": "2022-04-07T18:21:16.335Z"
   },
   {
    "duration": 5,
    "start_time": "2022-04-07T18:23:46.015Z"
   },
   {
    "duration": 4,
    "start_time": "2022-04-07T18:24:06.962Z"
   },
   {
    "duration": 6,
    "start_time": "2022-04-07T18:24:45.660Z"
   },
   {
    "duration": 569,
    "start_time": "2022-04-09T05:33:00.809Z"
   },
   {
    "duration": 25,
    "start_time": "2022-04-09T05:33:01.380Z"
   },
   {
    "duration": 29,
    "start_time": "2022-04-09T05:33:01.407Z"
   },
   {
    "duration": 41,
    "start_time": "2022-04-09T05:33:01.438Z"
   },
   {
    "duration": 27,
    "start_time": "2022-04-09T05:33:01.481Z"
   },
   {
    "duration": 33,
    "start_time": "2022-04-09T05:33:01.509Z"
   },
   {
    "duration": 27,
    "start_time": "2022-04-09T05:33:01.544Z"
   },
   {
    "duration": 135,
    "start_time": "2022-04-09T05:33:01.573Z"
   },
   {
    "duration": 21,
    "start_time": "2022-04-09T05:33:01.710Z"
   },
   {
    "duration": 18,
    "start_time": "2022-04-09T05:33:01.734Z"
   },
   {
    "duration": 25,
    "start_time": "2022-04-09T05:33:01.753Z"
   },
   {
    "duration": 15,
    "start_time": "2022-04-09T05:33:01.802Z"
   },
   {
    "duration": 22,
    "start_time": "2022-04-09T05:33:01.818Z"
   },
   {
    "duration": 23,
    "start_time": "2022-04-09T05:33:01.841Z"
   },
   {
    "duration": 102,
    "start_time": "2022-04-09T05:33:01.866Z"
   },
   {
    "duration": 19,
    "start_time": "2022-04-09T05:33:01.970Z"
   },
   {
    "duration": 15,
    "start_time": "2022-04-09T05:33:02.001Z"
   },
   {
    "duration": 31,
    "start_time": "2022-04-09T05:33:02.018Z"
   },
   {
    "duration": 28,
    "start_time": "2022-04-09T05:33:02.051Z"
   },
   {
    "duration": 39,
    "start_time": "2022-04-09T05:33:02.081Z"
   },
   {
    "duration": 35,
    "start_time": "2022-04-09T05:33:02.121Z"
   },
   {
    "duration": 10,
    "start_time": "2022-04-09T05:33:02.158Z"
   },
   {
    "duration": 77,
    "start_time": "2022-04-09T05:33:02.170Z"
   },
   {
    "duration": 41,
    "start_time": "2022-04-09T05:33:02.249Z"
   },
   {
    "duration": 9,
    "start_time": "2022-04-09T05:33:02.292Z"
   },
   {
    "duration": 14,
    "start_time": "2022-04-09T05:33:02.302Z"
   },
   {
    "duration": 11,
    "start_time": "2022-04-09T05:33:02.318Z"
   },
   {
    "duration": 10,
    "start_time": "2022-04-09T05:33:02.332Z"
   },
   {
    "duration": 3,
    "start_time": "2022-04-09T05:33:02.344Z"
   },
   {
    "duration": 57,
    "start_time": "2022-04-09T05:33:02.348Z"
   },
   {
    "duration": 35,
    "start_time": "2022-04-09T05:33:02.407Z"
   },
   {
    "duration": 9,
    "start_time": "2022-04-09T05:33:02.444Z"
   },
   {
    "duration": 34,
    "start_time": "2022-04-09T05:33:02.455Z"
   },
   {
    "duration": 19,
    "start_time": "2022-04-09T05:33:02.490Z"
   },
   {
    "duration": 14,
    "start_time": "2022-04-09T05:33:02.510Z"
   },
   {
    "duration": 34,
    "start_time": "2022-04-09T05:33:02.525Z"
   },
   {
    "duration": 15,
    "start_time": "2022-04-09T05:33:02.560Z"
   },
   {
    "duration": 38,
    "start_time": "2022-04-09T05:33:02.576Z"
   },
   {
    "duration": 11,
    "start_time": "2022-04-09T05:33:02.616Z"
   },
   {
    "duration": 16,
    "start_time": "2022-04-09T05:33:02.628Z"
   },
   {
    "duration": 18,
    "start_time": "2022-04-09T05:33:02.646Z"
   },
   {
    "duration": 14,
    "start_time": "2022-04-09T05:33:02.665Z"
   },
   {
    "duration": 25,
    "start_time": "2022-04-09T05:33:02.681Z"
   },
   {
    "duration": 14,
    "start_time": "2022-04-09T05:33:02.708Z"
   },
   {
    "duration": 24,
    "start_time": "2022-04-09T05:33:02.724Z"
   },
   {
    "duration": 58,
    "start_time": "2022-04-09T05:33:02.749Z"
   },
   {
    "duration": 13,
    "start_time": "2022-04-09T05:33:02.809Z"
   },
   {
    "duration": 17,
    "start_time": "2022-04-09T05:33:02.824Z"
   },
   {
    "duration": 30,
    "start_time": "2022-04-09T05:33:02.843Z"
   },
   {
    "duration": 5,
    "start_time": "2022-04-09T05:33:02.875Z"
   },
   {
    "duration": 146,
    "start_time": "2022-04-09T05:33:02.881Z"
   },
   {
    "duration": 8,
    "start_time": "2022-04-09T05:33:03.028Z"
   },
   {
    "duration": 5,
    "start_time": "2022-04-09T05:33:03.037Z"
   },
   {
    "duration": 6,
    "start_time": "2022-04-09T05:33:03.043Z"
   },
   {
    "duration": 6,
    "start_time": "2022-04-09T05:33:03.051Z"
   },
   {
    "duration": 8,
    "start_time": "2022-04-09T05:33:03.058Z"
   },
   {
    "duration": 14,
    "start_time": "2022-04-09T05:33:03.068Z"
   },
   {
    "duration": 17,
    "start_time": "2022-04-09T05:33:03.084Z"
   },
   {
    "duration": 3,
    "start_time": "2022-04-09T05:33:03.103Z"
   },
   {
    "duration": 59,
    "start_time": "2022-04-09T05:35:29.024Z"
   },
   {
    "duration": 3,
    "start_time": "2022-04-09T05:35:42.025Z"
   },
   {
    "duration": 4,
    "start_time": "2022-04-09T05:37:06.739Z"
   },
   {
    "duration": 4,
    "start_time": "2022-04-09T05:37:10.340Z"
   },
   {
    "duration": 173,
    "start_time": "2022-04-09T05:38:24.948Z"
   },
   {
    "duration": 24,
    "start_time": "2022-04-09T05:38:25.123Z"
   },
   {
    "duration": 20,
    "start_time": "2022-04-09T05:38:25.149Z"
   },
   {
    "duration": 48,
    "start_time": "2022-04-09T05:38:25.171Z"
   },
   {
    "duration": 18,
    "start_time": "2022-04-09T05:38:25.221Z"
   },
   {
    "duration": 19,
    "start_time": "2022-04-09T05:38:25.241Z"
   },
   {
    "duration": 56,
    "start_time": "2022-04-09T05:38:25.261Z"
   },
   {
    "duration": 133,
    "start_time": "2022-04-09T05:38:25.318Z"
   },
   {
    "duration": 22,
    "start_time": "2022-04-09T05:38:25.453Z"
   },
   {
    "duration": 64,
    "start_time": "2022-04-09T05:38:25.479Z"
   },
   {
    "duration": 25,
    "start_time": "2022-04-09T05:38:25.546Z"
   },
   {
    "duration": 34,
    "start_time": "2022-04-09T05:38:25.572Z"
   },
   {
    "duration": 19,
    "start_time": "2022-04-09T05:38:25.608Z"
   },
   {
    "duration": 23,
    "start_time": "2022-04-09T05:38:25.629Z"
   },
   {
    "duration": 109,
    "start_time": "2022-04-09T05:38:25.654Z"
   },
   {
    "duration": 20,
    "start_time": "2022-04-09T05:38:25.765Z"
   },
   {
    "duration": 14,
    "start_time": "2022-04-09T05:38:25.801Z"
   },
   {
    "duration": 21,
    "start_time": "2022-04-09T05:38:25.817Z"
   },
   {
    "duration": 15,
    "start_time": "2022-04-09T05:38:25.839Z"
   },
   {
    "duration": 49,
    "start_time": "2022-04-09T05:38:25.856Z"
   },
   {
    "duration": 20,
    "start_time": "2022-04-09T05:38:25.907Z"
   },
   {
    "duration": 9,
    "start_time": "2022-04-09T05:38:25.929Z"
   },
   {
    "duration": 6,
    "start_time": "2022-04-09T05:38:25.940Z"
   },
   {
    "duration": 38,
    "start_time": "2022-04-09T05:38:25.947Z"
   },
   {
    "duration": 11,
    "start_time": "2022-04-09T05:38:25.987Z"
   },
   {
    "duration": 7,
    "start_time": "2022-04-09T05:38:26.000Z"
   },
   {
    "duration": 7,
    "start_time": "2022-04-09T05:38:26.008Z"
   },
   {
    "duration": 10,
    "start_time": "2022-04-09T05:38:26.020Z"
   },
   {
    "duration": 4,
    "start_time": "2022-04-09T05:38:26.033Z"
   },
   {
    "duration": 68,
    "start_time": "2022-04-09T05:38:26.038Z"
   },
   {
    "duration": 34,
    "start_time": "2022-04-09T05:38:26.108Z"
   },
   {
    "duration": 11,
    "start_time": "2022-04-09T05:38:26.143Z"
   },
   {
    "duration": 46,
    "start_time": "2022-04-09T05:38:26.156Z"
   },
   {
    "duration": 10,
    "start_time": "2022-04-09T05:38:26.204Z"
   },
   {
    "duration": 9,
    "start_time": "2022-04-09T05:38:26.216Z"
   },
   {
    "duration": 46,
    "start_time": "2022-04-09T05:38:26.226Z"
   },
   {
    "duration": 14,
    "start_time": "2022-04-09T05:38:26.274Z"
   },
   {
    "duration": 27,
    "start_time": "2022-04-09T05:38:26.290Z"
   },
   {
    "duration": 10,
    "start_time": "2022-04-09T05:38:26.319Z"
   },
   {
    "duration": 6,
    "start_time": "2022-04-09T05:38:26.331Z"
   },
   {
    "duration": 19,
    "start_time": "2022-04-09T05:38:26.339Z"
   },
   {
    "duration": 19,
    "start_time": "2022-04-09T05:38:26.359Z"
   },
   {
    "duration": 23,
    "start_time": "2022-04-09T05:38:26.379Z"
   },
   {
    "duration": 13,
    "start_time": "2022-04-09T05:38:26.404Z"
   },
   {
    "duration": 24,
    "start_time": "2022-04-09T05:38:26.419Z"
   },
   {
    "duration": 57,
    "start_time": "2022-04-09T05:38:26.445Z"
   },
   {
    "duration": 12,
    "start_time": "2022-04-09T05:38:26.504Z"
   },
   {
    "duration": 8,
    "start_time": "2022-04-09T05:38:26.518Z"
   },
   {
    "duration": 29,
    "start_time": "2022-04-09T05:38:26.527Z"
   },
   {
    "duration": 5,
    "start_time": "2022-04-09T05:38:26.557Z"
   },
   {
    "duration": 154,
    "start_time": "2022-04-09T05:38:26.563Z"
   },
   {
    "duration": 7,
    "start_time": "2022-04-09T05:38:26.718Z"
   },
   {
    "duration": 9,
    "start_time": "2022-04-09T05:38:26.726Z"
   },
   {
    "duration": 4,
    "start_time": "2022-04-09T05:38:26.737Z"
   },
   {
    "duration": 5,
    "start_time": "2022-04-09T05:38:26.742Z"
   },
   {
    "duration": 4,
    "start_time": "2022-04-09T05:38:26.749Z"
   },
   {
    "duration": 9,
    "start_time": "2022-04-09T05:38:26.755Z"
   },
   {
    "duration": 6,
    "start_time": "2022-04-09T05:38:26.765Z"
   },
   {
    "duration": 31,
    "start_time": "2022-04-09T05:38:26.773Z"
   },
   {
    "duration": 6,
    "start_time": "2022-04-09T05:38:26.806Z"
   },
   {
    "duration": 4,
    "start_time": "2022-04-09T05:38:53.638Z"
   },
   {
    "duration": 8,
    "start_time": "2022-04-09T05:39:17.323Z"
   },
   {
    "duration": 4,
    "start_time": "2022-04-09T05:39:29.125Z"
   },
   {
    "duration": 4,
    "start_time": "2022-04-09T05:40:08.561Z"
   },
   {
    "duration": 3,
    "start_time": "2022-04-09T06:21:02.504Z"
   },
   {
    "duration": 4,
    "start_time": "2022-04-09T06:21:09.493Z"
   },
   {
    "duration": 4,
    "start_time": "2022-04-09T06:21:14.128Z"
   },
   {
    "duration": 4,
    "start_time": "2022-04-09T06:21:46.964Z"
   },
   {
    "duration": 2669,
    "start_time": "2022-04-09T06:23:45.453Z"
   },
   {
    "duration": 4,
    "start_time": "2022-04-09T06:24:07.718Z"
   },
   {
    "duration": 9,
    "start_time": "2022-04-09T06:25:08.137Z"
   },
   {
    "duration": 4,
    "start_time": "2022-04-09T06:25:33.899Z"
   },
   {
    "duration": 4,
    "start_time": "2022-04-09T06:31:06.542Z"
   },
   {
    "duration": 5,
    "start_time": "2022-04-09T06:31:54.671Z"
   },
   {
    "duration": 5,
    "start_time": "2022-04-09T06:32:39.646Z"
   },
   {
    "duration": 4,
    "start_time": "2022-04-09T06:34:35.781Z"
   },
   {
    "duration": 4,
    "start_time": "2022-04-09T06:35:08.460Z"
   },
   {
    "duration": 4,
    "start_time": "2022-04-09T06:37:52.314Z"
   },
   {
    "duration": 588,
    "start_time": "2022-04-09T06:41:12.882Z"
   },
   {
    "duration": 121,
    "start_time": "2022-04-09T06:41:27.255Z"
   },
   {
    "duration": 116,
    "start_time": "2022-04-09T06:41:48.730Z"
   },
   {
    "duration": 176,
    "start_time": "2022-04-09T06:42:04.046Z"
   },
   {
    "duration": 129,
    "start_time": "2022-04-09T06:42:35.322Z"
   },
   {
    "duration": 139,
    "start_time": "2022-04-09T06:42:50.001Z"
   },
   {
    "duration": 141,
    "start_time": "2022-04-09T06:43:11.797Z"
   },
   {
    "duration": 148,
    "start_time": "2022-04-09T06:43:38.796Z"
   },
   {
    "duration": 129,
    "start_time": "2022-04-09T06:43:57.131Z"
   },
   {
    "duration": 121,
    "start_time": "2022-04-09T06:44:23.250Z"
   },
   {
    "duration": 135,
    "start_time": "2022-04-09T06:44:34.466Z"
   },
   {
    "duration": 142,
    "start_time": "2022-04-09T06:44:56.709Z"
   },
   {
    "duration": 155,
    "start_time": "2022-04-09T06:45:05.301Z"
   },
   {
    "duration": 113,
    "start_time": "2022-04-09T06:45:34.215Z"
   },
   {
    "duration": 197,
    "start_time": "2022-04-09T06:45:56.187Z"
   },
   {
    "duration": 9,
    "start_time": "2022-04-09T08:24:33.947Z"
   },
   {
    "duration": 10,
    "start_time": "2022-04-09T10:30:38.507Z"
   },
   {
    "duration": 758,
    "start_time": "2022-04-10T07:00:37.299Z"
   },
   {
    "duration": 49,
    "start_time": "2022-04-10T07:00:38.061Z"
   },
   {
    "duration": 28,
    "start_time": "2022-04-10T07:00:38.112Z"
   },
   {
    "duration": 57,
    "start_time": "2022-04-10T07:00:38.169Z"
   },
   {
    "duration": 54,
    "start_time": "2022-04-10T07:00:38.228Z"
   },
   {
    "duration": 33,
    "start_time": "2022-04-10T07:00:38.285Z"
   },
   {
    "duration": 78,
    "start_time": "2022-04-10T07:00:38.320Z"
   },
   {
    "duration": 177,
    "start_time": "2022-04-10T07:00:38.401Z"
   },
   {
    "duration": 31,
    "start_time": "2022-04-10T07:00:38.581Z"
   },
   {
    "duration": 23,
    "start_time": "2022-04-10T07:00:38.617Z"
   },
   {
    "duration": 40,
    "start_time": "2022-04-10T07:00:38.669Z"
   },
   {
    "duration": 22,
    "start_time": "2022-04-10T07:00:38.711Z"
   },
   {
    "duration": 57,
    "start_time": "2022-04-10T07:00:38.735Z"
   },
   {
    "duration": 34,
    "start_time": "2022-04-10T07:00:38.795Z"
   },
   {
    "duration": 140,
    "start_time": "2022-04-10T07:00:38.832Z"
   },
   {
    "duration": 33,
    "start_time": "2022-04-10T07:00:38.975Z"
   },
   {
    "duration": 18,
    "start_time": "2022-04-10T07:00:39.010Z"
   },
   {
    "duration": 69,
    "start_time": "2022-04-10T07:00:39.030Z"
   },
   {
    "duration": 20,
    "start_time": "2022-04-10T07:00:39.101Z"
   },
   {
    "duration": 60,
    "start_time": "2022-04-10T07:00:39.123Z"
   },
   {
    "duration": 20,
    "start_time": "2022-04-10T07:00:39.186Z"
   },
   {
    "duration": 15,
    "start_time": "2022-04-10T07:00:39.208Z"
   },
   {
    "duration": 8,
    "start_time": "2022-04-10T07:00:39.225Z"
   },
   {
    "duration": 51,
    "start_time": "2022-04-10T07:00:39.236Z"
   },
   {
    "duration": 16,
    "start_time": "2022-04-10T07:00:39.290Z"
   },
   {
    "duration": 9,
    "start_time": "2022-04-10T07:00:39.308Z"
   },
   {
    "duration": 8,
    "start_time": "2022-04-10T07:00:39.319Z"
   },
   {
    "duration": 25,
    "start_time": "2022-04-10T07:00:39.367Z"
   },
   {
    "duration": 6,
    "start_time": "2022-04-10T07:00:39.395Z"
   },
   {
    "duration": 114,
    "start_time": "2022-04-10T07:00:39.404Z"
   },
   {
    "duration": 72,
    "start_time": "2022-04-10T07:00:39.521Z"
   },
   {
    "duration": 16,
    "start_time": "2022-04-10T07:00:39.596Z"
   },
   {
    "duration": 56,
    "start_time": "2022-04-10T07:00:39.614Z"
   },
   {
    "duration": 18,
    "start_time": "2022-04-10T07:00:39.674Z"
   },
   {
    "duration": 7,
    "start_time": "2022-04-10T07:00:39.695Z"
   },
   {
    "duration": 67,
    "start_time": "2022-04-10T07:00:39.704Z"
   },
   {
    "duration": 26,
    "start_time": "2022-04-10T07:00:39.776Z"
   },
   {
    "duration": 33,
    "start_time": "2022-04-10T07:00:39.804Z"
   },
   {
    "duration": 47,
    "start_time": "2022-04-10T07:00:39.839Z"
   },
   {
    "duration": 9,
    "start_time": "2022-04-10T07:00:39.888Z"
   },
   {
    "duration": 7,
    "start_time": "2022-04-10T07:00:39.899Z"
   },
   {
    "duration": 19,
    "start_time": "2022-04-10T07:00:39.909Z"
   },
   {
    "duration": 68,
    "start_time": "2022-04-10T07:00:39.930Z"
   },
   {
    "duration": 27,
    "start_time": "2022-04-10T07:00:40.001Z"
   },
   {
    "duration": 64,
    "start_time": "2022-04-10T07:00:40.030Z"
   },
   {
    "duration": 55,
    "start_time": "2022-04-10T07:00:40.096Z"
   },
   {
    "duration": 24,
    "start_time": "2022-04-10T07:00:40.167Z"
   },
   {
    "duration": 9,
    "start_time": "2022-04-10T07:00:40.194Z"
   },
   {
    "duration": 86,
    "start_time": "2022-04-10T07:00:40.205Z"
   },
   {
    "duration": 7,
    "start_time": "2022-04-10T07:00:40.293Z"
   },
   {
    "duration": 250,
    "start_time": "2022-04-10T07:00:40.302Z"
   },
   {
    "duration": 17,
    "start_time": "2022-04-10T07:00:40.554Z"
   },
   {
    "duration": 17,
    "start_time": "2022-04-10T07:00:40.575Z"
   },
   {
    "duration": 5,
    "start_time": "2022-04-10T07:00:40.595Z"
   },
   {
    "duration": 5,
    "start_time": "2022-04-10T07:00:40.602Z"
   },
   {
    "duration": 7,
    "start_time": "2022-04-10T07:00:40.609Z"
   },
   {
    "duration": 6,
    "start_time": "2022-04-10T07:00:40.618Z"
   },
   {
    "duration": 6,
    "start_time": "2022-04-10T07:00:40.667Z"
   },
   {
    "duration": 19,
    "start_time": "2022-04-10T07:00:40.676Z"
   },
   {
    "duration": 6,
    "start_time": "2022-04-10T07:00:40.697Z"
   },
   {
    "duration": 6,
    "start_time": "2022-04-10T07:00:40.705Z"
   },
   {
    "duration": 912,
    "start_time": "2022-04-10T07:00:40.713Z"
   },
   {
    "duration": 11,
    "start_time": "2022-04-10T07:00:41.627Z"
   },
   {
    "duration": 281,
    "start_time": "2022-04-10T07:00:41.641Z"
   },
   {
    "duration": 266,
    "start_time": "2022-04-10T07:00:41.924Z"
   },
   {
    "duration": 16,
    "start_time": "2022-04-10T07:00:42.193Z"
   },
   {
    "duration": 6,
    "start_time": "2022-04-10T07:00:42.212Z"
   },
   {
    "duration": 11,
    "start_time": "2022-04-10T07:00:42.221Z"
   },
   {
    "duration": 7,
    "start_time": "2022-04-10T07:00:42.268Z"
   },
   {
    "duration": 6,
    "start_time": "2022-04-10T07:00:42.278Z"
   },
   {
    "duration": 21,
    "start_time": "2022-04-10T07:00:42.287Z"
   },
   {
    "duration": 114,
    "start_time": "2022-04-10T07:00:42.311Z"
   },
   {
    "duration": 9,
    "start_time": "2022-04-10T07:00:42.428Z"
   },
   {
    "duration": 5,
    "start_time": "2022-04-10T07:00:42.439Z"
   },
   {
    "duration": 23,
    "start_time": "2022-04-10T07:00:42.446Z"
   },
   {
    "duration": 268,
    "start_time": "2022-04-10T07:00:42.472Z"
   },
   {
    "duration": 244,
    "start_time": "2022-04-10T07:00:42.743Z"
   },
   {
    "duration": 235,
    "start_time": "2022-04-10T07:00:42.991Z"
   },
   {
    "duration": 10,
    "start_time": "2022-04-10T07:09:00.653Z"
   },
   {
    "duration": 10,
    "start_time": "2022-04-10T07:19:09.241Z"
   },
   {
    "duration": 12,
    "start_time": "2022-04-10T07:19:33.879Z"
   },
   {
    "duration": 11,
    "start_time": "2022-04-10T07:24:05.232Z"
   },
   {
    "duration": 10,
    "start_time": "2022-04-10T07:27:29.254Z"
   },
   {
    "duration": 12,
    "start_time": "2022-04-10T07:33:06.973Z"
   },
   {
    "duration": 10,
    "start_time": "2022-04-10T07:35:05.483Z"
   },
   {
    "duration": 209,
    "start_time": "2022-04-10T07:49:26.941Z"
   },
   {
    "duration": 157,
    "start_time": "2022-04-10T09:27:47.498Z"
   },
   {
    "duration": 863,
    "start_time": "2022-04-10T09:27:56.650Z"
   },
   {
    "duration": 55,
    "start_time": "2022-04-10T09:27:57.517Z"
   },
   {
    "duration": 57,
    "start_time": "2022-04-10T09:27:57.575Z"
   },
   {
    "duration": 65,
    "start_time": "2022-04-10T09:27:57.635Z"
   },
   {
    "duration": 26,
    "start_time": "2022-04-10T09:27:57.702Z"
   },
   {
    "duration": 59,
    "start_time": "2022-04-10T09:27:57.730Z"
   },
   {
    "duration": 44,
    "start_time": "2022-04-10T09:27:57.792Z"
   },
   {
    "duration": 223,
    "start_time": "2022-04-10T09:27:57.838Z"
   },
   {
    "duration": 36,
    "start_time": "2022-04-10T09:27:58.068Z"
   },
   {
    "duration": 22,
    "start_time": "2022-04-10T09:27:58.110Z"
   },
   {
    "duration": 71,
    "start_time": "2022-04-10T09:27:58.134Z"
   },
   {
    "duration": 24,
    "start_time": "2022-04-10T09:27:58.208Z"
   },
   {
    "duration": 57,
    "start_time": "2022-04-10T09:27:58.234Z"
   },
   {
    "duration": 36,
    "start_time": "2022-04-10T09:27:58.294Z"
   },
   {
    "duration": 141,
    "start_time": "2022-04-10T09:27:58.332Z"
   },
   {
    "duration": 30,
    "start_time": "2022-04-10T09:27:58.476Z"
   },
   {
    "duration": 17,
    "start_time": "2022-04-10T09:27:58.508Z"
   },
   {
    "duration": 71,
    "start_time": "2022-04-10T09:27:58.528Z"
   },
   {
    "duration": 21,
    "start_time": "2022-04-10T09:27:58.601Z"
   },
   {
    "duration": 60,
    "start_time": "2022-04-10T09:27:58.624Z"
   },
   {
    "duration": 22,
    "start_time": "2022-04-10T09:27:58.687Z"
   },
   {
    "duration": 19,
    "start_time": "2022-04-10T09:27:58.711Z"
   },
   {
    "duration": 7,
    "start_time": "2022-04-10T09:27:58.732Z"
   },
   {
    "duration": 35,
    "start_time": "2022-04-10T09:27:58.768Z"
   },
   {
    "duration": 17,
    "start_time": "2022-04-10T09:27:58.806Z"
   },
   {
    "duration": 11,
    "start_time": "2022-04-10T09:27:58.825Z"
   },
   {
    "duration": 29,
    "start_time": "2022-04-10T09:27:58.838Z"
   },
   {
    "duration": 26,
    "start_time": "2022-04-10T09:27:58.879Z"
   },
   {
    "duration": 6,
    "start_time": "2022-04-10T09:27:58.908Z"
   },
   {
    "duration": 100,
    "start_time": "2022-04-10T09:27:58.916Z"
   },
   {
    "duration": 66,
    "start_time": "2022-04-10T09:27:59.018Z"
   },
   {
    "duration": 16,
    "start_time": "2022-04-10T09:27:59.086Z"
   },
   {
    "duration": 74,
    "start_time": "2022-04-10T09:27:59.104Z"
   },
   {
    "duration": 17,
    "start_time": "2022-04-10T09:27:59.181Z"
   },
   {
    "duration": 8,
    "start_time": "2022-04-10T09:27:59.200Z"
   },
   {
    "duration": 61,
    "start_time": "2022-04-10T09:27:59.210Z"
   },
   {
    "duration": 28,
    "start_time": "2022-04-10T09:27:59.274Z"
   },
   {
    "duration": 36,
    "start_time": "2022-04-10T09:27:59.305Z"
   },
   {
    "duration": 22,
    "start_time": "2022-04-10T09:27:59.371Z"
   },
   {
    "duration": 8,
    "start_time": "2022-04-10T09:27:59.395Z"
   },
   {
    "duration": 9,
    "start_time": "2022-04-10T09:27:59.406Z"
   },
   {
    "duration": 64,
    "start_time": "2022-04-10T09:27:59.418Z"
   },
   {
    "duration": 24,
    "start_time": "2022-04-10T09:27:59.485Z"
   },
   {
    "duration": 60,
    "start_time": "2022-04-10T09:27:59.512Z"
   },
   {
    "duration": 59,
    "start_time": "2022-04-10T09:27:59.575Z"
   },
   {
    "duration": 95,
    "start_time": "2022-04-10T09:27:59.637Z"
   },
   {
    "duration": 19,
    "start_time": "2022-04-10T09:27:59.735Z"
   },
   {
    "duration": 24,
    "start_time": "2022-04-10T09:27:59.756Z"
   },
   {
    "duration": 51,
    "start_time": "2022-04-10T09:27:59.784Z"
   },
   {
    "duration": 31,
    "start_time": "2022-04-10T09:27:59.837Z"
   },
   {
    "duration": 259,
    "start_time": "2022-04-10T09:27:59.871Z"
   },
   {
    "duration": 12,
    "start_time": "2022-04-10T09:28:00.132Z"
   },
   {
    "duration": 24,
    "start_time": "2022-04-10T09:28:00.146Z"
   },
   {
    "duration": 21,
    "start_time": "2022-04-10T09:28:00.178Z"
   },
   {
    "duration": 10,
    "start_time": "2022-04-10T09:28:00.202Z"
   },
   {
    "duration": 6,
    "start_time": "2022-04-10T09:28:00.214Z"
   },
   {
    "duration": 12,
    "start_time": "2022-04-10T09:28:00.222Z"
   },
   {
    "duration": 23,
    "start_time": "2022-04-10T09:28:00.236Z"
   },
   {
    "duration": 26,
    "start_time": "2022-04-10T09:28:00.273Z"
   },
   {
    "duration": 15,
    "start_time": "2022-04-10T09:28:00.301Z"
   },
   {
    "duration": 13,
    "start_time": "2022-04-10T09:28:00.318Z"
   },
   {
    "duration": 258,
    "start_time": "2022-04-10T09:28:00.333Z"
   },
   {
    "duration": 12,
    "start_time": "2022-04-10T09:28:00.594Z"
   },
   {
    "duration": 282,
    "start_time": "2022-04-10T09:28:00.608Z"
   },
   {
    "duration": 12,
    "start_time": "2022-04-10T09:28:00.892Z"
   },
   {
    "duration": 426,
    "start_time": "2022-04-10T09:28:00.906Z"
   },
   {
    "duration": 10,
    "start_time": "2022-04-10T09:28:01.335Z"
   },
   {
    "duration": 32,
    "start_time": "2022-04-10T09:28:01.348Z"
   },
   {
    "duration": 16,
    "start_time": "2022-04-10T09:28:01.382Z"
   },
   {
    "duration": 14,
    "start_time": "2022-04-10T09:28:01.400Z"
   },
   {
    "duration": 11,
    "start_time": "2022-04-10T09:28:01.417Z"
   },
   {
    "duration": 20,
    "start_time": "2022-04-10T09:28:01.432Z"
   },
   {
    "duration": 8,
    "start_time": "2022-04-10T09:28:01.468Z"
   },
   {
    "duration": 18,
    "start_time": "2022-04-10T09:28:01.479Z"
   },
   {
    "duration": 11,
    "start_time": "2022-04-10T09:28:01.499Z"
   },
   {
    "duration": 9,
    "start_time": "2022-04-10T09:28:01.512Z"
   },
   {
    "duration": 10,
    "start_time": "2022-04-10T09:28:01.524Z"
   },
   {
    "duration": 298,
    "start_time": "2022-04-10T09:28:01.536Z"
   },
   {
    "duration": 11,
    "start_time": "2022-04-10T09:28:01.837Z"
   },
   {
    "duration": 260,
    "start_time": "2022-04-10T09:28:01.850Z"
   },
   {
    "duration": 14,
    "start_time": "2022-04-10T09:28:02.113Z"
   },
   {
    "duration": 260,
    "start_time": "2022-04-10T09:28:02.140Z"
   },
   {
    "duration": 11,
    "start_time": "2022-04-10T09:28:02.402Z"
   },
   {
    "duration": 79,
    "start_time": "2022-04-10T09:28:02.415Z"
   },
   {
    "duration": 14,
    "start_time": "2022-04-10T09:29:02.701Z"
   },
   {
    "duration": 7,
    "start_time": "2022-04-10T09:32:48.426Z"
   },
   {
    "duration": 7,
    "start_time": "2022-04-10T09:43:56.905Z"
   },
   {
    "duration": 5,
    "start_time": "2022-04-10T09:49:49.403Z"
   },
   {
    "duration": 5,
    "start_time": "2022-04-10T09:49:59.915Z"
   },
   {
    "duration": 5,
    "start_time": "2022-04-10T09:50:25.390Z"
   },
   {
    "duration": 134,
    "start_time": "2022-04-10T09:53:11.239Z"
   },
   {
    "duration": 327,
    "start_time": "2022-04-10T09:55:36.104Z"
   },
   {
    "duration": 8,
    "start_time": "2022-04-10T09:57:46.492Z"
   },
   {
    "duration": 10,
    "start_time": "2022-04-10T10:00:15.197Z"
   },
   {
    "duration": 9,
    "start_time": "2022-04-10T10:01:38.002Z"
   },
   {
    "duration": 26,
    "start_time": "2022-04-10T10:05:33.828Z"
   },
   {
    "duration": 5,
    "start_time": "2022-04-10T10:05:49.440Z"
   },
   {
    "duration": 4,
    "start_time": "2022-04-10T10:05:51.982Z"
   },
   {
    "duration": 4,
    "start_time": "2022-04-10T10:06:02.709Z"
   },
   {
    "duration": 17,
    "start_time": "2022-04-10T10:06:36.985Z"
   },
   {
    "duration": 36,
    "start_time": "2022-04-10T10:06:51.464Z"
   },
   {
    "duration": 12,
    "start_time": "2022-04-10T10:07:49.981Z"
   },
   {
    "duration": 6,
    "start_time": "2022-04-10T10:08:24.587Z"
   },
   {
    "duration": 12,
    "start_time": "2022-04-10T10:08:42.389Z"
   },
   {
    "duration": 247,
    "start_time": "2022-04-10T10:08:58.391Z"
   },
   {
    "duration": 69,
    "start_time": "2022-04-10T10:08:58.641Z"
   },
   {
    "duration": 56,
    "start_time": "2022-04-10T10:08:58.713Z"
   },
   {
    "duration": 51,
    "start_time": "2022-04-10T10:08:58.773Z"
   },
   {
    "duration": 56,
    "start_time": "2022-04-10T10:08:58.827Z"
   },
   {
    "duration": 29,
    "start_time": "2022-04-10T10:08:58.886Z"
   },
   {
    "duration": 70,
    "start_time": "2022-04-10T10:08:58.918Z"
   },
   {
    "duration": 195,
    "start_time": "2022-04-10T10:08:58.990Z"
   },
   {
    "duration": 32,
    "start_time": "2022-04-10T10:08:59.188Z"
   },
   {
    "duration": 47,
    "start_time": "2022-04-10T10:08:59.226Z"
   },
   {
    "duration": 40,
    "start_time": "2022-04-10T10:08:59.275Z"
   },
   {
    "duration": 56,
    "start_time": "2022-04-10T10:08:59.317Z"
   },
   {
    "duration": 28,
    "start_time": "2022-04-10T10:08:59.378Z"
   },
   {
    "duration": 60,
    "start_time": "2022-04-10T10:08:59.408Z"
   },
   {
    "duration": 133,
    "start_time": "2022-04-10T10:08:59.472Z"
   },
   {
    "duration": 28,
    "start_time": "2022-04-10T10:08:59.607Z"
   },
   {
    "duration": 47,
    "start_time": "2022-04-10T10:08:59.637Z"
   },
   {
    "duration": 49,
    "start_time": "2022-04-10T10:08:59.689Z"
   },
   {
    "duration": 60,
    "start_time": "2022-04-10T10:08:59.742Z"
   },
   {
    "duration": 62,
    "start_time": "2022-04-10T10:08:59.806Z"
   },
   {
    "duration": 31,
    "start_time": "2022-04-10T10:08:59.871Z"
   },
   {
    "duration": 19,
    "start_time": "2022-04-10T10:08:59.904Z"
   },
   {
    "duration": 45,
    "start_time": "2022-04-10T10:08:59.925Z"
   },
   {
    "duration": 35,
    "start_time": "2022-04-10T10:08:59.973Z"
   },
   {
    "duration": 17,
    "start_time": "2022-04-10T10:09:00.011Z"
   },
   {
    "duration": 39,
    "start_time": "2022-04-10T10:09:00.030Z"
   },
   {
    "duration": 28,
    "start_time": "2022-04-10T10:09:00.073Z"
   },
   {
    "duration": 17,
    "start_time": "2022-04-10T10:09:00.108Z"
   },
   {
    "duration": 11,
    "start_time": "2022-04-10T10:09:00.129Z"
   },
   {
    "duration": 127,
    "start_time": "2022-04-10T10:09:00.143Z"
   },
   {
    "duration": 111,
    "start_time": "2022-04-10T10:09:00.274Z"
   },
   {
    "duration": 17,
    "start_time": "2022-04-10T10:09:00.388Z"
   },
   {
    "duration": 63,
    "start_time": "2022-04-10T10:09:00.407Z"
   },
   {
    "duration": 17,
    "start_time": "2022-04-10T10:09:00.480Z"
   },
   {
    "duration": 13,
    "start_time": "2022-04-10T10:09:00.500Z"
   },
   {
    "duration": 75,
    "start_time": "2022-04-10T10:09:00.516Z"
   },
   {
    "duration": 24,
    "start_time": "2022-04-10T10:09:00.595Z"
   },
   {
    "duration": 65,
    "start_time": "2022-04-10T10:09:00.622Z"
   },
   {
    "duration": 18,
    "start_time": "2022-04-10T10:09:00.690Z"
   },
   {
    "duration": 19,
    "start_time": "2022-04-10T10:09:00.711Z"
   },
   {
    "duration": 18,
    "start_time": "2022-04-10T10:09:00.733Z"
   },
   {
    "duration": 43,
    "start_time": "2022-04-10T10:09:00.753Z"
   },
   {
    "duration": 25,
    "start_time": "2022-04-10T10:09:00.798Z"
   },
   {
    "duration": 80,
    "start_time": "2022-04-10T10:09:00.826Z"
   },
   {
    "duration": 47,
    "start_time": "2022-04-10T10:09:00.908Z"
   },
   {
    "duration": 87,
    "start_time": "2022-04-10T10:09:00.957Z"
   },
   {
    "duration": 44,
    "start_time": "2022-04-10T10:09:01.047Z"
   },
   {
    "duration": 11,
    "start_time": "2022-04-10T10:09:01.093Z"
   },
   {
    "duration": 101,
    "start_time": "2022-04-10T10:09:01.107Z"
   },
   {
    "duration": 7,
    "start_time": "2022-04-10T10:09:01.211Z"
   },
   {
    "duration": 253,
    "start_time": "2022-04-10T10:09:01.221Z"
   },
   {
    "duration": 13,
    "start_time": "2022-04-10T10:09:01.477Z"
   },
   {
    "duration": 15,
    "start_time": "2022-04-10T10:09:01.493Z"
   },
   {
    "duration": 16,
    "start_time": "2022-04-10T10:09:01.511Z"
   },
   {
    "duration": 13,
    "start_time": "2022-04-10T10:09:01.529Z"
   },
   {
    "duration": 25,
    "start_time": "2022-04-10T10:09:01.544Z"
   },
   {
    "duration": 15,
    "start_time": "2022-04-10T10:09:01.572Z"
   },
   {
    "duration": 12,
    "start_time": "2022-04-10T10:09:01.591Z"
   },
   {
    "duration": 8,
    "start_time": "2022-04-10T10:09:01.606Z"
   },
   {
    "duration": 16,
    "start_time": "2022-04-10T10:09:01.616Z"
   },
   {
    "duration": 38,
    "start_time": "2022-04-10T10:09:01.634Z"
   },
   {
    "duration": 253,
    "start_time": "2022-04-10T10:09:01.676Z"
   },
   {
    "duration": 12,
    "start_time": "2022-04-10T10:09:01.932Z"
   },
   {
    "duration": 271,
    "start_time": "2022-04-10T10:09:01.948Z"
   },
   {
    "duration": 11,
    "start_time": "2022-04-10T10:09:02.221Z"
   },
   {
    "duration": 261,
    "start_time": "2022-04-10T10:09:02.234Z"
   },
   {
    "duration": 12,
    "start_time": "2022-04-10T10:09:02.497Z"
   },
   {
    "duration": 18,
    "start_time": "2022-04-10T10:09:02.511Z"
   },
   {
    "duration": 9,
    "start_time": "2022-04-10T10:09:02.531Z"
   },
   {
    "duration": 6,
    "start_time": "2022-04-10T10:09:02.568Z"
   },
   {
    "duration": 21,
    "start_time": "2022-04-10T10:09:02.577Z"
   },
   {
    "duration": 14,
    "start_time": "2022-04-10T10:09:02.601Z"
   },
   {
    "duration": 10,
    "start_time": "2022-04-10T10:09:02.618Z"
   },
   {
    "duration": 9,
    "start_time": "2022-04-10T10:09:02.631Z"
   },
   {
    "duration": 10,
    "start_time": "2022-04-10T10:09:02.667Z"
   },
   {
    "duration": 20,
    "start_time": "2022-04-10T10:09:02.681Z"
   },
   {
    "duration": 10,
    "start_time": "2022-04-10T10:09:02.703Z"
   },
   {
    "duration": 285,
    "start_time": "2022-04-10T10:09:02.716Z"
   },
   {
    "duration": 9,
    "start_time": "2022-04-10T10:09:03.004Z"
   },
   {
    "duration": 258,
    "start_time": "2022-04-10T10:09:03.016Z"
   },
   {
    "duration": 12,
    "start_time": "2022-04-10T10:09:03.277Z"
   },
   {
    "duration": 259,
    "start_time": "2022-04-10T10:09:03.298Z"
   },
   {
    "duration": 19,
    "start_time": "2022-04-10T10:09:03.560Z"
   },
   {
    "duration": 17,
    "start_time": "2022-04-10T10:09:03.583Z"
   },
   {
    "duration": 15,
    "start_time": "2022-04-10T10:09:03.603Z"
   },
   {
    "duration": 14,
    "start_time": "2022-04-10T10:09:03.623Z"
   },
   {
    "duration": 9,
    "start_time": "2022-04-10T10:09:03.669Z"
   },
   {
    "duration": 20,
    "start_time": "2022-04-10T10:09:03.681Z"
   },
   {
    "duration": 12,
    "start_time": "2022-04-10T10:12:20.502Z"
   },
   {
    "duration": 306,
    "start_time": "2022-04-10T10:12:30.406Z"
   },
   {
    "duration": 77,
    "start_time": "2022-04-10T10:12:30.715Z"
   },
   {
    "duration": 48,
    "start_time": "2022-04-10T10:12:30.797Z"
   },
   {
    "duration": 95,
    "start_time": "2022-04-10T10:12:30.866Z"
   },
   {
    "duration": 36,
    "start_time": "2022-04-10T10:12:30.963Z"
   },
   {
    "duration": 29,
    "start_time": "2022-04-10T10:12:31.002Z"
   },
   {
    "duration": 81,
    "start_time": "2022-04-10T10:12:31.034Z"
   },
   {
    "duration": 207,
    "start_time": "2022-04-10T10:12:31.118Z"
   },
   {
    "duration": 41,
    "start_time": "2022-04-10T10:12:31.327Z"
   },
   {
    "duration": 24,
    "start_time": "2022-04-10T10:12:31.379Z"
   },
   {
    "duration": 50,
    "start_time": "2022-04-10T10:12:31.406Z"
   },
   {
    "duration": 140,
    "start_time": "2022-04-10T10:12:31.458Z"
   },
   {
    "duration": 27,
    "start_time": "2022-04-10T10:12:31.600Z"
   },
   {
    "duration": 68,
    "start_time": "2022-04-10T10:12:31.629Z"
   },
   {
    "duration": 133,
    "start_time": "2022-04-10T10:12:31.700Z"
   },
   {
    "duration": 35,
    "start_time": "2022-04-10T10:12:31.835Z"
   },
   {
    "duration": 24,
    "start_time": "2022-04-10T10:12:31.874Z"
   },
   {
    "duration": 71,
    "start_time": "2022-04-10T10:12:31.902Z"
   },
   {
    "duration": 33,
    "start_time": "2022-04-10T10:12:31.977Z"
   },
   {
    "duration": 63,
    "start_time": "2022-04-10T10:12:32.013Z"
   },
   {
    "duration": 22,
    "start_time": "2022-04-10T10:12:32.079Z"
   },
   {
    "duration": 17,
    "start_time": "2022-04-10T10:12:32.103Z"
   },
   {
    "duration": 11,
    "start_time": "2022-04-10T10:12:32.122Z"
   },
   {
    "duration": 61,
    "start_time": "2022-04-10T10:12:32.135Z"
   },
   {
    "duration": 25,
    "start_time": "2022-04-10T10:12:32.200Z"
   },
   {
    "duration": 41,
    "start_time": "2022-04-10T10:12:32.229Z"
   },
   {
    "duration": 26,
    "start_time": "2022-04-10T10:12:32.274Z"
   },
   {
    "duration": 17,
    "start_time": "2022-04-10T10:12:32.309Z"
   },
   {
    "duration": 5,
    "start_time": "2022-04-10T10:12:32.329Z"
   },
   {
    "duration": 89,
    "start_time": "2022-04-10T10:12:32.337Z"
   },
   {
    "duration": 81,
    "start_time": "2022-04-10T10:12:32.429Z"
   },
   {
    "duration": 16,
    "start_time": "2022-04-10T10:12:32.513Z"
   },
   {
    "duration": 59,
    "start_time": "2022-04-10T10:12:32.531Z"
   },
   {
    "duration": 17,
    "start_time": "2022-04-10T10:12:32.593Z"
   },
   {
    "duration": 15,
    "start_time": "2022-04-10T10:12:32.612Z"
   },
   {
    "duration": 61,
    "start_time": "2022-04-10T10:12:32.629Z"
   },
   {
    "duration": 21,
    "start_time": "2022-04-10T10:12:32.692Z"
   },
   {
    "duration": 57,
    "start_time": "2022-04-10T10:12:32.716Z"
   },
   {
    "duration": 18,
    "start_time": "2022-04-10T10:12:32.777Z"
   },
   {
    "duration": 9,
    "start_time": "2022-04-10T10:12:32.797Z"
   },
   {
    "duration": 9,
    "start_time": "2022-04-10T10:12:32.808Z"
   },
   {
    "duration": 69,
    "start_time": "2022-04-10T10:12:32.819Z"
   },
   {
    "duration": 25,
    "start_time": "2022-04-10T10:12:32.891Z"
   },
   {
    "duration": 65,
    "start_time": "2022-04-10T10:12:32.918Z"
   },
   {
    "duration": 39,
    "start_time": "2022-04-10T10:12:32.986Z"
   },
   {
    "duration": 97,
    "start_time": "2022-04-10T10:12:33.028Z"
   },
   {
    "duration": 20,
    "start_time": "2022-04-10T10:12:33.127Z"
   },
   {
    "duration": 20,
    "start_time": "2022-04-10T10:12:33.169Z"
   },
   {
    "duration": 79,
    "start_time": "2022-04-10T10:12:33.191Z"
   },
   {
    "duration": 9,
    "start_time": "2022-04-10T10:12:33.273Z"
   },
   {
    "duration": 275,
    "start_time": "2022-04-10T10:12:33.285Z"
   },
   {
    "duration": 13,
    "start_time": "2022-04-10T10:12:33.563Z"
   },
   {
    "duration": 17,
    "start_time": "2022-04-10T10:12:33.579Z"
   },
   {
    "duration": 10,
    "start_time": "2022-04-10T10:12:33.599Z"
   },
   {
    "duration": 5,
    "start_time": "2022-04-10T10:12:33.611Z"
   },
   {
    "duration": 7,
    "start_time": "2022-04-10T10:12:33.619Z"
   },
   {
    "duration": 12,
    "start_time": "2022-04-10T10:12:33.668Z"
   },
   {
    "duration": 11,
    "start_time": "2022-04-10T10:12:33.687Z"
   },
   {
    "duration": 6,
    "start_time": "2022-04-10T10:12:33.700Z"
   },
   {
    "duration": 6,
    "start_time": "2022-04-10T10:12:33.709Z"
   },
   {
    "duration": 7,
    "start_time": "2022-04-10T10:12:33.717Z"
   },
   {
    "duration": 431,
    "start_time": "2022-04-10T10:12:33.770Z"
   },
   {
    "duration": 16,
    "start_time": "2022-04-10T10:12:34.205Z"
   },
   {
    "duration": 279,
    "start_time": "2022-04-10T10:12:34.224Z"
   },
   {
    "duration": 11,
    "start_time": "2022-04-10T10:12:34.506Z"
   },
   {
    "duration": 271,
    "start_time": "2022-04-10T10:12:34.519Z"
   },
   {
    "duration": 11,
    "start_time": "2022-04-10T10:12:34.792Z"
   },
   {
    "duration": 9,
    "start_time": "2022-04-10T10:12:34.805Z"
   },
   {
    "duration": 6,
    "start_time": "2022-04-10T10:12:34.817Z"
   },
   {
    "duration": 42,
    "start_time": "2022-04-10T10:12:34.825Z"
   },
   {
    "duration": 6,
    "start_time": "2022-04-10T10:12:34.870Z"
   },
   {
    "duration": 19,
    "start_time": "2022-04-10T10:12:34.879Z"
   },
   {
    "duration": 8,
    "start_time": "2022-04-10T10:12:34.901Z"
   },
   {
    "duration": 10,
    "start_time": "2022-04-10T10:12:34.911Z"
   },
   {
    "duration": 47,
    "start_time": "2022-04-10T10:12:34.923Z"
   },
   {
    "duration": 22,
    "start_time": "2022-04-10T10:12:34.972Z"
   },
   {
    "duration": 9,
    "start_time": "2022-04-10T10:12:34.996Z"
   },
   {
    "duration": 289,
    "start_time": "2022-04-10T10:12:35.007Z"
   },
   {
    "duration": 11,
    "start_time": "2022-04-10T10:12:35.298Z"
   },
   {
    "duration": 249,
    "start_time": "2022-04-10T10:12:35.311Z"
   },
   {
    "duration": 15,
    "start_time": "2022-04-10T10:12:35.562Z"
   },
   {
    "duration": 262,
    "start_time": "2022-04-10T10:12:35.589Z"
   },
   {
    "duration": 18,
    "start_time": "2022-04-10T10:12:35.853Z"
   },
   {
    "duration": 21,
    "start_time": "2022-04-10T10:12:35.874Z"
   },
   {
    "duration": 16,
    "start_time": "2022-04-10T10:12:35.899Z"
   },
   {
    "duration": 10,
    "start_time": "2022-04-10T10:12:35.919Z"
   },
   {
    "duration": 41,
    "start_time": "2022-04-10T10:12:35.931Z"
   },
   {
    "duration": 266,
    "start_time": "2022-04-10T10:38:39.687Z"
   },
   {
    "duration": 44,
    "start_time": "2022-04-10T10:38:39.969Z"
   },
   {
    "duration": 25,
    "start_time": "2022-04-10T10:38:40.015Z"
   },
   {
    "duration": 72,
    "start_time": "2022-04-10T10:38:40.042Z"
   },
   {
    "duration": 53,
    "start_time": "2022-04-10T10:38:40.117Z"
   },
   {
    "duration": 32,
    "start_time": "2022-04-10T10:38:40.178Z"
   },
   {
    "duration": 56,
    "start_time": "2022-04-10T10:38:40.212Z"
   },
   {
    "duration": 179,
    "start_time": "2022-04-10T10:38:40.275Z"
   },
   {
    "duration": 47,
    "start_time": "2022-04-10T10:38:40.457Z"
   },
   {
    "duration": 22,
    "start_time": "2022-04-10T10:38:40.507Z"
   },
   {
    "duration": 66,
    "start_time": "2022-04-10T10:38:40.531Z"
   },
   {
    "duration": 23,
    "start_time": "2022-04-10T10:38:40.600Z"
   },
   {
    "duration": 65,
    "start_time": "2022-04-10T10:38:40.625Z"
   },
   {
    "duration": 33,
    "start_time": "2022-04-10T10:38:40.694Z"
   },
   {
    "duration": 172,
    "start_time": "2022-04-10T10:38:40.730Z"
   },
   {
    "duration": 27,
    "start_time": "2022-04-10T10:38:40.904Z"
   },
   {
    "duration": 56,
    "start_time": "2022-04-10T10:38:40.933Z"
   },
   {
    "duration": 33,
    "start_time": "2022-04-10T10:38:40.991Z"
   },
   {
    "duration": 51,
    "start_time": "2022-04-10T10:38:41.026Z"
   },
   {
    "duration": 31,
    "start_time": "2022-04-10T10:38:41.081Z"
   },
   {
    "duration": 20,
    "start_time": "2022-04-10T10:38:41.114Z"
   },
   {
    "duration": 22,
    "start_time": "2022-04-10T10:38:41.169Z"
   },
   {
    "duration": 7,
    "start_time": "2022-04-10T10:38:41.194Z"
   },
   {
    "duration": 34,
    "start_time": "2022-04-10T10:38:41.204Z"
   },
   {
    "duration": 48,
    "start_time": "2022-04-10T10:38:41.240Z"
   },
   {
    "duration": 8,
    "start_time": "2022-04-10T10:38:41.290Z"
   },
   {
    "duration": 9,
    "start_time": "2022-04-10T10:38:41.301Z"
   },
   {
    "duration": 18,
    "start_time": "2022-04-10T10:38:41.313Z"
   },
   {
    "duration": 7,
    "start_time": "2022-04-10T10:38:41.367Z"
   },
   {
    "duration": 67,
    "start_time": "2022-04-10T10:38:41.377Z"
   },
   {
    "duration": 76,
    "start_time": "2022-04-10T10:38:41.446Z"
   },
   {
    "duration": 15,
    "start_time": "2022-04-10T10:38:41.525Z"
   },
   {
    "duration": 61,
    "start_time": "2022-04-10T10:38:41.542Z"
   },
   {
    "duration": 17,
    "start_time": "2022-04-10T10:38:41.605Z"
   },
   {
    "duration": 6,
    "start_time": "2022-04-10T10:38:41.625Z"
   },
   {
    "duration": 111,
    "start_time": "2022-04-10T10:38:41.635Z"
   },
   {
    "duration": 51,
    "start_time": "2022-04-10T10:38:41.749Z"
   },
   {
    "duration": 34,
    "start_time": "2022-04-10T10:38:41.803Z"
   },
   {
    "duration": 50,
    "start_time": "2022-04-10T10:38:41.839Z"
   },
   {
    "duration": 13,
    "start_time": "2022-04-10T10:38:41.893Z"
   },
   {
    "duration": 13,
    "start_time": "2022-04-10T10:38:41.923Z"
   },
   {
    "duration": 53,
    "start_time": "2022-04-10T10:38:41.938Z"
   },
   {
    "duration": 27,
    "start_time": "2022-04-10T10:38:41.994Z"
   },
   {
    "duration": 48,
    "start_time": "2022-04-10T10:38:42.023Z"
   },
   {
    "duration": 43,
    "start_time": "2022-04-10T10:38:42.075Z"
   },
   {
    "duration": 111,
    "start_time": "2022-04-10T10:38:42.122Z"
   },
   {
    "duration": 35,
    "start_time": "2022-04-10T10:38:42.236Z"
   },
   {
    "duration": 14,
    "start_time": "2022-04-10T10:38:42.274Z"
   },
   {
    "duration": 76,
    "start_time": "2022-04-10T10:38:42.291Z"
   },
   {
    "duration": 13,
    "start_time": "2022-04-10T10:38:42.370Z"
   },
   {
    "duration": 271,
    "start_time": "2022-04-10T10:38:42.386Z"
   },
   {
    "duration": 17,
    "start_time": "2022-04-10T10:38:42.659Z"
   },
   {
    "duration": 22,
    "start_time": "2022-04-10T10:38:42.680Z"
   },
   {
    "duration": 7,
    "start_time": "2022-04-10T10:38:42.707Z"
   },
   {
    "duration": 7,
    "start_time": "2022-04-10T10:38:42.718Z"
   },
   {
    "duration": 43,
    "start_time": "2022-04-10T10:38:42.728Z"
   },
   {
    "duration": 8,
    "start_time": "2022-04-10T10:38:42.776Z"
   },
   {
    "duration": 18,
    "start_time": "2022-04-10T10:38:42.788Z"
   },
   {
    "duration": 9,
    "start_time": "2022-04-10T10:38:42.808Z"
   },
   {
    "duration": 8,
    "start_time": "2022-04-10T10:38:42.819Z"
   },
   {
    "duration": 47,
    "start_time": "2022-04-10T10:38:42.829Z"
   },
   {
    "duration": 249,
    "start_time": "2022-04-10T10:38:42.880Z"
   },
   {
    "duration": 11,
    "start_time": "2022-04-10T10:38:43.132Z"
   },
   {
    "duration": 290,
    "start_time": "2022-04-10T10:38:43.145Z"
   },
   {
    "duration": 12,
    "start_time": "2022-04-10T10:38:43.437Z"
   },
   {
    "duration": 266,
    "start_time": "2022-04-10T10:38:43.468Z"
   },
   {
    "duration": 32,
    "start_time": "2022-04-10T10:38:43.737Z"
   },
   {
    "duration": 25,
    "start_time": "2022-04-10T10:38:43.772Z"
   },
   {
    "duration": 12,
    "start_time": "2022-04-10T10:38:43.799Z"
   },
   {
    "duration": 9,
    "start_time": "2022-04-10T10:38:43.813Z"
   },
   {
    "duration": 6,
    "start_time": "2022-04-10T10:38:43.825Z"
   },
   {
    "duration": 34,
    "start_time": "2022-04-10T10:38:43.834Z"
   },
   {
    "duration": 7,
    "start_time": "2022-04-10T10:38:43.871Z"
   },
   {
    "duration": 19,
    "start_time": "2022-04-10T10:38:43.882Z"
   },
   {
    "duration": 7,
    "start_time": "2022-04-10T10:38:43.903Z"
   },
   {
    "duration": 7,
    "start_time": "2022-04-10T10:38:43.913Z"
   },
   {
    "duration": 48,
    "start_time": "2022-04-10T10:38:43.922Z"
   },
   {
    "duration": 282,
    "start_time": "2022-04-10T10:38:43.973Z"
   },
   {
    "duration": 17,
    "start_time": "2022-04-10T10:38:44.257Z"
   },
   {
    "duration": 251,
    "start_time": "2022-04-10T10:38:44.276Z"
   },
   {
    "duration": 16,
    "start_time": "2022-04-10T10:38:44.530Z"
   },
   {
    "duration": 614,
    "start_time": "2022-04-10T10:38:44.549Z"
   },
   {
    "duration": 17,
    "start_time": "2022-04-10T10:38:45.169Z"
   },
   {
    "duration": 10,
    "start_time": "2022-04-10T10:38:45.189Z"
   },
   {
    "duration": 18,
    "start_time": "2022-04-10T10:38:45.202Z"
   },
   {
    "duration": 50,
    "start_time": "2022-04-10T10:38:45.224Z"
   },
   {
    "duration": 19,
    "start_time": "2022-04-10T10:38:45.278Z"
   },
   {
    "duration": 1304,
    "start_time": "2022-04-19T20:22:56.311Z"
   },
   {
    "duration": 45,
    "start_time": "2022-04-19T20:22:57.618Z"
   },
   {
    "duration": 25,
    "start_time": "2022-04-19T20:22:57.665Z"
   },
   {
    "duration": 71,
    "start_time": "2022-04-19T20:22:57.692Z"
   },
   {
    "duration": 25,
    "start_time": "2022-04-19T20:22:57.768Z"
   },
   {
    "duration": 57,
    "start_time": "2022-04-19T20:22:57.795Z"
   },
   {
    "duration": 41,
    "start_time": "2022-04-19T20:22:57.855Z"
   },
   {
    "duration": 188,
    "start_time": "2022-04-19T20:22:57.898Z"
   },
   {
    "duration": 28,
    "start_time": "2022-04-19T20:22:58.088Z"
   },
   {
    "duration": 41,
    "start_time": "2022-04-19T20:22:58.118Z"
   },
   {
    "duration": 35,
    "start_time": "2022-04-19T20:22:58.161Z"
   },
   {
    "duration": 23,
    "start_time": "2022-04-19T20:22:58.198Z"
   },
   {
    "duration": 53,
    "start_time": "2022-04-19T20:22:58.224Z"
   },
   {
    "duration": 35,
    "start_time": "2022-04-19T20:22:58.282Z"
   },
   {
    "duration": 148,
    "start_time": "2022-04-19T20:22:58.319Z"
   },
   {
    "duration": 25,
    "start_time": "2022-04-19T20:22:58.470Z"
   },
   {
    "duration": 18,
    "start_time": "2022-04-19T20:22:58.497Z"
   },
   {
    "duration": 60,
    "start_time": "2022-04-19T20:22:58.517Z"
   },
   {
    "duration": 26,
    "start_time": "2022-04-19T20:22:58.580Z"
   },
   {
    "duration": 59,
    "start_time": "2022-04-19T20:22:58.609Z"
   },
   {
    "duration": 19,
    "start_time": "2022-04-19T20:22:58.671Z"
   },
   {
    "duration": 14,
    "start_time": "2022-04-19T20:22:58.692Z"
   },
   {
    "duration": 42,
    "start_time": "2022-04-19T20:22:58.708Z"
   },
   {
    "duration": 56,
    "start_time": "2022-04-19T20:22:58.753Z"
   },
   {
    "duration": 14,
    "start_time": "2022-04-19T20:22:58.811Z"
   },
   {
    "duration": 23,
    "start_time": "2022-04-19T20:22:58.827Z"
   },
   {
    "duration": 17,
    "start_time": "2022-04-19T20:22:58.853Z"
   },
   {
    "duration": 24,
    "start_time": "2022-04-19T20:22:58.872Z"
   },
   {
    "duration": 30,
    "start_time": "2022-04-19T20:22:58.899Z"
   },
   {
    "duration": 88,
    "start_time": "2022-04-19T20:22:58.932Z"
   },
   {
    "duration": 63,
    "start_time": "2022-04-19T20:22:59.023Z"
   },
   {
    "duration": 15,
    "start_time": "2022-04-19T20:22:59.088Z"
   },
   {
    "duration": 55,
    "start_time": "2022-04-19T20:22:59.105Z"
   },
   {
    "duration": 16,
    "start_time": "2022-04-19T20:22:59.163Z"
   },
   {
    "duration": 16,
    "start_time": "2022-04-19T20:22:59.181Z"
   },
   {
    "duration": 70,
    "start_time": "2022-04-19T20:22:59.200Z"
   },
   {
    "duration": 22,
    "start_time": "2022-04-19T20:22:59.272Z"
   },
   {
    "duration": 59,
    "start_time": "2022-04-19T20:22:59.297Z"
   },
   {
    "duration": 17,
    "start_time": "2022-04-19T20:22:59.359Z"
   },
   {
    "duration": 29,
    "start_time": "2022-04-19T20:22:59.379Z"
   },
   {
    "duration": 34,
    "start_time": "2022-04-19T20:22:59.418Z"
   },
   {
    "duration": 32,
    "start_time": "2022-04-19T20:22:59.455Z"
   },
   {
    "duration": 33,
    "start_time": "2022-04-19T20:22:59.490Z"
   },
   {
    "duration": 24,
    "start_time": "2022-04-19T20:22:59.525Z"
   },
   {
    "duration": 41,
    "start_time": "2022-04-19T20:22:59.552Z"
   },
   {
    "duration": 78,
    "start_time": "2022-04-19T20:22:59.595Z"
   },
   {
    "duration": 19,
    "start_time": "2022-04-19T20:22:59.675Z"
   },
   {
    "duration": 9,
    "start_time": "2022-04-19T20:22:59.696Z"
   },
   {
    "duration": 81,
    "start_time": "2022-04-19T20:22:59.707Z"
   },
   {
    "duration": 6,
    "start_time": "2022-04-19T20:22:59.790Z"
   },
   {
    "duration": 256,
    "start_time": "2022-04-19T20:22:59.799Z"
   },
   {
    "duration": 11,
    "start_time": "2022-04-19T20:23:00.057Z"
   },
   {
    "duration": 6,
    "start_time": "2022-04-19T20:23:00.071Z"
   },
   {
    "duration": 9,
    "start_time": "2022-04-19T20:23:00.080Z"
   },
   {
    "duration": 9,
    "start_time": "2022-04-19T20:23:00.092Z"
   },
   {
    "duration": 9,
    "start_time": "2022-04-19T20:23:00.104Z"
   },
   {
    "duration": 39,
    "start_time": "2022-04-19T20:23:00.115Z"
   },
   {
    "duration": 7,
    "start_time": "2022-04-19T20:23:00.157Z"
   },
   {
    "duration": 8,
    "start_time": "2022-04-19T20:23:00.165Z"
   },
   {
    "duration": 7,
    "start_time": "2022-04-19T20:23:00.175Z"
   },
   {
    "duration": 11,
    "start_time": "2022-04-19T20:23:00.184Z"
   },
   {
    "duration": 642,
    "start_time": "2022-04-19T20:23:00.197Z"
   },
   {
    "duration": 13,
    "start_time": "2022-04-19T20:23:00.842Z"
   },
   {
    "duration": 335,
    "start_time": "2022-04-19T20:23:00.858Z"
   },
   {
    "duration": 11,
    "start_time": "2022-04-19T20:23:01.195Z"
   },
   {
    "duration": 267,
    "start_time": "2022-04-19T20:23:01.208Z"
   },
   {
    "duration": 10,
    "start_time": "2022-04-19T20:23:01.477Z"
   },
   {
    "duration": 16,
    "start_time": "2022-04-19T20:23:01.489Z"
   },
   {
    "duration": 11,
    "start_time": "2022-04-19T20:23:01.507Z"
   },
   {
    "duration": 11,
    "start_time": "2022-04-19T20:23:01.520Z"
   },
   {
    "duration": 19,
    "start_time": "2022-04-19T20:23:01.533Z"
   },
   {
    "duration": 27,
    "start_time": "2022-04-19T20:23:01.554Z"
   },
   {
    "duration": 14,
    "start_time": "2022-04-19T20:23:01.583Z"
   },
   {
    "duration": 17,
    "start_time": "2022-04-19T20:23:01.600Z"
   },
   {
    "duration": 16,
    "start_time": "2022-04-19T20:23:01.619Z"
   },
   {
    "duration": 35,
    "start_time": "2022-04-19T20:23:01.637Z"
   },
   {
    "duration": 23,
    "start_time": "2022-04-19T20:23:01.674Z"
   },
   {
    "duration": 471,
    "start_time": "2022-04-19T20:23:01.700Z"
   },
   {
    "duration": 11,
    "start_time": "2022-04-19T20:23:02.173Z"
   },
   {
    "duration": 381,
    "start_time": "2022-04-19T20:23:02.186Z"
   },
   {
    "duration": 10,
    "start_time": "2022-04-19T20:23:02.569Z"
   },
   {
    "duration": 322,
    "start_time": "2022-04-19T20:23:02.581Z"
   },
   {
    "duration": 11,
    "start_time": "2022-04-19T20:23:02.906Z"
   },
   {
    "duration": 9,
    "start_time": "2022-04-19T20:23:02.919Z"
   },
   {
    "duration": 11,
    "start_time": "2022-04-19T20:23:02.931Z"
   },
   {
    "duration": 17,
    "start_time": "2022-04-19T20:23:02.944Z"
   },
   {
    "duration": 10,
    "start_time": "2022-04-19T20:23:02.963Z"
   },
   {
    "duration": 225,
    "start_time": "2022-04-19T23:18:56.773Z"
   },
   {
    "duration": 57,
    "start_time": "2022-04-19T23:18:57.001Z"
   },
   {
    "duration": 25,
    "start_time": "2022-04-19T23:18:57.061Z"
   },
   {
    "duration": 83,
    "start_time": "2022-04-19T23:18:57.088Z"
   },
   {
    "duration": 28,
    "start_time": "2022-04-19T23:18:57.174Z"
   },
   {
    "duration": 56,
    "start_time": "2022-04-19T23:18:57.204Z"
   },
   {
    "duration": 40,
    "start_time": "2022-04-19T23:18:57.262Z"
   },
   {
    "duration": 196,
    "start_time": "2022-04-19T23:18:57.304Z"
   },
   {
    "duration": 29,
    "start_time": "2022-04-19T23:18:57.502Z"
   },
   {
    "duration": 39,
    "start_time": "2022-04-19T23:18:57.533Z"
   },
   {
    "duration": 37,
    "start_time": "2022-04-19T23:18:57.575Z"
   },
   {
    "duration": 52,
    "start_time": "2022-04-19T23:18:57.614Z"
   },
   {
    "duration": 26,
    "start_time": "2022-04-19T23:18:57.669Z"
   },
   {
    "duration": 68,
    "start_time": "2022-04-19T23:18:57.701Z"
   },
   {
    "duration": 127,
    "start_time": "2022-04-19T23:18:57.772Z"
   },
   {
    "duration": 28,
    "start_time": "2022-04-19T23:18:57.902Z"
   },
   {
    "duration": 35,
    "start_time": "2022-04-19T23:18:57.933Z"
   },
   {
    "duration": 30,
    "start_time": "2022-04-19T23:18:57.970Z"
   },
   {
    "duration": 21,
    "start_time": "2022-04-19T23:18:58.002Z"
   },
   {
    "duration": 30,
    "start_time": "2022-04-19T23:18:58.053Z"
   },
   {
    "duration": 19,
    "start_time": "2022-04-19T23:18:58.085Z"
   },
   {
    "duration": 14,
    "start_time": "2022-04-19T23:18:58.106Z"
   },
   {
    "duration": 31,
    "start_time": "2022-04-19T23:18:58.122Z"
   },
   {
    "duration": 31,
    "start_time": "2022-04-19T23:18:58.155Z"
   },
   {
    "duration": 15,
    "start_time": "2022-04-19T23:18:58.189Z"
   },
   {
    "duration": 8,
    "start_time": "2022-04-19T23:18:58.207Z"
   },
   {
    "duration": 8,
    "start_time": "2022-04-19T23:18:58.252Z"
   },
   {
    "duration": 17,
    "start_time": "2022-04-19T23:18:58.262Z"
   },
   {
    "duration": 7,
    "start_time": "2022-04-19T23:18:58.281Z"
   },
   {
    "duration": 90,
    "start_time": "2022-04-19T23:18:58.290Z"
   },
   {
    "duration": 51,
    "start_time": "2022-04-19T23:18:58.382Z"
   },
   {
    "duration": 28,
    "start_time": "2022-04-19T23:18:58.435Z"
   },
   {
    "duration": 35,
    "start_time": "2022-04-19T23:18:58.465Z"
   },
   {
    "duration": 16,
    "start_time": "2022-04-19T23:18:58.501Z"
   },
   {
    "duration": 32,
    "start_time": "2022-04-19T23:18:58.520Z"
   },
   {
    "duration": 40,
    "start_time": "2022-04-19T23:18:58.554Z"
   },
   {
    "duration": 21,
    "start_time": "2022-04-19T23:18:58.596Z"
   },
   {
    "duration": 57,
    "start_time": "2022-04-19T23:18:58.619Z"
   },
   {
    "duration": 15,
    "start_time": "2022-04-19T23:18:58.678Z"
   },
   {
    "duration": 10,
    "start_time": "2022-04-19T23:18:58.696Z"
   },
   {
    "duration": 42,
    "start_time": "2022-04-19T23:18:58.713Z"
   },
   {
    "duration": 26,
    "start_time": "2022-04-19T23:18:58.757Z"
   },
   {
    "duration": 30,
    "start_time": "2022-04-19T23:18:58.785Z"
   },
   {
    "duration": 47,
    "start_time": "2022-04-19T23:18:58.817Z"
   },
   {
    "duration": 40,
    "start_time": "2022-04-19T23:18:58.867Z"
   },
   {
    "duration": 85,
    "start_time": "2022-04-19T23:18:58.909Z"
   },
   {
    "duration": 20,
    "start_time": "2022-04-19T23:18:58.996Z"
   },
   {
    "duration": 34,
    "start_time": "2022-04-19T23:18:59.018Z"
   },
   {
    "duration": 49,
    "start_time": "2022-04-19T23:18:59.055Z"
   },
   {
    "duration": 7,
    "start_time": "2022-04-19T23:18:59.106Z"
   },
   {
    "duration": 258,
    "start_time": "2022-04-19T23:18:59.115Z"
   },
   {
    "duration": 11,
    "start_time": "2022-04-19T23:18:59.375Z"
   },
   {
    "duration": 7,
    "start_time": "2022-04-19T23:18:59.388Z"
   },
   {
    "duration": 12,
    "start_time": "2022-04-19T23:18:59.398Z"
   },
   {
    "duration": 12,
    "start_time": "2022-04-19T23:18:59.412Z"
   },
   {
    "duration": 13,
    "start_time": "2022-04-19T23:18:59.453Z"
   },
   {
    "duration": 8,
    "start_time": "2022-04-19T23:18:59.469Z"
   },
   {
    "duration": 11,
    "start_time": "2022-04-19T23:18:59.479Z"
   },
   {
    "duration": 9,
    "start_time": "2022-04-19T23:18:59.492Z"
   },
   {
    "duration": 8,
    "start_time": "2022-04-19T23:18:59.503Z"
   },
   {
    "duration": 44,
    "start_time": "2022-04-19T23:18:59.513Z"
   },
   {
    "duration": 236,
    "start_time": "2022-04-19T23:18:59.559Z"
   },
   {
    "duration": 11,
    "start_time": "2022-04-19T23:18:59.797Z"
   },
   {
    "duration": 251,
    "start_time": "2022-04-19T23:18:59.810Z"
   },
   {
    "duration": 10,
    "start_time": "2022-04-19T23:19:00.063Z"
   },
   {
    "duration": 332,
    "start_time": "2022-04-19T23:19:00.075Z"
   },
   {
    "duration": 10,
    "start_time": "2022-04-19T23:19:00.409Z"
   },
   {
    "duration": 31,
    "start_time": "2022-04-19T23:19:00.421Z"
   },
   {
    "duration": 6,
    "start_time": "2022-04-19T23:19:00.454Z"
   },
   {
    "duration": 24,
    "start_time": "2022-04-19T23:19:00.462Z"
   },
   {
    "duration": 12,
    "start_time": "2022-04-19T23:19:00.488Z"
   },
   {
    "duration": 23,
    "start_time": "2022-04-19T23:19:00.503Z"
   },
   {
    "duration": 35,
    "start_time": "2022-04-19T23:19:00.528Z"
   },
   {
    "duration": 35,
    "start_time": "2022-04-19T23:19:00.565Z"
   },
   {
    "duration": 36,
    "start_time": "2022-04-19T23:19:00.602Z"
   },
   {
    "duration": 44,
    "start_time": "2022-04-19T23:19:00.640Z"
   },
   {
    "duration": 23,
    "start_time": "2022-04-19T23:19:00.686Z"
   },
   {
    "duration": 268,
    "start_time": "2022-04-19T23:19:00.711Z"
   },
   {
    "duration": 10,
    "start_time": "2022-04-19T23:19:00.981Z"
   },
   {
    "duration": 228,
    "start_time": "2022-04-19T23:19:00.993Z"
   },
   {
    "duration": 10,
    "start_time": "2022-04-19T23:19:01.223Z"
   },
   {
    "duration": 238,
    "start_time": "2022-04-19T23:19:01.235Z"
   },
   {
    "duration": 9,
    "start_time": "2022-04-19T23:19:01.475Z"
   },
   {
    "duration": 22,
    "start_time": "2022-04-19T23:19:01.486Z"
   },
   {
    "duration": 22,
    "start_time": "2022-04-19T23:19:01.510Z"
   },
   {
    "duration": 20,
    "start_time": "2022-04-19T23:19:01.534Z"
   },
   {
    "duration": 18,
    "start_time": "2022-04-19T23:19:01.556Z"
   },
   {
    "duration": 256,
    "start_time": "2022-04-20T18:29:15.520Z"
   },
   {
    "duration": 132,
    "start_time": "2022-04-20T18:29:18.265Z"
   },
   {
    "duration": 124,
    "start_time": "2022-04-20T18:29:26.789Z"
   },
   {
    "duration": 136,
    "start_time": "2022-04-20T18:29:53.906Z"
   },
   {
    "duration": 167,
    "start_time": "2022-04-20T18:30:03.678Z"
   },
   {
    "duration": 125,
    "start_time": "2022-04-20T18:30:06.849Z"
   },
   {
    "duration": 0,
    "start_time": "2022-04-20T18:30:06.979Z"
   },
   {
    "duration": 0,
    "start_time": "2022-04-20T18:30:06.982Z"
   },
   {
    "duration": 0,
    "start_time": "2022-04-20T18:30:06.984Z"
   },
   {
    "duration": 0,
    "start_time": "2022-04-20T18:30:06.985Z"
   },
   {
    "duration": 0,
    "start_time": "2022-04-20T18:30:06.987Z"
   },
   {
    "duration": 0,
    "start_time": "2022-04-20T18:30:06.989Z"
   },
   {
    "duration": 0,
    "start_time": "2022-04-20T18:30:06.990Z"
   },
   {
    "duration": 0,
    "start_time": "2022-04-20T18:30:06.992Z"
   },
   {
    "duration": 0,
    "start_time": "2022-04-20T18:30:06.993Z"
   },
   {
    "duration": 0,
    "start_time": "2022-04-20T18:30:06.994Z"
   },
   {
    "duration": 0,
    "start_time": "2022-04-20T18:30:06.995Z"
   },
   {
    "duration": 0,
    "start_time": "2022-04-20T18:30:06.997Z"
   },
   {
    "duration": 0,
    "start_time": "2022-04-20T18:30:06.999Z"
   },
   {
    "duration": 0,
    "start_time": "2022-04-20T18:30:07.001Z"
   },
   {
    "duration": 0,
    "start_time": "2022-04-20T18:30:07.002Z"
   },
   {
    "duration": 0,
    "start_time": "2022-04-20T18:30:07.004Z"
   },
   {
    "duration": 0,
    "start_time": "2022-04-20T18:30:07.005Z"
   },
   {
    "duration": 0,
    "start_time": "2022-04-20T18:30:07.007Z"
   },
   {
    "duration": 0,
    "start_time": "2022-04-20T18:30:07.025Z"
   },
   {
    "duration": 0,
    "start_time": "2022-04-20T18:30:07.027Z"
   },
   {
    "duration": 0,
    "start_time": "2022-04-20T18:30:07.029Z"
   },
   {
    "duration": 0,
    "start_time": "2022-04-20T18:30:07.030Z"
   },
   {
    "duration": 0,
    "start_time": "2022-04-20T18:30:07.032Z"
   },
   {
    "duration": 0,
    "start_time": "2022-04-20T18:30:07.034Z"
   },
   {
    "duration": 0,
    "start_time": "2022-04-20T18:30:07.035Z"
   },
   {
    "duration": 0,
    "start_time": "2022-04-20T18:30:07.037Z"
   },
   {
    "duration": 0,
    "start_time": "2022-04-20T18:30:07.038Z"
   },
   {
    "duration": 0,
    "start_time": "2022-04-20T18:30:07.040Z"
   },
   {
    "duration": 0,
    "start_time": "2022-04-20T18:30:07.041Z"
   },
   {
    "duration": 0,
    "start_time": "2022-04-20T18:30:07.044Z"
   },
   {
    "duration": 0,
    "start_time": "2022-04-20T18:30:07.045Z"
   },
   {
    "duration": 0,
    "start_time": "2022-04-20T18:30:07.047Z"
   },
   {
    "duration": 0,
    "start_time": "2022-04-20T18:30:07.048Z"
   },
   {
    "duration": 0,
    "start_time": "2022-04-20T18:30:07.050Z"
   },
   {
    "duration": 192,
    "start_time": "2022-04-20T18:30:07.056Z"
   },
   {
    "duration": 0,
    "start_time": "2022-04-20T18:30:07.252Z"
   },
   {
    "duration": 0,
    "start_time": "2022-04-20T18:30:07.254Z"
   },
   {
    "duration": 0,
    "start_time": "2022-04-20T18:30:07.255Z"
   },
   {
    "duration": 0,
    "start_time": "2022-04-20T18:30:07.257Z"
   },
   {
    "duration": 0,
    "start_time": "2022-04-20T18:30:07.258Z"
   },
   {
    "duration": 0,
    "start_time": "2022-04-20T18:30:07.260Z"
   },
   {
    "duration": 0,
    "start_time": "2022-04-20T18:30:07.262Z"
   },
   {
    "duration": 0,
    "start_time": "2022-04-20T18:30:07.263Z"
   },
   {
    "duration": 0,
    "start_time": "2022-04-20T18:30:07.265Z"
   },
   {
    "duration": 0,
    "start_time": "2022-04-20T18:30:07.266Z"
   },
   {
    "duration": 0,
    "start_time": "2022-04-20T18:30:07.267Z"
   },
   {
    "duration": 0,
    "start_time": "2022-04-20T18:30:07.326Z"
   },
   {
    "duration": 0,
    "start_time": "2022-04-20T18:30:07.327Z"
   },
   {
    "duration": 0,
    "start_time": "2022-04-20T18:30:07.328Z"
   },
   {
    "duration": 0,
    "start_time": "2022-04-20T18:30:07.330Z"
   },
   {
    "duration": 0,
    "start_time": "2022-04-20T18:30:07.331Z"
   },
   {
    "duration": 0,
    "start_time": "2022-04-20T18:30:07.332Z"
   },
   {
    "duration": 0,
    "start_time": "2022-04-20T18:30:07.334Z"
   },
   {
    "duration": 0,
    "start_time": "2022-04-20T18:30:07.335Z"
   },
   {
    "duration": 0,
    "start_time": "2022-04-20T18:30:07.337Z"
   },
   {
    "duration": 0,
    "start_time": "2022-04-20T18:30:07.338Z"
   },
   {
    "duration": 0,
    "start_time": "2022-04-20T18:30:07.340Z"
   },
   {
    "duration": 0,
    "start_time": "2022-04-20T18:30:07.341Z"
   },
   {
    "duration": 0,
    "start_time": "2022-04-20T18:30:07.342Z"
   },
   {
    "duration": 0,
    "start_time": "2022-04-20T18:30:07.343Z"
   },
   {
    "duration": 0,
    "start_time": "2022-04-20T18:30:07.345Z"
   },
   {
    "duration": 0,
    "start_time": "2022-04-20T18:30:07.346Z"
   },
   {
    "duration": 0,
    "start_time": "2022-04-20T18:30:07.347Z"
   },
   {
    "duration": 0,
    "start_time": "2022-04-20T18:30:07.349Z"
   },
   {
    "duration": 0,
    "start_time": "2022-04-20T18:30:07.350Z"
   },
   {
    "duration": 0,
    "start_time": "2022-04-20T18:30:07.352Z"
   },
   {
    "duration": 0,
    "start_time": "2022-04-20T18:30:07.354Z"
   },
   {
    "duration": 0,
    "start_time": "2022-04-20T18:30:07.355Z"
   },
   {
    "duration": 0,
    "start_time": "2022-04-20T18:30:07.357Z"
   },
   {
    "duration": 0,
    "start_time": "2022-04-20T18:30:07.358Z"
   },
   {
    "duration": 0,
    "start_time": "2022-04-20T18:30:07.360Z"
   },
   {
    "duration": 0,
    "start_time": "2022-04-20T18:30:07.361Z"
   },
   {
    "duration": 0,
    "start_time": "2022-04-20T18:30:07.362Z"
   },
   {
    "duration": 0,
    "start_time": "2022-04-20T18:30:07.424Z"
   },
   {
    "duration": 0,
    "start_time": "2022-04-20T18:30:07.426Z"
   },
   {
    "duration": 0,
    "start_time": "2022-04-20T18:30:07.428Z"
   },
   {
    "duration": 0,
    "start_time": "2022-04-20T18:30:07.429Z"
   },
   {
    "duration": 0,
    "start_time": "2022-04-20T18:30:07.431Z"
   },
   {
    "duration": 0,
    "start_time": "2022-04-20T18:30:07.432Z"
   },
   {
    "duration": 0,
    "start_time": "2022-04-20T18:30:07.433Z"
   },
   {
    "duration": 0,
    "start_time": "2022-04-20T18:30:07.434Z"
   },
   {
    "duration": 0,
    "start_time": "2022-04-20T18:30:07.436Z"
   },
   {
    "duration": 0,
    "start_time": "2022-04-20T18:30:07.439Z"
   },
   {
    "duration": 0,
    "start_time": "2022-04-20T18:30:07.440Z"
   },
   {
    "duration": 0,
    "start_time": "2022-04-20T18:30:07.442Z"
   },
   {
    "duration": 0,
    "start_time": "2022-04-20T18:30:07.444Z"
   },
   {
    "duration": 0,
    "start_time": "2022-04-20T18:30:07.446Z"
   },
   {
    "duration": 711,
    "start_time": "2022-04-20T18:31:45.199Z"
   },
   {
    "duration": 771,
    "start_time": "2022-04-20T18:31:47.433Z"
   },
   {
    "duration": 247,
    "start_time": "2022-04-20T18:32:18.884Z"
   },
   {
    "duration": 240,
    "start_time": "2022-04-20T18:32:37.140Z"
   },
   {
    "duration": 212,
    "start_time": "2022-04-20T18:32:47.737Z"
   },
   {
    "duration": 4,
    "start_time": "2022-04-20T18:36:07.225Z"
   },
   {
    "duration": 324,
    "start_time": "2022-04-20T18:36:07.232Z"
   },
   {
    "duration": 68,
    "start_time": "2022-04-20T18:36:07.559Z"
   },
   {
    "duration": 50,
    "start_time": "2022-04-20T18:36:07.630Z"
   },
   {
    "duration": 100,
    "start_time": "2022-04-20T18:36:07.724Z"
   },
   {
    "duration": 30,
    "start_time": "2022-04-20T18:36:07.827Z"
   },
   {
    "duration": 66,
    "start_time": "2022-04-20T18:36:07.860Z"
   },
   {
    "duration": 42,
    "start_time": "2022-04-20T18:36:07.929Z"
   },
   {
    "duration": 196,
    "start_time": "2022-04-20T18:36:07.974Z"
   },
   {
    "duration": 30,
    "start_time": "2022-04-20T18:36:08.172Z"
   },
   {
    "duration": 22,
    "start_time": "2022-04-20T18:36:08.226Z"
   },
   {
    "duration": 40,
    "start_time": "2022-04-20T18:36:08.251Z"
   },
   {
    "duration": 55,
    "start_time": "2022-04-20T18:36:08.293Z"
   },
   {
    "duration": 31,
    "start_time": "2022-04-20T18:36:08.351Z"
   },
   {
    "duration": 38,
    "start_time": "2022-04-20T18:36:08.424Z"
   },
   {
    "duration": 148,
    "start_time": "2022-04-20T18:36:08.465Z"
   },
   {
    "duration": 35,
    "start_time": "2022-04-20T18:36:08.615Z"
   },
   {
    "duration": 18,
    "start_time": "2022-04-20T18:36:08.653Z"
   },
   {
    "duration": 66,
    "start_time": "2022-04-20T18:36:08.674Z"
   },
   {
    "duration": 21,
    "start_time": "2022-04-20T18:36:08.742Z"
   },
   {
    "duration": 28,
    "start_time": "2022-04-20T18:36:08.765Z"
   },
   {
    "duration": 40,
    "start_time": "2022-04-20T18:36:08.796Z"
   },
   {
    "duration": 23,
    "start_time": "2022-04-20T18:36:08.839Z"
   },
   {
    "duration": 10,
    "start_time": "2022-04-20T18:36:08.865Z"
   },
   {
    "duration": 80,
    "start_time": "2022-04-20T18:36:08.879Z"
   },
   {
    "duration": 17,
    "start_time": "2022-04-20T18:36:08.962Z"
   },
   {
    "duration": 11,
    "start_time": "2022-04-20T18:36:08.982Z"
   },
   {
    "duration": 12,
    "start_time": "2022-04-20T18:36:09.025Z"
   },
   {
    "duration": 17,
    "start_time": "2022-04-20T18:36:09.048Z"
   },
   {
    "duration": 8,
    "start_time": "2022-04-20T18:36:09.068Z"
   },
   {
    "duration": 74,
    "start_time": "2022-04-20T18:36:09.124Z"
   },
   {
    "duration": 53,
    "start_time": "2022-04-20T18:36:09.224Z"
   },
   {
    "duration": 15,
    "start_time": "2022-04-20T18:36:09.279Z"
   },
   {
    "duration": 34,
    "start_time": "2022-04-20T18:36:09.326Z"
   },
   {
    "duration": 15,
    "start_time": "2022-04-20T18:36:09.363Z"
   },
   {
    "duration": 8,
    "start_time": "2022-04-20T18:36:09.380Z"
   },
   {
    "duration": 38,
    "start_time": "2022-04-20T18:36:09.425Z"
   },
   {
    "duration": 21,
    "start_time": "2022-04-20T18:36:09.466Z"
   },
   {
    "duration": 69,
    "start_time": "2022-04-20T18:36:09.489Z"
   },
   {
    "duration": 16,
    "start_time": "2022-04-20T18:36:09.560Z"
   },
   {
    "duration": 50,
    "start_time": "2022-04-20T18:36:09.579Z"
   },
   {
    "duration": 8,
    "start_time": "2022-04-20T18:36:09.631Z"
   },
   {
    "duration": 30,
    "start_time": "2022-04-20T18:36:09.641Z"
   },
   {
    "duration": 53,
    "start_time": "2022-04-20T18:36:09.674Z"
   },
   {
    "duration": 24,
    "start_time": "2022-04-20T18:36:09.729Z"
   },
   {
    "duration": 80,
    "start_time": "2022-04-20T18:36:09.755Z"
   },
   {
    "duration": 58,
    "start_time": "2022-04-20T18:36:09.837Z"
   },
   {
    "duration": 19,
    "start_time": "2022-04-20T18:36:09.925Z"
   },
   {
    "duration": 11,
    "start_time": "2022-04-20T18:36:09.947Z"
   },
   {
    "duration": 99,
    "start_time": "2022-04-20T18:36:09.960Z"
   },
   {
    "duration": 7,
    "start_time": "2022-04-20T18:36:10.062Z"
   },
   {
    "duration": 314,
    "start_time": "2022-04-20T18:36:10.072Z"
   },
   {
    "duration": 12,
    "start_time": "2022-04-20T18:36:10.388Z"
   },
   {
    "duration": 25,
    "start_time": "2022-04-20T18:36:10.402Z"
   },
   {
    "duration": 6,
    "start_time": "2022-04-20T18:36:10.429Z"
   },
   {
    "duration": 17,
    "start_time": "2022-04-20T18:36:10.438Z"
   },
   {
    "duration": 9,
    "start_time": "2022-04-20T18:36:10.458Z"
   },
   {
    "duration": 7,
    "start_time": "2022-04-20T18:36:10.470Z"
   },
   {
    "duration": 9,
    "start_time": "2022-04-20T18:36:10.526Z"
   },
   {
    "duration": 19,
    "start_time": "2022-04-20T18:36:10.538Z"
   },
   {
    "duration": 19,
    "start_time": "2022-04-20T18:36:10.559Z"
   },
   {
    "duration": 12,
    "start_time": "2022-04-20T18:36:10.580Z"
   },
   {
    "duration": 1159,
    "start_time": "2022-04-20T18:36:10.624Z"
   },
   {
    "duration": 11,
    "start_time": "2022-04-20T18:36:11.785Z"
   },
   {
    "duration": 368,
    "start_time": "2022-04-20T18:36:11.798Z"
   },
   {
    "duration": 11,
    "start_time": "2022-04-20T18:36:12.168Z"
   },
   {
    "duration": 273,
    "start_time": "2022-04-20T18:36:12.181Z"
   },
   {
    "duration": 12,
    "start_time": "2022-04-20T18:36:12.457Z"
   },
   {
    "duration": 12,
    "start_time": "2022-04-20T18:36:12.472Z"
   },
   {
    "duration": 7,
    "start_time": "2022-04-20T18:36:12.486Z"
   },
   {
    "duration": 6,
    "start_time": "2022-04-20T18:36:12.525Z"
   },
   {
    "duration": 7,
    "start_time": "2022-04-20T18:36:12.533Z"
   },
   {
    "duration": 6,
    "start_time": "2022-04-20T18:36:12.542Z"
   },
   {
    "duration": 8,
    "start_time": "2022-04-20T18:36:12.551Z"
   },
   {
    "duration": 63,
    "start_time": "2022-04-20T18:36:12.562Z"
   },
   {
    "duration": 6,
    "start_time": "2022-04-20T18:36:12.629Z"
   },
   {
    "duration": 10,
    "start_time": "2022-04-20T18:36:12.638Z"
   },
   {
    "duration": 11,
    "start_time": "2022-04-20T18:36:12.651Z"
   },
   {
    "duration": 300,
    "start_time": "2022-04-20T18:36:12.665Z"
   },
   {
    "duration": 10,
    "start_time": "2022-04-20T18:36:12.967Z"
   },
   {
    "duration": 263,
    "start_time": "2022-04-20T18:36:12.979Z"
   },
   {
    "duration": 10,
    "start_time": "2022-04-20T18:36:13.244Z"
   },
   {
    "duration": 284,
    "start_time": "2022-04-20T18:36:13.263Z"
   },
   {
    "duration": 11,
    "start_time": "2022-04-20T18:36:13.549Z"
   },
   {
    "duration": 19,
    "start_time": "2022-04-20T18:36:13.562Z"
   },
   {
    "duration": 11,
    "start_time": "2022-04-20T18:36:13.583Z"
   },
   {
    "duration": 10,
    "start_time": "2022-04-20T18:36:13.625Z"
   },
   {
    "duration": 13,
    "start_time": "2022-04-20T18:36:13.637Z"
   },
   {
    "duration": 2164,
    "start_time": "2022-04-20T18:37:11.865Z"
   },
   {
    "duration": 13,
    "start_time": "2022-04-20T18:37:46.751Z"
   },
   {
    "duration": 2193,
    "start_time": "2022-04-20T18:37:50.850Z"
   },
   {
    "duration": 4,
    "start_time": "2022-04-20T18:38:17.462Z"
   },
   {
    "duration": 264,
    "start_time": "2022-04-20T18:38:17.469Z"
   },
   {
    "duration": 33,
    "start_time": "2022-04-20T18:38:17.735Z"
   },
   {
    "duration": 55,
    "start_time": "2022-04-20T18:38:17.770Z"
   },
   {
    "duration": 48,
    "start_time": "2022-04-20T18:38:17.829Z"
   },
   {
    "duration": 54,
    "start_time": "2022-04-20T18:38:17.879Z"
   },
   {
    "duration": 43,
    "start_time": "2022-04-20T18:38:17.935Z"
   },
   {
    "duration": 50,
    "start_time": "2022-04-20T18:38:17.981Z"
   },
   {
    "duration": 0,
    "start_time": "2022-04-20T18:38:18.036Z"
   },
   {
    "duration": 0,
    "start_time": "2022-04-20T18:38:18.038Z"
   },
   {
    "duration": 0,
    "start_time": "2022-04-20T18:38:18.039Z"
   },
   {
    "duration": 0,
    "start_time": "2022-04-20T18:38:18.041Z"
   },
   {
    "duration": 0,
    "start_time": "2022-04-20T18:38:18.042Z"
   },
   {
    "duration": 0,
    "start_time": "2022-04-20T18:38:18.043Z"
   },
   {
    "duration": 0,
    "start_time": "2022-04-20T18:38:18.045Z"
   },
   {
    "duration": 0,
    "start_time": "2022-04-20T18:38:18.046Z"
   },
   {
    "duration": 0,
    "start_time": "2022-04-20T18:38:18.047Z"
   },
   {
    "duration": 0,
    "start_time": "2022-04-20T18:38:18.048Z"
   },
   {
    "duration": 0,
    "start_time": "2022-04-20T18:38:18.049Z"
   },
   {
    "duration": 0,
    "start_time": "2022-04-20T18:38:18.050Z"
   },
   {
    "duration": 0,
    "start_time": "2022-04-20T18:38:18.052Z"
   },
   {
    "duration": 0,
    "start_time": "2022-04-20T18:38:18.053Z"
   },
   {
    "duration": 0,
    "start_time": "2022-04-20T18:38:18.054Z"
   },
   {
    "duration": 0,
    "start_time": "2022-04-20T18:38:18.056Z"
   },
   {
    "duration": 0,
    "start_time": "2022-04-20T18:38:18.057Z"
   },
   {
    "duration": 0,
    "start_time": "2022-04-20T18:38:18.059Z"
   },
   {
    "duration": 0,
    "start_time": "2022-04-20T18:38:18.060Z"
   },
   {
    "duration": 0,
    "start_time": "2022-04-20T18:38:18.062Z"
   },
   {
    "duration": 0,
    "start_time": "2022-04-20T18:38:18.064Z"
   },
   {
    "duration": 0,
    "start_time": "2022-04-20T18:38:18.065Z"
   },
   {
    "duration": 0,
    "start_time": "2022-04-20T18:38:18.066Z"
   },
   {
    "duration": 0,
    "start_time": "2022-04-20T18:38:18.067Z"
   },
   {
    "duration": 0,
    "start_time": "2022-04-20T18:38:18.125Z"
   },
   {
    "duration": 0,
    "start_time": "2022-04-20T18:38:18.128Z"
   },
   {
    "duration": 0,
    "start_time": "2022-04-20T18:38:18.130Z"
   },
   {
    "duration": 0,
    "start_time": "2022-04-20T18:38:18.132Z"
   },
   {
    "duration": 0,
    "start_time": "2022-04-20T18:38:18.134Z"
   },
   {
    "duration": 0,
    "start_time": "2022-04-20T18:38:18.136Z"
   },
   {
    "duration": 0,
    "start_time": "2022-04-20T18:38:18.138Z"
   },
   {
    "duration": 0,
    "start_time": "2022-04-20T18:38:18.141Z"
   },
   {
    "duration": 0,
    "start_time": "2022-04-20T18:38:18.142Z"
   },
   {
    "duration": 0,
    "start_time": "2022-04-20T18:38:18.145Z"
   },
   {
    "duration": 0,
    "start_time": "2022-04-20T18:38:18.147Z"
   },
   {
    "duration": 0,
    "start_time": "2022-04-20T18:38:18.149Z"
   },
   {
    "duration": 0,
    "start_time": "2022-04-20T18:38:18.151Z"
   },
   {
    "duration": 0,
    "start_time": "2022-04-20T18:38:18.153Z"
   },
   {
    "duration": 0,
    "start_time": "2022-04-20T18:38:18.155Z"
   },
   {
    "duration": 0,
    "start_time": "2022-04-20T18:38:18.157Z"
   },
   {
    "duration": 0,
    "start_time": "2022-04-20T18:38:18.159Z"
   },
   {
    "duration": 1,
    "start_time": "2022-04-20T18:38:18.161Z"
   },
   {
    "duration": 0,
    "start_time": "2022-04-20T18:38:18.164Z"
   },
   {
    "duration": 0,
    "start_time": "2022-04-20T18:38:18.225Z"
   },
   {
    "duration": 1,
    "start_time": "2022-04-20T18:38:18.227Z"
   },
   {
    "duration": 0,
    "start_time": "2022-04-20T18:38:18.230Z"
   },
   {
    "duration": 0,
    "start_time": "2022-04-20T18:38:18.232Z"
   },
   {
    "duration": 0,
    "start_time": "2022-04-20T18:38:18.233Z"
   },
   {
    "duration": 0,
    "start_time": "2022-04-20T18:38:18.235Z"
   },
   {
    "duration": 0,
    "start_time": "2022-04-20T18:38:18.236Z"
   },
   {
    "duration": 0,
    "start_time": "2022-04-20T18:38:18.238Z"
   },
   {
    "duration": 0,
    "start_time": "2022-04-20T18:38:18.239Z"
   },
   {
    "duration": 0,
    "start_time": "2022-04-20T18:38:18.240Z"
   },
   {
    "duration": 0,
    "start_time": "2022-04-20T18:38:18.242Z"
   },
   {
    "duration": 0,
    "start_time": "2022-04-20T18:38:18.244Z"
   },
   {
    "duration": 0,
    "start_time": "2022-04-20T18:38:18.245Z"
   },
   {
    "duration": 0,
    "start_time": "2022-04-20T18:38:18.247Z"
   },
   {
    "duration": 0,
    "start_time": "2022-04-20T18:38:18.249Z"
   },
   {
    "duration": 0,
    "start_time": "2022-04-20T18:38:18.251Z"
   },
   {
    "duration": 0,
    "start_time": "2022-04-20T18:38:18.252Z"
   },
   {
    "duration": 0,
    "start_time": "2022-04-20T18:38:18.254Z"
   },
   {
    "duration": 0,
    "start_time": "2022-04-20T18:38:18.255Z"
   },
   {
    "duration": 0,
    "start_time": "2022-04-20T18:38:18.257Z"
   },
   {
    "duration": 1,
    "start_time": "2022-04-20T18:38:18.258Z"
   },
   {
    "duration": 0,
    "start_time": "2022-04-20T18:38:18.260Z"
   },
   {
    "duration": 0,
    "start_time": "2022-04-20T18:38:18.325Z"
   },
   {
    "duration": 0,
    "start_time": "2022-04-20T18:38:18.327Z"
   },
   {
    "duration": 0,
    "start_time": "2022-04-20T18:38:18.329Z"
   },
   {
    "duration": 0,
    "start_time": "2022-04-20T18:38:18.331Z"
   },
   {
    "duration": 0,
    "start_time": "2022-04-20T18:38:18.332Z"
   },
   {
    "duration": 0,
    "start_time": "2022-04-20T18:38:18.334Z"
   },
   {
    "duration": 0,
    "start_time": "2022-04-20T18:38:18.335Z"
   },
   {
    "duration": 0,
    "start_time": "2022-04-20T18:38:18.337Z"
   },
   {
    "duration": 0,
    "start_time": "2022-04-20T18:38:18.338Z"
   },
   {
    "duration": 0,
    "start_time": "2022-04-20T18:38:18.340Z"
   },
   {
    "duration": 0,
    "start_time": "2022-04-20T18:38:18.342Z"
   },
   {
    "duration": 0,
    "start_time": "2022-04-20T18:38:18.343Z"
   },
   {
    "duration": 0,
    "start_time": "2022-04-20T18:38:18.345Z"
   },
   {
    "duration": 0,
    "start_time": "2022-04-20T18:38:18.346Z"
   },
   {
    "duration": 0,
    "start_time": "2022-04-20T18:38:18.348Z"
   },
   {
    "duration": 3,
    "start_time": "2022-04-20T18:38:37.762Z"
   },
   {
    "duration": 227,
    "start_time": "2022-04-20T18:38:37.768Z"
   },
   {
    "duration": 34,
    "start_time": "2022-04-20T18:38:38.026Z"
   },
   {
    "duration": 27,
    "start_time": "2022-04-20T18:38:38.062Z"
   },
   {
    "duration": 47,
    "start_time": "2022-04-20T18:38:38.125Z"
   },
   {
    "duration": 50,
    "start_time": "2022-04-20T18:38:38.174Z"
   },
   {
    "duration": 28,
    "start_time": "2022-04-20T18:38:38.227Z"
   },
   {
    "duration": 69,
    "start_time": "2022-04-20T18:38:38.257Z"
   },
   {
    "duration": 188,
    "start_time": "2022-04-20T18:38:38.329Z"
   },
   {
    "duration": 31,
    "start_time": "2022-04-20T18:38:38.519Z"
   },
   {
    "duration": 21,
    "start_time": "2022-04-20T18:38:38.555Z"
   },
   {
    "duration": 75,
    "start_time": "2022-04-20T18:38:38.578Z"
   },
   {
    "duration": 23,
    "start_time": "2022-04-20T18:38:38.656Z"
   },
   {
    "duration": 52,
    "start_time": "2022-04-20T18:38:38.681Z"
   },
   {
    "duration": 34,
    "start_time": "2022-04-20T18:38:38.735Z"
   },
   {
    "duration": 143,
    "start_time": "2022-04-20T18:38:38.771Z"
   },
   {
    "duration": 30,
    "start_time": "2022-04-20T18:38:38.916Z"
   },
   {
    "duration": 18,
    "start_time": "2022-04-20T18:38:38.948Z"
   },
   {
    "duration": 66,
    "start_time": "2022-04-20T18:38:38.969Z"
   },
   {
    "duration": 21,
    "start_time": "2022-04-20T18:38:39.038Z"
   },
   {
    "duration": 29,
    "start_time": "2022-04-20T18:38:39.061Z"
   },
   {
    "duration": 45,
    "start_time": "2022-04-20T18:38:39.092Z"
   },
   {
    "duration": 15,
    "start_time": "2022-04-20T18:38:39.140Z"
   },
   {
    "duration": 9,
    "start_time": "2022-04-20T18:38:39.157Z"
   },
   {
    "duration": 71,
    "start_time": "2022-04-20T18:38:39.168Z"
   },
   {
    "duration": 15,
    "start_time": "2022-04-20T18:38:39.242Z"
   },
   {
    "duration": 17,
    "start_time": "2022-04-20T18:38:39.260Z"
   },
   {
    "duration": 16,
    "start_time": "2022-04-20T18:38:39.279Z"
   },
   {
    "duration": 17,
    "start_time": "2022-04-20T18:38:39.327Z"
   },
   {
    "duration": 5,
    "start_time": "2022-04-20T18:38:39.346Z"
   },
   {
    "duration": 97,
    "start_time": "2022-04-20T18:38:39.354Z"
   },
   {
    "duration": 70,
    "start_time": "2022-04-20T18:38:39.454Z"
   },
   {
    "duration": 17,
    "start_time": "2022-04-20T18:38:39.527Z"
   },
   {
    "duration": 37,
    "start_time": "2022-04-20T18:38:39.547Z"
   },
   {
    "duration": 45,
    "start_time": "2022-04-20T18:38:39.587Z"
   },
   {
    "duration": 10,
    "start_time": "2022-04-20T18:38:39.634Z"
   },
   {
    "duration": 45,
    "start_time": "2022-04-20T18:38:39.646Z"
   },
   {
    "duration": 43,
    "start_time": "2022-04-20T18:38:39.693Z"
   },
   {
    "duration": 35,
    "start_time": "2022-04-20T18:38:39.739Z"
   },
   {
    "duration": 50,
    "start_time": "2022-04-20T18:38:39.776Z"
   },
   {
    "duration": 14,
    "start_time": "2022-04-20T18:38:39.828Z"
   },
   {
    "duration": 8,
    "start_time": "2022-04-20T18:38:39.844Z"
   },
   {
    "duration": 21,
    "start_time": "2022-04-20T18:38:39.854Z"
   },
   {
    "duration": 68,
    "start_time": "2022-04-20T18:38:39.877Z"
   },
   {
    "duration": 25,
    "start_time": "2022-04-20T18:38:39.947Z"
   },
   {
    "duration": 95,
    "start_time": "2022-04-20T18:38:39.975Z"
   },
   {
    "duration": 114,
    "start_time": "2022-04-20T18:38:40.072Z"
   },
   {
    "duration": 48,
    "start_time": "2022-04-20T18:38:40.188Z"
   },
   {
    "duration": 12,
    "start_time": "2022-04-20T18:38:40.239Z"
   },
   {
    "duration": 83,
    "start_time": "2022-04-20T18:38:40.254Z"
   },
   {
    "duration": 8,
    "start_time": "2022-04-20T18:38:40.340Z"
   },
   {
    "duration": 267,
    "start_time": "2022-04-20T18:38:40.350Z"
   },
   {
    "duration": 11,
    "start_time": "2022-04-20T18:38:40.620Z"
   },
   {
    "duration": 12,
    "start_time": "2022-04-20T18:38:40.633Z"
   },
   {
    "duration": 15,
    "start_time": "2022-04-20T18:38:40.647Z"
   },
   {
    "duration": 6,
    "start_time": "2022-04-20T18:38:40.665Z"
   },
   {
    "duration": 52,
    "start_time": "2022-04-20T18:38:40.673Z"
   },
   {
    "duration": 6,
    "start_time": "2022-04-20T18:38:40.728Z"
   },
   {
    "duration": 13,
    "start_time": "2022-04-20T18:38:40.736Z"
   },
   {
    "duration": 7,
    "start_time": "2022-04-20T18:38:40.751Z"
   },
   {
    "duration": 9,
    "start_time": "2022-04-20T18:38:40.760Z"
   },
   {
    "duration": 55,
    "start_time": "2022-04-20T18:38:40.771Z"
   },
   {
    "duration": 237,
    "start_time": "2022-04-20T18:38:40.829Z"
   },
   {
    "duration": 11,
    "start_time": "2022-04-20T18:38:41.068Z"
   },
   {
    "duration": 345,
    "start_time": "2022-04-20T18:38:41.082Z"
   },
   {
    "duration": 13,
    "start_time": "2022-04-20T18:38:41.430Z"
   },
   {
    "duration": 271,
    "start_time": "2022-04-20T18:38:41.446Z"
   },
   {
    "duration": 11,
    "start_time": "2022-04-20T18:38:41.720Z"
   },
   {
    "duration": 22,
    "start_time": "2022-04-20T18:38:41.734Z"
   },
   {
    "duration": 11,
    "start_time": "2022-04-20T18:38:41.759Z"
   },
   {
    "duration": 24,
    "start_time": "2022-04-20T18:38:41.772Z"
   },
   {
    "duration": 26,
    "start_time": "2022-04-20T18:38:41.799Z"
   },
   {
    "duration": 8,
    "start_time": "2022-04-20T18:38:41.828Z"
   },
   {
    "duration": 15,
    "start_time": "2022-04-20T18:38:41.839Z"
   },
   {
    "duration": 22,
    "start_time": "2022-04-20T18:38:41.856Z"
   },
   {
    "duration": 6,
    "start_time": "2022-04-20T18:38:41.881Z"
   },
   {
    "duration": 39,
    "start_time": "2022-04-20T18:38:41.889Z"
   },
   {
    "duration": 14,
    "start_time": "2022-04-20T18:38:41.930Z"
   },
   {
    "duration": 278,
    "start_time": "2022-04-20T18:38:41.946Z"
   },
   {
    "duration": 10,
    "start_time": "2022-04-20T18:38:42.226Z"
   },
   {
    "duration": 247,
    "start_time": "2022-04-20T18:38:42.238Z"
   },
   {
    "duration": 10,
    "start_time": "2022-04-20T18:38:42.487Z"
   },
   {
    "duration": 238,
    "start_time": "2022-04-20T18:38:42.524Z"
   },
   {
    "duration": 10,
    "start_time": "2022-04-20T18:38:42.764Z"
   },
   {
    "duration": 9,
    "start_time": "2022-04-20T18:38:42.778Z"
   },
   {
    "duration": 13,
    "start_time": "2022-04-20T18:38:42.823Z"
   },
   {
    "duration": 12,
    "start_time": "2022-04-20T18:38:42.838Z"
   },
   {
    "duration": 11,
    "start_time": "2022-04-20T18:38:42.853Z"
   },
   {
    "duration": 13,
    "start_time": "2022-04-20T18:39:13.145Z"
   },
   {
    "duration": 2189,
    "start_time": "2022-04-20T18:39:19.585Z"
   },
   {
    "duration": 4,
    "start_time": "2022-04-20T18:39:25.442Z"
   },
   {
    "duration": 228,
    "start_time": "2022-04-20T18:39:25.448Z"
   },
   {
    "duration": 66,
    "start_time": "2022-04-20T18:39:25.679Z"
   },
   {
    "duration": 27,
    "start_time": "2022-04-20T18:39:25.748Z"
   },
   {
    "duration": 79,
    "start_time": "2022-04-20T18:39:25.778Z"
   },
   {
    "duration": 27,
    "start_time": "2022-04-20T18:39:25.859Z"
   },
   {
    "duration": 62,
    "start_time": "2022-04-20T18:39:25.889Z"
   },
   {
    "duration": 73,
    "start_time": "2022-04-20T18:39:25.954Z"
   },
   {
    "duration": 195,
    "start_time": "2022-04-20T18:39:26.029Z"
   },
   {
    "duration": 29,
    "start_time": "2022-04-20T18:39:26.227Z"
   },
   {
    "duration": 21,
    "start_time": "2022-04-20T18:39:26.261Z"
   },
   {
    "duration": 69,
    "start_time": "2022-04-20T18:39:26.284Z"
   },
   {
    "duration": 25,
    "start_time": "2022-04-20T18:39:26.355Z"
   },
   {
    "duration": 58,
    "start_time": "2022-04-20T18:39:26.382Z"
   },
   {
    "duration": 34,
    "start_time": "2022-04-20T18:39:26.442Z"
   },
   {
    "duration": 153,
    "start_time": "2022-04-20T18:39:26.478Z"
   },
   {
    "duration": 25,
    "start_time": "2022-04-20T18:39:26.634Z"
   },
   {
    "duration": 18,
    "start_time": "2022-04-20T18:39:26.661Z"
   },
   {
    "duration": 69,
    "start_time": "2022-04-20T18:39:26.681Z"
   },
   {
    "duration": 22,
    "start_time": "2022-04-20T18:39:26.753Z"
   },
   {
    "duration": 60,
    "start_time": "2022-04-20T18:39:26.778Z"
   },
   {
    "duration": 20,
    "start_time": "2022-04-20T18:39:26.841Z"
   },
   {
    "duration": 15,
    "start_time": "2022-04-20T18:39:26.863Z"
   },
   {
    "duration": 45,
    "start_time": "2022-04-20T18:39:26.880Z"
   },
   {
    "duration": 32,
    "start_time": "2022-04-20T18:39:26.927Z"
   },
   {
    "duration": 17,
    "start_time": "2022-04-20T18:39:26.961Z"
   },
   {
    "duration": 9,
    "start_time": "2022-04-20T18:39:26.980Z"
   },
   {
    "duration": 39,
    "start_time": "2022-04-20T18:39:26.991Z"
   },
   {
    "duration": 16,
    "start_time": "2022-04-20T18:39:27.037Z"
   },
   {
    "duration": 6,
    "start_time": "2022-04-20T18:39:27.055Z"
   },
   {
    "duration": 109,
    "start_time": "2022-04-20T18:39:27.064Z"
   },
   {
    "duration": 68,
    "start_time": "2022-04-20T18:39:27.175Z"
   },
   {
    "duration": 15,
    "start_time": "2022-04-20T18:39:27.245Z"
   },
   {
    "duration": 32,
    "start_time": "2022-04-20T18:39:27.262Z"
   },
   {
    "duration": 17,
    "start_time": "2022-04-20T18:39:27.324Z"
   },
   {
    "duration": 7,
    "start_time": "2022-04-20T18:39:27.343Z"
   },
   {
    "duration": 42,
    "start_time": "2022-04-20T18:39:27.352Z"
   },
   {
    "duration": 21,
    "start_time": "2022-04-20T18:39:27.425Z"
   },
   {
    "duration": 34,
    "start_time": "2022-04-20T18:39:27.449Z"
   },
   {
    "duration": 54,
    "start_time": "2022-04-20T18:39:27.485Z"
   },
   {
    "duration": 9,
    "start_time": "2022-04-20T18:39:27.542Z"
   },
   {
    "duration": 9,
    "start_time": "2022-04-20T18:39:27.553Z"
   },
   {
    "duration": 62,
    "start_time": "2022-04-20T18:39:27.564Z"
   },
   {
    "duration": 24,
    "start_time": "2022-04-20T18:39:27.628Z"
   },
   {
    "duration": 23,
    "start_time": "2022-04-20T18:39:27.655Z"
   },
   {
    "duration": 79,
    "start_time": "2022-04-20T18:39:27.680Z"
   },
   {
    "duration": 82,
    "start_time": "2022-04-20T18:39:27.761Z"
   },
   {
    "duration": 20,
    "start_time": "2022-04-20T18:39:27.846Z"
   },
   {
    "duration": 11,
    "start_time": "2022-04-20T18:39:27.868Z"
   },
   {
    "duration": 90,
    "start_time": "2022-04-20T18:39:27.882Z"
   },
   {
    "duration": 9,
    "start_time": "2022-04-20T18:39:27.975Z"
   },
   {
    "duration": 272,
    "start_time": "2022-04-20T18:39:27.987Z"
   },
   {
    "duration": 15,
    "start_time": "2022-04-20T18:39:28.262Z"
   },
   {
    "duration": 7,
    "start_time": "2022-04-20T18:39:28.280Z"
   },
   {
    "duration": 40,
    "start_time": "2022-04-20T18:39:28.289Z"
   },
   {
    "duration": 49,
    "start_time": "2022-04-20T18:39:28.332Z"
   },
   {
    "duration": 9,
    "start_time": "2022-04-20T18:39:28.384Z"
   },
   {
    "duration": 6,
    "start_time": "2022-04-20T18:39:28.395Z"
   },
   {
    "duration": 23,
    "start_time": "2022-04-20T18:39:28.403Z"
   },
   {
    "duration": 6,
    "start_time": "2022-04-20T18:39:28.429Z"
   },
   {
    "duration": 9,
    "start_time": "2022-04-20T18:39:28.439Z"
   },
   {
    "duration": 7,
    "start_time": "2022-04-20T18:39:28.451Z"
   },
   {
    "duration": 291,
    "start_time": "2022-04-20T18:39:28.461Z"
   },
   {
    "duration": 11,
    "start_time": "2022-04-20T18:39:28.754Z"
   },
   {
    "duration": 278,
    "start_time": "2022-04-20T18:39:28.768Z"
   },
   {
    "duration": 11,
    "start_time": "2022-04-20T18:39:29.049Z"
   },
   {
    "duration": 279,
    "start_time": "2022-04-20T18:39:29.063Z"
   },
   {
    "duration": 12,
    "start_time": "2022-04-20T18:39:29.346Z"
   },
   {
    "duration": 16,
    "start_time": "2022-04-20T18:39:29.361Z"
   },
   {
    "duration": 47,
    "start_time": "2022-04-20T18:39:29.380Z"
   },
   {
    "duration": 7,
    "start_time": "2022-04-20T18:39:29.430Z"
   },
   {
    "duration": 9,
    "start_time": "2022-04-20T18:39:29.440Z"
   },
   {
    "duration": 6,
    "start_time": "2022-04-20T18:39:29.452Z"
   },
   {
    "duration": 6,
    "start_time": "2022-04-20T18:39:29.461Z"
   },
   {
    "duration": 10,
    "start_time": "2022-04-20T18:39:29.525Z"
   },
   {
    "duration": 10,
    "start_time": "2022-04-20T18:39:29.537Z"
   },
   {
    "duration": 8,
    "start_time": "2022-04-20T18:39:29.549Z"
   },
   {
    "duration": 10,
    "start_time": "2022-04-20T18:39:29.559Z"
   },
   {
    "duration": 317,
    "start_time": "2022-04-20T18:39:29.571Z"
   },
   {
    "duration": 11,
    "start_time": "2022-04-20T18:39:29.890Z"
   },
   {
    "duration": 246,
    "start_time": "2022-04-20T18:39:29.903Z"
   },
   {
    "duration": 11,
    "start_time": "2022-04-20T18:39:30.151Z"
   },
   {
    "duration": 365,
    "start_time": "2022-04-20T18:39:30.171Z"
   },
   {
    "duration": 16,
    "start_time": "2022-04-20T18:39:30.539Z"
   },
   {
    "duration": 16,
    "start_time": "2022-04-20T18:39:30.557Z"
   },
   {
    "duration": 25,
    "start_time": "2022-04-20T18:39:30.575Z"
   },
   {
    "duration": 29,
    "start_time": "2022-04-20T18:39:30.602Z"
   },
   {
    "duration": 21,
    "start_time": "2022-04-20T18:39:30.633Z"
   },
   {
    "duration": 191,
    "start_time": "2022-04-20T18:55:14.637Z"
   },
   {
    "duration": 4,
    "start_time": "2022-04-20T18:55:17.965Z"
   },
   {
    "duration": 208,
    "start_time": "2022-04-20T18:55:17.972Z"
   },
   {
    "duration": 50,
    "start_time": "2022-04-20T18:55:18.183Z"
   },
   {
    "duration": 29,
    "start_time": "2022-04-20T18:55:18.236Z"
   },
   {
    "duration": 95,
    "start_time": "2022-04-20T18:55:18.270Z"
   },
   {
    "duration": 66,
    "start_time": "2022-04-20T18:55:18.367Z"
   },
   {
    "duration": 34,
    "start_time": "2022-04-20T18:55:18.436Z"
   },
   {
    "duration": 91,
    "start_time": "2022-04-20T18:55:18.473Z"
   },
   {
    "duration": 326,
    "start_time": "2022-04-20T18:55:18.567Z"
   },
   {
    "duration": 56,
    "start_time": "2022-04-20T18:55:18.895Z"
   },
   {
    "duration": 33,
    "start_time": "2022-04-20T18:55:18.956Z"
   },
   {
    "duration": 78,
    "start_time": "2022-04-20T18:55:18.992Z"
   },
   {
    "duration": 55,
    "start_time": "2022-04-20T18:55:19.072Z"
   },
   {
    "duration": 27,
    "start_time": "2022-04-20T18:55:19.130Z"
   },
   {
    "duration": 74,
    "start_time": "2022-04-20T18:55:19.160Z"
   },
   {
    "duration": 130,
    "start_time": "2022-04-20T18:55:19.237Z"
   },
   {
    "duration": 27,
    "start_time": "2022-04-20T18:55:19.369Z"
   },
   {
    "duration": 41,
    "start_time": "2022-04-20T18:55:19.398Z"
   },
   {
    "duration": 34,
    "start_time": "2022-04-20T18:55:19.442Z"
   },
   {
    "duration": 60,
    "start_time": "2022-04-20T18:55:19.478Z"
   },
   {
    "duration": 30,
    "start_time": "2022-04-20T18:55:19.540Z"
   },
   {
    "duration": 53,
    "start_time": "2022-04-20T18:55:19.573Z"
   },
   {
    "duration": 18,
    "start_time": "2022-04-20T18:55:19.629Z"
   },
   {
    "duration": 11,
    "start_time": "2022-04-20T18:55:19.649Z"
   },
   {
    "duration": 75,
    "start_time": "2022-04-20T18:55:19.663Z"
   },
   {
    "duration": 21,
    "start_time": "2022-04-20T18:55:19.741Z"
   },
   {
    "duration": 16,
    "start_time": "2022-04-20T18:55:19.765Z"
   },
   {
    "duration": 13,
    "start_time": "2022-04-20T18:55:19.784Z"
   },
   {
    "duration": 18,
    "start_time": "2022-04-20T18:55:19.832Z"
   },
   {
    "duration": 695,
    "start_time": "2022-04-20T18:55:19.853Z"
   },
   {
    "duration": 0,
    "start_time": "2022-04-20T18:55:20.551Z"
   },
   {
    "duration": 0,
    "start_time": "2022-04-20T18:55:20.552Z"
   },
   {
    "duration": 0,
    "start_time": "2022-04-20T18:55:20.554Z"
   },
   {
    "duration": 0,
    "start_time": "2022-04-20T18:55:20.556Z"
   },
   {
    "duration": 0,
    "start_time": "2022-04-20T18:55:20.558Z"
   },
   {
    "duration": 0,
    "start_time": "2022-04-20T18:55:20.563Z"
   },
   {
    "duration": 0,
    "start_time": "2022-04-20T18:55:20.565Z"
   },
   {
    "duration": 0,
    "start_time": "2022-04-20T18:55:20.566Z"
   },
   {
    "duration": 0,
    "start_time": "2022-04-20T18:55:20.568Z"
   },
   {
    "duration": 0,
    "start_time": "2022-04-20T18:55:20.570Z"
   },
   {
    "duration": 0,
    "start_time": "2022-04-20T18:55:20.572Z"
   },
   {
    "duration": 0,
    "start_time": "2022-04-20T18:55:20.573Z"
   },
   {
    "duration": 0,
    "start_time": "2022-04-20T18:55:20.575Z"
   },
   {
    "duration": 0,
    "start_time": "2022-04-20T18:55:20.577Z"
   },
   {
    "duration": 0,
    "start_time": "2022-04-20T18:55:20.579Z"
   },
   {
    "duration": 0,
    "start_time": "2022-04-20T18:55:20.581Z"
   },
   {
    "duration": 1,
    "start_time": "2022-04-20T18:55:20.583Z"
   },
   {
    "duration": 0,
    "start_time": "2022-04-20T18:55:20.585Z"
   },
   {
    "duration": 0,
    "start_time": "2022-04-20T18:55:20.586Z"
   },
   {
    "duration": 0,
    "start_time": "2022-04-20T18:55:20.588Z"
   },
   {
    "duration": 0,
    "start_time": "2022-04-20T18:55:20.625Z"
   },
   {
    "duration": 0,
    "start_time": "2022-04-20T18:55:20.627Z"
   },
   {
    "duration": 0,
    "start_time": "2022-04-20T18:55:20.628Z"
   },
   {
    "duration": 0,
    "start_time": "2022-04-20T18:55:20.630Z"
   },
   {
    "duration": 0,
    "start_time": "2022-04-20T18:55:20.631Z"
   },
   {
    "duration": 0,
    "start_time": "2022-04-20T18:55:20.633Z"
   },
   {
    "duration": 0,
    "start_time": "2022-04-20T18:55:20.634Z"
   },
   {
    "duration": 0,
    "start_time": "2022-04-20T18:55:20.636Z"
   },
   {
    "duration": 0,
    "start_time": "2022-04-20T18:55:20.638Z"
   },
   {
    "duration": 0,
    "start_time": "2022-04-20T18:55:20.640Z"
   },
   {
    "duration": 0,
    "start_time": "2022-04-20T18:55:20.641Z"
   },
   {
    "duration": 0,
    "start_time": "2022-04-20T18:55:20.642Z"
   },
   {
    "duration": 0,
    "start_time": "2022-04-20T18:55:20.644Z"
   },
   {
    "duration": 0,
    "start_time": "2022-04-20T18:55:20.646Z"
   },
   {
    "duration": 0,
    "start_time": "2022-04-20T18:55:20.648Z"
   },
   {
    "duration": 0,
    "start_time": "2022-04-20T18:55:20.649Z"
   },
   {
    "duration": 0,
    "start_time": "2022-04-20T18:55:20.651Z"
   },
   {
    "duration": 0,
    "start_time": "2022-04-20T18:55:20.653Z"
   },
   {
    "duration": 0,
    "start_time": "2022-04-20T18:55:20.655Z"
   },
   {
    "duration": 0,
    "start_time": "2022-04-20T18:55:20.656Z"
   },
   {
    "duration": 1,
    "start_time": "2022-04-20T18:55:20.658Z"
   },
   {
    "duration": 0,
    "start_time": "2022-04-20T18:55:20.724Z"
   },
   {
    "duration": 0,
    "start_time": "2022-04-20T18:55:20.726Z"
   },
   {
    "duration": 0,
    "start_time": "2022-04-20T18:55:20.728Z"
   },
   {
    "duration": 0,
    "start_time": "2022-04-20T18:55:20.730Z"
   },
   {
    "duration": 0,
    "start_time": "2022-04-20T18:55:20.732Z"
   },
   {
    "duration": 0,
    "start_time": "2022-04-20T18:55:20.733Z"
   },
   {
    "duration": 0,
    "start_time": "2022-04-20T18:55:20.735Z"
   },
   {
    "duration": 0,
    "start_time": "2022-04-20T18:55:20.737Z"
   },
   {
    "duration": 0,
    "start_time": "2022-04-20T18:55:20.739Z"
   },
   {
    "duration": 0,
    "start_time": "2022-04-20T18:55:20.741Z"
   },
   {
    "duration": 0,
    "start_time": "2022-04-20T18:55:20.742Z"
   },
   {
    "duration": 0,
    "start_time": "2022-04-20T18:55:20.745Z"
   },
   {
    "duration": 0,
    "start_time": "2022-04-20T18:55:20.747Z"
   },
   {
    "duration": 0,
    "start_time": "2022-04-20T18:55:20.748Z"
   },
   {
    "duration": 0,
    "start_time": "2022-04-20T18:55:20.750Z"
   },
   {
    "duration": 0,
    "start_time": "2022-04-20T18:55:20.752Z"
   },
   {
    "duration": 0,
    "start_time": "2022-04-20T18:55:20.754Z"
   },
   {
    "duration": 178,
    "start_time": "2022-04-20T18:55:55.603Z"
   },
   {
    "duration": 3,
    "start_time": "2022-04-20T18:57:24.688Z"
   },
   {
    "duration": 277,
    "start_time": "2022-04-20T18:57:24.694Z"
   },
   {
    "duration": 63,
    "start_time": "2022-04-20T18:57:24.974Z"
   },
   {
    "duration": 26,
    "start_time": "2022-04-20T18:57:25.039Z"
   },
   {
    "duration": 83,
    "start_time": "2022-04-20T18:57:25.069Z"
   },
   {
    "duration": 25,
    "start_time": "2022-04-20T18:57:25.154Z"
   },
   {
    "duration": 57,
    "start_time": "2022-04-20T18:57:25.182Z"
   },
   {
    "duration": 41,
    "start_time": "2022-04-20T18:57:25.241Z"
   },
   {
    "duration": 220,
    "start_time": "2022-04-20T18:57:25.285Z"
   },
   {
    "duration": 37,
    "start_time": "2022-04-20T18:57:25.507Z"
   },
   {
    "duration": 21,
    "start_time": "2022-04-20T18:57:25.549Z"
   },
   {
    "duration": 65,
    "start_time": "2022-04-20T18:57:25.573Z"
   },
   {
    "duration": 24,
    "start_time": "2022-04-20T18:57:25.640Z"
   },
   {
    "duration": 59,
    "start_time": "2022-04-20T18:57:25.666Z"
   },
   {
    "duration": 34,
    "start_time": "2022-04-20T18:57:25.727Z"
   },
   {
    "duration": 144,
    "start_time": "2022-04-20T18:57:25.764Z"
   },
   {
    "duration": 30,
    "start_time": "2022-04-20T18:57:25.910Z"
   },
   {
    "duration": 18,
    "start_time": "2022-04-20T18:57:25.942Z"
   },
   {
    "duration": 69,
    "start_time": "2022-04-20T18:57:25.962Z"
   },
   {
    "duration": 23,
    "start_time": "2022-04-20T18:57:26.033Z"
   },
   {
    "duration": 68,
    "start_time": "2022-04-20T18:57:26.058Z"
   },
   {
    "duration": 25,
    "start_time": "2022-04-20T18:57:26.128Z"
   },
   {
    "duration": 16,
    "start_time": "2022-04-20T18:57:26.155Z"
   },
   {
    "duration": 17,
    "start_time": "2022-04-20T18:57:26.173Z"
   },
   {
    "duration": 73,
    "start_time": "2022-04-20T18:57:26.193Z"
   },
   {
    "duration": 17,
    "start_time": "2022-04-20T18:57:26.269Z"
   },
   {
    "duration": 35,
    "start_time": "2022-04-20T18:57:26.289Z"
   },
   {
    "duration": 13,
    "start_time": "2022-04-20T18:57:26.327Z"
   },
   {
    "duration": 19,
    "start_time": "2022-04-20T18:57:26.348Z"
   },
   {
    "duration": 659,
    "start_time": "2022-04-20T18:57:26.370Z"
   },
   {
    "duration": 1,
    "start_time": "2022-04-20T18:57:27.031Z"
   },
   {
    "duration": 0,
    "start_time": "2022-04-20T18:57:27.033Z"
   },
   {
    "duration": 0,
    "start_time": "2022-04-20T18:57:27.035Z"
   },
   {
    "duration": 0,
    "start_time": "2022-04-20T18:57:27.036Z"
   },
   {
    "duration": 0,
    "start_time": "2022-04-20T18:57:27.038Z"
   },
   {
    "duration": 0,
    "start_time": "2022-04-20T18:57:27.039Z"
   },
   {
    "duration": 0,
    "start_time": "2022-04-20T18:57:27.041Z"
   },
   {
    "duration": 0,
    "start_time": "2022-04-20T18:57:27.042Z"
   },
   {
    "duration": 0,
    "start_time": "2022-04-20T18:57:27.044Z"
   },
   {
    "duration": 0,
    "start_time": "2022-04-20T18:57:27.045Z"
   },
   {
    "duration": 0,
    "start_time": "2022-04-20T18:57:27.047Z"
   },
   {
    "duration": 0,
    "start_time": "2022-04-20T18:57:27.049Z"
   },
   {
    "duration": 0,
    "start_time": "2022-04-20T18:57:27.050Z"
   },
   {
    "duration": 0,
    "start_time": "2022-04-20T18:57:27.051Z"
   },
   {
    "duration": 0,
    "start_time": "2022-04-20T18:57:27.052Z"
   },
   {
    "duration": 0,
    "start_time": "2022-04-20T18:57:27.054Z"
   },
   {
    "duration": 0,
    "start_time": "2022-04-20T18:57:27.056Z"
   },
   {
    "duration": 0,
    "start_time": "2022-04-20T18:57:27.058Z"
   },
   {
    "duration": 0,
    "start_time": "2022-04-20T18:57:27.060Z"
   },
   {
    "duration": 0,
    "start_time": "2022-04-20T18:57:27.062Z"
   },
   {
    "duration": 0,
    "start_time": "2022-04-20T18:57:27.063Z"
   },
   {
    "duration": 0,
    "start_time": "2022-04-20T18:57:27.064Z"
   },
   {
    "duration": 0,
    "start_time": "2022-04-20T18:57:27.066Z"
   },
   {
    "duration": 0,
    "start_time": "2022-04-20T18:57:27.067Z"
   },
   {
    "duration": 0,
    "start_time": "2022-04-20T18:57:27.125Z"
   },
   {
    "duration": 0,
    "start_time": "2022-04-20T18:57:27.127Z"
   },
   {
    "duration": 0,
    "start_time": "2022-04-20T18:57:27.128Z"
   },
   {
    "duration": 0,
    "start_time": "2022-04-20T18:57:27.130Z"
   },
   {
    "duration": 0,
    "start_time": "2022-04-20T18:57:27.131Z"
   },
   {
    "duration": 0,
    "start_time": "2022-04-20T18:57:27.133Z"
   },
   {
    "duration": 0,
    "start_time": "2022-04-20T18:57:27.134Z"
   },
   {
    "duration": 0,
    "start_time": "2022-04-20T18:57:27.136Z"
   },
   {
    "duration": 0,
    "start_time": "2022-04-20T18:57:27.137Z"
   },
   {
    "duration": 0,
    "start_time": "2022-04-20T18:57:27.139Z"
   },
   {
    "duration": 0,
    "start_time": "2022-04-20T18:57:27.140Z"
   },
   {
    "duration": 0,
    "start_time": "2022-04-20T18:57:27.142Z"
   },
   {
    "duration": 0,
    "start_time": "2022-04-20T18:57:27.144Z"
   },
   {
    "duration": 0,
    "start_time": "2022-04-20T18:57:27.146Z"
   },
   {
    "duration": 0,
    "start_time": "2022-04-20T18:57:27.147Z"
   },
   {
    "duration": 0,
    "start_time": "2022-04-20T18:57:27.149Z"
   },
   {
    "duration": 1,
    "start_time": "2022-04-20T18:57:27.150Z"
   },
   {
    "duration": 0,
    "start_time": "2022-04-20T18:57:27.152Z"
   },
   {
    "duration": 0,
    "start_time": "2022-04-20T18:57:27.154Z"
   },
   {
    "duration": 0,
    "start_time": "2022-04-20T18:57:27.155Z"
   },
   {
    "duration": 0,
    "start_time": "2022-04-20T18:57:27.157Z"
   },
   {
    "duration": 0,
    "start_time": "2022-04-20T18:57:27.158Z"
   },
   {
    "duration": 0,
    "start_time": "2022-04-20T18:57:27.160Z"
   },
   {
    "duration": 0,
    "start_time": "2022-04-20T18:57:27.225Z"
   },
   {
    "duration": 0,
    "start_time": "2022-04-20T18:57:27.227Z"
   },
   {
    "duration": 0,
    "start_time": "2022-04-20T18:57:27.228Z"
   },
   {
    "duration": 0,
    "start_time": "2022-04-20T18:57:27.230Z"
   },
   {
    "duration": 0,
    "start_time": "2022-04-20T18:57:27.231Z"
   },
   {
    "duration": 0,
    "start_time": "2022-04-20T18:57:27.233Z"
   },
   {
    "duration": 0,
    "start_time": "2022-04-20T18:57:27.235Z"
   },
   {
    "duration": 0,
    "start_time": "2022-04-20T18:57:27.236Z"
   },
   {
    "duration": 0,
    "start_time": "2022-04-20T18:57:27.237Z"
   },
   {
    "duration": 0,
    "start_time": "2022-04-20T18:57:27.239Z"
   },
   {
    "duration": 0,
    "start_time": "2022-04-20T18:57:27.241Z"
   },
   {
    "duration": 3,
    "start_time": "2022-04-20T18:58:13.786Z"
   },
   {
    "duration": 271,
    "start_time": "2022-04-20T18:58:13.792Z"
   },
   {
    "duration": 67,
    "start_time": "2022-04-20T18:58:14.066Z"
   },
   {
    "duration": 28,
    "start_time": "2022-04-20T18:58:14.137Z"
   },
   {
    "duration": 83,
    "start_time": "2022-04-20T18:58:14.170Z"
   },
   {
    "duration": 26,
    "start_time": "2022-04-20T18:58:14.255Z"
   },
   {
    "duration": 52,
    "start_time": "2022-04-20T18:58:14.283Z"
   },
   {
    "duration": 44,
    "start_time": "2022-04-20T18:58:14.338Z"
   },
   {
    "duration": 214,
    "start_time": "2022-04-20T18:58:14.385Z"
   },
   {
    "duration": 39,
    "start_time": "2022-04-20T18:58:14.602Z"
   },
   {
    "duration": 26,
    "start_time": "2022-04-20T18:58:14.645Z"
   },
   {
    "duration": 72,
    "start_time": "2022-04-20T18:58:14.674Z"
   },
   {
    "duration": 26,
    "start_time": "2022-04-20T18:58:14.749Z"
   },
   {
    "duration": 63,
    "start_time": "2022-04-20T18:58:14.778Z"
   },
   {
    "duration": 43,
    "start_time": "2022-04-20T18:58:14.844Z"
   },
   {
    "duration": 163,
    "start_time": "2022-04-20T18:58:14.890Z"
   },
   {
    "duration": 26,
    "start_time": "2022-04-20T18:58:15.056Z"
   },
   {
    "duration": 45,
    "start_time": "2022-04-20T18:58:15.085Z"
   },
   {
    "duration": 50,
    "start_time": "2022-04-20T18:58:15.133Z"
   },
   {
    "duration": 53,
    "start_time": "2022-04-20T18:58:15.186Z"
   },
   {
    "duration": 32,
    "start_time": "2022-04-20T18:58:15.242Z"
   },
   {
    "duration": 58,
    "start_time": "2022-04-20T18:58:15.277Z"
   },
   {
    "duration": 22,
    "start_time": "2022-04-20T18:58:15.338Z"
   },
   {
    "duration": 12,
    "start_time": "2022-04-20T18:58:15.362Z"
   },
   {
    "duration": 66,
    "start_time": "2022-04-20T18:58:15.377Z"
   },
   {
    "duration": 16,
    "start_time": "2022-04-20T18:58:15.446Z"
   },
   {
    "duration": 11,
    "start_time": "2022-04-20T18:58:15.465Z"
   },
   {
    "duration": 49,
    "start_time": "2022-04-20T18:58:15.478Z"
   },
   {
    "duration": 29,
    "start_time": "2022-04-20T18:58:15.536Z"
   },
   {
    "duration": 32,
    "start_time": "2022-04-20T18:58:15.567Z"
   },
   {
    "duration": 97,
    "start_time": "2022-04-20T18:58:15.601Z"
   },
   {
    "duration": 66,
    "start_time": "2022-04-20T18:58:15.702Z"
   },
   {
    "duration": 17,
    "start_time": "2022-04-20T18:58:15.771Z"
   },
   {
    "duration": 46,
    "start_time": "2022-04-20T18:58:15.824Z"
   },
   {
    "duration": 28,
    "start_time": "2022-04-20T18:58:15.874Z"
   },
   {
    "duration": 37,
    "start_time": "2022-04-20T18:58:15.906Z"
   },
   {
    "duration": 71,
    "start_time": "2022-04-20T18:58:15.945Z"
   },
   {
    "duration": 23,
    "start_time": "2022-04-20T18:58:16.018Z"
   },
   {
    "duration": 46,
    "start_time": "2022-04-20T18:58:16.043Z"
   },
   {
    "duration": 33,
    "start_time": "2022-04-20T18:58:16.091Z"
   },
   {
    "duration": 10,
    "start_time": "2022-04-20T18:58:16.127Z"
   },
   {
    "duration": 8,
    "start_time": "2022-04-20T18:58:16.140Z"
   },
   {
    "duration": 30,
    "start_time": "2022-04-20T18:58:16.151Z"
   },
   {
    "duration": 62,
    "start_time": "2022-04-20T18:58:16.183Z"
   },
   {
    "duration": 41,
    "start_time": "2022-04-20T18:58:16.248Z"
   },
   {
    "duration": 65,
    "start_time": "2022-04-20T18:58:16.291Z"
   },
   {
    "duration": 80,
    "start_time": "2022-04-20T18:58:16.358Z"
   },
   {
    "duration": 20,
    "start_time": "2022-04-20T18:58:16.440Z"
   },
   {
    "duration": 12,
    "start_time": "2022-04-20T18:58:16.462Z"
   },
   {
    "duration": 91,
    "start_time": "2022-04-20T18:58:16.477Z"
   },
   {
    "duration": 7,
    "start_time": "2022-04-20T18:58:16.571Z"
   },
   {
    "duration": 254,
    "start_time": "2022-04-20T18:58:16.581Z"
   },
   {
    "duration": 11,
    "start_time": "2022-04-20T18:58:16.838Z"
   },
   {
    "duration": 17,
    "start_time": "2022-04-20T18:58:16.852Z"
   },
   {
    "duration": 30,
    "start_time": "2022-04-20T18:58:16.871Z"
   },
   {
    "duration": 23,
    "start_time": "2022-04-20T18:58:16.903Z"
   },
   {
    "duration": 43,
    "start_time": "2022-04-20T18:58:16.928Z"
   },
   {
    "duration": 25,
    "start_time": "2022-04-20T18:58:16.973Z"
   },
   {
    "duration": 22,
    "start_time": "2022-04-20T18:58:17.001Z"
   },
   {
    "duration": 16,
    "start_time": "2022-04-20T18:58:17.026Z"
   },
   {
    "duration": 27,
    "start_time": "2022-04-20T18:58:17.045Z"
   },
   {
    "duration": 9,
    "start_time": "2022-04-20T18:58:17.075Z"
   },
   {
    "duration": 257,
    "start_time": "2022-04-20T18:58:17.086Z"
   },
   {
    "duration": 12,
    "start_time": "2022-04-20T18:58:17.346Z"
   },
   {
    "duration": 266,
    "start_time": "2022-04-20T18:58:17.361Z"
   },
   {
    "duration": 11,
    "start_time": "2022-04-20T18:58:17.630Z"
   },
   {
    "duration": 271,
    "start_time": "2022-04-20T18:58:17.643Z"
   },
   {
    "duration": 11,
    "start_time": "2022-04-20T18:58:17.924Z"
   },
   {
    "duration": 18,
    "start_time": "2022-04-20T18:58:17.938Z"
   },
   {
    "duration": 9,
    "start_time": "2022-04-20T18:58:17.959Z"
   },
   {
    "duration": 9,
    "start_time": "2022-04-20T18:58:17.971Z"
   },
   {
    "duration": 50,
    "start_time": "2022-04-20T18:58:17.983Z"
   },
   {
    "duration": 14,
    "start_time": "2022-04-20T18:58:18.036Z"
   },
   {
    "duration": 8,
    "start_time": "2022-04-20T18:58:18.054Z"
   },
   {
    "duration": 15,
    "start_time": "2022-04-20T18:58:18.064Z"
   },
   {
    "duration": 7,
    "start_time": "2022-04-20T18:58:18.126Z"
   },
   {
    "duration": 15,
    "start_time": "2022-04-20T18:58:18.136Z"
   },
   {
    "duration": 18,
    "start_time": "2022-04-20T18:58:18.153Z"
   },
   {
    "duration": 323,
    "start_time": "2022-04-20T18:58:18.173Z"
   },
   {
    "duration": 26,
    "start_time": "2022-04-20T18:58:18.499Z"
   },
   {
    "duration": 234,
    "start_time": "2022-04-20T18:58:18.528Z"
   },
   {
    "duration": 12,
    "start_time": "2022-04-20T18:58:18.765Z"
   },
   {
    "duration": 259,
    "start_time": "2022-04-20T18:58:18.786Z"
   },
   {
    "duration": 12,
    "start_time": "2022-04-20T18:58:19.047Z"
   },
   {
    "duration": 9,
    "start_time": "2022-04-20T18:58:19.062Z"
   },
   {
    "duration": 54,
    "start_time": "2022-04-20T18:58:19.074Z"
   },
   {
    "duration": 15,
    "start_time": "2022-04-20T18:58:19.130Z"
   },
   {
    "duration": 11,
    "start_time": "2022-04-20T18:58:19.147Z"
   },
   {
    "duration": 24,
    "start_time": "2022-04-20T19:03:36.922Z"
   },
   {
    "duration": 5,
    "start_time": "2022-04-20T19:04:10.497Z"
   },
   {
    "duration": 393,
    "start_time": "2022-04-20T19:04:10.505Z"
   },
   {
    "duration": 71,
    "start_time": "2022-04-20T19:04:10.901Z"
   },
   {
    "duration": 65,
    "start_time": "2022-04-20T19:04:10.975Z"
   },
   {
    "duration": 61,
    "start_time": "2022-04-20T19:04:11.043Z"
   },
   {
    "duration": 34,
    "start_time": "2022-04-20T19:04:11.107Z"
   },
   {
    "duration": 35,
    "start_time": "2022-04-20T19:04:11.143Z"
   },
   {
    "duration": 70,
    "start_time": "2022-04-20T19:04:11.180Z"
   },
   {
    "duration": 200,
    "start_time": "2022-04-20T19:04:11.253Z"
   },
   {
    "duration": 30,
    "start_time": "2022-04-20T19:04:11.455Z"
   },
   {
    "duration": 46,
    "start_time": "2022-04-20T19:04:11.489Z"
   },
   {
    "duration": 45,
    "start_time": "2022-04-20T19:04:11.537Z"
   },
   {
    "duration": 50,
    "start_time": "2022-04-20T19:04:11.584Z"
   },
   {
    "duration": 24,
    "start_time": "2022-04-20T19:04:11.636Z"
   },
   {
    "duration": 62,
    "start_time": "2022-04-20T19:04:11.662Z"
   },
   {
    "duration": 127,
    "start_time": "2022-04-20T19:04:11.727Z"
   },
   {
    "duration": 25,
    "start_time": "2022-04-20T19:04:11.856Z"
   },
   {
    "duration": 41,
    "start_time": "2022-04-20T19:04:11.883Z"
   },
   {
    "duration": 28,
    "start_time": "2022-04-20T19:04:11.927Z"
   },
   {
    "duration": 21,
    "start_time": "2022-04-20T19:04:11.957Z"
   },
   {
    "duration": 66,
    "start_time": "2022-04-20T19:04:11.981Z"
   },
   {
    "duration": 20,
    "start_time": "2022-04-20T19:04:12.049Z"
   },
   {
    "duration": 20,
    "start_time": "2022-04-20T19:04:12.072Z"
   },
   {
    "duration": 35,
    "start_time": "2022-04-20T19:04:12.095Z"
   },
   {
    "duration": 35,
    "start_time": "2022-04-20T19:04:12.132Z"
   },
   {
    "duration": 16,
    "start_time": "2022-04-20T19:04:12.169Z"
   },
   {
    "duration": 41,
    "start_time": "2022-04-20T19:04:12.187Z"
   },
   {
    "duration": 10,
    "start_time": "2022-04-20T19:04:12.231Z"
   },
   {
    "duration": 18,
    "start_time": "2022-04-20T19:04:12.252Z"
   },
   {
    "duration": 54,
    "start_time": "2022-04-20T19:04:12.273Z"
   },
   {
    "duration": 65,
    "start_time": "2022-04-20T19:04:12.330Z"
   },
   {
    "duration": 72,
    "start_time": "2022-04-20T19:04:12.398Z"
   },
   {
    "duration": 53,
    "start_time": "2022-04-20T19:04:12.472Z"
   },
   {
    "duration": 35,
    "start_time": "2022-04-20T19:04:12.528Z"
   },
   {
    "duration": 17,
    "start_time": "2022-04-20T19:04:12.566Z"
   },
   {
    "duration": 45,
    "start_time": "2022-04-20T19:04:12.585Z"
   },
   {
    "duration": 47,
    "start_time": "2022-04-20T19:04:12.632Z"
   },
   {
    "duration": 52,
    "start_time": "2022-04-20T19:04:12.681Z"
   },
   {
    "duration": 37,
    "start_time": "2022-04-20T19:04:12.736Z"
   },
   {
    "duration": 58,
    "start_time": "2022-04-20T19:04:12.776Z"
   },
   {
    "duration": 16,
    "start_time": "2022-04-20T19:04:12.837Z"
   },
   {
    "duration": 17,
    "start_time": "2022-04-20T19:04:12.855Z"
   },
   {
    "duration": 28,
    "start_time": "2022-04-20T19:04:12.874Z"
   },
   {
    "duration": 44,
    "start_time": "2022-04-20T19:04:12.904Z"
   },
   {
    "duration": 48,
    "start_time": "2022-04-20T19:04:12.951Z"
   },
   {
    "duration": 63,
    "start_time": "2022-04-20T19:04:13.002Z"
   },
   {
    "duration": 79,
    "start_time": "2022-04-20T19:04:13.068Z"
   },
   {
    "duration": 22,
    "start_time": "2022-04-20T19:04:13.149Z"
   },
   {
    "duration": 28,
    "start_time": "2022-04-20T19:04:13.174Z"
   },
   {
    "duration": 72,
    "start_time": "2022-04-20T19:04:13.204Z"
   },
   {
    "duration": 7,
    "start_time": "2022-04-20T19:04:13.279Z"
   },
   {
    "duration": 269,
    "start_time": "2022-04-20T19:04:13.289Z"
   },
   {
    "duration": 12,
    "start_time": "2022-04-20T19:04:13.560Z"
   },
   {
    "duration": 24,
    "start_time": "2022-04-20T19:04:13.575Z"
   },
   {
    "duration": 35,
    "start_time": "2022-04-20T19:04:13.602Z"
   },
   {
    "duration": 17,
    "start_time": "2022-04-20T19:04:13.640Z"
   },
   {
    "duration": 25,
    "start_time": "2022-04-20T19:04:13.660Z"
   },
   {
    "duration": 9,
    "start_time": "2022-04-20T19:04:13.688Z"
   },
   {
    "duration": 14,
    "start_time": "2022-04-20T19:04:13.699Z"
   },
   {
    "duration": 12,
    "start_time": "2022-04-20T19:04:13.715Z"
   },
   {
    "duration": 17,
    "start_time": "2022-04-20T19:04:13.730Z"
   },
   {
    "duration": 8,
    "start_time": "2022-04-20T19:04:13.750Z"
   },
   {
    "duration": 244,
    "start_time": "2022-04-20T19:04:13.761Z"
   },
   {
    "duration": 23,
    "start_time": "2022-04-20T19:04:14.007Z"
   },
   {
    "duration": 259,
    "start_time": "2022-04-20T19:04:14.034Z"
   },
   {
    "duration": 11,
    "start_time": "2022-04-20T19:04:14.296Z"
   },
   {
    "duration": 256,
    "start_time": "2022-04-20T19:04:14.325Z"
   },
   {
    "duration": 14,
    "start_time": "2022-04-20T19:04:14.583Z"
   },
   {
    "duration": 33,
    "start_time": "2022-04-20T19:04:14.600Z"
   },
   {
    "duration": 7,
    "start_time": "2022-04-20T19:04:14.636Z"
   },
   {
    "duration": 11,
    "start_time": "2022-04-20T19:04:14.646Z"
   },
   {
    "duration": 11,
    "start_time": "2022-04-20T19:04:14.660Z"
   },
   {
    "duration": 54,
    "start_time": "2022-04-20T19:04:14.674Z"
   },
   {
    "duration": 10,
    "start_time": "2022-04-20T19:04:14.731Z"
   },
   {
    "duration": 8,
    "start_time": "2022-04-20T19:04:14.743Z"
   },
   {
    "duration": 6,
    "start_time": "2022-04-20T19:04:14.754Z"
   },
   {
    "duration": 7,
    "start_time": "2022-04-20T19:04:14.762Z"
   },
   {
    "duration": 58,
    "start_time": "2022-04-20T19:04:14.771Z"
   },
   {
    "duration": 270,
    "start_time": "2022-04-20T19:04:14.831Z"
   },
   {
    "duration": 24,
    "start_time": "2022-04-20T19:04:15.104Z"
   },
   {
    "duration": 359,
    "start_time": "2022-04-20T19:04:15.130Z"
   },
   {
    "duration": 10,
    "start_time": "2022-04-20T19:04:15.492Z"
   },
   {
    "duration": 238,
    "start_time": "2022-04-20T19:04:15.529Z"
   },
   {
    "duration": 11,
    "start_time": "2022-04-20T19:04:15.769Z"
   },
   {
    "duration": 14,
    "start_time": "2022-04-20T19:04:15.782Z"
   },
   {
    "duration": 34,
    "start_time": "2022-04-20T19:04:15.798Z"
   },
   {
    "duration": 15,
    "start_time": "2022-04-20T19:04:15.834Z"
   },
   {
    "duration": 17,
    "start_time": "2022-04-20T19:04:15.851Z"
   },
   {
    "duration": 14,
    "start_time": "2022-04-20T19:07:05.914Z"
   },
   {
    "duration": 4,
    "start_time": "2022-04-20T19:07:14.518Z"
   },
   {
    "duration": 249,
    "start_time": "2022-04-20T19:07:14.526Z"
   },
   {
    "duration": 62,
    "start_time": "2022-04-20T19:07:14.777Z"
   },
   {
    "duration": 25,
    "start_time": "2022-04-20T19:07:14.841Z"
   },
   {
    "duration": 78,
    "start_time": "2022-04-20T19:07:14.870Z"
   },
   {
    "duration": 25,
    "start_time": "2022-04-20T19:07:14.951Z"
   },
   {
    "duration": 55,
    "start_time": "2022-04-20T19:07:14.979Z"
   },
   {
    "duration": 41,
    "start_time": "2022-04-20T19:07:15.037Z"
   },
   {
    "duration": 222,
    "start_time": "2022-04-20T19:07:15.080Z"
   },
   {
    "duration": 42,
    "start_time": "2022-04-20T19:07:15.304Z"
   },
   {
    "duration": 22,
    "start_time": "2022-04-20T19:07:15.350Z"
   },
   {
    "duration": 67,
    "start_time": "2022-04-20T19:07:15.374Z"
   },
   {
    "duration": 25,
    "start_time": "2022-04-20T19:07:15.444Z"
   },
   {
    "duration": 15,
    "start_time": "2022-04-20T19:07:15.472Z"
   },
   {
    "duration": 74,
    "start_time": "2022-04-20T19:07:15.489Z"
   },
   {
    "duration": 198,
    "start_time": "2022-04-20T19:07:15.566Z"
   },
   {
    "duration": 27,
    "start_time": "2022-04-20T19:07:15.766Z"
   },
   {
    "duration": 60,
    "start_time": "2022-04-20T19:07:15.795Z"
   },
   {
    "duration": 35,
    "start_time": "2022-04-20T19:07:15.858Z"
   },
   {
    "duration": 22,
    "start_time": "2022-04-20T19:07:15.895Z"
   },
   {
    "duration": 31,
    "start_time": "2022-04-20T19:07:15.919Z"
   },
   {
    "duration": 21,
    "start_time": "2022-04-20T19:07:15.952Z"
   },
   {
    "duration": 16,
    "start_time": "2022-04-20T19:07:15.975Z"
   },
   {
    "duration": 13,
    "start_time": "2022-04-20T19:07:15.994Z"
   },
   {
    "duration": 39,
    "start_time": "2022-04-20T19:07:16.009Z"
   },
   {
    "duration": 17,
    "start_time": "2022-04-20T19:07:16.051Z"
   },
   {
    "duration": 14,
    "start_time": "2022-04-20T19:07:16.070Z"
   },
   {
    "duration": 10,
    "start_time": "2022-04-20T19:07:16.087Z"
   },
   {
    "duration": 26,
    "start_time": "2022-04-20T19:07:16.104Z"
   },
   {
    "duration": 13,
    "start_time": "2022-04-20T19:07:16.133Z"
   },
   {
    "duration": 70,
    "start_time": "2022-04-20T19:07:16.149Z"
   },
   {
    "duration": 54,
    "start_time": "2022-04-20T19:07:16.221Z"
   },
   {
    "duration": 17,
    "start_time": "2022-04-20T19:07:16.277Z"
   },
   {
    "duration": 42,
    "start_time": "2022-04-20T19:07:16.296Z"
   },
   {
    "duration": 16,
    "start_time": "2022-04-20T19:07:16.340Z"
   },
   {
    "duration": 8,
    "start_time": "2022-04-20T19:07:16.358Z"
   },
   {
    "duration": 44,
    "start_time": "2022-04-20T19:07:16.369Z"
   },
   {
    "duration": 26,
    "start_time": "2022-04-20T19:07:16.416Z"
   },
   {
    "duration": 38,
    "start_time": "2022-04-20T19:07:16.445Z"
   },
   {
    "duration": 17,
    "start_time": "2022-04-20T19:07:16.486Z"
   },
   {
    "duration": 26,
    "start_time": "2022-04-20T19:07:16.505Z"
   },
   {
    "duration": 8,
    "start_time": "2022-04-20T19:07:16.534Z"
   },
   {
    "duration": 83,
    "start_time": "2022-04-20T19:07:16.545Z"
   },
   {
    "duration": 0,
    "start_time": "2022-04-20T19:07:16.631Z"
   },
   {
    "duration": 0,
    "start_time": "2022-04-20T19:07:16.632Z"
   },
   {
    "duration": 0,
    "start_time": "2022-04-20T19:07:16.634Z"
   },
   {
    "duration": 0,
    "start_time": "2022-04-20T19:07:16.636Z"
   },
   {
    "duration": 0,
    "start_time": "2022-04-20T19:07:16.637Z"
   },
   {
    "duration": 0,
    "start_time": "2022-04-20T19:07:16.638Z"
   },
   {
    "duration": 0,
    "start_time": "2022-04-20T19:07:16.640Z"
   },
   {
    "duration": 0,
    "start_time": "2022-04-20T19:07:16.642Z"
   },
   {
    "duration": 0,
    "start_time": "2022-04-20T19:07:16.643Z"
   },
   {
    "duration": 0,
    "start_time": "2022-04-20T19:07:16.645Z"
   },
   {
    "duration": 0,
    "start_time": "2022-04-20T19:07:16.646Z"
   },
   {
    "duration": 0,
    "start_time": "2022-04-20T19:07:16.648Z"
   },
   {
    "duration": 0,
    "start_time": "2022-04-20T19:07:16.650Z"
   },
   {
    "duration": 0,
    "start_time": "2022-04-20T19:07:16.652Z"
   },
   {
    "duration": 0,
    "start_time": "2022-04-20T19:07:16.653Z"
   },
   {
    "duration": 0,
    "start_time": "2022-04-20T19:07:16.655Z"
   },
   {
    "duration": 0,
    "start_time": "2022-04-20T19:07:16.657Z"
   },
   {
    "duration": 0,
    "start_time": "2022-04-20T19:07:16.658Z"
   },
   {
    "duration": 0,
    "start_time": "2022-04-20T19:07:16.660Z"
   },
   {
    "duration": 0,
    "start_time": "2022-04-20T19:07:16.725Z"
   },
   {
    "duration": 0,
    "start_time": "2022-04-20T19:07:16.726Z"
   },
   {
    "duration": 0,
    "start_time": "2022-04-20T19:07:16.728Z"
   },
   {
    "duration": 0,
    "start_time": "2022-04-20T19:07:16.729Z"
   },
   {
    "duration": 0,
    "start_time": "2022-04-20T19:07:16.730Z"
   },
   {
    "duration": 0,
    "start_time": "2022-04-20T19:07:16.733Z"
   },
   {
    "duration": 0,
    "start_time": "2022-04-20T19:07:16.735Z"
   },
   {
    "duration": 0,
    "start_time": "2022-04-20T19:07:16.736Z"
   },
   {
    "duration": 0,
    "start_time": "2022-04-20T19:07:16.738Z"
   },
   {
    "duration": 0,
    "start_time": "2022-04-20T19:07:16.739Z"
   },
   {
    "duration": 0,
    "start_time": "2022-04-20T19:07:16.740Z"
   },
   {
    "duration": 0,
    "start_time": "2022-04-20T19:07:16.741Z"
   },
   {
    "duration": 0,
    "start_time": "2022-04-20T19:07:16.743Z"
   },
   {
    "duration": 0,
    "start_time": "2022-04-20T19:07:16.744Z"
   },
   {
    "duration": 0,
    "start_time": "2022-04-20T19:07:16.746Z"
   },
   {
    "duration": 0,
    "start_time": "2022-04-20T19:07:16.747Z"
   },
   {
    "duration": 0,
    "start_time": "2022-04-20T19:07:16.749Z"
   },
   {
    "duration": 0,
    "start_time": "2022-04-20T19:07:16.750Z"
   },
   {
    "duration": 0,
    "start_time": "2022-04-20T19:07:16.752Z"
   },
   {
    "duration": 0,
    "start_time": "2022-04-20T19:07:16.753Z"
   },
   {
    "duration": 0,
    "start_time": "2022-04-20T19:07:16.755Z"
   },
   {
    "duration": 0,
    "start_time": "2022-04-20T19:07:16.756Z"
   },
   {
    "duration": 0,
    "start_time": "2022-04-20T19:07:16.757Z"
   },
   {
    "duration": 0,
    "start_time": "2022-04-20T19:07:16.758Z"
   },
   {
    "duration": 0,
    "start_time": "2022-04-20T19:07:16.760Z"
   },
   {
    "duration": 0,
    "start_time": "2022-04-20T19:07:16.761Z"
   },
   {
    "duration": 29,
    "start_time": "2022-04-20T19:09:18.805Z"
   },
   {
    "duration": 25,
    "start_time": "2022-04-20T19:10:00.504Z"
   },
   {
    "duration": 4,
    "start_time": "2022-04-20T19:10:09.922Z"
   },
   {
    "duration": 304,
    "start_time": "2022-04-20T19:10:09.928Z"
   },
   {
    "duration": 34,
    "start_time": "2022-04-20T19:10:10.236Z"
   },
   {
    "duration": 68,
    "start_time": "2022-04-20T19:10:10.272Z"
   },
   {
    "duration": 47,
    "start_time": "2022-04-20T19:10:10.344Z"
   },
   {
    "duration": 44,
    "start_time": "2022-04-20T19:10:10.393Z"
   },
   {
    "duration": 32,
    "start_time": "2022-04-20T19:10:10.440Z"
   },
   {
    "duration": 92,
    "start_time": "2022-04-20T19:10:10.475Z"
   },
   {
    "duration": 213,
    "start_time": "2022-04-20T19:10:10.570Z"
   },
   {
    "duration": 46,
    "start_time": "2022-04-20T19:10:10.786Z"
   },
   {
    "duration": 22,
    "start_time": "2022-04-20T19:10:10.836Z"
   },
   {
    "duration": 76,
    "start_time": "2022-04-20T19:10:10.861Z"
   },
   {
    "duration": 26,
    "start_time": "2022-04-20T19:10:10.940Z"
   },
   {
    "duration": 26,
    "start_time": "2022-04-20T19:10:10.969Z"
   },
   {
    "duration": 35,
    "start_time": "2022-04-20T19:10:11.024Z"
   },
   {
    "duration": 143,
    "start_time": "2022-04-20T19:10:11.061Z"
   },
   {
    "duration": 31,
    "start_time": "2022-04-20T19:10:11.207Z"
   },
   {
    "duration": 18,
    "start_time": "2022-04-20T19:10:11.240Z"
   },
   {
    "duration": 65,
    "start_time": "2022-04-20T19:10:11.260Z"
   },
   {
    "duration": 23,
    "start_time": "2022-04-20T19:10:11.327Z"
   },
   {
    "duration": 29,
    "start_time": "2022-04-20T19:10:11.352Z"
   },
   {
    "duration": 50,
    "start_time": "2022-04-20T19:10:11.383Z"
   },
   {
    "duration": 15,
    "start_time": "2022-04-20T19:10:11.436Z"
   },
   {
    "duration": 10,
    "start_time": "2022-04-20T19:10:11.453Z"
   },
   {
    "duration": 61,
    "start_time": "2022-04-20T19:10:11.465Z"
   },
   {
    "duration": 15,
    "start_time": "2022-04-20T19:10:11.529Z"
   },
   {
    "duration": 10,
    "start_time": "2022-04-20T19:10:11.546Z"
   },
   {
    "duration": 11,
    "start_time": "2022-04-20T19:10:11.558Z"
   },
   {
    "duration": 54,
    "start_time": "2022-04-20T19:10:11.577Z"
   },
   {
    "duration": 10,
    "start_time": "2022-04-20T19:10:11.633Z"
   },
   {
    "duration": 83,
    "start_time": "2022-04-20T19:10:11.645Z"
   },
   {
    "duration": 50,
    "start_time": "2022-04-20T19:10:11.730Z"
   },
   {
    "duration": 15,
    "start_time": "2022-04-20T19:10:11.782Z"
   },
   {
    "duration": 31,
    "start_time": "2022-04-20T19:10:11.825Z"
   },
   {
    "duration": 16,
    "start_time": "2022-04-20T19:10:11.858Z"
   },
   {
    "duration": 8,
    "start_time": "2022-04-20T19:10:11.876Z"
   },
   {
    "duration": 75,
    "start_time": "2022-04-20T19:10:11.886Z"
   },
   {
    "duration": 21,
    "start_time": "2022-04-20T19:10:11.963Z"
   },
   {
    "duration": 69,
    "start_time": "2022-04-20T19:10:11.986Z"
   },
   {
    "duration": 17,
    "start_time": "2022-04-20T19:10:12.057Z"
   },
   {
    "duration": 50,
    "start_time": "2022-04-20T19:10:12.076Z"
   },
   {
    "duration": 8,
    "start_time": "2022-04-20T19:10:12.128Z"
   },
   {
    "duration": 24,
    "start_time": "2022-04-20T19:10:12.138Z"
   },
   {
    "duration": 26,
    "start_time": "2022-04-20T19:10:12.164Z"
   },
   {
    "duration": 52,
    "start_time": "2022-04-20T19:10:12.192Z"
   },
   {
    "duration": 38,
    "start_time": "2022-04-20T19:10:12.246Z"
   },
   {
    "duration": 91,
    "start_time": "2022-04-20T19:10:12.286Z"
   },
   {
    "duration": 47,
    "start_time": "2022-04-20T19:10:12.379Z"
   },
   {
    "duration": 13,
    "start_time": "2022-04-20T19:10:12.428Z"
   },
   {
    "duration": 49,
    "start_time": "2022-04-20T19:10:12.443Z"
   },
   {
    "duration": 31,
    "start_time": "2022-04-20T19:10:12.494Z"
   },
   {
    "duration": 252,
    "start_time": "2022-04-20T19:10:12.527Z"
   },
   {
    "duration": 10,
    "start_time": "2022-04-20T19:10:12.782Z"
   },
   {
    "duration": 5,
    "start_time": "2022-04-20T19:10:12.795Z"
   },
   {
    "duration": 26,
    "start_time": "2022-04-20T19:10:12.802Z"
   },
   {
    "duration": 5,
    "start_time": "2022-04-20T19:10:12.831Z"
   },
   {
    "duration": 6,
    "start_time": "2022-04-20T19:10:12.838Z"
   },
   {
    "duration": 7,
    "start_time": "2022-04-20T19:10:12.846Z"
   },
   {
    "duration": 11,
    "start_time": "2022-04-20T19:10:12.855Z"
   },
   {
    "duration": 59,
    "start_time": "2022-04-20T19:10:12.868Z"
   },
   {
    "duration": 8,
    "start_time": "2022-04-20T19:10:12.929Z"
   },
   {
    "duration": 6,
    "start_time": "2022-04-20T19:10:12.939Z"
   },
   {
    "duration": 255,
    "start_time": "2022-04-20T19:10:12.947Z"
   },
   {
    "duration": 27,
    "start_time": "2022-04-20T19:10:13.205Z"
   },
   {
    "duration": 260,
    "start_time": "2022-04-20T19:10:13.235Z"
   },
   {
    "duration": 27,
    "start_time": "2022-04-20T19:10:13.498Z"
   },
   {
    "duration": 258,
    "start_time": "2022-04-20T19:10:13.528Z"
   },
   {
    "duration": 11,
    "start_time": "2022-04-20T19:10:13.789Z"
   },
   {
    "duration": 33,
    "start_time": "2022-04-20T19:10:13.803Z"
   },
   {
    "duration": 6,
    "start_time": "2022-04-20T19:10:13.839Z"
   },
   {
    "duration": 7,
    "start_time": "2022-04-20T19:10:13.849Z"
   },
   {
    "duration": 8,
    "start_time": "2022-04-20T19:10:13.858Z"
   },
   {
    "duration": 8,
    "start_time": "2022-04-20T19:10:13.925Z"
   },
   {
    "duration": 9,
    "start_time": "2022-04-20T19:10:13.935Z"
   },
   {
    "duration": 8,
    "start_time": "2022-04-20T19:10:13.947Z"
   },
   {
    "duration": 7,
    "start_time": "2022-04-20T19:10:13.958Z"
   },
   {
    "duration": 58,
    "start_time": "2022-04-20T19:10:13.967Z"
   },
   {
    "duration": 7,
    "start_time": "2022-04-20T19:10:14.028Z"
   },
   {
    "duration": 281,
    "start_time": "2022-04-20T19:10:14.038Z"
   },
   {
    "duration": 10,
    "start_time": "2022-04-20T19:10:14.324Z"
   },
   {
    "duration": 233,
    "start_time": "2022-04-20T19:10:14.337Z"
   },
   {
    "duration": 11,
    "start_time": "2022-04-20T19:10:14.573Z"
   },
   {
    "duration": 245,
    "start_time": "2022-04-20T19:10:14.592Z"
   },
   {
    "duration": 10,
    "start_time": "2022-04-20T19:10:14.839Z"
   },
   {
    "duration": 7,
    "start_time": "2022-04-20T19:10:14.852Z"
   },
   {
    "duration": 10,
    "start_time": "2022-04-20T19:10:14.861Z"
   },
   {
    "duration": 55,
    "start_time": "2022-04-20T19:10:14.873Z"
   },
   {
    "duration": 12,
    "start_time": "2022-04-20T19:10:14.930Z"
   },
   {
    "duration": 3,
    "start_time": "2022-04-20T19:13:17.102Z"
   },
   {
    "duration": 210,
    "start_time": "2022-04-20T19:13:17.108Z"
   },
   {
    "duration": 34,
    "start_time": "2022-04-20T19:13:17.324Z"
   },
   {
    "duration": 25,
    "start_time": "2022-04-20T19:13:17.360Z"
   },
   {
    "duration": 77,
    "start_time": "2022-04-20T19:13:17.390Z"
   },
   {
    "duration": 26,
    "start_time": "2022-04-20T19:13:17.470Z"
   },
   {
    "duration": 51,
    "start_time": "2022-04-20T19:13:17.499Z"
   },
   {
    "duration": 41,
    "start_time": "2022-04-20T19:13:17.552Z"
   },
   {
    "duration": 224,
    "start_time": "2022-04-20T19:13:17.595Z"
   },
   {
    "duration": 28,
    "start_time": "2022-04-20T19:13:17.825Z"
   },
   {
    "duration": 21,
    "start_time": "2022-04-20T19:13:17.856Z"
   },
   {
    "duration": 73,
    "start_time": "2022-04-20T19:13:17.879Z"
   },
   {
    "duration": 23,
    "start_time": "2022-04-20T19:13:17.955Z"
   },
   {
    "duration": 13,
    "start_time": "2022-04-20T19:13:17.983Z"
   },
   {
    "duration": 56,
    "start_time": "2022-04-20T19:13:17.998Z"
   },
   {
    "duration": 144,
    "start_time": "2022-04-20T19:13:18.056Z"
   },
   {
    "duration": 29,
    "start_time": "2022-04-20T19:13:18.202Z"
   },
   {
    "duration": 18,
    "start_time": "2022-04-20T19:13:18.233Z"
   },
   {
    "duration": 38,
    "start_time": "2022-04-20T19:13:18.254Z"
   },
   {
    "duration": 50,
    "start_time": "2022-04-20T19:13:18.294Z"
   },
   {
    "duration": 29,
    "start_time": "2022-04-20T19:13:18.347Z"
   },
   {
    "duration": 57,
    "start_time": "2022-04-20T19:13:18.378Z"
   },
   {
    "duration": 15,
    "start_time": "2022-04-20T19:13:18.437Z"
   },
   {
    "duration": 8,
    "start_time": "2022-04-20T19:13:18.455Z"
   },
   {
    "duration": 59,
    "start_time": "2022-04-20T19:13:18.466Z"
   },
   {
    "duration": 17,
    "start_time": "2022-04-20T19:13:18.527Z"
   },
   {
    "duration": 11,
    "start_time": "2022-04-20T19:13:18.546Z"
   },
   {
    "duration": 10,
    "start_time": "2022-04-20T19:13:18.560Z"
   },
   {
    "duration": 67,
    "start_time": "2022-04-20T19:13:18.572Z"
   },
   {
    "duration": 5,
    "start_time": "2022-04-20T19:13:18.643Z"
   },
   {
    "duration": 85,
    "start_time": "2022-04-20T19:13:18.651Z"
   },
   {
    "duration": 53,
    "start_time": "2022-04-20T19:13:18.739Z"
   },
   {
    "duration": 44,
    "start_time": "2022-04-20T19:13:18.794Z"
   },
   {
    "duration": 33,
    "start_time": "2022-04-20T19:13:18.841Z"
   },
   {
    "duration": 50,
    "start_time": "2022-04-20T19:13:18.876Z"
   },
   {
    "duration": 6,
    "start_time": "2022-04-20T19:13:18.929Z"
   },
   {
    "duration": 44,
    "start_time": "2022-04-20T19:13:18.937Z"
   },
   {
    "duration": 58,
    "start_time": "2022-04-20T19:13:18.983Z"
   },
   {
    "duration": 37,
    "start_time": "2022-04-20T19:13:19.044Z"
   },
   {
    "duration": 50,
    "start_time": "2022-04-20T19:13:19.083Z"
   },
   {
    "duration": 9,
    "start_time": "2022-04-20T19:13:19.142Z"
   },
   {
    "duration": 8,
    "start_time": "2022-04-20T19:13:19.153Z"
   },
   {
    "duration": 69,
    "start_time": "2022-04-20T19:13:19.163Z"
   },
   {
    "duration": 0,
    "start_time": "2022-04-20T19:13:19.235Z"
   },
   {
    "duration": 0,
    "start_time": "2022-04-20T19:13:19.238Z"
   },
   {
    "duration": 0,
    "start_time": "2022-04-20T19:13:19.239Z"
   },
   {
    "duration": 0,
    "start_time": "2022-04-20T19:13:19.242Z"
   },
   {
    "duration": 0,
    "start_time": "2022-04-20T19:13:19.245Z"
   },
   {
    "duration": 1,
    "start_time": "2022-04-20T19:13:19.246Z"
   },
   {
    "duration": 0,
    "start_time": "2022-04-20T19:13:19.248Z"
   },
   {
    "duration": 0,
    "start_time": "2022-04-20T19:13:19.250Z"
   },
   {
    "duration": 0,
    "start_time": "2022-04-20T19:13:19.252Z"
   },
   {
    "duration": 0,
    "start_time": "2022-04-20T19:13:19.254Z"
   },
   {
    "duration": 0,
    "start_time": "2022-04-20T19:13:19.256Z"
   },
   {
    "duration": 0,
    "start_time": "2022-04-20T19:13:19.257Z"
   },
   {
    "duration": 0,
    "start_time": "2022-04-20T19:13:19.259Z"
   },
   {
    "duration": 0,
    "start_time": "2022-04-20T19:13:19.261Z"
   },
   {
    "duration": 0,
    "start_time": "2022-04-20T19:13:19.263Z"
   },
   {
    "duration": 0,
    "start_time": "2022-04-20T19:13:19.264Z"
   },
   {
    "duration": 0,
    "start_time": "2022-04-20T19:13:19.266Z"
   },
   {
    "duration": 0,
    "start_time": "2022-04-20T19:13:19.267Z"
   },
   {
    "duration": 0,
    "start_time": "2022-04-20T19:13:19.325Z"
   },
   {
    "duration": 0,
    "start_time": "2022-04-20T19:13:19.328Z"
   },
   {
    "duration": 0,
    "start_time": "2022-04-20T19:13:19.330Z"
   },
   {
    "duration": 0,
    "start_time": "2022-04-20T19:13:19.332Z"
   },
   {
    "duration": 0,
    "start_time": "2022-04-20T19:13:19.334Z"
   },
   {
    "duration": 0,
    "start_time": "2022-04-20T19:13:19.337Z"
   },
   {
    "duration": 0,
    "start_time": "2022-04-20T19:13:19.339Z"
   },
   {
    "duration": 0,
    "start_time": "2022-04-20T19:13:19.341Z"
   },
   {
    "duration": 0,
    "start_time": "2022-04-20T19:13:19.344Z"
   },
   {
    "duration": 0,
    "start_time": "2022-04-20T19:13:19.345Z"
   },
   {
    "duration": 0,
    "start_time": "2022-04-20T19:13:19.348Z"
   },
   {
    "duration": 0,
    "start_time": "2022-04-20T19:13:19.350Z"
   },
   {
    "duration": 0,
    "start_time": "2022-04-20T19:13:19.351Z"
   },
   {
    "duration": 0,
    "start_time": "2022-04-20T19:13:19.353Z"
   },
   {
    "duration": 0,
    "start_time": "2022-04-20T19:13:19.354Z"
   },
   {
    "duration": 0,
    "start_time": "2022-04-20T19:13:19.356Z"
   },
   {
    "duration": 0,
    "start_time": "2022-04-20T19:13:19.358Z"
   },
   {
    "duration": 0,
    "start_time": "2022-04-20T19:13:19.359Z"
   },
   {
    "duration": 0,
    "start_time": "2022-04-20T19:13:19.360Z"
   },
   {
    "duration": 0,
    "start_time": "2022-04-20T19:13:19.361Z"
   },
   {
    "duration": 0,
    "start_time": "2022-04-20T19:13:19.363Z"
   },
   {
    "duration": 0,
    "start_time": "2022-04-20T19:13:19.425Z"
   },
   {
    "duration": 0,
    "start_time": "2022-04-20T19:13:19.427Z"
   },
   {
    "duration": 0,
    "start_time": "2022-04-20T19:13:19.428Z"
   },
   {
    "duration": 0,
    "start_time": "2022-04-20T19:13:19.429Z"
   },
   {
    "duration": 0,
    "start_time": "2022-04-20T19:13:19.431Z"
   },
   {
    "duration": 0,
    "start_time": "2022-04-20T19:13:19.432Z"
   },
   {
    "duration": 29,
    "start_time": "2022-04-20T19:16:01.581Z"
   },
   {
    "duration": 4,
    "start_time": "2022-04-20T19:16:07.182Z"
   },
   {
    "duration": 271,
    "start_time": "2022-04-20T19:16:07.190Z"
   },
   {
    "duration": 62,
    "start_time": "2022-04-20T19:16:07.464Z"
   },
   {
    "duration": 27,
    "start_time": "2022-04-20T19:16:07.528Z"
   },
   {
    "duration": 76,
    "start_time": "2022-04-20T19:16:07.559Z"
   },
   {
    "duration": 31,
    "start_time": "2022-04-20T19:16:07.637Z"
   },
   {
    "duration": 69,
    "start_time": "2022-04-20T19:16:07.671Z"
   },
   {
    "duration": 42,
    "start_time": "2022-04-20T19:16:07.742Z"
   },
   {
    "duration": 221,
    "start_time": "2022-04-20T19:16:07.786Z"
   },
   {
    "duration": 45,
    "start_time": "2022-04-20T19:16:08.010Z"
   },
   {
    "duration": 25,
    "start_time": "2022-04-20T19:16:08.062Z"
   },
   {
    "duration": 36,
    "start_time": "2022-04-20T19:16:08.125Z"
   },
   {
    "duration": 23,
    "start_time": "2022-04-20T19:16:08.164Z"
   },
   {
    "duration": 61,
    "start_time": "2022-04-20T19:16:08.190Z"
   },
   {
    "duration": 35,
    "start_time": "2022-04-20T19:16:08.253Z"
   },
   {
    "duration": 153,
    "start_time": "2022-04-20T19:16:08.290Z"
   },
   {
    "duration": 26,
    "start_time": "2022-04-20T19:16:08.445Z"
   },
   {
    "duration": 18,
    "start_time": "2022-04-20T19:16:08.473Z"
   },
   {
    "duration": 59,
    "start_time": "2022-04-20T19:16:08.494Z"
   },
   {
    "duration": 21,
    "start_time": "2022-04-20T19:16:08.556Z"
   },
   {
    "duration": 62,
    "start_time": "2022-04-20T19:16:08.579Z"
   },
   {
    "duration": 21,
    "start_time": "2022-04-20T19:16:08.643Z"
   },
   {
    "duration": 16,
    "start_time": "2022-04-20T19:16:08.666Z"
   },
   {
    "duration": 41,
    "start_time": "2022-04-20T19:16:08.684Z"
   },
   {
    "duration": 35,
    "start_time": "2022-04-20T19:16:08.727Z"
   },
   {
    "duration": 16,
    "start_time": "2022-04-20T19:16:08.765Z"
   },
   {
    "duration": 10,
    "start_time": "2022-04-20T19:16:08.783Z"
   },
   {
    "duration": 8,
    "start_time": "2022-04-20T19:16:08.826Z"
   },
   {
    "duration": 24,
    "start_time": "2022-04-20T19:16:08.841Z"
   },
   {
    "duration": 14,
    "start_time": "2022-04-20T19:16:08.868Z"
   },
   {
    "duration": 91,
    "start_time": "2022-04-20T19:16:08.885Z"
   },
   {
    "duration": 76,
    "start_time": "2022-04-20T19:16:08.979Z"
   },
   {
    "duration": 21,
    "start_time": "2022-04-20T19:16:09.058Z"
   },
   {
    "duration": 63,
    "start_time": "2022-04-20T19:16:09.082Z"
   },
   {
    "duration": 18,
    "start_time": "2022-04-20T19:16:09.148Z"
   },
   {
    "duration": 9,
    "start_time": "2022-04-20T19:16:09.169Z"
   },
   {
    "duration": 84,
    "start_time": "2022-04-20T19:16:09.181Z"
   },
   {
    "duration": 25,
    "start_time": "2022-04-20T19:16:09.268Z"
   },
   {
    "duration": 37,
    "start_time": "2022-04-20T19:16:09.326Z"
   },
   {
    "duration": 17,
    "start_time": "2022-04-20T19:16:09.366Z"
   },
   {
    "duration": 49,
    "start_time": "2022-04-20T19:16:09.386Z"
   },
   {
    "duration": 10,
    "start_time": "2022-04-20T19:16:09.437Z"
   },
   {
    "duration": 34,
    "start_time": "2022-04-20T19:16:09.450Z"
   },
   {
    "duration": 0,
    "start_time": "2022-04-20T19:16:09.525Z"
   },
   {
    "duration": 0,
    "start_time": "2022-04-20T19:16:09.528Z"
   },
   {
    "duration": 0,
    "start_time": "2022-04-20T19:16:09.529Z"
   },
   {
    "duration": 0,
    "start_time": "2022-04-20T19:16:09.532Z"
   },
   {
    "duration": 0,
    "start_time": "2022-04-20T19:16:09.534Z"
   },
   {
    "duration": 0,
    "start_time": "2022-04-20T19:16:09.536Z"
   },
   {
    "duration": 0,
    "start_time": "2022-04-20T19:16:09.538Z"
   },
   {
    "duration": 1,
    "start_time": "2022-04-20T19:16:09.540Z"
   },
   {
    "duration": 0,
    "start_time": "2022-04-20T19:16:09.542Z"
   },
   {
    "duration": 0,
    "start_time": "2022-04-20T19:16:09.545Z"
   },
   {
    "duration": 0,
    "start_time": "2022-04-20T19:16:09.547Z"
   },
   {
    "duration": 0,
    "start_time": "2022-04-20T19:16:09.549Z"
   },
   {
    "duration": 0,
    "start_time": "2022-04-20T19:16:09.551Z"
   },
   {
    "duration": 0,
    "start_time": "2022-04-20T19:16:09.553Z"
   },
   {
    "duration": 0,
    "start_time": "2022-04-20T19:16:09.555Z"
   },
   {
    "duration": 0,
    "start_time": "2022-04-20T19:16:09.558Z"
   },
   {
    "duration": 0,
    "start_time": "2022-04-20T19:16:09.560Z"
   },
   {
    "duration": 0,
    "start_time": "2022-04-20T19:16:09.562Z"
   },
   {
    "duration": 0,
    "start_time": "2022-04-20T19:16:09.564Z"
   },
   {
    "duration": 0,
    "start_time": "2022-04-20T19:16:09.625Z"
   },
   {
    "duration": 0,
    "start_time": "2022-04-20T19:16:09.628Z"
   },
   {
    "duration": 0,
    "start_time": "2022-04-20T19:16:09.630Z"
   },
   {
    "duration": 0,
    "start_time": "2022-04-20T19:16:09.632Z"
   },
   {
    "duration": 0,
    "start_time": "2022-04-20T19:16:09.635Z"
   },
   {
    "duration": 0,
    "start_time": "2022-04-20T19:16:09.637Z"
   },
   {
    "duration": 0,
    "start_time": "2022-04-20T19:16:09.639Z"
   },
   {
    "duration": 0,
    "start_time": "2022-04-20T19:16:09.642Z"
   },
   {
    "duration": 1,
    "start_time": "2022-04-20T19:16:09.643Z"
   },
   {
    "duration": 0,
    "start_time": "2022-04-20T19:16:09.646Z"
   },
   {
    "duration": 0,
    "start_time": "2022-04-20T19:16:09.648Z"
   },
   {
    "duration": 0,
    "start_time": "2022-04-20T19:16:09.650Z"
   },
   {
    "duration": 0,
    "start_time": "2022-04-20T19:16:09.652Z"
   },
   {
    "duration": 0,
    "start_time": "2022-04-20T19:16:09.654Z"
   },
   {
    "duration": 0,
    "start_time": "2022-04-20T19:16:09.655Z"
   },
   {
    "duration": 0,
    "start_time": "2022-04-20T19:16:09.657Z"
   },
   {
    "duration": 0,
    "start_time": "2022-04-20T19:16:09.658Z"
   },
   {
    "duration": 0,
    "start_time": "2022-04-20T19:16:09.660Z"
   },
   {
    "duration": 0,
    "start_time": "2022-04-20T19:16:09.725Z"
   },
   {
    "duration": 0,
    "start_time": "2022-04-20T19:16:09.726Z"
   },
   {
    "duration": 0,
    "start_time": "2022-04-20T19:16:09.728Z"
   },
   {
    "duration": 0,
    "start_time": "2022-04-20T19:16:09.730Z"
   },
   {
    "duration": 0,
    "start_time": "2022-04-20T19:16:09.732Z"
   },
   {
    "duration": 0,
    "start_time": "2022-04-20T19:16:09.733Z"
   },
   {
    "duration": 0,
    "start_time": "2022-04-20T19:16:09.735Z"
   },
   {
    "duration": 0,
    "start_time": "2022-04-20T19:16:09.737Z"
   },
   {
    "duration": 25,
    "start_time": "2022-04-20T19:18:13.529Z"
   },
   {
    "duration": 4,
    "start_time": "2022-04-20T19:18:16.834Z"
   },
   {
    "duration": 258,
    "start_time": "2022-04-20T19:18:16.841Z"
   },
   {
    "duration": 34,
    "start_time": "2022-04-20T19:18:17.126Z"
   },
   {
    "duration": 80,
    "start_time": "2022-04-20T19:18:17.162Z"
   },
   {
    "duration": 91,
    "start_time": "2022-04-20T19:18:17.246Z"
   },
   {
    "duration": 37,
    "start_time": "2022-04-20T19:18:17.340Z"
   },
   {
    "duration": 58,
    "start_time": "2022-04-20T19:18:17.380Z"
   },
   {
    "duration": 42,
    "start_time": "2022-04-20T19:18:17.442Z"
   },
   {
    "duration": 229,
    "start_time": "2022-04-20T19:18:17.487Z"
   },
   {
    "duration": 34,
    "start_time": "2022-04-20T19:18:17.719Z"
   },
   {
    "duration": 21,
    "start_time": "2022-04-20T19:18:17.757Z"
   },
   {
    "duration": 68,
    "start_time": "2022-04-20T19:18:17.780Z"
   },
   {
    "duration": 26,
    "start_time": "2022-04-20T19:18:17.850Z"
   },
   {
    "duration": 61,
    "start_time": "2022-04-20T19:18:17.880Z"
   },
   {
    "duration": 36,
    "start_time": "2022-04-20T19:18:17.944Z"
   },
   {
    "duration": 180,
    "start_time": "2022-04-20T19:18:17.983Z"
   },
   {
    "duration": 28,
    "start_time": "2022-04-20T19:18:18.165Z"
   },
   {
    "duration": 38,
    "start_time": "2022-04-20T19:18:18.196Z"
   },
   {
    "duration": 30,
    "start_time": "2022-04-20T19:18:18.237Z"
   },
   {
    "duration": 20,
    "start_time": "2022-04-20T19:18:18.270Z"
   },
   {
    "duration": 30,
    "start_time": "2022-04-20T19:18:18.325Z"
   },
   {
    "duration": 19,
    "start_time": "2022-04-20T19:18:18.357Z"
   },
   {
    "duration": 49,
    "start_time": "2022-04-20T19:18:18.379Z"
   },
   {
    "duration": 12,
    "start_time": "2022-04-20T19:18:18.430Z"
   },
   {
    "duration": 40,
    "start_time": "2022-04-20T19:18:18.445Z"
   },
   {
    "duration": 46,
    "start_time": "2022-04-20T19:18:18.488Z"
   },
   {
    "duration": 15,
    "start_time": "2022-04-20T19:18:18.537Z"
   },
   {
    "duration": 14,
    "start_time": "2022-04-20T19:18:18.555Z"
   },
   {
    "duration": 50,
    "start_time": "2022-04-20T19:18:18.576Z"
   },
   {
    "duration": 10,
    "start_time": "2022-04-20T19:18:18.628Z"
   },
   {
    "duration": 64,
    "start_time": "2022-04-20T19:18:18.640Z"
   },
   {
    "duration": 52,
    "start_time": "2022-04-20T19:18:18.724Z"
   },
   {
    "duration": 35,
    "start_time": "2022-04-20T19:18:18.790Z"
   },
   {
    "duration": 34,
    "start_time": "2022-04-20T19:18:18.828Z"
   },
   {
    "duration": 19,
    "start_time": "2022-04-20T19:18:18.865Z"
   },
   {
    "duration": 5,
    "start_time": "2022-04-20T19:18:18.926Z"
   },
   {
    "duration": 43,
    "start_time": "2022-04-20T19:18:18.934Z"
   },
   {
    "duration": 56,
    "start_time": "2022-04-20T19:18:18.979Z"
   },
   {
    "duration": 35,
    "start_time": "2022-04-20T19:18:19.037Z"
   },
   {
    "duration": 51,
    "start_time": "2022-04-20T19:18:19.074Z"
   },
   {
    "duration": 11,
    "start_time": "2022-04-20T19:18:19.128Z"
   },
   {
    "duration": 11,
    "start_time": "2022-04-20T19:18:19.141Z"
   },
   {
    "duration": 21,
    "start_time": "2022-04-20T19:18:19.154Z"
   },
   {
    "duration": 74,
    "start_time": "2022-04-20T19:18:19.177Z"
   },
   {
    "duration": 37,
    "start_time": "2022-04-20T19:18:19.254Z"
   },
   {
    "duration": 47,
    "start_time": "2022-04-20T19:18:19.325Z"
   },
   {
    "duration": 92,
    "start_time": "2022-04-20T19:18:19.374Z"
   },
   {
    "duration": 20,
    "start_time": "2022-04-20T19:18:19.468Z"
   },
   {
    "duration": 42,
    "start_time": "2022-04-20T19:18:19.491Z"
   },
   {
    "duration": 55,
    "start_time": "2022-04-20T19:18:19.535Z"
   },
   {
    "duration": 36,
    "start_time": "2022-04-20T19:18:19.592Z"
   },
   {
    "duration": 251,
    "start_time": "2022-04-20T19:18:19.630Z"
   },
   {
    "duration": 11,
    "start_time": "2022-04-20T19:18:19.884Z"
   },
   {
    "duration": 28,
    "start_time": "2022-04-20T19:18:19.898Z"
   },
   {
    "duration": 6,
    "start_time": "2022-04-20T19:18:19.929Z"
   },
   {
    "duration": 8,
    "start_time": "2022-04-20T19:18:19.938Z"
   },
   {
    "duration": 7,
    "start_time": "2022-04-20T19:18:19.949Z"
   },
   {
    "duration": 9,
    "start_time": "2022-04-20T19:18:19.959Z"
   },
   {
    "duration": 6,
    "start_time": "2022-04-20T19:18:20.026Z"
   },
   {
    "duration": 8,
    "start_time": "2022-04-20T19:18:20.034Z"
   },
   {
    "duration": 9,
    "start_time": "2022-04-20T19:18:20.044Z"
   },
   {
    "duration": 11,
    "start_time": "2022-04-20T19:18:20.055Z"
   },
   {
    "duration": 257,
    "start_time": "2022-04-20T19:18:20.124Z"
   },
   {
    "duration": 10,
    "start_time": "2022-04-20T19:18:20.384Z"
   },
   {
    "duration": 290,
    "start_time": "2022-04-20T19:18:20.397Z"
   },
   {
    "duration": 11,
    "start_time": "2022-04-20T19:18:20.689Z"
   },
   {
    "duration": 275,
    "start_time": "2022-04-20T19:18:20.703Z"
   },
   {
    "duration": 13,
    "start_time": "2022-04-20T19:18:20.981Z"
   },
   {
    "duration": 37,
    "start_time": "2022-04-20T19:18:20.997Z"
   },
   {
    "duration": 11,
    "start_time": "2022-04-20T19:18:21.037Z"
   },
   {
    "duration": 10,
    "start_time": "2022-04-20T19:18:21.050Z"
   },
   {
    "duration": 18,
    "start_time": "2022-04-20T19:18:21.063Z"
   },
   {
    "duration": 43,
    "start_time": "2022-04-20T19:18:21.084Z"
   },
   {
    "duration": 9,
    "start_time": "2022-04-20T19:18:21.130Z"
   },
   {
    "duration": 12,
    "start_time": "2022-04-20T19:18:21.141Z"
   },
   {
    "duration": 11,
    "start_time": "2022-04-20T19:18:21.156Z"
   },
   {
    "duration": 56,
    "start_time": "2022-04-20T19:18:21.171Z"
   },
   {
    "duration": 12,
    "start_time": "2022-04-20T19:18:21.230Z"
   },
   {
    "duration": 259,
    "start_time": "2022-04-20T19:18:21.244Z"
   },
   {
    "duration": 25,
    "start_time": "2022-04-20T19:18:21.506Z"
   },
   {
    "duration": 232,
    "start_time": "2022-04-20T19:18:21.533Z"
   },
   {
    "duration": 13,
    "start_time": "2022-04-20T19:18:21.767Z"
   },
   {
    "duration": 414,
    "start_time": "2022-04-20T19:18:21.791Z"
   },
   {
    "duration": 23,
    "start_time": "2022-04-20T19:18:22.208Z"
   },
   {
    "duration": 17,
    "start_time": "2022-04-20T19:18:22.234Z"
   },
   {
    "duration": 14,
    "start_time": "2022-04-20T19:18:22.254Z"
   },
   {
    "duration": 21,
    "start_time": "2022-04-20T19:18:22.271Z"
   },
   {
    "duration": 39,
    "start_time": "2022-04-20T19:18:22.294Z"
   },
   {
    "duration": 45,
    "start_time": "2022-04-20T19:25:01.078Z"
   },
   {
    "duration": 4,
    "start_time": "2022-04-20T20:35:36.491Z"
   },
   {
    "duration": 894,
    "start_time": "2022-04-20T20:35:36.497Z"
   },
   {
    "duration": 46,
    "start_time": "2022-04-20T20:35:37.393Z"
   },
   {
    "duration": 26,
    "start_time": "2022-04-20T20:35:37.442Z"
   },
   {
    "duration": 86,
    "start_time": "2022-04-20T20:35:37.472Z"
   },
   {
    "duration": 30,
    "start_time": "2022-04-20T20:35:37.561Z"
   },
   {
    "duration": 60,
    "start_time": "2022-04-20T20:35:37.593Z"
   },
   {
    "duration": 42,
    "start_time": "2022-04-20T20:35:37.656Z"
   },
   {
    "duration": 216,
    "start_time": "2022-04-20T20:35:37.700Z"
   },
   {
    "duration": 34,
    "start_time": "2022-04-20T20:35:37.925Z"
   },
   {
    "duration": 716,
    "start_time": "2022-04-20T20:35:37.963Z"
   },
   {
    "duration": 37,
    "start_time": "2022-04-20T20:35:38.681Z"
   },
   {
    "duration": 31,
    "start_time": "2022-04-20T20:35:38.721Z"
   },
   {
    "duration": 26,
    "start_time": "2022-04-20T20:35:38.754Z"
   },
   {
    "duration": 69,
    "start_time": "2022-04-20T20:35:38.782Z"
   },
   {
    "duration": 130,
    "start_time": "2022-04-20T20:35:38.853Z"
   },
   {
    "duration": 52,
    "start_time": "2022-04-20T20:35:38.985Z"
   },
   {
    "duration": 21,
    "start_time": "2022-04-20T20:35:39.040Z"
   },
   {
    "duration": 34,
    "start_time": "2022-04-20T20:35:39.064Z"
   },
   {
    "duration": 25,
    "start_time": "2022-04-20T20:35:39.127Z"
   },
   {
    "duration": 28,
    "start_time": "2022-04-20T20:35:39.155Z"
   },
   {
    "duration": 1718,
    "start_time": "2022-04-20T20:35:39.186Z"
   },
   {
    "duration": 15,
    "start_time": "2022-04-20T20:35:40.907Z"
   },
   {
    "duration": 16,
    "start_time": "2022-04-20T20:35:40.931Z"
   },
   {
    "duration": 81,
    "start_time": "2022-04-20T20:35:40.949Z"
   },
   {
    "duration": 22,
    "start_time": "2022-04-20T20:35:41.034Z"
   },
   {
    "duration": 8,
    "start_time": "2022-04-20T20:35:41.061Z"
   },
   {
    "duration": 15,
    "start_time": "2022-04-20T20:35:41.072Z"
   },
   {
    "duration": 22,
    "start_time": "2022-04-20T20:35:41.127Z"
   },
   {
    "duration": 7,
    "start_time": "2022-04-20T20:35:41.151Z"
   },
   {
    "duration": 96,
    "start_time": "2022-04-20T20:35:41.160Z"
   },
   {
    "duration": 73,
    "start_time": "2022-04-20T20:35:41.259Z"
   },
   {
    "duration": 20,
    "start_time": "2022-04-20T20:35:41.334Z"
   },
   {
    "duration": 36,
    "start_time": "2022-04-20T20:35:41.357Z"
   },
   {
    "duration": 42,
    "start_time": "2022-04-20T20:35:41.395Z"
   },
   {
    "duration": 7,
    "start_time": "2022-04-20T20:35:41.439Z"
   },
   {
    "duration": 77,
    "start_time": "2022-04-20T20:35:41.449Z"
   },
   {
    "duration": 24,
    "start_time": "2022-04-20T20:35:41.529Z"
   },
   {
    "duration": 33,
    "start_time": "2022-04-20T20:35:41.555Z"
   },
   {
    "duration": 50,
    "start_time": "2022-04-20T20:35:41.590Z"
   },
   {
    "duration": 14,
    "start_time": "2022-04-20T20:35:41.642Z"
   },
   {
    "duration": 9,
    "start_time": "2022-04-20T20:35:41.658Z"
   },
   {
    "duration": 73,
    "start_time": "2022-04-20T20:35:41.669Z"
   },
   {
    "duration": 26,
    "start_time": "2022-04-20T20:35:41.744Z"
   },
   {
    "duration": 24,
    "start_time": "2022-04-20T20:35:41.772Z"
   },
   {
    "duration": 68,
    "start_time": "2022-04-20T20:35:41.799Z"
   },
   {
    "duration": 91,
    "start_time": "2022-04-20T20:35:41.870Z"
   },
   {
    "duration": 19,
    "start_time": "2022-04-20T20:35:41.963Z"
   },
   {
    "duration": 45,
    "start_time": "2022-04-20T20:35:41.984Z"
   },
   {
    "duration": 56,
    "start_time": "2022-04-20T20:35:42.032Z"
   },
   {
    "duration": 6,
    "start_time": "2022-04-20T20:35:42.091Z"
   },
   {
    "duration": 272,
    "start_time": "2022-04-20T20:35:42.099Z"
   },
   {
    "duration": 11,
    "start_time": "2022-04-20T20:35:42.373Z"
   },
   {
    "duration": 5,
    "start_time": "2022-04-20T20:35:42.386Z"
   },
   {
    "duration": 8,
    "start_time": "2022-04-20T20:35:42.394Z"
   },
   {
    "duration": 29,
    "start_time": "2022-04-20T20:35:42.404Z"
   },
   {
    "duration": 15,
    "start_time": "2022-04-20T20:35:42.435Z"
   },
   {
    "duration": 8,
    "start_time": "2022-04-20T20:35:42.452Z"
   },
   {
    "duration": 6,
    "start_time": "2022-04-20T20:35:42.463Z"
   },
   {
    "duration": 55,
    "start_time": "2022-04-20T20:35:42.471Z"
   },
   {
    "duration": 12,
    "start_time": "2022-04-20T20:35:42.528Z"
   },
   {
    "duration": 8,
    "start_time": "2022-04-20T20:35:42.543Z"
   },
   {
    "duration": 261,
    "start_time": "2022-04-20T20:35:42.553Z"
   },
   {
    "duration": 25,
    "start_time": "2022-04-20T20:35:42.816Z"
   },
   {
    "duration": 250,
    "start_time": "2022-04-20T20:35:42.843Z"
   },
   {
    "duration": 10,
    "start_time": "2022-04-20T20:35:43.095Z"
   },
   {
    "duration": 274,
    "start_time": "2022-04-20T20:35:43.108Z"
   },
   {
    "duration": 11,
    "start_time": "2022-04-20T20:35:43.384Z"
   },
   {
    "duration": 28,
    "start_time": "2022-04-20T20:35:43.397Z"
   },
   {
    "duration": 19,
    "start_time": "2022-04-20T20:35:43.430Z"
   },
   {
    "duration": 10,
    "start_time": "2022-04-20T20:35:43.452Z"
   },
   {
    "duration": 7,
    "start_time": "2022-04-20T20:35:43.465Z"
   },
   {
    "duration": 10,
    "start_time": "2022-04-20T20:35:43.475Z"
   },
   {
    "duration": 12,
    "start_time": "2022-04-20T20:35:43.528Z"
   },
   {
    "duration": 9,
    "start_time": "2022-04-20T20:35:43.542Z"
   },
   {
    "duration": 6,
    "start_time": "2022-04-20T20:35:43.553Z"
   },
   {
    "duration": 18,
    "start_time": "2022-04-20T20:35:43.561Z"
   },
   {
    "duration": 7,
    "start_time": "2022-04-20T20:35:43.581Z"
   },
   {
    "duration": 298,
    "start_time": "2022-04-20T20:35:43.590Z"
   },
   {
    "duration": 10,
    "start_time": "2022-04-20T20:35:43.890Z"
   },
   {
    "duration": 251,
    "start_time": "2022-04-20T20:35:43.902Z"
   },
   {
    "duration": 10,
    "start_time": "2022-04-20T20:35:44.155Z"
   },
   {
    "duration": 266,
    "start_time": "2022-04-20T20:35:44.173Z"
   },
   {
    "duration": 11,
    "start_time": "2022-04-20T20:35:44.441Z"
   },
   {
    "duration": 13,
    "start_time": "2022-04-20T20:35:44.455Z"
   },
   {
    "duration": 18,
    "start_time": "2022-04-20T20:35:44.471Z"
   },
   {
    "duration": 43,
    "start_time": "2022-04-20T20:35:44.491Z"
   },
   {
    "duration": 21,
    "start_time": "2022-04-20T20:35:44.537Z"
   },
   {
    "duration": 459,
    "start_time": "2022-04-20T22:48:31.185Z"
   },
   {
    "duration": 551,
    "start_time": "2022-04-20T22:48:31.646Z"
   },
   {
    "duration": 24,
    "start_time": "2022-04-20T22:48:32.199Z"
   },
   {
    "duration": 19,
    "start_time": "2022-04-20T22:48:32.225Z"
   },
   {
    "duration": 44,
    "start_time": "2022-04-20T22:48:32.245Z"
   },
   {
    "duration": 17,
    "start_time": "2022-04-20T22:48:32.290Z"
   },
   {
    "duration": 35,
    "start_time": "2022-04-20T22:48:32.308Z"
   },
   {
    "duration": 27,
    "start_time": "2022-04-20T22:48:32.344Z"
   },
   {
    "duration": 134,
    "start_time": "2022-04-20T22:48:32.373Z"
   },
   {
    "duration": 23,
    "start_time": "2022-04-20T22:48:32.510Z"
   },
   {
    "duration": 14,
    "start_time": "2022-04-20T22:48:32.535Z"
   },
   {
    "duration": 26,
    "start_time": "2022-04-20T22:48:32.551Z"
   },
   {
    "duration": 14,
    "start_time": "2022-04-20T22:48:32.579Z"
   },
   {
    "duration": 35,
    "start_time": "2022-04-20T22:48:32.594Z"
   },
   {
    "duration": 21,
    "start_time": "2022-04-20T22:48:32.631Z"
   },
   {
    "duration": 90,
    "start_time": "2022-04-20T22:48:32.654Z"
   },
   {
    "duration": 17,
    "start_time": "2022-04-20T22:48:32.745Z"
   },
   {
    "duration": 12,
    "start_time": "2022-04-20T22:48:32.764Z"
   },
   {
    "duration": 19,
    "start_time": "2022-04-20T22:48:32.777Z"
   },
   {
    "duration": 34,
    "start_time": "2022-04-20T22:48:32.797Z"
   },
   {
    "duration": 18,
    "start_time": "2022-04-20T22:48:32.832Z"
   },
   {
    "duration": 19,
    "start_time": "2022-04-20T22:48:32.852Z"
   },
   {
    "duration": 9,
    "start_time": "2022-04-20T22:48:32.872Z"
   },
   {
    "duration": 6,
    "start_time": "2022-04-20T22:48:32.882Z"
   },
   {
    "duration": 47,
    "start_time": "2022-04-20T22:48:32.889Z"
   },
   {
    "duration": 10,
    "start_time": "2022-04-20T22:48:32.937Z"
   },
   {
    "duration": 8,
    "start_time": "2022-04-20T22:48:32.948Z"
   },
   {
    "duration": 5,
    "start_time": "2022-04-20T22:48:32.960Z"
   },
   {
    "duration": 16,
    "start_time": "2022-04-20T22:48:32.966Z"
   },
   {
    "duration": 4,
    "start_time": "2022-04-20T22:48:32.983Z"
   },
   {
    "duration": 62,
    "start_time": "2022-04-20T22:48:32.988Z"
   },
   {
    "duration": 33,
    "start_time": "2022-04-20T22:48:33.051Z"
   },
   {
    "duration": 9,
    "start_time": "2022-04-20T22:48:33.085Z"
   },
   {
    "duration": 39,
    "start_time": "2022-04-20T22:48:33.095Z"
   },
   {
    "duration": 9,
    "start_time": "2022-04-20T22:48:33.136Z"
   },
   {
    "duration": 4,
    "start_time": "2022-04-20T22:48:33.146Z"
   },
   {
    "duration": 26,
    "start_time": "2022-04-20T22:48:33.152Z"
   },
   {
    "duration": 13,
    "start_time": "2022-04-20T22:48:33.180Z"
   },
   {
    "duration": 43,
    "start_time": "2022-04-20T22:48:33.195Z"
   },
   {
    "duration": 9,
    "start_time": "2022-04-20T22:48:33.239Z"
   },
   {
    "duration": 7,
    "start_time": "2022-04-20T22:48:33.250Z"
   },
   {
    "duration": 6,
    "start_time": "2022-04-20T22:48:33.258Z"
   },
   {
    "duration": 14,
    "start_time": "2022-04-20T22:48:33.266Z"
   },
   {
    "duration": 42,
    "start_time": "2022-04-20T22:48:33.281Z"
   },
   {
    "duration": 14,
    "start_time": "2022-04-20T22:48:33.325Z"
   },
   {
    "duration": 21,
    "start_time": "2022-04-20T22:48:33.341Z"
   },
   {
    "duration": 33,
    "start_time": "2022-04-20T22:48:33.364Z"
   },
   {
    "duration": 13,
    "start_time": "2022-04-20T22:48:33.422Z"
   },
   {
    "duration": 7,
    "start_time": "2022-04-20T22:48:33.436Z"
   },
   {
    "duration": 28,
    "start_time": "2022-04-20T22:48:33.444Z"
   },
   {
    "duration": 5,
    "start_time": "2022-04-20T22:48:33.473Z"
   },
   {
    "duration": 150,
    "start_time": "2022-04-20T22:48:33.479Z"
   },
   {
    "duration": 6,
    "start_time": "2022-04-20T22:48:33.631Z"
   },
   {
    "duration": 5,
    "start_time": "2022-04-20T22:48:33.639Z"
   },
   {
    "duration": 11,
    "start_time": "2022-04-20T22:48:33.646Z"
   },
   {
    "duration": 5,
    "start_time": "2022-04-20T22:48:33.658Z"
   },
   {
    "duration": 4,
    "start_time": "2022-04-20T22:48:33.664Z"
   },
   {
    "duration": 4,
    "start_time": "2022-04-20T22:48:33.670Z"
   },
   {
    "duration": 10,
    "start_time": "2022-04-20T22:48:33.676Z"
   },
   {
    "duration": 9,
    "start_time": "2022-04-20T22:48:33.687Z"
   },
   {
    "duration": 4,
    "start_time": "2022-04-20T22:48:33.722Z"
   },
   {
    "duration": 6,
    "start_time": "2022-04-20T22:48:33.727Z"
   },
   {
    "duration": 402,
    "start_time": "2022-04-20T22:48:33.735Z"
   },
   {
    "duration": 8,
    "start_time": "2022-04-20T22:48:34.139Z"
   },
   {
    "duration": 136,
    "start_time": "2022-04-20T22:48:34.148Z"
   },
   {
    "duration": 7,
    "start_time": "2022-04-20T22:48:34.286Z"
   },
   {
    "duration": 132,
    "start_time": "2022-04-20T22:48:34.294Z"
   },
   {
    "duration": 7,
    "start_time": "2022-04-20T22:48:34.427Z"
   },
   {
    "duration": 7,
    "start_time": "2022-04-20T22:48:34.436Z"
   },
   {
    "duration": 4,
    "start_time": "2022-04-20T22:48:34.445Z"
   },
   {
    "duration": 6,
    "start_time": "2022-04-20T22:48:34.450Z"
   },
   {
    "duration": 4,
    "start_time": "2022-04-20T22:48:34.458Z"
   },
   {
    "duration": 4,
    "start_time": "2022-04-20T22:48:34.463Z"
   },
   {
    "duration": 8,
    "start_time": "2022-04-20T22:48:34.469Z"
   },
   {
    "duration": 9,
    "start_time": "2022-04-20T22:48:34.479Z"
   },
   {
    "duration": 34,
    "start_time": "2022-04-20T22:48:34.489Z"
   },
   {
    "duration": 4,
    "start_time": "2022-04-20T22:48:34.524Z"
   },
   {
    "duration": 6,
    "start_time": "2022-04-20T22:48:34.529Z"
   },
   {
    "duration": 151,
    "start_time": "2022-04-20T22:48:34.536Z"
   },
   {
    "duration": 7,
    "start_time": "2022-04-20T22:48:34.689Z"
   },
   {
    "duration": 132,
    "start_time": "2022-04-20T22:48:34.697Z"
   },
   {
    "duration": 6,
    "start_time": "2022-04-20T22:48:34.834Z"
   },
   {
    "duration": 129,
    "start_time": "2022-04-20T22:48:34.842Z"
   },
   {
    "duration": 6,
    "start_time": "2022-04-20T22:48:34.973Z"
   },
   {
    "duration": 5,
    "start_time": "2022-04-20T22:48:34.981Z"
   },
   {
    "duration": 5,
    "start_time": "2022-04-20T22:48:34.987Z"
   },
   {
    "duration": 6,
    "start_time": "2022-04-20T22:48:34.993Z"
   },
   {
    "duration": 26,
    "start_time": "2022-04-20T22:48:35.001Z"
   },
   {
    "duration": 418,
    "start_time": "2022-06-23T19:59:48.156Z"
   },
   {
    "duration": 637,
    "start_time": "2022-06-23T19:59:48.576Z"
   },
   {
    "duration": 20,
    "start_time": "2022-06-23T19:59:49.215Z"
   },
   {
    "duration": 20,
    "start_time": "2022-06-23T19:59:49.237Z"
   },
   {
    "duration": 39,
    "start_time": "2022-06-23T19:59:49.259Z"
   },
   {
    "duration": 18,
    "start_time": "2022-06-23T19:59:49.299Z"
   },
   {
    "duration": 41,
    "start_time": "2022-06-23T19:59:49.319Z"
   },
   {
    "duration": 26,
    "start_time": "2022-06-23T19:59:49.361Z"
   },
   {
    "duration": 326,
    "start_time": "2022-06-23T19:59:49.389Z"
   },
   {
    "duration": 19,
    "start_time": "2022-06-23T19:59:49.718Z"
   },
   {
    "duration": 14,
    "start_time": "2022-06-23T19:59:49.739Z"
   },
   {
    "duration": 24,
    "start_time": "2022-06-23T19:59:49.755Z"
   },
   {
    "duration": 14,
    "start_time": "2022-06-23T19:59:49.782Z"
   },
   {
    "duration": 17,
    "start_time": "2022-06-23T19:59:49.798Z"
   },
   {
    "duration": 56,
    "start_time": "2022-06-23T19:59:49.818Z"
   },
   {
    "duration": 378,
    "start_time": "2022-06-23T19:59:49.876Z"
   },
   {
    "duration": 18,
    "start_time": "2022-06-23T19:59:50.256Z"
   },
   {
    "duration": 13,
    "start_time": "2022-06-23T19:59:50.276Z"
   },
   {
    "duration": 22,
    "start_time": "2022-06-23T19:59:50.291Z"
   },
   {
    "duration": 14,
    "start_time": "2022-06-23T19:59:50.315Z"
   },
   {
    "duration": 19,
    "start_time": "2022-06-23T19:59:50.352Z"
   },
   {
    "duration": 75,
    "start_time": "2022-06-23T19:59:50.373Z"
   },
   {
    "duration": 10,
    "start_time": "2022-06-23T19:59:50.450Z"
   },
   {
    "duration": 13,
    "start_time": "2022-06-23T19:59:50.462Z"
   },
   {
    "duration": 78,
    "start_time": "2022-06-23T19:59:50.477Z"
   },
   {
    "duration": 11,
    "start_time": "2022-06-23T19:59:50.556Z"
   },
   {
    "duration": 12,
    "start_time": "2022-06-23T19:59:50.569Z"
   },
   {
    "duration": 19,
    "start_time": "2022-06-23T19:59:50.585Z"
   },
   {
    "duration": 15,
    "start_time": "2022-06-23T19:59:50.606Z"
   },
   {
    "duration": 9,
    "start_time": "2022-06-23T19:59:50.623Z"
   },
   {
    "duration": 63,
    "start_time": "2022-06-23T19:59:50.634Z"
   },
   {
    "duration": 38,
    "start_time": "2022-06-23T19:59:50.698Z"
   },
   {
    "duration": 23,
    "start_time": "2022-06-23T19:59:50.737Z"
   },
   {
    "duration": 27,
    "start_time": "2022-06-23T19:59:50.762Z"
   },
   {
    "duration": 10,
    "start_time": "2022-06-23T19:59:50.790Z"
   },
   {
    "duration": 7,
    "start_time": "2022-06-23T19:59:50.801Z"
   },
   {
    "duration": 34,
    "start_time": "2022-06-23T19:59:50.809Z"
   },
   {
    "duration": 14,
    "start_time": "2022-06-23T19:59:50.852Z"
   },
   {
    "duration": 29,
    "start_time": "2022-06-23T19:59:50.868Z"
   },
   {
    "duration": 12,
    "start_time": "2022-06-23T19:59:50.899Z"
   },
   {
    "duration": 29,
    "start_time": "2022-06-23T19:59:50.913Z"
   },
   {
    "duration": 28,
    "start_time": "2022-06-23T19:59:50.944Z"
   },
   {
    "duration": 28,
    "start_time": "2022-06-23T19:59:50.974Z"
   },
   {
    "duration": 19,
    "start_time": "2022-06-23T19:59:51.003Z"
   },
   {
    "duration": 28,
    "start_time": "2022-06-23T19:59:51.023Z"
   },
   {
    "duration": 25,
    "start_time": "2022-06-23T19:59:51.053Z"
   },
   {
    "duration": 44,
    "start_time": "2022-06-23T19:59:51.080Z"
   },
   {
    "duration": 37,
    "start_time": "2022-06-23T19:59:51.126Z"
   },
   {
    "duration": 8,
    "start_time": "2022-06-23T19:59:51.165Z"
   },
   {
    "duration": 47,
    "start_time": "2022-06-23T19:59:51.174Z"
   },
   {
    "duration": 5,
    "start_time": "2022-06-23T19:59:51.222Z"
   },
   {
    "duration": 170,
    "start_time": "2022-06-23T19:59:51.229Z"
   },
   {
    "duration": 7,
    "start_time": "2022-06-23T19:59:51.401Z"
   },
   {
    "duration": 7,
    "start_time": "2022-06-23T19:59:51.410Z"
   },
   {
    "duration": 12,
    "start_time": "2022-06-23T19:59:51.419Z"
   },
   {
    "duration": 21,
    "start_time": "2022-06-23T19:59:51.433Z"
   },
   {
    "duration": 18,
    "start_time": "2022-06-23T19:59:51.456Z"
   },
   {
    "duration": 25,
    "start_time": "2022-06-23T19:59:51.476Z"
   },
   {
    "duration": 9,
    "start_time": "2022-06-23T19:59:51.503Z"
   },
   {
    "duration": 29,
    "start_time": "2022-06-23T19:59:51.513Z"
   },
   {
    "duration": 27,
    "start_time": "2022-06-23T19:59:51.544Z"
   },
   {
    "duration": 25,
    "start_time": "2022-06-23T19:59:51.573Z"
   },
   {
    "duration": 434,
    "start_time": "2022-06-23T19:59:51.600Z"
   },
   {
    "duration": 8,
    "start_time": "2022-06-23T19:59:52.036Z"
   },
   {
    "duration": 181,
    "start_time": "2022-06-23T19:59:52.046Z"
   },
   {
    "duration": 9,
    "start_time": "2022-06-23T19:59:52.229Z"
   },
   {
    "duration": 167,
    "start_time": "2022-06-23T19:59:52.252Z"
   },
   {
    "duration": 7,
    "start_time": "2022-06-23T19:59:52.421Z"
   },
   {
    "duration": 7,
    "start_time": "2022-06-23T19:59:52.430Z"
   },
   {
    "duration": 15,
    "start_time": "2022-06-23T19:59:52.439Z"
   },
   {
    "duration": 12,
    "start_time": "2022-06-23T19:59:52.455Z"
   },
   {
    "duration": 18,
    "start_time": "2022-06-23T19:59:52.469Z"
   },
   {
    "duration": 22,
    "start_time": "2022-06-23T19:59:52.489Z"
   },
   {
    "duration": 33,
    "start_time": "2022-06-23T19:59:52.513Z"
   },
   {
    "duration": 71,
    "start_time": "2022-06-23T19:59:52.548Z"
   },
   {
    "duration": 21,
    "start_time": "2022-06-23T19:59:52.621Z"
   },
   {
    "duration": 20,
    "start_time": "2022-06-23T19:59:52.644Z"
   },
   {
    "duration": 15,
    "start_time": "2022-06-23T19:59:52.666Z"
   },
   {
    "duration": 209,
    "start_time": "2022-06-23T19:59:52.684Z"
   },
   {
    "duration": 7,
    "start_time": "2022-06-23T19:59:52.894Z"
   },
   {
    "duration": 186,
    "start_time": "2022-06-23T19:59:52.902Z"
   },
   {
    "duration": 7,
    "start_time": "2022-06-23T19:59:53.093Z"
   },
   {
    "duration": 168,
    "start_time": "2022-06-23T19:59:53.102Z"
   },
   {
    "duration": 7,
    "start_time": "2022-06-23T19:59:53.272Z"
   },
   {
    "duration": 39,
    "start_time": "2022-06-23T19:59:53.281Z"
   },
   {
    "duration": 20,
    "start_time": "2022-06-23T19:59:53.321Z"
   },
   {
    "duration": 14,
    "start_time": "2022-06-23T19:59:53.343Z"
   },
   {
    "duration": 12,
    "start_time": "2022-06-23T19:59:53.359Z"
   },
   {
    "duration": 13,
    "start_time": "2022-06-23T19:59:53.372Z"
   },
   {
    "duration": 477,
    "start_time": "2022-06-28T11:32:10.131Z"
   },
   {
    "duration": 684,
    "start_time": "2022-06-28T11:32:10.610Z"
   },
   {
    "duration": 26,
    "start_time": "2022-06-28T11:32:11.296Z"
   },
   {
    "duration": 18,
    "start_time": "2022-06-28T11:32:11.324Z"
   },
   {
    "duration": 56,
    "start_time": "2022-06-28T11:32:11.343Z"
   },
   {
    "duration": 18,
    "start_time": "2022-06-28T11:32:11.401Z"
   },
   {
    "duration": 47,
    "start_time": "2022-06-28T11:32:11.421Z"
   },
   {
    "duration": 31,
    "start_time": "2022-06-28T11:32:11.470Z"
   },
   {
    "duration": 331,
    "start_time": "2022-06-28T11:32:11.503Z"
   },
   {
    "duration": 22,
    "start_time": "2022-06-28T11:32:11.837Z"
   },
   {
    "duration": 15,
    "start_time": "2022-06-28T11:32:11.861Z"
   },
   {
    "duration": 24,
    "start_time": "2022-06-28T11:32:11.877Z"
   },
   {
    "duration": 16,
    "start_time": "2022-06-28T11:32:11.902Z"
   },
   {
    "duration": 17,
    "start_time": "2022-06-28T11:32:11.920Z"
   },
   {
    "duration": 56,
    "start_time": "2022-06-28T11:32:11.938Z"
   },
   {
    "duration": 133,
    "start_time": "2022-06-28T11:32:11.995Z"
   },
   {
    "duration": 19,
    "start_time": "2022-06-28T11:32:12.131Z"
   },
   {
    "duration": 25,
    "start_time": "2022-06-28T11:32:12.152Z"
   },
   {
    "duration": 29,
    "start_time": "2022-06-28T11:32:12.179Z"
   },
   {
    "duration": 17,
    "start_time": "2022-06-28T11:32:12.210Z"
   },
   {
    "duration": 20,
    "start_time": "2022-06-28T11:32:12.229Z"
   },
   {
    "duration": 43,
    "start_time": "2022-06-28T11:32:12.267Z"
   },
   {
    "duration": 11,
    "start_time": "2022-06-28T11:32:12.313Z"
   },
   {
    "duration": 7,
    "start_time": "2022-06-28T11:32:12.326Z"
   },
   {
    "duration": 53,
    "start_time": "2022-06-28T11:32:12.335Z"
   },
   {
    "duration": 11,
    "start_time": "2022-06-28T11:32:12.390Z"
   },
   {
    "duration": 6,
    "start_time": "2022-06-28T11:32:12.404Z"
   },
   {
    "duration": 13,
    "start_time": "2022-06-28T11:32:12.414Z"
   },
   {
    "duration": 15,
    "start_time": "2022-06-28T11:32:12.429Z"
   },
   {
    "duration": 6,
    "start_time": "2022-06-28T11:32:12.446Z"
   },
   {
    "duration": 52,
    "start_time": "2022-06-28T11:32:12.466Z"
   },
   {
    "duration": 49,
    "start_time": "2022-06-28T11:32:12.520Z"
   },
   {
    "duration": 10,
    "start_time": "2022-06-28T11:32:12.571Z"
   },
   {
    "duration": 28,
    "start_time": "2022-06-28T11:32:12.583Z"
   },
   {
    "duration": 15,
    "start_time": "2022-06-28T11:32:12.612Z"
   },
   {
    "duration": 7,
    "start_time": "2022-06-28T11:32:12.629Z"
   },
   {
    "duration": 51,
    "start_time": "2022-06-28T11:32:12.638Z"
   },
   {
    "duration": 17,
    "start_time": "2022-06-28T11:32:12.691Z"
   },
   {
    "duration": 57,
    "start_time": "2022-06-28T11:32:12.710Z"
   },
   {
    "duration": 13,
    "start_time": "2022-06-28T11:32:12.769Z"
   },
   {
    "duration": 20,
    "start_time": "2022-06-28T11:32:12.784Z"
   },
   {
    "duration": 10,
    "start_time": "2022-06-28T11:32:12.806Z"
   },
   {
    "duration": 21,
    "start_time": "2022-06-28T11:32:12.818Z"
   },
   {
    "duration": 35,
    "start_time": "2022-06-28T11:32:12.841Z"
   },
   {
    "duration": 15,
    "start_time": "2022-06-28T11:32:12.879Z"
   },
   {
    "duration": 26,
    "start_time": "2022-06-28T11:32:12.896Z"
   },
   {
    "duration": 64,
    "start_time": "2022-06-28T11:32:12.924Z"
   },
   {
    "duration": 14,
    "start_time": "2022-06-28T11:32:12.990Z"
   },
   {
    "duration": 8,
    "start_time": "2022-06-28T11:32:13.006Z"
   },
   {
    "duration": 62,
    "start_time": "2022-06-28T11:32:13.016Z"
   },
   {
    "duration": 6,
    "start_time": "2022-06-28T11:32:13.080Z"
   },
   {
    "duration": 173,
    "start_time": "2022-06-28T11:32:13.088Z"
   },
   {
    "duration": 9,
    "start_time": "2022-06-28T11:32:13.263Z"
   },
   {
    "duration": 9,
    "start_time": "2022-06-28T11:32:13.274Z"
   },
   {
    "duration": 9,
    "start_time": "2022-06-28T11:32:13.285Z"
   },
   {
    "duration": 8,
    "start_time": "2022-06-28T11:32:13.296Z"
   },
   {
    "duration": 9,
    "start_time": "2022-06-28T11:32:13.306Z"
   },
   {
    "duration": 7,
    "start_time": "2022-06-28T11:32:13.317Z"
   },
   {
    "duration": 9,
    "start_time": "2022-06-28T11:32:13.327Z"
   },
   {
    "duration": 30,
    "start_time": "2022-06-28T11:32:13.338Z"
   },
   {
    "duration": 17,
    "start_time": "2022-06-28T11:32:13.370Z"
   },
   {
    "duration": 6,
    "start_time": "2022-06-28T11:32:13.389Z"
   },
   {
    "duration": 433,
    "start_time": "2022-06-28T11:32:13.397Z"
   },
   {
    "duration": 9,
    "start_time": "2022-06-28T11:32:13.833Z"
   },
   {
    "duration": 181,
    "start_time": "2022-06-28T11:32:13.844Z"
   },
   {
    "duration": 7,
    "start_time": "2022-06-28T11:32:14.027Z"
   },
   {
    "duration": 189,
    "start_time": "2022-06-28T11:32:14.036Z"
   },
   {
    "duration": 9,
    "start_time": "2022-06-28T11:32:14.228Z"
   },
   {
    "duration": 14,
    "start_time": "2022-06-28T11:32:14.239Z"
   },
   {
    "duration": 20,
    "start_time": "2022-06-28T11:32:14.258Z"
   },
   {
    "duration": 10,
    "start_time": "2022-06-28T11:32:14.280Z"
   },
   {
    "duration": 11,
    "start_time": "2022-06-28T11:32:14.291Z"
   },
   {
    "duration": 6,
    "start_time": "2022-06-28T11:32:14.304Z"
   },
   {
    "duration": 17,
    "start_time": "2022-06-28T11:32:14.312Z"
   },
   {
    "duration": 6,
    "start_time": "2022-06-28T11:32:14.331Z"
   },
   {
    "duration": 14,
    "start_time": "2022-06-28T11:32:14.339Z"
   },
   {
    "duration": 12,
    "start_time": "2022-06-28T11:32:14.355Z"
   },
   {
    "duration": 7,
    "start_time": "2022-06-28T11:32:14.369Z"
   },
   {
    "duration": 180,
    "start_time": "2022-06-28T11:32:14.378Z"
   },
   {
    "duration": 14,
    "start_time": "2022-06-28T11:32:14.559Z"
   },
   {
    "duration": 176,
    "start_time": "2022-06-28T11:32:14.574Z"
   },
   {
    "duration": 14,
    "start_time": "2022-06-28T11:32:14.755Z"
   },
   {
    "duration": 174,
    "start_time": "2022-06-28T11:32:14.771Z"
   },
   {
    "duration": 7,
    "start_time": "2022-06-28T11:32:14.947Z"
   },
   {
    "duration": 13,
    "start_time": "2022-06-28T11:32:14.956Z"
   },
   {
    "duration": 12,
    "start_time": "2022-06-28T11:32:14.971Z"
   },
   {
    "duration": 14,
    "start_time": "2022-06-28T11:32:14.985Z"
   },
   {
    "duration": 7,
    "start_time": "2022-06-28T11:32:15.001Z"
   },
   {
    "duration": 17,
    "start_time": "2022-06-28T11:32:15.010Z"
   }
  ],
  "kernelspec": {
   "display_name": "Python 3",
   "language": "python",
   "name": "python3"
  },
  "language_info": {
   "codemirror_mode": {
    "name": "ipython",
    "version": 3
   },
   "file_extension": ".py",
   "mimetype": "text/x-python",
   "name": "python",
   "nbconvert_exporter": "python",
   "pygments_lexer": "ipython3",
   "version": "3.7.1"
  },
  "toc": {
   "base_numbering": 1,
   "nav_menu": {},
   "number_sections": true,
   "sideBar": true,
   "skip_h1_title": true,
   "title_cell": "Содержание",
   "title_sidebar": "Contents",
   "toc_cell": true,
   "toc_position": {
    "height": "calc(100% - 180px)",
    "left": "10px",
    "top": "150px",
    "width": "315.014px"
   },
   "toc_section_display": true,
   "toc_window_display": true
  }
 },
 "nbformat": 4,
 "nbformat_minor": 2
}
