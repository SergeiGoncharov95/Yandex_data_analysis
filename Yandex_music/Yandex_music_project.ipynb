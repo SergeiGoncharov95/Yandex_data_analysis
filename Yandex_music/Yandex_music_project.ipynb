{
 "cells": [
  {
   "cell_type": "markdown",
   "metadata": {
    "id": "E0vqbgi9ay0H"
   },
   "source": [
    "# Яндекс.Музыка"
   ]
  },
  {
   "cell_type": "markdown",
   "metadata": {
    "id": "VUC88oWjTJw2"
   },
   "source": [
    "Сравнение Москвы и Петербурга окружено мифами. Например:\n",
    " * Москва — мегаполис, подчинённый жёсткому ритму рабочей недели;\n",
    " * Петербург — культурная столица, со своими вкусами.\n",
    "\n",
    "На данных Яндекс.Музыки вы сравните поведение пользователей двух столиц.\n",
    "\n",
    "**Цель исследования** — проверьте три гипотезы:\n",
    "1. Активность пользователей зависит от дня недели. Причём в Москве и Петербурге это проявляется по-разному.\n",
    "2. В понедельник утром в Москве преобладают одни жанры, а в Петербурге — другие. Так же и вечером пятницы преобладают разные жанры — в зависимости от города. \n",
    "3. Москва и Петербург предпочитают разные жанры музыки. В Москве чаще слушают поп-музыку, в Петербурге — русский рэп.\n",
    "\n",
    "**Ход исследования**\n",
    "\n",
    "Данные о поведении пользователей вы получите из файла `yandex_music_project.csv`. О качестве данных ничего не известно. Поэтому перед проверкой гипотез понадобится обзор данных. \n",
    "\n",
    "Вы проверите данные на ошибки и оцените их влияние на исследование. Затем, на этапе предобработки вы поищете возможность исправить самые критичные ошибки данных.\n",
    " \n",
    "Таким образом, исследование пройдёт в три этапа:\n",
    " 1. Обзор данных.\n",
    " 2. Предобработка данных.\n",
    " 3. Проверка гипотез.\n",
    "\n"
   ]
  },
  {
   "cell_type": "markdown",
   "metadata": {
    "id": "Ml1hmfXC_Zcs"
   },
   "source": [
    "## Обзор данных\n",
    "\n",
    "Составьте первое представление о данных Яндекс.Музыки.\n",
    "\n",
    "\n"
   ]
  },
  {
   "cell_type": "markdown",
   "metadata": {
    "id": "57eAOGIz_Zcs"
   },
   "source": [
    "Основной инструмент аналитика — `pandas`. Импортируйте эту библиотеку."
   ]
  },
  {
   "cell_type": "code",
   "execution_count": 2,
   "metadata": {
    "id": "AXN7PHPN_Zcs"
   },
   "outputs": [],
   "source": [
    "import pandas as pd # импорт библиотеки pandas"
   ]
  },
  {
   "cell_type": "markdown",
   "metadata": {
    "id": "SG23P8tt_Zcs"
   },
   "source": [
    "Прочитайте файл `yandex_music_project.csv` из папки `/datasets` и сохраните его в переменной `df`:"
   ]
  },
  {
   "cell_type": "code",
   "execution_count": 3,
   "metadata": {
    "id": "fFVu7vqh_Zct"
   },
   "outputs": [],
   "source": [
    "df = pd.read_csv('/datasets/yandex_music_project.csv') # чтение файла с данными и сохранение в df"
   ]
  },
  {
   "cell_type": "markdown",
   "metadata": {
    "id": "rDoOMd3uTqnZ"
   },
   "source": [
    "Выведите на экран первые десять строк таблицы:"
   ]
  },
  {
   "cell_type": "code",
   "execution_count": 4,
   "metadata": {
    "id": "oWTVX3gW_Zct"
   },
   "outputs": [
    {
     "data": {
      "text/html": [
       "<div>\n",
       "<style scoped>\n",
       "    .dataframe tbody tr th:only-of-type {\n",
       "        vertical-align: middle;\n",
       "    }\n",
       "\n",
       "    .dataframe tbody tr th {\n",
       "        vertical-align: top;\n",
       "    }\n",
       "\n",
       "    .dataframe thead th {\n",
       "        text-align: right;\n",
       "    }\n",
       "</style>\n",
       "<table border=\"1\" class=\"dataframe\">\n",
       "  <thead>\n",
       "    <tr style=\"text-align: right;\">\n",
       "      <th></th>\n",
       "      <th>userID</th>\n",
       "      <th>Track</th>\n",
       "      <th>artist</th>\n",
       "      <th>genre</th>\n",
       "      <th>City</th>\n",
       "      <th>time</th>\n",
       "      <th>Day</th>\n",
       "    </tr>\n",
       "  </thead>\n",
       "  <tbody>\n",
       "    <tr>\n",
       "      <td>0</td>\n",
       "      <td>FFB692EC</td>\n",
       "      <td>Kamigata To Boots</td>\n",
       "      <td>The Mass Missile</td>\n",
       "      <td>rock</td>\n",
       "      <td>Saint-Petersburg</td>\n",
       "      <td>20:28:33</td>\n",
       "      <td>Wednesday</td>\n",
       "    </tr>\n",
       "    <tr>\n",
       "      <td>1</td>\n",
       "      <td>55204538</td>\n",
       "      <td>Delayed Because of Accident</td>\n",
       "      <td>Andreas Rönnberg</td>\n",
       "      <td>rock</td>\n",
       "      <td>Moscow</td>\n",
       "      <td>14:07:09</td>\n",
       "      <td>Friday</td>\n",
       "    </tr>\n",
       "    <tr>\n",
       "      <td>2</td>\n",
       "      <td>20EC38</td>\n",
       "      <td>Funiculì funiculà</td>\n",
       "      <td>Mario Lanza</td>\n",
       "      <td>pop</td>\n",
       "      <td>Saint-Petersburg</td>\n",
       "      <td>20:58:07</td>\n",
       "      <td>Wednesday</td>\n",
       "    </tr>\n",
       "    <tr>\n",
       "      <td>3</td>\n",
       "      <td>A3DD03C9</td>\n",
       "      <td>Dragons in the Sunset</td>\n",
       "      <td>Fire + Ice</td>\n",
       "      <td>folk</td>\n",
       "      <td>Saint-Petersburg</td>\n",
       "      <td>08:37:09</td>\n",
       "      <td>Monday</td>\n",
       "    </tr>\n",
       "    <tr>\n",
       "      <td>4</td>\n",
       "      <td>E2DC1FAE</td>\n",
       "      <td>Soul People</td>\n",
       "      <td>Space Echo</td>\n",
       "      <td>dance</td>\n",
       "      <td>Moscow</td>\n",
       "      <td>08:34:34</td>\n",
       "      <td>Monday</td>\n",
       "    </tr>\n",
       "    <tr>\n",
       "      <td>5</td>\n",
       "      <td>842029A1</td>\n",
       "      <td>Преданная</td>\n",
       "      <td>IMPERVTOR</td>\n",
       "      <td>rusrap</td>\n",
       "      <td>Saint-Petersburg</td>\n",
       "      <td>13:09:41</td>\n",
       "      <td>Friday</td>\n",
       "    </tr>\n",
       "    <tr>\n",
       "      <td>6</td>\n",
       "      <td>4CB90AA5</td>\n",
       "      <td>True</td>\n",
       "      <td>Roman Messer</td>\n",
       "      <td>dance</td>\n",
       "      <td>Moscow</td>\n",
       "      <td>13:00:07</td>\n",
       "      <td>Wednesday</td>\n",
       "    </tr>\n",
       "    <tr>\n",
       "      <td>7</td>\n",
       "      <td>F03E1C1F</td>\n",
       "      <td>Feeling This Way</td>\n",
       "      <td>Polina Griffith</td>\n",
       "      <td>dance</td>\n",
       "      <td>Moscow</td>\n",
       "      <td>20:47:49</td>\n",
       "      <td>Wednesday</td>\n",
       "    </tr>\n",
       "    <tr>\n",
       "      <td>8</td>\n",
       "      <td>8FA1D3BE</td>\n",
       "      <td>И вновь продолжается бой</td>\n",
       "      <td>NaN</td>\n",
       "      <td>ruspop</td>\n",
       "      <td>Moscow</td>\n",
       "      <td>09:17:40</td>\n",
       "      <td>Friday</td>\n",
       "    </tr>\n",
       "    <tr>\n",
       "      <td>9</td>\n",
       "      <td>E772D5C0</td>\n",
       "      <td>Pessimist</td>\n",
       "      <td>NaN</td>\n",
       "      <td>dance</td>\n",
       "      <td>Saint-Petersburg</td>\n",
       "      <td>21:20:49</td>\n",
       "      <td>Wednesday</td>\n",
       "    </tr>\n",
       "  </tbody>\n",
       "</table>\n",
       "</div>"
      ],
      "text/plain": [
       "     userID                        Track            artist   genre  \\\n",
       "0  FFB692EC            Kamigata To Boots  The Mass Missile    rock   \n",
       "1  55204538  Delayed Because of Accident  Andreas Rönnberg    rock   \n",
       "2    20EC38            Funiculì funiculà       Mario Lanza     pop   \n",
       "3  A3DD03C9        Dragons in the Sunset        Fire + Ice    folk   \n",
       "4  E2DC1FAE                  Soul People        Space Echo   dance   \n",
       "5  842029A1                    Преданная         IMPERVTOR  rusrap   \n",
       "6  4CB90AA5                         True      Roman Messer   dance   \n",
       "7  F03E1C1F             Feeling This Way   Polina Griffith   dance   \n",
       "8  8FA1D3BE     И вновь продолжается бой               NaN  ruspop   \n",
       "9  E772D5C0                    Pessimist               NaN   dance   \n",
       "\n",
       "             City        time        Day  \n",
       "0  Saint-Petersburg  20:28:33  Wednesday  \n",
       "1            Moscow  14:07:09     Friday  \n",
       "2  Saint-Petersburg  20:58:07  Wednesday  \n",
       "3  Saint-Petersburg  08:37:09     Monday  \n",
       "4            Moscow  08:34:34     Monday  \n",
       "5  Saint-Petersburg  13:09:41     Friday  \n",
       "6            Moscow  13:00:07  Wednesday  \n",
       "7            Moscow  20:47:49  Wednesday  \n",
       "8            Moscow  09:17:40     Friday  \n",
       "9  Saint-Petersburg  21:20:49  Wednesday  "
      ]
     },
     "execution_count": 4,
     "metadata": {},
     "output_type": "execute_result"
    }
   ],
   "source": [
    "df.head(10)# получение первых 10 строк таблицы df"
   ]
  },
  {
   "cell_type": "markdown",
   "metadata": {
    "id": "EO73Kwic_Zct"
   },
   "source": [
    "Одной командой получить общую информацию о таблице:"
   ]
  },
  {
   "cell_type": "code",
   "execution_count": 5,
   "metadata": {
    "id": "DSf2kIb-_Zct"
   },
   "outputs": [
    {
     "name": "stdout",
     "output_type": "stream",
     "text": [
      "<class 'pandas.core.frame.DataFrame'>\n",
      "RangeIndex: 65079 entries, 0 to 65078\n",
      "Data columns (total 7 columns):\n",
      "  userID    65079 non-null object\n",
      "Track       63848 non-null object\n",
      "artist      57876 non-null object\n",
      "genre       63881 non-null object\n",
      "  City      65079 non-null object\n",
      "time        65079 non-null object\n",
      "Day         65079 non-null object\n",
      "dtypes: object(7)\n",
      "memory usage: 3.5+ MB\n"
     ]
    }
   ],
   "source": [
    "df.info() # получение общей информации о данных в таблице df "
   ]
  },
  {
   "cell_type": "markdown",
   "metadata": {
    "id": "TaQ2Iwbr_Zct"
   },
   "source": [
    "Итак, в таблице семь столбцов. Тип данных во всех столбцах — `object`.\n",
    "\n",
    "Согласно документации к данным:\n",
    "* `userID` — идентификатор пользователя;\n",
    "* `Track` — название трека;  \n",
    "* `artist` — имя исполнителя;\n",
    "* `genre` — название жанра;\n",
    "* `City` — город пользователя;\n",
    "* `time` — время начала прослушивания;\n",
    "* `Day` — день недели.\n",
    "\n",
    "В названиях колонок видны три нарушения стиля:\n",
    "1. Строчные буквы сочетаются с прописными.\n",
    "2. Встречаются пробелы.\n",
    "3. Столбец 'userID' записан не в 'змеином_регистре'.\n",
    "\n",
    "\n",
    "\n",
    "Количество значений в столбцах различается. Значит, в данных есть пропущенные значения.\n"
   ]
  },
  {
   "cell_type": "markdown",
   "metadata": {
    "id": "MCB6-dXG_Zct"
   },
   "source": [
    "**Выводы**\n",
    "\n",
    "В каждой строке таблицы — данные о прослушанном треке. Часть колонок описывает саму композицию: название, исполнителя и жанр. Остальные данные рассказывают о пользователе: из какого он города, когда он слушал музыку. \n",
    "\n",
    "Предварительно можно утверждать, что, данных достаточно для проверки гипотез. Но встречаются пропуски в данных, а в названиях колонок — расхождения с хорошим стилем.\n",
    "\n",
    "Чтобы двигаться дальше, нужно устранить проблемы в данных."
   ]
  },
  {
   "cell_type": "markdown",
   "metadata": {
    "id": "SjYF6Ub9_Zct"
   },
   "source": [
    "## Предобработка данных\n",
    "Исправьте стиль в заголовках столбцов, исключите пропуски. Затем проверьте данные на дубликаты."
   ]
  },
  {
   "cell_type": "markdown",
   "metadata": {
    "id": "dIaKXr29_Zct"
   },
   "source": [
    "### Стиль заголовков\n",
    "Выведите на экран названия столбцов:"
   ]
  },
  {
   "cell_type": "code",
   "execution_count": 6,
   "metadata": {
    "id": "oKOTdF_Q_Zct"
   },
   "outputs": [
    {
     "data": {
      "text/plain": [
       "Index(['  userID', 'Track', 'artist', 'genre', '  City  ', 'time', 'Day'], dtype='object')"
      ]
     },
     "execution_count": 6,
     "metadata": {},
     "output_type": "execute_result"
    }
   ],
   "source": [
    "df.columns # перечень названий столбцов таблицы df"
   ]
  },
  {
   "cell_type": "markdown",
   "metadata": {
    "id": "zj5534cv_Zct"
   },
   "source": [
    "Приведите названия в соответствие с хорошим стилем:\n",
    "* несколько слов в названии запишите в «змеином_регистре»,\n",
    "* все символы сделайте строчными,\n",
    "* устраните пробелы.\n",
    "\n",
    "Для этого переименуйте колонки так:\n",
    "* `'  userID'` → `'user_id'`;\n",
    "* `'Track'` → `'track'`;\n",
    "* `'  City  '` → `'city'`;\n",
    "* `'Day'` → `'day'`."
   ]
  },
  {
   "cell_type": "code",
   "execution_count": 7,
   "metadata": {
    "id": "ISlFqs5y_Zct"
   },
   "outputs": [],
   "source": [
    "df = df.rename(columns = {'  userID':'user_id', 'Track':'track', '  City  ':'city', 'Day':'day'}) # переименование столбцов"
   ]
  },
  {
   "cell_type": "markdown",
   "metadata": {
    "id": "1dqbh00J_Zct"
   },
   "source": [
    "Проверьте результат. Для этого ещё раз выведите на экран названия столбцов:"
   ]
  },
  {
   "cell_type": "code",
   "execution_count": 8,
   "metadata": {
    "id": "d4NOAmTW_Zct"
   },
   "outputs": [
    {
     "data": {
      "text/plain": [
       "Index(['user_id', 'track', 'artist', 'genre', 'city', 'time', 'day'], dtype='object')"
      ]
     },
     "execution_count": 8,
     "metadata": {},
     "output_type": "execute_result"
    }
   ],
   "source": [
    "df.columns # проверка результатов - перечень названий столбцов"
   ]
  },
  {
   "cell_type": "markdown",
   "metadata": {
    "id": "5ISfbcfY_Zct"
   },
   "source": [
    "### Пропуски значений\n",
    "Сначала посчитайте, сколько в таблице пропущенных значений. Для этого достаточно двух методов `pandas`:"
   ]
  },
  {
   "cell_type": "code",
   "execution_count": 9,
   "metadata": {
    "id": "RskX29qr_Zct"
   },
   "outputs": [
    {
     "data": {
      "text/plain": [
       "user_id       0\n",
       "track      1231\n",
       "artist     7203\n",
       "genre      1198\n",
       "city          0\n",
       "time          0\n",
       "day           0\n",
       "dtype: int64"
      ]
     },
     "execution_count": 9,
     "metadata": {},
     "output_type": "execute_result"
    }
   ],
   "source": [
    "df.isna().sum() # подсчёт пропусков"
   ]
  },
  {
   "cell_type": "markdown",
   "metadata": {
    "id": "qubhgnlO_Zct"
   },
   "source": [
    "Не все пропущенные значения влияют на исследование. Так в `track` и `artist` пропуски не важны для вашей работы. Достаточно заменить их явными обозначениями.\n",
    "\n",
    "Но пропуски в `genre` могут помешать сравнению музыкальных вкусов в Москве и Санкт-Петербурге. На практике было бы правильно установить причину пропусков и восстановить данные. Такой возможности нет в учебном проекте. Придётся:\n",
    "* заполнить и эти пропуски явными обозначениями,\n",
    "* оценить, насколько они повредят расчётам. "
   ]
  },
  {
   "cell_type": "markdown",
   "metadata": {
    "id": "fSv2laPA_Zct"
   },
   "source": [
    "Замените пропущенные значения в столбцах `track`, `artist` и `genre` на строку `'unknown'`. Для этого создайте список `columns_to_replace`, переберите его элементы циклом `for` и для каждого столбца выполните замену пропущенных значений:"
   ]
  },
  {
   "cell_type": "code",
   "execution_count": 10,
   "metadata": {
    "id": "KplB5qWs_Zct"
   },
   "outputs": [],
   "source": [
    "columns_to_replace = ['track', 'artist', 'genre'] # перебор названий столбцов в цикле и замена пропущенных значений на 'unknown'\n",
    "for column in columns_to_replace:\n",
    "    df[column] = df[column].fillna('unknown')"
   ]
  },
  {
   "cell_type": "markdown",
   "metadata": {
    "id": "Ilsm-MZo_Zct"
   },
   "source": [
    "Убедитесь, что в таблице не осталось пропусков. Для этого ещё раз посчитайте пропущенные значения."
   ]
  },
  {
   "cell_type": "code",
   "execution_count": 11,
   "metadata": {
    "id": "Tq4nYRX4_Zct"
   },
   "outputs": [
    {
     "data": {
      "text/plain": [
       "user_id    0\n",
       "track      0\n",
       "artist     0\n",
       "genre      0\n",
       "city       0\n",
       "time       0\n",
       "day        0\n",
       "dtype: int64"
      ]
     },
     "execution_count": 11,
     "metadata": {},
     "output_type": "execute_result"
    }
   ],
   "source": [
    "df.isna().sum() # подсчёт пропусков"
   ]
  },
  {
   "cell_type": "markdown",
   "metadata": {
    "id": "BWKRtBJ3_Zct"
   },
   "source": [
    "### Дубликаты\n",
    "Посчитайте явные дубликаты в таблице одной командой:"
   ]
  },
  {
   "cell_type": "code",
   "execution_count": 12,
   "metadata": {
    "id": "36eES_S0_Zct"
   },
   "outputs": [
    {
     "data": {
      "text/plain": [
       "3826"
      ]
     },
     "execution_count": 12,
     "metadata": {},
     "output_type": "execute_result"
    }
   ],
   "source": [
    "df.duplicated().sum() # подсчёт явных дубликатов"
   ]
  },
  {
   "cell_type": "markdown",
   "metadata": {
    "id": "Ot25h6XR_Zct"
   },
   "source": [
    "Вызовите специальный метод `pandas`, чтобы удалить явные дубликаты:"
   ]
  },
  {
   "cell_type": "code",
   "execution_count": 13,
   "metadata": {
    "id": "exFHq6tt_Zct"
   },
   "outputs": [],
   "source": [
    "df = df.drop_duplicates().reset_index(drop=True) # удаление явных дубликатов (с удалением старых индексов и формированием новых)"
   ]
  },
  {
   "cell_type": "markdown",
   "metadata": {
    "id": "Im2YwBEG_Zct"
   },
   "source": [
    "Ещё раз посчитайте явные дубликаты в таблице — убедитесь, что полностью от них избавились:"
   ]
  },
  {
   "cell_type": "code",
   "execution_count": 14,
   "metadata": {
    "id": "-8PuNWQ0_Zct"
   },
   "outputs": [
    {
     "data": {
      "text/plain": [
       "0"
      ]
     },
     "execution_count": 14,
     "metadata": {},
     "output_type": "execute_result"
    }
   ],
   "source": [
    "df.duplicated().sum() # проверка на отсутствие дубликатов"
   ]
  },
  {
   "cell_type": "markdown",
   "metadata": {
    "id": "QlFBsxAr_Zct"
   },
   "source": [
    "Теперь избавьтесь от неявных дубликатов в колонке `genre`. Например, название одного и того же жанра может быть записано немного по-разному. Такие ошибки тоже повлияют на результат исследования."
   ]
  },
  {
   "cell_type": "markdown",
   "metadata": {
    "id": "eSjWwsOh_Zct"
   },
   "source": [
    "Выведите на экран список уникальных названий жанров, отсортированный в алфавитном порядке. Для этого:\n",
    "* извлеките нужный столбец датафрейма, \n",
    "* примените к нему метод сортировки,\n",
    "* для отсортированного столбца вызовите метод, который вернёт уникальные значения из столбца."
   ]
  },
  {
   "cell_type": "code",
   "execution_count": 15,
   "metadata": {
    "id": "JIUcqzZN_Zct"
   },
   "outputs": [
    {
     "name": "stdout",
     "output_type": "stream",
     "text": [
      "['acid', 'acoustic', 'action', 'adult', 'africa', 'afrikaans', 'alternative', 'alternativepunk', 'ambient', 'americana', 'animated', 'anime', 'arabesk', 'arabic', 'arena', 'argentinetango', 'art', 'audiobook', 'author', 'avantgarde', 'axé', 'baile', 'balkan', 'beats', 'bigroom', 'black', 'bluegrass', 'blues', 'bollywood', 'bossa', 'brazilian', 'breakbeat', 'breaks', 'broadway', 'cantautori', 'cantopop', 'canzone', 'caribbean', 'caucasian', 'celtic', 'chamber', 'chanson', 'children', 'chill', 'chinese', 'choral', 'christian', 'christmas', 'classical', 'classicmetal', 'club', 'colombian', 'comedy', 'conjazz', 'contemporary', 'country', 'cuban', 'dance', 'dancehall', 'dancepop', 'dark', 'death', 'deep', 'deutschrock', 'deutschspr', 'dirty', 'disco', 'dnb', 'documentary', 'downbeat', 'downtempo', 'drum', 'dub', 'dubstep', 'eastern', 'easy', 'electronic', 'electropop', 'emo', 'entehno', 'epicmetal', 'estrada', 'ethnic', 'eurofolk', 'european', 'experimental', 'extrememetal', 'fado', 'fairytail', 'film', 'fitness', 'flamenco', 'folk', 'folklore', 'folkmetal', 'folkrock', 'folktronica', 'forró', 'frankreich', 'französisch', 'french', 'funk', 'future', 'gangsta', 'garage', 'german', 'ghazal', 'gitarre', 'glitch', 'gospel', 'gothic', 'grime', 'grunge', 'gypsy', 'handsup', \"hard'n'heavy\", 'hardcore', 'hardstyle', 'hardtechno', 'hip', 'hip-hop', 'hiphop', 'historisch', 'holiday', 'hop', 'horror', 'house', 'hymn', 'idm', 'independent', 'indian', 'indie', 'indipop', 'industrial', 'inspirational', 'instrumental', 'international', 'irish', 'jam', 'japanese', 'jazz', 'jewish', 'jpop', 'jungle', 'k-pop', 'karadeniz', 'karaoke', 'kayokyoku', 'korean', 'laiko', 'latin', 'latino', 'leftfield', 'local', 'lounge', 'loungeelectronic', 'lovers', 'malaysian', 'mandopop', 'marschmusik', 'meditative', 'mediterranean', 'melodic', 'metal', 'metalcore', 'mexican', 'middle', 'minimal', 'miscellaneous', 'modern', 'mood', 'mpb', 'muslim', 'native', 'neoklassik', 'neue', 'new', 'newage', 'newwave', 'nu', 'nujazz', 'numetal', 'oceania', 'old', 'opera', 'orchestral', 'other', 'piano', 'podcasts', 'pop', 'popdance', 'popelectronic', 'popeurodance', 'poprussian', 'post', 'posthardcore', 'postrock', 'power', 'progmetal', 'progressive', 'psychedelic', 'punjabi', 'punk', 'quebecois', 'ragga', 'ram', 'rancheras', 'rap', 'rave', 'reggae', 'reggaeton', 'regional', 'relax', 'religious', 'retro', 'rhythm', 'rnb', 'rnr', 'rock', 'rockabilly', 'rockalternative', 'rockindie', 'rockother', 'romance', 'roots', 'ruspop', 'rusrap', 'rusrock', 'russian', 'salsa', 'samba', 'scenic', 'schlager', 'self', 'sertanejo', 'shanson', 'shoegazing', 'showtunes', 'singer', 'ska', 'skarock', 'slow', 'smooth', 'soft', 'soul', 'soulful', 'sound', 'soundtrack', 'southern', 'specialty', 'speech', 'spiritual', 'sport', 'stonerrock', 'surf', 'swing', 'synthpop', 'synthrock', 'sängerportrait', 'tango', 'tanzorchester', 'taraftar', 'tatar', 'tech', 'techno', 'teen', 'thrash', 'top', 'traditional', 'tradjazz', 'trance', 'tribal', 'trip', 'triphop', 'tropical', 'türk', 'türkçe', 'ukrrock', 'unknown', 'urban', 'uzbek', 'variété', 'vi', 'videogame', 'vocal', 'western', 'world', 'worldbeat', 'ïîï', 'электроника']\n"
     ]
    }
   ],
   "source": [
    " print(sorted(df['genre'].unique())) # Просмотр уникальных названий жанров"
   ]
  },
  {
   "cell_type": "markdown",
   "metadata": {
    "id": "qej-Qmuo_Zct"
   },
   "source": [
    "Просмотрите список и найдите неявные дубликаты названия `hiphop`. Это могут быть названия с ошибками или альтернативные названия того же жанра.\n",
    "\n",
    "Вы увидите следующие неявные дубликаты:\n",
    "* *hip*,\n",
    "* *hop*,\n",
    "* *hip-hop*.\n",
    "\n",
    "Чтобы очистить от них таблицу, напишите функцию `replace_wrong_genres()` с двумя параметрами: \n",
    "* `wrong_genres` — список дубликатов,\n",
    "* `correct_genre` — строка с правильным значением.\n",
    "\n",
    "Функция должна исправить колонку `genre` в таблице `df`: заменить каждое значение из списка `wrong_genres` на значение из `correct_genre`."
   ]
  },
  {
   "cell_type": "code",
   "execution_count": 16,
   "metadata": {
    "id": "ErNDkmns_Zct"
   },
   "outputs": [],
   "source": [
    " def replace_wrong_genres(wrong_genres, correct_genre): # Функция для замены неявных дубликатов\n",
    "        df['genre'] = df['genre'].replace(wrong_genres, correct_genre)"
   ]
  },
  {
   "cell_type": "markdown",
   "metadata": {
    "id": "aDoBJxbA_Zct"
   },
   "source": [
    "Вызовите `replace_wrong_genres()` и передайте ей такие аргументы, чтобы она устранила неявные дубликаты: вместо `hip`, `hop` и `hip-hop` в таблице должно быть значение `hiphop`:"
   ]
  },
  {
   "cell_type": "code",
   "execution_count": 17,
   "metadata": {
    "id": "YN5i2hpmSo09"
   },
   "outputs": [],
   "source": [
    "duplicates = ['hip','hop','hip-hop']\n",
    "name = 'hiphop'\n",
    "replace_wrong_genres(duplicates, name) # Устранение неявных дубликатов"
   ]
  },
  {
   "cell_type": "markdown",
   "metadata": {
    "id": "zQKF16_RG15m"
   },
   "source": [
    "Проверьте, что заменили неправильные названия:\n",
    "\n",
    "*   hip\n",
    "*   hop\n",
    "*   hip-hop\n",
    "\n",
    "Выведите отсортированный список уникальных значений столбца `genre`:"
   ]
  },
  {
   "cell_type": "code",
   "execution_count": 18,
   "metadata": {
    "id": "wvixALnFG15m"
   },
   "outputs": [
    {
     "name": "stdout",
     "output_type": "stream",
     "text": [
      "['acid', 'acoustic', 'action', 'adult', 'africa', 'afrikaans', 'alternative', 'alternativepunk', 'ambient', 'americana', 'animated', 'anime', 'arabesk', 'arabic', 'arena', 'argentinetango', 'art', 'audiobook', 'author', 'avantgarde', 'axé', 'baile', 'balkan', 'beats', 'bigroom', 'black', 'bluegrass', 'blues', 'bollywood', 'bossa', 'brazilian', 'breakbeat', 'breaks', 'broadway', 'cantautori', 'cantopop', 'canzone', 'caribbean', 'caucasian', 'celtic', 'chamber', 'chanson', 'children', 'chill', 'chinese', 'choral', 'christian', 'christmas', 'classical', 'classicmetal', 'club', 'colombian', 'comedy', 'conjazz', 'contemporary', 'country', 'cuban', 'dance', 'dancehall', 'dancepop', 'dark', 'death', 'deep', 'deutschrock', 'deutschspr', 'dirty', 'disco', 'dnb', 'documentary', 'downbeat', 'downtempo', 'drum', 'dub', 'dubstep', 'eastern', 'easy', 'electronic', 'electropop', 'emo', 'entehno', 'epicmetal', 'estrada', 'ethnic', 'eurofolk', 'european', 'experimental', 'extrememetal', 'fado', 'fairytail', 'film', 'fitness', 'flamenco', 'folk', 'folklore', 'folkmetal', 'folkrock', 'folktronica', 'forró', 'frankreich', 'französisch', 'french', 'funk', 'future', 'gangsta', 'garage', 'german', 'ghazal', 'gitarre', 'glitch', 'gospel', 'gothic', 'grime', 'grunge', 'gypsy', 'handsup', \"hard'n'heavy\", 'hardcore', 'hardstyle', 'hardtechno', 'hiphop', 'historisch', 'holiday', 'horror', 'house', 'hymn', 'idm', 'independent', 'indian', 'indie', 'indipop', 'industrial', 'inspirational', 'instrumental', 'international', 'irish', 'jam', 'japanese', 'jazz', 'jewish', 'jpop', 'jungle', 'k-pop', 'karadeniz', 'karaoke', 'kayokyoku', 'korean', 'laiko', 'latin', 'latino', 'leftfield', 'local', 'lounge', 'loungeelectronic', 'lovers', 'malaysian', 'mandopop', 'marschmusik', 'meditative', 'mediterranean', 'melodic', 'metal', 'metalcore', 'mexican', 'middle', 'minimal', 'miscellaneous', 'modern', 'mood', 'mpb', 'muslim', 'native', 'neoklassik', 'neue', 'new', 'newage', 'newwave', 'nu', 'nujazz', 'numetal', 'oceania', 'old', 'opera', 'orchestral', 'other', 'piano', 'podcasts', 'pop', 'popdance', 'popelectronic', 'popeurodance', 'poprussian', 'post', 'posthardcore', 'postrock', 'power', 'progmetal', 'progressive', 'psychedelic', 'punjabi', 'punk', 'quebecois', 'ragga', 'ram', 'rancheras', 'rap', 'rave', 'reggae', 'reggaeton', 'regional', 'relax', 'religious', 'retro', 'rhythm', 'rnb', 'rnr', 'rock', 'rockabilly', 'rockalternative', 'rockindie', 'rockother', 'romance', 'roots', 'ruspop', 'rusrap', 'rusrock', 'russian', 'salsa', 'samba', 'scenic', 'schlager', 'self', 'sertanejo', 'shanson', 'shoegazing', 'showtunes', 'singer', 'ska', 'skarock', 'slow', 'smooth', 'soft', 'soul', 'soulful', 'sound', 'soundtrack', 'southern', 'specialty', 'speech', 'spiritual', 'sport', 'stonerrock', 'surf', 'swing', 'synthpop', 'synthrock', 'sängerportrait', 'tango', 'tanzorchester', 'taraftar', 'tatar', 'tech', 'techno', 'teen', 'thrash', 'top', 'traditional', 'tradjazz', 'trance', 'tribal', 'trip', 'triphop', 'tropical', 'türk', 'türkçe', 'ukrrock', 'unknown', 'urban', 'uzbek', 'variété', 'vi', 'videogame', 'vocal', 'western', 'world', 'worldbeat', 'ïîï', 'электроника']\n"
     ]
    }
   ],
   "source": [
    " print(sorted(df['genre'].unique())) # Проверка на неявные дубликаты"
   ]
  },
  {
   "cell_type": "markdown",
   "metadata": {
    "id": "jz6a9-7HQUDd"
   },
   "source": [
    "**Выводы**\n",
    "\n",
    "Предобработка обнаружила три проблемы в данных:\n",
    "\n",
    "- нарушения в стиле заголовков,\n",
    "- пропущенные значения,\n",
    "- дубликаты — явные и неявные.\n",
    "\n",
    "Вы исправили заголовки, чтобы упростить работу с таблицей. Без дубликатов исследование станет более точным.\n",
    "\n",
    "Пропущенные значения вы заменили на `'unknown'`. Ещё предстоит увидеть, не повредят ли исследованию пропуски в колонке `genre`.\n",
    "\n",
    "Теперь можно перейти к проверке гипотез. "
   ]
  },
  {
   "cell_type": "markdown",
   "metadata": {
    "id": "WttZHXH0SqKk"
   },
   "source": [
    "## Проверка гипотез"
   ]
  },
  {
   "cell_type": "markdown",
   "metadata": {
    "id": "Im936VVi_Zcu"
   },
   "source": [
    "### Сравнение поведения пользователей двух столиц"
   ]
  },
  {
   "cell_type": "markdown",
   "metadata": {
    "id": "nwt_MuaL_Zcu"
   },
   "source": [
    "Первая гипотеза утверждает, что пользователи по-разному слушают музыку в Москве и Санкт-Петербурге. Проверьте это предположение по данным о трёх днях недели — понедельнике, среде и пятнице. Для этого:\n",
    "\n",
    "* Разделите пользователей Москвы и Санкт-Петербурга\n",
    "* Сравните, сколько треков послушала каждая группа пользователей в понедельник, среду и пятницу.\n"
   ]
  },
  {
   "cell_type": "markdown",
   "metadata": {
    "id": "8Dw_YMmT_Zcu"
   },
   "source": [
    "Для тренировки сначала выполните каждый из расчётов по отдельности. \n",
    "\n",
    "Оцените активность пользователей в каждом городе. Сгруппируйте данные по городу и посчитайте прослушивания в каждой группе.\n",
    "\n"
   ]
  },
  {
   "cell_type": "code",
   "execution_count": 19,
   "metadata": {
    "id": "0_Qs96oh_Zcu"
   },
   "outputs": [],
   "source": [
    "listeners_in_moscow = df.groupby('city')['time'].count() # Подсчёт прослушиваний в каждом городе"
   ]
  },
  {
   "cell_type": "markdown",
   "metadata": {
    "id": "dzli3w8o_Zcu"
   },
   "source": [
    "В Москве прослушиваний больше, чем в Петербурге. Из этого не следует, что московские пользователи чаще слушают музыку. Просто самих пользователей в Москве больше.\n",
    "\n",
    "Теперь сгруппируйте данные по дню недели и подсчитайте прослушивания в понедельник, среду и пятницу. Учтите, что в данных есть информация только о прослушиваниях только за эти дни.\n"
   ]
  },
  {
   "cell_type": "code",
   "execution_count": 20,
   "metadata": {
    "id": "uZMKjiJz_Zcu"
   },
   "outputs": [
    {
     "name": "stdout",
     "output_type": "stream",
     "text": [
      "day\n",
      "Friday       21840\n",
      "Monday       21354\n",
      "Wednesday    18059\n",
      "Name: time, dtype: int64\n"
     ]
    }
   ],
   "source": [
    "listening = df.groupby('day')['time'].count() # Подсчёт прослушиваний в каждый из трёх дней\n",
    "print(listening)"
   ]
  },
  {
   "cell_type": "markdown",
   "metadata": {
    "id": "cC2tNrlL_Zcu"
   },
   "source": [
    "В среднем пользователи из двух городов менее активны по средам. Но картина может измениться, если рассмотреть каждый город в отдельности."
   ]
  },
  {
   "cell_type": "markdown",
   "metadata": {
    "id": "POzs8bGa_Zcu"
   },
   "source": [
    "Вы видели, как работает группировка по городу и по дням недели. Теперь напишите функцию, которая объединит два эти расчёта.\n",
    "\n",
    "Создайте функцию `number_tracks()`, которая посчитает прослушивания для заданного дня и города. Ей понадобятся два параметра:\n",
    "* день недели,\n",
    "* название города.\n",
    "\n",
    "В функции сохраните в переменную строки исходной таблицы, у которых значение:\n",
    "  * в колонке `day` равно параметру `day`,\n",
    "  * в колонке `city` равно параметру `city`.\n",
    "\n",
    "Для этого примените последовательную фильтрацию с логической индексацией.\n",
    "\n",
    "Затем посчитайте значения в столбце `user_id` получившейся таблицы. Результат сохраните в новую переменную. Верните эту переменную из функции."
   ]
  },
  {
   "cell_type": "code",
   "execution_count": 21,
   "metadata": {
    "id": "Nz3GdQB1_Zcu"
   },
   "outputs": [],
   "source": [
    "# <создание функции number_tracks()>\n",
    "def number_tracks(day, city): # Объявляется функция с двумя параметрами: day, city.\n",
    "    track_list = df[df['day'] == day] # В переменной track_list сохраняются те строки таблицы df, для которых \n",
    "    track_list = df[df['city'] == city] # значение в столбце 'day' равно параметру day и одновременно значение в столбце 'city' равно параметру city (используйте последовательную фильтрацию с помощью логической индексации).\n",
    "    track_list_count = track_list['time'].count()\n",
    "    return track_list_count # Функция возвращает число - значение track_list_count.\n",
    "\n",
    "# Функция для подсчёта прослушиваний для конкретного города и дня.\n",
    "# С помощью последовательной фильтрации с логической индексацией она \n",
    "# сначала получит из исходной таблицы строки с нужным днём,\n",
    "# затем из результата отфильтрует строки с нужным городом,\n",
    "# методом count() посчитает количество значений в колонке user_id. \n",
    "# Это количество функция вернёт в качестве результата"
   ]
  },
  {
   "cell_type": "markdown",
   "metadata": {
    "id": "ytf7xFrFJQ2r"
   },
   "source": [
    "Вызовите `number_tracks()` шесть раз, меняя значение параметров — так, чтобы получить данные для каждого города в каждый из трёх дней."
   ]
  },
  {
   "cell_type": "code",
   "execution_count": 22,
   "metadata": {
    "id": "rJcRATNQ_Zcu"
   },
   "outputs": [
    {
     "data": {
      "text/plain": [
       "42741"
      ]
     },
     "execution_count": 22,
     "metadata": {},
     "output_type": "execute_result"
    }
   ],
   "source": [
    "day = 'Monday'\n",
    "city = 'Moscow'\n",
    "number_tracks(day, city) # количество прослушиваний в Москве по понедельникам"
   ]
  },
  {
   "cell_type": "code",
   "execution_count": 23,
   "metadata": {
    "id": "hq_ncZ5T_Zcu"
   },
   "outputs": [
    {
     "data": {
      "text/plain": [
       "18512"
      ]
     },
     "execution_count": 23,
     "metadata": {},
     "output_type": "execute_result"
    }
   ],
   "source": [
    "day = 'Monday'\n",
    "city = 'Saint-Petersburg'\n",
    "number_tracks(day, city) # количество прослушиваний в Санкт-Петербурге по понедельникам"
   ]
  },
  {
   "cell_type": "code",
   "execution_count": 24,
   "metadata": {
    "id": "_NTy2VPU_Zcu"
   },
   "outputs": [
    {
     "data": {
      "text/plain": [
       "42741"
      ]
     },
     "execution_count": 24,
     "metadata": {},
     "output_type": "execute_result"
    }
   ],
   "source": [
    "day = 'Wednesday'\n",
    "city = 'Moscow'\n",
    "number_tracks(day, city) # количество прослушиваний в Москве по средам"
   ]
  },
  {
   "cell_type": "code",
   "execution_count": 25,
   "metadata": {
    "id": "j2y3TAwo_Zcu"
   },
   "outputs": [
    {
     "data": {
      "text/plain": [
       "18512"
      ]
     },
     "execution_count": 25,
     "metadata": {},
     "output_type": "execute_result"
    }
   ],
   "source": [
    "day = 'Wednesday'\n",
    "city = 'Saint-Petersburg'\n",
    "number_tracks(day, city) # количество прослушиваний в Санкт-Петербурге по средам"
   ]
  },
  {
   "cell_type": "code",
   "execution_count": 26,
   "metadata": {
    "id": "vYDw5u_K_Zcu"
   },
   "outputs": [
    {
     "data": {
      "text/plain": [
       "42741"
      ]
     },
     "execution_count": 26,
     "metadata": {},
     "output_type": "execute_result"
    }
   ],
   "source": [
    "day = 'Friday'\n",
    "city = 'Moscow'\n",
    "number_tracks(day, city) # количество прослушиваний в Москве по пятницам"
   ]
  },
  {
   "cell_type": "code",
   "execution_count": 27,
   "metadata": {
    "id": "8_yzFtW3_Zcu"
   },
   "outputs": [
    {
     "data": {
      "text/plain": [
       "18512"
      ]
     },
     "execution_count": 27,
     "metadata": {},
     "output_type": "execute_result"
    }
   ],
   "source": [
    "day = 'Friday'\n",
    "city = 'Saint-Petersburg'\n",
    "number_tracks(day, city) # количество прослушиваний в Санкт-Петербурге по пятницам"
   ]
  },
  {
   "cell_type": "markdown",
   "metadata": {
    "id": "7QXffbO-_Zcu"
   },
   "source": [
    "Создайте c помощью конструктора `pd.DataFrame` таблицу, где\n",
    "* названия колонок — `['city', 'monday', 'wednesday', 'friday']`;\n",
    "* данные — результаты, которые вы получили с помощью `number_tracks`."
   ]
  },
  {
   "cell_type": "code",
   "execution_count": 28,
   "metadata": {
    "id": "APAcLpOr_Zcu"
   },
   "outputs": [
    {
     "name": "stdout",
     "output_type": "stream",
     "text": [
      "               city  monday  wednesday  friday\n",
      "0            Moscow   42741      42741   42741\n",
      "1  Saint-Petersburg   18512      18512   18512\n"
     ]
    }
   ],
   "source": [
    "import pandas as pd\n",
    "data = [['Moscow', 42741, 42741, 42741],\n",
    "       ['Saint-Petersburg', 18512, 18512, 18512]]\n",
    "columns = ['city','monday','wednesday','friday']  \n",
    "research_result = pd.DataFrame(data=data, columns=columns)\n",
    "print(research_result) # Таблица с результатами"
   ]
  },
  {
   "cell_type": "markdown",
   "metadata": {
    "id": "-EgPIHYu_Zcu"
   },
   "source": [
    "**Выводы**\n",
    "\n",
    "Данные показывают разницу поведения пользователей:\n",
    "\n",
    "- В Москве пик прослушиваний приходится на понедельник и пятницу, а в среду заметен спад.\n",
    "- В Петербурге, наоборот, больше слушают музыку по средам. Активность в понедельник и пятницу здесь почти в равной мере уступает среде.\n",
    "\n",
    "Значит, данные говорят в пользу первой гипотезы."
   ]
  },
  {
   "cell_type": "markdown",
   "metadata": {
    "id": "atZAxtq4_Zcu"
   },
   "source": [
    "### Музыка в начале и в конце недели"
   ]
  },
  {
   "cell_type": "markdown",
   "metadata": {
    "id": "eXrQqXFH_Zcu"
   },
   "source": [
    "Согласно второй гипотезе, утром в понедельник в Москве преобладают одни жанры, а в Петербурге — другие. Так же и вечером пятницы преобладают разные жанры — в зависимости от города."
   ]
  },
  {
   "cell_type": "markdown",
   "metadata": {
    "id": "S8UcW6Hw_Zcu"
   },
   "source": [
    "Сохраните таблицы с данными в две переменные:\n",
    "* по Москве — в `moscow_general`;\n",
    "* по Санкт-Петербургу — в `spb_general`."
   ]
  },
  {
   "cell_type": "code",
   "execution_count": 29,
   "metadata": {
    "id": "qeaFfM_P_Zcu"
   },
   "outputs": [],
   "source": [
    " moscow_general = df[df['city'] == 'Moscow'] # получение таблицы moscow_general из тех строк таблицы df, \n",
    " # для которых значение в столбце 'city' равно 'Moscow'"
   ]
  },
  {
   "cell_type": "code",
   "execution_count": 30,
   "metadata": {
    "id": "ORaVRKto_Zcu"
   },
   "outputs": [],
   "source": [
    "spb_general = df[df['city'] == 'Saint-Petersburg'] # получение таблицы spb_general из тех строк таблицы df,\n",
    "# для которых значение в столбце 'city' равно 'Saint-Petersburg'"
   ]
  },
  {
   "cell_type": "markdown",
   "metadata": {
    "id": "MEJV-CX2_Zcu"
   },
   "source": [
    "Создайте функцию `genre_weekday()` с четырьмя параметрами:\n",
    "* таблица (датафрейм) с данными,\n",
    "* день недели,\n",
    "* начальная временная метка в формате 'hh:mm', \n",
    "* последняя временная метка в формате 'hh:mm'.\n",
    "\n",
    "Функция должна вернуть информацию о топ-10 жанров тех треков, которые прослушивали в указанный день, в промежутке между двумя отметками времени."
   ]
  },
  {
   "cell_type": "code",
   "execution_count": 31,
   "metadata": {
    "id": "laJT9BYl_Zcu"
   },
   "outputs": [],
   "source": [
    "def genre_weekday(table, day, time1, time2): # Объявление функции genre_weekday() с параметрами table, day, time1, time2,\n",
    "    genre_df = table[table['day'] == day]\n",
    "    genre_df = table[table['time'] > time1]\n",
    "    genre_df = table[table['time'] < time2]\n",
    "    genre_df_count = genre_df.groupby('genre')['user_id'].count()\n",
    "    genre_df_sorted = genre_df_count.sort_values(ascending = False)\n",
    "    return genre_df_sorted.head(10)\n",
    "\n",
    "# которая возвращает информацию о самых популярных жанрах в указанный день в\n",
    "# заданное время:\n",
    "# 1) в переменную genre_df сохраняются те строки переданного датафрейма\n",
    "#    которых одновременно:\n",
    "#    - значение в столбце day равно значению аргумента day\n",
    "#    - значение в столбце time больше значения аргумента time1\n",
    "#    - значение в столбце time меньше значения аргумента time2\n",
    "#    Используйте последовательную фильтрацию с помощью логической индексации.\n",
    "# 2) сгруппировать датафрейм genre_df по столбцу genre, взять один из его\n",
    "#    столбцов и посчитать методом count() количество записей для каждого из\n",
    "#    присутствующих жанров, получившийся Series записать в переменную\n",
    "#    genre_df_count\n",
    "# 3) отсортировать genre_df_count по убыванию встречаемости и сохранить\n",
    "#    в переменную genre_df_sorted \n",
    "# 4) вернуть Series из 10 первых значений genre_df_sorted, это будут топ-10\n",
    "#    популярных жанров (в указанный день, в заданное время)"
   ]
  },
  {
   "cell_type": "markdown",
   "metadata": {
    "id": "la2s2_PF_Zcu"
   },
   "source": [
    "Cравните результаты функции `genre_weekday()` для Москвы и Санкт-Петербурга в понедельник утром (с 7:00 до 11:00) и в пятницу вечером (с 17:00 до 23:00):"
   ]
  },
  {
   "cell_type": "code",
   "execution_count": 32,
   "metadata": {
    "id": "yz7itPUQ_Zcu"
   },
   "outputs": [
    {
     "data": {
      "text/plain": [
       "genre\n",
       "pop            2015\n",
       "dance          1444\n",
       "rock           1259\n",
       "electronic     1249\n",
       "hiphop          709\n",
       "ruspop          510\n",
       "classical       473\n",
       "world           439\n",
       "alternative     436\n",
       "rusrap          406\n",
       "Name: user_id, dtype: int64"
      ]
     },
     "execution_count": 32,
     "metadata": {},
     "output_type": "execute_result"
    }
   ],
   "source": [
    "# вызов функции для утра понедельника в Москве (вместо df — таблица moscow_general)\n",
    "# объекты, хранящие время, являются строками и сравниваются как строки\n",
    "genre_weekday(moscow_general, 'Monday', '07:00', '11:00') # пример вызова: genre_weekday(moscow_general, 'Monday', '07:00', '11:00')"
   ]
  },
  {
   "cell_type": "code",
   "execution_count": 33,
   "metadata": {
    "id": "kwUcHPdy_Zcu"
   },
   "outputs": [
    {
     "data": {
      "text/plain": [
       "genre\n",
       "pop            701\n",
       "dance          606\n",
       "rock           520\n",
       "electronic     519\n",
       "hiphop         288\n",
       "rusrap         195\n",
       "alternative    184\n",
       "ruspop         174\n",
       "classical      155\n",
       "world          130\n",
       "Name: user_id, dtype: int64"
      ]
     },
     "execution_count": 33,
     "metadata": {},
     "output_type": "execute_result"
    }
   ],
   "source": [
    "genre_weekday(spb_general, 'Monday', '07:00', '11:00') # вызов функции для утра понедельника в Петербурге (вместо df — таблица spb_general)"
   ]
  },
  {
   "cell_type": "code",
   "execution_count": 34,
   "metadata": {
    "id": "EzXVRE1o_Zcu"
   },
   "outputs": [
    {
     "data": {
      "text/plain": [
       "genre\n",
       "pop            5892\n",
       "dance          4435\n",
       "rock           3965\n",
       "electronic     3786\n",
       "hiphop         2096\n",
       "classical      1616\n",
       "world          1432\n",
       "alternative    1379\n",
       "ruspop         1372\n",
       "rusrap         1161\n",
       "Name: user_id, dtype: int64"
      ]
     },
     "execution_count": 34,
     "metadata": {},
     "output_type": "execute_result"
    }
   ],
   "source": [
    "genre_weekday(moscow_general, 'Monday', '17:00', '23:00') # вызов функции для вечера пятницы в Москве"
   ]
  },
  {
   "cell_type": "code",
   "execution_count": 35,
   "metadata": {
    "id": "JZaEKu5v_Zcu"
   },
   "outputs": [
    {
     "data": {
      "text/plain": [
       "genre\n",
       "pop            2431\n",
       "dance          1932\n",
       "rock           1879\n",
       "electronic     1736\n",
       "hiphop          960\n",
       "alternative     649\n",
       "classical       646\n",
       "rusrap          564\n",
       "ruspop          538\n",
       "world           515\n",
       "Name: user_id, dtype: int64"
      ]
     },
     "execution_count": 35,
     "metadata": {},
     "output_type": "execute_result"
    }
   ],
   "source": [
    "genre_weekday(spb_general, 'Monday', '17:00', '23:00') # вызов функции для вечера пятницы в Петербурге"
   ]
  },
  {
   "cell_type": "markdown",
   "metadata": {
    "id": "wrCe4MNX_Zcu"
   },
   "source": [
    "**Выводы**\n",
    "\n",
    "Если сравнить топ-10 жанров в понедельник утром, можно сделать такие выводы:\n",
    "\n",
    "1. В Москве и Петербурге слушают похожую музыку. Единственное отличие — в московский рейтинг вошёл жанр “world”, а в петербургский — джаз и классика.\n",
    "\n",
    "2. В Москве пропущенных значений оказалось так много, что значение `'unknown'` заняло десятое место среди самых популярных жанров. Значит, пропущенные значения занимают существенную долю в данных и угрожают достоверности исследования.\n",
    "\n",
    "Вечер пятницы не меняет эту картину. Некоторые жанры поднимаются немного выше, другие спускаются, но в целом топ-10 остаётся тем же самым.\n",
    "\n",
    "Таким образом, вторая гипотеза подтвердилась лишь частично:\n",
    "* Пользователи слушают похожую музыку в начале недели и в конце.\n",
    "* Разница между Москвой и Петербургом не слишком выражена. В Москве чаще слушают русскую популярную музыку, в Петербурге — джаз.\n",
    "\n",
    "Однако пропуски в данных ставят под сомнение этот результат. В Москве их так много, что рейтинг топ-10 мог бы выглядеть иначе, если бы не утерянные  данные о жанрах."
   ]
  },
  {
   "cell_type": "markdown",
   "metadata": {
    "id": "JolODAqr_Zcu"
   },
   "source": [
    "### Жанровые предпочтения в Москве и Петербурге\n",
    "\n",
    "Гипотеза: Петербург — столица рэпа, музыку этого жанра там слушают чаще, чем в Москве.  А Москва — город контрастов, в котором, тем не менее, преобладает поп-музыка."
   ]
  },
  {
   "cell_type": "markdown",
   "metadata": {
    "id": "DlegSvaT_Zcu"
   },
   "source": [
    "Сгруппируйте таблицу `moscow_general` по жанру и посчитайте прослушивания треков каждого жанра методом `count()`. Затем отсортируйте результат в порядке убывания и сохраните его в таблице `moscow_genres`."
   ]
  },
  {
   "cell_type": "code",
   "execution_count": 36,
   "metadata": {
    "id": "r19lIPke_Zcu"
   },
   "outputs": [],
   "source": [
    "moscow_genres = moscow_general.groupby('genre')['genre'].count().sort_values(ascending = False)\n",
    "# одной строкой: группировка таблицы moscow_general по столбцу 'genre', \n",
    "# подсчёт числа значений 'genre' в этой группировке методом count(), \n",
    "# сортировка получившегося Series в порядке убывания и сохранение в moscow_genres"
   ]
  },
  {
   "cell_type": "markdown",
   "metadata": {
    "id": "6kMuomxTiIr8"
   },
   "source": [
    "Выведите на экран первые десять строк `moscow_genres`:"
   ]
  },
  {
   "cell_type": "code",
   "execution_count": 37,
   "metadata": {
    "id": "WhCSooF8_Zcv"
   },
   "outputs": [
    {
     "data": {
      "text/plain": [
       "genre\n",
       "pop            5892\n",
       "dance          4435\n",
       "rock           3965\n",
       "electronic     3786\n",
       "hiphop         2096\n",
       "classical      1616\n",
       "world          1432\n",
       "alternative    1379\n",
       "ruspop         1372\n",
       "rusrap         1161\n",
       "Name: genre, dtype: int64"
      ]
     },
     "execution_count": 37,
     "metadata": {},
     "output_type": "execute_result"
    }
   ],
   "source": [
    "moscow_genres.sort_values(ascending = False).head(10) # просмотр первых 10 строк moscow_genres"
   ]
  },
  {
   "cell_type": "markdown",
   "metadata": {
    "id": "cnPG2vnN_Zcv"
   },
   "source": [
    "Теперь повторите то же и для Петербурга.\n",
    "\n",
    "Сгруппируйте таблицу `spb_general` по жанру. Посчитайте прослушивания треков каждого жанра. Результат отсортируйте в порядке убывания и сохраните в таблице `spb_genres`:\n"
   ]
  },
  {
   "cell_type": "code",
   "execution_count": 38,
   "metadata": {
    "id": "gluLIpE7_Zcv"
   },
   "outputs": [
    {
     "data": {
      "text/plain": [
       "genre\n",
       "pop            2431\n",
       "dance          1932\n",
       "rock           1879\n",
       "electronic     1736\n",
       "hiphop          960\n",
       "               ... \n",
       "mpb               1\n",
       "native            1\n",
       "neoklassik        1\n",
       "folklore          1\n",
       "электроника       1\n",
       "Name: genre, Length: 211, dtype: int64"
      ]
     },
     "execution_count": 38,
     "metadata": {},
     "output_type": "execute_result"
    }
   ],
   "source": [
    "spb_genres = spb_general.groupby('genre')['genre'].count()\n",
    "spb_genres.sort_values(ascending = False)\n",
    "# одной строкой: группировка таблицы spb_general по столбцу 'genre', \n",
    "# подсчёт числа значений 'genre' в этой группировке методом count(), \n",
    "# сортировка получившегося Series в порядке убывания и сохранение в spb_genres"
   ]
  },
  {
   "cell_type": "markdown",
   "metadata": {
    "id": "5Doha_ODgyQ8"
   },
   "source": [
    "Выведите на экран первые десять строк `spb_genres`:"
   ]
  },
  {
   "cell_type": "code",
   "execution_count": 39,
   "metadata": {
    "id": "uaGJHjVU_Zcv"
   },
   "outputs": [
    {
     "data": {
      "text/plain": [
       "genre\n",
       "pop            2431\n",
       "dance          1932\n",
       "rock           1879\n",
       "electronic     1736\n",
       "hiphop          960\n",
       "alternative     649\n",
       "classical       646\n",
       "rusrap          564\n",
       "ruspop          538\n",
       "world           515\n",
       "Name: genre, dtype: int64"
      ]
     },
     "execution_count": 39,
     "metadata": {},
     "output_type": "execute_result"
    }
   ],
   "source": [
    "spb_genres.sort_values(ascending = False).head(10) # просмотр первых 10 строк spb_genres"
   ]
  },
  {
   "cell_type": "markdown",
   "metadata": {
    "id": "RY51YJYu_Zcv"
   },
   "source": [
    "**Выводы**"
   ]
  },
  {
   "cell_type": "markdown",
   "metadata": {
    "id": "nVhnJEm__Zcv"
   },
   "source": [
    "Гипотеза частично подтвердилась:\n",
    "* Поп-музыка — самый популярный жанр в Москве, как и предполагала гипотеза. Более того, в топ-10 жанров встречается близкий жанр — русская популярная музыка.\n",
    "* Вопреки ожиданиям, рэп одинаково популярен в Москве и Петербурге. \n"
   ]
  },
  {
   "cell_type": "markdown",
   "metadata": {
    "id": "ykKQ0N65_Zcv"
   },
   "source": [
    "## Итоги исследования"
   ]
  },
  {
   "cell_type": "markdown",
   "metadata": {
    "id": "tjUwbHb3_Zcv"
   },
   "source": [
    "Вы проверили три гипотезы и установили:\n",
    "\n",
    "1. День недели по-разному влияет на активность пользователей в Москве и Петербурге. \n",
    "\n",
    "Первая гипотеза полностью подтвердилась.\n",
    "\n",
    "2. Музыкальные предпочтения не сильно меняются в течение недели — будь то Москва или Петербург. Небольшие различия заметны в начале недели, по понедельникам:\n",
    "* в Москве слушают музыку жанра “world”,\n",
    "* в Петербурге — джаз и классику.\n",
    "\n",
    "Таким образом, вторая гипотеза подтвердилась лишь отчасти. Этот результат мог оказаться иным, если бы не пропуски в данных.\n",
    "\n",
    "3. Во вкусах пользователей Москвы и Петербурга больше общего чем различий. Вопреки ожиданиям, предпочтения жанров в Петербурге напоминают московские.\n",
    "\n",
    "Третья гипотеза не подтвердилась. Если различия в предпочтениях и существуют, на основной массе пользователей они незаметны.\n",
    "\n",
    "**На практике исследования содержат проверки статистических гипотез.**\n",
    "Из данных одного сервиса не всегда можно сделать вывод о всех жителях города.\n",
    "Проверки статистических гипотез покажут, насколько они достоверны, исходя из имеющихся данных. \n",
    "С методами проверок гипотез вы ещё познакомитесь в следующих темах."
   ]
  }
 ],
 "metadata": {
  "ExecuteTimeLog": [
   {
    "duration": 4,
    "start_time": "2021-12-28T14:15:25.729Z"
   },
   {
    "duration": 777,
    "start_time": "2021-12-28T14:16:26.846Z"
   },
   {
    "duration": 191,
    "start_time": "2021-12-28T14:24:55.342Z"
   },
   {
    "duration": 25,
    "start_time": "2021-12-28T14:25:32.753Z"
   },
   {
    "duration": 12,
    "start_time": "2021-12-28T14:26:02.377Z"
   },
   {
    "duration": 5,
    "start_time": "2021-12-28T14:33:12.842Z"
   },
   {
    "duration": 12,
    "start_time": "2021-12-28T14:33:22.356Z"
   },
   {
    "duration": 5,
    "start_time": "2021-12-28T14:37:10.576Z"
   },
   {
    "duration": 12,
    "start_time": "2021-12-28T14:41:46.487Z"
   },
   {
    "duration": 5,
    "start_time": "2021-12-28T14:42:56.479Z"
   },
   {
    "duration": 27,
    "start_time": "2021-12-28T14:51:04.616Z"
   },
   {
    "duration": 6,
    "start_time": "2021-12-28T14:51:20.812Z"
   },
   {
    "duration": 29,
    "start_time": "2021-12-28T14:57:03.111Z"
   },
   {
    "duration": 124,
    "start_time": "2021-12-28T15:02:30.562Z"
   },
   {
    "duration": 106,
    "start_time": "2021-12-28T15:02:34.201Z"
   },
   {
    "duration": 27,
    "start_time": "2021-12-28T15:05:58.598Z"
   },
   {
    "duration": 34,
    "start_time": "2021-12-28T15:06:14.522Z"
   },
   {
    "duration": 4,
    "start_time": "2021-12-28T15:09:47.115Z"
   },
   {
    "duration": 4,
    "start_time": "2021-12-28T15:10:04.364Z"
   },
   {
    "duration": 87,
    "start_time": "2021-12-28T15:10:50.019Z"
   },
   {
    "duration": 101,
    "start_time": "2021-12-28T15:12:27.685Z"
   },
   {
    "duration": 85,
    "start_time": "2021-12-28T15:12:42.397Z"
   },
   {
    "duration": 8,
    "start_time": "2021-12-28T15:21:34.488Z"
   },
   {
    "duration": 7,
    "start_time": "2021-12-29T13:39:24.684Z"
   },
   {
    "duration": 667,
    "start_time": "2021-12-29T13:42:43.575Z"
   },
   {
    "duration": 638,
    "start_time": "2021-12-29T13:47:53.727Z"
   },
   {
    "duration": 706,
    "start_time": "2021-12-29T13:49:22.734Z"
   },
   {
    "duration": 672,
    "start_time": "2021-12-29T13:56:06.792Z"
   },
   {
    "duration": 333,
    "start_time": "2021-12-29T14:01:51.617Z"
   },
   {
    "duration": 293,
    "start_time": "2021-12-29T14:02:05.145Z"
   },
   {
    "duration": 799,
    "start_time": "2021-12-29T14:02:36.337Z"
   },
   {
    "duration": 192,
    "start_time": "2021-12-29T14:02:37.139Z"
   },
   {
    "duration": 35,
    "start_time": "2021-12-29T14:02:37.334Z"
   },
   {
    "duration": 13,
    "start_time": "2021-12-29T14:02:37.373Z"
   },
   {
    "duration": 7,
    "start_time": "2021-12-29T14:02:37.389Z"
   },
   {
    "duration": 33,
    "start_time": "2021-12-29T14:02:37.398Z"
   },
   {
    "duration": 5,
    "start_time": "2021-12-29T14:02:37.434Z"
   },
   {
    "duration": 32,
    "start_time": "2021-12-29T14:02:37.470Z"
   },
   {
    "duration": 27,
    "start_time": "2021-12-29T14:02:37.506Z"
   },
   {
    "duration": 52,
    "start_time": "2021-12-29T14:02:37.536Z"
   },
   {
    "duration": 110,
    "start_time": "2021-12-29T14:02:37.590Z"
   },
   {
    "duration": 117,
    "start_time": "2021-12-29T14:02:37.703Z"
   },
   {
    "duration": 89,
    "start_time": "2021-12-29T14:02:37.823Z"
   },
   {
    "duration": 9,
    "start_time": "2021-12-29T14:02:37.914Z"
   },
   {
    "duration": 5,
    "start_time": "2021-12-29T14:02:37.925Z"
   },
   {
    "duration": 40,
    "start_time": "2021-12-29T14:02:37.932Z"
   },
   {
    "duration": 9,
    "start_time": "2021-12-29T14:02:37.975Z"
   },
   {
    "duration": 9,
    "start_time": "2021-12-29T14:02:37.986Z"
   },
   {
    "duration": 9,
    "start_time": "2021-12-29T14:02:37.997Z"
   },
   {
    "duration": 7,
    "start_time": "2021-12-29T14:02:38.008Z"
   },
   {
    "duration": 14,
    "start_time": "2021-12-29T14:02:38.017Z"
   },
   {
    "duration": 10,
    "start_time": "2021-12-29T14:02:38.033Z"
   },
   {
    "duration": 5,
    "start_time": "2021-12-29T14:02:38.047Z"
   },
   {
    "duration": 3,
    "start_time": "2021-12-29T14:02:38.068Z"
   },
   {
    "duration": 7,
    "start_time": "2021-12-29T14:02:38.073Z"
   },
   {
    "duration": 9,
    "start_time": "2021-12-29T14:02:38.083Z"
   },
   {
    "duration": 7,
    "start_time": "2021-12-29T14:02:38.095Z"
   },
   {
    "duration": 8,
    "start_time": "2021-12-29T14:02:38.105Z"
   },
   {
    "duration": 11,
    "start_time": "2021-12-29T14:02:38.116Z"
   },
   {
    "duration": 12,
    "start_time": "2021-12-29T14:02:38.130Z"
   },
   {
    "duration": 23,
    "start_time": "2021-12-29T14:02:38.145Z"
   },
   {
    "duration": 8,
    "start_time": "2021-12-29T14:02:38.170Z"
   },
   {
    "duration": 11,
    "start_time": "2021-12-29T14:02:38.181Z"
   },
   {
    "duration": 7,
    "start_time": "2021-12-29T14:02:38.194Z"
   },
   {
    "duration": 8,
    "start_time": "2021-12-29T14:02:38.203Z"
   },
   {
    "duration": 6,
    "start_time": "2021-12-29T14:02:38.213Z"
   },
   {
    "duration": 6,
    "start_time": "2021-12-29T14:02:38.222Z"
   },
   {
    "duration": 36,
    "start_time": "2021-12-29T14:02:38.230Z"
   },
   {
    "duration": 6,
    "start_time": "2021-12-29T14:04:10.756Z"
   },
   {
    "duration": 8,
    "start_time": "2021-12-29T14:04:35.931Z"
   },
   {
    "duration": 13,
    "start_time": "2021-12-29T14:17:39.555Z"
   },
   {
    "duration": 15,
    "start_time": "2021-12-29T14:18:06.807Z"
   },
   {
    "duration": 15,
    "start_time": "2021-12-29T14:21:07.858Z"
   },
   {
    "duration": 17,
    "start_time": "2021-12-29T14:21:28.794Z"
   },
   {
    "duration": 766,
    "start_time": "2021-12-29T19:40:08.480Z"
   },
   {
    "duration": 196,
    "start_time": "2021-12-29T19:40:09.248Z"
   },
   {
    "duration": 29,
    "start_time": "2021-12-29T19:40:09.447Z"
   },
   {
    "duration": 11,
    "start_time": "2021-12-29T19:40:09.478Z"
   },
   {
    "duration": 5,
    "start_time": "2021-12-29T19:40:09.491Z"
   },
   {
    "duration": 60,
    "start_time": "2021-12-29T19:40:09.499Z"
   },
   {
    "duration": 6,
    "start_time": "2021-12-29T19:40:09.561Z"
   },
   {
    "duration": 34,
    "start_time": "2021-12-29T19:40:09.571Z"
   },
   {
    "duration": 23,
    "start_time": "2021-12-29T19:40:09.608Z"
   },
   {
    "duration": 55,
    "start_time": "2021-12-29T19:40:09.633Z"
   },
   {
    "duration": 104,
    "start_time": "2021-12-29T19:40:09.691Z"
   },
   {
    "duration": 107,
    "start_time": "2021-12-29T19:40:09.797Z"
   },
   {
    "duration": 83,
    "start_time": "2021-12-29T19:40:09.906Z"
   },
   {
    "duration": 8,
    "start_time": "2021-12-29T19:40:09.992Z"
   },
   {
    "duration": 4,
    "start_time": "2021-12-29T19:40:10.003Z"
   },
   {
    "duration": 15,
    "start_time": "2021-12-29T19:40:10.010Z"
   },
   {
    "duration": 36,
    "start_time": "2021-12-29T19:40:10.028Z"
   },
   {
    "duration": 18,
    "start_time": "2021-12-29T19:40:10.067Z"
   },
   {
    "duration": 14,
    "start_time": "2021-12-29T19:40:10.088Z"
   },
   {
    "duration": 106,
    "start_time": "2021-12-29T19:40:10.104Z"
   },
   {
    "duration": -1101,
    "start_time": "2021-12-29T19:40:11.315Z"
   },
   {
    "duration": -1105,
    "start_time": "2021-12-29T19:40:11.320Z"
   },
   {
    "duration": -1105,
    "start_time": "2021-12-29T19:40:11.322Z"
   },
   {
    "duration": -1110,
    "start_time": "2021-12-29T19:40:11.328Z"
   },
   {
    "duration": -1114,
    "start_time": "2021-12-29T19:40:11.334Z"
   },
   {
    "duration": -1116,
    "start_time": "2021-12-29T19:40:11.337Z"
   },
   {
    "duration": -1116,
    "start_time": "2021-12-29T19:40:11.339Z"
   },
   {
    "duration": -1117,
    "start_time": "2021-12-29T19:40:11.341Z"
   },
   {
    "duration": -1118,
    "start_time": "2021-12-29T19:40:11.343Z"
   },
   {
    "duration": -1118,
    "start_time": "2021-12-29T19:40:11.345Z"
   },
   {
    "duration": -1129,
    "start_time": "2021-12-29T19:40:11.357Z"
   },
   {
    "duration": -1132,
    "start_time": "2021-12-29T19:40:11.362Z"
   },
   {
    "duration": -1137,
    "start_time": "2021-12-29T19:40:11.368Z"
   },
   {
    "duration": -1139,
    "start_time": "2021-12-29T19:40:11.372Z"
   },
   {
    "duration": -1142,
    "start_time": "2021-12-29T19:40:11.377Z"
   },
   {
    "duration": -1145,
    "start_time": "2021-12-29T19:40:11.381Z"
   },
   {
    "duration": -1146,
    "start_time": "2021-12-29T19:40:11.384Z"
   },
   {
    "duration": -1147,
    "start_time": "2021-12-29T19:40:11.386Z"
   },
   {
    "duration": 149,
    "start_time": "2021-12-29T19:42:31.001Z"
   },
   {
    "duration": 119,
    "start_time": "2021-12-29T19:45:28.030Z"
   },
   {
    "duration": 111,
    "start_time": "2021-12-29T19:47:56.620Z"
   },
   {
    "duration": 119,
    "start_time": "2021-12-29T19:48:18.003Z"
   },
   {
    "duration": 114,
    "start_time": "2021-12-29T19:48:34.082Z"
   },
   {
    "duration": 3,
    "start_time": "2021-12-29T19:48:57.923Z"
   },
   {
    "duration": 202,
    "start_time": "2021-12-29T19:48:57.929Z"
   },
   {
    "duration": 24,
    "start_time": "2021-12-29T19:48:58.135Z"
   },
   {
    "duration": 11,
    "start_time": "2021-12-29T19:48:58.162Z"
   },
   {
    "duration": 8,
    "start_time": "2021-12-29T19:48:58.175Z"
   },
   {
    "duration": 21,
    "start_time": "2021-12-29T19:48:58.185Z"
   },
   {
    "duration": 5,
    "start_time": "2021-12-29T19:48:58.208Z"
   },
   {
    "duration": 71,
    "start_time": "2021-12-29T19:48:58.217Z"
   },
   {
    "duration": 21,
    "start_time": "2021-12-29T19:48:58.291Z"
   },
   {
    "duration": 52,
    "start_time": "2021-12-29T19:48:58.315Z"
   },
   {
    "duration": 103,
    "start_time": "2021-12-29T19:48:58.370Z"
   },
   {
    "duration": 103,
    "start_time": "2021-12-29T19:48:58.476Z"
   },
   {
    "duration": 92,
    "start_time": "2021-12-29T19:48:58.582Z"
   },
   {
    "duration": 10,
    "start_time": "2021-12-29T19:48:58.677Z"
   },
   {
    "duration": 4,
    "start_time": "2021-12-29T19:48:58.690Z"
   },
   {
    "duration": 16,
    "start_time": "2021-12-29T19:48:58.696Z"
   },
   {
    "duration": 8,
    "start_time": "2021-12-29T19:48:58.714Z"
   },
   {
    "duration": 14,
    "start_time": "2021-12-29T19:48:58.760Z"
   },
   {
    "duration": 13,
    "start_time": "2021-12-29T19:48:58.776Z"
   },
   {
    "duration": 131,
    "start_time": "2021-12-29T19:48:58.792Z"
   },
   {
    "duration": -1107,
    "start_time": "2021-12-29T19:49:00.033Z"
   },
   {
    "duration": -1110,
    "start_time": "2021-12-29T19:49:00.038Z"
   },
   {
    "duration": -1118,
    "start_time": "2021-12-29T19:49:00.047Z"
   },
   {
    "duration": -1124,
    "start_time": "2021-12-29T19:49:00.054Z"
   },
   {
    "duration": -1124,
    "start_time": "2021-12-29T19:49:00.056Z"
   },
   {
    "duration": -1126,
    "start_time": "2021-12-29T19:49:00.059Z"
   },
   {
    "duration": -1126,
    "start_time": "2021-12-29T19:49:00.061Z"
   },
   {
    "duration": -1127,
    "start_time": "2021-12-29T19:49:00.063Z"
   },
   {
    "duration": -1130,
    "start_time": "2021-12-29T19:49:00.067Z"
   },
   {
    "duration": -1131,
    "start_time": "2021-12-29T19:49:00.069Z"
   },
   {
    "duration": -1132,
    "start_time": "2021-12-29T19:49:00.072Z"
   },
   {
    "duration": -1133,
    "start_time": "2021-12-29T19:49:00.074Z"
   },
   {
    "duration": -1142,
    "start_time": "2021-12-29T19:49:00.084Z"
   },
   {
    "duration": -1142,
    "start_time": "2021-12-29T19:49:00.086Z"
   },
   {
    "duration": -1144,
    "start_time": "2021-12-29T19:49:00.089Z"
   },
   {
    "duration": -1145,
    "start_time": "2021-12-29T19:49:00.091Z"
   },
   {
    "duration": -1145,
    "start_time": "2021-12-29T19:49:00.093Z"
   },
   {
    "duration": -1146,
    "start_time": "2021-12-29T19:49:00.095Z"
   },
   {
    "duration": 5,
    "start_time": "2021-12-29T19:49:56.912Z"
   },
   {
    "duration": 4,
    "start_time": "2021-12-29T19:50:13.365Z"
   },
   {
    "duration": 411,
    "start_time": "2021-12-29T19:55:45.062Z"
   },
   {
    "duration": 684,
    "start_time": "2021-12-29T19:58:17.662Z"
   },
   {
    "duration": 654,
    "start_time": "2021-12-29T19:59:57.645Z"
   },
   {
    "duration": 5,
    "start_time": "2021-12-29T20:13:28.541Z"
   },
   {
    "duration": 714,
    "start_time": "2021-12-29T20:13:33.776Z"
   },
   {
    "duration": 5,
    "start_time": "2021-12-29T20:14:08.053Z"
   },
   {
    "duration": 4,
    "start_time": "2021-12-29T20:14:22.228Z"
   },
   {
    "duration": 33,
    "start_time": "2021-12-29T20:14:25.440Z"
   },
   {
    "duration": 44,
    "start_time": "2021-12-29T20:18:22.273Z"
   },
   {
    "duration": 32,
    "start_time": "2021-12-29T20:18:56.667Z"
   },
   {
    "duration": 26,
    "start_time": "2021-12-29T20:19:20.576Z"
   },
   {
    "duration": 33,
    "start_time": "2021-12-29T20:20:13.516Z"
   },
   {
    "duration": 30,
    "start_time": "2021-12-29T20:20:33.244Z"
   },
   {
    "duration": 5,
    "start_time": "2021-12-29T20:28:44.800Z"
   },
   {
    "duration": 11,
    "start_time": "2021-12-29T20:30:01.940Z"
   },
   {
    "duration": 487,
    "start_time": "2021-12-30T07:54:53.289Z"
   },
   {
    "duration": 3,
    "start_time": "2021-12-30T07:54:59.004Z"
   },
   {
    "duration": 717,
    "start_time": "2021-12-30T07:55:03.879Z"
   },
   {
    "duration": 136,
    "start_time": "2021-12-30T07:55:04.598Z"
   },
   {
    "duration": 18,
    "start_time": "2021-12-30T07:55:04.736Z"
   },
   {
    "duration": 20,
    "start_time": "2021-12-30T07:55:04.756Z"
   },
   {
    "duration": 18,
    "start_time": "2021-12-30T07:55:04.778Z"
   },
   {
    "duration": 41,
    "start_time": "2021-12-30T07:55:04.798Z"
   },
   {
    "duration": 18,
    "start_time": "2021-12-30T07:55:04.841Z"
   },
   {
    "duration": 35,
    "start_time": "2021-12-30T07:55:04.861Z"
   },
   {
    "duration": 32,
    "start_time": "2021-12-30T07:55:04.899Z"
   },
   {
    "duration": 30,
    "start_time": "2021-12-30T07:55:04.933Z"
   },
   {
    "duration": 76,
    "start_time": "2021-12-30T07:55:04.965Z"
   },
   {
    "duration": 71,
    "start_time": "2021-12-30T07:55:05.043Z"
   },
   {
    "duration": 64,
    "start_time": "2021-12-30T07:55:05.116Z"
   },
   {
    "duration": 6,
    "start_time": "2021-12-30T07:55:05.182Z"
   },
   {
    "duration": 9,
    "start_time": "2021-12-30T07:55:05.190Z"
   },
   {
    "duration": 28,
    "start_time": "2021-12-30T07:55:05.201Z"
   },
   {
    "duration": 12,
    "start_time": "2021-12-30T07:55:05.231Z"
   },
   {
    "duration": 13,
    "start_time": "2021-12-30T07:55:05.245Z"
   },
   {
    "duration": 14,
    "start_time": "2021-12-30T07:55:05.259Z"
   },
   {
    "duration": 4,
    "start_time": "2021-12-30T07:55:05.275Z"
   },
   {
    "duration": 39,
    "start_time": "2021-12-30T07:55:05.281Z"
   },
   {
    "duration": 38,
    "start_time": "2021-12-30T07:55:05.321Z"
   },
   {
    "duration": 27,
    "start_time": "2021-12-30T07:55:05.361Z"
   },
   {
    "duration": 22,
    "start_time": "2021-12-30T07:55:05.389Z"
   },
   {
    "duration": 50,
    "start_time": "2021-12-30T07:55:05.413Z"
   },
   {
    "duration": 31,
    "start_time": "2021-12-30T07:55:05.464Z"
   },
   {
    "duration": 8,
    "start_time": "2021-12-30T07:55:05.499Z"
   },
   {
    "duration": 610,
    "start_time": "2021-12-30T07:55:05.509Z"
   },
   {
    "duration": 945,
    "start_time": "2021-12-30T07:55:05.176Z"
   },
   {
    "duration": 944,
    "start_time": "2021-12-30T07:55:05.179Z"
   },
   {
    "duration": 942,
    "start_time": "2021-12-30T07:55:05.182Z"
   },
   {
    "duration": 940,
    "start_time": "2021-12-30T07:55:05.185Z"
   },
   {
    "duration": 940,
    "start_time": "2021-12-30T07:55:05.187Z"
   },
   {
    "duration": 939,
    "start_time": "2021-12-30T07:55:05.189Z"
   },
   {
    "duration": 937,
    "start_time": "2021-12-30T07:55:05.192Z"
   },
   {
    "duration": 926,
    "start_time": "2021-12-30T07:55:05.204Z"
   },
   {
    "duration": 923,
    "start_time": "2021-12-30T07:55:05.208Z"
   },
   {
    "duration": 921,
    "start_time": "2021-12-30T07:55:05.212Z"
   },
   {
    "duration": 20,
    "start_time": "2021-12-30T08:12:05.926Z"
   },
   {
    "duration": 11,
    "start_time": "2021-12-30T08:13:48.326Z"
   },
   {
    "duration": 12,
    "start_time": "2021-12-30T08:14:59.349Z"
   },
   {
    "duration": 4,
    "start_time": "2021-12-30T09:43:53.145Z"
   },
   {
    "duration": 33,
    "start_time": "2021-12-30T09:48:25.059Z"
   },
   {
    "duration": 248,
    "start_time": "2021-12-30T09:49:15.427Z"
   },
   {
    "duration": 2,
    "start_time": "2021-12-30T09:49:21.242Z"
   },
   {
    "duration": 3,
    "start_time": "2021-12-30T09:49:27.217Z"
   },
   {
    "duration": 139,
    "start_time": "2021-12-30T09:49:27.225Z"
   },
   {
    "duration": 10,
    "start_time": "2021-12-30T09:49:27.366Z"
   },
   {
    "duration": 13,
    "start_time": "2021-12-30T09:49:27.377Z"
   },
   {
    "duration": 6,
    "start_time": "2021-12-30T09:49:27.392Z"
   },
   {
    "duration": 28,
    "start_time": "2021-12-30T09:49:27.399Z"
   },
   {
    "duration": 13,
    "start_time": "2021-12-30T09:49:27.429Z"
   },
   {
    "duration": 28,
    "start_time": "2021-12-30T09:49:27.444Z"
   },
   {
    "duration": 15,
    "start_time": "2021-12-30T09:49:27.474Z"
   },
   {
    "duration": 22,
    "start_time": "2021-12-30T09:49:27.491Z"
   },
   {
    "duration": 74,
    "start_time": "2021-12-30T09:49:27.515Z"
   },
   {
    "duration": 72,
    "start_time": "2021-12-30T09:49:27.591Z"
   },
   {
    "duration": 48,
    "start_time": "2021-12-30T09:49:27.664Z"
   },
   {
    "duration": 5,
    "start_time": "2021-12-30T09:49:27.714Z"
   },
   {
    "duration": 21,
    "start_time": "2021-12-30T09:49:27.721Z"
   },
   {
    "duration": 17,
    "start_time": "2021-12-30T09:49:27.743Z"
   },
   {
    "duration": 9,
    "start_time": "2021-12-30T09:49:27.762Z"
   },
   {
    "duration": 13,
    "start_time": "2021-12-30T09:49:27.773Z"
   },
   {
    "duration": 9,
    "start_time": "2021-12-30T09:49:27.787Z"
   },
   {
    "duration": 3,
    "start_time": "2021-12-30T09:49:27.798Z"
   },
   {
    "duration": 40,
    "start_time": "2021-12-30T09:49:27.802Z"
   },
   {
    "duration": 20,
    "start_time": "2021-12-30T09:49:27.844Z"
   },
   {
    "duration": 23,
    "start_time": "2021-12-30T09:49:27.866Z"
   },
   {
    "duration": 20,
    "start_time": "2021-12-30T09:49:27.890Z"
   },
   {
    "duration": 50,
    "start_time": "2021-12-30T09:49:27.912Z"
   },
   {
    "duration": 20,
    "start_time": "2021-12-30T09:49:27.963Z"
   },
   {
    "duration": 6,
    "start_time": "2021-12-30T09:49:27.985Z"
   },
   {
    "duration": 13,
    "start_time": "2021-12-30T09:49:27.994Z"
   },
   {
    "duration": 35,
    "start_time": "2021-12-30T09:49:28.009Z"
   },
   {
    "duration": 4,
    "start_time": "2021-12-30T09:49:28.046Z"
   },
   {
    "duration": 36,
    "start_time": "2021-12-30T09:49:28.051Z"
   },
   {
    "duration": 31,
    "start_time": "2021-12-30T09:49:28.088Z"
   },
   {
    "duration": 2,
    "start_time": "2021-12-30T09:49:28.121Z"
   },
   {
    "duration": 2,
    "start_time": "2021-12-30T09:49:28.141Z"
   },
   {
    "duration": 7,
    "start_time": "2021-12-30T09:49:28.145Z"
   },
   {
    "duration": 8,
    "start_time": "2021-12-30T09:49:28.154Z"
   },
   {
    "duration": 7,
    "start_time": "2021-12-30T09:49:28.164Z"
   },
   {
    "duration": 8,
    "start_time": "2021-12-30T09:49:28.173Z"
   },
   {
    "duration": 34,
    "start_time": "2021-12-30T09:50:59.643Z"
   },
   {
    "duration": 36,
    "start_time": "2021-12-30T09:51:16.731Z"
   },
   {
    "duration": 37,
    "start_time": "2021-12-30T09:53:52.876Z"
   },
   {
    "duration": 2,
    "start_time": "2021-12-30T09:56:06.972Z"
   },
   {
    "duration": 153,
    "start_time": "2021-12-30T09:56:06.976Z"
   },
   {
    "duration": 11,
    "start_time": "2021-12-30T09:56:07.131Z"
   },
   {
    "duration": 27,
    "start_time": "2021-12-30T09:56:07.143Z"
   },
   {
    "duration": 27,
    "start_time": "2021-12-30T09:56:07.171Z"
   },
   {
    "duration": 43,
    "start_time": "2021-12-30T09:56:07.199Z"
   },
   {
    "duration": 5,
    "start_time": "2021-12-30T09:56:07.243Z"
   },
   {
    "duration": 30,
    "start_time": "2021-12-30T09:56:07.249Z"
   },
   {
    "duration": 33,
    "start_time": "2021-12-30T09:56:07.282Z"
   },
   {
    "duration": 40,
    "start_time": "2021-12-30T09:56:07.318Z"
   },
   {
    "duration": 79,
    "start_time": "2021-12-30T09:56:07.359Z"
   },
   {
    "duration": 61,
    "start_time": "2021-12-30T09:56:07.440Z"
   },
   {
    "duration": 58,
    "start_time": "2021-12-30T09:56:07.503Z"
   },
   {
    "duration": 5,
    "start_time": "2021-12-30T09:56:07.563Z"
   },
   {
    "duration": 15,
    "start_time": "2021-12-30T09:56:07.570Z"
   },
   {
    "duration": 31,
    "start_time": "2021-12-30T09:56:07.587Z"
   },
   {
    "duration": 41,
    "start_time": "2021-12-30T09:56:07.620Z"
   },
   {
    "duration": 21,
    "start_time": "2021-12-30T09:56:07.663Z"
   },
   {
    "duration": 21,
    "start_time": "2021-12-30T09:56:07.686Z"
   },
   {
    "duration": 6,
    "start_time": "2021-12-30T09:56:07.709Z"
   },
   {
    "duration": 55,
    "start_time": "2021-12-30T09:56:07.716Z"
   },
   {
    "duration": 22,
    "start_time": "2021-12-30T09:56:07.772Z"
   },
   {
    "duration": 24,
    "start_time": "2021-12-30T09:56:07.796Z"
   },
   {
    "duration": 36,
    "start_time": "2021-12-30T09:56:07.821Z"
   },
   {
    "duration": 29,
    "start_time": "2021-12-30T09:56:07.859Z"
   },
   {
    "duration": 20,
    "start_time": "2021-12-30T09:56:07.890Z"
   },
   {
    "duration": 11,
    "start_time": "2021-12-30T09:56:07.914Z"
   },
   {
    "duration": 14,
    "start_time": "2021-12-30T09:56:07.942Z"
   },
   {
    "duration": 15,
    "start_time": "2021-12-30T09:56:07.957Z"
   },
   {
    "duration": 9,
    "start_time": "2021-12-30T09:56:07.974Z"
   },
   {
    "duration": 60,
    "start_time": "2021-12-30T09:56:07.984Z"
   },
   {
    "duration": 34,
    "start_time": "2021-12-30T09:56:08.046Z"
   },
   {
    "duration": 37,
    "start_time": "2021-12-30T09:56:08.082Z"
   },
   {
    "duration": 55,
    "start_time": "2021-12-30T09:56:08.121Z"
   },
   {
    "duration": 3,
    "start_time": "2021-12-30T09:56:08.178Z"
   },
   {
    "duration": 16,
    "start_time": "2021-12-30T09:56:08.183Z"
   },
   {
    "duration": 11,
    "start_time": "2021-12-30T09:56:08.201Z"
   },
   {
    "duration": 20,
    "start_time": "2021-12-30T09:56:08.214Z"
   },
   {
    "duration": 26,
    "start_time": "2021-12-30T09:58:26.886Z"
   },
   {
    "duration": 25,
    "start_time": "2021-12-30T09:58:34.550Z"
   },
   {
    "duration": 25,
    "start_time": "2021-12-30T09:58:41.007Z"
   },
   {
    "duration": 4,
    "start_time": "2021-12-30T10:06:49.706Z"
   },
   {
    "duration": 17,
    "start_time": "2021-12-30T10:55:22.939Z"
   },
   {
    "duration": 12,
    "start_time": "2021-12-30T10:55:46.452Z"
   },
   {
    "duration": 42,
    "start_time": "2021-12-30T10:58:07.603Z"
   },
   {
    "duration": 17,
    "start_time": "2021-12-30T10:59:03.275Z"
   },
   {
    "duration": 19,
    "start_time": "2021-12-30T10:59:21.123Z"
   },
   {
    "duration": 12,
    "start_time": "2021-12-30T10:59:39.187Z"
   },
   {
    "duration": 11,
    "start_time": "2021-12-30T10:59:43.251Z"
   },
   {
    "duration": 4,
    "start_time": "2021-12-30T11:01:04.555Z"
   },
   {
    "duration": 33,
    "start_time": "2021-12-30T11:01:09.507Z"
   },
   {
    "duration": 4,
    "start_time": "2021-12-30T11:01:33.364Z"
   },
   {
    "duration": 5,
    "start_time": "2021-12-30T11:04:19.711Z"
   },
   {
    "duration": 225,
    "start_time": "2021-12-30T11:13:46.985Z"
   },
   {
    "duration": 67,
    "start_time": "2021-12-30T11:14:25.954Z"
   },
   {
    "duration": 66,
    "start_time": "2021-12-30T11:14:36.489Z"
   },
   {
    "duration": 66,
    "start_time": "2021-12-30T11:14:58.689Z"
   },
   {
    "duration": 200,
    "start_time": "2021-12-30T11:15:05.673Z"
   },
   {
    "duration": 192,
    "start_time": "2021-12-30T11:15:51.329Z"
   },
   {
    "duration": 13,
    "start_time": "2021-12-30T11:16:00.193Z"
   },
   {
    "duration": 211,
    "start_time": "2021-12-30T11:17:03.248Z"
   },
   {
    "duration": 5,
    "start_time": "2021-12-30T11:17:23.707Z"
   },
   {
    "duration": 8,
    "start_time": "2021-12-30T11:20:12.563Z"
   },
   {
    "duration": 6,
    "start_time": "2021-12-30T11:20:37.315Z"
   },
   {
    "duration": 9,
    "start_time": "2021-12-30T11:22:06.396Z"
   },
   {
    "duration": 5,
    "start_time": "2021-12-30T11:22:08.267Z"
   },
   {
    "duration": 7,
    "start_time": "2021-12-30T11:23:10.475Z"
   },
   {
    "duration": 6,
    "start_time": "2021-12-30T11:23:36.036Z"
   },
   {
    "duration": 4,
    "start_time": "2021-12-30T11:25:21.278Z"
   },
   {
    "duration": 26,
    "start_time": "2021-12-30T11:25:24.573Z"
   },
   {
    "duration": 16,
    "start_time": "2021-12-30T11:25:28.336Z"
   },
   {
    "duration": 31,
    "start_time": "2021-12-30T11:25:30.866Z"
   },
   {
    "duration": 18,
    "start_time": "2021-12-30T11:25:33.506Z"
   },
   {
    "duration": 4,
    "start_time": "2021-12-30T11:28:24.910Z"
   },
   {
    "duration": 26,
    "start_time": "2021-12-30T11:28:28.430Z"
   },
   {
    "duration": 16,
    "start_time": "2021-12-30T11:28:33.870Z"
   },
   {
    "duration": 28,
    "start_time": "2021-12-30T11:28:36.679Z"
   },
   {
    "duration": 17,
    "start_time": "2021-12-30T11:28:39.166Z"
   },
   {
    "duration": 3,
    "start_time": "2021-12-30T11:28:41.155Z"
   },
   {
    "duration": 140,
    "start_time": "2021-12-30T11:28:41.163Z"
   },
   {
    "duration": 10,
    "start_time": "2021-12-30T11:28:41.304Z"
   },
   {
    "duration": 147,
    "start_time": "2021-12-30T11:28:41.316Z"
   },
   {
    "duration": 8,
    "start_time": "2021-12-30T11:28:41.464Z"
   },
   {
    "duration": 22,
    "start_time": "2021-12-30T11:28:41.474Z"
   },
   {
    "duration": 4,
    "start_time": "2021-12-30T11:28:41.497Z"
   },
   {
    "duration": 33,
    "start_time": "2021-12-30T11:28:41.503Z"
   },
   {
    "duration": 19,
    "start_time": "2021-12-30T11:28:41.538Z"
   },
   {
    "duration": 21,
    "start_time": "2021-12-30T11:28:41.559Z"
   },
   {
    "duration": 60,
    "start_time": "2021-12-30T11:28:41.582Z"
   },
   {
    "duration": 58,
    "start_time": "2021-12-30T11:28:41.644Z"
   },
   {
    "duration": 58,
    "start_time": "2021-12-30T11:28:41.704Z"
   },
   {
    "duration": 5,
    "start_time": "2021-12-30T11:28:41.764Z"
   },
   {
    "duration": 10,
    "start_time": "2021-12-30T11:28:41.771Z"
   },
   {
    "duration": 12,
    "start_time": "2021-12-30T11:28:41.782Z"
   },
   {
    "duration": 5,
    "start_time": "2021-12-30T11:28:41.795Z"
   },
   {
    "duration": 9,
    "start_time": "2021-12-30T11:28:41.802Z"
   },
   {
    "duration": 29,
    "start_time": "2021-12-30T11:28:41.813Z"
   },
   {
    "duration": 3,
    "start_time": "2021-12-30T11:28:41.844Z"
   },
   {
    "duration": 34,
    "start_time": "2021-12-30T11:28:41.848Z"
   },
   {
    "duration": 20,
    "start_time": "2021-12-30T11:28:41.884Z"
   },
   {
    "duration": 40,
    "start_time": "2021-12-30T11:28:41.905Z"
   },
   {
    "duration": 19,
    "start_time": "2021-12-30T11:28:41.946Z"
   },
   {
    "duration": 21,
    "start_time": "2021-12-30T11:28:41.967Z"
   },
   {
    "duration": 19,
    "start_time": "2021-12-30T11:28:41.990Z"
   },
   {
    "duration": 7,
    "start_time": "2021-12-30T11:28:42.010Z"
   },
   {
    "duration": 11,
    "start_time": "2021-12-30T11:28:42.043Z"
   },
   {
    "duration": 12,
    "start_time": "2021-12-30T11:28:42.055Z"
   },
   {
    "duration": 4,
    "start_time": "2021-12-30T11:28:42.069Z"
   },
   {
    "duration": 33,
    "start_time": "2021-12-30T11:28:42.075Z"
   },
   {
    "duration": 33,
    "start_time": "2021-12-30T11:28:42.109Z"
   },
   {
    "duration": 28,
    "start_time": "2021-12-30T11:28:42.144Z"
   },
   {
    "duration": 17,
    "start_time": "2021-12-30T11:28:42.173Z"
   },
   {
    "duration": 9,
    "start_time": "2021-12-30T11:28:42.191Z"
   },
   {
    "duration": 4,
    "start_time": "2021-12-30T11:28:42.202Z"
   },
   {
    "duration": 35,
    "start_time": "2021-12-30T11:28:42.207Z"
   },
   {
    "duration": 4,
    "start_time": "2021-12-30T11:28:42.244Z"
   },
   {
    "duration": 740,
    "start_time": "2021-12-31T13:10:08.628Z"
   },
   {
    "duration": 147,
    "start_time": "2021-12-31T13:10:09.370Z"
   },
   {
    "duration": 18,
    "start_time": "2021-12-31T13:10:09.519Z"
   },
   {
    "duration": 11,
    "start_time": "2021-12-31T13:10:09.539Z"
   },
   {
    "duration": 5,
    "start_time": "2021-12-31T13:10:09.560Z"
   },
   {
    "duration": 23,
    "start_time": "2021-12-31T13:10:09.567Z"
   },
   {
    "duration": 4,
    "start_time": "2021-12-31T13:10:09.592Z"
   },
   {
    "duration": 29,
    "start_time": "2021-12-31T13:10:09.598Z"
   },
   {
    "duration": 40,
    "start_time": "2021-12-31T13:10:09.629Z"
   },
   {
    "duration": 27,
    "start_time": "2021-12-31T13:10:09.671Z"
   },
   {
    "duration": 70,
    "start_time": "2021-12-31T13:10:09.700Z"
   },
   {
    "duration": 68,
    "start_time": "2021-12-31T13:10:09.771Z"
   },
   {
    "duration": 68,
    "start_time": "2021-12-31T13:10:09.841Z"
   },
   {
    "duration": 7,
    "start_time": "2021-12-31T13:10:09.911Z"
   },
   {
    "duration": 5,
    "start_time": "2021-12-31T13:10:09.919Z"
   },
   {
    "duration": 13,
    "start_time": "2021-12-31T13:10:09.925Z"
   },
   {
    "duration": 23,
    "start_time": "2021-12-31T13:10:09.939Z"
   },
   {
    "duration": 11,
    "start_time": "2021-12-31T13:10:09.964Z"
   },
   {
    "duration": 13,
    "start_time": "2021-12-31T13:10:09.977Z"
   },
   {
    "duration": 5,
    "start_time": "2021-12-31T13:10:09.992Z"
   },
   {
    "duration": 68,
    "start_time": "2021-12-31T13:10:09.999Z"
   },
   {
    "duration": 23,
    "start_time": "2021-12-31T13:10:10.069Z"
   },
   {
    "duration": 27,
    "start_time": "2021-12-31T13:10:10.095Z"
   },
   {
    "duration": 44,
    "start_time": "2021-12-31T13:10:10.124Z"
   },
   {
    "duration": 30,
    "start_time": "2021-12-31T13:10:10.169Z"
   },
   {
    "duration": 25,
    "start_time": "2021-12-31T13:10:10.201Z"
   },
   {
    "duration": 7,
    "start_time": "2021-12-31T13:10:10.228Z"
   },
   {
    "duration": 13,
    "start_time": "2021-12-31T13:10:10.261Z"
   },
   {
    "duration": 10,
    "start_time": "2021-12-31T13:10:10.276Z"
   },
   {
    "duration": 4,
    "start_time": "2021-12-31T13:10:10.288Z"
   },
   {
    "duration": 39,
    "start_time": "2021-12-31T13:10:10.294Z"
   },
   {
    "duration": 39,
    "start_time": "2021-12-31T13:10:10.335Z"
   },
   {
    "duration": 43,
    "start_time": "2021-12-31T13:10:10.376Z"
   },
   {
    "duration": 19,
    "start_time": "2021-12-31T13:10:10.421Z"
   },
   {
    "duration": 26,
    "start_time": "2021-12-31T13:10:10.442Z"
   },
   {
    "duration": 9,
    "start_time": "2021-12-31T13:10:10.470Z"
   },
   {
    "duration": 22,
    "start_time": "2021-12-31T13:10:10.480Z"
   },
   {
    "duration": 23,
    "start_time": "2021-12-31T13:10:10.504Z"
   },
   {
    "duration": 467,
    "start_time": "2022-01-02T19:20:47.019Z"
   },
   {
    "duration": 461,
    "start_time": "2022-01-02T19:21:03.060Z"
   },
   {
    "duration": 805,
    "start_time": "2022-01-02T19:21:09.418Z"
   },
   {
    "duration": 180,
    "start_time": "2022-01-02T19:21:10.225Z"
   },
   {
    "duration": 24,
    "start_time": "2022-01-02T19:21:10.408Z"
   },
   {
    "duration": 26,
    "start_time": "2022-01-02T19:21:10.435Z"
   },
   {
    "duration": 6,
    "start_time": "2022-01-02T19:21:10.463Z"
   },
   {
    "duration": 26,
    "start_time": "2022-01-02T19:21:10.471Z"
   },
   {
    "duration": 6,
    "start_time": "2022-01-02T19:21:10.500Z"
   },
   {
    "duration": 66,
    "start_time": "2022-01-02T19:21:10.510Z"
   },
   {
    "duration": 22,
    "start_time": "2022-01-02T19:21:10.579Z"
   },
   {
    "duration": 28,
    "start_time": "2022-01-02T19:21:10.603Z"
   },
   {
    "duration": 80,
    "start_time": "2022-01-02T19:21:10.659Z"
   },
   {
    "duration": 118,
    "start_time": "2022-01-02T19:21:10.741Z"
   },
   {
    "duration": 74,
    "start_time": "2022-01-02T19:21:10.861Z"
   },
   {
    "duration": 22,
    "start_time": "2022-01-02T19:21:10.938Z"
   },
   {
    "duration": 4,
    "start_time": "2022-01-02T19:21:10.963Z"
   },
   {
    "duration": 19,
    "start_time": "2022-01-02T19:21:10.970Z"
   },
   {
    "duration": 9,
    "start_time": "2022-01-02T19:21:10.991Z"
   },
   {
    "duration": 23,
    "start_time": "2022-01-02T19:21:11.003Z"
   },
   {
    "duration": 46,
    "start_time": "2022-01-02T19:21:11.029Z"
   },
   {
    "duration": 6,
    "start_time": "2022-01-02T19:21:11.078Z"
   },
   {
    "duration": 40,
    "start_time": "2022-01-02T19:21:11.087Z"
   },
   {
    "duration": 59,
    "start_time": "2022-01-02T19:21:11.129Z"
   },
   {
    "duration": 34,
    "start_time": "2022-01-02T19:21:11.193Z"
   },
   {
    "duration": 51,
    "start_time": "2022-01-02T19:21:11.231Z"
   },
   {
    "duration": 34,
    "start_time": "2022-01-02T19:21:11.284Z"
   },
   {
    "duration": 56,
    "start_time": "2022-01-02T19:21:11.320Z"
   },
   {
    "duration": 9,
    "start_time": "2022-01-02T19:21:11.379Z"
   },
   {
    "duration": 17,
    "start_time": "2022-01-02T19:21:11.390Z"
   },
   {
    "duration": 11,
    "start_time": "2022-01-02T19:21:11.409Z"
   },
   {
    "duration": 6,
    "start_time": "2022-01-02T19:21:11.422Z"
   },
   {
    "duration": 63,
    "start_time": "2022-01-02T19:21:11.430Z"
   },
   {
    "duration": 22,
    "start_time": "2022-01-02T19:21:11.495Z"
   },
   {
    "duration": 68,
    "start_time": "2022-01-02T19:21:11.520Z"
   },
   {
    "duration": 22,
    "start_time": "2022-01-02T19:21:11.591Z"
   },
   {
    "duration": 13,
    "start_time": "2022-01-02T19:21:11.616Z"
   },
   {
    "duration": 8,
    "start_time": "2022-01-02T19:21:11.660Z"
   },
   {
    "duration": 12,
    "start_time": "2022-01-02T19:21:11.670Z"
   },
   {
    "duration": 7,
    "start_time": "2022-01-02T19:21:11.684Z"
   },
   {
    "duration": 32,
    "start_time": "2022-01-02T19:21:26.340Z"
   },
   {
    "duration": 4,
    "start_time": "2022-01-02T19:42:14.061Z"
   },
   {
    "duration": 680,
    "start_time": "2022-01-02T19:42:26.826Z"
   },
   {
    "duration": 4,
    "start_time": "2022-01-02T19:44:23.334Z"
   },
   {
    "duration": 20,
    "start_time": "2022-01-02T19:44:26.573Z"
   },
   {
    "duration": 12,
    "start_time": "2022-01-02T19:47:50.611Z"
   },
   {
    "duration": 12,
    "start_time": "2022-01-02T19:47:53.903Z"
   },
   {
    "duration": 13,
    "start_time": "2022-01-02T19:49:07.917Z"
   },
   {
    "duration": 113,
    "start_time": "2022-01-02T19:49:54.064Z"
   },
   {
    "duration": 5,
    "start_time": "2022-01-02T19:51:12.394Z"
   },
   {
    "duration": 5,
    "start_time": "2022-01-02T19:51:41.928Z"
   },
   {
    "duration": 708,
    "start_time": "2022-01-02T19:51:44.531Z"
   },
   {
    "duration": 5,
    "start_time": "2022-01-02T19:56:24.237Z"
   },
   {
    "duration": 34,
    "start_time": "2022-01-02T19:56:29.887Z"
   },
   {
    "duration": 54,
    "start_time": "2022-01-02T19:56:32.124Z"
   },
   {
    "duration": 25,
    "start_time": "2022-01-02T19:56:35.630Z"
   },
   {
    "duration": 4,
    "start_time": "2022-01-02T19:56:41.367Z"
   },
   {
    "duration": 31,
    "start_time": "2022-01-02T19:56:43.466Z"
   },
   {
    "duration": 25,
    "start_time": "2022-01-02T19:56:54.912Z"
   },
   {
    "duration": 32,
    "start_time": "2022-01-02T19:56:56.090Z"
   },
   {
    "duration": 25,
    "start_time": "2022-01-02T19:56:58.177Z"
   },
   {
    "duration": 5,
    "start_time": "2022-01-02T19:57:27.927Z"
   },
   {
    "duration": 32,
    "start_time": "2022-01-02T19:57:29.671Z"
   },
   {
    "duration": 28,
    "start_time": "2022-01-02T19:57:48.797Z"
   },
   {
    "duration": 5,
    "start_time": "2022-01-02T19:58:07.442Z"
   },
   {
    "duration": 32,
    "start_time": "2022-01-02T19:58:09.249Z"
   },
   {
    "duration": 25,
    "start_time": "2022-01-02T19:58:11.275Z"
   },
   {
    "duration": 5,
    "start_time": "2022-01-02T19:58:23.983Z"
   },
   {
    "duration": 33,
    "start_time": "2022-01-02T19:58:25.561Z"
   },
   {
    "duration": 109,
    "start_time": "2022-01-02T19:59:46.544Z"
   },
   {
    "duration": 5,
    "start_time": "2022-01-02T19:59:54.606Z"
   },
   {
    "duration": 31,
    "start_time": "2022-01-02T19:59:57.216Z"
   },
   {
    "duration": 25,
    "start_time": "2022-01-02T19:59:59.684Z"
   },
   {
    "duration": 29,
    "start_time": "2022-01-02T20:00:01.671Z"
   },
   {
    "duration": 24,
    "start_time": "2022-01-02T20:00:04.492Z"
   },
   {
    "duration": 29,
    "start_time": "2022-01-02T20:00:06.816Z"
   },
   {
    "duration": 25,
    "start_time": "2022-01-02T20:00:07.393Z"
   },
   {
    "duration": 9,
    "start_time": "2022-01-02T20:00:10.286Z"
   },
   {
    "duration": 4,
    "start_time": "2022-01-02T20:04:51.211Z"
   },
   {
    "duration": 203,
    "start_time": "2022-01-02T20:04:51.218Z"
   },
   {
    "duration": 35,
    "start_time": "2022-01-02T20:04:51.424Z"
   },
   {
    "duration": 32,
    "start_time": "2022-01-02T20:04:51.462Z"
   },
   {
    "duration": 8,
    "start_time": "2022-01-02T20:04:51.496Z"
   },
   {
    "duration": 19,
    "start_time": "2022-01-02T20:04:51.507Z"
   },
   {
    "duration": 5,
    "start_time": "2022-01-02T20:04:51.528Z"
   },
   {
    "duration": 31,
    "start_time": "2022-01-02T20:04:51.561Z"
   },
   {
    "duration": 24,
    "start_time": "2022-01-02T20:04:51.595Z"
   },
   {
    "duration": 58,
    "start_time": "2022-01-02T20:04:51.622Z"
   },
   {
    "duration": 94,
    "start_time": "2022-01-02T20:04:51.682Z"
   },
   {
    "duration": 100,
    "start_time": "2022-01-02T20:04:51.778Z"
   },
   {
    "duration": 81,
    "start_time": "2022-01-02T20:04:51.880Z"
   },
   {
    "duration": 8,
    "start_time": "2022-01-02T20:04:51.963Z"
   },
   {
    "duration": 4,
    "start_time": "2022-01-02T20:04:51.973Z"
   },
   {
    "duration": 23,
    "start_time": "2022-01-02T20:04:51.979Z"
   },
   {
    "duration": 8,
    "start_time": "2022-01-02T20:04:52.005Z"
   },
   {
    "duration": 55,
    "start_time": "2022-01-02T20:04:52.017Z"
   },
   {
    "duration": 16,
    "start_time": "2022-01-02T20:04:52.074Z"
   },
   {
    "duration": 5,
    "start_time": "2022-01-02T20:04:52.093Z"
   },
   {
    "duration": 67,
    "start_time": "2022-01-02T20:04:52.102Z"
   },
   {
    "duration": 27,
    "start_time": "2022-01-02T20:04:52.172Z"
   },
   {
    "duration": 59,
    "start_time": "2022-01-02T20:04:52.205Z"
   },
   {
    "duration": 23,
    "start_time": "2022-01-02T20:04:52.267Z"
   },
   {
    "duration": 28,
    "start_time": "2022-01-02T20:04:52.292Z"
   },
   {
    "duration": 52,
    "start_time": "2022-01-02T20:04:52.322Z"
   },
   {
    "duration": 8,
    "start_time": "2022-01-02T20:04:52.377Z"
   },
   {
    "duration": 21,
    "start_time": "2022-01-02T20:04:52.388Z"
   },
   {
    "duration": 48,
    "start_time": "2022-01-02T20:04:52.411Z"
   },
   {
    "duration": 5,
    "start_time": "2022-01-02T20:04:52.462Z"
   },
   {
    "duration": 39,
    "start_time": "2022-01-02T20:04:52.469Z"
   },
   {
    "duration": 20,
    "start_time": "2022-01-02T20:04:52.511Z"
   },
   {
    "duration": 60,
    "start_time": "2022-01-02T20:04:52.534Z"
   },
   {
    "duration": 22,
    "start_time": "2022-01-02T20:04:52.596Z"
   },
   {
    "duration": 46,
    "start_time": "2022-01-02T20:04:52.620Z"
   },
   {
    "duration": 7,
    "start_time": "2022-01-02T20:04:52.668Z"
   },
   {
    "duration": 15,
    "start_time": "2022-01-02T20:04:52.677Z"
   },
   {
    "duration": 7,
    "start_time": "2022-01-02T20:04:52.694Z"
   },
   {
    "duration": 11,
    "start_time": "2022-01-02T20:09:40.288Z"
   },
   {
    "duration": 11,
    "start_time": "2022-01-02T20:09:45.511Z"
   },
   {
    "duration": 10,
    "start_time": "2022-01-02T20:10:02.126Z"
   },
   {
    "duration": 8,
    "start_time": "2022-01-02T20:10:13.639Z"
   },
   {
    "duration": 12,
    "start_time": "2022-01-02T20:10:21.569Z"
   },
   {
    "duration": 9,
    "start_time": "2022-01-02T20:10:24.635Z"
   },
   {
    "duration": 5,
    "start_time": "2022-01-02T20:17:08.397Z"
   },
   {
    "duration": 29,
    "start_time": "2022-01-02T20:17:10.572Z"
   },
   {
    "duration": 24,
    "start_time": "2022-01-02T20:17:11.530Z"
   },
   {
    "duration": 29,
    "start_time": "2022-01-02T20:17:12.880Z"
   },
   {
    "duration": 24,
    "start_time": "2022-01-02T20:17:13.721Z"
   },
   {
    "duration": 29,
    "start_time": "2022-01-02T20:17:14.397Z"
   },
   {
    "duration": 27,
    "start_time": "2022-01-02T20:17:15.213Z"
   },
   {
    "duration": 4,
    "start_time": "2022-01-02T20:20:26.185Z"
   },
   {
    "duration": 11116,
    "start_time": "2022-01-02T20:20:30.435Z"
   },
   {
    "duration": -2386,
    "start_time": "2022-01-02T20:20:43.940Z"
   },
   {
    "duration": -2387,
    "start_time": "2022-01-02T20:20:43.943Z"
   },
   {
    "duration": -2393,
    "start_time": "2022-01-02T20:20:43.950Z"
   },
   {
    "duration": -2401,
    "start_time": "2022-01-02T20:20:43.960Z"
   },
   {
    "duration": -2408,
    "start_time": "2022-01-02T20:20:43.968Z"
   },
   {
    "duration": 5,
    "start_time": "2022-01-02T20:21:17.639Z"
   },
   {
    "duration": 30,
    "start_time": "2022-01-02T20:21:19.659Z"
   },
   {
    "duration": 24,
    "start_time": "2022-01-02T20:21:20.251Z"
   },
   {
    "duration": 28,
    "start_time": "2022-01-02T20:21:20.791Z"
   },
   {
    "duration": 25,
    "start_time": "2022-01-02T20:21:21.315Z"
   },
   {
    "duration": 32,
    "start_time": "2022-01-02T20:21:21.805Z"
   },
   {
    "duration": 25,
    "start_time": "2022-01-02T20:21:22.373Z"
   },
   {
    "duration": 4,
    "start_time": "2022-01-02T20:21:31.403Z"
   },
   {
    "duration": 208,
    "start_time": "2022-01-02T20:21:31.409Z"
   },
   {
    "duration": 14,
    "start_time": "2022-01-02T20:21:31.621Z"
   },
   {
    "duration": 45,
    "start_time": "2022-01-02T20:21:31.638Z"
   },
   {
    "duration": 5,
    "start_time": "2022-01-02T20:21:31.685Z"
   },
   {
    "duration": 15,
    "start_time": "2022-01-02T20:21:31.693Z"
   },
   {
    "duration": 5,
    "start_time": "2022-01-02T20:21:31.712Z"
   },
   {
    "duration": 64,
    "start_time": "2022-01-02T20:21:31.721Z"
   },
   {
    "duration": 23,
    "start_time": "2022-01-02T20:21:31.789Z"
   },
   {
    "duration": 57,
    "start_time": "2022-01-02T20:21:31.815Z"
   },
   {
    "duration": 104,
    "start_time": "2022-01-02T20:21:31.875Z"
   },
   {
    "duration": 99,
    "start_time": "2022-01-02T20:21:31.981Z"
   },
   {
    "duration": 82,
    "start_time": "2022-01-02T20:21:32.083Z"
   },
   {
    "duration": 8,
    "start_time": "2022-01-02T20:21:32.167Z"
   },
   {
    "duration": 14,
    "start_time": "2022-01-02T20:21:32.177Z"
   },
   {
    "duration": 27,
    "start_time": "2022-01-02T20:21:32.193Z"
   },
   {
    "duration": 8,
    "start_time": "2022-01-02T20:21:32.223Z"
   },
   {
    "duration": 38,
    "start_time": "2022-01-02T20:21:32.233Z"
   },
   {
    "duration": 14,
    "start_time": "2022-01-02T20:21:32.275Z"
   },
   {
    "duration": 5,
    "start_time": "2022-01-02T20:21:32.291Z"
   },
   {
    "duration": 62,
    "start_time": "2022-01-02T20:21:32.298Z"
   },
   {
    "duration": 25,
    "start_time": "2022-01-02T20:21:32.363Z"
   },
   {
    "duration": 28,
    "start_time": "2022-01-02T20:21:32.390Z"
   },
   {
    "duration": 56,
    "start_time": "2022-01-02T20:21:32.421Z"
   },
   {
    "duration": 31,
    "start_time": "2022-01-02T20:21:32.480Z"
   },
   {
    "duration": 54,
    "start_time": "2022-01-02T20:21:32.513Z"
   },
   {
    "duration": 10,
    "start_time": "2022-01-02T20:21:32.569Z"
   },
   {
    "duration": 19,
    "start_time": "2022-01-02T20:21:32.582Z"
   },
   {
    "duration": 16,
    "start_time": "2022-01-02T20:21:32.604Z"
   },
   {
    "duration": 38,
    "start_time": "2022-01-02T20:21:32.622Z"
   },
   {
    "duration": 47,
    "start_time": "2022-01-02T20:21:32.662Z"
   },
   {
    "duration": 22,
    "start_time": "2022-01-02T20:21:32.712Z"
   },
   {
    "duration": 58,
    "start_time": "2022-01-02T20:21:32.737Z"
   },
   {
    "duration": 24,
    "start_time": "2022-01-02T20:21:32.797Z"
   },
   {
    "duration": 38,
    "start_time": "2022-01-02T20:21:32.823Z"
   },
   {
    "duration": 8,
    "start_time": "2022-01-02T20:21:32.863Z"
   },
   {
    "duration": 12,
    "start_time": "2022-01-02T20:21:32.873Z"
   },
   {
    "duration": 7,
    "start_time": "2022-01-02T20:21:32.887Z"
   },
   {
    "duration": 4,
    "start_time": "2022-01-02T21:07:34.472Z"
   },
   {
    "duration": 677,
    "start_time": "2022-01-02T21:07:38.926Z"
   },
   {
    "duration": 3,
    "start_time": "2022-01-02T21:08:06.089Z"
   },
   {
    "duration": 210,
    "start_time": "2022-01-02T21:08:06.094Z"
   },
   {
    "duration": 16,
    "start_time": "2022-01-02T21:08:06.307Z"
   },
   {
    "duration": 54,
    "start_time": "2022-01-02T21:08:06.327Z"
   },
   {
    "duration": 7,
    "start_time": "2022-01-02T21:08:06.384Z"
   },
   {
    "duration": 23,
    "start_time": "2022-01-02T21:08:06.394Z"
   },
   {
    "duration": 41,
    "start_time": "2022-01-02T21:08:06.421Z"
   },
   {
    "duration": 32,
    "start_time": "2022-01-02T21:08:06.466Z"
   },
   {
    "duration": 23,
    "start_time": "2022-01-02T21:08:06.501Z"
   },
   {
    "duration": 31,
    "start_time": "2022-01-02T21:08:06.559Z"
   },
   {
    "duration": 105,
    "start_time": "2022-01-02T21:08:06.593Z"
   },
   {
    "duration": 101,
    "start_time": "2022-01-02T21:08:06.701Z"
   },
   {
    "duration": 96,
    "start_time": "2022-01-02T21:08:06.805Z"
   },
   {
    "duration": 9,
    "start_time": "2022-01-02T21:08:06.904Z"
   },
   {
    "duration": 5,
    "start_time": "2022-01-02T21:08:06.916Z"
   },
   {
    "duration": 752,
    "start_time": "2022-01-02T21:08:06.924Z"
   },
   {
    "duration": 561,
    "start_time": "2022-01-02T21:08:07.119Z"
   },
   {
    "duration": 558,
    "start_time": "2022-01-02T21:08:07.123Z"
   },
   {
    "duration": 549,
    "start_time": "2022-01-02T21:08:07.134Z"
   },
   {
    "duration": 546,
    "start_time": "2022-01-02T21:08:07.138Z"
   },
   {
    "duration": 544,
    "start_time": "2022-01-02T21:08:07.141Z"
   },
   {
    "duration": 541,
    "start_time": "2022-01-02T21:08:07.146Z"
   },
   {
    "duration": 539,
    "start_time": "2022-01-02T21:08:07.149Z"
   },
   {
    "duration": 538,
    "start_time": "2022-01-02T21:08:07.152Z"
   },
   {
    "duration": 522,
    "start_time": "2022-01-02T21:08:07.169Z"
   },
   {
    "duration": 520,
    "start_time": "2022-01-02T21:08:07.173Z"
   },
   {
    "duration": 514,
    "start_time": "2022-01-02T21:08:07.180Z"
   },
   {
    "duration": 503,
    "start_time": "2022-01-02T21:08:07.193Z"
   },
   {
    "duration": 500,
    "start_time": "2022-01-02T21:08:07.198Z"
   },
   {
    "duration": 485,
    "start_time": "2022-01-02T21:08:07.214Z"
   },
   {
    "duration": 474,
    "start_time": "2022-01-02T21:08:07.226Z"
   },
   {
    "duration": 460,
    "start_time": "2022-01-02T21:08:07.241Z"
   },
   {
    "duration": 456,
    "start_time": "2022-01-02T21:08:07.247Z"
   },
   {
    "duration": 443,
    "start_time": "2022-01-02T21:08:07.261Z"
   },
   {
    "duration": 430,
    "start_time": "2022-01-02T21:08:07.276Z"
   },
   {
    "duration": 416,
    "start_time": "2022-01-02T21:08:07.291Z"
   },
   {
    "duration": 412,
    "start_time": "2022-01-02T21:08:07.296Z"
   },
   {
    "duration": 400,
    "start_time": "2022-01-02T21:08:07.310Z"
   },
   {
    "duration": 323,
    "start_time": "2022-01-02T21:08:32.948Z"
   },
   {
    "duration": 5,
    "start_time": "2022-01-02T21:08:54.713Z"
   },
   {
    "duration": 334,
    "start_time": "2022-01-02T21:08:57.407Z"
   },
   {
    "duration": 4,
    "start_time": "2022-01-02T21:09:18.414Z"
   },
   {
    "duration": 21,
    "start_time": "2022-01-02T21:09:20.693Z"
   },
   {
    "duration": 5,
    "start_time": "2022-01-04T07:43:39.979Z"
   },
   {
    "duration": 1229,
    "start_time": "2022-01-04T07:43:45.505Z"
   },
   {
    "duration": 167,
    "start_time": "2022-01-04T07:43:46.737Z"
   },
   {
    "duration": 30,
    "start_time": "2022-01-04T07:43:46.907Z"
   },
   {
    "duration": 31,
    "start_time": "2022-01-04T07:43:46.940Z"
   },
   {
    "duration": 5,
    "start_time": "2022-01-04T07:43:46.974Z"
   },
   {
    "duration": 54,
    "start_time": "2022-01-04T07:43:46.982Z"
   },
   {
    "duration": 5,
    "start_time": "2022-01-04T07:43:47.038Z"
   },
   {
    "duration": 29,
    "start_time": "2022-01-04T07:43:47.047Z"
   },
   {
    "duration": 48,
    "start_time": "2022-01-04T07:43:47.080Z"
   },
   {
    "duration": 28,
    "start_time": "2022-01-04T07:43:47.131Z"
   },
   {
    "duration": 94,
    "start_time": "2022-01-04T07:43:47.161Z"
   },
   {
    "duration": 105,
    "start_time": "2022-01-04T07:43:47.258Z"
   },
   {
    "duration": 84,
    "start_time": "2022-01-04T07:43:47.366Z"
   },
   {
    "duration": 7,
    "start_time": "2022-01-04T07:43:47.453Z"
   },
   {
    "duration": 8,
    "start_time": "2022-01-04T07:43:47.463Z"
   },
   {
    "duration": 15,
    "start_time": "2022-01-04T07:43:47.473Z"
   },
   {
    "duration": 17,
    "start_time": "2022-01-04T07:43:47.490Z"
   },
   {
    "duration": 12,
    "start_time": "2022-01-04T07:43:47.524Z"
   },
   {
    "duration": 13,
    "start_time": "2022-01-04T07:43:47.538Z"
   },
   {
    "duration": 4,
    "start_time": "2022-01-04T07:43:47.554Z"
   },
   {
    "duration": 62,
    "start_time": "2022-01-04T07:43:47.561Z"
   },
   {
    "duration": 24,
    "start_time": "2022-01-04T07:43:47.626Z"
   },
   {
    "duration": 27,
    "start_time": "2022-01-04T07:43:47.655Z"
   },
   {
    "duration": 51,
    "start_time": "2022-01-04T07:43:47.686Z"
   },
   {
    "duration": 27,
    "start_time": "2022-01-04T07:43:47.740Z"
   },
   {
    "duration": 23,
    "start_time": "2022-01-04T07:43:47.769Z"
   },
   {
    "duration": 36,
    "start_time": "2022-01-04T07:43:47.794Z"
   },
   {
    "duration": 18,
    "start_time": "2022-01-04T07:43:47.832Z"
   },
   {
    "duration": 12,
    "start_time": "2022-01-04T07:43:47.852Z"
   },
   {
    "duration": 5,
    "start_time": "2022-01-04T07:43:47.866Z"
   },
   {
    "duration": 72,
    "start_time": "2022-01-04T07:43:47.874Z"
   },
   {
    "duration": 21,
    "start_time": "2022-01-04T07:43:47.948Z"
   },
   {
    "duration": 59,
    "start_time": "2022-01-04T07:43:47.972Z"
   },
   {
    "duration": 24,
    "start_time": "2022-01-04T07:43:48.034Z"
   },
   {
    "duration": 12,
    "start_time": "2022-01-04T07:43:48.061Z"
   },
   {
    "duration": 6,
    "start_time": "2022-01-04T07:43:48.076Z"
   },
   {
    "duration": 10,
    "start_time": "2022-01-04T07:43:48.124Z"
   },
   {
    "duration": 7,
    "start_time": "2022-01-04T07:43:48.136Z"
   }
  ],
  "colab": {
   "collapsed_sections": [
    "E0vqbgi9ay0H",
    "VUC88oWjTJw2"
   ],
   "name": "yandex_music_project_2021.2.ipynb",
   "provenance": []
  },
  "kernelspec": {
   "display_name": "Python 3",
   "language": "python",
   "name": "python3"
  },
  "language_info": {
   "codemirror_mode": {
    "name": "ipython",
    "version": 3
   },
   "file_extension": ".py",
   "mimetype": "text/x-python",
   "name": "python",
   "nbconvert_exporter": "python",
   "pygments_lexer": "ipython3",
   "version": "3.7.1"
  },
  "toc": {
   "base_numbering": 1,
   "nav_menu": {},
   "number_sections": true,
   "sideBar": true,
   "skip_h1_title": true,
   "title_cell": "Table of Contents",
   "title_sidebar": "Contents",
   "toc_cell": false,
   "toc_position": {},
   "toc_section_display": true,
   "toc_window_display": false
  }
 },
 "nbformat": 4,
 "nbformat_minor": 1
}
