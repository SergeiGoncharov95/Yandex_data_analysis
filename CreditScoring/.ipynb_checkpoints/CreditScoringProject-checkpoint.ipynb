{
 "cells": [
  {
   "cell_type": "markdown",
   "metadata": {},
   "source": [
    "# Исследование надёжности заёмщиков\n",
    "\n",
    "Заказчик — кредитный отдел банка. Нужно разобраться, влияет ли семейное положение и количество детей клиента на факт погашения кредита в срок. Входные данные от банка — статистика о платёжеспособности клиентов.\n",
    "\n",
    "Результаты исследования будут учтены при построении модели **кредитного скоринга** — специальной системы, которая оценивает способность потенциального заёмщика вернуть кредит банку."
   ]
  },
  {
   "cell_type": "markdown",
   "metadata": {},
   "source": [
    "## Шаг 1. Откройте файл с данными и изучите общую информацию"
   ]
  },
  {
   "cell_type": "code",
   "execution_count": 122,
   "metadata": {},
   "outputs": [
    {
     "name": "stdout",
     "output_type": "stream",
     "text": [
      "<class 'pandas.core.frame.DataFrame'>\n",
      "RangeIndex: 21525 entries, 0 to 21524\n",
      "Data columns (total 12 columns):\n",
      "children            21525 non-null int64\n",
      "days_employed       19351 non-null float64\n",
      "dob_years           21525 non-null int64\n",
      "education           21525 non-null object\n",
      "education_id        21525 non-null int64\n",
      "family_status       21525 non-null object\n",
      "family_status_id    21525 non-null int64\n",
      "gender              21525 non-null object\n",
      "income_type         21525 non-null object\n",
      "debt                21525 non-null int64\n",
      "total_income        19351 non-null float64\n",
      "purpose             21525 non-null object\n",
      "dtypes: float64(2), int64(5), object(5)\n",
      "memory usage: 2.0+ MB\n"
     ]
    }
   ],
   "source": [
    "import pandas as pd\n",
    "data = pd.read_csv('/datasets/data.csv')\n",
    "data.info()"
   ]
  },
  {
   "cell_type": "code",
   "execution_count": 123,
   "metadata": {
    "scrolled": true
   },
   "outputs": [
    {
     "data": {
      "text/html": [
       "<div>\n",
       "<style scoped>\n",
       "    .dataframe tbody tr th:only-of-type {\n",
       "        vertical-align: middle;\n",
       "    }\n",
       "\n",
       "    .dataframe tbody tr th {\n",
       "        vertical-align: top;\n",
       "    }\n",
       "\n",
       "    .dataframe thead th {\n",
       "        text-align: right;\n",
       "    }\n",
       "</style>\n",
       "<table border=\"1\" class=\"dataframe\">\n",
       "  <thead>\n",
       "    <tr style=\"text-align: right;\">\n",
       "      <th></th>\n",
       "      <th>children</th>\n",
       "      <th>days_employed</th>\n",
       "      <th>dob_years</th>\n",
       "      <th>education</th>\n",
       "      <th>education_id</th>\n",
       "      <th>family_status</th>\n",
       "      <th>family_status_id</th>\n",
       "      <th>gender</th>\n",
       "      <th>income_type</th>\n",
       "      <th>debt</th>\n",
       "      <th>total_income</th>\n",
       "      <th>purpose</th>\n",
       "    </tr>\n",
       "  </thead>\n",
       "  <tbody>\n",
       "    <tr>\n",
       "      <td>0</td>\n",
       "      <td>1</td>\n",
       "      <td>-8437.673028</td>\n",
       "      <td>42</td>\n",
       "      <td>высшее</td>\n",
       "      <td>0</td>\n",
       "      <td>женат / замужем</td>\n",
       "      <td>0</td>\n",
       "      <td>F</td>\n",
       "      <td>сотрудник</td>\n",
       "      <td>0</td>\n",
       "      <td>253875.639453</td>\n",
       "      <td>покупка жилья</td>\n",
       "    </tr>\n",
       "    <tr>\n",
       "      <td>1</td>\n",
       "      <td>1</td>\n",
       "      <td>-4024.803754</td>\n",
       "      <td>36</td>\n",
       "      <td>среднее</td>\n",
       "      <td>1</td>\n",
       "      <td>женат / замужем</td>\n",
       "      <td>0</td>\n",
       "      <td>F</td>\n",
       "      <td>сотрудник</td>\n",
       "      <td>0</td>\n",
       "      <td>112080.014102</td>\n",
       "      <td>приобретение автомобиля</td>\n",
       "    </tr>\n",
       "    <tr>\n",
       "      <td>2</td>\n",
       "      <td>0</td>\n",
       "      <td>-5623.422610</td>\n",
       "      <td>33</td>\n",
       "      <td>Среднее</td>\n",
       "      <td>1</td>\n",
       "      <td>женат / замужем</td>\n",
       "      <td>0</td>\n",
       "      <td>M</td>\n",
       "      <td>сотрудник</td>\n",
       "      <td>0</td>\n",
       "      <td>145885.952297</td>\n",
       "      <td>покупка жилья</td>\n",
       "    </tr>\n",
       "    <tr>\n",
       "      <td>3</td>\n",
       "      <td>3</td>\n",
       "      <td>-4124.747207</td>\n",
       "      <td>32</td>\n",
       "      <td>среднее</td>\n",
       "      <td>1</td>\n",
       "      <td>женат / замужем</td>\n",
       "      <td>0</td>\n",
       "      <td>M</td>\n",
       "      <td>сотрудник</td>\n",
       "      <td>0</td>\n",
       "      <td>267628.550329</td>\n",
       "      <td>дополнительное образование</td>\n",
       "    </tr>\n",
       "    <tr>\n",
       "      <td>4</td>\n",
       "      <td>0</td>\n",
       "      <td>340266.072047</td>\n",
       "      <td>53</td>\n",
       "      <td>среднее</td>\n",
       "      <td>1</td>\n",
       "      <td>гражданский брак</td>\n",
       "      <td>1</td>\n",
       "      <td>F</td>\n",
       "      <td>пенсионер</td>\n",
       "      <td>0</td>\n",
       "      <td>158616.077870</td>\n",
       "      <td>сыграть свадьбу</td>\n",
       "    </tr>\n",
       "    <tr>\n",
       "      <td>5</td>\n",
       "      <td>0</td>\n",
       "      <td>-926.185831</td>\n",
       "      <td>27</td>\n",
       "      <td>высшее</td>\n",
       "      <td>0</td>\n",
       "      <td>гражданский брак</td>\n",
       "      <td>1</td>\n",
       "      <td>M</td>\n",
       "      <td>компаньон</td>\n",
       "      <td>0</td>\n",
       "      <td>255763.565419</td>\n",
       "      <td>покупка жилья</td>\n",
       "    </tr>\n",
       "    <tr>\n",
       "      <td>6</td>\n",
       "      <td>0</td>\n",
       "      <td>-2879.202052</td>\n",
       "      <td>43</td>\n",
       "      <td>высшее</td>\n",
       "      <td>0</td>\n",
       "      <td>женат / замужем</td>\n",
       "      <td>0</td>\n",
       "      <td>F</td>\n",
       "      <td>компаньон</td>\n",
       "      <td>0</td>\n",
       "      <td>240525.971920</td>\n",
       "      <td>операции с жильем</td>\n",
       "    </tr>\n",
       "    <tr>\n",
       "      <td>7</td>\n",
       "      <td>0</td>\n",
       "      <td>-152.779569</td>\n",
       "      <td>50</td>\n",
       "      <td>СРЕДНЕЕ</td>\n",
       "      <td>1</td>\n",
       "      <td>женат / замужем</td>\n",
       "      <td>0</td>\n",
       "      <td>M</td>\n",
       "      <td>сотрудник</td>\n",
       "      <td>0</td>\n",
       "      <td>135823.934197</td>\n",
       "      <td>образование</td>\n",
       "    </tr>\n",
       "    <tr>\n",
       "      <td>8</td>\n",
       "      <td>2</td>\n",
       "      <td>-6929.865299</td>\n",
       "      <td>35</td>\n",
       "      <td>ВЫСШЕЕ</td>\n",
       "      <td>0</td>\n",
       "      <td>гражданский брак</td>\n",
       "      <td>1</td>\n",
       "      <td>F</td>\n",
       "      <td>сотрудник</td>\n",
       "      <td>0</td>\n",
       "      <td>95856.832424</td>\n",
       "      <td>на проведение свадьбы</td>\n",
       "    </tr>\n",
       "    <tr>\n",
       "      <td>9</td>\n",
       "      <td>0</td>\n",
       "      <td>-2188.756445</td>\n",
       "      <td>41</td>\n",
       "      <td>среднее</td>\n",
       "      <td>1</td>\n",
       "      <td>женат / замужем</td>\n",
       "      <td>0</td>\n",
       "      <td>M</td>\n",
       "      <td>сотрудник</td>\n",
       "      <td>0</td>\n",
       "      <td>144425.938277</td>\n",
       "      <td>покупка жилья для семьи</td>\n",
       "    </tr>\n",
       "  </tbody>\n",
       "</table>\n",
       "</div>"
      ],
      "text/plain": [
       "   children  days_employed  dob_years education  education_id  \\\n",
       "0         1   -8437.673028         42    высшее             0   \n",
       "1         1   -4024.803754         36   среднее             1   \n",
       "2         0   -5623.422610         33   Среднее             1   \n",
       "3         3   -4124.747207         32   среднее             1   \n",
       "4         0  340266.072047         53   среднее             1   \n",
       "5         0    -926.185831         27    высшее             0   \n",
       "6         0   -2879.202052         43    высшее             0   \n",
       "7         0    -152.779569         50   СРЕДНЕЕ             1   \n",
       "8         2   -6929.865299         35    ВЫСШЕЕ             0   \n",
       "9         0   -2188.756445         41   среднее             1   \n",
       "\n",
       "      family_status  family_status_id gender income_type  debt   total_income  \\\n",
       "0   женат / замужем                 0      F   сотрудник     0  253875.639453   \n",
       "1   женат / замужем                 0      F   сотрудник     0  112080.014102   \n",
       "2   женат / замужем                 0      M   сотрудник     0  145885.952297   \n",
       "3   женат / замужем                 0      M   сотрудник     0  267628.550329   \n",
       "4  гражданский брак                 1      F   пенсионер     0  158616.077870   \n",
       "5  гражданский брак                 1      M   компаньон     0  255763.565419   \n",
       "6   женат / замужем                 0      F   компаньон     0  240525.971920   \n",
       "7   женат / замужем                 0      M   сотрудник     0  135823.934197   \n",
       "8  гражданский брак                 1      F   сотрудник     0   95856.832424   \n",
       "9   женат / замужем                 0      M   сотрудник     0  144425.938277   \n",
       "\n",
       "                      purpose  \n",
       "0               покупка жилья  \n",
       "1     приобретение автомобиля  \n",
       "2               покупка жилья  \n",
       "3  дополнительное образование  \n",
       "4             сыграть свадьбу  \n",
       "5               покупка жилья  \n",
       "6           операции с жильем  \n",
       "7                 образование  \n",
       "8       на проведение свадьбы  \n",
       "9     покупка жилья для семьи  "
      ]
     },
     "metadata": {},
     "output_type": "display_data"
    }
   ],
   "source": [
    "display(data.head(10))"
   ]
  },
  {
   "cell_type": "markdown",
   "metadata": {},
   "source": [
    "**Вывод**"
   ]
  },
  {
   "cell_type": "markdown",
   "metadata": {},
   "source": [
    "Файл содержит 12 столбцов и 21525 строк с разными типами данных. Исходя из общей информации о файле в столбах 'days_employed' и 'total_income' встречаются пропуски данных, а в стобце 'days_employed' ещё содержатся отрицательные значения, но трудовой стаж не может быть отрицательным значением, следовательно это ошибка в данных. В столбцах days_employed и total_income содержатся вещественные числа, что также ослажняет работы с этими данными. Стоит обратить внимание и на столбц 'education', в нём значения написаны в разном регистре из-за этого одни и теже значения при обработке буду восприниматься как разные, это дубликаты, необходимо обработать их."
   ]
  },
  {
   "cell_type": "markdown",
   "metadata": {},
   "source": [
    "## Шаг 2. Предобработка данных"
   ]
  },
  {
   "cell_type": "markdown",
   "metadata": {},
   "source": [
    "### Обработка пропусков"
   ]
  },
  {
   "cell_type": "code",
   "execution_count": 124,
   "metadata": {},
   "outputs": [
    {
     "data": {
      "text/plain": [
       "children               0\n",
       "days_employed       2174\n",
       "dob_years              0\n",
       "education              0\n",
       "education_id           0\n",
       "family_status          0\n",
       "family_status_id       0\n",
       "gender                 0\n",
       "income_type            0\n",
       "debt                   0\n",
       "total_income        2174\n",
       "purpose                0\n",
       "dtype: int64"
      ]
     },
     "execution_count": 124,
     "metadata": {},
     "output_type": "execute_result"
    }
   ],
   "source": [
    "data.isna().sum()"
   ]
  },
  {
   "cell_type": "code",
   "execution_count": 125,
   "metadata": {
    "scrolled": true
   },
   "outputs": [
    {
     "data": {
      "text/plain": [
       "0      -8437.673028\n",
       "1      -4024.803754\n",
       "2      -5623.422610\n",
       "3      -4124.747207\n",
       "4     340266.072047\n",
       "5       -926.185831\n",
       "6      -2879.202052\n",
       "7       -152.779569\n",
       "8      -6929.865299\n",
       "9      -2188.756445\n",
       "10     -4171.483647\n",
       "11      -792.701887\n",
       "12              NaN\n",
       "13     -1846.641941\n",
       "14     -1844.956182\n",
       "15      -972.364419\n",
       "16     -1719.934226\n",
       "17     -2369.999720\n",
       "18    400281.136913\n",
       "19    -10038.818549\n",
       "Name: days_employed, dtype: float64"
      ]
     },
     "execution_count": 125,
     "metadata": {},
     "output_type": "execute_result"
    }
   ],
   "source": [
    "data['days_employed'].head(20)"
   ]
  },
  {
   "cell_type": "markdown",
   "metadata": {},
   "source": [
    "В столбце 'days_employed' содержатся отрицательные значения, но трудовой стаж не может быть отрицательным значением, следовательно это ошибка в данных, седалем все значения данного столбца положительными"
   ]
  },
  {
   "cell_type": "code",
   "execution_count": 126,
   "metadata": {},
   "outputs": [
    {
     "name": "stdout",
     "output_type": "stream",
     "text": [
      "0       8437.673028\n",
      "1       4024.803754\n",
      "2       5623.422610\n",
      "3       4124.747207\n",
      "4     340266.072047\n",
      "5        926.185831\n",
      "6       2879.202052\n",
      "7        152.779569\n",
      "8       6929.865299\n",
      "9       2188.756445\n",
      "10      4171.483647\n",
      "11       792.701887\n",
      "12              NaN\n",
      "13      1846.641941\n",
      "14      1844.956182\n",
      "Name: days_employed, dtype: float64\n"
     ]
    }
   ],
   "source": [
    "import numpy as np # ипортирую библиотеку numpy\n",
    "data['days_employed'] = np.abs(data['days_employed']) # делаю абсалютные значения из значений столбца 'days_employed'\n",
    "print(data['days_employed'].head(15))"
   ]
  },
  {
   "cell_type": "code",
   "execution_count": 127,
   "metadata": {},
   "outputs": [
    {
     "data": {
      "text/plain": [
       "0     253875.639453\n",
       "1     112080.014102\n",
       "2     145885.952297\n",
       "3     267628.550329\n",
       "4     158616.077870\n",
       "5     255763.565419\n",
       "6     240525.971920\n",
       "7     135823.934197\n",
       "8      95856.832424\n",
       "9     144425.938277\n",
       "10    113943.491460\n",
       "11     77069.234271\n",
       "12              NaN\n",
       "13    130458.228857\n",
       "14    165127.911772\n",
       "15    116820.904450\n",
       "16    289202.704229\n",
       "17     90410.586745\n",
       "18     56823.777243\n",
       "19    242831.107982\n",
       "Name: total_income, dtype: float64"
      ]
     },
     "execution_count": 127,
     "metadata": {},
     "output_type": "execute_result"
    }
   ],
   "source": [
    "data['total_income'].head(20)"
   ]
  },
  {
   "cell_type": "markdown",
   "metadata": {},
   "source": [
    "В столбцах days_employed и total_income 2174 пропущенных значений. Количество пропусков в обоих столбах и номера строк где отсутсвуют значения совпадают. Столбец days_employed - это общий трудовой стаж в днях, столбец total_income — ежемесячный доход, видимо, эти клиенты не давали данные о данных параметрах. В данных столбцах хранятся количественные переменные, пропущенные значения в столбце days_employed заменим на средние значения из данного столбца. Также можно заменить пропущенные значения в столбце total_income средними значениями этого столбца."
   ]
  },
  {
   "cell_type": "markdown",
   "metadata": {},
   "source": [
    "Найдем среднее значение ежемесячного дохода (столбц total_income)"
   ]
  },
  {
   "cell_type": "code",
   "execution_count": 128,
   "metadata": {},
   "outputs": [
    {
     "name": "stdout",
     "output_type": "stream",
     "text": [
      "145017.93753253992\n"
     ]
    }
   ],
   "source": [
    "total_income_median = data['total_income'].dropna() # сначала удаляю пропуски из столбца 'total_income'\n",
    "total_income_median = total_income_median.median() # нахожу среднее значение столбца 'total_income'\n",
    "print(total_income_median)"
   ]
  },
  {
   "cell_type": "markdown",
   "metadata": {},
   "source": [
    "Заполним пропуски в столбце total_income средними значениями этого столбца"
   ]
  },
  {
   "cell_type": "code",
   "execution_count": 129,
   "metadata": {},
   "outputs": [
    {
     "name": "stdout",
     "output_type": "stream",
     "text": [
      "0     253875.639453\n",
      "1     112080.014102\n",
      "2     145885.952297\n",
      "3     267628.550329\n",
      "4     158616.077870\n",
      "5     255763.565419\n",
      "6     240525.971920\n",
      "7     135823.934197\n",
      "8      95856.832424\n",
      "9     144425.938277\n",
      "10    113943.491460\n",
      "11     77069.234271\n",
      "12    145017.937533\n",
      "13    130458.228857\n",
      "14    165127.911772\n",
      "Name: total_income, dtype: float64\n"
     ]
    }
   ],
   "source": [
    "data['total_income'] = data['total_income'].fillna(total_income_median)\n",
    "print(data['total_income'].head(15))"
   ]
  },
  {
   "cell_type": "markdown",
   "metadata": {},
   "source": [
    "Найдём среднее значение общего трудового стажа (столбец days_employed)"
   ]
  },
  {
   "cell_type": "code",
   "execution_count": 130,
   "metadata": {},
   "outputs": [
    {
     "name": "stdout",
     "output_type": "stream",
     "text": [
      "2194.220566878695\n"
     ]
    }
   ],
   "source": [
    "days_employed_median = data['days_employed'].dropna() # сначала удаляю пропуски из столбца 'days_employed'\n",
    "days_employed_median = days_employed_median.median() # нахожу среднее значение столбца 'days_employed_mean'\n",
    "print(days_employed_median)"
   ]
  },
  {
   "cell_type": "markdown",
   "metadata": {},
   "source": [
    "Заполним пропуски в столбце days_employed средними значениями этого столбца"
   ]
  },
  {
   "cell_type": "code",
   "execution_count": 131,
   "metadata": {},
   "outputs": [
    {
     "name": "stdout",
     "output_type": "stream",
     "text": [
      "0       8437.673028\n",
      "1       4024.803754\n",
      "2       5623.422610\n",
      "3       4124.747207\n",
      "4     340266.072047\n",
      "5        926.185831\n",
      "6       2879.202052\n",
      "7        152.779569\n",
      "8       6929.865299\n",
      "9       2188.756445\n",
      "10      4171.483647\n",
      "11       792.701887\n",
      "12      2194.220567\n",
      "13      1846.641941\n",
      "14      1844.956182\n",
      "Name: days_employed, dtype: float64\n"
     ]
    }
   ],
   "source": [
    "data['days_employed'] = data['days_employed'].fillna(days_employed_median)\n",
    "print(data['days_employed'].head(15))"
   ]
  },
  {
   "cell_type": "markdown",
   "metadata": {},
   "source": [
    "**Вывод**"
   ]
  },
  {
   "cell_type": "markdown",
   "metadata": {},
   "source": [
    "Удалось заменить пропуски в столбцах 'days_employed' и 'total_income' на средние значения, также удалось устранить ошибки в данных в столбце 'days_employed'. В этом столбце были отрицательные значения, что не может быть в реальной жизни, поэтому заменил их на абсолютные значения из данного столбца."
   ]
  },
  {
   "cell_type": "markdown",
   "metadata": {},
   "source": [
    "### Замена типа данных"
   ]
  },
  {
   "cell_type": "code",
   "execution_count": 132,
   "metadata": {
    "scrolled": true
   },
   "outputs": [
    {
     "name": "stdout",
     "output_type": "stream",
     "text": [
      "<class 'pandas.core.frame.DataFrame'>\n",
      "RangeIndex: 21525 entries, 0 to 21524\n",
      "Data columns (total 12 columns):\n",
      "children            21525 non-null int64\n",
      "days_employed       21525 non-null float64\n",
      "dob_years           21525 non-null int64\n",
      "education           21525 non-null object\n",
      "education_id        21525 non-null int64\n",
      "family_status       21525 non-null object\n",
      "family_status_id    21525 non-null int64\n",
      "gender              21525 non-null object\n",
      "income_type         21525 non-null object\n",
      "debt                21525 non-null int64\n",
      "total_income        21525 non-null float64\n",
      "purpose             21525 non-null object\n",
      "dtypes: float64(2), int64(5), object(5)\n",
      "memory usage: 2.0+ MB\n"
     ]
    }
   ],
   "source": [
    "data.info()"
   ]
  },
  {
   "cell_type": "markdown",
   "metadata": {},
   "source": [
    "В столбцах days_employed и total_income  содержатся вещественные числа, сделаем их целочисленными"
   ]
  },
  {
   "cell_type": "code",
   "execution_count": 133,
   "metadata": {},
   "outputs": [
    {
     "name": "stdout",
     "output_type": "stream",
     "text": [
      "<class 'pandas.core.frame.DataFrame'>\n",
      "RangeIndex: 21525 entries, 0 to 21524\n",
      "Data columns (total 12 columns):\n",
      "children            21525 non-null int64\n",
      "days_employed       21525 non-null int64\n",
      "dob_years           21525 non-null int64\n",
      "education           21525 non-null object\n",
      "education_id        21525 non-null int64\n",
      "family_status       21525 non-null object\n",
      "family_status_id    21525 non-null int64\n",
      "gender              21525 non-null object\n",
      "income_type         21525 non-null object\n",
      "debt                21525 non-null int64\n",
      "total_income        21525 non-null int64\n",
      "purpose             21525 non-null object\n",
      "dtypes: int64(7), object(5)\n",
      "memory usage: 2.0+ MB\n"
     ]
    }
   ],
   "source": [
    "data['days_employed'] = data['days_employed'].astype('int') # изменяю тип данных в столбце 'days_employed'\n",
    "data['total_income'] = data['total_income'].astype('int') # изменяю тип данных в стлбце total_income' \n",
    "data.info()"
   ]
  },
  {
   "cell_type": "markdown",
   "metadata": {},
   "source": [
    "**Вывод**"
   ]
  },
  {
   "cell_type": "markdown",
   "metadata": {},
   "source": [
    "Для этого применим метод astype, так как он может изменить тип данных во всем столбе сразу, в отличие от, например, метода int(), который изменяет тип одного значения. После проверки общей информации о data потдвердилось, что тип данных в столбцах 'total_income' и 'days_employed' изменился"
   ]
  },
  {
   "cell_type": "markdown",
   "metadata": {},
   "source": [
    "### Обработка дубликатов"
   ]
  },
  {
   "cell_type": "code",
   "execution_count": 134,
   "metadata": {},
   "outputs": [
    {
     "data": {
      "text/html": [
       "<div>\n",
       "<style scoped>\n",
       "    .dataframe tbody tr th:only-of-type {\n",
       "        vertical-align: middle;\n",
       "    }\n",
       "\n",
       "    .dataframe tbody tr th {\n",
       "        vertical-align: top;\n",
       "    }\n",
       "\n",
       "    .dataframe thead th {\n",
       "        text-align: right;\n",
       "    }\n",
       "</style>\n",
       "<table border=\"1\" class=\"dataframe\">\n",
       "  <thead>\n",
       "    <tr style=\"text-align: right;\">\n",
       "      <th></th>\n",
       "      <th>children</th>\n",
       "      <th>days_employed</th>\n",
       "      <th>dob_years</th>\n",
       "      <th>education</th>\n",
       "      <th>education_id</th>\n",
       "      <th>family_status</th>\n",
       "      <th>family_status_id</th>\n",
       "      <th>gender</th>\n",
       "      <th>income_type</th>\n",
       "      <th>debt</th>\n",
       "      <th>total_income</th>\n",
       "      <th>purpose</th>\n",
       "    </tr>\n",
       "  </thead>\n",
       "  <tbody>\n",
       "    <tr>\n",
       "      <td>0</td>\n",
       "      <td>1</td>\n",
       "      <td>8437</td>\n",
       "      <td>42</td>\n",
       "      <td>высшее</td>\n",
       "      <td>0</td>\n",
       "      <td>женат / замужем</td>\n",
       "      <td>0</td>\n",
       "      <td>F</td>\n",
       "      <td>сотрудник</td>\n",
       "      <td>0</td>\n",
       "      <td>253875</td>\n",
       "      <td>покупка жилья</td>\n",
       "    </tr>\n",
       "    <tr>\n",
       "      <td>1</td>\n",
       "      <td>1</td>\n",
       "      <td>4024</td>\n",
       "      <td>36</td>\n",
       "      <td>среднее</td>\n",
       "      <td>1</td>\n",
       "      <td>женат / замужем</td>\n",
       "      <td>0</td>\n",
       "      <td>F</td>\n",
       "      <td>сотрудник</td>\n",
       "      <td>0</td>\n",
       "      <td>112080</td>\n",
       "      <td>приобретение автомобиля</td>\n",
       "    </tr>\n",
       "    <tr>\n",
       "      <td>2</td>\n",
       "      <td>0</td>\n",
       "      <td>5623</td>\n",
       "      <td>33</td>\n",
       "      <td>Среднее</td>\n",
       "      <td>1</td>\n",
       "      <td>женат / замужем</td>\n",
       "      <td>0</td>\n",
       "      <td>M</td>\n",
       "      <td>сотрудник</td>\n",
       "      <td>0</td>\n",
       "      <td>145885</td>\n",
       "      <td>покупка жилья</td>\n",
       "    </tr>\n",
       "    <tr>\n",
       "      <td>3</td>\n",
       "      <td>3</td>\n",
       "      <td>4124</td>\n",
       "      <td>32</td>\n",
       "      <td>среднее</td>\n",
       "      <td>1</td>\n",
       "      <td>женат / замужем</td>\n",
       "      <td>0</td>\n",
       "      <td>M</td>\n",
       "      <td>сотрудник</td>\n",
       "      <td>0</td>\n",
       "      <td>267628</td>\n",
       "      <td>дополнительное образование</td>\n",
       "    </tr>\n",
       "    <tr>\n",
       "      <td>4</td>\n",
       "      <td>0</td>\n",
       "      <td>340266</td>\n",
       "      <td>53</td>\n",
       "      <td>среднее</td>\n",
       "      <td>1</td>\n",
       "      <td>гражданский брак</td>\n",
       "      <td>1</td>\n",
       "      <td>F</td>\n",
       "      <td>пенсионер</td>\n",
       "      <td>0</td>\n",
       "      <td>158616</td>\n",
       "      <td>сыграть свадьбу</td>\n",
       "    </tr>\n",
       "    <tr>\n",
       "      <td>5</td>\n",
       "      <td>0</td>\n",
       "      <td>926</td>\n",
       "      <td>27</td>\n",
       "      <td>высшее</td>\n",
       "      <td>0</td>\n",
       "      <td>гражданский брак</td>\n",
       "      <td>1</td>\n",
       "      <td>M</td>\n",
       "      <td>компаньон</td>\n",
       "      <td>0</td>\n",
       "      <td>255763</td>\n",
       "      <td>покупка жилья</td>\n",
       "    </tr>\n",
       "    <tr>\n",
       "      <td>6</td>\n",
       "      <td>0</td>\n",
       "      <td>2879</td>\n",
       "      <td>43</td>\n",
       "      <td>высшее</td>\n",
       "      <td>0</td>\n",
       "      <td>женат / замужем</td>\n",
       "      <td>0</td>\n",
       "      <td>F</td>\n",
       "      <td>компаньон</td>\n",
       "      <td>0</td>\n",
       "      <td>240525</td>\n",
       "      <td>операции с жильем</td>\n",
       "    </tr>\n",
       "    <tr>\n",
       "      <td>7</td>\n",
       "      <td>0</td>\n",
       "      <td>152</td>\n",
       "      <td>50</td>\n",
       "      <td>СРЕДНЕЕ</td>\n",
       "      <td>1</td>\n",
       "      <td>женат / замужем</td>\n",
       "      <td>0</td>\n",
       "      <td>M</td>\n",
       "      <td>сотрудник</td>\n",
       "      <td>0</td>\n",
       "      <td>135823</td>\n",
       "      <td>образование</td>\n",
       "    </tr>\n",
       "    <tr>\n",
       "      <td>8</td>\n",
       "      <td>2</td>\n",
       "      <td>6929</td>\n",
       "      <td>35</td>\n",
       "      <td>ВЫСШЕЕ</td>\n",
       "      <td>0</td>\n",
       "      <td>гражданский брак</td>\n",
       "      <td>1</td>\n",
       "      <td>F</td>\n",
       "      <td>сотрудник</td>\n",
       "      <td>0</td>\n",
       "      <td>95856</td>\n",
       "      <td>на проведение свадьбы</td>\n",
       "    </tr>\n",
       "    <tr>\n",
       "      <td>9</td>\n",
       "      <td>0</td>\n",
       "      <td>2188</td>\n",
       "      <td>41</td>\n",
       "      <td>среднее</td>\n",
       "      <td>1</td>\n",
       "      <td>женат / замужем</td>\n",
       "      <td>0</td>\n",
       "      <td>M</td>\n",
       "      <td>сотрудник</td>\n",
       "      <td>0</td>\n",
       "      <td>144425</td>\n",
       "      <td>покупка жилья для семьи</td>\n",
       "    </tr>\n",
       "    <tr>\n",
       "      <td>10</td>\n",
       "      <td>2</td>\n",
       "      <td>4171</td>\n",
       "      <td>36</td>\n",
       "      <td>высшее</td>\n",
       "      <td>0</td>\n",
       "      <td>женат / замужем</td>\n",
       "      <td>0</td>\n",
       "      <td>M</td>\n",
       "      <td>компаньон</td>\n",
       "      <td>0</td>\n",
       "      <td>113943</td>\n",
       "      <td>покупка недвижимости</td>\n",
       "    </tr>\n",
       "    <tr>\n",
       "      <td>11</td>\n",
       "      <td>0</td>\n",
       "      <td>792</td>\n",
       "      <td>40</td>\n",
       "      <td>среднее</td>\n",
       "      <td>1</td>\n",
       "      <td>женат / замужем</td>\n",
       "      <td>0</td>\n",
       "      <td>F</td>\n",
       "      <td>сотрудник</td>\n",
       "      <td>0</td>\n",
       "      <td>77069</td>\n",
       "      <td>покупка коммерческой недвижимости</td>\n",
       "    </tr>\n",
       "    <tr>\n",
       "      <td>12</td>\n",
       "      <td>0</td>\n",
       "      <td>2194</td>\n",
       "      <td>65</td>\n",
       "      <td>среднее</td>\n",
       "      <td>1</td>\n",
       "      <td>гражданский брак</td>\n",
       "      <td>1</td>\n",
       "      <td>M</td>\n",
       "      <td>пенсионер</td>\n",
       "      <td>0</td>\n",
       "      <td>145017</td>\n",
       "      <td>сыграть свадьбу</td>\n",
       "    </tr>\n",
       "    <tr>\n",
       "      <td>13</td>\n",
       "      <td>0</td>\n",
       "      <td>1846</td>\n",
       "      <td>54</td>\n",
       "      <td>неоконченное высшее</td>\n",
       "      <td>2</td>\n",
       "      <td>женат / замужем</td>\n",
       "      <td>0</td>\n",
       "      <td>F</td>\n",
       "      <td>сотрудник</td>\n",
       "      <td>0</td>\n",
       "      <td>130458</td>\n",
       "      <td>приобретение автомобиля</td>\n",
       "    </tr>\n",
       "    <tr>\n",
       "      <td>14</td>\n",
       "      <td>0</td>\n",
       "      <td>1844</td>\n",
       "      <td>56</td>\n",
       "      <td>высшее</td>\n",
       "      <td>0</td>\n",
       "      <td>гражданский брак</td>\n",
       "      <td>1</td>\n",
       "      <td>F</td>\n",
       "      <td>компаньон</td>\n",
       "      <td>1</td>\n",
       "      <td>165127</td>\n",
       "      <td>покупка жилой недвижимости</td>\n",
       "    </tr>\n",
       "  </tbody>\n",
       "</table>\n",
       "</div>"
      ],
      "text/plain": [
       "    children  days_employed  dob_years            education  education_id  \\\n",
       "0          1           8437         42               высшее             0   \n",
       "1          1           4024         36              среднее             1   \n",
       "2          0           5623         33              Среднее             1   \n",
       "3          3           4124         32              среднее             1   \n",
       "4          0         340266         53              среднее             1   \n",
       "5          0            926         27               высшее             0   \n",
       "6          0           2879         43               высшее             0   \n",
       "7          0            152         50              СРЕДНЕЕ             1   \n",
       "8          2           6929         35               ВЫСШЕЕ             0   \n",
       "9          0           2188         41              среднее             1   \n",
       "10         2           4171         36               высшее             0   \n",
       "11         0            792         40              среднее             1   \n",
       "12         0           2194         65              среднее             1   \n",
       "13         0           1846         54  неоконченное высшее             2   \n",
       "14         0           1844         56               высшее             0   \n",
       "\n",
       "       family_status  family_status_id gender income_type  debt  total_income  \\\n",
       "0    женат / замужем                 0      F   сотрудник     0        253875   \n",
       "1    женат / замужем                 0      F   сотрудник     0        112080   \n",
       "2    женат / замужем                 0      M   сотрудник     0        145885   \n",
       "3    женат / замужем                 0      M   сотрудник     0        267628   \n",
       "4   гражданский брак                 1      F   пенсионер     0        158616   \n",
       "5   гражданский брак                 1      M   компаньон     0        255763   \n",
       "6    женат / замужем                 0      F   компаньон     0        240525   \n",
       "7    женат / замужем                 0      M   сотрудник     0        135823   \n",
       "8   гражданский брак                 1      F   сотрудник     0         95856   \n",
       "9    женат / замужем                 0      M   сотрудник     0        144425   \n",
       "10   женат / замужем                 0      M   компаньон     0        113943   \n",
       "11   женат / замужем                 0      F   сотрудник     0         77069   \n",
       "12  гражданский брак                 1      M   пенсионер     0        145017   \n",
       "13   женат / замужем                 0      F   сотрудник     0        130458   \n",
       "14  гражданский брак                 1      F   компаньон     1        165127   \n",
       "\n",
       "                              purpose  \n",
       "0                       покупка жилья  \n",
       "1             приобретение автомобиля  \n",
       "2                       покупка жилья  \n",
       "3          дополнительное образование  \n",
       "4                     сыграть свадьбу  \n",
       "5                       покупка жилья  \n",
       "6                   операции с жильем  \n",
       "7                         образование  \n",
       "8               на проведение свадьбы  \n",
       "9             покупка жилья для семьи  \n",
       "10               покупка недвижимости  \n",
       "11  покупка коммерческой недвижимости  \n",
       "12                    сыграть свадьбу  \n",
       "13            приобретение автомобиля  \n",
       "14         покупка жилой недвижимости  "
      ]
     },
     "metadata": {},
     "output_type": "display_data"
    }
   ],
   "source": [
    "display(data.head(15))\n"
   ]
  },
  {
   "cell_type": "markdown",
   "metadata": {},
   "source": [
    "В столбце 'education' значения написаны в разном регистре из-за этого одни и теже значения при обработке буду восприниматься как разные, переведм все значения данного столбца в нижний регистр"
   ]
  },
  {
   "cell_type": "code",
   "execution_count": 135,
   "metadata": {},
   "outputs": [],
   "source": [
    "data['education'] = data['education'].str.lower()"
   ]
  },
  {
   "cell_type": "markdown",
   "metadata": {},
   "source": [
    "Проверим результат применения метода lower() к столбцу 'education', а также проверим другие столбцы на наличие подобных дубликатов."
   ]
  },
  {
   "cell_type": "code",
   "execution_count": 136,
   "metadata": {},
   "outputs": [
    {
     "name": "stdout",
     "output_type": "stream",
     "text": [
      "среднее                15233\n",
      "высшее                  5260\n",
      "неоконченное высшее      744\n",
      "начальное                282\n",
      "ученая степень             6\n",
      "Name: education, dtype: int64\n"
     ]
    }
   ],
   "source": [
    "print(data['education'].value_counts())"
   ]
  },
  {
   "cell_type": "code",
   "execution_count": 137,
   "metadata": {
    "scrolled": true
   },
   "outputs": [
    {
     "name": "stdout",
     "output_type": "stream",
     "text": [
      "женат / замужем          12380\n",
      "гражданский брак          4177\n",
      "Не женат / не замужем     2813\n",
      "в разводе                 1195\n",
      "вдовец / вдова             960\n",
      "Name: family_status, dtype: int64\n"
     ]
    }
   ],
   "source": [
    "print(data['family_status'].value_counts())"
   ]
  },
  {
   "cell_type": "code",
   "execution_count": 138,
   "metadata": {},
   "outputs": [
    {
     "name": "stdout",
     "output_type": "stream",
     "text": [
      "F      14236\n",
      "M       7288\n",
      "XNA        1\n",
      "Name: gender, dtype: int64\n"
     ]
    }
   ],
   "source": [
    "print(data['gender'].value_counts())"
   ]
  },
  {
   "cell_type": "code",
   "execution_count": 139,
   "metadata": {},
   "outputs": [
    {
     "name": "stdout",
     "output_type": "stream",
     "text": [
      "сотрудник          11119\n",
      "компаньон           5085\n",
      "пенсионер           3856\n",
      "госслужащий         1459\n",
      "безработный            2\n",
      "предприниматель        2\n",
      "в декрете              1\n",
      "студент                1\n",
      "Name: income_type, dtype: int64\n"
     ]
    }
   ],
   "source": [
    "print(data['income_type'].value_counts())"
   ]
  },
  {
   "cell_type": "code",
   "execution_count": 140,
   "metadata": {},
   "outputs": [
    {
     "name": "stdout",
     "output_type": "stream",
     "text": [
      "свадьба                                   797\n",
      "на проведение свадьбы                     777\n",
      "сыграть свадьбу                           774\n",
      "операции с недвижимостью                  676\n",
      "покупка коммерческой недвижимости         664\n",
      "операции с жильем                         653\n",
      "покупка жилья для сдачи                   653\n",
      "операции с коммерческой недвижимостью     651\n",
      "покупка жилья                             647\n",
      "жилье                                     647\n",
      "покупка жилья для семьи                   641\n",
      "строительство собственной недвижимости    635\n",
      "недвижимость                              634\n",
      "операции со своей недвижимостью           630\n",
      "строительство жилой недвижимости          626\n",
      "покупка недвижимости                      624\n",
      "строительство недвижимости                620\n",
      "покупка своего жилья                      620\n",
      "ремонт жилью                              612\n",
      "покупка жилой недвижимости                607\n",
      "на покупку своего автомобиля              505\n",
      "заняться высшим образованием              496\n",
      "автомобиль                                495\n",
      "сделка с подержанным автомобилем          489\n",
      "свой автомобиль                           480\n",
      "на покупку подержанного автомобиля        479\n",
      "автомобили                                478\n",
      "на покупку автомобиля                     472\n",
      "приобретение автомобиля                   462\n",
      "дополнительное образование                462\n",
      "сделка с автомобилем                      455\n",
      "высшее образование                        453\n",
      "получение дополнительного образования     447\n",
      "образование                               447\n",
      "получение образования                     443\n",
      "профильное образование                    436\n",
      "получение высшего образования             426\n",
      "заняться образованием                     412\n",
      "Name: purpose, dtype: int64\n"
     ]
    }
   ],
   "source": [
    "print(data['purpose'].value_counts())"
   ]
  },
  {
   "cell_type": "markdown",
   "metadata": {},
   "source": [
    "В других столбцах подобной проблемы нет. Удалим явные дубликаты из data"
   ]
  },
  {
   "cell_type": "code",
   "execution_count": 141,
   "metadata": {},
   "outputs": [
    {
     "data": {
      "text/plain": [
       "71"
      ]
     },
     "execution_count": 141,
     "metadata": {},
     "output_type": "execute_result"
    }
   ],
   "source": [
    "data.duplicated().sum() # подсчёт явных дубликатов"
   ]
  },
  {
   "cell_type": "code",
   "execution_count": 142,
   "metadata": {},
   "outputs": [],
   "source": [
    "# удаление явных дубликатов (с удалением старых индексов и формированием новых)\n",
    "data = data.drop_duplicates().reset_index(drop=True)"
   ]
  },
  {
   "cell_type": "code",
   "execution_count": 143,
   "metadata": {},
   "outputs": [
    {
     "data": {
      "text/plain": [
       "0"
      ]
     },
     "execution_count": 143,
     "metadata": {},
     "output_type": "execute_result"
    }
   ],
   "source": [
    "data.duplicated().sum() # проверка на отсутствие дубликатов"
   ]
  },
  {
   "cell_type": "markdown",
   "metadata": {},
   "source": [
    "**Вывод**"
   ]
  },
  {
   "cell_type": "markdown",
   "metadata": {},
   "source": [
    "Удалось выявить и устранить проблему в регистрах стобца 'education', также удалили явные дубоикаты. \n"
   ]
  },
  {
   "cell_type": "markdown",
   "metadata": {},
   "source": [
    "### Лемматизация"
   ]
  },
  {
   "cell_type": "markdown",
   "metadata": {},
   "source": [
    "Подробнее рассмотрим столбец 'purpose'"
   ]
  },
  {
   "cell_type": "code",
   "execution_count": 144,
   "metadata": {
    "scrolled": true
   },
   "outputs": [
    {
     "name": "stdout",
     "output_type": "stream",
     "text": [
      "свадьба                                   791\n",
      "на проведение свадьбы                     768\n",
      "сыграть свадьбу                           765\n",
      "операции с недвижимостью                  675\n",
      "покупка коммерческой недвижимости         661\n",
      "операции с жильем                         652\n",
      "покупка жилья для сдачи                   651\n",
      "операции с коммерческой недвижимостью     650\n",
      "покупка жилья                             646\n",
      "жилье                                     646\n",
      "покупка жилья для семьи                   638\n",
      "строительство собственной недвижимости    635\n",
      "недвижимость                              633\n",
      "операции со своей недвижимостью           627\n",
      "строительство жилой недвижимости          624\n",
      "покупка недвижимости                      621\n",
      "покупка своего жилья                      620\n",
      "строительство недвижимости                619\n",
      "ремонт жилью                              607\n",
      "покупка жилой недвижимости                606\n",
      "на покупку своего автомобиля              505\n",
      "заняться высшим образованием              496\n",
      "автомобиль                                494\n",
      "сделка с подержанным автомобилем          486\n",
      "автомобили                                478\n",
      "свой автомобиль                           478\n",
      "на покупку подержанного автомобиля        478\n",
      "на покупку автомобиля                     471\n",
      "приобретение автомобиля                   461\n",
      "дополнительное образование                460\n",
      "сделка с автомобилем                      455\n",
      "высшее образование                        452\n",
      "образование                               447\n",
      "получение дополнительного образования     446\n",
      "получение образования                     442\n",
      "профильное образование                    436\n",
      "получение высшего образования             426\n",
      "заняться образованием                     408\n",
      "Name: purpose, dtype: int64\n"
     ]
    }
   ],
   "source": [
    "print(data['purpose'].value_counts())"
   ]
  },
  {
   "cell_type": "markdown",
   "metadata": {},
   "source": [
    "Как видим в столбце 'purpose' есть одинаковые цели получения кредита, но сформулированны они по разному. Необходимо применить лемматизацию, что бы исправить это"
   ]
  },
  {
   "cell_type": "code",
   "execution_count": 145,
   "metadata": {},
   "outputs": [],
   "source": [
    "from pymystem3 import Mystem # импортируем библиотеку pymystem3\n",
    "m = Mystem()"
   ]
  },
  {
   "cell_type": "code",
   "execution_count": 146,
   "metadata": {
    "scrolled": true
   },
   "outputs": [],
   "source": [
    "def category_purpose(row): # объявляем функцию с одним параметром: row\n",
    "    lem_purpose = m.lemmatize(row['purpose']) # в переменной lem_purpose сохраняются леммы слов из столбца 'purpose'\n",
    "    if 'автомобиль' in lem_purpose: # Функция возвращает категорию цели в зависимости от описанной цели в столбце 'purpose'\n",
    "        return 'На автомобиль'\n",
    "    if 'свадьба' in lem_purpose:\n",
    "        return 'На свадьбу'\n",
    "    if 'образование' in lem_purpose:\n",
    "        return 'На образование'\n",
    "    if ('жилье' in lem_purpose) or ('недвижимость' in lem_purpose):\n",
    "        return 'На жилье'\n",
    "    "
   ]
  },
  {
   "cell_type": "markdown",
   "metadata": {},
   "source": [
    "**Вывод**"
   ]
  },
  {
   "cell_type": "markdown",
   "metadata": {},
   "source": [
    "В этом этапе удалось выделили леммы в значениях столбца с цель получения кредита ('purpose')."
   ]
  },
  {
   "cell_type": "markdown",
   "metadata": {},
   "source": [
    "### Категоризация данных"
   ]
  },
  {
   "cell_type": "code",
   "execution_count": 147,
   "metadata": {
    "scrolled": true
   },
   "outputs": [
    {
     "data": {
      "text/html": [
       "<div>\n",
       "<style scoped>\n",
       "    .dataframe tbody tr th:only-of-type {\n",
       "        vertical-align: middle;\n",
       "    }\n",
       "\n",
       "    .dataframe tbody tr th {\n",
       "        vertical-align: top;\n",
       "    }\n",
       "\n",
       "    .dataframe thead th {\n",
       "        text-align: right;\n",
       "    }\n",
       "</style>\n",
       "<table border=\"1\" class=\"dataframe\">\n",
       "  <thead>\n",
       "    <tr style=\"text-align: right;\">\n",
       "      <th></th>\n",
       "      <th>children</th>\n",
       "      <th>days_employed</th>\n",
       "      <th>dob_years</th>\n",
       "      <th>education</th>\n",
       "      <th>education_id</th>\n",
       "      <th>family_status</th>\n",
       "      <th>family_status_id</th>\n",
       "      <th>gender</th>\n",
       "      <th>income_type</th>\n",
       "      <th>debt</th>\n",
       "      <th>total_income</th>\n",
       "      <th>purpose</th>\n",
       "      <th>purpose_category</th>\n",
       "    </tr>\n",
       "  </thead>\n",
       "  <tbody>\n",
       "    <tr>\n",
       "      <td>0</td>\n",
       "      <td>1</td>\n",
       "      <td>8437</td>\n",
       "      <td>42</td>\n",
       "      <td>высшее</td>\n",
       "      <td>0</td>\n",
       "      <td>женат / замужем</td>\n",
       "      <td>0</td>\n",
       "      <td>F</td>\n",
       "      <td>сотрудник</td>\n",
       "      <td>0</td>\n",
       "      <td>253875</td>\n",
       "      <td>покупка жилья</td>\n",
       "      <td>На жилье</td>\n",
       "    </tr>\n",
       "    <tr>\n",
       "      <td>1</td>\n",
       "      <td>1</td>\n",
       "      <td>4024</td>\n",
       "      <td>36</td>\n",
       "      <td>среднее</td>\n",
       "      <td>1</td>\n",
       "      <td>женат / замужем</td>\n",
       "      <td>0</td>\n",
       "      <td>F</td>\n",
       "      <td>сотрудник</td>\n",
       "      <td>0</td>\n",
       "      <td>112080</td>\n",
       "      <td>приобретение автомобиля</td>\n",
       "      <td>На автомобиль</td>\n",
       "    </tr>\n",
       "    <tr>\n",
       "      <td>2</td>\n",
       "      <td>0</td>\n",
       "      <td>5623</td>\n",
       "      <td>33</td>\n",
       "      <td>среднее</td>\n",
       "      <td>1</td>\n",
       "      <td>женат / замужем</td>\n",
       "      <td>0</td>\n",
       "      <td>M</td>\n",
       "      <td>сотрудник</td>\n",
       "      <td>0</td>\n",
       "      <td>145885</td>\n",
       "      <td>покупка жилья</td>\n",
       "      <td>На жилье</td>\n",
       "    </tr>\n",
       "    <tr>\n",
       "      <td>3</td>\n",
       "      <td>3</td>\n",
       "      <td>4124</td>\n",
       "      <td>32</td>\n",
       "      <td>среднее</td>\n",
       "      <td>1</td>\n",
       "      <td>женат / замужем</td>\n",
       "      <td>0</td>\n",
       "      <td>M</td>\n",
       "      <td>сотрудник</td>\n",
       "      <td>0</td>\n",
       "      <td>267628</td>\n",
       "      <td>дополнительное образование</td>\n",
       "      <td>На образование</td>\n",
       "    </tr>\n",
       "    <tr>\n",
       "      <td>4</td>\n",
       "      <td>0</td>\n",
       "      <td>340266</td>\n",
       "      <td>53</td>\n",
       "      <td>среднее</td>\n",
       "      <td>1</td>\n",
       "      <td>гражданский брак</td>\n",
       "      <td>1</td>\n",
       "      <td>F</td>\n",
       "      <td>пенсионер</td>\n",
       "      <td>0</td>\n",
       "      <td>158616</td>\n",
       "      <td>сыграть свадьбу</td>\n",
       "      <td>На свадьбу</td>\n",
       "    </tr>\n",
       "    <tr>\n",
       "      <td>5</td>\n",
       "      <td>0</td>\n",
       "      <td>926</td>\n",
       "      <td>27</td>\n",
       "      <td>высшее</td>\n",
       "      <td>0</td>\n",
       "      <td>гражданский брак</td>\n",
       "      <td>1</td>\n",
       "      <td>M</td>\n",
       "      <td>компаньон</td>\n",
       "      <td>0</td>\n",
       "      <td>255763</td>\n",
       "      <td>покупка жилья</td>\n",
       "      <td>На жилье</td>\n",
       "    </tr>\n",
       "    <tr>\n",
       "      <td>6</td>\n",
       "      <td>0</td>\n",
       "      <td>2879</td>\n",
       "      <td>43</td>\n",
       "      <td>высшее</td>\n",
       "      <td>0</td>\n",
       "      <td>женат / замужем</td>\n",
       "      <td>0</td>\n",
       "      <td>F</td>\n",
       "      <td>компаньон</td>\n",
       "      <td>0</td>\n",
       "      <td>240525</td>\n",
       "      <td>операции с жильем</td>\n",
       "      <td>На жилье</td>\n",
       "    </tr>\n",
       "    <tr>\n",
       "      <td>7</td>\n",
       "      <td>0</td>\n",
       "      <td>152</td>\n",
       "      <td>50</td>\n",
       "      <td>среднее</td>\n",
       "      <td>1</td>\n",
       "      <td>женат / замужем</td>\n",
       "      <td>0</td>\n",
       "      <td>M</td>\n",
       "      <td>сотрудник</td>\n",
       "      <td>0</td>\n",
       "      <td>135823</td>\n",
       "      <td>образование</td>\n",
       "      <td>На образование</td>\n",
       "    </tr>\n",
       "    <tr>\n",
       "      <td>8</td>\n",
       "      <td>2</td>\n",
       "      <td>6929</td>\n",
       "      <td>35</td>\n",
       "      <td>высшее</td>\n",
       "      <td>0</td>\n",
       "      <td>гражданский брак</td>\n",
       "      <td>1</td>\n",
       "      <td>F</td>\n",
       "      <td>сотрудник</td>\n",
       "      <td>0</td>\n",
       "      <td>95856</td>\n",
       "      <td>на проведение свадьбы</td>\n",
       "      <td>На свадьбу</td>\n",
       "    </tr>\n",
       "    <tr>\n",
       "      <td>9</td>\n",
       "      <td>0</td>\n",
       "      <td>2188</td>\n",
       "      <td>41</td>\n",
       "      <td>среднее</td>\n",
       "      <td>1</td>\n",
       "      <td>женат / замужем</td>\n",
       "      <td>0</td>\n",
       "      <td>M</td>\n",
       "      <td>сотрудник</td>\n",
       "      <td>0</td>\n",
       "      <td>144425</td>\n",
       "      <td>покупка жилья для семьи</td>\n",
       "      <td>На жилье</td>\n",
       "    </tr>\n",
       "    <tr>\n",
       "      <td>10</td>\n",
       "      <td>2</td>\n",
       "      <td>4171</td>\n",
       "      <td>36</td>\n",
       "      <td>высшее</td>\n",
       "      <td>0</td>\n",
       "      <td>женат / замужем</td>\n",
       "      <td>0</td>\n",
       "      <td>M</td>\n",
       "      <td>компаньон</td>\n",
       "      <td>0</td>\n",
       "      <td>113943</td>\n",
       "      <td>покупка недвижимости</td>\n",
       "      <td>На жилье</td>\n",
       "    </tr>\n",
       "    <tr>\n",
       "      <td>11</td>\n",
       "      <td>0</td>\n",
       "      <td>792</td>\n",
       "      <td>40</td>\n",
       "      <td>среднее</td>\n",
       "      <td>1</td>\n",
       "      <td>женат / замужем</td>\n",
       "      <td>0</td>\n",
       "      <td>F</td>\n",
       "      <td>сотрудник</td>\n",
       "      <td>0</td>\n",
       "      <td>77069</td>\n",
       "      <td>покупка коммерческой недвижимости</td>\n",
       "      <td>На жилье</td>\n",
       "    </tr>\n",
       "    <tr>\n",
       "      <td>12</td>\n",
       "      <td>0</td>\n",
       "      <td>2194</td>\n",
       "      <td>65</td>\n",
       "      <td>среднее</td>\n",
       "      <td>1</td>\n",
       "      <td>гражданский брак</td>\n",
       "      <td>1</td>\n",
       "      <td>M</td>\n",
       "      <td>пенсионер</td>\n",
       "      <td>0</td>\n",
       "      <td>145017</td>\n",
       "      <td>сыграть свадьбу</td>\n",
       "      <td>На свадьбу</td>\n",
       "    </tr>\n",
       "    <tr>\n",
       "      <td>13</td>\n",
       "      <td>0</td>\n",
       "      <td>1846</td>\n",
       "      <td>54</td>\n",
       "      <td>неоконченное высшее</td>\n",
       "      <td>2</td>\n",
       "      <td>женат / замужем</td>\n",
       "      <td>0</td>\n",
       "      <td>F</td>\n",
       "      <td>сотрудник</td>\n",
       "      <td>0</td>\n",
       "      <td>130458</td>\n",
       "      <td>приобретение автомобиля</td>\n",
       "      <td>На автомобиль</td>\n",
       "    </tr>\n",
       "    <tr>\n",
       "      <td>14</td>\n",
       "      <td>0</td>\n",
       "      <td>1844</td>\n",
       "      <td>56</td>\n",
       "      <td>высшее</td>\n",
       "      <td>0</td>\n",
       "      <td>гражданский брак</td>\n",
       "      <td>1</td>\n",
       "      <td>F</td>\n",
       "      <td>компаньон</td>\n",
       "      <td>1</td>\n",
       "      <td>165127</td>\n",
       "      <td>покупка жилой недвижимости</td>\n",
       "      <td>На жилье</td>\n",
       "    </tr>\n",
       "  </tbody>\n",
       "</table>\n",
       "</div>"
      ],
      "text/plain": [
       "    children  days_employed  dob_years            education  education_id  \\\n",
       "0          1           8437         42               высшее             0   \n",
       "1          1           4024         36              среднее             1   \n",
       "2          0           5623         33              среднее             1   \n",
       "3          3           4124         32              среднее             1   \n",
       "4          0         340266         53              среднее             1   \n",
       "5          0            926         27               высшее             0   \n",
       "6          0           2879         43               высшее             0   \n",
       "7          0            152         50              среднее             1   \n",
       "8          2           6929         35               высшее             0   \n",
       "9          0           2188         41              среднее             1   \n",
       "10         2           4171         36               высшее             0   \n",
       "11         0            792         40              среднее             1   \n",
       "12         0           2194         65              среднее             1   \n",
       "13         0           1846         54  неоконченное высшее             2   \n",
       "14         0           1844         56               высшее             0   \n",
       "\n",
       "       family_status  family_status_id gender income_type  debt  total_income  \\\n",
       "0    женат / замужем                 0      F   сотрудник     0        253875   \n",
       "1    женат / замужем                 0      F   сотрудник     0        112080   \n",
       "2    женат / замужем                 0      M   сотрудник     0        145885   \n",
       "3    женат / замужем                 0      M   сотрудник     0        267628   \n",
       "4   гражданский брак                 1      F   пенсионер     0        158616   \n",
       "5   гражданский брак                 1      M   компаньон     0        255763   \n",
       "6    женат / замужем                 0      F   компаньон     0        240525   \n",
       "7    женат / замужем                 0      M   сотрудник     0        135823   \n",
       "8   гражданский брак                 1      F   сотрудник     0         95856   \n",
       "9    женат / замужем                 0      M   сотрудник     0        144425   \n",
       "10   женат / замужем                 0      M   компаньон     0        113943   \n",
       "11   женат / замужем                 0      F   сотрудник     0         77069   \n",
       "12  гражданский брак                 1      M   пенсионер     0        145017   \n",
       "13   женат / замужем                 0      F   сотрудник     0        130458   \n",
       "14  гражданский брак                 1      F   компаньон     1        165127   \n",
       "\n",
       "                              purpose purpose_category  \n",
       "0                       покупка жилья         На жилье  \n",
       "1             приобретение автомобиля    На автомобиль  \n",
       "2                       покупка жилья         На жилье  \n",
       "3          дополнительное образование   На образование  \n",
       "4                     сыграть свадьбу       На свадьбу  \n",
       "5                       покупка жилья         На жилье  \n",
       "6                   операции с жильем         На жилье  \n",
       "7                         образование   На образование  \n",
       "8               на проведение свадьбы       На свадьбу  \n",
       "9             покупка жилья для семьи         На жилье  \n",
       "10               покупка недвижимости         На жилье  \n",
       "11  покупка коммерческой недвижимости         На жилье  \n",
       "12                    сыграть свадьбу       На свадьбу  \n",
       "13            приобретение автомобиля    На автомобиль  \n",
       "14         покупка жилой недвижимости         На жилье  "
      ]
     },
     "metadata": {},
     "output_type": "display_data"
    }
   ],
   "source": [
    "data['purpose_category'] = data.apply(category_purpose, axis = 1) # создаём столбец с категориями целей и в его ячейках записываем значения, возвращаемые функцией с помощью метода apply()\n",
    "display(data.head(15)) # выводим первые 15 строк на экран"
   ]
  },
  {
   "cell_type": "markdown",
   "metadata": {},
   "source": [
    "В столбце 'total_income' представленны данные о доходе заёмщиков, их также необходимо категоризировать, это поможет ответить на один из вопросов исследования\n",
    "\n",
    "Для начала проверим какие минимальные и максимальные доходы имеют заёмщики"
   ]
  },
  {
   "cell_type": "code",
   "execution_count": 148,
   "metadata": {},
   "outputs": [
    {
     "name": "stdout",
     "output_type": "stream",
     "text": [
      "14555    20667\n",
      "12983    21205\n",
      "16138    21367\n",
      "1598     21695\n",
      "14247    21895\n",
      "Name: total_income, dtype: int64\n"
     ]
    }
   ],
   "source": [
    "sorted_series = data['total_income'].sort_values() # сортирую по возрастанию доход заёмщиков\n",
    "print(sorted_series.head())"
   ]
  },
  {
   "cell_type": "code",
   "execution_count": 149,
   "metadata": {
    "scrolled": true
   },
   "outputs": [
    {
     "name": "stdout",
     "output_type": "stream",
     "text": [
      "12390    2265604\n",
      "19548    2200852\n",
      "9159     1726276\n",
      "20742    1715018\n",
      "17137    1711309\n",
      "Name: total_income, dtype: int64\n"
     ]
    }
   ],
   "source": [
    "sorted_series_decreasing = data['total_income'].sort_values(ascending=False) # сортирую по убыванию доход заёмщиков\n",
    "print(sorted_series_decreasing.head())"
   ]
  },
  {
   "cell_type": "code",
   "execution_count": 150,
   "metadata": {},
   "outputs": [],
   "source": [
    "# Категоризирую доход заёмщиков на три части: 'Низкий доход', 'Средний доход', 'Высокий доход'\n",
    "def category_total_income(income): # объявляем функцию с одним параметром: income\n",
    "\n",
    "    if income <= 150000: # Функция возвращает уровень дохода в зависимости от дохода в столбце 'total_income'\n",
    "        return 'Низкий доход'\n",
    "    if income <= 300000:\n",
    "        return 'Средний доход'\n",
    "    return 'Высокий доход'"
   ]
  },
  {
   "cell_type": "code",
   "execution_count": 151,
   "metadata": {},
   "outputs": [
    {
     "data": {
      "text/html": [
       "<div>\n",
       "<style scoped>\n",
       "    .dataframe tbody tr th:only-of-type {\n",
       "        vertical-align: middle;\n",
       "    }\n",
       "\n",
       "    .dataframe tbody tr th {\n",
       "        vertical-align: top;\n",
       "    }\n",
       "\n",
       "    .dataframe thead th {\n",
       "        text-align: right;\n",
       "    }\n",
       "</style>\n",
       "<table border=\"1\" class=\"dataframe\">\n",
       "  <thead>\n",
       "    <tr style=\"text-align: right;\">\n",
       "      <th></th>\n",
       "      <th>children</th>\n",
       "      <th>days_employed</th>\n",
       "      <th>dob_years</th>\n",
       "      <th>education</th>\n",
       "      <th>education_id</th>\n",
       "      <th>family_status</th>\n",
       "      <th>family_status_id</th>\n",
       "      <th>gender</th>\n",
       "      <th>income_type</th>\n",
       "      <th>debt</th>\n",
       "      <th>total_income</th>\n",
       "      <th>purpose</th>\n",
       "      <th>purpose_category</th>\n",
       "      <th>category_income</th>\n",
       "    </tr>\n",
       "  </thead>\n",
       "  <tbody>\n",
       "    <tr>\n",
       "      <td>0</td>\n",
       "      <td>1</td>\n",
       "      <td>8437</td>\n",
       "      <td>42</td>\n",
       "      <td>высшее</td>\n",
       "      <td>0</td>\n",
       "      <td>женат / замужем</td>\n",
       "      <td>0</td>\n",
       "      <td>F</td>\n",
       "      <td>сотрудник</td>\n",
       "      <td>0</td>\n",
       "      <td>253875</td>\n",
       "      <td>покупка жилья</td>\n",
       "      <td>На жилье</td>\n",
       "      <td>Средний доход</td>\n",
       "    </tr>\n",
       "    <tr>\n",
       "      <td>1</td>\n",
       "      <td>1</td>\n",
       "      <td>4024</td>\n",
       "      <td>36</td>\n",
       "      <td>среднее</td>\n",
       "      <td>1</td>\n",
       "      <td>женат / замужем</td>\n",
       "      <td>0</td>\n",
       "      <td>F</td>\n",
       "      <td>сотрудник</td>\n",
       "      <td>0</td>\n",
       "      <td>112080</td>\n",
       "      <td>приобретение автомобиля</td>\n",
       "      <td>На автомобиль</td>\n",
       "      <td>Низкий доход</td>\n",
       "    </tr>\n",
       "    <tr>\n",
       "      <td>2</td>\n",
       "      <td>0</td>\n",
       "      <td>5623</td>\n",
       "      <td>33</td>\n",
       "      <td>среднее</td>\n",
       "      <td>1</td>\n",
       "      <td>женат / замужем</td>\n",
       "      <td>0</td>\n",
       "      <td>M</td>\n",
       "      <td>сотрудник</td>\n",
       "      <td>0</td>\n",
       "      <td>145885</td>\n",
       "      <td>покупка жилья</td>\n",
       "      <td>На жилье</td>\n",
       "      <td>Низкий доход</td>\n",
       "    </tr>\n",
       "    <tr>\n",
       "      <td>3</td>\n",
       "      <td>3</td>\n",
       "      <td>4124</td>\n",
       "      <td>32</td>\n",
       "      <td>среднее</td>\n",
       "      <td>1</td>\n",
       "      <td>женат / замужем</td>\n",
       "      <td>0</td>\n",
       "      <td>M</td>\n",
       "      <td>сотрудник</td>\n",
       "      <td>0</td>\n",
       "      <td>267628</td>\n",
       "      <td>дополнительное образование</td>\n",
       "      <td>На образование</td>\n",
       "      <td>Средний доход</td>\n",
       "    </tr>\n",
       "    <tr>\n",
       "      <td>4</td>\n",
       "      <td>0</td>\n",
       "      <td>340266</td>\n",
       "      <td>53</td>\n",
       "      <td>среднее</td>\n",
       "      <td>1</td>\n",
       "      <td>гражданский брак</td>\n",
       "      <td>1</td>\n",
       "      <td>F</td>\n",
       "      <td>пенсионер</td>\n",
       "      <td>0</td>\n",
       "      <td>158616</td>\n",
       "      <td>сыграть свадьбу</td>\n",
       "      <td>На свадьбу</td>\n",
       "      <td>Средний доход</td>\n",
       "    </tr>\n",
       "    <tr>\n",
       "      <td>5</td>\n",
       "      <td>0</td>\n",
       "      <td>926</td>\n",
       "      <td>27</td>\n",
       "      <td>высшее</td>\n",
       "      <td>0</td>\n",
       "      <td>гражданский брак</td>\n",
       "      <td>1</td>\n",
       "      <td>M</td>\n",
       "      <td>компаньон</td>\n",
       "      <td>0</td>\n",
       "      <td>255763</td>\n",
       "      <td>покупка жилья</td>\n",
       "      <td>На жилье</td>\n",
       "      <td>Средний доход</td>\n",
       "    </tr>\n",
       "    <tr>\n",
       "      <td>6</td>\n",
       "      <td>0</td>\n",
       "      <td>2879</td>\n",
       "      <td>43</td>\n",
       "      <td>высшее</td>\n",
       "      <td>0</td>\n",
       "      <td>женат / замужем</td>\n",
       "      <td>0</td>\n",
       "      <td>F</td>\n",
       "      <td>компаньон</td>\n",
       "      <td>0</td>\n",
       "      <td>240525</td>\n",
       "      <td>операции с жильем</td>\n",
       "      <td>На жилье</td>\n",
       "      <td>Средний доход</td>\n",
       "    </tr>\n",
       "    <tr>\n",
       "      <td>7</td>\n",
       "      <td>0</td>\n",
       "      <td>152</td>\n",
       "      <td>50</td>\n",
       "      <td>среднее</td>\n",
       "      <td>1</td>\n",
       "      <td>женат / замужем</td>\n",
       "      <td>0</td>\n",
       "      <td>M</td>\n",
       "      <td>сотрудник</td>\n",
       "      <td>0</td>\n",
       "      <td>135823</td>\n",
       "      <td>образование</td>\n",
       "      <td>На образование</td>\n",
       "      <td>Низкий доход</td>\n",
       "    </tr>\n",
       "    <tr>\n",
       "      <td>8</td>\n",
       "      <td>2</td>\n",
       "      <td>6929</td>\n",
       "      <td>35</td>\n",
       "      <td>высшее</td>\n",
       "      <td>0</td>\n",
       "      <td>гражданский брак</td>\n",
       "      <td>1</td>\n",
       "      <td>F</td>\n",
       "      <td>сотрудник</td>\n",
       "      <td>0</td>\n",
       "      <td>95856</td>\n",
       "      <td>на проведение свадьбы</td>\n",
       "      <td>На свадьбу</td>\n",
       "      <td>Низкий доход</td>\n",
       "    </tr>\n",
       "    <tr>\n",
       "      <td>9</td>\n",
       "      <td>0</td>\n",
       "      <td>2188</td>\n",
       "      <td>41</td>\n",
       "      <td>среднее</td>\n",
       "      <td>1</td>\n",
       "      <td>женат / замужем</td>\n",
       "      <td>0</td>\n",
       "      <td>M</td>\n",
       "      <td>сотрудник</td>\n",
       "      <td>0</td>\n",
       "      <td>144425</td>\n",
       "      <td>покупка жилья для семьи</td>\n",
       "      <td>На жилье</td>\n",
       "      <td>Низкий доход</td>\n",
       "    </tr>\n",
       "    <tr>\n",
       "      <td>10</td>\n",
       "      <td>2</td>\n",
       "      <td>4171</td>\n",
       "      <td>36</td>\n",
       "      <td>высшее</td>\n",
       "      <td>0</td>\n",
       "      <td>женат / замужем</td>\n",
       "      <td>0</td>\n",
       "      <td>M</td>\n",
       "      <td>компаньон</td>\n",
       "      <td>0</td>\n",
       "      <td>113943</td>\n",
       "      <td>покупка недвижимости</td>\n",
       "      <td>На жилье</td>\n",
       "      <td>Низкий доход</td>\n",
       "    </tr>\n",
       "    <tr>\n",
       "      <td>11</td>\n",
       "      <td>0</td>\n",
       "      <td>792</td>\n",
       "      <td>40</td>\n",
       "      <td>среднее</td>\n",
       "      <td>1</td>\n",
       "      <td>женат / замужем</td>\n",
       "      <td>0</td>\n",
       "      <td>F</td>\n",
       "      <td>сотрудник</td>\n",
       "      <td>0</td>\n",
       "      <td>77069</td>\n",
       "      <td>покупка коммерческой недвижимости</td>\n",
       "      <td>На жилье</td>\n",
       "      <td>Низкий доход</td>\n",
       "    </tr>\n",
       "    <tr>\n",
       "      <td>12</td>\n",
       "      <td>0</td>\n",
       "      <td>2194</td>\n",
       "      <td>65</td>\n",
       "      <td>среднее</td>\n",
       "      <td>1</td>\n",
       "      <td>гражданский брак</td>\n",
       "      <td>1</td>\n",
       "      <td>M</td>\n",
       "      <td>пенсионер</td>\n",
       "      <td>0</td>\n",
       "      <td>145017</td>\n",
       "      <td>сыграть свадьбу</td>\n",
       "      <td>На свадьбу</td>\n",
       "      <td>Низкий доход</td>\n",
       "    </tr>\n",
       "    <tr>\n",
       "      <td>13</td>\n",
       "      <td>0</td>\n",
       "      <td>1846</td>\n",
       "      <td>54</td>\n",
       "      <td>неоконченное высшее</td>\n",
       "      <td>2</td>\n",
       "      <td>женат / замужем</td>\n",
       "      <td>0</td>\n",
       "      <td>F</td>\n",
       "      <td>сотрудник</td>\n",
       "      <td>0</td>\n",
       "      <td>130458</td>\n",
       "      <td>приобретение автомобиля</td>\n",
       "      <td>На автомобиль</td>\n",
       "      <td>Низкий доход</td>\n",
       "    </tr>\n",
       "    <tr>\n",
       "      <td>14</td>\n",
       "      <td>0</td>\n",
       "      <td>1844</td>\n",
       "      <td>56</td>\n",
       "      <td>высшее</td>\n",
       "      <td>0</td>\n",
       "      <td>гражданский брак</td>\n",
       "      <td>1</td>\n",
       "      <td>F</td>\n",
       "      <td>компаньон</td>\n",
       "      <td>1</td>\n",
       "      <td>165127</td>\n",
       "      <td>покупка жилой недвижимости</td>\n",
       "      <td>На жилье</td>\n",
       "      <td>Средний доход</td>\n",
       "    </tr>\n",
       "  </tbody>\n",
       "</table>\n",
       "</div>"
      ],
      "text/plain": [
       "    children  days_employed  dob_years            education  education_id  \\\n",
       "0          1           8437         42               высшее             0   \n",
       "1          1           4024         36              среднее             1   \n",
       "2          0           5623         33              среднее             1   \n",
       "3          3           4124         32              среднее             1   \n",
       "4          0         340266         53              среднее             1   \n",
       "5          0            926         27               высшее             0   \n",
       "6          0           2879         43               высшее             0   \n",
       "7          0            152         50              среднее             1   \n",
       "8          2           6929         35               высшее             0   \n",
       "9          0           2188         41              среднее             1   \n",
       "10         2           4171         36               высшее             0   \n",
       "11         0            792         40              среднее             1   \n",
       "12         0           2194         65              среднее             1   \n",
       "13         0           1846         54  неоконченное высшее             2   \n",
       "14         0           1844         56               высшее             0   \n",
       "\n",
       "       family_status  family_status_id gender income_type  debt  total_income  \\\n",
       "0    женат / замужем                 0      F   сотрудник     0        253875   \n",
       "1    женат / замужем                 0      F   сотрудник     0        112080   \n",
       "2    женат / замужем                 0      M   сотрудник     0        145885   \n",
       "3    женат / замужем                 0      M   сотрудник     0        267628   \n",
       "4   гражданский брак                 1      F   пенсионер     0        158616   \n",
       "5   гражданский брак                 1      M   компаньон     0        255763   \n",
       "6    женат / замужем                 0      F   компаньон     0        240525   \n",
       "7    женат / замужем                 0      M   сотрудник     0        135823   \n",
       "8   гражданский брак                 1      F   сотрудник     0         95856   \n",
       "9    женат / замужем                 0      M   сотрудник     0        144425   \n",
       "10   женат / замужем                 0      M   компаньон     0        113943   \n",
       "11   женат / замужем                 0      F   сотрудник     0         77069   \n",
       "12  гражданский брак                 1      M   пенсионер     0        145017   \n",
       "13   женат / замужем                 0      F   сотрудник     0        130458   \n",
       "14  гражданский брак                 1      F   компаньон     1        165127   \n",
       "\n",
       "                              purpose purpose_category category_income  \n",
       "0                       покупка жилья         На жилье   Средний доход  \n",
       "1             приобретение автомобиля    На автомобиль    Низкий доход  \n",
       "2                       покупка жилья         На жилье    Низкий доход  \n",
       "3          дополнительное образование   На образование   Средний доход  \n",
       "4                     сыграть свадьбу       На свадьбу   Средний доход  \n",
       "5                       покупка жилья         На жилье   Средний доход  \n",
       "6                   операции с жильем         На жилье   Средний доход  \n",
       "7                         образование   На образование    Низкий доход  \n",
       "8               на проведение свадьбы       На свадьбу    Низкий доход  \n",
       "9             покупка жилья для семьи         На жилье    Низкий доход  \n",
       "10               покупка недвижимости         На жилье    Низкий доход  \n",
       "11  покупка коммерческой недвижимости         На жилье    Низкий доход  \n",
       "12                    сыграть свадьбу       На свадьбу    Низкий доход  \n",
       "13            приобретение автомобиля    На автомобиль    Низкий доход  \n",
       "14         покупка жилой недвижимости         На жилье   Средний доход  "
      ]
     },
     "metadata": {},
     "output_type": "display_data"
    }
   ],
   "source": [
    "data['category_income'] = data['total_income'].apply(category_total_income)\n",
    "display(data.head(15))"
   ]
  },
  {
   "cell_type": "markdown",
   "metadata": {},
   "source": [
    "**Вывод**"
   ]
  },
  {
   "cell_type": "markdown",
   "metadata": {},
   "source": [
    "На этом этапе категоризировали все цели на 4 вида: 'На автомобиль', 'На свадьбу', 'На образование', 'На жилье', в зависимости от формулировок целей в столбце 'purpose'"
   ]
  },
  {
   "cell_type": "markdown",
   "metadata": {},
   "source": [
    "## Шаг 3. Ответьте на вопросы"
   ]
  },
  {
   "cell_type": "markdown",
   "metadata": {},
   "source": [
    "- Есть ли зависимость между наличием детей и возвратом кредита в срок?"
   ]
  },
  {
   "cell_type": "markdown",
   "metadata": {},
   "source": [
    "Проверим как различаются заемщики по наличию и колличеству детей в семье"
   ]
  },
  {
   "cell_type": "code",
   "execution_count": 152,
   "metadata": {},
   "outputs": [
    {
     "data": {
      "text/plain": [
       "array([ 1,  0,  3,  2, -1,  4, 20,  5])"
      ]
     },
     "execution_count": 152,
     "metadata": {},
     "output_type": "execute_result"
    }
   ],
   "source": [
    "data['children'].unique() #выводим список уникальнвх значений столбца 'children'"
   ]
  },
  {
   "cell_type": "markdown",
   "metadata": {},
   "source": [
    "В столбце 'children' имеется значение -1, такого количества детей не может быть, скорее всего ошибка при вводе данных, , седалем все значения данного столбца положительными"
   ]
  },
  {
   "cell_type": "code",
   "execution_count": 153,
   "metadata": {},
   "outputs": [
    {
     "data": {
      "text/plain": [
       "array([ 1,  0,  3,  2,  4, 20,  5])"
      ]
     },
     "execution_count": 153,
     "metadata": {},
     "output_type": "execute_result"
    }
   ],
   "source": [
    "data['children'] = np.abs(data['children']) # делаю абсалютные значения из значений столбца 'children'\n",
    "data['children'].unique() # ещё раз проверяем столбец 'children'"
   ]
  },
  {
   "cell_type": "code",
   "execution_count": 154,
   "metadata": {},
   "outputs": [
    {
     "data": {
      "text/html": [
       "<div>\n",
       "<style scoped>\n",
       "    .dataframe tbody tr th:only-of-type {\n",
       "        vertical-align: middle;\n",
       "    }\n",
       "\n",
       "    .dataframe tbody tr th {\n",
       "        vertical-align: top;\n",
       "    }\n",
       "\n",
       "    .dataframe thead tr th {\n",
       "        text-align: left;\n",
       "    }\n",
       "\n",
       "    .dataframe thead tr:last-of-type th {\n",
       "        text-align: right;\n",
       "    }\n",
       "</style>\n",
       "<table border=\"1\" class=\"dataframe\">\n",
       "  <thead>\n",
       "    <tr>\n",
       "      <th></th>\n",
       "      <th>count</th>\n",
       "      <th>mean</th>\n",
       "    </tr>\n",
       "    <tr>\n",
       "      <th></th>\n",
       "      <th>debt</th>\n",
       "      <th>debt</th>\n",
       "    </tr>\n",
       "    <tr>\n",
       "      <th>children</th>\n",
       "      <th></th>\n",
       "      <th></th>\n",
       "    </tr>\n",
       "  </thead>\n",
       "  <tbody>\n",
       "    <tr>\n",
       "      <td>0</td>\n",
       "      <td>14091</td>\n",
       "      <td>0.075438</td>\n",
       "    </tr>\n",
       "    <tr>\n",
       "      <td>1</td>\n",
       "      <td>4855</td>\n",
       "      <td>0.091658</td>\n",
       "    </tr>\n",
       "    <tr>\n",
       "      <td>2</td>\n",
       "      <td>2052</td>\n",
       "      <td>0.094542</td>\n",
       "    </tr>\n",
       "    <tr>\n",
       "      <td>3</td>\n",
       "      <td>330</td>\n",
       "      <td>0.081818</td>\n",
       "    </tr>\n",
       "    <tr>\n",
       "      <td>4</td>\n",
       "      <td>41</td>\n",
       "      <td>0.097561</td>\n",
       "    </tr>\n",
       "    <tr>\n",
       "      <td>5</td>\n",
       "      <td>9</td>\n",
       "      <td>0.000000</td>\n",
       "    </tr>\n",
       "    <tr>\n",
       "      <td>20</td>\n",
       "      <td>76</td>\n",
       "      <td>0.105263</td>\n",
       "    </tr>\n",
       "  </tbody>\n",
       "</table>\n",
       "</div>"
      ],
      "text/plain": [
       "          count      mean\n",
       "           debt      debt\n",
       "children                 \n",
       "0         14091  0.075438\n",
       "1          4855  0.091658\n",
       "2          2052  0.094542\n",
       "3           330  0.081818\n",
       "4            41  0.097561\n",
       "5             9  0.000000\n",
       "20           76  0.105263"
      ]
     },
     "metadata": {},
     "output_type": "display_data"
    }
   ],
   "source": [
    "data_pivot = data.pivot_table(index=['children'], values='debt', aggfunc=['count', 'mean']) # делаю сводную таблицу, которая покажет процент наличия задолжностей по кредиту, а также количество кредитов, в зависимости от колтчества детей\n",
    "display(data_pivot) # вывожу на экран данную таблицу"
   ]
  },
  {
   "cell_type": "markdown",
   "metadata": {},
   "source": [
    "**Вывод** "
   ]
  },
  {
   "cell_type": "markdown",
   "metadata": {},
   "source": [
    "Данные распределены неровномерно, количество заёмщиков у которых нет детей почти в 2 раза больше, чем остальных (столбец 'count\n",
    "debt'), поэтому сложно сделать однозначный вывод о влиянии наличия детей на возврат кредита. Если все таки посмотреть процент наличия задолжностей по кредиту (mean debt), то в распределение даже между заемщиами с разным количеством детей нет прямой зависимости. Исходя из этого, делаю вывод что связи между наличием детей и возвратом кредита в срок, исходя из представленных данных, нет, изучим другие факторы, которые могут влиять на возврат кредита всрок "
   ]
  },
  {
   "cell_type": "markdown",
   "metadata": {},
   "source": [
    "- Есть ли зависимость между семейным положением и возвратом кредита в срок?"
   ]
  },
  {
   "cell_type": "code",
   "execution_count": 155,
   "metadata": {},
   "outputs": [
    {
     "data": {
      "text/html": [
       "<div>\n",
       "<style scoped>\n",
       "    .dataframe tbody tr th:only-of-type {\n",
       "        vertical-align: middle;\n",
       "    }\n",
       "\n",
       "    .dataframe tbody tr th {\n",
       "        vertical-align: top;\n",
       "    }\n",
       "\n",
       "    .dataframe thead tr th {\n",
       "        text-align: left;\n",
       "    }\n",
       "\n",
       "    .dataframe thead tr:last-of-type th {\n",
       "        text-align: right;\n",
       "    }\n",
       "</style>\n",
       "<table border=\"1\" class=\"dataframe\">\n",
       "  <thead>\n",
       "    <tr>\n",
       "      <th></th>\n",
       "      <th>count</th>\n",
       "      <th>mean</th>\n",
       "    </tr>\n",
       "    <tr>\n",
       "      <th></th>\n",
       "      <th>debt</th>\n",
       "      <th>debt</th>\n",
       "    </tr>\n",
       "    <tr>\n",
       "      <th>family_status</th>\n",
       "      <th></th>\n",
       "      <th></th>\n",
       "    </tr>\n",
       "  </thead>\n",
       "  <tbody>\n",
       "    <tr>\n",
       "      <td>Не женат / не замужем</td>\n",
       "      <td>2810</td>\n",
       "      <td>0.097509</td>\n",
       "    </tr>\n",
       "    <tr>\n",
       "      <td>в разводе</td>\n",
       "      <td>1195</td>\n",
       "      <td>0.071130</td>\n",
       "    </tr>\n",
       "    <tr>\n",
       "      <td>вдовец / вдова</td>\n",
       "      <td>959</td>\n",
       "      <td>0.065693</td>\n",
       "    </tr>\n",
       "    <tr>\n",
       "      <td>гражданский брак</td>\n",
       "      <td>4151</td>\n",
       "      <td>0.093471</td>\n",
       "    </tr>\n",
       "    <tr>\n",
       "      <td>женат / замужем</td>\n",
       "      <td>12339</td>\n",
       "      <td>0.075452</td>\n",
       "    </tr>\n",
       "  </tbody>\n",
       "</table>\n",
       "</div>"
      ],
      "text/plain": [
       "                       count      mean\n",
       "                        debt      debt\n",
       "family_status                         \n",
       "Не женат / не замужем   2810  0.097509\n",
       "в разводе               1195  0.071130\n",
       "вдовец / вдова           959  0.065693\n",
       "гражданский брак        4151  0.093471\n",
       "женат / замужем        12339  0.075452"
      ]
     },
     "metadata": {},
     "output_type": "display_data"
    }
   ],
   "source": [
    "data_pivot = data.pivot_table(index=['family_status'], values='debt', aggfunc=['count', 'mean']) # делаю сводную таблицу, которая покажет процент наличия задолжностей по кредиту, а также количество кредитов, в зависимости от семейного положения\n",
    "display(data_pivot) # вывожу на экран данную таблицу"
   ]
  },
  {
   "cell_type": "markdown",
   "metadata": {},
   "source": [
    "**Вывод**"
   ]
  },
  {
   "cell_type": "markdown",
   "metadata": {},
   "source": [
    "Исходя из представленных данных, сложно сделать вывод о прямом влияние семейного положения на возврат кредита в срок, так как самый маленький процент наличия заодлжностей по кредитам у категорий: вдовец / вдова, женат / замужем и в разводе, в то время как у категорий не женат / не замужем и гражданский брак процент заодлжностей по кредитам выше, но тут скорее можно говорить о возрасте данных категорий, люди, как правило выходят замуж/женятся и разводятся, а так же становятся вдовом/вдовой в более старшем возрасте, а уровень дохода в старшем возрасте как правило выше, чем у молодых. Исходя из вышесказанного, прямой зависимости между семейным положением и возвратом кредита в срок нет"
   ]
  },
  {
   "cell_type": "markdown",
   "metadata": {},
   "source": [
    "- Есть ли зависимость между уровнем дохода и возвратом кредита в срок?"
   ]
  },
  {
   "cell_type": "code",
   "execution_count": 156,
   "metadata": {},
   "outputs": [
    {
     "data": {
      "text/html": [
       "<div>\n",
       "<style scoped>\n",
       "    .dataframe tbody tr th:only-of-type {\n",
       "        vertical-align: middle;\n",
       "    }\n",
       "\n",
       "    .dataframe tbody tr th {\n",
       "        vertical-align: top;\n",
       "    }\n",
       "\n",
       "    .dataframe thead tr th {\n",
       "        text-align: left;\n",
       "    }\n",
       "\n",
       "    .dataframe thead tr:last-of-type th {\n",
       "        text-align: right;\n",
       "    }\n",
       "</style>\n",
       "<table border=\"1\" class=\"dataframe\">\n",
       "  <thead>\n",
       "    <tr>\n",
       "      <th></th>\n",
       "      <th>count</th>\n",
       "      <th>mean</th>\n",
       "    </tr>\n",
       "    <tr>\n",
       "      <th></th>\n",
       "      <th>debt</th>\n",
       "      <th>debt</th>\n",
       "    </tr>\n",
       "    <tr>\n",
       "      <th>category_income</th>\n",
       "      <th></th>\n",
       "      <th></th>\n",
       "    </tr>\n",
       "  </thead>\n",
       "  <tbody>\n",
       "    <tr>\n",
       "      <td>Высокий доход</td>\n",
       "      <td>1482</td>\n",
       "      <td>0.071525</td>\n",
       "    </tr>\n",
       "    <tr>\n",
       "      <td>Низкий доход</td>\n",
       "      <td>12270</td>\n",
       "      <td>0.082722</td>\n",
       "    </tr>\n",
       "    <tr>\n",
       "      <td>Средний доход</td>\n",
       "      <td>7702</td>\n",
       "      <td>0.080499</td>\n",
       "    </tr>\n",
       "  </tbody>\n",
       "</table>\n",
       "</div>"
      ],
      "text/plain": [
       "                 count      mean\n",
       "                  debt      debt\n",
       "category_income                 \n",
       "Высокий доход     1482  0.071525\n",
       "Низкий доход     12270  0.082722\n",
       "Средний доход     7702  0.080499"
      ]
     },
     "metadata": {},
     "output_type": "display_data"
    }
   ],
   "source": [
    "data_pivot = data.pivot_table(index=['category_income'], values='debt', aggfunc=['count', 'mean']) # делаю сводную таблицу, которая покажет процент наличия задолжностей по кредиту, а также количество кредитов, в зависимости от уровня дохода\n",
    "display(data_pivot) # вывожу на экран данную таблицу"
   ]
  },
  {
   "cell_type": "markdown",
   "metadata": {},
   "source": [
    "**Вывод**"
   ]
  },
  {
   "cell_type": "markdown",
   "metadata": {},
   "source": [
    "Да, взаимосвязь выявлена, заёмщики с высоким доходом имеют самый низкий процент задолжностей по кредитам, а люди с низким доходом самый большой "
   ]
  },
  {
   "cell_type": "markdown",
   "metadata": {},
   "source": [
    "- Как разные цели кредита влияют на его возврат в срок?"
   ]
  },
  {
   "cell_type": "code",
   "execution_count": 157,
   "metadata": {},
   "outputs": [
    {
     "data": {
      "text/html": [
       "<div>\n",
       "<style scoped>\n",
       "    .dataframe tbody tr th:only-of-type {\n",
       "        vertical-align: middle;\n",
       "    }\n",
       "\n",
       "    .dataframe tbody tr th {\n",
       "        vertical-align: top;\n",
       "    }\n",
       "\n",
       "    .dataframe thead tr th {\n",
       "        text-align: left;\n",
       "    }\n",
       "\n",
       "    .dataframe thead tr:last-of-type th {\n",
       "        text-align: right;\n",
       "    }\n",
       "</style>\n",
       "<table border=\"1\" class=\"dataframe\">\n",
       "  <thead>\n",
       "    <tr>\n",
       "      <th></th>\n",
       "      <th>count</th>\n",
       "      <th>mean</th>\n",
       "    </tr>\n",
       "    <tr>\n",
       "      <th></th>\n",
       "      <th>debt</th>\n",
       "      <th>debt</th>\n",
       "    </tr>\n",
       "    <tr>\n",
       "      <th>purpose_category</th>\n",
       "      <th></th>\n",
       "      <th></th>\n",
       "    </tr>\n",
       "  </thead>\n",
       "  <tbody>\n",
       "    <tr>\n",
       "      <td>На автомобиль</td>\n",
       "      <td>4306</td>\n",
       "      <td>0.093590</td>\n",
       "    </tr>\n",
       "    <tr>\n",
       "      <td>На жилье</td>\n",
       "      <td>10811</td>\n",
       "      <td>0.072334</td>\n",
       "    </tr>\n",
       "    <tr>\n",
       "      <td>На образование</td>\n",
       "      <td>4013</td>\n",
       "      <td>0.092200</td>\n",
       "    </tr>\n",
       "    <tr>\n",
       "      <td>На свадьбу</td>\n",
       "      <td>2324</td>\n",
       "      <td>0.080034</td>\n",
       "    </tr>\n",
       "  </tbody>\n",
       "</table>\n",
       "</div>"
      ],
      "text/plain": [
       "                  count      mean\n",
       "                   debt      debt\n",
       "purpose_category                 \n",
       "На автомобиль      4306  0.093590\n",
       "На жилье          10811  0.072334\n",
       "На образование     4013  0.092200\n",
       "На свадьбу         2324  0.080034"
      ]
     },
     "metadata": {},
     "output_type": "display_data"
    }
   ],
   "source": [
    "data_pivot = data.pivot_table(index=['purpose_category'], values='debt', aggfunc=['count', 'mean']) # делаю сводную таблицу, которая покажет процент наличия задолжностей по кредиту, а также количество кредитов, в зависимости от целей кредита\n",
    "display(data_pivot) # вывожу на экран данную таблицу"
   ]
  },
  {
   "cell_type": "markdown",
   "metadata": {},
   "source": [
    "**Вывод**"
   ]
  },
  {
   "cell_type": "markdown",
   "metadata": {},
   "source": [
    "Исходя из данных, процент наличия задолжностей по кредитам, которые берут на жилье, меньше всего, затем идут кредиты, которые берут на свадьбу, проценты наличия задолжности по целям 'На автомобиль' и 'На образование' самые большие "
   ]
  },
  {
   "cell_type": "markdown",
   "metadata": {},
   "source": [
    "## Шаг 4. Общий вывод"
   ]
  },
  {
   "cell_type": "markdown",
   "metadata": {},
   "source": [
    "В ходе исследования были даны ответы на 4 вопроса:\n",
    "\n",
    "1. Есть ли зависимость между наличием детей и возвратом кредита в срок?\n",
    "Оказалось, что связи между наличием детей и возвратом кредита в срок, исходя из представленных данных, нет.\n",
    "2. Есть ли зависимость между семейным положением и возвратом кредита в срок?\n",
    "Прямой зависимости между семейным положением и возвратом кредита в срок не выявлено.\n",
    "3. Есть ли зависимость между уровнем дохода и возвратом кредита в срок?\n",
    "Да, взаимосвязь выявлена, заёмщики с высоким доходом имеют самый низкий процент задолжностей по кредитам, а люди с низким доходом самый большой.\n",
    "4. Как разные цели кредита влияют на его возврат в срок?\n",
    "Оказалось, что процент наличия задолжностей по кредитам, которые берут на жилье, меньше всего, затем идут кредиты, которые берут на свадьбу, проценты наличия задолжности по целям 'На автомобиль' и 'На образование' самые большие.\n",
    "\n",
    "Таким образом, были даны ответы на все вопросы , поставленные перед началом исследования"
   ]
  }
 ],
 "metadata": {
  "ExecuteTimeLog": [
   {
    "duration": 613,
    "start_time": "2022-01-21T12:52:06.321Z"
   },
   {
    "duration": 43,
    "start_time": "2022-01-21T12:52:30.489Z"
   },
   {
    "duration": 44,
    "start_time": "2022-01-21T12:53:11.759Z"
   },
   {
    "duration": 62,
    "start_time": "2022-01-21T12:53:50.575Z"
   },
   {
    "duration": 26,
    "start_time": "2022-01-21T13:21:03.131Z"
   },
   {
    "duration": 9,
    "start_time": "2022-01-21T13:27:08.546Z"
   },
   {
    "duration": 10,
    "start_time": "2022-01-21T13:30:07.472Z"
   },
   {
    "duration": 2407,
    "start_time": "2022-01-21T13:30:16.745Z"
   },
   {
    "duration": 229,
    "start_time": "2022-01-21T13:30:23.388Z"
   },
   {
    "duration": 268,
    "start_time": "2022-01-21T13:31:44.683Z"
   },
   {
    "duration": 7,
    "start_time": "2022-01-21T13:32:12.690Z"
   },
   {
    "duration": 8,
    "start_time": "2022-01-21T13:38:57.713Z"
   },
   {
    "duration": 5,
    "start_time": "2022-01-21T13:39:39.896Z"
   },
   {
    "duration": 5,
    "start_time": "2022-01-21T13:39:47.028Z"
   },
   {
    "duration": 5,
    "start_time": "2022-01-21T13:40:31.436Z"
   },
   {
    "duration": 12,
    "start_time": "2022-01-21T13:41:02.908Z"
   },
   {
    "duration": 4,
    "start_time": "2022-01-21T14:57:08.787Z"
   },
   {
    "duration": 4,
    "start_time": "2022-01-21T14:57:13.062Z"
   },
   {
    "duration": 4,
    "start_time": "2022-01-21T14:57:25.185Z"
   },
   {
    "duration": 4,
    "start_time": "2022-01-21T15:12:35.260Z"
   },
   {
    "duration": 5,
    "start_time": "2022-01-21T15:12:46.951Z"
   },
   {
    "duration": 5,
    "start_time": "2022-01-21T15:14:01.831Z"
   },
   {
    "duration": 5,
    "start_time": "2022-01-21T15:14:08.708Z"
   },
   {
    "duration": 6,
    "start_time": "2022-01-21T15:14:15.674Z"
   },
   {
    "duration": 5,
    "start_time": "2022-01-21T15:14:18.675Z"
   },
   {
    "duration": 3,
    "start_time": "2022-01-21T15:22:33.417Z"
   },
   {
    "duration": 5,
    "start_time": "2022-01-21T15:22:45.518Z"
   },
   {
    "duration": 4,
    "start_time": "2022-01-21T15:22:58.603Z"
   },
   {
    "duration": 10,
    "start_time": "2022-01-21T15:24:31.554Z"
   },
   {
    "duration": 4,
    "start_time": "2022-01-21T15:24:56.899Z"
   },
   {
    "duration": 3030,
    "start_time": "2022-01-21T15:29:39.136Z"
   },
   {
    "duration": 3634,
    "start_time": "2022-01-21T15:30:07.601Z"
   },
   {
    "duration": 242,
    "start_time": "2022-01-21T15:39:04.155Z"
   },
   {
    "duration": 50,
    "start_time": "2022-01-21T15:39:40.721Z"
   },
   {
    "duration": 9,
    "start_time": "2022-01-21T15:39:40.773Z"
   },
   {
    "duration": 5,
    "start_time": "2022-01-21T15:39:40.784Z"
   },
   {
    "duration": 5,
    "start_time": "2022-01-21T15:39:40.790Z"
   },
   {
    "duration": 4,
    "start_time": "2022-01-21T15:39:40.813Z"
   },
   {
    "duration": 78,
    "start_time": "2022-01-21T15:39:40.819Z"
   },
   {
    "duration": 8,
    "start_time": "2022-01-21T15:40:15.875Z"
   },
   {
    "duration": 6,
    "start_time": "2022-01-21T15:40:56.005Z"
   },
   {
    "duration": 10,
    "start_time": "2022-01-21T15:41:13.587Z"
   },
   {
    "duration": 10,
    "start_time": "2022-01-21T15:43:13.540Z"
   },
   {
    "duration": 17,
    "start_time": "2022-01-21T15:44:18.592Z"
   },
   {
    "duration": 245,
    "start_time": "2022-01-21T15:44:42.919Z"
   },
   {
    "duration": 18,
    "start_time": "2022-01-21T15:44:50.170Z"
   },
   {
    "duration": 249,
    "start_time": "2022-01-21T15:45:04.739Z"
   },
   {
    "duration": 258,
    "start_time": "2022-01-21T15:45:35.835Z"
   },
   {
    "duration": 9,
    "start_time": "2022-01-21T15:45:55.825Z"
   },
   {
    "duration": 9,
    "start_time": "2022-01-21T15:46:45.426Z"
   },
   {
    "duration": 9,
    "start_time": "2022-01-21T15:48:32.692Z"
   },
   {
    "duration": 6,
    "start_time": "2022-01-21T15:50:21.788Z"
   },
   {
    "duration": 25,
    "start_time": "2022-01-21T15:51:13.473Z"
   },
   {
    "duration": 130,
    "start_time": "2022-01-21T15:51:52.116Z"
   },
   {
    "duration": 132,
    "start_time": "2022-01-21T15:52:12.600Z"
   },
   {
    "duration": 9,
    "start_time": "2022-01-21T15:53:06.373Z"
   },
   {
    "duration": 6071,
    "start_time": "2022-01-21T15:56:41.090Z"
   },
   {
    "duration": 3,
    "start_time": "2022-01-21T15:56:59.736Z"
   },
   {
    "duration": 9,
    "start_time": "2022-01-21T15:57:19.426Z"
   },
   {
    "duration": 5,
    "start_time": "2022-01-21T15:59:03.109Z"
   },
   {
    "duration": 9,
    "start_time": "2022-01-21T16:00:28.784Z"
   },
   {
    "duration": 54,
    "start_time": "2022-01-21T16:00:43.158Z"
   },
   {
    "duration": 10,
    "start_time": "2022-01-21T16:00:43.214Z"
   },
   {
    "duration": 5,
    "start_time": "2022-01-21T16:00:43.227Z"
   },
   {
    "duration": 6,
    "start_time": "2022-01-21T16:00:43.234Z"
   },
   {
    "duration": 10,
    "start_time": "2022-01-21T16:00:43.242Z"
   },
   {
    "duration": 10,
    "start_time": "2022-01-21T16:00:43.254Z"
   },
   {
    "duration": 6,
    "start_time": "2022-01-21T16:00:43.313Z"
   },
   {
    "duration": 77,
    "start_time": "2022-01-21T16:00:43.322Z"
   },
   {
    "duration": 9,
    "start_time": "2022-01-21T16:04:12.198Z"
   },
   {
    "duration": 6,
    "start_time": "2022-01-21T16:08:04.879Z"
   },
   {
    "duration": 55,
    "start_time": "2022-01-21T16:08:14.697Z"
   },
   {
    "duration": 11,
    "start_time": "2022-01-21T16:08:14.755Z"
   },
   {
    "duration": 4,
    "start_time": "2022-01-21T16:08:14.769Z"
   },
   {
    "duration": 40,
    "start_time": "2022-01-21T16:08:14.775Z"
   },
   {
    "duration": 10,
    "start_time": "2022-01-21T16:08:14.817Z"
   },
   {
    "duration": 10,
    "start_time": "2022-01-21T16:08:14.828Z"
   },
   {
    "duration": 7,
    "start_time": "2022-01-21T16:08:14.839Z"
   },
   {
    "duration": 5,
    "start_time": "2022-01-21T16:08:14.848Z"
   },
   {
    "duration": 226,
    "start_time": "2022-01-21T16:08:14.854Z"
   },
   {
    "duration": 7,
    "start_time": "2022-01-21T16:09:29.386Z"
   },
   {
    "duration": 421,
    "start_time": "2022-01-21T16:10:30.052Z"
   },
   {
    "duration": 74,
    "start_time": "2022-01-21T16:10:49.684Z"
   },
   {
    "duration": 83,
    "start_time": "2022-01-21T16:16:11.694Z"
   },
   {
    "duration": 217,
    "start_time": "2022-01-21T16:16:28.149Z"
   },
   {
    "duration": 694,
    "start_time": "2022-01-22T10:02:11.227Z"
   },
   {
    "duration": 15,
    "start_time": "2022-01-22T10:02:11.923Z"
   },
   {
    "duration": 30,
    "start_time": "2022-01-22T10:02:11.940Z"
   },
   {
    "duration": 34,
    "start_time": "2022-01-22T10:02:11.972Z"
   },
   {
    "duration": 5,
    "start_time": "2022-01-22T10:06:32.712Z"
   },
   {
    "duration": 4,
    "start_time": "2022-01-22T10:13:18.373Z"
   },
   {
    "duration": 5,
    "start_time": "2022-01-22T10:13:44.430Z"
   },
   {
    "duration": 7,
    "start_time": "2022-01-22T10:19:30.625Z"
   },
   {
    "duration": 5,
    "start_time": "2022-01-22T10:25:13.202Z"
   },
   {
    "duration": 11,
    "start_time": "2022-01-22T10:26:43.716Z"
   },
   {
    "duration": 4,
    "start_time": "2022-01-22T10:40:27.932Z"
   },
   {
    "duration": 6,
    "start_time": "2022-01-22T10:40:45.266Z"
   },
   {
    "duration": 58,
    "start_time": "2022-01-22T10:41:05.588Z"
   },
   {
    "duration": 10,
    "start_time": "2022-01-22T10:41:05.647Z"
   },
   {
    "duration": 19,
    "start_time": "2022-01-22T10:41:05.658Z"
   },
   {
    "duration": 33,
    "start_time": "2022-01-22T10:41:05.679Z"
   },
   {
    "duration": 32,
    "start_time": "2022-01-22T10:41:05.714Z"
   },
   {
    "duration": 28,
    "start_time": "2022-01-22T10:41:05.748Z"
   },
   {
    "duration": 28,
    "start_time": "2022-01-22T10:41:05.778Z"
   },
   {
    "duration": 19,
    "start_time": "2022-01-22T10:41:05.808Z"
   },
   {
    "duration": 42,
    "start_time": "2022-01-22T10:41:05.829Z"
   },
   {
    "duration": 5,
    "start_time": "2022-01-22T13:24:46.376Z"
   },
   {
    "duration": 54,
    "start_time": "2022-01-22T13:25:26.278Z"
   },
   {
    "duration": 10,
    "start_time": "2022-01-22T13:25:26.334Z"
   },
   {
    "duration": 5,
    "start_time": "2022-01-22T13:25:26.347Z"
   },
   {
    "duration": 7,
    "start_time": "2022-01-22T13:25:26.355Z"
   },
   {
    "duration": 6,
    "start_time": "2022-01-22T13:25:26.363Z"
   },
   {
    "duration": 9,
    "start_time": "2022-01-22T13:25:26.370Z"
   },
   {
    "duration": 4,
    "start_time": "2022-01-22T13:25:26.381Z"
   },
   {
    "duration": 6,
    "start_time": "2022-01-22T13:25:26.387Z"
   },
   {
    "duration": 6,
    "start_time": "2022-01-22T13:25:26.395Z"
   },
   {
    "duration": 799,
    "start_time": "2022-01-23T08:53:23.244Z"
   },
   {
    "duration": 21,
    "start_time": "2022-01-23T08:53:24.046Z"
   },
   {
    "duration": 8,
    "start_time": "2022-01-23T08:53:24.070Z"
   },
   {
    "duration": 46,
    "start_time": "2022-01-23T08:53:24.081Z"
   },
   {
    "duration": 8,
    "start_time": "2022-01-23T08:53:24.130Z"
   },
   {
    "duration": 8,
    "start_time": "2022-01-23T08:53:24.141Z"
   },
   {
    "duration": 7,
    "start_time": "2022-01-23T08:53:24.151Z"
   },
   {
    "duration": 6,
    "start_time": "2022-01-23T08:53:24.161Z"
   },
   {
    "duration": 7,
    "start_time": "2022-01-23T08:53:24.224Z"
   },
   {
    "duration": 6,
    "start_time": "2022-01-23T08:53:24.234Z"
   },
   {
    "duration": 13,
    "start_time": "2022-01-23T08:58:27.664Z"
   },
   {
    "duration": 682,
    "start_time": "2022-01-24T05:21:53.989Z"
   },
   {
    "duration": 15,
    "start_time": "2022-01-24T05:21:54.673Z"
   },
   {
    "duration": 10,
    "start_time": "2022-01-24T05:21:54.690Z"
   },
   {
    "duration": 5,
    "start_time": "2022-01-24T05:21:54.701Z"
   },
   {
    "duration": 11,
    "start_time": "2022-01-24T05:21:54.708Z"
   },
   {
    "duration": 6,
    "start_time": "2022-01-24T05:21:54.721Z"
   },
   {
    "duration": 7,
    "start_time": "2022-01-24T05:21:54.728Z"
   },
   {
    "duration": 5,
    "start_time": "2022-01-24T05:21:54.737Z"
   },
   {
    "duration": 7,
    "start_time": "2022-01-24T05:21:54.744Z"
   },
   {
    "duration": 10,
    "start_time": "2022-01-24T05:21:54.753Z"
   },
   {
    "duration": 337,
    "start_time": "2022-01-24T05:21:54.765Z"
   },
   {
    "duration": 4,
    "start_time": "2022-01-24T05:31:17.613Z"
   },
   {
    "duration": 5,
    "start_time": "2022-01-24T05:33:08.219Z"
   },
   {
    "duration": 13,
    "start_time": "2022-01-24T05:37:54.681Z"
   },
   {
    "duration": 285,
    "start_time": "2022-01-24T13:34:22.680Z"
   },
   {
    "duration": 57,
    "start_time": "2022-01-24T13:34:26.217Z"
   },
   {
    "duration": 10,
    "start_time": "2022-01-24T13:34:26.276Z"
   },
   {
    "duration": 7,
    "start_time": "2022-01-24T13:34:26.288Z"
   },
   {
    "duration": 8,
    "start_time": "2022-01-24T13:34:26.297Z"
   },
   {
    "duration": 6,
    "start_time": "2022-01-24T13:34:26.306Z"
   },
   {
    "duration": 5,
    "start_time": "2022-01-24T13:34:26.313Z"
   },
   {
    "duration": 6,
    "start_time": "2022-01-24T13:34:26.320Z"
   },
   {
    "duration": 4,
    "start_time": "2022-01-24T13:34:26.328Z"
   },
   {
    "duration": 5,
    "start_time": "2022-01-24T13:34:26.334Z"
   },
   {
    "duration": 12,
    "start_time": "2022-01-24T13:34:26.341Z"
   },
   {
    "duration": 51,
    "start_time": "2022-01-24T13:34:26.355Z"
   },
   {
    "duration": 213,
    "start_time": "2022-01-24T13:34:26.408Z"
   },
   {
    "duration": 614,
    "start_time": "2022-01-24T13:36:30.349Z"
   },
   {
    "duration": 321,
    "start_time": "2022-01-24T13:36:45.291Z"
   },
   {
    "duration": 4,
    "start_time": "2022-01-24T13:37:24.772Z"
   },
   {
    "duration": 5,
    "start_time": "2022-01-24T13:38:16.922Z"
   },
   {
    "duration": 8,
    "start_time": "2022-01-24T13:39:35.431Z"
   },
   {
    "duration": 8,
    "start_time": "2022-01-24T13:39:47.056Z"
   },
   {
    "duration": 230,
    "start_time": "2022-01-24T13:49:03.009Z"
   },
   {
    "duration": 223,
    "start_time": "2022-01-24T13:49:43.082Z"
   },
   {
    "duration": 15,
    "start_time": "2022-01-24T13:51:10.003Z"
   },
   {
    "duration": 7,
    "start_time": "2022-01-24T13:57:52.881Z"
   },
   {
    "duration": 8,
    "start_time": "2022-01-24T13:59:05.180Z"
   },
   {
    "duration": 211,
    "start_time": "2022-01-24T13:59:16.761Z"
   },
   {
    "duration": 6,
    "start_time": "2022-01-24T13:59:29.778Z"
   },
   {
    "duration": 64,
    "start_time": "2022-01-24T14:00:35.635Z"
   },
   {
    "duration": 9,
    "start_time": "2022-01-24T14:00:35.701Z"
   },
   {
    "duration": 27,
    "start_time": "2022-01-24T14:00:35.712Z"
   },
   {
    "duration": 24,
    "start_time": "2022-01-24T14:00:35.741Z"
   },
   {
    "duration": 35,
    "start_time": "2022-01-24T14:00:35.766Z"
   },
   {
    "duration": 29,
    "start_time": "2022-01-24T14:00:35.802Z"
   },
   {
    "duration": 30,
    "start_time": "2022-01-24T14:00:35.833Z"
   },
   {
    "duration": 27,
    "start_time": "2022-01-24T14:00:35.865Z"
   },
   {
    "duration": 18,
    "start_time": "2022-01-24T14:00:35.894Z"
   },
   {
    "duration": 32,
    "start_time": "2022-01-24T14:00:35.914Z"
   },
   {
    "duration": 26,
    "start_time": "2022-01-24T14:00:35.948Z"
   },
   {
    "duration": 7,
    "start_time": "2022-01-24T14:00:35.976Z"
   },
   {
    "duration": 17,
    "start_time": "2022-01-24T14:00:35.985Z"
   },
   {
    "duration": 8,
    "start_time": "2022-01-24T14:00:36.004Z"
   },
   {
    "duration": 11,
    "start_time": "2022-01-24T14:00:50.758Z"
   },
   {
    "duration": 8,
    "start_time": "2022-01-24T14:00:53.505Z"
   },
   {
    "duration": 13,
    "start_time": "2022-01-24T14:01:15.054Z"
   },
   {
    "duration": 8,
    "start_time": "2022-01-24T14:02:24.030Z"
   },
   {
    "duration": 6,
    "start_time": "2022-01-24T14:02:42.721Z"
   },
   {
    "duration": 7,
    "start_time": "2022-01-24T14:03:39.115Z"
   },
   {
    "duration": 7,
    "start_time": "2022-01-24T14:04:39.907Z"
   },
   {
    "duration": 235,
    "start_time": "2022-01-24T14:05:53.819Z"
   },
   {
    "duration": 71,
    "start_time": "2022-01-24T14:19:39.246Z"
   },
   {
    "duration": 6,
    "start_time": "2022-01-24T14:19:44.854Z"
   },
   {
    "duration": 8,
    "start_time": "2022-01-24T14:20:01.549Z"
   },
   {
    "duration": 7,
    "start_time": "2022-01-24T14:21:19.563Z"
   },
   {
    "duration": 99,
    "start_time": "2022-01-24T14:23:15.843Z"
   },
   {
    "duration": 8,
    "start_time": "2022-01-24T14:23:23.467Z"
   },
   {
    "duration": 6,
    "start_time": "2022-01-24T14:23:38.892Z"
   },
   {
    "duration": 350,
    "start_time": "2022-01-24T15:36:38.230Z"
   },
   {
    "duration": 223,
    "start_time": "2022-01-24T15:37:15.008Z"
   },
   {
    "duration": 228,
    "start_time": "2022-01-24T15:37:40.424Z"
   },
   {
    "duration": 56,
    "start_time": "2022-01-24T15:37:47.447Z"
   },
   {
    "duration": 9,
    "start_time": "2022-01-24T15:37:47.505Z"
   },
   {
    "duration": 5,
    "start_time": "2022-01-24T15:37:47.516Z"
   },
   {
    "duration": 6,
    "start_time": "2022-01-24T15:37:47.522Z"
   },
   {
    "duration": 5,
    "start_time": "2022-01-24T15:37:47.530Z"
   },
   {
    "duration": 8,
    "start_time": "2022-01-24T15:37:47.537Z"
   },
   {
    "duration": 8,
    "start_time": "2022-01-24T15:37:47.547Z"
   },
   {
    "duration": 4,
    "start_time": "2022-01-24T15:37:47.558Z"
   },
   {
    "duration": 37,
    "start_time": "2022-01-24T15:37:47.564Z"
   },
   {
    "duration": 10,
    "start_time": "2022-01-24T15:37:47.603Z"
   },
   {
    "duration": 14,
    "start_time": "2022-01-24T15:37:47.615Z"
   },
   {
    "duration": 7,
    "start_time": "2022-01-24T15:37:47.631Z"
   },
   {
    "duration": 14,
    "start_time": "2022-01-24T15:37:47.640Z"
   },
   {
    "duration": 8,
    "start_time": "2022-01-24T15:37:47.656Z"
   },
   {
    "duration": 6,
    "start_time": "2022-01-24T15:37:47.699Z"
   },
   {
    "duration": 10,
    "start_time": "2022-01-24T15:37:47.706Z"
   },
   {
    "duration": 8,
    "start_time": "2022-01-24T15:37:47.718Z"
   },
   {
    "duration": 7,
    "start_time": "2022-01-24T15:37:47.728Z"
   },
   {
    "duration": 245,
    "start_time": "2022-01-24T15:37:47.737Z"
   },
   {
    "duration": 260,
    "start_time": "2022-01-24T15:39:20.835Z"
   },
   {
    "duration": 219,
    "start_time": "2022-01-24T15:39:24.713Z"
   },
   {
    "duration": 229,
    "start_time": "2022-01-24T15:40:21.481Z"
   },
   {
    "duration": 662,
    "start_time": "2022-01-24T15:40:38.537Z"
   },
   {
    "duration": 67,
    "start_time": "2022-01-24T15:41:13.766Z"
   },
   {
    "duration": 237,
    "start_time": "2022-01-24T15:41:23.200Z"
   },
   {
    "duration": 227,
    "start_time": "2022-01-24T15:41:55.235Z"
   },
   {
    "duration": 683,
    "start_time": "2022-01-24T15:42:09.292Z"
   },
   {
    "duration": 303,
    "start_time": "2022-01-26T15:58:18.323Z"
   },
   {
    "duration": 1171,
    "start_time": "2022-01-26T15:58:33.224Z"
   },
   {
    "duration": 592,
    "start_time": "2022-01-26T15:58:34.396Z"
   },
   {
    "duration": 1624,
    "start_time": "2022-01-26T15:58:34.990Z"
   },
   {
    "duration": 1187,
    "start_time": "2022-01-26T15:58:36.616Z"
   },
   {
    "duration": 2314,
    "start_time": "2022-01-26T15:58:37.804Z"
   },
   {
    "duration": 1200,
    "start_time": "2022-01-26T15:58:40.121Z"
   },
   {
    "duration": 736,
    "start_time": "2022-01-26T15:58:41.323Z"
   },
   {
    "duration": 288,
    "start_time": "2022-01-26T15:58:42.062Z"
   },
   {
    "duration": 391,
    "start_time": "2022-01-26T15:58:42.352Z"
   },
   {
    "duration": 1431,
    "start_time": "2022-01-26T15:58:42.745Z"
   },
   {
    "duration": 2469,
    "start_time": "2022-01-26T15:58:44.177Z"
   },
   {
    "duration": 1668,
    "start_time": "2022-01-26T15:58:46.648Z"
   },
   {
    "duration": 1813,
    "start_time": "2022-01-26T15:58:48.317Z"
   },
   {
    "duration": 2433,
    "start_time": "2022-01-26T15:58:50.132Z"
   },
   {
    "duration": 2701,
    "start_time": "2022-01-26T15:58:52.567Z"
   },
   {
    "duration": 1510,
    "start_time": "2022-01-26T15:58:55.269Z"
   },
   {
    "duration": 2721,
    "start_time": "2022-01-26T15:58:56.781Z"
   },
   {
    "duration": 1165,
    "start_time": "2022-01-26T15:58:59.504Z"
   },
   {
    "duration": 1308,
    "start_time": "2022-01-26T15:59:00.671Z"
   },
   {
    "duration": 4637,
    "start_time": "2022-01-26T15:59:01.981Z"
   },
   {
    "duration": 20,
    "start_time": "2022-01-26T16:00:12.358Z"
   },
   {
    "duration": 16,
    "start_time": "2022-01-26T16:00:24.104Z"
   },
   {
    "duration": 142,
    "start_time": "2022-01-26T16:04:04.085Z"
   },
   {
    "duration": 670,
    "start_time": "2022-01-27T07:02:34.211Z"
   },
   {
    "duration": 16,
    "start_time": "2022-01-27T07:02:34.883Z"
   },
   {
    "duration": 22,
    "start_time": "2022-01-27T07:02:34.901Z"
   },
   {
    "duration": 48,
    "start_time": "2022-01-27T07:02:34.925Z"
   },
   {
    "duration": 34,
    "start_time": "2022-01-27T07:02:34.975Z"
   },
   {
    "duration": 27,
    "start_time": "2022-01-27T07:02:35.011Z"
   },
   {
    "duration": 35,
    "start_time": "2022-01-27T07:02:35.040Z"
   },
   {
    "duration": 42,
    "start_time": "2022-01-27T07:02:35.078Z"
   },
   {
    "duration": 32,
    "start_time": "2022-01-27T07:02:35.123Z"
   },
   {
    "duration": 38,
    "start_time": "2022-01-27T07:02:35.157Z"
   },
   {
    "duration": 54,
    "start_time": "2022-01-27T07:02:35.197Z"
   },
   {
    "duration": 24,
    "start_time": "2022-01-27T07:02:35.253Z"
   },
   {
    "duration": 31,
    "start_time": "2022-01-27T07:02:35.279Z"
   },
   {
    "duration": 39,
    "start_time": "2022-01-27T07:02:35.311Z"
   },
   {
    "duration": 36,
    "start_time": "2022-01-27T07:02:35.352Z"
   },
   {
    "duration": 32,
    "start_time": "2022-01-27T07:02:35.390Z"
   },
   {
    "duration": 42,
    "start_time": "2022-01-27T07:02:35.424Z"
   },
   {
    "duration": 34,
    "start_time": "2022-01-27T07:02:35.468Z"
   },
   {
    "duration": 46,
    "start_time": "2022-01-27T07:02:35.504Z"
   },
   {
    "duration": 33,
    "start_time": "2022-01-27T07:02:35.552Z"
   },
   {
    "duration": 55,
    "start_time": "2022-01-27T07:02:35.586Z"
   },
   {
    "duration": 689,
    "start_time": "2022-01-27T07:02:35.643Z"
   },
   {
    "duration": 308,
    "start_time": "2022-01-27T07:02:44.948Z"
   },
   {
    "duration": 666,
    "start_time": "2022-01-27T07:02:48.639Z"
   },
   {
    "duration": 343,
    "start_time": "2022-01-27T07:10:18.439Z"
   },
   {
    "duration": 684,
    "start_time": "2022-01-27T07:10:26.889Z"
   },
   {
    "duration": 25,
    "start_time": "2022-01-27T07:46:53.018Z"
   },
   {
    "duration": 3,
    "start_time": "2022-01-27T07:51:26.069Z"
   },
   {
    "duration": 9,
    "start_time": "2022-01-27T08:00:09.216Z"
   },
   {
    "duration": 3,
    "start_time": "2022-01-27T08:20:50.696Z"
   },
   {
    "duration": 209,
    "start_time": "2022-01-27T08:22:09.910Z"
   },
   {
    "duration": 202,
    "start_time": "2022-01-27T08:22:24.675Z"
   },
   {
    "duration": 826,
    "start_time": "2022-01-27T08:22:33.694Z"
   },
   {
    "duration": 4,
    "start_time": "2022-01-27T08:22:56.758Z"
   },
   {
    "duration": 226,
    "start_time": "2022-01-27T08:23:17.874Z"
   },
   {
    "duration": 3730,
    "start_time": "2022-01-27T08:27:54.456Z"
   },
   {
    "duration": 3566,
    "start_time": "2022-01-27T08:28:38.014Z"
   },
   {
    "duration": 3546,
    "start_time": "2022-01-27T08:28:58.916Z"
   },
   {
    "duration": 3473,
    "start_time": "2022-01-27T08:29:20.427Z"
   },
   {
    "duration": 3,
    "start_time": "2022-01-27T08:56:29.746Z"
   },
   {
    "duration": 3643,
    "start_time": "2022-01-27T09:23:12.898Z"
   },
   {
    "duration": 17,
    "start_time": "2022-01-27T11:27:50.272Z"
   },
   {
    "duration": 29,
    "start_time": "2022-01-27T11:28:25.313Z"
   },
   {
    "duration": 12,
    "start_time": "2022-01-27T11:31:02.235Z"
   },
   {
    "duration": 11,
    "start_time": "2022-01-27T11:32:39.175Z"
   },
   {
    "duration": 13,
    "start_time": "2022-01-27T11:34:34.973Z"
   },
   {
    "duration": 13,
    "start_time": "2022-01-27T11:49:59.835Z"
   },
   {
    "duration": 5,
    "start_time": "2022-01-27T11:57:02.027Z"
   },
   {
    "duration": 7,
    "start_time": "2022-01-27T12:01:06.732Z"
   },
   {
    "duration": 6,
    "start_time": "2022-01-27T12:02:55.141Z"
   },
   {
    "duration": 15,
    "start_time": "2022-01-27T12:03:02.031Z"
   },
   {
    "duration": 21,
    "start_time": "2022-01-27T12:08:19.762Z"
   },
   {
    "duration": 82,
    "start_time": "2022-01-27T12:10:18.216Z"
   },
   {
    "duration": 19,
    "start_time": "2022-01-27T12:10:23.559Z"
   },
   {
    "duration": 20,
    "start_time": "2022-01-27T12:28:57.860Z"
   },
   {
    "duration": 36,
    "start_time": "2022-01-27T12:31:45.594Z"
   },
   {
    "duration": 24,
    "start_time": "2022-01-27T12:33:12.639Z"
   },
   {
    "duration": 20,
    "start_time": "2022-01-27T12:33:25.817Z"
   },
   {
    "duration": 31,
    "start_time": "2022-01-27T12:33:54.356Z"
   },
   {
    "duration": 21,
    "start_time": "2022-01-27T12:58:44.316Z"
   },
   {
    "duration": 24,
    "start_time": "2022-01-27T12:59:30.405Z"
   },
   {
    "duration": 23,
    "start_time": "2022-01-27T13:06:53.309Z"
   },
   {
    "duration": 27,
    "start_time": "2022-01-27T13:09:45.838Z"
   },
   {
    "duration": 20,
    "start_time": "2022-01-27T13:10:12.047Z"
   },
   {
    "duration": 23,
    "start_time": "2022-01-27T13:11:51.984Z"
   },
   {
    "duration": 6,
    "start_time": "2022-01-27T15:23:29.343Z"
   },
   {
    "duration": 7,
    "start_time": "2022-01-27T15:23:53.191Z"
   },
   {
    "duration": 6,
    "start_time": "2022-01-27T15:25:17.717Z"
   },
   {
    "duration": 7,
    "start_time": "2022-01-27T15:26:31.491Z"
   },
   {
    "duration": 6,
    "start_time": "2022-01-27T15:26:45.060Z"
   },
   {
    "duration": 4,
    "start_time": "2022-01-27T15:33:29.402Z"
   },
   {
    "duration": 436,
    "start_time": "2022-01-27T15:37:06.437Z"
   },
   {
    "duration": 3,
    "start_time": "2022-01-27T15:37:33.893Z"
   },
   {
    "duration": 501,
    "start_time": "2022-01-27T15:38:11.753Z"
   },
   {
    "duration": 558,
    "start_time": "2022-01-27T15:38:21.720Z"
   },
   {
    "duration": 1104,
    "start_time": "2022-01-27T15:43:12.835Z"
   },
   {
    "duration": 838,
    "start_time": "2022-01-27T15:44:49.714Z"
   },
   {
    "duration": 69,
    "start_time": "2022-01-27T15:45:40.305Z"
   },
   {
    "duration": 127,
    "start_time": "2022-01-27T15:46:00.000Z"
   },
   {
    "duration": 4,
    "start_time": "2022-01-27T15:47:11.456Z"
   },
   {
    "duration": 4,
    "start_time": "2022-01-27T15:47:20.225Z"
   },
   {
    "duration": 8,
    "start_time": "2022-01-27T15:47:23.929Z"
   },
   {
    "duration": 20,
    "start_time": "2022-01-27T15:47:53.256Z"
   },
   {
    "duration": 4,
    "start_time": "2022-01-27T15:50:30.718Z"
   },
   {
    "duration": 20,
    "start_time": "2022-01-27T15:50:33.446Z"
   },
   {
    "duration": 7,
    "start_time": "2022-01-27T15:51:11.354Z"
   },
   {
    "duration": 7,
    "start_time": "2022-01-27T15:51:25.438Z"
   },
   {
    "duration": 7,
    "start_time": "2022-01-27T15:51:40.578Z"
   },
   {
    "duration": 7,
    "start_time": "2022-01-27T15:55:27.711Z"
   },
   {
    "duration": 7,
    "start_time": "2022-01-27T15:55:33.157Z"
   },
   {
    "duration": 7,
    "start_time": "2022-01-27T15:55:55.013Z"
   },
   {
    "duration": 6,
    "start_time": "2022-01-27T15:56:29.284Z"
   },
   {
    "duration": 6,
    "start_time": "2022-01-27T15:59:22.297Z"
   },
   {
    "duration": 7,
    "start_time": "2022-01-27T15:59:38.102Z"
   },
   {
    "duration": 3,
    "start_time": "2022-01-27T16:01:32.715Z"
   },
   {
    "duration": 320,
    "start_time": "2022-01-28T05:13:56.429Z"
   },
   {
    "duration": 639,
    "start_time": "2022-01-28T05:14:04.035Z"
   },
   {
    "duration": 12,
    "start_time": "2022-01-28T05:14:04.676Z"
   },
   {
    "duration": 4,
    "start_time": "2022-01-28T05:14:04.690Z"
   },
   {
    "duration": 6,
    "start_time": "2022-01-28T05:14:04.695Z"
   },
   {
    "duration": 4,
    "start_time": "2022-01-28T05:14:04.703Z"
   },
   {
    "duration": 19,
    "start_time": "2022-01-28T05:14:04.708Z"
   },
   {
    "duration": 10,
    "start_time": "2022-01-28T05:14:04.729Z"
   },
   {
    "duration": 4,
    "start_time": "2022-01-28T05:14:04.741Z"
   },
   {
    "duration": 5,
    "start_time": "2022-01-28T05:14:04.747Z"
   },
   {
    "duration": 26,
    "start_time": "2022-01-28T05:14:04.754Z"
   },
   {
    "duration": 19,
    "start_time": "2022-01-28T05:14:04.781Z"
   },
   {
    "duration": 26,
    "start_time": "2022-01-28T05:14:04.802Z"
   },
   {
    "duration": 13,
    "start_time": "2022-01-28T05:14:04.829Z"
   },
   {
    "duration": 10,
    "start_time": "2022-01-28T05:14:04.843Z"
   },
   {
    "duration": 7,
    "start_time": "2022-01-28T05:14:04.854Z"
   },
   {
    "duration": 7,
    "start_time": "2022-01-28T05:14:04.862Z"
   },
   {
    "duration": 7,
    "start_time": "2022-01-28T05:14:04.870Z"
   },
   {
    "duration": 7,
    "start_time": "2022-01-28T05:14:04.879Z"
   },
   {
    "duration": 17,
    "start_time": "2022-01-28T05:14:04.887Z"
   },
   {
    "duration": 37,
    "start_time": "2022-01-28T05:14:04.906Z"
   },
   {
    "duration": 14,
    "start_time": "2022-01-28T05:14:04.944Z"
   },
   {
    "duration": 6,
    "start_time": "2022-01-28T05:14:04.959Z"
   },
   {
    "duration": 5,
    "start_time": "2022-01-28T05:14:04.967Z"
   },
   {
    "duration": 3,
    "start_time": "2022-01-28T05:14:04.974Z"
   },
   {
    "duration": 4084,
    "start_time": "2022-01-28T05:14:04.978Z"
   },
   {
    "duration": 7,
    "start_time": "2022-01-28T05:14:09.064Z"
   },
   {
    "duration": 11,
    "start_time": "2022-01-28T05:14:09.073Z"
   },
   {
    "duration": 4,
    "start_time": "2022-01-28T05:14:09.085Z"
   },
   {
    "duration": 40,
    "start_time": "2022-01-28T05:14:09.090Z"
   },
   {
    "duration": 5,
    "start_time": "2022-01-28T05:14:09.132Z"
   },
   {
    "duration": 8,
    "start_time": "2022-01-28T05:14:09.138Z"
   },
   {
    "duration": 23,
    "start_time": "2022-01-28T05:14:09.148Z"
   },
   {
    "duration": 20,
    "start_time": "2022-01-28T05:14:09.173Z"
   },
   {
    "duration": 49,
    "start_time": "2022-01-28T05:14:09.195Z"
   },
   {
    "duration": 18,
    "start_time": "2022-01-28T05:14:09.246Z"
   },
   {
    "duration": 3,
    "start_time": "2022-01-28T05:15:32.170Z"
   },
   {
    "duration": 53,
    "start_time": "2022-01-28T05:15:48.533Z"
   },
   {
    "duration": 7,
    "start_time": "2022-01-28T05:15:48.588Z"
   },
   {
    "duration": 5,
    "start_time": "2022-01-28T05:15:48.597Z"
   },
   {
    "duration": 4,
    "start_time": "2022-01-28T05:15:48.604Z"
   },
   {
    "duration": 18,
    "start_time": "2022-01-28T05:15:48.610Z"
   },
   {
    "duration": 4,
    "start_time": "2022-01-28T05:15:48.629Z"
   },
   {
    "duration": 5,
    "start_time": "2022-01-28T05:15:48.634Z"
   },
   {
    "duration": 7,
    "start_time": "2022-01-28T05:15:48.641Z"
   },
   {
    "duration": 7,
    "start_time": "2022-01-28T05:15:48.650Z"
   },
   {
    "duration": 10,
    "start_time": "2022-01-28T05:15:48.659Z"
   },
   {
    "duration": 12,
    "start_time": "2022-01-28T05:15:48.670Z"
   },
   {
    "duration": 6,
    "start_time": "2022-01-28T05:15:48.683Z"
   },
   {
    "duration": 10,
    "start_time": "2022-01-28T05:15:48.727Z"
   },
   {
    "duration": 9,
    "start_time": "2022-01-28T05:15:48.738Z"
   },
   {
    "duration": 7,
    "start_time": "2022-01-28T05:15:48.749Z"
   },
   {
    "duration": 7,
    "start_time": "2022-01-28T05:15:48.757Z"
   },
   {
    "duration": 8,
    "start_time": "2022-01-28T05:15:48.765Z"
   },
   {
    "duration": 7,
    "start_time": "2022-01-28T05:15:48.775Z"
   },
   {
    "duration": 17,
    "start_time": "2022-01-28T05:15:48.783Z"
   },
   {
    "duration": 35,
    "start_time": "2022-01-28T05:15:48.802Z"
   },
   {
    "duration": 12,
    "start_time": "2022-01-28T05:15:48.839Z"
   },
   {
    "duration": 5,
    "start_time": "2022-01-28T05:15:48.853Z"
   },
   {
    "duration": 28,
    "start_time": "2022-01-28T05:15:48.861Z"
   },
   {
    "duration": 3,
    "start_time": "2022-01-28T05:15:48.890Z"
   },
   {
    "duration": 4137,
    "start_time": "2022-01-28T05:15:48.895Z"
   },
   {
    "duration": 7,
    "start_time": "2022-01-28T05:15:53.034Z"
   },
   {
    "duration": 6,
    "start_time": "2022-01-28T05:15:53.043Z"
   },
   {
    "duration": 2,
    "start_time": "2022-01-28T05:15:53.051Z"
   },
   {
    "duration": 25,
    "start_time": "2022-01-28T05:15:53.055Z"
   },
   {
    "duration": 6,
    "start_time": "2022-01-28T05:15:53.081Z"
   },
   {
    "duration": 40,
    "start_time": "2022-01-28T05:15:53.088Z"
   },
   {
    "duration": 25,
    "start_time": "2022-01-28T05:15:53.129Z"
   },
   {
    "duration": 20,
    "start_time": "2022-01-28T05:15:53.155Z"
   },
   {
    "duration": 20,
    "start_time": "2022-01-28T05:15:53.176Z"
   },
   {
    "duration": 45,
    "start_time": "2022-01-28T05:15:53.197Z"
   },
   {
    "duration": 3,
    "start_time": "2022-01-28T05:16:59.803Z"
   },
   {
    "duration": 57,
    "start_time": "2022-01-28T05:17:06.961Z"
   },
   {
    "duration": 8,
    "start_time": "2022-01-28T05:17:07.020Z"
   },
   {
    "duration": 6,
    "start_time": "2022-01-28T05:17:07.030Z"
   },
   {
    "duration": 7,
    "start_time": "2022-01-28T05:17:07.038Z"
   },
   {
    "duration": 5,
    "start_time": "2022-01-28T05:17:07.046Z"
   },
   {
    "duration": 4,
    "start_time": "2022-01-28T05:17:07.053Z"
   },
   {
    "duration": 6,
    "start_time": "2022-01-28T05:17:07.059Z"
   },
   {
    "duration": 4,
    "start_time": "2022-01-28T05:17:07.067Z"
   },
   {
    "duration": 5,
    "start_time": "2022-01-28T05:17:07.073Z"
   },
   {
    "duration": 48,
    "start_time": "2022-01-28T05:17:07.079Z"
   },
   {
    "duration": 12,
    "start_time": "2022-01-28T05:17:07.129Z"
   },
   {
    "duration": 7,
    "start_time": "2022-01-28T05:17:07.142Z"
   },
   {
    "duration": 13,
    "start_time": "2022-01-28T05:17:07.151Z"
   },
   {
    "duration": 8,
    "start_time": "2022-01-28T05:17:07.165Z"
   },
   {
    "duration": 8,
    "start_time": "2022-01-28T05:17:07.174Z"
   },
   {
    "duration": 7,
    "start_time": "2022-01-28T05:17:07.183Z"
   },
   {
    "duration": 35,
    "start_time": "2022-01-28T05:17:07.192Z"
   },
   {
    "duration": 9,
    "start_time": "2022-01-28T05:17:07.229Z"
   },
   {
    "duration": 16,
    "start_time": "2022-01-28T05:17:07.239Z"
   },
   {
    "duration": 15,
    "start_time": "2022-01-28T05:17:07.257Z"
   },
   {
    "duration": 13,
    "start_time": "2022-01-28T05:17:07.274Z"
   },
   {
    "duration": 5,
    "start_time": "2022-01-28T05:17:07.289Z"
   },
   {
    "duration": 53,
    "start_time": "2022-01-28T05:17:07.297Z"
   },
   {
    "duration": 3,
    "start_time": "2022-01-28T05:17:07.352Z"
   },
   {
    "duration": 3884,
    "start_time": "2022-01-28T05:17:07.356Z"
   },
   {
    "duration": 6,
    "start_time": "2022-01-28T05:17:11.242Z"
   },
   {
    "duration": 7,
    "start_time": "2022-01-28T05:17:11.249Z"
   },
   {
    "duration": 2,
    "start_time": "2022-01-28T05:17:11.258Z"
   },
   {
    "duration": 23,
    "start_time": "2022-01-28T05:17:11.261Z"
   },
   {
    "duration": 3,
    "start_time": "2022-01-28T05:17:11.285Z"
   },
   {
    "duration": 6,
    "start_time": "2022-01-28T05:17:11.290Z"
   },
   {
    "duration": 46,
    "start_time": "2022-01-28T05:17:11.297Z"
   },
   {
    "duration": 19,
    "start_time": "2022-01-28T05:17:11.344Z"
   },
   {
    "duration": 18,
    "start_time": "2022-01-28T05:17:11.364Z"
   },
   {
    "duration": 18,
    "start_time": "2022-01-28T05:17:11.383Z"
   },
   {
    "duration": 3,
    "start_time": "2022-01-28T05:18:13.318Z"
   },
   {
    "duration": 54,
    "start_time": "2022-01-28T05:18:15.971Z"
   },
   {
    "duration": 8,
    "start_time": "2022-01-28T05:18:16.027Z"
   },
   {
    "duration": 6,
    "start_time": "2022-01-28T05:18:16.037Z"
   },
   {
    "duration": 5,
    "start_time": "2022-01-28T05:18:16.045Z"
   },
   {
    "duration": 5,
    "start_time": "2022-01-28T05:18:16.052Z"
   },
   {
    "duration": 6,
    "start_time": "2022-01-28T05:18:16.058Z"
   },
   {
    "duration": 6,
    "start_time": "2022-01-28T05:18:16.065Z"
   },
   {
    "duration": 4,
    "start_time": "2022-01-28T05:18:16.073Z"
   },
   {
    "duration": 4,
    "start_time": "2022-01-28T05:18:16.079Z"
   },
   {
    "duration": 49,
    "start_time": "2022-01-28T05:18:16.084Z"
   },
   {
    "duration": 13,
    "start_time": "2022-01-28T05:18:16.134Z"
   },
   {
    "duration": 7,
    "start_time": "2022-01-28T05:18:16.148Z"
   },
   {
    "duration": 11,
    "start_time": "2022-01-28T05:18:16.157Z"
   },
   {
    "duration": 8,
    "start_time": "2022-01-28T05:18:16.170Z"
   },
   {
    "duration": 7,
    "start_time": "2022-01-28T05:18:16.179Z"
   },
   {
    "duration": 41,
    "start_time": "2022-01-28T05:18:16.187Z"
   },
   {
    "duration": 7,
    "start_time": "2022-01-28T05:18:16.230Z"
   },
   {
    "duration": 7,
    "start_time": "2022-01-28T05:18:16.238Z"
   },
   {
    "duration": 16,
    "start_time": "2022-01-28T05:18:16.247Z"
   },
   {
    "duration": 15,
    "start_time": "2022-01-28T05:18:16.264Z"
   },
   {
    "duration": 14,
    "start_time": "2022-01-28T05:18:16.280Z"
   },
   {
    "duration": 34,
    "start_time": "2022-01-28T05:18:16.295Z"
   },
   {
    "duration": 25,
    "start_time": "2022-01-28T05:18:16.332Z"
   },
   {
    "duration": 3,
    "start_time": "2022-01-28T05:18:16.359Z"
   },
   {
    "duration": 4302,
    "start_time": "2022-01-28T05:18:16.363Z"
   },
   {
    "duration": 6,
    "start_time": "2022-01-28T05:18:20.667Z"
   },
   {
    "duration": 7,
    "start_time": "2022-01-28T05:18:20.675Z"
   },
   {
    "duration": 10,
    "start_time": "2022-01-28T05:18:20.683Z"
   },
   {
    "duration": 34,
    "start_time": "2022-01-28T05:18:20.694Z"
   },
   {
    "duration": 13,
    "start_time": "2022-01-28T05:18:20.730Z"
   },
   {
    "duration": 17,
    "start_time": "2022-01-28T05:18:20.744Z"
   },
   {
    "duration": 33,
    "start_time": "2022-01-28T05:18:20.763Z"
   },
   {
    "duration": 23,
    "start_time": "2022-01-28T05:18:20.797Z"
   },
   {
    "duration": 17,
    "start_time": "2022-01-28T05:18:20.822Z"
   },
   {
    "duration": 17,
    "start_time": "2022-01-28T05:18:20.841Z"
   },
   {
    "duration": 4,
    "start_time": "2022-01-28T05:18:53.124Z"
   },
   {
    "duration": 56,
    "start_time": "2022-01-28T05:19:00.742Z"
   },
   {
    "duration": 8,
    "start_time": "2022-01-28T05:19:00.800Z"
   },
   {
    "duration": 8,
    "start_time": "2022-01-28T05:19:00.810Z"
   },
   {
    "duration": 9,
    "start_time": "2022-01-28T05:19:00.820Z"
   },
   {
    "duration": 7,
    "start_time": "2022-01-28T05:19:00.831Z"
   },
   {
    "duration": 6,
    "start_time": "2022-01-28T05:19:00.840Z"
   },
   {
    "duration": 14,
    "start_time": "2022-01-28T05:19:00.847Z"
   },
   {
    "duration": 8,
    "start_time": "2022-01-28T05:19:00.863Z"
   },
   {
    "duration": 5,
    "start_time": "2022-01-28T05:19:00.873Z"
   },
   {
    "duration": 10,
    "start_time": "2022-01-28T05:19:00.879Z"
   },
   {
    "duration": 17,
    "start_time": "2022-01-28T05:19:00.891Z"
   },
   {
    "duration": 22,
    "start_time": "2022-01-28T05:19:00.910Z"
   },
   {
    "duration": 15,
    "start_time": "2022-01-28T05:19:00.933Z"
   },
   {
    "duration": 9,
    "start_time": "2022-01-28T05:19:00.949Z"
   },
   {
    "duration": 11,
    "start_time": "2022-01-28T05:19:00.959Z"
   },
   {
    "duration": 9,
    "start_time": "2022-01-28T05:19:00.972Z"
   },
   {
    "duration": 8,
    "start_time": "2022-01-28T05:19:00.983Z"
   },
   {
    "duration": 10,
    "start_time": "2022-01-28T05:19:00.993Z"
   },
   {
    "duration": 31,
    "start_time": "2022-01-28T05:19:01.005Z"
   },
   {
    "duration": 18,
    "start_time": "2022-01-28T05:19:01.038Z"
   },
   {
    "duration": 15,
    "start_time": "2022-01-28T05:19:01.058Z"
   },
   {
    "duration": 6,
    "start_time": "2022-01-28T05:19:01.075Z"
   },
   {
    "duration": 54,
    "start_time": "2022-01-28T05:19:01.085Z"
   },
   {
    "duration": 4,
    "start_time": "2022-01-28T05:19:01.141Z"
   },
   {
    "duration": 4096,
    "start_time": "2022-01-28T05:19:01.146Z"
   },
   {
    "duration": 6,
    "start_time": "2022-01-28T05:19:05.243Z"
   },
   {
    "duration": 6,
    "start_time": "2022-01-28T05:19:05.251Z"
   },
   {
    "duration": 5,
    "start_time": "2022-01-28T05:19:05.258Z"
   },
   {
    "duration": 23,
    "start_time": "2022-01-28T05:19:05.264Z"
   },
   {
    "duration": 5,
    "start_time": "2022-01-28T05:19:05.288Z"
   },
   {
    "duration": 6,
    "start_time": "2022-01-28T05:19:05.294Z"
   },
   {
    "duration": 21,
    "start_time": "2022-01-28T05:19:05.327Z"
   },
   {
    "duration": 20,
    "start_time": "2022-01-28T05:19:05.349Z"
   },
   {
    "duration": 19,
    "start_time": "2022-01-28T05:19:05.371Z"
   },
   {
    "duration": 43,
    "start_time": "2022-01-28T05:19:05.392Z"
   },
   {
    "duration": 2,
    "start_time": "2022-01-28T05:19:33.185Z"
   },
   {
    "duration": 55,
    "start_time": "2022-01-28T05:19:41.561Z"
   },
   {
    "duration": 8,
    "start_time": "2022-01-28T05:19:41.618Z"
   },
   {
    "duration": 4,
    "start_time": "2022-01-28T05:19:41.628Z"
   },
   {
    "duration": 6,
    "start_time": "2022-01-28T05:19:41.634Z"
   },
   {
    "duration": 6,
    "start_time": "2022-01-28T05:19:41.641Z"
   },
   {
    "duration": 5,
    "start_time": "2022-01-28T05:19:41.648Z"
   },
   {
    "duration": 6,
    "start_time": "2022-01-28T05:19:41.655Z"
   },
   {
    "duration": 4,
    "start_time": "2022-01-28T05:19:41.663Z"
   },
   {
    "duration": 4,
    "start_time": "2022-01-28T05:19:41.669Z"
   },
   {
    "duration": 53,
    "start_time": "2022-01-28T05:19:41.674Z"
   },
   {
    "duration": 11,
    "start_time": "2022-01-28T05:19:41.729Z"
   },
   {
    "duration": 6,
    "start_time": "2022-01-28T05:19:41.742Z"
   },
   {
    "duration": 11,
    "start_time": "2022-01-28T05:19:41.750Z"
   },
   {
    "duration": 9,
    "start_time": "2022-01-28T05:19:41.762Z"
   },
   {
    "duration": 7,
    "start_time": "2022-01-28T05:19:41.772Z"
   },
   {
    "duration": 6,
    "start_time": "2022-01-28T05:19:41.780Z"
   },
   {
    "duration": 6,
    "start_time": "2022-01-28T05:19:41.788Z"
   },
   {
    "duration": 33,
    "start_time": "2022-01-28T05:19:41.795Z"
   },
   {
    "duration": 18,
    "start_time": "2022-01-28T05:19:41.829Z"
   },
   {
    "duration": 15,
    "start_time": "2022-01-28T05:19:41.848Z"
   },
   {
    "duration": 14,
    "start_time": "2022-01-28T05:19:41.865Z"
   },
   {
    "duration": 6,
    "start_time": "2022-01-28T05:19:41.880Z"
   },
   {
    "duration": 52,
    "start_time": "2022-01-28T05:19:41.889Z"
   },
   {
    "duration": 3,
    "start_time": "2022-01-28T05:19:41.943Z"
   },
   {
    "duration": 4207,
    "start_time": "2022-01-28T05:19:41.947Z"
   },
   {
    "duration": 6,
    "start_time": "2022-01-28T05:19:46.156Z"
   },
   {
    "duration": 7,
    "start_time": "2022-01-28T05:19:46.164Z"
   },
   {
    "duration": 3,
    "start_time": "2022-01-28T05:19:46.172Z"
   },
   {
    "duration": 23,
    "start_time": "2022-01-28T05:19:46.176Z"
   },
   {
    "duration": 3,
    "start_time": "2022-01-28T05:19:46.201Z"
   },
   {
    "duration": 4,
    "start_time": "2022-01-28T05:19:46.227Z"
   },
   {
    "duration": 21,
    "start_time": "2022-01-28T05:19:46.232Z"
   },
   {
    "duration": 18,
    "start_time": "2022-01-28T05:19:46.255Z"
   },
   {
    "duration": 17,
    "start_time": "2022-01-28T05:19:46.275Z"
   },
   {
    "duration": 45,
    "start_time": "2022-01-28T05:19:46.294Z"
   },
   {
    "duration": 2,
    "start_time": "2022-01-28T05:20:25.271Z"
   },
   {
    "duration": 59,
    "start_time": "2022-01-28T05:20:32.391Z"
   },
   {
    "duration": 8,
    "start_time": "2022-01-28T05:20:32.451Z"
   },
   {
    "duration": 5,
    "start_time": "2022-01-28T05:20:32.461Z"
   },
   {
    "duration": 4,
    "start_time": "2022-01-28T05:20:32.468Z"
   },
   {
    "duration": 5,
    "start_time": "2022-01-28T05:20:32.474Z"
   },
   {
    "duration": 6,
    "start_time": "2022-01-28T05:20:32.480Z"
   },
   {
    "duration": 8,
    "start_time": "2022-01-28T05:20:32.487Z"
   },
   {
    "duration": 33,
    "start_time": "2022-01-28T05:20:32.496Z"
   },
   {
    "duration": 5,
    "start_time": "2022-01-28T05:20:32.531Z"
   },
   {
    "duration": 11,
    "start_time": "2022-01-28T05:20:32.538Z"
   },
   {
    "duration": 12,
    "start_time": "2022-01-28T05:20:32.550Z"
   },
   {
    "duration": 6,
    "start_time": "2022-01-28T05:20:32.563Z"
   },
   {
    "duration": 12,
    "start_time": "2022-01-28T05:20:32.571Z"
   },
   {
    "duration": 8,
    "start_time": "2022-01-28T05:20:32.585Z"
   },
   {
    "duration": 36,
    "start_time": "2022-01-28T05:20:32.595Z"
   },
   {
    "duration": 7,
    "start_time": "2022-01-28T05:20:32.633Z"
   },
   {
    "duration": 6,
    "start_time": "2022-01-28T05:20:32.642Z"
   },
   {
    "duration": 7,
    "start_time": "2022-01-28T05:20:32.650Z"
   },
   {
    "duration": 16,
    "start_time": "2022-01-28T05:20:32.658Z"
   },
   {
    "duration": 15,
    "start_time": "2022-01-28T05:20:32.676Z"
   },
   {
    "duration": 38,
    "start_time": "2022-01-28T05:20:32.692Z"
   },
   {
    "duration": 6,
    "start_time": "2022-01-28T05:20:32.731Z"
   },
   {
    "duration": 24,
    "start_time": "2022-01-28T05:20:32.740Z"
   },
   {
    "duration": 3,
    "start_time": "2022-01-28T05:20:32.766Z"
   },
   {
    "duration": 4140,
    "start_time": "2022-01-28T05:20:32.771Z"
   },
   {
    "duration": 14,
    "start_time": "2022-01-28T05:20:36.913Z"
   },
   {
    "duration": 6,
    "start_time": "2022-01-28T05:20:36.928Z"
   },
   {
    "duration": 3,
    "start_time": "2022-01-28T05:20:36.936Z"
   },
   {
    "duration": 21,
    "start_time": "2022-01-28T05:20:36.940Z"
   },
   {
    "duration": 5,
    "start_time": "2022-01-28T05:20:36.963Z"
   },
   {
    "duration": 6,
    "start_time": "2022-01-28T05:20:36.969Z"
   },
   {
    "duration": 51,
    "start_time": "2022-01-28T05:20:36.977Z"
   },
   {
    "duration": 26,
    "start_time": "2022-01-28T05:20:37.030Z"
   },
   {
    "duration": 20,
    "start_time": "2022-01-28T05:20:37.058Z"
   },
   {
    "duration": 20,
    "start_time": "2022-01-28T05:20:37.080Z"
   },
   {
    "duration": 2,
    "start_time": "2022-01-28T05:21:04.333Z"
   },
   {
    "duration": 54,
    "start_time": "2022-01-28T05:21:09.655Z"
   },
   {
    "duration": 8,
    "start_time": "2022-01-28T05:21:09.711Z"
   },
   {
    "duration": 4,
    "start_time": "2022-01-28T05:21:09.721Z"
   },
   {
    "duration": 5,
    "start_time": "2022-01-28T05:21:09.727Z"
   },
   {
    "duration": 5,
    "start_time": "2022-01-28T05:21:09.734Z"
   },
   {
    "duration": 5,
    "start_time": "2022-01-28T05:21:09.740Z"
   },
   {
    "duration": 7,
    "start_time": "2022-01-28T05:21:09.746Z"
   },
   {
    "duration": 4,
    "start_time": "2022-01-28T05:21:09.755Z"
   },
   {
    "duration": 4,
    "start_time": "2022-01-28T05:21:09.761Z"
   },
   {
    "duration": 10,
    "start_time": "2022-01-28T05:21:09.767Z"
   },
   {
    "duration": 48,
    "start_time": "2022-01-28T05:21:09.779Z"
   },
   {
    "duration": 6,
    "start_time": "2022-01-28T05:21:09.829Z"
   },
   {
    "duration": 13,
    "start_time": "2022-01-28T05:21:09.837Z"
   },
   {
    "duration": 6,
    "start_time": "2022-01-28T05:21:09.851Z"
   },
   {
    "duration": 7,
    "start_time": "2022-01-28T05:21:09.858Z"
   },
   {
    "duration": 7,
    "start_time": "2022-01-28T05:21:09.866Z"
   },
   {
    "duration": 7,
    "start_time": "2022-01-28T05:21:09.874Z"
   },
   {
    "duration": 7,
    "start_time": "2022-01-28T05:21:09.882Z"
   },
   {
    "duration": 44,
    "start_time": "2022-01-28T05:21:09.890Z"
   },
   {
    "duration": 15,
    "start_time": "2022-01-28T05:21:09.936Z"
   },
   {
    "duration": 14,
    "start_time": "2022-01-28T05:21:09.952Z"
   },
   {
    "duration": 5,
    "start_time": "2022-01-28T05:21:09.968Z"
   },
   {
    "duration": 25,
    "start_time": "2022-01-28T05:21:09.976Z"
   },
   {
    "duration": 25,
    "start_time": "2022-01-28T05:21:10.003Z"
   },
   {
    "duration": 4165,
    "start_time": "2022-01-28T05:21:10.029Z"
   },
   {
    "duration": 6,
    "start_time": "2022-01-28T05:21:14.196Z"
   },
   {
    "duration": 5,
    "start_time": "2022-01-28T05:21:14.204Z"
   },
   {
    "duration": 3,
    "start_time": "2022-01-28T05:21:14.230Z"
   },
   {
    "duration": 22,
    "start_time": "2022-01-28T05:21:14.234Z"
   },
   {
    "duration": 4,
    "start_time": "2022-01-28T05:21:14.258Z"
   },
   {
    "duration": 6,
    "start_time": "2022-01-28T05:21:14.264Z"
   },
   {
    "duration": 20,
    "start_time": "2022-01-28T05:21:14.272Z"
   },
   {
    "duration": 43,
    "start_time": "2022-01-28T05:21:14.294Z"
   },
   {
    "duration": 18,
    "start_time": "2022-01-28T05:21:14.339Z"
   },
   {
    "duration": 18,
    "start_time": "2022-01-28T05:21:14.359Z"
   },
   {
    "duration": 3,
    "start_time": "2022-01-28T05:55:45.111Z"
   },
   {
    "duration": 3,
    "start_time": "2022-01-28T05:56:10.020Z"
   },
   {
    "duration": 58,
    "start_time": "2022-01-28T05:56:14.315Z"
   },
   {
    "duration": 9,
    "start_time": "2022-01-28T05:56:14.375Z"
   },
   {
    "duration": 4,
    "start_time": "2022-01-28T05:56:14.386Z"
   },
   {
    "duration": 5,
    "start_time": "2022-01-28T05:56:14.392Z"
   },
   {
    "duration": 34,
    "start_time": "2022-01-28T05:56:14.398Z"
   },
   {
    "duration": 5,
    "start_time": "2022-01-28T05:56:14.433Z"
   },
   {
    "duration": 6,
    "start_time": "2022-01-28T05:56:14.439Z"
   },
   {
    "duration": 5,
    "start_time": "2022-01-28T05:56:14.447Z"
   },
   {
    "duration": 6,
    "start_time": "2022-01-28T05:56:14.453Z"
   },
   {
    "duration": 9,
    "start_time": "2022-01-28T05:56:14.460Z"
   },
   {
    "duration": 11,
    "start_time": "2022-01-28T05:56:14.471Z"
   },
   {
    "duration": 7,
    "start_time": "2022-01-28T05:56:14.483Z"
   },
   {
    "duration": 43,
    "start_time": "2022-01-28T05:56:14.491Z"
   },
   {
    "duration": 7,
    "start_time": "2022-01-28T05:56:14.536Z"
   },
   {
    "duration": 7,
    "start_time": "2022-01-28T05:56:14.545Z"
   },
   {
    "duration": 6,
    "start_time": "2022-01-28T05:56:14.553Z"
   },
   {
    "duration": 7,
    "start_time": "2022-01-28T05:56:14.560Z"
   },
   {
    "duration": 7,
    "start_time": "2022-01-28T05:56:14.568Z"
   },
   {
    "duration": 15,
    "start_time": "2022-01-28T05:56:14.576Z"
   },
   {
    "duration": 43,
    "start_time": "2022-01-28T05:56:14.592Z"
   },
   {
    "duration": 13,
    "start_time": "2022-01-28T05:56:14.637Z"
   },
   {
    "duration": 5,
    "start_time": "2022-01-28T05:56:14.651Z"
   },
   {
    "duration": 24,
    "start_time": "2022-01-28T05:56:14.659Z"
   },
   {
    "duration": 3,
    "start_time": "2022-01-28T05:56:14.685Z"
   },
   {
    "duration": 3908,
    "start_time": "2022-01-28T05:56:14.689Z"
   },
   {
    "duration": 6,
    "start_time": "2022-01-28T05:56:18.600Z"
   },
   {
    "duration": 22,
    "start_time": "2022-01-28T05:56:18.607Z"
   },
   {
    "duration": 2,
    "start_time": "2022-01-28T05:56:18.631Z"
   },
   {
    "duration": 21,
    "start_time": "2022-01-28T05:56:18.635Z"
   },
   {
    "duration": 5,
    "start_time": "2022-01-28T05:56:18.658Z"
   },
   {
    "duration": 6,
    "start_time": "2022-01-28T05:56:18.664Z"
   },
   {
    "duration": 21,
    "start_time": "2022-01-28T05:56:18.671Z"
   },
   {
    "duration": 43,
    "start_time": "2022-01-28T05:56:18.694Z"
   },
   {
    "duration": 20,
    "start_time": "2022-01-28T05:56:18.739Z"
   },
   {
    "duration": 18,
    "start_time": "2022-01-28T05:56:18.760Z"
   },
   {
    "duration": 3,
    "start_time": "2022-01-28T05:56:50.602Z"
   },
   {
    "duration": 57,
    "start_time": "2022-01-28T05:56:56.343Z"
   },
   {
    "duration": 9,
    "start_time": "2022-01-28T05:56:56.402Z"
   },
   {
    "duration": 4,
    "start_time": "2022-01-28T05:56:56.413Z"
   },
   {
    "duration": 9,
    "start_time": "2022-01-28T05:56:56.418Z"
   },
   {
    "duration": 4,
    "start_time": "2022-01-28T05:56:56.428Z"
   },
   {
    "duration": 5,
    "start_time": "2022-01-28T05:56:56.433Z"
   },
   {
    "duration": 5,
    "start_time": "2022-01-28T05:56:56.439Z"
   },
   {
    "duration": 4,
    "start_time": "2022-01-28T05:56:56.446Z"
   },
   {
    "duration": 4,
    "start_time": "2022-01-28T05:56:56.452Z"
   },
   {
    "duration": 11,
    "start_time": "2022-01-28T05:56:56.457Z"
   },
   {
    "duration": 12,
    "start_time": "2022-01-28T05:56:56.469Z"
   },
   {
    "duration": 48,
    "start_time": "2022-01-28T05:56:56.482Z"
   },
   {
    "duration": 11,
    "start_time": "2022-01-28T05:56:56.531Z"
   },
   {
    "duration": 10,
    "start_time": "2022-01-28T05:56:56.543Z"
   },
   {
    "duration": 6,
    "start_time": "2022-01-28T05:56:56.554Z"
   },
   {
    "duration": 7,
    "start_time": "2022-01-28T05:56:56.562Z"
   },
   {
    "duration": 6,
    "start_time": "2022-01-28T05:56:56.571Z"
   },
   {
    "duration": 7,
    "start_time": "2022-01-28T05:56:56.579Z"
   },
   {
    "duration": 45,
    "start_time": "2022-01-28T05:56:56.587Z"
   },
   {
    "duration": 16,
    "start_time": "2022-01-28T05:56:56.633Z"
   },
   {
    "duration": 14,
    "start_time": "2022-01-28T05:56:56.650Z"
   },
   {
    "duration": 6,
    "start_time": "2022-01-28T05:56:56.665Z"
   },
   {
    "duration": 25,
    "start_time": "2022-01-28T05:56:56.673Z"
   },
   {
    "duration": 3,
    "start_time": "2022-01-28T05:56:56.700Z"
   },
   {
    "duration": 4151,
    "start_time": "2022-01-28T05:56:56.705Z"
   },
   {
    "duration": 8,
    "start_time": "2022-01-28T05:57:00.858Z"
   },
   {
    "duration": 7,
    "start_time": "2022-01-28T05:57:00.867Z"
   },
   {
    "duration": 3,
    "start_time": "2022-01-28T05:57:00.876Z"
   },
   {
    "duration": 22,
    "start_time": "2022-01-28T05:57:00.881Z"
   },
   {
    "duration": 5,
    "start_time": "2022-01-28T05:57:00.928Z"
   },
   {
    "duration": 7,
    "start_time": "2022-01-28T05:57:00.935Z"
   },
   {
    "duration": 24,
    "start_time": "2022-01-28T05:57:00.944Z"
   },
   {
    "duration": 19,
    "start_time": "2022-01-28T05:57:00.970Z"
   },
   {
    "duration": 49,
    "start_time": "2022-01-28T05:57:00.990Z"
   },
   {
    "duration": 19,
    "start_time": "2022-01-28T05:57:01.041Z"
   },
   {
    "duration": 4,
    "start_time": "2022-01-28T06:12:49.245Z"
   },
   {
    "duration": 55,
    "start_time": "2022-01-28T06:12:57.728Z"
   },
   {
    "duration": 9,
    "start_time": "2022-01-28T06:12:57.784Z"
   },
   {
    "duration": 6,
    "start_time": "2022-01-28T06:12:57.795Z"
   },
   {
    "duration": 26,
    "start_time": "2022-01-28T06:12:57.802Z"
   },
   {
    "duration": 6,
    "start_time": "2022-01-28T06:12:57.829Z"
   },
   {
    "duration": 6,
    "start_time": "2022-01-28T06:12:57.837Z"
   },
   {
    "duration": 8,
    "start_time": "2022-01-28T06:12:57.845Z"
   },
   {
    "duration": 3,
    "start_time": "2022-01-28T06:12:57.855Z"
   },
   {
    "duration": 5,
    "start_time": "2022-01-28T06:12:57.860Z"
   },
   {
    "duration": 10,
    "start_time": "2022-01-28T06:12:57.866Z"
   },
   {
    "duration": 12,
    "start_time": "2022-01-28T06:12:57.877Z"
   },
   {
    "duration": 39,
    "start_time": "2022-01-28T06:12:57.890Z"
   },
   {
    "duration": 11,
    "start_time": "2022-01-28T06:12:57.931Z"
   },
   {
    "duration": 9,
    "start_time": "2022-01-28T06:12:57.944Z"
   },
   {
    "duration": 9,
    "start_time": "2022-01-28T06:12:57.954Z"
   },
   {
    "duration": 7,
    "start_time": "2022-01-28T06:12:57.964Z"
   },
   {
    "duration": 8,
    "start_time": "2022-01-28T06:12:57.972Z"
   },
   {
    "duration": 7,
    "start_time": "2022-01-28T06:12:57.981Z"
   },
   {
    "duration": 17,
    "start_time": "2022-01-28T06:12:57.989Z"
   },
   {
    "duration": 17,
    "start_time": "2022-01-28T06:12:58.027Z"
   },
   {
    "duration": 14,
    "start_time": "2022-01-28T06:12:58.046Z"
   },
   {
    "duration": 6,
    "start_time": "2022-01-28T06:12:58.061Z"
   },
   {
    "duration": 26,
    "start_time": "2022-01-28T06:12:58.069Z"
   },
   {
    "duration": 3,
    "start_time": "2022-01-28T06:12:58.097Z"
   },
   {
    "duration": 4279,
    "start_time": "2022-01-28T06:12:58.127Z"
   },
   {
    "duration": 19,
    "start_time": "2022-01-28T06:13:02.408Z"
   },
   {
    "duration": 5,
    "start_time": "2022-01-28T06:13:02.429Z"
   },
   {
    "duration": 4,
    "start_time": "2022-01-28T06:13:02.436Z"
   },
   {
    "duration": 23,
    "start_time": "2022-01-28T06:13:02.441Z"
   },
   {
    "duration": 4,
    "start_time": "2022-01-28T06:13:02.465Z"
   },
   {
    "duration": 6,
    "start_time": "2022-01-28T06:13:02.470Z"
   },
   {
    "duration": 20,
    "start_time": "2022-01-28T06:13:02.477Z"
   },
   {
    "duration": 39,
    "start_time": "2022-01-28T06:13:02.498Z"
   },
   {
    "duration": 18,
    "start_time": "2022-01-28T06:13:02.538Z"
   },
   {
    "duration": 17,
    "start_time": "2022-01-28T06:13:02.557Z"
   },
   {
    "duration": 3,
    "start_time": "2022-01-28T06:13:28.187Z"
   },
   {
    "duration": 55,
    "start_time": "2022-01-28T06:13:37.416Z"
   },
   {
    "duration": 8,
    "start_time": "2022-01-28T06:13:37.473Z"
   },
   {
    "duration": 3,
    "start_time": "2022-01-28T06:13:37.483Z"
   },
   {
    "duration": 4,
    "start_time": "2022-01-28T06:13:37.488Z"
   },
   {
    "duration": 34,
    "start_time": "2022-01-28T06:13:37.494Z"
   },
   {
    "duration": 4,
    "start_time": "2022-01-28T06:13:37.529Z"
   },
   {
    "duration": 4,
    "start_time": "2022-01-28T06:13:37.535Z"
   },
   {
    "duration": 4,
    "start_time": "2022-01-28T06:13:37.541Z"
   },
   {
    "duration": 4,
    "start_time": "2022-01-28T06:13:37.547Z"
   },
   {
    "duration": 11,
    "start_time": "2022-01-28T06:13:37.552Z"
   },
   {
    "duration": 12,
    "start_time": "2022-01-28T06:13:37.564Z"
   },
   {
    "duration": 6,
    "start_time": "2022-01-28T06:13:37.577Z"
   },
   {
    "duration": 47,
    "start_time": "2022-01-28T06:13:37.584Z"
   },
   {
    "duration": 8,
    "start_time": "2022-01-28T06:13:37.633Z"
   },
   {
    "duration": 8,
    "start_time": "2022-01-28T06:13:37.642Z"
   },
   {
    "duration": 7,
    "start_time": "2022-01-28T06:13:37.651Z"
   },
   {
    "duration": 8,
    "start_time": "2022-01-28T06:13:37.660Z"
   },
   {
    "duration": 13,
    "start_time": "2022-01-28T06:13:37.669Z"
   },
   {
    "duration": 18,
    "start_time": "2022-01-28T06:13:37.683Z"
   },
   {
    "duration": 35,
    "start_time": "2022-01-28T06:13:37.703Z"
   },
   {
    "duration": 13,
    "start_time": "2022-01-28T06:13:37.740Z"
   },
   {
    "duration": 5,
    "start_time": "2022-01-28T06:13:37.755Z"
   },
   {
    "duration": 25,
    "start_time": "2022-01-28T06:13:37.762Z"
   },
   {
    "duration": 3,
    "start_time": "2022-01-28T06:13:37.789Z"
   },
   {
    "duration": 3925,
    "start_time": "2022-01-28T06:13:37.793Z"
   },
   {
    "duration": 7,
    "start_time": "2022-01-28T06:13:41.728Z"
   },
   {
    "duration": 6,
    "start_time": "2022-01-28T06:13:41.737Z"
   },
   {
    "duration": 3,
    "start_time": "2022-01-28T06:13:41.745Z"
   },
   {
    "duration": 18,
    "start_time": "2022-01-28T06:13:41.749Z"
   },
   {
    "duration": 4,
    "start_time": "2022-01-28T06:13:41.769Z"
   },
   {
    "duration": 5,
    "start_time": "2022-01-28T06:13:41.775Z"
   },
   {
    "duration": 63,
    "start_time": "2022-01-28T06:13:41.782Z"
   },
   {
    "duration": 19,
    "start_time": "2022-01-28T06:13:41.847Z"
   },
   {
    "duration": 18,
    "start_time": "2022-01-28T06:13:41.868Z"
   },
   {
    "duration": 42,
    "start_time": "2022-01-28T06:13:41.888Z"
   },
   {
    "duration": 3,
    "start_time": "2022-01-28T06:14:32.815Z"
   },
   {
    "duration": 79,
    "start_time": "2022-01-28T06:14:35.676Z"
   },
   {
    "duration": 13,
    "start_time": "2022-01-28T06:14:35.757Z"
   },
   {
    "duration": 8,
    "start_time": "2022-01-28T06:14:35.772Z"
   },
   {
    "duration": 7,
    "start_time": "2022-01-28T06:14:35.782Z"
   },
   {
    "duration": 10,
    "start_time": "2022-01-28T06:14:35.791Z"
   },
   {
    "duration": 26,
    "start_time": "2022-01-28T06:14:35.802Z"
   },
   {
    "duration": 6,
    "start_time": "2022-01-28T06:14:35.830Z"
   },
   {
    "duration": 6,
    "start_time": "2022-01-28T06:14:35.839Z"
   },
   {
    "duration": 5,
    "start_time": "2022-01-28T06:14:35.847Z"
   },
   {
    "duration": 15,
    "start_time": "2022-01-28T06:14:35.854Z"
   },
   {
    "duration": 17,
    "start_time": "2022-01-28T06:14:35.871Z"
   },
   {
    "duration": 6,
    "start_time": "2022-01-28T06:14:35.890Z"
   },
   {
    "duration": 9,
    "start_time": "2022-01-28T06:14:35.927Z"
   },
   {
    "duration": 12,
    "start_time": "2022-01-28T06:14:35.938Z"
   },
   {
    "duration": 11,
    "start_time": "2022-01-28T06:14:35.951Z"
   },
   {
    "duration": 7,
    "start_time": "2022-01-28T06:14:35.964Z"
   },
   {
    "duration": 9,
    "start_time": "2022-01-28T06:14:35.973Z"
   },
   {
    "duration": 10,
    "start_time": "2022-01-28T06:14:35.983Z"
   },
   {
    "duration": 37,
    "start_time": "2022-01-28T06:14:35.994Z"
   },
   {
    "duration": 17,
    "start_time": "2022-01-28T06:14:36.032Z"
   },
   {
    "duration": 13,
    "start_time": "2022-01-28T06:14:36.050Z"
   },
   {
    "duration": 6,
    "start_time": "2022-01-28T06:14:36.064Z"
   },
   {
    "duration": 27,
    "start_time": "2022-01-28T06:14:36.072Z"
   },
   {
    "duration": 3,
    "start_time": "2022-01-28T06:14:36.128Z"
   },
   {
    "duration": 4411,
    "start_time": "2022-01-28T06:14:36.132Z"
   },
   {
    "duration": 7,
    "start_time": "2022-01-28T06:14:40.544Z"
   },
   {
    "duration": 6,
    "start_time": "2022-01-28T06:14:40.552Z"
   },
   {
    "duration": 3,
    "start_time": "2022-01-28T06:14:40.560Z"
   },
   {
    "duration": 22,
    "start_time": "2022-01-28T06:14:40.564Z"
   },
   {
    "duration": 4,
    "start_time": "2022-01-28T06:14:40.587Z"
   },
   {
    "duration": 10,
    "start_time": "2022-01-28T06:14:40.593Z"
   },
   {
    "duration": 44,
    "start_time": "2022-01-28T06:14:40.605Z"
   },
   {
    "duration": 21,
    "start_time": "2022-01-28T06:14:40.650Z"
   },
   {
    "duration": 20,
    "start_time": "2022-01-28T06:14:40.673Z"
   },
   {
    "duration": 22,
    "start_time": "2022-01-28T06:14:40.728Z"
   },
   {
    "duration": 58,
    "start_time": "2022-01-28T06:14:49.890Z"
   },
   {
    "duration": 10,
    "start_time": "2022-01-28T06:14:49.951Z"
   },
   {
    "duration": 6,
    "start_time": "2022-01-28T06:14:49.963Z"
   },
   {
    "duration": 5,
    "start_time": "2022-01-28T06:14:49.971Z"
   },
   {
    "duration": 6,
    "start_time": "2022-01-28T06:14:49.978Z"
   },
   {
    "duration": 41,
    "start_time": "2022-01-28T06:14:49.986Z"
   },
   {
    "duration": 6,
    "start_time": "2022-01-28T06:14:50.029Z"
   },
   {
    "duration": 5,
    "start_time": "2022-01-28T06:14:50.037Z"
   },
   {
    "duration": 6,
    "start_time": "2022-01-28T06:14:50.044Z"
   },
   {
    "duration": 10,
    "start_time": "2022-01-28T06:14:50.051Z"
   },
   {
    "duration": 14,
    "start_time": "2022-01-28T06:14:50.063Z"
   },
   {
    "duration": 6,
    "start_time": "2022-01-28T06:14:50.079Z"
   },
   {
    "duration": 12,
    "start_time": "2022-01-28T06:14:50.127Z"
   },
   {
    "duration": 9,
    "start_time": "2022-01-28T06:14:50.140Z"
   },
   {
    "duration": 6,
    "start_time": "2022-01-28T06:14:50.151Z"
   },
   {
    "duration": 9,
    "start_time": "2022-01-28T06:14:50.158Z"
   },
   {
    "duration": 6,
    "start_time": "2022-01-28T06:14:50.168Z"
   },
   {
    "duration": 7,
    "start_time": "2022-01-28T06:14:50.175Z"
   },
   {
    "duration": 45,
    "start_time": "2022-01-28T06:14:50.183Z"
   },
   {
    "duration": 15,
    "start_time": "2022-01-28T06:14:50.230Z"
   },
   {
    "duration": 13,
    "start_time": "2022-01-28T06:14:50.247Z"
   },
   {
    "duration": 6,
    "start_time": "2022-01-28T06:14:50.261Z"
   },
   {
    "duration": 25,
    "start_time": "2022-01-28T06:14:50.270Z"
   },
   {
    "duration": 3,
    "start_time": "2022-01-28T06:14:50.296Z"
   },
   {
    "duration": 4477,
    "start_time": "2022-01-28T06:14:50.300Z"
   },
   {
    "duration": 6,
    "start_time": "2022-01-28T06:14:54.779Z"
   },
   {
    "duration": 6,
    "start_time": "2022-01-28T06:14:54.787Z"
   },
   {
    "duration": 3,
    "start_time": "2022-01-28T06:14:54.795Z"
   },
   {
    "duration": 44,
    "start_time": "2022-01-28T06:14:54.799Z"
   },
   {
    "duration": 5,
    "start_time": "2022-01-28T06:14:54.845Z"
   },
   {
    "duration": 8,
    "start_time": "2022-01-28T06:14:54.851Z"
   },
   {
    "duration": 21,
    "start_time": "2022-01-28T06:14:54.861Z"
   },
   {
    "duration": 48,
    "start_time": "2022-01-28T06:14:54.884Z"
   },
   {
    "duration": 20,
    "start_time": "2022-01-28T06:14:54.933Z"
   },
   {
    "duration": 19,
    "start_time": "2022-01-28T06:14:54.954Z"
   },
   {
    "duration": 3,
    "start_time": "2022-01-28T06:15:24.261Z"
   },
   {
    "duration": 54,
    "start_time": "2022-01-28T06:15:28.397Z"
   },
   {
    "duration": 8,
    "start_time": "2022-01-28T06:15:28.453Z"
   },
   {
    "duration": 4,
    "start_time": "2022-01-28T06:15:28.463Z"
   },
   {
    "duration": 4,
    "start_time": "2022-01-28T06:15:28.469Z"
   },
   {
    "duration": 4,
    "start_time": "2022-01-28T06:15:28.475Z"
   },
   {
    "duration": 6,
    "start_time": "2022-01-28T06:15:28.480Z"
   },
   {
    "duration": 40,
    "start_time": "2022-01-28T06:15:28.487Z"
   },
   {
    "duration": 4,
    "start_time": "2022-01-28T06:15:28.529Z"
   },
   {
    "duration": 5,
    "start_time": "2022-01-28T06:15:28.535Z"
   },
   {
    "duration": 9,
    "start_time": "2022-01-28T06:15:28.541Z"
   },
   {
    "duration": 14,
    "start_time": "2022-01-28T06:15:28.552Z"
   },
   {
    "duration": 6,
    "start_time": "2022-01-28T06:15:28.568Z"
   },
   {
    "duration": 11,
    "start_time": "2022-01-28T06:15:28.575Z"
   },
   {
    "duration": 41,
    "start_time": "2022-01-28T06:15:28.587Z"
   },
   {
    "duration": 10,
    "start_time": "2022-01-28T06:15:28.629Z"
   },
   {
    "duration": 6,
    "start_time": "2022-01-28T06:15:28.640Z"
   },
   {
    "duration": 8,
    "start_time": "2022-01-28T06:15:28.647Z"
   },
   {
    "duration": 7,
    "start_time": "2022-01-28T06:15:28.657Z"
   },
   {
    "duration": 17,
    "start_time": "2022-01-28T06:15:28.666Z"
   },
   {
    "duration": 45,
    "start_time": "2022-01-28T06:15:28.684Z"
   },
   {
    "duration": 14,
    "start_time": "2022-01-28T06:15:28.731Z"
   },
   {
    "duration": 6,
    "start_time": "2022-01-28T06:15:28.746Z"
   },
   {
    "duration": 26,
    "start_time": "2022-01-28T06:15:28.754Z"
   },
   {
    "duration": 3,
    "start_time": "2022-01-28T06:15:28.781Z"
   },
   {
    "duration": 4612,
    "start_time": "2022-01-28T06:15:28.786Z"
   },
   {
    "duration": 6,
    "start_time": "2022-01-28T06:15:33.399Z"
   },
   {
    "duration": 20,
    "start_time": "2022-01-28T06:15:33.407Z"
   },
   {
    "duration": 2,
    "start_time": "2022-01-28T06:15:33.429Z"
   },
   {
    "duration": 21,
    "start_time": "2022-01-28T06:15:33.433Z"
   },
   {
    "duration": 4,
    "start_time": "2022-01-28T06:15:33.455Z"
   },
   {
    "duration": 5,
    "start_time": "2022-01-28T06:15:33.460Z"
   },
   {
    "duration": 20,
    "start_time": "2022-01-28T06:15:33.467Z"
   },
   {
    "duration": 51,
    "start_time": "2022-01-28T06:15:33.488Z"
   },
   {
    "duration": 17,
    "start_time": "2022-01-28T06:15:33.541Z"
   },
   {
    "duration": 18,
    "start_time": "2022-01-28T06:15:33.559Z"
   },
   {
    "duration": 3,
    "start_time": "2022-01-28T06:15:58.002Z"
   },
   {
    "duration": 2,
    "start_time": "2022-01-28T06:16:12.354Z"
   },
   {
    "duration": 53,
    "start_time": "2022-01-28T06:16:14.721Z"
   },
   {
    "duration": 8,
    "start_time": "2022-01-28T06:16:14.776Z"
   },
   {
    "duration": 4,
    "start_time": "2022-01-28T06:16:14.785Z"
   },
   {
    "duration": 5,
    "start_time": "2022-01-28T06:16:14.791Z"
   },
   {
    "duration": 30,
    "start_time": "2022-01-28T06:16:14.797Z"
   },
   {
    "duration": 4,
    "start_time": "2022-01-28T06:16:14.828Z"
   },
   {
    "duration": 6,
    "start_time": "2022-01-28T06:16:14.833Z"
   },
   {
    "duration": 4,
    "start_time": "2022-01-28T06:16:14.841Z"
   },
   {
    "duration": 5,
    "start_time": "2022-01-28T06:16:14.846Z"
   },
   {
    "duration": 11,
    "start_time": "2022-01-28T06:16:14.852Z"
   },
   {
    "duration": 12,
    "start_time": "2022-01-28T06:16:14.864Z"
   },
   {
    "duration": 6,
    "start_time": "2022-01-28T06:16:14.877Z"
   },
   {
    "duration": 48,
    "start_time": "2022-01-28T06:16:14.884Z"
   },
   {
    "duration": 6,
    "start_time": "2022-01-28T06:16:14.933Z"
   },
   {
    "duration": 7,
    "start_time": "2022-01-28T06:16:14.941Z"
   },
   {
    "duration": 7,
    "start_time": "2022-01-28T06:16:14.950Z"
   },
   {
    "duration": 9,
    "start_time": "2022-01-28T06:16:14.959Z"
   },
   {
    "duration": 8,
    "start_time": "2022-01-28T06:16:14.969Z"
   },
   {
    "duration": 18,
    "start_time": "2022-01-28T06:16:14.979Z"
   },
   {
    "duration": 38,
    "start_time": "2022-01-28T06:16:14.998Z"
   },
   {
    "duration": 16,
    "start_time": "2022-01-28T06:16:15.038Z"
   },
   {
    "duration": 5,
    "start_time": "2022-01-28T06:16:15.056Z"
   },
   {
    "duration": 26,
    "start_time": "2022-01-28T06:16:15.064Z"
   },
   {
    "duration": 3,
    "start_time": "2022-01-28T06:16:15.092Z"
   },
   {
    "duration": 4364,
    "start_time": "2022-01-28T06:16:15.096Z"
   },
   {
    "duration": 6,
    "start_time": "2022-01-28T06:16:19.462Z"
   },
   {
    "duration": 8,
    "start_time": "2022-01-28T06:16:19.470Z"
   },
   {
    "duration": 5,
    "start_time": "2022-01-28T06:16:19.480Z"
   },
   {
    "duration": 19,
    "start_time": "2022-01-28T06:16:19.486Z"
   },
   {
    "duration": 21,
    "start_time": "2022-01-28T06:16:19.506Z"
   },
   {
    "duration": 5,
    "start_time": "2022-01-28T06:16:19.528Z"
   },
   {
    "duration": 23,
    "start_time": "2022-01-28T06:16:19.534Z"
   },
   {
    "duration": 18,
    "start_time": "2022-01-28T06:16:19.558Z"
   },
   {
    "duration": 18,
    "start_time": "2022-01-28T06:16:19.577Z"
   },
   {
    "duration": 42,
    "start_time": "2022-01-28T06:16:19.596Z"
   },
   {
    "duration": 3,
    "start_time": "2022-01-28T06:18:12.381Z"
   },
   {
    "duration": 59,
    "start_time": "2022-01-28T06:18:14.687Z"
   },
   {
    "duration": 11,
    "start_time": "2022-01-28T06:18:14.748Z"
   },
   {
    "duration": 5,
    "start_time": "2022-01-28T06:18:14.761Z"
   },
   {
    "duration": 16,
    "start_time": "2022-01-28T06:18:14.768Z"
   },
   {
    "duration": 6,
    "start_time": "2022-01-28T06:18:14.785Z"
   },
   {
    "duration": 36,
    "start_time": "2022-01-28T06:18:14.792Z"
   },
   {
    "duration": 5,
    "start_time": "2022-01-28T06:18:14.829Z"
   },
   {
    "duration": 15,
    "start_time": "2022-01-28T06:18:14.837Z"
   },
   {
    "duration": 11,
    "start_time": "2022-01-28T06:18:14.854Z"
   },
   {
    "duration": 16,
    "start_time": "2022-01-28T06:18:14.866Z"
   },
   {
    "duration": 18,
    "start_time": "2022-01-28T06:18:14.884Z"
   },
   {
    "duration": 9,
    "start_time": "2022-01-28T06:18:14.903Z"
   },
   {
    "duration": 18,
    "start_time": "2022-01-28T06:18:14.913Z"
   },
   {
    "duration": 11,
    "start_time": "2022-01-28T06:18:14.932Z"
   },
   {
    "duration": 16,
    "start_time": "2022-01-28T06:18:14.945Z"
   },
   {
    "duration": 12,
    "start_time": "2022-01-28T06:18:14.963Z"
   },
   {
    "duration": 19,
    "start_time": "2022-01-28T06:18:14.976Z"
   },
   {
    "duration": 8,
    "start_time": "2022-01-28T06:18:14.997Z"
   },
   {
    "duration": 21,
    "start_time": "2022-01-28T06:18:15.006Z"
   },
   {
    "duration": 16,
    "start_time": "2022-01-28T06:18:15.029Z"
   },
   {
    "duration": 13,
    "start_time": "2022-01-28T06:18:15.047Z"
   },
   {
    "duration": 6,
    "start_time": "2022-01-28T06:18:15.062Z"
   },
   {
    "duration": 28,
    "start_time": "2022-01-28T06:18:15.070Z"
   },
   {
    "duration": 3,
    "start_time": "2022-01-28T06:18:15.100Z"
   },
   {
    "duration": 4114,
    "start_time": "2022-01-28T06:18:15.104Z"
   },
   {
    "duration": 6,
    "start_time": "2022-01-28T06:18:19.227Z"
   },
   {
    "duration": 6,
    "start_time": "2022-01-28T06:18:19.235Z"
   },
   {
    "duration": 3,
    "start_time": "2022-01-28T06:18:19.242Z"
   },
   {
    "duration": 24,
    "start_time": "2022-01-28T06:18:19.247Z"
   },
   {
    "duration": 5,
    "start_time": "2022-01-28T06:18:19.273Z"
   },
   {
    "duration": 6,
    "start_time": "2022-01-28T06:18:19.279Z"
   },
   {
    "duration": 57,
    "start_time": "2022-01-28T06:18:19.287Z"
   },
   {
    "duration": 19,
    "start_time": "2022-01-28T06:18:19.346Z"
   },
   {
    "duration": 19,
    "start_time": "2022-01-28T06:18:19.366Z"
   },
   {
    "duration": 49,
    "start_time": "2022-01-28T06:18:19.387Z"
   },
   {
    "duration": 54,
    "start_time": "2022-01-28T06:18:42.822Z"
   },
   {
    "duration": 8,
    "start_time": "2022-01-28T06:18:42.877Z"
   },
   {
    "duration": 5,
    "start_time": "2022-01-28T06:18:42.887Z"
   },
   {
    "duration": 8,
    "start_time": "2022-01-28T06:18:42.894Z"
   },
   {
    "duration": 27,
    "start_time": "2022-01-28T06:18:42.903Z"
   },
   {
    "duration": 5,
    "start_time": "2022-01-28T06:18:42.932Z"
   },
   {
    "duration": 5,
    "start_time": "2022-01-28T06:18:42.938Z"
   },
   {
    "duration": 4,
    "start_time": "2022-01-28T06:18:42.945Z"
   },
   {
    "duration": 5,
    "start_time": "2022-01-28T06:18:42.950Z"
   },
   {
    "duration": 9,
    "start_time": "2022-01-28T06:18:42.956Z"
   },
   {
    "duration": 13,
    "start_time": "2022-01-28T06:18:42.966Z"
   },
   {
    "duration": 6,
    "start_time": "2022-01-28T06:18:42.980Z"
   },
   {
    "duration": 9,
    "start_time": "2022-01-28T06:18:43.027Z"
   },
   {
    "duration": 14,
    "start_time": "2022-01-28T06:18:43.037Z"
   },
   {
    "duration": 8,
    "start_time": "2022-01-28T06:18:43.053Z"
   },
   {
    "duration": 7,
    "start_time": "2022-01-28T06:18:43.063Z"
   },
   {
    "duration": 9,
    "start_time": "2022-01-28T06:18:43.071Z"
   },
   {
    "duration": 8,
    "start_time": "2022-01-28T06:18:43.081Z"
   },
   {
    "duration": 17,
    "start_time": "2022-01-28T06:18:43.090Z"
   },
   {
    "duration": 32,
    "start_time": "2022-01-28T06:18:43.108Z"
   },
   {
    "duration": 13,
    "start_time": "2022-01-28T06:18:43.142Z"
   },
   {
    "duration": 6,
    "start_time": "2022-01-28T06:18:43.156Z"
   },
   {
    "duration": 25,
    "start_time": "2022-01-28T06:18:43.164Z"
   },
   {
    "duration": 3,
    "start_time": "2022-01-28T06:18:43.190Z"
   },
   {
    "duration": 3933,
    "start_time": "2022-01-28T06:18:43.195Z"
   },
   {
    "duration": 7,
    "start_time": "2022-01-28T06:18:47.130Z"
   },
   {
    "duration": 6,
    "start_time": "2022-01-28T06:18:47.139Z"
   },
   {
    "duration": 3,
    "start_time": "2022-01-28T06:18:47.147Z"
   },
   {
    "duration": 19,
    "start_time": "2022-01-28T06:18:47.152Z"
   },
   {
    "duration": 6,
    "start_time": "2022-01-28T06:18:47.172Z"
   },
   {
    "duration": 5,
    "start_time": "2022-01-28T06:18:47.179Z"
   },
   {
    "duration": 58,
    "start_time": "2022-01-28T06:18:47.186Z"
   },
   {
    "duration": 19,
    "start_time": "2022-01-28T06:18:47.246Z"
   },
   {
    "duration": 19,
    "start_time": "2022-01-28T06:18:47.267Z"
   },
   {
    "duration": 47,
    "start_time": "2022-01-28T06:18:47.288Z"
   },
   {
    "duration": 13,
    "start_time": "2022-01-28T06:40:47.486Z"
   },
   {
    "duration": 1690,
    "start_time": "2022-02-05T19:45:37.908Z"
   },
   {
    "duration": 19,
    "start_time": "2022-02-05T19:45:39.601Z"
   },
   {
    "duration": 7,
    "start_time": "2022-02-05T19:45:39.623Z"
   },
   {
    "duration": 30,
    "start_time": "2022-02-05T19:45:39.632Z"
   },
   {
    "duration": 6,
    "start_time": "2022-02-05T19:45:39.665Z"
   },
   {
    "duration": 6,
    "start_time": "2022-02-05T19:45:39.674Z"
   },
   {
    "duration": 9,
    "start_time": "2022-02-05T19:45:39.683Z"
   },
   {
    "duration": 6,
    "start_time": "2022-02-05T19:45:39.696Z"
   },
   {
    "duration": 54,
    "start_time": "2022-02-05T19:45:39.705Z"
   },
   {
    "duration": 14,
    "start_time": "2022-02-05T19:45:39.762Z"
   },
   {
    "duration": 17,
    "start_time": "2022-02-05T19:45:39.778Z"
   },
   {
    "duration": 21,
    "start_time": "2022-02-05T19:45:39.798Z"
   },
   {
    "duration": 15,
    "start_time": "2022-02-05T19:45:39.859Z"
   },
   {
    "duration": 11,
    "start_time": "2022-02-05T19:45:39.877Z"
   },
   {
    "duration": 14,
    "start_time": "2022-02-05T19:45:39.891Z"
   },
   {
    "duration": 11,
    "start_time": "2022-02-05T19:45:39.908Z"
   },
   {
    "duration": 40,
    "start_time": "2022-02-05T19:45:39.921Z"
   },
   {
    "duration": 8,
    "start_time": "2022-02-05T19:45:39.963Z"
   },
   {
    "duration": 25,
    "start_time": "2022-02-05T19:45:39.973Z"
   },
   {
    "duration": 23,
    "start_time": "2022-02-05T19:45:40.000Z"
   },
   {
    "duration": 22,
    "start_time": "2022-02-05T19:45:40.059Z"
   },
   {
    "duration": 9,
    "start_time": "2022-02-05T19:45:40.083Z"
   },
   {
    "duration": 10,
    "start_time": "2022-02-05T19:45:40.097Z"
   },
   {
    "duration": 5,
    "start_time": "2022-02-05T19:45:40.110Z"
   },
   {
    "duration": 6023,
    "start_time": "2022-02-05T19:45:40.117Z"
   },
   {
    "duration": 22,
    "start_time": "2022-02-05T19:45:46.143Z"
   },
   {
    "duration": 10,
    "start_time": "2022-02-05T19:45:46.167Z"
   },
   {
    "duration": 5,
    "start_time": "2022-02-05T19:45:46.179Z"
   },
   {
    "duration": 36,
    "start_time": "2022-02-05T19:45:46.186Z"
   },
   {
    "duration": 37,
    "start_time": "2022-02-05T19:45:46.224Z"
   },
   {
    "duration": 14,
    "start_time": "2022-02-05T19:45:46.264Z"
   },
   {
    "duration": 34,
    "start_time": "2022-02-05T19:45:46.281Z"
   },
   {
    "duration": 61,
    "start_time": "2022-02-05T19:45:46.318Z"
   },
   {
    "duration": 32,
    "start_time": "2022-02-05T19:45:46.382Z"
   },
   {
    "duration": 55,
    "start_time": "2022-02-05T19:45:46.416Z"
   },
   {
    "duration": 477,
    "start_time": "2022-02-08T13:09:45.897Z"
   },
   {
    "duration": 812,
    "start_time": "2022-02-08T13:09:49.763Z"
   },
   {
    "duration": 31,
    "start_time": "2022-02-08T13:09:50.578Z"
   },
   {
    "duration": 36,
    "start_time": "2022-02-08T13:09:50.613Z"
   },
   {
    "duration": 7,
    "start_time": "2022-02-08T13:09:50.652Z"
   },
   {
    "duration": 12,
    "start_time": "2022-02-08T13:09:50.661Z"
   },
   {
    "duration": 9,
    "start_time": "2022-02-08T13:09:50.675Z"
   },
   {
    "duration": 14,
    "start_time": "2022-02-08T13:09:50.686Z"
   },
   {
    "duration": 14,
    "start_time": "2022-02-08T13:09:50.704Z"
   },
   {
    "duration": 30,
    "start_time": "2022-02-08T13:09:50.722Z"
   },
   {
    "duration": 8,
    "start_time": "2022-02-08T13:09:50.754Z"
   },
   {
    "duration": 21,
    "start_time": "2022-02-08T13:09:50.764Z"
   },
   {
    "duration": 18,
    "start_time": "2022-02-08T13:09:50.787Z"
   },
   {
    "duration": 53,
    "start_time": "2022-02-08T13:09:50.807Z"
   },
   {
    "duration": 16,
    "start_time": "2022-02-08T13:09:50.863Z"
   },
   {
    "duration": 17,
    "start_time": "2022-02-08T13:09:50.882Z"
   },
   {
    "duration": 20,
    "start_time": "2022-02-08T13:09:50.902Z"
   },
   {
    "duration": 30,
    "start_time": "2022-02-08T13:09:50.925Z"
   },
   {
    "duration": 14,
    "start_time": "2022-02-08T13:09:50.957Z"
   },
   {
    "duration": 19,
    "start_time": "2022-02-08T13:09:50.973Z"
   },
   {
    "duration": 30,
    "start_time": "2022-02-08T13:09:50.995Z"
   },
   {
    "duration": 42,
    "start_time": "2022-02-08T13:09:51.027Z"
   },
   {
    "duration": 21,
    "start_time": "2022-02-08T13:09:51.071Z"
   },
   {
    "duration": 8,
    "start_time": "2022-02-08T13:09:51.097Z"
   },
   {
    "duration": 40,
    "start_time": "2022-02-08T13:09:51.108Z"
   },
   {
    "duration": 5,
    "start_time": "2022-02-08T13:09:51.151Z"
   },
   {
    "duration": 6794,
    "start_time": "2022-02-08T13:09:51.158Z"
   },
   {
    "duration": 11,
    "start_time": "2022-02-08T13:09:57.955Z"
   },
   {
    "duration": 9,
    "start_time": "2022-02-08T13:09:57.968Z"
   },
   {
    "duration": 4,
    "start_time": "2022-02-08T13:09:57.980Z"
   },
   {
    "duration": 81,
    "start_time": "2022-02-08T13:09:57.987Z"
   },
   {
    "duration": 7,
    "start_time": "2022-02-08T13:09:58.071Z"
   },
   {
    "duration": 8,
    "start_time": "2022-02-08T13:09:58.080Z"
   },
   {
    "duration": 72,
    "start_time": "2022-02-08T13:09:58.090Z"
   },
   {
    "duration": 32,
    "start_time": "2022-02-08T13:09:58.165Z"
   },
   {
    "duration": 55,
    "start_time": "2022-02-08T13:09:58.200Z"
   },
   {
    "duration": 30,
    "start_time": "2022-02-08T13:09:58.258Z"
   },
   {
    "duration": 6,
    "start_time": "2022-02-08T13:51:29.722Z"
   },
   {
    "duration": 6,
    "start_time": "2022-02-08T13:51:57.548Z"
   },
   {
    "duration": 6,
    "start_time": "2022-02-08T13:52:03.068Z"
   },
   {
    "duration": 5,
    "start_time": "2022-02-08T13:53:02.763Z"
   },
   {
    "duration": 6,
    "start_time": "2022-02-08T13:53:10.353Z"
   },
   {
    "duration": 330,
    "start_time": "2022-02-08T13:53:50.142Z"
   },
   {
    "duration": 6,
    "start_time": "2022-02-08T13:53:59.210Z"
   },
   {
    "duration": 8,
    "start_time": "2022-02-08T13:54:10.572Z"
   },
   {
    "duration": 8,
    "start_time": "2022-02-08T13:54:13.356Z"
   },
   {
    "duration": 93,
    "start_time": "2022-02-08T13:54:17.195Z"
   },
   {
    "duration": 19,
    "start_time": "2022-02-08T13:54:17.291Z"
   },
   {
    "duration": 49,
    "start_time": "2022-02-08T13:54:17.313Z"
   },
   {
    "duration": 8,
    "start_time": "2022-02-08T13:54:17.365Z"
   },
   {
    "duration": 8,
    "start_time": "2022-02-08T13:54:17.375Z"
   },
   {
    "duration": 11,
    "start_time": "2022-02-08T13:54:17.386Z"
   },
   {
    "duration": 50,
    "start_time": "2022-02-08T13:54:17.400Z"
   },
   {
    "duration": 8,
    "start_time": "2022-02-08T13:54:17.454Z"
   },
   {
    "duration": 9,
    "start_time": "2022-02-08T13:54:17.464Z"
   },
   {
    "duration": 8,
    "start_time": "2022-02-08T13:54:17.476Z"
   },
   {
    "duration": 17,
    "start_time": "2022-02-08T13:54:17.486Z"
   },
   {
    "duration": 19,
    "start_time": "2022-02-08T13:54:17.549Z"
   },
   {
    "duration": 19,
    "start_time": "2022-02-08T13:54:17.571Z"
   },
   {
    "duration": 16,
    "start_time": "2022-02-08T13:54:17.592Z"
   },
   {
    "duration": 44,
    "start_time": "2022-02-08T13:54:17.610Z"
   },
   {
    "duration": 12,
    "start_time": "2022-02-08T13:54:17.656Z"
   },
   {
    "duration": 11,
    "start_time": "2022-02-08T13:54:17.671Z"
   },
   {
    "duration": 15,
    "start_time": "2022-02-08T13:54:17.684Z"
   },
   {
    "duration": 12,
    "start_time": "2022-02-08T13:54:17.701Z"
   },
   {
    "duration": 49,
    "start_time": "2022-02-08T13:54:17.716Z"
   },
   {
    "duration": 25,
    "start_time": "2022-02-08T13:54:17.768Z"
   },
   {
    "duration": 23,
    "start_time": "2022-02-08T13:54:17.795Z"
   },
   {
    "duration": 9,
    "start_time": "2022-02-08T13:54:17.851Z"
   },
   {
    "duration": 27,
    "start_time": "2022-02-08T13:54:17.863Z"
   },
   {
    "duration": 5,
    "start_time": "2022-02-08T13:54:17.893Z"
   },
   {
    "duration": 6332,
    "start_time": "2022-02-08T13:54:17.901Z"
   },
   {
    "duration": 18,
    "start_time": "2022-02-08T13:54:24.236Z"
   },
   {
    "duration": 10,
    "start_time": "2022-02-08T13:54:24.257Z"
   },
   {
    "duration": 5,
    "start_time": "2022-02-08T13:54:24.269Z"
   },
   {
    "duration": 32,
    "start_time": "2022-02-08T13:54:24.276Z"
   },
   {
    "duration": 42,
    "start_time": "2022-02-08T13:54:24.310Z"
   },
   {
    "duration": 15,
    "start_time": "2022-02-08T13:54:24.354Z"
   },
   {
    "duration": 43,
    "start_time": "2022-02-08T13:54:24.371Z"
   },
   {
    "duration": 52,
    "start_time": "2022-02-08T13:54:24.417Z"
   },
   {
    "duration": 34,
    "start_time": "2022-02-08T13:54:24.472Z"
   },
   {
    "duration": 55,
    "start_time": "2022-02-08T13:54:24.509Z"
   },
   {
    "duration": 419,
    "start_time": "2022-02-08T14:02:58.024Z"
   },
   {
    "duration": 6,
    "start_time": "2022-02-08T14:03:05.793Z"
   },
   {
    "duration": 6,
    "start_time": "2022-02-08T14:04:13.039Z"
   },
   {
    "duration": 134,
    "start_time": "2022-02-08T14:04:17.836Z"
   },
   {
    "duration": 20,
    "start_time": "2022-02-08T14:04:17.974Z"
   },
   {
    "duration": 19,
    "start_time": "2022-02-08T14:04:17.998Z"
   },
   {
    "duration": 32,
    "start_time": "2022-02-08T14:04:18.020Z"
   },
   {
    "duration": 7,
    "start_time": "2022-02-08T14:04:18.054Z"
   },
   {
    "duration": 7,
    "start_time": "2022-02-08T14:04:18.063Z"
   },
   {
    "duration": 20,
    "start_time": "2022-02-08T14:04:18.072Z"
   },
   {
    "duration": 7,
    "start_time": "2022-02-08T14:04:18.095Z"
   },
   {
    "duration": 51,
    "start_time": "2022-02-08T14:04:18.105Z"
   },
   {
    "duration": 11,
    "start_time": "2022-02-08T14:04:18.159Z"
   },
   {
    "duration": 28,
    "start_time": "2022-02-08T14:04:18.173Z"
   },
   {
    "duration": 58,
    "start_time": "2022-02-08T14:04:18.205Z"
   },
   {
    "duration": 30,
    "start_time": "2022-02-08T14:04:18.266Z"
   },
   {
    "duration": 18,
    "start_time": "2022-02-08T14:04:18.298Z"
   },
   {
    "duration": 53,
    "start_time": "2022-02-08T14:04:18.319Z"
   },
   {
    "duration": 16,
    "start_time": "2022-02-08T14:04:18.376Z"
   },
   {
    "duration": 11,
    "start_time": "2022-02-08T14:04:18.395Z"
   },
   {
    "duration": 20,
    "start_time": "2022-02-08T14:04:18.409Z"
   },
   {
    "duration": 20,
    "start_time": "2022-02-08T14:04:18.432Z"
   },
   {
    "duration": 28,
    "start_time": "2022-02-08T14:04:18.455Z"
   },
   {
    "duration": 24,
    "start_time": "2022-02-08T14:04:18.486Z"
   },
   {
    "duration": 50,
    "start_time": "2022-02-08T14:04:18.513Z"
   },
   {
    "duration": 9,
    "start_time": "2022-02-08T14:04:18.567Z"
   },
   {
    "duration": 41,
    "start_time": "2022-02-08T14:04:18.579Z"
   },
   {
    "duration": 26,
    "start_time": "2022-02-08T14:04:18.623Z"
   },
   {
    "duration": 5958,
    "start_time": "2022-02-08T14:04:18.651Z"
   },
   {
    "duration": 10,
    "start_time": "2022-02-08T14:04:24.612Z"
   },
   {
    "duration": 28,
    "start_time": "2022-02-08T14:04:24.624Z"
   },
   {
    "duration": 5,
    "start_time": "2022-02-08T14:04:24.655Z"
   },
   {
    "duration": 33,
    "start_time": "2022-02-08T14:04:24.663Z"
   },
   {
    "duration": 7,
    "start_time": "2022-02-08T14:04:24.699Z"
   },
   {
    "duration": 44,
    "start_time": "2022-02-08T14:04:24.708Z"
   },
   {
    "duration": 34,
    "start_time": "2022-02-08T14:04:24.754Z"
   },
   {
    "duration": 59,
    "start_time": "2022-02-08T14:04:24.791Z"
   },
   {
    "duration": 31,
    "start_time": "2022-02-08T14:04:24.852Z"
   },
   {
    "duration": 31,
    "start_time": "2022-02-08T14:04:24.885Z"
   },
   {
    "duration": 122,
    "start_time": "2022-02-08T14:10:02.634Z"
   },
   {
    "duration": 21,
    "start_time": "2022-02-08T14:10:02.759Z"
   },
   {
    "duration": 20,
    "start_time": "2022-02-08T14:10:02.783Z"
   },
   {
    "duration": 42,
    "start_time": "2022-02-08T14:10:02.806Z"
   },
   {
    "duration": 7,
    "start_time": "2022-02-08T14:10:02.851Z"
   },
   {
    "duration": 13,
    "start_time": "2022-02-08T14:10:02.860Z"
   },
   {
    "duration": 11,
    "start_time": "2022-02-08T14:10:02.875Z"
   },
   {
    "duration": 10,
    "start_time": "2022-02-08T14:10:02.889Z"
   },
   {
    "duration": 51,
    "start_time": "2022-02-08T14:10:02.903Z"
   },
   {
    "duration": 7,
    "start_time": "2022-02-08T14:10:02.956Z"
   },
   {
    "duration": 30,
    "start_time": "2022-02-08T14:10:02.966Z"
   },
   {
    "duration": 57,
    "start_time": "2022-02-08T14:10:02.999Z"
   },
   {
    "duration": 26,
    "start_time": "2022-02-08T14:10:03.058Z"
   },
   {
    "duration": 24,
    "start_time": "2022-02-08T14:10:03.087Z"
   },
   {
    "duration": 39,
    "start_time": "2022-02-08T14:10:03.114Z"
   },
   {
    "duration": 13,
    "start_time": "2022-02-08T14:10:03.156Z"
   },
   {
    "duration": 9,
    "start_time": "2022-02-08T14:10:03.172Z"
   },
   {
    "duration": 10,
    "start_time": "2022-02-08T14:10:03.183Z"
   },
   {
    "duration": 10,
    "start_time": "2022-02-08T14:10:03.196Z"
   },
   {
    "duration": 64,
    "start_time": "2022-02-08T14:10:03.208Z"
   },
   {
    "duration": 23,
    "start_time": "2022-02-08T14:10:03.275Z"
   },
   {
    "duration": 49,
    "start_time": "2022-02-08T14:10:03.301Z"
   },
   {
    "duration": 9,
    "start_time": "2022-02-08T14:10:03.355Z"
   },
   {
    "duration": 36,
    "start_time": "2022-02-08T14:10:03.368Z"
   },
   {
    "duration": 7,
    "start_time": "2022-02-08T14:10:03.406Z"
   },
   {
    "duration": 6791,
    "start_time": "2022-02-08T14:10:03.415Z"
   },
   {
    "duration": 12,
    "start_time": "2022-02-08T14:10:10.210Z"
   },
   {
    "duration": 31,
    "start_time": "2022-02-08T14:10:10.225Z"
   },
   {
    "duration": 4,
    "start_time": "2022-02-08T14:10:10.260Z"
   },
   {
    "duration": 45,
    "start_time": "2022-02-08T14:10:10.267Z"
   },
   {
    "duration": 36,
    "start_time": "2022-02-08T14:10:10.315Z"
   },
   {
    "duration": 10,
    "start_time": "2022-02-08T14:10:10.354Z"
   },
   {
    "duration": 36,
    "start_time": "2022-02-08T14:10:10.368Z"
   },
   {
    "duration": 74,
    "start_time": "2022-02-08T14:10:10.406Z"
   },
   {
    "duration": 35,
    "start_time": "2022-02-08T14:10:10.482Z"
   },
   {
    "duration": 59,
    "start_time": "2022-02-08T14:10:10.520Z"
   }
  ],
  "kernelspec": {
   "display_name": "Python 3",
   "language": "python",
   "name": "python3"
  },
  "language_info": {
   "codemirror_mode": {
    "name": "ipython",
    "version": 3
   },
   "file_extension": ".py",
   "mimetype": "text/x-python",
   "name": "python",
   "nbconvert_exporter": "python",
   "pygments_lexer": "ipython3",
   "version": "3.7.1"
  },
  "toc": {
   "base_numbering": 1,
   "nav_menu": {},
   "number_sections": true,
   "sideBar": true,
   "skip_h1_title": true,
   "title_cell": "Table of Contents",
   "title_sidebar": "Contents",
   "toc_cell": false,
   "toc_position": {},
   "toc_section_display": true,
   "toc_window_display": false
  }
 },
 "nbformat": 4,
 "nbformat_minor": 2
}
