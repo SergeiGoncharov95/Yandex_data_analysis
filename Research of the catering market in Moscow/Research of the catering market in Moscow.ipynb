{
 "cells": [
  {
   "cell_type": "markdown",
   "metadata": {},
   "source": [
    "<div style=\"border:solid green 2px; padding: 20px\">\n",
    "\n",
    "<b>Привет, Сергей! Поздравляю с выполнением очередного проекта!</b>\n",
    "\n",
    "Меня зовут Петр Раздобреев и я буду проверять твою работу. Попробую помочь сделать тебе её еще лучше! В Практикуме принято общени на ты, но если это дискомфортно, то сообщи об этом)\n",
    "\n",
    "Ниже ты найдешь мои комментарии - пожалуйста, не перемещай, не изменяй и не удаляй их. Я буду использовать цветовую разметку:\n",
    "\n",
    "<div class=\"alert alert-danger\">\n",
    "<b>Комментарий ревьюера:</b>☁️Так выделены самые важные замечания. Без их отработки проект не будет принят. </div>\n",
    "\n",
    "<div class=\"alert alert-warning\">\n",
    "<b>Комментарий ревьюера:</b>⛅️ Так выделены небольшие замечания.Такие замечания в проекте допустимы, это пространство для улучшений в будущем.\n",
    "</div>\n",
    "\n",
    "<div class=\"alert alert-success\">\n",
    "<b>Комментарий ревьюера:</b>☀️Так я выделяю успешные идеи.</div>\n",
    "\n",
    "Давай работать над проектом в диалоге: если ты что-то меняешь в проекте или отвечаешь на мои комменатри — пиши об этом. Мне будет легче отследить изменения, если ты выделишь свои комментарии:\n",
    "<div class=\"alert alert-info\"> <b>Комментарий студента:</b> Например, вот так.</div>\n",
    "\n",
    "Всё это поможет выполнить повторную проверку твоего проекта оперативнее. \n",
    "    \n",
    "\n"
   ]
  },
  {
   "cell_type": "markdown",
   "metadata": {},
   "source": [
    "<div class=\"alert alert-info\"> <b>Комментарий студента:</b> Пётр, привет, договорились.</div>"
   ]
  },
  {
   "cell_type": "markdown",
   "metadata": {},
   "source": [
    "<div class=\"alert alert-success\">\n",
    "<b>Комментарий ревьюера v2:</b>☀️\n",
    "\n",
    "Здравствуй, Сергей, договорились\n",
    "</div>\n"
   ]
  },
  {
   "cell_type": "markdown",
   "metadata": {
    "toc": true
   },
   "source": [
    "<h1>Содержание<span class=\"tocSkip\"></span></h1>\n",
    "<div class=\"toc\"><ul class=\"toc-item\"><li><span><a href=\"#Шаг-№1.-Загрузите-данные-и-подготовьте-их-к-анализу\" data-toc-modified-id=\"Шаг-№1.-Загрузите-данные-и-подготовьте-их-к-анализу-1\"><span class=\"toc-item-num\">1&nbsp;&nbsp;</span>Шаг №1. Загрузите данные и подготовьте их к анализу</a></span></li><li><span><a href=\"#Шаг-№2.-Анализ-данных\" data-toc-modified-id=\"Шаг-№2.-Анализ-данных-2\"><span class=\"toc-item-num\">2&nbsp;&nbsp;</span>Шаг №2. Анализ данных</a></span><ul class=\"toc-item\"><li><span><a href=\"#Исследуйте-соотношение-видов-объектов-общественного-питания-по-количеству.-Постройте-график.\" data-toc-modified-id=\"Исследуйте-соотношение-видов-объектов-общественного-питания-по-количеству.-Постройте-график.-2.1\"><span class=\"toc-item-num\">2.1&nbsp;&nbsp;</span>Исследуйте соотношение видов объектов общественного питания по количеству. Постройте график.</a></span></li><li><span><a href=\"#Исследуйте-соотношение-сетевых-и-несетевых-заведений-по-количеству.-Постройте-график.\" data-toc-modified-id=\"Исследуйте-соотношение-сетевых-и-несетевых-заведений-по-количеству.-Постройте-график.-2.2\"><span class=\"toc-item-num\">2.2&nbsp;&nbsp;</span>Исследуйте соотношение сетевых и несетевых заведений по количеству. Постройте график.</a></span></li><li><span><a href=\"#Для-какого-вида-объекта-общественного-питания-характерно-сетевое-распространение?\" data-toc-modified-id=\"Для-какого-вида-объекта-общественного-питания-характерно-сетевое-распространение?-2.3\"><span class=\"toc-item-num\">2.3&nbsp;&nbsp;</span>Для какого вида объекта общественного питания характерно сетевое распространение?</a></span></li><li><span><a href=\"#Что-характерно-для-сетевых-заведений:-много-заведений-с-небольшим-числом-посадочных-мест-в-каждом-или-мало-заведений-с-большим-количеством-посадочных-мест?\" data-toc-modified-id=\"Что-характерно-для-сетевых-заведений:-много-заведений-с-небольшим-числом-посадочных-мест-в-каждом-или-мало-заведений-с-большим-количеством-посадочных-мест?-2.4\"><span class=\"toc-item-num\">2.4&nbsp;&nbsp;</span>Что характерно для сетевых заведений: много заведений с небольшим числом посадочных мест в каждом или мало заведений с большим количеством посадочных мест?</a></span></li><li><span><a href=\"#Для-каждого-вида-объекта-общественного-питания-опишите-среднее-количество-посадочных-мест.-Какой-вид-предоставляет-в-среднем-самое-большое-количество-посадочных-мест?-Постройте-графики.\" data-toc-modified-id=\"Для-каждого-вида-объекта-общественного-питания-опишите-среднее-количество-посадочных-мест.-Какой-вид-предоставляет-в-среднем-самое-большое-количество-посадочных-мест?-Постройте-графики.-2.5\"><span class=\"toc-item-num\">2.5&nbsp;&nbsp;</span>Для каждого вида объекта общественного питания опишите среднее количество посадочных мест. Какой вид предоставляет в среднем самое большое количество посадочных мест? Постройте графики.</a></span></li><li><span><a href=\"#Выделите-в-отдельный-столбец-информацию-об-улице-из-столбца-address\" data-toc-modified-id=\"Выделите-в-отдельный-столбец-информацию-об-улице-из-столбца-address-2.6\"><span class=\"toc-item-num\">2.6&nbsp;&nbsp;</span>Выделите в отдельный столбец информацию об улице из столбца address</a></span></li><li><span><a href=\"#Постройте-график-топ-10-улиц-по-количеству-объектов-общественного-питания.-Воспользуйтесь-внешней-информацией-и-ответьте-на-вопрос-—-в-каких-районах-Москвы-находятся-эти-улицы?\" data-toc-modified-id=\"Постройте-график-топ-10-улиц-по-количеству-объектов-общественного-питания.-Воспользуйтесь-внешней-информацией-и-ответьте-на-вопрос-—-в-каких-районах-Москвы-находятся-эти-улицы?-2.7\"><span class=\"toc-item-num\">2.7&nbsp;&nbsp;</span>Постройте график топ-10 улиц по количеству объектов общественного питания. Воспользуйтесь внешней информацией и ответьте на вопрос — в каких районах Москвы находятся эти улицы?</a></span></li><li><span><a href=\"#Найдите-число-улиц-с-одним-объектом-общественного-питания.-Воспользуйтесь-внешней-информацией-и-ответьте-на-вопрос-—-в-каких-районах-Москвы-находятся-эти-улицы?\" data-toc-modified-id=\"Найдите-число-улиц-с-одним-объектом-общественного-питания.-Воспользуйтесь-внешней-информацией-и-ответьте-на-вопрос-—-в-каких-районах-Москвы-находятся-эти-улицы?-2.8\"><span class=\"toc-item-num\">2.8&nbsp;&nbsp;</span>Найдите число улиц с одним объектом общественного питания. Воспользуйтесь внешней информацией и ответьте на вопрос — в каких районах Москвы находятся эти улицы?</a></span></li></ul></li><li><span><a href=\"#Общий-вывод\" data-toc-modified-id=\"Общий-вывод-3\"><span class=\"toc-item-num\">3&nbsp;&nbsp;</span>Общий вывод</a></span></li><li><span><a href=\"#Шаг-№3.-Подготовка-презентации\" data-toc-modified-id=\"Шаг-№3.-Подготовка-презентации-4\"><span class=\"toc-item-num\">4&nbsp;&nbsp;</span>Шаг №3. Подготовка презентации</a></span></li></ul></div>"
   ]
  },
  {
   "cell_type": "markdown",
   "metadata": {},
   "source": [
    "# Описание проекта"
   ]
  },
  {
   "cell_type": "markdown",
   "metadata": {},
   "source": [
    "Вы решили открыть небольшое кафе в Москве. Оно оригинальное — гостей должны обслуживать роботы. Проект многообещающий, но дорогой. Вместе с партнёрами вы решились обратиться к инвесторам. Их интересует текущее положение дел на рынке — сможете ли вы снискать популярность на долгое время, когда все зеваки насмотрятся на роботов-официантов?\n",
    "Вы — гуру аналитики, и партнёры просят вас подготовить исследование рынка. У вас есть открытые данные о заведениях общественного питания в Москве."
   ]
  },
  {
   "cell_type": "markdown",
   "metadata": {},
   "source": [
    "## Шаг №1. Загрузите данные и подготовьте их к анализу"
   ]
  },
  {
   "cell_type": "code",
   "execution_count": 1,
   "metadata": {},
   "outputs": [],
   "source": [
    "import pandas as pd # загружаем необходимые библиотеки\n",
    "import matplotlib.pyplot as plt\n",
    "import seaborn as sns\n",
    "from io import BytesIO \n",
    "import requests"
   ]
  },
  {
   "cell_type": "markdown",
   "metadata": {},
   "source": [
    "Прочетаем файл и изучим данные"
   ]
  },
  {
   "cell_type": "code",
   "execution_count": 2,
   "metadata": {},
   "outputs": [
    {
     "data": {
      "text/html": [
       "<div>\n",
       "<style scoped>\n",
       "    .dataframe tbody tr th:only-of-type {\n",
       "        vertical-align: middle;\n",
       "    }\n",
       "\n",
       "    .dataframe tbody tr th {\n",
       "        vertical-align: top;\n",
       "    }\n",
       "\n",
       "    .dataframe thead th {\n",
       "        text-align: right;\n",
       "    }\n",
       "</style>\n",
       "<table border=\"1\" class=\"dataframe\">\n",
       "  <thead>\n",
       "    <tr style=\"text-align: right;\">\n",
       "      <th></th>\n",
       "      <th>id</th>\n",
       "      <th>object_name</th>\n",
       "      <th>chain</th>\n",
       "      <th>object_type</th>\n",
       "      <th>address</th>\n",
       "      <th>number</th>\n",
       "    </tr>\n",
       "  </thead>\n",
       "  <tbody>\n",
       "    <tr>\n",
       "      <th>0</th>\n",
       "      <td>151635</td>\n",
       "      <td>СМЕТАНА</td>\n",
       "      <td>нет</td>\n",
       "      <td>кафе</td>\n",
       "      <td>город Москва, улица Егора Абакумова, дом 9</td>\n",
       "      <td>48</td>\n",
       "    </tr>\n",
       "    <tr>\n",
       "      <th>1</th>\n",
       "      <td>77874</td>\n",
       "      <td>Родник</td>\n",
       "      <td>нет</td>\n",
       "      <td>кафе</td>\n",
       "      <td>город Москва, улица Талалихина, дом 2/1, корпус 1</td>\n",
       "      <td>35</td>\n",
       "    </tr>\n",
       "    <tr>\n",
       "      <th>2</th>\n",
       "      <td>24309</td>\n",
       "      <td>Кафе «Академия»</td>\n",
       "      <td>нет</td>\n",
       "      <td>кафе</td>\n",
       "      <td>город Москва, Абельмановская улица, дом 6</td>\n",
       "      <td>95</td>\n",
       "    </tr>\n",
       "    <tr>\n",
       "      <th>3</th>\n",
       "      <td>21894</td>\n",
       "      <td>ПИЦЦЕТОРИЯ</td>\n",
       "      <td>да</td>\n",
       "      <td>кафе</td>\n",
       "      <td>город Москва, Абрамцевская улица, дом 1</td>\n",
       "      <td>40</td>\n",
       "    </tr>\n",
       "    <tr>\n",
       "      <th>4</th>\n",
       "      <td>119365</td>\n",
       "      <td>Кафе «Вишневая метель»</td>\n",
       "      <td>нет</td>\n",
       "      <td>кафе</td>\n",
       "      <td>город Москва, Абрамцевская улица, дом 9, корпус 1</td>\n",
       "      <td>50</td>\n",
       "    </tr>\n",
       "    <tr>\n",
       "      <th>...</th>\n",
       "      <td>...</td>\n",
       "      <td>...</td>\n",
       "      <td>...</td>\n",
       "      <td>...</td>\n",
       "      <td>...</td>\n",
       "      <td>...</td>\n",
       "    </tr>\n",
       "    <tr>\n",
       "      <th>15361</th>\n",
       "      <td>208537</td>\n",
       "      <td>Шоколадница</td>\n",
       "      <td>да</td>\n",
       "      <td>кафе</td>\n",
       "      <td>город Москва, 3-й Крутицкий переулок, дом 18</td>\n",
       "      <td>50</td>\n",
       "    </tr>\n",
       "    <tr>\n",
       "      <th>15362</th>\n",
       "      <td>209264</td>\n",
       "      <td>Шоколадница</td>\n",
       "      <td>да</td>\n",
       "      <td>кафе</td>\n",
       "      <td>город Москва, улица Земляной Вал, дом 33</td>\n",
       "      <td>10</td>\n",
       "    </tr>\n",
       "    <tr>\n",
       "      <th>15363</th>\n",
       "      <td>209186</td>\n",
       "      <td>Шоколадница</td>\n",
       "      <td>да</td>\n",
       "      <td>кафе</td>\n",
       "      <td>город Москва, улица Земляной Вал, дом 33</td>\n",
       "      <td>20</td>\n",
       "    </tr>\n",
       "    <tr>\n",
       "      <th>15364</th>\n",
       "      <td>221900</td>\n",
       "      <td>Шоколадница</td>\n",
       "      <td>да</td>\n",
       "      <td>кафе</td>\n",
       "      <td>город Москва, поселение Московский, Киевское ш...</td>\n",
       "      <td>36</td>\n",
       "    </tr>\n",
       "    <tr>\n",
       "      <th>15365</th>\n",
       "      <td>222535</td>\n",
       "      <td>Шоколадница</td>\n",
       "      <td>да</td>\n",
       "      <td>кафе</td>\n",
       "      <td>город Москва, Ходынский бульвар, дом 4</td>\n",
       "      <td>10</td>\n",
       "    </tr>\n",
       "  </tbody>\n",
       "</table>\n",
       "<p>15366 rows × 6 columns</p>\n",
       "</div>"
      ],
      "text/plain": [
       "           id             object_name chain object_type  \\\n",
       "0      151635                 СМЕТАНА   нет        кафе   \n",
       "1       77874                  Родник   нет        кафе   \n",
       "2       24309         Кафе «Академия»   нет        кафе   \n",
       "3       21894              ПИЦЦЕТОРИЯ    да        кафе   \n",
       "4      119365  Кафе «Вишневая метель»   нет        кафе   \n",
       "...       ...                     ...   ...         ...   \n",
       "15361  208537             Шоколадница    да        кафе   \n",
       "15362  209264             Шоколадница    да        кафе   \n",
       "15363  209186             Шоколадница    да        кафе   \n",
       "15364  221900             Шоколадница    да        кафе   \n",
       "15365  222535             Шоколадница    да        кафе   \n",
       "\n",
       "                                                 address  number  \n",
       "0             город Москва, улица Егора Абакумова, дом 9      48  \n",
       "1      город Москва, улица Талалихина, дом 2/1, корпус 1      35  \n",
       "2              город Москва, Абельмановская улица, дом 6      95  \n",
       "3                город Москва, Абрамцевская улица, дом 1      40  \n",
       "4      город Москва, Абрамцевская улица, дом 9, корпус 1      50  \n",
       "...                                                  ...     ...  \n",
       "15361       город Москва, 3-й Крутицкий переулок, дом 18      50  \n",
       "15362           город Москва, улица Земляной Вал, дом 33      10  \n",
       "15363           город Москва, улица Земляной Вал, дом 33      20  \n",
       "15364  город Москва, поселение Московский, Киевское ш...      36  \n",
       "15365             город Москва, Ходынский бульвар, дом 4      10  \n",
       "\n",
       "[15366 rows x 6 columns]"
      ]
     },
     "execution_count": 2,
     "metadata": {},
     "output_type": "execute_result"
    }
   ],
   "source": [
    "data = pd.read_csv('/datasets/rest_data.csv')\n",
    "data"
   ]
  },
  {
   "cell_type": "markdown",
   "metadata": {},
   "source": [
    "<div class=\"alert alert-warning\">\n",
    "<b>Комментарий ревьюера:</b>⛅️ \n",
    "\n",
    "В последней строчке ячейки можно и не добавлять `display`, вывод произойдет и без этого\n",
    "</div>"
   ]
  },
  {
   "cell_type": "markdown",
   "metadata": {},
   "source": [
    "<div class=\"alert alert-info\"> <b>Комментарий студента:</b> Сделано </div>"
   ]
  },
  {
   "cell_type": "code",
   "execution_count": 3,
   "metadata": {
    "scrolled": true
   },
   "outputs": [
    {
     "name": "stdout",
     "output_type": "stream",
     "text": [
      "<class 'pandas.core.frame.DataFrame'>\n",
      "RangeIndex: 15366 entries, 0 to 15365\n",
      "Data columns (total 6 columns):\n",
      " #   Column       Non-Null Count  Dtype \n",
      "---  ------       --------------  ----- \n",
      " 0   id           15366 non-null  int64 \n",
      " 1   object_name  15366 non-null  object\n",
      " 2   chain        15366 non-null  object\n",
      " 3   object_type  15366 non-null  object\n",
      " 4   address      15366 non-null  object\n",
      " 5   number       15366 non-null  int64 \n",
      "dtypes: int64(2), object(4)\n",
      "memory usage: 720.4+ KB\n"
     ]
    }
   ],
   "source": [
    "data.info()"
   ]
  },
  {
   "cell_type": "markdown",
   "metadata": {},
   "source": [
    "Тип данных в каждой колонке — правильный, посмотрим есть ли пропуски в данных"
   ]
  },
  {
   "cell_type": "code",
   "execution_count": 4,
   "metadata": {},
   "outputs": [
    {
     "data": {
      "text/plain": [
       "id             0\n",
       "object_name    0\n",
       "chain          0\n",
       "object_type    0\n",
       "address        0\n",
       "number         0\n",
       "dtype: int64"
      ]
     },
     "execution_count": 4,
     "metadata": {},
     "output_type": "execute_result"
    }
   ],
   "source": [
    "data.isna().sum()"
   ]
  },
  {
   "cell_type": "markdown",
   "metadata": {},
   "source": [
    "Пропущенные значения отсутствуют пропущенные значения, посмотрим есть ли дубликаты."
   ]
  },
  {
   "cell_type": "code",
   "execution_count": 5,
   "metadata": {},
   "outputs": [
    {
     "data": {
      "text/plain": [
       "82"
      ]
     },
     "execution_count": 5,
     "metadata": {},
     "output_type": "execute_result"
    }
   ],
   "source": [
    "data[{'object_name', 'chain', 'object_type', 'address', 'number'}].duplicated().sum() # подсчёт явных дубликатов"
   ]
  },
  {
   "cell_type": "markdown",
   "metadata": {},
   "source": [
    "Исключив столбец с уникальными идентификаторами обнаружили 85 дубликата, удалим их"
   ]
  },
  {
   "cell_type": "markdown",
   "metadata": {},
   "source": [
    "\n",
    "<div class=\"alert alert-danger\">\n",
    "<b>Комментарий ревьюера:</b>☁️\n",
    "\n",
    "При наличии столбца с уникальными идентификаторами лучше искать дубликаты во всех столбцах кроме него. Поэтому рекомендую исключить столбец `id` из рассмотрения и проверить ещё раз датафрейм на дубликаты.\n",
    "\n",
    "</div>\n"
   ]
  },
  {
   "cell_type": "markdown",
   "metadata": {},
   "source": [
    "<div class=\"alert alert-info\"> <b>Комментарий студента:</b> Сделано </div>"
   ]
  },
  {
   "cell_type": "markdown",
   "metadata": {},
   "source": [
    "<div class=\"alert alert-warning\">\n",
    "<b>Комментарий ревьюера v2:</b>⛅️ \n",
    "\n",
    "Прям удалять не рассматриваемые столбцы не надо, достаточно использовать параметр `subset` в `drop_duplicates`\n",
    "</div>"
   ]
  },
  {
   "cell_type": "code",
   "execution_count": 6,
   "metadata": {},
   "outputs": [],
   "source": [
    "data = data[{'object_name', 'chain', 'object_type', 'address', 'number'}].drop_duplicates().reset_index(drop=True) # удаление явных дубликатов (с удалением старых индексов и формированием новых)"
   ]
  },
  {
   "cell_type": "code",
   "execution_count": 7,
   "metadata": {},
   "outputs": [
    {
     "data": {
      "text/plain": [
       "0"
      ]
     },
     "execution_count": 7,
     "metadata": {},
     "output_type": "execute_result"
    }
   ],
   "source": [
    "data[{'object_name', 'chain', 'object_type', 'address', 'number'}].duplicated().sum() # подсчёт явных дубликатов"
   ]
  },
  {
   "cell_type": "code",
   "execution_count": 8,
   "metadata": {
    "scrolled": true
   },
   "outputs": [
    {
     "name": "stdout",
     "output_type": "stream",
     "text": [
      "<class 'pandas.core.frame.DataFrame'>\n",
      "RangeIndex: 15284 entries, 0 to 15283\n",
      "Data columns (total 5 columns):\n",
      " #   Column       Non-Null Count  Dtype \n",
      "---  ------       --------------  ----- \n",
      " 0   address      15284 non-null  object\n",
      " 1   number       15284 non-null  int64 \n",
      " 2   object_name  15284 non-null  object\n",
      " 3   chain        15284 non-null  object\n",
      " 4   object_type  15284 non-null  object\n",
      "dtypes: int64(1), object(4)\n",
      "memory usage: 597.2+ KB\n"
     ]
    }
   ],
   "source": [
    "data.info()"
   ]
  },
  {
   "cell_type": "markdown",
   "metadata": {},
   "source": [
    "При изучении данных явно видно, что есть неявные дубликаты (названия одних и тех же кафе либо написаны с помощью строчных/заглавных букв, либо к названию добавляются слова типа кафе и тп) в столбце 'object_name', обработаем их"
   ]
  },
  {
   "cell_type": "code",
   "execution_count": 9,
   "metadata": {},
   "outputs": [],
   "source": [
    "data['object_name'] = data['object_name'].str.lower() # делаем строчными все буквы в столбце 'object_name'"
   ]
  },
  {
   "cell_type": "markdown",
   "metadata": {},
   "source": [
    "Подсчитаем сколько разных значений в столбце 'object_name' и посмотрим список уникальных значений столбца 'object_name'"
   ]
  },
  {
   "cell_type": "code",
   "execution_count": 10,
   "metadata": {
    "scrolled": true
   },
   "outputs": [
    {
     "data": {
      "text/plain": [
       "столовая                                321\n",
       "кафе                                    264\n",
       "шаурма                                  242\n",
       "шоколадница                             158\n",
       "kfc                                     155\n",
       "макдоналдс                              150\n",
       "бургер кинг                             137\n",
       "теремок                                  94\n",
       "домино'с пицца                           90\n",
       "крошка картошка                          90\n",
       "пекарня                                  81\n",
       "буфет                                    76\n",
       "милти                                    72\n",
       "суши wok                                 72\n",
       "папа джонс                               51\n",
       "додо пицца                               49\n",
       "кофе с собой                             44\n",
       "школьно-базовая столовая                 44\n",
       "чайхона №1                               43\n",
       "донер кебаб                              41\n",
       "хинкальная                               38\n",
       "якитория                                 38\n",
       "кафетерий                                38\n",
       "выпечка                                  36\n",
       "кофе хаус                                34\n",
       "subway                                   34\n",
       "кофейня                                  33\n",
       "хлеб насущный                            32\n",
       "тануки                                   32\n",
       "starbucks                                30\n",
       "прайм стар                               26\n",
       "иль патио                                25\n",
       "cofix                                    25\n",
       "мята lounge                              24\n",
       "пиццерия                                 24\n",
       "му-му                                    24\n",
       "кулинария                                23\n",
       "бистро                                   22\n",
       "бар                                      21\n",
       "старбакс                                 21\n",
       "донер                                    20\n",
       "андерсон                                 19\n",
       "сабвей                                   19\n",
       "кафе «шоколадница»                       18\n",
       "пицца хат                                18\n",
       "чайхона                                  16\n",
       "кофе                                     16\n",
       "кулинарная лавка братьев караваевых      16\n",
       "комбинат питания мгту им.н.э.баумана     15\n",
       "французская пекарня                      15\n",
       "вьетнамская кухня                        15\n",
       "азбука вкуса                             15\n",
       "столовая при гбоу школа 171              15\n",
       "алло пицца                               15\n",
       "кофемания                                15\n",
       "пицца паоло                              15\n",
       "сушишоп                                  15\n",
       "школа                                    14\n",
       "чайхана                                  14\n",
       "стардогs                                 14\n",
       "Name: object_name, dtype: int64"
      ]
     },
     "metadata": {},
     "output_type": "display_data"
    }
   ],
   "source": [
    "display(data['object_name'].value_counts().head(60))"
   ]
  },
  {
   "cell_type": "code",
   "execution_count": 11,
   "metadata": {},
   "outputs": [
    {
     "name": "stdout",
     "output_type": "stream",
     "text": [
      "['1-й мок', '1-ый московский кадетский корпус', '100 личная столовая', '100 личное кафе', '1001 ночь', '100лоффка', '101 вкус', '13 rules', '13 rules kraft beer', '15 kitchen+bar', '18 автобусный парк', '19bar atmosphere', '1x bet', '2-й автобусный парк', \"23'00\", '24 градуса', '259', '3 skovorodki', '3 правила', '33 пингвина', '37-37', '44 чашма', '495', '5звезд юг 52', '68. пауза', '69 pints', '69 pints бар', '7 злаков', '7 сендвичей', '7 сэндвичей-meating', '7717 lounge (кальянная)', '8 oz унций', '8-ой троллейбусный парк', '9 автобусный парк', '9bar', 'abbey players irish pub', 'abc coffee roasters', 'absolem', 'acai family', 'accenti', 'adry', 'aglomerat', 'al33 пиццерия бар ботега', 'alex пекарня', 'aloha poke bar', 'amande cafe', 'amarsi', 'americano кафе', 'amerigos pizza', 'amg', 'amore grande', 'amore, итальянское мороженое', 'amster bar snacks', 'an nam', 'andiamo', \"andy's friends\", 'apartament пар бар', 'aqkitchen', 'arahis pub', 'arbat hall', 'arena by soho family', 'aroma', 'art cafe', 'art lunch', 'art pub', 'art&food', 'avenue 6', 'babbles dessert&babbles', 'bambule', 'bami', 'bananas', 'bar bq', 'bar bq cafe', 'bar dag', 'bar for bikers', 'bar losbandidos', 'barbados', 'barbecue bbq storege', 'barbecue beer bar', 'barbeque', 'barbeque bbq', 'barbqcafe', 'bardak кафе по-турецки', 'baristo coffee', 'barrique', 'barrister', 'barton', 'baskin robbins', 'bazar', 'bb & burgers', 'bb grill', 'bb энд burger', 'bb&burgers', 'bbburgers', 'bbq', 'bbq am барбекю', 'be my pizza', 'be positive', 'beef роял', 'beer and fries', 'beer beer bar', 'beer dock', 'beer gik', 'beer happens', 'beer harbor', 'beermood', 'beernation', 'beertep', 'benefit фреш бар', \"benner's\", 'berikoni', 'berry fruit', 'beverly hills diner', 'bibi-донер', 'bierloga', 'big boys', 'big wall cafe', 'big суши', 'bigati bar', 'bistrof & boutigue №7', 'bistrot', 'bizone hookah', 'bizone антикафе', 'black & white', 'black cafe', 'black coffe and food', 'black hat', 'black star burger', 'black star burger prime', 'black star burgers', 'black swan pub&shop', 'black&black', 'blak tai', \"blak's\", 'blin.ru food&tea', 'blinдаж', 'bloom-n-brew', 'blush', 'bo', 'bo-bo lounge', \"bob's your uncle\", 'bocconcino', 'bodrero', 'bodro coffee', 'bodrum', 'boilerman craft beer', 'bokker', 'bolognetta', 'bon app', 'bongo coffee', 'boobo', 'bootleggers', 'born to burn', 'boroda', 'boroda burger', 'bosco bar', 'bosco cafe', 'boston', 'bottomsup', 'bp', 'bq cafe & osteria mario', 'brasserie мост', 'brawlers pab', 'brb', 'breac cafe', 'brewery&bar poet', 'bridge coffee', 'brioche', 'brisket bbq', 'broms', 'brooklyn burgers bar', 'brou star броубар', 'brut bar', 'buba by sumosan', 'bubba sheri', 'bubble mania', 'bubbleology', 'bucks coffee', 'buffalo', \"buffalo's & tacodor\", 'buffalos', 'burger & pizzetta', 'burger club', 'burger first', 'burger heroes', 'burger №1', 'burgerbar dos bandidos', 'burgerking', 'buro tsum', 'bushe', 'buthers стейк бар', 'buzfood', 'c cups сеть стильных кофеен', 'cafe 88', 'cafe de arts', 'cafe del parco', 'cafe giusto', 'cafe rioba', 'cafe&spa art de vie', 'cafetera', 'caffeine', 'calabash club', 'camera obscura', 'carte d or', 'casa di familiya', 'casa di moska', 'casa leone', 'cash&curry', 'cassette cafe', 'castle dish', 'catavina', 'catch', 'cavlar bar', 'cedro', 'cernovar', 'cevicheria.tartaria', 'cezve coffee', 'chaikhana shurpa', \"charley's\", 'charlie moscow', 'cheese connection', 'chefs table', 'chehonte', 'chicken duck', 'chill&beer', 'chilling moscow', 'chilling time', 'china blue', 'china street', 'chinese market', 'chinook ресторан', 'chipl', 'chips', 'choice bar', 'chopeat', 'ciao bella', 'ciao pizza', 'ciderella', 'cihan steak and kebab', 'cinnabon', 'cinnabon2', 'cito', 'citylunch', 'classiko bar', 'club le shateau', 'cobra game house', 'cofe fest', 'cofe mix', 'coffe', 'coffe & master', 'coffe bar', 'coffe crew', 'coffe in time', 'coffe ko', 'coffe nobe', 'coffe point', 'coffe to go', 'coffe way', 'coffe&kitchen', 'coffe-like', 'coffebrain', 'coffee', 'coffee & talk', 'coffee & waffles & movenpick', 'coffee bar', 'coffee bo', 'coffee energy', 'coffee gate', 'coffee good', 'coffee in', 'coffee like', 'coffee moments', 'coffee moose', 'coffee moose кофейня', 'coffee play', 'coffee port', 'coffee smile', 'coffee sova', 'coffee way', 'coffeefresh', 'coffeeist', 'coffeek', 'coffeeshop', 'coffeeshop company', 'coffey', 'cofix', 'cofix+plombir', 'cofix-bright', 'cola burger', 'collider', 'colors', 'community', 'cookhouse', 'copybara', 'corner burger', 'corner cafe kitchen', 'correas', 'cosmohookah bar', 'costa coffee', 'courvoisier', 'craft & draft', 'craft beer', 'craft beer republic', 'craft republic', 'craft station', 'crafted', 'crafter', 'craftlaand', 'crazy brothers', 'cream station', 'creco', 'crema espresso bar', 'crop', 'croquette cafe', 'cross keys pab', 'crush hof', 'crystal', 'cuba паб', 'cups & hugs', 'cure bar', 'curry up', 'cutlet', 'cити гольф', 'cуши.пицца', 'd wine', 'd&d cafe', 'dagda irish pub', 'daily chef', 'danatos пицца', 'dankin donats', 'dante bar and kitchen', 'darbars', \"dark patrik's pub\", 'dead rabbit pub', 'deli by prime прайм-кафе', 'devi', 'di паоло', 'dim sum', 'dim sum & co', 'dim sum&co', 'dim sun', 'dim&sam', 'dimsum&co', 'dippin dots', 'dippin dots, мороженое', 'district', 'dizengof99', 'django lounge кальян-бар', 'do do пицца', 'dobrosco', 'dodici wine and kitchen', 'dolce crema', 'dolce gamarjoba', 'domino-s pizza', 'dominos pizza', \"donatello's\", 'doner club', 'doner house', 'doner kebab', 'doner kebab-куры гриль', 'doner хаус', 'doner шаурма', 'doner-jn', 'doubl b', 'double b', 'double pizza', 'doughnats coffee', 'down house', 'drake', 'dream & drink caffee', 'dream lounge moscow кальянная', 'dreamwok', 'drive', 'drova', 'dry and wet bar', 'duck it', \"duck star's\", 'duckit', 'duckstars', 'dunkin donuts', 'dunkin donuts (азия box - бургер box)', 'dым вино', 'easy brix', 'eat and talk', 'eat georgian', 'eat market', 'eataly', 'eateriakitchen (паста)', 'ecook', 'edison', 'efir lounge', 'el cafe', 'el inka', 'eleven-hall', 'else kafe', 'embers speakeasy', 'enjoylife', 'eshak', 'everest hookah кальянная', 'executive lounge (клубная гостинная)', 'exlibris', 'extra lounge', 'fabrika deli', 'fair play', 'fame', 'familly film', 'family farm burgers', 'fan food', 'fan zone', 'farinari', 'farro', 'farsh', 'farш', 'fibonacci', 'filin good bar', 'filini', 'fish burger', 'fish me', 'fishop и ramen&noodles', 'five', 'flames lounge', 'fleur cafe', 'flight club', 'florentini', 'food and cakes', 'food cafe', 'food embassy юлии высоцкой', 'food mama', 'food market', 'food place', 'food point', 'food room', 'food store', 'food store еда&бар', 'food trip cafe', 'foood bazar', 'forest', 'forneria', 'fornetto', 'forte bello, zafferano, edoko', 'frank by баста', \"franklin's roll&burger\", 'franklins', 'franklins roll&burger,yamkee', 'franllins', 'french kiss', 'frenchkiss', 'frenchkiss free', 'fresh bar', 'fresh cacao', 'fresh cafe', 'fresh for you', 'freshcafe', 'freshup & cream bar', 'frid chicken', 'fridays', 'fridays kfc', 'fried chicken', 'friends', 'friends&family', 'fritado мир на сковороде', 'from rome to home', 'froyolla', 'fruit lab', 'fruity yummy', 'fudzy', 'fumisawa sushi', 'fusion', 'fusion menu', 'fарш', 'g arbuz', 'gagawa', 'galateria plombir', 'gallo pizza burger', 'garden', 'garden lounge кальянная', 'garnets & рассольников', 'gelateria plombir', 'gelato bacio', 'genso', 'genso sushi, явтай', 'gentleman coffee', 'geometric pizza', 'get and jerry', 'get lucky', 'gianfranco', 'gipsy', 'glenuill', 'gloster', 'glow sabs', 'glowsubs sandwiches', 'go кофе', 'goat metal bar', 'gocoffe', 'gokos греческая кухня', 'gold', 'golden palace', 'goncharov', 'gonzo lounge', 'good chillout коллекция', 'good enough', 'good food', 'goodman гудман', 'gotham lounge', 'gournest гнездо гурмана', 'graff lounge', 'grammy s', 'granat', 'grand cru', 'grand урюк', 'granny кафе ош', 'grano', 'greek freak', 'grill room', 'grill&garden', 'grill-house', 'grillfest (колбаски гриль)', 'guinness steak pub', 'gvido', 'gvido gelato', 'hadwok', 'haggis', \"hamm's food\", 'hand', 'hang kong', 'happy cup club', \"harat's pub\", 'harats pub', 'hard wok cafe', 'hardy lounge bar', 'healthy food', 'help and friend', 'helthy food', 'heritage', 'hidden bar', 'high wok & sushi', 'holy vegan', 'hook time', 'hookah burger', 'hookah cloud lounge', 'hookah maryino', 'hookah place', 'hookah place semenovskaya', 'hookah time', 'hookahplace', 'hookahxv', 'hookanplace', 'hot noodle', 'howards loves craft', 'hub столовая', 'hudson bar', 'hungry wolf', 'hunters', 'hygge', 'i am ok', 'i like bar', 'i like craft', 'i like grill', 'i lounge', 'i van gogh', 'i-chef', 'i-chet', 'ibis kitchen', 'ibrohim кебаб', 'ice tube', 'icon', 'id cafe здоровое питание', 'idola', 'il borgo', 'il fornetto', 'il forno иль форно', 'il massimo', 'il patio', 'il pizzaiolo', 'il pizzaolo', 'il tocco', 'il патио', 'il патиопланета суши', 'im smoking', 'imho bar', 'in rocki', 'inbox', 'indiyskaya tochka', 'induke', 'inferno', 'inferno kitchen правильная еда', 'ipho cafe', 'iq wine', 'iqos', 'irish mist pub', 'istanbul corner', 'italy', 'ivas lounge', 'j cafe moscow', 'j.gilroys pub', 'jack & jane', 'jacky jacky gastrobar', 'jai hind', 'jamies italian', 'jd burgers', 'jeffreys coffee', 'jis asian bistro & wine', 'jj coffee', 'johny friends', 'johnyjosper pub', 'jpan bistro', 'jungle joy', 'jw джерри вингс (jerry wings)', 'k-grill', 'k-town', 'k-town korean noodle bar', 'kafe les', 'kafin', 'kafin. best coffe. best price', 'kalimera', 'kalyan4you', 'karaoke lounge vs', 'katie osheas', 'kaufman кафе', 'kebab grill', 'kebab house', 'kebablab', 'ketch up', 'kfc', 'kfc волгоградский', 'kfc.', 'khinkalnaya', 'killfish', 'kingberry', 'kislovsky', 'kitchen', 'kofeway', 'koffee moose', 'kombinat deli', 'kombinat deli кафе кулинария', 'kozlovna', 'koпteam', 'krevetka seafood', 'kripto cafe and bar', 'krispy creme', 'krispy krem', 'krispy kreme', 'krombacher beer kitchen', 'ku рамен изакая бар', 'kuksu house', 'kulinari', 'kurkuma', 'kurnik русские традиции сегодня', 'kusselita', 'kuvings', 'kuzina', 'kvarta', 'kvartal', 'la cafe', 'la casa', 'la casa cubana', 'la casa del vino', 'la corte di milano', 'la mia georgia', 'la piazza', 'la provincia', 'la scala', 'la scarpetta', 'la spezia', 'la verona', 'laboratoria coffee', 'lacky ducks bar', 'laffa laffa', 'lafka bar', 'laltro bosco', 'lambic', 'lambic брассерия', 'lampa cafe', 'lancheria by bruno', 'lao lee', 'lari georgian kitchen', 'larionov grill & bar', 'larionov grill and bar', 'latinos', 'lavka хлеб', 'lavkalavka', 'lawson bar', 'le bar a vin', 'legendario', 'legio syshi', 'legion', 'leningrad', 'les', 'leto lounge', 'lets rok bar', 'life bowl', 'lift', 'ligeros club', 'like wine', 'limassol', \"lion's head pub\", 'lions lairs', 'litro', 'little garden kitchen&bar', 'little osaka', 'little бейрут', 'live stars', 'local band', 'local bar by timur lansky', 'locals', 'lock stock', 'loft 17', 'loft bar', 'loft hall', 'loft soft bar', 'loftsmoke кальянная', 'london beer&grill', 'look in rooms', 'lookin rooms, диско 90-х', 'los bandidos', 'lost bar', 'louis', 'lounge 1847', 'lounge bar 19-90', 'lounge bar m&f', 'lova lova multibar', 'love', 'love coffee', 'love suchi and...', 'lovin kafe', 'lowenbrau haus', 'luce', 'luciano', 'lucky b starols', 'lumberjack bar', 'luna караоке-ресторан', 'lunchjoy ресторан китайской кухни', 'lunchroom', 'lusun', 'lюstra', 'm cafe хинкальная', 'ma mi ханойская лапша', 'mac&cheese', 'macaronika', 'mad city bar', 'mad man', 'mad wine bar', 'madeo', 'maestro wok', 'magic fox', 'main street кафе', 'maison declair', 'maison declaiz', 'maki maki', \"mandy's apothecary irish pub\", 'maneki neko', 'marfino delivery', 'market burger bar', 'market place', 'marmalato', 'marrakesh хинкальная', 'marx urban grill', 'mashup', 'masons lounge bar', 'massala house', 'master gyros', 'matcha botanicals', 'matcha dope', 'matcha sushi bento', 'matcha sushi&bento', 'matreshka coffee', 'matreshka free', 'matrёshka фри', 'max bakery', 'maxi pizza', 'maxima cafe', 'mcdonalds', 'mealty', 'meat and fish', 'meat avenue', 'meat love burger', 'meat meet', 'meat puppets', 'meatchell', 'meatless', 'meatstreet', 'medusa asian kitchen bar', 'meduzza lounge bar', 'meduzzza кальян-бар', 'meet meat', 'mel кафе', 'melt me', 'mentano', 'mery', 'metafora bar', 'michaels island cafe', 'miles', 'milk&beans', 'milky moons', 'mini pizza e.f.', 'mino biff burger', 'minori sushi', 'mister x', 'mitrofood', 'mixsalad', 'modus friends', 'mojo', 'mojo бар', 'momento eat', 'mon bon', 'mondriannlounge', \"monkeys's\", 'monster hills', 'moregrill', 'mosinyaz кафе', 'moskalyan', 'movenpick', 'mr doodls', 'mr falafel', 'mr. burgerovich', 'mr. kiko', 'mr.chef', 'mr.doner', 'mr.ginger', 'mr.tutti - 2', 'mr.тутти', 'much more', 'mukuzani', 'mulberry lounge', 'munchies pizza&bierra', 'mushrooms', 'my box', 'my gelato', 'my gelato кафе', 'my place', 'mybar', 'mystery hookah bar', 'mоs gastronomic smart и casual', 'nargilia loft. кальянная. центр паровых коктелей', 'nathans', 'natura sanat', 'nem & pho', 'new york pizza', 'ngon', 'nice to meat you бургерная', 'no security grill & bar', 'nobu', 'non la', 'noodle bar', 'noodles', 'nook cofee', 'noosh', 'nordiclub', 'o escimo', 'o eskimo chistaya liniya', \"o'donoghue's\", 'oconnells pub', 'officina', 'oh my pho', 'ok doner', 'ok food story', 'oki sushi', 'oli oli', \"olster's pub\", 'omgcoffee', 'one bucks coffee', 'one level', 'one more pab', 'one more pub', 'one price coffe', 'one price coffee', 'oneprice', 'onepricecoffe', 'onepricecoffee', 'oriental', 'original', 'osteria mario', 'osteria mario+швили', 'osteria toscana', 'osteriamario', 'oversalad', 'ovo', 'oxus', 'p.square', 'p4b lounge bar', 'palacio', 'palas des thes', 'panda express', 'papa grill', 'papas burgers', 'paprika picante', 'paradise spa club', 'pari-joli', 'party bun', 'passion', 'pasta', 'pasta + salsa', 'pasta cup&pinsa', 'pasta deli', 'pastoria', 'paul', 'paul cafe', 'paul поль', 'paulaner brauhaus', 'pecivo', 'pelmeniki club', 'pelmesh', 'per se cafe', 'peri', 'peshi', 'petite pierre cafe', 'petrushka', 'pho', 'pho bo', 'pho bo 360', 'pho bo san', 'pho bo ханойский стрит-фуд', 'pho fighters', 'pho hanoi', 'pho point', 'pho u', 'pho u вьетнамская еда', 'pho viet', 'pho viet (вьетнамский стритфуд)', 'pho viet въетнамская кухня', 'pho вкусный', 'phobo', 'picciotti', 'piccolo', 'picnic cafe', 'pie factore', 'pinocchio', 'pinsapoint', 'pinsapositana', 'pinzauno', 'pinzeria by bontempi', 'pinzeria by bontempo', 'pioppo albero', 'pita gyros', 'pita mix', 'pita&meat', 'pitas', 'pitstopкафе', 'piu del cibo', 'pivbar', 'pizengof99 спб', 'pizza 24 express', 'pizza express', 'pizza hut', 'pizza loft coffee', 'pizza mia', 'pizza napoleana', 'pizza oh', 'pizza preferita', 'pizza rim', 'pizzamento', 'pizzeria 360', 'pizzetta', 'plan b', 'planeta sushi il patio', 'plov box', 'plov profi', 'plov.com', 'plovberry', 'ploveberry', 'plpb пицца', 'point 242', 'point coffe and food', 'point58', 'pointcoffe&food', 'poke house', 'pomodorro', 'porto maltese', 'porto-pomodoro', 'poutinerie', 'pq coffee and friends', 'price coffee', 'prim', 'prime', 'prime beef', 'prime cafe', 'prime star прайм стар', 'prime прайм стар', 'prime прайм стар прайм-кафе', 'private lounge', 'pro пельмени', 'pro суши пицца', 'props coffee', 'prosecco bar pr11', 'ps гвозди', 'pub no pub', 'public cafe', 'pushka', 'q2 lounge', 'quanviet', 'raffle', 'rainbow pub', 'ramen+noodles', 'ramen-club', 'rare pastrami', 'rd cafe', 'red black family', 'red buffet', 'red food', 'red mango', 'red rocket bar', 'red star cafe', 'redspoon', 'regent', 'remy burger', 'rest', 'restarant club karaoke bar «tarhun»', 'rfat kurkuma', 'ribambelle', 'rich lounge', 'right hops', 'rioba', 'rix restaurant', 'roaster coffee', 'rocky 215', 'roll & beer', 'roll wok', 'rollfix', 'rollrolls', 'rolls', 'rolls race', 'romanov cinema', 'rombouts', 'ron бар вино еда', 'roni makaroni', 'rose bar', 'rotonda', 'roy castle pub', 'royal arbat', 'royal coffee', 'royce', 'royce club', 'rule taproom', 'russian media cafe', 'rustik', 'ryba sushi and oysters', 's lounge bar', 'sadu', 'salades', 'salateria', 'salon', 'saltenas', 'samovar', 'sanders grill', 'sapiens', 'saцebela', 'sea-тория', 'seafood factory', 'seasons', 'seeds', 'semplice', 'sempre', 'serb s', 'serbiя', 'serf burger', 'sergiopizza', 'sexton', 'sfc11', 'shake shack', 'shake up', 'sham', 'share house', 'shaurmaclub кафе быстрого питания', 'she and him', 'shefs', 'shefshows by novikov', 'shell, yes', 'shishas бар', 'shishkin village', 'shop and bar denis simachev', 'shut up karaoke premium club', 'shvilli (реторан швили)', 'silver panda', 'simit house', 'simple greece', 'simple place', 'simplewine', 'sinemore', 'sinners and begginers win bar', 'sio столовая', 'sixties', 'sky lounge bar', 'sky фо вьетнамская кухня', 'skypoint', 'sleeptom', 'smart kitchen', 'smartfood', 'smoke lounge', 'smoke me in wonderland', 'smoky', 'snooty fox', 'sodexho', 'soho', 'sohomarket', 'sokol coffe', 'sos.cafe', 'soul seoul', 'soupme ресторан в стакане', 'space owl', 'spaten', 'sport bar', 'spy moscow', 'stadling pub', 'staff only', \"stag's head pub\", 'star craft & kitchen', 'star hit cafe', 'starbucks', 'starbucks coffee', 'starbucks кофе', 'starbucks старбакс', 'starbucks, старбакс кофе', 'starhit cafe', 'starlite diner', 'stay true', 'steak it easy', 'stick', 'stone age', 'stone crab', 'street coffe', 'strip & go', 'studio', 'studiofood', 'styling bull cafe', 'subway', 'sufifood', 'sumakh', 'sun flower-парк', 'sun flower-парк лобби-бар', 'super mango shake', 'super mango, напитки', 'suptown cafe', 'sure', 'surf', 'surf coffe', 'surf coffee', 'surfcoffee', 'sushi by jimmy', 'sushi club пицца суши', 'sushi fix', 'sushi hot', 'sushi island', 'sushi love', 'sushi world', 'sushi буфет', 'sushi-make', 'sushifix', 'sushilka', 'sushinerowok', 'sushisale', 'sushiwok', 'sushiyai', 'svoy pub beer&pizza', 'sweet market', 'sweet smoke', 'symphony вьетнамская кухня', 'sytiy los', 'sytiy los (w)', \"t.g.i. friday's + il патио\", 'table one', 'taboo bar', 'tajj mahal', 'take and wake', 'take it easy', 'take wake', 'takeshi', 'tako project', 'talk of the town', 'tametta', 'tapas avocado bar', 'tapas avokado bar', 'tasty joys', 'tasty thai', 'tea & smoke', 'tea funny', 'teddy', 'tehnikum', 'tempo di pasta', 'terekhov girl', 'teremok', 'testa', 'tgi fridays', 'th old shool pab', 'thali&dosa', 'the 12 wine bar', 'the buffet', 'the cafe', 'the hummus', 'the mad cook', 'the rooms', 'the sixties', 'the sweets lounge', 'the terrace', 'the truffel', 'the waiters', 'the y', 'the бык', 'the море', 'the сад', 'the фоrмат caffe diemme', 'theburger brothers', 'time club убежище', 'time lap butovo', 'time to coffe', 'tocador, buffalos', 'tokyo', 'tokyo bay', 'tokyo-japan', 'too much', 'torro gril & wine bar', 'torro grill', 'torro grill & wine bar', 'torro grill торро гриль', 'touch of matcha', 'traffic jam паб', 'travelcafe', 'travelers coffe', 'travelers coffee', 'true burgers', 'true cost', 'true pho', 'trueburgers', 'tuscany courtyard', 'tutta la vita', 'tutti frutti', 'tutti frutti frozen yogurt', 'two smocking barrels pub', 'union jack', 'unlock cafe', 'uno bar', 'upside down', 'upside down cake', 'upside down cake (udcкафе)', 'upside down cake кафе', 'upsidedowncake', 'urban cafe', 'valiko пекарня', 'van wok', 'van wok ванвок', 'vani', 'vanwok', 'vanwok ванвок', 'vcafe', 'veladora. tacos y tragos', 'veneto pizza', 'vesuvio pizzeria by giuseppe peluso', 'vice burgers', 'vietcafe вьеткафе', 'vietexpress', 'viki cake cafe', 'villa', 'villa della pasta', 'vinari bar & kitchen', 'vinopolis', 'vip pyanik', 'vip wok buffet', 'vitamin & smoothei bar macadamia', 'vnukovo village', 'vogoo', 'volt coffee', 'voque-cafe', 'vsemlavaш', 'vино and еда', 'vместо sushi', 'w.h. lounge', 'waffle fish', 'wake cup', 'wakecup', 'wayme', 'we cidreria', 'wells', 'white cafe', 'white eagles pub', 'white hall', 'white owl кофейня', 'white rabbite (белый кролик)', 'white star lounge', 'who is who', 'wild bean cafe', 'wine and dine', 'wine point', 'winil wine bar', 'wino bar', 'wok & box', 'wok & рис', 'wok box', 'wok бургер', 'wok и рис', 'wok&box', 'wokker', 'wonjo kitchen', 'wood greel', 'wood wood burgers', 'woodwood pizza &burgers', 'world class кафе', 'wow', 'wow moscow lounge', 'wowfest', 'xin chao вьетнамская еда', 'xx by urban taste', 'yammy', 'yes pizza', 'yo', 'yogurt frenzy', 'yoko', 'yokoso', 'yoyosushi', 'yummy duck', 'za gorami', 'zafferano, эдоко, forte bello', 'zaiceff', 'zames', 'zavodoff', 'zest', 'zharovnya', 'zinger grill', 'zizo', 'zodiac', 'zotman pizza pie', 'zotto', '«2 2» паб', '«амега» раздаточный буфет 2-го автобусного парка', '«би-ба-бо» боулинг центр', '«гама-сервис»', '«гбоу «школа с углубленным изучением английского языка» №1208»', '«иzюм» дагестанская кухня', '«ип» мураховский и.ф', '«ип» рушева т.с', '«ип» шацкая е.м', '«кафе «кулинарная лавка братьев караваевых»', '«кафе «кулинарная лавка братьев караваевых»»', '«московский комбинат шампанских вин»', '«снек бар в кинотеатре «космик»»', 'а ля фуршет', 'а-петит', 'а-трейд', 'абаль', 'абица', 'абрамовъ', 'абу гош', 'ав-дейли', 'ав-дейли азбука вкуса', 'август', 'авеню', 'авест - а', 'авиалюкс', 'авиньон', 'авлабар', 'авокадо', 'авокадо поинт', 'аврора', 'аврора (закрытое)', 'австрийская пекарня и паб', 'авто-рекорс', 'автокомбинат', 'автокомбинат 3', 'автокомбинат-1', 'автомехбаза зелен.хоз-а', 'автосуши', 'адажио', 'аджарули', 'адмирал', 'адриана', 'азбука вкуса', 'азербайджан', 'азиатико', 'азия', 'азия&гриль', 'ай лайк вайн', 'айва', 'айда чайхана', 'айдабаран', 'айхал', 'академическая', 'академия', 'академия натальи нестеровой «кафе университетское»', 'акасака', 'акбаш', 'акватер+', 'акеро', 'акира', 'аксессуары', 'алаверды', 'аладин', 'алгет', 'алекс', 'александра', 'александровский', 'александровский зал ( закрытое)', 'аленка', 'алеся', 'алиби', 'алиса', 'алко-24-бар', 'аллегро', 'алло пицца', 'алло пицца 2', 'алло-пицца', 'алмаз', 'алмус', 'алроса-торг', 'алтаргана', 'алые паруса', 'аль посто', 'альбион', 'альпийский дворик', 'альфа', 'альфорно', 'альянс', 'альянс престиж', 'алёнка', 'ам ваr cafe', 'амадеус', 'амбарчик', 'американ сити пицца цех по изготовлению пиццы', 'американская лаборатория десертов', 'америкэн сити пицца', 'аморе', 'аморино', 'амстердам', 'амстердам бар', 'амстердам чипс компани', 'ангария - волшебная страна', 'английский паб «смитс»', 'английский паб альбион', 'английский паб букингем', 'андерсен', 'андерсон', 'анджело', 'андиамо', 'андрбар', 'ани', 'анис', 'анисс', 'анненфельд', 'ансар', 'анти-кафе кальянная «moskalyan»', 'антик', 'антикафе happy people', 'антикафе «shelter»', 'антикафе «нулевой километр»', 'антикафе «совиный дом»', 'антикафе белый лист', 'антикафе кальянная', 'антикафе лень', 'антикварный boutique & bar', 'антикинотеатр «newtone»', 'антонина', 'антракт', 'антураж-центр', 'аншлаг трактир «сам пришел»', 'ао «мосэнерго» (филиал тэц-25)', 'апрель', 'арабская шаверма', 'арабская шаурма', 'арабский донер', 'арамье', 'арарат', 'арарат кафе', 'арбатский базар', 'аргентинская кухня «el guacho»', 'арго', 'аргументы и факты', 'арена', 'ариадна', 'ариана', 'ариэль', 'арма craft', 'армения', 'армянский лаваш', 'армянский переулок', 'ароматная река', 'арт - кафе фа - минор', 'арт бар палиха', 'арт буланже', 'арт кафе', 'арт кафе «new place moscow»', 'арт кафе «гончаровъ»', 'арт клуб на плющихе', 'арт пабы', 'арт-галерея', 'арт-кальянная shishasity', 'арт-кафе', 'арт-кафе «красный крокодил»', 'арт-кафе при театре', 'арт-кафе рукав', 'арт-столовая', 'артекс', 'артес либералис', 'артико', 'артиссимо', 'артс палас', 'артэкс+', 'аруба', 'арутюнян а.в.', 'арчи', 'асаки', 'асса', 'ассамблея (закрытое)', 'ассорти', 'аст - гоф', 'астория', 'атаман', 'атлас', 'атриум', 'афродита при транспортной фирме очаково', 'ацатун', 'ача-чача', 'ашкым', 'аэлита', 'аэроплаза', 'аэростар-клуб', 'аэрофуд-внуково', 'аяна', 'б-12', 'баpбекю', 'баан тай', 'баба марта', 'бабай клаб', 'бабель', 'бабошина зоя михайловна', 'бабу', 'бавариус', 'бавария', 'бавария №1. крафт бар', 'бага бар', 'багратионофф', 'базар-вокзал', 'базилик', 'бай донер', 'бак бо', 'бакинские вечера', 'бакинский бульвар', 'бакинский дворик', 'бакинский очаг', 'бакинский прибой', 'бакинский рай', 'баклажан', 'баклафе', 'балалаечная', 'бали', 'балкан', 'балканский ресторан джумбус', 'баловень т', 'бамбук и кактус', 'банан кофе', 'банана тук-тук', 'банзай', 'банкет-сервис', 'банкетная площадка кафе', 'банкетный', 'банкетный зал', 'банкетный зал «вечерний-космос»', 'банкетный зал «галактика»', 'банкетный зал «кристалл ballroom»', 'банкетный зал орион холл', 'банкетный зал шелк', 'бар', 'бар (закрытое)', 'бар (розливное пиво)', 'бар - кальянная «манго lounge»', 'бар - ресторан новиков', 'бар 19-80', 'бар 1930', 'бар 33', 'бар 365', 'бар great room', 'бар imax', 'бар lasthop', 'бар noor', 'бар right hops', 'бар the kisa bar', 'бар vip этажа', 'бар « bad bro bar»', 'бар «bar beer shop»', 'бар «big jims pub»', 'бар «borough, раклет-бар»', 'бар «dubai»', 'бар «duck stars»', 'бар «human»', 'бар «iggi pub»', 'бар «ku рамен-бар»', 'бар «mad men bar»', 'бар «mr. чо»', 'бар «pivbar»', 'бар «robert burns»', 'бар «stoy bar»', 'бар «wisky room»', 'бар «бадди бар»', 'бар «бинза»', 'бар «бирхен»', 'бар «боливар»', 'бар «брюс»', 'бар «варка»', 'бар «ваша пинта»', 'бар «винный бар»', 'бар «вирсар»', 'бар «витражи»', 'бар «ворд класс»', 'бар «все свои»', 'бар «гидра»', 'бар «грин хэт»', 'бар «джанго»', 'бар «джонни грин паб»', 'бар «игги паб»', 'бар «киану»', 'бар «консешн бар»', 'бар «кофе»', 'бар «крафтбар»', 'бар «крафтовый бар»', 'бар «крафтъ 22»', 'бар «крафтыч»', 'бар «кружка паб»', 'бар «кружка»', 'бар «культура»', 'бар «лиса и гусь»', 'бар «лобби»', 'бар «люкс»', 'бар «мир бильярда»', 'бар «мориарти бар»', 'бар «на 1-м этаже фгуп ттц «останкино»»', 'бар «на рогах»', 'бар «налей,медведь»', 'бар «опята»', 'бар «паб»', 'бар «пальмира бизнес клуб»', 'бар «пивная»', 'бар «пивной погребок»', 'бар «пиво варкрафт»', 'бар «понти»', 'бар «попкорн»', 'бар «праймбифбар»', 'бар «разливное пиво»', 'бар «стабильная линия»', 'бар «суши wok»', 'бар «суши»', 'бар «терраса»', 'бар «турбоэра»', 'бар «туше»', 'бар «фитнес-бар»', 'бар «фора» (букмекерская контора)', 'бар «хлеб и вино»', 'бар «хмельная долина»', 'бар «центральный»', 'бар азбука вкуса', 'бар алекс', 'бар большого зала', 'бар боулинг-космик', 'бар бочка', 'бар в бильярдном клубе', 'бар в гостинице', 'бар в гостинице «тифлисъ»', 'бар в физк.-оздор.комплексе', 'бар в фитнес клубе', 'бар варвар', 'бар виват', 'бар голова', 'бар гостиницы «татьяна»', 'бар джентльмен клуб леди', 'бар и бильярд «стопка»', 'бар италия', 'бар камерного зала', 'бар караоке', 'бар караоки «22»', 'бар кинотеатра', 'бар кинотеатра «каро-фильм»', 'бар крафт тайм', 'бар крафтовое пиво', 'бар липа', 'бар лобби гостиницы балчуг', 'бар московский', 'бар мята lounge', 'бар на 12 этаже', 'бар нептун', 'бар парадайз', 'бар пилот', 'бар при «дворце бракосочетания»', 'бар при интернет-кафе', 'бар при кинотеатре кф-алмаз', 'бар при московском гольф клубе', 'бар при оздоровительном центре', 'бар при сауне', 'бар при тц борисхоф', 'бар свои', 'бар сити спейс', 'бар спб', 'бар спортклуба', 'бар суши takai', 'бар суши «my box»', 'бар театрального зала', 'бар №1 магазин разливного пива', 'бар, боулинг, клуб', 'бар- буфет «николай»', 'бар-бильярд', 'бар-буфет николай', 'бар-кальян курилы', 'бар-караоке «камергерка»', 'бар-ресторан «1929»', 'бар-ресторан «brothers»', 'бар-ресторан луч', 'бар-фитнес', 'бар-шоп бирстон', 'бар«brix bar»', 'бар«пивная библиотека»', 'барави-т', 'баракат', 'баран-баран', 'барашек', 'барашка', 'барбари «coffe toon»', 'барбарис', 'барбекю', 'барбекю ресторан', 'барбошко', 'баркаs', 'баркас', 'барнум', 'барон-баран', 'бартаун', 'бархат', 'бары 12345', 'бары в фитнес клубе «доктор лодер»', 'баскет ланч', 'баскин роббинс', 'батон', 'батони', 'батоно', 'батонохлеб', 'баттерфляй', 'батчери', 'бауман', 'баффало', 'баффалос', 'бахтриони', 'бахча', 'башня', 'баяр', 'бб и бургерс', 'бб крафт', 'бб крафт пиво кофе', 'бб крафт савела', 'бб энд бургерс в&в бургер', 'бдд паб', 'беби джоли', 'беверли хилс, мс donair, спецбуфет №1', 'бега', 'бегемот', 'бегония-л', 'без границ...', 'без забот', 'без понтов', 'бейкери март', 'бейрут', 'бейрут-экспресс', 'белая ночь', 'беллиссима', 'белое озеро', 'белорусская хата', 'белуга', 'белучи', 'белые аллеи', 'белый', 'белый журавль', 'белый кролик', 'бельгийская брассери 0,33', 'бельгийская картошка', 'бельгийский картофель', 'бен ганн', 'бенвенуто', 'бенджамин', 'бенедикт', 'бенто wok', 'бенто суши', 'бергштайн-бар', 'берега', 'березка', 'березки', 'берекет', 'берлин кебаб', 'берри брэд', 'бертан xx11', 'берёзка', 'берёзовая роща', 'беспокойная юность', 'бестужевъ', 'бешбармак', 'би-би-кинг', 'библиотека', 'бивис паб', 'биг байт', 'бигбэнг by френдс', 'бижу', 'бизес-центр карачарово', 'бизнес клуб «финансист»', 'бизнес прогресо', 'бизнес центр таганский', 'бизнес-школа аип', 'бик-кау', 'билла', 'бильярд седьмая луза', 'бильярдная', 'бильярдная сова', 'бильярдное кафе', 'бильярдный бар-клуб полковник и байрон', 'бильярдный клуб', 'бильярдный клуб 15-ый шар', 'бильярдный клуб «дуплет»', 'бильярдный клуб «лига»', 'бильярдный клуб «падишах»', 'бильярдный клуб «пит стоп»', 'бильярдный клуб «француз»', 'бильярный клуб-бар', 'биологика', 'бир лофт', 'бир н ролл', 'бир хаус', 'бир хаус паб', 'бир энд брюд', 'биратория', 'биретта', 'биркрафт', 'бирмаркет', 'бирменбар', 'биродром панчетта', 'биротека', 'бирхаус', 'бистерия', 'бистро', 'бистро 160', 'бистро 24', 'бистро «burger shaw»', 'бистро «бак-бук»', 'бистро «молодо-зелено»', 'бистро вкусняк', 'бистро гриль', 'бистро пекарня', 'бистро пронто', 'бистро халяль', 'бистро-пекарня', 'бистро. шаурма', 'бистро5', 'бистрофф', 'битрайт', 'биффиш', 'бифхаус', 'бишкек', 'блан де блан', 'блексмит', 'блеск', 'блинная', 'блинок', 'блинчик', 'блины', 'блины и пироги', 'блонд-брюн', 'блэк джи лоунж', 'блэк маркет', 'блэк милк', 'блэк стар бургер', 'блэк стоун', 'блэк фламинго', 'блэк харп', 'блэк-кофе мини-кофейня', 'блюм кафе', 'бмле', 'бо', 'бобби даззлер', 'бобры и утки', 'богатырь', 'богатырь №1', 'бодр-добр', 'бодрум', 'бодрый день', 'бодрый день кофе с собой', 'бой-z', 'бок переделкино', 'бокас дель торо', 'бокончино', 'бол бол', 'бол бол фуд', 'большевик лофт-евент холл', 'большой', 'бон аппетит', 'бон густо', 'бон кафе', 'бон лаваш', 'бонжур сити', 'бора-бора', 'борго', 'борисова надежда александровна', 'бородачи', 'боско бар', 'боско кафе', 'босс-кулинария', 'бостон паб', 'бостон пати паб', 'босфор', 'ботанист', 'ботик петра', 'боулинг-клуб «галактика»', 'боцман', 'бочка', 'брава коста кофе', 'брайтон', 'брайтон-корпорейшн', 'брассерия', 'брассерия ламбик', 'братья караваевы', 'братья караваевых', 'братья третьяковы', 'браунимама', 'бригантина', 'бризоль-м', 'брик-м (закрытое)', 'бродвей', 'бродвей пекарня кулинария пиццерия', 'броу бар', 'брудер', 'бруно', 'брусника', 'брусника 2', 'брюгге', 'брюс ли', 'брюссель', 'брянский бык', 'буlки', 'бублик кулинария', 'будайский дворик', 'будвайзер бар', 'будвар', 'будур', 'булка', 'булкер', 'булкер столовая', 'булки от пекаря', 'булкоешка', 'булочная 5', 'булочная «батон»', 'булочная батон', 'булочная фокина', 'булочная № 5', 'булочная №10', 'булочная №4', 'булочная-кондитерская с кафетерием', 'булочная-пекарня', 'булошная', 'бульвар', 'бульон крутон', 'бункер 42 на таганке', 'бурбон', 'бурбон стрит', 'бурген кинг', 'бургер &фрайс', 'бургер mix', 'бургер герой пивной бар', 'бургер кинг', 'бургер кинг burger king', 'бургер клаб', 'бургер пицца', 'бургер рус', 'бургер сити клаб', 'бургер шеф', 'бургерная', 'бургерная «high ground киберспорт лаунж» интернет-кафе, кальян-бар', 'бургерная «хищник. стейк & бургерс»', 'бургерная меат лав', 'бургерная фарш', 'бургерная хищник', 'бургерная электроугли', 'бургеры', 'бургеры и стейки', 'бургеры, выпечка', 'бургомистр', 'бургон', 'буревестник', 'буржуа кафе', 'буржуй', 'буритос', 'буркина фасо', 'буркина фасоль', 'бурлеск', 'бутбая м.м.', 'бутер клаб', 'бутлер', 'бутово гриль', 'бутчер', 'бутчер бизон', 'бутылка, кружка и котел', 'бууза', 'буфет', 'буфет - гбоу 60', 'буфет - гбоу сош № 389', 'буфет - гбоу сош № 64', 'буфет - гбоу сош № 659', 'буфет - гбоу сош № 732', 'буфет - гбоу сош № 806', 'буфет - гбоу сош № 808', 'буфет - гбоу сош № 81', 'буфет - гбоу сош № 887', 'буфет - гбоу сош №6', 'буфет - гбоу № 1584', 'буфет - гбоу №1781', 'буфет - раздаточная на конечной станции', 'буфет -гбоу сош № 1061', 'буфет -раздаточная депо им. н.э. баумана', 'буфет 29 ргау-мсха им. к.а. тимирязева', 'буфет audi', 'буфет hyndai motorstudio', 'буфет «апельсин»', 'буфет «артекс»', 'буфет «булгаковский дом»', 'буфет «вкусный мир»', 'буфет «геликон опера»', 'буфет «гоу гимназия 1579 кдп »', 'буфет «иль джорно»', 'буфет «коникс-школьник»', 'буфет «кулинария при гкнпц им. хруничева м.в»', 'буфет «медицинский колледж»', 'буфет «мцби»', 'буфет «панджшер»', 'буфет «раздаточная при автостанции -филиал 5 автобусного парка гуп мосгортранс»', 'буфет «раздаточная №2 фгу при гкнпц им. м.в.хруничева»', 'буфет «раздаточная №4»', 'буфет «сандуновские бани»', 'буфет «скалка»', 'буфет «согдиана»', 'буфет «сош №334»', 'буфет «фаст»', 'буфет «фуд - лайн»', 'буфет «чайная»', 'буфет «школа 511 кдп»', 'буфет в «бок на дубнинской»', 'буфет в «ледовом дворце»', 'буфет в автомире', 'буфет в гбук г.москвы театра уголок дедушки дурова', 'буфет в медицинской академии им. и.м. сеченова', 'буфет в театре имени евгения вахтангова', 'буфет в театре эрмитаж', 'буфет в техникуме', 'буфет в учебном заведении', 'буфет гаоу «мгпу институ специального образования и комплексной реабилитации»', 'буфет гбоу «гимназия № 1514»', 'буфет гбоу «гуманитарный лицей № 1536»', 'буфет гбоу «мгпу социальный институт»', 'буфет гбоу «образотвательный комплекс юго-запад»', 'буфет гбоу «школа 58»', 'буфет гбоу «школа № 1205»', 'буфет гбоу «школа № 7»', 'буфет гбоу «школа №117»', 'буфет гбоу «школа №118»', 'буфет гостиница шахтер', 'буфет зао московский школьник', 'буфет зрительский при драм. театре', 'буфет колледжа автоматизации и информационных технологий', 'буфет конечной станции «останкино»', 'буфет лингвистической экономической школы-лицея', 'буфет мади', 'буфет медицинского училища при гкб им. боткина', 'буфет метро', 'буфет мтуси', 'буфет муз.школа им. гнесиных', 'буфет на хитровке', 'буфет общества частных коневладельцев', 'буфет полиграфического колледжа 56', 'буфет политехнического колледжа 8', 'буфет при а-с юго-запад', 'буфет при астраханских банях', 'буфет при вавт', 'буфет при вузе', 'буфет при гбоу города москвы «школа № 1505»', 'буфет при гбу г. москвы нии скорой помощи им. склифосовского департамента здравоохранения г. москвы', 'буфет при гбук г. москвы театр школа драматического искусства', 'буфет при гкб 23', 'буфет при гоу сош № 737', 'буфет при гоу сош №1114', 'буфет при гуп «объединенный комбинат школьно питания»', 'буфет при гуп «объединенный комбинат школьного питания»', 'буфет при кинотеатре', 'буфет при кинотеатре «иллюзион»', 'буфет при конечной станции «ввц-южная»', 'буфет при мгюа', 'буфет при мед.колледже 2', 'буфет при медучилище', 'буфет при международном славянском институте', 'буфет при ммг', 'буфет при московской финансово-юридической академии (учебный корпус)', 'буфет при московском финансово-экономическом институте', 'буфет при музыкальной школе', 'буфет при мфюа', 'буфет при налоговой', 'буфет при оао вниси', 'буфет при общежитии', 'буфет при ржевской бане', 'буфет при сок ргау-мсха им. к.а. тимирязева', 'буфет при станции «абрамцевская»', 'буфет при театре', 'буфет при фгбоу во мглу', 'буфет при цо №1637', 'буфет при цо №1852', 'буфет при шк. 305', 'буфет при школе искусств им. с. мамонтова', 'буфет при школе № 1329', 'буфет при школе № 443', 'буфет при школе №1269', 'буфет при школе №681', 'буфет раздаточная при цсо', 'буфет ргау-мсха им. к.а. тимирязева', 'буфет социального обслуживания «вешняки»', 'буфет театра «et cetera»', 'буфет театра ромэн', 'буфет театра сфера', 'буфет тестов', 'буфет техникума мпэ', 'буфет фгбоу во «ргсу»', 'буфет фуд про', 'буфет цдкж (дом культуры железнодорожников)', 'буфет шк. 199', 'буфет шк. 584', 'буфет шк.102', 'буфет шк.104', 'буфет шк.191', 'буфет шк.197', 'буфет шк.199', 'буфет шк.521', 'буфет школа 1586', 'буфет школы 1283', 'буфет школы 1284', 'буфет школы 1305', 'буфет школы 141', 'буфет школы 1500', 'буфет школы 153', 'буфет школы 158', 'буфет школы 1601', 'буфет школы 167', 'буфет школы 211', 'буфет школы 221', 'буфет школы 610', 'буфет школы 692', 'буфет школы 694', 'буфет школы 721', 'буфет школы № 152', 'буфет школы № 1575', 'буфет школы № 227', 'буфет школы № 684', 'буфет № 1 ргау-мсха им. к.а. тимирязева', 'буфет № 10 ргау-мсха им. к.а.тимирязева', 'буфет № 11 при общежитии №8 ргау-мсха им. к.а. тимирязева', 'буфет № 17 ргау-мсха им. к.а. тимирязева', 'буфет № 2 ргау-мсха им. к.а. тимирязева', 'буфет № 6 ргау-мсха им. к.а. тимирязева', 'буфет № 7 в общежитии ргау-мсха им. к.а. тимирязева', 'буфет №1', 'буфет-бар бутербург', 'буфет-раздаточная', 'буфет-раздаточная 1293', 'буфет-раздаточная «осташково»', 'буфет-раздаточная при гбу тцсо', 'буфет-раздаточная при колледже', 'буфет-раздаточная при оао «московская типография № 2»', 'буфет-раздаточная при шк.9', 'буфет-раздаточная при школе 273', 'буфет-раздаточная при школе 440', 'буфет-раздаточная при школе цо увк 1811«измайлово»', 'буфет-раздаточная № 731', 'буфет-раздаточная № 749', 'буфет-раздаточный', 'буфет-раздаточный при школе 293', 'буфет-раздаточный при школе № 242', 'буфет-раздаточный № 260', 'буфет-роздаточная при лицеи художественного тексти', 'буфет-роздаточная при цсо', 'буфет-холл ргау-мсха им. к.а. тимирязева', 'буфет«лэк»', 'буфетная продукция', 'буфетпри мгу', 'буффало', 'буффет', 'буффетум', 'буханка', 'бухара', 'бухарест', 'бухта', 'буше', 'бык ground', 'быстро вкусно', 'быстро-кафе', 'быстрое питание', 'быстрое питание ип красавин александр владимирович', 'бюргер', 'в кафе', 'в лаваше', 'в москве как дома', 'в окошках', 'в темноте', 'в&в бургер', 'в2в', 'вlack burger чайхона №1', 'ваби-саби', 'важная персона', 'вай мэ', 'вай нот', 'вайн рум', 'вайн энд краб', 'вайт вотерс хоспиталити партнерс', 'валенок', 'валенсия', 'ванвок', 'ваниль', 'ванильное небо', 'ванильный шпатель', 'ванильный шпатель улица', 'ванчо пицца', 'ваня нальет', 'варвара', 'вардзия', 'вареничная', 'вареничная (хинкальная)', 'вареничная 1', 'вареничная № 1', 'вареничная №1', 'варка', 'васаби', 'вафли', 'вах хинкальная', 'вашлаваш', 'вгик', 'вгости. урюк', 'веанжи', 'веганская кухня', 'вегас', 'вегетарианская кухня', 'вегетарианское кафе вкус и цвет', 'вегетерианское кафе суперия', 'вегето', 'ведическое кафе ганга', 'вектор', 'вектор -с', 'великолепный век', 'вельвет', 'вельен', 'венахи', 'венеция', 'венская кофейня coffee shop', 'венская кофейня-кофе шоп', 'венское кафе', 'вентура', 'вера олива', 'веранда', 'веранда 1', 'веранда 1.1', 'веранда 10', 'веранда 10.1', 'веранда 10.2', 'веранда 11', 'веранда 12', 'веранда 12.1', 'веранда 13', 'веранда 13.1', 'веранда 14', 'веранда 14.1', 'веранда 15', 'веранда 15.1', 'веранда 16', 'веранда 16.1', 'веранда 17', 'веранда 17.1', 'веранда 18', 'веранда 2', 'веранда 3', 'веранда 3.1', 'веранда 4', 'веранда 5', 'веранда 6', 'веранда 6.1 крабыкутабы', 'веранда 7', 'веранда 7.1', 'веранда 8', 'веранда 9', 'вереск-л', 'вернада 10', 'верона алекс', 'веселая черепашка', 'веселые вареники (закрытое)', 'весна', 'ветераны фалафеля', 'ветерок', 'ветка', 'вечерние огни', 'вечерняя сменная общеобразовательная школа №57', 'взлет', 'виб бар', 'вивальди', 'виват авто', 'виват пицца', 'виват-пицца', 'византий', 'византия', 'вика-99', 'виктория', 'виктория и альберт', 'вилдшвайн', 'вилка ложка два ствола', 'вилла густа нагасаки', 'вилла дадиани', 'вилла паста', 'вилладжио', 'вильям басс', 'винил и вино', 'винни', 'винный базар', 'винный базар «корка»', 'винный базар соседи', 'винный базар танцы', 'винный бар', 'винный бар 13', 'винный бар alma valley', 'винный буфет', 'винный кофейный бар 45', 'винный магазин-бар «хлеб и вино»', 'вино и гады', 'вино и мясо', 'вино и сулугуни', 'вино и сыр кафе-бар', 'вино и трюфель', 'вино кафе', 'виновники wine+kitchen', 'винодельня', 'винотека кино вино и домино', 'винфуд', 'вирджинс-клуб', 'витал гидропроект', 'витамин-бар', 'витаминный бар, соки', 'вителия', 'вишневый сад', 'вишнёвый сад', 'вкинобар', 'вкус востока', 'вкус вьетнама', 'вкус грузии', 'вкус дня', 'вкус и цвет', 'вкус мяса', 'вкусная жизнь', 'вкусная компания', 'вкусная столовая', 'вкусная страна', 'вкусно', 'вкусно как дома', 'вкусно по-домашнему', 'вкусно подано', 'вкусное время', 'вкусное место', 'вкуснохаус', 'вкусные пончики', 'вкусный выбор', 'вкусный кофе', 'вкусный мир', 'вкусный хауз', 'вкусняшка', 'вкусторг', 'влад и к', 'владивосток', 'владимир', 'вниикабельной пром.', 'во', 'водный', 'воздухотехника', 'возрождение', 'вок вэй', 'вок мания', 'вок стайл', 'вок-стрип', 'вокер', 'воккер', 'вокмания', 'вокруг света', 'волга', 'волерто', 'волконский', 'волконский у дома', 'волна бизнеса', 'волхонский', 'волчья стая', 'ворона кофе & сыр', 'воронеж', 'восток', 'восточка. этническая кухня.', 'восточная кухня', 'восточная кухня азия', 'восточная кухня кафе пекарня', 'восточная ночь', 'восточная сказка', 'восточные вечера', 'восточный базар', 'восточный дворик', 'восточный квартал', 'восточный пекарь', 'восточный теремок', 'вояж', 'враки', 'времена года', 'время есть', 'время кофе', 'время обедать', 'врест', 'все твои друзья', 'всеросийская государственная налоговая академия', 'всероссийский научно-исследовательский институт мясной промышленности им. в.м. горбатова', 'встреча', 'второе кафе', 'вуден бор', 'вурстбар', 'вусал', 'выпечка', 'выпечка - шаурма', 'выпечка ручной работы', 'выпечка тандыр', 'выпечка, доннер', 'выпечка, кофе', 'выпечка, кофейня', 'выпечка, пиво', 'выпечка, шаурма', 'выпечка,шаурма', 'выпечка. шаурма.', 'выпечка.гриль', 'высота 5642', 'выхинский дворик', 'выше крыши', 'вьет вок', 'вьет кафе', 'вьет кинг', 'вьет лотос', 'вьет соул', 'вьет фо', 'вьетnam', 'вьетвок', 'вьеткафе', 'вьетнамская кухня', 'вьетнамская кухня ngon', 'вьетнамская кухня pho viet', 'вьетнамская кухня фо-бо', 'вьетнэм', 'вьетпапа', 'вьетфо кафе', 'вэлла', 'вэрон', 'вятское сервис', 'г мпи им. ипполитова-иванова', 'габриелян', 'гавана', 'гаджет студио', 'гадкий кайот', 'газпром нефть', 'газпромнефть', 'газпромнефть кафе', 'газпромнефтьцентр', 'галактика', 'галата', 'галерея', 'галерея алекс', 'галерея питания', 'галерея художника', 'галерея- алекс', 'галилео', 'гамарджоба, генацвале', 'гамбринус', 'гамма лайт', 'гандзак', 'ганс и марта', 'гараж', 'гараж крафт бир', 'гарден', 'гармония вкуса', 'гасторбар', 'гастро бар +1', 'гастробар', 'гастробар mist', 'гастробар «наше место»', 'гастробар «проба»', 'гастролавка бородинского', 'гастромаркет балчуг', 'гастромаркет столица, открытая кухня', 'гастрономическая бургерная янхук', 'гастропаб «юкон»', 'гастропаб пью ем', 'гацоева анжела камалдиновна', 'гбоу «лицейско-гимнастический комплекс на юго-востоке', 'гбоу «многофункциональный образовательный комплекс «кузьминки»', 'гбоу «многофункциональный образовательный комплекс «кузьминки»)', 'гбоу «технический пожарно-спасательный колледж имени героя рф в.м.максимчука»', 'гбоу «школа с углубленным изучением английского языка» №1208', 'гбоу «школа № 2111 «новая волна»', 'гбоу «школа № 479 им. дважды героя советского союза маршала в.и. чуйкова', 'гбоу г. москвы школа № 854', 'гбоу г. москвы школа №1557', 'гбоу г.москвы лицей № 1557', 'гбоу г.москвы школа № 609', 'гбоу г.москвы школа № 845', 'гбоу г.москвы школа № 854', 'гбоу г.москвы школа №2057 дшо-3', 'гбоу гимназия № 1516', 'гбоу гимназия № 1540', 'гбоу гимназия № 45 им.л.и.мильграма', 'гбоу города москвы «школа № 2057»', 'гбоу коллежд связи 54', 'гбоу коллежд связи №54', 'гбоу лицей 1574', 'гбоу лицей № 1574', 'гбоу лицей №1524', 'гбоу многопрофильный лицей 1501', 'гбоу многопрофильный лицей № 1501', 'гбоу многопрофильный лицей №1501', 'гбоу нач.школа № 1632', 'гбоу пушкинская школа № 1500', 'гбоу скисиг', 'гбоу сош 1173', 'гбоу сош 1366', 'гбоу сош 1582', 'гбоу сош 556', 'гбоу сош 879', 'гбоу сош 880', 'гбоу сош 944', 'гбоу сош № 641 им. сергея есенина', 'гбоу сош № 825', 'гбоу сош №654 имени а.д. фридмана', 'гбоу сош №654 имени а.д. фридмана (школа №458)', 'гбоу спо строительный колледж', 'гбоу спо технический пожарно-спасательный колледж № 57', 'гбоу школа 1207 «кдп»', 'гбоу школа 1636 «кдп»', 'гбоу школа 544 «кдп»', 'гбоу школа 548 «кдп»', 'гбоу школа 896 «кдп»', 'гбоу школа 949 «кдп»', 'гбоу школа 979 «кдп»', 'гбоу школа дмитровский', 'гбоу школа № 1078', 'гбоу школа № 1236', 'гбоу школа № 1352', 'гбоу школа № 1411 (267)', 'гбоу школа № 1411 (761)', 'гбоу школа № 1411 (970)', 'гбоу школа № 1411( 958)', 'гбоу школа № 1411(606)', 'гбоу школа № 1499', 'гбоу школа № 1554 (969)', 'гбоу школа № 1598', 'гбоу школа № 1613', 'гбоу школа № 1636 «кдп»', 'гбоу школа № 2054', 'гбоу школа № 2114', 'гбоу школа № 319', 'гбоу школа № 368 «лосиный остров»', 'гбоу школа № 626', 'гбоу школа № 626 (гбоу сош № 568)', 'гбоу школа № 626 (школа№ 517)', 'гбоу школа № 626 структурное подразделение «ремизово»', 'гбоу школа № 950 (959)', 'гбоу школа № 950 (966)', 'гбоу школа № 962', 'гбоу школа № 962 ( 952)', 'гбоу школа № 962 (265)', 'гбоу школа № 962 (745)', 'гбоу школа №1034 оао «комбинат дошкольного питания»', 'гбоу школа №1155', 'гбоу школа №1236', 'гбоу школа №1270', 'гбоу школа №1302', 'гбоу школа №1411', 'гбоу школа №1468', 'гбоу школа №1519', 'гбоу школа №1554 (1709)', 'гбоу школа №1554 (240)', 'гбоу школа №1554 (начальная школа)', 'гбоу школа №1619', 'гбоу школа №1998 оао «комбинат дошкольного питания»', 'гбоу школа №2057 дс -1', 'гбоу школа №2057 дс-2', 'гбоу школа №2057 шо-1', 'гбоу школа №2057 шо-2', 'гбоу школа №2104', 'гбоу школа №2114', 'гбоу школа №2117', 'гбоу школа №2122', 'гбоу школа №2200', 'гбоу школа №236', 'гбоу школа №356 имени н.з. коляды', 'гбоу школа №480 им. в.в. талалихина', 'гбоу школа №480 им.в.в. талалихина', 'гбоу школа №498', 'гбоу школа №69', 'гбоу школа №705', 'гбоу школа №771', 'гбоу школа №86 имени м.е. катукова', 'гбоу школа №867 «оао комбинат дошкольного питания»', 'гбоу школа №867 оао «комбинат дошкольного питания»', 'гбоу школа №89', 'гбоу школа №950', 'гбоу школа №962 (1486)', 'гбоу школа №962 (1491)', 'гбоу школа №998 оао «комбинат дошкольного питания»', 'гбоу школа№ 1554 (258)', 'гбоу школа№ 950 ( 263)', 'гбоу № 2089 сош №1', 'гбоудо «севастополец»', 'гбпоу «1-й мок» сп № 2 факультет дизайна', 'гбпоу «педагогический колледж «10»)', 'гбпоу г. москвы колледж архитектуры и строительства №7', 'гбпоу гбпоу ок «юго-запад»', 'гбпоу колледж малого бизнеса №4', 'гбпоу колледж сферы услуг №3', 'гбпоу окг столица отделение ратная', 'гбпоу тсу и т № 29', 'гвен-генацвалет', 'гемриеле', 'генацвале', 'генацвале vip', 'генацвали', 'геогриевское подворье', 'геотория', 'герои', 'геронтологический центр переделкино', 'гершензон', 'гиблинг', 'гивисациви', 'гимназия 1542', 'гимназия 1554', 'гимназия № 1527', 'гин-но-таки', 'гино-но-таки', 'глав пив маг', 'глав пирог', 'глав суши', 'главбух', 'главпивмаг', 'главпивторг', 'главпирог', 'гладиатор', 'гластонбери', 'глобус', 'глория', 'глоу сабс', 'гнездо глухаря', 'говядина', 'гогиели', 'гоголь', 'гокос', 'голдпицца', 'голенкова л.в.', 'голову с плеч', 'голубка', 'гольдас', 'гонконг', 'гонконгские вафли', 'гончаровъ', 'гоотовая еда', 'горница', 'город', 'город -сад', 'город ветров', 'город сад', 'город-сад', 'городская больница 12', 'городская клинич.б-ца 7 завиша', 'городская клиническая больница имени м.п. кончаловского', 'городская поликлиника 220', 'городская служба питания', 'городские автокофейни', 'городское кафе «лакомка»', 'городское кафе и бар ps', 'гороячие сосиски', 'горыныч', 'горячая выпечка', 'горячая выпечка 24', 'горячая выпечка из печи, куры-гриль', 'горячая выпечка, шашлычная', 'горячая кукуруза, напитки', 'горячая лепешка', 'горячее питание', 'горячие ночи востока', 'горячий лаваш', 'горячий хлеб', 'гос.школа высшего спорт. мастерства', 'гостеприимный город', 'гостехстрой', 'гостиница «даниловская» бар', 'гостиница «даниловская» кофейня', 'гостиница лефортово', 'гостиница эмос', 'гостиничный комплекс мо рф славянка', 'государственное бюджетное общеобразовательное учреждение города москвы школа № 1528', 'государственное бюджетное общеобразовательное учреждение города москвы школа № 853', 'государственное бюджетное общеобразовательное учреждение города москвы школа №1528', 'государственное бюджетное общеобразовательное учреждение города москвы школа №719', 'государственное бюджетное общеоразовательное учреждение города москвы школа №1528', 'готика', 'готов', 'готовая еда', 'готовые блюда', 'готовые блюда милти', 'гоу впо российский государственный университет инновационных технологий и предпринимательства', 'гоу мгпу объединение сервис', 'гоу педагогический колледж № 7 маросейка', 'гоу сош № 1174', 'гоу сош № 1356', 'гоу сош № 1595', 'гоу сош № 1945', 'гоу спо «строительный колледж № 41»', 'гоу спо колледж малого бизнеса № 40', 'гоу спо колледжа архитектуры и строительства №7, тсп-3', 'гоу спо политехнического колледжа им. и.ф. павлова №8', 'гоу цо технологический колледж', 'гоу цо № 2006', 'гоуспо технологический колледж №28', 'гохран рф при минфине', 'гп «мосгортранс» 1-й троллейбусный парк', 'гп кп мгаи', 'гп кп мгапп', 'гп мгапп', 'гп фуфс рф', 'гп шбс «люблино» шк. 482', 'гп шбс «люблино» шк. 484', 'гп шбс «люблино» шк. 488', 'гп шбс «люблино» шк. 489', 'гп шбс «люблино» шк. 654ст', 'гп шбс «люблино» шк. 687', 'гпшбс «люблино» шк. 475', 'гпшбс «люблино» шк. 478', 'гпшбс «люблино» шк. 841', 'гпшбс «люблино» школа 458', 'грабли', 'гранат', 'гранатовый сад', 'гранатовый сад №1', 'гранатовый сок', 'гранд', 'гранд виктория', 'гранд европейский экспресс', 'гранд круассан', 'гранд урюк', 'гранд фэмили', 'грандъ-александр', 'гранж', 'графский дворик', 'граци', 'граци рагацци зю кафе', 'гренка', 'гретель', 'греческая кухня', 'греческий гирос', 'гречка лаб', 'гриль', 'гриль & гирос', 'гриль бар', 'гриль бар meet meat', 'гриль и гирос', 'гриль и сувлаки', 'гриль хауз', 'гриль хаус', 'гриль хаус lamb cook', 'гриль хаус дисконт бар', 'гриль холл', 'гриль-бар «веранда»', 'гриль-бар «жаровня»', 'гримм', 'грин хаус', 'грин-палас', 'гринклаб', 'гринсайд', 'гришаев в.в', 'грузинка', 'грузинская выпечка', 'грузинская кухня', 'грузинская кухня lazuri', 'грузинская кухня меама', 'грузинская кухня хачапурная', 'грузинская кухня эzо', 'грузинская кухня эzо хинкальная', 'грузинская лавка тбилисобо', 'грузинская пекарня', 'грузинские каникулы', 'грузинские каникулы барбарис', 'грузинский акцент', 'грузинский дворик', 'грузинский домик', 'груша', 'грязные танцы', 'грячие закуски,напитки, поп корн, мороженое,сладости', 'гудбар', 'гудбиф', 'гудвин', 'гудман', 'гудман гудвин', 'гудс', 'гудсон бар', 'гуз', 'гук «государственный театр киноактера»', 'гункан', 'гуп 1-ый автобусный парк «мосгортранс» автобусная', 'гуп «ритуал кро №3» (организация поминальной трапезы)', 'гуп «сэу фсвт россии»', 'гуп оп «петровка»', 'гуп школьник', 'гурия', 'гурман', 'гурмания', 'гурмэ кебаб', 'густаторе', 'густо', 'гусятникоff', 'гуу', 'гюлер групп', 'гюмри', \"д'кафе\", 'да еда. шаурма', 'да кофе', 'да пино', 'да пино (da pino)', 'да, еда', 'да-чикко', 'дабл би', 'дабл би блэк', 'дабл би-кофейня', 'дабл капс', 'даблби', 'даблби кофейня', 'давид айвазовский', 'дагестанская кухня', 'дагестанская лавка', 'дагестанские лави', 'дай краба', 'даймонд', 'дайнинг холл', 'дак-фудс', 'далбли', 'дамаскина к.а', 'дан кафе', 'данкин донатс', 'дарбази', 'дарвин паб', 'дарья-99', 'дас крюгер холл', 'дата-ута московский открытый университет', 'дача на варшавке', 'дача на покровке', 'два кренделя', 'два кувшина', 'две палочки', 'дворец детского спорта', 'дворец султана', 'дворик детства мирабель', 'дворный пивик', 'дгуп укк гуп мосгортранс', 'дгуп филевский атп гк «мосгортранс» ип хлебников а.в.', 'дгуп филевский атп гк мосгортранс', 'де бассус', 'де марко', 'дебют', 'девятка', 'дежавю', 'дежурная рюмочная', 'дейли шеф', 'дейлин', 'деливери пицца', 'деликатесы', 'дело вкуса', 'десять шесть', 'детская больница №13 н.ф. филатова дзм', 'детская поликлиника млсо', 'детский дом 14', 'детский клуб «андерсон»', 'детский сад № 2070', 'детское кафе', 'детское кафе «андерсон»', 'детское кафе «ежеминутка»', 'детское кафе «космик»', 'дефакто', 'джаганнат', 'джаз', 'джаз клуб эссе', 'джаз-клуб союз композиторов', 'джакузня', 'джамбо', 'джангл лэнд', 'джандуя', 'джанус', 'джардино ди пино', 'джастфою', 'джейсибизнес', 'джеки - джеки', 'джелато', 'джелато «пломбир»', 'джем клуб андрея макаревича', 'джеримис', 'джерри вингс', 'джеффрис кофе', 'джим энд джек', 'джимми ли', 'джо блэк кофейня', 'джо кофе', 'джоведи', 'джон булл паб', 'джон джоли', 'джон донатс кофе, шаурма', 'джон донн', 'джон-донн курасава', 'джонджоли', 'джонджоли, песто', 'джуджа', 'джус-бар', 'джуси лаб', 'джусто', 'дз пд москоу', 'дзендао', 'диал лидер', 'диана', 'диди папа', 'диемме', 'дижестив', 'дизайн кофе', 'диктатура эстетика', 'дилли', 'димсам', 'дионис', 'диорама бар', 'дипломат', 'диско-бар «гриль холл»', 'диссидент', 'до до пицца', 'добрые люди', 'добрынинский', 'добрынинский и партнёры', 'догма болт шоп', 'доготовочная столовая - гбоу школа № 1925', 'доготовочная столовая - мтк 61', 'доготовочная столовая - школа 1024', 'доготовочная столовая - школа 1025', 'доготовочная столовая - школа 1048', 'доготовочная столовая - школа 1200', 'доготовочная столовая - школа 1351', 'доготовочная столовая - школа 1591', 'доготовочная столовая - школа 1914', 'доготовочная столовая - школа 1924', 'доготовочная столовая - школа 1926', 'доготовочная столовая - школа 1927', 'доготовочная столовая при школе 1995', 'додо пицца', 'додопицца', 'дозари кальянный клуб', 'док-1', 'доктор ватсон', 'доктор живаго', 'долина', 'долина солнца', 'долина чайхона', 'долма', 'долмама', 'дольче булка', 'дольче фантазия', 'дом 12', 'дом 15 кафе', 'дом 8а', 'дом актера', 'дом белого журавля', 'дом куксу', 'дом татарской кухни', 'дом торжеств государь', 'дом хинкали', 'дом чуду', 'дом шашлыка', 'дом №5', 'домашнее кафе', 'домашнее кафе сеть городских кафе', 'домашний компот', 'домашний очаг', 'домашний ресторан «friends and family»', 'домашний уют', 'домашняя выпечка', 'домашняя еда', 'домашняя кухня', 'домашняя снедь', \"домино'с пицца\", \"домино'с пицца domino,s pizza\", 'доминос пицца', 'доможилов', 'дон джулио', 'дон донер', 'дон хуан', 'донар кебаб', 'донателло пицца', 'донатос пицца', 'донатс', 'донер', 'донер & тандыр', 'донер 24', 'донер бистро', 'донер горячая выпечка', 'донер и пекарня', 'донер и филатель', 'донер кебаб', 'донер кебаб на углях', 'донер кебаб сели поели', 'донер кебаб хаус', 'донер кебаб.лепешки', 'донер кинг', 'донер кофе', 'донер на углях', 'донер пекарня', 'донер сити', 'донер хаус', 'донер шаурма', 'донер шеф', 'донер №1', 'донер&тантуни', 'донер, выпечка', 'донер-кебаб', 'донер-клаб', 'донер-хаус', 'донерет', 'донеретт', 'донеретт пекарня', 'донеретт&пекарня', 'донеретт, пекарня', 'донеретт.пекарня', 'донеретта пекарня', 'донеретто', 'донеретто пекарня', 'донеретто-пекарня', 'донеркебаб', 'донерок', 'донерхаус', 'доннер (шаурма)', 'доннерет', 'доннеретто', 'донор кебаб', 'доноретта', 'дориан грей', 'дорогая я перезвоню', 'дорогая, я перезвоню', 'дорофея и ко', 'дорф', 'доставка еды и обедов «вкусно house»', 'доставка японской кухни banzai sheff', 'достоевский', 'драйвер вкуса', 'дрим бар', 'дринкит', 'другая шаурма', 'другой бар', 'дружба', 'дружба (first)', 'дружба народов', 'друзья', 'дублинец', 'дудук', 'дулганов эрик ержанович', 'дума', 'дурдинъ', 'душа грузии деда', 'душевная кухня (food line)', 'дуэт', 'дши 11', 'дым и вино', 'дымократия', 'дэз минтранса россии', 'дюплекс', 'дюссельдорф', 'дюшес', 'дядюшка кофе', 'дядюшка хо', 'дядя ваня', 'дядя коля', 'евро донер', 'евро кафе', 'еврокафе', 'европа', 'егоза', 'еда', 'еда 24', 'еда бар нам', 'еда еда', 'еда обитания', 'ежевика', 'ели пели', 'ели пельмени', 'ели сацебели', 'ели, пили', 'елихинкали', 'елки-палки', 'емеля', 'емка', 'еп-поем', 'ереван', 'ерен тур', 'ермак', 'есенин', 'есть бургер', 'есть пить', 'есть хинкали, пить вино', 'ешка', 'ешка (студенческая столовая)', 'ешь живи пицца-бар', 'ешь фрукт', 'ешь хинкали, пей вино', 'ешь хлеб', 'жан жак', 'жар птица', 'жара', 'жара hookah&lounge', 'жарим и парим', 'жарим-шпарим', 'жарки', 'жаровня', 'жасмин', 'желатессимо', 'жеральдин', 'жестокий романс', 'живое пиво', 'жига дрыга бар', 'жигулевское', 'жигули', 'жизнь пи', 'жингялов хац гирос бургер', 'житная 10', 'журфак', 'з-д «компрессор»', 'завод', 'завтрак на обед', 'завтраки', 'загородный', 'загорье бдо шк. 877', 'загорье гбоу 1861', 'загорье гоу сош 1426', 'загорье шк. 508', 'загорье шк. 902', 'загорье шк. 934', 'загорье шк. 935', 'загорье шк. 941', 'загорье шк. 947', 'загорье шк.1428', 'загорье шк.877', 'загорье шк.915', 'загорье шк.942', 'загорье шк.№ 948', 'загорье шк.№5', 'зазеркалье', 'закавказье', 'закон бернулли', 'закрытый клуб «гараж»', 'закусочая', 'закусочная', 'закусочная kfc', 'закусочная labobaloca', 'закусочная «kebab grill»', 'закусочная «kfc»', 'закусочная «mealty»', 'закусочная «sushi stor»', 'закусочная «американ сити пицца»', 'закусочная «баскин роббинс & стардогс»', 'закусочная «бургер кинг»', 'закусочная «гриль кебаб»', 'закусочная «донеретто»', 'закусочная «колобок»', 'закусочная «кофе с собой»', 'закусочная «крошка картошка»', 'закусочная «пицца в марьино»', 'закусочная «пицца хат»', 'закусочная «пицца»', 'закусочная «стардогs»', 'закусочная «сушишоп»', 'закусочная «теремок»', 'зал наполеон', 'залечь на дно', 'замечательные люди', 'замзам', 'замок', 'зао смк северная звезда', 'запад-восток', 'зар-пицца', 'зарайский дворик', 'зарафшон', 'зарубежье', 'заря', 'заяц и шляпа', 'звезда', 'здесь поем', 'здоровая кухня', 'здоровое питание', 'здравствуй рыба', 'зеленая поляна', 'зеленая точка', 'зеленый змий', 'зеленый мыс', 'зеленый сад', 'зелень', 'зелёный лис', 'зеравшан', 'зерно и сало', 'зефир', 'зилола', 'зимес', 'зоар кафе', 'зодиак', 'золотая бухара', 'золотая вобла', 'золотая лихорадка', 'золотая лошадь', 'золотая рыбка', 'золотая рыбка улица', 'золото фм', 'золотое руно', 'золотой дворик', 'золотой дракон', 'золотой орех', 'золотой павлин', 'золотой родник', 'золотые ручки', 'зрительский буфет', 'зси', 'зю кафе', 'ибис китчен', 'ибрагимов магомед сулейманович', 'иверия', 'идель', 'идилия', 'идола', 'идола турецкий донер', 'иезбера т.а.', 'изба', 'изи паб', 'изюм', 'изя гриль', 'икура паб', 'илико', 'илларион', 'иль бароло', 'иль джорно', 'иль патио', 'иль патио планета суши', 'иль форнетто', 'иль форно', 'иль-патио', 'илья муромец', 'имаджин', 'имбирь', 'имерети', 'импекс тдк', 'империя кино 2000', 'империя пиццы', 'индеич', 'индийская кухня', 'индийская точка', 'инжир', 'институт международной торговли и права', 'институт пластической хирургии и косметологии', 'институт прикладных технологий (миит)', 'интересный ресторан', 'интермедсервис', 'интернат 28', 'интернат №72 «комбинат дошкольного питания»', 'интернат №73 «курьяновская база»', 'интернет кафе', 'интероптика кейтеринг', 'интерпаб', 'интертрансэкспедиция', 'интерьер', 'интурист коломенское', 'инферно лаунка', 'ип«жуков м.а»', 'ип«осипова е.е»', 'иранская кухня', 'ирландский паб', 'ирландский паб «моллиc»', 'ирландский паб «шон о нилл»', 'ирландский паб белфаст', 'ирланский бар сильверс', 'исмаилов о.т.', 'испанские пончики чуррос', 'испанские сладости улица', 'иссыкуль', 'ист болт рус', 'ит маркет роза', 'ит-сервис', 'италония', 'итальянец', 'итальянская лавка', 'итальянский ресторан «беллини»', 'итальянское кафе', 'итальянцы остерия', 'ичибан боши', 'йогоцентр', 'йоркшир', 'к литру литр', 'к111', 'кrispy кreme', 'кабак у азера', 'кабачок дым коромыслом', 'кабинет', 'кабуки', 'кабул', 'кавали клуб', 'кавказская кухня', 'кавказская пленница', 'кавказский дворик', 'кадаши ( закрытый)', 'кадетская шк-интернат № 10', 'кадетская школа интернат 9моск. пансион гос. вос', 'кадетский корпус следственного комитета рф имени александра невского', 'кадриль', 'казан', 'казан мангал', 'казан чай бар', 'казан-ок', 'казан-чайхона кафе', 'кайф кормить', 'как дома', 'как надо', 'какая-то кофейня', 'кактус', 'каланчевка', 'калач', 'калимера', 'калина бар', 'калинка', 'калинка малинка', 'калитники-кейтеринг', 'калифорния дайнер', 'кальян', 'кальян бар', 'кальян бар «garage lounge»', 'кальян клуб тайга', 'кальян- бар «мята lounge»', 'кальян-бар', 'кальян-бар atw lounge', 'кальян-бар moskalyan', 'кальян-бар parovarnya', 'кальян-бар shisha room', 'кальян-бар smoke banshee', 'кальян-бар «бедуин»', 'кальян-бар «мята lounge»', 'кальян-бар атмосфера лаунж на автозаводской', 'кальян-бар мята lounge', 'кальянная', 'кальянная - компьютерный клуб', 'кальянная 2500', 'кальянная blak smoke', 'кальянная cube lounge', 'кальянная f-lounge', 'кальянная garnet loung', 'кальянная hookah time тульская', 'кальянная jellyfish', 'кальянная loft 24', 'кальянная losi lounge bar', 'кальянная mr. mishka', 'кальянная noel lounge', 'кальянная rodina lounge', 'кальянная sin city lounge', 'кальянная smoke lounge', 'кальянная vysota57 lounge', 'кальянная «abu dhabi»', 'кальянная «euphoria»', 'кальянная «great als lounge»', 'кальянная «hookah place»', 'кальянная «no name»', 'кальянная «riccy»', 'кальянная «бонапрт»', 'кальянная «вдох-выдох»', 'кальянная «высота 57»', 'кальянная «дымный орешек»', 'кальянная «курилы»', 'кальянная «лаундж-бар облако»', 'кальянная «лофт»', 'кальянная «москальян»', 'кальянная «мята launge»', 'кальянная «мята lounge»', 'кальянная «небо лаунж»', 'кальянная «облако 54»', 'кальянная «огни баку лаунж»', 'кальянная «шале»', 'кальянная «шишка»', 'кальянная бар', 'кальянная библиотека', 'кальянная вэйп онлайн', 'кальянная до-зари', 'кальянная дымок', 'кальянная культ', 'кальянная мята lounge', 'кальянная на бутлерова', 'кальянная на островитянова 13', 'кальянная на районе', 'кальянная нефть', 'кальянная нуар', 'кальянная облака', 'кальянная облака lounge', 'кальянная отокомае', 'кальянная проект', 'кальянная трасса09', 'кальянная хука хауз', 'кальянная №1', 'кальяннная', 'кальянный дворик', 'кальянный клуб дымок уголек', 'кальянс', 'каменев василий владимирович', 'камера обскура кофе', 'каморра', 'кампус', 'кампус кафе-бар', 'камчатка', 'кантата', 'кантина', 'кантина (закрытое)', 'кантина кафе офис клуб', 'кантинетта антинори', 'кап-ферра', 'капито кафе', 'капоне', 'каприз', 'караван прожект', 'каравелла', 'карагат', 'карамель', 'карамель ресторантс', 'карамзин', 'караоке song vape bar steak house', 'караоке «бум»', 'караоке «соло & маска»', 'караоке «эхо»', 'караоке клуб five', 'караоке клуб «cava»', 'караоке клуб «опера»', 'караоке клуб аурум', 'караоке маяк', 'караоке мост клуб', 'караоке на лубянке', 'караоке трели', 'караоке хо', 'караоке-бар', 'караоке-бар loft', 'караоке-бар piano', 'караоке-бар serebro', 'караоке-бар «bar les»', 'караоке-бар «брюсофф»', 'караоке-бар ян пен', 'караоке-бар, кальян', 'караоке-клуб', 'караоке-клуб энгельс', 'караоке-прожектор', 'караокетеатр «синематограф»', 'караоки', 'карат', 'кардинал', 'карейские салаты', 'каретный ряд', 'кариночка', 'карл баленг', 'карл баллинг', 'карлсон и ко', 'карнавал', 'каро', 'карри', 'карте бланж', 'картонтара', 'картоха', 'касабланка', 'каспий', 'катька запеканка', 'кафе', 'кафе ( закрытое)', 'кафе (закрытое)', 'кафе (ремонт)', 'кафе - бар «room»', 'кафе - столовая «маячок»', 'кафе -бар', 'кафе -бар «lobby winewood»', 'кафе -бар «кипарис»', 'кафе 01', 'кафе 02', 'кафе 12', 'кафе 1639', 'кафе 2', 'кафе 2.0', 'кафе 24 градуса', 'кафе 35', 'кафе 42 coffee shop', 'кафе 5 +', 'кафе 7 сендвичей', 'кафе 7-ой этаж фгуп ттц «останкино»', 'кафе 9-й этаж фгуп ттц «останкино»', 'кафе angelov', 'кафе beef you', 'кафе black code', 'кафе bp дмитровская', 'кафе brocard', 'кафе cacao', 'кафе camera obscura', 'кафе che guevara', 'кафе chicen and pizza', 'кафе cinnabo', 'кафе coffee inn', 'кафе crazy noodle', 'кафе dessert', 'кафе dim sum & c0', 'кафе dunkin donuts', 'кафе georgian street food', 'кафе holder hood', 'кафе hookah lounge hidar кальян', 'кафе i need doner', 'кафе il giorno', 'кафе kfc', 'кафе kfs', 'кафе la carotte', 'кафе la maree', 'кафе louis vuitton', 'кафе marshe', 'кафе mashup kitchen', 'кафе ng on', 'кафе olo', 'кафе payot', 'кафе pho bo', 'кафе pit stop', 'кафе prime', 'кафе prime прайм стар', 'кафе prime прайм стар прайм-кафе', 'кафе r&n', 'кафе r.f.lounge', 'кафе saj', 'кафе starbucks', 'кафе tim-tim', 'кафе victory', 'кафе zinagoga', 'кафе « бакинский дворик»', 'кафе « ух, ты блины»', 'кафе «13 бар»', 'кафе «15 а»', 'кафе «1808»', 'кафе «288»', 'кафе «317»', 'кафе «93 с»', 'кафе «abc coffee roasters»', 'кафе «agadir»', 'кафе «americano»', 'кафе «anadolu»', 'кафе «arcus bar and food»', 'кафе «avocado queen»', 'кафе «bender»', 'кафе «bistrot canaille»', 'кафе «blaks»', 'кафе «bocconcino»', 'кафе «boston prime»', 'кафе «bowler fresh bar»', 'кафе «bread and meat»', 'кафе «breakfast club»', 'кафе «brooklyn burgers»', 'кафе «buffalos»', 'кафе «burgers and crabs»', 'кафе «buro canteen»', 'кафе «cezve coffee»', 'кафе «cinnabon»', 'кафе «classroom kafe»', 'кафе «coffee bean»', 'кафе «coffee moose»', 'кафе «coffeesphere»', 'кафе «coffeport»', 'кафе «conversation»', 'кафе «cookery кулинария»', 'кафе «correas»', 'кафе «costa coffee»', 'кафе «cream dream»', 'кафе «culinaryon»', 'кафе «cultura coffe»', 'кафе «dan cafe»', 'кафе «david b»', 'кафе «delonix»', 'кафе «diem»', 'кафе «dobrosco»', 'кафе «doner city»', 'кафе «dream coffee»', 'кафе «dreamwok»', 'кафе «du-du»', 'кафе «duck it»', \"кафе «dомино'с пицца»\", 'кафе «emivi»', 'кафе «encore fitness»', 'кафе «favorite cake»', 'кафе «french bistro»', 'кафе «fresh cafe»', 'кафе «fresh»', 'кафе «georgian house»', 'кафе «grape»', 'кафе «grill kitchen»', 'кафе «gvido gelato»', 'кафе «healthy beat»', 'кафе «healthy food»', 'кафе «hudson deli»', 'кафе «i love kake»', 'кафе «ii giorno»', 'кафе «ii gorno»', 'кафе «il mio posto»', 'кафе «iq»', 'кафе «kfc»', 'кафе «koffe break»', 'кафе «kuvshin»', 'кафе «la carotte»', 'кафе «la melange» (fарш)', 'кафе «la pausa»', 'кафе «ladure»', 'кафе «lale sultan»', 'кафе «leffe»', 'кафе «lemon lounge»', 'кафе «less sugar bar»', 'кафе «little white»', 'кафе «littles kids play cafe»', 'кафе «luncheria»', 'кафе «m-city»', 'кафе «mangal house»', 'кафе «margarita»', 'кафе «masters & margaritas»', 'кафе «mavi»', 'кафе «mes»', 'кафе «mid»', 'кафе «morocco»', 'кафе «mr. ambar»', 'кафе «mэри»', 'кафе «nude. coffee & wine bar»', 'кафе «one bucks coffee»', 'кафе «one teaspoon»', 'кафе «ph&b»', 'кафе «pho»', 'кафе «pinsa maestrello»', 'кафе «pizza express 24»', 'кафе «plaza garden»', 'кафе «ploft»', 'кафе «plovbox»', 'кафе «presnina»', 'кафе «prime cafe»', 'кафе «prime mart»', 'кафе «prime star»', 'кафе «prime»', 'кафе «prime» (прайм стар)', 'кафе «prime» прайм стар', \"кафе «ruma's»\", 'кафе «russkii»', 'кафе «rusty pub»', 'кафе «sagah»', 'кафе «sandwich club»', 'кафе «saperavi»', 'кафе «sark sofrasi»', 'кафе «scramble»', 'кафе «silver panda»', 'кафе «simplewine»', 'кафе «sio»', 'кафе «sketch food»', 'кафе «skuratov»', 'кафе «skyfood»', 'кафе «sml deli coffee shop»', 'кафе «smoothiencoffee»', 'кафе «soul in bowl»', 'кафе «star hit cafe»', 'кафе «starbucks»', 'кафе «steak and beer', 'кафе «subway»', 'кафе «surf coffee»', 'кафе «sweety»', 'кафе «tacador»', 'кафе «the house»', 'кафе «the бассейн»', 'кафе «tigerbunny»', 'кафе «tilda food & bar»', 'кафе «tornano»', \"кафе «traveler's coffee»\", 'кафе «travelers coffee»', 'кафе «urbankitchen гастропаб»', 'кафе «urban»', 'кафе «vlofte»', 'кафе «white cafe»', 'кафе «woknroll»', 'кафе «woodwoodburgers»', 'кафе «yes pizza»', 'кафе «yummy mix salad bar»', 'кафе «yummy»', 'кафе «zoo canteen»', 'кафе «zoo парк-кафе»', 'кафе «а-трейд»', 'кафе «авто суши»', 'кафе «азбука вкуса»', 'кафе «азербайджан»', 'кафе «азра»', 'кафе «академия»', 'кафе «акита»', 'кафе «алазани»', 'кафе «амиго»', 'кафе «амстердам»', 'кафе «ангел»', 'кафе «английский дворик»', 'кафе «андерсон»', 'кафе «аннушка»', 'кафе «арабика»', 'кафе «ассамбляж', 'кафе «ассорти»', 'кафе «бабушкина вкуснятина»', 'кафе «баваро»', 'кафе «баграм»', 'кафе «багратион»', 'кафе «базилик»', 'кафе «бар славянский»', 'кафе «барбарис»', 'кафе «баскин роббинс»', 'кафе «башлам»', 'кафе «баязет»', 'кафе «без повода»', 'кафе «безе»', 'кафе «белая - лошадь»', 'кафе «белочка»', 'кафе «березка»', 'кафе «берлога»', 'кафе «берёзка»', 'кафе «бин»', 'кафе «бирхаус»', 'кафе «бирюса»', 'кафе «бистро»', 'кафе «блэк капс»', 'кафе «блэк-кэт»', 'кафе «бонархитект»', 'кафе «бонум»', 'кафе «ботаника»', 'кафе «брауни»', 'кафе «брусника»', 'кафе «буба на никитской»', 'кафе «булкоешка»', 'кафе «бульон»', 'кафе «бургер кинг»', 'кафе «бургер клаб»', 'кафе «бургерим»', 'кафе «бургерная farш»', 'кафе «буркина фасоль»', 'кафе «буфет»', 'кафе «бухта»', 'кафе «ваби-саби»', 'кафе «ванадис»', 'кафе «ванильное небо»', 'кафе «вареничная №1»', 'кафе «вейк ап»', 'кафе «вектор а»', 'кафе «венахи»', 'кафе «венская сказка»', 'кафе «венское»', 'кафе «веранда»', 'кафе «верона»', 'кафе «веста»', 'кафе «вечернее бистро»', 'кафе «вечный зов»', 'кафе «взлет»', 'кафе «виктория»', 'кафе «винный базар»', 'кафе «винотека-простые вещи»', 'кафе «вишневая метель»', 'кафе «вокомания»', 'кафе «волконский»', 'кафе «восточная кухня»', 'кафе «восточная сказка»', 'кафе «восточные вечера»', 'кафе «восточный базар»', 'кафе «время есть»', 'кафе «вьет кафе»', 'кафе «вьетнамская кухня»', 'кафе «гавань»', 'кафе «газпромнефть»', 'кафе «галерея»', 'кафе «галес»', 'кафе «галладенс»', 'кафе «гамарджоба»', 'кафе «ганеш»', 'кафе «гипер»', 'кафе «гирос»', 'кафе «глафира»', 'кафе «гнездо»', 'кафе «гольф»', 'кафе «городское кафе 317»', 'кафе «граф монте-кристо»', 'кафе «гренки»', 'кафе «грин-сити»', 'кафе «груша»', 'кафе «гурман»', 'кафе «гусар»', 'кафе «гутай»', 'кафе «даблби»', 'кафе «давидов кафе-бар»', 'кафе «дагестанская лавка»', 'кафе «дайнинг холл»', 'кафе «данкин донатс»', 'кафе «дарума суши»', 'кафе «дафеншо»', 'кафе «дворик»', 'кафе «делимарше»', 'кафе «делишес»', 'кафе «день и ночь»', 'кафе «деревяшка»', 'кафе «джиджигриль»', 'кафе «джойя»', 'кафе «джон булл паб»', 'кафе «джон донн»', 'кафе «диалог»', 'кафе «дизайн кафе»', 'кафе «дилижанс»', 'кафе «дом друзей»', 'кафе «дом ученых»', \"кафе «домино'с пицца»\", 'кафе «домисоль»', 'кафе «донер кебаб»', 'кафе «дубки»', 'кафе «дуэты»', 'кафе «дядюшкин двор»', 'кафе «елисей»', 'кафе «есть бургер»', 'кафе «есть хинкали, пить вино»', 'кафе «жаминэ»', 'кафе «жемчужина»', 'кафе «загорье»', 'кафе «закарпатские узоры»', 'кафе «зелёная точка»', 'кафе «зефир»', 'кафе «золотая лестница»', 'кафе «золотой колос»', 'кафе «золотой якорь»', 'кафе «икта»', 'кафе «иль джорно»', 'кафе «иль патио»', 'кафе «ильинка»', 'кафе «империя бургеров»', 'кафе «иностранцы»', 'кафе «ирина»', 'кафе «какао»', 'кафе «калинка-д»', 'кафе «кальянная weston lounge club»', 'кафе «кальянная москальян»', 'кафе «кальянная»', 'кафе «кальянный дворик»', 'кафе «кампанелло»', 'кафе «кантина»', 'кафе «капитан морган»', 'кафе «караван»', 'кафе «карамель»', 'кафе «каретный двор»', 'кафе «карина»', 'кафе «каро фильм»', 'кафе «каро-фильм»', 'кафе «каррифан»', 'кафе «кафе гараж»', 'кафе «кафе дра»', 'кафе «кафе»', 'кафе «кафейня»', 'кафе «кафетерий»', 'кафе «кафетериус»', 'кафе «кафишка»', 'кафе «каюта»', 'кафе «квартира 44»', 'кафе «кебаб-экспресс»', 'кафе «керемет»', 'кафе «китайский сад»', 'кафе «клевер»', 'кафе «клубавторадио»', 'кафе «клякса»', 'кафе «ковчег»', 'кафе «колхида»', 'кафе «компании вевс»', 'кафе «компот»', 'кафе «кондитерская олега ильина»', 'кафе «кондитерская»', 'кафе «корсар»', 'кафе «космос»', 'кафе «кофе & молоко»', 'кафе «кофе бин»', 'кафе «кофе бюро»', 'кафе «кофе поинт»', 'кафе «кофе порт»', 'кафе «кофе пью и читаю»', 'кафе «кофе хаус»', 'кафе «кофе»', 'кафе «кофейня старбакс»', 'кафе «кофепорт»', 'кафе «кофетерапия»', 'кафе «кофишенская»', 'кафе «крафтед»', 'кафе «крем»', 'кафе «крепость»', 'кафе «крошка картошка»', 'кафе «крошка-картошка»', 'кафе «кружка»', 'кафе «крэйзи парк»', 'кафе «кукареку»', 'кафе «кулаковская о. н.»', 'кафе «кулинар»', 'кафе «кулинария здоровья»', 'кафе «кулинария»', 'кафе «кулинарная лавка братьев караваевых»', 'кафе «кулинарное бюро»', 'кафе «кулинарное чтиво»', 'кафе «курассан»', 'кафе «курительная комната babylon vape shop»', 'кафе «ла рокка»', 'кафе «лаборатория»', 'кафе «лаваца»', 'кафе «лавка и кафе студии лебедева»', 'кафе «лавка-добавка»', 'кафе «лавкалавка»', 'кафе «лайк»', 'кафе «ламаджо»', 'кафе «лапша»', 'кафе «лаффа лаффа»', \"кафе «левон'c»\", 'кафе «лига»', 'кафе «линдфорс»', 'кафе «лисья нора»', 'кафе «лихие 90»', 'кафе «лоранж»', 'кафе «лукоморье»', 'кафе «ля ферм»', 'кафе «мадиани»', 'кафе «макдоналдс»', 'кафе «максимус»', 'кафе «малахит»', 'кафе «малина»', 'кафе «мама миа»', 'кафе «мама, я в тбилиси»', 'кафе «мангал»', 'кафе «мансарда»', 'кафе «манту бар»', 'кафе «мануфактура»', 'кафе «маргарита бистро»', 'кафе «маргилан»', 'кафе «марков дворик»', 'кафе «мармелад»', 'кафе «мармилатте»', 'кафе «мартини»', 'кафе «марукамэ»', 'кафе «марше интернэшнл»', 'кафе «масленица»', 'кафе «мастер -фуд»', 'кафе «мастер ланч»', 'кафе «матрешка»', 'кафе «маяк»', 'кафе «мегаполис»', 'кафе «медси фитнес»', 'кафе «между булками»', 'кафе «между делом»', 'кафе «мезонин»', 'кафе «меленка»', 'кафе «менза»', 'кафе «меркато»', 'кафе «метелица»', 'кафе «метиз»', 'кафе «минутка»', 'кафе «мир кебаб»', 'кафе «мираж»', 'кафе «митос»', 'кафе «митпоинт»', 'кафе «михайло»', 'кафе «мишель»', 'кафе «ммома»', 'кафе «может, кофе»', 'кафе «мороженое»', 'кафе «моё кафе»', 'кафе «мпл»', 'кафе «му му»', 'кафе «му-му»', 'кафе «музей космонавтики»', 'кафе «музыкальный клуб форте»', 'кафе «мэри джейн»', 'кафе «мэри»', 'кафе «мэрис»', 'кафе «мясо на углях»', 'кафе «мясо сыр вино»', 'кафе «мята lounge» кальянный клуб', 'кафе «на петрашке»', 'кафе «нар»', 'кафе «наршараб»', 'кафе «наш бараш»', 'кафе «наш двор»', 'кафе «небеса»', 'кафе «незабудка»', 'кафе «неолит»', 'кафе «нестрон»', 'кафе «нияма»', 'кафе «новая азия»', 'кафе «ной. горячие лепёшки»', 'кафе «оазис»', 'кафе «обедбуфет»', 'кафе «огонек»', 'кафе «одилия»', 'кафе «околица»', 'кафе «олень»', 'кафе «олимпия»', 'кафе «оптима»', 'кафе «опята»', 'кафе «орбита»', 'кафе «орлиное гнездо»', 'кафе «орхан»', 'кафе «орхидея»', 'кафе «осетинские пироги»', 'кафе «пальчики оближешь»', 'кафе «пандок»', 'кафе «папа джонс»', 'кафе «папаха»', 'кафе «парамания»', 'кафе «парк»', 'кафе «пармезан»', 'кафе «пассаж»', 'кафе «паста дели и трэвэлерс кофе»', 'кафе «пекарня «мюнгер»»', 'кафе «пекарня»', 'кафе «пекинская утка»', 'кафе «пепебьянко»', 'кафе «перовский дворик»', 'кафе «персона грата»', 'кафе «петрол комплекс эквипмент кампани»', 'кафе «петтина»', 'кафе «пинч»', 'кафе «пион»', 'кафе «пири-пири»', 'кафе «пицца бар»', 'кафе «пицца ди рома»', 'кафе «пицца пепе»', 'кафе «пицца фабрика»', 'кафе «пицца хат»', 'кафе «планета»', 'кафе «плов+»', 'кафе «поинт»', 'кафе «покровское»', 'кафе «поль бейкери»', 'кафе «пончики»', 'кафе «правда кофе»', 'кафе «прайд 66»', 'кафе «прайм стар»', 'кафе «прендл»', 'кафе «прибой»', 'кафе «приходите еще»', 'кафе «причал»', 'кафе «пробка и штопор и даблби»', 'кафе «прогресс»', 'кафе «пролив»', 'кафе «профитроли»', 'кафе «радуга»', 'кафе «райский уголок»', 'кафе «раковая на таганке»', 'кафе «реберная»', 'кафе «резиденция»', 'кафе «ренессанс»', 'кафе «рецептор»', 'кафе «рива»', 'кафе «риоба»', 'кафе «русвилс»', 'кафе «русские традиции»', 'кафе «русский чай»', 'кафе «сofix»', 'кафе «сабвей» старбакс', 'кафе «сабвэй»', 'кафе «саквояж»', 'кафе «салсабил»', 'кафе «салхино»', 'кафе «самарканд»', 'кафе «сахара»', 'кафе «сахли»', 'кафе «свежая выпечка»', 'кафе «свежие соки»', 'кафе «свой круг»', 'кафе «северсити»', 'кафе «северяне»', 'кафе «семь сэндвичей»', 'кафе «серебрянка»', 'кафе «силвер панда»', 'кафе «сильвер панда»', 'кафе «сим-сим»', 'кафе «сим-сити home»', 'кафе «ск чертаново»', 'кафе «сказка»', 'кафе «скалка»', 'кафе «сквознячок»', 'кафе «скрип колеса»', 'кафе «советская чебуречная»', 'кафе «сололаки»', 'кафе «соната»', 'кафе «сочи»', 'кафе «стар хит»', 'кафе «старбакс»', 'кафе «старый кувшин»', 'кафе «столешников»', 'кафе «столичный чебурек»', 'кафе «страдивари» бар', 'кафе «студент»', 'кафе «суло»', 'кафе «сумах»', 'кафе «супвок»', 'кафе «суши store»', 'кафе «суши wok»', 'кафе «суши бар»', 'кафе «суши вок»', 'кафе «суши сет»', 'кафе «суши-маркет»', 'кафе «сушиwok»', 'кафе «суши»', 'кафе «сушивесла»', 'кафе «съешь-ка»', 'кафе «сэр хинкаль»', 'кафе «сюрприз»', 'кафе «таба та»', 'кафе «тай чай»', 'кафе «такси 18»', 'кафе «тандем кафе»', 'кафе «тануки»', 'кафе «тапчан»', 'кафе «тархил»', 'кафе «тбилисоба»', 'кафе «театр на юго-западе»', 'кафе «телескоп»', 'кафе «теремок»', 'кафе «тетя мотя»', 'кафе «техас»', 'кафе «типо фитнес»', 'кафе «то да сё»', 'кафе «топаз-джони»', 'кафе «торнадо»', 'кафе «трактир на бехтерева»', 'кафе «трапезная»', 'кафе «траттория венеция»', 'кафе «траттория модерна»', 'кафе «три правила»', 'кафе «у гены»', 'кафе «у гриши»', 'кафе «у лоренцо»', 'кафе «у руслана»', 'кафе «у толика»', 'кафе «удача»', 'кафе «украинская ночь»', 'кафе «универсал рс»', 'кафе «урюк» хивинская чайхона', 'кафе «уют»', 'кафе «фарфале»', 'кафе «фастфуд»', 'кафе «федя дичь»', 'кафе «фейна»', 'кафе «фиалка»', 'кафе «фирма»', 'кафе «фишка»', 'кафе «фо-нэм»', 'кафе «фортепьяно»', 'кафе «фортуна»', 'кафе «фортутти»', 'кафе «франсуа пекарня»', 'кафе «фреш маркет»', 'кафе «фреш»', 'кафе «фрэндс форевер»', 'кафе «фудмаркет»', 'кафе «фудсити»', 'кафе «хадсон дели»', 'кафе «хазри»', 'кафе «хатимаки»', 'кафе «хива»', 'кафе «хинкальная»', 'кафе «хинкальный дворик»', 'кафе «хинкальный дом»', 'кафе «хлеб и масло»', 'кафе «хлеб насущный»', 'кафе «хлебная лавка»', 'кафе «хлебный двор»', 'кафе «холст и масло»', 'кафе «хомяк»', 'кафе «царица»', 'кафе «цветочный лес»', 'кафе «центральный дом литераторов»', 'кафе «цинандали»', 'кафе «циники»', 'кафе «цитадель»', 'кафе «цуккини»', 'кафе «чайхана айва»', 'кафе «чайхана тапчан»', 'кафе «чайхана»', 'кафе «чайхона ош сити»', 'кафе «чайхона»', 'кафе «чак чак»', 'кафе «чашки»', 'кафе «чебурекас»', 'кафе «чебуреки, пончики»', 'кафе «чебуречная»', 'кафе «чемпион»', 'кафе «чердачок»', 'кафе «черный кот»', 'кафе «чешский калач. пян-се»', 'кафе «чикаго»', 'кафе «чинар»', 'кафе «чистая линия»', 'кафе «шаверма»', 'кафе «шадэ»', 'кафе «шамкир»', 'кафе «шарманка»', 'кафе «шаурма №1»', 'кафе «шашлычная»', 'кафе «шашлычный двор»', 'кафе «шашлычный дворик»', 'кафе «шашлычок»', 'кафе «шварцкайзер»', 'кафе «шенк»', 'кафе «шеффилд»', 'кафе «шинок»', 'кафе «шиша»', 'кафе «шмели»', 'кафе «шоколадница»', 'кафе «шпинат»', 'кафе «штолле»', 'кафе «эваланч»', 'кафе «эгриси»', 'кафе «эдоко»', 'кафе «эклерко»', 'кафе «эко суши»', 'кафе «экспомил»', 'кафе «экспостроймаш»', 'кафе «экспресс-кофейня»', 'кафе «экспресс»', 'кафе «эларджи»', 'кафе «элла 24»', 'кафе «эль-шарк»', 'кафе «эльбрус»', 'кафе «эссе»', 'кафе «эстетик»', 'кафе «юдашкин плейз»', 'кафе «я-самарканд»', 'кафе «якитория»', 'кафе авилон', 'кафе авто-спектр', 'кафе автоdom', 'кафе ай бург', 'кафе альбатрос', 'кафе альберабелло', 'кафе алё, гараж', 'кафе ани', 'кафе ао гостиница «турист»', 'кафе арарат (при гостинице «арарат парк хаятт»)', 'кафе арка', 'кафе аршин', 'кафе аэробар при павелецком вокзале', 'кафе аюпов а.а.', 'кафе балкан', 'кафе баловень', 'кафе бар', 'кафе бар бульвар', 'кафе бар-караоке', 'кафе бардак', 'кафе белла италия', 'кафе бен а комер', 'кафе бистро', 'кафе бистро халяль', 'кафе бифхаус', 'кафе блиндаж', 'кафе бобры и утки', 'кафе ботаник', 'кафе брассери брюсель', 'кафе брашна', 'кафе булошная', 'кафе бульвар', 'кафе бургер кинг', 'кафе быстрого питания му-му', 'кафе в гостинице «блюз кафе»', 'кафе в дк им.луначарского', 'кафе в кинотеатре люксор', 'кафе в музее кусково', 'кафе в отеле райкин плаза', 'кафе в сдюшор 71 «тимирязевская»', 'кафе ваби-саби', 'кафе важная персона', 'кафе вкус востока', 'кафе вкусняшка', 'кафе воккер', 'кафе волконский пекарня', 'кафе восточное бистро', 'кафе восточной кухни караван', 'кафе въетнамской кухни «фо стрит»', 'кафе выпечка', 'кафе выпечка разливное пиво', 'кафе высота', 'кафе вьетнамское ли', 'кафе вьетнамской кухни «дядюшка хо»', 'кафе гагава', 'кафе галерея-алекс', 'кафе гбук московское кино', 'кафе генеральной дирекции', 'кафе гермес', 'кафе гио', 'кафе гор', 'кафе гранат', 'кафе грант', 'кафе грузинская кухня', 'кафе гурман', 'кафе гурмэ', 'кафе дабелби', 'кафе даблби', 'кафе дада', 'кафе даиси', 'кафе дачный сезон', 'кафе дворик гурмэ', 'кафе дели', 'кафе джелатерия прима', 'кафе диана', 'кафе дк московский', 'кафе доберман', 'кафе дом кафе', 'кафе дом офицеров', 'кафе дракон и кролик', 'кафе друзья', 'кафе дяди сэма', 'кафе еасс', 'кафе евроспар', 'кафе жемчужина', 'кафе жили-были', 'кафе задолбало', 'кафе здоровая еда', 'кафе здорового питания', 'кафе здоровой еды', 'кафе здоровой еды «healty food»', 'кафе зельгрос', 'кафе зефир', 'кафе золотая арфа', 'кафе золотая грань', 'кафе зона отдыха', 'кафе ивеко групп', 'кафе изюм', 'кафе иль патио «il patio»', 'кафе инторгсервис', 'кафе ип зеленый а.ю.', 'кафе ип иванов', 'кафе ип цатурян', 'кафе казанок', 'кафе кальян', 'кафе кальянная', 'кафе кампуз', 'кафе канапе', 'кафе капкан', 'кафе караван', 'кафе карпов', 'кафе китайская кухня', 'кафе китайской кухни qilixiang', 'кафе ковров-пекарня', 'кафе ковчег', 'кафе компот', 'кафе кондитерская «французская пекарня»', 'кафе контдитерская кузина', 'кафе концертной студии фгуп ттц «останкино»', 'кафе космик', 'кафе коста', 'кафе кофе сэт', 'кафе кофе тун', 'кафе кофе-хаус', 'кафе кофемания', 'кафе кранцлер гостиницы балчуг', 'кафе кузьмич', 'кафе кунцево', 'кафе курочка с нами', 'кафе кусочки', 'кафе ла пиола', 'кафе лавашок', 'кафе лакастакофе', 'кафе лампа алтуфьево', 'кафе лель', 'кафе лефортово', 'кафе линдфос', 'кафе линия', 'кафе лица', 'кафе лукойл', 'кафе луч', 'кафе любимое', 'кафе ля-фа', 'кафе макдоналдс', 'кафе манас', 'кафе мангал', 'кафе маритоццо', 'кафе мария', 'кафе мастер и маргарита', 'кафе матрешка', 'кафе микс', 'кафе мимино', 'кафе минутка', 'кафе мицва', 'кафе мокко, family bakery', 'кафе моремания', 'кафе морепива', 'кафе мороженного «tutti frutti»', 'кафе мороженное', 'кафе мороженое гриль', 'кафе му му', 'кафе му-му', 'кафе мысли кофе', 'кафе мята', 'кафе на азс', 'кафе на азс рн-москва', 'кафе на басманной', 'кафе на вучетича', 'кафе на доватора', 'кафе на зорге', 'кафе на крутицком', 'кафе на мойке', 'кафе на нагатинской', 'кафе на озерной', 'кафе на углях', 'кафе на улофа', 'кафе на шашлыки', 'кафе наше место трактир', 'кафе нэндл', 'кафе обедов', 'кафе обжорный ряд', 'кафе овца', 'кафе огни города', 'кафе оджахури', 'кафе ок', 'кафе оливка', 'кафе олимпик', 'кафе осетинские пироги', 'кафе островок суши', 'кафе очаг', 'кафе ошхона', 'кафе паб дедди', 'кафе панорама', 'кафе панорама - озеро белое', 'кафе панчо пицца', 'кафе пармежано', 'кафе патриот', 'кафе пекарня', 'кафе пекарня «хлеб насущий»', 'кафе пекарня есть поесть', 'кафе пекарня хачапури', 'кафе песто и митлес', 'кафе пицца ди рома', 'кафе пиццерия', 'кафе поляна', 'кафе порт', 'кафе прайм стар', 'кафе при автосалоне', 'кафе при автосервисе', 'кафе при азс', 'кафе при азс «bp»', 'кафе при азс «газпромнефть»', 'кафе при азс «тиса»', 'кафе при азс газпромнефть', 'кафе при азс газпромнефть №134', 'кафе при азс лукойл', 'кафе при азс нефтьмагистраль', 'кафе при азс шелл нефть', 'кафе при бане', 'кафе при бассейне', 'кафе при батутном центре «небо»', 'кафе при вавт', 'кафе при г-це максима', 'кафе при гкнпц им. м.в.хруничева', 'кафе при гкнпц им.хруничева', 'кафе при гостинице', 'кафе при гостинице «вояджер»', 'кафе при гостинице «москомспорта»', 'кафе при гостинице «рослеспром»', 'кафе при гостинице «саяны»', 'кафе при гостинице «университетсткая»', 'кафе при гостинице вос', 'кафе при гостинице ярославская', 'кафе при дц автомир', 'кафе при картцентре «серебряный дождь»', 'кафе при кинотеатре', 'кафе при кс мосфильм', 'кафе при кск «пегас»', 'кафе при ледовом дворце', 'кафе при мойке', 'кафе при оао «гипромез»', 'кафе при оао г-це «звездная»', 'кафе при отеле «хованский»', 'кафе при отеле графский', 'кафе при салоне красоты dessange', 'кафе при фгуп ттц «останкино»', 'кафе пронто', 'кафе пуаро', 'кафе пушкинъ', 'кафе рай', 'кафе ранголи', 'кафе рача', 'кафе ргсу', 'кафе рева', 'кафе релакс эко-ланч', 'кафе ресторан белое золото', 'кафе рецептор', 'кафе ро-са', 'кафе родник', 'кафе руккола', 'кафе русский «водочный» дом', 'кафе рябинка', 'кафе сабвей', 'кафе самарканд', 'кафе самарканд самса горячая лепешка', 'кафе самарканд №1 чайхана', 'кафе самса 1', 'кафе сан мишель', 'кафе свежъ', 'кафе свентана-м', 'кафе свои люди', 'кафе сельскийдом', 'кафе син поинт', 'кафе синдбад', 'кафе сити чебуречная', 'кафе сказка', 'кафе сказки алисы. белка бар', 'кафе скала', 'кафе славянской кухни поварок', 'кафе соболев о.м.', 'кафе сокровище', 'кафе солнцево', 'кафе соловей', 'кафе солоха', 'кафе сообщники', 'кафе союз бар', 'кафе спортэкс', 'кафе спотыкач', 'кафе столовая', 'кафе стоп, снято.', 'кафе строгоноф', 'кафе ступени', 'кафе султан', 'кафе суп', 'кафе суши wok', 'кафе сю си пуси', 'кафе тай китген', 'кафе тайм аут', 'кафе теремок', 'кафе техас-чикен', 'кафе тихий дом', 'кафе ткс', 'кафе торшер', 'кафе трасса', 'кафе траттория', 'кафе траттория терраса', 'кафе треугольник', 'кафе три правила', 'кафе у джона', 'кафе у друзей', 'кафе у лоры', 'кафе у фонтана', 'кафе уорлд чесс рус москва', 'кафе урюк', 'кафе уют', 'кафе фгуп гк «славянка»', 'кафе ферганское', 'кафе фо-бо', 'кафе франклинс', 'кафе фреш салат бар', 'кафе хайп', 'кафе халяль', 'кафе хинкалоff', 'кафе хинкальная', 'кафе хинкальная 11', 'кафе хинкальная грузинская кухня', 'кафе хинкальная саамо', 'кафе хлеб насущный', 'кафе цурцум', 'кафе чайкана хамза', 'кафе чайхона №1', 'кафе чебуречная', 'кафе шарманка', 'кафе шаурма', 'кафе шаурма, донер кебаб', 'кафе шашлык', 'кафе шоколад', 'кафе штолле', 'кафе щапово', 'кафе э.д.р.', 'кафе экипаж', 'кафе эко', 'кафе экспресс', 'кафе южное', 'кафе южный порт', 'кафе южный порт -м', 'кафе юма', 'кафе якитория', 'кафе японское', 'кафе ёжики тефтельки', 'кафе № 1', 'кафе, кальян-бар l&m', 'кафе, столовая', 'кафе, столовая, пицца, пончики', 'кафе, шаурма', 'кафе- а-ля-карт', 'кафе- бар', 'кафе-бар', 'кафе-бар grill express', 'кафе-бар «clever»', 'кафе-бар «hi пятница»', 'кафе-бар «troy»', 'кафе-бар «амазония»', 'кафе-бар «бигус»', 'кафе-бар «главclub green concert»', 'кафе-бар «династия»', 'кафе-бар «дружба»', 'кафе-бар «есенин пиво»', 'кафе-бар «жако»', 'кафе-бар «жулебино»', 'кафе-бар «искра»', 'кафе-бар «караоке myzon»', 'кафе-бар «каюк компания»', 'кафе-бар «кико»', 'кафе-бар «ля-николя»', 'кафе-бар «пантера»', 'кафе-бар «салют»', 'кафе-бар «хижина»', 'кафе-бар альбом', 'кафе-бар водолей', 'кафе-бар курага', 'кафе-бар при азс', 'кафе-бар при кинотеатре «космос»', 'кафе-бар проточный', 'кафе-бильярд', 'кафе-бистро', 'кафе-бистро вкуснота', 'кафе-бистро солоха', 'кафе-бистро софимарсо', 'кафе-блинная сударушка', 'кафе-бутик posh up, babe', 'кафе-бутик «leonidas»', 'кафе-буфет', 'кафе-закусочная «бургер кинг»', 'кафе-кальянная', 'кафе-кальянная «мамуния»', 'кафе-караоке', 'кафе-караоке «la la land»', 'кафе-клуб правда', 'кафе-кондитерская', 'кафе-кондитерская «kathrin bakery»', 'кафе-кондитерская «селезнефф»', 'кафе-кондитерская мистер эклер', 'кафе-кулинария', 'кафе-кулинария «время есть»', 'кафе-кулинария «кулинариум»', 'кафе-кухня', 'кафе-мороженное «gelateria 17»', 'кафе-мороженое viani', 'кафе-паб брюссель', 'кафе-пекарея «волконский»', 'кафе-пекарня', 'кафе-пекарня levin bakehous', 'кафе-пекарня paul', 'кафе-пекарня «бурекас бейкери»', 'кафе-пекарня «завтраки.ру»', 'кафе-пекарня «мюнгер»', 'кафе-пекарня арчибальд', 'кафе-пекарня дк (домашняя кулинария)', 'кафе-пекарня франсуа', 'кафе-пиццерия', 'кафе-пиццерия суши', 'кафе-ресторан «биф-тайм»', 'кафе-ресторан «таверна»', 'кафе-столовая', 'кафе-столовая «лапауза»', 'кафе-столовая «репортер»', 'кафе-столовая «сыто-пряно»', 'кафе-столовая «уголок»', 'кафе-столовая вкус жизни', 'кафе-столовая карэль', 'кафе-столовая сити ланч в бц «кристалл»', 'кафе-халяль', 'кафе-чайхана «пловчик»', 'кафе-шашлыки', 'кафе«мир шашлыков»', 'кафе«чайхана райхан»', 'кафедра питания при мигаике', 'кафейня musetti', 'кафейня «brooklyn»', 'кафейня «булка»', 'кафейня «пеар - 4»', 'кафейня кофе мира', 'кафест', 'кафетерий', 'кафетерий (служебный) гостиницы «космос»', 'кафетерий ab dali', 'кафетерий «la croisette»', 'кафетерий «брави-т»', 'кафетерий «город строителей»', 'кафетерий «итальянская кондитерская»', 'кафетерий «кофе с собой»', 'кафетерий «кухня. всегда готово»', 'кафетерий «лепешки из тандыра»', 'кафетерий «плюшка&ватрушка»', 'кафетерий «русский лес»', 'кафетерий «тоткот»', 'кафетерий «хачапури»', 'кафетерий «чайная»', 'кафетерий в автосалоне вольво на тульской', 'кафетерий делисью', 'кафетерий дос', 'кафетерий дюплекс', 'кафетерий клуб миэт', 'кафетерий на заправке', 'кафетерий при азк 317', 'кафетерий при азс', 'кафетерий при гостинице «саяны»', 'кафетерий № 1', 'кафетерий, тандыр', 'кафетерий-кондитерская «ватрушка»', 'кафетериус', 'кафетерия', 'кафи при азс', 'кафишка', 'кафк «качевник»', 'кафк пиала', 'каффа', 'каффе «wokker»', 'каффетерия', 'кахури', 'качаторе', 'каша малаша', 'каши от аркаши', 'кашкар', 'квартал +', 'квартира 44', 'квартира № 5', 'квартира № 7', 'кворум', 'кдп - кетеринг цсо', 'кдп « кетеринг»', 'кдф кетеринг домостроительный комбинат 2', 'кебаб', 'кебаб 24', 'кебаб мд', 'кебаб хаус', 'кебаб-гриль', 'кебабкинг', 'кебеб', 'кегли', 'кедр лаунж бар', 'кейдер', 'кельт ирландский паб «конор мак несса»', 'келья', 'кенди чоп', 'кид рок кафе', 'киевский дворик', 'килфиш бар', 'кимберли', 'кимчи', 'кинематограф', 'кинза', 'кинзадза', 'кинки', 'кино искра театр', 'кинобар', 'кинобар «синемапарк»', 'киноклуб фитиль', 'киноплов', 'кинотеатр салют', 'кинто', 'кипрская кухня', 'кирим', 'кирпич', 'кислород', 'китайгородская стена', 'китайская грамота бар и еда', 'китайская еда', 'китайская забегаловка', 'китайская кухня', 'китайская лапша', 'китайская лапша «рамэн»', 'китайская провинция', 'китайские новости', 'китайский летчик «джаода»', 'китайский ресторан', 'китайский ресторан «ок»', 'китеж', 'кицунэ', 'клаб гриль', 'клава', 'кларк ки', 'кларом', 'клаштер', 'клевер ритейл групп', 'клево', 'клледж № 28', 'клуб 18 12', 'клуб «angels»', 'клуб «gazgolder»', 'клуб «высотка»', 'клуб «моюз»', 'клуб «подzемка»', 'клуб «примерное поведение»', 'клуб аврора', 'клуб высоцкого', 'клуб дорффман', 'клуб караоке', 'клуб кафе караоке labиринт', 'клуб мачо', 'клуб морковь', 'клуб плэй', 'клуб-караоке весна', 'клубень', 'клубный ресторан', 'клюква', 'клюква lounge', 'клюква кухня и бар', 'км 20', 'княжий дворик', 'ко-ко', 'кобзарь', 'кове', 'ковчег', 'когофрагола', 'козаностра', 'кои нори', 'кока-кола эйчбиси евразия', 'коко чикен', 'коксинель', 'коктейли', 'коктейли movenpick', 'коктейли и пирожные', 'коктейльная', 'колбасный цех', 'колбасофф', 'коленки пчелы', 'колесо времени', 'колибри', 'колковна', 'коллаборация', 'колледж 10', 'колледж автомобильного транспорта № 9', 'колледж архитектуры и менеджмента в строительстве № 17', 'колледж градостроительства и предпринимательства', 'колледж декоративно-прикладного искусства № 36', 'колледж железнодорожного и городского транспорта', 'колледж легкой промышленности', 'колледж малого бизнеса', 'колледж навигаторов имени шашкова с.а.', 'колледж по подготовке социальных работников № 16', 'колледж работ.гост.и рестор.цариц.', 'колледж связи 54', 'колледж современных технологий', 'колледж сферы услуг № 44', 'колледж сферы услуг №10', 'колледж технологический № 41', 'колледж № 27', 'колледж № 29', 'колледж №24', 'колледж №26', 'колледж №34', 'колледж №57', 'колледж-xxi-век', 'колобок', 'колос пекарня осетинские пироги', 'колтрейн', 'колхи', 'колхида', 'кольчуга', 'комбинат дошкольного питания', 'комбинат питаная вагш', 'комбинат питания', 'комбинат питания - «столовая левада»', 'комбинат питания «управление академсервис»', 'комбинат питания конкорд', 'комбинат питания мгту им. н.э. баумана', 'комбинат питания мгту им.н.э.баумана', 'комбинат питания мгуиэ', 'комбинат питания мирэа', 'комбинат питания митхт «инфраструктура холдинг»', 'комбинат питания мпгу', 'комбинат питания мэрии', 'комбинат питания ран', 'комбинат питания учащихся при гос.образ.уч.мгкэмит', 'комбинат питания фин.хоз.упр.мэрии москвы', 'комбинат питания школа 921', 'комбинат рыба и только', 'комбинат хлебопродуктов', 'комеди кафе', 'комета', 'комета бар', 'комменти ресторан', 'компания «алвар» мнирти', 'компасс групп рус', 'комплексное предприятие', 'компот', 'кому жить хорошо', 'конак', 'конверс-банк', 'кондитерия тирольские пироги', 'кондитерская', 'кондитерская -пекарня «мия»', 'кондитерская atelier de tartelettes', 'кондитерская la fete', 'кондитерская «констанция»', 'кондитерская «кузина»', 'кондитерская «пряник.рогалик»', 'кондитерская «шодо»', 'кондитерская волконский', 'кондитерская здоровая индустрия', 'кондитерская кафе пушкинъ', 'кондитерская лавка «александра»', 'кондитерская лавка александра', 'кондитерская мануфактура', 'кондитерская марта', 'кондитерская пекарня', 'кондитерская фортутти', 'кондитерская, кафе чертаново', 'кондитерская-пекарня волконский', 'кондитерский дом гриджио', 'конеч.ст.водит. 7 трол.', 'конеч.ст.водит.9 ав.п..', 'кони а.ф.', 'коникс школьник', 'коникс-школьник школа 1403', 'консерватория (при гостинице «арарат парк хайят»)', 'консерватория им. п.и. чайковского', 'консис +', 'консьерж-бар', 'концерн радиостроения вега', 'концерт бар', 'коперник', 'коптильня', 'копченый цех', 'корвет', 'корейская кухня', 'корейский ресторан', 'корейское бистро «инсам»', 'коржовъ', 'корифей', 'корица', 'кормушка', 'корн доги', 'корнели пицца', 'корнер', 'корнер гриль', 'корона', 'корпоративный ресторан карэль', 'корчма', 'корчма «тарас бульба»', 'корчма диканька', 'корчма тарас бульба', 'корчма«тарас бульба»', 'корчматарас бульба', 'космик', 'косой маркс', 'коста кофе', 'кот-ч', 'коте азур', 'котикилюди', 'котлет нет', 'котлета', 'кофе', 'кофе fix price', 'кофе raf', 'кофе «кофе собой»', 'кофе «поинт»', 'кофе бар 17', 'кофе баристо', 'кофе бин', 'кофе бюро', 'кофе внутри', 'кофе выпечка', 'кофе еда', 'кофе есть', 'кофе и ко', 'кофе и пахлава', 'кофе и пирожок', 'кофе моментс', 'кофе на вынос', 'кофе он', 'кофе паб', 'кофе поинт', 'кофе премиум', 'кофе пью', 'кофе рядом', 'кофе с собой', 'кофе с собой gate 42', 'кофе с собой «coffe way»', 'кофе с собой «coffee point»', 'кофе с собой «кофейня»', 'кофе с собой «сладкая карамель»', 'кофе с собой «тоа кофе»', 'кофе с собой и кулинария', 'кофе с собой пирогово', 'кофе сити', 'кофе стайл', 'кофе тайм', 'кофе таймс', 'кофе ти', 'кофе тун', 'кофе тун суши тун', 'кофе хантер', 'кофе хаус', 'кофе хаус,экспресс', 'кофе хаус. экспрессо и капучино бар', 'кофе хлеб', 'кофе эли', 'кофе энигма', 'кофе-бар', 'кофе-бин', 'кофе-пекарня каскара', 'кофе-порт', 'кофе-фм', 'кофе-хаус', 'кофе.книги.крокодил', 'кофеlike', 'кофебар', 'кофебум', 'кофеварня', 'кофеек', 'кофеин', 'кофеин крю', 'кофей пицца', 'кофейка', 'кофейник«капучино лаб»', 'кофейный бандит', 'кофейный бар', 'кофейня', 'кофейня - гострономическая лавка', 'кофейня 47', 'кофейня 8 дробь 4', 'кофейня arti coffee', 'кофейня cofix', 'кофейня cookc', 'кофейня fresh bar', 'кофейня kafedra kofee', 'кофейня kofeincafe', 'кофейня magic', 'кофейня stories', 'кофейня wild bean cafe', 'кофейня your time waffles', 'кофейня «11 минут»', 'кофейня «bp»', 'кофейня «cofe way»', 'кофейня «coffeeway»', 'кофейня «cofix»', 'кофейня «costa coffee»', 'кофейня «kimicake»', 'кофейня «pick up coffee»', 'кофейня «дабл би»', 'кофейня «даблби»', 'кофейня «де марко»', 'кофейня «иван-чай»', 'кофейня «итальяно»', 'кофейня «капучинофф»', 'кофейня «кофе или чай»', 'кофейня «кофе хаус»', 'кофейня «кофеман»', 'кофейня «кофепорт»', 'кофейня «малинари»', 'кофейня «маэстро кофе»', 'кофейня «мой кофе»', 'кофейня «правда кофе»', 'кофейня «соловей»', 'кофейня «старбакс кофе»', 'кофейня «старбакс»', 'кофейня «твой кофе»', 'кофейня «цурикат»', 'кофейня «чайникофф»', 'кофейня «чудо выпечки»', 'кофейня «шоколадница»', 'кофейня авеню', 'кофейня альковъ', 'кофейня даблби', 'кофейня делюсь душой', 'кофейня келарь', 'кофейня кофе бин', 'кофейня кофе коста', 'кофейня кофеин', 'кофейня кофемания, пиццерия бармалини', 'кофейня кофикс', 'кофейня крендель «кофе с собой»', 'кофейня малевичъ', 'кофейня правда кофе', 'кофейня синкопа', 'кофейня тесто', 'кофейня тревеллерс', 'кофейня цдм', 'кофейня шишкин лес', 'кофейня шоколадница', 'кофекрю', 'кофеловерс', 'кофемания', 'кофемания starbucks', 'кофемаркет', 'кофемаус', 'кофеок', 'кофеоно', 'кофепорт', 'кофетерий', 'кофетерий «кондитерский дом александра селезнева»', 'кофетерий «кофе точка»', 'кофетун', 'кофецвет', 'кофешоп coffeeshop company', 'кофешоп компани', 'кофикс', 'кочевник', 'кошерная пицца', 'кп «кремлевский»', 'кп мгу буфет', 'кп мгу буфет 101', 'кп мгу буфет 104', 'кп мгу буфет 142', 'кп мгу буфет 145', 'кп мгу буфет 146', 'кп мгу буфет 31', 'кп мгу буфет 41', 'кп мгу буфет 42', 'кп мгу буфет 5', 'кп мгу буфет 71', 'кп мгу буфет 72', 'кп мгу буфет 87', 'кп мгу буфет 88', 'кп мгу буфет 91', 'кп мгу закусочная 1', 'кп мгу закусочная 2', 'кп мгу столовая 1', 'кп мгу столовая 10', 'кп мгу столовая 14', 'кп мгу столовая 15', 'кп мгу столовая 2', 'кп мгу столовая 3', 'кп мгу столовая 4', 'кп мгу столовая 4 2', 'кп мгу столовая 5', 'кп мгу столовая 7', 'кп мгу столовая 8', 'кп мгу столовая 9', 'кп мэи', 'кп мэи кафе дом 13', 'кп оусц крылатское', 'кпф семья-1', 'краб', 'краб паб', 'крабс', 'крапива', 'красная машина', 'краснов п.е.', 'краснодар', 'крафт & бургер', 'крафт 1.8', 'крафт бар', 'крафт стейшн', 'крафт-бар колбаса', 'крафт-паб «69 pints»', 'крафтмания', 'крафтмен', 'крафтовое пиво', 'крафтовый бар «кампания»', 'крафтовый кофе-бар', 'креветки', 'кредитный колледж загорье', 'крейзи дейзи', 'кренделькофф', 'крепери де пари', 'кристиан', 'кристина', 'кровля', 'крошка картошка', 'крошка крем', 'крошка-картошка', 'крошкакартошка', 'круасанкафе', 'круассан', 'круглый кот', 'кружка', 'крузо', 'круиз', 'крылышко-ножка', 'крылья', 'крыша', 'крюково-цсо взрослое отделение', 'ксн', 'кстати', 'ксц «переделкино»', 'ку ка буфет домашней еды', 'ку рамен изакая бар', 'куба либре', 'кувера', 'кузина', 'кукуруза и сок', 'кулибин', 'кулина room', 'кулинар №1', 'кулинари', 'кулинариум', 'кулинариум экспресс', 'кулинариум-экспресс', 'кулинария', 'кулинария 360', 'кулинария seiko sushi', 'кулинария «брецель»', 'кулинария «городская еда»', 'кулинария «сытый-добрый»', 'кулинария арамье', 'кулинария голубка', 'кулинария добрынинская', 'кулинария дубрава', 'кулинария мясная', 'кулинария пан пан', 'кулинария пекарня', 'кулинария три сестры', 'кулинария фасоль', 'кулинария.салаты', 'кулинарная лавка', 'кулинарная лавка «два кренделя»', 'кулинарная лавка «добавка»', 'кулинарная лавка «ем и ем»', 'кулинарная лавка «печка»', 'кулинарная лавка братьев караваевых', 'кулинарная лавка братьев караваевых братья караваевы', 'кулинарная лавка два кренделя', 'кулинарная лавка«два кренделя»', 'кулинарная студия юлии высоцкой', 'кулинарное бюро', 'кулинарное бюро kitchen', 'кулинарное бюро китчен', 'кулинарный магазин «просто вкусно»', 'кулинарный рай', 'культ', 'культ кальянная', 'культура уличной еды', 'куманек- суши - вок', 'кумру', 'кунак', 'кунаки', 'кунжут кафе', 'купянчанка', 'курбер', 'курдюк', 'курочка с нами', 'куршевель', 'куры гриль', 'куры-гриль шаурма', 'кутузов, давыдов, барклай', 'кухмистерская', 'кухмистерская «профессор пуф»', 'кухни кипра', 'кухня «сытый слон». доставка горячих обедов', 'кухня из сезонных продуктов', 'кухня кипра', 'кухня на районе', 'кухня народов', 'кухня полли', 'кучина (эль питоре)', 'кушавель', 'кушай город', 'кфс амрест', 'ла ваш', 'ла гатта', 'ла джоконда', 'ла карта', 'ла маре', 'ла прима маргарита', 'ла специя италия', 'ла фантази', 'лаборатория', 'лаборатория lounge', 'лав бургер', 'лав кафе', 'лаваш и угли', 'лаваш хаус', 'лаваш&хачапури', 'лаваш-центр', 'лавашок', 'лавка мяса и вина', 'лавка № 1 гастрономическая пивная', 'лавкалавка', 'лавкрафт', 'лавлаваш', 'лагатта', 'лагман № 1', 'лагманная', 'лагманты', 'ладо', 'ладюрэ рус', 'лайт', 'лайт кафе', 'лаки кинг', 'лаки чан', 'лакса', 'лакшим', 'ламаджо', 'ламбик', 'лангот', 'лангуст', 'ландринъ', 'ланч бокс', 'ланч кафе', 'ланч-буфет «апельсин»', 'ланчер', 'ланчком', 'ланчтайм', 'лапша', 'лапша тянем-потянем', 'лапшиза', 'лапшичная lanzhou', 'лапы и хвосты', 'ларам', 'ларгус-м', 'ларионов гриль', 'ларс веганс', 'латте', 'латук', 'лаундж-бар «мята lounge»', 'лаундж-кафе свои', 'лаунж-бар яблоко', 'лаунч бар', 'лафа', 'лачи', 'ле ван кыонг', 'ле спа', 'легенда', 'легенда самарканда', 'легендарный тифлис', 'ледовый дворец мечта', 'лейка', 'лекавет', 'лекробаг', 'лемончелло', 'лен', 'ленинград', 'леона', 'лепешка', 'лепим и варим', 'лермонтов', 'лес', 'лесной уют', 'лето', 'лето близко', 'либерти', 'либерто', 'ливан-хаус', 'ливанец', 'ливингстон', 'лига пап', 'лигурия', 'ликия', 'лило', 'лиля брик', 'лимон', 'лимончино', 'линдерхоф', 'линдфорс', 'лиор', 'литл панда', 'лицей', 'лицей 1303', 'лицей 1524', 'лицей 1589', 'лицей при пединституте', 'лицей прикладного искусства 332', 'лицей № 507', 'лицей №1581', 'лобби', 'лобби бар', 'лобби- бар', 'лобби-бар', 'лобби-бар «welcome»', 'лобби-бар «аквамарин»', 'лобби-бар «рандеву» при гостинице', 'лобби-бар «у фонтана»', 'лобби-бар лайтбар', 'лоби бар «галерея»', 'лобиани', 'логово', 'лодка', 'ложки вилки', 'ложки и вилки', 'лоза', 'локал вест', 'локомотив', 'лол', 'лола', 'лондон гриль, море суши', 'лора крафт', 'лос бурритос', 'лотос', 'лофт 8.14', 'лофт фарфор', 'лса', 'луар', 'луиджи', 'лукоил', 'лукойл', 'лукойл-центрнефтьпродукт', 'лукоморье', 'лукум', 'луна', 'лунева с.в.', 'лунный дворик', 'луснар', 'луч', 'лю милье', 'любава', 'любимая пицца', 'любимый город', 'люблю жизнь', 'любовь и сладости', 'любовь пирогова', 'люди как люди', 'ля марэ', 'ля музон', 'ля фа', 'ля фантази', 'ля фантазия', 'ля фентази', 'лямур', 'ляфантази', 'ляхова л.к.', 'лёд n roll', 'лён-гречка', 'м - кафе', 'м арс', 'мilky donut', 'ма пицца', 'маffли', 'магадан', 'магазин «кулинария»', 'магазин готовой еды «милти»', 'магазин кофе чай', 'магазин кулинарии «вкусняша»', 'магазин кулинарии «№111 фгуп гкнпц им. м.в. хруничева»', 'магазин фасфудной продукции', 'магазин японской кухни', 'магазин-бар «бирстон»', 'магазин-кулинария', 'магазин-кулинария «добрый свет»', 'магазин-кулинария «мясная кулинария»', 'магазин-кулинария «суши сет»', 'магазин-кулинария арго и к', 'магбургер', 'магбургер азс №16', 'магбургер азс №17', 'магия вкуса', 'магиён', 'магнолия', 'магнум', 'мадам вонг', 'мадам галифе', 'маза', 'маидат кафе', 'майкитай', 'майкл коллинз', 'майя', 'мак фокс', 'макаронино', 'макдоналдс', 'маки-маки', 'маккадамия', 'маковка', 'макс бар', 'макс бреннер', 'макси пицца', 'максима пицца', 'максимальный ресторан', 'малаев', 'маленькая пекарня', 'малетон', 'малика', 'малыш и карлсон', 'мама будет рада', 'мама гочи', 'мама, я в лапшу', 'мама, я на паре', 'мама-карло', 'мамина еда', 'мамуния', 'манави', 'мангал хаус', 'мангалбар', 'мандарин', 'мандариновый гусь', 'манеров', 'маникюр энд бар', 'манка', 'манты и чебуреки', 'мараканд', 'маракеш', 'марани', 'маргарита', 'мареа', 'мари', 'марина', 'мариус', 'марков двор', 'марков двор кафе', 'марма', 'мармелад', 'мармеладница', 'мармеландия', 'мармилатта', 'мармолада', 'марокко', 'марракеш', 'марсала', 'марсера', 'март', 'мартиника', 'мартиросян м.г.', 'мару', 'мархал', 'марципан', 'марчеллис', 'масала хаус', 'маск-100', 'мастер', 'мастер гурмэ', 'мастер кебаб', 'мастер кондитер', 'мастер отель внуково', 'матрешка', 'матч поинт', 'матча', 'мафия', 'мацони', 'маэстрелло', 'маэстро', 'маэстро пицца', 'маэстро ресто', 'маэстро рестро', 'мббургер', 'мбкк «коломенское»', 'мгах им в.и. сурикова', 'мгиу «инфар»', 'мгиу буфет «наслузова»', 'мгпу', 'мгу инженерной экологии', 'мегаполис', 'мегобари', 'мегрелия', 'мед-стоматологический университет', 'мед. колледж № 1', 'медицинский колледж имени клары цеткин дзр г. москвы', 'медицинский колледж № 6', 'медицинский колледж № 7', 'медицинский колледж №5', 'медицинское училище 15', 'медицинское училище № 12', 'медуза', 'медучил. 4 ф-л. при мгкэит', 'медучилище 7', 'мексиканская кухня', 'меленка', 'мелочи жизни', 'мельница', 'менза', 'менора', 'мериталь', 'мерси 5', 'мерси баку', 'месопотамия', 'местечко', 'местная религиозная организация ортодоксального иудаизма «московская еврейская религиозная община»', 'место есть', 'месье круассан', 'метеор', 'метехи', 'метро к&к', 'метрополь', 'меценатъ', 'меццо пицца', 'мечта кафе', 'мечты', 'мз «кристаалл» столовая на балансе з-да', 'мзэма', 'ми пьяче', 'миа пицца', 'миди', 'мидл ист', 'мизандари', 'микроб', 'микс', 'миксалат', 'миксер', 'милана', 'милано пицца', 'миллениум', 'милленниум', 'милос греческая кухня', 'милти', 'милти готовые блюда для здорового питания', 'миля', 'мими', 'мимино', 'мимино хинкальная', 'мин.образ.рф фаворит 1357', 'мин.образов. рф «сервисный центр»', 'миндаль', 'миндаль и кофе', 'мини пекарня «маковка»', 'мини-кафе «halal food certified»', 'мини-кофейня', 'мини-кофейня кофепорт', 'мини-пекарня', 'мини-пекарня «выпекай-ка»', 'минская10', 'мио', 'мио дольче джулия', 'мир аранчини', 'мир донер', 'мир халяль', 'мир шашлыков', 'мирадж', 'мираж', 'мирамар', 'мираторг', 'мираторг бургер&фрайс', 'мисада', 'мистер донер 24', 'мистер картошка', 'мистер круассан', 'мистер хинкали', 'миша фишер', 'миядзаки', 'ммк молодежный', 'мнии альтаир', 'мниипа', 'мнити', 'много лосося', 'многопрофильный лицей 1501', 'мнтк мх глаза бар дес.', 'мнтк мх глаза буфет 3', 'мнтк мх глаза буфет ап', 'мнтк мх глаза кафе', 'мнтк мх глаза пищеблок', 'мнтк мх глаза р-н спектор-1', 'мнтк мх глаза столовая', 'могучая кучка', 'моди', 'модус вита', 'модус-групп', 'мозаика', 'мой ашан', 'мойкофебар', 'мойчойс', 'мокка', 'молли гвинз', 'молли малоун', 'молодежь', 'молодость lounge', 'молоко', 'молочные коктейли', 'молочные коктели', 'мольберт', 'мондриан бар', 'моно', 'монополь', 'монретин', 'монтероссо', 'море рыбы', 'моремания', 'моремания экспресс', 'мороженное movenpick', 'мороженое', 'мороженое plombir', 'мороженое «myyo»', 'мороженое, фреши, сладости «трава»', 'морозко', 'мосбург', 'мосводоканал', 'мосгортранс трамвайное депо', 'мосдонер', 'моск. гор. колледж инф-х технологий', 'моск. гос. авиац.-технологич. университет', 'моск. университет прикладной биотехнологии', 'моск.катрон.полиграф.комбинат', 'моск.межреспуб. винзавод', 'москабельмет', 'москальян', 'москафе', 'москва', 'москва - макдоналдс', 'москва париж', 'москва поет', 'москвич', 'московская городская реклама', 'московская сеть кальянных мск', 'московская экспертно импортная компания', 'московский', 'московский городской институт управления пм', 'московский государственный открытый педагогический университет им. м.а. шолохова', 'московский дворик', 'московский казачий кадетский корпус', 'московский коммерческий колледж', 'московский ордена ленина и ордена трудового красного знамени метрополитен имени в.и.ленина', 'московский полетехнический колледж № 39', 'московский приборостроительный техникум, центр дополнительного образования рэу им. г.в.плеханова', 'московский строительный колледж № 38', 'московский театр русской драмы', 'московский технико-экономический колледж', 'московский технический лицей', 'московский ювелирный завод', 'московское упп 13 всесоюзное общество слепых', 'моспаб', 'моспицца', 'моспромстой', 'моспромстрой отель менеджмент', 'мосстроймех.5 ум 25', 'мохнатый шмель', 'моцарт', 'моэк', 'мпбк очаково', 'мпз кампомос', 'мпк «крекер»', 'мпо «электротехника вос»', 'мпо электротехника', 'мрамор', 'мск кальян-бар', 'мск кальянная', 'мск московская сеть кальянных', 'мск московская сеть кальянных на шаболовке', 'мсу 31 промэлектромонтаж', 'му-му', 'муган', 'музей пива', 'музей шоколада', 'музыкальный колледж', 'музыкальный ресторан цдри', 'мулалиев м.ю.', 'мумий тролль', 'муракамэ', 'мускат', 'мускат-молодежная', 'мустафа кебаб', 'мфюа «нано фреш»', 'мэйбикофе', 'мюнгер', 'мягкие рестораны', 'мясная кулинария', 'мясной бар №7', 'мясной ресторан 4560', 'мясо', 'мясо - огонь', 'мясо в лаваше', 'мясо ели мужики', 'мясо и овощи', 'мясо и паста', 'мясо и рыба', 'мясо на гриле', 'мясо&рыба', 'мясо&рыба детский', 'мясо.кулинария «дедовский пекарь»', 'мясоroob', 'мясорубка', 'мята', 'мята lounge', 'мята lounge автозаводская', 'мята lounge октябрьская', 'мята lounge шаболовка', 'мята кальянная', 'мята лаунж', 'мята университет', 'мёд', 'мёнга', 'н.f.c. халяль', 'нola mexican grill', 'на востоке', 'на знаменке', 'на кранах', 'на мельнице', 'на мосфильмовской', 'на мса', 'на орбите', 'на углях', 'на чили', 'наас', 'набатчиков а.п.', 'набатчиков а.п.(14 автобусный парк гк мосгортранс)', 'набодчиков а.п.', 'навигацкая школа', 'навоке', 'найскафе', 'найт флайт', 'наливки', 'нам', 'нанг', 'напитки', 'наполетана', 'нар', 'нардин', 'наркологическая клиническая больница № 17', 'наска', 'наследие', 'настоишная', 'натахтари', 'натюрлих', 'находка', 'наш пончик', 'наш самарканд', 'не горюй', 'не кафе, а космос', 'не путай берега', 'небесный тихоход', 'неглинка (при гостинице «арарат парк хаятт»)', 'негосударственная школа «выбор»', 'негосударственная школа «гармония»', 'негосударственная школа «глобус»', 'нейборс', 'нейтанс', 'некрасовка +', 'некрасовские бани', 'немецкая кухня', 'немецкая слобода', 'немодные burgers', 'нео фуд', 'нептун', 'неспрессо', 'нецкин п.в.', 'ниимэ и завод микрон', 'ниипм', 'ниихолода', 'никала', 'никиэт имени н.а. доллежаля', 'никола тесла', 'николай', 'никольский', 'никольский парк', 'ниппон', 'нихони', 'ничего лишнего', 'нияма', 'нияма пицца пи', 'нияма- суши бар', 'нияма. пицца пи', 'но «фонд содействия развитию передовых медецинских технологий имени святослава федорова»', 'новатор кофе', 'новая столовая', 'новая столовая рускухня', 'новая хинкальная', 'новая эра', 'новогиреевское', 'новые формы', 'ноев ковчег', 'номер 15', 'нон', 'нон ла', 'норд', 'нордека', 'нори суши бар', 'ноу «мини-школа»', 'ноу школа «ника»', 'нофар', 'ночной баку', 'ночной караван', 'ночной клуб «red wings»', 'ночной клуб «zall»', 'ночной клуб «солярис»', 'ночной клуб лолита', 'ночной клуб эклипс', 'ноян тун', 'нпц челюстно-лицевой хирургии', 'нтц атлас', 'ньокки', 'нью амстердам холл', 'нью йорк', 'нью-йорк пицца и гриль', 'нью-йорк стейк-хаус', 'нэцкэ', 'о ле', 'о суши', 'о чем говорят...', 'о эскимо', 'о, мой крафт', 'о-хара', 'оазис', 'оазис внуково', 'оао «вилс» столовая 1', 'оао «вилс» столовая 2', 'оао «опытный з-д сухих смесей»', 'оао «фаберлик косметик»', 'обед буфет', 'обеды с собой', 'обжора', 'обжорный ряд', 'оби-рахмат', 'облака', 'облако 11', 'облако 53 lounge', 'облепиха', 'обломов', 'образ', 'обухов паб', 'общественное питание', 'огни баку', 'огни востока', 'огонек', 'одесса -мама', 'одесса-мама', 'оджалеши', 'оджахури', 'одиссей+', 'однажды в самарканде', 'однажды в ташкенте', 'одуван', 'озби', 'озгон', 'ока-2000', 'оке поке кафе', 'океан', 'океан суши', 'окинори', 'околица', 'окофемой', 'оксюморон', 'октоберфест', 'октябрь event hall', 'олд сити', 'оле-оле', 'олива', 'оливье', 'олимпиец', 'ом кафе', 'оманд', 'омпк', 'омулевая бочка', 'он мой', 'онегин', 'оникс', 'ооо «очаково»', 'ооо «театро»', 'ооо «фуд про»', 'ооо кобинат питания конкорд', 'ооо«рфк»', 'опк «зеленоградский»', 'опорный пункт', 'оптимист', 'оравела', 'оранж три', 'оранжерея', 'оранта', 'органик клуб', 'ордынка', 'орехово пицца', 'оригами суши-роллы', 'орко покровка менеджмент', 'орс-нод-1 столовая 11', 'орхидея', 'осетинсике пироги печево', 'осетинские пироги', 'осетпирог', 'осипов а.с. (прод.база «очаково»)', 'останкино', 'останкинский молочный комбинат', 'остериа марио', 'остерия divino, караоке лаундж', 'остерия бьянка', 'остерия марио', 'осторожно слон', 'остро wok', 'остро wok суши', 'остроwok', 'островок «super mango shake»', 'островок чай-кофе', 'островский', 'осьминожка', 'от души', 'от заката до рассвета', 'отдых', 'отель мастер', 'оттоман', 'офис-мучачос', 'офицерское', 'офицерское собрание ресторан', 'охотник', 'охунова у.д.', 'очаg', 'очаг', 'очаг mangal house', 'ош', 'ош кафе', 'п пицца', 'па-паэлья', 'паб', 'паб 885', 'паб delirium tremens', 'паб zolden (закрыто на ремонт в 2018 году)', 'паб «three tuns»', 'паб «victoria & albert»', 'паб «zlucky»', 'паб «хищник»', 'паб «шемрок»', 'паб андердог', 'паб биротека бирмаркет', 'паб бразен', 'паб гастро моментс', 'паб друзей магазин разливных напитков', 'паб злачное место', 'паб кружка', 'паб ло пикассо', 'паб&пиццерия', 'паб-солодоварня 1516', 'паб21', 'павильон «кафе»', 'павильон «кукуруза»', 'павлин мавлин чайхона №1', 'павлин-мавлин', 'паддис', 'пай поинт', 'пак beer', 'паладин', 'палео', 'палермо', 'палехский дворик', 'пальмира', 'пампа грин', 'пан запекан', 'панаехали', 'паназиатская кухня «канэ»', 'панда', 'панда кафе', 'панделли гриль', 'панорама', 'панорама 93', 'панчо вилья', 'панчо пицца', 'паоло', 'папа бык', 'папа вейдер', 'папа джойс', 'папа джонс', 'папа джонс пицца', 'папа карло', \"папа'с буфет\", 'папан', 'папас бар энд гриль', 'папоротник', 'паприка', 'парадиз ролан', 'паризьен', 'парк (при гостинице «арарат парк хаятт»)', 'парк хаус', 'парк-отель', 'парламент', 'паровозик', 'парос-тал', 'парус', 'паскуччи', 'паста', 'паста браво', 'паста и баста', 'паста ризотто', 'пастаместо', 'патиссон', 'патриот столовая-кулинария', 'паттерна', 'пауланер', 'паулхауз ресторан', 'пацио пицца', 'паша пахвала', 'пбо la pausa pizzeria and cafe', 'пбо «kfc покрышкина»', 'пбо «kfc»', 'пбо «вокмания»', 'пбо «гриль хаус»', 'пбо «теремок»', 'пед. колледж 4', 'педагогический колледж', 'педучилище 6', 'пекарная лавка «донер кебаб»', 'пекарня', 'пекарня & донер', 'пекарня 1', 'пекарня 24', 'пекарня beno', 'пекарня family', 'пекарня konigsbaker', 'пекарня «амбар»', 'пекарня «вкус хлеба»', 'пекарня «вкусняшка»', 'пекарня «волконский хлеб»', 'пекарня «гурман»', 'пекарня «дон батон»', 'пекарня «доноретто»', 'пекарня «доноррето»', 'пекарня «дружок-пирожок»', 'пекарня «есть поесть»', 'пекарня «загляни генацвале»', 'пекарня «изюминка»', 'пекарня «лепешки»', 'пекарня «маковка»', 'пекарня «малина»', 'пекарня «молон лаве»', 'пекарня «папан»', 'пекарня «печной дар»', 'пекарня «супер пирог»', 'пекарня «тестоместо»', 'пекарня «три сыра»', 'пекарня «хлебница»', 'пекарня «хлебное место»', 'пекарня «четыре пекаря»', 'пекарня арт буланже', 'пекарня булкоешка', 'пекарня буханка', 'пекарня вкусная жизнь', 'пекарня волконский', 'пекарня восточная кухня', 'пекарня горхлеб', 'пекарня домашний хлеб', 'пекарня донер', 'пекарня донер бистро', 'пекарня жаворонок', 'пекарня и хлебница', 'пекарня империя вкуса', 'пекарня кулинария пицца', 'пекарня маковка', 'пекарня маман', 'пекарня на дровах', 'пекарня панпан', 'пекарня папан', 'пекарня паул', 'пекарня пепела', 'пекарня тоне', 'пекарня франсуа', 'пекарня хлебница', 'пекарня шаурма, пироги.', 'пекарня № 1', 'пекарня №1', 'пекарня-бистро', 'пекарня-булки', 'пекарня-зерно', 'пекарня-кафе', 'пекарня-кондитерская', 'пекарня-столовая «столичная»', 'пекарь', 'пекинская утка', 'пекинский сад', 'пельмени', 'пельменики', 'пельменная', 'пельменная лавка', 'пельменная №1', 'пельменники', 'пельменчик', 'пельменьи', 'пельмешка хаус', 'пельмешки', 'пенная галерея', 'пенный плен', 'пентхаус', 'пепе неро', 'пепела', 'первая креветочная', 'первое кафе', 'пергамент', 'перекресток', 'перекус', 'перелетный кабак', 'перепёлка', 'перец и мята', 'перня, шаурма', 'перовский дворик', 'перуанский ресторан «lima»', 'пескаторе', 'песнь моряка', 'пети', 'петров и васечка', 'петрович', 'петрол комплекс эквипмент кампани', 'петрол комплекс эквипмент компани', 'петрол комплекс эквипмент компани при азс', 'петрол копмлекс эквипмент кампани', 'печки-лавочки', 'печорин александр александрович', 'печь и гриль', 'пещера', 'пиала', 'пиано', 'пиатто', 'пивариум', 'пивбар', 'пивбар 24 часа', 'пивбар «коломенское»', 'пивбар у бобра', 'пивзавод ресторан brotundbeer', 'пивзавод77', 'пивко', 'пивная', 'пивная street суши room', 'пивная телега', 'пивная фон вакано', 'пивной бар', 'пивной бар (beer&beard)', 'пивной бар «kraftr zona»', 'пивной бар «kraftsman»', 'пивной бар «бернес»', 'пивной бар «пивовар»', 'пивной бар «рябинка»', 'пивной бар карасик', 'пивной бар парка', 'пивной бар хмельная пинта', 'пивной бар элефант', 'пивной двор', 'пивной дворик', 'пивной дом gиm', 'пивной клуб «амбар»', 'пивной клуб монте кристо', 'пивной погребок', 'пивной ресторан «штирлиц»', 'пивной трактир «охота»', 'пиво', 'пиво бар', 'пиво в розлив - бар', 'пиво воды в розливъ', 'пиво есть', 'пиво и гриль', 'пиво и раки', 'пиво и раки улица', 'пиво на разлив', 'пиво-воды', 'пиво.бургеры.кофе.', 'пивовар', 'пивоварня', 'пивоварня шварцкайзер', 'пиворыба', 'пивотека', 'пивотека 465', 'пиицерия', 'пикассо кафе-бар', 'пикколо', 'пикник', 'пиколини', 'пилзнер', 'пилигрим', 'пиликан', 'пилпили', 'пион', 'пипл паста', 'пипл энд паста', 'пипл&паста', 'пипони', 'пиппони', 'пират пицца', 'пироги', 'пироги «скалка»', 'пироги и гирос', 'пироги хаус', 'пироги штолле', 'пироги,вино и гусь', 'пироговая лавка', 'пироговая рогова', 'пироговая штолле', 'пироговая №1', 'пирожки', 'пирожковая', 'пирожковпая', 'пиросмани', 'пит брэд', 'пит стоп', 'пита и суваки', 'пита и сувлаки', 'пита хаус 24 часа', 'пита хаус шашлычная пекарня', 'пита-бар meat me', 'пита-пита', 'питамикс', 'питер', 'питербургер', 'питчер паб', 'пить есть', 'пица паоло', 'пице хат', 'пицерия', 'пицерия «папа джонс»', 'пицерия «шварц кайзер»', 'пицерия папа джонс', 'пицерия пауло виктория', 'пицца', 'пицца & паста пауло', 'пицца 22 сантиметра', 'пицца 24', 'пицца 360', 'пицца comorra', 'пицца don vito', 'пицца pomodoro', 'пицца pomodoro и суши дзен', 'пицца sole', 'пицца vabenne', 'пицца «pizza pomodoro»', 'пицца «wokk»', 'пицца «додо»', 'пицца «паоло»', 'пицца аморэ', 'пицца бар на трофимова', 'пицца венчур', 'пицца гирос', 'пицца гирос, шаурма', 'пицца джэт', 'пицца дон тано', 'пицца и суши pomodoro', 'пицца и суши навынос', 'пицца лока', 'пицца лукка', 'пицца лэнд', 'пицца на вынос', 'пицца на дом', 'пицца паоло', 'пицца паоло и бенто wok', 'пицца пауло', 'пицца пацио', 'пицца пипони', 'пицца помодоро', 'пицца ресторантс', 'пицца суши', 'пицца суши «pomodoro»', 'пицца суши вок', 'пицца фабрика', 'пицца хат', 'пицца чили', 'пицца экспрес', 'пицца экспресс', 'пицца, суши', 'пицца-маркет «смайл пицца &роллы»', 'пицца-пи', 'пицца-фабрика', 'пиццаменто', 'пиццарня', 'пиццбургеr №1', 'пиццерия', 'пиццерия ii pittore', 'пиццерия ii pomodoro', 'пиццерия il marco', 'пиццерия pomodoro royal', 'пиццерия scrocchiarella', 'пиццерия vesuvio', 'пиццерия «dan cafe»', 'пиццерия «home pizza»', 'пиццерия «motsna pizza»', 'пиццерия «senza tutolo»', 'пиццерия «zotman»', 'пиццерия «академия»', 'пиццерия «алло пицца»', 'пиццерия «виват пицца»', 'пиццерия «джовани»', 'пиццерия «додо пицца»', 'пиццерия «додо»', \"пиццерия «домино'с пицца»\", 'пиццерия «лапинса»', 'пиццерия «папа джонс»', 'пиццерия «питто»', 'пиццерия «пицца паоло»', 'пиццерия «пицца стар»', 'пиццерия «пицца хат»', 'пиццерия «пицца хаус»', 'пиццерия «пиццбург»', 'пиццерия «сити пицца»', 'пиццерия «челентано»', 'пиццерия алеко', 'пиццерия дон-пиццерон', 'пиццерия донателло', 'пиццерия лагатта', 'пиццерия милано', 'пиццерия на вынос', 'пиццерия паоло', 'пиццерия папа джонс', 'пиццерия пинза', 'пиццерия пиу дель чибо', 'пиццерия престо', 'пиццерия роллофф', 'пиццерия тартелино', 'пиццерия томатино', 'пиццерия траттория uno', 'пиццерия хвост бобра', 'пиццетория', 'пищеблок ( закрытое)', 'пищеблок в хоровой академии', 'пищеблок при 4-ом роддоме', 'пищевой колледж загорье', 'планета боулинг', 'планета сибирь', 'планета суши', 'плескавица', 'плоffхана', 'плов', 'плов базар', 'плов самса', 'плов тут', 'плов хаус', 'плов-сити', 'плов.ком', 'пловаш', 'пловманты', 'пловная №1', 'пломбир', 'пломбир джелатерия', 'по щучьему велению', 'поварская лавка', 'погребок', 'под мухой', 'подмосковные вечера', 'подмосковный строитель', 'подозрительные лица', 'подсолнух', 'подъезд', 'поесть и поиграть', 'пожарный колледж 57', 'позитано', 'поке', 'поке хаус', 'поколение', 'покровские пекарни', 'полигон', 'полиграфический колледж 56', 'политех', 'политех № 2', 'полка', 'полковнику никто не пишет', 'поло-клаб', 'поль бейкери', 'поляков в.в.', 'полярная станция', 'поместье', 'помидор', 'поминальная трапеза', 'помодоро', 'понаели', 'пончики', 'пончиковая', 'пончиковая №1', 'пончиковое кафе икеа ikea', 'попкорн бар', 'пора по пицце', 'пороселло', 'порт', 'порт находка', 'порто', 'порто мальтеза', 'порто мальтезе', 'порто миконос', 'порто помодоро', 'последняя капля', 'пост скриптум', 'постскриптум «p.s»', 'почтмейстер', 'ппк пропиком', 'правdа кафе', 'правdа кофе', 'правда кафе', 'правда кофе', 'православный центр образования святителя николая чудотворца', 'прага', 'пражечка', 'праздник вкуса', 'прайм', 'прайм биф', 'прайм биф улица', 'прайм стар', 'прайм стар кафе', 'прайм-кафе', 'прайм-кафе прайм стар', 'праймбифбар', 'праймкафе прайм стар', 'праймстар', 'праймстар ресторантс групп', 'практика', 'пралине', 'праун бар', 'предприятие бысторого обслуживания восточная кухня «стамбул wood grill»', 'предприятие быстрого обслуживания', 'предприятие быстрого обслуживания «kfc»', 'предприятие быстрого обслуживания «бенто wok»', 'предприятие быстрого обслуживания «бургер кинг»', 'предприятие быстрого обслуживания «гриль хаус - мясо и овощи»', 'предприятие быстрого обслуживания «додо пицца»', \"предприятие быстрого обслуживания «домино'с пицца»\", 'предприятие быстрого обслуживания «донар кебаб»', 'предприятие быстрого обслуживания «донер бистро»', 'предприятие быстрого обслуживания «донеретт»', 'предприятие быстрого обслуживания «кофе с собой»', 'предприятие быстрого обслуживания «кофепит»', 'предприятие быстрого обслуживания «кофикс»', 'предприятие быстрого обслуживания «крошка картошка»', 'предприятие быстрого обслуживания «магбургер»', 'предприятие быстрого обслуживания «макдоналдс»', 'предприятие быстрого обслуживания «милти»', 'предприятие быстрого обслуживания «пицца в чертаново»', 'предприятие быстрого обслуживания «ресторанный дворик»', 'предприятие быстрого обслуживания «русъпай»', 'предприятие быстрого обслуживания «суши бар таку»', 'предприятие быстрого обслуживания «суши. пицца»', 'предприятие быстрого обслуживания «сушишоп»', 'предприятие быстрого обслуживания «теремок»', 'предприятие быстрого обслуживания «шаурма, куры-гриль, выпечка»', 'предприятие быстрого обслуживания «шаурма»', 'предприятие быстрого обслуживания при азс «кафе»', 'предприятие быстрого обслуживания при мойке «кафе»', 'предприятие быстрого питания', 'предприятие быстрого питания «вьетнамская кухня pho viet»', 'предприятие быстрого питания «крошка картошка»', 'предприятие быстрого питания «экодом»', 'президент-отель «лось»', 'премьер', 'премьер пицца', 'пресс-столовая', 'престо', 'префектура', 'при вечерней школе 148', 'при всероссийском учебном научно - методическом центре', 'при гимназии 1512', 'при железнодорожном колледже №52', 'при коледже индустрии гостеприимства и менеджмента №23', 'при колледже автоматизациии информационых технологий № 20', 'при медицинском училище № 19', 'при объединении лит', 'при школе 1028', 'при школе 1294', 'при школе 1349', 'при школе 1360', 'при школе 1389', 'при школе 1404', 'при школе 1452', 'при школе 36 вечерняя', 'при школе 362', 'при школе 363', 'при школе 365', 'при школе 374', 'при школе 382', 'при школе 386', 'при школе 390', 'при школе 402', 'при школе 404', 'при школе 407', 'при школе 634', 'при школе 781', 'при школе 810', 'при школе 813', 'при школе 891', 'при школе 892', 'привал', 'призма', 'примавера', 'примус', 'принц', 'принцесса', 'принцесса шоко', 'про гимназия 1753', 'про кафе', 'про мясо', 'про пельмени', 'про суши', 'пробка', 'пробка гриль', 'прованс', 'провинчи', 'прогимназия- 1728', 'прогноз погоды', 'прогресс', 'проект 6-2', 'прожарка', 'прожектор', 'производственная столовая кин', 'пролетарец', 'пронто', 'пропаганда', 'пропиком', 'проспект 9', 'проссеко', 'просто', 'простые вещи', 'профессор пуф', 'профинвест', 'профит', 'профсервис', 'профтесто', 'псарьки', 'психоневрологический интернат № 18', 'птицасиница', 'птицы и пчелы', 'птл 306 продцентр геркулес', 'пу 33', 'пу 45 «коп зил»', 'пу 53', 'пульсар', 'пунк питания', 'пункт общественного питания «шаурма»', 'пункт общественного питания без зала обслуживания пицца «паоло»', 'пункт общественного питания без зала обслуживания посетителей', 'пункт питания', 'пунш мастер', 'пур-пур', 'пури хачапури', 'пури-хачапури', 'путь каравана', 'пушкаревъ', 'пхада', 'пхали-лали', 'пшеница', 'пьяный дятел', 'пьяный енот', 'пьяный краб и счастливая курица', 'пян-се', 'пять звед менеджемент', 'пять звезд', 'пять пятниц', 'р. и м.', 'радость', 'радуга', 'радэа', 'разведка', 'развлекательный центр «semenov»', 'разгуляй', 'раиса захарна', 'рай', 'рай у фонтана', 'райсен', 'райская трапеза', 'райский дворик', 'райский пирожок', 'райский сад', 'райский уголок', 'ракия бар', 'раковарня', 'раковарня «иван раков»', 'раковая на анохина', 'раковая на усачева', 'рамен', 'рамен клаб', 'рамен клаб японская лапшичная', 'раменная', 'рамн', 'рандеву на сходненской', 'рандом кафе', 'ранний птах', 'рапс', 'распутин', 'рауше', 'рахимкулова т.х.', 'рахмилевич сахар', 'рачевня «поплавок»', 'рбоои «наш долг»', 'ребро адама', 'ребрышки и крылышки', 'ред 36', 'ред брик', 'ред кафе', 'ред-кафе', 'релакс плюс', 'ремесленная пекарня', 'репаст', 'репин', 'рестлайн', 'ресто групп', 'ресто клаб', 'ресто-бар платформа', 'ресто-буфет', 'рестобар 1-7', 'рестомаркет', 'рестора бса vip -клуб с «пресс-центром»', 'ресторан', 'ресторан ( закрытая)', 'ресторан (при гостинице «марриот сущёвский»)', 'ресторан - глобус', 'ресторан 4tuna caf&gri', 'ресторан 800 contemporary steak', 'ресторан boobo', 'ресторан brasserie lambic', 'ресторан brown bar', 'ресторан buba by sumosan', 'ресторан casa agave', 'ресторан dewars powerhouse', 'ресторан drunken duck pub', 'ресторан gabriel', 'ресторан grut', 'ресторан il fornetto', 'ресторан is ku', 'ресторан kfc', 'ресторан lafa', 'ресторан le restaurant', 'ресторан legend', 'ресторан magura asian bistro', 'ресторан name', 'ресторан paul', 'ресторан premer lounge', 'ресторан rfr', 'ресторан sillycat', 'ресторан stories', 'ресторан t.g.i. fraydas', 'ресторан tgi friday s', 'ресторан xiv', 'ресторан « 5 звезд»', 'ресторан « ла маре»', 'ресторан «2545»', 'ресторан «37.37»', 'ресторан «8 oz»', 'ресторан «abc kitchen»', 'ресторан «anton»', 'ресторан «assunta madre»', 'ресторан «bamboobar»', 'ресторан «bb burgers»', 'ресторан «bb grill»', 'ресторан «bbcafe»', 'ресторан «big»', 'ресторан «bix»', 'ресторан «bocconcino»', 'ресторан «boobo»', 'ресторан «bottarga»', 'ресторан «butler»', 'ресторан «carne»', \"ресторан «chef's kitchen by sodexo»\", 'ресторан «chicha»', 'ресторан «china club»', 'ресторан «choice. healthy social club»', 'ресторан «city voice»', 'ресторан «correas»', 'ресторан «cosmik»', 'ресторан «croydon»', 'ресторан «cutfish»', 'ресторан «cut»', 'ресторан «didi»', 'ресторан «dim sum & co»', 'ресторан «dream city»', 'ресторан «easy food»', 'ресторан «farrof palace»', 'ресторан «flat iron bar & roadhouse»', 'ресторан «florentini»', 'ресторан «forte bello»', 'ресторан «goodman»', 'ресторан «hite»', 'ресторан «humans seafood bar»', 'ресторан «hungry fox»', 'ресторан «i like bar»', 'ресторан «il canto»', 'ресторан «insight»', 'ресторан «kabuki»', 'ресторан «karas»', 'ресторан «kfc»', 'ресторан «khinka lee»', 'ресторан «kings»', 'ресторан «lao lee»', 'ресторан «larionov grill&bar»', 'ресторан «loft hall»', 'ресторан «lucky izakaya bar»', 'ресторан «lureme»', 'ресторан «maritozzo»', 'ресторан «max beef for money»', 'ресторан «mc traders»', 'ресторан «meat up»', 'ресторан «meat&fisht»', 'ресторан «meat&fish»', 'ресторан «mollusca»', 'ресторан «montifiori»', 'ресторан «montis friends»', 'ресторан «nегодники»', 'ресторан «osteria mario»', 'ресторан «panorama 360»', 'ресторан «pesto»', 'ресторан «pho bo»', 'ресторан «pilsner»', 'ресторан «plum»', 'ресторан «ra family»', 'ресторан «radeberger»', 'ресторан «real authentic wine salon»', 'ресторан «remi kiеchen»', 'ресторан «remy kitchen bakery»', 'ресторан «repablic»', 'ресторан «river side»', 'ресторан «ruski»', 'ресторан «sabor de la vida»', 'ресторан «sal.u.meria»', 'ресторан «saltenas»', 'ресторан «sbarro»', 'ресторан «scrocchiarella на никитском»', 'ресторан «selfie»', 'ресторан «shelbybar»', 'ресторан «shiba»', 'ресторан «sixty»', 'ресторан «sono vino»', 'ресторан «steak it easy»', 'ресторан «sun and moon»', 'ресторан «terraneo»', 'ресторан «tgi fridays»', 'ресторан «the toy»', 'ресторан «truecost»', 'ресторан «tutto bene»', 'ресторан «ugolёk»', 'ресторан «verde»', 'ресторан «viet cafe»', 'ресторан «yaffa»', 'ресторан «zafferano»', 'ресторан «zotman pizza pie»', 'ресторан «авиатор»', 'ресторан «аист»', 'ресторан «аллегро»', 'ресторан «альфа»', 'ресторан «арго»', 'ресторан «архитектор»', 'ресторан «атмосфера»', 'ресторан «ауру»', 'ресторан «баварская кухня»', 'ресторан «бакинская жемчужина»', 'ресторан «бакинский бульвар»', 'ресторан «бакинский дворик»', 'ресторан «балзи росси»', 'ресторан «белл паб»', 'ресторан «белладжио»', 'ресторан «белые журавли»', 'ресторан «белый город»', 'ресторан «белый дом»', 'ресторан «бета»', 'ресторан «биджо»', 'ресторан «бизон» «мареа»', 'ресторан «бирхоф»', 'ресторан «бирштрассе»', 'ресторан «бистро»', 'ресторан «бони мария»', 'ресторан «борисовский пассаж»', 'ресторан «бостон»', 'ресторан «боттега сицилиана»', 'ресторан «бочка»', 'ресторан «боэми»', 'ресторан «боярский»', 'ресторан «брудер»', 'ресторан «буйабез»', 'ресторан «бульвар»', 'ресторан «бургер кинг»', 'ресторан «бэлла паста»', 'ресторан «в старом городе»', 'ресторан «вареничная №1»', 'ресторан «варшавский»', 'ресторан «вдохновенье»', 'ресторан «вега»', 'ресторан «велюте» в бц «ртс»', 'ресторан «веранда 32.05»', 'ресторан «вечерний баку»', 'ресторан «виа романо», «йоркшир»', 'ресторан «винный рынок»', 'ресторан «винотема»', 'ресторан «винтаж»', 'ресторан «виттория»', 'ресторан «водопад»', 'ресторан «воробьи»', 'ресторан «восточный уют»', 'ресторан «вояж»', 'ресторан «вьеткафе»', 'ресторан «галерея»', 'ресторан «гандара»', 'ресторан «гастробар»', 'ресторан «гогиели»', 'ресторан «голос»', 'ресторан «гранатовый сад»', 'ресторан «грано»', 'ресторан «граф орлов»', 'ресторан «гриль и вино»', 'ресторан «гроссбир»', 'ресторан «грузин»', 'ресторан «грузинская кухня»', 'ресторан «губернаторский»', 'ресторан «гулиани', 'ресторан «гуси лебеди»', 'ресторан «де пари»', 'ресторан «дед пихто»', 'ресторан «джардино да пино»', 'ресторан «джон джоли»', 'ресторан «джон сильвер»', 'ресторан «джорджия»', 'ресторан «дичь»', 'ресторан «днк»', 'ресторан «добрыня»', 'ресторан «дом на патриарших»', 'ресторан «домжур»', \"ресторан «домино'с пицца»\", 'ресторан «дон»', 'ресторан «донна клара»', 'ресторан «донна маргарита»', 'ресторан «дружба»', 'ресторан «дюжина»', 'ресторан «дядюшка хо»', 'ресторан «ерш»', 'ресторан «жи - есть»', 'ресторан «заварка»', 'ресторан «заречье»', 'ресторан «золотая вобла»', 'ресторан «золотое время»', 'ресторан «золотые пруды»', 'ресторан «зоо»', 'ресторан «измайловский двор»', 'ресторан «измайловский»', 'ресторан «иль асадор»', 'ресторан «иль патио»', 'ресторан «илья муромец»', 'ресторан «императорский зал»', 'ресторан «империя»', 'ресторан «ист-вест»', 'ресторан «кабанчик»', 'ресторан «кабоб»', 'ресторан «казбек»', 'ресторан «калинка»', 'ресторан «караоке»', 'ресторан «квак2»', 'ресторан «кеци»', 'ресторан «китайские новости»', 'ресторан «китайский самовар»', 'ресторан «клюква»', 'ресторан «колбасофф»', 'ресторан «колизей холл»', 'ресторан «коралл»', 'ресторан «корчма тарас бульба»', 'ресторан «корё»', 'ресторан «космик»', 'ресторан «крафт, лофт и компот»', 'ресторан «кувшин»', 'ресторан «кузьминки»', 'ресторан «кухня полли»', 'ресторан «ла делициа»', 'ресторан «лайт тач»', 'ресторан «ламази»', 'ресторан «лебединое озеро»', 'ресторан «лед и пламя»', 'ресторан «леман»', 'ресторан «линкольн»', 'ресторан «лук кафе»', 'ресторан «люкс»', 'ресторан «ля таверна»', 'ресторан «макдоналдс»', 'ресторан «макото»', 'ресторан «манана»', 'ресторан «марри иванна»', 'ресторан «марта марио»', 'ресторан «марукамэ»', 'ресторан «маяк»', 'ресторан «минсон»', 'ресторан «мистер хинкали»', 'ресторан «михаил светлов»', 'ресторан «молли гвинз»', 'ресторан «молон лаве»', 'ресторан «монте кристо»', 'ресторан «москва-дели»', 'ресторан «москвовский»', 'ресторан «мтиели»', 'ресторан «на свежем воздухе»', 'ресторан «нар шараб»', 'ресторан «наршараб»', 'ресторан «никита»', 'ресторан «никуда не едем» , «квартира»', 'ресторан «новый свет»', 'ресторан «ньокки»', 'ресторан «особое место»', 'ресторан «охота мяса»', 'ресторан «очаг гурманов»', 'ресторан «палаццо дукале»', 'ресторан «пальмира»', 'ресторан «панорама»', 'ресторан «паприколли»', 'ресторан «парк кафе»', 'ресторан «патара»', 'ресторан «пекин»', 'ресторан «персия»', 'ресторан «пивной дворик»', 'ресторан «пивнушка»', 'ресторан «пикканте»', 'ресторан «пикколо диаболо»', 'ресторан «пикник на обочине»', 'ресторан «пицца хат»', 'ресторан «планета космос»', 'ресторан «планета суши»', 'ресторан «посейдон»', 'ресторан «прай тайм»', 'ресторан «практика by darvin»', 'ресторан «премьер-спорт»', 'ресторан «пронто»', 'ресторан «пьяный краб и счастливая курица»', 'ресторан «пяток»', 'ресторан «райon»', 'ресторан «раковарня»', 'ресторан «ресторан на шаболовке»', 'ресторан «русский паб»', 'ресторан «русский»', 'ресторан «сайгон»', 'ресторан «сайзен»', 'ресторан «саксон и пароль»', 'ресторан «салют»', 'ресторан «сандуновские бани»', 'ресторан «сандык»', 'ресторан «сафиса»', 'ресторан «сахара»', 'ресторан «сванетти»', 'ресторан «своя компания»', 'ресторан «сибирь»', 'ресторан «сим-сити»', 'ресторан «сказка»', 'ресторан «скай вью»', 'ресторан «скай клуб»', 'ресторан «славия»', 'ресторан «созвездие»', 'ресторан «старый дворик»', 'ресторан «старый дуб»', 'ресторан «старый фаэтон»', 'ресторан «столичный вкус»', 'ресторан «столовая при консерватории»', 'ресторан «субботица»', 'ресторан «султан»', 'ресторан «суфле» при гостинице', 'ресторан «суши make»', 'ресторан «счастливая щука»', 'ресторан «сытый лось»', 'ресторан «сэнкчуэри»', 'ресторан «тандыр»', 'ресторан «тануки»', 'ресторан «тапас марбелья»', 'ресторан «тапчан»', 'ресторан «твин пигс»', 'ресторан «телега»', 'ресторан «темпл бар»', 'ресторан «теремок»', 'ресторан «территория»', 'ресторан «тики бар»', 'ресторан «токио»', 'ресторан «топаз»', 'ресторан «трио»', 'ресторан «тройка»', 'ресторан «тропарево»', 'ресторан «турист»', 'ресторан «тэсти»', 'ресторан «урюк»', 'ресторан «усадьба»', 'ресторан «фокачерия»', 'ресторан «фрау шнапсбир»', 'ресторан «фьюжен плаза»', 'ресторан «фьюжн плаза»', 'ресторан «хеппиэнд»', 'ресторан «хинкали. вино. мимино»', 'ресторан «хинкальная»', 'ресторан «хлеб и вино»', 'ресторан «хруст»', 'ресторан «хуанхэ»', 'ресторан «худжурао»', 'ресторан «хэ цзин»', 'ресторан «царьград»', 'ресторан «цветение сакуры»', 'ресторан «цдт»', 'ресторан «цирк на трехгорке»', 'ресторан «цыцыла»', 'ресторан «чайка»', 'ресторан «чайхана', 'ресторан «чайхана томанно»', 'ресторан «чайхана урюк»', 'ресторан «чайхана»', 'ресторан «чайхона №1»', 'ресторан «черный бык»', 'ресторан «шагал»', 'ресторан «шах кебаб»', 'ресторан «шахин шах»', 'ресторан «шестнадцать тонн»', 'ресторан «шехерезада»', 'ресторан «шинок»', 'ресторан «шурочка»', 'ресторан «экспомил»', 'ресторан «эль гаучо»', 'ресторан «эрмитаж»', 'ресторан «юджунг»', 'ресторан «южная ночь»', 'ресторан «южное китайское море»', 'ресторан «якитория»', 'ресторан «якуми»', 'ресторан «ян примус»', 'ресторан «япоша»', 'ресторан «ёрш»', 'ресторан автограф', 'ресторан ай дабаран', 'ресторан акапелла', 'ресторан алазанская долина', 'ресторан александр', 'ресторан аэроплаза', 'ресторан базара нет', 'ресторан баку-сити', 'ресторан балчуг гриль гостиницы балчуг', 'ресторан банкетного обслуживания', 'ресторан березка', 'ресторан боломут', 'ресторан быстрого питания kfc', 'ресторан быстрого питания «клюква»', 'ресторан быстрого питания «крошка картошка»', 'ресторан в гостинице «азимут»', 'ресторан в отеле «best seasons»', 'ресторан вегас', 'ресторан венеция', 'ресторан веранда', 'ресторан вереск', 'ресторан весна', 'ресторан виноградник', 'ресторан воробьевы горы', 'ресторан вояж', 'ресторан все свое', 'ресторан вьетнамской кухни «вкус вьет»', 'ресторан вьетнамской кухни гао', 'ресторан география', 'ресторан гостиницы «даниловская»', 'ресторан гостиницы «татьяна»', 'ресторан гуава', 'ресторан гудман', 'ресторан две палочки', 'ресторан джеронимо', 'ресторан джон джоли', 'ресторан доминос', 'ресторан дэтоль', 'ресторан зеленое яблоко', 'ресторан золберг', 'ресторан золотая роща', 'ресторан и бар «teika boom»', 'ресторан икеа ikea', 'ресторан ип кантария', 'ресторан калужская застава', 'ресторан караоке импровизация', 'ресторан карлсон', 'ресторан кимчи', 'ресторан китайской кухни «хао и»', 'ресторан континенталь', 'ресторан корпоративного питания', 'ресторан купец', 'ресторан кфс', 'ресторан ледо', 'ресторан луизиана', 'ресторан маки-маки', 'ресторан миш мэш', 'ресторан мой двор', 'ресторан море мяса', 'ресторан московский', 'ресторан на болотном', 'ресторан новая москва', 'ресторан ночной дворик', 'ресторан ночной клуб vegas', 'ресторан панч энд джуди', 'ресторан патэ', 'ресторан планета суши иль патио', 'ресторан при гостинице «на смирновской 25»', 'ресторан при гостинице «университетсткая»', 'ресторан при гостинице катерина', 'ресторан при курорте красная пахра', 'ресторан при московском гольф клубе', 'ресторан руставелли', 'ресторан северная кухня бёрн', 'ресторан сеул', 'ресторан столичный вкус', 'ресторан сычуань', 'ресторан тануки', 'ресторан таун хаус', 'ресторан тверской', 'ресторан теремок', 'ресторан терраса', 'ресторан токио сити', 'ресторан торро гриль', 'ресторан фаzенда', 'ресторан фреш сити', 'ресторан хан канг', 'ресторан хинкальная', 'ресторан холидей инн', 'ресторан царская кухня', 'ресторан черрето море', 'ресторан эридан', 'ресторан ян примус', 'ресторан японской кухни «маки-маки»', 'ресторан ярославский', 'ресторан, бар «мандарин»', 'ресторан-бар, ночной клуб «адмирал»', 'ресторан-бар, ночной клуб «сказка»', 'ресторан-клуб «ананас»', 'ресторан«most lounge bar»', 'ресторан«uilliams»', 'ресторан«вьеткафе»', 'ресторан«макдоналдс»', 'ресторани «самми»', 'ресторанный дворик «рублев»', 'ресторанный дом flash royal', 'ресторантс-сервис', 'ресторация боско', 'рестран perfect', 'ретро', 'ретро-кафе', 'рецептор', 'речники-19', 'ржавый флюгер', 'риальто', 'ривер', 'ривер клаб москов', 'риверсайд', 'рика', 'рико', 'римини', 'римон', 'римская пицца', 'ринко-сервис', 'рио грандэ', 'риоба', 'рис варись', 'рис и фиш', 'ритм блюз кафе', 'ритм и вкус', 'риф', 'рихтер', 'рнии космического приборостроения', 'рно', 'роаст китчен', 'роддом 17 пищеблок', 'родина', 'родник', 'родные люди', 'роза ветров', 'розетка и кофе', 'розмарин', 'рой кастл', 'рок-бар «безумий»', 'рок-кафе', 'рок-н-ролл, martinez bar', 'роллофф', 'рома', 'романов', 'романтика', 'ромбус', 'рони', 'рос ноу', 'росинтер ресторантс', 'росинтер-ресторантс', 'роснефть', 'роснефть (закрытое)', 'росс', 'российская академия народного хозяйства и государственной службы при презеденте российской федерации', 'россичъ', 'россо энд бьянко', 'ростик', 'ростикс kfc', 'ростов папа гастро бар', 'ротекс', 'ротонда', 'роут 66', 'роял', 'ррг-бар', 'рс петровский', 'рск миг столовая', 'рти-финанс', 'рубим бургер', 'рубин', 'ружена', 'руккола', 'рум сервис', 'румор', 'рус сервис', 'русагрохолдинг', 'руспицца', 'русская кухня', 'русская охота', 'русская трапеза', 'русские обеды', 'русские сезоны', 'русский', 'русский аппетит', 'русский колос', 'русский маффин', 'русский погребок', 'русское подворье', 'рыба & мясо на углях', 'рыба есть', 'рыба мечты', 'рыба моя', 'рыбное место', 'рыбный базар', 'рыбы нет', 'рыжая борода', 'рыжая куница', 'рынрадо', 'рэдимэйд', 'рэдимэйд групп', 'рюмка водки', 'рюмка пива', 'рюмочная', 'рюмочная «зинзивер»', 'рюмочная бухучет', 'рязанский проспект', 'рёберная на усачевской', 'с акцентом', 'с любовью грузия', 'с утра', 'сherry coffee', 'сoffeekraft', 'саамо', 'сабвей', 'сабвей subway', 'сабвей сушивок', 'сабвэй', 'саби', 'сабкафе', 'сабрина', 'савеловский парк', 'савинков игорь юрьевич', 'савой', 'садко', 'садовое кольцо', 'сажа', 'сайгон', 'сайда лтд', 'сайкло', 'салам алейкум', 'саламури', 'салат бар', 'салат-бар eva', 'салаты', 'салаты выпечка', 'салли о брайенс', 'сам пришел', 'сам-ам', 'самарканд', 'самарканд-сити', 'самналей', 'самобранка', 'самовар', 'самокат-кэттеринг', 'самородинов сергей александрович', 'самса', 'самса 24', 'самса гриль шаурма 24 от души', 'самса хаус', 'самса № 1', 'самса № 3', 'самсахана', 'сан-диего', 'сан-саныч', 'санапиро караоке', 'сандал', 'сандвик-мктс', 'саперави', 'сапфир 1', 'сармат', 'сасс', 'сатва', 'сатурн - шбс 3', 'сатурн-шб-3', 'сатурн-шбс-3 спец. коррек. общеобраз.школа-интернат vi вида', 'сатурн-шбс-3 столовая гимназии 1596', 'сатурн-шбс-3 столовая школы 1014', 'сатурн-шбс-3 столовая школы 1015', 'сатурн-шбс-3 столовая школы 1018', 'сатурн-шбс-3 столовая школы 1238', 'сатурн-шбс-3 столовая школы 1376', 'сатурн-шбс-3 столовая школы 1432', 'сатурн-шбс-3 столовая школы 1437', 'сатурн-шбс-3 столовая школы 1455', 'сатурн-шбс-3 столовая школы 1467', 'сатурн-шбс-3 столовая школы №1238', 'сатурн-шбс-3 столовая школы №1437', 'сафиуллина с.с.', 'сахалин', 'сахар', 'сахар. кафе-ресторан', 'сахара', 'сахли', 'саяны', 'саят нова', 'сбарро', 'сбыт-р', 'сварня', 'свежевыжатые соки', 'светлана', 'светлый', 'светское кафе', 'свинья и роза', 'свобода', 'свобода бар', 'свои', 'свой ключ', 'своя тема', 'свояк', 'севгелим', 'север', 'север-юг', 'сегодня мидии', 'сегодня суши', 'седьмой элемент', 'сезам', 'сезам чайхана', 'сезоны', 'сейджи', 'сейм', 'секретное место', 'селдасъел', 'сели поели', 'сели-поели', 'селфипицца', 'семейная кондитерская «beze»', 'семейное антикафе белый кролик', 'семейное кафе', 'семейное кафе «polianto»', 'семейное кафе андерсон', 'семейное кафе и кондитерская «андерсон»', 'семейное кафе счастье есть', 'семейное кафе ути-пути', 'семейный очаг', 'семейный ресторан «космик»', 'семифредо', 'семь красавиц', 'семь летучих рыб', 'семь пятниц', 'сенси кафе', 'сербская мясара', 'сердолик-ю', 'серебряный век', 'сесто сенсо', 'сестры', 'сеть магазинов «суши wok»', 'сеть пекарен трдельник', 'сеул', 'сибилла', 'сибириада', 'сибирская корона', 'сибирская кухня «некрайний север»', 'сибирь сибирь', 'сижу курю', 'сикварули', 'сильвер панда', 'симпл', 'син-чао', 'синамон', 'сингапур', 'синдбад', 'синдикат 2016', 'синий медведь', 'синкопа', 'синнабон', 'синяя река', 'сирена', 'сирень', 'система бит 2000', 'систерс', 'сити', 'сити гриль шаурма', 'сити кафе', 'сити кафе сова', 'сити лайф', 'сити лайф-голден гейт', 'сити пицца', 'сити ресторантс', 'сиэль', 'сказка', 'сказка бутово', 'сказка востока', 'сказочный двор', 'скай кальян-бар', 'скай кофе', 'скалка', 'скатиерть самобранка', 'скуратов кофе', 'слава', 'славянпродукт', 'сладкая вата', 'сладкая вата, попкорн', 'сладкое нескладкое', 'сладкомания', 'сладости и радости', 'следующая станция сокол', 'слепой пью', 'сливки', 'сливки гурмэ', 'сливки и общество', 'сло россия', 'служебная столовая', 'служебное кафе', 'служебный буфет', 'смайл', 'смак фуд корт', 'сметана', 'смог бургер', 'смок хаус', 'смок-1', 'смокпоинт', 'смородина', 'сму-15 «метрострой»', 'смузи бар', 'смузи бар уголок полезные продукты', 'смузи&хлеб', 'смузи-бар «ешь фрукт»', 'снэм', 'со своим', 'со-со', 'сова', 'совет в филях', 'советская столовая «печки-лавочки»', 'советские времена', 'советские времена чебуречная ссср', 'советские пончики', 'современная гуманитарная академия', 'современные пищевые технологии', 'содексо евроазия', 'сок', 'сок ооо автокомбинат 3', 'соки', 'соки, выпечка', 'сокол', 'соколиная охота', 'сол', 'солнечный очаг', 'солнце в тарелке', 'солнце плаза', 'солнцевский замок', 'соло', 'соло караоке клуб', 'соломка', 'соль', 'соль и мясо', 'соль и перец', 'сольфасоль', 'солюкс клаб', 'солёная карамель', 'сомбреро', 'сон менделеева', 'сонг', 'сопрано караоке', 'соседи', 'сосны', 'соти эл', 'сотниченко е.а', 'сотоловая академия экономики и права', 'софра', 'сохо-румс', 'соц-психологическ. институт «коп зил»', 'соцбытсервис', 'социальное питание центр', 'союз вкуса', 'сп «рольф»', 'спасский', 'спб', 'спектр', 'спеттаколо', 'спецбуфет 1 «а»', 'спецбуфет 7', 'специализированный цех вито-1', 'специализированный цех магнолия', 'специальная коррекционная общеобр школ. инт 8 105', 'спорт бар', 'спорт бар групп', 'спорт-бар', 'спорт-бар «допинг»', 'спорт-бар «космик»', 'спорт-бар «торнадо»', 'спорт-бар «фортуна»', 'спорт-бар гладиатор', 'спорт-бар империя', 'спорт-имидж', 'спорт-кафе', 'спортбар', 'спортбар №1', 'спортивно-оздоровительный центр мэи', 'среда', 'ссср столовая', 'ст', 'ст шк.176«школьник-юз»', 'ст шк.2013 «школьник-юз»', 'ст.цо 170 школьник-юз', 'ст.шк. 1104 «школьник-юз»', 'ст.шк. 1273 «школьник-юз»', 'ст.шк.103 «школьник-юз»', 'ст.шк.1086 «школьник-юз»', 'ст.шк.113 «школьник-юз»', 'ст.шк.1405 рус.бал.«школьник»', 'ст.шк.17 «школьник-юз»', 'ст.шк.20 «школьник-юз»', 'ст.шк.49«школьник-юз»', 'ст.шк.793 «школьник-юз»', 'ст.шк.863 «школьник.юз»', 'ст.шк49 «школьник-юз»', 'ст.шк791«школьник-юз»', 'стадион спартаковец', 'сталовая «фазанчик»', 'стамбул', 'станция савеловская', 'стар догс', 'стара юга', 'старая башня', 'старая гавань', 'старая европа', 'старая мансарда', 'старая усадьба', 'старбагс', 'старбакс', 'старбакс starbucks', 'старбакс кофе', 'стардаст кофе-кофе с собой', 'стардогs', 'стардогs и шаурма', 'стардогс', 'стардогс стардогs', 'старик и море', 'старик кутабыч', 'старина миллер', 'старина мюллер старина миллер', 'стархит кафе', 'старый баку', 'старый батумъ', 'старый город', 'старый дворик', 'старый егерь', 'старый сычуань', 'старый ханой', 'старый чинар', 'статус', 'статус м', 'стейк и пинта', 'стейк хаус «бизон»', 'стейк хаус гудман', 'стейк-хаус гудман', 'стейкс', 'стейкхаус «бизон»', 'стендап', 'стерео пипл', 'стиль', 'стильавто', 'стой и свети', 'стол. 3-го автобусного парка', 'стол. при гимназии № 1573', 'стол. при го сош № 219', 'стол. при го цо № 166', 'стол. при го цо №1430', 'стол. при гоу сош № 1051', 'стол. при гоу сош № 1416', 'стол. при гоу сош № 655', 'стол. при гоу сош №. 266', 'стол. при гоу сош №1122', 'стол. при гоу сош №206', 'стол. при прогимназии № 1819', 'стол. при шк. 1370', 'стол. при шк. 305', 'стол. при шк. 967', 'стол. при шк. гоу сош №1449', 'стол. шк. 1213', 'стол. шк. 1454', 'стол. шк. 163', 'стол. шк. 216', 'стол. шк. 218', 'стол. шк. 929', 'стол. шк.207', 'стол.шк.1121гуп«школьное питание»', 'стол.шк.1983гуп «школьное питание»', 'стол.шк.244 кшп«логарифм»', 'стол.шк.272 кшп«логарифм»', 'стол.шк.885', 'стол.шк.n183 гуп«школьное питание»', 'стол.шк.n208 гуп«школьное питание»', 'стол.шк.n656 кшп«логарифм»', 'стол.шк.n849 гуп«школьное питание»', 'стол.школы 1592 кшп «логарифм»', 'столешников', 'столица', 'столичное бистро', 'столичное питание', 'столичные аптеки', 'столичные чебуреки', 'столичный донер', 'столичный паб', 'столова «гбоу школа №852»', 'столова молмаш', 'столовая', 'столовая ( асоу)', 'столовая (автосалон)', 'столовая (гбоу «школа № 281»)', 'столовая (гбоу «школа №1095»)', 'столовая (гбоу «школа №1558 имени росалии де кастро»)', 'столовая (гбоу «школа №1558имени росалии де кастро»)', 'столовая (гбоу «школа №281»)', 'столовая (гбпоу «1-ый мок»)', 'столовая (закрытое)', 'столовая (налоговая)', 'столовая (университет им. косыгина)', 'столовая - буфет при цатра', 'столовая - гум карачарово', 'столовая - доготовочная при гоу лицей 1568', 'столовая - кантинасити', 'столовая - ргау-мсха им. к.а. тимирязева', 'столовая 1-й этаж фгуп ттц «останкино»', 'столовая 11 комбинат питания мгу', 'столовая 1350', 'столовая 1404', 'столовая 1420-1', 'столовая 16 при рудн', 'столовая 16-й корпус', 'столовая 18 оро мосвоенторг', 'столовая 1908', 'столовая 1909', 'столовая 1922', 'столовая 1935', 'столовая 1937', 'столовая 1а', 'столовая 2 этаж фгуп ртрс', 'столовая 24 часа', 'столовая 326', 'столовая 328', 'столовая 355', 'столовая 5', 'столовая 5 комбинат питания при мгу', 'столовая 8', 'столовая 894', 'столовая 895', 'столовая arcus', 'столовая good meal', 'столовая le cafe', 'столовая mfc foods', 'столовая n 17 при нии автоматики', 'столовая pro', 'столовая «arcus bar and food»', 'столовая «cafetera»', 'столовая «cantina city»', 'столовая «just kitchen»', 'столовая «анокпумгкэит»', 'столовая «апельсин»', 'столовая «аркада»', 'столовая «арт-столовая»', 'столовая «буфет&обед»', 'столовая «ватрушка»', 'столовая «вижн»', 'столовая «вкусно поесть»', 'столовая «вниихт»', 'столовая «гала пицца»', 'столовая «гбоу гимназия №1528»', 'столовая «гбоу сош 1158»', 'столовая «гбоу сош 1179»', 'столовая «гбоу сош 1623»', 'столовая «гбоу сош 851»', 'столовая «гбоу сош 856»', 'столовая «гбоу спо технологический колледж №34 сп №3»', 'столовая «гбоу школа № 1692»', 'столовая «гбоу школа №1692»', 'столовая «гбоу школа №718»', 'столовая «гбоу школа №852»', 'столовая «гбоу школа №853»', 'столовая «гимназия № 1593»', 'столовая «гкб им. с.п. боткина»', 'столовая «го сош № 1133»', 'столовая «го сош № 1371»', 'столовая «го сош № 63»', 'столовая «го сош № 713»', 'столовая «гостиница мзп»', 'столовая «гоу сош № 1127»', 'столовая «гоу сош № 2017 кдп»', 'столовая «гоу сош №1718»', 'столовая «гоу сош №1748»', 'столовая «гоу сош №1749»', 'столовая «гоу сош №2033»', 'столовая «гоу сош №343»', 'столовая «гоу сош №349»', 'столовая «гоу сош №360»', 'столовая «гоу сош №399»', 'столовая «гоу сош №619»', 'столовая «гоу сош №708»', 'столовая «гоу спо политехнический колледж № 31»', 'столовая «грабли»', 'столовая «гринлондон»', 'столовая «гуп орс метрополитен»', 'столовая «дежене»', 'столовая «диетическая столовая комбината питания космос»', 'столовая «ешка»', 'столовая «жить веселей»', 'столовая «иноти»', 'столовая «кантина»', 'столовая «кастрюлька»', 'столовая «колледж 32»', 'столовая «колледж №20»', 'столовая «комбинат питания космос»', 'столовая «комбинат питания цб рф»', 'столовая «компотик»', 'столовая «коникс школьник»', 'столовая «коникс-школьник»', 'столовая «кп хлебосол»', 'столовая «ланч холл»', 'столовая «леметр фск»', 'столовая «лицей 1151 кдп»', 'столовая «мгавт»', 'столовая «мгюа им. кутафина»', 'столовая «миг»', 'столовая «мосинжстрой»', 'столовая «московская международная киношкола»', 'столовая «московский индустриальный банк»', 'столовая «московский психолого-педагогический колледж»', 'столовая «московский школьник»', 'столовая «мпо металлист»', 'столовая «нии стали»', 'столовая «норма»', 'столовая «ооо вито-1»', 'столовая «оп мгу кп мгу столовая 12»', 'столовая «педагогический институт»', 'столовая «полисервис-мзп»', 'столовая «потенциал»', 'столовая «правда»', 'столовая «примус»', 'столовая «прогимназия №1520»', 'столовая «протон»', 'столовая «профессиональный лицей 313»', 'столовая «рабочая»', 'столовая «рестлайн-север»', 'столовая «свет»', 'столовая «славянская трапеза»', 'столовая «сова»', 'столовая «союз»', 'столовая «спецмонтажмеханизация»', 'столовая «спорткомплекс борисово»', 'столовая «столовая при гпз - 3»', 'столовая «столовая №3 при гкнпц им.хруничева м.в»', 'столовая «столовая №5 оооп мгту банка россии»', 'столовая «столовая»', 'столовая «тарелка»', 'столовая «текстильная академия»', 'столовая «торг. оборуд. и инвентарь»', 'столовая «тринта»', 'столовая «у иваныча»', 'столовая «увд»', 'столовая «университет дружбы народов»', 'столовая «фламинго»', 'столовая «фуд про»', 'столовая «хлебозавод-28»', 'столовая «центра социальной защиты»', 'столовая «цо «чертаново» спорт-школа»', 'столовая «цо № 1130»', 'столовая «цо № 1440»', 'столовая «цо № 1471»', 'столовая «цо №1450 «комбинат дошкольного питания»', 'столовая «школа 1263»', 'столовая «школа 1580 кдп»', 'столовая «школа 166»', 'столовая «школа 2000 кдп»', 'столовая «школа 566»', 'столовая «школа 630»', 'столовая «школа 639»', 'столовая «школа 981 кдп»', 'столовая «школа 982 кдп»', 'столовая «школа 983 кдп»', 'столовая «школьная»', 'столовая «щи-борщи', 'столовая «элма»', 'столовая автокомбинат луч', 'столовая автокомбината', 'столовая академии мчс россии', 'столовая академии федеральной пограничной службы россии', 'столовая альянс', 'столовая ао «ркоф»', 'столовая ао госниип', 'столовая бабурова и.н.', 'столовая баловень', 'столовая бирпарк (малышев в.а.)', 'столовая бц «ультрамарин»', 'столовая бц интеграл', 'столовая в акадо телеком', 'столовая в бц «аннино плаза»', 'столовая в бц «южный парк»', 'столовая в гбуз мо моники им. м.ф. владимирского', 'столовая в деловом центре яуза', 'столовая в медицинской академии им. и.м. сеченова', 'столовая в префектуре', 'столовая в тд перовский', 'столовая в тоц олимпик плаза', 'столовая в школе 1150 корп.1609', 'столовая в школе 1150 корп.1632 (ранее школа 1913)', 'столовая в школе 1150 корп.1642 (ранее школа 1940)', 'столовая в школе 1151 корп.1464 (ранее школа 1149)', 'столовая в школе 1151 корп.1468', 'столовая в школе 1151 корп.1469', 'столовая в школе 1194', 'столовая в школе 1194 корп.1530 (ранее школа1740)', 'столовая в школе 1194 корп.1548 (ранее увк 1639)', 'столовая в школе 1739', 'столовая в школе 1912 корп. 1816', 'столовая в школе 1912 ул.2 пятилетка д.18а (ранее школа 229)', 'столовая в школе 2045 корп. 2312', 'столовая в школе 2045 корп.1440 (ранее школа 1702)', 'столовая в школе 2045 корп.1611 (ранее увк 1762)', 'столовая в школе 2045 корп.2011 (ранее школа 2038)', 'столовая в школе № 449', 'столовая в элит кроус', 'столовая вгтрк', 'столовая вниинефть', 'столовая вниси', 'столовая время еды', 'столовая высшей школы экономики', 'столовая вэи им.ленина', 'столовая гаоу во мгпу', 'столовая гаудо «домисолька»', 'столовая гбоу 45 гимназия имени л.и. мильграмма', 'столовая гбоу «курчатовская школа»', 'столовая гбоу «немецкая школа № 1212»', 'столовая гбоу впо мгпу института естествознаний и спортивных технологий', 'столовая гбоу гимназия № 1552', 'столовая гбоу города москвы № 1195', 'столовая гбоу города москвы № 1400', 'столовая гбоу города москвы № 384', 'столовая гбоу города москвы № 391', 'столовая гбоу города москвы № 587', 'столовая гбоу города москвы № 809', 'столовая гбоу коррекционная средняя общеобразовательная школа 4 вида № 418', 'столовая гбоу курчатовская школа', 'столовая гбоу прогимназия № 1736', 'столовая гбоу сош 991 2', 'столовая гбоу сош № 1190', 'столовая гбоу сош № 1191', 'столовая гбоу сош № 1286', 'столовая гбоу сош № 1358', 'столовая гбоу сош № 1538', 'столовая гбоу сош № 1544', 'столовая гбоу сош № 1564', 'столовая гбоу сош № 1571', 'столовая гбоу сош № 1747', 'столовая гбоу сош № 1900', 'столовая гбоу сош № 1944', 'столовая гбоу сош № 534', 'столовая гбоу сош № 827', 'столовая гбоу сош № 871', 'столовая гбоу сош № 883', 'столовая гбоу сош № 893', 'столовая гбоу сош № 945', 'столовая гбоу сош № 980', 'столовая гбоу сош № 985', 'столовая гбоу сош № 995', 'столовая гбоу сош №1286', 'столовая гбоу сош №1399', 'столовая гбоу сош №1571', 'столовая гбоу сош №1651', 'столовая гбоу сош №827', 'столовая гбоу сош №833', 'столовая гбоу сош №883', 'столовая гбоу цо № 1433', 'столовая гбоу цо № 936', 'столовая гбоу цо № 943 «школа здоровья»', 'столовая гбоу школа № 109', 'столовая гбоу школа № 1101 здание 1.1', 'столовая гбоу школа № 1101 здание 1.3', 'столовая гбоу школа № 1101 здание 2.1', 'столовая гбоу школа № 1298', 'столовая гбоу школа № 1373', 'столовая гбоу школа № 138', 'столовая гбоу школа № 1387', 'столовая гбоу школа № 1476', 'столовая гбоу школа № 1502 при мэи', 'столовая гбоу школа № 1504', 'столовая гбоу школа № 1507 корпус школьного образования № 1507', 'столовая гбоу школа № 1507 корпус школьного образования № 865', 'столовая гбоу школа № 1507 корпус школьного образования № 930', 'столовая гбоу школа № 1515', 'столовая гбоу школа № 1517', 'столовая гбоу школа № 1522 имени в.и.чуркина', 'столовая гбоу школа № 1532 здание 1', 'столовая гбоу школа № 1532 здание 2', 'столовая гбоу школа № 1532 здание 3', 'столовая гбоу школа № 1532 здание 4', 'столовая гбоу школа № 1560 «лидер»', 'столовая гбоу школа № 1985', 'столовая гбоу школа № 2005', 'столовая гбоу школа № 293 им. а.т. твардовского', 'столовая гбоу школа № 51', 'столовая гбоу школа № 922', 'столовая гбоу школа №1373', 'столовая гбоу школа №1476', 'столовая гбоушкола № 922', 'столовая гбпоу «колледж полиции»', 'столовая гбпоу «мгтк имени л.а.филатова»', 'столовая гбпоу «мтк»', 'столовая гбпоу зкно', 'столовая гбпоу колледж гостеприимства и менеджмента № 23', 'столовая гбпоу колледж железнодорожного и городского транспорта', 'столовая гбпоу мтк', 'столовая гбпоу пк № 18', 'столовая гбпоу скисиг', 'столовая генштаба', 'столовая гимназии 1516', 'столовая гимназии 1526', 'столовая гимназии 1570', 'столовая гимназии № 1576', 'столовая гимназии № 1576 корпус 1', 'столовая гимназии № 1576 корпус 3', 'столовая гимназии № 1576 корпус 4', 'столовая гимназии № 1576 корпус 5', 'столовая главного центра спецсвязи', 'столовая гну виэсх', 'столовая головинского суда', 'столовая голос', 'столовая госнииас', 'столовая гостиницы «сокол»', 'столовая гоу 1083', 'столовая гоу 1084', 'столовая гоу 1907', 'столовая гоу 398', 'столовая гоу 436', 'столовая гоу камс №17', 'столовая гоу клп №24', 'столовая гоу сош № 499', 'столовая гоу сош №1563', 'столовая гранат', 'столовая гуз', 'столовая гуп «мосгортранс»', 'столовая гуп «мосгортранс» 6-го троллейбусного парка', 'столовая гуцэи им. м.н. румянцева', 'столовая деметра', 'столовая для персонала', 'столовая для сотрудников ниц им. и.а.сеченова', 'столовая домашние обеды', 'столовая дск-1', 'столовая жаровня.офис', 'столовая завода стройпрогресс', 'столовая зеленоградстрой', 'столовая института мировых цивилизаций', 'столовая института проблем механики', 'столовая инт.30', 'столовая информ - транзит', 'столовая ип завацкий е.а.', 'столовая кадетской школы 1784', 'столовая квант', 'столовая клюква', 'столовая клёнфуд', 'столовая колледж 46', 'столовая колледж сферы услуг № 10 подразделение № 4', 'столовая колледжа 23 индустрии гостеприимства и', 'столовая колледжа архитектуры и строительства № 7', 'столовая колледжа железнодорожного и городского транспорта', 'столовая колледжа легкой промышленности', 'столовая колорит кадетского корпуса № 1783', 'столовая колорит школа 287', 'столовая колорит школа 304', 'столовая колорит школа № 1220', 'столовая колорит школа № 1415', 'столовая компонент', 'столовая кулинария', 'столовая кухня', 'столовая лиц. 342', 'столовая лицея 1550', 'столовая лмк', 'столовая мади', 'столовая маи', 'столовая мвд рф (закрытое)', 'столовая мгпу', 'столовая мгпу факультета психологии', 'столовая мгтс', 'столовая мгуп им. ивана федорова', 'столовая меридиан', 'столовая миг', 'столовая миолста', 'столовая мит', 'столовая миэт', 'столовая мосгоргеотрест', 'столовая москвич', 'столовая московский гуманитарный университет', 'столовая московского международного университета', 'столовая мосэнергосбыт', 'столовая мотэк', 'столовая мпо имени и. румянцева', 'столовая мпэк рэу им. г.в. плеханова', 'столовая мтуси', 'столовая муц еэс', 'столовая мфк', 'столовая на базе гбоу школа № 2083. до «журавушка»', 'столовая на базе гбоу школа № 2083. до «ивушка»', 'столовая на базе гбоу школа № 2083. до «остафьево»', 'столовая на базе гбоу школа № 2083. до «росинка»', 'столовая на базе гбоу школа № 2083. до «сказка»', 'столовая на базе гбоу школа № 2083. сп «остафьево»', 'столовая на базе гбоу школа № 2083. сп «родники»', 'столовая на базе гбоу школа №2083. до «семицветик»', 'столовая на базе гбоу школа №2083. сп «ерино»', 'столовая на базе гбоу № 2083. сп «знамя октября»', 'столовая на новых черемушках', 'столовая на пермской', 'столовая на территории «автобаза ильинское»', 'столовая на территории зви', 'столовая нии пластик', 'столовая нии тп', 'столовая оао «аркона»', 'столовая оао нпо «химавтоматика»', 'столовая оао узоры', 'столовая оао хк «электрозавод»', 'столовая овк «экополис» n 1080', 'столовая ооо «компас групп рус»', 'столовая ооо коникс-школьник', 'столовая пед.колледжа №14', 'столовая педколледжа №13', 'столовая пельменная', 'столовая политехнического колледжа им. годовикова', 'столовая политехнического колледжа № 50', 'столовая пр центре проектного творчества старт-про', 'столовая префектуры сао', 'столовая при 2 автобусном парке', 'столовая при «люкс»', 'столовая при автодорожном колледже', 'столовая при автокомбинате № 12', 'столовая при автосалоне «автомир»', 'столовая при ао внииэто', 'столовая при атомэнергопроекте', 'столовая при банковской школе', 'столовая при бизнес-колледже', 'столовая при вниижт', 'столовая при военторгбаз фкп «5113цтзб»', 'столовая при всероссийском заочном финансовом итституте(взфэи)', 'столовая при вузе', 'столовая при гбоу «первый московский хоспис им. в.в. миллионщиковой»', 'столовая при гбоу впо «первый мгму им. и.м. сеченова»', 'столовая при гбоу города москвы «школа № 1505»', 'столовая при гбоу лицей 1535', 'столовая при гбоу лицей 1555', 'столовая при гбоу школа 1231', 'столовая при гбоу школа 1253', 'столовая при гбоу школа 171', 'столовая при гбоу школа 57', 'столовая при гбоу школа № 1503', 'столовая при гбоу школа № 1539', 'столовая при гбоу школа № 2075', 'столовая при гбоу школа № 293 им. а.т. твардовского', 'столовая при гбпоу пт № 2 (колледж)', 'столовая при гбу тцсо филиал хамовники', 'столовая при гбуз гкб им. с.п. боткина, филиал жк № 12 дзм', 'столовая при гимназии 1529 им. а.с. грибоедова', 'столовая при гимназии мпс рф', 'столовая при гимназии № 1572', 'столовая при гимназии № 1756', 'столовая при гмпу «радуга»', 'столовая при гостинице', 'столовая при гоу гимназии № 1562', 'столовая при гоу гимназии № 1566', 'столовая при гоу лицее № 1547', 'столовая при гоу сош № 1040', 'столовая при гоу сош № 1043', 'столовая при гоу сош № 1049', 'столовая при гоу сош № 1141', 'столовая при гоу сош № 1142', 'столовая при гоу сош № 1145', 'столовая при гоу сош № 1147', 'столовая при гоу сош № 1319', 'столовая при гоу сош № 1357', 'столовая при гоу сош № 1458', 'столовая при гоу сош № 1716', 'столовая при гоу сош № 1780', 'столовая при гоу сош № 1881', 'столовая при гоу сош № 1902', 'столовая при гоу сош № 1904', 'столовая при гоу сош № 1910', 'столовая при гоу сош № 1934', 'столовая при гоу сош № 1959', 'столовая при гоу сош № 1965', 'столовая при гоу сош № 1967', 'столовая при гоу сош № 1968', 'столовая при гоу сош № 1989', 'столовая при гоу сош № 495', 'столовая при гоу сош № 590', 'столовая при гоу сош № 696', 'столовая при гоу сош № 700', 'столовая при гоу сош №1497', 'столовая при гоу сош №72', 'столовая при гоу спец. школе-интернате 20', 'столовая при гоу спо ксу-29 училище', 'столовая при гоу спо ск №41', 'столовая при гоу цо 491', 'столовая при гоу цо № 1423', 'столовая при гоу цо № 1462', 'столовая при гоу цо № 1493', 'столовая при гоу цо № 1816', 'столовая при гоу цо № 491', 'столовая при гоу эшвсм «северный»', 'столовая при гу спо технологический колледж №28', 'столовая при гуп объединенный комбинат школьного питания', 'столовая при детском доме 48', 'столовая при доме-пансионате ветеранов науки', 'столовая при дюсш 1', 'столовая при жби', 'столовая при з-де мэмрз', 'столовая при заводе первый дск', 'столовая при заводе сатурн', 'столовая при зао «кузьминское»', 'столовая при зао «микояновский мясокомбинат»', 'столовая при институте', 'столовая при институте им. пушкина', 'столовая при кадетской школе', 'столовая при кбтм', 'столовая при колледжах №№ 12,124', 'столовая при колледже', 'столовая при колледже градостроительства и сервиса № 38', 'столовая при колледже метростроя №53', 'столовая при колледже художественных ремесел № 59', 'столовая при колледже № 21', 'столовая при колледже №13', 'столовая при колледже №26', 'столовая при колледже №42', 'столовая при кс мосфильм', 'столовая при лицее 1537', 'столовая при лицее 1795 корпус № 373', 'столовая при лицее 1795 корпус № 835', 'столовая при маоу «гимназия г. троицка»', 'столовая при маоу «гимназия им. н.в. пушкова»', 'столовая при маоу «лицей города троицка»', 'столовая при маоу нш', 'столовая при маоу сош № 2', 'столовая при маоу сош № 6', 'столовая при мап', 'столовая при мггэи', 'столовая при мгппу', 'столовая при мгпу', 'столовая при мгсу', 'столовая при мгу', 'столовая при медицинском колледже № 4', 'столовая при медицинском колледже № 5', 'столовая при мз электропривод', 'столовая при микояновском мясокомбинате', 'столовая при ммг', 'столовая при ммгп «мосгаз» буфет', 'столовая при моск. кардолентной ф-ке', 'столовая при московском коледже железнодорожного транспорта', 'столовая при московском колледже градостроительства', 'столовая при московском электромеханическом колледже №55', 'столовая при московском эндокринном заводе', 'столовая при мост-банке', 'столовая при музыкальном институте им. а.г. шнитке', 'столовая при нииаа им. семенихина', 'столовая при ноу школа «ника»', 'столовая при ну акушерства и гинекологии', 'столовая при оано оц «лучик»', 'столовая при оао «звездный»', 'столовая при оао «калибр»', 'столовая при оао «калибровский завод»', 'столовая при оао «мосавто»', 'столовая при оао «хибинский 16»', 'столовая при оао вниист', 'столовая при оао док-3', 'столовая при оао мосгипротранс', 'столовая при образовательном комплексе дизайна и технологии', 'столовая при общежитии', 'столовая при общежитии мади', 'столовая при общежитии мгу', 'столовая при ооо «природоведение и школа»', 'столовая при ооо «центркнига»', 'столовая при офисном центре', 'столовая при пансионате «коньково» для ветеранов войны', 'столовая при пансионате для ветеранов труда n 31', 'столовая при пансионате для ветеранов труда n 6', 'столовая при пансионате для ветеранов №19', 'столовая при пао «промсвязьбанк»', 'столовая при пао кмз', 'столовая при полиграфическом колледже', 'столовая при политехническом колледже n13', 'столовая при ргсу', 'столовая при рдкб на ленинском', 'столовая при реабилитационном центре', 'столовая при рнц «курчатовский институт»', 'столовая при сбербанке', 'столовая при соцжилдоме', 'столовая при сп мггу', 'столовая при спортивно-педагогическом колледже', 'столовая при спортивной школе № 29', 'столовая при ст. товарная-ярославская', 'столовая при строительном колледже n12', 'столовая при тд «преображенский»', 'столовая при тэц-23', 'столовая при тэц-8', 'столовая при увд сзао', 'столовая при умц пенсионного фонда рф', 'столовая при упки мосгортепло', 'столовая при упп-11 вос', 'столовая при управлении судебного департамента', 'столовая при фгбоу во мглу', 'столовая при фгбоу во мпгу', 'столовая при фгбоу впо митхт им. м.в. ломоносова', 'столовая при фгбоу впо российской академии народного хозяйства и государственной службы', 'столовая при фгбоуво мпгу', 'столовая при филипповской школе', 'столовая при финансовой академии', 'столовая при художественно-педагогическом колледже технологии идизайна', 'столовая при ц с п с и д доверие', 'столовая при центре образования «радуга»', 'столовая при центре развития и коррекции', 'столовая при цкб тяжелого машиностроения', 'столовая при цо 1246 корпус № 1035', 'столовая при цо 1246 корпус № 1246', 'столовая при цсио «самбо 70»', 'столовая при цсо', 'столовая при цсо раменки', 'столовая при частной школе «виктория -2000»', 'столовая при чмпз', 'столовая при чоу «золотое сечение»', 'столовая при шк. 1310 (796)', 'столовая при шк. 1324', 'столовая при шк. 1324 (409)', 'столовая при шк. 1324 (797)', 'столовая при шк. 1342 (795)', 'столовая при шк. 1380', 'столовая при шк. 2072', 'столовая при шк. 2093 (783)', 'столовая при шк. 2093 (787)', 'столовая при шк. 274', 'столовая при шк. 276', 'столовая при шк. 283', 'столовая при шк. 290', 'столовая при шк. 753', 'столовая при шк. 756', 'столовая при шк. 951', 'столовая при шк. 967', 'столовая при шк. n139', 'столовая при шк. n1412', 'столовая при шк. n1413', 'столовая при шк. n1682', 'столовая при шк. n180', 'столовая при шк. n195', 'столовая при шк. n241', 'столовая при шк. n245', 'столовая при шк. n249', 'столовая при шк. n254', 'столовая при шк. n255', 'столовая при шк. n332', 'столовая при шк. n388', 'столовая при шк. n755', 'столовая при шк. n758', 'столовая при шк. n953', 'столовая при шк. n954', 'столовая при шк. n960', 'столовая при шк. n964', 'столовая при шк. лотос', 'столовая при шк. надежда', 'столовая при шк.1311', 'столовая при школе', 'столовая при школе 1056', 'столовая при школе 121', 'столовая при школе 1362', 'столовая при школе 1494', 'столовая при школе 1494 (2)', 'столовая при школе 1494 (3)', 'столовая при школе 1508', 'столовая при школе 1551', 'столовая при школе 2097', 'столовая при школе 278', 'столовая при школе 296', 'столовая при школе 351', 'столовая при школе 361', 'столовая при школе 723', 'столовая при школе 734', 'столовая при школе интернат № 53', 'столовая при школе цо увк 1811«измайлово»', 'столовая при школе № 1022', 'столовая при школе № 1297', 'столовая при школе № 1307 (цо тропарево)', 'столовая при школе № 1317', 'столовая при школе № 1329', 'столовая при школе № 1329 (второе здание)', 'столовая при школе № 1543 (1723)', 'столовая при школе № 1602', 'столовая при школе № 2054', 'столовая при школе № 2107', 'столовая при школе № 406', 'столовая при школе № 422', 'столовая при школе № 423', 'столовая при школе № 542', 'столовая при школе № 635', 'столовая при школе № 647', 'столовая при школе № 672', 'столовая при школе № 782', 'столовая при школе № 788', 'столовая при школе № 920', 'столовая при школе №1297', 'столовая при школе №450', 'столовая при школе-интернате №8', 'столовая при электродном заводе', 'столовая пригоу сош № 1959', 'столовая рабочая', 'столовая радовать', 'столовая раздат. от филёв. авт. парка', 'столовая ргау мсха им. к. а. тимирязева', 'столовая ргау мсха им. к.а. тимирязева', 'столовая ргау-мсха им. к.а. тимирязева', 'столовая рггу', 'столовая роат рут миит', 'столовая росстройэкспо', 'столовая свеп', 'столовая соц.дом.', 'столовая сош 1029', 'столовая сош 1120', 'столовая сош 1211', 'столовая сош 1296', 'столовая сош 222', 'столовая сош 231', 'столовая спец.база атп-3 мосводоканал', 'столовая спецшкола 9', 'столовая спецшколы № 1', 'столовая ссср', 'столовая стар фуд', 'столовая столичная', 'столовая структурного подразделения №1 гбоу школы № 2025', 'столовая структурного подразделения №3 гбоу школы 2025', 'столовая структурного подразделения №3 гбоу школы 814', 'столовая структурного подразделения №5 школы 2025', 'столовая структурное подразделение № 1 гбоу школа 814', 'столовая структурное подразделение №2 школа 814', 'столовая структурное подразделение №4 гбоу школа 2025', 'столовая структурное подразделение №4 школа 814', 'столовая структурное подразделение №5 школы 814', 'столовая театрального колледжа', 'столовая технологического колледжа №14', 'столовая тмп n 20', 'столовая тц «энтузиаст»', 'столовая тэц 12', 'столовая увк 1601', 'столовая уипимса', 'столовая уоо цсбофнпр', 'столовая фаворит моторс', 'столовая фгбоу во «ргсу»', 'столовая фгпу усст 2', 'столовая финансовой академии при правительстве рф', 'столовая фуршет.ру', 'столовая ххi века', 'столовая центр переливания крови', 'столовая центр психолого-педагогической реабилитации и коррекции', 'столовая центра «зубаревский»', 'столовая центра образования № 1679', 'столовая циам им баранова', 'столовая циам им.баранова', 'столовая цо 1402', 'столовая цо 1419', 'столовая цо 1487', 'столовая цо 1678', 'столовая цо 504 полюс', 'столовая цо сабурово 1828 кдп', 'столовая цо сабурово 1828 кдп- 1', 'столовая цо № 1798', 'столовая шк 1468', 'столовая шк 480', 'столовая шк 498', 'столовая шк № 1445', 'столовая шк №1694', 'столовая шк. 1020', 'столовая шк. 107', 'столовая шк. 1106', 'столовая шк. 1108', 'столовая шк. 1206', 'столовая шк. 125', 'столовая шк. 1280', 'столовая шк. 1282', 'столовая шк. 1534', 'столовая шк. 156', 'столовая шк. 18', 'столовая шк. 200', 'столовая шк. 27', 'столовая шк. 4', 'столовая шк. 625', 'столовая шк. 693', 'столовая шк. 780', 'столовая шк. 790', 'столовая шк.1036', 'столовая шк.108', 'столовая шк.1103', 'столовая шк.1107', 'столовая шк.1282', 'столовая шк.1530', 'столовая шк.1693', 'столовая шк.1752', 'столовая шк.364', 'столовая шк.369', 'столовая шк.378', 'столовая шк.498', 'столовая шк.765', 'столовая шк.789', 'столовая шк.794', 'столовая шк.862', 'столовая шк.864', 'столовая школа 1118', 'столовая школа 1248', 'столовая школа 14', 'столовая школа 14 (598)', 'столовая школа 1448', 'столовая школа 1485', 'столовая школа 1485 (созвездие)', 'столовая школа 1498', 'столовая школа 1543', 'столовая школа 1738', 'столовая школа 1741', 'столовая школа 1905', 'столовая школа 1941', 'столовая школа 261', 'столовая школа 262', 'столовая школа 29', 'столовая школа 37', 'столовая школа 38', 'столовая школа 537 «комбинат дошкольного питания»', 'столовая школа 571', 'столовая школа 58', 'столовая школа 71', 'столовая школа 712', 'столовая школа 73', 'столовая школа 74', 'столовая школа 79', 'столовая школа 803', 'столовая школа 804', 'столовая школа 84', 'столовая школа 843', 'столовая школа 843 (812)', 'столовая школа 875', 'столовая школа 875 (807)', 'столовая школа 916', 'столовая школа 97', 'столовая школа 98', 'столовая школа 99', 'столовая школа «наши традиции»', 'столовая школа «уна»', 'столовая школа структурное подразделение №2 гбоу школы 2025', 'столовая школа № 937', 'столовая школа №937', 'столовая школа №939', 'столовая школа-интернат №15 циркового профиля им. ю.в. никулина для детей, оставшихся без попечения', 'столовая школы 1119', 'столовая школы 1164', 'столовая школы 1171', 'столовая школы 1178', 'столовая школы 12', 'столовая школы 1214', 'столовая школы 1232', 'столовая школы 1245', 'столовая школы 1254', 'столовая школы 1301', 'столовая школы 1306', 'столовая школы 1434', 'столовая школы 1465', 'столовая школы 1513', 'столовая школы 315', 'столовая школы 376', 'столовая школы 380', 'столовая школы 392', 'столовая школы 429', 'столовая школы 433', 'столовая школы 434', 'столовая школы 549', 'столовая школы 552', 'столовая школы 56', 'столовая школы 650', 'столовая школы 657', 'столовая школы 67', 'столовая школы 688', 'столовая школы 710', 'столовая школы 811', 'столовая школы 859', 'столовая школы 881', 'столовая школы 900', 'столовая школы 901', 'столовая школы 91', 'столовая школы 924', 'столовая школы гбоу «школа 1244»', 'столовая школы гбоу «школа 1288»', 'столовая школы гбоу «школа 148»', 'столовая школы гбоу «школа 686»', 'столовая школы гбоу «школа1287»', 'столовая школы № 1223', 'столовая школы № 1223 отделение № 2', 'столовая школы № 1378', 'столовая школы № 1575', 'столовая школы № 1847', 'столовая школы № 185', 'столовая школы № 2044', 'столовая школы № 601', 'столовая школы № 709', 'столовая школы № 90', 'столовая школы № 939', 'столовая школы № 996', 'столовая школы №152', 'столовая школы №629', 'столовая школы №709', 'столовая школы850', 'столовая школы932', 'столовая школы№ 438', 'столовая школы№ 548', 'столовая № 1', 'столовая № 17', 'столовая № 5 (автохозяйство хозу гувд)', 'столовая № 5 коп банка россии', 'столовая №1', 'столовая №1 ргау-мсха им. к.а. тимирязева', 'столовая №15', 'столовая №19', 'столовая №21', 'столовая №8, при гкнпц им.хруничева м.в', 'столовая, кулинария', 'столовая-бар хутор', 'столовая-буфет', 'столовая-доготовочная при гимназии № 1577', 'столовая-доготовочная при лицее «разум»', 'столовая-доготовочная при шк. 1038', 'столовая-доготовочная при шк. 1482', 'столовая-доготовочная при шк. 233', 'столовая-доготовочная при шк. 46', 'столовая-доготовочная при шк. 611', 'столовая-доготовочная при шк. 956', 'столовая-доготовочная при школе 1094', 'столовая-доготовочная при школе 1096', 'столовая-доготовочная при школе 1099', 'столовая-доготовочная при школе 1100', 'столовая-доготовочная при школе 1137', 'столовая-доготовочная при школе 1374', 'столовая-доготовочная при школе 1414', 'столовая-доготовочная при школе 750', 'столовая-доготовочная при школе 752', 'столовая-доготовочная при школе 760', 'столовая-доготовочная при школе № 1956', 'столовая-доготовочная при школе № 237', 'столовая-доготовочная при школе-интернате', 'столовая-доготовочная школы № 259', 'столовая-доготовочная школы-интерната № 16', 'столовая-кулинария', 'столовая-пекарня', 'столовая-пельменная', 'столовая-раздаточная при шк. 1237', 'столовая-раздаточная при шк. 285', 'столовая-раздаточная при шк. 289', 'столовая-раздаточная при шк. 300', 'столовая-раздаточная при шк. 307', 'столовая-раздаточная при шк. 957', 'столовая1359', 'столовая1420-2', 'столовая№ 1 пицца', 'столовой ргау-мсха им. к.а. тимирязева', 'столовужки', 'столовя автобусный парк №13', 'стоовая мгу интернат', 'сторм-д', 'страдивари', 'страна души', 'страна которой нет', 'стрелка', 'стрит флеш', 'стрит. еда.', 'строгинская гавань', 'строительный колледж', 'строительный колледж 30', 'строительный колледж № 26 сп 6', 'строительный колледж № 26, сп 2', 'строительный техникум', 'стройтехника 9', 'студент (закрытое)', 'студенческое кафе (закрытое)', 'студиорум', 'студкафе', 'стумари', 'сувлаки', 'суздаль', 'сулико', 'султан', 'сумоист', 'сумосан', 'сундук', 'суп', 'суп кафе', 'супкультура', 'сурнэли', 'сухарева башня', 'суши', 'суши love', 'суши make', 'суши okisushi', 'суши shop', 'суши store', 'суши tak amura', 'суши wok', 'суши «boofet»', 'суши «зеленая точка»', 'суши «маки экспресс»', 'суши «маки-маки»', 'суши авеню', 'суши бар', 'суши бар sushi club', 'суши бар «маки-маки»', 'суши бокс', 'суши весла', 'суши вок', 'суши кафе кондитерские товары', 'суши лав', 'суши маг', 'суши магия', 'суши маке', 'суши маки', 'суши маркет', 'суши маркет суши град', 'суши маркет тапошими', 'суши нори', 'суши пицца « rock&roll»', 'суши пицца вок', 'суши пицца кофе', 'суши ролл №1', 'суши с собой', 'суши сами', 'суши сет', 'суши стоп', 'суши стор', 'суши сэн', 'суши сёри', 'суши тун', 'суши тун, хруст pizza, кофе тун', 'суши фаст', 'суши фиш', 'суши фреш', 'суши фэктори экспресс', 'суши шоп', 'суши шоп пицца шоп', 'суши, мидии, устрицы', 'суши-бар', 'суши-бар yocoso', 'суши-бар «там-там»', 'суши-бар ки-do', 'суши-бар пиццерия милана', 'суши-бар терияки', 'суши-бар эноки ( при гостинице арарат парк хаятт', 'суши-лавка «японский пес»', 'суши-маркет', 'суши-порт', 'суши-роллы', 'суши-роллы на вынос', 'суши-сет', 'суши-шоп', 'сушиguru', 'сушиstore', 'сушиwok', 'сушибар азия mix', 'сушивок', 'сушиед', 'сушилав', 'сушимаке', 'сушиман', 'сушимаркет', 'сушипицца', 'сушисет', 'сушистор', 'сушишоп', 'сущевский дворик', 'сценарио', 'счастье', 'съестная лавка', 'сырная лавка «бурвиль»', 'сырно вкусно', 'сыроварня', 'сытая утка', 'сытный лис', 'сыто пьяно', 'сытый гусь', 'сытый лось', 'сэ сян вэй', 'сэлтинс', 'сэлэнгэ', 'сэндвичи', 'таблица', 'табриз', 'табу бар', 'табу бар вайн', 'таверна', 'таверна ягнёнок', 'таежный', 'тажин', 'тажинерия', 'тай паттара', 'тай-тай', 'тайм авеню', 'тайна', 'тайская кухня «том-ям»', 'тайское мороженое, лимонады', 'так сказала моя мама', 'такос донер', 'таксим', 'таксо пицца', 'таку', 'такуми сан', 'такэ', 'такэ до', 'тамада', 'тамаси суши', 'тамерлан', 'таможня дает добро', 'тан', 'тандыр', 'тандыр кебаб', 'тандыр хаус', 'тандыр хачапури', 'тандырная № 1', 'тандырница', 'тантаки', 'тануки', 'тап и баррель паб', 'тапки', 'тапчан', 'тарабин', 'тарелка', 'тарелка столовая', 'татарские пироги', 'татлер клаб', 'ташир пицца', 'тбилиси', 'тбилисо', 'твое кафе', 'твой кофе', 'творческое кафе лето близко', 'тд гум «фестивальное» «япония»', 'тд гум «фестивальное» азия', 'тд гум бар в столовой', 'тд гум кафе 1 гастроном 1', 'тд гум кафе 2 гастроном 1', 'тд гум кафе «фестивальное» италия', 'тд гум кафе «фестивальное» картофель', 'тд гум кафе фестивальное бар кинозал', 'тд гум кп кафе «фестивальное» блины', 'тд гум столовая №1', 'тд гумкафе «фестивальное» столовая 57', 'театр корша', 'театр цдр', 'театрально-концертный зал цдкж', 'тейсти тай', 'телебистро', 'телетай', 'тема', 'темаки', 'темпл бар', 'темпура', 'теплица', 'терем', 'теремок', 'теремок инвест', 'теремок-инвест', 'террин', 'территориальное структурное подразделение «севастопольское» гбпоу ок «юго-запад»', 'территория', 'территория timbigfamily', 'территория мороженого', 'территория ясенево', 'тесто & сыр', 'тесто и сыр', 'тефлис', 'техас-чикен', 'техком', 'техн.колледж смм', 'техно люкс', 'техно-веранда', 'технологии ресторанного бизнеса', 'технологический колледж № 14', 'технопарк', 'тещин борщ', 'ти-бон', 'тиа', 'тибет', 'тимур', 'тин вудман бар', 'тинатин', 'типси паб', 'тирольские пироги', 'тирс групп', 'тифлисский дворик', 'ткемали', 'тлеулесова а.б.', 'то да сё', 'тодасё', 'тоже паб', 'токат', 'токио', 'токио вау', 'токмакоff', 'том тэйлор рус', 'том янг', 'том-ям', 'томи', 'тонгал', 'топхолл', 'торговый дом арамье', 'торро гриль', 'торт и кофе', 'торт хауз', 'тортугас бар', 'тоторо', 'точка dzy', 'точка дзы', 'точка кипения', 'точка общественного питания', 'точка отрыва', 'точка продажи готовой еды милти', 'точтонадо', 'траза-бар (спорт-бар)', 'трактир', 'трактир вагант', 'трактир на лодочной', 'трактир пушкин', 'трактир у тимофееча', 'транзистр паб', 'транзит времени', 'трансоел- компани', 'трапеzа', 'трапеза', 'трапезария марков двор', 'трапезная', 'тратория', 'тратория italian «паста&пицца»', 'тратория semplice', 'траттория', 'траттория stefano', 'траттория венеция', 'траттория на столешниковом', 'траттория пане олио', 'траттория пепе', 'траттория примавера', 'траттория семпличе', 'трескать', 'трест военных столовых управления минобороны рф', 'третьяков', 'три жирафа', 'три мудреца', 'три обезьяны', 'три перца', 'три правила', 'три сковородки', 'три ступени', 'три утки', 'трио', 'триумф', 'триумфинвест', 'трое из ларца', 'труффальдино', 'трын-трава', 'тук-тук', 'тукан', 'тульский дворик', 'турандот', 'турецкая шаурма', 'тутти и джорни', 'тутти фрутти', 'тутти-пицца вертел', 'тцсо чертаново «кдп»', 'тэмпл бар', 'тэц 9 энерготорг', 'тэц-11', 'тянем-потянем', 'у адама', 'у бурчо', 'у джузеппе', 'у дяди макса', 'у кирилловны', 'у кэти кафе', 'у мангала', 'у михалыча хинкальная №1', 'у николая', 'у пиросмани', 'у русико', 'у сильвы', 'у фонтана', 'уайт харт паб', 'уахтанг', 'угол', 'угреша', 'удон сан', 'узбекистан', 'узбекская кухня', 'узбекская лавка', 'узбекские блюда', 'узбекское кафе', 'узбечка', 'уито «сервис»', 'ук стратегия управления', 'укроп и кинза', 'укубар', 'укун кафе', 'улетные крылья', 'улисс паб', 'уличная еда', 'улыбка', 'ультра', 'уника 1', 'урарту', 'урбан кофикс раша', 'ургут', 'урожай', 'урюк', 'урюк вавилова', 'усадьба', 'усадьба банная', 'усадьба принца', 'усз «минтопэнерго»', 'успех', 'утро', 'утёс', 'ухтомская усадьба', 'ухты-пухты', 'уют', 'уют востока', 'ф-ка госзнак', 'ф-л 17авт.парк. гуп «мосгортранс»', 'фа-соль-ка', 'фабрика пицца', 'фабрика хлеба', 'фабрика шаурмы', 'фабула', 'фаворит', 'файн фуд', 'фактура бар', 'факультет педагогики мгпу', 'фанни кабани', 'фантомас', 'фантоцци рус', 'фараон', 'фаренгейт', 'фарн', 'фарш', 'фаршбургер', 'фатп', 'фаулз', 'фаэтон', 'фгбу комбинат питания кремлевский', 'фгбу транспортный комбинат россия', 'фгуп «висти»', 'фгуп «мрти ран»', 'фгуп гнпп регион', 'фгуп издательство известия упд рф', 'фгуп международный почтампт', 'фгуп уат минрф по атомной энергии', 'федеральная сеть кофейных баров coffee way', 'феникс', 'фергана', 'ферма', 'ферма дома', 'фермер буфет', 'фермербуфет', 'фермерская шаурма', 'феста и тесто', 'фидан', 'фиданочка', 'филармония', 'филетто', 'филиал', 'филиал шбс люблино шк. 1041', 'филиал шбс люблино шк. 1085', 'филиал шбс люблино шк. 1146', 'филиал шбс люблино шк. 1256', 'филиал шбс люблино шк. 493', 'филиал шбс люблино шк. 519', 'филиал шбс люблино шк. 773', 'филиал шбс люблино шк. 846', 'филиал шбс люблино шк. 918', 'финист', 'финтрейд', 'фипс', 'фирма акварель', 'фирма бит', 'фирма дисконт', 'фирма продинтер', 'фирма раздолье', 'фитнес бар «холдинг»', 'фитнес бар холдинг', 'фитнес-бар «wellnes park»', 'фитнес-бар «world class»', 'фитнес-кафе', 'фиш базар', 'фишерикс', 'фишерия', 'флорентина сити', 'флорентини', 'флоренция', 'флориста-бариста', 'фо & ролл', 'фо бо', 'фо ролл', 'фо фа', 'фо-бо', 'фобо', 'фон карлос', 'фонбет', 'форбес', 'форест бар', 'фортуна', 'фортутти', 'фрайдис', 'фрайчикен', \"франклин'с бургер\", 'франклинс бургер', 'французская блинная «крепери де пари»', 'французская выпечка', 'французская кондитерская', 'французская кондитерская шантимель «art dessert»', 'французская пекарня', 'французская пекарня delice', 'французская пекарня кофейня бонжур', 'фрателли', 'фрателло', 'фрегат', 'фрезита пицца', 'френдис', 'френдс', 'френдс. в гостях у моники', 'френч кебаб', 'фреско', 'фреско караоке', 'фреш', 'фреш бар', 'фреш маркет', 'фреш смуси бар', 'фреш-кафе', 'фрешмаркет77', 'фри бар', 'фридом', 'фриз кейк', 'фрукты и овощи', 'фрэш суши', 'фу сян', 'фуд маркет', 'фуд-бар «грабли»', 'фуда', 'фудзи-ко', 'фудкорд', 'фудмаркет. аргашокова о.в.', 'фудмаркет. галичкин', 'фудмаркет. грачева', 'фудмаркет. дмитриев е.н.', 'фудмаркет. дмитриев ю.м.', 'фудмаркет. коноплина е.а,', 'фудмаркет. косорев и ко', 'фудмаркет. магрус', 'фудмаркет. назимов р.в.', 'фудмаркет. орлов в.а.', 'фудмаркет. рогачикова', 'фудмаркет. салпагарова', 'фудмаркет. тардатьян ф.г,', 'фудмаркет. тонорян а.г.', 'фудмаркет. транспортные технологии', 'фудмаркет. шапиро', 'фудмаркет. якубов р.я.', 'фудмаркет. яшечкина', 'фудмаркет.паритова', 'фудмаркет.швыдкой', 'фудмастер', 'фудпоинт', 'фудсайд', 'фудсмак', 'фуза', 'фуллхаус', 'фуршет школа', 'фуршет.ру', 'фьюжн', 'фэнтези румс', 'хакi-мун', 'халасе', 'халасё wok and beer', 'халва', 'халяль', 'халяль выпечка 24', 'халяль узбекская кухня', 'халяль фуд', 'хан донер', 'хан кебаб', 'ханой', 'хаовейдао', 'харбин', 'хард рок кафе', 'харламова л.в.', 'харт-трейдинг лтд', 'хата lounge', 'хатимаки', 'хаус бар', 'хач хач хачапури ловкач', 'хачапурoff', 'хачапури', 'хачапури и вино', 'хачапури молодежная', 'хачапури, одесса -мама', 'хачапуритверскя', 'хачмас', 'хаят', 'хе пин', 'хет трик', 'хижина', 'хилс', 'хинкала', 'хинкали & хачапури', 'хинкали (грузинская кухня)', 'хинкали gali', 'хинкали gали', 'хинкали от души', 'хинкали пойнт', 'хинкали-gали', 'хинкали-гали', 'хинкалико', 'хинкаль палас', 'хинкальнaя', 'хинкальна', 'хинкальная', 'хинкальная (на м. бирюзова)', 'хинкальная 777', 'хинкальная city', 'хинкальная «кахури»', 'хинкальная батони', 'хинкальная батоно', 'хинкальная виноград', 'хинкальная кахетия', 'хинкальная кера', 'хинкальная кинто', 'хинкальная на арме', 'хинкальная на спасской', 'хинкальная салхино', 'хинкальная у бехо', 'хинкальная чела', 'хинкальная № 1', 'хинкальная №1', 'хинкальная №5', 'хинкальная, пекарня', 'хинкальная.джи', 'хинкальный дом', 'хинкальный дом «тбилисо»', 'хинкальный дом арго', 'хинкальный дом колхида', 'хинкальный дом мегобари', 'хинкальный дом тбилисо', 'хинкальня', 'хинкарули', 'хитрые люди', 'хищnik', 'хлеб & мясо', 'хлеб (пекарня)', 'хлеб да калач', 'хлеб да соль', 'хлеб и co', 'хлеб и вино', 'хлеб насущный', 'хлеб&co', 'хлеб-мясо на углях', 'хлебная затея', 'хлебная лавка', 'хлебная лавка бородинского', 'хлебная лавка перкарня', 'хлебникофф', 'хлебница', 'хлебница пекарня', 'хлебничная', 'хлебное место', 'хлебный двор', 'хлебный рай', 'хлебозавод №24 столовая', 'хлебопекарные изделия из тандыра', 'хмели-сунели', 'хмель и солод', 'хмель и эль', 'хмельбург', 'хмельная жаба', 'хмельная келья', 'хмельная печка кафе коптильня', 'хмельная у бороды', 'хозу «минсоцзащиты»', 'хозу «углепроф»', 'хозу минкультуры рф', 'хокк', 'хон гиль дон', 'хонест', 'хоросан', 'хорошая столовая', 'хорошее дело', 'хорошее место', 'хорошие знакомые', 'хорошие люди', 'хороший выбор', 'хороший год', 'хот доги', 'хот-дог бар', 'хотдоги', 'хочу на дачу', 'хочу шашлык', 'хуанхэ', 'хукан', 'хумус', 'хуторок', 'царица востока', 'царицынский мясокомбинат', 'царская заимка', 'царские сады', 'царь-пиво', 'цдс дюна', 'центр образования 1858', 'центр образования 1858 школа 334', 'центр образования 1865', 'центр павла слободкина', 'центр паровых коктейлей «time lap»', 'центр плова', 'центр ремесел', 'центр сервис-л', 'центр системы питания', 'центр социального обеспечения', 'центр социального обслуживания оао «кдп»', 'центральная станция', 'центральный дом адвоката', 'центральный дом ученых ран', 'центрострой', 'центрторгпроект', 'церковная столовая', 'цех', 'цех бортового питания', 'цим', 'цимус фуд', 'цинандали', 'цинандали хинкальная', 'цирк', 'цитрин', 'цицинова т.а.', 'цнии связи', 'цниитмаш', 'цнити', 'цо 1409', 'цо 345', 'цо №1450 «комбинат дошкольного питания»', 'цо №504 «комбинат дошкольного питания»', 'црп зеленоград', 'цсо', 'цсо «марфино»', 'цсо зеленоградский', 'цсо солнечный столовая-раздаточная', 'цсо центр социального обслуживания «братеево»', 'цссв «каховские ромашки»', 'цыпа гриль', 'чай и кофе', 'чай+', 'чай, кофе, выпечка', 'чайковский', 'чайна клуб', 'чайнатаун в китай городе', 'чайная', 'чайная «алхимик»', 'чайная высота', 'чайная гурия terrace', 'чайная и кальянная', 'чайная ложка', 'чайникофф', 'чайный клуб «мойчай.ру»', 'чайный стол( буфет служебной столовой)', 'чайхана', 'чайхана 777', 'чайхана «айва»', 'чайхана «алайский базар»', 'чайхана «баракат»', 'чайхана «бухара»', 'чайхана «манас»', 'чайхана «мантыбар»', 'чайхана «наваи»', 'чайхана «павлин мавлин»', 'чайхана «регистан»', 'чайхана айыл', 'чайхана восток', 'чайхана восток халяль 24', 'чайхана восточная сказка', 'чайхана дружба народов', 'чайхана инжир', 'чайхана каймак', 'чайхана лагман', 'чайхана лаззат', 'чайхана миксмакс', 'чайхана нар', 'чайхана ош', 'чайхана рохат', 'чайхана сезам', 'чайхана тархун', 'чайхана ташкент', 'чайхана ташкент № 1', 'чайхана файзи', 'чайхана халва', 'чайхана шинам', 'чайхана элина', 'чайхана эне-сай', 'чайхана, пирог хауз', 'чайхана№3', 'чайхона', 'чайхона 7-24', 'чайхона for you', 'чайхона foryou', 'чайхона olive', 'чайхона vizir', 'чайхона « в гости»', 'чайхона «барака»', 'чайхона «вкус востока»', 'чайхона «золотой самарканд»', 'чайхона «одно небо»', 'чайхона «самарканд»', 'чайхона айва', 'чайхона алма', 'чайхона баракат', 'чайхона восток', 'чайхона лаззат', 'чайхона о-мад', 'чайхона ором', 'чайхона сунжа', 'чайхона тандыр хаус', 'чайхона урюк', 'чайхона фаиза', 'чайхона халва', 'чайхона ходжент', 'чайхона хурма', 'чайхона №1', 'чайхона №1 бутово', 'чайхона.uz', 'чак норрис крафт паб', 'чакруло', 'чао пицца', 'чап чак', 'час пик', 'часон', 'чаудер', 'чача', 'чача room', 'чашка', 'чвйхана караван', 'чебуреки', 'чебуречная', 'чебуречная «дружба»', 'чебуречная «советские времена»', 'чебуречная дружба', 'чебуречная ссср', 'чебуречная №7', 'чеддер паб', 'человек и пароход', 'челси', 'чемодан', 'чентрале', 'черемуха', 'черемушки кафе при фок', 'черетто', 'черная кошка', 'черновар бар', 'черный какаду', 'черчилль паб', 'честерфилд', 'честная кухня', 'чехов', 'чечевица', 'чеченская кухня', 'чешская пивная «козловица»', 'чешская пивная «пилзнер»', 'чешская пивная козловица', 'чешская пивная пилзнер', 'чешская пивница', 'чешский дворик', 'чешский ресторан стражек', 'чи ли сян', 'чи-фань', 'чикаго прайм', 'чин чин', 'чинар', 'чинук стейт бар', 'чип', 'чип-гео геологический центр', 'чипсайд', 'чиставто+', 'чистякова м.м.', 'чито ра', 'чито-ра', 'чихо', 'чичико', 'чойхана', 'чудо гриль', 'чудо пекарня шаргунь', 'чудо печка', 'чудо тандыр', 'чудо тандыр донер', 'чудо-печка', 'чуковский', 'чурчхелла', 'чё хотэли пили ели', 'чё чё', 'шабада', 'шабаева александра николаевна', 'шава гриль', 'шава №1 выпечка', 'шаверма', 'шаверма - куры гриль', 'шаверма doner master', 'шаверна по питерски', 'шайк бар', 'шалахо', 'шале-кафе', 'шалом бутик свежей еды', 'шаляпин', 'шампури', 'шампурная', 'шампурхаус', 'шанделир', 'шантимель', 'шантимель (кондитерские)', 'шантимэль', 'шантри', 'шантэклер', 'шарден', 'шардени', 'шарлима', 'шарманка', 'шарон', 'шатер', 'шато бобров', 'шаурmen', 'шаурма', 'шаурма 24', 'шаурма 31', 'шаурма hardy street food', 'шаурма live', 'шаурма «самса №1»', 'шаурма в пите', 'шаурма в тандырном лаваше', 'шаурма выпечка', 'шаурма жи', 'шаурма и выпечка', 'шаурма и кафе «самарканд»', 'шаурма кафе 05', 'шаурма кинг', 'шаурма культура', 'шаурма куры гриль', 'шаурма на углях', 'шаурма на углях- чайхана баракат', 'шаурма на углях-чайхана баракат', 'шаурма разливное пиво', 'шаурма с собой', 'шаурма тандыр', 'шаурма чебуреки', 'шаурма № 1', 'шаурма №1', 'шаурма&гриль', 'шаурма, выпечка', 'шаурма, куры гриль, выпечка', 'шаурма, куры-гриль', 'шаурма, куры-гриль,выпечка', 'шаурма, пекарня', 'шаурма, шашлык', 'шаурма,выпечка, куры-гриль', 'шаурма,пекарня', 'шаурма,пирожки', 'шаурма,чебуреки,выпечка', 'шаурма-24', 'шаурма-выпечка', 'шаурма-чебуреки', 'шаурма-шашлык', 'шаурма. гриль', 'шаурма. лаваш', 'шаурма24', 'шаурмаroom', 'шаурмания', 'шаурмастер', 'шаурмен', 'шаурмэн', 'шаурум', 'шафран', 'шах-даг', 'шаш бургер', 'шашлык -хаус', 'шашлык 23', 'шашлык люля шаурма', 'шашлык на углях', 'шашлык на углях, люля-кебаб', 'шашлык, пекарня', 'шашлык-машлык', 'шашлыки шаурма', 'шашлыки. выпечка «doner kebab»', 'шашлыкоff', 'шашлыкофф', 'шашлыкян', 'шашлычная', 'шашлычная курдюк', 'шашлычный дворик', 'шашлычный мир', 'шашлычок', 'шашлычок 24', 'шашлычок и выпечка', 'шбс «люблино» школа 1996', 'шбс «люблино» школа 473', 'шварmeateasy', 'шварц кайзер', 'шварцвальд', 'швили', 'шеf пончик', 'шейк шак', 'шейкбери', 'шейх палас', 'шеки', 'шекспир', 'шелби', 'шепоты и крики', 'шератон', 'шервуд', 'шереметьевский удпрф', 'шерлок', 'шеф', 'шеф бургер', 'шеф кебаб & steak', 'шеф хаус', 'шикари', 'шикари иль патио', 'ширван', 'ширин', 'ширин кафе', 'широкую на широкую', 'шиф кафе', 'шиша', 'шишас бар', 'шишка', 'шк-интернат №105', 'шкварка', 'школа', 'школа 1000', 'школа 1001', 'школа 1002', 'школа 1003', 'школа 1004', 'школа 1007', 'школа 1009', 'школа 1011', 'школа 1012', 'школа 1039', 'школа 1055 «кдп»', 'школа 1073 кдп', 'школа 1115', 'школа 1143', 'школа 1186', 'школа 1188', 'школа 1203', 'школа 1204', 'школа 1205', 'школа 1222', 'школа 1225', 'школа 1226', 'школа 1227', 'школа 1228', 'школа 1229', 'школа 1242 «кдп»', 'школа 1242 кдп', 'школа 1247', 'школа 1270', 'школа 1274', 'школа 1306-частная', 'школа 1321', 'школа 1347', 'школа 1375 кшп «загорье»', 'школа 1381', 'школа 1429', 'школа 1444', 'школа 1468', 'школа 1472 кшп «загорье»', 'школа 15', 'школа 1523 «кдп»', 'школа 1527 гимназия «кдп»', 'школа 1569 2 «созвездие»', 'школа 1569 «созвездие»', 'школа 1621', 'школа 1650', 'школа 1703', 'школа 1710', 'школа 1748', 'школа 1770', 'школа 1778', 'школа 1806', 'школа 1871', 'школа 1877', 'школа 190', 'школа 190 филиал', 'школа 1948', 'школа 1986', 'школа 2001 «кдп»', 'школа 2010', 'школа 2011', 'школа 2012', 'школа 2016 кшп загорье', 'школа 2045 корп.2031', 'школа 2056', 'школа 2095', 'школа 2104', 'школа 298', 'школа 3', 'школа 310', 'школа 320', 'школа 330', 'школа 335', 'школа 338', 'школа 346', 'школа 353', 'школа 354', 'школа 359', 'школа 393', 'школа 414', 'школа 415', 'школа 416', 'школа 417', 'школа 420', 'школа 424', 'школа 435', 'школа 448', 'школа 451', 'школа 460', 'школа 463 «кдп»', 'школа 469', 'школа 471', 'школа 476', 'школа 481', 'школа 485', 'школа 486', 'школа 492 «кдп»', 'школа 492 оао кдп', 'школа 494 «кдп»', 'школа 498', 'школа 502 «кдп»', 'школа 506', 'школа 507 кдп', 'школа 509', 'школа 510', 'школа 513', 'школа 514', 'школа 514 «кдп»', 'школа 515 «комбинат дошкольного питания»', 'школа 523', 'школа 529', 'школа 530', 'школа 539', 'школа 540 «кдп»', 'школа 543 гуп «школьник»', 'школа 546 «комбинат дошкольного пиания»', 'школа 551 «комбинат дошкольного питания»', 'школа 562', 'школа 567 кшп «загорье»', 'школа 573 «кдп»', 'школа 574 кдп', 'школа 604', 'школа 613', 'школа 617', 'школа 618', 'школа 628 «комбинат дошкольного питания»', 'школа 632', 'школа 661', 'школа 664', 'школа 667 «кдп»', 'школа 675', 'школа 730 гуп «школьник»', 'школа 733', 'школа 735', 'школа 751', 'школа 762', 'школа 763', 'школа 772', 'школа 775', 'школа 804', 'школа 842', 'школа 878', 'школа 906 кдп', 'школа 913', 'школа 919', 'школа 927 «кдп»', 'школа 933 «кдп»', 'школа 940 гуп «школьник»', 'школа 978 гуп «школьник»', 'школа n 1955', 'школа «№123»', 'школа аварели андрияки с', 'школа апогей', 'школа гимназия 1534', 'школа знак', 'школа интеллект', 'школа с углубленным изучением отдельных предметов № 1234', 'школа танцев galladance', 'школа № 1', 'школа № 11', 'школа № 120', 'школа № 1249 (доготовочная столовая)', 'школа № 1251 (доготовочная столовая)', 'школа № 1252 (доготовочная столовая)', 'школа № 1257', 'школа № 1260', 'школа № 1265', 'школа № 1266', 'школа № 1279', 'школа № 1285', 'школа № 1384 (доготовочная столовая)', 'школа № 1431', 'школа № 149', 'школа № 162 (доготовочная столовая)', 'школа № 187', 'школа № 192', 'школа № 1948', 'школа № 198', 'школа № 2042', 'школа № 22', 'школа № 25', 'школа № 26', 'школа № 439 ителлект', 'школа № 524', 'школа № 536', 'школа № 538', 'школа № 554', 'школа № 706 (доготовочная столовая)', 'школа № 739 (доготовочная столовая)', 'школа № 820', 'школа № 824', 'школа № 830', 'школа № 830 корпус № 4', 'школа № 834', 'школа №105', 'школа №110', 'школа №124', 'школа №1241', 'школа №1243', 'школа №1272', 'школа №136', 'школа №1466 оао «кдп»', 'школа №2073', 'школа №82', 'школа №83', 'школа №868 оао «кдп»', 'школа №869 оао «кдп»', 'школа №87', 'школа №870 оао «кдп»', 'школа №904 оао «кдп»', 'школа №96', 'школа №982 оао «кдп»', 'школа-интернат 19', 'школа-интернат 25', 'школа-интернат 61', 'школа-интернат 68', 'школа-интернат № 108', 'школа-интернат №42', 'школы № 1451', 'школьная столовая 1005 1210', 'школьная столовая 92 1210', 'школьная столовая № 1210', 'школьная столовая № 1874', 'школьник-юз', 'школьно- базовый комбинат', 'школьно-базовая столовая', 'школьно-базовая столовая колорит гимназ. 1518', 'школьно-базовая столовая колорит школа 1531', 'шоколад', 'шоколадница', 'шоколадница кофе хаус', 'шоколадница кофемания', 'шоколадница экспресс', 'шоколадное ателье', 'шотландская клетка', 'шпатен-хаус', 'шпилька', 'штаб пивной бар', 'штирбирлиц', 'штолле', 'штос', 'шу-шу', 'шук', 'шумкина 26', 'шурма', 'шурпа', 'шэгги дог', 'шёлковый путь', 'щедрый барин', 'щепка', 'щепка улица', 'щербакова людмила анатольевна', 'щербенко л.а.', 'щербет', 'эzo', 'эвент холл триумф', 'эвоян э.а', 'эгоистка', 'эгриси', 'эдвардз', 'эдельвейс', 'эдем', 'эдоко', 'экипаж', 'экле', 'эклер', 'эклерка', 'эклерная', 'эко-няма', 'эко-пекарня президент', 'экспедиция', 'экспериентальное хозяйство кленово-чегодаево', 'экспериментариум кафе', 'экспресс бистро', 'экспресс кафе', 'экспресс-кафе «donar»', 'экспресс-кофейня «werry berry»', 'экспромт', 'экспромт beer & meat', 'экстра виржен', 'эларджи', 'электромеханический колледж 55', 'электроугли', 'элемент', 'эликсир', 'элион', 'элит', 'элкат', 'эль гаучито', 'эль гаучо', 'эль и стаут', 'эль инка', 'эль кафе', 'эль россо', 'эльрома', 'эмиратас', 'эмма', 'эмпорио', 'эрвин', 'эрик рыжий', 'эристави', 'эскабар', 'эскалибур лтд', 'эстрада лобби-бар', 'этаж прожект', 'этномир', 'это', 'эфи', 'ю-мэ', 'югос', 'юдиф', 'южане', 'южное', 'южный дворик', 'юкон', 'юлдес-тур', 'юнайтед китчен', 'юнион джек', 'юнит', 'юнона', 'юность', 'юрта', 'я люблю суши', 'яв тай', 'явтай', 'якиманка (закрытое)', 'якитория', 'якитория и спорт бар', 'якитория и ян примус', 'якорь', 'ям ресторантс интернешенл си ай эс', 'ямас', 'ямато', 'ямми микс', 'ямская поляна-кафе', 'ян примус', 'яндекс еда', 'янис', 'янсон', 'японоитальяна', 'японская кулинария', 'японский пес', 'японский ресторан «ваби-саби»', 'япончик', 'япоша', 'япошкин кот', 'ярославский посад', 'ярс-трейд', 'яръ', 'ясамарканд24', 'ясмин', 'ясон', 'яуза', 'ёбидоёби', 'ёрш']\n"
     ]
    }
   ],
   "source": [
    "print(sorted(data['object_name'].unique())) # Просмотр уникальных названий жанров"
   ]
  },
  {
   "cell_type": "markdown",
   "metadata": {},
   "source": [
    "Бросаются в галаза неявные дубликаты, такие как, например 'Кофейня «Шоколадница»','Кафе «Шоколадница»','Кофейня Шоколадница', заменим их и некоторые другие неявные дубликаты единым названием с помощью функции"
   ]
  },
  {
   "cell_type": "code",
   "execution_count": 12,
   "metadata": {},
   "outputs": [],
   "source": [
    " def replace_wrong_genres(wrong_name, correct_name): # Функция для замены неявных дубликатов\n",
    "        data['object_name'] = data['object_name'].replace(wrong_name, correct_name)"
   ]
  },
  {
   "cell_type": "code",
   "execution_count": 13,
   "metadata": {},
   "outputs": [],
   "source": [
    "duplicates = ['Кофейня «Шоколадница»','Кафе «Шоколадница»','Кофейня Шоколадница']\n",
    "name = 'Шоколадница'\n",
    "replace_wrong_genres(duplicates, name) # Устранение неявных дубликатов"
   ]
  },
  {
   "cell_type": "code",
   "execution_count": 14,
   "metadata": {},
   "outputs": [],
   "source": [
    "duplicates = ['Кулинарная Лавка Братьев Караваевых Братья Караваевы','«Кафе «Кулинарная лавка братьев Караваевых»»','Кафе «Кулинарная лавка братьев Караваевых»','«Кафе «Кулинарная лавка братьев Караваевых»']\n",
    "name = 'Кулинарная лавка братьев Караваевых'\n",
    "replace_wrong_genres(duplicates, name) # Устранение неявных дубликатов"
   ]
  },
  {
   "cell_type": "markdown",
   "metadata": {},
   "source": [
    "**Вывод**"
   ]
  },
  {
   "cell_type": "markdown",
   "metadata": {},
   "source": [
    "Предобработка обнаружила следующие проблемы в данных:\n",
    "\n",
    "- ннеявные дубликаты\n",
    "\n",
    "Мы исправили неявные дубликаты, чтобы упростить работу с таблицей. \n",
    "\n",
    "Также проверили таблицу на наличие явных дубликатов, оказалоь, что они отсутсвуют, а типы данных пригодны для анализа. "
   ]
  },
  {
   "cell_type": "markdown",
   "metadata": {},
   "source": [
    "<div class=\"alert alert-success\">\n",
    "<b>Комментарий ревьюера:</b>☀️\n",
    "    \n",
    "Конечно в названиях больше и других схожих наименований, которые стоило бы поправить, но это не цель задания, исправить всё</div>\n"
   ]
  },
  {
   "cell_type": "markdown",
   "metadata": {},
   "source": [
    "## Шаг №2. Анализ данных"
   ]
  },
  {
   "cell_type": "markdown",
   "metadata": {},
   "source": [
    "### Исследуйте соотношение видов объектов общественного питания по количеству. Постройте график."
   ]
  },
  {
   "cell_type": "code",
   "execution_count": 15,
   "metadata": {
    "scrolled": true
   },
   "outputs": [
    {
     "data": {
      "text/html": [
       "<div>\n",
       "<style scoped>\n",
       "    .dataframe tbody tr th:only-of-type {\n",
       "        vertical-align: middle;\n",
       "    }\n",
       "\n",
       "    .dataframe tbody tr th {\n",
       "        vertical-align: top;\n",
       "    }\n",
       "\n",
       "    .dataframe thead th {\n",
       "        text-align: right;\n",
       "    }\n",
       "</style>\n",
       "<table border=\"1\" class=\"dataframe\">\n",
       "  <thead>\n",
       "    <tr style=\"text-align: right;\">\n",
       "      <th></th>\n",
       "      <th>count</th>\n",
       "    </tr>\n",
       "    <tr>\n",
       "      <th>object_type</th>\n",
       "      <th></th>\n",
       "    </tr>\n",
       "  </thead>\n",
       "  <tbody>\n",
       "    <tr>\n",
       "      <th>кафе</th>\n",
       "      <td>6071</td>\n",
       "    </tr>\n",
       "    <tr>\n",
       "      <th>столовая</th>\n",
       "      <td>2584</td>\n",
       "    </tr>\n",
       "    <tr>\n",
       "      <th>ресторан</th>\n",
       "      <td>2282</td>\n",
       "    </tr>\n",
       "    <tr>\n",
       "      <th>предприятие быстрого обслуживания</th>\n",
       "      <td>1898</td>\n",
       "    </tr>\n",
       "    <tr>\n",
       "      <th>бар</th>\n",
       "      <td>855</td>\n",
       "    </tr>\n",
       "    <tr>\n",
       "      <th>буфет</th>\n",
       "      <td>577</td>\n",
       "    </tr>\n",
       "    <tr>\n",
       "      <th>кафетерий</th>\n",
       "      <td>395</td>\n",
       "    </tr>\n",
       "    <tr>\n",
       "      <th>закусочная</th>\n",
       "      <td>349</td>\n",
       "    </tr>\n",
       "    <tr>\n",
       "      <th>магазин (отдел кулинарии)</th>\n",
       "      <td>273</td>\n",
       "    </tr>\n",
       "  </tbody>\n",
       "</table>\n",
       "</div>"
      ],
      "text/plain": [
       "                                   count\n",
       "object_type                             \n",
       "кафе                                6071\n",
       "столовая                            2584\n",
       "ресторан                            2282\n",
       "предприятие быстрого обслуживания   1898\n",
       "бар                                  855\n",
       "буфет                                577\n",
       "кафетерий                            395\n",
       "закусочная                           349\n",
       "магазин (отдел кулинарии)            273"
      ]
     },
     "metadata": {},
     "output_type": "display_data"
    }
   ],
   "source": [
    "object_type_number = (data.groupby('object_type').agg({'address':'count'}).sort_values(by='address', ascending = False)) # группируем данные по типу общественного питания\n",
    "object_type_number.columns = ['count'] # переименовываю столбец\n",
    "display(object_type_number)"
   ]
  },
  {
   "cell_type": "markdown",
   "metadata": {},
   "source": [
    "Самым популярным тип ресторана общественного питания в Москве кафе, за ним идёт столовая, замыкает тройку ресторан, визуализируем данные "
   ]
  },
  {
   "cell_type": "code",
   "execution_count": 16,
   "metadata": {},
   "outputs": [
    {
     "data": {
      "image/png": "[encoded data removed]",
      "text/plain": [
       "<Figure size 432x288 with 1 Axes>"
      ]
     },
     "metadata": {
      "needs_background": "light"
     },
     "output_type": "display_data"
    }
   ],
   "source": [
    "object_type_number\n",
    "x = ['кафе','столовая','ресторан','предприятие быстрого обслуживания','бар','буфет','кафетерий','закусочная','магазин (отдел кулинарии)']\n",
    "y = object_type_number['count']\n",
    "x = plt.bar(x, y)\n",
    "plt.savefig('s_plot_1_4.png', dpi=400, bbox_inches='tight') \n",
    "plt.style.use('ggplot') \n",
    "plt.title('Количество объектов общественного питания')\n",
    "plt.xlabel('Объекты')\n",
    "plt.ylabel('Количество')\n",
    "plt.xticks(rotation = 90)\n",
    "plt.show()"
   ]
  },
  {
   "cell_type": "markdown",
   "metadata": {},
   "source": [
    "<div class=\"alert alert-danger\">\n",
    "<b>Комментарий ревьюера:</b>☁️\n",
    "\n",
    "Это выглядит очень странно, а почему для построения графика не использовать столбец `count` в датафрейме `object_type_number`? Зачем переписывать из него всё в список?\n",
    "</div>\n"
   ]
  },
  {
   "cell_type": "markdown",
   "metadata": {},
   "source": [
    "<div class=\"alert alert-info\"> <b>Комментарий студента:</b> Да, действительно, поправил </div>"
   ]
  },
  {
   "cell_type": "markdown",
   "metadata": {},
   "source": [
    "<div class=\"alert alert-success\">\n",
    "<b>Комментарий ревьюера v2:</b>☀️\n",
    "    \n",
    "Так привычнее, спасибо \n",
    "</div>\n"
   ]
  },
  {
   "cell_type": "markdown",
   "metadata": {},
   "source": [
    "При визуализации видно, что кафе имеют подавляющие приемущество над остальными типами общественного питания, замыкает рейтинг магазинные отделы кулинарии"
   ]
  },
  {
   "cell_type": "markdown",
   "metadata": {},
   "source": [
    "### Исследуйте соотношение сетевых и несетевых заведений по количеству. Постройте график."
   ]
  },
  {
   "cell_type": "code",
   "execution_count": 17,
   "metadata": {},
   "outputs": [
    {
     "data": {
      "text/html": [
       "<div>\n",
       "<style scoped>\n",
       "    .dataframe tbody tr th:only-of-type {\n",
       "        vertical-align: middle;\n",
       "    }\n",
       "\n",
       "    .dataframe tbody tr th {\n",
       "        vertical-align: top;\n",
       "    }\n",
       "\n",
       "    .dataframe thead th {\n",
       "        text-align: right;\n",
       "    }\n",
       "</style>\n",
       "<table border=\"1\" class=\"dataframe\">\n",
       "  <thead>\n",
       "    <tr style=\"text-align: right;\">\n",
       "      <th></th>\n",
       "      <th>count</th>\n",
       "    </tr>\n",
       "    <tr>\n",
       "      <th>chain</th>\n",
       "      <th></th>\n",
       "    </tr>\n",
       "  </thead>\n",
       "  <tbody>\n",
       "    <tr>\n",
       "      <th>нет</th>\n",
       "      <td>12320</td>\n",
       "    </tr>\n",
       "    <tr>\n",
       "      <th>да</th>\n",
       "      <td>2964</td>\n",
       "    </tr>\n",
       "  </tbody>\n",
       "</table>\n",
       "</div>"
      ],
      "text/plain": [
       "       count\n",
       "chain       \n",
       "нет    12320\n",
       "да      2964"
      ]
     },
     "metadata": {},
     "output_type": "display_data"
    }
   ],
   "source": [
    "object_type_number = (data.groupby('chain').agg({'address':'count'}).sort_values(by='address', ascending = False))\n",
    "object_type_number.columns = ['count'] # переименовываю столбец\n",
    "display(object_type_number)"
   ]
  },
  {
   "cell_type": "code",
   "execution_count": 18,
   "metadata": {},
   "outputs": [],
   "source": [
    "Da = 2968\n",
    "Net = 12320"
   ]
  },
  {
   "cell_type": "code",
   "execution_count": 19,
   "metadata": {},
   "outputs": [
    {
     "data": {
      "image/png": "[encoded data removed]",
      "text/plain": [
       "<Figure size 432x288 with 1 Axes>"
      ]
     },
     "metadata": {},
     "output_type": "display_data"
    }
   ],
   "source": [
    "x = ['Сетевой','Несетевой']\n",
    "y = [Da, Net]\n",
    "x = plt.bar(x, y)\n",
    "\n",
    "plt.title('Соотношение сетевых и несетевых заведений')\n",
    "plt.ylabel('Количество')\n",
    "\n",
    "plt.show()"
   ]
  },
  {
   "cell_type": "markdown",
   "metadata": {},
   "source": [
    "Количество несетевых заведений значительно превосходит сетевые, посмотрим для какого вида объектов общепита харатерно сетевое распространение"
   ]
  },
  {
   "cell_type": "markdown",
   "metadata": {},
   "source": [
    "### Для какого вида объекта общественного питания характерно сетевое распространение?"
   ]
  },
  {
   "cell_type": "markdown",
   "metadata": {},
   "source": [
    "Сделаем сводную таблицу по типам объектов общепита, подщитаем какие из них сетевые и нет и посмотрим долю"
   ]
  },
  {
   "cell_type": "code",
   "execution_count": 20,
   "metadata": {
    "scrolled": true
   },
   "outputs": [
    {
     "data": {
      "text/html": [
       "<style  type=\"text/css\" >\n",
       "</style><table id=\"T_c95ac_\" ><thead>    <tr>        <th class=\"index_name level0\" >chain</th>        <th class=\"col_heading level0 col0\" >object_type</th>        <th class=\"col_heading level0 col1\" >да</th>        <th class=\"col_heading level0 col2\" >нет</th>        <th class=\"col_heading level0 col3\" >chain_part</th>    </tr></thead><tbody>\n",
       "                <tr>\n",
       "                        <th id=\"T_c95ac_level0_row0\" class=\"row_heading level0 row0\" >6</th>\n",
       "                        <td id=\"T_c95ac_row0_col0\" class=\"data row0 col0\" >предприятие быстрого обслуживания</td>\n",
       "                        <td id=\"T_c95ac_row0_col1\" class=\"data row0 col1\" >788</td>\n",
       "                        <td id=\"T_c95ac_row0_col2\" class=\"data row0 col2\" >1110</td>\n",
       "                        <td id=\"T_c95ac_row0_col3\" class=\"data row0 col3\" >41.52%</td>\n",
       "            </tr>\n",
       "            <tr>\n",
       "                        <th id=\"T_c95ac_level0_row1\" class=\"row_heading level0 row1\" >5</th>\n",
       "                        <td id=\"T_c95ac_row1_col0\" class=\"data row1 col0\" >магазин (отдел кулинарии)</td>\n",
       "                        <td id=\"T_c95ac_row1_col1\" class=\"data row1 col1\" >78</td>\n",
       "                        <td id=\"T_c95ac_row1_col2\" class=\"data row1 col2\" >195</td>\n",
       "                        <td id=\"T_c95ac_row1_col3\" class=\"data row1 col3\" >28.57%</td>\n",
       "            </tr>\n",
       "            <tr>\n",
       "                        <th id=\"T_c95ac_level0_row2\" class=\"row_heading level0 row2\" >7</th>\n",
       "                        <td id=\"T_c95ac_row2_col0\" class=\"data row2 col0\" >ресторан</td>\n",
       "                        <td id=\"T_c95ac_row2_col1\" class=\"data row2 col1\" >543</td>\n",
       "                        <td id=\"T_c95ac_row2_col2\" class=\"data row2 col2\" >1739</td>\n",
       "                        <td id=\"T_c95ac_row2_col3\" class=\"data row2 col3\" >23.79%</td>\n",
       "            </tr>\n",
       "            <tr>\n",
       "                        <th id=\"T_c95ac_level0_row3\" class=\"row_heading level0 row3\" >3</th>\n",
       "                        <td id=\"T_c95ac_row3_col0\" class=\"data row3 col0\" >кафе</td>\n",
       "                        <td id=\"T_c95ac_row3_col1\" class=\"data row3 col1\" >1396</td>\n",
       "                        <td id=\"T_c95ac_row3_col2\" class=\"data row3 col2\" >4675</td>\n",
       "                        <td id=\"T_c95ac_row3_col3\" class=\"data row3 col3\" >22.99%</td>\n",
       "            </tr>\n",
       "            <tr>\n",
       "                        <th id=\"T_c95ac_level0_row4\" class=\"row_heading level0 row4\" >2</th>\n",
       "                        <td id=\"T_c95ac_row4_col0\" class=\"data row4 col0\" >закусочная</td>\n",
       "                        <td id=\"T_c95ac_row4_col1\" class=\"data row4 col1\" >56</td>\n",
       "                        <td id=\"T_c95ac_row4_col2\" class=\"data row4 col2\" >293</td>\n",
       "                        <td id=\"T_c95ac_row4_col3\" class=\"data row4 col3\" >16.05%</td>\n",
       "            </tr>\n",
       "            <tr>\n",
       "                        <th id=\"T_c95ac_level0_row5\" class=\"row_heading level0 row5\" >4</th>\n",
       "                        <td id=\"T_c95ac_row5_col0\" class=\"data row5 col0\" >кафетерий</td>\n",
       "                        <td id=\"T_c95ac_row5_col1\" class=\"data row5 col1\" >52</td>\n",
       "                        <td id=\"T_c95ac_row5_col2\" class=\"data row5 col2\" >343</td>\n",
       "                        <td id=\"T_c95ac_row5_col3\" class=\"data row5 col3\" >13.16%</td>\n",
       "            </tr>\n",
       "            <tr>\n",
       "                        <th id=\"T_c95ac_level0_row6\" class=\"row_heading level0 row6\" >0</th>\n",
       "                        <td id=\"T_c95ac_row6_col0\" class=\"data row6 col0\" >бар</td>\n",
       "                        <td id=\"T_c95ac_row6_col1\" class=\"data row6 col1\" >37</td>\n",
       "                        <td id=\"T_c95ac_row6_col2\" class=\"data row6 col2\" >818</td>\n",
       "                        <td id=\"T_c95ac_row6_col3\" class=\"data row6 col3\" >4.33%</td>\n",
       "            </tr>\n",
       "            <tr>\n",
       "                        <th id=\"T_c95ac_level0_row7\" class=\"row_heading level0 row7\" >1</th>\n",
       "                        <td id=\"T_c95ac_row7_col0\" class=\"data row7 col0\" >буфет</td>\n",
       "                        <td id=\"T_c95ac_row7_col1\" class=\"data row7 col1\" >11</td>\n",
       "                        <td id=\"T_c95ac_row7_col2\" class=\"data row7 col2\" >566</td>\n",
       "                        <td id=\"T_c95ac_row7_col3\" class=\"data row7 col3\" >1.91%</td>\n",
       "            </tr>\n",
       "            <tr>\n",
       "                        <th id=\"T_c95ac_level0_row8\" class=\"row_heading level0 row8\" >8</th>\n",
       "                        <td id=\"T_c95ac_row8_col0\" class=\"data row8 col0\" >столовая</td>\n",
       "                        <td id=\"T_c95ac_row8_col1\" class=\"data row8 col1\" >3</td>\n",
       "                        <td id=\"T_c95ac_row8_col2\" class=\"data row8 col2\" >2581</td>\n",
       "                        <td id=\"T_c95ac_row8_col3\" class=\"data row8 col3\" >0.12%</td>\n",
       "            </tr>\n",
       "    </tbody></table>"
      ],
      "text/plain": [
       "<pandas.io.formats.style.Styler at 0x7f6b64584940>"
      ]
     },
     "execution_count": 20,
     "metadata": {},
     "output_type": "execute_result"
    }
   ],
   "source": [
    "chain_group = data.pivot_table(values = 'object_name', \n",
    "                                      index = 'object_type', \n",
    "                                      columns = ['chain'], \n",
    "                                      aggfunc = 'count').reset_index()\n",
    "chain_group['chain_part'] = chain_group['да']/(chain_group['да'] + chain_group['нет'])*100\n",
    "chain_group = chain_group.sort_values(by = 'chain_part', ascending = False).style.format({'chain_part': '{:.2f}%'})\n",
    "chain_group"
   ]
  },
  {
   "cell_type": "markdown",
   "metadata": {},
   "source": [
    "Сетевое распространение особенно характерно для предприятий быстрого обслуживания "
   ]
  },
  {
   "cell_type": "markdown",
   "metadata": {},
   "source": [
    "<div class=\"alert alert-success\">\n",
    "<b>Комментарий ревьюера:</b>☀️\n",
    "    \n",
    "Так можно и абсолютное число сетевых заведений оценить и относительное, хорошее построение </div>\n"
   ]
  },
  {
   "cell_type": "markdown",
   "metadata": {},
   "source": [
    "### Что характерно для сетевых заведений: много заведений с небольшим числом посадочных мест в каждом или мало заведений с большим количеством посадочных мест?"
   ]
  },
  {
   "cell_type": "code",
   "execution_count": 21,
   "metadata": {},
   "outputs": [],
   "source": [
    "data_network = data.query('chain == \"да\"') # сделаем срез данных по сетевым заведениям"
   ]
  },
  {
   "cell_type": "code",
   "execution_count": 22,
   "metadata": {},
   "outputs": [
    {
     "data": {
      "text/html": [
       "<div>\n",
       "<style scoped>\n",
       "    .dataframe tbody tr th:only-of-type {\n",
       "        vertical-align: middle;\n",
       "    }\n",
       "\n",
       "    .dataframe tbody tr th {\n",
       "        vertical-align: top;\n",
       "    }\n",
       "\n",
       "    .dataframe thead th {\n",
       "        text-align: right;\n",
       "    }\n",
       "</style>\n",
       "<table border=\"1\" class=\"dataframe\">\n",
       "  <thead>\n",
       "    <tr style=\"text-align: right;\">\n",
       "      <th></th>\n",
       "      <th>object_name</th>\n",
       "      <th>number</th>\n",
       "      <th>chain</th>\n",
       "    </tr>\n",
       "  </thead>\n",
       "  <tbody>\n",
       "    <tr>\n",
       "      <th>0</th>\n",
       "      <td>beverly hills diner</td>\n",
       "      <td>88.000000</td>\n",
       "      <td>1</td>\n",
       "    </tr>\n",
       "    <tr>\n",
       "      <th>1</th>\n",
       "      <td>bierloga</td>\n",
       "      <td>75.000000</td>\n",
       "      <td>1</td>\n",
       "    </tr>\n",
       "    <tr>\n",
       "      <th>2</th>\n",
       "      <td>black &amp; white</td>\n",
       "      <td>40.000000</td>\n",
       "      <td>1</td>\n",
       "    </tr>\n",
       "    <tr>\n",
       "      <th>3</th>\n",
       "      <td>bocconcino</td>\n",
       "      <td>66.666667</td>\n",
       "      <td>3</td>\n",
       "    </tr>\n",
       "    <tr>\n",
       "      <th>4</th>\n",
       "      <td>boobo</td>\n",
       "      <td>46.000000</td>\n",
       "      <td>1</td>\n",
       "    </tr>\n",
       "    <tr>\n",
       "      <th>...</th>\n",
       "      <td>...</td>\n",
       "      <td>...</td>\n",
       "      <td>...</td>\n",
       "    </tr>\n",
       "    <tr>\n",
       "      <th>572</th>\n",
       "      <td>ямми микс</td>\n",
       "      <td>2.000000</td>\n",
       "      <td>1</td>\n",
       "    </tr>\n",
       "    <tr>\n",
       "      <th>573</th>\n",
       "      <td>ян примус</td>\n",
       "      <td>300.000000</td>\n",
       "      <td>1</td>\n",
       "    </tr>\n",
       "    <tr>\n",
       "      <th>574</th>\n",
       "      <td>японский ресторан «ваби-саби»</td>\n",
       "      <td>155.000000</td>\n",
       "      <td>1</td>\n",
       "    </tr>\n",
       "    <tr>\n",
       "      <th>575</th>\n",
       "      <td>япоша</td>\n",
       "      <td>105.000000</td>\n",
       "      <td>2</td>\n",
       "    </tr>\n",
       "    <tr>\n",
       "      <th>576</th>\n",
       "      <td>ёрш</td>\n",
       "      <td>112.250000</td>\n",
       "      <td>4</td>\n",
       "    </tr>\n",
       "  </tbody>\n",
       "</table>\n",
       "<p>577 rows × 3 columns</p>\n",
       "</div>"
      ],
      "text/plain": [
       "                       object_name      number  chain\n",
       "0              beverly hills diner   88.000000      1\n",
       "1                         bierloga   75.000000      1\n",
       "2                    black & white   40.000000      1\n",
       "3                       bocconcino   66.666667      3\n",
       "4                            boobo   46.000000      1\n",
       "..                             ...         ...    ...\n",
       "572                      ямми микс    2.000000      1\n",
       "573                      ян примус  300.000000      1\n",
       "574  японский ресторан «ваби-саби»  155.000000      1\n",
       "575                          япоша  105.000000      2\n",
       "576                            ёрш  112.250000      4\n",
       "\n",
       "[577 rows x 3 columns]"
      ]
     },
     "execution_count": 22,
     "metadata": {},
     "output_type": "execute_result"
    }
   ],
   "source": [
    "data_network.groupby('object_name', as_index=False).agg({'number': 'mean', 'chain': 'count'}) # сгруппируем данные по названию объектов общепита"
   ]
  },
  {
   "cell_type": "code",
   "execution_count": 23,
   "metadata": {},
   "outputs": [
    {
     "data": {
      "text/html": [
       "<div>\n",
       "<style scoped>\n",
       "    .dataframe tbody tr th:only-of-type {\n",
       "        vertical-align: middle;\n",
       "    }\n",
       "\n",
       "    .dataframe tbody tr th {\n",
       "        vertical-align: top;\n",
       "    }\n",
       "\n",
       "    .dataframe thead th {\n",
       "        text-align: right;\n",
       "    }\n",
       "</style>\n",
       "<table border=\"1\" class=\"dataframe\">\n",
       "  <thead>\n",
       "    <tr style=\"text-align: right;\">\n",
       "      <th></th>\n",
       "      <th>count_object</th>\n",
       "      <th>sum_seat</th>\n",
       "    </tr>\n",
       "    <tr>\n",
       "      <th>object_name</th>\n",
       "      <th></th>\n",
       "      <th></th>\n",
       "    </tr>\n",
       "  </thead>\n",
       "  <tbody>\n",
       "    <tr>\n",
       "      <th>макдоналдс</th>\n",
       "      <td>150</td>\n",
       "      <td>13155</td>\n",
       "    </tr>\n",
       "    <tr>\n",
       "      <th>шоколадница</th>\n",
       "      <td>157</td>\n",
       "      <td>8978</td>\n",
       "    </tr>\n",
       "    <tr>\n",
       "      <th>kfc</th>\n",
       "      <td>155</td>\n",
       "      <td>8578</td>\n",
       "    </tr>\n",
       "    <tr>\n",
       "      <th>чайхона №1</th>\n",
       "      <td>43</td>\n",
       "      <td>6399</td>\n",
       "    </tr>\n",
       "    <tr>\n",
       "      <th>бургер кинг</th>\n",
       "      <td>137</td>\n",
       "      <td>6391</td>\n",
       "    </tr>\n",
       "    <tr>\n",
       "      <th>якитория</th>\n",
       "      <td>38</td>\n",
       "      <td>4452</td>\n",
       "    </tr>\n",
       "    <tr>\n",
       "      <th>тануки</th>\n",
       "      <td>32</td>\n",
       "      <td>3644</td>\n",
       "    </tr>\n",
       "    <tr>\n",
       "      <th>му-му</th>\n",
       "      <td>24</td>\n",
       "      <td>3435</td>\n",
       "    </tr>\n",
       "    <tr>\n",
       "      <th>иль патио</th>\n",
       "      <td>25</td>\n",
       "      <td>3027</td>\n",
       "    </tr>\n",
       "    <tr>\n",
       "      <th>теремок</th>\n",
       "      <td>94</td>\n",
       "      <td>2407</td>\n",
       "    </tr>\n",
       "  </tbody>\n",
       "</table>\n",
       "</div>"
      ],
      "text/plain": [
       "             count_object  sum_seat\n",
       "object_name                        \n",
       "макдоналдс            150     13155\n",
       "шоколадница           157      8978\n",
       "kfc                   155      8578\n",
       "чайхона №1             43      6399\n",
       "бургер кинг           137      6391\n",
       "якитория               38      4452\n",
       "тануки                 32      3644\n",
       "му-му                  24      3435\n",
       "иль патио              25      3027\n",
       "теремок                94      2407"
      ]
     },
     "metadata": {},
     "output_type": "display_data"
    }
   ],
   "source": [
    "# сделаем сводную таблицу для подсчета количества объектов по названию и суммы посадочных мест\n",
    "network_pivot = data_network.pivot_table(index=[\"object_name\"], values='number', aggfunc=['count','sum']) \n",
    "network_pivot.columns = ['count_object', 'sum_seat'] # переименуем столбцы для удобства\n",
    "display(network_pivot.sort_values(by = 'sum_seat', ascending = False).head(10))"
   ]
  },
  {
   "cell_type": "markdown",
   "metadata": {},
   "source": [
    "<div class=\"alert alert-warning\">\n",
    "<b>Комментарий ревьюера:</b>⛅️ \n",
    "\n",
    "Старайся, чтобы код в ячейки помещался без прокрутки\n",
    "</div>"
   ]
  },
  {
   "cell_type": "markdown",
   "metadata": {},
   "source": [
    "<div class=\"alert alert-info\"> <b>Комментарий студента:</b> Поправил </div>"
   ]
  },
  {
   "cell_type": "code",
   "execution_count": 24,
   "metadata": {
    "scrolled": true
   },
   "outputs": [
    {
     "data": {
      "text/html": [
       "<div>\n",
       "<style scoped>\n",
       "    .dataframe tbody tr th:only-of-type {\n",
       "        vertical-align: middle;\n",
       "    }\n",
       "\n",
       "    .dataframe tbody tr th {\n",
       "        vertical-align: top;\n",
       "    }\n",
       "\n",
       "    .dataframe thead th {\n",
       "        text-align: right;\n",
       "    }\n",
       "</style>\n",
       "<table border=\"1\" class=\"dataframe\">\n",
       "  <thead>\n",
       "    <tr style=\"text-align: right;\">\n",
       "      <th></th>\n",
       "      <th>count_object</th>\n",
       "      <th>sum_seat</th>\n",
       "      <th>seat_per_object</th>\n",
       "    </tr>\n",
       "    <tr>\n",
       "      <th>object_name</th>\n",
       "      <th></th>\n",
       "      <th></th>\n",
       "      <th></th>\n",
       "    </tr>\n",
       "  </thead>\n",
       "  <tbody>\n",
       "    <tr>\n",
       "      <th>макдоналдс</th>\n",
       "      <td>150</td>\n",
       "      <td>13155</td>\n",
       "      <td>87.700000</td>\n",
       "    </tr>\n",
       "    <tr>\n",
       "      <th>шоколадница</th>\n",
       "      <td>157</td>\n",
       "      <td>8978</td>\n",
       "      <td>57.184713</td>\n",
       "    </tr>\n",
       "    <tr>\n",
       "      <th>kfc</th>\n",
       "      <td>155</td>\n",
       "      <td>8578</td>\n",
       "      <td>55.341935</td>\n",
       "    </tr>\n",
       "    <tr>\n",
       "      <th>чайхона №1</th>\n",
       "      <td>43</td>\n",
       "      <td>6399</td>\n",
       "      <td>148.813953</td>\n",
       "    </tr>\n",
       "    <tr>\n",
       "      <th>бургер кинг</th>\n",
       "      <td>137</td>\n",
       "      <td>6391</td>\n",
       "      <td>46.649635</td>\n",
       "    </tr>\n",
       "    <tr>\n",
       "      <th>якитория</th>\n",
       "      <td>38</td>\n",
       "      <td>4452</td>\n",
       "      <td>117.157895</td>\n",
       "    </tr>\n",
       "    <tr>\n",
       "      <th>тануки</th>\n",
       "      <td>32</td>\n",
       "      <td>3644</td>\n",
       "      <td>113.875000</td>\n",
       "    </tr>\n",
       "    <tr>\n",
       "      <th>му-му</th>\n",
       "      <td>24</td>\n",
       "      <td>3435</td>\n",
       "      <td>143.125000</td>\n",
       "    </tr>\n",
       "    <tr>\n",
       "      <th>иль патио</th>\n",
       "      <td>25</td>\n",
       "      <td>3027</td>\n",
       "      <td>121.080000</td>\n",
       "    </tr>\n",
       "    <tr>\n",
       "      <th>теремок</th>\n",
       "      <td>94</td>\n",
       "      <td>2407</td>\n",
       "      <td>25.606383</td>\n",
       "    </tr>\n",
       "  </tbody>\n",
       "</table>\n",
       "</div>"
      ],
      "text/plain": [
       "             count_object  sum_seat  seat_per_object\n",
       "object_name                                         \n",
       "макдоналдс            150     13155        87.700000\n",
       "шоколадница           157      8978        57.184713\n",
       "kfc                   155      8578        55.341935\n",
       "чайхона №1             43      6399       148.813953\n",
       "бургер кинг           137      6391        46.649635\n",
       "якитория               38      4452       117.157895\n",
       "тануки                 32      3644       113.875000\n",
       "му-му                  24      3435       143.125000\n",
       "иль патио              25      3027       121.080000\n",
       "теремок                94      2407        25.606383"
      ]
     },
     "metadata": {},
     "output_type": "display_data"
    }
   ],
   "source": [
    "network_pivot['seat_per_object'] = network_pivot['sum_seat']/network_pivot['count_object']\n",
    "display(network_pivot.sort_values(by = 'sum_seat', ascending = False).head(10))"
   ]
  },
  {
   "cell_type": "markdown",
   "metadata": {},
   "source": [
    "тоже самое проделаем для несетвых"
   ]
  },
  {
   "cell_type": "code",
   "execution_count": 25,
   "metadata": {},
   "outputs": [],
   "source": [
    "data_network = data.query('chain == \"нет\"') # сделаем срез данных по несетевым заведениям"
   ]
  },
  {
   "cell_type": "code",
   "execution_count": 26,
   "metadata": {},
   "outputs": [
    {
     "data": {
      "text/html": [
       "<div>\n",
       "<style scoped>\n",
       "    .dataframe tbody tr th:only-of-type {\n",
       "        vertical-align: middle;\n",
       "    }\n",
       "\n",
       "    .dataframe tbody tr th {\n",
       "        vertical-align: top;\n",
       "    }\n",
       "\n",
       "    .dataframe thead th {\n",
       "        text-align: right;\n",
       "    }\n",
       "</style>\n",
       "<table border=\"1\" class=\"dataframe\">\n",
       "  <thead>\n",
       "    <tr style=\"text-align: right;\">\n",
       "      <th></th>\n",
       "      <th>count_object</th>\n",
       "      <th>sum_seat</th>\n",
       "    </tr>\n",
       "    <tr>\n",
       "      <th>object_name</th>\n",
       "      <th></th>\n",
       "      <th></th>\n",
       "    </tr>\n",
       "  </thead>\n",
       "  <tbody>\n",
       "    <tr>\n",
       "      <th>1-й мок</th>\n",
       "      <td>1</td>\n",
       "      <td>100</td>\n",
       "    </tr>\n",
       "    <tr>\n",
       "      <th>1-ый московский кадетский корпус</th>\n",
       "      <td>1</td>\n",
       "      <td>260</td>\n",
       "    </tr>\n",
       "    <tr>\n",
       "      <th>100 личная столовая</th>\n",
       "      <td>1</td>\n",
       "      <td>30</td>\n",
       "    </tr>\n",
       "    <tr>\n",
       "      <th>100 личное кафе</th>\n",
       "      <td>1</td>\n",
       "      <td>45</td>\n",
       "    </tr>\n",
       "    <tr>\n",
       "      <th>1001 ночь</th>\n",
       "      <td>1</td>\n",
       "      <td>70</td>\n",
       "    </tr>\n",
       "    <tr>\n",
       "      <th>100лоффка</th>\n",
       "      <td>1</td>\n",
       "      <td>36</td>\n",
       "    </tr>\n",
       "    <tr>\n",
       "      <th>101 вкус</th>\n",
       "      <td>1</td>\n",
       "      <td>16</td>\n",
       "    </tr>\n",
       "    <tr>\n",
       "      <th>13 rules</th>\n",
       "      <td>2</td>\n",
       "      <td>39</td>\n",
       "    </tr>\n",
       "    <tr>\n",
       "      <th>13 rules kraft beer</th>\n",
       "      <td>1</td>\n",
       "      <td>12</td>\n",
       "    </tr>\n",
       "    <tr>\n",
       "      <th>15 kitchen+bar</th>\n",
       "      <td>1</td>\n",
       "      <td>30</td>\n",
       "    </tr>\n",
       "  </tbody>\n",
       "</table>\n",
       "</div>"
      ],
      "text/plain": [
       "                                  count_object  sum_seat\n",
       "object_name                                             \n",
       "1-й мок                                      1       100\n",
       "1-ый московский кадетский корпус             1       260\n",
       "100 личная столовая                          1        30\n",
       "100 личное кафе                              1        45\n",
       "1001 ночь                                    1        70\n",
       "100лоффка                                    1        36\n",
       "101 вкус                                     1        16\n",
       "13 rules                                     2        39\n",
       "13 rules kraft beer                          1        12\n",
       "15 kitchen+bar                               1        30"
      ]
     },
     "metadata": {},
     "output_type": "display_data"
    }
   ],
   "source": [
    "network_pivot = data_network.pivot_table(index=[\"object_name\"], values='number', aggfunc=['count','sum'])\n",
    "network_pivot.columns = ['count_object', 'sum_seat']\n",
    "display(network_pivot.head(10))"
   ]
  },
  {
   "cell_type": "code",
   "execution_count": 27,
   "metadata": {
    "scrolled": true
   },
   "outputs": [
    {
     "data": {
      "text/html": [
       "<div>\n",
       "<style scoped>\n",
       "    .dataframe tbody tr th:only-of-type {\n",
       "        vertical-align: middle;\n",
       "    }\n",
       "\n",
       "    .dataframe tbody tr th {\n",
       "        vertical-align: top;\n",
       "    }\n",
       "\n",
       "    .dataframe thead th {\n",
       "        text-align: right;\n",
       "    }\n",
       "</style>\n",
       "<table border=\"1\" class=\"dataframe\">\n",
       "  <thead>\n",
       "    <tr style=\"text-align: right;\">\n",
       "      <th></th>\n",
       "      <th>count_object</th>\n",
       "      <th>sum_seat</th>\n",
       "      <th>seat_per_object</th>\n",
       "    </tr>\n",
       "    <tr>\n",
       "      <th>object_name</th>\n",
       "      <th></th>\n",
       "      <th></th>\n",
       "      <th></th>\n",
       "    </tr>\n",
       "  </thead>\n",
       "  <tbody>\n",
       "    <tr>\n",
       "      <th>arena by soho family</th>\n",
       "      <td>1</td>\n",
       "      <td>1700</td>\n",
       "      <td>1700.0</td>\n",
       "    </tr>\n",
       "    <tr>\n",
       "      <th>банкетный зал шелк</th>\n",
       "      <td>1</td>\n",
       "      <td>1500</td>\n",
       "      <td>1500.0</td>\n",
       "    </tr>\n",
       "    <tr>\n",
       "      <th>комбинат питания «управление академсервис»</th>\n",
       "      <td>1</td>\n",
       "      <td>1288</td>\n",
       "      <td>1288.0</td>\n",
       "    </tr>\n",
       "    <tr>\n",
       "      <th>рум сервис</th>\n",
       "      <td>2</td>\n",
       "      <td>2400</td>\n",
       "      <td>1200.0</td>\n",
       "    </tr>\n",
       "    <tr>\n",
       "      <th>ресторан «альфа»</th>\n",
       "      <td>1</td>\n",
       "      <td>1040</td>\n",
       "      <td>1040.0</td>\n",
       "    </tr>\n",
       "    <tr>\n",
       "      <th>eataly</th>\n",
       "      <td>1</td>\n",
       "      <td>920</td>\n",
       "      <td>920.0</td>\n",
       "    </tr>\n",
       "    <tr>\n",
       "      <th>столовая московский гуманитарный университет</th>\n",
       "      <td>1</td>\n",
       "      <td>760</td>\n",
       "      <td>760.0</td>\n",
       "    </tr>\n",
       "    <tr>\n",
       "      <th>столовая-буфет</th>\n",
       "      <td>2</td>\n",
       "      <td>1488</td>\n",
       "      <td>744.0</td>\n",
       "    </tr>\n",
       "    <tr>\n",
       "      <th>white hall</th>\n",
       "      <td>1</td>\n",
       "      <td>700</td>\n",
       "      <td>700.0</td>\n",
       "    </tr>\n",
       "    <tr>\n",
       "      <th>ресторан «шахин шах»</th>\n",
       "      <td>1</td>\n",
       "      <td>675</td>\n",
       "      <td>675.0</td>\n",
       "    </tr>\n",
       "  </tbody>\n",
       "</table>\n",
       "</div>"
      ],
      "text/plain": [
       "                                              count_object  sum_seat  \\\n",
       "object_name                                                            \n",
       "arena by soho family                                     1      1700   \n",
       "банкетный зал шелк                                       1      1500   \n",
       "комбинат питания «управление академсервис»               1      1288   \n",
       "рум сервис                                               2      2400   \n",
       "ресторан «альфа»                                         1      1040   \n",
       "eataly                                                   1       920   \n",
       "столовая московский гуманитарный университет             1       760   \n",
       "столовая-буфет                                           2      1488   \n",
       "white hall                                               1       700   \n",
       "ресторан «шахин шах»                                     1       675   \n",
       "\n",
       "                                              seat_per_object  \n",
       "object_name                                                    \n",
       "arena by soho family                                   1700.0  \n",
       "банкетный зал шелк                                     1500.0  \n",
       "комбинат питания «управление академсервис»             1288.0  \n",
       "рум сервис                                             1200.0  \n",
       "ресторан «альфа»                                       1040.0  \n",
       "eataly                                                  920.0  \n",
       "столовая московский гуманитарный университет            760.0  \n",
       "столовая-буфет                                          744.0  \n",
       "white hall                                              700.0  \n",
       "ресторан «шахин шах»                                    675.0  "
      ]
     },
     "metadata": {},
     "output_type": "display_data"
    }
   ],
   "source": [
    "network_pivot['seat_per_object'] = network_pivot['sum_seat']/network_pivot['count_object']\n",
    "display(network_pivot.sort_values(by = 'seat_per_object', ascending = False).head(10))"
   ]
  },
  {
   "cell_type": "markdown",
   "metadata": {},
   "source": [
    "Исходя их полученных результатов, для сетевых объектов общепита  характерно много заведений с небольшим числом посадочных мест в каждом"
   ]
  },
  {
   "cell_type": "markdown",
   "metadata": {},
   "source": [
    "### Для каждого вида объекта общественного питания опишите среднее количество посадочных мест. Какой вид предоставляет в среднем самое большое количество посадочных мест? Постройте графики."
   ]
  },
  {
   "cell_type": "code",
   "execution_count": 28,
   "metadata": {
    "scrolled": true
   },
   "outputs": [
    {
     "data": {
      "text/html": [
       "<div>\n",
       "<style scoped>\n",
       "    .dataframe tbody tr th:only-of-type {\n",
       "        vertical-align: middle;\n",
       "    }\n",
       "\n",
       "    .dataframe tbody tr th {\n",
       "        vertical-align: top;\n",
       "    }\n",
       "\n",
       "    .dataframe thead th {\n",
       "        text-align: right;\n",
       "    }\n",
       "</style>\n",
       "<table border=\"1\" class=\"dataframe\">\n",
       "  <thead>\n",
       "    <tr style=\"text-align: right;\">\n",
       "      <th></th>\n",
       "      <th>seat</th>\n",
       "    </tr>\n",
       "    <tr>\n",
       "      <th>object_type</th>\n",
       "      <th></th>\n",
       "    </tr>\n",
       "  </thead>\n",
       "  <tbody>\n",
       "    <tr>\n",
       "      <th>столовая</th>\n",
       "      <td>130.337848</td>\n",
       "    </tr>\n",
       "    <tr>\n",
       "      <th>ресторан</th>\n",
       "      <td>96.884750</td>\n",
       "    </tr>\n",
       "    <tr>\n",
       "      <th>буфет</th>\n",
       "      <td>51.509532</td>\n",
       "    </tr>\n",
       "    <tr>\n",
       "      <th>бар</th>\n",
       "      <td>43.533333</td>\n",
       "    </tr>\n",
       "    <tr>\n",
       "      <th>кафе</th>\n",
       "      <td>39.785703</td>\n",
       "    </tr>\n",
       "    <tr>\n",
       "      <th>предприятие быстрого обслуживания</th>\n",
       "      <td>20.808219</td>\n",
       "    </tr>\n",
       "    <tr>\n",
       "      <th>кафетерий</th>\n",
       "      <td>9.184810</td>\n",
       "    </tr>\n",
       "    <tr>\n",
       "      <th>закусочная</th>\n",
       "      <td>7.825215</td>\n",
       "    </tr>\n",
       "    <tr>\n",
       "      <th>магазин (отдел кулинарии)</th>\n",
       "      <td>5.589744</td>\n",
       "    </tr>\n",
       "  </tbody>\n",
       "</table>\n",
       "</div>"
      ],
      "text/plain": [
       "                                         seat\n",
       "object_type                                  \n",
       "столовая                           130.337848\n",
       "ресторан                            96.884750\n",
       "буфет                               51.509532\n",
       "бар                                 43.533333\n",
       "кафе                                39.785703\n",
       "предприятие быстрого обслуживания   20.808219\n",
       "кафетерий                            9.184810\n",
       "закусочная                           7.825215\n",
       "магазин (отдел кулинарии)            5.589744"
      ]
     },
     "metadata": {},
     "output_type": "display_data"
    }
   ],
   "source": [
    "object_type_number = (data.groupby('object_type').agg({'number':'mean'}).sort_values(by='number', ascending = False)) # сгруппируем данные по типу общипита и посчитаем среднее количество посадочных мест\n",
    "object_type_number.columns = ['seat'] # переименовываю столбец\n",
    "display(object_type_number)"
   ]
  },
  {
   "cell_type": "markdown",
   "metadata": {},
   "source": [
    "Визуализируем результат"
   ]
  },
  {
   "cell_type": "code",
   "execution_count": 29,
   "metadata": {},
   "outputs": [
    {
     "data": {
      "image/png": "[encoded data removed]",
      "text/plain": [
       "<Figure size 432x288 with 1 Axes>"
      ]
     },
     "metadata": {},
     "output_type": "display_data"
    }
   ],
   "source": [
    "ax = sns.barplot(x='object_type', y='number', data=data)\n",
    "ax.set_xlabel('Тип объекта')\n",
    "ax.set_ylabel('Количество мест') \n",
    "ax.set_title('Среднее колтчество посадочных мест')\n",
    "plt.xticks(rotation = 90)\n",
    "plt.show()"
   ]
  },
  {
   "cell_type": "markdown",
   "metadata": {},
   "source": [
    "<div class=\"alert alert-success\">\n",
    "<b>Комментарий ревьюера:</b>☀️\n",
    "    \n",
    "* Здесь лучше бы подшли ящики с усами, при помощи них можно было посмотреть не только на среднее число мест в каждом типе заведения, но оценить и квартили, медиану, насколько значительные выбросы бывают.\n",
    "* Понравилось, что ты добавил таблицу с числами, чтобы точнее понимать сколько мест в каждом типе заведений, можно подписывать и столбцы, это может показаться сложным, но вот [материал](https://queirozf.com/entries/add-labels-and-text-to-matplotlib-plots-annotation-examples), если решишься попробовать</div>\n"
   ]
  },
  {
   "cell_type": "markdown",
   "metadata": {},
   "source": [
    "Исходя из полученных данных, столовые предоставляют в среднем самое большое количество посадочных мест"
   ]
  },
  {
   "cell_type": "markdown",
   "metadata": {},
   "source": [
    "### Выделите в отдельный столбец информацию об улице из столбца address "
   ]
  },
  {
   "cell_type": "markdown",
   "metadata": {},
   "source": [
    "Сначала отделим информацию об улице"
   ]
  },
  {
   "cell_type": "code",
   "execution_count": 30,
   "metadata": {},
   "outputs": [
    {
     "data": {
      "text/plain": [
       "0          улица Егора Абакумова\n",
       "1               улица Талалихина\n",
       "2           Абельмановская улица\n",
       "3             Абрамцевская улица\n",
       "4             Абрамцевская улица\n",
       "                  ...           \n",
       "15279     3-й Крутицкий переулок\n",
       "15280         улица Земляной Вал\n",
       "15281         улица Земляной Вал\n",
       "15282       поселение Московский\n",
       "15283          Ходынский бульвар\n",
       "Name: 1, Length: 15284, dtype: object"
      ]
     },
     "execution_count": 30,
     "metadata": {},
     "output_type": "execute_result"
    }
   ],
   "source": [
    "rest_address = data['address'].str.split(',', expand=True)\n",
    "rest_address[1]"
   ]
  },
  {
   "cell_type": "code",
   "execution_count": 31,
   "metadata": {},
   "outputs": [
    {
     "data": {
      "text/html": [
       "<div>\n",
       "<style scoped>\n",
       "    .dataframe tbody tr th:only-of-type {\n",
       "        vertical-align: middle;\n",
       "    }\n",
       "\n",
       "    .dataframe tbody tr th {\n",
       "        vertical-align: top;\n",
       "    }\n",
       "\n",
       "    .dataframe thead th {\n",
       "        text-align: right;\n",
       "    }\n",
       "</style>\n",
       "<table border=\"1\" class=\"dataframe\">\n",
       "  <thead>\n",
       "    <tr style=\"text-align: right;\">\n",
       "      <th></th>\n",
       "      <th>address</th>\n",
       "      <th>number</th>\n",
       "      <th>object_name</th>\n",
       "      <th>chain</th>\n",
       "      <th>object_type</th>\n",
       "      <th>street</th>\n",
       "    </tr>\n",
       "  </thead>\n",
       "  <tbody>\n",
       "    <tr>\n",
       "      <th>0</th>\n",
       "      <td>город Москва, улица Егора Абакумова, дом 9</td>\n",
       "      <td>48</td>\n",
       "      <td>сметана</td>\n",
       "      <td>нет</td>\n",
       "      <td>кафе</td>\n",
       "      <td>улица Егора Абакумова</td>\n",
       "    </tr>\n",
       "    <tr>\n",
       "      <th>1</th>\n",
       "      <td>город Москва, улица Талалихина, дом 2/1, корпус 1</td>\n",
       "      <td>35</td>\n",
       "      <td>родник</td>\n",
       "      <td>нет</td>\n",
       "      <td>кафе</td>\n",
       "      <td>улица Талалихина</td>\n",
       "    </tr>\n",
       "    <tr>\n",
       "      <th>2</th>\n",
       "      <td>город Москва, Абельмановская улица, дом 6</td>\n",
       "      <td>95</td>\n",
       "      <td>кафе «академия»</td>\n",
       "      <td>нет</td>\n",
       "      <td>кафе</td>\n",
       "      <td>Абельмановская улица</td>\n",
       "    </tr>\n",
       "    <tr>\n",
       "      <th>3</th>\n",
       "      <td>город Москва, Абрамцевская улица, дом 1</td>\n",
       "      <td>40</td>\n",
       "      <td>пиццетория</td>\n",
       "      <td>да</td>\n",
       "      <td>кафе</td>\n",
       "      <td>Абрамцевская улица</td>\n",
       "    </tr>\n",
       "    <tr>\n",
       "      <th>4</th>\n",
       "      <td>город Москва, Абрамцевская улица, дом 9, корпус 1</td>\n",
       "      <td>50</td>\n",
       "      <td>кафе «вишневая метель»</td>\n",
       "      <td>нет</td>\n",
       "      <td>кафе</td>\n",
       "      <td>Абрамцевская улица</td>\n",
       "    </tr>\n",
       "    <tr>\n",
       "      <th>...</th>\n",
       "      <td>...</td>\n",
       "      <td>...</td>\n",
       "      <td>...</td>\n",
       "      <td>...</td>\n",
       "      <td>...</td>\n",
       "      <td>...</td>\n",
       "    </tr>\n",
       "    <tr>\n",
       "      <th>15279</th>\n",
       "      <td>город Москва, 3-й Крутицкий переулок, дом 18</td>\n",
       "      <td>50</td>\n",
       "      <td>шоколадница</td>\n",
       "      <td>да</td>\n",
       "      <td>кафе</td>\n",
       "      <td>3-й Крутицкий переулок</td>\n",
       "    </tr>\n",
       "    <tr>\n",
       "      <th>15280</th>\n",
       "      <td>город Москва, улица Земляной Вал, дом 33</td>\n",
       "      <td>10</td>\n",
       "      <td>шоколадница</td>\n",
       "      <td>да</td>\n",
       "      <td>кафе</td>\n",
       "      <td>улица Земляной Вал</td>\n",
       "    </tr>\n",
       "    <tr>\n",
       "      <th>15281</th>\n",
       "      <td>город Москва, улица Земляной Вал, дом 33</td>\n",
       "      <td>20</td>\n",
       "      <td>шоколадница</td>\n",
       "      <td>да</td>\n",
       "      <td>кафе</td>\n",
       "      <td>улица Земляной Вал</td>\n",
       "    </tr>\n",
       "    <tr>\n",
       "      <th>15282</th>\n",
       "      <td>город Москва, поселение Московский, Киевское ш...</td>\n",
       "      <td>36</td>\n",
       "      <td>шоколадница</td>\n",
       "      <td>да</td>\n",
       "      <td>кафе</td>\n",
       "      <td>поселение Московский</td>\n",
       "    </tr>\n",
       "    <tr>\n",
       "      <th>15283</th>\n",
       "      <td>город Москва, Ходынский бульвар, дом 4</td>\n",
       "      <td>10</td>\n",
       "      <td>шоколадница</td>\n",
       "      <td>да</td>\n",
       "      <td>кафе</td>\n",
       "      <td>Ходынский бульвар</td>\n",
       "    </tr>\n",
       "  </tbody>\n",
       "</table>\n",
       "<p>15284 rows × 6 columns</p>\n",
       "</div>"
      ],
      "text/plain": [
       "                                                 address  number  \\\n",
       "0             город Москва, улица Егора Абакумова, дом 9      48   \n",
       "1      город Москва, улица Талалихина, дом 2/1, корпус 1      35   \n",
       "2              город Москва, Абельмановская улица, дом 6      95   \n",
       "3                город Москва, Абрамцевская улица, дом 1      40   \n",
       "4      город Москва, Абрамцевская улица, дом 9, корпус 1      50   \n",
       "...                                                  ...     ...   \n",
       "15279       город Москва, 3-й Крутицкий переулок, дом 18      50   \n",
       "15280           город Москва, улица Земляной Вал, дом 33      10   \n",
       "15281           город Москва, улица Земляной Вал, дом 33      20   \n",
       "15282  город Москва, поселение Московский, Киевское ш...      36   \n",
       "15283             город Москва, Ходынский бульвар, дом 4      10   \n",
       "\n",
       "                  object_name chain object_type                   street  \n",
       "0                     сметана   нет        кафе    улица Егора Абакумова  \n",
       "1                      родник   нет        кафе         улица Талалихина  \n",
       "2             кафе «академия»   нет        кафе     Абельмановская улица  \n",
       "3                  пиццетория    да        кафе       Абрамцевская улица  \n",
       "4      кафе «вишневая метель»   нет        кафе       Абрамцевская улица  \n",
       "...                       ...   ...         ...                      ...  \n",
       "15279             шоколадница    да        кафе   3-й Крутицкий переулок  \n",
       "15280             шоколадница    да        кафе       улица Земляной Вал  \n",
       "15281             шоколадница    да        кафе       улица Земляной Вал  \n",
       "15282             шоколадница    да        кафе     поселение Московский  \n",
       "15283             шоколадница    да        кафе        Ходынский бульвар  \n",
       "\n",
       "[15284 rows x 6 columns]"
      ]
     },
     "metadata": {},
     "output_type": "display_data"
    }
   ],
   "source": [
    "data['street'] = rest_address[1] # добавляем столбец с информацией об улице\n",
    "display(data)"
   ]
  },
  {
   "cell_type": "markdown",
   "metadata": {},
   "source": [
    "<div class=\"alert alert-warning\">\n",
    "<b>Комментарий ревьюера:</b>⛅️ \n",
    "\n",
    "\n",
    "Метод допустим, но если смотреть с точки зрения качества - у нас улица не всегда располагаются на второй поизиции в строке, получается, что результат грубоват, да ты потом проверяешь вхождение некоторых стоп слов. Но рекомендую использовать маркеры: улица, бульвар и т.д. которые помогут определить позицию, в которой находится улица в строке.\n",
    "</div>"
   ]
  },
  {
   "cell_type": "markdown",
   "metadata": {},
   "source": [
    "### Постройте график топ-10 улиц по количеству объектов общественного питания. Воспользуйтесь внешней информацией и ответьте на вопрос — в каких районах Москвы находятся эти улицы?"
   ]
  },
  {
   "cell_type": "code",
   "execution_count": 32,
   "metadata": {},
   "outputs": [],
   "source": [
    "data['street'] = data['street'].str.strip()"
   ]
  },
  {
   "cell_type": "code",
   "execution_count": 33,
   "metadata": {
    "scrolled": true
   },
   "outputs": [
    {
     "data": {
      "text/html": [
       "<div>\n",
       "<style scoped>\n",
       "    .dataframe tbody tr th:only-of-type {\n",
       "        vertical-align: middle;\n",
       "    }\n",
       "\n",
       "    .dataframe tbody tr th {\n",
       "        vertical-align: top;\n",
       "    }\n",
       "\n",
       "    .dataframe thead th {\n",
       "        text-align: right;\n",
       "    }\n",
       "</style>\n",
       "<table border=\"1\" class=\"dataframe\">\n",
       "  <thead>\n",
       "    <tr style=\"text-align: right;\">\n",
       "      <th></th>\n",
       "      <th>number of objects</th>\n",
       "    </tr>\n",
       "    <tr>\n",
       "      <th>street</th>\n",
       "      <th></th>\n",
       "    </tr>\n",
       "  </thead>\n",
       "  <tbody>\n",
       "    <tr>\n",
       "      <th>город Зеленоград</th>\n",
       "      <td>232</td>\n",
       "    </tr>\n",
       "    <tr>\n",
       "      <th>проспект Мира</th>\n",
       "      <td>204</td>\n",
       "    </tr>\n",
       "    <tr>\n",
       "      <th>Профсоюзная улица</th>\n",
       "      <td>181</td>\n",
       "    </tr>\n",
       "    <tr>\n",
       "      <th>Ленинградский проспект</th>\n",
       "      <td>170</td>\n",
       "    </tr>\n",
       "    <tr>\n",
       "      <th>Пресненская набережная</th>\n",
       "      <td>167</td>\n",
       "    </tr>\n",
       "    <tr>\n",
       "      <th>Варшавское шоссе</th>\n",
       "      <td>161</td>\n",
       "    </tr>\n",
       "    <tr>\n",
       "      <th>Ленинский проспект</th>\n",
       "      <td>147</td>\n",
       "    </tr>\n",
       "    <tr>\n",
       "      <th>поселение Сосенское</th>\n",
       "      <td>137</td>\n",
       "    </tr>\n",
       "    <tr>\n",
       "      <th>проспект Вернадского</th>\n",
       "      <td>128</td>\n",
       "    </tr>\n",
       "    <tr>\n",
       "      <th>Кутузовский проспект</th>\n",
       "      <td>114</td>\n",
       "    </tr>\n",
       "  </tbody>\n",
       "</table>\n",
       "</div>"
      ],
      "text/plain": [
       "                        number of objects\n",
       "street                                   \n",
       "город Зеленоград                      232\n",
       "проспект Мира                         204\n",
       "Профсоюзная улица                     181\n",
       "Ленинградский проспект                170\n",
       "Пресненская набережная                167\n",
       "Варшавское шоссе                      161\n",
       "Ленинский проспект                    147\n",
       "поселение Сосенское                   137\n",
       "проспект Вернадского                  128\n",
       "Кутузовский проспект                  114"
      ]
     },
     "metadata": {},
     "output_type": "display_data"
    }
   ],
   "source": [
    "top_street = (data.groupby('street').agg({'address':'count'}).sort_values(by='address', ascending = False)) # сгруппируем данные по названию улиц\n",
    "top_street.columns = ['number of objects'] # переименовываю столбец\n",
    "display(top_street.head(10))"
   ]
  },
  {
   "cell_type": "markdown",
   "metadata": {},
   "source": [
    "Уберём город Зеленоград и Сосенское поселение"
   ]
  },
  {
   "cell_type": "code",
   "execution_count": 34,
   "metadata": {},
   "outputs": [],
   "source": [
    "top_street_filter = top_street.query('street != \"город Зеленоград\" and street != \"поселение Сосенское\"') # сделаем срез данных по тарифу smart"
   ]
  },
  {
   "cell_type": "markdown",
   "metadata": {},
   "source": [
    "Самое большое количество объектов общепита на проспекте Мира, далее на Профсоюзной улице замыкает тройку Ленинградский проспект"
   ]
  },
  {
   "cell_type": "code",
   "execution_count": 35,
   "metadata": {
    "scrolled": true
   },
   "outputs": [
    {
     "data": {
      "text/html": [
       "<div>\n",
       "<style scoped>\n",
       "    .dataframe tbody tr th:only-of-type {\n",
       "        vertical-align: middle;\n",
       "    }\n",
       "\n",
       "    .dataframe tbody tr th {\n",
       "        vertical-align: top;\n",
       "    }\n",
       "\n",
       "    .dataframe thead th {\n",
       "        text-align: right;\n",
       "    }\n",
       "</style>\n",
       "<table border=\"1\" class=\"dataframe\">\n",
       "  <thead>\n",
       "    <tr style=\"text-align: right;\">\n",
       "      <th></th>\n",
       "      <th>number of objects</th>\n",
       "    </tr>\n",
       "    <tr>\n",
       "      <th>street</th>\n",
       "      <th></th>\n",
       "    </tr>\n",
       "  </thead>\n",
       "  <tbody>\n",
       "    <tr>\n",
       "      <th>проспект Мира</th>\n",
       "      <td>204</td>\n",
       "    </tr>\n",
       "    <tr>\n",
       "      <th>Профсоюзная улица</th>\n",
       "      <td>181</td>\n",
       "    </tr>\n",
       "    <tr>\n",
       "      <th>Ленинградский проспект</th>\n",
       "      <td>170</td>\n",
       "    </tr>\n",
       "    <tr>\n",
       "      <th>Пресненская набережная</th>\n",
       "      <td>167</td>\n",
       "    </tr>\n",
       "    <tr>\n",
       "      <th>Варшавское шоссе</th>\n",
       "      <td>161</td>\n",
       "    </tr>\n",
       "    <tr>\n",
       "      <th>Ленинский проспект</th>\n",
       "      <td>147</td>\n",
       "    </tr>\n",
       "    <tr>\n",
       "      <th>проспект Вернадского</th>\n",
       "      <td>128</td>\n",
       "    </tr>\n",
       "    <tr>\n",
       "      <th>Кутузовский проспект</th>\n",
       "      <td>114</td>\n",
       "    </tr>\n",
       "    <tr>\n",
       "      <th>Каширское шоссе</th>\n",
       "      <td>111</td>\n",
       "    </tr>\n",
       "    <tr>\n",
       "      <th>Кировоградская улица</th>\n",
       "      <td>108</td>\n",
       "    </tr>\n",
       "  </tbody>\n",
       "</table>\n",
       "</div>"
      ],
      "text/plain": [
       "                        number of objects\n",
       "street                                   \n",
       "проспект Мира                         204\n",
       "Профсоюзная улица                     181\n",
       "Ленинградский проспект                170\n",
       "Пресненская набережная                167\n",
       "Варшавское шоссе                      161\n",
       "Ленинский проспект                    147\n",
       "проспект Вернадского                  128\n",
       "Кутузовский проспект                  114\n",
       "Каширское шоссе                       111\n",
       "Кировоградская улица                  108"
      ]
     },
     "execution_count": 35,
     "metadata": {},
     "output_type": "execute_result"
    }
   ],
   "source": [
    "top_street_filter = top_street_filter.head(10) # сохраним топ 10 улиц по количеству объектов в отдельную переменную\n",
    "top_street_filter"
   ]
  },
  {
   "cell_type": "code",
   "execution_count": 36,
   "metadata": {},
   "outputs": [],
   "source": [
    "Mira = 204\n",
    "Profsouznaya = 181\n",
    "Leningradka = 170\n",
    "Presnay = 167\n",
    "Varshavka = 161\n",
    "Leninskiy = 147\n",
    "Vernadskogo = 128\n",
    "Kutuza = 114\n",
    "Kashirskoe = 111\n",
    "Kirovogradskaya = 108"
   ]
  },
  {
   "cell_type": "markdown",
   "metadata": {},
   "source": [
    "Визуализируем данные"
   ]
  },
  {
   "cell_type": "code",
   "execution_count": 37,
   "metadata": {},
   "outputs": [
    {
     "data": {
      "image/png": "[encoded data removed]",
      "text/plain": [
       "<Figure size 432x288 with 1 Axes>"
      ]
     },
     "metadata": {},
     "output_type": "display_data"
    }
   ],
   "source": [
    "x = ['проспект Мира', 'Профсоюзная улица','Ленинградский проспект','Пресненская набережная','Варшавское шоссе','Ленинский проспект','проспект Вернадского', 'Кутузовский проспект', 'Каширское шоссе', 'Кировоградская улица']\n",
    "y = top_street_filter['number of objects']\n",
    "x = plt.bar(x, y)\n",
    "\n",
    "plt.title('Топ-10 улиц Москвы по количеству объектов общественного питания')\n",
    "plt.ylabel('Количество объектов')\n",
    "plt.xticks(rotation = 90)\n",
    "\n",
    "plt.show()"
   ]
  },
  {
   "cell_type": "markdown",
   "metadata": {},
   "source": [
    "<div class=\"alert alert-danger\">\n",
    "<b>Комментарий ревьюера:</b>☁️\n",
    "\n",
    "* Предполагалось, что Зеленоград не относится к Москве, как и поселение\n",
    "* Ну и способ построения графика, как и выше стоит поправить\n",
    "</div>\n"
   ]
  },
  {
   "cell_type": "markdown",
   "metadata": {},
   "source": [
    "<div class=\"alert alert-info\"> <b>Комментарий студента:</b> Поправил, исключил Зеленоград и Сосенское поселение </div>"
   ]
  },
  {
   "cell_type": "markdown",
   "metadata": {},
   "source": [
    "<div class=\"alert alert-success\">\n",
    "<b>Комментарий ревьюера v2:</b>☀️\n",
    "    \n",
    "И здесь правка принимается\n",
    "</div>\n"
   ]
  },
  {
   "cell_type": "markdown",
   "metadata": {},
   "source": [
    "Воспользуйемся внешней информацией и ответим на вопрос — в каких районах Москвы находятся эти улицы?"
   ]
  },
  {
   "cell_type": "code",
   "execution_count": 38,
   "metadata": {
    "scrolled": true
   },
   "outputs": [
    {
     "data": {
      "text/html": [
       "<div>\n",
       "<style scoped>\n",
       "    .dataframe tbody tr th:only-of-type {\n",
       "        vertical-align: middle;\n",
       "    }\n",
       "\n",
       "    .dataframe tbody tr th {\n",
       "        vertical-align: top;\n",
       "    }\n",
       "\n",
       "    .dataframe thead th {\n",
       "        text-align: right;\n",
       "    }\n",
       "</style>\n",
       "<table border=\"1\" class=\"dataframe\">\n",
       "  <thead>\n",
       "    <tr style=\"text-align: right;\">\n",
       "      <th></th>\n",
       "      <th>streetname</th>\n",
       "      <th>areaid</th>\n",
       "      <th>okrug</th>\n",
       "      <th>area</th>\n",
       "    </tr>\n",
       "  </thead>\n",
       "  <tbody>\n",
       "    <tr>\n",
       "      <th>0</th>\n",
       "      <td>Выставочный переулок</td>\n",
       "      <td>17</td>\n",
       "      <td>ЦАО</td>\n",
       "      <td>Пресненский район</td>\n",
       "    </tr>\n",
       "    <tr>\n",
       "      <th>1</th>\n",
       "      <td>улица Гашека</td>\n",
       "      <td>17</td>\n",
       "      <td>ЦАО</td>\n",
       "      <td>Пресненский район</td>\n",
       "    </tr>\n",
       "    <tr>\n",
       "      <th>2</th>\n",
       "      <td>Большая Никитская улица</td>\n",
       "      <td>17</td>\n",
       "      <td>ЦАО</td>\n",
       "      <td>Пресненский район</td>\n",
       "    </tr>\n",
       "    <tr>\n",
       "      <th>3</th>\n",
       "      <td>Глубокий переулок</td>\n",
       "      <td>17</td>\n",
       "      <td>ЦАО</td>\n",
       "      <td>Пресненский район</td>\n",
       "    </tr>\n",
       "    <tr>\n",
       "      <th>4</th>\n",
       "      <td>Большой Гнездниковский переулок</td>\n",
       "      <td>17</td>\n",
       "      <td>ЦАО</td>\n",
       "      <td>Пресненский район</td>\n",
       "    </tr>\n",
       "    <tr>\n",
       "      <th>...</th>\n",
       "      <td>...</td>\n",
       "      <td>...</td>\n",
       "      <td>...</td>\n",
       "      <td>...</td>\n",
       "    </tr>\n",
       "    <tr>\n",
       "      <th>4393</th>\n",
       "      <td>Вознесенский проезд</td>\n",
       "      <td>17</td>\n",
       "      <td>ЦАО</td>\n",
       "      <td>Пресненский район</td>\n",
       "    </tr>\n",
       "    <tr>\n",
       "      <th>4394</th>\n",
       "      <td>Волков переулок</td>\n",
       "      <td>17</td>\n",
       "      <td>ЦАО</td>\n",
       "      <td>Пресненский район</td>\n",
       "    </tr>\n",
       "    <tr>\n",
       "      <th>4395</th>\n",
       "      <td>Поварская улица</td>\n",
       "      <td>17</td>\n",
       "      <td>ЦАО</td>\n",
       "      <td>Пресненский район</td>\n",
       "    </tr>\n",
       "    <tr>\n",
       "      <th>4396</th>\n",
       "      <td>Кудринская площадь</td>\n",
       "      <td>17</td>\n",
       "      <td>ЦАО</td>\n",
       "      <td>Пресненский район</td>\n",
       "    </tr>\n",
       "    <tr>\n",
       "      <th>4397</th>\n",
       "      <td>Вспольный переулок</td>\n",
       "      <td>17</td>\n",
       "      <td>ЦАО</td>\n",
       "      <td>Пресненский район</td>\n",
       "    </tr>\n",
       "  </tbody>\n",
       "</table>\n",
       "<p>4398 rows × 4 columns</p>\n",
       "</div>"
      ],
      "text/plain": [
       "                           streetname  areaid okrug               area\n",
       "0                Выставочный переулок      17   ЦАО  Пресненский район\n",
       "1                        улица Гашека      17   ЦАО  Пресненский район\n",
       "2             Большая Никитская улица      17   ЦАО  Пресненский район\n",
       "3                   Глубокий переулок      17   ЦАО  Пресненский район\n",
       "4     Большой Гнездниковский переулок      17   ЦАО  Пресненский район\n",
       "...                               ...     ...   ...                ...\n",
       "4393              Вознесенский проезд      17   ЦАО  Пресненский район\n",
       "4394                  Волков переулок      17   ЦАО  Пресненский район\n",
       "4395                  Поварская улица      17   ЦАО  Пресненский район\n",
       "4396               Кудринская площадь      17   ЦАО  Пресненский район\n",
       "4397               Вспольный переулок      17   ЦАО  Пресненский район\n",
       "\n",
       "[4398 rows x 4 columns]"
      ]
     },
     "execution_count": 38,
     "metadata": {},
     "output_type": "execute_result"
    }
   ],
   "source": [
    "# Загрузим файл с информацией о районах Москвы\n",
    "spreadsheet_id = '1TEnTffTySHjjc2sVtz9tReqmoqRE-9nxmr_XuqTrggQ'\n",
    "file_name = 'https://docs.google.com/spreadsheets/d/{}/export?format=csv'.format(spreadsheet_id)\n",
    "r = requests.get(file_name)\n",
    "df = pd.read_csv(BytesIO(r.content))\n",
    "df"
   ]
  },
  {
   "cell_type": "markdown",
   "metadata": {},
   "source": [
    "<div class=\"alert alert-warning\">\n",
    "<b>Комментарий ревьюера:</b>⛅️ \n",
    "\n",
    "В случае когда ты кому-то отправляешь свой проект, может так случиться, что у человека нет `io` например, и тогда ему придется пролистать до места где ты её используешь, а если бы обращения ко всем библиотекам было бы в начале, такая проблема исключается. Ну и вдруг ты выше будешь применять что-то из этих библиотек, тогда код упадёт</div>"
   ]
  },
  {
   "cell_type": "markdown",
   "metadata": {},
   "source": [
    "<div class=\"alert alert-info\"> <b>Комментарий студента:</b> Поправил </div>"
   ]
  },
  {
   "cell_type": "code",
   "execution_count": 39,
   "metadata": {},
   "outputs": [],
   "source": [
    "df['streetname'] = df['streetname'].str.strip()"
   ]
  },
  {
   "cell_type": "code",
   "execution_count": 40,
   "metadata": {
    "scrolled": true
   },
   "outputs": [
    {
     "data": {
      "text/html": [
       "<div>\n",
       "<style scoped>\n",
       "    .dataframe tbody tr th:only-of-type {\n",
       "        vertical-align: middle;\n",
       "    }\n",
       "\n",
       "    .dataframe tbody tr th {\n",
       "        vertical-align: top;\n",
       "    }\n",
       "\n",
       "    .dataframe thead th {\n",
       "        text-align: right;\n",
       "    }\n",
       "</style>\n",
       "<table border=\"1\" class=\"dataframe\">\n",
       "  <thead>\n",
       "    <tr style=\"text-align: right;\">\n",
       "      <th></th>\n",
       "      <th>streetname</th>\n",
       "      <th>area</th>\n",
       "    </tr>\n",
       "  </thead>\n",
       "  <tbody>\n",
       "    <tr>\n",
       "      <th>0</th>\n",
       "      <td>город Зеленоград</td>\n",
       "      <td>Район Крюково</td>\n",
       "    </tr>\n",
       "    <tr>\n",
       "      <th>1</th>\n",
       "      <td>город Зеленоград</td>\n",
       "      <td>Район Матушкино-Савелки</td>\n",
       "    </tr>\n",
       "    <tr>\n",
       "      <th>2</th>\n",
       "      <td>город Зеленоград</td>\n",
       "      <td>Панфиловский район</td>\n",
       "    </tr>\n",
       "    <tr>\n",
       "      <th>3</th>\n",
       "      <td>проспект Мира</td>\n",
       "      <td>Алексеевский район</td>\n",
       "    </tr>\n",
       "    <tr>\n",
       "      <th>4</th>\n",
       "      <td>проспект Мира</td>\n",
       "      <td>Ярославский Район</td>\n",
       "    </tr>\n",
       "    <tr>\n",
       "      <th>...</th>\n",
       "      <td>...</td>\n",
       "      <td>...</td>\n",
       "    </tr>\n",
       "    <tr>\n",
       "      <th>2278</th>\n",
       "      <td>Есенинский бульвар</td>\n",
       "      <td>Район Кузьминки</td>\n",
       "    </tr>\n",
       "    <tr>\n",
       "      <th>2279</th>\n",
       "      <td>Елоховский проезд</td>\n",
       "      <td>Басманный район</td>\n",
       "    </tr>\n",
       "    <tr>\n",
       "      <th>2280</th>\n",
       "      <td>Егорьевский проезд</td>\n",
       "      <td>Район Люблино</td>\n",
       "    </tr>\n",
       "    <tr>\n",
       "      <th>2281</th>\n",
       "      <td>Докучаев переулок</td>\n",
       "      <td>Красносельский район</td>\n",
       "    </tr>\n",
       "    <tr>\n",
       "      <th>2282</th>\n",
       "      <td>Гвардейская улица</td>\n",
       "      <td>Можайский Район</td>\n",
       "    </tr>\n",
       "  </tbody>\n",
       "</table>\n",
       "<p>2283 rows × 2 columns</p>\n",
       "</div>"
      ],
      "text/plain": [
       "              streetname                     area\n",
       "0       город Зеленоград            Район Крюково\n",
       "1       город Зеленоград  Район Матушкино-Савелки\n",
       "2       город Зеленоград       Панфиловский район\n",
       "3          проспект Мира       Алексеевский район\n",
       "4          проспект Мира        Ярославский Район\n",
       "...                  ...                      ...\n",
       "2278  Есенинский бульвар          Район Кузьминки\n",
       "2279   Елоховский проезд          Басманный район\n",
       "2280  Егорьевский проезд            Район Люблино\n",
       "2281   Докучаев переулок     Красносельский район\n",
       "2282   Гвардейская улица          Можайский Район\n",
       "\n",
       "[2283 rows x 2 columns]"
      ]
     },
     "metadata": {},
     "output_type": "display_data"
    }
   ],
   "source": [
    "df_msk = top_street.merge(df[['streetname', 'area']], left_on='street', right_on='streetname') # соединим две таблицы в одну с помощью merge\n",
    "display(df_msk[['streetname', 'area']]) # Выведем на экран два нужных столбца"
   ]
  },
  {
   "cell_type": "markdown",
   "metadata": {},
   "source": [
    "<div class=\"alert alert-warning\">\n",
    "<b>Комментарий ревьюера:</b>⛅️ \n",
    "\n",
    "С точки зрения задания никаких вопросов, вот улицы, вот районы, но анализировать это затруднительно, можно было бы посмотреть на улицу, у которой больше всех районов, самая большая ли она, также обратить внимание на имеющиеся районы, есть ли те, которые содержать несколько улиц из списка популярных \n",
    "</div>"
   ]
  },
  {
   "cell_type": "markdown",
   "metadata": {},
   "source": [
    "### Найдите число улиц с одним объектом общественного питания. Воспользуйтесь внешней информацией и ответьте на вопрос — в каких районах Москвы находятся эти улицы?"
   ]
  },
  {
   "cell_type": "code",
   "execution_count": 41,
   "metadata": {
    "scrolled": true
   },
   "outputs": [
    {
     "data": {
      "text/html": [
       "<div>\n",
       "<style scoped>\n",
       "    .dataframe tbody tr th:only-of-type {\n",
       "        vertical-align: middle;\n",
       "    }\n",
       "\n",
       "    .dataframe tbody tr th {\n",
       "        vertical-align: top;\n",
       "    }\n",
       "\n",
       "    .dataframe thead th {\n",
       "        text-align: right;\n",
       "    }\n",
       "</style>\n",
       "<table border=\"1\" class=\"dataframe\">\n",
       "  <thead>\n",
       "    <tr style=\"text-align: right;\">\n",
       "      <th></th>\n",
       "      <th>number_of_objects</th>\n",
       "    </tr>\n",
       "    <tr>\n",
       "      <th>street</th>\n",
       "      <th></th>\n",
       "    </tr>\n",
       "  </thead>\n",
       "  <tbody>\n",
       "    <tr>\n",
       "      <th>дом 14</th>\n",
       "      <td>1</td>\n",
       "    </tr>\n",
       "    <tr>\n",
       "      <th>деревня Давыдково</th>\n",
       "      <td>1</td>\n",
       "    </tr>\n",
       "    <tr>\n",
       "      <th>деревня Дудкино</th>\n",
       "      <td>1</td>\n",
       "    </tr>\n",
       "    <tr>\n",
       "      <th>деревня Сенькино-Секерино</th>\n",
       "      <td>1</td>\n",
       "    </tr>\n",
       "    <tr>\n",
       "      <th>деревня Столбово</th>\n",
       "      <td>1</td>\n",
       "    </tr>\n",
       "    <tr>\n",
       "      <th>дом 1</th>\n",
       "      <td>1</td>\n",
       "    </tr>\n",
       "    <tr>\n",
       "      <th>дом 10</th>\n",
       "      <td>1</td>\n",
       "    </tr>\n",
       "    <tr>\n",
       "      <th>дом 11</th>\n",
       "      <td>1</td>\n",
       "    </tr>\n",
       "    <tr>\n",
       "      <th>дом 118Б</th>\n",
       "      <td>1</td>\n",
       "    </tr>\n",
       "    <tr>\n",
       "      <th>Гвардейская улица</th>\n",
       "      <td>1</td>\n",
       "    </tr>\n",
       "  </tbody>\n",
       "</table>\n",
       "</div>"
      ],
      "text/plain": [
       "                           number_of_objects\n",
       "street                                      \n",
       "дом 14                                     1\n",
       "деревня Давыдково                          1\n",
       "деревня Дудкино                            1\n",
       "деревня Сенькино-Секерино                  1\n",
       "деревня Столбово                           1\n",
       "дом 1                                      1\n",
       "дом 10                                     1\n",
       "дом 11                                     1\n",
       "дом 118Б                                   1\n",
       "Гвардейская улица                          1"
      ]
     },
     "metadata": {},
     "output_type": "display_data"
    }
   ],
   "source": [
    "one_object = (data.groupby('street').agg({'address':'count'}).sort_values(by='address', ascending = False)) # сгруппируем данные по названию улиц\n",
    "one_object.columns = ['number_of_objects'] # переименовываю столбец\n",
    "display(one_object.tail(10)) "
   ]
  },
  {
   "cell_type": "code",
   "execution_count": 42,
   "metadata": {},
   "outputs": [
    {
     "data": {
      "text/plain": [
       "579"
      ]
     },
     "metadata": {},
     "output_type": "display_data"
    }
   ],
   "source": [
    "one_object = one_object.query('number_of_objects == 1') \n",
    "display(one_object['number_of_objects'].sum())"
   ]
  },
  {
   "cell_type": "markdown",
   "metadata": {},
   "source": [
    "В Москве 579 улиц с одним объектом общественного питания с одним объектом общественного питания, выясним, в каких районах они находятся"
   ]
  },
  {
   "cell_type": "code",
   "execution_count": 43,
   "metadata": {
    "scrolled": true
   },
   "outputs": [
    {
     "data": {
      "text/html": [
       "<div>\n",
       "<style scoped>\n",
       "    .dataframe tbody tr th:only-of-type {\n",
       "        vertical-align: middle;\n",
       "    }\n",
       "\n",
       "    .dataframe tbody tr th {\n",
       "        vertical-align: top;\n",
       "    }\n",
       "\n",
       "    .dataframe thead th {\n",
       "        text-align: right;\n",
       "    }\n",
       "</style>\n",
       "<table border=\"1\" class=\"dataframe\">\n",
       "  <thead>\n",
       "    <tr style=\"text-align: right;\">\n",
       "      <th></th>\n",
       "      <th>streetname</th>\n",
       "      <th>area</th>\n",
       "    </tr>\n",
       "  </thead>\n",
       "  <tbody>\n",
       "    <tr>\n",
       "      <th>0</th>\n",
       "      <td>улица Демьяна Бедного</td>\n",
       "      <td>Район Хорошево-Мневники</td>\n",
       "    </tr>\n",
       "    <tr>\n",
       "      <th>1</th>\n",
       "      <td>Андреево-Забелинская улица</td>\n",
       "      <td>Район Богородское</td>\n",
       "    </tr>\n",
       "    <tr>\n",
       "      <th>2</th>\n",
       "      <td>1-й Саратовский проезд</td>\n",
       "      <td>Район Текстильщики</td>\n",
       "    </tr>\n",
       "    <tr>\n",
       "      <th>3</th>\n",
       "      <td>Андроньевская площадь</td>\n",
       "      <td>Таганский район</td>\n",
       "    </tr>\n",
       "    <tr>\n",
       "      <th>4</th>\n",
       "      <td>2-й Стрелецкий проезд</td>\n",
       "      <td>Район Марьина роща</td>\n",
       "    </tr>\n",
       "    <tr>\n",
       "      <th>5</th>\n",
       "      <td>1-й Рижский переулок</td>\n",
       "      <td>Алексеевский район</td>\n",
       "    </tr>\n",
       "    <tr>\n",
       "      <th>6</th>\n",
       "      <td>1-й Обыденский переулок</td>\n",
       "      <td>Район Хамовники</td>\n",
       "    </tr>\n",
       "    <tr>\n",
       "      <th>7</th>\n",
       "      <td>Богоявленский переулок</td>\n",
       "      <td>Тверской район</td>\n",
       "    </tr>\n",
       "    <tr>\n",
       "      <th>8</th>\n",
       "      <td>улица Паперника</td>\n",
       "      <td>Рязанский район</td>\n",
       "    </tr>\n",
       "    <tr>\n",
       "      <th>9</th>\n",
       "      <td>3-й Дорожный проезд</td>\n",
       "      <td>Район Чертаново Южное</td>\n",
       "    </tr>\n",
       "    <tr>\n",
       "      <th>10</th>\n",
       "      <td>Анненская улица</td>\n",
       "      <td>Район Марьина роща</td>\n",
       "    </tr>\n",
       "    <tr>\n",
       "      <th>11</th>\n",
       "      <td>улица Немчинова</td>\n",
       "      <td>Тимирязевский Район</td>\n",
       "    </tr>\n",
       "    <tr>\n",
       "      <th>12</th>\n",
       "      <td>1-й Новокузнецкий переулок</td>\n",
       "      <td>Район Замоскворечье</td>\n",
       "    </tr>\n",
       "    <tr>\n",
       "      <th>13</th>\n",
       "      <td>1-й Сельскохозяйственный проезд</td>\n",
       "      <td>Район Ростокино</td>\n",
       "    </tr>\n",
       "    <tr>\n",
       "      <th>14</th>\n",
       "      <td>1-й Николощеповский переулок</td>\n",
       "      <td>Район Арбат</td>\n",
       "    </tr>\n",
       "    <tr>\n",
       "      <th>15</th>\n",
       "      <td>улица Девятая Рота</td>\n",
       "      <td>Район Преображенское</td>\n",
       "    </tr>\n",
       "    <tr>\n",
       "      <th>16</th>\n",
       "      <td>Анненский проезд</td>\n",
       "      <td>Район Марьина роща</td>\n",
       "    </tr>\n",
       "    <tr>\n",
       "      <th>17</th>\n",
       "      <td>2-я улица Энтузиастов</td>\n",
       "      <td>Район Перово</td>\n",
       "    </tr>\n",
       "    <tr>\n",
       "      <th>18</th>\n",
       "      <td>2-й Хуторской переулок</td>\n",
       "      <td>Савеловский район</td>\n",
       "    </tr>\n",
       "    <tr>\n",
       "      <th>19</th>\n",
       "      <td>улица Новая Дорога</td>\n",
       "      <td>Басманный район</td>\n",
       "    </tr>\n",
       "  </tbody>\n",
       "</table>\n",
       "</div>"
      ],
      "text/plain": [
       "                         streetname                     area\n",
       "0             улица Демьяна Бедного  Район Хорошево-Мневники\n",
       "1        Андреево-Забелинская улица        Район Богородское\n",
       "2            1-й Саратовский проезд       Район Текстильщики\n",
       "3             Андроньевская площадь          Таганский район\n",
       "4             2-й Стрелецкий проезд       Район Марьина роща\n",
       "5              1-й Рижский переулок       Алексеевский район\n",
       "6           1-й Обыденский переулок          Район Хамовники\n",
       "7            Богоявленский переулок           Тверской район\n",
       "8                   улица Паперника          Рязанский район\n",
       "9               3-й Дорожный проезд    Район Чертаново Южное\n",
       "10                  Анненская улица       Район Марьина роща\n",
       "11                  улица Немчинова      Тимирязевский Район\n",
       "12       1-й Новокузнецкий переулок      Район Замоскворечье\n",
       "13  1-й Сельскохозяйственный проезд          Район Ростокино\n",
       "14     1-й Николощеповский переулок              Район Арбат\n",
       "15               улица Девятая Рота     Район Преображенское\n",
       "16                 Анненский проезд       Район Марьина роща\n",
       "17            2-я улица Энтузиастов             Район Перово\n",
       "18           2-й Хуторской переулок        Савеловский район\n",
       "19               улица Новая Дорога          Басманный район"
      ]
     },
     "metadata": {},
     "output_type": "display_data"
    }
   ],
   "source": [
    "df_msk_one = one_object.merge(df[['streetname', 'area']], left_on='street', right_on='streetname')\n",
    "display((df_msk_one[['streetname', 'area']]).head(20))"
   ]
  },
  {
   "cell_type": "markdown",
   "metadata": {},
   "source": [
    "Улицы с одним объектом общественного питания находятся в разных районах Москвы, но для многих улиц есть логичное объяснение, почему на них находится один объект общепита. На некоторых малое население, некоторые из улиц довольно короткие, а некоторые находятся на окраинах."
   ]
  },
  {
   "cell_type": "markdown",
   "metadata": {},
   "source": [
    "## Общий вывод"
   ]
  },
  {
   "cell_type": "markdown",
   "metadata": {},
   "source": [
    "Для начала необходимо открыть одно кафе и далее стараться расширяться до сети, исходя из исследования, в среднем кафе рассчитаны на 40 посадочных мест, надо ориентироваться на это число. Расположить кафе лучше в центре, где большая проходимость и много туристов, которым, безусловно, будет интересно посмотреть на роботов-официантов. После раскрутки сети в Москве, можно интегрировать бизнес в регионы, реклама за счёт успеха в Москве будет обеспечена."
   ]
  },
  {
   "cell_type": "markdown",
   "metadata": {},
   "source": [
    "## Шаг №3. Подготовка презентации"
   ]
  },
  {
   "cell_type": "markdown",
   "metadata": {},
   "source": [
    "Презентация: <https://drive.google.com/file/d/1bcGdT3tN62ar1PA98RVts-dI1gHBtHlQ/view?usp=sharing> "
   ]
  },
  {
   "cell_type": "markdown",
   "metadata": {},
   "source": [
    "<div class=\"alert alert-success\">\n",
    "<b>Комментарий ревьюера:</b>☀️\n",
    "    \n",
    "\n",
    "\n",
    "Разумные рекомендации, превосходная работа. Если интересно, то используя геокодер (или датасет с координитами для адресов) и геовизуализацию можно построить распределение кафе на территории Москвы и выделить интересующие нас районы, затем в этих районах можно отобразить доступные площащи для аренды, спарсив какой-нибудь сайт объявлений и таким образом выбрать нужное местоположение. https://geocoder.readthedocs.io/ + https://python-visualization.github.io/folium/quickstart.html. Этим можно заняться, если захочется вернуться к проекту\n",
    "    \n",
    "    \n",
    "**Касательно презентации:** \n",
    "* Понравилось, что ты добавил автора\n",
    "    \n",
    "<br>\n",
    "    \n",
    "* Рекомендую добавить нумерацию слайдов, чтобы заказчики могли задать вопрос по твоей презентации не с \"верните на вон тот слайд с ...\", а просто по номеру слайда\n",
    "* Хотелось бы ссылок на источник информации\n",
    "* Рекомендую добавлять рамку для отделения графиков от остальной части презентации и их выравнивать от слайда к слайду, а сейчас при переключении есть ощущения, что графики всегда в разных местах\n",
    "   \n",
    "Для оформления презентаций могу порекомендовать сервис https://readymag.com/. \n",
    "</div>"
   ]
  },
  {
   "cell_type": "markdown",
   "metadata": {},
   "source": [
    "<div class=\"alert alert-danger\">\n",
    "<b>Комментарий ревьюера:</b>☁️\n",
    "\n",
    "Прошу в презентации акцентировать внимание на предмете, задачах исследования\n",
    "</div>\n"
   ]
  },
  {
   "cell_type": "markdown",
   "metadata": {},
   "source": [
    "<div class=\"alert alert-info\"> <b>Комментарий студента:</b> Поправил презентацию, акцентировал внимание на задачах исследования, добавил нумерацию слайдов, ссылки на источник. </div>"
   ]
  },
  {
   "cell_type": "markdown",
   "metadata": {},
   "source": [
    "<div class=\"alert alert-success\">\n",
    "<b>Комментарий ревьюера v2:</b>☀️\n",
    "    \n",
    "Замечательно поработали, спасибо, желаю удачи!\n",
    "</div>\n"
   ]
  },
  {
   "cell_type": "code",
   "execution_count": null,
   "metadata": {},
   "outputs": [],
   "source": []
  }
 ],
 "metadata": {
  "ExecuteTimeLog": [
   {
    "duration": 349,
    "start_time": "2022-06-26T10:33:09.513Z"
   },
   {
    "duration": 2,
    "start_time": "2022-06-26T10:33:37.855Z"
   },
   {
    "duration": 269,
    "start_time": "2022-06-26T10:33:37.866Z"
   },
   {
    "duration": 78,
    "start_time": "2022-06-26T10:34:02.299Z"
   },
   {
    "duration": 67,
    "start_time": "2022-06-26T10:34:49.655Z"
   },
   {
    "duration": 13,
    "start_time": "2022-06-26T10:35:32.879Z"
   },
   {
    "duration": 9,
    "start_time": "2022-06-26T11:14:24.239Z"
   },
   {
    "duration": 65,
    "start_time": "2022-06-26T11:18:21.924Z"
   },
   {
    "duration": 10,
    "start_time": "2022-06-26T11:19:57.283Z"
   },
   {
    "duration": 10,
    "start_time": "2022-06-26T11:21:05.388Z"
   },
   {
    "duration": 9,
    "start_time": "2022-06-26T11:21:25.896Z"
   },
   {
    "duration": 9,
    "start_time": "2022-06-26T11:21:33.016Z"
   },
   {
    "duration": 8,
    "start_time": "2022-06-26T11:21:39.377Z"
   },
   {
    "duration": 11,
    "start_time": "2022-06-26T11:21:59.176Z"
   },
   {
    "duration": 10,
    "start_time": "2022-06-26T11:22:05.506Z"
   },
   {
    "duration": 47,
    "start_time": "2022-06-26T12:21:48.162Z"
   },
   {
    "duration": 392,
    "start_time": "2022-06-26T12:21:51.633Z"
   },
   {
    "duration": 129,
    "start_time": "2022-06-26T12:21:52.027Z"
   },
   {
    "duration": 12,
    "start_time": "2022-06-26T12:21:52.158Z"
   },
   {
    "duration": 12,
    "start_time": "2022-06-26T12:21:52.172Z"
   },
   {
    "duration": 22,
    "start_time": "2022-06-26T12:21:52.186Z"
   },
   {
    "duration": 13,
    "start_time": "2022-06-26T12:21:52.209Z"
   },
   {
    "duration": 19,
    "start_time": "2022-06-26T12:21:52.224Z"
   },
   {
    "duration": 6,
    "start_time": "2022-06-26T12:22:05.827Z"
   },
   {
    "duration": 16,
    "start_time": "2022-06-26T12:26:40.271Z"
   },
   {
    "duration": 17,
    "start_time": "2022-06-26T12:26:51.277Z"
   },
   {
    "duration": 6,
    "start_time": "2022-06-26T12:27:16.261Z"
   },
   {
    "duration": 5,
    "start_time": "2022-06-26T12:27:17.870Z"
   },
   {
    "duration": 30,
    "start_time": "2022-06-26T12:27:30.458Z"
   },
   {
    "duration": 3,
    "start_time": "2022-06-26T12:27:43.330Z"
   },
   {
    "duration": 80,
    "start_time": "2022-06-26T12:27:43.334Z"
   },
   {
    "duration": 15,
    "start_time": "2022-06-26T12:27:43.416Z"
   },
   {
    "duration": 9,
    "start_time": "2022-06-26T12:27:43.432Z"
   },
   {
    "duration": 13,
    "start_time": "2022-06-26T12:27:43.444Z"
   },
   {
    "duration": 40,
    "start_time": "2022-06-26T12:27:43.460Z"
   },
   {
    "duration": 24,
    "start_time": "2022-06-26T12:27:43.502Z"
   },
   {
    "duration": 34,
    "start_time": "2022-06-26T12:27:43.527Z"
   },
   {
    "duration": 31,
    "start_time": "2022-06-26T12:27:43.563Z"
   },
   {
    "duration": 9,
    "start_time": "2022-06-26T12:28:28.442Z"
   },
   {
    "duration": 2,
    "start_time": "2022-06-26T12:28:38.141Z"
   },
   {
    "duration": 72,
    "start_time": "2022-06-26T12:28:38.145Z"
   },
   {
    "duration": 13,
    "start_time": "2022-06-26T12:28:38.219Z"
   },
   {
    "duration": 8,
    "start_time": "2022-06-26T12:28:38.235Z"
   },
   {
    "duration": 11,
    "start_time": "2022-06-26T12:28:38.245Z"
   },
   {
    "duration": 10,
    "start_time": "2022-06-26T12:28:38.258Z"
   },
   {
    "duration": 6,
    "start_time": "2022-06-26T12:28:38.270Z"
   },
   {
    "duration": 9,
    "start_time": "2022-06-26T12:28:38.277Z"
   },
   {
    "duration": 42,
    "start_time": "2022-06-26T12:28:38.288Z"
   },
   {
    "duration": 5,
    "start_time": "2022-06-26T12:29:01.816Z"
   },
   {
    "duration": 10,
    "start_time": "2022-06-26T12:29:31.514Z"
   },
   {
    "duration": 9,
    "start_time": "2022-06-26T12:29:36.808Z"
   },
   {
    "duration": 11,
    "start_time": "2022-06-26T13:12:28.651Z"
   },
   {
    "duration": 3,
    "start_time": "2022-06-26T13:12:33.842Z"
   },
   {
    "duration": 79,
    "start_time": "2022-06-26T13:12:33.847Z"
   },
   {
    "duration": 17,
    "start_time": "2022-06-26T13:12:33.929Z"
   },
   {
    "duration": 22,
    "start_time": "2022-06-26T13:12:33.948Z"
   },
   {
    "duration": 22,
    "start_time": "2022-06-26T13:12:33.972Z"
   },
   {
    "duration": 18,
    "start_time": "2022-06-26T13:12:33.996Z"
   },
   {
    "duration": 35,
    "start_time": "2022-06-26T13:12:34.016Z"
   },
   {
    "duration": 15,
    "start_time": "2022-06-26T13:12:34.052Z"
   },
   {
    "duration": 19,
    "start_time": "2022-06-26T13:12:34.068Z"
   },
   {
    "duration": 23,
    "start_time": "2022-06-26T13:12:34.089Z"
   },
   {
    "duration": 6,
    "start_time": "2022-06-26T13:14:24.486Z"
   },
   {
    "duration": 10,
    "start_time": "2022-06-26T13:14:40.227Z"
   },
   {
    "duration": 17,
    "start_time": "2022-06-26T13:14:57.489Z"
   },
   {
    "duration": 20,
    "start_time": "2022-06-26T13:15:14.195Z"
   },
   {
    "duration": 46,
    "start_time": "2022-06-26T13:15:29.915Z"
   },
   {
    "duration": 13,
    "start_time": "2022-06-26T13:16:15.351Z"
   },
   {
    "duration": 2,
    "start_time": "2022-06-26T13:16:36.844Z"
   },
   {
    "duration": 76,
    "start_time": "2022-06-26T13:16:36.848Z"
   },
   {
    "duration": 14,
    "start_time": "2022-06-26T13:16:36.926Z"
   },
   {
    "duration": 10,
    "start_time": "2022-06-26T13:16:36.942Z"
   },
   {
    "duration": 11,
    "start_time": "2022-06-26T13:16:36.954Z"
   },
   {
    "duration": 14,
    "start_time": "2022-06-26T13:16:36.966Z"
   },
   {
    "duration": 5,
    "start_time": "2022-06-26T13:16:36.982Z"
   },
   {
    "duration": 8,
    "start_time": "2022-06-26T13:16:36.989Z"
   },
   {
    "duration": 15,
    "start_time": "2022-06-26T13:16:37.025Z"
   },
   {
    "duration": 10,
    "start_time": "2022-06-26T13:17:16.205Z"
   },
   {
    "duration": 15,
    "start_time": "2022-06-26T13:17:16.889Z"
   },
   {
    "duration": 13,
    "start_time": "2022-06-26T13:17:52.656Z"
   },
   {
    "duration": 37,
    "start_time": "2022-06-26T13:27:03.362Z"
   },
   {
    "duration": 3,
    "start_time": "2022-06-26T13:35:00.797Z"
   },
   {
    "duration": 9,
    "start_time": "2022-06-26T13:35:01.616Z"
   },
   {
    "duration": 2,
    "start_time": "2022-06-26T13:35:37.645Z"
   },
   {
    "duration": 3,
    "start_time": "2022-06-26T13:36:54.603Z"
   },
   {
    "duration": 6,
    "start_time": "2022-06-26T13:36:56.056Z"
   },
   {
    "duration": 6,
    "start_time": "2022-06-26T13:37:03.645Z"
   },
   {
    "duration": 5,
    "start_time": "2022-06-26T13:39:26.713Z"
   },
   {
    "duration": 5,
    "start_time": "2022-06-26T13:39:43.612Z"
   },
   {
    "duration": 3,
    "start_time": "2022-06-26T13:39:49.370Z"
   },
   {
    "duration": 77,
    "start_time": "2022-06-26T13:39:49.374Z"
   },
   {
    "duration": 14,
    "start_time": "2022-06-26T13:39:49.452Z"
   },
   {
    "duration": 10,
    "start_time": "2022-06-26T13:39:49.468Z"
   },
   {
    "duration": 6,
    "start_time": "2022-06-26T13:39:49.480Z"
   },
   {
    "duration": 13,
    "start_time": "2022-06-26T13:39:49.487Z"
   },
   {
    "duration": 12,
    "start_time": "2022-06-26T13:39:49.525Z"
   },
   {
    "duration": 16,
    "start_time": "2022-06-26T13:39:49.539Z"
   },
   {
    "duration": 3,
    "start_time": "2022-06-26T13:39:49.556Z"
   },
   {
    "duration": 10,
    "start_time": "2022-06-26T13:39:49.560Z"
   },
   {
    "duration": 9,
    "start_time": "2022-06-26T13:39:49.572Z"
   },
   {
    "duration": 8,
    "start_time": "2022-06-26T13:39:49.582Z"
   },
   {
    "duration": 45,
    "start_time": "2022-06-26T13:39:49.591Z"
   },
   {
    "duration": 14,
    "start_time": "2022-06-26T13:39:49.638Z"
   },
   {
    "duration": 14,
    "start_time": "2022-06-26T13:39:49.654Z"
   },
   {
    "duration": 24,
    "start_time": "2022-06-26T13:41:40.915Z"
   },
   {
    "duration": 6,
    "start_time": "2022-06-26T13:52:06.294Z"
   },
   {
    "duration": 3,
    "start_time": "2022-06-26T13:52:09.446Z"
   },
   {
    "duration": 69,
    "start_time": "2022-06-26T13:52:09.451Z"
   },
   {
    "duration": 10,
    "start_time": "2022-06-26T13:52:09.522Z"
   },
   {
    "duration": 9,
    "start_time": "2022-06-26T13:52:09.534Z"
   },
   {
    "duration": 17,
    "start_time": "2022-06-26T13:52:09.544Z"
   },
   {
    "duration": 11,
    "start_time": "2022-06-26T13:52:09.562Z"
   },
   {
    "duration": 11,
    "start_time": "2022-06-26T13:52:09.574Z"
   },
   {
    "duration": 13,
    "start_time": "2022-06-26T13:52:09.586Z"
   },
   {
    "duration": 3,
    "start_time": "2022-06-26T13:52:09.626Z"
   },
   {
    "duration": 12,
    "start_time": "2022-06-26T13:52:09.630Z"
   },
   {
    "duration": 6,
    "start_time": "2022-06-26T13:52:09.643Z"
   },
   {
    "duration": 7,
    "start_time": "2022-06-26T13:52:09.650Z"
   },
   {
    "duration": 12,
    "start_time": "2022-06-26T13:52:09.658Z"
   },
   {
    "duration": 10,
    "start_time": "2022-06-26T13:52:09.671Z"
   },
   {
    "duration": 9,
    "start_time": "2022-06-26T13:52:09.683Z"
   },
   {
    "duration": 80,
    "start_time": "2022-06-26T14:03:42.279Z"
   },
   {
    "duration": 2,
    "start_time": "2022-06-26T14:03:51.298Z"
   },
   {
    "duration": 74,
    "start_time": "2022-06-26T14:03:51.302Z"
   },
   {
    "duration": 12,
    "start_time": "2022-06-26T14:03:51.377Z"
   },
   {
    "duration": 9,
    "start_time": "2022-06-26T14:03:51.391Z"
   },
   {
    "duration": 17,
    "start_time": "2022-06-26T14:03:51.402Z"
   },
   {
    "duration": 9,
    "start_time": "2022-06-26T14:03:51.426Z"
   },
   {
    "duration": 13,
    "start_time": "2022-06-26T14:03:51.437Z"
   },
   {
    "duration": 15,
    "start_time": "2022-06-26T14:03:51.451Z"
   },
   {
    "duration": 3,
    "start_time": "2022-06-26T14:03:51.468Z"
   },
   {
    "duration": 9,
    "start_time": "2022-06-26T14:03:51.473Z"
   },
   {
    "duration": 6,
    "start_time": "2022-06-26T14:03:51.483Z"
   },
   {
    "duration": 115,
    "start_time": "2022-06-26T14:03:51.491Z"
   },
   {
    "duration": 101,
    "start_time": "2022-06-26T14:04:48.266Z"
   },
   {
    "duration": 79,
    "start_time": "2022-06-26T14:04:59.358Z"
   },
   {
    "duration": 88,
    "start_time": "2022-06-26T14:05:06.575Z"
   },
   {
    "duration": 77,
    "start_time": "2022-06-26T14:05:59.286Z"
   },
   {
    "duration": 2,
    "start_time": "2022-06-26T14:06:12.522Z"
   },
   {
    "duration": 78,
    "start_time": "2022-06-26T14:06:12.526Z"
   },
   {
    "duration": 13,
    "start_time": "2022-06-26T14:06:12.605Z"
   },
   {
    "duration": 8,
    "start_time": "2022-06-26T14:06:12.620Z"
   },
   {
    "duration": 21,
    "start_time": "2022-06-26T14:06:12.630Z"
   },
   {
    "duration": 12,
    "start_time": "2022-06-26T14:06:12.652Z"
   },
   {
    "duration": 13,
    "start_time": "2022-06-26T14:06:12.666Z"
   },
   {
    "duration": 18,
    "start_time": "2022-06-26T14:06:12.681Z"
   },
   {
    "duration": 3,
    "start_time": "2022-06-26T14:06:12.701Z"
   },
   {
    "duration": 12,
    "start_time": "2022-06-26T14:06:12.725Z"
   },
   {
    "duration": 9,
    "start_time": "2022-06-26T14:06:12.739Z"
   },
   {
    "duration": 77,
    "start_time": "2022-06-26T14:06:12.750Z"
   },
   {
    "duration": 0,
    "start_time": "2022-06-26T14:06:12.828Z"
   },
   {
    "duration": 7,
    "start_time": "2022-06-26T14:07:47.319Z"
   },
   {
    "duration": 10,
    "start_time": "2022-06-26T14:07:56.980Z"
   },
   {
    "duration": 9,
    "start_time": "2022-06-26T14:08:05.939Z"
   },
   {
    "duration": 349,
    "start_time": "2022-06-26T14:13:56.055Z"
   },
   {
    "duration": 78,
    "start_time": "2022-06-26T14:13:56.406Z"
   },
   {
    "duration": 17,
    "start_time": "2022-06-26T14:13:56.487Z"
   },
   {
    "duration": 21,
    "start_time": "2022-06-26T14:13:56.507Z"
   },
   {
    "duration": 23,
    "start_time": "2022-06-26T14:13:56.530Z"
   },
   {
    "duration": 13,
    "start_time": "2022-06-26T14:13:56.555Z"
   },
   {
    "duration": 23,
    "start_time": "2022-06-26T14:13:56.570Z"
   },
   {
    "duration": 43,
    "start_time": "2022-06-26T14:13:56.595Z"
   },
   {
    "duration": 4,
    "start_time": "2022-06-26T14:13:56.640Z"
   },
   {
    "duration": 18,
    "start_time": "2022-06-26T14:13:56.647Z"
   },
   {
    "duration": 10,
    "start_time": "2022-06-26T14:13:56.668Z"
   },
   {
    "duration": 17,
    "start_time": "2022-06-26T14:13:56.680Z"
   },
   {
    "duration": 40,
    "start_time": "2022-06-26T14:13:56.700Z"
   },
   {
    "duration": 2,
    "start_time": "2022-06-26T14:14:48.192Z"
   },
   {
    "duration": 81,
    "start_time": "2022-06-26T14:14:48.196Z"
   },
   {
    "duration": 12,
    "start_time": "2022-06-26T14:14:48.279Z"
   },
   {
    "duration": 10,
    "start_time": "2022-06-26T14:14:48.292Z"
   },
   {
    "duration": 25,
    "start_time": "2022-06-26T14:14:48.303Z"
   },
   {
    "duration": 11,
    "start_time": "2022-06-26T14:14:48.329Z"
   },
   {
    "duration": 15,
    "start_time": "2022-06-26T14:14:48.341Z"
   },
   {
    "duration": 15,
    "start_time": "2022-06-26T14:14:48.357Z"
   },
   {
    "duration": 3,
    "start_time": "2022-06-26T14:14:48.373Z"
   },
   {
    "duration": 9,
    "start_time": "2022-06-26T14:14:48.377Z"
   },
   {
    "duration": 8,
    "start_time": "2022-06-26T14:14:48.387Z"
   },
   {
    "duration": 36,
    "start_time": "2022-06-26T14:14:48.396Z"
   },
   {
    "duration": 23764,
    "start_time": "2022-06-26T14:14:48.434Z"
   },
   {
    "duration": 7,
    "start_time": "2022-06-26T14:18:54.785Z"
   },
   {
    "duration": 3,
    "start_time": "2022-06-26T14:19:01.192Z"
   },
   {
    "duration": 80,
    "start_time": "2022-06-26T14:19:01.197Z"
   },
   {
    "duration": 14,
    "start_time": "2022-06-26T14:19:01.279Z"
   },
   {
    "duration": 14,
    "start_time": "2022-06-26T14:19:01.295Z"
   },
   {
    "duration": 31,
    "start_time": "2022-06-26T14:19:01.312Z"
   },
   {
    "duration": 14,
    "start_time": "2022-06-26T14:19:01.344Z"
   },
   {
    "duration": 17,
    "start_time": "2022-06-26T14:19:01.360Z"
   },
   {
    "duration": 15,
    "start_time": "2022-06-26T14:19:01.378Z"
   },
   {
    "duration": 3,
    "start_time": "2022-06-26T14:19:01.395Z"
   },
   {
    "duration": 8,
    "start_time": "2022-06-26T14:19:01.425Z"
   },
   {
    "duration": 10,
    "start_time": "2022-06-26T14:19:01.435Z"
   },
   {
    "duration": 9,
    "start_time": "2022-06-26T14:19:01.447Z"
   },
   {
    "duration": 8,
    "start_time": "2022-06-26T14:19:01.459Z"
   },
   {
    "duration": 12,
    "start_time": "2022-06-26T14:19:15.029Z"
   },
   {
    "duration": 109,
    "start_time": "2022-06-26T14:20:37.542Z"
   },
   {
    "duration": 8,
    "start_time": "2022-06-26T14:21:33.443Z"
   },
   {
    "duration": 1257,
    "start_time": "2022-06-26T14:26:24.779Z"
   },
   {
    "duration": 12,
    "start_time": "2022-06-26T14:31:14.862Z"
   },
   {
    "duration": 1562,
    "start_time": "2022-06-26T14:31:25.849Z"
   },
   {
    "duration": 1441,
    "start_time": "2022-06-26T14:33:33.900Z"
   },
   {
    "duration": 13,
    "start_time": "2022-06-26T14:33:51.932Z"
   },
   {
    "duration": 1367,
    "start_time": "2022-06-26T14:34:00.309Z"
   },
   {
    "duration": 3,
    "start_time": "2022-06-26T14:34:03.062Z"
   },
   {
    "duration": 74,
    "start_time": "2022-06-26T14:34:03.067Z"
   },
   {
    "duration": 12,
    "start_time": "2022-06-26T14:34:03.142Z"
   },
   {
    "duration": 29,
    "start_time": "2022-06-26T14:34:03.156Z"
   },
   {
    "duration": 40,
    "start_time": "2022-06-26T14:34:03.187Z"
   },
   {
    "duration": 12,
    "start_time": "2022-06-26T14:34:03.228Z"
   },
   {
    "duration": 31,
    "start_time": "2022-06-26T14:34:03.241Z"
   },
   {
    "duration": 23,
    "start_time": "2022-06-26T14:34:03.274Z"
   },
   {
    "duration": 4,
    "start_time": "2022-06-26T14:34:03.299Z"
   },
   {
    "duration": 35,
    "start_time": "2022-06-26T14:34:03.305Z"
   },
   {
    "duration": 19,
    "start_time": "2022-06-26T14:34:03.342Z"
   },
   {
    "duration": 35,
    "start_time": "2022-06-26T14:34:03.363Z"
   },
   {
    "duration": 1403,
    "start_time": "2022-06-26T14:34:03.399Z"
   },
   {
    "duration": 0,
    "start_time": "2022-06-26T14:34:04.804Z"
   },
   {
    "duration": 93,
    "start_time": "2022-06-26T14:34:39.693Z"
   },
   {
    "duration": 3,
    "start_time": "2022-06-26T14:38:49.730Z"
   },
   {
    "duration": 8,
    "start_time": "2022-06-26T14:38:50.270Z"
   },
   {
    "duration": 130,
    "start_time": "2022-06-26T14:39:52.979Z"
   },
   {
    "duration": 226,
    "start_time": "2022-06-26T14:40:38.908Z"
   },
   {
    "duration": 248,
    "start_time": "2022-06-26T14:40:51.095Z"
   },
   {
    "duration": 2196,
    "start_time": "2022-06-26T14:41:03.957Z"
   },
   {
    "duration": 133,
    "start_time": "2022-06-26T14:41:11.282Z"
   },
   {
    "duration": 132,
    "start_time": "2022-06-26T14:41:22.108Z"
   },
   {
    "duration": 125,
    "start_time": "2022-06-26T14:41:27.404Z"
   },
   {
    "duration": 130,
    "start_time": "2022-06-26T14:41:39.951Z"
   },
   {
    "duration": 147,
    "start_time": "2022-06-26T14:42:08.856Z"
   },
   {
    "duration": 137,
    "start_time": "2022-06-26T14:42:18.025Z"
   },
   {
    "duration": 153,
    "start_time": "2022-06-26T14:42:26.946Z"
   },
   {
    "duration": 155,
    "start_time": "2022-06-26T14:42:47.529Z"
   },
   {
    "duration": 1729,
    "start_time": "2022-06-26T14:46:53.195Z"
   },
   {
    "duration": 522,
    "start_time": "2022-06-26T14:51:24.598Z"
   },
   {
    "duration": 70,
    "start_time": "2022-06-26T14:51:25.122Z"
   },
   {
    "duration": 11,
    "start_time": "2022-06-26T14:51:25.194Z"
   },
   {
    "duration": 13,
    "start_time": "2022-06-26T14:51:25.207Z"
   },
   {
    "duration": 18,
    "start_time": "2022-06-26T14:51:25.221Z"
   },
   {
    "duration": 10,
    "start_time": "2022-06-26T14:51:25.240Z"
   },
   {
    "duration": 16,
    "start_time": "2022-06-26T14:51:25.252Z"
   },
   {
    "duration": 16,
    "start_time": "2022-06-26T14:51:25.269Z"
   },
   {
    "duration": 3,
    "start_time": "2022-06-26T14:51:25.286Z"
   },
   {
    "duration": 33,
    "start_time": "2022-06-26T14:51:25.292Z"
   },
   {
    "duration": 8,
    "start_time": "2022-06-26T14:51:25.327Z"
   },
   {
    "duration": 10,
    "start_time": "2022-06-26T14:51:25.336Z"
   },
   {
    "duration": 2,
    "start_time": "2022-06-26T14:51:25.348Z"
   },
   {
    "duration": 187,
    "start_time": "2022-06-26T14:51:25.352Z"
   },
   {
    "duration": 38,
    "start_time": "2022-06-26T14:51:25.540Z"
   },
   {
    "duration": 13,
    "start_time": "2022-06-26T14:52:24.390Z"
   },
   {
    "duration": 403,
    "start_time": "2022-06-26T14:53:11.716Z"
   },
   {
    "duration": 10,
    "start_time": "2022-06-26T14:56:23.097Z"
   },
   {
    "duration": 133,
    "start_time": "2022-06-26T14:56:53.340Z"
   },
   {
    "duration": 13,
    "start_time": "2022-06-26T14:59:20.559Z"
   },
   {
    "duration": 11,
    "start_time": "2022-06-26T15:00:53.606Z"
   },
   {
    "duration": 10,
    "start_time": "2022-06-26T15:02:24.938Z"
   },
   {
    "duration": 10,
    "start_time": "2022-06-26T15:04:22.700Z"
   },
   {
    "duration": 3,
    "start_time": "2022-06-26T15:04:29.107Z"
   },
   {
    "duration": 71,
    "start_time": "2022-06-26T15:04:29.112Z"
   },
   {
    "duration": 12,
    "start_time": "2022-06-26T15:04:29.185Z"
   },
   {
    "duration": 9,
    "start_time": "2022-06-26T15:04:29.199Z"
   },
   {
    "duration": 18,
    "start_time": "2022-06-26T15:04:29.210Z"
   },
   {
    "duration": 10,
    "start_time": "2022-06-26T15:04:29.230Z"
   },
   {
    "duration": 15,
    "start_time": "2022-06-26T15:04:29.242Z"
   },
   {
    "duration": 14,
    "start_time": "2022-06-26T15:04:29.258Z"
   },
   {
    "duration": 2,
    "start_time": "2022-06-26T15:04:29.274Z"
   },
   {
    "duration": 12,
    "start_time": "2022-06-26T15:04:29.279Z"
   },
   {
    "duration": 8,
    "start_time": "2022-06-26T15:04:29.293Z"
   },
   {
    "duration": 9,
    "start_time": "2022-06-26T15:04:29.326Z"
   },
   {
    "duration": 3,
    "start_time": "2022-06-26T15:04:29.337Z"
   },
   {
    "duration": 157,
    "start_time": "2022-06-26T15:04:29.341Z"
   },
   {
    "duration": 9,
    "start_time": "2022-06-26T15:04:29.500Z"
   },
   {
    "duration": 5,
    "start_time": "2022-06-26T15:04:29.510Z"
   },
   {
    "duration": 108,
    "start_time": "2022-06-26T15:04:29.517Z"
   },
   {
    "duration": 93,
    "start_time": "2022-06-26T15:04:40.303Z"
   },
   {
    "duration": 87,
    "start_time": "2022-06-26T15:05:07.119Z"
   },
   {
    "duration": 1434,
    "start_time": "2022-06-28T08:08:18.367Z"
   },
   {
    "duration": 110,
    "start_time": "2022-06-28T08:08:19.803Z"
   },
   {
    "duration": 15,
    "start_time": "2022-06-28T08:08:19.915Z"
   },
   {
    "duration": 9,
    "start_time": "2022-06-28T08:08:19.933Z"
   },
   {
    "duration": 33,
    "start_time": "2022-06-28T08:08:19.944Z"
   },
   {
    "duration": 11,
    "start_time": "2022-06-28T08:08:19.980Z"
   },
   {
    "duration": 26,
    "start_time": "2022-06-28T08:08:19.993Z"
   },
   {
    "duration": 69,
    "start_time": "2022-06-28T08:08:20.021Z"
   },
   {
    "duration": 3,
    "start_time": "2022-06-28T08:08:20.091Z"
   },
   {
    "duration": 110,
    "start_time": "2022-06-28T08:08:20.097Z"
   },
   {
    "duration": 0,
    "start_time": "2022-06-28T08:08:20.208Z"
   },
   {
    "duration": 0,
    "start_time": "2022-06-28T08:08:20.210Z"
   },
   {
    "duration": 0,
    "start_time": "2022-06-28T08:08:20.210Z"
   },
   {
    "duration": 0,
    "start_time": "2022-06-28T08:08:20.212Z"
   },
   {
    "duration": 0,
    "start_time": "2022-06-28T08:08:20.213Z"
   },
   {
    "duration": 0,
    "start_time": "2022-06-28T08:08:20.214Z"
   },
   {
    "duration": 0,
    "start_time": "2022-06-28T08:08:20.215Z"
   },
   {
    "duration": 3,
    "start_time": "2022-06-28T08:08:47.112Z"
   },
   {
    "duration": 67,
    "start_time": "2022-06-28T08:08:47.118Z"
   },
   {
    "duration": 15,
    "start_time": "2022-06-28T08:08:47.186Z"
   },
   {
    "duration": 10,
    "start_time": "2022-06-28T08:08:47.204Z"
   },
   {
    "duration": 26,
    "start_time": "2022-06-28T08:08:47.216Z"
   },
   {
    "duration": 33,
    "start_time": "2022-06-28T08:08:47.245Z"
   },
   {
    "duration": 14,
    "start_time": "2022-06-28T08:08:47.280Z"
   },
   {
    "duration": 15,
    "start_time": "2022-06-28T08:08:47.296Z"
   },
   {
    "duration": 3,
    "start_time": "2022-06-28T08:08:47.314Z"
   },
   {
    "duration": 49,
    "start_time": "2022-06-28T08:08:47.318Z"
   },
   {
    "duration": 0,
    "start_time": "2022-06-28T08:08:47.370Z"
   },
   {
    "duration": 0,
    "start_time": "2022-06-28T08:08:47.371Z"
   },
   {
    "duration": 0,
    "start_time": "2022-06-28T08:08:47.372Z"
   },
   {
    "duration": 0,
    "start_time": "2022-06-28T08:08:47.373Z"
   },
   {
    "duration": 0,
    "start_time": "2022-06-28T08:08:47.375Z"
   },
   {
    "duration": 0,
    "start_time": "2022-06-28T08:08:47.376Z"
   },
   {
    "duration": 0,
    "start_time": "2022-06-28T08:08:47.377Z"
   },
   {
    "duration": 3,
    "start_time": "2022-06-28T08:08:57.565Z"
   },
   {
    "duration": 9,
    "start_time": "2022-06-28T08:08:58.915Z"
   },
   {
    "duration": 3,
    "start_time": "2022-06-28T08:09:32.217Z"
   },
   {
    "duration": 8,
    "start_time": "2022-06-28T08:09:33.372Z"
   },
   {
    "duration": 7,
    "start_time": "2022-06-28T08:09:34.363Z"
   },
   {
    "duration": 3,
    "start_time": "2022-06-28T08:09:37.359Z"
   },
   {
    "duration": 71,
    "start_time": "2022-06-28T08:09:37.364Z"
   },
   {
    "duration": 15,
    "start_time": "2022-06-28T08:09:37.437Z"
   },
   {
    "duration": 13,
    "start_time": "2022-06-28T08:09:37.454Z"
   },
   {
    "duration": 25,
    "start_time": "2022-06-28T08:09:37.470Z"
   },
   {
    "duration": 12,
    "start_time": "2022-06-28T08:09:37.496Z"
   },
   {
    "duration": 15,
    "start_time": "2022-06-28T08:09:37.510Z"
   },
   {
    "duration": 42,
    "start_time": "2022-06-28T08:09:37.527Z"
   },
   {
    "duration": 6,
    "start_time": "2022-06-28T08:09:37.571Z"
   },
   {
    "duration": 30,
    "start_time": "2022-06-28T08:09:37.579Z"
   },
   {
    "duration": 12,
    "start_time": "2022-06-28T08:09:37.611Z"
   },
   {
    "duration": 20,
    "start_time": "2022-06-28T08:09:37.625Z"
   },
   {
    "duration": 3,
    "start_time": "2022-06-28T08:09:37.647Z"
   },
   {
    "duration": 192,
    "start_time": "2022-06-28T08:09:37.668Z"
   },
   {
    "duration": 14,
    "start_time": "2022-06-28T08:09:37.861Z"
   },
   {
    "duration": 3,
    "start_time": "2022-06-28T08:09:37.877Z"
   },
   {
    "duration": 131,
    "start_time": "2022-06-28T08:09:37.882Z"
   },
   {
    "duration": 6,
    "start_time": "2022-06-28T09:10:18.350Z"
   },
   {
    "duration": 8,
    "start_time": "2022-06-28T09:14:01.602Z"
   },
   {
    "duration": 3,
    "start_time": "2022-06-28T09:14:05.404Z"
   },
   {
    "duration": 62,
    "start_time": "2022-06-28T09:14:05.409Z"
   },
   {
    "duration": 12,
    "start_time": "2022-06-28T09:14:05.473Z"
   },
   {
    "duration": 19,
    "start_time": "2022-06-28T09:14:05.486Z"
   },
   {
    "duration": 23,
    "start_time": "2022-06-28T09:14:05.507Z"
   },
   {
    "duration": 10,
    "start_time": "2022-06-28T09:14:05.531Z"
   },
   {
    "duration": 28,
    "start_time": "2022-06-28T09:14:05.542Z"
   },
   {
    "duration": 14,
    "start_time": "2022-06-28T09:14:05.572Z"
   },
   {
    "duration": 4,
    "start_time": "2022-06-28T09:14:05.589Z"
   },
   {
    "duration": 12,
    "start_time": "2022-06-28T09:14:05.594Z"
   },
   {
    "duration": 9,
    "start_time": "2022-06-28T09:14:05.607Z"
   },
   {
    "duration": 18,
    "start_time": "2022-06-28T09:14:05.618Z"
   },
   {
    "duration": 30,
    "start_time": "2022-06-28T09:14:05.638Z"
   },
   {
    "duration": 170,
    "start_time": "2022-06-28T09:14:05.670Z"
   },
   {
    "duration": 9,
    "start_time": "2022-06-28T09:14:05.842Z"
   },
   {
    "duration": 3,
    "start_time": "2022-06-28T09:14:05.852Z"
   },
   {
    "duration": 100,
    "start_time": "2022-06-28T09:14:05.867Z"
   },
   {
    "duration": 5,
    "start_time": "2022-06-28T09:14:05.969Z"
   },
   {
    "duration": 6,
    "start_time": "2022-06-28T09:14:05.975Z"
   },
   {
    "duration": 8,
    "start_time": "2022-06-28T09:14:27.344Z"
   },
   {
    "duration": 3,
    "start_time": "2022-06-28T09:14:38.755Z"
   },
   {
    "duration": 3,
    "start_time": "2022-06-28T09:15:10.669Z"
   },
   {
    "duration": 66,
    "start_time": "2022-06-28T09:15:10.674Z"
   },
   {
    "duration": 13,
    "start_time": "2022-06-28T09:15:10.742Z"
   },
   {
    "duration": 13,
    "start_time": "2022-06-28T09:15:10.758Z"
   },
   {
    "duration": 21,
    "start_time": "2022-06-28T09:15:10.773Z"
   },
   {
    "duration": 10,
    "start_time": "2022-06-28T09:15:10.796Z"
   },
   {
    "duration": 18,
    "start_time": "2022-06-28T09:15:10.808Z"
   },
   {
    "duration": 14,
    "start_time": "2022-06-28T09:15:10.828Z"
   },
   {
    "duration": 24,
    "start_time": "2022-06-28T09:15:10.844Z"
   },
   {
    "duration": 9,
    "start_time": "2022-06-28T09:15:10.869Z"
   },
   {
    "duration": 7,
    "start_time": "2022-06-28T09:15:10.880Z"
   },
   {
    "duration": 21,
    "start_time": "2022-06-28T09:15:10.888Z"
   },
   {
    "duration": 3,
    "start_time": "2022-06-28T09:15:10.911Z"
   },
   {
    "duration": 195,
    "start_time": "2022-06-28T09:15:10.915Z"
   },
   {
    "duration": 10,
    "start_time": "2022-06-28T09:15:11.112Z"
   },
   {
    "duration": 3,
    "start_time": "2022-06-28T09:15:11.124Z"
   },
   {
    "duration": 122,
    "start_time": "2022-06-28T09:15:11.128Z"
   },
   {
    "duration": 20,
    "start_time": "2022-06-28T09:15:11.252Z"
   },
   {
    "duration": 11,
    "start_time": "2022-06-28T09:15:11.273Z"
   },
   {
    "duration": 6,
    "start_time": "2022-06-28T09:15:11.286Z"
   },
   {
    "duration": 11,
    "start_time": "2022-06-28T09:15:38.946Z"
   },
   {
    "duration": 4,
    "start_time": "2022-06-28T09:15:43.165Z"
   },
   {
    "duration": 23,
    "start_time": "2022-06-28T09:22:09.858Z"
   },
   {
    "duration": 957,
    "start_time": "2022-06-28T09:22:28.939Z"
   },
   {
    "duration": 816,
    "start_time": "2022-06-28T09:23:11.411Z"
   },
   {
    "duration": 11,
    "start_time": "2022-06-28T09:23:43.774Z"
   },
   {
    "duration": 17,
    "start_time": "2022-06-28T09:23:58.711Z"
   },
   {
    "duration": 22,
    "start_time": "2022-06-28T09:25:32.373Z"
   },
   {
    "duration": 55,
    "start_time": "2022-06-28T09:28:13.991Z"
   },
   {
    "duration": 18,
    "start_time": "2022-06-28T09:29:29.628Z"
   },
   {
    "duration": 3,
    "start_time": "2022-06-28T09:30:06.027Z"
   },
   {
    "duration": 74,
    "start_time": "2022-06-28T09:30:06.032Z"
   },
   {
    "duration": 13,
    "start_time": "2022-06-28T09:30:06.108Z"
   },
   {
    "duration": 11,
    "start_time": "2022-06-28T09:30:06.123Z"
   },
   {
    "duration": 37,
    "start_time": "2022-06-28T09:30:06.136Z"
   },
   {
    "duration": 11,
    "start_time": "2022-06-28T09:30:06.175Z"
   },
   {
    "duration": 15,
    "start_time": "2022-06-28T09:30:06.188Z"
   },
   {
    "duration": 20,
    "start_time": "2022-06-28T09:30:06.205Z"
   },
   {
    "duration": 4,
    "start_time": "2022-06-28T09:30:06.226Z"
   },
   {
    "duration": 38,
    "start_time": "2022-06-28T09:30:06.232Z"
   },
   {
    "duration": 9,
    "start_time": "2022-06-28T09:30:06.272Z"
   },
   {
    "duration": 12,
    "start_time": "2022-06-28T09:30:06.282Z"
   },
   {
    "duration": 5,
    "start_time": "2022-06-28T09:30:06.296Z"
   },
   {
    "duration": 202,
    "start_time": "2022-06-28T09:30:06.303Z"
   },
   {
    "duration": 12,
    "start_time": "2022-06-28T09:30:06.507Z"
   },
   {
    "duration": 3,
    "start_time": "2022-06-28T09:30:06.521Z"
   },
   {
    "duration": 212,
    "start_time": "2022-06-28T09:30:06.525Z"
   },
   {
    "duration": 36,
    "start_time": "2022-06-28T09:30:06.739Z"
   },
   {
    "duration": 7,
    "start_time": "2022-06-28T09:52:48.718Z"
   },
   {
    "duration": 27,
    "start_time": "2022-06-28T09:55:03.245Z"
   },
   {
    "duration": 47,
    "start_time": "2022-06-28T09:57:44.390Z"
   },
   {
    "duration": 23,
    "start_time": "2022-06-28T09:59:05.313Z"
   },
   {
    "duration": 28,
    "start_time": "2022-06-28T09:59:27.997Z"
   },
   {
    "duration": 29,
    "start_time": "2022-06-28T10:01:21.366Z"
   },
   {
    "duration": 27,
    "start_time": "2022-06-28T10:01:54.707Z"
   },
   {
    "duration": 39,
    "start_time": "2022-06-28T10:10:17.225Z"
   },
   {
    "duration": 52,
    "start_time": "2022-06-28T10:12:45.551Z"
   },
   {
    "duration": 16,
    "start_time": "2022-06-28T10:12:57.222Z"
   },
   {
    "duration": 20,
    "start_time": "2022-06-28T11:35:25.353Z"
   },
   {
    "duration": 28,
    "start_time": "2022-06-28T11:36:09.054Z"
   },
   {
    "duration": 24,
    "start_time": "2022-06-28T11:36:39.852Z"
   },
   {
    "duration": 27,
    "start_time": "2022-06-28T11:37:06.036Z"
   },
   {
    "duration": 21,
    "start_time": "2022-06-28T11:37:17.916Z"
   },
   {
    "duration": 24,
    "start_time": "2022-06-28T11:38:42.184Z"
   },
   {
    "duration": 23,
    "start_time": "2022-06-28T11:39:07.814Z"
   },
   {
    "duration": 20,
    "start_time": "2022-06-28T11:40:10.692Z"
   },
   {
    "duration": 782,
    "start_time": "2022-06-28T11:42:31.491Z"
   },
   {
    "duration": 5,
    "start_time": "2022-06-28T11:42:43.694Z"
   },
   {
    "duration": 12,
    "start_time": "2022-06-28T11:42:55.783Z"
   },
   {
    "duration": 11,
    "start_time": "2022-06-28T11:44:06.391Z"
   },
   {
    "duration": 8,
    "start_time": "2022-06-28T11:45:50.382Z"
   },
   {
    "duration": 45,
    "start_time": "2022-06-28T11:46:35.833Z"
   },
   {
    "duration": 65,
    "start_time": "2022-06-28T11:47:29.340Z"
   },
   {
    "duration": 170,
    "start_time": "2022-06-28T11:48:02.239Z"
   },
   {
    "duration": 54,
    "start_time": "2022-06-28T11:48:06.616Z"
   },
   {
    "duration": 49,
    "start_time": "2022-06-28T11:48:44.358Z"
   },
   {
    "duration": 47,
    "start_time": "2022-06-28T11:49:05.232Z"
   },
   {
    "duration": 13,
    "start_time": "2022-06-28T11:49:18.137Z"
   },
   {
    "duration": 42,
    "start_time": "2022-06-28T11:50:10.105Z"
   },
   {
    "duration": 13,
    "start_time": "2022-06-28T11:52:36.974Z"
   },
   {
    "duration": 2,
    "start_time": "2022-06-28T11:53:54.548Z"
   },
   {
    "duration": 59,
    "start_time": "2022-06-28T11:53:54.552Z"
   },
   {
    "duration": 11,
    "start_time": "2022-06-28T11:53:54.613Z"
   },
   {
    "duration": 19,
    "start_time": "2022-06-28T11:53:54.626Z"
   },
   {
    "duration": 30,
    "start_time": "2022-06-28T11:53:54.648Z"
   },
   {
    "duration": 14,
    "start_time": "2022-06-28T11:53:54.679Z"
   },
   {
    "duration": 16,
    "start_time": "2022-06-28T11:53:54.695Z"
   },
   {
    "duration": 14,
    "start_time": "2022-06-28T11:53:54.712Z"
   },
   {
    "duration": 3,
    "start_time": "2022-06-28T11:53:54.728Z"
   },
   {
    "duration": 32,
    "start_time": "2022-06-28T11:53:54.733Z"
   },
   {
    "duration": 10,
    "start_time": "2022-06-28T11:53:54.767Z"
   },
   {
    "duration": 13,
    "start_time": "2022-06-28T11:53:54.779Z"
   },
   {
    "duration": 3,
    "start_time": "2022-06-28T11:53:54.794Z"
   },
   {
    "duration": 181,
    "start_time": "2022-06-28T11:53:54.801Z"
   },
   {
    "duration": 10,
    "start_time": "2022-06-28T11:53:54.984Z"
   },
   {
    "duration": 4,
    "start_time": "2022-06-28T11:53:54.996Z"
   },
   {
    "duration": 116,
    "start_time": "2022-06-28T11:53:55.001Z"
   },
   {
    "duration": 21,
    "start_time": "2022-06-28T11:53:55.119Z"
   },
   {
    "duration": 6,
    "start_time": "2022-06-28T11:53:55.141Z"
   },
   {
    "duration": 31,
    "start_time": "2022-06-28T11:53:55.149Z"
   },
   {
    "duration": 18,
    "start_time": "2022-06-28T11:53:55.182Z"
   },
   {
    "duration": 8,
    "start_time": "2022-06-28T11:53:55.202Z"
   },
   {
    "duration": 9,
    "start_time": "2022-06-28T11:53:55.211Z"
   },
   {
    "duration": 78,
    "start_time": "2022-06-28T11:53:55.222Z"
   },
   {
    "duration": 11,
    "start_time": "2022-06-28T11:53:55.301Z"
   },
   {
    "duration": 11,
    "start_time": "2022-06-28T12:00:17.318Z"
   },
   {
    "duration": 813,
    "start_time": "2022-06-28T12:06:38.445Z"
   },
   {
    "duration": 3,
    "start_time": "2022-06-28T12:09:00.195Z"
   },
   {
    "duration": 60,
    "start_time": "2022-06-28T12:09:00.200Z"
   },
   {
    "duration": 11,
    "start_time": "2022-06-28T12:09:00.261Z"
   },
   {
    "duration": 8,
    "start_time": "2022-06-28T12:09:00.273Z"
   },
   {
    "duration": 22,
    "start_time": "2022-06-28T12:09:00.282Z"
   },
   {
    "duration": 11,
    "start_time": "2022-06-28T12:09:00.305Z"
   },
   {
    "duration": 19,
    "start_time": "2022-06-28T12:09:00.317Z"
   },
   {
    "duration": 30,
    "start_time": "2022-06-28T12:09:00.337Z"
   },
   {
    "duration": 2,
    "start_time": "2022-06-28T12:09:00.369Z"
   },
   {
    "duration": 10,
    "start_time": "2022-06-28T12:09:00.373Z"
   },
   {
    "duration": 34,
    "start_time": "2022-06-28T12:09:00.385Z"
   },
   {
    "duration": 36,
    "start_time": "2022-06-28T12:09:00.421Z"
   },
   {
    "duration": 9,
    "start_time": "2022-06-28T12:09:00.459Z"
   },
   {
    "duration": 164,
    "start_time": "2022-06-28T12:09:00.469Z"
   },
   {
    "duration": 10,
    "start_time": "2022-06-28T12:09:00.634Z"
   },
   {
    "duration": 25,
    "start_time": "2022-06-28T12:09:00.645Z"
   },
   {
    "duration": 105,
    "start_time": "2022-06-28T12:09:00.671Z"
   },
   {
    "duration": 21,
    "start_time": "2022-06-28T12:09:00.777Z"
   },
   {
    "duration": 13,
    "start_time": "2022-06-28T12:09:00.799Z"
   },
   {
    "duration": 28,
    "start_time": "2022-06-28T12:09:00.813Z"
   },
   {
    "duration": 24,
    "start_time": "2022-06-28T12:09:00.843Z"
   },
   {
    "duration": 9,
    "start_time": "2022-06-28T12:09:00.868Z"
   },
   {
    "duration": 14,
    "start_time": "2022-06-28T12:09:00.878Z"
   },
   {
    "duration": 51,
    "start_time": "2022-06-28T12:09:00.893Z"
   },
   {
    "duration": 10,
    "start_time": "2022-06-28T12:09:00.945Z"
   },
   {
    "duration": 15,
    "start_time": "2022-06-28T12:09:00.957Z"
   },
   {
    "duration": 17,
    "start_time": "2022-06-28T12:09:00.974Z"
   },
   {
    "duration": 3,
    "start_time": "2022-06-28T12:10:56.803Z"
   },
   {
    "duration": 64,
    "start_time": "2022-06-28T12:10:56.807Z"
   },
   {
    "duration": 13,
    "start_time": "2022-06-28T12:10:56.873Z"
   },
   {
    "duration": 13,
    "start_time": "2022-06-28T12:10:56.887Z"
   },
   {
    "duration": 22,
    "start_time": "2022-06-28T12:10:56.902Z"
   },
   {
    "duration": 13,
    "start_time": "2022-06-28T12:10:56.925Z"
   },
   {
    "duration": 35,
    "start_time": "2022-06-28T12:10:56.939Z"
   },
   {
    "duration": 16,
    "start_time": "2022-06-28T12:10:56.976Z"
   },
   {
    "duration": 3,
    "start_time": "2022-06-28T12:10:56.994Z"
   },
   {
    "duration": 12,
    "start_time": "2022-06-28T12:10:56.999Z"
   },
   {
    "duration": 9,
    "start_time": "2022-06-28T12:10:57.014Z"
   },
   {
    "duration": 44,
    "start_time": "2022-06-28T12:10:57.024Z"
   },
   {
    "duration": 3,
    "start_time": "2022-06-28T12:10:57.070Z"
   },
   {
    "duration": 166,
    "start_time": "2022-06-28T12:10:57.074Z"
   },
   {
    "duration": 10,
    "start_time": "2022-06-28T12:10:57.242Z"
   },
   {
    "duration": 14,
    "start_time": "2022-06-28T12:10:57.253Z"
   },
   {
    "duration": 100,
    "start_time": "2022-06-28T12:10:57.269Z"
   },
   {
    "duration": 21,
    "start_time": "2022-06-28T12:10:57.370Z"
   },
   {
    "duration": 6,
    "start_time": "2022-06-28T12:10:57.393Z"
   },
   {
    "duration": 18,
    "start_time": "2022-06-28T12:10:57.400Z"
   },
   {
    "duration": 22,
    "start_time": "2022-06-28T12:10:57.419Z"
   },
   {
    "duration": 33,
    "start_time": "2022-06-28T12:10:57.442Z"
   },
   {
    "duration": 9,
    "start_time": "2022-06-28T12:10:57.476Z"
   },
   {
    "duration": 42,
    "start_time": "2022-06-28T12:10:57.486Z"
   },
   {
    "duration": 13,
    "start_time": "2022-06-28T12:10:57.529Z"
   },
   {
    "duration": 33,
    "start_time": "2022-06-28T12:10:57.544Z"
   },
   {
    "duration": 13,
    "start_time": "2022-06-28T12:10:57.579Z"
   },
   {
    "duration": 12,
    "start_time": "2022-06-28T12:11:16.382Z"
   },
   {
    "duration": 3,
    "start_time": "2022-06-28T12:11:21.650Z"
   },
   {
    "duration": 67,
    "start_time": "2022-06-28T12:11:21.655Z"
   },
   {
    "duration": 15,
    "start_time": "2022-06-28T12:11:21.723Z"
   },
   {
    "duration": 29,
    "start_time": "2022-06-28T12:11:21.740Z"
   },
   {
    "duration": 21,
    "start_time": "2022-06-28T12:11:21.772Z"
   },
   {
    "duration": 12,
    "start_time": "2022-06-28T12:11:21.794Z"
   },
   {
    "duration": 13,
    "start_time": "2022-06-28T12:11:21.808Z"
   },
   {
    "duration": 25,
    "start_time": "2022-06-28T12:11:21.823Z"
   },
   {
    "duration": 6,
    "start_time": "2022-06-28T12:11:21.868Z"
   },
   {
    "duration": 17,
    "start_time": "2022-06-28T12:11:21.876Z"
   },
   {
    "duration": 24,
    "start_time": "2022-06-28T12:11:21.895Z"
   },
   {
    "duration": 29,
    "start_time": "2022-06-28T12:11:21.920Z"
   },
   {
    "duration": 4,
    "start_time": "2022-06-28T12:11:21.951Z"
   },
   {
    "duration": 167,
    "start_time": "2022-06-28T12:11:21.958Z"
   },
   {
    "duration": 10,
    "start_time": "2022-06-28T12:11:22.126Z"
   },
   {
    "duration": 5,
    "start_time": "2022-06-28T12:11:22.137Z"
   },
   {
    "duration": 112,
    "start_time": "2022-06-28T12:11:22.144Z"
   },
   {
    "duration": 26,
    "start_time": "2022-06-28T12:11:22.258Z"
   },
   {
    "duration": 6,
    "start_time": "2022-06-28T12:11:22.286Z"
   },
   {
    "duration": 30,
    "start_time": "2022-06-28T12:11:22.294Z"
   },
   {
    "duration": 29,
    "start_time": "2022-06-28T12:11:22.326Z"
   },
   {
    "duration": 18,
    "start_time": "2022-06-28T12:11:22.357Z"
   },
   {
    "duration": 23,
    "start_time": "2022-06-28T12:11:22.377Z"
   },
   {
    "duration": 47,
    "start_time": "2022-06-28T12:11:22.402Z"
   },
   {
    "duration": 15,
    "start_time": "2022-06-28T12:11:22.450Z"
   },
   {
    "duration": 27,
    "start_time": "2022-06-28T12:11:22.466Z"
   },
   {
    "duration": 20,
    "start_time": "2022-06-28T12:11:22.494Z"
   },
   {
    "duration": 14,
    "start_time": "2022-06-28T12:11:55.309Z"
   },
   {
    "duration": 402,
    "start_time": "2022-06-28T12:12:06.750Z"
   },
   {
    "duration": 382,
    "start_time": "2022-06-28T12:18:26.026Z"
   },
   {
    "duration": 481,
    "start_time": "2022-06-28T12:18:31.355Z"
   },
   {
    "duration": 3,
    "start_time": "2022-06-28T12:18:36.176Z"
   },
   {
    "duration": 66,
    "start_time": "2022-06-28T12:18:36.181Z"
   },
   {
    "duration": 13,
    "start_time": "2022-06-28T12:18:36.249Z"
   },
   {
    "duration": 9,
    "start_time": "2022-06-28T12:18:36.264Z"
   },
   {
    "duration": 22,
    "start_time": "2022-06-28T12:18:36.276Z"
   },
   {
    "duration": 12,
    "start_time": "2022-06-28T12:18:36.300Z"
   },
   {
    "duration": 15,
    "start_time": "2022-06-28T12:18:36.314Z"
   },
   {
    "duration": 48,
    "start_time": "2022-06-28T12:18:36.331Z"
   },
   {
    "duration": 3,
    "start_time": "2022-06-28T12:18:36.381Z"
   },
   {
    "duration": 16,
    "start_time": "2022-06-28T12:18:36.385Z"
   },
   {
    "duration": 8,
    "start_time": "2022-06-28T12:18:36.403Z"
   },
   {
    "duration": 12,
    "start_time": "2022-06-28T12:18:36.412Z"
   },
   {
    "duration": 4,
    "start_time": "2022-06-28T12:18:36.425Z"
   },
   {
    "duration": 230,
    "start_time": "2022-06-28T12:18:36.430Z"
   },
   {
    "duration": 13,
    "start_time": "2022-06-28T12:18:36.661Z"
   },
   {
    "duration": 3,
    "start_time": "2022-06-28T12:18:36.676Z"
   },
   {
    "duration": 128,
    "start_time": "2022-06-28T12:18:36.681Z"
   },
   {
    "duration": 36,
    "start_time": "2022-06-28T12:18:36.811Z"
   },
   {
    "duration": 24,
    "start_time": "2022-06-28T12:18:36.849Z"
   },
   {
    "duration": 24,
    "start_time": "2022-06-28T12:18:36.875Z"
   },
   {
    "duration": 23,
    "start_time": "2022-06-28T12:18:36.901Z"
   },
   {
    "duration": 13,
    "start_time": "2022-06-28T12:18:36.926Z"
   },
   {
    "duration": 8,
    "start_time": "2022-06-28T12:18:36.968Z"
   },
   {
    "duration": 60,
    "start_time": "2022-06-28T12:18:36.978Z"
   },
   {
    "duration": 13,
    "start_time": "2022-06-28T12:18:37.040Z"
   },
   {
    "duration": 14,
    "start_time": "2022-06-28T12:18:37.067Z"
   },
   {
    "duration": 494,
    "start_time": "2022-06-28T12:18:37.083Z"
   },
   {
    "duration": 380,
    "start_time": "2022-06-28T12:18:50.480Z"
   },
   {
    "duration": 4,
    "start_time": "2022-06-28T12:18:55.213Z"
   },
   {
    "duration": 67,
    "start_time": "2022-06-28T12:18:55.219Z"
   },
   {
    "duration": 16,
    "start_time": "2022-06-28T12:18:55.292Z"
   },
   {
    "duration": 10,
    "start_time": "2022-06-28T12:18:55.310Z"
   },
   {
    "duration": 28,
    "start_time": "2022-06-28T12:18:55.322Z"
   },
   {
    "duration": 22,
    "start_time": "2022-06-28T12:18:55.351Z"
   },
   {
    "duration": 13,
    "start_time": "2022-06-28T12:18:55.375Z"
   },
   {
    "duration": 22,
    "start_time": "2022-06-28T12:18:55.390Z"
   },
   {
    "duration": 4,
    "start_time": "2022-06-28T12:18:55.416Z"
   },
   {
    "duration": 10,
    "start_time": "2022-06-28T12:18:55.421Z"
   },
   {
    "duration": 36,
    "start_time": "2022-06-28T12:18:55.433Z"
   },
   {
    "duration": 16,
    "start_time": "2022-06-28T12:18:55.471Z"
   },
   {
    "duration": 6,
    "start_time": "2022-06-28T12:18:55.489Z"
   },
   {
    "duration": 181,
    "start_time": "2022-06-28T12:18:55.497Z"
   },
   {
    "duration": 10,
    "start_time": "2022-06-28T12:18:55.681Z"
   },
   {
    "duration": 4,
    "start_time": "2022-06-28T12:18:55.693Z"
   },
   {
    "duration": 135,
    "start_time": "2022-06-28T12:18:55.699Z"
   },
   {
    "duration": 42,
    "start_time": "2022-06-28T12:18:55.836Z"
   },
   {
    "duration": 9,
    "start_time": "2022-06-28T12:18:55.880Z"
   },
   {
    "duration": 25,
    "start_time": "2022-06-28T12:18:55.892Z"
   },
   {
    "duration": 22,
    "start_time": "2022-06-28T12:18:55.918Z"
   },
   {
    "duration": 14,
    "start_time": "2022-06-28T12:18:55.966Z"
   },
   {
    "duration": 9,
    "start_time": "2022-06-28T12:18:55.981Z"
   },
   {
    "duration": 38,
    "start_time": "2022-06-28T12:18:55.994Z"
   },
   {
    "duration": 34,
    "start_time": "2022-06-28T12:18:56.034Z"
   },
   {
    "duration": 11,
    "start_time": "2022-06-28T12:18:56.070Z"
   },
   {
    "duration": 393,
    "start_time": "2022-06-28T12:18:56.083Z"
   },
   {
    "duration": 3,
    "start_time": "2022-06-28T12:19:02.524Z"
   },
   {
    "duration": 71,
    "start_time": "2022-06-28T12:19:02.529Z"
   },
   {
    "duration": 12,
    "start_time": "2022-06-28T12:19:02.602Z"
   },
   {
    "duration": 11,
    "start_time": "2022-06-28T12:19:02.615Z"
   },
   {
    "duration": 39,
    "start_time": "2022-06-28T12:19:02.628Z"
   },
   {
    "duration": 11,
    "start_time": "2022-06-28T12:19:02.668Z"
   },
   {
    "duration": 13,
    "start_time": "2022-06-28T12:19:02.680Z"
   },
   {
    "duration": 14,
    "start_time": "2022-06-28T12:19:02.694Z"
   },
   {
    "duration": 3,
    "start_time": "2022-06-28T12:19:02.710Z"
   },
   {
    "duration": 10,
    "start_time": "2022-06-28T12:19:02.714Z"
   },
   {
    "duration": 14,
    "start_time": "2022-06-28T12:19:02.727Z"
   },
   {
    "duration": 36,
    "start_time": "2022-06-28T12:19:02.742Z"
   },
   {
    "duration": 3,
    "start_time": "2022-06-28T12:19:02.780Z"
   },
   {
    "duration": 172,
    "start_time": "2022-06-28T12:19:02.784Z"
   },
   {
    "duration": 14,
    "start_time": "2022-06-28T12:19:02.958Z"
   },
   {
    "duration": 2,
    "start_time": "2022-06-28T12:19:02.974Z"
   },
   {
    "duration": 123,
    "start_time": "2022-06-28T12:19:02.977Z"
   },
   {
    "duration": 31,
    "start_time": "2022-06-28T12:19:03.102Z"
   },
   {
    "duration": 6,
    "start_time": "2022-06-28T12:19:03.135Z"
   },
   {
    "duration": 35,
    "start_time": "2022-06-28T12:19:03.143Z"
   },
   {
    "duration": 22,
    "start_time": "2022-06-28T12:19:03.179Z"
   },
   {
    "duration": 12,
    "start_time": "2022-06-28T12:19:03.203Z"
   },
   {
    "duration": 8,
    "start_time": "2022-06-28T12:19:03.217Z"
   },
   {
    "duration": 87,
    "start_time": "2022-06-28T12:19:03.228Z"
   },
   {
    "duration": 13,
    "start_time": "2022-06-28T12:19:03.316Z"
   },
   {
    "duration": 19,
    "start_time": "2022-06-28T12:19:03.330Z"
   },
   {
    "duration": 475,
    "start_time": "2022-06-28T12:19:03.351Z"
   },
   {
    "duration": 456,
    "start_time": "2022-06-28T12:19:32.250Z"
   },
   {
    "duration": 2,
    "start_time": "2022-06-28T12:19:37.642Z"
   },
   {
    "duration": 64,
    "start_time": "2022-06-28T12:19:37.646Z"
   },
   {
    "duration": 12,
    "start_time": "2022-06-28T12:19:37.711Z"
   },
   {
    "duration": 13,
    "start_time": "2022-06-28T12:19:37.726Z"
   },
   {
    "duration": 34,
    "start_time": "2022-06-28T12:19:37.740Z"
   },
   {
    "duration": 11,
    "start_time": "2022-06-28T12:19:37.776Z"
   },
   {
    "duration": 12,
    "start_time": "2022-06-28T12:19:37.789Z"
   },
   {
    "duration": 14,
    "start_time": "2022-06-28T12:19:37.802Z"
   },
   {
    "duration": 2,
    "start_time": "2022-06-28T12:19:37.818Z"
   },
   {
    "duration": 9,
    "start_time": "2022-06-28T12:19:37.821Z"
   },
   {
    "duration": 46,
    "start_time": "2022-06-28T12:19:37.831Z"
   },
   {
    "duration": 11,
    "start_time": "2022-06-28T12:19:37.879Z"
   },
   {
    "duration": 2,
    "start_time": "2022-06-28T12:19:37.891Z"
   },
   {
    "duration": 166,
    "start_time": "2022-06-28T12:19:37.895Z"
   },
   {
    "duration": 10,
    "start_time": "2022-06-28T12:19:38.066Z"
   },
   {
    "duration": 2,
    "start_time": "2022-06-28T12:19:38.077Z"
   },
   {
    "duration": 114,
    "start_time": "2022-06-28T12:19:38.081Z"
   },
   {
    "duration": 21,
    "start_time": "2022-06-28T12:19:38.197Z"
   },
   {
    "duration": 6,
    "start_time": "2022-06-28T12:19:38.220Z"
   },
   {
    "duration": 18,
    "start_time": "2022-06-28T12:19:38.228Z"
   },
   {
    "duration": 37,
    "start_time": "2022-06-28T12:19:38.247Z"
   },
   {
    "duration": 9,
    "start_time": "2022-06-28T12:19:38.286Z"
   },
   {
    "duration": 10,
    "start_time": "2022-06-28T12:19:38.297Z"
   },
   {
    "duration": 58,
    "start_time": "2022-06-28T12:19:38.310Z"
   },
   {
    "duration": 12,
    "start_time": "2022-06-28T12:19:38.370Z"
   },
   {
    "duration": 13,
    "start_time": "2022-06-28T12:19:38.384Z"
   },
   {
    "duration": 408,
    "start_time": "2022-06-28T12:19:38.398Z"
   },
   {
    "duration": 2,
    "start_time": "2022-06-28T12:20:18.270Z"
   },
   {
    "duration": 60,
    "start_time": "2022-06-28T12:20:18.274Z"
   },
   {
    "duration": 12,
    "start_time": "2022-06-28T12:20:18.335Z"
   },
   {
    "duration": 11,
    "start_time": "2022-06-28T12:20:18.348Z"
   },
   {
    "duration": 17,
    "start_time": "2022-06-28T12:20:18.367Z"
   },
   {
    "duration": 12,
    "start_time": "2022-06-28T12:20:18.386Z"
   },
   {
    "duration": 17,
    "start_time": "2022-06-28T12:20:18.399Z"
   },
   {
    "duration": 20,
    "start_time": "2022-06-28T12:20:18.418Z"
   },
   {
    "duration": 2,
    "start_time": "2022-06-28T12:20:18.440Z"
   },
   {
    "duration": 30,
    "start_time": "2022-06-28T12:20:18.443Z"
   },
   {
    "duration": 10,
    "start_time": "2022-06-28T12:20:18.475Z"
   },
   {
    "duration": 13,
    "start_time": "2022-06-28T12:20:18.486Z"
   },
   {
    "duration": 2,
    "start_time": "2022-06-28T12:20:18.501Z"
   },
   {
    "duration": 170,
    "start_time": "2022-06-28T12:20:18.506Z"
   },
   {
    "duration": 9,
    "start_time": "2022-06-28T12:20:18.677Z"
   },
   {
    "duration": 2,
    "start_time": "2022-06-28T12:20:18.688Z"
   },
   {
    "duration": 113,
    "start_time": "2022-06-28T12:20:18.691Z"
   },
   {
    "duration": 21,
    "start_time": "2022-06-28T12:20:18.805Z"
   },
   {
    "duration": 6,
    "start_time": "2022-06-28T12:20:18.827Z"
   },
   {
    "duration": 18,
    "start_time": "2022-06-28T12:20:18.835Z"
   },
   {
    "duration": 20,
    "start_time": "2022-06-28T12:20:18.867Z"
   },
   {
    "duration": 11,
    "start_time": "2022-06-28T12:20:18.890Z"
   },
   {
    "duration": 8,
    "start_time": "2022-06-28T12:20:18.903Z"
   },
   {
    "duration": 74,
    "start_time": "2022-06-28T12:20:18.915Z"
   },
   {
    "duration": 14,
    "start_time": "2022-06-28T12:20:18.991Z"
   },
   {
    "duration": 13,
    "start_time": "2022-06-28T12:20:19.006Z"
   },
   {
    "duration": 450,
    "start_time": "2022-06-28T12:20:19.021Z"
   },
   {
    "duration": 394,
    "start_time": "2022-06-28T12:20:45.271Z"
   },
   {
    "duration": 3,
    "start_time": "2022-06-28T12:20:50.596Z"
   },
   {
    "duration": 87,
    "start_time": "2022-06-28T12:20:50.601Z"
   },
   {
    "duration": 13,
    "start_time": "2022-06-28T12:20:50.689Z"
   },
   {
    "duration": 19,
    "start_time": "2022-06-28T12:20:50.703Z"
   },
   {
    "duration": 26,
    "start_time": "2022-06-28T12:20:50.724Z"
   },
   {
    "duration": 18,
    "start_time": "2022-06-28T12:20:50.752Z"
   },
   {
    "duration": 13,
    "start_time": "2022-06-28T12:20:50.771Z"
   },
   {
    "duration": 15,
    "start_time": "2022-06-28T12:20:50.786Z"
   },
   {
    "duration": 3,
    "start_time": "2022-06-28T12:20:50.802Z"
   },
   {
    "duration": 10,
    "start_time": "2022-06-28T12:20:50.806Z"
   },
   {
    "duration": 14,
    "start_time": "2022-06-28T12:20:50.819Z"
   },
   {
    "duration": 37,
    "start_time": "2022-06-28T12:20:50.835Z"
   },
   {
    "duration": 3,
    "start_time": "2022-06-28T12:20:50.874Z"
   },
   {
    "duration": 165,
    "start_time": "2022-06-28T12:20:50.879Z"
   },
   {
    "duration": 10,
    "start_time": "2022-06-28T12:20:51.046Z"
   },
   {
    "duration": 16,
    "start_time": "2022-06-28T12:20:51.069Z"
   },
   {
    "duration": 100,
    "start_time": "2022-06-28T12:20:51.086Z"
   },
   {
    "duration": 21,
    "start_time": "2022-06-28T12:20:51.188Z"
   },
   {
    "duration": 7,
    "start_time": "2022-06-28T12:20:51.211Z"
   },
   {
    "duration": 14,
    "start_time": "2022-06-28T12:20:51.220Z"
   },
   {
    "duration": 42,
    "start_time": "2022-06-28T12:20:51.235Z"
   },
   {
    "duration": 9,
    "start_time": "2022-06-28T12:20:51.279Z"
   },
   {
    "duration": 7,
    "start_time": "2022-06-28T12:20:51.290Z"
   },
   {
    "duration": 45,
    "start_time": "2022-06-28T12:20:51.298Z"
   },
   {
    "duration": 32,
    "start_time": "2022-06-28T12:20:51.345Z"
   },
   {
    "duration": 19,
    "start_time": "2022-06-28T12:20:51.379Z"
   },
   {
    "duration": 413,
    "start_time": "2022-06-28T12:20:51.400Z"
   },
   {
    "duration": 3,
    "start_time": "2022-06-28T12:21:04.879Z"
   },
   {
    "duration": 62,
    "start_time": "2022-06-28T12:21:04.884Z"
   },
   {
    "duration": 12,
    "start_time": "2022-06-28T12:21:04.947Z"
   },
   {
    "duration": 10,
    "start_time": "2022-06-28T12:21:04.961Z"
   },
   {
    "duration": 20,
    "start_time": "2022-06-28T12:21:04.973Z"
   },
   {
    "duration": 12,
    "start_time": "2022-06-28T12:21:04.994Z"
   },
   {
    "duration": 14,
    "start_time": "2022-06-28T12:21:05.008Z"
   },
   {
    "duration": 14,
    "start_time": "2022-06-28T12:21:05.024Z"
   },
   {
    "duration": 27,
    "start_time": "2022-06-28T12:21:05.040Z"
   },
   {
    "duration": 7,
    "start_time": "2022-06-28T12:21:05.069Z"
   },
   {
    "duration": 11,
    "start_time": "2022-06-28T12:21:05.077Z"
   },
   {
    "duration": 10,
    "start_time": "2022-06-28T12:21:05.090Z"
   },
   {
    "duration": 3,
    "start_time": "2022-06-28T12:21:05.102Z"
   },
   {
    "duration": 265,
    "start_time": "2022-06-28T12:21:05.107Z"
   },
   {
    "duration": 9,
    "start_time": "2022-06-28T12:21:05.373Z"
   },
   {
    "duration": 6,
    "start_time": "2022-06-28T12:21:05.384Z"
   },
   {
    "duration": 111,
    "start_time": "2022-06-28T12:21:05.391Z"
   },
   {
    "duration": 23,
    "start_time": "2022-06-28T12:21:05.504Z"
   },
   {
    "duration": 6,
    "start_time": "2022-06-28T12:21:05.528Z"
   },
   {
    "duration": 34,
    "start_time": "2022-06-28T12:21:05.536Z"
   },
   {
    "duration": 25,
    "start_time": "2022-06-28T12:21:05.572Z"
   },
   {
    "duration": 9,
    "start_time": "2022-06-28T12:21:05.599Z"
   },
   {
    "duration": 9,
    "start_time": "2022-06-28T12:21:05.609Z"
   },
   {
    "duration": 64,
    "start_time": "2022-06-28T12:21:05.620Z"
   },
   {
    "duration": 11,
    "start_time": "2022-06-28T12:21:05.686Z"
   },
   {
    "duration": 15,
    "start_time": "2022-06-28T12:21:05.699Z"
   },
   {
    "duration": 400,
    "start_time": "2022-06-28T12:21:05.716Z"
   },
   {
    "duration": 3,
    "start_time": "2022-06-28T12:21:16.853Z"
   },
   {
    "duration": 70,
    "start_time": "2022-06-28T12:21:16.858Z"
   },
   {
    "duration": 14,
    "start_time": "2022-06-28T12:21:16.930Z"
   },
   {
    "duration": 15,
    "start_time": "2022-06-28T12:21:16.945Z"
   },
   {
    "duration": 25,
    "start_time": "2022-06-28T12:21:16.962Z"
   },
   {
    "duration": 12,
    "start_time": "2022-06-28T12:21:16.989Z"
   },
   {
    "duration": 22,
    "start_time": "2022-06-28T12:21:17.002Z"
   },
   {
    "duration": 16,
    "start_time": "2022-06-28T12:21:17.026Z"
   },
   {
    "duration": 3,
    "start_time": "2022-06-28T12:21:17.043Z"
   },
   {
    "duration": 23,
    "start_time": "2022-06-28T12:21:17.047Z"
   },
   {
    "duration": 8,
    "start_time": "2022-06-28T12:21:17.072Z"
   },
   {
    "duration": 14,
    "start_time": "2022-06-28T12:21:17.081Z"
   },
   {
    "duration": 6,
    "start_time": "2022-06-28T12:21:17.097Z"
   },
   {
    "duration": 196,
    "start_time": "2022-06-28T12:21:17.105Z"
   },
   {
    "duration": 11,
    "start_time": "2022-06-28T12:21:17.302Z"
   },
   {
    "duration": 3,
    "start_time": "2022-06-28T12:21:17.314Z"
   },
   {
    "duration": 123,
    "start_time": "2022-06-28T12:21:17.319Z"
   },
   {
    "duration": 30,
    "start_time": "2022-06-28T12:21:17.444Z"
   },
   {
    "duration": 7,
    "start_time": "2022-06-28T12:21:17.475Z"
   },
   {
    "duration": 16,
    "start_time": "2022-06-28T12:21:17.484Z"
   },
   {
    "duration": 21,
    "start_time": "2022-06-28T12:21:17.502Z"
   },
   {
    "duration": 11,
    "start_time": "2022-06-28T12:21:17.525Z"
   },
   {
    "duration": 8,
    "start_time": "2022-06-28T12:21:17.568Z"
   },
   {
    "duration": 48,
    "start_time": "2022-06-28T12:21:17.577Z"
   },
   {
    "duration": 12,
    "start_time": "2022-06-28T12:21:17.626Z"
   },
   {
    "duration": 28,
    "start_time": "2022-06-28T12:21:17.640Z"
   },
   {
    "duration": 428,
    "start_time": "2022-06-28T12:21:17.670Z"
   },
   {
    "duration": 3,
    "start_time": "2022-06-28T12:21:41.969Z"
   },
   {
    "duration": 64,
    "start_time": "2022-06-28T12:21:41.974Z"
   },
   {
    "duration": 14,
    "start_time": "2022-06-28T12:21:42.039Z"
   },
   {
    "duration": 19,
    "start_time": "2022-06-28T12:21:42.055Z"
   },
   {
    "duration": 25,
    "start_time": "2022-06-28T12:21:42.076Z"
   },
   {
    "duration": 11,
    "start_time": "2022-06-28T12:21:42.103Z"
   },
   {
    "duration": 16,
    "start_time": "2022-06-28T12:21:42.116Z"
   },
   {
    "duration": 15,
    "start_time": "2022-06-28T12:21:42.133Z"
   },
   {
    "duration": 3,
    "start_time": "2022-06-28T12:21:42.166Z"
   },
   {
    "duration": 9,
    "start_time": "2022-06-28T12:21:42.171Z"
   },
   {
    "duration": 7,
    "start_time": "2022-06-28T12:21:42.181Z"
   },
   {
    "duration": 11,
    "start_time": "2022-06-28T12:21:42.190Z"
   },
   {
    "duration": 3,
    "start_time": "2022-06-28T12:21:42.202Z"
   },
   {
    "duration": 189,
    "start_time": "2022-06-28T12:21:42.207Z"
   },
   {
    "duration": 9,
    "start_time": "2022-06-28T12:21:42.398Z"
   },
   {
    "duration": 4,
    "start_time": "2022-06-28T12:21:42.409Z"
   },
   {
    "duration": 111,
    "start_time": "2022-06-28T12:21:42.414Z"
   },
   {
    "duration": 22,
    "start_time": "2022-06-28T12:21:42.526Z"
   },
   {
    "duration": 23,
    "start_time": "2022-06-28T12:21:42.549Z"
   },
   {
    "duration": 14,
    "start_time": "2022-06-28T12:21:42.573Z"
   },
   {
    "duration": 21,
    "start_time": "2022-06-28T12:21:42.589Z"
   },
   {
    "duration": 9,
    "start_time": "2022-06-28T12:21:42.611Z"
   },
   {
    "duration": 7,
    "start_time": "2022-06-28T12:21:42.622Z"
   },
   {
    "duration": 71,
    "start_time": "2022-06-28T12:21:42.632Z"
   },
   {
    "duration": 11,
    "start_time": "2022-06-28T12:21:42.705Z"
   },
   {
    "duration": 13,
    "start_time": "2022-06-28T12:21:42.717Z"
   },
   {
    "duration": 443,
    "start_time": "2022-06-28T12:21:42.732Z"
   },
   {
    "duration": 3,
    "start_time": "2022-06-28T12:22:00.833Z"
   },
   {
    "duration": 93,
    "start_time": "2022-06-28T12:22:00.838Z"
   },
   {
    "duration": 13,
    "start_time": "2022-06-28T12:22:00.933Z"
   },
   {
    "duration": 33,
    "start_time": "2022-06-28T12:22:00.948Z"
   },
   {
    "duration": 48,
    "start_time": "2022-06-28T12:22:00.984Z"
   },
   {
    "duration": 13,
    "start_time": "2022-06-28T12:22:01.034Z"
   },
   {
    "duration": 17,
    "start_time": "2022-06-28T12:22:01.049Z"
   },
   {
    "duration": 16,
    "start_time": "2022-06-28T12:22:01.067Z"
   },
   {
    "duration": 4,
    "start_time": "2022-06-28T12:22:01.086Z"
   },
   {
    "duration": 19,
    "start_time": "2022-06-28T12:22:01.091Z"
   },
   {
    "duration": 7,
    "start_time": "2022-06-28T12:22:01.111Z"
   },
   {
    "duration": 31,
    "start_time": "2022-06-28T12:22:01.119Z"
   },
   {
    "duration": 57,
    "start_time": "2022-06-28T12:22:01.152Z"
   },
   {
    "duration": 159,
    "start_time": "2022-06-28T12:22:01.210Z"
   },
   {
    "duration": 9,
    "start_time": "2022-06-28T12:22:01.371Z"
   },
   {
    "duration": 32,
    "start_time": "2022-06-28T12:22:01.382Z"
   },
   {
    "duration": 106,
    "start_time": "2022-06-28T12:22:01.416Z"
   },
   {
    "duration": 21,
    "start_time": "2022-06-28T12:22:01.523Z"
   },
   {
    "duration": 11,
    "start_time": "2022-06-28T12:22:01.545Z"
   },
   {
    "duration": 26,
    "start_time": "2022-06-28T12:22:01.566Z"
   },
   {
    "duration": 106,
    "start_time": "2022-06-28T12:22:01.594Z"
   },
   {
    "duration": 9,
    "start_time": "2022-06-28T12:22:01.701Z"
   },
   {
    "duration": 6,
    "start_time": "2022-06-28T12:22:01.712Z"
   },
   {
    "duration": 57,
    "start_time": "2022-06-28T12:22:01.720Z"
   },
   {
    "duration": 10,
    "start_time": "2022-06-28T12:22:01.778Z"
   },
   {
    "duration": 10,
    "start_time": "2022-06-28T12:22:01.790Z"
   },
   {
    "duration": 410,
    "start_time": "2022-06-28T12:22:01.801Z"
   },
   {
    "duration": 156,
    "start_time": "2022-06-28T12:23:17.774Z"
   },
   {
    "duration": 378,
    "start_time": "2022-06-28T12:26:28.455Z"
   },
   {
    "duration": 408,
    "start_time": "2022-06-28T12:28:01.786Z"
   },
   {
    "duration": 409,
    "start_time": "2022-06-28T12:29:10.661Z"
   },
   {
    "duration": 383,
    "start_time": "2022-06-28T12:29:32.381Z"
   },
   {
    "duration": 399,
    "start_time": "2022-06-28T12:29:53.329Z"
   },
   {
    "duration": 459,
    "start_time": "2022-06-28T12:29:58.357Z"
   },
   {
    "duration": 433,
    "start_time": "2022-06-28T12:30:05.386Z"
   },
   {
    "duration": 71,
    "start_time": "2022-06-28T12:41:32.319Z"
   },
   {
    "duration": 3,
    "start_time": "2022-06-28T12:44:38.226Z"
   },
   {
    "duration": 865,
    "start_time": "2022-06-28T12:59:03.424Z"
   },
   {
    "duration": 210,
    "start_time": "2022-06-28T12:59:17.607Z"
   },
   {
    "duration": 2,
    "start_time": "2022-06-28T12:59:41.645Z"
   },
   {
    "duration": 59,
    "start_time": "2022-06-28T12:59:41.660Z"
   },
   {
    "duration": 15,
    "start_time": "2022-06-28T12:59:41.721Z"
   },
   {
    "duration": 9,
    "start_time": "2022-06-28T12:59:41.738Z"
   },
   {
    "duration": 36,
    "start_time": "2022-06-28T12:59:41.749Z"
   },
   {
    "duration": 11,
    "start_time": "2022-06-28T12:59:41.788Z"
   },
   {
    "duration": 14,
    "start_time": "2022-06-28T12:59:41.801Z"
   },
   {
    "duration": 15,
    "start_time": "2022-06-28T12:59:41.817Z"
   },
   {
    "duration": 34,
    "start_time": "2022-06-28T12:59:41.834Z"
   },
   {
    "duration": 9,
    "start_time": "2022-06-28T12:59:41.870Z"
   },
   {
    "duration": 9,
    "start_time": "2022-06-28T12:59:41.880Z"
   },
   {
    "duration": 11,
    "start_time": "2022-06-28T12:59:41.891Z"
   },
   {
    "duration": 3,
    "start_time": "2022-06-28T12:59:41.904Z"
   },
   {
    "duration": 189,
    "start_time": "2022-06-28T12:59:41.908Z"
   },
   {
    "duration": 10,
    "start_time": "2022-06-28T12:59:42.100Z"
   },
   {
    "duration": 3,
    "start_time": "2022-06-28T12:59:42.112Z"
   },
   {
    "duration": 121,
    "start_time": "2022-06-28T12:59:42.116Z"
   },
   {
    "duration": 29,
    "start_time": "2022-06-28T12:59:42.239Z"
   },
   {
    "duration": 6,
    "start_time": "2022-06-28T12:59:42.270Z"
   },
   {
    "duration": 16,
    "start_time": "2022-06-28T12:59:42.278Z"
   },
   {
    "duration": 126,
    "start_time": "2022-06-28T12:59:42.295Z"
   },
   {
    "duration": 9,
    "start_time": "2022-06-28T12:59:42.423Z"
   },
   {
    "duration": 8,
    "start_time": "2022-06-28T12:59:42.434Z"
   },
   {
    "duration": 58,
    "start_time": "2022-06-28T12:59:42.444Z"
   },
   {
    "duration": 12,
    "start_time": "2022-06-28T12:59:42.504Z"
   },
   {
    "duration": 11,
    "start_time": "2022-06-28T12:59:42.517Z"
   },
   {
    "duration": 423,
    "start_time": "2022-06-28T12:59:42.530Z"
   },
   {
    "duration": 3,
    "start_time": "2022-06-28T12:59:42.954Z"
   },
   {
    "duration": 262,
    "start_time": "2022-06-28T12:59:42.959Z"
   },
   {
    "duration": 3,
    "start_time": "2022-06-28T13:00:51.097Z"
   },
   {
    "duration": 18,
    "start_time": "2022-06-28T13:00:52.581Z"
   },
   {
    "duration": 3,
    "start_time": "2022-06-28T13:01:26.292Z"
   },
   {
    "duration": 16,
    "start_time": "2022-06-28T13:01:27.103Z"
   },
   {
    "duration": 3,
    "start_time": "2022-06-28T13:01:31.088Z"
   },
   {
    "duration": 82,
    "start_time": "2022-06-28T13:01:31.092Z"
   },
   {
    "duration": 14,
    "start_time": "2022-06-28T13:01:31.176Z"
   },
   {
    "duration": 38,
    "start_time": "2022-06-28T13:01:31.192Z"
   },
   {
    "duration": 59,
    "start_time": "2022-06-28T13:01:31.231Z"
   },
   {
    "duration": 15,
    "start_time": "2022-06-28T13:01:31.292Z"
   },
   {
    "duration": 27,
    "start_time": "2022-06-28T13:01:31.309Z"
   },
   {
    "duration": 16,
    "start_time": "2022-06-28T13:01:31.338Z"
   },
   {
    "duration": 23,
    "start_time": "2022-06-28T13:01:31.356Z"
   },
   {
    "duration": 9,
    "start_time": "2022-06-28T13:01:31.381Z"
   },
   {
    "duration": 22,
    "start_time": "2022-06-28T13:01:31.392Z"
   },
   {
    "duration": 17,
    "start_time": "2022-06-28T13:01:31.416Z"
   },
   {
    "duration": 7,
    "start_time": "2022-06-28T13:01:31.435Z"
   },
   {
    "duration": 159,
    "start_time": "2022-06-28T13:01:31.443Z"
   },
   {
    "duration": 10,
    "start_time": "2022-06-28T13:01:31.603Z"
   },
   {
    "duration": 10,
    "start_time": "2022-06-28T13:01:31.614Z"
   },
   {
    "duration": 109,
    "start_time": "2022-06-28T13:01:31.626Z"
   },
   {
    "duration": 33,
    "start_time": "2022-06-28T13:01:31.736Z"
   },
   {
    "duration": 6,
    "start_time": "2022-06-28T13:01:31.770Z"
   },
   {
    "duration": 18,
    "start_time": "2022-06-28T13:01:31.778Z"
   },
   {
    "duration": 20,
    "start_time": "2022-06-28T13:01:31.797Z"
   },
   {
    "duration": 8,
    "start_time": "2022-06-28T13:01:31.819Z"
   },
   {
    "duration": 8,
    "start_time": "2022-06-28T13:01:31.829Z"
   },
   {
    "duration": 64,
    "start_time": "2022-06-28T13:01:31.840Z"
   },
   {
    "duration": 11,
    "start_time": "2022-06-28T13:01:31.906Z"
   },
   {
    "duration": 26,
    "start_time": "2022-06-28T13:01:31.919Z"
   },
   {
    "duration": 407,
    "start_time": "2022-06-28T13:01:31.946Z"
   },
   {
    "duration": 13,
    "start_time": "2022-06-28T13:01:32.354Z"
   },
   {
    "duration": 23,
    "start_time": "2022-06-28T13:01:32.368Z"
   },
   {
    "duration": 3,
    "start_time": "2022-06-28T13:01:50.306Z"
   },
   {
    "duration": 18,
    "start_time": "2022-06-28T13:01:50.733Z"
   },
   {
    "duration": 3,
    "start_time": "2022-06-28T13:01:53.379Z"
   },
   {
    "duration": 63,
    "start_time": "2022-06-28T13:01:53.383Z"
   },
   {
    "duration": 14,
    "start_time": "2022-06-28T13:01:53.448Z"
   },
   {
    "duration": 11,
    "start_time": "2022-06-28T13:01:53.464Z"
   },
   {
    "duration": 19,
    "start_time": "2022-06-28T13:01:53.477Z"
   },
   {
    "duration": 11,
    "start_time": "2022-06-28T13:01:53.497Z"
   },
   {
    "duration": 13,
    "start_time": "2022-06-28T13:01:53.510Z"
   },
   {
    "duration": 42,
    "start_time": "2022-06-28T13:01:53.525Z"
   },
   {
    "duration": 2,
    "start_time": "2022-06-28T13:01:53.570Z"
   },
   {
    "duration": 34,
    "start_time": "2022-06-28T13:01:53.574Z"
   },
   {
    "duration": 14,
    "start_time": "2022-06-28T13:01:53.610Z"
   },
   {
    "duration": 20,
    "start_time": "2022-06-28T13:01:53.625Z"
   },
   {
    "duration": 2,
    "start_time": "2022-06-28T13:01:53.647Z"
   },
   {
    "duration": 159,
    "start_time": "2022-06-28T13:01:53.652Z"
   },
   {
    "duration": 10,
    "start_time": "2022-06-28T13:01:53.813Z"
   },
   {
    "duration": 3,
    "start_time": "2022-06-28T13:01:53.824Z"
   },
   {
    "duration": 118,
    "start_time": "2022-06-28T13:01:53.829Z"
   },
   {
    "duration": 32,
    "start_time": "2022-06-28T13:01:53.948Z"
   },
   {
    "duration": 7,
    "start_time": "2022-06-28T13:01:53.981Z"
   },
   {
    "duration": 18,
    "start_time": "2022-06-28T13:01:53.989Z"
   },
   {
    "duration": 20,
    "start_time": "2022-06-28T13:01:54.009Z"
   },
   {
    "duration": 9,
    "start_time": "2022-06-28T13:01:54.030Z"
   },
   {
    "duration": 32,
    "start_time": "2022-06-28T13:01:54.040Z"
   },
   {
    "duration": 42,
    "start_time": "2022-06-28T13:01:54.073Z"
   },
   {
    "duration": 12,
    "start_time": "2022-06-28T13:01:54.116Z"
   },
   {
    "duration": 12,
    "start_time": "2022-06-28T13:01:54.130Z"
   },
   {
    "duration": 421,
    "start_time": "2022-06-28T13:01:54.143Z"
   },
   {
    "duration": 3,
    "start_time": "2022-06-28T13:01:54.566Z"
   },
   {
    "duration": 21,
    "start_time": "2022-06-28T13:01:54.570Z"
   },
   {
    "duration": 3,
    "start_time": "2022-06-28T13:02:14.844Z"
   },
   {
    "duration": 18,
    "start_time": "2022-06-28T13:02:15.432Z"
   },
   {
    "duration": 3,
    "start_time": "2022-06-28T13:02:22.289Z"
   },
   {
    "duration": 18,
    "start_time": "2022-06-28T13:02:22.735Z"
   },
   {
    "duration": 3,
    "start_time": "2022-06-28T13:04:02.086Z"
   },
   {
    "duration": 62,
    "start_time": "2022-06-28T13:04:02.091Z"
   },
   {
    "duration": 14,
    "start_time": "2022-06-28T13:04:02.154Z"
   },
   {
    "duration": 19,
    "start_time": "2022-06-28T13:04:02.170Z"
   },
   {
    "duration": 23,
    "start_time": "2022-06-28T13:04:02.191Z"
   },
   {
    "duration": 11,
    "start_time": "2022-06-28T13:04:02.215Z"
   },
   {
    "duration": 28,
    "start_time": "2022-06-28T13:04:02.228Z"
   },
   {
    "duration": 17,
    "start_time": "2022-06-28T13:04:02.258Z"
   },
   {
    "duration": 3,
    "start_time": "2022-06-28T13:04:02.278Z"
   },
   {
    "duration": 10,
    "start_time": "2022-06-28T13:04:02.282Z"
   },
   {
    "duration": 8,
    "start_time": "2022-06-28T13:04:02.294Z"
   },
   {
    "duration": 12,
    "start_time": "2022-06-28T13:04:02.303Z"
   },
   {
    "duration": 3,
    "start_time": "2022-06-28T13:04:02.316Z"
   },
   {
    "duration": 215,
    "start_time": "2022-06-28T13:04:02.320Z"
   },
   {
    "duration": 13,
    "start_time": "2022-06-28T13:04:02.536Z"
   },
   {
    "duration": 18,
    "start_time": "2022-06-28T13:04:02.550Z"
   },
   {
    "duration": 112,
    "start_time": "2022-06-28T13:04:02.571Z"
   },
   {
    "duration": 23,
    "start_time": "2022-06-28T13:04:02.685Z"
   },
   {
    "duration": 6,
    "start_time": "2022-06-28T13:04:02.710Z"
   },
   {
    "duration": 14,
    "start_time": "2022-06-28T13:04:02.718Z"
   },
   {
    "duration": 53,
    "start_time": "2022-06-28T13:04:02.733Z"
   },
   {
    "duration": 19,
    "start_time": "2022-06-28T13:04:02.787Z"
   },
   {
    "duration": 33,
    "start_time": "2022-06-28T13:04:02.808Z"
   },
   {
    "duration": 48,
    "start_time": "2022-06-28T13:04:02.845Z"
   },
   {
    "duration": 14,
    "start_time": "2022-06-28T13:04:02.894Z"
   },
   {
    "duration": 31,
    "start_time": "2022-06-28T13:04:02.910Z"
   },
   {
    "duration": 468,
    "start_time": "2022-06-28T13:04:02.943Z"
   },
   {
    "duration": 3,
    "start_time": "2022-06-28T13:04:03.414Z"
   },
   {
    "duration": 244,
    "start_time": "2022-06-28T13:04:03.419Z"
   },
   {
    "duration": 3,
    "start_time": "2022-06-28T13:04:09.398Z"
   },
   {
    "duration": 4,
    "start_time": "2022-06-28T13:04:16.558Z"
   },
   {
    "duration": 201,
    "start_time": "2022-06-28T13:04:17.086Z"
   },
   {
    "duration": 3,
    "start_time": "2022-06-28T13:04:22.360Z"
   },
   {
    "duration": 89,
    "start_time": "2022-06-28T13:04:22.366Z"
   },
   {
    "duration": 21,
    "start_time": "2022-06-28T13:04:22.456Z"
   },
   {
    "duration": 13,
    "start_time": "2022-06-28T13:04:22.479Z"
   },
   {
    "duration": 22,
    "start_time": "2022-06-28T13:04:22.493Z"
   },
   {
    "duration": 13,
    "start_time": "2022-06-28T13:04:22.517Z"
   },
   {
    "duration": 48,
    "start_time": "2022-06-28T13:04:22.532Z"
   },
   {
    "duration": 17,
    "start_time": "2022-06-28T13:04:22.582Z"
   },
   {
    "duration": 3,
    "start_time": "2022-06-28T13:04:22.602Z"
   },
   {
    "duration": 10,
    "start_time": "2022-06-28T13:04:22.607Z"
   },
   {
    "duration": 49,
    "start_time": "2022-06-28T13:04:22.621Z"
   },
   {
    "duration": 11,
    "start_time": "2022-06-28T13:04:22.671Z"
   },
   {
    "duration": 9,
    "start_time": "2022-06-28T13:04:22.684Z"
   },
   {
    "duration": 188,
    "start_time": "2022-06-28T13:04:22.695Z"
   },
   {
    "duration": 15,
    "start_time": "2022-06-28T13:04:22.885Z"
   },
   {
    "duration": 12,
    "start_time": "2022-06-28T13:04:22.901Z"
   },
   {
    "duration": 221,
    "start_time": "2022-06-28T13:04:22.915Z"
   },
   {
    "duration": 36,
    "start_time": "2022-06-28T13:04:23.139Z"
   },
   {
    "duration": 8,
    "start_time": "2022-06-28T13:04:23.177Z"
   },
   {
    "duration": 28,
    "start_time": "2022-06-28T13:04:23.187Z"
   },
   {
    "duration": 24,
    "start_time": "2022-06-28T13:04:23.217Z"
   },
   {
    "duration": 39,
    "start_time": "2022-06-28T13:04:23.243Z"
   },
   {
    "duration": 8,
    "start_time": "2022-06-28T13:04:23.284Z"
   },
   {
    "duration": 40,
    "start_time": "2022-06-28T13:04:23.296Z"
   },
   {
    "duration": 11,
    "start_time": "2022-06-28T13:04:23.338Z"
   },
   {
    "duration": 32,
    "start_time": "2022-06-28T13:04:23.350Z"
   },
   {
    "duration": 467,
    "start_time": "2022-06-28T13:04:23.384Z"
   },
   {
    "duration": 4,
    "start_time": "2022-06-28T13:04:23.853Z"
   },
   {
    "duration": 412,
    "start_time": "2022-06-28T13:04:23.868Z"
   },
   {
    "duration": 3,
    "start_time": "2022-06-28T14:27:45.182Z"
   },
   {
    "duration": 75,
    "start_time": "2022-06-28T14:27:45.187Z"
   },
   {
    "duration": 15,
    "start_time": "2022-06-28T14:27:45.263Z"
   },
   {
    "duration": 13,
    "start_time": "2022-06-28T14:27:45.279Z"
   },
   {
    "duration": 30,
    "start_time": "2022-06-28T14:27:45.295Z"
   },
   {
    "duration": 13,
    "start_time": "2022-06-28T14:27:45.327Z"
   },
   {
    "duration": 13,
    "start_time": "2022-06-28T14:27:45.367Z"
   },
   {
    "duration": 25,
    "start_time": "2022-06-28T14:27:45.382Z"
   },
   {
    "duration": 3,
    "start_time": "2022-06-28T14:27:45.410Z"
   },
   {
    "duration": 12,
    "start_time": "2022-06-28T14:27:45.415Z"
   },
   {
    "duration": 44,
    "start_time": "2022-06-28T14:27:45.428Z"
   },
   {
    "duration": 22,
    "start_time": "2022-06-28T14:27:45.474Z"
   },
   {
    "duration": 11,
    "start_time": "2022-06-28T14:27:45.501Z"
   },
   {
    "duration": 173,
    "start_time": "2022-06-28T14:27:45.515Z"
   },
   {
    "duration": 10,
    "start_time": "2022-06-28T14:27:45.690Z"
   },
   {
    "duration": 6,
    "start_time": "2022-06-28T14:27:45.701Z"
   },
   {
    "duration": 121,
    "start_time": "2022-06-28T14:27:45.709Z"
   },
   {
    "duration": 23,
    "start_time": "2022-06-28T14:27:45.832Z"
   },
   {
    "duration": 6,
    "start_time": "2022-06-28T14:27:45.867Z"
   },
   {
    "duration": 18,
    "start_time": "2022-06-28T14:27:45.875Z"
   },
   {
    "duration": 21,
    "start_time": "2022-06-28T14:27:45.895Z"
   },
   {
    "duration": 10,
    "start_time": "2022-06-28T14:27:45.918Z"
   },
   {
    "duration": 14,
    "start_time": "2022-06-28T14:27:45.929Z"
   },
   {
    "duration": 46,
    "start_time": "2022-06-28T14:27:45.967Z"
   },
   {
    "duration": 14,
    "start_time": "2022-06-28T14:27:46.015Z"
   },
   {
    "duration": 37,
    "start_time": "2022-06-28T14:27:46.031Z"
   },
   {
    "duration": 440,
    "start_time": "2022-06-28T14:27:46.070Z"
   },
   {
    "duration": 8,
    "start_time": "2022-06-28T14:30:23.681Z"
   },
   {
    "duration": 45,
    "start_time": "2022-06-28T14:30:35.296Z"
   },
   {
    "duration": 125,
    "start_time": "2022-06-28T14:32:02.128Z"
   },
   {
    "duration": 56,
    "start_time": "2022-06-28T14:32:11.926Z"
   },
   {
    "duration": 46,
    "start_time": "2022-06-28T14:32:37.678Z"
   },
   {
    "duration": 1304,
    "start_time": "2022-06-28T14:33:06.807Z"
   },
   {
    "duration": 4,
    "start_time": "2022-06-28T14:33:21.780Z"
   },
   {
    "duration": 15,
    "start_time": "2022-06-28T14:33:35.998Z"
   },
   {
    "duration": 17,
    "start_time": "2022-06-28T15:18:04.553Z"
   },
   {
    "duration": 14,
    "start_time": "2022-06-28T15:18:26.772Z"
   },
   {
    "duration": 15,
    "start_time": "2022-06-28T15:19:27.339Z"
   },
   {
    "duration": 14,
    "start_time": "2022-06-28T15:19:46.410Z"
   },
   {
    "duration": 776,
    "start_time": "2022-06-28T15:32:45.529Z"
   },
   {
    "duration": 7,
    "start_time": "2022-06-28T15:34:56.797Z"
   },
   {
    "duration": 10,
    "start_time": "2022-06-28T15:35:10.702Z"
   },
   {
    "duration": 11,
    "start_time": "2022-06-28T15:40:34.245Z"
   },
   {
    "duration": 10,
    "start_time": "2022-06-28T15:40:43.036Z"
   },
   {
    "duration": 3,
    "start_time": "2022-06-28T15:40:46.473Z"
   },
   {
    "duration": 82,
    "start_time": "2022-06-28T15:40:46.479Z"
   },
   {
    "duration": 15,
    "start_time": "2022-06-28T15:40:46.563Z"
   },
   {
    "duration": 11,
    "start_time": "2022-06-28T15:40:46.579Z"
   },
   {
    "duration": 19,
    "start_time": "2022-06-28T15:40:46.592Z"
   },
   {
    "duration": 13,
    "start_time": "2022-06-28T15:40:46.613Z"
   },
   {
    "duration": 41,
    "start_time": "2022-06-28T15:40:46.628Z"
   },
   {
    "duration": 17,
    "start_time": "2022-06-28T15:40:46.670Z"
   },
   {
    "duration": 3,
    "start_time": "2022-06-28T15:40:46.690Z"
   },
   {
    "duration": 18,
    "start_time": "2022-06-28T15:40:46.695Z"
   },
   {
    "duration": 11,
    "start_time": "2022-06-28T15:40:46.716Z"
   },
   {
    "duration": 39,
    "start_time": "2022-06-28T15:40:46.729Z"
   },
   {
    "duration": 3,
    "start_time": "2022-06-28T15:40:46.770Z"
   },
   {
    "duration": 180,
    "start_time": "2022-06-28T15:40:46.775Z"
   },
   {
    "duration": 12,
    "start_time": "2022-06-28T15:40:46.957Z"
   },
   {
    "duration": 3,
    "start_time": "2022-06-28T15:40:46.971Z"
   },
   {
    "duration": 116,
    "start_time": "2022-06-28T15:40:46.976Z"
   },
   {
    "duration": 23,
    "start_time": "2022-06-28T15:40:47.094Z"
   },
   {
    "duration": 6,
    "start_time": "2022-06-28T15:40:47.119Z"
   },
   {
    "duration": 16,
    "start_time": "2022-06-28T15:40:47.126Z"
   },
   {
    "duration": 41,
    "start_time": "2022-06-28T15:40:47.143Z"
   },
   {
    "duration": 9,
    "start_time": "2022-06-28T15:40:47.185Z"
   },
   {
    "duration": 7,
    "start_time": "2022-06-28T15:40:47.195Z"
   },
   {
    "duration": 64,
    "start_time": "2022-06-28T15:40:47.205Z"
   },
   {
    "duration": 12,
    "start_time": "2022-06-28T15:40:47.270Z"
   },
   {
    "duration": 10,
    "start_time": "2022-06-28T15:40:47.283Z"
   },
   {
    "duration": 423,
    "start_time": "2022-06-28T15:40:47.294Z"
   },
   {
    "duration": 113,
    "start_time": "2022-06-28T15:40:47.718Z"
   },
   {
    "duration": 15,
    "start_time": "2022-06-28T15:40:47.833Z"
   },
   {
    "duration": 17,
    "start_time": "2022-06-28T15:40:47.867Z"
   },
   {
    "duration": 991,
    "start_time": "2022-06-28T15:40:47.886Z"
   },
   {
    "duration": 11,
    "start_time": "2022-06-28T15:40:48.879Z"
   },
   {
    "duration": 54,
    "start_time": "2022-06-28T15:40:48.892Z"
   },
   {
    "duration": 10,
    "start_time": "2022-06-28T15:41:08.668Z"
   },
   {
    "duration": 3,
    "start_time": "2022-06-28T15:42:48.952Z"
   },
   {
    "duration": 720,
    "start_time": "2022-06-28T15:42:52.882Z"
   },
   {
    "duration": 9,
    "start_time": "2022-06-28T15:42:53.638Z"
   },
   {
    "duration": 9,
    "start_time": "2022-06-28T15:42:58.313Z"
   },
   {
    "duration": 7,
    "start_time": "2022-06-28T15:43:22.471Z"
   },
   {
    "duration": 23,
    "start_time": "2022-06-28T15:46:43.047Z"
   },
   {
    "duration": 13,
    "start_time": "2022-06-28T15:46:59.565Z"
   },
   {
    "duration": 91,
    "start_time": "2022-06-28T15:48:27.435Z"
   },
   {
    "duration": 469,
    "start_time": "2022-06-28T15:48:38.083Z"
   },
   {
    "duration": 14,
    "start_time": "2022-06-28T15:48:50.019Z"
   },
   {
    "duration": 16,
    "start_time": "2022-06-28T15:49:12.002Z"
   },
   {
    "duration": 3,
    "start_time": "2022-06-28T15:49:15.629Z"
   },
   {
    "duration": 61,
    "start_time": "2022-06-28T15:49:15.634Z"
   },
   {
    "duration": 11,
    "start_time": "2022-06-28T15:49:15.697Z"
   },
   {
    "duration": 10,
    "start_time": "2022-06-28T15:49:15.710Z"
   },
   {
    "duration": 20,
    "start_time": "2022-06-28T15:49:15.721Z"
   },
   {
    "duration": 16,
    "start_time": "2022-06-28T15:49:15.768Z"
   },
   {
    "duration": 18,
    "start_time": "2022-06-28T15:49:15.786Z"
   },
   {
    "duration": 15,
    "start_time": "2022-06-28T15:49:15.805Z"
   },
   {
    "duration": 2,
    "start_time": "2022-06-28T15:49:15.823Z"
   },
   {
    "duration": 45,
    "start_time": "2022-06-28T15:49:15.827Z"
   },
   {
    "duration": 9,
    "start_time": "2022-06-28T15:49:15.874Z"
   },
   {
    "duration": 22,
    "start_time": "2022-06-28T15:49:15.884Z"
   },
   {
    "duration": 5,
    "start_time": "2022-06-28T15:49:15.908Z"
   },
   {
    "duration": 199,
    "start_time": "2022-06-28T15:49:15.915Z"
   },
   {
    "duration": 11,
    "start_time": "2022-06-28T15:49:16.116Z"
   },
   {
    "duration": 2,
    "start_time": "2022-06-28T15:49:16.129Z"
   },
   {
    "duration": 119,
    "start_time": "2022-06-28T15:49:16.132Z"
   },
   {
    "duration": 31,
    "start_time": "2022-06-28T15:49:16.253Z"
   },
   {
    "duration": 6,
    "start_time": "2022-06-28T15:49:16.286Z"
   },
   {
    "duration": 18,
    "start_time": "2022-06-28T15:49:16.293Z"
   },
   {
    "duration": 21,
    "start_time": "2022-06-28T15:49:16.313Z"
   },
   {
    "duration": 34,
    "start_time": "2022-06-28T15:49:16.335Z"
   },
   {
    "duration": 9,
    "start_time": "2022-06-28T15:49:16.370Z"
   },
   {
    "duration": 56,
    "start_time": "2022-06-28T15:49:16.383Z"
   },
   {
    "duration": 32,
    "start_time": "2022-06-28T15:49:16.441Z"
   },
   {
    "duration": 13,
    "start_time": "2022-06-28T15:49:16.475Z"
   },
   {
    "duration": 440,
    "start_time": "2022-06-28T15:49:16.490Z"
   },
   {
    "duration": 63,
    "start_time": "2022-06-28T15:49:16.931Z"
   },
   {
    "duration": 18,
    "start_time": "2022-06-28T15:49:16.996Z"
   },
   {
    "duration": 12,
    "start_time": "2022-06-28T15:49:17.016Z"
   },
   {
    "duration": 0,
    "start_time": "2022-06-28T15:49:17.030Z"
   },
   {
    "duration": 0,
    "start_time": "2022-06-28T15:49:17.031Z"
   },
   {
    "duration": 0,
    "start_time": "2022-06-28T15:49:17.033Z"
   },
   {
    "duration": 0,
    "start_time": "2022-06-28T15:49:17.033Z"
   },
   {
    "duration": 3,
    "start_time": "2022-06-28T15:49:36.986Z"
   },
   {
    "duration": 69,
    "start_time": "2022-06-28T15:49:36.991Z"
   },
   {
    "duration": 13,
    "start_time": "2022-06-28T15:49:37.062Z"
   },
   {
    "duration": 9,
    "start_time": "2022-06-28T15:49:37.077Z"
   },
   {
    "duration": 18,
    "start_time": "2022-06-28T15:49:37.088Z"
   },
   {
    "duration": 11,
    "start_time": "2022-06-28T15:49:37.108Z"
   },
   {
    "duration": 12,
    "start_time": "2022-06-28T15:49:37.121Z"
   },
   {
    "duration": 41,
    "start_time": "2022-06-28T15:49:37.135Z"
   },
   {
    "duration": 2,
    "start_time": "2022-06-28T15:49:37.178Z"
   },
   {
    "duration": 13,
    "start_time": "2022-06-28T15:49:37.182Z"
   },
   {
    "duration": 8,
    "start_time": "2022-06-28T15:49:37.197Z"
   },
   {
    "duration": 11,
    "start_time": "2022-06-28T15:49:37.207Z"
   },
   {
    "duration": 3,
    "start_time": "2022-06-28T15:49:37.219Z"
   },
   {
    "duration": 196,
    "start_time": "2022-06-28T15:49:37.223Z"
   },
   {
    "duration": 13,
    "start_time": "2022-06-28T15:49:37.421Z"
   },
   {
    "duration": 9,
    "start_time": "2022-06-28T15:49:37.436Z"
   },
   {
    "duration": 136,
    "start_time": "2022-06-28T15:49:37.447Z"
   },
   {
    "duration": 25,
    "start_time": "2022-06-28T15:49:37.585Z"
   },
   {
    "duration": 7,
    "start_time": "2022-06-28T15:49:37.612Z"
   },
   {
    "duration": 18,
    "start_time": "2022-06-28T15:49:37.621Z"
   },
   {
    "duration": 47,
    "start_time": "2022-06-28T15:49:37.641Z"
   },
   {
    "duration": 10,
    "start_time": "2022-06-28T15:49:37.689Z"
   },
   {
    "duration": 7,
    "start_time": "2022-06-28T15:49:37.701Z"
   },
   {
    "duration": 64,
    "start_time": "2022-06-28T15:49:37.709Z"
   },
   {
    "duration": 12,
    "start_time": "2022-06-28T15:49:37.775Z"
   },
   {
    "duration": 12,
    "start_time": "2022-06-28T15:49:37.789Z"
   },
   {
    "duration": 431,
    "start_time": "2022-06-28T15:49:37.802Z"
   },
   {
    "duration": 138,
    "start_time": "2022-06-28T15:49:38.235Z"
   },
   {
    "duration": 18,
    "start_time": "2022-06-28T15:49:38.377Z"
   },
   {
    "duration": 18,
    "start_time": "2022-06-28T15:49:38.398Z"
   },
   {
    "duration": 3,
    "start_time": "2022-06-28T15:49:38.419Z"
   },
   {
    "duration": 786,
    "start_time": "2022-06-28T15:49:38.424Z"
   },
   {
    "duration": 20,
    "start_time": "2022-06-28T15:49:39.211Z"
   },
   {
    "duration": 279,
    "start_time": "2022-06-28T15:49:39.232Z"
   },
   {
    "duration": 15,
    "start_time": "2022-06-28T15:50:06.007Z"
   },
   {
    "duration": 17,
    "start_time": "2022-06-28T15:50:17.385Z"
   },
   {
    "duration": 13,
    "start_time": "2022-06-28T15:52:12.167Z"
   },
   {
    "duration": 12,
    "start_time": "2022-06-28T15:55:12.256Z"
   },
   {
    "duration": 16,
    "start_time": "2022-06-28T15:55:25.381Z"
   },
   {
    "duration": 14,
    "start_time": "2022-06-28T15:55:27.373Z"
   },
   {
    "duration": 2,
    "start_time": "2022-06-28T15:55:32.926Z"
   },
   {
    "duration": 3,
    "start_time": "2022-06-28T15:55:40.648Z"
   },
   {
    "duration": 655,
    "start_time": "2022-06-28T15:55:41.150Z"
   },
   {
    "duration": 6,
    "start_time": "2022-06-28T15:56:55.468Z"
   },
   {
    "duration": 10,
    "start_time": "2022-06-28T15:57:10.704Z"
   },
   {
    "duration": 820,
    "start_time": "2022-06-28T16:00:56.189Z"
   },
   {
    "duration": 10,
    "start_time": "2022-06-28T16:01:39.977Z"
   },
   {
    "duration": 10,
    "start_time": "2022-06-28T16:02:01.321Z"
   },
   {
    "duration": 17,
    "start_time": "2022-06-28T16:02:03.345Z"
   },
   {
    "duration": 3,
    "start_time": "2022-06-28T16:02:05.422Z"
   },
   {
    "duration": 1231,
    "start_time": "2022-06-28T16:02:37.021Z"
   },
   {
    "duration": 14,
    "start_time": "2022-06-28T16:02:39.138Z"
   },
   {
    "duration": 5,
    "start_time": "2022-06-28T16:03:19.332Z"
   },
   {
    "duration": 13,
    "start_time": "2022-06-28T16:03:21.445Z"
   },
   {
    "duration": 19,
    "start_time": "2022-06-28T16:05:59.013Z"
   },
   {
    "duration": 9,
    "start_time": "2022-06-28T16:07:45.734Z"
   },
   {
    "duration": 62,
    "start_time": "2022-06-28T16:08:16.263Z"
   },
   {
    "duration": 10,
    "start_time": "2022-06-28T16:08:22.993Z"
   },
   {
    "duration": 11,
    "start_time": "2022-06-28T16:08:48.032Z"
   },
   {
    "duration": 4,
    "start_time": "2022-06-28T16:11:46.166Z"
   },
   {
    "duration": 19,
    "start_time": "2022-06-28T16:13:06.963Z"
   },
   {
    "duration": 1108,
    "start_time": "2022-06-28T16:14:05.240Z"
   },
   {
    "duration": 15,
    "start_time": "2022-06-28T16:14:29.920Z"
   },
   {
    "duration": 16,
    "start_time": "2022-06-28T16:15:44.307Z"
   },
   {
    "duration": 12,
    "start_time": "2022-06-28T16:15:59.879Z"
   },
   {
    "duration": 17,
    "start_time": "2022-06-28T16:16:08.544Z"
   },
   {
    "duration": 22,
    "start_time": "2022-06-28T16:20:52.483Z"
   },
   {
    "duration": 22,
    "start_time": "2022-06-28T16:21:01.174Z"
   },
   {
    "duration": 28,
    "start_time": "2022-06-28T16:21:20.015Z"
   },
   {
    "duration": 24,
    "start_time": "2022-06-28T16:21:32.689Z"
   },
   {
    "duration": 22,
    "start_time": "2022-06-28T16:22:16.515Z"
   },
   {
    "duration": 24,
    "start_time": "2022-06-28T16:22:21.610Z"
   },
   {
    "duration": 37,
    "start_time": "2022-06-28T16:22:28.075Z"
   },
   {
    "duration": 17,
    "start_time": "2022-06-28T16:23:01.598Z"
   },
   {
    "duration": 12,
    "start_time": "2022-06-28T16:25:51.922Z"
   },
   {
    "duration": 13,
    "start_time": "2022-06-28T16:25:57.837Z"
   },
   {
    "duration": 29,
    "start_time": "2022-06-28T16:26:58.536Z"
   },
   {
    "duration": 30,
    "start_time": "2022-06-28T16:27:04.269Z"
   },
   {
    "duration": 3,
    "start_time": "2022-06-28T16:27:13.743Z"
   },
   {
    "duration": 63,
    "start_time": "2022-06-28T16:27:13.747Z"
   },
   {
    "duration": 16,
    "start_time": "2022-06-28T16:27:13.812Z"
   },
   {
    "duration": 8,
    "start_time": "2022-06-28T16:27:13.830Z"
   },
   {
    "duration": 19,
    "start_time": "2022-06-28T16:27:13.867Z"
   },
   {
    "duration": 11,
    "start_time": "2022-06-28T16:27:13.888Z"
   },
   {
    "duration": 21,
    "start_time": "2022-06-28T16:27:13.901Z"
   },
   {
    "duration": 15,
    "start_time": "2022-06-28T16:27:13.924Z"
   },
   {
    "duration": 27,
    "start_time": "2022-06-28T16:27:13.942Z"
   },
   {
    "duration": 11,
    "start_time": "2022-06-28T16:27:13.971Z"
   },
   {
    "duration": 9,
    "start_time": "2022-06-28T16:27:13.983Z"
   },
   {
    "duration": 14,
    "start_time": "2022-06-28T16:27:13.994Z"
   },
   {
    "duration": 4,
    "start_time": "2022-06-28T16:27:14.009Z"
   },
   {
    "duration": 187,
    "start_time": "2022-06-28T16:27:14.014Z"
   },
   {
    "duration": 11,
    "start_time": "2022-06-28T16:27:14.203Z"
   },
   {
    "duration": 3,
    "start_time": "2022-06-28T16:27:14.215Z"
   },
   {
    "duration": 124,
    "start_time": "2022-06-28T16:27:14.220Z"
   },
   {
    "duration": 33,
    "start_time": "2022-06-28T16:27:14.346Z"
   },
   {
    "duration": 5,
    "start_time": "2022-06-28T16:27:14.381Z"
   },
   {
    "duration": 15,
    "start_time": "2022-06-28T16:27:14.390Z"
   },
   {
    "duration": 31,
    "start_time": "2022-06-28T16:27:14.406Z"
   },
   {
    "duration": 9,
    "start_time": "2022-06-28T16:27:14.439Z"
   },
   {
    "duration": 22,
    "start_time": "2022-06-28T16:27:14.450Z"
   },
   {
    "duration": 46,
    "start_time": "2022-06-28T16:27:14.475Z"
   },
   {
    "duration": 15,
    "start_time": "2022-06-28T16:27:14.523Z"
   },
   {
    "duration": 32,
    "start_time": "2022-06-28T16:27:14.540Z"
   },
   {
    "duration": 449,
    "start_time": "2022-06-28T16:27:14.574Z"
   },
   {
    "duration": 54,
    "start_time": "2022-06-28T16:27:15.025Z"
   },
   {
    "duration": 15,
    "start_time": "2022-06-28T16:27:15.080Z"
   },
   {
    "duration": 17,
    "start_time": "2022-06-28T16:27:15.097Z"
   },
   {
    "duration": 20,
    "start_time": "2022-06-28T16:27:15.116Z"
   },
   {
    "duration": 3,
    "start_time": "2022-06-28T16:27:15.137Z"
   },
   {
    "duration": 849,
    "start_time": "2022-06-28T16:27:15.141Z"
   },
   {
    "duration": 5,
    "start_time": "2022-06-28T16:27:15.992Z"
   },
   {
    "duration": 21,
    "start_time": "2022-06-28T16:27:15.999Z"
   },
   {
    "duration": 12,
    "start_time": "2022-06-28T16:27:16.022Z"
   },
   {
    "duration": 47,
    "start_time": "2022-06-28T16:27:16.036Z"
   },
   {
    "duration": 29,
    "start_time": "2022-06-28T16:27:29.947Z"
   },
   {
    "duration": 30,
    "start_time": "2022-06-28T16:31:58.339Z"
   },
   {
    "duration": 40,
    "start_time": "2022-06-28T16:32:11.317Z"
   },
   {
    "duration": 13,
    "start_time": "2022-06-28T16:32:24.937Z"
   },
   {
    "duration": 7,
    "start_time": "2022-06-28T16:32:25.489Z"
   },
   {
    "duration": 11,
    "start_time": "2022-06-28T16:32:52.959Z"
   },
   {
    "duration": 17,
    "start_time": "2022-06-28T16:34:56.458Z"
   },
   {
    "duration": 13,
    "start_time": "2022-06-28T16:35:40.458Z"
   },
   {
    "duration": 7,
    "start_time": "2022-06-28T16:36:54.790Z"
   },
   {
    "duration": 16,
    "start_time": "2022-06-28T16:41:58.333Z"
   },
   {
    "duration": 15,
    "start_time": "2022-06-28T16:42:12.783Z"
   },
   {
    "duration": 11,
    "start_time": "2022-06-28T16:42:26.985Z"
   },
   {
    "duration": 13,
    "start_time": "2022-06-28T16:42:37.861Z"
   },
   {
    "duration": 3,
    "start_time": "2022-06-28T16:42:44.092Z"
   },
   {
    "duration": 62,
    "start_time": "2022-06-28T16:42:44.097Z"
   },
   {
    "duration": 12,
    "start_time": "2022-06-28T16:42:44.161Z"
   },
   {
    "duration": 8,
    "start_time": "2022-06-28T16:42:44.175Z"
   },
   {
    "duration": 22,
    "start_time": "2022-06-28T16:42:44.185Z"
   },
   {
    "duration": 12,
    "start_time": "2022-06-28T16:42:44.208Z"
   },
   {
    "duration": 15,
    "start_time": "2022-06-28T16:42:44.222Z"
   },
   {
    "duration": 43,
    "start_time": "2022-06-28T16:42:44.239Z"
   },
   {
    "duration": 3,
    "start_time": "2022-06-28T16:42:44.283Z"
   },
   {
    "duration": 8,
    "start_time": "2022-06-28T16:42:44.290Z"
   },
   {
    "duration": 8,
    "start_time": "2022-06-28T16:42:44.300Z"
   },
   {
    "duration": 58,
    "start_time": "2022-06-28T16:42:44.310Z"
   },
   {
    "duration": 3,
    "start_time": "2022-06-28T16:42:44.370Z"
   },
   {
    "duration": 186,
    "start_time": "2022-06-28T16:42:44.375Z"
   },
   {
    "duration": 11,
    "start_time": "2022-06-28T16:42:44.567Z"
   },
   {
    "duration": 3,
    "start_time": "2022-06-28T16:42:44.580Z"
   },
   {
    "duration": 144,
    "start_time": "2022-06-28T16:42:44.585Z"
   },
   {
    "duration": 24,
    "start_time": "2022-06-28T16:42:44.730Z"
   },
   {
    "duration": 7,
    "start_time": "2022-06-28T16:42:44.768Z"
   },
   {
    "duration": 17,
    "start_time": "2022-06-28T16:42:44.777Z"
   },
   {
    "duration": 23,
    "start_time": "2022-06-28T16:42:44.796Z"
   },
   {
    "duration": 9,
    "start_time": "2022-06-28T16:42:44.821Z"
   },
   {
    "duration": 45,
    "start_time": "2022-06-28T16:42:44.832Z"
   },
   {
    "duration": 44,
    "start_time": "2022-06-28T16:42:44.879Z"
   },
   {
    "duration": 12,
    "start_time": "2022-06-28T16:42:44.925Z"
   },
   {
    "duration": 30,
    "start_time": "2022-06-28T16:42:44.939Z"
   },
   {
    "duration": 475,
    "start_time": "2022-06-28T16:42:44.970Z"
   },
   {
    "duration": 47,
    "start_time": "2022-06-28T16:42:45.448Z"
   },
   {
    "duration": 20,
    "start_time": "2022-06-28T16:42:45.497Z"
   },
   {
    "duration": 10,
    "start_time": "2022-06-28T16:42:45.519Z"
   },
   {
    "duration": 43,
    "start_time": "2022-06-28T16:42:45.531Z"
   },
   {
    "duration": 5,
    "start_time": "2022-06-28T16:42:45.576Z"
   },
   {
    "duration": 775,
    "start_time": "2022-06-28T16:42:45.583Z"
   },
   {
    "duration": 5,
    "start_time": "2022-06-28T16:42:46.360Z"
   },
   {
    "duration": 21,
    "start_time": "2022-06-28T16:42:46.367Z"
   },
   {
    "duration": 13,
    "start_time": "2022-06-28T16:42:46.390Z"
   },
   {
    "duration": 7,
    "start_time": "2022-06-28T16:42:46.405Z"
   },
   {
    "duration": 14,
    "start_time": "2022-06-28T16:42:46.413Z"
   },
   {
    "duration": 9,
    "start_time": "2022-06-28T16:42:46.429Z"
   },
   {
    "duration": 13,
    "start_time": "2022-06-28T16:46:33.661Z"
   },
   {
    "duration": 3,
    "start_time": "2022-06-28T16:52:58.320Z"
   },
   {
    "duration": 85,
    "start_time": "2022-06-28T16:56:24.738Z"
   },
   {
    "duration": 53,
    "start_time": "2022-06-28T16:56:32.328Z"
   },
   {
    "duration": 3,
    "start_time": "2022-06-28T17:01:45.286Z"
   },
   {
    "duration": 252,
    "start_time": "2022-06-28T17:04:15.239Z"
   },
   {
    "duration": 155,
    "start_time": "2022-06-28T17:05:02.829Z"
   },
   {
    "duration": 162,
    "start_time": "2022-06-28T17:06:22.893Z"
   },
   {
    "duration": 173,
    "start_time": "2022-06-28T17:06:28.416Z"
   },
   {
    "duration": 268,
    "start_time": "2022-06-28T17:06:51.186Z"
   },
   {
    "duration": 203,
    "start_time": "2022-06-28T17:07:00.354Z"
   },
   {
    "duration": 172,
    "start_time": "2022-06-28T17:07:14.798Z"
   },
   {
    "duration": 1281,
    "start_time": "2022-06-30T17:41:17.490Z"
   },
   {
    "duration": 280,
    "start_time": "2022-06-30T17:41:18.774Z"
   },
   {
    "duration": 17,
    "start_time": "2022-06-30T17:41:19.056Z"
   },
   {
    "duration": 9,
    "start_time": "2022-06-30T17:41:19.076Z"
   },
   {
    "duration": 28,
    "start_time": "2022-06-30T17:41:19.087Z"
   },
   {
    "duration": 19,
    "start_time": "2022-06-30T17:41:19.117Z"
   },
   {
    "duration": 27,
    "start_time": "2022-06-30T17:41:19.137Z"
   },
   {
    "duration": 62,
    "start_time": "2022-06-30T17:41:19.165Z"
   },
   {
    "duration": 3,
    "start_time": "2022-06-30T17:41:19.229Z"
   },
   {
    "duration": 14,
    "start_time": "2022-06-30T17:41:19.234Z"
   },
   {
    "duration": 11,
    "start_time": "2022-06-30T17:41:19.249Z"
   },
   {
    "duration": 16,
    "start_time": "2022-06-30T17:41:19.261Z"
   },
   {
    "duration": 6,
    "start_time": "2022-06-30T17:41:19.278Z"
   },
   {
    "duration": 171,
    "start_time": "2022-06-30T17:41:19.285Z"
   },
   {
    "duration": 10,
    "start_time": "2022-06-30T17:41:19.458Z"
   },
   {
    "duration": 10,
    "start_time": "2022-06-30T17:41:19.469Z"
   },
   {
    "duration": 102,
    "start_time": "2022-06-30T17:41:19.480Z"
   },
   {
    "duration": 64,
    "start_time": "2022-06-30T17:41:19.584Z"
   },
   {
    "duration": 5,
    "start_time": "2022-06-30T17:41:19.650Z"
   },
   {
    "duration": 17,
    "start_time": "2022-06-30T17:41:19.657Z"
   },
   {
    "duration": 18,
    "start_time": "2022-06-30T17:41:19.675Z"
   },
   {
    "duration": 9,
    "start_time": "2022-06-30T17:41:19.695Z"
   },
   {
    "duration": 29,
    "start_time": "2022-06-30T17:41:19.705Z"
   },
   {
    "duration": 42,
    "start_time": "2022-06-30T17:41:19.736Z"
   },
   {
    "duration": 12,
    "start_time": "2022-06-30T17:41:19.780Z"
   },
   {
    "duration": 26,
    "start_time": "2022-06-30T17:41:19.794Z"
   },
   {
    "duration": 460,
    "start_time": "2022-06-30T17:41:19.829Z"
   },
   {
    "duration": 48,
    "start_time": "2022-06-30T17:41:20.292Z"
   },
   {
    "duration": 14,
    "start_time": "2022-06-30T17:41:20.341Z"
   },
   {
    "duration": 26,
    "start_time": "2022-06-30T17:41:20.357Z"
   },
   {
    "duration": 20,
    "start_time": "2022-06-30T17:41:20.385Z"
   },
   {
    "duration": 2,
    "start_time": "2022-06-30T17:41:20.407Z"
   },
   {
    "duration": 13,
    "start_time": "2022-06-30T17:41:20.410Z"
   },
   {
    "duration": 174,
    "start_time": "2022-06-30T17:41:20.424Z"
   },
   {
    "duration": 1304,
    "start_time": "2022-06-30T17:41:20.599Z"
   },
   {
    "duration": 5,
    "start_time": "2022-06-30T17:41:21.905Z"
   },
   {
    "duration": 24,
    "start_time": "2022-06-30T17:41:21.912Z"
   },
   {
    "duration": 30,
    "start_time": "2022-06-30T17:41:21.937Z"
   },
   {
    "duration": 12,
    "start_time": "2022-06-30T17:41:21.969Z"
   },
   {
    "duration": 34,
    "start_time": "2022-06-30T17:41:21.982Z"
   },
   {
    "duration": 89,
    "start_time": "2022-06-30T17:56:57.198Z"
   },
   {
    "duration": 74,
    "start_time": "2022-06-30T17:58:19.879Z"
   },
   {
    "duration": 9,
    "start_time": "2022-06-30T18:11:21.846Z"
   },
   {
    "duration": 38,
    "start_time": "2022-06-30T18:40:10.599Z"
   },
   {
    "duration": 27,
    "start_time": "2022-06-30T18:41:54.092Z"
   },
   {
    "duration": 16,
    "start_time": "2022-06-30T18:47:13.691Z"
   },
   {
    "duration": 17,
    "start_time": "2022-06-30T18:59:05.906Z"
   },
   {
    "duration": 17,
    "start_time": "2022-06-30T18:59:25.330Z"
   },
   {
    "duration": 13,
    "start_time": "2022-06-30T19:00:13.214Z"
   },
   {
    "duration": 13,
    "start_time": "2022-06-30T19:00:51.090Z"
   },
   {
    "duration": 3,
    "start_time": "2022-06-30T19:02:22.521Z"
   },
   {
    "duration": 76,
    "start_time": "2022-06-30T19:04:13.112Z"
   },
   {
    "duration": 1096,
    "start_time": "2022-06-30T19:05:37.079Z"
   },
   {
    "duration": 18,
    "start_time": "2022-06-30T19:06:24.101Z"
   },
   {
    "duration": 14,
    "start_time": "2022-06-30T19:07:07.187Z"
   },
   {
    "duration": 14,
    "start_time": "2022-06-30T19:08:59.616Z"
   },
   {
    "duration": 803,
    "start_time": "2022-06-30T20:05:19.848Z"
   },
   {
    "duration": 608,
    "start_time": "2022-06-30T20:15:28.900Z"
   },
   {
    "duration": 999,
    "start_time": "2022-06-30T20:27:00.014Z"
   },
   {
    "duration": 401,
    "start_time": "2022-06-30T20:27:10.217Z"
   },
   {
    "duration": 1096,
    "start_time": "2022-06-30T20:39:12.376Z"
   },
   {
    "duration": 85,
    "start_time": "2022-06-30T20:39:13.475Z"
   },
   {
    "duration": 21,
    "start_time": "2022-06-30T20:39:13.562Z"
   },
   {
    "duration": 10,
    "start_time": "2022-06-30T20:39:13.587Z"
   },
   {
    "duration": 43,
    "start_time": "2022-06-30T20:39:13.599Z"
   },
   {
    "duration": 21,
    "start_time": "2022-06-30T20:39:13.646Z"
   },
   {
    "duration": 27,
    "start_time": "2022-06-30T20:39:13.669Z"
   },
   {
    "duration": 66,
    "start_time": "2022-06-30T20:39:13.697Z"
   },
   {
    "duration": 5,
    "start_time": "2022-06-30T20:39:13.765Z"
   },
   {
    "duration": 8,
    "start_time": "2022-06-30T20:39:13.773Z"
   },
   {
    "duration": 10,
    "start_time": "2022-06-30T20:39:13.783Z"
   },
   {
    "duration": 14,
    "start_time": "2022-06-30T20:39:13.795Z"
   },
   {
    "duration": 3,
    "start_time": "2022-06-30T20:39:13.811Z"
   },
   {
    "duration": 734,
    "start_time": "2022-06-30T20:39:13.816Z"
   },
   {
    "duration": 10,
    "start_time": "2022-06-30T20:39:14.552Z"
   },
   {
    "duration": 2,
    "start_time": "2022-06-30T20:39:14.563Z"
   },
   {
    "duration": 141,
    "start_time": "2022-06-30T20:39:14.567Z"
   },
   {
    "duration": 67,
    "start_time": "2022-06-30T20:39:14.710Z"
   },
   {
    "duration": 6,
    "start_time": "2022-06-30T20:39:14.779Z"
   },
   {
    "duration": 18,
    "start_time": "2022-06-30T20:39:14.786Z"
   },
   {
    "duration": 47,
    "start_time": "2022-06-30T20:39:14.805Z"
   },
   {
    "duration": 12,
    "start_time": "2022-06-30T20:39:14.853Z"
   },
   {
    "duration": 7,
    "start_time": "2022-06-30T20:39:14.867Z"
   },
   {
    "duration": 102,
    "start_time": "2022-06-30T20:39:14.876Z"
   },
   {
    "duration": 0,
    "start_time": "2022-06-30T20:39:14.981Z"
   },
   {
    "duration": 0,
    "start_time": "2022-06-30T20:39:14.982Z"
   },
   {
    "duration": 0,
    "start_time": "2022-06-30T20:39:14.983Z"
   },
   {
    "duration": 0,
    "start_time": "2022-06-30T20:39:14.984Z"
   },
   {
    "duration": 0,
    "start_time": "2022-06-30T20:39:14.985Z"
   },
   {
    "duration": 0,
    "start_time": "2022-06-30T20:39:14.986Z"
   },
   {
    "duration": 0,
    "start_time": "2022-06-30T20:39:14.988Z"
   },
   {
    "duration": 0,
    "start_time": "2022-06-30T20:39:14.989Z"
   },
   {
    "duration": 0,
    "start_time": "2022-06-30T20:39:14.990Z"
   },
   {
    "duration": 0,
    "start_time": "2022-06-30T20:39:14.992Z"
   },
   {
    "duration": 0,
    "start_time": "2022-06-30T20:39:14.992Z"
   },
   {
    "duration": 0,
    "start_time": "2022-06-30T20:39:14.993Z"
   },
   {
    "duration": 0,
    "start_time": "2022-06-30T20:39:14.994Z"
   },
   {
    "duration": 0,
    "start_time": "2022-06-30T20:39:14.995Z"
   },
   {
    "duration": 0,
    "start_time": "2022-06-30T20:39:14.996Z"
   },
   {
    "duration": 0,
    "start_time": "2022-06-30T20:39:14.997Z"
   },
   {
    "duration": 3,
    "start_time": "2022-06-30T20:39:42.284Z"
   },
   {
    "duration": 98,
    "start_time": "2022-06-30T20:39:42.289Z"
   },
   {
    "duration": 15,
    "start_time": "2022-06-30T20:39:42.389Z"
   },
   {
    "duration": 34,
    "start_time": "2022-06-30T20:39:42.407Z"
   },
   {
    "duration": 19,
    "start_time": "2022-06-30T20:39:42.444Z"
   },
   {
    "duration": 12,
    "start_time": "2022-06-30T20:39:42.465Z"
   },
   {
    "duration": 15,
    "start_time": "2022-06-30T20:39:42.479Z"
   },
   {
    "duration": 14,
    "start_time": "2022-06-30T20:39:42.496Z"
   },
   {
    "duration": 23,
    "start_time": "2022-06-30T20:39:42.513Z"
   },
   {
    "duration": 20,
    "start_time": "2022-06-30T20:39:42.537Z"
   },
   {
    "duration": 10,
    "start_time": "2022-06-30T20:39:42.559Z"
   },
   {
    "duration": 16,
    "start_time": "2022-06-30T20:39:42.570Z"
   },
   {
    "duration": 3,
    "start_time": "2022-06-30T20:39:42.588Z"
   },
   {
    "duration": 733,
    "start_time": "2022-06-30T20:39:42.593Z"
   },
   {
    "duration": 16,
    "start_time": "2022-06-30T20:39:43.329Z"
   },
   {
    "duration": 9,
    "start_time": "2022-06-30T20:39:43.347Z"
   },
   {
    "duration": 127,
    "start_time": "2022-06-30T20:39:43.358Z"
   },
   {
    "duration": 25,
    "start_time": "2022-06-30T20:39:43.487Z"
   },
   {
    "duration": 13,
    "start_time": "2022-06-30T20:39:43.530Z"
   },
   {
    "duration": 29,
    "start_time": "2022-06-30T20:39:43.545Z"
   },
   {
    "duration": 27,
    "start_time": "2022-06-30T20:39:43.577Z"
   },
   {
    "duration": 35,
    "start_time": "2022-06-30T20:39:43.607Z"
   },
   {
    "duration": 9,
    "start_time": "2022-06-30T20:39:43.643Z"
   },
   {
    "duration": 77,
    "start_time": "2022-06-30T20:39:43.656Z"
   },
   {
    "duration": 0,
    "start_time": "2022-06-30T20:39:43.735Z"
   },
   {
    "duration": 0,
    "start_time": "2022-06-30T20:39:43.736Z"
   },
   {
    "duration": 0,
    "start_time": "2022-06-30T20:39:43.737Z"
   },
   {
    "duration": 0,
    "start_time": "2022-06-30T20:39:43.738Z"
   },
   {
    "duration": 0,
    "start_time": "2022-06-30T20:39:43.740Z"
   },
   {
    "duration": 0,
    "start_time": "2022-06-30T20:39:43.741Z"
   },
   {
    "duration": 0,
    "start_time": "2022-06-30T20:39:43.742Z"
   },
   {
    "duration": 0,
    "start_time": "2022-06-30T20:39:43.744Z"
   },
   {
    "duration": 0,
    "start_time": "2022-06-30T20:39:43.745Z"
   },
   {
    "duration": 0,
    "start_time": "2022-06-30T20:39:43.745Z"
   },
   {
    "duration": 0,
    "start_time": "2022-06-30T20:39:43.746Z"
   },
   {
    "duration": 0,
    "start_time": "2022-06-30T20:39:43.747Z"
   },
   {
    "duration": 0,
    "start_time": "2022-06-30T20:39:43.749Z"
   },
   {
    "duration": 0,
    "start_time": "2022-06-30T20:39:43.751Z"
   },
   {
    "duration": 0,
    "start_time": "2022-06-30T20:39:43.752Z"
   },
   {
    "duration": 0,
    "start_time": "2022-06-30T20:39:43.753Z"
   },
   {
    "duration": 2,
    "start_time": "2022-06-30T20:40:02.491Z"
   },
   {
    "duration": 76,
    "start_time": "2022-06-30T20:40:02.496Z"
   },
   {
    "duration": 15,
    "start_time": "2022-06-30T20:40:02.574Z"
   },
   {
    "duration": 8,
    "start_time": "2022-06-30T20:40:02.591Z"
   },
   {
    "duration": 46,
    "start_time": "2022-06-30T20:40:02.602Z"
   },
   {
    "duration": 12,
    "start_time": "2022-06-30T20:40:02.649Z"
   },
   {
    "duration": 13,
    "start_time": "2022-06-30T20:40:02.663Z"
   },
   {
    "duration": 17,
    "start_time": "2022-06-30T20:40:02.678Z"
   },
   {
    "duration": 3,
    "start_time": "2022-06-30T20:40:02.697Z"
   },
   {
    "duration": 35,
    "start_time": "2022-06-30T20:40:02.702Z"
   },
   {
    "duration": 8,
    "start_time": "2022-06-30T20:40:02.740Z"
   },
   {
    "duration": 15,
    "start_time": "2022-06-30T20:40:02.750Z"
   },
   {
    "duration": 4,
    "start_time": "2022-06-30T20:40:02.766Z"
   },
   {
    "duration": 1016,
    "start_time": "2022-06-30T20:40:02.772Z"
   },
   {
    "duration": 12,
    "start_time": "2022-06-30T20:40:03.790Z"
   },
   {
    "duration": 4,
    "start_time": "2022-06-30T20:40:03.803Z"
   },
   {
    "duration": 146,
    "start_time": "2022-06-30T20:40:03.809Z"
   },
   {
    "duration": 24,
    "start_time": "2022-06-30T20:40:03.957Z"
   },
   {
    "duration": 7,
    "start_time": "2022-06-30T20:40:03.983Z"
   },
   {
    "duration": 52,
    "start_time": "2022-06-30T20:40:03.992Z"
   },
   {
    "duration": 26,
    "start_time": "2022-06-30T20:40:04.046Z"
   },
   {
    "duration": 11,
    "start_time": "2022-06-30T20:40:04.073Z"
   },
   {
    "duration": 19,
    "start_time": "2022-06-30T20:40:04.085Z"
   },
   {
    "duration": 57,
    "start_time": "2022-06-30T20:40:04.106Z"
   },
   {
    "duration": 13,
    "start_time": "2022-06-30T20:40:04.165Z"
   },
   {
    "duration": 16,
    "start_time": "2022-06-30T20:40:04.180Z"
   },
   {
    "duration": 495,
    "start_time": "2022-06-30T20:40:04.198Z"
   },
   {
    "duration": 147,
    "start_time": "2022-06-30T20:40:04.695Z"
   },
   {
    "duration": 23,
    "start_time": "2022-06-30T20:40:04.850Z"
   },
   {
    "duration": 16,
    "start_time": "2022-06-30T20:40:04.876Z"
   },
   {
    "duration": 19,
    "start_time": "2022-06-30T20:40:04.895Z"
   },
   {
    "duration": 6,
    "start_time": "2022-06-30T20:40:04.929Z"
   },
   {
    "duration": 7,
    "start_time": "2022-06-30T20:40:04.943Z"
   },
   {
    "duration": 220,
    "start_time": "2022-06-30T20:40:04.952Z"
   },
   {
    "duration": 1479,
    "start_time": "2022-06-30T20:40:05.182Z"
   },
   {
    "duration": 5,
    "start_time": "2022-06-30T20:40:06.662Z"
   },
   {
    "duration": 17,
    "start_time": "2022-06-30T20:40:06.668Z"
   },
   {
    "duration": 13,
    "start_time": "2022-06-30T20:40:06.687Z"
   },
   {
    "duration": 8,
    "start_time": "2022-06-30T20:40:06.701Z"
   },
   {
    "duration": 31,
    "start_time": "2022-06-30T20:40:06.711Z"
   },
   {
    "duration": 1427,
    "start_time": "2022-06-30T20:40:19.525Z"
   },
   {
    "duration": 78,
    "start_time": "2022-06-30T20:40:20.954Z"
   },
   {
    "duration": 18,
    "start_time": "2022-06-30T20:40:21.036Z"
   },
   {
    "duration": 7,
    "start_time": "2022-06-30T20:40:21.056Z"
   },
   {
    "duration": 19,
    "start_time": "2022-06-30T20:40:21.064Z"
   },
   {
    "duration": 10,
    "start_time": "2022-06-30T20:40:21.085Z"
   },
   {
    "duration": 10,
    "start_time": "2022-06-30T20:40:21.097Z"
   },
   {
    "duration": 23,
    "start_time": "2022-06-30T20:40:21.129Z"
   },
   {
    "duration": 3,
    "start_time": "2022-06-30T20:40:21.185Z"
   },
   {
    "duration": 23,
    "start_time": "2022-06-30T20:40:21.190Z"
   },
   {
    "duration": 8,
    "start_time": "2022-06-30T20:40:21.215Z"
   },
   {
    "duration": 14,
    "start_time": "2022-06-30T20:40:21.225Z"
   },
   {
    "duration": 8,
    "start_time": "2022-06-30T20:40:21.247Z"
   },
   {
    "duration": 1962,
    "start_time": "2022-06-30T20:40:21.257Z"
   },
   {
    "duration": 10,
    "start_time": "2022-06-30T20:40:23.221Z"
   },
   {
    "duration": 17,
    "start_time": "2022-06-30T20:40:23.233Z"
   },
   {
    "duration": 110,
    "start_time": "2022-06-30T20:40:23.251Z"
   },
   {
    "duration": 58,
    "start_time": "2022-06-30T20:40:23.363Z"
   },
   {
    "duration": 14,
    "start_time": "2022-06-30T20:40:23.432Z"
   },
   {
    "duration": 19,
    "start_time": "2022-06-30T20:40:23.448Z"
   },
   {
    "duration": 21,
    "start_time": "2022-06-30T20:40:23.469Z"
   },
   {
    "duration": 9,
    "start_time": "2022-06-30T20:40:23.492Z"
   },
   {
    "duration": 31,
    "start_time": "2022-06-30T20:40:23.503Z"
   },
   {
    "duration": 77,
    "start_time": "2022-06-30T20:40:23.535Z"
   },
   {
    "duration": 15,
    "start_time": "2022-06-30T20:40:23.614Z"
   },
   {
    "duration": 19,
    "start_time": "2022-06-30T20:40:23.631Z"
   },
   {
    "duration": 490,
    "start_time": "2022-06-30T20:40:23.653Z"
   },
   {
    "duration": 39,
    "start_time": "2022-06-30T20:40:24.148Z"
   },
   {
    "duration": 14,
    "start_time": "2022-06-30T20:40:24.189Z"
   },
   {
    "duration": 17,
    "start_time": "2022-06-30T20:40:24.205Z"
   },
   {
    "duration": 20,
    "start_time": "2022-06-30T20:40:24.228Z"
   },
   {
    "duration": 5,
    "start_time": "2022-06-30T20:40:24.250Z"
   },
   {
    "duration": 5,
    "start_time": "2022-06-30T20:40:24.257Z"
   },
   {
    "duration": 193,
    "start_time": "2022-06-30T20:40:24.263Z"
   },
   {
    "duration": 1388,
    "start_time": "2022-06-30T20:40:24.457Z"
   },
   {
    "duration": 4,
    "start_time": "2022-06-30T20:40:25.847Z"
   },
   {
    "duration": 14,
    "start_time": "2022-06-30T20:40:25.853Z"
   },
   {
    "duration": 11,
    "start_time": "2022-06-30T20:40:25.868Z"
   },
   {
    "duration": 6,
    "start_time": "2022-06-30T20:40:25.880Z"
   },
   {
    "duration": 24,
    "start_time": "2022-06-30T20:40:25.887Z"
   },
   {
    "duration": 50,
    "start_time": "2022-07-02T08:43:43.454Z"
   },
   {
    "duration": 1366,
    "start_time": "2022-07-02T08:43:46.893Z"
   },
   {
    "duration": 304,
    "start_time": "2022-07-02T08:43:48.262Z"
   },
   {
    "duration": 16,
    "start_time": "2022-07-02T08:43:48.568Z"
   },
   {
    "duration": 9,
    "start_time": "2022-07-02T08:43:48.586Z"
   },
   {
    "duration": 22,
    "start_time": "2022-07-02T08:43:48.597Z"
   },
   {
    "duration": 23,
    "start_time": "2022-07-02T08:43:48.621Z"
   },
   {
    "duration": 28,
    "start_time": "2022-07-02T08:43:48.648Z"
   },
   {
    "duration": 41,
    "start_time": "2022-07-02T08:43:48.678Z"
   },
   {
    "duration": 3,
    "start_time": "2022-07-02T08:43:48.721Z"
   },
   {
    "duration": 65,
    "start_time": "2022-07-02T08:43:48.727Z"
   },
   {
    "duration": 26,
    "start_time": "2022-07-02T08:43:48.794Z"
   },
   {
    "duration": 52,
    "start_time": "2022-07-02T08:43:48.822Z"
   },
   {
    "duration": 6,
    "start_time": "2022-07-02T08:43:48.876Z"
   },
   {
    "duration": 782,
    "start_time": "2022-07-02T08:43:48.883Z"
   },
   {
    "duration": 9,
    "start_time": "2022-07-02T08:43:49.667Z"
   },
   {
    "duration": 3,
    "start_time": "2022-07-02T08:43:49.677Z"
   },
   {
    "duration": 121,
    "start_time": "2022-07-02T08:43:49.681Z"
   },
   {
    "duration": 70,
    "start_time": "2022-07-02T08:43:49.804Z"
   },
   {
    "duration": 5,
    "start_time": "2022-07-02T08:43:49.876Z"
   },
   {
    "duration": 16,
    "start_time": "2022-07-02T08:43:49.882Z"
   },
   {
    "duration": 42,
    "start_time": "2022-07-02T08:43:49.900Z"
   },
   {
    "duration": 11,
    "start_time": "2022-07-02T08:43:49.949Z"
   },
   {
    "duration": 5,
    "start_time": "2022-07-02T08:43:49.961Z"
   },
   {
    "duration": 38,
    "start_time": "2022-07-02T08:43:49.967Z"
   },
   {
    "duration": 10,
    "start_time": "2022-07-02T08:43:50.007Z"
   },
   {
    "duration": 27,
    "start_time": "2022-07-02T08:43:50.019Z"
   },
   {
    "duration": 438,
    "start_time": "2022-07-02T08:43:50.048Z"
   },
   {
    "duration": 51,
    "start_time": "2022-07-02T08:43:50.489Z"
   },
   {
    "duration": 16,
    "start_time": "2022-07-02T08:43:50.549Z"
   },
   {
    "duration": 14,
    "start_time": "2022-07-02T08:43:50.566Z"
   },
   {
    "duration": 13,
    "start_time": "2022-07-02T08:43:50.581Z"
   },
   {
    "duration": 3,
    "start_time": "2022-07-02T08:43:50.596Z"
   },
   {
    "duration": 5,
    "start_time": "2022-07-02T08:43:50.601Z"
   },
   {
    "duration": 183,
    "start_time": "2022-07-02T08:43:50.608Z"
   },
   {
    "duration": 1319,
    "start_time": "2022-07-02T08:43:50.792Z"
   },
   {
    "duration": 4,
    "start_time": "2022-07-02T08:43:52.113Z"
   },
   {
    "duration": 20,
    "start_time": "2022-07-02T08:43:52.118Z"
   },
   {
    "duration": 29,
    "start_time": "2022-07-02T08:43:52.139Z"
   },
   {
    "duration": 6,
    "start_time": "2022-07-02T08:43:52.169Z"
   },
   {
    "duration": 10,
    "start_time": "2022-07-02T08:43:52.177Z"
   },
   {
    "duration": 77,
    "start_time": "2022-07-02T08:44:04.896Z"
   },
   {
    "duration": 1489,
    "start_time": "2022-07-02T08:58:17.916Z"
   },
   {
    "duration": 18,
    "start_time": "2022-07-02T08:58:38.197Z"
   },
   {
    "duration": 20,
    "start_time": "2022-07-02T09:10:17.297Z"
   },
   {
    "duration": 17,
    "start_time": "2022-07-02T09:10:25.717Z"
   },
   {
    "duration": 16,
    "start_time": "2022-07-02T09:10:42.461Z"
   },
   {
    "duration": 16,
    "start_time": "2022-07-02T09:10:43.803Z"
   },
   {
    "duration": 11,
    "start_time": "2022-07-02T09:11:04.338Z"
   },
   {
    "duration": 11,
    "start_time": "2022-07-02T09:14:02.277Z"
   },
   {
    "duration": 1536,
    "start_time": "2022-07-02T09:30:22.216Z"
   },
   {
    "duration": 15,
    "start_time": "2022-07-02T09:30:57.055Z"
   },
   {
    "duration": 3,
    "start_time": "2022-07-02T09:31:11.800Z"
   },
   {
    "duration": 67,
    "start_time": "2022-07-02T09:31:11.804Z"
   },
   {
    "duration": 14,
    "start_time": "2022-07-02T09:31:11.873Z"
   },
   {
    "duration": 10,
    "start_time": "2022-07-02T09:31:11.889Z"
   },
   {
    "duration": 17,
    "start_time": "2022-07-02T09:31:11.929Z"
   },
   {
    "duration": 13,
    "start_time": "2022-07-02T09:31:11.948Z"
   },
   {
    "duration": 14,
    "start_time": "2022-07-02T09:31:11.962Z"
   },
   {
    "duration": 10,
    "start_time": "2022-07-02T09:31:11.977Z"
   },
   {
    "duration": 9,
    "start_time": "2022-07-02T09:31:11.989Z"
   },
   {
    "duration": 11,
    "start_time": "2022-07-02T09:31:12.029Z"
   },
   {
    "duration": 14,
    "start_time": "2022-07-02T09:31:12.042Z"
   },
   {
    "duration": 3,
    "start_time": "2022-07-02T09:31:12.057Z"
   },
   {
    "duration": 11,
    "start_time": "2022-07-02T09:31:12.062Z"
   },
   {
    "duration": 90,
    "start_time": "2022-07-02T09:31:12.074Z"
   },
   {
    "duration": 14,
    "start_time": "2022-07-02T09:31:12.165Z"
   },
   {
    "duration": 0,
    "start_time": "2022-07-02T09:31:12.181Z"
   },
   {
    "duration": 0,
    "start_time": "2022-07-02T09:31:12.182Z"
   },
   {
    "duration": 0,
    "start_time": "2022-07-02T09:31:12.183Z"
   },
   {
    "duration": 0,
    "start_time": "2022-07-02T09:31:12.184Z"
   },
   {
    "duration": 0,
    "start_time": "2022-07-02T09:31:12.185Z"
   },
   {
    "duration": 0,
    "start_time": "2022-07-02T09:31:12.186Z"
   },
   {
    "duration": 0,
    "start_time": "2022-07-02T09:31:12.187Z"
   },
   {
    "duration": 0,
    "start_time": "2022-07-02T09:31:12.188Z"
   },
   {
    "duration": 0,
    "start_time": "2022-07-02T09:31:12.189Z"
   },
   {
    "duration": 0,
    "start_time": "2022-07-02T09:31:12.190Z"
   },
   {
    "duration": 0,
    "start_time": "2022-07-02T09:31:12.191Z"
   },
   {
    "duration": 0,
    "start_time": "2022-07-02T09:31:12.192Z"
   },
   {
    "duration": 0,
    "start_time": "2022-07-02T09:31:12.194Z"
   },
   {
    "duration": 0,
    "start_time": "2022-07-02T09:31:12.195Z"
   },
   {
    "duration": 0,
    "start_time": "2022-07-02T09:31:12.228Z"
   },
   {
    "duration": 0,
    "start_time": "2022-07-02T09:31:12.230Z"
   },
   {
    "duration": 0,
    "start_time": "2022-07-02T09:31:12.231Z"
   },
   {
    "duration": 0,
    "start_time": "2022-07-02T09:31:12.233Z"
   },
   {
    "duration": 0,
    "start_time": "2022-07-02T09:31:12.234Z"
   },
   {
    "duration": 0,
    "start_time": "2022-07-02T09:31:12.235Z"
   },
   {
    "duration": 1,
    "start_time": "2022-07-02T09:31:12.236Z"
   },
   {
    "duration": 0,
    "start_time": "2022-07-02T09:31:12.238Z"
   },
   {
    "duration": 0,
    "start_time": "2022-07-02T09:31:12.240Z"
   },
   {
    "duration": 0,
    "start_time": "2022-07-02T09:31:12.241Z"
   },
   {
    "duration": 0,
    "start_time": "2022-07-02T09:31:12.243Z"
   },
   {
    "duration": 0,
    "start_time": "2022-07-02T09:31:12.244Z"
   },
   {
    "duration": 0,
    "start_time": "2022-07-02T09:31:12.245Z"
   },
   {
    "duration": 0,
    "start_time": "2022-07-02T09:31:12.246Z"
   },
   {
    "duration": 0,
    "start_time": "2022-07-02T09:31:12.248Z"
   },
   {
    "duration": 13,
    "start_time": "2022-07-02T09:31:26.791Z"
   },
   {
    "duration": 22,
    "start_time": "2022-07-02T09:32:36.429Z"
   },
   {
    "duration": 22,
    "start_time": "2022-07-02T09:32:46.109Z"
   },
   {
    "duration": 14,
    "start_time": "2022-07-02T09:33:16.232Z"
   },
   {
    "duration": 25,
    "start_time": "2022-07-02T09:33:32.326Z"
   },
   {
    "duration": 15,
    "start_time": "2022-07-02T09:33:34.424Z"
   },
   {
    "duration": 17,
    "start_time": "2022-07-02T09:34:45.802Z"
   },
   {
    "duration": 5,
    "start_time": "2022-07-02T09:34:55.201Z"
   },
   {
    "duration": 75,
    "start_time": "2022-07-02T09:34:55.208Z"
   },
   {
    "duration": 13,
    "start_time": "2022-07-02T09:34:55.285Z"
   },
   {
    "duration": 32,
    "start_time": "2022-07-02T09:34:55.300Z"
   },
   {
    "duration": 22,
    "start_time": "2022-07-02T09:34:55.333Z"
   },
   {
    "duration": 25,
    "start_time": "2022-07-02T09:34:55.357Z"
   },
   {
    "duration": 46,
    "start_time": "2022-07-02T09:34:55.384Z"
   },
   {
    "duration": 18,
    "start_time": "2022-07-02T09:34:55.432Z"
   },
   {
    "duration": 18,
    "start_time": "2022-07-02T09:34:55.453Z"
   },
   {
    "duration": 14,
    "start_time": "2022-07-02T09:34:55.472Z"
   },
   {
    "duration": 48,
    "start_time": "2022-07-02T09:34:55.488Z"
   },
   {
    "duration": 3,
    "start_time": "2022-07-02T09:34:55.538Z"
   },
   {
    "duration": 9,
    "start_time": "2022-07-02T09:34:55.542Z"
   },
   {
    "duration": 10,
    "start_time": "2022-07-02T09:34:55.552Z"
   },
   {
    "duration": 15,
    "start_time": "2022-07-02T09:34:55.564Z"
   },
   {
    "duration": 4,
    "start_time": "2022-07-02T09:34:55.581Z"
   },
   {
    "duration": 851,
    "start_time": "2022-07-02T09:34:55.587Z"
   },
   {
    "duration": 656,
    "start_time": "2022-07-02T09:34:56.439Z"
   },
   {
    "duration": 10,
    "start_time": "2022-07-02T09:34:57.096Z"
   },
   {
    "duration": 5,
    "start_time": "2022-07-02T09:34:57.108Z"
   },
   {
    "duration": 118,
    "start_time": "2022-07-02T09:34:57.114Z"
   },
   {
    "duration": 22,
    "start_time": "2022-07-02T09:34:57.233Z"
   },
   {
    "duration": 6,
    "start_time": "2022-07-02T09:34:57.257Z"
   },
   {
    "duration": 14,
    "start_time": "2022-07-02T09:34:57.266Z"
   },
   {
    "duration": 49,
    "start_time": "2022-07-02T09:34:57.282Z"
   },
   {
    "duration": 10,
    "start_time": "2022-07-02T09:34:57.333Z"
   },
   {
    "duration": 13,
    "start_time": "2022-07-02T09:34:57.344Z"
   },
   {
    "duration": 41,
    "start_time": "2022-07-02T09:34:57.359Z"
   },
   {
    "duration": 29,
    "start_time": "2022-07-02T09:34:57.401Z"
   },
   {
    "duration": 11,
    "start_time": "2022-07-02T09:34:57.432Z"
   },
   {
    "duration": 414,
    "start_time": "2022-07-02T09:34:57.445Z"
   },
   {
    "duration": 37,
    "start_time": "2022-07-02T09:34:57.860Z"
   },
   {
    "duration": 31,
    "start_time": "2022-07-02T09:34:57.898Z"
   },
   {
    "duration": 10,
    "start_time": "2022-07-02T09:34:57.931Z"
   },
   {
    "duration": 20,
    "start_time": "2022-07-02T09:34:57.943Z"
   },
   {
    "duration": 3,
    "start_time": "2022-07-02T09:34:57.965Z"
   },
   {
    "duration": 7,
    "start_time": "2022-07-02T09:34:57.970Z"
   },
   {
    "duration": 187,
    "start_time": "2022-07-02T09:34:57.978Z"
   },
   {
    "duration": 1545,
    "start_time": "2022-07-02T09:34:58.167Z"
   },
   {
    "duration": 7,
    "start_time": "2022-07-02T09:34:59.714Z"
   },
   {
    "duration": 24,
    "start_time": "2022-07-02T09:34:59.724Z"
   },
   {
    "duration": 17,
    "start_time": "2022-07-02T09:34:59.749Z"
   },
   {
    "duration": 7,
    "start_time": "2022-07-02T09:34:59.767Z"
   },
   {
    "duration": 16,
    "start_time": "2022-07-02T09:34:59.776Z"
   },
   {
    "duration": 20,
    "start_time": "2022-07-02T09:38:20.468Z"
   },
   {
    "duration": 17,
    "start_time": "2022-07-02T09:38:25.125Z"
   },
   {
    "duration": 25,
    "start_time": "2022-07-02T09:38:59.634Z"
   },
   {
    "duration": 26,
    "start_time": "2022-07-02T09:39:02.292Z"
   },
   {
    "duration": 21,
    "start_time": "2022-07-02T09:39:02.686Z"
   },
   {
    "duration": 17,
    "start_time": "2022-07-02T09:39:17.227Z"
   },
   {
    "duration": 17,
    "start_time": "2022-07-02T09:39:30.504Z"
   },
   {
    "duration": 21,
    "start_time": "2022-07-02T09:39:41.608Z"
   },
   {
    "duration": 19,
    "start_time": "2022-07-02T09:39:48.326Z"
   },
   {
    "duration": 22,
    "start_time": "2022-07-02T09:39:55.118Z"
   },
   {
    "duration": 19,
    "start_time": "2022-07-02T09:40:55.293Z"
   },
   {
    "duration": 15,
    "start_time": "2022-07-02T09:41:05.497Z"
   },
   {
    "duration": 14,
    "start_time": "2022-07-02T09:41:31.640Z"
   },
   {
    "duration": 3,
    "start_time": "2022-07-02T09:41:53.519Z"
   },
   {
    "duration": 717,
    "start_time": "2022-07-02T09:41:58.377Z"
   },
   {
    "duration": 650,
    "start_time": "2022-07-02T09:42:35.325Z"
   },
   {
    "duration": 831,
    "start_time": "2022-07-02T09:44:34.763Z"
   },
   {
    "duration": 1422,
    "start_time": "2022-07-02T09:44:53.870Z"
   },
   {
    "duration": 979,
    "start_time": "2022-07-02T09:45:21.424Z"
   },
   {
    "duration": 252,
    "start_time": "2022-07-02T09:48:34.825Z"
   },
   {
    "duration": 166,
    "start_time": "2022-07-02T09:51:36.318Z"
   },
   {
    "duration": 120,
    "start_time": "2022-07-02T09:51:48.561Z"
   },
   {
    "duration": 550,
    "start_time": "2022-07-02T09:55:45.973Z"
   },
   {
    "duration": 415,
    "start_time": "2022-07-02T09:56:33.598Z"
   },
   {
    "duration": 435,
    "start_time": "2022-07-02T09:56:42.408Z"
   },
   {
    "duration": 406,
    "start_time": "2022-07-02T09:57:40.634Z"
   },
   {
    "duration": 398,
    "start_time": "2022-07-02T09:57:59.584Z"
   },
   {
    "duration": 3,
    "start_time": "2022-07-02T10:04:09.071Z"
   },
   {
    "duration": 68,
    "start_time": "2022-07-02T10:04:09.075Z"
   },
   {
    "duration": 12,
    "start_time": "2022-07-02T10:04:09.145Z"
   },
   {
    "duration": 9,
    "start_time": "2022-07-02T10:04:09.159Z"
   },
   {
    "duration": 28,
    "start_time": "2022-07-02T10:04:09.170Z"
   },
   {
    "duration": 40,
    "start_time": "2022-07-02T10:04:09.200Z"
   },
   {
    "duration": 21,
    "start_time": "2022-07-02T10:04:09.242Z"
   },
   {
    "duration": 17,
    "start_time": "2022-07-02T10:04:09.265Z"
   },
   {
    "duration": 15,
    "start_time": "2022-07-02T10:04:09.284Z"
   },
   {
    "duration": 42,
    "start_time": "2022-07-02T10:04:09.301Z"
   },
   {
    "duration": 19,
    "start_time": "2022-07-02T10:04:09.346Z"
   },
   {
    "duration": 3,
    "start_time": "2022-07-02T10:04:09.367Z"
   },
   {
    "duration": 11,
    "start_time": "2022-07-02T10:04:09.372Z"
   },
   {
    "duration": 48,
    "start_time": "2022-07-02T10:04:09.385Z"
   },
   {
    "duration": 14,
    "start_time": "2022-07-02T10:04:09.436Z"
   },
   {
    "duration": 747,
    "start_time": "2022-07-02T10:04:09.451Z"
   },
   {
    "duration": 14,
    "start_time": "2022-07-02T10:04:10.199Z"
   },
   {
    "duration": 0,
    "start_time": "2022-07-02T10:04:10.215Z"
   },
   {
    "duration": 0,
    "start_time": "2022-07-02T10:04:10.217Z"
   },
   {
    "duration": 0,
    "start_time": "2022-07-02T10:04:10.229Z"
   },
   {
    "duration": 0,
    "start_time": "2022-07-02T10:04:10.230Z"
   },
   {
    "duration": 0,
    "start_time": "2022-07-02T10:04:10.231Z"
   },
   {
    "duration": 0,
    "start_time": "2022-07-02T10:04:10.232Z"
   },
   {
    "duration": 0,
    "start_time": "2022-07-02T10:04:10.233Z"
   },
   {
    "duration": 0,
    "start_time": "2022-07-02T10:04:10.234Z"
   },
   {
    "duration": 0,
    "start_time": "2022-07-02T10:04:10.235Z"
   },
   {
    "duration": 0,
    "start_time": "2022-07-02T10:04:10.236Z"
   },
   {
    "duration": 0,
    "start_time": "2022-07-02T10:04:10.237Z"
   },
   {
    "duration": 0,
    "start_time": "2022-07-02T10:04:10.238Z"
   },
   {
    "duration": 0,
    "start_time": "2022-07-02T10:04:10.239Z"
   },
   {
    "duration": 0,
    "start_time": "2022-07-02T10:04:10.240Z"
   },
   {
    "duration": 0,
    "start_time": "2022-07-02T10:04:10.241Z"
   },
   {
    "duration": 0,
    "start_time": "2022-07-02T10:04:10.242Z"
   },
   {
    "duration": 0,
    "start_time": "2022-07-02T10:04:10.243Z"
   },
   {
    "duration": 0,
    "start_time": "2022-07-02T10:04:10.244Z"
   },
   {
    "duration": 0,
    "start_time": "2022-07-02T10:04:10.245Z"
   },
   {
    "duration": 0,
    "start_time": "2022-07-02T10:04:10.246Z"
   },
   {
    "duration": 0,
    "start_time": "2022-07-02T10:04:10.247Z"
   },
   {
    "duration": 0,
    "start_time": "2022-07-02T10:04:10.247Z"
   },
   {
    "duration": 0,
    "start_time": "2022-07-02T10:04:10.248Z"
   },
   {
    "duration": 0,
    "start_time": "2022-07-02T10:04:10.249Z"
   },
   {
    "duration": 0,
    "start_time": "2022-07-02T10:04:10.250Z"
   },
   {
    "duration": 12,
    "start_time": "2022-07-02T10:05:19.777Z"
   },
   {
    "duration": 3,
    "start_time": "2022-07-02T10:07:00.424Z"
   },
   {
    "duration": 115,
    "start_time": "2022-07-02T10:07:00.876Z"
   },
   {
    "duration": 2,
    "start_time": "2022-07-02T10:07:52.290Z"
   },
   {
    "duration": 87,
    "start_time": "2022-07-02T10:07:52.294Z"
   },
   {
    "duration": 11,
    "start_time": "2022-07-02T10:07:52.383Z"
   },
   {
    "duration": 7,
    "start_time": "2022-07-02T10:07:52.396Z"
   },
   {
    "duration": 45,
    "start_time": "2022-07-02T10:07:52.404Z"
   },
   {
    "duration": 15,
    "start_time": "2022-07-02T10:07:52.451Z"
   },
   {
    "duration": 14,
    "start_time": "2022-07-02T10:07:52.467Z"
   },
   {
    "duration": 12,
    "start_time": "2022-07-02T10:07:52.482Z"
   },
   {
    "duration": 11,
    "start_time": "2022-07-02T10:07:52.495Z"
   },
   {
    "duration": 14,
    "start_time": "2022-07-02T10:07:52.531Z"
   },
   {
    "duration": 16,
    "start_time": "2022-07-02T10:07:52.549Z"
   },
   {
    "duration": 2,
    "start_time": "2022-07-02T10:07:52.567Z"
   },
   {
    "duration": 8,
    "start_time": "2022-07-02T10:07:52.571Z"
   },
   {
    "duration": 8,
    "start_time": "2022-07-02T10:07:52.581Z"
   },
   {
    "duration": 40,
    "start_time": "2022-07-02T10:07:52.591Z"
   },
   {
    "duration": 721,
    "start_time": "2022-07-02T10:07:52.640Z"
   },
   {
    "duration": 12,
    "start_time": "2022-07-02T10:07:53.363Z"
   },
   {
    "duration": 10,
    "start_time": "2022-07-02T10:07:53.377Z"
   },
   {
    "duration": 196,
    "start_time": "2022-07-02T10:07:53.389Z"
   },
   {
    "duration": 27,
    "start_time": "2022-07-02T10:07:53.586Z"
   },
   {
    "duration": 27,
    "start_time": "2022-07-02T10:07:53.615Z"
   },
   {
    "duration": 18,
    "start_time": "2022-07-02T10:07:53.647Z"
   },
   {
    "duration": 22,
    "start_time": "2022-07-02T10:07:53.667Z"
   },
   {
    "duration": 14,
    "start_time": "2022-07-02T10:07:53.690Z"
   },
   {
    "duration": 9,
    "start_time": "2022-07-02T10:07:53.706Z"
   },
   {
    "duration": 54,
    "start_time": "2022-07-02T10:07:53.716Z"
   },
   {
    "duration": 12,
    "start_time": "2022-07-02T10:07:53.772Z"
   },
   {
    "duration": 12,
    "start_time": "2022-07-02T10:07:53.786Z"
   },
   {
    "duration": 470,
    "start_time": "2022-07-02T10:07:53.802Z"
   },
   {
    "duration": 39,
    "start_time": "2022-07-02T10:07:54.274Z"
   },
   {
    "duration": 29,
    "start_time": "2022-07-02T10:07:54.315Z"
   },
   {
    "duration": 15,
    "start_time": "2022-07-02T10:07:54.346Z"
   },
   {
    "duration": 12,
    "start_time": "2022-07-02T10:07:54.362Z"
   },
   {
    "duration": 0,
    "start_time": "2022-07-02T10:07:54.376Z"
   },
   {
    "duration": 0,
    "start_time": "2022-07-02T10:07:54.377Z"
   },
   {
    "duration": 0,
    "start_time": "2022-07-02T10:07:54.378Z"
   },
   {
    "duration": 0,
    "start_time": "2022-07-02T10:07:54.379Z"
   },
   {
    "duration": 0,
    "start_time": "2022-07-02T10:07:54.381Z"
   },
   {
    "duration": 0,
    "start_time": "2022-07-02T10:07:54.382Z"
   },
   {
    "duration": 0,
    "start_time": "2022-07-02T10:07:54.383Z"
   },
   {
    "duration": 0,
    "start_time": "2022-07-02T10:07:54.384Z"
   },
   {
    "duration": 0,
    "start_time": "2022-07-02T10:07:54.385Z"
   },
   {
    "duration": 45,
    "start_time": "2022-07-02T10:08:18.725Z"
   },
   {
    "duration": 4,
    "start_time": "2022-07-02T10:08:51.730Z"
   },
   {
    "duration": 165,
    "start_time": "2022-07-02T10:08:55.440Z"
   },
   {
    "duration": 3,
    "start_time": "2022-07-02T10:09:26.728Z"
   },
   {
    "duration": 82,
    "start_time": "2022-07-02T10:09:26.733Z"
   },
   {
    "duration": 15,
    "start_time": "2022-07-02T10:09:26.817Z"
   },
   {
    "duration": 8,
    "start_time": "2022-07-02T10:09:26.834Z"
   },
   {
    "duration": 23,
    "start_time": "2022-07-02T10:09:26.843Z"
   },
   {
    "duration": 16,
    "start_time": "2022-07-02T10:09:26.868Z"
   },
   {
    "duration": 45,
    "start_time": "2022-07-02T10:09:26.886Z"
   },
   {
    "duration": 12,
    "start_time": "2022-07-02T10:09:26.932Z"
   },
   {
    "duration": 14,
    "start_time": "2022-07-02T10:09:26.946Z"
   },
   {
    "duration": 14,
    "start_time": "2022-07-02T10:09:26.961Z"
   },
   {
    "duration": 15,
    "start_time": "2022-07-02T10:09:26.977Z"
   },
   {
    "duration": 3,
    "start_time": "2022-07-02T10:09:26.993Z"
   },
   {
    "duration": 35,
    "start_time": "2022-07-02T10:09:26.998Z"
   },
   {
    "duration": 7,
    "start_time": "2022-07-02T10:09:27.036Z"
   },
   {
    "duration": 11,
    "start_time": "2022-07-02T10:09:27.045Z"
   },
   {
    "duration": 697,
    "start_time": "2022-07-02T10:09:27.057Z"
   },
   {
    "duration": 11,
    "start_time": "2022-07-02T10:09:27.756Z"
   },
   {
    "duration": 3,
    "start_time": "2022-07-02T10:09:27.769Z"
   },
   {
    "duration": 113,
    "start_time": "2022-07-02T10:09:27.774Z"
   },
   {
    "duration": 22,
    "start_time": "2022-07-02T10:09:27.888Z"
   },
   {
    "duration": 17,
    "start_time": "2022-07-02T10:09:27.912Z"
   },
   {
    "duration": 15,
    "start_time": "2022-07-02T10:09:27.931Z"
   },
   {
    "duration": 19,
    "start_time": "2022-07-02T10:09:27.948Z"
   },
   {
    "duration": 12,
    "start_time": "2022-07-02T10:09:27.969Z"
   },
   {
    "duration": 8,
    "start_time": "2022-07-02T10:09:27.983Z"
   },
   {
    "duration": 72,
    "start_time": "2022-07-02T10:09:27.993Z"
   },
   {
    "duration": 10,
    "start_time": "2022-07-02T10:09:28.067Z"
   },
   {
    "duration": 10,
    "start_time": "2022-07-02T10:09:28.079Z"
   },
   {
    "duration": 418,
    "start_time": "2022-07-02T10:09:28.091Z"
   },
   {
    "duration": 61,
    "start_time": "2022-07-02T10:09:28.510Z"
   },
   {
    "duration": 14,
    "start_time": "2022-07-02T10:09:28.572Z"
   },
   {
    "duration": 9,
    "start_time": "2022-07-02T10:09:28.588Z"
   },
   {
    "duration": 38,
    "start_time": "2022-07-02T10:09:28.598Z"
   },
   {
    "duration": 2,
    "start_time": "2022-07-02T10:09:28.638Z"
   },
   {
    "duration": 6,
    "start_time": "2022-07-02T10:09:28.642Z"
   },
   {
    "duration": 167,
    "start_time": "2022-07-02T10:09:28.650Z"
   },
   {
    "duration": 1346,
    "start_time": "2022-07-02T10:09:28.819Z"
   },
   {
    "duration": 5,
    "start_time": "2022-07-02T10:09:30.166Z"
   },
   {
    "duration": 16,
    "start_time": "2022-07-02T10:09:30.173Z"
   },
   {
    "duration": 18,
    "start_time": "2022-07-02T10:09:30.190Z"
   },
   {
    "duration": 0,
    "start_time": "2022-07-02T10:09:30.210Z"
   },
   {
    "duration": 0,
    "start_time": "2022-07-02T10:09:30.211Z"
   },
   {
    "duration": 19,
    "start_time": "2022-07-02T10:11:06.124Z"
   },
   {
    "duration": 4,
    "start_time": "2022-07-02T10:11:43.173Z"
   },
   {
    "duration": 73,
    "start_time": "2022-07-02T10:11:43.184Z"
   },
   {
    "duration": 14,
    "start_time": "2022-07-02T10:11:43.259Z"
   },
   {
    "duration": 11,
    "start_time": "2022-07-02T10:11:43.274Z"
   },
   {
    "duration": 20,
    "start_time": "2022-07-02T10:11:43.287Z"
   },
   {
    "duration": 16,
    "start_time": "2022-07-02T10:11:43.329Z"
   },
   {
    "duration": 16,
    "start_time": "2022-07-02T10:11:43.346Z"
   },
   {
    "duration": 12,
    "start_time": "2022-07-02T10:11:43.363Z"
   },
   {
    "duration": 14,
    "start_time": "2022-07-02T10:11:43.377Z"
   },
   {
    "duration": 37,
    "start_time": "2022-07-02T10:11:43.392Z"
   },
   {
    "duration": 13,
    "start_time": "2022-07-02T10:11:43.431Z"
   },
   {
    "duration": 94,
    "start_time": "2022-07-02T10:11:43.446Z"
   },
   {
    "duration": 9,
    "start_time": "2022-07-02T10:11:43.542Z"
   },
   {
    "duration": 8,
    "start_time": "2022-07-02T10:11:43.552Z"
   },
   {
    "duration": 14,
    "start_time": "2022-07-02T10:11:43.563Z"
   },
   {
    "duration": 753,
    "start_time": "2022-07-02T10:11:43.579Z"
   },
   {
    "duration": 11,
    "start_time": "2022-07-02T10:11:44.333Z"
   },
   {
    "duration": 3,
    "start_time": "2022-07-02T10:11:44.345Z"
   },
   {
    "duration": 114,
    "start_time": "2022-07-02T10:11:44.349Z"
   },
   {
    "duration": 30,
    "start_time": "2022-07-02T10:11:44.464Z"
   },
   {
    "duration": 6,
    "start_time": "2022-07-02T10:11:44.496Z"
   },
   {
    "duration": 31,
    "start_time": "2022-07-02T10:11:44.503Z"
   },
   {
    "duration": 20,
    "start_time": "2022-07-02T10:11:44.536Z"
   },
   {
    "duration": 9,
    "start_time": "2022-07-02T10:11:44.557Z"
   },
   {
    "duration": 8,
    "start_time": "2022-07-02T10:11:44.567Z"
   },
   {
    "duration": 60,
    "start_time": "2022-07-02T10:11:44.576Z"
   },
   {
    "duration": 10,
    "start_time": "2022-07-02T10:11:44.637Z"
   },
   {
    "duration": 10,
    "start_time": "2022-07-02T10:11:44.649Z"
   },
   {
    "duration": 424,
    "start_time": "2022-07-02T10:11:44.660Z"
   },
   {
    "duration": 49,
    "start_time": "2022-07-02T10:11:45.086Z"
   },
   {
    "duration": 17,
    "start_time": "2022-07-02T10:11:45.137Z"
   },
   {
    "duration": 21,
    "start_time": "2022-07-02T10:11:45.156Z"
   },
   {
    "duration": 20,
    "start_time": "2022-07-02T10:11:45.179Z"
   },
   {
    "duration": 3,
    "start_time": "2022-07-02T10:11:45.200Z"
   },
   {
    "duration": 26,
    "start_time": "2022-07-02T10:11:45.205Z"
   },
   {
    "duration": 202,
    "start_time": "2022-07-02T10:11:45.233Z"
   },
   {
    "duration": 1031,
    "start_time": "2022-07-02T10:11:45.436Z"
   },
   {
    "duration": 5,
    "start_time": "2022-07-02T10:11:46.469Z"
   },
   {
    "duration": 16,
    "start_time": "2022-07-02T10:11:46.475Z"
   },
   {
    "duration": 16,
    "start_time": "2022-07-02T10:11:46.492Z"
   },
   {
    "duration": 7,
    "start_time": "2022-07-02T10:11:46.510Z"
   },
   {
    "duration": 13,
    "start_time": "2022-07-02T10:11:46.530Z"
   },
   {
    "duration": 163,
    "start_time": "2022-07-02T10:25:14.338Z"
   },
   {
    "duration": 6,
    "start_time": "2022-07-02T10:38:59.078Z"
   },
   {
    "duration": 9,
    "start_time": "2022-07-02T10:39:34.879Z"
   },
   {
    "duration": 14,
    "start_time": "2022-07-02T10:42:31.664Z"
   },
   {
    "duration": 14,
    "start_time": "2022-07-02T10:42:35.702Z"
   },
   {
    "duration": 6,
    "start_time": "2022-07-02T10:43:13.818Z"
   },
   {
    "duration": 3,
    "start_time": "2022-07-02T10:43:47.453Z"
   },
   {
    "duration": 76,
    "start_time": "2022-07-02T10:43:47.459Z"
   },
   {
    "duration": 19,
    "start_time": "2022-07-02T10:43:47.543Z"
   },
   {
    "duration": 13,
    "start_time": "2022-07-02T10:43:47.565Z"
   },
   {
    "duration": 25,
    "start_time": "2022-07-02T10:43:47.580Z"
   },
   {
    "duration": 35,
    "start_time": "2022-07-02T10:43:47.607Z"
   },
   {
    "duration": 15,
    "start_time": "2022-07-02T10:43:47.644Z"
   },
   {
    "duration": 13,
    "start_time": "2022-07-02T10:43:47.661Z"
   },
   {
    "duration": 10,
    "start_time": "2022-07-02T10:43:47.675Z"
   },
   {
    "duration": 13,
    "start_time": "2022-07-02T10:43:47.687Z"
   },
   {
    "duration": 42,
    "start_time": "2022-07-02T10:43:47.703Z"
   },
   {
    "duration": 3,
    "start_time": "2022-07-02T10:43:47.747Z"
   },
   {
    "duration": 13,
    "start_time": "2022-07-02T10:43:47.751Z"
   },
   {
    "duration": 6,
    "start_time": "2022-07-02T10:43:47.766Z"
   },
   {
    "duration": 13,
    "start_time": "2022-07-02T10:43:47.773Z"
   },
   {
    "duration": 773,
    "start_time": "2022-07-02T10:43:47.788Z"
   },
   {
    "duration": 13,
    "start_time": "2022-07-02T10:43:48.563Z"
   },
   {
    "duration": 8,
    "start_time": "2022-07-02T10:43:48.577Z"
   },
   {
    "duration": 144,
    "start_time": "2022-07-02T10:43:48.587Z"
   },
   {
    "duration": 26,
    "start_time": "2022-07-02T10:43:48.736Z"
   },
   {
    "duration": 7,
    "start_time": "2022-07-02T10:43:48.764Z"
   },
   {
    "duration": 19,
    "start_time": "2022-07-02T10:43:48.773Z"
   },
   {
    "duration": 49,
    "start_time": "2022-07-02T10:43:48.793Z"
   },
   {
    "duration": 15,
    "start_time": "2022-07-02T10:43:48.843Z"
   },
   {
    "duration": 8,
    "start_time": "2022-07-02T10:43:48.860Z"
   },
   {
    "duration": 78,
    "start_time": "2022-07-02T10:43:48.870Z"
   },
   {
    "duration": 13,
    "start_time": "2022-07-02T10:43:48.951Z"
   },
   {
    "duration": 13,
    "start_time": "2022-07-02T10:43:48.965Z"
   },
   {
    "duration": 492,
    "start_time": "2022-07-02T10:43:48.981Z"
   },
   {
    "duration": 162,
    "start_time": "2022-07-02T10:43:49.476Z"
   },
   {
    "duration": 19,
    "start_time": "2022-07-02T10:43:49.640Z"
   },
   {
    "duration": 14,
    "start_time": "2022-07-02T10:43:49.661Z"
   },
   {
    "duration": 26,
    "start_time": "2022-07-02T10:43:49.677Z"
   },
   {
    "duration": 40,
    "start_time": "2022-07-02T10:43:49.706Z"
   },
   {
    "duration": 10,
    "start_time": "2022-07-02T10:43:49.748Z"
   },
   {
    "duration": 6,
    "start_time": "2022-07-02T10:43:49.760Z"
   },
   {
    "duration": 252,
    "start_time": "2022-07-02T10:43:49.767Z"
   },
   {
    "duration": 0,
    "start_time": "2022-07-02T10:43:50.021Z"
   },
   {
    "duration": 1,
    "start_time": "2022-07-02T10:43:50.022Z"
   },
   {
    "duration": 0,
    "start_time": "2022-07-02T10:43:50.032Z"
   },
   {
    "duration": 0,
    "start_time": "2022-07-02T10:43:50.039Z"
   },
   {
    "duration": 0,
    "start_time": "2022-07-02T10:43:50.041Z"
   },
   {
    "duration": 0,
    "start_time": "2022-07-02T10:43:50.046Z"
   },
   {
    "duration": 8,
    "start_time": "2022-07-02T10:44:07.509Z"
   },
   {
    "duration": 183,
    "start_time": "2022-07-02T10:48:16.450Z"
   },
   {
    "duration": 253,
    "start_time": "2022-07-02T10:49:36.348Z"
   },
   {
    "duration": 22,
    "start_time": "2022-07-02T11:01:31.516Z"
   },
   {
    "duration": 21,
    "start_time": "2022-07-02T11:01:45.068Z"
   },
   {
    "duration": 13,
    "start_time": "2022-07-02T11:02:04.489Z"
   },
   {
    "duration": 7,
    "start_time": "2022-07-02T11:02:08.202Z"
   },
   {
    "duration": 6,
    "start_time": "2022-07-02T11:02:23.994Z"
   },
   {
    "duration": 9,
    "start_time": "2022-07-02T11:02:25.055Z"
   },
   {
    "duration": 23,
    "start_time": "2022-07-02T11:02:49.295Z"
   },
   {
    "duration": 5,
    "start_time": "2022-07-02T11:03:27.060Z"
   },
   {
    "duration": 6,
    "start_time": "2022-07-02T11:03:29.390Z"
   },
   {
    "duration": 6,
    "start_time": "2022-07-02T11:03:53.093Z"
   },
   {
    "duration": 6,
    "start_time": "2022-07-02T11:03:54.087Z"
   },
   {
    "duration": 5,
    "start_time": "2022-07-02T11:08:37.667Z"
   },
   {
    "duration": 7,
    "start_time": "2022-07-02T11:08:38.622Z"
   },
   {
    "duration": 3,
    "start_time": "2022-07-02T11:08:44.158Z"
   },
   {
    "duration": 72,
    "start_time": "2022-07-02T11:08:44.164Z"
   },
   {
    "duration": 10,
    "start_time": "2022-07-02T11:08:44.238Z"
   },
   {
    "duration": 11,
    "start_time": "2022-07-02T11:08:44.249Z"
   },
   {
    "duration": 19,
    "start_time": "2022-07-02T11:08:44.262Z"
   },
   {
    "duration": 15,
    "start_time": "2022-07-02T11:08:44.282Z"
   },
   {
    "duration": 37,
    "start_time": "2022-07-02T11:08:44.298Z"
   },
   {
    "duration": 11,
    "start_time": "2022-07-02T11:08:44.336Z"
   },
   {
    "duration": 10,
    "start_time": "2022-07-02T11:08:44.348Z"
   },
   {
    "duration": 12,
    "start_time": "2022-07-02T11:08:44.359Z"
   },
   {
    "duration": 14,
    "start_time": "2022-07-02T11:08:44.373Z"
   },
   {
    "duration": 3,
    "start_time": "2022-07-02T11:08:44.388Z"
   },
   {
    "duration": 40,
    "start_time": "2022-07-02T11:08:44.392Z"
   },
   {
    "duration": 6,
    "start_time": "2022-07-02T11:08:44.435Z"
   },
   {
    "duration": 11,
    "start_time": "2022-07-02T11:08:44.442Z"
   },
   {
    "duration": 665,
    "start_time": "2022-07-02T11:08:44.454Z"
   },
   {
    "duration": 11,
    "start_time": "2022-07-02T11:08:45.121Z"
   },
   {
    "duration": 2,
    "start_time": "2022-07-02T11:08:45.134Z"
   },
   {
    "duration": 119,
    "start_time": "2022-07-02T11:08:45.138Z"
   },
   {
    "duration": 22,
    "start_time": "2022-07-02T11:08:45.259Z"
   },
   {
    "duration": 8,
    "start_time": "2022-07-02T11:08:45.283Z"
   },
   {
    "duration": 39,
    "start_time": "2022-07-02T11:08:45.293Z"
   },
   {
    "duration": 21,
    "start_time": "2022-07-02T11:08:45.334Z"
   },
   {
    "duration": 9,
    "start_time": "2022-07-02T11:08:45.357Z"
   },
   {
    "duration": 7,
    "start_time": "2022-07-02T11:08:45.368Z"
   },
   {
    "duration": 69,
    "start_time": "2022-07-02T11:08:45.376Z"
   },
   {
    "duration": 12,
    "start_time": "2022-07-02T11:08:45.447Z"
   },
   {
    "duration": 11,
    "start_time": "2022-07-02T11:08:45.460Z"
   },
   {
    "duration": 447,
    "start_time": "2022-07-02T11:08:45.473Z"
   },
   {
    "duration": 46,
    "start_time": "2022-07-02T11:08:45.921Z"
   },
   {
    "duration": 14,
    "start_time": "2022-07-02T11:08:45.969Z"
   },
   {
    "duration": 15,
    "start_time": "2022-07-02T11:08:45.985Z"
   },
   {
    "duration": 37,
    "start_time": "2022-07-02T11:08:46.002Z"
   },
   {
    "duration": 7,
    "start_time": "2022-07-02T11:08:46.042Z"
   },
   {
    "duration": 13,
    "start_time": "2022-07-02T11:08:46.051Z"
   },
   {
    "duration": 79,
    "start_time": "2022-07-02T11:08:46.066Z"
   },
   {
    "duration": 0,
    "start_time": "2022-07-02T11:08:46.147Z"
   },
   {
    "duration": 0,
    "start_time": "2022-07-02T11:08:46.149Z"
   },
   {
    "duration": 0,
    "start_time": "2022-07-02T11:08:46.150Z"
   },
   {
    "duration": 0,
    "start_time": "2022-07-02T11:08:46.151Z"
   },
   {
    "duration": 0,
    "start_time": "2022-07-02T11:08:46.153Z"
   },
   {
    "duration": 0,
    "start_time": "2022-07-02T11:08:46.154Z"
   },
   {
    "duration": 0,
    "start_time": "2022-07-02T11:08:46.155Z"
   },
   {
    "duration": 6,
    "start_time": "2022-07-02T11:10:31.091Z"
   },
   {
    "duration": 6,
    "start_time": "2022-07-02T11:10:32.373Z"
   },
   {
    "duration": 3,
    "start_time": "2022-07-02T11:12:21.465Z"
   },
   {
    "duration": 189,
    "start_time": "2022-07-02T11:12:22.857Z"
   },
   {
    "duration": 195,
    "start_time": "2022-07-02T11:14:06.571Z"
   },
   {
    "duration": 3,
    "start_time": "2022-07-02T11:50:33.274Z"
   },
   {
    "duration": 77,
    "start_time": "2022-07-02T11:50:33.279Z"
   },
   {
    "duration": 11,
    "start_time": "2022-07-02T11:50:33.358Z"
   },
   {
    "duration": 7,
    "start_time": "2022-07-02T11:50:33.370Z"
   },
   {
    "duration": 19,
    "start_time": "2022-07-02T11:50:33.379Z"
   },
   {
    "duration": 45,
    "start_time": "2022-07-02T11:50:33.400Z"
   },
   {
    "duration": 17,
    "start_time": "2022-07-02T11:50:33.447Z"
   },
   {
    "duration": 12,
    "start_time": "2022-07-02T11:50:33.465Z"
   },
   {
    "duration": 9,
    "start_time": "2022-07-02T11:50:33.480Z"
   },
   {
    "duration": 11,
    "start_time": "2022-07-02T11:50:33.490Z"
   },
   {
    "duration": 46,
    "start_time": "2022-07-02T11:50:33.503Z"
   },
   {
    "duration": 3,
    "start_time": "2022-07-02T11:50:33.551Z"
   },
   {
    "duration": 14,
    "start_time": "2022-07-02T11:50:33.556Z"
   },
   {
    "duration": 11,
    "start_time": "2022-07-02T11:50:33.572Z"
   },
   {
    "duration": 18,
    "start_time": "2022-07-02T11:50:33.585Z"
   },
   {
    "duration": 757,
    "start_time": "2022-07-02T11:50:33.605Z"
   },
   {
    "duration": 11,
    "start_time": "2022-07-02T11:50:34.364Z"
   },
   {
    "duration": 2,
    "start_time": "2022-07-02T11:50:34.376Z"
   },
   {
    "duration": 202,
    "start_time": "2022-07-02T11:50:34.380Z"
   },
   {
    "duration": 19,
    "start_time": "2022-07-02T11:50:34.584Z"
   },
   {
    "duration": 5,
    "start_time": "2022-07-02T11:50:34.605Z"
   },
   {
    "duration": 32,
    "start_time": "2022-07-02T11:50:34.612Z"
   },
   {
    "duration": 24,
    "start_time": "2022-07-02T11:50:34.645Z"
   },
   {
    "duration": 9,
    "start_time": "2022-07-02T11:50:34.671Z"
   },
   {
    "duration": 7,
    "start_time": "2022-07-02T11:50:34.682Z"
   },
   {
    "duration": 56,
    "start_time": "2022-07-02T11:50:34.691Z"
   },
   {
    "duration": 10,
    "start_time": "2022-07-02T11:50:34.749Z"
   },
   {
    "duration": 10,
    "start_time": "2022-07-02T11:50:34.761Z"
   },
   {
    "duration": 461,
    "start_time": "2022-07-02T11:50:34.774Z"
   },
   {
    "duration": 45,
    "start_time": "2022-07-02T11:50:35.236Z"
   },
   {
    "duration": 14,
    "start_time": "2022-07-02T11:50:35.283Z"
   },
   {
    "duration": 33,
    "start_time": "2022-07-02T11:50:35.299Z"
   },
   {
    "duration": 18,
    "start_time": "2022-07-02T11:50:35.337Z"
   },
   {
    "duration": 6,
    "start_time": "2022-07-02T11:50:35.356Z"
   },
   {
    "duration": 9,
    "start_time": "2022-07-02T11:50:35.364Z"
   },
   {
    "duration": 4,
    "start_time": "2022-07-02T11:50:35.375Z"
   },
   {
    "duration": 3,
    "start_time": "2022-07-02T11:50:36.577Z"
   },
   {
    "duration": 81,
    "start_time": "2022-07-02T11:50:36.582Z"
   },
   {
    "duration": 13,
    "start_time": "2022-07-02T11:50:36.665Z"
   },
   {
    "duration": 8,
    "start_time": "2022-07-02T11:50:36.679Z"
   },
   {
    "duration": 45,
    "start_time": "2022-07-02T11:50:36.689Z"
   },
   {
    "duration": 18,
    "start_time": "2022-07-02T11:50:36.737Z"
   },
   {
    "duration": 15,
    "start_time": "2022-07-02T11:50:36.756Z"
   },
   {
    "duration": 11,
    "start_time": "2022-07-02T11:50:36.773Z"
   },
   {
    "duration": 11,
    "start_time": "2022-07-02T11:50:36.785Z"
   },
   {
    "duration": 47,
    "start_time": "2022-07-02T11:50:36.798Z"
   },
   {
    "duration": 16,
    "start_time": "2022-07-02T11:50:36.850Z"
   },
   {
    "duration": 2,
    "start_time": "2022-07-02T11:50:36.869Z"
   },
   {
    "duration": 13,
    "start_time": "2022-07-02T11:50:36.873Z"
   },
   {
    "duration": 14,
    "start_time": "2022-07-02T11:50:36.888Z"
   },
   {
    "duration": 38,
    "start_time": "2022-07-02T11:50:36.904Z"
   },
   {
    "duration": 723,
    "start_time": "2022-07-02T11:50:36.943Z"
   },
   {
    "duration": 11,
    "start_time": "2022-07-02T11:50:37.667Z"
   },
   {
    "duration": 12,
    "start_time": "2022-07-02T11:50:37.680Z"
   },
   {
    "duration": 120,
    "start_time": "2022-07-02T11:50:37.693Z"
   },
   {
    "duration": 32,
    "start_time": "2022-07-02T11:50:37.814Z"
   },
   {
    "duration": 5,
    "start_time": "2022-07-02T11:50:37.848Z"
   },
   {
    "duration": 30,
    "start_time": "2022-07-02T11:50:37.854Z"
   },
   {
    "duration": 35,
    "start_time": "2022-07-02T11:50:37.886Z"
   },
   {
    "duration": 45,
    "start_time": "2022-07-02T11:50:37.922Z"
   },
   {
    "duration": 16,
    "start_time": "2022-07-02T11:50:37.969Z"
   },
   {
    "duration": 67,
    "start_time": "2022-07-02T11:50:37.987Z"
   },
   {
    "duration": 12,
    "start_time": "2022-07-02T11:50:38.056Z"
   },
   {
    "duration": 26,
    "start_time": "2022-07-02T11:50:38.070Z"
   },
   {
    "duration": 418,
    "start_time": "2022-07-02T11:50:38.099Z"
   },
   {
    "duration": 55,
    "start_time": "2022-07-02T11:50:38.519Z"
   },
   {
    "duration": 13,
    "start_time": "2022-07-02T11:50:38.575Z"
   },
   {
    "duration": 37,
    "start_time": "2022-07-02T11:50:38.590Z"
   },
   {
    "duration": 50,
    "start_time": "2022-07-02T11:50:38.628Z"
   },
   {
    "duration": 11,
    "start_time": "2022-07-02T11:50:38.679Z"
   },
   {
    "duration": 12,
    "start_time": "2022-07-02T11:50:38.691Z"
   },
   {
    "duration": 27,
    "start_time": "2022-07-02T11:50:38.704Z"
   },
   {
    "duration": 223,
    "start_time": "2022-07-02T11:50:38.734Z"
   },
   {
    "duration": 1199,
    "start_time": "2022-07-02T11:50:38.959Z"
   },
   {
    "duration": 5,
    "start_time": "2022-07-02T11:50:40.160Z"
   },
   {
    "duration": 16,
    "start_time": "2022-07-02T11:50:40.167Z"
   },
   {
    "duration": 13,
    "start_time": "2022-07-02T11:50:40.184Z"
   },
   {
    "duration": 6,
    "start_time": "2022-07-02T11:50:40.198Z"
   },
   {
    "duration": 39,
    "start_time": "2022-07-02T11:50:40.205Z"
   },
   {
    "duration": 1163,
    "start_time": "2022-07-02T11:56:01.291Z"
   },
   {
    "duration": 92,
    "start_time": "2022-07-02T11:56:02.455Z"
   },
   {
    "duration": 15,
    "start_time": "2022-07-02T11:56:02.549Z"
   },
   {
    "duration": 21,
    "start_time": "2022-07-02T11:56:02.566Z"
   },
   {
    "duration": 21,
    "start_time": "2022-07-02T11:56:02.589Z"
   },
   {
    "duration": 27,
    "start_time": "2022-07-02T11:56:02.611Z"
   },
   {
    "duration": 24,
    "start_time": "2022-07-02T11:56:02.641Z"
   },
   {
    "duration": 15,
    "start_time": "2022-07-02T11:56:02.667Z"
   },
   {
    "duration": 11,
    "start_time": "2022-07-02T11:56:02.684Z"
   },
   {
    "duration": 10,
    "start_time": "2022-07-02T11:56:02.698Z"
   },
   {
    "duration": 37,
    "start_time": "2022-07-02T11:56:02.710Z"
   },
   {
    "duration": 4,
    "start_time": "2022-07-02T11:56:02.749Z"
   },
   {
    "duration": 12,
    "start_time": "2022-07-02T11:56:02.754Z"
   },
   {
    "duration": 10,
    "start_time": "2022-07-02T11:56:02.768Z"
   },
   {
    "duration": 13,
    "start_time": "2022-07-02T11:56:02.780Z"
   },
   {
    "duration": 738,
    "start_time": "2022-07-02T11:56:02.794Z"
   },
   {
    "duration": 18,
    "start_time": "2022-07-02T11:56:03.537Z"
   },
   {
    "duration": 3,
    "start_time": "2022-07-02T11:56:03.556Z"
   },
   {
    "duration": 139,
    "start_time": "2022-07-02T11:56:03.561Z"
   },
   {
    "duration": 83,
    "start_time": "2022-07-02T11:56:03.703Z"
   },
   {
    "duration": 8,
    "start_time": "2022-07-02T11:56:03.788Z"
   },
   {
    "duration": 34,
    "start_time": "2022-07-02T11:56:03.798Z"
   },
   {
    "duration": 33,
    "start_time": "2022-07-02T11:56:03.834Z"
   },
   {
    "duration": 14,
    "start_time": "2022-07-02T11:56:03.869Z"
   },
   {
    "duration": 9,
    "start_time": "2022-07-02T11:56:03.884Z"
   },
   {
    "duration": 85,
    "start_time": "2022-07-02T11:56:03.895Z"
   },
   {
    "duration": 21,
    "start_time": "2022-07-02T11:56:03.982Z"
   },
   {
    "duration": 31,
    "start_time": "2022-07-02T11:56:04.007Z"
   },
   {
    "duration": 539,
    "start_time": "2022-07-02T11:56:04.040Z"
   },
   {
    "duration": 61,
    "start_time": "2022-07-02T11:56:04.580Z"
   },
   {
    "duration": 16,
    "start_time": "2022-07-02T11:56:04.642Z"
   },
   {
    "duration": 16,
    "start_time": "2022-07-02T11:56:04.660Z"
   },
   {
    "duration": 23,
    "start_time": "2022-07-02T11:56:04.678Z"
   },
   {
    "duration": 9,
    "start_time": "2022-07-02T11:56:04.703Z"
   },
   {
    "duration": 10,
    "start_time": "2022-07-02T11:56:04.733Z"
   },
   {
    "duration": 11,
    "start_time": "2022-07-02T11:56:04.744Z"
   },
   {
    "duration": 196,
    "start_time": "2022-07-02T11:56:04.758Z"
   },
   {
    "duration": 1356,
    "start_time": "2022-07-02T11:56:04.956Z"
   },
   {
    "duration": 7,
    "start_time": "2022-07-02T11:56:06.314Z"
   },
   {
    "duration": 58,
    "start_time": "2022-07-02T11:56:06.323Z"
   },
   {
    "duration": 40,
    "start_time": "2022-07-02T11:56:06.383Z"
   },
   {
    "duration": 30,
    "start_time": "2022-07-02T11:56:06.425Z"
   },
   {
    "duration": 46,
    "start_time": "2022-07-02T11:56:06.457Z"
   }
  ],
  "kernelspec": {
   "display_name": "Python 3 (ipykernel)",
   "language": "python",
   "name": "python3"
  },
  "language_info": {
   "codemirror_mode": {
    "name": "ipython",
    "version": 3
   },
   "file_extension": ".py",
   "mimetype": "text/x-python",
   "name": "python",
   "nbconvert_exporter": "python",
   "pygments_lexer": "ipython3",
   "version": "3.9.5"
  },
  "toc": {
   "base_numbering": 1,
   "nav_menu": {},
   "number_sections": true,
   "sideBar": true,
   "skip_h1_title": true,
   "title_cell": "Содержание",
   "title_sidebar": "Contents",
   "toc_cell": true,
   "toc_position": {},
   "toc_section_display": true,
   "toc_window_display": true
  }
 },
 "nbformat": 4,
 "nbformat_minor": 2
}
