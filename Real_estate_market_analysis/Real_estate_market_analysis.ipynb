{
 "cells": [
  {
   "cell_type": "markdown",
   "metadata": {
    "toc": true
   },
   "source": [
    "<h1>Содержание<span class=\"tocSkip\"></span></h1>\n",
    "<div class=\"toc\"><ul class=\"toc-item\"><li><span><a href=\"#Изучение-данных-из-файла\" data-toc-modified-id=\"Изучение-данных-из-файла-1\"><span class=\"toc-item-num\">1&nbsp;&nbsp;</span>Изучение данных из файла</a></span><ul class=\"toc-item\"><li><span><a href=\"#Вывод\" data-toc-modified-id=\"Вывод-1.1\"><span class=\"toc-item-num\">1.1&nbsp;&nbsp;</span>Вывод</a></span></li></ul></li><li><span><a href=\"#Предобработка-данных\" data-toc-modified-id=\"Предобработка-данных-2\"><span class=\"toc-item-num\">2&nbsp;&nbsp;</span>Предобработка данных</a></span><ul class=\"toc-item\"><li><span><a href=\"#Обработка-пропусков\" data-toc-modified-id=\"Обработка-пропусков-2.1\"><span class=\"toc-item-num\">2.1&nbsp;&nbsp;</span>Обработка пропусков</a></span></li><li><span><a href=\"#Замена-типа-данных\" data-toc-modified-id=\"Замена-типа-данных-2.2\"><span class=\"toc-item-num\">2.2&nbsp;&nbsp;</span>Замена типа данных</a></span></li></ul></li><li><span><a href=\"#Расчёты-и-добавление-результатов-в-таблицу\" data-toc-modified-id=\"Расчёты-и-добавление-результатов-в-таблицу-3\"><span class=\"toc-item-num\">3&nbsp;&nbsp;</span>Расчёты и добавление результатов в таблицу</a></span><ul class=\"toc-item\"><li><span><a href=\"#цена-квадратного-метра\" data-toc-modified-id=\"цена-квадратного-метра-3.1\"><span class=\"toc-item-num\">3.1&nbsp;&nbsp;</span>цена квадратного метра</a></span></li><li><span><a href=\"#День-недели,-месяц-и-год-публикации-объявления\" data-toc-modified-id=\"День-недели,-месяц-и-год-публикации-объявления-3.2\"><span class=\"toc-item-num\">3.2&nbsp;&nbsp;</span>День недели, месяц и год публикации объявления</a></span></li><li><span><a href=\"#Этаж-квартиры\" data-toc-modified-id=\"Этаж-квартиры-3.3\"><span class=\"toc-item-num\">3.3&nbsp;&nbsp;</span>Этаж квартиры</a></span></li><li><span><a href=\"#Cоотношение-жилой-и-общей-площади,-а-также-отношение-площади-кухни-к-общей.\" data-toc-modified-id=\"Cоотношение-жилой-и-общей-площади,-а-также-отношение-площади-кухни-к-общей.-3.4\"><span class=\"toc-item-num\">3.4&nbsp;&nbsp;</span>Cоотношение жилой и общей площади, а также отношение площади кухни к общей.</a></span></li></ul></li><li><span><a href=\"#Исследовательский-анализ-данных\" data-toc-modified-id=\"Исследовательский-анализ-данных-4\"><span class=\"toc-item-num\">4&nbsp;&nbsp;</span>Исследовательский анализ данных</a></span><ul class=\"toc-item\"><li><span><a href=\"#Изучение-параметра:-Площадь\" data-toc-modified-id=\"Изучение-параметра:-Площадь-4.1\"><span class=\"toc-item-num\">4.1&nbsp;&nbsp;</span>Изучение параметра: Площадь</a></span></li><li><span><a href=\"#Изучение-праметра:-Цена\" data-toc-modified-id=\"Изучение-праметра:-Цена-4.2\"><span class=\"toc-item-num\">4.2&nbsp;&nbsp;</span>Изучение праметра: Цена</a></span></li><li><span><a href=\"#Изучение-праметра:-Число-комнат\" data-toc-modified-id=\"Изучение-праметра:-Число-комнат-4.3\"><span class=\"toc-item-num\">4.3&nbsp;&nbsp;</span>Изучение праметра: Число комнат</a></span></li><li><span><a href=\"#Изучение-праметра:-Высота-потолков\" data-toc-modified-id=\"Изучение-праметра:-Высота-потолков-4.4\"><span class=\"toc-item-num\">4.4&nbsp;&nbsp;</span>Изучение праметра: Высота потолков</a></span></li><li><span><a href=\"#Изучение-времени-продажи-квартиры\" data-toc-modified-id=\"Изучение-времени-продажи-квартиры-4.5\"><span class=\"toc-item-num\">4.5&nbsp;&nbsp;</span>Изучение времени продажи квартиры</a></span></li><li><span><a href=\"#Описание-редких-и-выбивающихся-значений\" data-toc-modified-id=\"Описание-редких-и-выбивающихся-значений-4.6\"><span class=\"toc-item-num\">4.6&nbsp;&nbsp;</span>Описание редких и выбивающихся значений</a></span></li><li><span><a href=\"#Факторы-больше-всего-влияющие-на-стоимость-квартиры\" data-toc-modified-id=\"Факторы-больше-всего-влияющие-на-стоимость-квартиры-4.7\"><span class=\"toc-item-num\">4.7&nbsp;&nbsp;</span>Факторы больше всего влияющие на стоимость квартиры</a></span></li><li><span><a href=\"#Изучение-предложения-квартир\" data-toc-modified-id=\"Изучение-предложения-квартир-4.8\"><span class=\"toc-item-num\">4.8&nbsp;&nbsp;</span>Изучение предложения квартир</a></span></li><li><span><a href=\"#Сегмент-квартир-в-центре\" data-toc-modified-id=\"Сегмент-квартир-в-центре-4.9\"><span class=\"toc-item-num\">4.9&nbsp;&nbsp;</span>Сегмент квартир в центре</a></span></li></ul></li><li><span><a href=\"#Общий-вывод\" data-toc-modified-id=\"Общий-вывод-5\"><span class=\"toc-item-num\">5&nbsp;&nbsp;</span>Общий вывод</a></span></li><li><span><a href=\"#Чек-лист-готовности-проекта\" data-toc-modified-id=\"Чек-лист-готовности-проекта-6\"><span class=\"toc-item-num\">6&nbsp;&nbsp;</span>Чек-лист готовности проекта</a></span></li></ul></div>"
   ]
  },
  {
   "cell_type": "markdown",
   "metadata": {},
   "source": [
    "# Исследование объявлений о продаже квартир\n",
    "\n",
    "В вашем распоряжении данные сервиса Яндекс.Недвижимость — архив объявлений о продаже квартир в Санкт-Петербурге и соседних населённых пунктах за несколько лет. Нужно научиться определять рыночную стоимость объектов недвижимости. Ваша задача — установить параметры. Это позволит построить автоматизированную систему: она отследит аномалии и мошенническую деятельность. \n",
    "\n",
    "По каждой квартире на продажу доступны два вида данных. Первые вписаны пользователем, вторые получены автоматически на основе картографических данных. Например, расстояние до центра, аэропорта, ближайшего парка и водоёма. "
   ]
  },
  {
   "cell_type": "markdown",
   "metadata": {},
   "source": [
    "## Изучение данных из файла"
   ]
  },
  {
   "cell_type": "code",
   "execution_count": 23,
   "metadata": {
    "scrolled": false
   },
   "outputs": [
    {
     "data": {
      "text/html": [
       "<div>\n",
       "<style scoped>\n",
       "    .dataframe tbody tr th:only-of-type {\n",
       "        vertical-align: middle;\n",
       "    }\n",
       "\n",
       "    .dataframe tbody tr th {\n",
       "        vertical-align: top;\n",
       "    }\n",
       "\n",
       "    .dataframe thead th {\n",
       "        text-align: right;\n",
       "    }\n",
       "</style>\n",
       "<table border=\"1\" class=\"dataframe\">\n",
       "  <thead>\n",
       "    <tr style=\"text-align: right;\">\n",
       "      <th></th>\n",
       "      <th>total_images\\tlast_price\\ttotal_area\\tfirst_day_exposition\\trooms\\tceiling_height\\tfloors_total\\tliving_area\\tfloor\\tis_apartment\\tstudio\\topen_plan\\tkitchen_area\\tbalcony\\tlocality_name\\tairports_nearest\\tcityCenters_nearest\\tparks_around3000\\tparks_nearest\\tponds_around3000\\tponds_nearest\\tdays_exposition</th>\n",
       "    </tr>\n",
       "  </thead>\n",
       "  <tbody>\n",
       "    <tr>\n",
       "      <th>0</th>\n",
       "      <td>20\\t13000000.0\\t108.0\\t2019-03-07T00:00:00\\t3\\...</td>\n",
       "    </tr>\n",
       "    <tr>\n",
       "      <th>1</th>\n",
       "      <td>7\\t3350000.0\\t40.4\\t2018-12-04T00:00:00\\t1\\t\\t...</td>\n",
       "    </tr>\n",
       "    <tr>\n",
       "      <th>2</th>\n",
       "      <td>10\\t5196000.0\\t56.0\\t2015-08-20T00:00:00\\t2\\t\\...</td>\n",
       "    </tr>\n",
       "    <tr>\n",
       "      <th>3</th>\n",
       "      <td>0\\t64900000.0\\t159.0\\t2015-07-24T00:00:00\\t3\\t...</td>\n",
       "    </tr>\n",
       "    <tr>\n",
       "      <th>4</th>\n",
       "      <td>2\\t10000000.0\\t100.0\\t2018-06-19T00:00:00\\t2\\t...</td>\n",
       "    </tr>\n",
       "    <tr>\n",
       "      <th>5</th>\n",
       "      <td>10\\t2890000.0\\t30.4\\t2018-09-10T00:00:00\\t1\\t\\...</td>\n",
       "    </tr>\n",
       "    <tr>\n",
       "      <th>6</th>\n",
       "      <td>6\\t3700000.0\\t37.3\\t2017-11-02T00:00:00\\t1\\t\\t...</td>\n",
       "    </tr>\n",
       "    <tr>\n",
       "      <th>7</th>\n",
       "      <td>5\\t7915000.0\\t71.6\\t2019-04-18T00:00:00\\t2\\t\\t...</td>\n",
       "    </tr>\n",
       "    <tr>\n",
       "      <th>8</th>\n",
       "      <td>20\\t2900000.0\\t33.16\\t2018-05-23T00:00:00\\t1\\t...</td>\n",
       "    </tr>\n",
       "    <tr>\n",
       "      <th>9</th>\n",
       "      <td>18\\t5400000.0\\t61.0\\t2017-02-26T00:00:00\\t3\\t2...</td>\n",
       "    </tr>\n",
       "  </tbody>\n",
       "</table>\n",
       "</div>"
      ],
      "text/plain": [
       "  total_images\\tlast_price\\ttotal_area\\tfirst_day_exposition\\trooms\\tceiling_height\\tfloors_total\\tliving_area\\tfloor\\tis_apartment\\tstudio\\topen_plan\\tkitchen_area\\tbalcony\\tlocality_name\\tairports_nearest\\tcityCenters_nearest\\tparks_around3000\\tparks_nearest\\tponds_around3000\\tponds_nearest\\tdays_exposition\n",
       "0  20\\t13000000.0\\t108.0\\t2019-03-07T00:00:00\\t3\\...                                                                                                                                                                                                                                                                  \n",
       "1  7\\t3350000.0\\t40.4\\t2018-12-04T00:00:00\\t1\\t\\t...                                                                                                                                                                                                                                                                  \n",
       "2  10\\t5196000.0\\t56.0\\t2015-08-20T00:00:00\\t2\\t\\...                                                                                                                                                                                                                                                                  \n",
       "3  0\\t64900000.0\\t159.0\\t2015-07-24T00:00:00\\t3\\t...                                                                                                                                                                                                                                                                  \n",
       "4  2\\t10000000.0\\t100.0\\t2018-06-19T00:00:00\\t2\\t...                                                                                                                                                                                                                                                                  \n",
       "5  10\\t2890000.0\\t30.4\\t2018-09-10T00:00:00\\t1\\t\\...                                                                                                                                                                                                                                                                  \n",
       "6  6\\t3700000.0\\t37.3\\t2017-11-02T00:00:00\\t1\\t\\t...                                                                                                                                                                                                                                                                  \n",
       "7  5\\t7915000.0\\t71.6\\t2019-04-18T00:00:00\\t2\\t\\t...                                                                                                                                                                                                                                                                  \n",
       "8  20\\t2900000.0\\t33.16\\t2018-05-23T00:00:00\\t1\\t...                                                                                                                                                                                                                                                                  \n",
       "9  18\\t5400000.0\\t61.0\\t2017-02-26T00:00:00\\t3\\t2...                                                                                                                                                                                                                                                                  "
      ]
     },
     "metadata": {},
     "output_type": "display_data"
    }
   ],
   "source": [
    "import pandas as pd\n",
    "data = pd.read_csv('/datasets/real_estate_data.csv')\n",
    "display(data.head(10))"
   ]
  },
  {
   "cell_type": "markdown",
   "metadata": {},
   "source": [
    "Данные склеились в одну строку вместо того, чтобы разбиться по колонкам, исправим это"
   ]
  },
  {
   "cell_type": "code",
   "execution_count": 24,
   "metadata": {
    "scrolled": true
   },
   "outputs": [
    {
     "data": {
      "text/html": [
       "<div>\n",
       "<style scoped>\n",
       "    .dataframe tbody tr th:only-of-type {\n",
       "        vertical-align: middle;\n",
       "    }\n",
       "\n",
       "    .dataframe tbody tr th {\n",
       "        vertical-align: top;\n",
       "    }\n",
       "\n",
       "    .dataframe thead th {\n",
       "        text-align: right;\n",
       "    }\n",
       "</style>\n",
       "<table border=\"1\" class=\"dataframe\">\n",
       "  <thead>\n",
       "    <tr style=\"text-align: right;\">\n",
       "      <th></th>\n",
       "      <th>total_images</th>\n",
       "      <th>last_price</th>\n",
       "      <th>total_area</th>\n",
       "      <th>first_day_exposition</th>\n",
       "      <th>rooms</th>\n",
       "      <th>ceiling_height</th>\n",
       "      <th>floors_total</th>\n",
       "      <th>living_area</th>\n",
       "      <th>floor</th>\n",
       "      <th>is_apartment</th>\n",
       "      <th>...</th>\n",
       "      <th>kitchen_area</th>\n",
       "      <th>balcony</th>\n",
       "      <th>locality_name</th>\n",
       "      <th>airports_nearest</th>\n",
       "      <th>cityCenters_nearest</th>\n",
       "      <th>parks_around3000</th>\n",
       "      <th>parks_nearest</th>\n",
       "      <th>ponds_around3000</th>\n",
       "      <th>ponds_nearest</th>\n",
       "      <th>days_exposition</th>\n",
       "    </tr>\n",
       "  </thead>\n",
       "  <tbody>\n",
       "    <tr>\n",
       "      <th>0</th>\n",
       "      <td>20</td>\n",
       "      <td>13000000.0</td>\n",
       "      <td>108.00</td>\n",
       "      <td>2019-03-07T00:00:00</td>\n",
       "      <td>3</td>\n",
       "      <td>2.70</td>\n",
       "      <td>16.0</td>\n",
       "      <td>51.00</td>\n",
       "      <td>8</td>\n",
       "      <td>NaN</td>\n",
       "      <td>...</td>\n",
       "      <td>25.00</td>\n",
       "      <td>NaN</td>\n",
       "      <td>Санкт-Петербург</td>\n",
       "      <td>18863.0</td>\n",
       "      <td>16028.0</td>\n",
       "      <td>1.0</td>\n",
       "      <td>482.0</td>\n",
       "      <td>2.0</td>\n",
       "      <td>755.0</td>\n",
       "      <td>NaN</td>\n",
       "    </tr>\n",
       "    <tr>\n",
       "      <th>1</th>\n",
       "      <td>7</td>\n",
       "      <td>3350000.0</td>\n",
       "      <td>40.40</td>\n",
       "      <td>2018-12-04T00:00:00</td>\n",
       "      <td>1</td>\n",
       "      <td>NaN</td>\n",
       "      <td>11.0</td>\n",
       "      <td>18.60</td>\n",
       "      <td>1</td>\n",
       "      <td>NaN</td>\n",
       "      <td>...</td>\n",
       "      <td>11.00</td>\n",
       "      <td>2.0</td>\n",
       "      <td>посёлок Шушары</td>\n",
       "      <td>12817.0</td>\n",
       "      <td>18603.0</td>\n",
       "      <td>0.0</td>\n",
       "      <td>NaN</td>\n",
       "      <td>0.0</td>\n",
       "      <td>NaN</td>\n",
       "      <td>81.0</td>\n",
       "    </tr>\n",
       "    <tr>\n",
       "      <th>2</th>\n",
       "      <td>10</td>\n",
       "      <td>5196000.0</td>\n",
       "      <td>56.00</td>\n",
       "      <td>2015-08-20T00:00:00</td>\n",
       "      <td>2</td>\n",
       "      <td>NaN</td>\n",
       "      <td>5.0</td>\n",
       "      <td>34.30</td>\n",
       "      <td>4</td>\n",
       "      <td>NaN</td>\n",
       "      <td>...</td>\n",
       "      <td>8.30</td>\n",
       "      <td>0.0</td>\n",
       "      <td>Санкт-Петербург</td>\n",
       "      <td>21741.0</td>\n",
       "      <td>13933.0</td>\n",
       "      <td>1.0</td>\n",
       "      <td>90.0</td>\n",
       "      <td>2.0</td>\n",
       "      <td>574.0</td>\n",
       "      <td>558.0</td>\n",
       "    </tr>\n",
       "    <tr>\n",
       "      <th>3</th>\n",
       "      <td>0</td>\n",
       "      <td>64900000.0</td>\n",
       "      <td>159.00</td>\n",
       "      <td>2015-07-24T00:00:00</td>\n",
       "      <td>3</td>\n",
       "      <td>NaN</td>\n",
       "      <td>14.0</td>\n",
       "      <td>NaN</td>\n",
       "      <td>9</td>\n",
       "      <td>NaN</td>\n",
       "      <td>...</td>\n",
       "      <td>NaN</td>\n",
       "      <td>0.0</td>\n",
       "      <td>Санкт-Петербург</td>\n",
       "      <td>28098.0</td>\n",
       "      <td>6800.0</td>\n",
       "      <td>2.0</td>\n",
       "      <td>84.0</td>\n",
       "      <td>3.0</td>\n",
       "      <td>234.0</td>\n",
       "      <td>424.0</td>\n",
       "    </tr>\n",
       "    <tr>\n",
       "      <th>4</th>\n",
       "      <td>2</td>\n",
       "      <td>10000000.0</td>\n",
       "      <td>100.00</td>\n",
       "      <td>2018-06-19T00:00:00</td>\n",
       "      <td>2</td>\n",
       "      <td>3.03</td>\n",
       "      <td>14.0</td>\n",
       "      <td>32.00</td>\n",
       "      <td>13</td>\n",
       "      <td>NaN</td>\n",
       "      <td>...</td>\n",
       "      <td>41.00</td>\n",
       "      <td>NaN</td>\n",
       "      <td>Санкт-Петербург</td>\n",
       "      <td>31856.0</td>\n",
       "      <td>8098.0</td>\n",
       "      <td>2.0</td>\n",
       "      <td>112.0</td>\n",
       "      <td>1.0</td>\n",
       "      <td>48.0</td>\n",
       "      <td>121.0</td>\n",
       "    </tr>\n",
       "    <tr>\n",
       "      <th>5</th>\n",
       "      <td>10</td>\n",
       "      <td>2890000.0</td>\n",
       "      <td>30.40</td>\n",
       "      <td>2018-09-10T00:00:00</td>\n",
       "      <td>1</td>\n",
       "      <td>NaN</td>\n",
       "      <td>12.0</td>\n",
       "      <td>14.40</td>\n",
       "      <td>5</td>\n",
       "      <td>NaN</td>\n",
       "      <td>...</td>\n",
       "      <td>9.10</td>\n",
       "      <td>NaN</td>\n",
       "      <td>городской посёлок Янино-1</td>\n",
       "      <td>NaN</td>\n",
       "      <td>NaN</td>\n",
       "      <td>NaN</td>\n",
       "      <td>NaN</td>\n",
       "      <td>NaN</td>\n",
       "      <td>NaN</td>\n",
       "      <td>55.0</td>\n",
       "    </tr>\n",
       "    <tr>\n",
       "      <th>6</th>\n",
       "      <td>6</td>\n",
       "      <td>3700000.0</td>\n",
       "      <td>37.30</td>\n",
       "      <td>2017-11-02T00:00:00</td>\n",
       "      <td>1</td>\n",
       "      <td>NaN</td>\n",
       "      <td>26.0</td>\n",
       "      <td>10.60</td>\n",
       "      <td>6</td>\n",
       "      <td>NaN</td>\n",
       "      <td>...</td>\n",
       "      <td>14.40</td>\n",
       "      <td>1.0</td>\n",
       "      <td>посёлок Парголово</td>\n",
       "      <td>52996.0</td>\n",
       "      <td>19143.0</td>\n",
       "      <td>0.0</td>\n",
       "      <td>NaN</td>\n",
       "      <td>0.0</td>\n",
       "      <td>NaN</td>\n",
       "      <td>155.0</td>\n",
       "    </tr>\n",
       "    <tr>\n",
       "      <th>7</th>\n",
       "      <td>5</td>\n",
       "      <td>7915000.0</td>\n",
       "      <td>71.60</td>\n",
       "      <td>2019-04-18T00:00:00</td>\n",
       "      <td>2</td>\n",
       "      <td>NaN</td>\n",
       "      <td>24.0</td>\n",
       "      <td>NaN</td>\n",
       "      <td>22</td>\n",
       "      <td>NaN</td>\n",
       "      <td>...</td>\n",
       "      <td>18.90</td>\n",
       "      <td>2.0</td>\n",
       "      <td>Санкт-Петербург</td>\n",
       "      <td>23982.0</td>\n",
       "      <td>11634.0</td>\n",
       "      <td>0.0</td>\n",
       "      <td>NaN</td>\n",
       "      <td>0.0</td>\n",
       "      <td>NaN</td>\n",
       "      <td>NaN</td>\n",
       "    </tr>\n",
       "    <tr>\n",
       "      <th>8</th>\n",
       "      <td>20</td>\n",
       "      <td>2900000.0</td>\n",
       "      <td>33.16</td>\n",
       "      <td>2018-05-23T00:00:00</td>\n",
       "      <td>1</td>\n",
       "      <td>NaN</td>\n",
       "      <td>27.0</td>\n",
       "      <td>15.43</td>\n",
       "      <td>26</td>\n",
       "      <td>NaN</td>\n",
       "      <td>...</td>\n",
       "      <td>8.81</td>\n",
       "      <td>NaN</td>\n",
       "      <td>посёлок Мурино</td>\n",
       "      <td>NaN</td>\n",
       "      <td>NaN</td>\n",
       "      <td>NaN</td>\n",
       "      <td>NaN</td>\n",
       "      <td>NaN</td>\n",
       "      <td>NaN</td>\n",
       "      <td>189.0</td>\n",
       "    </tr>\n",
       "    <tr>\n",
       "      <th>9</th>\n",
       "      <td>18</td>\n",
       "      <td>5400000.0</td>\n",
       "      <td>61.00</td>\n",
       "      <td>2017-02-26T00:00:00</td>\n",
       "      <td>3</td>\n",
       "      <td>2.50</td>\n",
       "      <td>9.0</td>\n",
       "      <td>43.60</td>\n",
       "      <td>7</td>\n",
       "      <td>NaN</td>\n",
       "      <td>...</td>\n",
       "      <td>6.50</td>\n",
       "      <td>2.0</td>\n",
       "      <td>Санкт-Петербург</td>\n",
       "      <td>50898.0</td>\n",
       "      <td>15008.0</td>\n",
       "      <td>0.0</td>\n",
       "      <td>NaN</td>\n",
       "      <td>0.0</td>\n",
       "      <td>NaN</td>\n",
       "      <td>289.0</td>\n",
       "    </tr>\n",
       "  </tbody>\n",
       "</table>\n",
       "<p>10 rows × 22 columns</p>\n",
       "</div>"
      ],
      "text/plain": [
       "   total_images  last_price  total_area first_day_exposition  rooms  \\\n",
       "0            20  13000000.0      108.00  2019-03-07T00:00:00      3   \n",
       "1             7   3350000.0       40.40  2018-12-04T00:00:00      1   \n",
       "2            10   5196000.0       56.00  2015-08-20T00:00:00      2   \n",
       "3             0  64900000.0      159.00  2015-07-24T00:00:00      3   \n",
       "4             2  10000000.0      100.00  2018-06-19T00:00:00      2   \n",
       "5            10   2890000.0       30.40  2018-09-10T00:00:00      1   \n",
       "6             6   3700000.0       37.30  2017-11-02T00:00:00      1   \n",
       "7             5   7915000.0       71.60  2019-04-18T00:00:00      2   \n",
       "8            20   2900000.0       33.16  2018-05-23T00:00:00      1   \n",
       "9            18   5400000.0       61.00  2017-02-26T00:00:00      3   \n",
       "\n",
       "   ceiling_height  floors_total  living_area  floor is_apartment  ...  \\\n",
       "0            2.70          16.0        51.00      8          NaN  ...   \n",
       "1             NaN          11.0        18.60      1          NaN  ...   \n",
       "2             NaN           5.0        34.30      4          NaN  ...   \n",
       "3             NaN          14.0          NaN      9          NaN  ...   \n",
       "4            3.03          14.0        32.00     13          NaN  ...   \n",
       "5             NaN          12.0        14.40      5          NaN  ...   \n",
       "6             NaN          26.0        10.60      6          NaN  ...   \n",
       "7             NaN          24.0          NaN     22          NaN  ...   \n",
       "8             NaN          27.0        15.43     26          NaN  ...   \n",
       "9            2.50           9.0        43.60      7          NaN  ...   \n",
       "\n",
       "   kitchen_area  balcony              locality_name  airports_nearest  \\\n",
       "0         25.00      NaN            Санкт-Петербург           18863.0   \n",
       "1         11.00      2.0             посёлок Шушары           12817.0   \n",
       "2          8.30      0.0            Санкт-Петербург           21741.0   \n",
       "3           NaN      0.0            Санкт-Петербург           28098.0   \n",
       "4         41.00      NaN            Санкт-Петербург           31856.0   \n",
       "5          9.10      NaN  городской посёлок Янино-1               NaN   \n",
       "6         14.40      1.0          посёлок Парголово           52996.0   \n",
       "7         18.90      2.0            Санкт-Петербург           23982.0   \n",
       "8          8.81      NaN             посёлок Мурино               NaN   \n",
       "9          6.50      2.0            Санкт-Петербург           50898.0   \n",
       "\n",
       "  cityCenters_nearest  parks_around3000  parks_nearest  ponds_around3000  \\\n",
       "0             16028.0               1.0          482.0               2.0   \n",
       "1             18603.0               0.0            NaN               0.0   \n",
       "2             13933.0               1.0           90.0               2.0   \n",
       "3              6800.0               2.0           84.0               3.0   \n",
       "4              8098.0               2.0          112.0               1.0   \n",
       "5                 NaN               NaN            NaN               NaN   \n",
       "6             19143.0               0.0            NaN               0.0   \n",
       "7             11634.0               0.0            NaN               0.0   \n",
       "8                 NaN               NaN            NaN               NaN   \n",
       "9             15008.0               0.0            NaN               0.0   \n",
       "\n",
       "   ponds_nearest  days_exposition  \n",
       "0          755.0              NaN  \n",
       "1            NaN             81.0  \n",
       "2          574.0            558.0  \n",
       "3          234.0            424.0  \n",
       "4           48.0            121.0  \n",
       "5            NaN             55.0  \n",
       "6            NaN            155.0  \n",
       "7            NaN              NaN  \n",
       "8            NaN            189.0  \n",
       "9            NaN            289.0  \n",
       "\n",
       "[10 rows x 22 columns]"
      ]
     },
     "metadata": {},
     "output_type": "display_data"
    }
   ],
   "source": [
    "data = pd.read_csv('/datasets/real_estate_data.csv', sep='\\t') # разделяю данные с помощью параметра sep\n",
    "display(data.head(10))"
   ]
  },
  {
   "cell_type": "code",
   "execution_count": 25,
   "metadata": {
    "scrolled": true
   },
   "outputs": [
    {
     "name": "stdout",
     "output_type": "stream",
     "text": [
      "<class 'pandas.core.frame.DataFrame'>\n",
      "RangeIndex: 23699 entries, 0 to 23698\n",
      "Data columns (total 22 columns):\n",
      " #   Column                Non-Null Count  Dtype  \n",
      "---  ------                --------------  -----  \n",
      " 0   total_images          23699 non-null  int64  \n",
      " 1   last_price            23699 non-null  float64\n",
      " 2   total_area            23699 non-null  float64\n",
      " 3   first_day_exposition  23699 non-null  object \n",
      " 4   rooms                 23699 non-null  int64  \n",
      " 5   ceiling_height        14504 non-null  float64\n",
      " 6   floors_total          23613 non-null  float64\n",
      " 7   living_area           21796 non-null  float64\n",
      " 8   floor                 23699 non-null  int64  \n",
      " 9   is_apartment          2775 non-null   object \n",
      " 10  studio                23699 non-null  bool   \n",
      " 11  open_plan             23699 non-null  bool   \n",
      " 12  kitchen_area          21421 non-null  float64\n",
      " 13  balcony               12180 non-null  float64\n",
      " 14  locality_name         23650 non-null  object \n",
      " 15  airports_nearest      18157 non-null  float64\n",
      " 16  cityCenters_nearest   18180 non-null  float64\n",
      " 17  parks_around3000      18181 non-null  float64\n",
      " 18  parks_nearest         8079 non-null   float64\n",
      " 19  ponds_around3000      18181 non-null  float64\n",
      " 20  ponds_nearest         9110 non-null   float64\n",
      " 21  days_exposition       20518 non-null  float64\n",
      "dtypes: bool(2), float64(14), int64(3), object(3)\n",
      "memory usage: 3.7+ MB\n"
     ]
    }
   ],
   "source": [
    "data.info()"
   ]
  },
  {
   "cell_type": "markdown",
   "metadata": {},
   "source": [
    "### Вывод"
   ]
  },
  {
   "cell_type": "markdown",
   "metadata": {},
   "source": [
    "Файл содержит 23699 строк и 22 столбца с разными типами данных. Исходя из общей информации о файле в столбцах 'ceiling_height ', 'living_area', 'is_apartment', 'kitchen_area ', 'balcony', 'locality_name', 'airports_nearest', 'cityCenters_nearest', 'parks_around3000', 'ponds_nearest', 'days_exposition' встречаются пропуски данных, но к каждому стобцу нужен индивидуальный подход к заполнению пропусков, поговорим об этом в следующем разделе. В столбцах 'ceiling_height', 'total_area', 'ceiling_height', 'floors_total ', 'living_area', 'kitchen_area', 'balcony', 'airports_nearest'б 'cityCenters_nearest', 'parks_around3000', 'parks_nearest', 'ponds_around3000', 'ponds_nearest' и 'days_exposition' содержатся вещественные числа, что также ослажняет работы с этими данными, но не во всех из данных столбцов следует менять тип данных, также обсудим это в следующем разделе."
   ]
  },
  {
   "cell_type": "markdown",
   "metadata": {},
   "source": [
    "## Предобработка данных"
   ]
  },
  {
   "cell_type": "markdown",
   "metadata": {},
   "source": [
    "### Обработка пропусков"
   ]
  },
  {
   "cell_type": "markdown",
   "metadata": {},
   "source": [
    "Подсчитаем количество пропусков в каждом из столбццов"
   ]
  },
  {
   "cell_type": "code",
   "execution_count": 26,
   "metadata": {},
   "outputs": [
    {
     "name": "stdout",
     "output_type": "stream",
     "text": [
      "total_images                0\n",
      "last_price                  0\n",
      "total_area                  0\n",
      "first_day_exposition        0\n",
      "rooms                       0\n",
      "ceiling_height           9195\n",
      "floors_total               86\n",
      "living_area              1903\n",
      "floor                       0\n",
      "is_apartment            20924\n",
      "studio                      0\n",
      "open_plan                   0\n",
      "kitchen_area             2278\n",
      "balcony                 11519\n",
      "locality_name              49\n",
      "airports_nearest         5542\n",
      "cityCenters_nearest      5519\n",
      "parks_around3000         5518\n",
      "parks_nearest           15620\n",
      "ponds_around3000         5518\n",
      "ponds_nearest           14589\n",
      "days_exposition          3181\n",
      "dtype: int64\n"
     ]
    }
   ],
   "source": [
    "number_of_passes = data.isna().sum()\n",
    "print(number_of_passes)"
   ]
  },
  {
   "cell_type": "code",
   "execution_count": 27,
   "metadata": {},
   "outputs": [
    {
     "name": "stdout",
     "output_type": "stream",
     "text": [
      "total_images            0.000000\n",
      "last_price              0.000000\n",
      "total_area              0.000000\n",
      "first_day_exposition    0.000000\n",
      "rooms                   0.000000\n",
      "ceiling_height          0.387991\n",
      "floors_total            0.003629\n",
      "living_area             0.080299\n",
      "floor                   0.000000\n",
      "is_apartment            0.882906\n",
      "studio                  0.000000\n",
      "open_plan               0.000000\n",
      "kitchen_area            0.096122\n",
      "balcony                 0.486054\n",
      "locality_name           0.002068\n",
      "airports_nearest        0.233850\n",
      "cityCenters_nearest     0.232879\n",
      "parks_around3000        0.232837\n",
      "parks_nearest           0.659100\n",
      "ponds_around3000        0.232837\n",
      "ponds_nearest           0.615596\n",
      "days_exposition         0.134225\n",
      "dtype: float64\n"
     ]
    }
   ],
   "source": [
    "print(number_of_passes/23699) # рассчитываю процент пропусков"
   ]
  },
  {
   "cell_type": "markdown",
   "metadata": {},
   "source": [
    "Обратим внимание на столбец 'balcony', если человек не указала количество балконов, то скорее всего балкона в квартире нет, поэтому можно заменить пропуски в столбце 'balcony' на 0"
   ]
  },
  {
   "cell_type": "code",
   "execution_count": 28,
   "metadata": {},
   "outputs": [],
   "source": [
    "data['balcony'] = data['balcony'].fillna(0)"
   ]
  },
  {
   "cell_type": "code",
   "execution_count": 29,
   "metadata": {
    "scrolled": false
   },
   "outputs": [
    {
     "data": {
      "text/html": [
       "<div>\n",
       "<style scoped>\n",
       "    .dataframe tbody tr th:only-of-type {\n",
       "        vertical-align: middle;\n",
       "    }\n",
       "\n",
       "    .dataframe tbody tr th {\n",
       "        vertical-align: top;\n",
       "    }\n",
       "\n",
       "    .dataframe thead th {\n",
       "        text-align: right;\n",
       "    }\n",
       "</style>\n",
       "<table border=\"1\" class=\"dataframe\">\n",
       "  <thead>\n",
       "    <tr style=\"text-align: right;\">\n",
       "      <th></th>\n",
       "      <th>total_images</th>\n",
       "      <th>last_price</th>\n",
       "      <th>total_area</th>\n",
       "      <th>first_day_exposition</th>\n",
       "      <th>rooms</th>\n",
       "      <th>ceiling_height</th>\n",
       "      <th>floors_total</th>\n",
       "      <th>living_area</th>\n",
       "      <th>floor</th>\n",
       "      <th>is_apartment</th>\n",
       "      <th>...</th>\n",
       "      <th>kitchen_area</th>\n",
       "      <th>balcony</th>\n",
       "      <th>locality_name</th>\n",
       "      <th>airports_nearest</th>\n",
       "      <th>cityCenters_nearest</th>\n",
       "      <th>parks_around3000</th>\n",
       "      <th>parks_nearest</th>\n",
       "      <th>ponds_around3000</th>\n",
       "      <th>ponds_nearest</th>\n",
       "      <th>days_exposition</th>\n",
       "    </tr>\n",
       "  </thead>\n",
       "  <tbody>\n",
       "    <tr>\n",
       "      <th>0</th>\n",
       "      <td>20</td>\n",
       "      <td>13000000.0</td>\n",
       "      <td>108.0</td>\n",
       "      <td>2019-03-07T00:00:00</td>\n",
       "      <td>3</td>\n",
       "      <td>2.70</td>\n",
       "      <td>16.0</td>\n",
       "      <td>51.0</td>\n",
       "      <td>8</td>\n",
       "      <td>NaN</td>\n",
       "      <td>...</td>\n",
       "      <td>25.0</td>\n",
       "      <td>0.0</td>\n",
       "      <td>Санкт-Петербург</td>\n",
       "      <td>18863.0</td>\n",
       "      <td>16028.0</td>\n",
       "      <td>1.0</td>\n",
       "      <td>482.0</td>\n",
       "      <td>2.0</td>\n",
       "      <td>755.0</td>\n",
       "      <td>NaN</td>\n",
       "    </tr>\n",
       "    <tr>\n",
       "      <th>1</th>\n",
       "      <td>7</td>\n",
       "      <td>3350000.0</td>\n",
       "      <td>40.4</td>\n",
       "      <td>2018-12-04T00:00:00</td>\n",
       "      <td>1</td>\n",
       "      <td>NaN</td>\n",
       "      <td>11.0</td>\n",
       "      <td>18.6</td>\n",
       "      <td>1</td>\n",
       "      <td>NaN</td>\n",
       "      <td>...</td>\n",
       "      <td>11.0</td>\n",
       "      <td>2.0</td>\n",
       "      <td>посёлок Шушары</td>\n",
       "      <td>12817.0</td>\n",
       "      <td>18603.0</td>\n",
       "      <td>0.0</td>\n",
       "      <td>NaN</td>\n",
       "      <td>0.0</td>\n",
       "      <td>NaN</td>\n",
       "      <td>81.0</td>\n",
       "    </tr>\n",
       "    <tr>\n",
       "      <th>2</th>\n",
       "      <td>10</td>\n",
       "      <td>5196000.0</td>\n",
       "      <td>56.0</td>\n",
       "      <td>2015-08-20T00:00:00</td>\n",
       "      <td>2</td>\n",
       "      <td>NaN</td>\n",
       "      <td>5.0</td>\n",
       "      <td>34.3</td>\n",
       "      <td>4</td>\n",
       "      <td>NaN</td>\n",
       "      <td>...</td>\n",
       "      <td>8.3</td>\n",
       "      <td>0.0</td>\n",
       "      <td>Санкт-Петербург</td>\n",
       "      <td>21741.0</td>\n",
       "      <td>13933.0</td>\n",
       "      <td>1.0</td>\n",
       "      <td>90.0</td>\n",
       "      <td>2.0</td>\n",
       "      <td>574.0</td>\n",
       "      <td>558.0</td>\n",
       "    </tr>\n",
       "    <tr>\n",
       "      <th>3</th>\n",
       "      <td>0</td>\n",
       "      <td>64900000.0</td>\n",
       "      <td>159.0</td>\n",
       "      <td>2015-07-24T00:00:00</td>\n",
       "      <td>3</td>\n",
       "      <td>NaN</td>\n",
       "      <td>14.0</td>\n",
       "      <td>NaN</td>\n",
       "      <td>9</td>\n",
       "      <td>NaN</td>\n",
       "      <td>...</td>\n",
       "      <td>NaN</td>\n",
       "      <td>0.0</td>\n",
       "      <td>Санкт-Петербург</td>\n",
       "      <td>28098.0</td>\n",
       "      <td>6800.0</td>\n",
       "      <td>2.0</td>\n",
       "      <td>84.0</td>\n",
       "      <td>3.0</td>\n",
       "      <td>234.0</td>\n",
       "      <td>424.0</td>\n",
       "    </tr>\n",
       "    <tr>\n",
       "      <th>4</th>\n",
       "      <td>2</td>\n",
       "      <td>10000000.0</td>\n",
       "      <td>100.0</td>\n",
       "      <td>2018-06-19T00:00:00</td>\n",
       "      <td>2</td>\n",
       "      <td>3.03</td>\n",
       "      <td>14.0</td>\n",
       "      <td>32.0</td>\n",
       "      <td>13</td>\n",
       "      <td>NaN</td>\n",
       "      <td>...</td>\n",
       "      <td>41.0</td>\n",
       "      <td>0.0</td>\n",
       "      <td>Санкт-Петербург</td>\n",
       "      <td>31856.0</td>\n",
       "      <td>8098.0</td>\n",
       "      <td>2.0</td>\n",
       "      <td>112.0</td>\n",
       "      <td>1.0</td>\n",
       "      <td>48.0</td>\n",
       "      <td>121.0</td>\n",
       "    </tr>\n",
       "  </tbody>\n",
       "</table>\n",
       "<p>5 rows × 22 columns</p>\n",
       "</div>"
      ],
      "text/plain": [
       "   total_images  last_price  total_area first_day_exposition  rooms  \\\n",
       "0            20  13000000.0       108.0  2019-03-07T00:00:00      3   \n",
       "1             7   3350000.0        40.4  2018-12-04T00:00:00      1   \n",
       "2            10   5196000.0        56.0  2015-08-20T00:00:00      2   \n",
       "3             0  64900000.0       159.0  2015-07-24T00:00:00      3   \n",
       "4             2  10000000.0       100.0  2018-06-19T00:00:00      2   \n",
       "\n",
       "   ceiling_height  floors_total  living_area  floor is_apartment  ...  \\\n",
       "0            2.70          16.0         51.0      8          NaN  ...   \n",
       "1             NaN          11.0         18.6      1          NaN  ...   \n",
       "2             NaN           5.0         34.3      4          NaN  ...   \n",
       "3             NaN          14.0          NaN      9          NaN  ...   \n",
       "4            3.03          14.0         32.0     13          NaN  ...   \n",
       "\n",
       "   kitchen_area  balcony    locality_name  airports_nearest  \\\n",
       "0          25.0      0.0  Санкт-Петербург           18863.0   \n",
       "1          11.0      2.0   посёлок Шушары           12817.0   \n",
       "2           8.3      0.0  Санкт-Петербург           21741.0   \n",
       "3           NaN      0.0  Санкт-Петербург           28098.0   \n",
       "4          41.0      0.0  Санкт-Петербург           31856.0   \n",
       "\n",
       "  cityCenters_nearest  parks_around3000  parks_nearest  ponds_around3000  \\\n",
       "0             16028.0               1.0          482.0               2.0   \n",
       "1             18603.0               0.0            NaN               0.0   \n",
       "2             13933.0               1.0           90.0               2.0   \n",
       "3              6800.0               2.0           84.0               3.0   \n",
       "4              8098.0               2.0          112.0               1.0   \n",
       "\n",
       "   ponds_nearest  days_exposition  \n",
       "0          755.0              NaN  \n",
       "1            NaN             81.0  \n",
       "2          574.0            558.0  \n",
       "3          234.0            424.0  \n",
       "4           48.0            121.0  \n",
       "\n",
       "[5 rows x 22 columns]"
      ]
     },
     "metadata": {},
     "output_type": "display_data"
    }
   ],
   "source": [
    "display(data.head()) # проверим заполнились ли пропуски в столбце 'balcony'"
   ]
  },
  {
   "cell_type": "markdown",
   "metadata": {},
   "source": [
    "Также посмотрим на столбец 'ceiling_height'. Большое количество пропусков в нём можен быть связано с тем, что люди просто не указали высоту потолков при размещении объявления или попросто не знали высоту своих потолков. В тоже время высота потолков величина стандартизированная и как правило изменяется в типичных квартирах в малых диабазонах, поэтому считаю что можно заполнить данный столбец медианным значением, оно лучше подходит, чем среднее, так как не так сильно реагирует на вбросы "
   ]
  },
  {
   "cell_type": "code",
   "execution_count": 30,
   "metadata": {
    "scrolled": true
   },
   "outputs": [
    {
     "name": "stdout",
     "output_type": "stream",
     "text": [
      "2.65\n"
     ]
    }
   ],
   "source": [
    "ceiling_height_median = data['ceiling_height']\n",
    "ceiling_height_median = ceiling_height_median.median() # нахожу среднее значение столбца 'ceiling_height'\n",
    "print(ceiling_height_median)"
   ]
  },
  {
   "cell_type": "code",
   "execution_count": 31,
   "metadata": {},
   "outputs": [
    {
     "data": {
      "text/html": [
       "<div>\n",
       "<style scoped>\n",
       "    .dataframe tbody tr th:only-of-type {\n",
       "        vertical-align: middle;\n",
       "    }\n",
       "\n",
       "    .dataframe tbody tr th {\n",
       "        vertical-align: top;\n",
       "    }\n",
       "\n",
       "    .dataframe thead th {\n",
       "        text-align: right;\n",
       "    }\n",
       "</style>\n",
       "<table border=\"1\" class=\"dataframe\">\n",
       "  <thead>\n",
       "    <tr style=\"text-align: right;\">\n",
       "      <th></th>\n",
       "      <th>total_images</th>\n",
       "      <th>last_price</th>\n",
       "      <th>total_area</th>\n",
       "      <th>first_day_exposition</th>\n",
       "      <th>rooms</th>\n",
       "      <th>ceiling_height</th>\n",
       "      <th>floors_total</th>\n",
       "      <th>living_area</th>\n",
       "      <th>floor</th>\n",
       "      <th>is_apartment</th>\n",
       "      <th>...</th>\n",
       "      <th>kitchen_area</th>\n",
       "      <th>balcony</th>\n",
       "      <th>locality_name</th>\n",
       "      <th>airports_nearest</th>\n",
       "      <th>cityCenters_nearest</th>\n",
       "      <th>parks_around3000</th>\n",
       "      <th>parks_nearest</th>\n",
       "      <th>ponds_around3000</th>\n",
       "      <th>ponds_nearest</th>\n",
       "      <th>days_exposition</th>\n",
       "    </tr>\n",
       "  </thead>\n",
       "  <tbody>\n",
       "    <tr>\n",
       "      <th>0</th>\n",
       "      <td>20</td>\n",
       "      <td>13000000.0</td>\n",
       "      <td>108.0</td>\n",
       "      <td>2019-03-07T00:00:00</td>\n",
       "      <td>3</td>\n",
       "      <td>2.70</td>\n",
       "      <td>16.0</td>\n",
       "      <td>51.0</td>\n",
       "      <td>8</td>\n",
       "      <td>NaN</td>\n",
       "      <td>...</td>\n",
       "      <td>25.0</td>\n",
       "      <td>0.0</td>\n",
       "      <td>Санкт-Петербург</td>\n",
       "      <td>18863.0</td>\n",
       "      <td>16028.0</td>\n",
       "      <td>1.0</td>\n",
       "      <td>482.0</td>\n",
       "      <td>2.0</td>\n",
       "      <td>755.0</td>\n",
       "      <td>NaN</td>\n",
       "    </tr>\n",
       "    <tr>\n",
       "      <th>1</th>\n",
       "      <td>7</td>\n",
       "      <td>3350000.0</td>\n",
       "      <td>40.4</td>\n",
       "      <td>2018-12-04T00:00:00</td>\n",
       "      <td>1</td>\n",
       "      <td>2.65</td>\n",
       "      <td>11.0</td>\n",
       "      <td>18.6</td>\n",
       "      <td>1</td>\n",
       "      <td>NaN</td>\n",
       "      <td>...</td>\n",
       "      <td>11.0</td>\n",
       "      <td>2.0</td>\n",
       "      <td>посёлок Шушары</td>\n",
       "      <td>12817.0</td>\n",
       "      <td>18603.0</td>\n",
       "      <td>0.0</td>\n",
       "      <td>NaN</td>\n",
       "      <td>0.0</td>\n",
       "      <td>NaN</td>\n",
       "      <td>81.0</td>\n",
       "    </tr>\n",
       "    <tr>\n",
       "      <th>2</th>\n",
       "      <td>10</td>\n",
       "      <td>5196000.0</td>\n",
       "      <td>56.0</td>\n",
       "      <td>2015-08-20T00:00:00</td>\n",
       "      <td>2</td>\n",
       "      <td>2.65</td>\n",
       "      <td>5.0</td>\n",
       "      <td>34.3</td>\n",
       "      <td>4</td>\n",
       "      <td>NaN</td>\n",
       "      <td>...</td>\n",
       "      <td>8.3</td>\n",
       "      <td>0.0</td>\n",
       "      <td>Санкт-Петербург</td>\n",
       "      <td>21741.0</td>\n",
       "      <td>13933.0</td>\n",
       "      <td>1.0</td>\n",
       "      <td>90.0</td>\n",
       "      <td>2.0</td>\n",
       "      <td>574.0</td>\n",
       "      <td>558.0</td>\n",
       "    </tr>\n",
       "    <tr>\n",
       "      <th>3</th>\n",
       "      <td>0</td>\n",
       "      <td>64900000.0</td>\n",
       "      <td>159.0</td>\n",
       "      <td>2015-07-24T00:00:00</td>\n",
       "      <td>3</td>\n",
       "      <td>2.65</td>\n",
       "      <td>14.0</td>\n",
       "      <td>NaN</td>\n",
       "      <td>9</td>\n",
       "      <td>NaN</td>\n",
       "      <td>...</td>\n",
       "      <td>NaN</td>\n",
       "      <td>0.0</td>\n",
       "      <td>Санкт-Петербург</td>\n",
       "      <td>28098.0</td>\n",
       "      <td>6800.0</td>\n",
       "      <td>2.0</td>\n",
       "      <td>84.0</td>\n",
       "      <td>3.0</td>\n",
       "      <td>234.0</td>\n",
       "      <td>424.0</td>\n",
       "    </tr>\n",
       "    <tr>\n",
       "      <th>4</th>\n",
       "      <td>2</td>\n",
       "      <td>10000000.0</td>\n",
       "      <td>100.0</td>\n",
       "      <td>2018-06-19T00:00:00</td>\n",
       "      <td>2</td>\n",
       "      <td>3.03</td>\n",
       "      <td>14.0</td>\n",
       "      <td>32.0</td>\n",
       "      <td>13</td>\n",
       "      <td>NaN</td>\n",
       "      <td>...</td>\n",
       "      <td>41.0</td>\n",
       "      <td>0.0</td>\n",
       "      <td>Санкт-Петербург</td>\n",
       "      <td>31856.0</td>\n",
       "      <td>8098.0</td>\n",
       "      <td>2.0</td>\n",
       "      <td>112.0</td>\n",
       "      <td>1.0</td>\n",
       "      <td>48.0</td>\n",
       "      <td>121.0</td>\n",
       "    </tr>\n",
       "  </tbody>\n",
       "</table>\n",
       "<p>5 rows × 22 columns</p>\n",
       "</div>"
      ],
      "text/plain": [
       "   total_images  last_price  total_area first_day_exposition  rooms  \\\n",
       "0            20  13000000.0       108.0  2019-03-07T00:00:00      3   \n",
       "1             7   3350000.0        40.4  2018-12-04T00:00:00      1   \n",
       "2            10   5196000.0        56.0  2015-08-20T00:00:00      2   \n",
       "3             0  64900000.0       159.0  2015-07-24T00:00:00      3   \n",
       "4             2  10000000.0       100.0  2018-06-19T00:00:00      2   \n",
       "\n",
       "   ceiling_height  floors_total  living_area  floor is_apartment  ...  \\\n",
       "0            2.70          16.0         51.0      8          NaN  ...   \n",
       "1            2.65          11.0         18.6      1          NaN  ...   \n",
       "2            2.65           5.0         34.3      4          NaN  ...   \n",
       "3            2.65          14.0          NaN      9          NaN  ...   \n",
       "4            3.03          14.0         32.0     13          NaN  ...   \n",
       "\n",
       "   kitchen_area  balcony    locality_name  airports_nearest  \\\n",
       "0          25.0      0.0  Санкт-Петербург           18863.0   \n",
       "1          11.0      2.0   посёлок Шушары           12817.0   \n",
       "2           8.3      0.0  Санкт-Петербург           21741.0   \n",
       "3           NaN      0.0  Санкт-Петербург           28098.0   \n",
       "4          41.0      0.0  Санкт-Петербург           31856.0   \n",
       "\n",
       "  cityCenters_nearest  parks_around3000  parks_nearest  ponds_around3000  \\\n",
       "0             16028.0               1.0          482.0               2.0   \n",
       "1             18603.0               0.0            NaN               0.0   \n",
       "2             13933.0               1.0           90.0               2.0   \n",
       "3              6800.0               2.0           84.0               3.0   \n",
       "4              8098.0               2.0          112.0               1.0   \n",
       "\n",
       "   ponds_nearest  days_exposition  \n",
       "0          755.0              NaN  \n",
       "1            NaN             81.0  \n",
       "2          574.0            558.0  \n",
       "3          234.0            424.0  \n",
       "4           48.0            121.0  \n",
       "\n",
       "[5 rows x 22 columns]"
      ]
     },
     "metadata": {},
     "output_type": "display_data"
    }
   ],
   "source": [
    "data['ceiling_height'] = data['ceiling_height'].fillna(ceiling_height_median) # заполняю пропуски в столбце 'ceiling_height' медианным занчением\n",
    "display(data.head()) # проверяем заполнились ли пропуски"
   ]
  },
  {
   "cell_type": "markdown",
   "metadata": {},
   "source": [
    "Подходящие значения для заполнения пропусков в столбцах 'floors_total', 'living_area', 'kitchen_area' подобрать сложно, так как этажность здания, жилая площадь и площадь кухонь бывает абсолютно разная и применять, допустим, мидианные или средние значения некорректно.\n",
    "В столбце 'is_apartment', содержатся булевы значения, сложно предположить по имеющимся данным, что пропущенное значение это обязательно апартаменты или обязательно не апартаменты.\n",
    "Пропуски в столбеце 'locality_name' во-первых, малочислены, во-вторых, не представляется возможным угадать какая локация пропущена.\n",
    "Пропуски в столбцах с 'географической' удаленностью 'airports_nearest', 'cityCenters_nearest', 'parks_around3000', 'parks_nearest', 'ponds_around3000 ', 'ponds_nearest' также корректно заполнить сложно, потому что, например, в разных районах такого крупного города как Санкт-Петербург удаленность от центра, парка, водоёма или аэропорта может быть абсолютно разной.\n",
    "Пропуски в столбце 'days_exposition' также заполнить корректно нельзя, так как разброс значений слишком велик."
   ]
  },
  {
   "cell_type": "code",
   "execution_count": 32,
   "metadata": {},
   "outputs": [
    {
     "data": {
      "text/plain": [
       "0"
      ]
     },
     "execution_count": 32,
     "metadata": {},
     "output_type": "execute_result"
    }
   ],
   "source": [
    "data.duplicated().sum() # подсчёт явных дубликатов"
   ]
  },
  {
   "cell_type": "markdown",
   "metadata": {},
   "source": [
    "**Вывод**"
   ]
  },
  {
   "cell_type": "markdown",
   "metadata": {},
   "source": [
    "Заменил пропуски в столбце 'balcony' на 0, а также заполнил пропуски в столбце 'ceiling_height' медианным значением"
   ]
  },
  {
   "cell_type": "markdown",
   "metadata": {},
   "source": [
    "### Замена типа данных"
   ]
  },
  {
   "cell_type": "markdown",
   "metadata": {},
   "source": [
    "Как говорилось выше, во многих столбцах есть вещественные числа, разберёмся, в каких из них нужно менять тип данных. В столбцах 'last_price', 'floors_total', 'balcony', 'airports_nearest', 'cityCenters_nearest', 'parks_around3000', 'parks_nearest', 'ponds_around3000' и 'ponds_nearest' нужно поменять тип данных, так как значения после запятой обычные 0, то есть числа по сути целые. В столбце 'days_exposition' также необходимо поменять тип данных, предварительно округлив до целого числа. В столбце 'total_area' нельзя менять тип данных, так как даже значения после запятой в общеё площади для многих имеют значение, тоже самое можно сказать и о столбцах 'ceiling_height', 'living_area' и 'kitchen_area'. Оставшихся столбцах тип данных нас устраивает."
   ]
  },
  {
   "cell_type": "code",
   "execution_count": 33,
   "metadata": {
    "scrolled": true
   },
   "outputs": [
    {
     "name": "stdout",
     "output_type": "stream",
     "text": [
      "<class 'pandas.core.frame.DataFrame'>\n",
      "RangeIndex: 23699 entries, 0 to 23698\n",
      "Data columns (total 22 columns):\n",
      " #   Column                Non-Null Count  Dtype  \n",
      "---  ------                --------------  -----  \n",
      " 0   total_images          23699 non-null  int64  \n",
      " 1   last_price            23699 non-null  int64  \n",
      " 2   total_area            23699 non-null  float64\n",
      " 3   first_day_exposition  23699 non-null  object \n",
      " 4   rooms                 23699 non-null  int64  \n",
      " 5   ceiling_height        23699 non-null  float64\n",
      " 6   floors_total          23613 non-null  Int64  \n",
      " 7   living_area           21796 non-null  float64\n",
      " 8   floor                 23699 non-null  int64  \n",
      " 9   is_apartment          2775 non-null   object \n",
      " 10  studio                23699 non-null  bool   \n",
      " 11  open_plan             23699 non-null  bool   \n",
      " 12  kitchen_area          21421 non-null  float64\n",
      " 13  balcony               23699 non-null  Int64  \n",
      " 14  locality_name         23650 non-null  object \n",
      " 15  airports_nearest      18157 non-null  Int64  \n",
      " 16  cityCenters_nearest   18180 non-null  Int64  \n",
      " 17  parks_around3000      18181 non-null  Int64  \n",
      " 18  parks_nearest         8079 non-null   Int64  \n",
      " 19  ponds_around3000      18181 non-null  Int64  \n",
      " 20  ponds_nearest         9110 non-null   Int64  \n",
      " 21  days_exposition       20518 non-null  Int64  \n",
      "dtypes: Int64(9), bool(2), float64(4), int64(4), object(3)\n",
      "memory usage: 3.9+ MB\n"
     ]
    }
   ],
   "source": [
    "data['days_exposition'] = data['days_exposition'].round() # округляю значения в столбце 'days_exposition' до целого значения\n",
    "data = data.astype({\"last_price\":'int64', \"floors_total\":'Int64', \"balcony\":'Int64', \"airports_nearest\":'Int64', \"cityCenters_nearest\":'Int64', \"parks_around3000\":'Int64', \"parks_nearest\":'Int64', \"ponds_around3000\":'Int64', \"ponds_nearest\":'Int64', \"days_exposition\":'Int64'}) # изменяю тип данных в нужных столбцах\n",
    "data.info()"
   ]
  },
  {
   "cell_type": "markdown",
   "metadata": {},
   "source": [
    "**Вывод**"
   ]
  },
  {
   "cell_type": "markdown",
   "metadata": {},
   "source": [
    "Удалось изменить тип данных применив метод astype, так как он может изменить тип данных во всем столбе сразу, в отличие от, например, метода int(), который изменяет тип одного значения. После проверки общей информации о data потдвердилось, что тип данных в нужных столбцах изменился"
   ]
  },
  {
   "cell_type": "markdown",
   "metadata": {},
   "source": [
    "## Расчёты и добавление результатов в таблицу"
   ]
  },
  {
   "cell_type": "markdown",
   "metadata": {},
   "source": [
    "### цена квадратного метра"
   ]
  },
  {
   "cell_type": "code",
   "execution_count": 34,
   "metadata": {},
   "outputs": [],
   "source": [
    "data['price_square_meter'] = (data['last_price']/data['total_area']).round() # считаю цену за квадратный метр, добавляю её в столбец 'price_square_meter' и округляю его до целого числа\n",
    "data['price_square_meter'] = data['price_square_meter'].astype('int') # изменяю тип данных столбца 'price_square_meter'"
   ]
  },
  {
   "cell_type": "code",
   "execution_count": 35,
   "metadata": {
    "scrolled": true
   },
   "outputs": [
    {
     "data": {
      "text/html": [
       "<div>\n",
       "<style scoped>\n",
       "    .dataframe tbody tr th:only-of-type {\n",
       "        vertical-align: middle;\n",
       "    }\n",
       "\n",
       "    .dataframe tbody tr th {\n",
       "        vertical-align: top;\n",
       "    }\n",
       "\n",
       "    .dataframe thead th {\n",
       "        text-align: right;\n",
       "    }\n",
       "</style>\n",
       "<table border=\"1\" class=\"dataframe\">\n",
       "  <thead>\n",
       "    <tr style=\"text-align: right;\">\n",
       "      <th></th>\n",
       "      <th>total_images</th>\n",
       "      <th>last_price</th>\n",
       "      <th>total_area</th>\n",
       "      <th>first_day_exposition</th>\n",
       "      <th>rooms</th>\n",
       "      <th>ceiling_height</th>\n",
       "      <th>floors_total</th>\n",
       "      <th>living_area</th>\n",
       "      <th>floor</th>\n",
       "      <th>is_apartment</th>\n",
       "      <th>...</th>\n",
       "      <th>balcony</th>\n",
       "      <th>locality_name</th>\n",
       "      <th>airports_nearest</th>\n",
       "      <th>cityCenters_nearest</th>\n",
       "      <th>parks_around3000</th>\n",
       "      <th>parks_nearest</th>\n",
       "      <th>ponds_around3000</th>\n",
       "      <th>ponds_nearest</th>\n",
       "      <th>days_exposition</th>\n",
       "      <th>price_square_meter</th>\n",
       "    </tr>\n",
       "  </thead>\n",
       "  <tbody>\n",
       "    <tr>\n",
       "      <th>0</th>\n",
       "      <td>20</td>\n",
       "      <td>13000000</td>\n",
       "      <td>108.00</td>\n",
       "      <td>2019-03-07T00:00:00</td>\n",
       "      <td>3</td>\n",
       "      <td>2.70</td>\n",
       "      <td>16</td>\n",
       "      <td>51.00</td>\n",
       "      <td>8</td>\n",
       "      <td>NaN</td>\n",
       "      <td>...</td>\n",
       "      <td>0</td>\n",
       "      <td>Санкт-Петербург</td>\n",
       "      <td>18863</td>\n",
       "      <td>16028</td>\n",
       "      <td>1</td>\n",
       "      <td>482</td>\n",
       "      <td>2</td>\n",
       "      <td>755</td>\n",
       "      <td>&lt;NA&gt;</td>\n",
       "      <td>120370</td>\n",
       "    </tr>\n",
       "    <tr>\n",
       "      <th>1</th>\n",
       "      <td>7</td>\n",
       "      <td>3350000</td>\n",
       "      <td>40.40</td>\n",
       "      <td>2018-12-04T00:00:00</td>\n",
       "      <td>1</td>\n",
       "      <td>2.65</td>\n",
       "      <td>11</td>\n",
       "      <td>18.60</td>\n",
       "      <td>1</td>\n",
       "      <td>NaN</td>\n",
       "      <td>...</td>\n",
       "      <td>2</td>\n",
       "      <td>посёлок Шушары</td>\n",
       "      <td>12817</td>\n",
       "      <td>18603</td>\n",
       "      <td>0</td>\n",
       "      <td>&lt;NA&gt;</td>\n",
       "      <td>0</td>\n",
       "      <td>&lt;NA&gt;</td>\n",
       "      <td>81</td>\n",
       "      <td>82921</td>\n",
       "    </tr>\n",
       "    <tr>\n",
       "      <th>2</th>\n",
       "      <td>10</td>\n",
       "      <td>5196000</td>\n",
       "      <td>56.00</td>\n",
       "      <td>2015-08-20T00:00:00</td>\n",
       "      <td>2</td>\n",
       "      <td>2.65</td>\n",
       "      <td>5</td>\n",
       "      <td>34.30</td>\n",
       "      <td>4</td>\n",
       "      <td>NaN</td>\n",
       "      <td>...</td>\n",
       "      <td>0</td>\n",
       "      <td>Санкт-Петербург</td>\n",
       "      <td>21741</td>\n",
       "      <td>13933</td>\n",
       "      <td>1</td>\n",
       "      <td>90</td>\n",
       "      <td>2</td>\n",
       "      <td>574</td>\n",
       "      <td>558</td>\n",
       "      <td>92786</td>\n",
       "    </tr>\n",
       "    <tr>\n",
       "      <th>3</th>\n",
       "      <td>0</td>\n",
       "      <td>64900000</td>\n",
       "      <td>159.00</td>\n",
       "      <td>2015-07-24T00:00:00</td>\n",
       "      <td>3</td>\n",
       "      <td>2.65</td>\n",
       "      <td>14</td>\n",
       "      <td>NaN</td>\n",
       "      <td>9</td>\n",
       "      <td>NaN</td>\n",
       "      <td>...</td>\n",
       "      <td>0</td>\n",
       "      <td>Санкт-Петербург</td>\n",
       "      <td>28098</td>\n",
       "      <td>6800</td>\n",
       "      <td>2</td>\n",
       "      <td>84</td>\n",
       "      <td>3</td>\n",
       "      <td>234</td>\n",
       "      <td>424</td>\n",
       "      <td>408176</td>\n",
       "    </tr>\n",
       "    <tr>\n",
       "      <th>4</th>\n",
       "      <td>2</td>\n",
       "      <td>10000000</td>\n",
       "      <td>100.00</td>\n",
       "      <td>2018-06-19T00:00:00</td>\n",
       "      <td>2</td>\n",
       "      <td>3.03</td>\n",
       "      <td>14</td>\n",
       "      <td>32.00</td>\n",
       "      <td>13</td>\n",
       "      <td>NaN</td>\n",
       "      <td>...</td>\n",
       "      <td>0</td>\n",
       "      <td>Санкт-Петербург</td>\n",
       "      <td>31856</td>\n",
       "      <td>8098</td>\n",
       "      <td>2</td>\n",
       "      <td>112</td>\n",
       "      <td>1</td>\n",
       "      <td>48</td>\n",
       "      <td>121</td>\n",
       "      <td>100000</td>\n",
       "    </tr>\n",
       "    <tr>\n",
       "      <th>5</th>\n",
       "      <td>10</td>\n",
       "      <td>2890000</td>\n",
       "      <td>30.40</td>\n",
       "      <td>2018-09-10T00:00:00</td>\n",
       "      <td>1</td>\n",
       "      <td>2.65</td>\n",
       "      <td>12</td>\n",
       "      <td>14.40</td>\n",
       "      <td>5</td>\n",
       "      <td>NaN</td>\n",
       "      <td>...</td>\n",
       "      <td>0</td>\n",
       "      <td>городской посёлок Янино-1</td>\n",
       "      <td>&lt;NA&gt;</td>\n",
       "      <td>&lt;NA&gt;</td>\n",
       "      <td>&lt;NA&gt;</td>\n",
       "      <td>&lt;NA&gt;</td>\n",
       "      <td>&lt;NA&gt;</td>\n",
       "      <td>&lt;NA&gt;</td>\n",
       "      <td>55</td>\n",
       "      <td>95066</td>\n",
       "    </tr>\n",
       "    <tr>\n",
       "      <th>6</th>\n",
       "      <td>6</td>\n",
       "      <td>3700000</td>\n",
       "      <td>37.30</td>\n",
       "      <td>2017-11-02T00:00:00</td>\n",
       "      <td>1</td>\n",
       "      <td>2.65</td>\n",
       "      <td>26</td>\n",
       "      <td>10.60</td>\n",
       "      <td>6</td>\n",
       "      <td>NaN</td>\n",
       "      <td>...</td>\n",
       "      <td>1</td>\n",
       "      <td>посёлок Парголово</td>\n",
       "      <td>52996</td>\n",
       "      <td>19143</td>\n",
       "      <td>0</td>\n",
       "      <td>&lt;NA&gt;</td>\n",
       "      <td>0</td>\n",
       "      <td>&lt;NA&gt;</td>\n",
       "      <td>155</td>\n",
       "      <td>99196</td>\n",
       "    </tr>\n",
       "    <tr>\n",
       "      <th>7</th>\n",
       "      <td>5</td>\n",
       "      <td>7915000</td>\n",
       "      <td>71.60</td>\n",
       "      <td>2019-04-18T00:00:00</td>\n",
       "      <td>2</td>\n",
       "      <td>2.65</td>\n",
       "      <td>24</td>\n",
       "      <td>NaN</td>\n",
       "      <td>22</td>\n",
       "      <td>NaN</td>\n",
       "      <td>...</td>\n",
       "      <td>2</td>\n",
       "      <td>Санкт-Петербург</td>\n",
       "      <td>23982</td>\n",
       "      <td>11634</td>\n",
       "      <td>0</td>\n",
       "      <td>&lt;NA&gt;</td>\n",
       "      <td>0</td>\n",
       "      <td>&lt;NA&gt;</td>\n",
       "      <td>&lt;NA&gt;</td>\n",
       "      <td>110545</td>\n",
       "    </tr>\n",
       "    <tr>\n",
       "      <th>8</th>\n",
       "      <td>20</td>\n",
       "      <td>2900000</td>\n",
       "      <td>33.16</td>\n",
       "      <td>2018-05-23T00:00:00</td>\n",
       "      <td>1</td>\n",
       "      <td>2.65</td>\n",
       "      <td>27</td>\n",
       "      <td>15.43</td>\n",
       "      <td>26</td>\n",
       "      <td>NaN</td>\n",
       "      <td>...</td>\n",
       "      <td>0</td>\n",
       "      <td>посёлок Мурино</td>\n",
       "      <td>&lt;NA&gt;</td>\n",
       "      <td>&lt;NA&gt;</td>\n",
       "      <td>&lt;NA&gt;</td>\n",
       "      <td>&lt;NA&gt;</td>\n",
       "      <td>&lt;NA&gt;</td>\n",
       "      <td>&lt;NA&gt;</td>\n",
       "      <td>189</td>\n",
       "      <td>87455</td>\n",
       "    </tr>\n",
       "    <tr>\n",
       "      <th>9</th>\n",
       "      <td>18</td>\n",
       "      <td>5400000</td>\n",
       "      <td>61.00</td>\n",
       "      <td>2017-02-26T00:00:00</td>\n",
       "      <td>3</td>\n",
       "      <td>2.50</td>\n",
       "      <td>9</td>\n",
       "      <td>43.60</td>\n",
       "      <td>7</td>\n",
       "      <td>NaN</td>\n",
       "      <td>...</td>\n",
       "      <td>2</td>\n",
       "      <td>Санкт-Петербург</td>\n",
       "      <td>50898</td>\n",
       "      <td>15008</td>\n",
       "      <td>0</td>\n",
       "      <td>&lt;NA&gt;</td>\n",
       "      <td>0</td>\n",
       "      <td>&lt;NA&gt;</td>\n",
       "      <td>289</td>\n",
       "      <td>88525</td>\n",
       "    </tr>\n",
       "  </tbody>\n",
       "</table>\n",
       "<p>10 rows × 23 columns</p>\n",
       "</div>"
      ],
      "text/plain": [
       "   total_images  last_price  total_area first_day_exposition  rooms  \\\n",
       "0            20    13000000      108.00  2019-03-07T00:00:00      3   \n",
       "1             7     3350000       40.40  2018-12-04T00:00:00      1   \n",
       "2            10     5196000       56.00  2015-08-20T00:00:00      2   \n",
       "3             0    64900000      159.00  2015-07-24T00:00:00      3   \n",
       "4             2    10000000      100.00  2018-06-19T00:00:00      2   \n",
       "5            10     2890000       30.40  2018-09-10T00:00:00      1   \n",
       "6             6     3700000       37.30  2017-11-02T00:00:00      1   \n",
       "7             5     7915000       71.60  2019-04-18T00:00:00      2   \n",
       "8            20     2900000       33.16  2018-05-23T00:00:00      1   \n",
       "9            18     5400000       61.00  2017-02-26T00:00:00      3   \n",
       "\n",
       "   ceiling_height  floors_total  living_area  floor is_apartment  ...  \\\n",
       "0            2.70            16        51.00      8          NaN  ...   \n",
       "1            2.65            11        18.60      1          NaN  ...   \n",
       "2            2.65             5        34.30      4          NaN  ...   \n",
       "3            2.65            14          NaN      9          NaN  ...   \n",
       "4            3.03            14        32.00     13          NaN  ...   \n",
       "5            2.65            12        14.40      5          NaN  ...   \n",
       "6            2.65            26        10.60      6          NaN  ...   \n",
       "7            2.65            24          NaN     22          NaN  ...   \n",
       "8            2.65            27        15.43     26          NaN  ...   \n",
       "9            2.50             9        43.60      7          NaN  ...   \n",
       "\n",
       "   balcony              locality_name  airports_nearest  cityCenters_nearest  \\\n",
       "0        0            Санкт-Петербург             18863                16028   \n",
       "1        2             посёлок Шушары             12817                18603   \n",
       "2        0            Санкт-Петербург             21741                13933   \n",
       "3        0            Санкт-Петербург             28098                 6800   \n",
       "4        0            Санкт-Петербург             31856                 8098   \n",
       "5        0  городской посёлок Янино-1              <NA>                 <NA>   \n",
       "6        1          посёлок Парголово             52996                19143   \n",
       "7        2            Санкт-Петербург             23982                11634   \n",
       "8        0             посёлок Мурино              <NA>                 <NA>   \n",
       "9        2            Санкт-Петербург             50898                15008   \n",
       "\n",
       "  parks_around3000  parks_nearest  ponds_around3000  ponds_nearest  \\\n",
       "0                1            482                 2            755   \n",
       "1                0           <NA>                 0           <NA>   \n",
       "2                1             90                 2            574   \n",
       "3                2             84                 3            234   \n",
       "4                2            112                 1             48   \n",
       "5             <NA>           <NA>              <NA>           <NA>   \n",
       "6                0           <NA>                 0           <NA>   \n",
       "7                0           <NA>                 0           <NA>   \n",
       "8             <NA>           <NA>              <NA>           <NA>   \n",
       "9                0           <NA>                 0           <NA>   \n",
       "\n",
       "   days_exposition  price_square_meter  \n",
       "0             <NA>              120370  \n",
       "1               81               82921  \n",
       "2              558               92786  \n",
       "3              424              408176  \n",
       "4              121              100000  \n",
       "5               55               95066  \n",
       "6              155               99196  \n",
       "7             <NA>              110545  \n",
       "8              189               87455  \n",
       "9              289               88525  \n",
       "\n",
       "[10 rows x 23 columns]"
      ]
     },
     "metadata": {},
     "output_type": "display_data"
    }
   ],
   "source": [
    "display(data.head(10)) # Проверяю, что столбец 'price_square_meter', действительно добавился"
   ]
  },
  {
   "cell_type": "markdown",
   "metadata": {},
   "source": [
    "**Вывод**"
   ]
  },
  {
   "cell_type": "markdown",
   "metadata": {},
   "source": [
    "Удалось посчитать цену за квадратный метр и добавить её в таблицу"
   ]
  },
  {
   "cell_type": "markdown",
   "metadata": {},
   "source": [
    "### День недели, месяц и год публикации объявления"
   ]
  },
  {
   "cell_type": "markdown",
   "metadata": {},
   "source": [
    "Выведем на экран общую информацию о данных "
   ]
  },
  {
   "cell_type": "code",
   "execution_count": 36,
   "metadata": {},
   "outputs": [
    {
     "name": "stdout",
     "output_type": "stream",
     "text": [
      "<class 'pandas.core.frame.DataFrame'>\n",
      "RangeIndex: 23699 entries, 0 to 23698\n",
      "Data columns (total 23 columns):\n",
      " #   Column                Non-Null Count  Dtype  \n",
      "---  ------                --------------  -----  \n",
      " 0   total_images          23699 non-null  int64  \n",
      " 1   last_price            23699 non-null  int64  \n",
      " 2   total_area            23699 non-null  float64\n",
      " 3   first_day_exposition  23699 non-null  object \n",
      " 4   rooms                 23699 non-null  int64  \n",
      " 5   ceiling_height        23699 non-null  float64\n",
      " 6   floors_total          23613 non-null  Int64  \n",
      " 7   living_area           21796 non-null  float64\n",
      " 8   floor                 23699 non-null  int64  \n",
      " 9   is_apartment          2775 non-null   object \n",
      " 10  studio                23699 non-null  bool   \n",
      " 11  open_plan             23699 non-null  bool   \n",
      " 12  kitchen_area          21421 non-null  float64\n",
      " 13  balcony               23699 non-null  Int64  \n",
      " 14  locality_name         23650 non-null  object \n",
      " 15  airports_nearest      18157 non-null  Int64  \n",
      " 16  cityCenters_nearest   18180 non-null  Int64  \n",
      " 17  parks_around3000      18181 non-null  Int64  \n",
      " 18  parks_nearest         8079 non-null   Int64  \n",
      " 19  ponds_around3000      18181 non-null  Int64  \n",
      " 20  ponds_nearest         9110 non-null   Int64  \n",
      " 21  days_exposition       20518 non-null  Int64  \n",
      " 22  price_square_meter    23699 non-null  int64  \n",
      "dtypes: Int64(9), bool(2), float64(4), int64(5), object(3)\n",
      "memory usage: 4.0+ MB\n"
     ]
    }
   ],
   "source": [
    "data.info() "
   ]
  },
  {
   "cell_type": "markdown",
   "metadata": {},
   "source": [
    "Обратим внимание на столбец first_day_exposition, его тип object, что не подходит нам, изменим тип данных в этом столбце на datetime64 и сделаем формат представления даты удобным для нас с помощью метода to_datetime()"
   ]
  },
  {
   "cell_type": "code",
   "execution_count": 37,
   "metadata": {},
   "outputs": [],
   "source": [
    "data['first_day_exposition'] = pd.to_datetime(data['first_day_exposition'], format = '%Y-%m-%dT%H:%M:%S')"
   ]
  },
  {
   "cell_type": "markdown",
   "metadata": {},
   "source": [
    "Проверим сменился ли тип данных в столбце 'first_day_exposition'"
   ]
  },
  {
   "cell_type": "code",
   "execution_count": 38,
   "metadata": {
    "scrolled": true
   },
   "outputs": [
    {
     "name": "stdout",
     "output_type": "stream",
     "text": [
      "<class 'pandas.core.frame.DataFrame'>\n",
      "RangeIndex: 23699 entries, 0 to 23698\n",
      "Data columns (total 23 columns):\n",
      " #   Column                Non-Null Count  Dtype         \n",
      "---  ------                --------------  -----         \n",
      " 0   total_images          23699 non-null  int64         \n",
      " 1   last_price            23699 non-null  int64         \n",
      " 2   total_area            23699 non-null  float64       \n",
      " 3   first_day_exposition  23699 non-null  datetime64[ns]\n",
      " 4   rooms                 23699 non-null  int64         \n",
      " 5   ceiling_height        23699 non-null  float64       \n",
      " 6   floors_total          23613 non-null  Int64         \n",
      " 7   living_area           21796 non-null  float64       \n",
      " 8   floor                 23699 non-null  int64         \n",
      " 9   is_apartment          2775 non-null   object        \n",
      " 10  studio                23699 non-null  bool          \n",
      " 11  open_plan             23699 non-null  bool          \n",
      " 12  kitchen_area          21421 non-null  float64       \n",
      " 13  balcony               23699 non-null  Int64         \n",
      " 14  locality_name         23650 non-null  object        \n",
      " 15  airports_nearest      18157 non-null  Int64         \n",
      " 16  cityCenters_nearest   18180 non-null  Int64         \n",
      " 17  parks_around3000      18181 non-null  Int64         \n",
      " 18  parks_nearest         8079 non-null   Int64         \n",
      " 19  ponds_around3000      18181 non-null  Int64         \n",
      " 20  ponds_nearest         9110 non-null   Int64         \n",
      " 21  days_exposition       20518 non-null  Int64         \n",
      " 22  price_square_meter    23699 non-null  int64         \n",
      "dtypes: Int64(9), bool(2), datetime64[ns](1), float64(4), int64(5), object(2)\n",
      "memory usage: 4.0+ MB\n"
     ]
    }
   ],
   "source": [
    "data.info()"
   ]
  },
  {
   "cell_type": "markdown",
   "metadata": {},
   "source": [
    "Добавим столбецы с денем недели, месяцем и годом публикации объявления в нашу таблицу"
   ]
  },
  {
   "cell_type": "code",
   "execution_count": 39,
   "metadata": {},
   "outputs": [],
   "source": [
    "data['month_exposition'] = pd.DatetimeIndex(data['first_day_exposition']).month"
   ]
  },
  {
   "cell_type": "code",
   "execution_count": 40,
   "metadata": {},
   "outputs": [],
   "source": [
    "data['day_exposition'] = pd.DatetimeIndex(data['first_day_exposition']).weekday"
   ]
  },
  {
   "cell_type": "code",
   "execution_count": 41,
   "metadata": {},
   "outputs": [],
   "source": [
    "data['year_exposition'] = pd.DatetimeIndex(data['first_day_exposition']).year"
   ]
  },
  {
   "cell_type": "code",
   "execution_count": 42,
   "metadata": {
    "scrolled": true
   },
   "outputs": [
    {
     "data": {
      "text/html": [
       "<div>\n",
       "<style scoped>\n",
       "    .dataframe tbody tr th:only-of-type {\n",
       "        vertical-align: middle;\n",
       "    }\n",
       "\n",
       "    .dataframe tbody tr th {\n",
       "        vertical-align: top;\n",
       "    }\n",
       "\n",
       "    .dataframe thead th {\n",
       "        text-align: right;\n",
       "    }\n",
       "</style>\n",
       "<table border=\"1\" class=\"dataframe\">\n",
       "  <thead>\n",
       "    <tr style=\"text-align: right;\">\n",
       "      <th></th>\n",
       "      <th>total_images</th>\n",
       "      <th>last_price</th>\n",
       "      <th>total_area</th>\n",
       "      <th>first_day_exposition</th>\n",
       "      <th>rooms</th>\n",
       "      <th>ceiling_height</th>\n",
       "      <th>floors_total</th>\n",
       "      <th>living_area</th>\n",
       "      <th>floor</th>\n",
       "      <th>is_apartment</th>\n",
       "      <th>...</th>\n",
       "      <th>cityCenters_nearest</th>\n",
       "      <th>parks_around3000</th>\n",
       "      <th>parks_nearest</th>\n",
       "      <th>ponds_around3000</th>\n",
       "      <th>ponds_nearest</th>\n",
       "      <th>days_exposition</th>\n",
       "      <th>price_square_meter</th>\n",
       "      <th>month_exposition</th>\n",
       "      <th>day_exposition</th>\n",
       "      <th>year_exposition</th>\n",
       "    </tr>\n",
       "  </thead>\n",
       "  <tbody>\n",
       "    <tr>\n",
       "      <th>0</th>\n",
       "      <td>20</td>\n",
       "      <td>13000000</td>\n",
       "      <td>108.00</td>\n",
       "      <td>2019-03-07</td>\n",
       "      <td>3</td>\n",
       "      <td>2.70</td>\n",
       "      <td>16</td>\n",
       "      <td>51.00</td>\n",
       "      <td>8</td>\n",
       "      <td>NaN</td>\n",
       "      <td>...</td>\n",
       "      <td>16028</td>\n",
       "      <td>1</td>\n",
       "      <td>482</td>\n",
       "      <td>2</td>\n",
       "      <td>755</td>\n",
       "      <td>&lt;NA&gt;</td>\n",
       "      <td>120370</td>\n",
       "      <td>3</td>\n",
       "      <td>3</td>\n",
       "      <td>2019</td>\n",
       "    </tr>\n",
       "    <tr>\n",
       "      <th>1</th>\n",
       "      <td>7</td>\n",
       "      <td>3350000</td>\n",
       "      <td>40.40</td>\n",
       "      <td>2018-12-04</td>\n",
       "      <td>1</td>\n",
       "      <td>2.65</td>\n",
       "      <td>11</td>\n",
       "      <td>18.60</td>\n",
       "      <td>1</td>\n",
       "      <td>NaN</td>\n",
       "      <td>...</td>\n",
       "      <td>18603</td>\n",
       "      <td>0</td>\n",
       "      <td>&lt;NA&gt;</td>\n",
       "      <td>0</td>\n",
       "      <td>&lt;NA&gt;</td>\n",
       "      <td>81</td>\n",
       "      <td>82921</td>\n",
       "      <td>12</td>\n",
       "      <td>1</td>\n",
       "      <td>2018</td>\n",
       "    </tr>\n",
       "    <tr>\n",
       "      <th>2</th>\n",
       "      <td>10</td>\n",
       "      <td>5196000</td>\n",
       "      <td>56.00</td>\n",
       "      <td>2015-08-20</td>\n",
       "      <td>2</td>\n",
       "      <td>2.65</td>\n",
       "      <td>5</td>\n",
       "      <td>34.30</td>\n",
       "      <td>4</td>\n",
       "      <td>NaN</td>\n",
       "      <td>...</td>\n",
       "      <td>13933</td>\n",
       "      <td>1</td>\n",
       "      <td>90</td>\n",
       "      <td>2</td>\n",
       "      <td>574</td>\n",
       "      <td>558</td>\n",
       "      <td>92786</td>\n",
       "      <td>8</td>\n",
       "      <td>3</td>\n",
       "      <td>2015</td>\n",
       "    </tr>\n",
       "    <tr>\n",
       "      <th>3</th>\n",
       "      <td>0</td>\n",
       "      <td>64900000</td>\n",
       "      <td>159.00</td>\n",
       "      <td>2015-07-24</td>\n",
       "      <td>3</td>\n",
       "      <td>2.65</td>\n",
       "      <td>14</td>\n",
       "      <td>NaN</td>\n",
       "      <td>9</td>\n",
       "      <td>NaN</td>\n",
       "      <td>...</td>\n",
       "      <td>6800</td>\n",
       "      <td>2</td>\n",
       "      <td>84</td>\n",
       "      <td>3</td>\n",
       "      <td>234</td>\n",
       "      <td>424</td>\n",
       "      <td>408176</td>\n",
       "      <td>7</td>\n",
       "      <td>4</td>\n",
       "      <td>2015</td>\n",
       "    </tr>\n",
       "    <tr>\n",
       "      <th>4</th>\n",
       "      <td>2</td>\n",
       "      <td>10000000</td>\n",
       "      <td>100.00</td>\n",
       "      <td>2018-06-19</td>\n",
       "      <td>2</td>\n",
       "      <td>3.03</td>\n",
       "      <td>14</td>\n",
       "      <td>32.00</td>\n",
       "      <td>13</td>\n",
       "      <td>NaN</td>\n",
       "      <td>...</td>\n",
       "      <td>8098</td>\n",
       "      <td>2</td>\n",
       "      <td>112</td>\n",
       "      <td>1</td>\n",
       "      <td>48</td>\n",
       "      <td>121</td>\n",
       "      <td>100000</td>\n",
       "      <td>6</td>\n",
       "      <td>1</td>\n",
       "      <td>2018</td>\n",
       "    </tr>\n",
       "    <tr>\n",
       "      <th>5</th>\n",
       "      <td>10</td>\n",
       "      <td>2890000</td>\n",
       "      <td>30.40</td>\n",
       "      <td>2018-09-10</td>\n",
       "      <td>1</td>\n",
       "      <td>2.65</td>\n",
       "      <td>12</td>\n",
       "      <td>14.40</td>\n",
       "      <td>5</td>\n",
       "      <td>NaN</td>\n",
       "      <td>...</td>\n",
       "      <td>&lt;NA&gt;</td>\n",
       "      <td>&lt;NA&gt;</td>\n",
       "      <td>&lt;NA&gt;</td>\n",
       "      <td>&lt;NA&gt;</td>\n",
       "      <td>&lt;NA&gt;</td>\n",
       "      <td>55</td>\n",
       "      <td>95066</td>\n",
       "      <td>9</td>\n",
       "      <td>0</td>\n",
       "      <td>2018</td>\n",
       "    </tr>\n",
       "    <tr>\n",
       "      <th>6</th>\n",
       "      <td>6</td>\n",
       "      <td>3700000</td>\n",
       "      <td>37.30</td>\n",
       "      <td>2017-11-02</td>\n",
       "      <td>1</td>\n",
       "      <td>2.65</td>\n",
       "      <td>26</td>\n",
       "      <td>10.60</td>\n",
       "      <td>6</td>\n",
       "      <td>NaN</td>\n",
       "      <td>...</td>\n",
       "      <td>19143</td>\n",
       "      <td>0</td>\n",
       "      <td>&lt;NA&gt;</td>\n",
       "      <td>0</td>\n",
       "      <td>&lt;NA&gt;</td>\n",
       "      <td>155</td>\n",
       "      <td>99196</td>\n",
       "      <td>11</td>\n",
       "      <td>3</td>\n",
       "      <td>2017</td>\n",
       "    </tr>\n",
       "    <tr>\n",
       "      <th>7</th>\n",
       "      <td>5</td>\n",
       "      <td>7915000</td>\n",
       "      <td>71.60</td>\n",
       "      <td>2019-04-18</td>\n",
       "      <td>2</td>\n",
       "      <td>2.65</td>\n",
       "      <td>24</td>\n",
       "      <td>NaN</td>\n",
       "      <td>22</td>\n",
       "      <td>NaN</td>\n",
       "      <td>...</td>\n",
       "      <td>11634</td>\n",
       "      <td>0</td>\n",
       "      <td>&lt;NA&gt;</td>\n",
       "      <td>0</td>\n",
       "      <td>&lt;NA&gt;</td>\n",
       "      <td>&lt;NA&gt;</td>\n",
       "      <td>110545</td>\n",
       "      <td>4</td>\n",
       "      <td>3</td>\n",
       "      <td>2019</td>\n",
       "    </tr>\n",
       "    <tr>\n",
       "      <th>8</th>\n",
       "      <td>20</td>\n",
       "      <td>2900000</td>\n",
       "      <td>33.16</td>\n",
       "      <td>2018-05-23</td>\n",
       "      <td>1</td>\n",
       "      <td>2.65</td>\n",
       "      <td>27</td>\n",
       "      <td>15.43</td>\n",
       "      <td>26</td>\n",
       "      <td>NaN</td>\n",
       "      <td>...</td>\n",
       "      <td>&lt;NA&gt;</td>\n",
       "      <td>&lt;NA&gt;</td>\n",
       "      <td>&lt;NA&gt;</td>\n",
       "      <td>&lt;NA&gt;</td>\n",
       "      <td>&lt;NA&gt;</td>\n",
       "      <td>189</td>\n",
       "      <td>87455</td>\n",
       "      <td>5</td>\n",
       "      <td>2</td>\n",
       "      <td>2018</td>\n",
       "    </tr>\n",
       "    <tr>\n",
       "      <th>9</th>\n",
       "      <td>18</td>\n",
       "      <td>5400000</td>\n",
       "      <td>61.00</td>\n",
       "      <td>2017-02-26</td>\n",
       "      <td>3</td>\n",
       "      <td>2.50</td>\n",
       "      <td>9</td>\n",
       "      <td>43.60</td>\n",
       "      <td>7</td>\n",
       "      <td>NaN</td>\n",
       "      <td>...</td>\n",
       "      <td>15008</td>\n",
       "      <td>0</td>\n",
       "      <td>&lt;NA&gt;</td>\n",
       "      <td>0</td>\n",
       "      <td>&lt;NA&gt;</td>\n",
       "      <td>289</td>\n",
       "      <td>88525</td>\n",
       "      <td>2</td>\n",
       "      <td>6</td>\n",
       "      <td>2017</td>\n",
       "    </tr>\n",
       "  </tbody>\n",
       "</table>\n",
       "<p>10 rows × 26 columns</p>\n",
       "</div>"
      ],
      "text/plain": [
       "   total_images  last_price  total_area first_day_exposition  rooms  \\\n",
       "0            20    13000000      108.00           2019-03-07      3   \n",
       "1             7     3350000       40.40           2018-12-04      1   \n",
       "2            10     5196000       56.00           2015-08-20      2   \n",
       "3             0    64900000      159.00           2015-07-24      3   \n",
       "4             2    10000000      100.00           2018-06-19      2   \n",
       "5            10     2890000       30.40           2018-09-10      1   \n",
       "6             6     3700000       37.30           2017-11-02      1   \n",
       "7             5     7915000       71.60           2019-04-18      2   \n",
       "8            20     2900000       33.16           2018-05-23      1   \n",
       "9            18     5400000       61.00           2017-02-26      3   \n",
       "\n",
       "   ceiling_height  floors_total  living_area  floor is_apartment  ...  \\\n",
       "0            2.70            16        51.00      8          NaN  ...   \n",
       "1            2.65            11        18.60      1          NaN  ...   \n",
       "2            2.65             5        34.30      4          NaN  ...   \n",
       "3            2.65            14          NaN      9          NaN  ...   \n",
       "4            3.03            14        32.00     13          NaN  ...   \n",
       "5            2.65            12        14.40      5          NaN  ...   \n",
       "6            2.65            26        10.60      6          NaN  ...   \n",
       "7            2.65            24          NaN     22          NaN  ...   \n",
       "8            2.65            27        15.43     26          NaN  ...   \n",
       "9            2.50             9        43.60      7          NaN  ...   \n",
       "\n",
       "   cityCenters_nearest  parks_around3000  parks_nearest  ponds_around3000  \\\n",
       "0                16028                 1            482                 2   \n",
       "1                18603                 0           <NA>                 0   \n",
       "2                13933                 1             90                 2   \n",
       "3                 6800                 2             84                 3   \n",
       "4                 8098                 2            112                 1   \n",
       "5                 <NA>              <NA>           <NA>              <NA>   \n",
       "6                19143                 0           <NA>                 0   \n",
       "7                11634                 0           <NA>                 0   \n",
       "8                 <NA>              <NA>           <NA>              <NA>   \n",
       "9                15008                 0           <NA>                 0   \n",
       "\n",
       "  ponds_nearest  days_exposition  price_square_meter  month_exposition  \\\n",
       "0           755             <NA>              120370                 3   \n",
       "1          <NA>               81               82921                12   \n",
       "2           574              558               92786                 8   \n",
       "3           234              424              408176                 7   \n",
       "4            48              121              100000                 6   \n",
       "5          <NA>               55               95066                 9   \n",
       "6          <NA>              155               99196                11   \n",
       "7          <NA>             <NA>              110545                 4   \n",
       "8          <NA>              189               87455                 5   \n",
       "9          <NA>              289               88525                 2   \n",
       "\n",
       "   day_exposition  year_exposition  \n",
       "0               3             2019  \n",
       "1               1             2018  \n",
       "2               3             2015  \n",
       "3               4             2015  \n",
       "4               1             2018  \n",
       "5               0             2018  \n",
       "6               3             2017  \n",
       "7               3             2019  \n",
       "8               2             2018  \n",
       "9               6             2017  \n",
       "\n",
       "[10 rows x 26 columns]"
      ]
     },
     "metadata": {},
     "output_type": "display_data"
    }
   ],
   "source": [
    "display(data.head(10))"
   ]
  },
  {
   "cell_type": "markdown",
   "metadata": {},
   "source": [
    "**Вывод**"
   ]
  },
  {
   "cell_type": "markdown",
   "metadata": {},
   "source": [
    "Удалось изменить тип данных в столбце 'first_day_exposition' и сделать формат представления даты удобным для нас. Также добавили столбцы с денем недели, месяцем и годом публикации объявления"
   ]
  },
  {
   "cell_type": "markdown",
   "metadata": {},
   "source": [
    "### Этаж квартиры"
   ]
  },
  {
   "cell_type": "markdown",
   "metadata": {},
   "source": [
    "Категоризируем данные по этажу квартиры на четыре вида: 'первый', 'последний', другой и если этажность не указана то 'нет данных'"
   ]
  },
  {
   "cell_type": "code",
   "execution_count": 44,
   "metadata": {},
   "outputs": [
    {
     "ename": "TypeError",
     "evalue": "boolean value of NA is ambiguous",
     "output_type": "error",
     "traceback": [
      "\u001b[0;31m---------------------------------------------------------------------------\u001b[0m",
      "\u001b[0;31mTypeError\u001b[0m                                 Traceback (most recent call last)",
      "\u001b[0;32m/tmp/ipykernel_97/1331716025.py\u001b[0m in \u001b[0;36m<module>\u001b[0;34m\u001b[0m\n\u001b[1;32m      9\u001b[0m         \u001b[0;32mreturn\u001b[0m \u001b[0;34m'нет данных'\u001b[0m\u001b[0;34m\u001b[0m\u001b[0;34m\u001b[0m\u001b[0m\n\u001b[1;32m     10\u001b[0m     \u001b[0;32mreturn\u001b[0m \u001b[0;34m'другой'\u001b[0m\u001b[0;34m\u001b[0m\u001b[0;34m\u001b[0m\u001b[0m\n\u001b[0;32m---> 11\u001b[0;31m \u001b[0mdata\u001b[0m\u001b[0;34m[\u001b[0m\u001b[0;34m'floor_category'\u001b[0m\u001b[0;34m]\u001b[0m \u001b[0;34m=\u001b[0m \u001b[0mdata\u001b[0m\u001b[0;34m.\u001b[0m\u001b[0mapply\u001b[0m\u001b[0;34m(\u001b[0m\u001b[0mcategory_floor\u001b[0m\u001b[0;34m,\u001b[0m \u001b[0maxis\u001b[0m \u001b[0;34m=\u001b[0m \u001b[0;36m1\u001b[0m\u001b[0;34m)\u001b[0m\u001b[0;34m\u001b[0m\u001b[0;34m\u001b[0m\u001b[0m\n\u001b[0m",
      "\u001b[0;32m/opt/conda/lib/python3.9/site-packages/pandas/core/frame.py\u001b[0m in \u001b[0;36mapply\u001b[0;34m(self, func, axis, raw, result_type, args, **kwds)\u001b[0m\n\u001b[1;32m   7766\u001b[0m             \u001b[0mkwds\u001b[0m\u001b[0;34m=\u001b[0m\u001b[0mkwds\u001b[0m\u001b[0;34m,\u001b[0m\u001b[0;34m\u001b[0m\u001b[0;34m\u001b[0m\u001b[0m\n\u001b[1;32m   7767\u001b[0m         )\n\u001b[0;32m-> 7768\u001b[0;31m         \u001b[0;32mreturn\u001b[0m \u001b[0mop\u001b[0m\u001b[0;34m.\u001b[0m\u001b[0mget_result\u001b[0m\u001b[0;34m(\u001b[0m\u001b[0;34m)\u001b[0m\u001b[0;34m\u001b[0m\u001b[0;34m\u001b[0m\u001b[0m\n\u001b[0m\u001b[1;32m   7769\u001b[0m \u001b[0;34m\u001b[0m\u001b[0m\n\u001b[1;32m   7770\u001b[0m     \u001b[0;32mdef\u001b[0m \u001b[0mapplymap\u001b[0m\u001b[0;34m(\u001b[0m\u001b[0mself\u001b[0m\u001b[0;34m,\u001b[0m \u001b[0mfunc\u001b[0m\u001b[0;34m,\u001b[0m \u001b[0mna_action\u001b[0m\u001b[0;34m:\u001b[0m \u001b[0mOptional\u001b[0m\u001b[0;34m[\u001b[0m\u001b[0mstr\u001b[0m\u001b[0;34m]\u001b[0m \u001b[0;34m=\u001b[0m \u001b[0;32mNone\u001b[0m\u001b[0;34m)\u001b[0m \u001b[0;34m->\u001b[0m \u001b[0mDataFrame\u001b[0m\u001b[0;34m:\u001b[0m\u001b[0;34m\u001b[0m\u001b[0;34m\u001b[0m\u001b[0m\n",
      "\u001b[0;32m/opt/conda/lib/python3.9/site-packages/pandas/core/apply.py\u001b[0m in \u001b[0;36mget_result\u001b[0;34m(self)\u001b[0m\n\u001b[1;32m    183\u001b[0m             \u001b[0;32mreturn\u001b[0m \u001b[0mself\u001b[0m\u001b[0;34m.\u001b[0m\u001b[0mapply_raw\u001b[0m\u001b[0;34m(\u001b[0m\u001b[0;34m)\u001b[0m\u001b[0;34m\u001b[0m\u001b[0;34m\u001b[0m\u001b[0m\n\u001b[1;32m    184\u001b[0m \u001b[0;34m\u001b[0m\u001b[0m\n\u001b[0;32m--> 185\u001b[0;31m         \u001b[0;32mreturn\u001b[0m \u001b[0mself\u001b[0m\u001b[0;34m.\u001b[0m\u001b[0mapply_standard\u001b[0m\u001b[0;34m(\u001b[0m\u001b[0;34m)\u001b[0m\u001b[0;34m\u001b[0m\u001b[0;34m\u001b[0m\u001b[0m\n\u001b[0m\u001b[1;32m    186\u001b[0m \u001b[0;34m\u001b[0m\u001b[0m\n\u001b[1;32m    187\u001b[0m     \u001b[0;32mdef\u001b[0m \u001b[0mapply_empty_result\u001b[0m\u001b[0;34m(\u001b[0m\u001b[0mself\u001b[0m\u001b[0;34m)\u001b[0m\u001b[0;34m:\u001b[0m\u001b[0;34m\u001b[0m\u001b[0;34m\u001b[0m\u001b[0m\n",
      "\u001b[0;32m/opt/conda/lib/python3.9/site-packages/pandas/core/apply.py\u001b[0m in \u001b[0;36mapply_standard\u001b[0;34m(self)\u001b[0m\n\u001b[1;32m    274\u001b[0m \u001b[0;34m\u001b[0m\u001b[0m\n\u001b[1;32m    275\u001b[0m     \u001b[0;32mdef\u001b[0m \u001b[0mapply_standard\u001b[0m\u001b[0;34m(\u001b[0m\u001b[0mself\u001b[0m\u001b[0;34m)\u001b[0m\u001b[0;34m:\u001b[0m\u001b[0;34m\u001b[0m\u001b[0;34m\u001b[0m\u001b[0m\n\u001b[0;32m--> 276\u001b[0;31m         \u001b[0mresults\u001b[0m\u001b[0;34m,\u001b[0m \u001b[0mres_index\u001b[0m \u001b[0;34m=\u001b[0m \u001b[0mself\u001b[0m\u001b[0;34m.\u001b[0m\u001b[0mapply_series_generator\u001b[0m\u001b[0;34m(\u001b[0m\u001b[0;34m)\u001b[0m\u001b[0;34m\u001b[0m\u001b[0;34m\u001b[0m\u001b[0m\n\u001b[0m\u001b[1;32m    277\u001b[0m \u001b[0;34m\u001b[0m\u001b[0m\n\u001b[1;32m    278\u001b[0m         \u001b[0;31m# wrap results\u001b[0m\u001b[0;34m\u001b[0m\u001b[0;34m\u001b[0m\u001b[0;34m\u001b[0m\u001b[0m\n",
      "\u001b[0;32m/opt/conda/lib/python3.9/site-packages/pandas/core/apply.py\u001b[0m in \u001b[0;36mapply_series_generator\u001b[0;34m(self)\u001b[0m\n\u001b[1;32m    288\u001b[0m             \u001b[0;32mfor\u001b[0m \u001b[0mi\u001b[0m\u001b[0;34m,\u001b[0m \u001b[0mv\u001b[0m \u001b[0;32min\u001b[0m \u001b[0menumerate\u001b[0m\u001b[0;34m(\u001b[0m\u001b[0mseries_gen\u001b[0m\u001b[0;34m)\u001b[0m\u001b[0;34m:\u001b[0m\u001b[0;34m\u001b[0m\u001b[0;34m\u001b[0m\u001b[0m\n\u001b[1;32m    289\u001b[0m                 \u001b[0;31m# ignore SettingWithCopy here in case the user mutates\u001b[0m\u001b[0;34m\u001b[0m\u001b[0;34m\u001b[0m\u001b[0;34m\u001b[0m\u001b[0m\n\u001b[0;32m--> 290\u001b[0;31m                 \u001b[0mresults\u001b[0m\u001b[0;34m[\u001b[0m\u001b[0mi\u001b[0m\u001b[0;34m]\u001b[0m \u001b[0;34m=\u001b[0m \u001b[0mself\u001b[0m\u001b[0;34m.\u001b[0m\u001b[0mf\u001b[0m\u001b[0;34m(\u001b[0m\u001b[0mv\u001b[0m\u001b[0;34m)\u001b[0m\u001b[0;34m\u001b[0m\u001b[0;34m\u001b[0m\u001b[0m\n\u001b[0m\u001b[1;32m    291\u001b[0m                 \u001b[0;32mif\u001b[0m \u001b[0misinstance\u001b[0m\u001b[0;34m(\u001b[0m\u001b[0mresults\u001b[0m\u001b[0;34m[\u001b[0m\u001b[0mi\u001b[0m\u001b[0;34m]\u001b[0m\u001b[0;34m,\u001b[0m \u001b[0mABCSeries\u001b[0m\u001b[0;34m)\u001b[0m\u001b[0;34m:\u001b[0m\u001b[0;34m\u001b[0m\u001b[0;34m\u001b[0m\u001b[0m\n\u001b[1;32m    292\u001b[0m                     \u001b[0;31m# If we have a view on v, we need to make a copy because\u001b[0m\u001b[0;34m\u001b[0m\u001b[0;34m\u001b[0m\u001b[0;34m\u001b[0m\u001b[0m\n",
      "\u001b[0;32m/tmp/ipykernel_97/1331716025.py\u001b[0m in \u001b[0;36mcategory_floor\u001b[0;34m(row)\u001b[0m\n\u001b[1;32m      4\u001b[0m     \u001b[0;32mif\u001b[0m \u001b[0mfloors1\u001b[0m \u001b[0;34m==\u001b[0m \u001b[0;36m1\u001b[0m\u001b[0;34m:\u001b[0m \u001b[0;31m# Функция возвращает категорию этажа квартиры в зависимости от общей этажности здания\u001b[0m\u001b[0;34m\u001b[0m\u001b[0;34m\u001b[0m\u001b[0m\n\u001b[1;32m      5\u001b[0m         \u001b[0;32mreturn\u001b[0m \u001b[0;34m'первый'\u001b[0m\u001b[0;34m\u001b[0m\u001b[0;34m\u001b[0m\u001b[0m\n\u001b[0;32m----> 6\u001b[0;31m     \u001b[0;32mif\u001b[0m \u001b[0mfloors1\u001b[0m \u001b[0;34m==\u001b[0m \u001b[0mfloors2\u001b[0m\u001b[0;34m:\u001b[0m\u001b[0;34m\u001b[0m\u001b[0;34m\u001b[0m\u001b[0m\n\u001b[0m\u001b[1;32m      7\u001b[0m         \u001b[0;32mreturn\u001b[0m \u001b[0;34m'последний'\u001b[0m\u001b[0;34m\u001b[0m\u001b[0;34m\u001b[0m\u001b[0m\n\u001b[1;32m      8\u001b[0m     \u001b[0;32mif\u001b[0m \u001b[0mfloors1\u001b[0m\u001b[0;34m/\u001b[0m\u001b[0mfloors2\u001b[0m \u001b[0;34m==\u001b[0m \u001b[0;36m0\u001b[0m\u001b[0;34m:\u001b[0m\u001b[0;34m\u001b[0m\u001b[0;34m\u001b[0m\u001b[0m\n",
      "\u001b[0;32mpandas/_libs/missing.pyx\u001b[0m in \u001b[0;36mpandas._libs.missing.NAType.__bool__\u001b[0;34m()\u001b[0m\n",
      "\u001b[0;31mTypeError\u001b[0m: boolean value of NA is ambiguous"
     ]
    }
   ],
   "source": [
    "def category_floor(row): # объявляем функцию с одним параметром: row\n",
    "    floors1 = row['floor'] # в переменной floors1 сохраняется этаж квартиры из столбца 'floor'\n",
    "    floors2 = row['floors_total'] # в переменной floors1 сохраняется общая этажность дома из столбца 'floors_total'\n",
    "    if floors1 == 1: # Функция возвращает категорию этажа квартиры в зависимости от общей этажности здания\n",
    "        return 'первый'\n",
    "    if floors1 == floors2:\n",
    "        return 'последний'\n",
    "    if floors1/floors2 == 0:\n",
    "        return 'нет данных'\n",
    "    return 'другой'\n",
    "data['floor_category'] = data.apply(category_floor, axis = 1)"
   ]
  },
  {
   "cell_type": "code",
   "execution_count": null,
   "metadata": {
    "scrolled": true
   },
   "outputs": [],
   "source": [
    "display(data.head(10)) # Проверим что столбец 'floor_category' добавился"
   ]
  },
  {
   "cell_type": "markdown",
   "metadata": {},
   "source": [
    "**Вывод**"
   ]
  },
  {
   "cell_type": "markdown",
   "metadata": {},
   "source": [
    "Удалось добавить категорию этажа квартир "
   ]
  },
  {
   "cell_type": "markdown",
   "metadata": {},
   "source": [
    "### Cоотношение жилой и общей площади, а также отношение площади кухни к общей."
   ]
  },
  {
   "cell_type": "code",
   "execution_count": null,
   "metadata": {},
   "outputs": [],
   "source": [
    "data['living_area_to_total_area'] = data['living_area']/data['total_area'] # добавляю столбец с соотношением жилой и общей площади "
   ]
  },
  {
   "cell_type": "code",
   "execution_count": null,
   "metadata": {},
   "outputs": [],
   "source": [
    "data['kitchen_area_to_total_area'] = data['kitchen_area']/data['total_area'] # добавляю столбец с отношением площади кухни к общей"
   ]
  },
  {
   "cell_type": "code",
   "execution_count": null,
   "metadata": {},
   "outputs": [],
   "source": [
    "display(data.head(10)) # проверяем добавились ли соотношения"
   ]
  },
  {
   "cell_type": "markdown",
   "metadata": {},
   "source": [
    "**Вывод**"
   ]
  },
  {
   "cell_type": "markdown",
   "metadata": {},
   "source": [
    "Удалось добавить соотношение жилой и общей площади, а также отношение площади кухни к общей."
   ]
  },
  {
   "cell_type": "markdown",
   "metadata": {},
   "source": [
    "## Исследовательский анализ данных"
   ]
  },
  {
   "cell_type": "markdown",
   "metadata": {},
   "source": [
    "### Изучение параметра: Площадь"
   ]
  },
  {
   "cell_type": "code",
   "execution_count": null,
   "metadata": {
    "scrolled": true
   },
   "outputs": [],
   "source": [
    "data.hist('total_area', bins=10, range = (10, 150)) # построим диаграмму для изучения распределния площади"
   ]
  },
  {
   "cell_type": "code",
   "execution_count": null,
   "metadata": {
    "scrolled": false
   },
   "outputs": [],
   "source": [
    "print(data['total_area'].describe()) # вызываю метод describe()"
   ]
  },
  {
   "cell_type": "markdown",
   "metadata": {},
   "source": [
    "**Вывод**"
   ]
  },
  {
   "cell_type": "markdown",
   "metadata": {},
   "source": [
    "Площадь распределена нормально. Значения варируется от 12 до 900 квадратных метров со срденим занчением 60.34 и стандартным отклонение 35.65. Наибольшее число квартир имеют площадь от 39 до 50 квадратных метров"
   ]
  },
  {
   "cell_type": "markdown",
   "metadata": {},
   "source": [
    "### Изучение праметра: Цена"
   ]
  },
  {
   "cell_type": "code",
   "execution_count": null,
   "metadata": {
    "scrolled": true
   },
   "outputs": [],
   "source": [
    "data.hist('last_price', bins=5, range = (12000, 7630000)); # построим диаграмму для изучения распределния цены"
   ]
  },
  {
   "cell_type": "code",
   "execution_count": null,
   "metadata": {
    "scrolled": true
   },
   "outputs": [],
   "source": [
    "print(data['last_price'].describe()) # вызываю метод describe()"
   ]
  },
  {
   "cell_type": "markdown",
   "metadata": {},
   "source": [
    "**Вывод**"
   ]
  },
  {
   "cell_type": "markdown",
   "metadata": {},
   "source": [
    "Стоимость распределена нормально. Минимальная стоимость 12 190, максимальная 763 000 000. В среднем кваритры стоят 6 541 549, а стандартное отклонение 23 699. Наибольшее число значений стоимости находится приблизительно на интевале от 3 000 000 до 4 500 000"
   ]
  },
  {
   "cell_type": "markdown",
   "metadata": {},
   "source": [
    "### Изучение праметра: Число комнат"
   ]
  },
  {
   "cell_type": "code",
   "execution_count": null,
   "metadata": {
    "scrolled": true
   },
   "outputs": [],
   "source": [
    "data.hist('rooms', range = (0, 10)) # построим диаграмму для изучения распределния цены"
   ]
  },
  {
   "cell_type": "code",
   "execution_count": null,
   "metadata": {
    "scrolled": true
   },
   "outputs": [],
   "source": [
    "print(data['rooms'].describe()) # вызываю метод describe()"
   ]
  },
  {
   "cell_type": "markdown",
   "metadata": {},
   "source": [
    "**Вывод**"
   ]
  },
  {
   "cell_type": "markdown",
   "metadata": {},
   "source": [
    "Число комнат распределена нормально. Значения варируется от 0 до 19. В среднем в квартирах по 2 комнаты. Самые частая планировка в квартирах от 1 до 3 комнат."
   ]
  },
  {
   "cell_type": "markdown",
   "metadata": {},
   "source": [
    "### Изучение праметра: Высота потолков"
   ]
  },
  {
   "cell_type": "code",
   "execution_count": null,
   "metadata": {
    "scrolled": true
   },
   "outputs": [],
   "source": [
    "data.hist('ceiling_height', range = (1, 5)) # построим диаграмму для изучения распределния высоты потолков"
   ]
  },
  {
   "cell_type": "code",
   "execution_count": null,
   "metadata": {
    "scrolled": true
   },
   "outputs": [],
   "source": [
    "print(data['ceiling_height'].describe()) # вызываю метод describe()"
   ]
  },
  {
   "cell_type": "markdown",
   "metadata": {},
   "source": [
    "**Вывод**"
   ]
  },
  {
   "cell_type": "markdown",
   "metadata": {},
   "source": [
    "Высота потолков распределена нормально. Минимальная высота потолков 1 метр, максимальная 100. В среднем квартиры имею высоту потолков 2,72 метра. Наиболее часто встречаются квартиры с потолками высотой приблизительно от 2.6 до 3 метров"
   ]
  },
  {
   "cell_type": "markdown",
   "metadata": {},
   "source": [
    "### Изучение времени продажи квартиры"
   ]
  },
  {
   "cell_type": "code",
   "execution_count": null,
   "metadata": {
    "scrolled": true
   },
   "outputs": [],
   "source": [
    "data.hist('days_exposition', bins=5) # построим диаграмму для изучения распределния времени продажи квартир"
   ]
  },
  {
   "cell_type": "code",
   "execution_count": null,
   "metadata": {},
   "outputs": [],
   "source": [
    "print(data['days_exposition'].describe()) # вызываю метод describe()"
   ]
  },
  {
   "cell_type": "markdown",
   "metadata": {},
   "source": [
    "**Вывод**"
   ]
  },
  {
   "cell_type": "markdown",
   "metadata": {},
   "source": [
    "Время продажи квартир распределено по распределению Пуассона. Минимальное время продажи квартиры 1 день, максимальное 1580 дней. В среднем квартиру продают за 180 дней (примерно пол года). Но время продажи варируетс ясильно, поэтому лучше посмотреть медиану, она равна 95 дням. Обычно квартиру продают (судя по распределению в гистаграмме) менее чем за 200 дней. 25% квартир продается не более чем за 45 дней (это можно считать очень быстрым результатом). Исходя из графика про квартры которые продают дольше 1500 дней (более 4х лет) можно сказать что их продают необычно долго."
   ]
  },
  {
   "cell_type": "markdown",
   "metadata": {},
   "source": [
    "### Описание редких и выбивающихся значений"
   ]
  },
  {
   "cell_type": "markdown",
   "metadata": {},
   "source": [
    "Для описания редких и выбивающихся значений лучше всего подходит диаграмма размаха. Построим её для каждого из интерисующих нас столбцов"
   ]
  },
  {
   "cell_type": "code",
   "execution_count": null,
   "metadata": {
    "scrolled": false
   },
   "outputs": [],
   "source": [
    "import matplotlib.pyplot as plt # обращаюсь к модулю pyplot библиотеки matplotlib\n",
    "data.boxplot('days_exposition') # строю диаграмму размаха для столбца 'days_exposition'\n",
    "plt.ylim(0, 600) # применяю метод ylim(y_min, y_max) для изменения масшатаба по вертикальной оси"
   ]
  },
  {
   "cell_type": "code",
   "execution_count": null,
   "metadata": {},
   "outputs": [],
   "source": [
    "data.boxplot('ceiling_height') # строю диаграмму размаха для столбца 'ceiling_height'\n",
    "plt.ylim(2.4, 2.9) # применяю метод ylim(y_min, y_max) для изменения масшатаба по вертикальной оси"
   ]
  },
  {
   "cell_type": "markdown",
   "metadata": {},
   "source": []
  },
  {
   "cell_type": "code",
   "execution_count": null,
   "metadata": {
    "scrolled": true
   },
   "outputs": [],
   "source": [
    "data.boxplot('rooms') # строю диаграмму размаха для столбца 'rooms'\n",
    "plt.ylim(0, 7) # применяю метод ylim(y_min, y_max) для изменения масшатаба по вертикальной оси"
   ]
  },
  {
   "cell_type": "code",
   "execution_count": null,
   "metadata": {
    "scrolled": false
   },
   "outputs": [],
   "source": [
    "data.boxplot('total_area') # строю диаграмму размаха для столбца 'total_area'\n",
    "plt.ylim(10, 120) # применяю метод ylim(y_min, y_max) для изменения масшатаба по вертикальной оси"
   ]
  },
  {
   "cell_type": "code",
   "execution_count": null,
   "metadata": {
    "scrolled": true
   },
   "outputs": [],
   "source": [
    "data.boxplot('last_price') # строю диаграмму размаха для столбца 'last_price'\n",
    "plt.ylim(0, 15000000) # применяю метод ylim(y_min, y_max) для изменения масшатаба по вертикальной оси"
   ]
  },
  {
   "cell_type": "markdown",
   "metadata": {},
   "source": [
    "На графиках видно, что во всех исследуемых столбцах есть выбивающиеся значения, обсудим каждый из них. В столбце 'days_exposition' ещё при рассмотрении диаграммы распределения значений отмечалось, что если продажа осущиствлялась более 1200 дней (более 4 лет), то это необычно долго, диаграмма размаха только подтвердила это, используем это значение как границу, что бы убрать выбивающиеся значения. В столбце 'ceiling_height' имеется много выбросов, например есть значение в 100 метров, ранее было сказано что больше всего значений на промежутке от 2,6 до 3 метров, изучив также и диаграмму распределения этого столбца, возьмём с запасом 7 метров, для верхней границы выбивающихся значений данного столбца, для нижней 2 метра. В столбеце 'rooms' знчения изменяются до 19 комнат, это очень много, возьмем с запасом исходя из графика и диаграммы размаха границу для выбивающихся в 10 комнат. Для 'total_area' исходя из графиков возьмём верхнюю границу общей площади 200 квадратных метров, нижнюю 15 квадратных метров. В 'last_price' значения варируются очень широко, исходя из графиков возьмём нижнюю границу стоимости в 1 000 000, верхнюю в 200 000 000."
   ]
  },
  {
   "cell_type": "code",
   "execution_count": null,
   "metadata": {
    "scrolled": true
   },
   "outputs": [],
   "source": [
    "display(data)"
   ]
  },
  {
   "cell_type": "code",
   "execution_count": null,
   "metadata": {},
   "outputs": [],
   "source": [
    "good_data = data[(data['last_price'] > 800000) & (data['last_price'] < 200000000) & (data['total_area'] < 200) & (data['total_area'] > 15) & (data['rooms'] < 10) & (data['ceiling_height'] > 2) & (data['ceiling_height'] < 7) & (data['days_exposition'] < 1500)]\n",
    "display(good_data)"
   ]
  },
  {
   "cell_type": "markdown",
   "metadata": {},
   "source": [
    "Подсчитаем процент отброшенных данных"
   ]
  },
  {
   "cell_type": "code",
   "execution_count": null,
   "metadata": {},
   "outputs": [],
   "source": [
    "initial_quantity = 23699\n",
    "remaining_quantity = 20185\n",
    "\n",
    "discarded_data = (remaining_quantity/initial_quantity)*100\n",
    "print(discarded_data)"
   ]
  },
  {
   "cell_type": "markdown",
   "metadata": {},
   "source": [
    "**Вывод**"
   ]
  },
  {
   "cell_type": "markdown",
   "metadata": {},
   "source": [
    "Проанализировали редкие и выбивающиеся значения, также удалось их убрать из наших данных"
   ]
  },
  {
   "cell_type": "markdown",
   "metadata": {},
   "source": [
    "### Факторы больше всего влияющие на стоимость квартиры"
   ]
  },
  {
   "cell_type": "markdown",
   "metadata": {},
   "source": [
    "Что бы изучить зависимость цены от квадратного метра, числа комнат построим для этих величин диаграмму рассеяния и посчитаем коэффициент корреляции. Для анализа зависимость цены от даты размещения объявления и этажа построим сводные таблицы"
   ]
  },
  {
   "cell_type": "code",
   "execution_count": null,
   "metadata": {
    "scrolled": true
   },
   "outputs": [],
   "source": [
    "good_data.plot(x='last_price', y='total_area', kind='scatter', alpha=0.1) # строю диаграмму рассеяния для нужных данных"
   ]
  },
  {
   "cell_type": "code",
   "execution_count": null,
   "metadata": {
    "scrolled": true
   },
   "outputs": [],
   "source": [
    "print(good_data['total_area'].corr(good_data['last_price'])) # Считаю коэффицент корреляции Пирсона"
   ]
  },
  {
   "cell_type": "markdown",
   "metadata": {},
   "source": [
    "Исходя из полученных результатов: имеется взаимосвязь между количеством квадратных метров и ценой, коэффициент корреляции Пирсона — положительный и равен 0,7 (довольно высокое значение), следовательно,  с ростом величины квадратных метров растёт и цена, что подтверждает и диаграмма рассеяния."
   ]
  },
  {
   "cell_type": "code",
   "execution_count": null,
   "metadata": {},
   "outputs": [],
   "source": [
    "good_data.plot(x='last_price', y='rooms', kind='scatter', alpha=0.1) # строю диаграмму рассеяния для нужных данных"
   ]
  },
  {
   "cell_type": "code",
   "execution_count": null,
   "metadata": {},
   "outputs": [],
   "source": [
    "print(good_data['rooms'].corr(good_data['last_price'])) # Считаю коэффицент корреляции Пирсона"
   ]
  },
  {
   "cell_type": "markdown",
   "metadata": {},
   "source": [
    "Исходя из полученных результатов: имеется взаимосвязь между количеством квадратных метров и ценой, коэффициент корреляции Пирсона — положительный и равен 0,4. Корреляция в 0.4 говорит о наличии связи, однако не слишком сильной. Выходит, увеличение числа комнат сопровождается прибавкой в цене, но так бывает не всегда, когда количесвто комнат превышает 3, идет снижение цены, что подтверждает диаграмма рассеяния. "
   ]
  },
  {
   "cell_type": "code",
   "execution_count": null,
   "metadata": {
    "scrolled": true
   },
   "outputs": [],
   "source": [
    "data_pivot = data.pivot_table(index=['month_exposition'], values='last_price', aggfunc=['median']) # делаю сводную таблицу, которая покажет медианное значение цены, в зависимости от месяца размещения объявления\n",
    "display(data_pivot) # вывожу на экран данную таблицу"
   ]
  },
  {
   "cell_type": "markdown",
   "metadata": {},
   "source": [
    "Как видно из сводной таблицы, прямой связи между месяцом размещения объявления и ценой нет "
   ]
  },
  {
   "cell_type": "code",
   "execution_count": null,
   "metadata": {
    "scrolled": false
   },
   "outputs": [],
   "source": [
    "data_pivot = data.pivot_table(index=['day_exposition'], values='last_price', aggfunc=['median']) # делаю сводную таблицу, которая покажет медианное значение цены, в зависимости от дня размещения объявления\n",
    "display(data_pivot) # вывожу на экран данную таблицу"
   ]
  },
  {
   "cell_type": "markdown",
   "metadata": {},
   "source": [
    "Как видно из сводной таблицы, прямой связи между днём размещения объявления и ценой нет "
   ]
  },
  {
   "cell_type": "code",
   "execution_count": null,
   "metadata": {
    "scrolled": true
   },
   "outputs": [],
   "source": [
    "data_pivot = data.pivot_table(index=['year_exposition'], values='last_price', aggfunc=['median']) # делаю сводную таблицу, которая покажет медианное значение цены, в зависимости от года размещения объявления\n",
    "display(data_pivot) # вывожу на экран данную таблицу"
   ]
  },
  {
   "cell_type": "markdown",
   "metadata": {},
   "source": [
    "Как видно из сводной таблицы, объявления размещённые в 2014 году самые дорогие, далее от года к году цена снижется, но с 2018 года есть денденция к возрастанию цены"
   ]
  },
  {
   "cell_type": "code",
   "execution_count": null,
   "metadata": {},
   "outputs": [],
   "source": [
    "data_pivot = data.pivot_table(index=['floor_category'], values='last_price', aggfunc=['median']) # делаю сводную таблицу, которая покажет медианное значение цены, в зависимости от категории этажа размещения объявления\n",
    "display(data_pivot) # вывожу на экран данную таблицу"
   ]
  },
  {
   "cell_type": "markdown",
   "metadata": {},
   "source": [
    "Как видно из сводной таблицы, квартиры на первом этаже самые дешёвые, далее идут квартиры на последнем этаже. Квартиры не на первом и последнем этаже, что логично из-за вличния объективных факторов стоят дороже"
   ]
  },
  {
   "cell_type": "markdown",
   "metadata": {},
   "source": [
    "Для анализа 10 населённых пунктов с наибольшим числом объявлений и посчита среднеё цены квадратного метра в этих населённых пунктах использую сводные таблицы"
   ]
  },
  {
   "cell_type": "code",
   "execution_count": null,
   "metadata": {},
   "outputs": [],
   "source": [
    "pivot = data_pivot = data.pivot_table(index=['locality_name'], values='last_price', aggfunc=['count']) # делаю сводную таблицу, которая покажет число объявлений из каждого населенного понкта\n",
    "display(pivot) # вывожу на экран данную таблицу"
   ]
  },
  {
   "cell_type": "code",
   "execution_count": null,
   "metadata": {
    "scrolled": true
   },
   "outputs": [],
   "source": [
    "pivot.columns = ['count'] # переименовываю столбец в сводной таблице\n",
    "display(pivot)"
   ]
  },
  {
   "cell_type": "code",
   "execution_count": null,
   "metadata": {
    "scrolled": false
   },
   "outputs": [],
   "source": [
    "sorted_data = pivot.sort_values(by='count', ascending=False) # сортирую значения в сводной таблиц по убыванию\n",
    "display(sorted_data.head(10))"
   ]
  },
  {
   "cell_type": "markdown",
   "metadata": {},
   "source": [
    "В сводной таблице выше представленны населенные пункты с наибольшим числом объявлений"
   ]
  },
  {
   "cell_type": "code",
   "execution_count": null,
   "metadata": {},
   "outputs": [],
   "source": [
    "square_meter_stat = data.pivot_table(index=['locality_name'], values='price_square_meter', aggfunc=['mean']) # делаю сводную таблицу со средним значением цены за квадратгый метр в зависимости от населенного пункта\n",
    "display(square_meter_stat)"
   ]
  },
  {
   "cell_type": "code",
   "execution_count": null,
   "metadata": {
    "scrolled": true
   },
   "outputs": [],
   "source": [
    "pivot_full = sorted_data.join(square_meter_stat) # соединяю данные из двух сводных таблиц\n",
    "display(pivot_full.head(10))"
   ]
  },
  {
   "cell_type": "markdown",
   "metadata": {},
   "source": [
    "Таким образом, средняя цена квадратного метра в населённых пунктах с наибольшим числом объявлений посчитана."
   ]
  },
  {
   "cell_type": "markdown",
   "metadata": {},
   "source": [
    "**Вывод**"
   ]
  },
  {
   "cell_type": "markdown",
   "metadata": {},
   "source": [
    "Населённые пункты с самой высокой стоимостью жилья: Санкт-Петербург, Пушкин, деревня Кудрово\n",
    "Населённые пункты с самой низкой стоимостью жилья: Выборг, Всеволожск, Гатчина."
   ]
  },
  {
   "cell_type": "markdown",
   "metadata": {},
   "source": [
    "### Изучение предложения квартир"
   ]
  },
  {
   "cell_type": "code",
   "execution_count": null,
   "metadata": {
    "scrolled": false
   },
   "outputs": [],
   "source": [
    "data_spb = data[data['locality_name'] == 'Санкт-Петербург'] # Выделяю квартиры в Санкт-Петербурге\n",
    "display(data_spb.head(10))"
   ]
  },
  {
   "cell_type": "code",
   "execution_count": null,
   "metadata": {},
   "outputs": [],
   "source": [
    "data_spb['cityCenters_nearest_km'] = (data['cityCenters_nearest']/1000).round() # Создаю столбец с расстоянием до центра в километрах"
   ]
  },
  {
   "cell_type": "code",
   "execution_count": null,
   "metadata": {
    "scrolled": false
   },
   "outputs": [],
   "source": [
    "square_meter_spb = data_spb.pivot_table(index=['cityCenters_nearest_km'], values='price_square_meter', aggfunc=['mean']) # делаю сводную таблицу со средним значением цены за квадратгый метр в зависимости от расстояния от центра\n",
    "square_meter_spb.columns = ['price_square_meter'] # переименовываю столбец\n",
    "display(square_meter_spb)"
   ]
  },
  {
   "cell_type": "markdown",
   "metadata": {},
   "source": [
    "Построим график зависимости средней цены квадратного метра от расстояния от центра города"
   ]
  },
  {
   "cell_type": "code",
   "execution_count": null,
   "metadata": {
    "scrolled": true
   },
   "outputs": [],
   "source": [
    "square_meter_spb.plot(style='o-', grid=True, xlim=(0, 30))"
   ]
  },
  {
   "cell_type": "markdown",
   "metadata": {},
   "source": [
    "**Вывод**"
   ]
  },
  {
   "cell_type": "markdown",
   "metadata": {},
   "source": [
    "На графике четко видно, где он сильно меняется (район 7 км)— это и будет граница центральной зоны"
   ]
  },
  {
   "cell_type": "markdown",
   "metadata": {},
   "source": [
    "### Сегмент квартир в центре"
   ]
  },
  {
   "cell_type": "markdown",
   "metadata": {},
   "source": [
    "Выделим сегмент квартир в центре. Изучим следующие параметры: площадь, цена, число комнат, высота потолков. "
   ]
  },
  {
   "cell_type": "code",
   "execution_count": null,
   "metadata": {
    "scrolled": true
   },
   "outputs": [],
   "source": [
    "Centre_data_spb = data_spb[data_spb['cityCenters_nearest_km'] < 7] # Выделяю квартиры в центре Санкт-Петербурга\n",
    "display(Centre_data_spb.head(10))"
   ]
  },
  {
   "cell_type": "code",
   "execution_count": null,
   "metadata": {
    "scrolled": true
   },
   "outputs": [],
   "source": [
    "Centre_data_spb.hist('total_area', bins=10, range = (10, 150)) # построим диаграмму для изучения распределния площади"
   ]
  },
  {
   "cell_type": "code",
   "execution_count": null,
   "metadata": {
    "scrolled": true
   },
   "outputs": [],
   "source": [
    "print(Centre_data_spb['total_area'].describe())"
   ]
  },
  {
   "cell_type": "code",
   "execution_count": null,
   "metadata": {
    "scrolled": true
   },
   "outputs": [],
   "source": [
    "Centre_data_spb.hist('last_price', bins=5, range = (1000000, 7630000)) # построим диаграмму для изучения распределния цены"
   ]
  },
  {
   "cell_type": "code",
   "execution_count": null,
   "metadata": {
    "scrolled": true
   },
   "outputs": [],
   "source": [
    "print(Centre_data_spb['last_price'].describe()) # вызываю метод describe()"
   ]
  },
  {
   "cell_type": "code",
   "execution_count": null,
   "metadata": {
    "scrolled": true
   },
   "outputs": [],
   "source": [
    "Centre_data_spb.hist('rooms', range = (0, 10)) # построим диаграмму для изучения распределния цены"
   ]
  },
  {
   "cell_type": "code",
   "execution_count": null,
   "metadata": {
    "scrolled": true
   },
   "outputs": [],
   "source": [
    "print(Centre_data_spb['rooms'].describe()) # вызываю метод describe()"
   ]
  },
  {
   "cell_type": "code",
   "execution_count": null,
   "metadata": {
    "scrolled": true
   },
   "outputs": [],
   "source": [
    "Centre_data_spb.hist('ceiling_height', range = (2, 5)) # построим диаграмму для изучения распределния высоты потолков"
   ]
  },
  {
   "cell_type": "code",
   "execution_count": null,
   "metadata": {
    "scrolled": false
   },
   "outputs": [],
   "source": [
    "print(Centre_data_spb['ceiling_height'].describe()) # вызываю метод describe()"
   ]
  },
  {
   "cell_type": "markdown",
   "metadata": {},
   "source": [
    "Посмотрим чем данные в центре, отличаются от данных по всей базе. Площадь распределена похожим убразом, обращает на себя вниманее, что в среднем, квартиры в центре больше. Цены на квариты ожидаемо сильно различаются, дешёвых квартир в центре нет, ценник начинается от 1 600 000 в распределении преобладают дорогие квартиры. Число комнат различается не сильно, медиана числа комнат в центре 3, в общем по базе 2. Высота потолков различается незначительно, в среднем высота потлков в центре немного выше."
   ]
  },
  {
   "cell_type": "markdown",
   "metadata": {},
   "source": [
    "Посмотрим различия в факторах, которые влияют на стоимость квартир"
   ]
  },
  {
   "cell_type": "code",
   "execution_count": null,
   "metadata": {
    "scrolled": true
   },
   "outputs": [],
   "source": [
    "Centre_data_spb.plot(x='last_price', y='total_area', kind='scatter', alpha=0.1) # строю диаграмму рассеяния для нужных данных"
   ]
  },
  {
   "cell_type": "code",
   "execution_count": null,
   "metadata": {},
   "outputs": [],
   "source": [
    "print(Centre_data_spb['total_area'].corr(Centre_data_spb['last_price'])) # Считаю коэффицент корреляции Пирсона"
   ]
  },
  {
   "cell_type": "code",
   "execution_count": null,
   "metadata": {
    "scrolled": false
   },
   "outputs": [],
   "source": [
    "Centre_data_spb.plot(x='rooms', y='last_price', kind='scatter', alpha=0.1) # строю диаграмму рассеяния для нужных данных\n"
   ]
  },
  {
   "cell_type": "code",
   "execution_count": null,
   "metadata": {},
   "outputs": [],
   "source": [
    "print(Centre_data_spb['rooms'].corr(Centre_data_spb['last_price'])) # Считаю коэффицент корреляции Пирсона"
   ]
  },
  {
   "cell_type": "code",
   "execution_count": null,
   "metadata": {
    "scrolled": true
   },
   "outputs": [],
   "source": [
    "data_pivot = Centre_data_spb.pivot_table(index=['floor_category'], values='last_price', aggfunc=['median']) # делаю сводную таблицу, которая покажет медианное значение цены, в зависимости от категории этажа размещения объявления\n",
    "display(data_pivot) # вывожу на экран данную таблицу"
   ]
  },
  {
   "cell_type": "code",
   "execution_count": null,
   "metadata": {
    "scrolled": true
   },
   "outputs": [],
   "source": [
    "data_pivot = Centre_data_spb.pivot_table(index=['year_exposition'], values='last_price', aggfunc=['median']) # делаю сводную таблицу, которая покажет медианное значение цены, в зависимости от года размещения объявления\n",
    "display(data_pivot) # вывожу на экран данную таблицу"
   ]
  },
  {
   "cell_type": "markdown",
   "metadata": {},
   "source": [
    "Посмотрим чем данные в центре, отличаются от данных по всей базе. Площадь почти также влияет на стоимость коэффициент корреляции в центре 0.6, во всей базе 0.7, распределение также похоже. Число комнат также влияет на стоимость в центре, как и во всей базе (коэффициент корреляции в центре 0.3, во всей базе 0.4) увеличение числа комнат сопровождается прибавкой в цене, но так бывает не всегда. Этаж почти аналагично со всей базой влияет на стоимость квартир в центре, единственное последний этаж не так существенно отличаетс от других, а вот первый этаж также дешевле других. Удаленность от центра аналогично влияет на цену, как и вовсем Санкт-Петербурге. Влияние на цену квартиры даты размещения во всей базе было обнаружено только по годам, в центре цена менялась по годам аналогичным образом. \n",
    "Таким образом, на стоимость квартир в центре влияют похожие со всей базой факторы."
   ]
  },
  {
   "cell_type": "markdown",
   "metadata": {},
   "source": [
    "## Общий вывод"
   ]
  },
  {
   "cell_type": "markdown",
   "metadata": {},
   "source": [
    "В ходе исследования были изучены следующие параметры: площадь, цена, число комнат, высота потолков.\n",
    "\n",
    "Выполнены задания:\n",
    "1. Изучите время продажи квартиры\n",
    "2. Изучены факторы влияющие на стоимость квартир\n",
    "3. Изучены предложения квартир\n",
    "4. Проанализирован сегмент квартир в центре\n",
    "\n",
    "Таким образом, были выполнены все задачи, поставленные перед началом исследования."
   ]
  }
 ],
 "metadata": {
  "ExecuteTimeLog": [
   {
    "duration": 573,
    "start_time": "2022-02-11T12:34:13.963Z"
   },
   {
    "duration": 31,
    "start_time": "2022-02-11T12:36:36.967Z"
   },
   {
    "duration": 7,
    "start_time": "2022-02-11T12:37:41.647Z"
   },
   {
    "duration": 6,
    "start_time": "2022-02-11T12:38:25.993Z"
   },
   {
    "duration": 56,
    "start_time": "2022-02-11T12:39:21.908Z"
   },
   {
    "duration": 5,
    "start_time": "2022-02-11T12:39:27.217Z"
   },
   {
    "duration": 5,
    "start_time": "2022-02-11T12:42:47.769Z"
   },
   {
    "duration": 58,
    "start_time": "2022-02-11T12:48:33.833Z"
   },
   {
    "duration": 79,
    "start_time": "2022-02-11T12:48:53.266Z"
   },
   {
    "duration": 54,
    "start_time": "2022-02-11T12:49:12.937Z"
   },
   {
    "duration": 54,
    "start_time": "2022-02-11T12:49:32.878Z"
   },
   {
    "duration": 58,
    "start_time": "2022-02-11T12:50:33.107Z"
   },
   {
    "duration": 378,
    "start_time": "2022-02-11T12:51:42.304Z"
   },
   {
    "duration": 119,
    "start_time": "2022-02-11T12:51:50.532Z"
   },
   {
    "duration": 108,
    "start_time": "2022-02-11T12:51:55.949Z"
   },
   {
    "duration": 91,
    "start_time": "2022-02-11T12:52:01.593Z"
   },
   {
    "duration": 104,
    "start_time": "2022-02-11T12:53:33.672Z"
   },
   {
    "duration": 79,
    "start_time": "2022-02-11T13:01:20.952Z"
   },
   {
    "duration": 11,
    "start_time": "2022-02-11T13:01:40.675Z"
   },
   {
    "duration": 26,
    "start_time": "2022-02-11T13:07:55.795Z"
   },
   {
    "duration": 82,
    "start_time": "2022-02-11T13:09:28.673Z"
   },
   {
    "duration": 95,
    "start_time": "2022-02-11T13:09:28.757Z"
   },
   {
    "duration": 9,
    "start_time": "2022-02-11T13:09:28.853Z"
   },
   {
    "duration": 102,
    "start_time": "2022-02-11T13:16:22.177Z"
   },
   {
    "duration": 93,
    "start_time": "2022-02-11T13:18:10.307Z"
   },
   {
    "duration": 96,
    "start_time": "2022-02-11T13:19:03.001Z"
   },
   {
    "duration": 96,
    "start_time": "2022-02-11T13:35:48.584Z"
   },
   {
    "duration": 76,
    "start_time": "2022-02-11T14:16:31.268Z"
   },
   {
    "duration": 79,
    "start_time": "2022-02-11T14:16:49.299Z"
   },
   {
    "duration": 102,
    "start_time": "2022-02-11T14:18:25.601Z"
   },
   {
    "duration": 9,
    "start_time": "2022-02-11T14:33:02.881Z"
   },
   {
    "duration": 5,
    "start_time": "2022-02-11T15:31:06.909Z"
   },
   {
    "duration": 12,
    "start_time": "2022-02-11T15:31:49.616Z"
   },
   {
    "duration": 21,
    "start_time": "2022-02-11T15:31:58.214Z"
   },
   {
    "duration": 309,
    "start_time": "2022-02-13T06:14:50.342Z"
   },
   {
    "duration": 717,
    "start_time": "2022-02-13T06:14:54.708Z"
   },
   {
    "duration": 68,
    "start_time": "2022-02-13T06:14:55.427Z"
   },
   {
    "duration": 8,
    "start_time": "2022-02-13T06:14:55.497Z"
   },
   {
    "duration": 14,
    "start_time": "2022-02-13T06:14:55.507Z"
   },
   {
    "duration": 2,
    "start_time": "2022-02-13T06:14:55.523Z"
   },
   {
    "duration": 20,
    "start_time": "2022-02-13T06:14:55.527Z"
   },
   {
    "duration": 2,
    "start_time": "2022-02-13T06:39:00.120Z"
   },
   {
    "duration": 901,
    "start_time": "2022-02-14T13:42:26.712Z"
   },
   {
    "duration": 123,
    "start_time": "2022-02-14T13:42:27.616Z"
   },
   {
    "duration": 23,
    "start_time": "2022-02-14T13:42:27.743Z"
   },
   {
    "duration": 12,
    "start_time": "2022-02-14T13:42:27.769Z"
   },
   {
    "duration": 5,
    "start_time": "2022-02-14T13:42:27.783Z"
   },
   {
    "duration": 87,
    "start_time": "2022-02-14T13:42:27.790Z"
   },
   {
    "duration": 86,
    "start_time": "2022-02-14T13:57:28.427Z"
   },
   {
    "duration": 91,
    "start_time": "2022-02-14T13:58:20.060Z"
   },
   {
    "duration": 97,
    "start_time": "2022-02-14T13:58:51.562Z"
   },
   {
    "duration": 114,
    "start_time": "2022-02-14T13:59:21.203Z"
   },
   {
    "duration": 92,
    "start_time": "2022-02-14T13:59:36.128Z"
   },
   {
    "duration": 99,
    "start_time": "2022-02-14T13:59:37.659Z"
   },
   {
    "duration": 98,
    "start_time": "2022-02-14T13:59:44.417Z"
   },
   {
    "duration": 101,
    "start_time": "2022-02-14T13:59:48.889Z"
   },
   {
    "duration": 103,
    "start_time": "2022-02-14T14:02:02.189Z"
   },
   {
    "duration": 393,
    "start_time": "2022-02-14T14:05:07.333Z"
   },
   {
    "duration": 17,
    "start_time": "2022-02-14T14:05:58.602Z"
   },
   {
    "duration": 16,
    "start_time": "2022-02-14T14:06:30.906Z"
   },
   {
    "duration": 17,
    "start_time": "2022-02-14T14:07:48.279Z"
   },
   {
    "duration": 18,
    "start_time": "2022-02-14T14:08:37.315Z"
   },
   {
    "duration": 14,
    "start_time": "2022-02-14T14:09:06.776Z"
   },
   {
    "duration": 15,
    "start_time": "2022-02-14T14:09:25.660Z"
   },
   {
    "duration": 318,
    "start_time": "2022-02-14T14:09:52.803Z"
   },
   {
    "duration": 18,
    "start_time": "2022-02-14T14:12:58.270Z"
   },
   {
    "duration": 304,
    "start_time": "2022-02-14T14:13:45.240Z"
   },
   {
    "duration": 262,
    "start_time": "2022-02-14T14:13:56.851Z"
   },
   {
    "duration": 75,
    "start_time": "2022-02-14T14:14:03.587Z"
   },
   {
    "duration": 120,
    "start_time": "2022-02-14T14:14:03.664Z"
   },
   {
    "duration": 14,
    "start_time": "2022-02-14T14:14:03.787Z"
   },
   {
    "duration": 30,
    "start_time": "2022-02-14T14:14:03.803Z"
   },
   {
    "duration": 5,
    "start_time": "2022-02-14T14:14:03.836Z"
   },
   {
    "duration": 36,
    "start_time": "2022-02-14T14:14:03.843Z"
   },
   {
    "duration": 57,
    "start_time": "2022-02-14T14:14:03.881Z"
   },
   {
    "duration": 353,
    "start_time": "2022-02-15T11:51:02.582Z"
   },
   {
    "duration": 185,
    "start_time": "2022-02-15T11:51:22.157Z"
   },
   {
    "duration": 719,
    "start_time": "2022-02-15T11:52:49.076Z"
   },
   {
    "duration": 86,
    "start_time": "2022-02-15T11:52:49.797Z"
   },
   {
    "duration": 11,
    "start_time": "2022-02-15T11:52:49.885Z"
   },
   {
    "duration": 11,
    "start_time": "2022-02-15T11:52:49.898Z"
   },
   {
    "duration": 19,
    "start_time": "2022-02-15T11:52:49.910Z"
   },
   {
    "duration": 33,
    "start_time": "2022-02-15T11:52:49.931Z"
   },
   {
    "duration": 27,
    "start_time": "2022-02-15T11:52:49.966Z"
   },
   {
    "duration": 7,
    "start_time": "2022-02-15T11:52:49.995Z"
   },
   {
    "duration": 4,
    "start_time": "2022-02-15T11:53:09.925Z"
   },
   {
    "duration": 47,
    "start_time": "2022-02-15T11:53:48.878Z"
   },
   {
    "duration": 5,
    "start_time": "2022-02-15T11:56:13.521Z"
   },
   {
    "duration": 47,
    "start_time": "2022-02-15T11:56:20.207Z"
   },
   {
    "duration": 968,
    "start_time": "2022-02-15T11:57:16.259Z"
   },
   {
    "duration": 6,
    "start_time": "2022-02-15T11:57:28.636Z"
   },
   {
    "duration": 5,
    "start_time": "2022-02-15T11:57:30.495Z"
   },
   {
    "duration": 2993,
    "start_time": "2022-02-15T11:57:41.769Z"
   },
   {
    "duration": 130,
    "start_time": "2022-02-15T11:57:44.635Z"
   },
   {
    "duration": 65,
    "start_time": "2022-02-15T11:59:30.595Z"
   },
   {
    "duration": 86,
    "start_time": "2022-02-15T11:59:30.661Z"
   },
   {
    "duration": 10,
    "start_time": "2022-02-15T11:59:30.749Z"
   },
   {
    "duration": 15,
    "start_time": "2022-02-15T11:59:30.761Z"
   },
   {
    "duration": 10,
    "start_time": "2022-02-15T11:59:30.778Z"
   },
   {
    "duration": 41,
    "start_time": "2022-02-15T11:59:30.789Z"
   },
   {
    "duration": 41,
    "start_time": "2022-02-15T11:59:30.832Z"
   },
   {
    "duration": 6,
    "start_time": "2022-02-15T11:59:30.875Z"
   },
   {
    "duration": 57,
    "start_time": "2022-02-15T11:59:30.883Z"
   },
   {
    "duration": 12,
    "start_time": "2022-02-15T12:19:13.839Z"
   },
   {
    "duration": 9,
    "start_time": "2022-02-15T12:32:40.756Z"
   },
   {
    "duration": 11,
    "start_time": "2022-02-15T12:32:50.386Z"
   },
   {
    "duration": 43,
    "start_time": "2022-02-15T12:33:23.124Z"
   },
   {
    "duration": 6,
    "start_time": "2022-02-15T12:39:20.904Z"
   },
   {
    "duration": 6,
    "start_time": "2022-02-15T12:39:43.892Z"
   },
   {
    "duration": 7,
    "start_time": "2022-02-15T12:39:57.745Z"
   },
   {
    "duration": 6,
    "start_time": "2022-02-15T12:40:57.359Z"
   },
   {
    "duration": 41,
    "start_time": "2022-02-15T12:41:35.025Z"
   },
   {
    "duration": 6,
    "start_time": "2022-02-15T12:45:42.822Z"
   },
   {
    "duration": 5,
    "start_time": "2022-02-15T12:45:47.217Z"
   },
   {
    "duration": 41,
    "start_time": "2022-02-15T12:45:49.204Z"
   },
   {
    "duration": 638,
    "start_time": "2022-02-15T13:52:26.637Z"
   },
   {
    "duration": 73,
    "start_time": "2022-02-15T13:52:27.277Z"
   },
   {
    "duration": 9,
    "start_time": "2022-02-15T13:52:27.351Z"
   },
   {
    "duration": 7,
    "start_time": "2022-02-15T13:52:27.362Z"
   },
   {
    "duration": 3,
    "start_time": "2022-02-15T13:52:27.370Z"
   },
   {
    "duration": 19,
    "start_time": "2022-02-15T13:52:27.374Z"
   },
   {
    "duration": 44,
    "start_time": "2022-02-15T13:52:27.394Z"
   },
   {
    "duration": 4,
    "start_time": "2022-02-15T13:52:27.440Z"
   },
   {
    "duration": 36,
    "start_time": "2022-02-15T13:52:27.446Z"
   },
   {
    "duration": 12,
    "start_time": "2022-02-15T13:52:27.484Z"
   },
   {
    "duration": 7,
    "start_time": "2022-02-15T13:52:27.497Z"
   },
   {
    "duration": 30,
    "start_time": "2022-02-15T13:52:27.506Z"
   },
   {
    "duration": 5,
    "start_time": "2022-02-15T13:52:27.537Z"
   },
   {
    "duration": 6,
    "start_time": "2022-02-15T13:52:27.543Z"
   },
   {
    "duration": 4,
    "start_time": "2022-02-15T13:52:27.550Z"
   },
   {
    "duration": 39,
    "start_time": "2022-02-15T13:52:27.556Z"
   },
   {
    "duration": 690,
    "start_time": "2022-02-15T13:52:27.596Z"
   },
   {
    "duration": 1325,
    "start_time": "2022-02-15T14:06:23.522Z"
   },
   {
    "duration": 1623,
    "start_time": "2022-02-15T14:06:47.747Z"
   },
   {
    "duration": 586,
    "start_time": "2022-02-15T14:09:17.570Z"
   },
   {
    "duration": 530,
    "start_time": "2022-02-15T14:22:25.936Z"
   },
   {
    "duration": 27,
    "start_time": "2022-02-15T14:24:30.458Z"
   },
   {
    "duration": 25,
    "start_time": "2022-02-15T14:24:38.805Z"
   },
   {
    "duration": 35,
    "start_time": "2022-02-15T14:24:44.831Z"
   },
   {
    "duration": 34,
    "start_time": "2022-02-15T14:24:57.076Z"
   },
   {
    "duration": 34,
    "start_time": "2022-02-15T14:26:24.412Z"
   },
   {
    "duration": 8,
    "start_time": "2022-02-15T14:35:33.824Z"
   },
   {
    "duration": 4,
    "start_time": "2022-02-15T14:36:49.052Z"
   },
   {
    "duration": 22,
    "start_time": "2022-02-15T14:37:08.846Z"
   },
   {
    "duration": 25,
    "start_time": "2022-02-15T14:39:34.086Z"
   },
   {
    "duration": 440,
    "start_time": "2022-02-15T14:43:05.266Z"
   },
   {
    "duration": 27,
    "start_time": "2022-02-15T14:43:10.344Z"
   },
   {
    "duration": 30,
    "start_time": "2022-02-15T14:43:18.325Z"
   },
   {
    "duration": 22,
    "start_time": "2022-02-15T14:43:41.302Z"
   },
   {
    "duration": 280,
    "start_time": "2022-02-18T14:17:29.366Z"
   },
   {
    "duration": 628,
    "start_time": "2022-02-18T14:17:40.071Z"
   },
   {
    "duration": 84,
    "start_time": "2022-02-18T14:17:40.701Z"
   },
   {
    "duration": 12,
    "start_time": "2022-02-18T14:17:40.788Z"
   },
   {
    "duration": 10,
    "start_time": "2022-02-18T14:17:40.818Z"
   },
   {
    "duration": 7,
    "start_time": "2022-02-18T14:17:40.830Z"
   },
   {
    "duration": 27,
    "start_time": "2022-02-18T14:17:40.838Z"
   },
   {
    "duration": 59,
    "start_time": "2022-02-18T14:17:40.867Z"
   },
   {
    "duration": 7,
    "start_time": "2022-02-18T14:17:40.929Z"
   },
   {
    "duration": 33,
    "start_time": "2022-02-18T14:17:40.938Z"
   },
   {
    "duration": 12,
    "start_time": "2022-02-18T14:17:40.973Z"
   },
   {
    "duration": 37,
    "start_time": "2022-02-18T14:17:40.987Z"
   },
   {
    "duration": 12,
    "start_time": "2022-02-18T14:17:41.027Z"
   },
   {
    "duration": 7,
    "start_time": "2022-02-18T14:17:41.041Z"
   },
   {
    "duration": 8,
    "start_time": "2022-02-18T14:17:41.049Z"
   },
   {
    "duration": 7,
    "start_time": "2022-02-18T14:17:41.059Z"
   },
   {
    "duration": 84,
    "start_time": "2022-02-18T14:17:41.068Z"
   },
   {
    "duration": 512,
    "start_time": "2022-02-18T14:17:41.154Z"
   },
   {
    "duration": 27,
    "start_time": "2022-02-18T14:17:41.668Z"
   },
   {
    "duration": 25,
    "start_time": "2022-02-18T14:17:41.697Z"
   },
   {
    "duration": 6,
    "start_time": "2022-02-18T14:17:41.724Z"
   },
   {
    "duration": 30,
    "start_time": "2022-02-18T14:17:41.731Z"
   },
   {
    "duration": 28,
    "start_time": "2022-02-18T14:18:55.319Z"
   },
   {
    "duration": 89,
    "start_time": "2022-02-18T14:34:08.038Z"
   },
   {
    "duration": 77,
    "start_time": "2022-02-18T14:34:33.428Z"
   },
   {
    "duration": 472,
    "start_time": "2022-02-18T14:44:29.663Z"
   },
   {
    "duration": 24,
    "start_time": "2022-02-18T14:45:10.439Z"
   },
   {
    "duration": 5,
    "start_time": "2022-02-18T14:48:14.430Z"
   },
   {
    "duration": 4,
    "start_time": "2022-02-18T14:50:34.393Z"
   },
   {
    "duration": 4,
    "start_time": "2022-02-18T14:51:17.775Z"
   },
   {
    "duration": 4,
    "start_time": "2022-02-18T14:51:58.715Z"
   },
   {
    "duration": 24,
    "start_time": "2022-02-18T14:53:06.046Z"
   },
   {
    "duration": 889,
    "start_time": "2022-02-19T09:30:39.577Z"
   },
   {
    "duration": 114,
    "start_time": "2022-02-19T09:30:40.469Z"
   },
   {
    "duration": 24,
    "start_time": "2022-02-19T09:30:40.587Z"
   },
   {
    "duration": 11,
    "start_time": "2022-02-19T09:30:40.613Z"
   },
   {
    "duration": 5,
    "start_time": "2022-02-19T09:30:40.627Z"
   },
   {
    "duration": 36,
    "start_time": "2022-02-19T09:30:40.635Z"
   },
   {
    "duration": 67,
    "start_time": "2022-02-19T09:30:40.673Z"
   },
   {
    "duration": 8,
    "start_time": "2022-02-19T09:30:40.745Z"
   },
   {
    "duration": 73,
    "start_time": "2022-02-19T09:30:40.757Z"
   },
   {
    "duration": 16,
    "start_time": "2022-02-19T09:30:40.832Z"
   },
   {
    "duration": 10,
    "start_time": "2022-02-19T09:30:40.851Z"
   },
   {
    "duration": 15,
    "start_time": "2022-02-19T09:30:40.864Z"
   },
   {
    "duration": 9,
    "start_time": "2022-02-19T09:30:40.910Z"
   },
   {
    "duration": 8,
    "start_time": "2022-02-19T09:30:40.921Z"
   },
   {
    "duration": 7,
    "start_time": "2022-02-19T09:30:40.932Z"
   },
   {
    "duration": 78,
    "start_time": "2022-02-19T09:30:40.942Z"
   },
   {
    "duration": 797,
    "start_time": "2022-02-19T09:30:41.023Z"
   },
   {
    "duration": 41,
    "start_time": "2022-02-19T09:30:41.822Z"
   },
   {
    "duration": 12,
    "start_time": "2022-02-19T09:30:41.865Z"
   },
   {
    "duration": 4,
    "start_time": "2022-02-19T09:30:41.879Z"
   },
   {
    "duration": 40,
    "start_time": "2022-02-19T09:30:41.910Z"
   },
   {
    "duration": 440,
    "start_time": "2022-02-19T09:30:41.953Z"
   },
   {
    "duration": 316,
    "start_time": "2022-02-19T09:32:06.997Z"
   },
   {
    "duration": 340,
    "start_time": "2022-02-19T09:32:13.428Z"
   },
   {
    "duration": 323,
    "start_time": "2022-02-19T09:32:20.890Z"
   },
   {
    "duration": 313,
    "start_time": "2022-02-19T09:32:32.044Z"
   },
   {
    "duration": 8,
    "start_time": "2022-02-19T09:48:11.916Z"
   },
   {
    "duration": 332,
    "start_time": "2022-02-19T09:49:13.807Z"
   },
   {
    "duration": 7,
    "start_time": "2022-02-19T09:49:46.097Z"
   },
   {
    "duration": 318,
    "start_time": "2022-02-19T09:49:55.320Z"
   },
   {
    "duration": 315,
    "start_time": "2022-02-19T09:56:48.584Z"
   },
   {
    "duration": 298,
    "start_time": "2022-02-19T09:58:14.773Z"
   },
   {
    "duration": 15,
    "start_time": "2022-02-19T09:58:52.673Z"
   },
   {
    "duration": 23,
    "start_time": "2022-02-19T09:59:00.322Z"
   },
   {
    "duration": 336,
    "start_time": "2022-02-19T09:59:34.909Z"
   },
   {
    "duration": 310,
    "start_time": "2022-02-19T10:00:46.857Z"
   },
   {
    "duration": 383,
    "start_time": "2022-02-19T10:03:54.821Z"
   },
   {
    "duration": 79,
    "start_time": "2022-02-19T10:04:31.918Z"
   },
   {
    "duration": 129,
    "start_time": "2022-02-19T10:04:32.000Z"
   },
   {
    "duration": 14,
    "start_time": "2022-02-19T10:04:32.132Z"
   },
   {
    "duration": 11,
    "start_time": "2022-02-19T10:04:32.149Z"
   },
   {
    "duration": 4,
    "start_time": "2022-02-19T10:04:32.163Z"
   },
   {
    "duration": 68,
    "start_time": "2022-02-19T10:04:32.169Z"
   },
   {
    "duration": 33,
    "start_time": "2022-02-19T10:04:32.239Z"
   },
   {
    "duration": 32,
    "start_time": "2022-02-19T10:04:32.278Z"
   },
   {
    "duration": 42,
    "start_time": "2022-02-19T10:04:32.314Z"
   },
   {
    "duration": 16,
    "start_time": "2022-02-19T10:04:32.358Z"
   },
   {
    "duration": 43,
    "start_time": "2022-02-19T10:04:32.376Z"
   },
   {
    "duration": 16,
    "start_time": "2022-02-19T10:04:32.422Z"
   },
   {
    "duration": 8,
    "start_time": "2022-02-19T10:04:32.441Z"
   },
   {
    "duration": 8,
    "start_time": "2022-02-19T10:04:32.451Z"
   },
   {
    "duration": 7,
    "start_time": "2022-02-19T10:04:32.461Z"
   },
   {
    "duration": 39,
    "start_time": "2022-02-19T10:04:32.512Z"
   },
   {
    "duration": 792,
    "start_time": "2022-02-19T10:04:32.553Z"
   },
   {
    "duration": 38,
    "start_time": "2022-02-19T10:04:33.347Z"
   },
   {
    "duration": 4,
    "start_time": "2022-02-19T10:04:33.388Z"
   },
   {
    "duration": 5,
    "start_time": "2022-02-19T10:04:33.411Z"
   },
   {
    "duration": 53,
    "start_time": "2022-02-19T10:04:33.418Z"
   },
   {
    "duration": 325,
    "start_time": "2022-02-19T10:04:33.473Z"
   },
   {
    "duration": 7,
    "start_time": "2022-02-19T10:04:33.811Z"
   },
   {
    "duration": 9,
    "start_time": "2022-02-19T10:04:33.821Z"
   },
   {
    "duration": 3296,
    "start_time": "2022-02-19T10:04:33.833Z"
   },
   {
    "duration": 15,
    "start_time": "2022-02-19T10:04:37.131Z"
   },
   {
    "duration": 15,
    "start_time": "2022-02-19T10:04:37.149Z"
   },
   {
    "duration": 3290,
    "start_time": "2022-02-19T10:04:51.679Z"
   },
   {
    "duration": 322,
    "start_time": "2022-02-19T10:04:59.138Z"
   },
   {
    "duration": 114,
    "start_time": "2022-02-19T10:05:09.297Z"
   },
   {
    "duration": 333,
    "start_time": "2022-02-19T10:05:14.814Z"
   },
   {
    "duration": 336,
    "start_time": "2022-02-19T10:05:25.663Z"
   },
   {
    "duration": 78,
    "start_time": "2022-02-19T10:05:28.836Z"
   },
   {
    "duration": 125,
    "start_time": "2022-02-19T10:05:28.917Z"
   },
   {
    "duration": 15,
    "start_time": "2022-02-19T10:05:29.046Z"
   },
   {
    "duration": 12,
    "start_time": "2022-02-19T10:05:29.064Z"
   },
   {
    "duration": 32,
    "start_time": "2022-02-19T10:05:29.078Z"
   },
   {
    "duration": 37,
    "start_time": "2022-02-19T10:05:29.113Z"
   },
   {
    "duration": 63,
    "start_time": "2022-02-19T10:05:29.152Z"
   },
   {
    "duration": 7,
    "start_time": "2022-02-19T10:05:29.221Z"
   },
   {
    "duration": 42,
    "start_time": "2022-02-19T10:05:29.231Z"
   },
   {
    "duration": 48,
    "start_time": "2022-02-19T10:05:29.276Z"
   },
   {
    "duration": 11,
    "start_time": "2022-02-19T10:05:29.327Z"
   },
   {
    "duration": 15,
    "start_time": "2022-02-19T10:05:29.340Z"
   },
   {
    "duration": 7,
    "start_time": "2022-02-19T10:05:29.357Z"
   },
   {
    "duration": 44,
    "start_time": "2022-02-19T10:05:29.367Z"
   },
   {
    "duration": 8,
    "start_time": "2022-02-19T10:05:29.413Z"
   },
   {
    "duration": 40,
    "start_time": "2022-02-19T10:05:29.423Z"
   },
   {
    "duration": 845,
    "start_time": "2022-02-19T10:05:29.465Z"
   },
   {
    "duration": 44,
    "start_time": "2022-02-19T10:05:30.312Z"
   },
   {
    "duration": 5,
    "start_time": "2022-02-19T10:05:30.359Z"
   },
   {
    "duration": 13,
    "start_time": "2022-02-19T10:05:30.367Z"
   },
   {
    "duration": 64,
    "start_time": "2022-02-19T10:05:30.383Z"
   },
   {
    "duration": 350,
    "start_time": "2022-02-19T10:05:30.450Z"
   },
   {
    "duration": 14,
    "start_time": "2022-02-19T10:05:30.804Z"
   },
   {
    "duration": 23,
    "start_time": "2022-02-19T10:05:30.821Z"
   },
   {
    "duration": 341,
    "start_time": "2022-02-19T10:05:30.847Z"
   },
   {
    "duration": 24,
    "start_time": "2022-02-19T10:05:31.190Z"
   },
   {
    "duration": 20,
    "start_time": "2022-02-19T10:05:31.216Z"
   },
   {
    "duration": 430,
    "start_time": "2022-02-19T10:05:47.069Z"
   },
   {
    "duration": 299,
    "start_time": "2022-02-19T10:05:53.701Z"
   },
   {
    "duration": 83,
    "start_time": "2022-02-19T10:05:57.070Z"
   },
   {
    "duration": 139,
    "start_time": "2022-02-19T10:05:57.156Z"
   },
   {
    "duration": 22,
    "start_time": "2022-02-19T10:05:57.298Z"
   },
   {
    "duration": 13,
    "start_time": "2022-02-19T10:05:57.323Z"
   },
   {
    "duration": 8,
    "start_time": "2022-02-19T10:05:57.338Z"
   },
   {
    "duration": 69,
    "start_time": "2022-02-19T10:05:57.348Z"
   },
   {
    "duration": 54,
    "start_time": "2022-02-19T10:05:57.419Z"
   },
   {
    "duration": 8,
    "start_time": "2022-02-19T10:05:57.477Z"
   },
   {
    "duration": 52,
    "start_time": "2022-02-19T10:05:57.488Z"
   },
   {
    "duration": 17,
    "start_time": "2022-02-19T10:05:57.543Z"
   },
   {
    "duration": 12,
    "start_time": "2022-02-19T10:05:57.562Z"
   },
   {
    "duration": 51,
    "start_time": "2022-02-19T10:05:57.577Z"
   },
   {
    "duration": 8,
    "start_time": "2022-02-19T10:05:57.631Z"
   },
   {
    "duration": 10,
    "start_time": "2022-02-19T10:05:57.642Z"
   },
   {
    "duration": 9,
    "start_time": "2022-02-19T10:05:57.654Z"
   },
   {
    "duration": 74,
    "start_time": "2022-02-19T10:05:57.665Z"
   },
   {
    "duration": 995,
    "start_time": "2022-02-19T10:05:57.741Z"
   },
   {
    "duration": 39,
    "start_time": "2022-02-19T10:05:58.739Z"
   },
   {
    "duration": 32,
    "start_time": "2022-02-19T10:05:58.781Z"
   },
   {
    "duration": 19,
    "start_time": "2022-02-19T10:05:58.816Z"
   },
   {
    "duration": 50,
    "start_time": "2022-02-19T10:05:58.838Z"
   },
   {
    "duration": 329,
    "start_time": "2022-02-19T10:05:58.891Z"
   },
   {
    "duration": 7,
    "start_time": "2022-02-19T10:05:59.224Z"
   },
   {
    "duration": 10,
    "start_time": "2022-02-19T10:05:59.234Z"
   },
   {
    "duration": 339,
    "start_time": "2022-02-19T10:05:59.247Z"
   },
   {
    "duration": 26,
    "start_time": "2022-02-19T10:05:59.588Z"
   },
   {
    "duration": 19,
    "start_time": "2022-02-19T10:05:59.616Z"
   },
   {
    "duration": 299,
    "start_time": "2022-02-19T10:06:07.538Z"
   },
   {
    "duration": 432,
    "start_time": "2022-02-19T10:14:52.955Z"
   },
   {
    "duration": 359,
    "start_time": "2022-02-19T10:15:23.009Z"
   },
   {
    "duration": 16,
    "start_time": "2022-02-19T10:15:26.933Z"
   },
   {
    "duration": 343,
    "start_time": "2022-02-19T10:15:29.502Z"
   },
   {
    "duration": 352,
    "start_time": "2022-02-19T10:15:43.366Z"
   },
   {
    "duration": 318,
    "start_time": "2022-02-19T10:15:55.022Z"
   },
   {
    "duration": 332,
    "start_time": "2022-02-19T10:16:23.723Z"
   },
   {
    "duration": 351,
    "start_time": "2022-02-19T10:16:32.362Z"
   },
   {
    "duration": 334,
    "start_time": "2022-02-19T10:16:40.323Z"
   },
   {
    "duration": 377,
    "start_time": "2022-02-19T10:16:55.441Z"
   },
   {
    "duration": 359,
    "start_time": "2022-02-19T10:17:04.494Z"
   },
   {
    "duration": 335,
    "start_time": "2022-02-19T10:17:11.945Z"
   },
   {
    "duration": 315,
    "start_time": "2022-02-19T10:18:46.101Z"
   },
   {
    "duration": 325,
    "start_time": "2022-02-19T10:18:59.326Z"
   },
   {
    "duration": 491,
    "start_time": "2022-02-19T10:19:16.615Z"
   },
   {
    "duration": 345,
    "start_time": "2022-02-19T10:19:22.509Z"
   },
   {
    "duration": 332,
    "start_time": "2022-02-19T10:20:07.202Z"
   },
   {
    "duration": 295,
    "start_time": "2022-02-19T10:20:20.498Z"
   },
   {
    "duration": 321,
    "start_time": "2022-02-19T10:20:25.292Z"
   },
   {
    "duration": 23,
    "start_time": "2022-02-19T10:21:32.337Z"
   },
   {
    "duration": 11,
    "start_time": "2022-02-19T10:22:20.227Z"
   },
   {
    "duration": 3,
    "start_time": "2022-02-19T10:24:20.790Z"
   },
   {
    "duration": 310,
    "start_time": "2022-02-19T10:26:07.728Z"
   },
   {
    "duration": 276,
    "start_time": "2022-02-19T10:26:19.758Z"
   },
   {
    "duration": 289,
    "start_time": "2022-02-19T10:26:24.463Z"
   },
   {
    "duration": 458,
    "start_time": "2022-02-19T10:26:33.513Z"
   },
   {
    "duration": 310,
    "start_time": "2022-02-19T10:27:05.288Z"
   },
   {
    "duration": 25,
    "start_time": "2022-02-19T10:27:25.704Z"
   },
   {
    "duration": 9,
    "start_time": "2022-02-19T10:27:33.932Z"
   },
   {
    "duration": 401,
    "start_time": "2022-02-19T10:28:55.944Z"
   },
   {
    "duration": 281,
    "start_time": "2022-02-19T10:29:50.710Z"
   },
   {
    "duration": 295,
    "start_time": "2022-02-19T10:29:59.822Z"
   },
   {
    "duration": 339,
    "start_time": "2022-02-19T10:30:08.389Z"
   },
   {
    "duration": 12,
    "start_time": "2022-02-19T10:30:54.765Z"
   },
   {
    "duration": 392,
    "start_time": "2022-02-19T13:52:18.760Z"
   },
   {
    "duration": 11,
    "start_time": "2022-02-19T14:05:53.716Z"
   },
   {
    "duration": 323,
    "start_time": "2022-02-19T14:11:23.569Z"
   },
   {
    "duration": 23,
    "start_time": "2022-02-19T14:12:19.430Z"
   },
   {
    "duration": 302,
    "start_time": "2022-02-19T14:14:15.909Z"
   },
   {
    "duration": 10,
    "start_time": "2022-02-19T14:14:23.855Z"
   },
   {
    "duration": 321,
    "start_time": "2022-02-19T14:16:54.149Z"
   },
   {
    "duration": 15,
    "start_time": "2022-02-19T14:16:59.929Z"
   },
   {
    "duration": 24,
    "start_time": "2022-02-19T14:17:06.011Z"
   },
   {
    "duration": 314,
    "start_time": "2022-02-19T14:22:41.569Z"
   },
   {
    "duration": 324,
    "start_time": "2022-02-19T15:11:23.200Z"
   },
   {
    "duration": 317,
    "start_time": "2022-02-19T15:11:32.402Z"
   },
   {
    "duration": 34,
    "start_time": "2022-02-19T15:11:58.061Z"
   },
   {
    "duration": 323,
    "start_time": "2022-02-19T15:12:37.693Z"
   },
   {
    "duration": 319,
    "start_time": "2022-02-19T15:13:09.530Z"
   },
   {
    "duration": 337,
    "start_time": "2022-02-19T15:13:19.079Z"
   },
   {
    "duration": 359,
    "start_time": "2022-02-19T15:16:00.676Z"
   },
   {
    "duration": 14,
    "start_time": "2022-02-19T15:16:13.889Z"
   },
   {
    "duration": 25,
    "start_time": "2022-02-19T15:16:22.065Z"
   },
   {
    "duration": 368,
    "start_time": "2022-02-19T15:16:42.503Z"
   },
   {
    "duration": 1819,
    "start_time": "2022-02-19T15:41:53.586Z"
   },
   {
    "duration": 369,
    "start_time": "2022-02-19T15:42:23.703Z"
   },
   {
    "duration": 319,
    "start_time": "2022-02-19T15:45:17.908Z"
   },
   {
    "duration": 291,
    "start_time": "2022-02-19T15:47:43.174Z"
   },
   {
    "duration": 249,
    "start_time": "2022-02-19T15:52:44.921Z"
   },
   {
    "duration": 76,
    "start_time": "2022-02-19T16:03:44.982Z"
   },
   {
    "duration": 248,
    "start_time": "2022-02-19T16:05:58.169Z"
   },
   {
    "duration": 257,
    "start_time": "2022-02-19T16:07:53.648Z"
   },
   {
    "duration": 213,
    "start_time": "2022-02-19T16:08:03.667Z"
   },
   {
    "duration": 315,
    "start_time": "2022-02-19T16:08:11.891Z"
   },
   {
    "duration": 234,
    "start_time": "2022-02-19T16:08:45.215Z"
   },
   {
    "duration": 260,
    "start_time": "2022-02-19T16:08:57.281Z"
   },
   {
    "duration": 392,
    "start_time": "2022-02-19T16:09:27.857Z"
   },
   {
    "duration": 1295,
    "start_time": "2022-02-19T16:12:25.088Z"
   },
   {
    "duration": 326,
    "start_time": "2022-02-19T16:13:13.394Z"
   },
   {
    "duration": 64,
    "start_time": "2022-02-19T16:13:23.466Z"
   },
   {
    "duration": 72,
    "start_time": "2022-02-19T16:15:23.587Z"
   },
   {
    "duration": 70,
    "start_time": "2022-02-19T16:16:17.953Z"
   },
   {
    "duration": 65,
    "start_time": "2022-02-19T16:16:37.111Z"
   },
   {
    "duration": 66,
    "start_time": "2022-02-19T16:17:46.120Z"
   },
   {
    "duration": 70,
    "start_time": "2022-02-19T16:22:36.459Z"
   },
   {
    "duration": 71,
    "start_time": "2022-02-19T16:24:13.146Z"
   },
   {
    "duration": 1041,
    "start_time": "2022-02-21T12:15:29.593Z"
   },
   {
    "duration": 648,
    "start_time": "2022-02-21T12:15:37.808Z"
   },
   {
    "duration": 85,
    "start_time": "2022-02-21T12:15:38.458Z"
   },
   {
    "duration": 18,
    "start_time": "2022-02-21T12:15:38.545Z"
   },
   {
    "duration": 9,
    "start_time": "2022-02-21T12:15:38.565Z"
   },
   {
    "duration": 4,
    "start_time": "2022-02-21T12:15:38.575Z"
   },
   {
    "duration": 29,
    "start_time": "2022-02-21T12:15:38.580Z"
   },
   {
    "duration": 25,
    "start_time": "2022-02-21T12:15:38.611Z"
   },
   {
    "duration": 7,
    "start_time": "2022-02-21T12:15:38.659Z"
   },
   {
    "duration": 31,
    "start_time": "2022-02-21T12:15:38.668Z"
   },
   {
    "duration": 13,
    "start_time": "2022-02-21T12:15:38.701Z"
   },
   {
    "duration": 8,
    "start_time": "2022-02-21T12:15:38.716Z"
   },
   {
    "duration": 49,
    "start_time": "2022-02-21T12:15:38.725Z"
   },
   {
    "duration": 6,
    "start_time": "2022-02-21T12:15:38.776Z"
   },
   {
    "duration": 7,
    "start_time": "2022-02-21T12:15:38.784Z"
   },
   {
    "duration": 18,
    "start_time": "2022-02-21T12:15:38.793Z"
   },
   {
    "duration": 34,
    "start_time": "2022-02-21T12:15:38.813Z"
   },
   {
    "duration": 464,
    "start_time": "2022-02-21T12:15:38.851Z"
   },
   {
    "duration": 24,
    "start_time": "2022-02-21T12:15:39.317Z"
   },
   {
    "duration": 19,
    "start_time": "2022-02-21T12:15:39.343Z"
   },
   {
    "duration": 5,
    "start_time": "2022-02-21T12:15:39.364Z"
   },
   {
    "duration": 31,
    "start_time": "2022-02-21T12:15:39.371Z"
   },
   {
    "duration": 339,
    "start_time": "2022-02-21T12:15:39.404Z"
   },
   {
    "duration": 12,
    "start_time": "2022-02-21T12:15:39.747Z"
   },
   {
    "duration": 250,
    "start_time": "2022-02-21T12:15:39.761Z"
   },
   {
    "duration": 20,
    "start_time": "2022-02-21T12:15:40.012Z"
   },
   {
    "duration": 240,
    "start_time": "2022-02-21T12:15:40.034Z"
   },
   {
    "duration": 8,
    "start_time": "2022-02-21T12:15:40.276Z"
   },
   {
    "duration": 248,
    "start_time": "2022-02-21T12:15:40.285Z"
   },
   {
    "duration": 10,
    "start_time": "2022-02-21T12:15:40.535Z"
   },
   {
    "duration": 239,
    "start_time": "2022-02-21T12:15:40.562Z"
   },
   {
    "duration": 18,
    "start_time": "2022-02-21T12:15:40.803Z"
   },
   {
    "duration": 187,
    "start_time": "2022-02-21T12:15:40.823Z"
   },
   {
    "duration": 62,
    "start_time": "2022-02-21T12:15:41.012Z"
   },
   {
    "duration": 171,
    "start_time": "2022-02-21T12:15:41.076Z"
   },
   {
    "duration": 46,
    "start_time": "2022-02-21T12:15:41.249Z"
   },
   {
    "duration": 104,
    "start_time": "2022-02-21T12:15:41.297Z"
   },
   {
    "duration": -1026,
    "start_time": "2022-02-21T12:15:42.429Z"
   },
   {
    "duration": 150,
    "start_time": "2022-02-21T12:15:51.294Z"
   },
   {
    "duration": 142,
    "start_time": "2022-02-21T12:17:07.399Z"
   },
   {
    "duration": 38,
    "start_time": "2022-02-21T12:20:35.920Z"
   },
   {
    "duration": 42,
    "start_time": "2022-02-21T12:20:58.662Z"
   },
   {
    "duration": 36,
    "start_time": "2022-02-21T12:21:08.457Z"
   },
   {
    "duration": 69,
    "start_time": "2022-02-21T12:21:31.905Z"
   },
   {
    "duration": 48,
    "start_time": "2022-02-21T12:22:25.633Z"
   },
   {
    "duration": 56,
    "start_time": "2022-02-21T12:22:37.878Z"
   },
   {
    "duration": 75,
    "start_time": "2022-02-21T12:22:37.936Z"
   },
   {
    "duration": 10,
    "start_time": "2022-02-21T12:22:38.013Z"
   },
   {
    "duration": 11,
    "start_time": "2022-02-21T12:22:38.025Z"
   },
   {
    "duration": 5,
    "start_time": "2022-02-21T12:22:38.059Z"
   },
   {
    "duration": 26,
    "start_time": "2022-02-21T12:22:38.066Z"
   },
   {
    "duration": 27,
    "start_time": "2022-02-21T12:22:38.094Z"
   },
   {
    "duration": 5,
    "start_time": "2022-02-21T12:22:38.123Z"
   },
   {
    "duration": 51,
    "start_time": "2022-02-21T12:22:38.129Z"
   },
   {
    "duration": 11,
    "start_time": "2022-02-21T12:22:38.182Z"
   },
   {
    "duration": 9,
    "start_time": "2022-02-21T12:22:38.195Z"
   },
   {
    "duration": 13,
    "start_time": "2022-02-21T12:22:38.206Z"
   },
   {
    "duration": 6,
    "start_time": "2022-02-21T12:22:38.220Z"
   },
   {
    "duration": 33,
    "start_time": "2022-02-21T12:22:38.227Z"
   },
   {
    "duration": 6,
    "start_time": "2022-02-21T12:22:38.261Z"
   },
   {
    "duration": 24,
    "start_time": "2022-02-21T12:22:38.268Z"
   },
   {
    "duration": 529,
    "start_time": "2022-02-21T12:22:38.294Z"
   },
   {
    "duration": 36,
    "start_time": "2022-02-21T12:22:38.824Z"
   },
   {
    "duration": 4,
    "start_time": "2022-02-21T12:22:38.862Z"
   },
   {
    "duration": 8,
    "start_time": "2022-02-21T12:22:38.867Z"
   },
   {
    "duration": 29,
    "start_time": "2022-02-21T12:22:38.877Z"
   },
   {
    "duration": 220,
    "start_time": "2022-02-21T12:22:38.908Z"
   },
   {
    "duration": 8,
    "start_time": "2022-02-21T12:22:39.131Z"
   },
   {
    "duration": 219,
    "start_time": "2022-02-21T12:22:39.140Z"
   },
   {
    "duration": 17,
    "start_time": "2022-02-21T12:22:39.360Z"
   },
   {
    "duration": 215,
    "start_time": "2022-02-21T12:22:39.379Z"
   },
   {
    "duration": 9,
    "start_time": "2022-02-21T12:22:39.595Z"
   },
   {
    "duration": 215,
    "start_time": "2022-02-21T12:22:39.605Z"
   },
   {
    "duration": 8,
    "start_time": "2022-02-21T12:22:39.822Z"
   },
   {
    "duration": 233,
    "start_time": "2022-02-21T12:22:39.831Z"
   },
   {
    "duration": 17,
    "start_time": "2022-02-21T12:22:40.066Z"
   },
   {
    "duration": 166,
    "start_time": "2022-02-21T12:22:40.084Z"
   },
   {
    "duration": 51,
    "start_time": "2022-02-21T12:22:40.251Z"
   },
   {
    "duration": 165,
    "start_time": "2022-02-21T12:22:40.304Z"
   },
   {
    "duration": 53,
    "start_time": "2022-02-21T12:22:40.470Z"
   },
   {
    "duration": 53,
    "start_time": "2022-02-21T12:22:40.525Z"
   },
   {
    "duration": -1051,
    "start_time": "2022-02-21T12:22:41.631Z"
   },
   {
    "duration": -1053,
    "start_time": "2022-02-21T12:22:41.634Z"
   },
   {
    "duration": 64,
    "start_time": "2022-02-21T12:23:09.545Z"
   },
   {
    "duration": 110,
    "start_time": "2022-02-21T12:23:09.612Z"
   },
   {
    "duration": 12,
    "start_time": "2022-02-21T12:23:09.724Z"
   },
   {
    "duration": 26,
    "start_time": "2022-02-21T12:23:09.738Z"
   },
   {
    "duration": 5,
    "start_time": "2022-02-21T12:23:09.766Z"
   },
   {
    "duration": 26,
    "start_time": "2022-02-21T12:23:09.773Z"
   },
   {
    "duration": 33,
    "start_time": "2022-02-21T12:23:09.801Z"
   },
   {
    "duration": 26,
    "start_time": "2022-02-21T12:23:09.837Z"
   },
   {
    "duration": 39,
    "start_time": "2022-02-21T12:23:09.866Z"
   },
   {
    "duration": 12,
    "start_time": "2022-02-21T12:23:09.907Z"
   },
   {
    "duration": 9,
    "start_time": "2022-02-21T12:23:09.921Z"
   },
   {
    "duration": 33,
    "start_time": "2022-02-21T12:23:09.932Z"
   },
   {
    "duration": 6,
    "start_time": "2022-02-21T12:23:09.968Z"
   },
   {
    "duration": 9,
    "start_time": "2022-02-21T12:23:09.976Z"
   },
   {
    "duration": 7,
    "start_time": "2022-02-21T12:23:09.987Z"
   },
   {
    "duration": 28,
    "start_time": "2022-02-21T12:23:09.996Z"
   },
   {
    "duration": 543,
    "start_time": "2022-02-21T12:23:10.026Z"
   },
   {
    "duration": 28,
    "start_time": "2022-02-21T12:23:10.571Z"
   },
   {
    "duration": 4,
    "start_time": "2022-02-21T12:23:10.601Z"
   },
   {
    "duration": 13,
    "start_time": "2022-02-21T12:23:10.607Z"
   },
   {
    "duration": 62,
    "start_time": "2022-02-21T12:23:10.622Z"
   },
   {
    "duration": 308,
    "start_time": "2022-02-21T12:23:10.686Z"
   },
   {
    "duration": 11,
    "start_time": "2022-02-21T12:23:10.998Z"
   },
   {
    "duration": 296,
    "start_time": "2022-02-21T12:23:11.011Z"
   },
   {
    "duration": 21,
    "start_time": "2022-02-21T12:23:11.309Z"
   },
   {
    "duration": 227,
    "start_time": "2022-02-21T12:23:11.332Z"
   },
   {
    "duration": 7,
    "start_time": "2022-02-21T12:23:11.561Z"
   },
   {
    "duration": 976,
    "start_time": "2022-02-21T12:23:11.570Z"
   },
   {
    "duration": 16,
    "start_time": "2022-02-21T12:23:12.548Z"
   },
   {
    "duration": 241,
    "start_time": "2022-02-21T12:23:12.567Z"
   },
   {
    "duration": 18,
    "start_time": "2022-02-21T12:23:12.810Z"
   },
   {
    "duration": 184,
    "start_time": "2022-02-21T12:23:12.830Z"
   },
   {
    "duration": 56,
    "start_time": "2022-02-21T12:23:13.016Z"
   },
   {
    "duration": 171,
    "start_time": "2022-02-21T12:23:13.073Z"
   },
   {
    "duration": 50,
    "start_time": "2022-02-21T12:23:13.246Z"
   },
   {
    "duration": 151,
    "start_time": "2022-02-21T12:23:13.298Z"
   },
   {
    "duration": 53,
    "start_time": "2022-02-21T12:23:13.450Z"
   },
   {
    "duration": 150,
    "start_time": "2022-02-21T12:25:08.108Z"
   },
   {
    "duration": 144,
    "start_time": "2022-02-21T12:26:23.135Z"
   },
   {
    "duration": 141,
    "start_time": "2022-02-21T12:26:30.678Z"
   },
   {
    "duration": 237,
    "start_time": "2022-02-21T12:27:02.831Z"
   },
   {
    "duration": 193,
    "start_time": "2022-02-21T12:27:35.422Z"
   },
   {
    "duration": 53,
    "start_time": "2022-02-21T12:28:20.798Z"
   },
   {
    "duration": 161,
    "start_time": "2022-02-21T12:31:13.963Z"
   },
   {
    "duration": 141,
    "start_time": "2022-02-21T12:31:27.260Z"
   },
   {
    "duration": 133,
    "start_time": "2022-02-21T12:31:41.235Z"
   },
   {
    "duration": 135,
    "start_time": "2022-02-21T12:31:47.737Z"
   },
   {
    "duration": 146,
    "start_time": "2022-02-21T12:32:19.547Z"
   },
   {
    "duration": 48,
    "start_time": "2022-02-21T12:33:18.509Z"
   },
   {
    "duration": 183,
    "start_time": "2022-02-21T12:35:20.837Z"
   },
   {
    "duration": 150,
    "start_time": "2022-02-21T12:35:57.991Z"
   },
   {
    "duration": 173,
    "start_time": "2022-02-21T12:36:06.253Z"
   },
   {
    "duration": 156,
    "start_time": "2022-02-21T12:36:36.477Z"
   },
   {
    "duration": 50,
    "start_time": "2022-02-21T12:39:23.514Z"
   },
   {
    "duration": 49,
    "start_time": "2022-02-21T12:40:38.638Z"
   },
   {
    "duration": 48,
    "start_time": "2022-02-21T12:41:40.477Z"
   },
   {
    "duration": 46,
    "start_time": "2022-02-21T12:41:48.300Z"
   },
   {
    "duration": 45,
    "start_time": "2022-02-21T12:42:04.097Z"
   },
   {
    "duration": 43,
    "start_time": "2022-02-21T12:42:09.723Z"
   },
   {
    "duration": 47,
    "start_time": "2022-02-21T12:42:17.657Z"
   },
   {
    "duration": 46,
    "start_time": "2022-02-21T12:42:30.917Z"
   },
   {
    "duration": 47,
    "start_time": "2022-02-21T12:42:35.714Z"
   },
   {
    "duration": 51,
    "start_time": "2022-02-21T12:43:18.317Z"
   },
   {
    "duration": 52,
    "start_time": "2022-02-21T12:44:31.885Z"
   },
   {
    "duration": 54,
    "start_time": "2022-02-21T12:44:40.470Z"
   },
   {
    "duration": 48,
    "start_time": "2022-02-21T12:44:46.323Z"
   },
   {
    "duration": 50,
    "start_time": "2022-02-21T12:44:51.582Z"
   },
   {
    "duration": 168,
    "start_time": "2022-02-21T12:45:56.830Z"
   },
   {
    "duration": 10,
    "start_time": "2022-02-21T12:47:02.635Z"
   },
   {
    "duration": 56,
    "start_time": "2022-02-21T12:47:18.705Z"
   },
   {
    "duration": 46,
    "start_time": "2022-02-21T12:48:53.154Z"
   },
   {
    "duration": 45,
    "start_time": "2022-02-21T12:49:03.134Z"
   },
   {
    "duration": 46,
    "start_time": "2022-02-21T12:49:07.705Z"
   },
   {
    "duration": 45,
    "start_time": "2022-02-21T12:49:30.452Z"
   },
   {
    "duration": 53,
    "start_time": "2022-02-21T12:49:42.542Z"
   },
   {
    "duration": 9,
    "start_time": "2022-02-21T12:51:51.211Z"
   },
   {
    "duration": 42,
    "start_time": "2022-02-21T12:52:05.663Z"
   },
   {
    "duration": 45,
    "start_time": "2022-02-21T12:53:17.735Z"
   },
   {
    "duration": 43,
    "start_time": "2022-02-21T12:53:26.531Z"
   },
   {
    "duration": 42,
    "start_time": "2022-02-21T12:53:45.115Z"
   },
   {
    "duration": 43,
    "start_time": "2022-02-21T12:53:52.221Z"
   },
   {
    "duration": 42,
    "start_time": "2022-02-21T12:54:02.502Z"
   },
   {
    "duration": 44,
    "start_time": "2022-02-21T12:54:10.661Z"
   },
   {
    "duration": 42,
    "start_time": "2022-02-21T12:54:29.741Z"
   },
   {
    "duration": 39,
    "start_time": "2022-02-21T12:54:42.172Z"
   },
   {
    "duration": 45,
    "start_time": "2022-02-21T12:54:54.687Z"
   },
   {
    "duration": 44,
    "start_time": "2022-02-21T12:55:01.997Z"
   },
   {
    "duration": 43,
    "start_time": "2022-02-21T12:55:08.285Z"
   },
   {
    "duration": 39,
    "start_time": "2022-02-21T12:55:24.080Z"
   },
   {
    "duration": 42,
    "start_time": "2022-02-21T12:55:35.141Z"
   },
   {
    "duration": 40,
    "start_time": "2022-02-21T12:55:41.731Z"
   },
   {
    "duration": 10,
    "start_time": "2022-02-21T13:01:59.701Z"
   },
   {
    "duration": 46,
    "start_time": "2022-02-21T13:02:24.742Z"
   },
   {
    "duration": 238,
    "start_time": "2022-02-21T13:09:08.993Z"
   },
   {
    "duration": 109,
    "start_time": "2022-02-21T13:09:50.080Z"
   },
   {
    "duration": 108,
    "start_time": "2022-02-21T13:09:52.311Z"
   },
   {
    "duration": 151,
    "start_time": "2022-02-21T13:09:56.351Z"
   },
   {
    "duration": 61,
    "start_time": "2022-02-21T13:09:59.960Z"
   },
   {
    "duration": 112,
    "start_time": "2022-02-21T13:10:00.023Z"
   },
   {
    "duration": 28,
    "start_time": "2022-02-21T13:10:00.138Z"
   },
   {
    "duration": 10,
    "start_time": "2022-02-21T13:10:00.168Z"
   },
   {
    "duration": 16,
    "start_time": "2022-02-21T13:10:00.180Z"
   },
   {
    "duration": 31,
    "start_time": "2022-02-21T13:10:00.198Z"
   },
   {
    "duration": 39,
    "start_time": "2022-02-21T13:10:00.231Z"
   },
   {
    "duration": 15,
    "start_time": "2022-02-21T13:10:00.272Z"
   },
   {
    "duration": 30,
    "start_time": "2022-02-21T13:10:00.291Z"
   },
   {
    "duration": 35,
    "start_time": "2022-02-21T13:10:00.324Z"
   },
   {
    "duration": 11,
    "start_time": "2022-02-21T13:10:00.362Z"
   },
   {
    "duration": 26,
    "start_time": "2022-02-21T13:10:00.375Z"
   },
   {
    "duration": 9,
    "start_time": "2022-02-21T13:10:00.402Z"
   },
   {
    "duration": 16,
    "start_time": "2022-02-21T13:10:00.413Z"
   },
   {
    "duration": 29,
    "start_time": "2022-02-21T13:10:00.431Z"
   },
   {
    "duration": 50,
    "start_time": "2022-02-21T13:10:00.462Z"
   },
   {
    "duration": 584,
    "start_time": "2022-02-21T13:10:00.514Z"
   },
   {
    "duration": 28,
    "start_time": "2022-02-21T13:10:01.099Z"
   },
   {
    "duration": 6,
    "start_time": "2022-02-21T13:10:01.129Z"
   },
   {
    "duration": 28,
    "start_time": "2022-02-21T13:10:01.137Z"
   },
   {
    "duration": 62,
    "start_time": "2022-02-21T13:10:01.167Z"
   },
   {
    "duration": 233,
    "start_time": "2022-02-21T13:10:01.231Z"
   },
   {
    "duration": 9,
    "start_time": "2022-02-21T13:10:01.467Z"
   },
   {
    "duration": 262,
    "start_time": "2022-02-21T13:10:01.478Z"
   },
   {
    "duration": 29,
    "start_time": "2022-02-21T13:10:01.743Z"
   },
   {
    "duration": 254,
    "start_time": "2022-02-21T13:10:01.774Z"
   },
   {
    "duration": 8,
    "start_time": "2022-02-21T13:10:02.032Z"
   },
   {
    "duration": 253,
    "start_time": "2022-02-21T13:10:02.042Z"
   },
   {
    "duration": 9,
    "start_time": "2022-02-21T13:10:02.297Z"
   },
   {
    "duration": 256,
    "start_time": "2022-02-21T13:10:02.308Z"
   },
   {
    "duration": 18,
    "start_time": "2022-02-21T13:10:02.565Z"
   },
   {
    "duration": 193,
    "start_time": "2022-02-21T13:10:02.585Z"
   },
   {
    "duration": 150,
    "start_time": "2022-02-21T13:10:02.780Z"
   },
   {
    "duration": 184,
    "start_time": "2022-02-21T13:10:02.932Z"
   },
   {
    "duration": 57,
    "start_time": "2022-02-21T13:10:03.117Z"
   },
   {
    "duration": 160,
    "start_time": "2022-02-21T13:10:03.176Z"
   },
   {
    "duration": 60,
    "start_time": "2022-02-21T13:10:03.337Z"
   },
   {
    "duration": 249,
    "start_time": "2022-02-21T13:10:03.399Z"
   },
   {
    "duration": 59,
    "start_time": "2022-02-21T13:10:03.650Z"
   },
   {
    "duration": 197,
    "start_time": "2022-02-21T13:10:03.711Z"
   },
   {
    "duration": 60,
    "start_time": "2022-02-21T13:10:03.910Z"
   },
   {
    "duration": 50,
    "start_time": "2022-02-21T13:12:10.516Z"
   },
   {
    "duration": 53,
    "start_time": "2022-02-21T13:12:15.675Z"
   },
   {
    "duration": 44,
    "start_time": "2022-02-21T13:13:09.105Z"
   },
   {
    "duration": 53,
    "start_time": "2022-02-21T13:13:29.468Z"
   },
   {
    "duration": 1036,
    "start_time": "2022-02-21T13:20:34.520Z"
   },
   {
    "duration": 52,
    "start_time": "2022-02-21T13:20:50.597Z"
   },
   {
    "duration": 49,
    "start_time": "2022-02-21T13:21:58.739Z"
   },
   {
    "duration": 51,
    "start_time": "2022-02-21T13:22:39.352Z"
   },
   {
    "duration": 53,
    "start_time": "2022-02-21T13:22:50.009Z"
   },
   {
    "duration": 48,
    "start_time": "2022-02-21T13:23:30.633Z"
   },
   {
    "duration": 49,
    "start_time": "2022-02-21T13:24:01.085Z"
   },
   {
    "duration": 61,
    "start_time": "2022-02-21T13:24:32.100Z"
   },
   {
    "duration": 49,
    "start_time": "2022-02-21T13:24:56.464Z"
   },
   {
    "duration": 64,
    "start_time": "2022-02-21T13:25:25.642Z"
   },
   {
    "duration": 64,
    "start_time": "2022-02-21T13:25:31.155Z"
   },
   {
    "duration": 112,
    "start_time": "2022-02-21T13:25:31.222Z"
   },
   {
    "duration": 29,
    "start_time": "2022-02-21T13:25:31.337Z"
   },
   {
    "duration": 11,
    "start_time": "2022-02-21T13:25:31.368Z"
   },
   {
    "duration": 4,
    "start_time": "2022-02-21T13:25:31.381Z"
   },
   {
    "duration": 27,
    "start_time": "2022-02-21T13:25:31.387Z"
   },
   {
    "duration": 63,
    "start_time": "2022-02-21T13:25:31.416Z"
   },
   {
    "duration": 5,
    "start_time": "2022-02-21T13:25:31.481Z"
   },
   {
    "duration": 35,
    "start_time": "2022-02-21T13:25:31.490Z"
   },
   {
    "duration": 32,
    "start_time": "2022-02-21T13:25:31.528Z"
   },
   {
    "duration": 10,
    "start_time": "2022-02-21T13:25:31.563Z"
   },
   {
    "duration": 19,
    "start_time": "2022-02-21T13:25:31.575Z"
   },
   {
    "duration": 7,
    "start_time": "2022-02-21T13:25:31.596Z"
   },
   {
    "duration": 16,
    "start_time": "2022-02-21T13:25:31.605Z"
   },
   {
    "duration": 19,
    "start_time": "2022-02-21T13:25:31.624Z"
   },
   {
    "duration": 38,
    "start_time": "2022-02-21T13:25:31.644Z"
   },
   {
    "duration": 515,
    "start_time": "2022-02-21T13:25:31.684Z"
   },
   {
    "duration": 27,
    "start_time": "2022-02-21T13:25:32.201Z"
   },
   {
    "duration": 4,
    "start_time": "2022-02-21T13:25:32.230Z"
   },
   {
    "duration": 24,
    "start_time": "2022-02-21T13:25:32.236Z"
   },
   {
    "duration": 29,
    "start_time": "2022-02-21T13:25:32.262Z"
   },
   {
    "duration": 248,
    "start_time": "2022-02-21T13:25:32.292Z"
   },
   {
    "duration": 9,
    "start_time": "2022-02-21T13:25:32.542Z"
   },
   {
    "duration": 255,
    "start_time": "2022-02-21T13:25:32.559Z"
   },
   {
    "duration": 22,
    "start_time": "2022-02-21T13:25:32.815Z"
   },
   {
    "duration": 247,
    "start_time": "2022-02-21T13:25:32.838Z"
   },
   {
    "duration": 8,
    "start_time": "2022-02-21T13:25:33.089Z"
   },
   {
    "duration": 240,
    "start_time": "2022-02-21T13:25:33.099Z"
   },
   {
    "duration": 18,
    "start_time": "2022-02-21T13:25:33.341Z"
   },
   {
    "duration": 246,
    "start_time": "2022-02-21T13:25:33.361Z"
   },
   {
    "duration": 20,
    "start_time": "2022-02-21T13:25:33.609Z"
   },
   {
    "duration": 184,
    "start_time": "2022-02-21T13:25:33.631Z"
   },
   {
    "duration": 61,
    "start_time": "2022-02-21T13:25:33.817Z"
   },
   {
    "duration": 279,
    "start_time": "2022-02-21T13:25:33.880Z"
   },
   {
    "duration": 47,
    "start_time": "2022-02-21T13:25:34.161Z"
   },
   {
    "duration": 171,
    "start_time": "2022-02-21T13:25:34.210Z"
   },
   {
    "duration": 52,
    "start_time": "2022-02-21T13:25:34.382Z"
   },
   {
    "duration": 166,
    "start_time": "2022-02-21T13:25:34.435Z"
   },
   {
    "duration": 57,
    "start_time": "2022-02-21T13:25:34.603Z"
   },
   {
    "duration": 185,
    "start_time": "2022-02-21T13:25:34.661Z"
   },
   {
    "duration": 61,
    "start_time": "2022-02-21T13:25:34.848Z"
   },
   {
    "duration": 70,
    "start_time": "2022-02-21T13:25:34.911Z"
   },
   {
    "duration": 61,
    "start_time": "2022-02-21T13:26:15.581Z"
   },
   {
    "duration": 46,
    "start_time": "2022-02-21T13:26:42.999Z"
   },
   {
    "duration": 57,
    "start_time": "2022-02-21T13:27:00.945Z"
   },
   {
    "duration": 45,
    "start_time": "2022-02-21T13:27:34.424Z"
   },
   {
    "duration": 51,
    "start_time": "2022-02-21T13:28:00.453Z"
   },
   {
    "duration": 49,
    "start_time": "2022-02-21T13:28:09.593Z"
   },
   {
    "duration": 7,
    "start_time": "2022-02-21T13:37:35.012Z"
   },
   {
    "duration": 4,
    "start_time": "2022-02-21T13:38:03.214Z"
   },
   {
    "duration": 37,
    "start_time": "2022-02-21T13:38:31.342Z"
   },
   {
    "duration": 6,
    "start_time": "2022-02-21T13:43:18.359Z"
   },
   {
    "duration": 24,
    "start_time": "2022-02-21T13:44:16.135Z"
   },
   {
    "duration": 56,
    "start_time": "2022-02-21T13:46:23.946Z"
   },
   {
    "duration": 120,
    "start_time": "2022-02-21T13:46:24.005Z"
   },
   {
    "duration": 10,
    "start_time": "2022-02-21T13:46:24.127Z"
   },
   {
    "duration": 26,
    "start_time": "2022-02-21T13:46:24.139Z"
   },
   {
    "duration": 3,
    "start_time": "2022-02-21T13:46:24.167Z"
   },
   {
    "duration": 26,
    "start_time": "2022-02-21T13:46:24.172Z"
   },
   {
    "duration": 10,
    "start_time": "2022-02-21T13:46:24.200Z"
   },
   {
    "duration": 50,
    "start_time": "2022-02-21T13:46:24.213Z"
   },
   {
    "duration": 24,
    "start_time": "2022-02-21T13:46:24.266Z"
   },
   {
    "duration": 6,
    "start_time": "2022-02-21T13:46:24.292Z"
   },
   {
    "duration": 60,
    "start_time": "2022-02-21T13:46:24.300Z"
   },
   {
    "duration": 12,
    "start_time": "2022-02-21T13:46:24.362Z"
   },
   {
    "duration": 8,
    "start_time": "2022-02-21T13:46:24.375Z"
   },
   {
    "duration": 12,
    "start_time": "2022-02-21T13:46:24.385Z"
   },
   {
    "duration": 5,
    "start_time": "2022-02-21T13:46:24.399Z"
   },
   {
    "duration": 9,
    "start_time": "2022-02-21T13:46:24.406Z"
   },
   {
    "duration": 7,
    "start_time": "2022-02-21T13:46:24.416Z"
   },
   {
    "duration": 59,
    "start_time": "2022-02-21T13:46:24.424Z"
   },
   {
    "duration": 472,
    "start_time": "2022-02-21T13:46:24.485Z"
   },
   {
    "duration": 25,
    "start_time": "2022-02-21T13:46:24.959Z"
   },
   {
    "duration": 308,
    "start_time": "2022-02-21T13:46:24.986Z"
   },
   {
    "duration": 7,
    "start_time": "2022-02-21T13:46:25.296Z"
   },
   {
    "duration": 27,
    "start_time": "2022-02-21T13:46:25.306Z"
   },
   {
    "duration": 215,
    "start_time": "2022-02-21T13:46:25.335Z"
   },
   {
    "duration": 13,
    "start_time": "2022-02-21T13:46:25.552Z"
   },
   {
    "duration": 242,
    "start_time": "2022-02-21T13:46:25.567Z"
   },
   {
    "duration": 19,
    "start_time": "2022-02-21T13:46:25.810Z"
   },
   {
    "duration": 259,
    "start_time": "2022-02-21T13:46:25.831Z"
   },
   {
    "duration": 8,
    "start_time": "2022-02-21T13:46:26.092Z"
   },
   {
    "duration": 245,
    "start_time": "2022-02-21T13:46:26.102Z"
   },
   {
    "duration": 12,
    "start_time": "2022-02-21T13:46:26.348Z"
   },
   {
    "duration": 230,
    "start_time": "2022-02-21T13:46:26.362Z"
   },
   {
    "duration": 18,
    "start_time": "2022-02-21T13:46:26.594Z"
   },
   {
    "duration": 297,
    "start_time": "2022-02-21T13:46:26.614Z"
   },
   {
    "duration": 54,
    "start_time": "2022-02-21T13:46:26.913Z"
   },
   {
    "duration": 163,
    "start_time": "2022-02-21T13:46:26.969Z"
   },
   {
    "duration": 72,
    "start_time": "2022-02-21T13:46:27.134Z"
   },
   {
    "duration": 165,
    "start_time": "2022-02-21T13:46:27.208Z"
   },
   {
    "duration": 48,
    "start_time": "2022-02-21T13:46:27.375Z"
   },
   {
    "duration": 167,
    "start_time": "2022-02-21T13:46:27.425Z"
   },
   {
    "duration": 49,
    "start_time": "2022-02-21T13:46:27.593Z"
   },
   {
    "duration": 490,
    "start_time": "2022-02-21T13:46:27.643Z"
   },
   {
    "duration": 65,
    "start_time": "2022-02-21T13:46:28.135Z"
   },
   {
    "duration": 60,
    "start_time": "2022-02-21T13:46:28.202Z"
   },
   {
    "duration": 153,
    "start_time": "2022-02-21T13:47:15.055Z"
   },
   {
    "duration": 167,
    "start_time": "2022-02-21T13:47:32.433Z"
   },
   {
    "duration": 144,
    "start_time": "2022-02-21T13:47:49.278Z"
   },
   {
    "duration": 171,
    "start_time": "2022-02-21T13:57:42.226Z"
   },
   {
    "duration": 145,
    "start_time": "2022-02-21T13:58:41.036Z"
   },
   {
    "duration": 147,
    "start_time": "2022-02-21T13:58:59.366Z"
   },
   {
    "duration": 173,
    "start_time": "2022-02-21T13:59:19.503Z"
   },
   {
    "duration": 54,
    "start_time": "2022-02-21T14:10:12.770Z"
   },
   {
    "duration": 51,
    "start_time": "2022-02-21T14:19:39.541Z"
   },
   {
    "duration": 46,
    "start_time": "2022-02-21T14:23:51.083Z"
   },
   {
    "duration": 63,
    "start_time": "2022-02-21T14:46:42.828Z"
   },
   {
    "duration": 108,
    "start_time": "2022-02-21T14:46:42.894Z"
   },
   {
    "duration": 10,
    "start_time": "2022-02-21T14:46:43.004Z"
   },
   {
    "duration": 8,
    "start_time": "2022-02-21T14:46:43.016Z"
   },
   {
    "duration": 4,
    "start_time": "2022-02-21T14:46:43.025Z"
   },
   {
    "duration": 45,
    "start_time": "2022-02-21T14:46:43.030Z"
   },
   {
    "duration": 11,
    "start_time": "2022-02-21T14:46:43.077Z"
   },
   {
    "duration": 31,
    "start_time": "2022-02-21T14:46:43.090Z"
   },
   {
    "duration": 36,
    "start_time": "2022-02-21T14:46:43.123Z"
   },
   {
    "duration": 5,
    "start_time": "2022-02-21T14:46:43.161Z"
   },
   {
    "duration": 27,
    "start_time": "2022-02-21T14:46:43.168Z"
   },
   {
    "duration": 10,
    "start_time": "2022-02-21T14:46:43.196Z"
   },
   {
    "duration": 9,
    "start_time": "2022-02-21T14:46:43.208Z"
   },
   {
    "duration": 44,
    "start_time": "2022-02-21T14:46:43.218Z"
   },
   {
    "duration": 5,
    "start_time": "2022-02-21T14:46:43.264Z"
   },
   {
    "duration": 15,
    "start_time": "2022-02-21T14:46:43.271Z"
   },
   {
    "duration": 14,
    "start_time": "2022-02-21T14:46:43.287Z"
   },
   {
    "duration": 31,
    "start_time": "2022-02-21T14:46:43.302Z"
   },
   {
    "duration": 589,
    "start_time": "2022-02-21T14:46:43.335Z"
   },
   {
    "duration": 33,
    "start_time": "2022-02-21T14:46:43.926Z"
   },
   {
    "duration": 4,
    "start_time": "2022-02-21T14:46:43.961Z"
   },
   {
    "duration": 6,
    "start_time": "2022-02-21T14:46:43.966Z"
   },
   {
    "duration": 25,
    "start_time": "2022-02-21T14:46:43.975Z"
   },
   {
    "duration": 220,
    "start_time": "2022-02-21T14:46:44.002Z"
   },
   {
    "duration": 8,
    "start_time": "2022-02-21T14:46:44.224Z"
   },
   {
    "duration": 225,
    "start_time": "2022-02-21T14:46:44.233Z"
   },
   {
    "duration": 19,
    "start_time": "2022-02-21T14:46:44.460Z"
   },
   {
    "duration": 206,
    "start_time": "2022-02-21T14:46:44.480Z"
   },
   {
    "duration": 7,
    "start_time": "2022-02-21T14:46:44.688Z"
   },
   {
    "duration": 219,
    "start_time": "2022-02-21T14:46:44.697Z"
   },
   {
    "duration": 8,
    "start_time": "2022-02-21T14:46:44.918Z"
   },
   {
    "duration": 241,
    "start_time": "2022-02-21T14:46:44.928Z"
   },
   {
    "duration": 18,
    "start_time": "2022-02-21T14:46:45.171Z"
   },
   {
    "duration": 172,
    "start_time": "2022-02-21T14:46:45.191Z"
   },
   {
    "duration": 160,
    "start_time": "2022-02-21T14:46:45.364Z"
   },
   {
    "duration": 149,
    "start_time": "2022-02-21T14:46:45.526Z"
   },
   {
    "duration": 156,
    "start_time": "2022-02-21T14:46:45.677Z"
   },
   {
    "duration": 174,
    "start_time": "2022-02-21T14:46:45.835Z"
   },
   {
    "duration": 59,
    "start_time": "2022-02-21T14:46:46.012Z"
   },
   {
    "duration": 539,
    "start_time": "2022-02-21T14:46:46.072Z"
   },
   {
    "duration": 218,
    "start_time": "2022-02-21T14:48:20.915Z"
   },
   {
    "duration": 213,
    "start_time": "2022-02-21T14:48:54.333Z"
   },
   {
    "duration": 535,
    "start_time": "2022-02-21T14:50:30.865Z"
   },
   {
    "duration": 557,
    "start_time": "2022-02-21T14:51:09.018Z"
   },
   {
    "duration": 588,
    "start_time": "2022-02-21T14:51:20.931Z"
   },
   {
    "duration": 498,
    "start_time": "2022-02-21T14:51:28.353Z"
   },
   {
    "duration": 135,
    "start_time": "2022-02-21T14:52:31.844Z"
   },
   {
    "duration": 129,
    "start_time": "2022-02-21T14:52:45.095Z"
   },
   {
    "duration": 1462,
    "start_time": "2022-02-21T14:53:00.253Z"
   },
   {
    "duration": 393,
    "start_time": "2022-02-21T14:53:42.098Z"
   },
   {
    "duration": 56,
    "start_time": "2022-02-21T14:54:23.371Z"
   },
   {
    "duration": 267,
    "start_time": "2022-02-21T14:54:23.429Z"
   },
   {
    "duration": 156,
    "start_time": "2022-02-21T14:54:23.698Z"
   },
   {
    "duration": 143,
    "start_time": "2022-02-21T14:54:23.856Z"
   },
   {
    "duration": 58,
    "start_time": "2022-02-21T14:54:24.001Z"
   },
   {
    "duration": 32,
    "start_time": "2022-02-21T14:54:24.061Z"
   },
   {
    "duration": 20,
    "start_time": "2022-02-21T14:54:24.095Z"
   },
   {
    "duration": 35,
    "start_time": "2022-02-21T14:54:24.118Z"
   },
   {
    "duration": 24,
    "start_time": "2022-02-21T14:54:24.155Z"
   },
   {
    "duration": 5,
    "start_time": "2022-02-21T14:54:24.180Z"
   },
   {
    "duration": 32,
    "start_time": "2022-02-21T14:54:24.187Z"
   },
   {
    "duration": 12,
    "start_time": "2022-02-21T14:54:24.220Z"
   },
   {
    "duration": 29,
    "start_time": "2022-02-21T14:54:24.233Z"
   },
   {
    "duration": 76,
    "start_time": "2022-02-21T14:54:24.264Z"
   },
   {
    "duration": 23,
    "start_time": "2022-02-21T14:54:24.342Z"
   },
   {
    "duration": 10,
    "start_time": "2022-02-21T14:54:24.367Z"
   },
   {
    "duration": 12,
    "start_time": "2022-02-21T14:54:24.379Z"
   },
   {
    "duration": 32,
    "start_time": "2022-02-21T14:54:24.393Z"
   },
   {
    "duration": 593,
    "start_time": "2022-02-21T14:54:24.426Z"
   },
   {
    "duration": 26,
    "start_time": "2022-02-21T14:54:25.021Z"
   },
   {
    "duration": 4,
    "start_time": "2022-02-21T14:54:25.059Z"
   },
   {
    "duration": 14,
    "start_time": "2022-02-21T14:54:25.065Z"
   },
   {
    "duration": 40,
    "start_time": "2022-02-21T14:54:25.082Z"
   },
   {
    "duration": 390,
    "start_time": "2022-02-21T14:54:25.124Z"
   },
   {
    "duration": 7,
    "start_time": "2022-02-21T14:54:25.516Z"
   },
   {
    "duration": 249,
    "start_time": "2022-02-21T14:54:25.525Z"
   },
   {
    "duration": 21,
    "start_time": "2022-02-21T14:54:25.776Z"
   },
   {
    "duration": 236,
    "start_time": "2022-02-21T14:54:25.799Z"
   },
   {
    "duration": 8,
    "start_time": "2022-02-21T14:54:26.037Z"
   },
   {
    "duration": 234,
    "start_time": "2022-02-21T14:54:26.046Z"
   },
   {
    "duration": 8,
    "start_time": "2022-02-21T14:54:26.282Z"
   },
   {
    "duration": 231,
    "start_time": "2022-02-21T14:54:26.292Z"
   },
   {
    "duration": 18,
    "start_time": "2022-02-21T14:54:26.525Z"
   },
   {
    "duration": 177,
    "start_time": "2022-02-21T14:54:26.544Z"
   },
   {
    "duration": 146,
    "start_time": "2022-02-21T14:54:26.723Z"
   },
   {
    "duration": 157,
    "start_time": "2022-02-21T14:54:26.871Z"
   },
   {
    "duration": 158,
    "start_time": "2022-02-21T14:54:27.029Z"
   },
   {
    "duration": 175,
    "start_time": "2022-02-21T14:54:27.188Z"
   },
   {
    "duration": 48,
    "start_time": "2022-02-21T14:54:27.365Z"
   },
   {
    "duration": 533,
    "start_time": "2022-02-21T14:54:27.414Z"
   },
   {
    "duration": 422,
    "start_time": "2022-02-21T14:54:27.949Z"
   },
   {
    "duration": 495,
    "start_time": "2022-02-21T14:57:10.272Z"
   },
   {
    "duration": 58,
    "start_time": "2022-02-21T14:57:20.311Z"
   },
   {
    "duration": 99,
    "start_time": "2022-02-21T14:57:20.371Z"
   },
   {
    "duration": 12,
    "start_time": "2022-02-21T14:57:20.473Z"
   },
   {
    "duration": 12,
    "start_time": "2022-02-21T14:57:20.487Z"
   },
   {
    "duration": 3,
    "start_time": "2022-02-21T14:57:20.502Z"
   },
   {
    "duration": 56,
    "start_time": "2022-02-21T14:57:20.507Z"
   },
   {
    "duration": 13,
    "start_time": "2022-02-21T14:57:20.566Z"
   },
   {
    "duration": 34,
    "start_time": "2022-02-21T14:57:20.582Z"
   },
   {
    "duration": 43,
    "start_time": "2022-02-21T14:57:20.618Z"
   },
   {
    "duration": 6,
    "start_time": "2022-02-21T14:57:20.664Z"
   },
   {
    "duration": 35,
    "start_time": "2022-02-21T14:57:20.672Z"
   },
   {
    "duration": 14,
    "start_time": "2022-02-21T14:57:20.709Z"
   },
   {
    "duration": 35,
    "start_time": "2022-02-21T14:57:20.726Z"
   },
   {
    "duration": 11,
    "start_time": "2022-02-21T14:57:20.764Z"
   },
   {
    "duration": 7,
    "start_time": "2022-02-21T14:57:20.777Z"
   },
   {
    "duration": 7,
    "start_time": "2022-02-21T14:57:20.786Z"
   },
   {
    "duration": 6,
    "start_time": "2022-02-21T14:57:20.795Z"
   },
   {
    "duration": 68,
    "start_time": "2022-02-21T14:57:20.803Z"
   },
   {
    "duration": 638,
    "start_time": "2022-02-21T14:57:20.873Z"
   },
   {
    "duration": 26,
    "start_time": "2022-02-21T14:57:21.513Z"
   },
   {
    "duration": 4,
    "start_time": "2022-02-21T14:57:21.541Z"
   },
   {
    "duration": 15,
    "start_time": "2022-02-21T14:57:21.547Z"
   },
   {
    "duration": 33,
    "start_time": "2022-02-21T14:57:21.566Z"
   },
   {
    "duration": 239,
    "start_time": "2022-02-21T14:57:21.601Z"
   },
   {
    "duration": 8,
    "start_time": "2022-02-21T14:57:21.842Z"
   },
   {
    "duration": 240,
    "start_time": "2022-02-21T14:57:21.859Z"
   },
   {
    "duration": 19,
    "start_time": "2022-02-21T14:57:22.101Z"
   },
   {
    "duration": 459,
    "start_time": "2022-02-21T14:57:22.122Z"
   },
   {
    "duration": 8,
    "start_time": "2022-02-21T14:57:22.583Z"
   },
   {
    "duration": 253,
    "start_time": "2022-02-21T14:57:22.593Z"
   },
   {
    "duration": 17,
    "start_time": "2022-02-21T14:57:22.849Z"
   },
   {
    "duration": 295,
    "start_time": "2022-02-21T14:57:22.868Z"
   },
   {
    "duration": 18,
    "start_time": "2022-02-21T14:57:23.165Z"
   },
   {
    "duration": 298,
    "start_time": "2022-02-21T14:57:23.184Z"
   },
   {
    "duration": 161,
    "start_time": "2022-02-21T14:57:23.483Z"
   },
   {
    "duration": 159,
    "start_time": "2022-02-21T14:57:23.646Z"
   },
   {
    "duration": 158,
    "start_time": "2022-02-21T14:57:23.807Z"
   },
   {
    "duration": 200,
    "start_time": "2022-02-21T14:57:23.967Z"
   },
   {
    "duration": 163,
    "start_time": "2022-02-21T14:57:24.169Z"
   },
   {
    "duration": 714,
    "start_time": "2022-02-21T14:57:24.334Z"
   },
   {
    "duration": 467,
    "start_time": "2022-02-21T14:57:25.050Z"
   },
   {
    "duration": 987,
    "start_time": "2022-02-21T15:01:22.343Z"
   },
   {
    "duration": 39,
    "start_time": "2022-02-21T15:07:25.985Z"
   },
   {
    "duration": 18,
    "start_time": "2022-02-21T15:09:12.169Z"
   },
   {
    "duration": 32,
    "start_time": "2022-02-21T15:09:25.851Z"
   },
   {
    "duration": 51,
    "start_time": "2022-02-21T15:09:35.254Z"
   },
   {
    "duration": 41,
    "start_time": "2022-02-21T15:09:50.993Z"
   },
   {
    "duration": 519,
    "start_time": "2022-02-21T15:10:17.690Z"
   },
   {
    "duration": 512,
    "start_time": "2022-02-21T15:10:29.389Z"
   },
   {
    "duration": 477,
    "start_time": "2022-02-21T15:10:36.356Z"
   },
   {
    "duration": 395,
    "start_time": "2022-02-21T15:10:58.260Z"
   },
   {
    "duration": 228,
    "start_time": "2022-02-21T15:13:13.949Z"
   },
   {
    "duration": 715,
    "start_time": "2022-02-21T15:13:28.657Z"
   },
   {
    "duration": 176,
    "start_time": "2022-02-21T15:13:36.757Z"
   },
   {
    "duration": 163,
    "start_time": "2022-02-21T15:14:06.481Z"
   },
   {
    "duration": 632,
    "start_time": "2022-02-21T15:53:29.003Z"
   },
   {
    "duration": 76,
    "start_time": "2022-02-21T15:53:29.637Z"
   },
   {
    "duration": 22,
    "start_time": "2022-02-21T15:53:29.716Z"
   },
   {
    "duration": 9,
    "start_time": "2022-02-21T15:53:29.740Z"
   },
   {
    "duration": 5,
    "start_time": "2022-02-21T15:53:29.750Z"
   },
   {
    "duration": 26,
    "start_time": "2022-02-21T15:53:29.756Z"
   },
   {
    "duration": 8,
    "start_time": "2022-02-21T15:53:29.784Z"
   },
   {
    "duration": 44,
    "start_time": "2022-02-21T15:53:29.794Z"
   },
   {
    "duration": 23,
    "start_time": "2022-02-21T15:53:29.841Z"
   },
   {
    "duration": 5,
    "start_time": "2022-02-21T15:53:29.866Z"
   },
   {
    "duration": 27,
    "start_time": "2022-02-21T15:53:29.872Z"
   },
   {
    "duration": 36,
    "start_time": "2022-02-21T15:53:29.901Z"
   },
   {
    "duration": 9,
    "start_time": "2022-02-21T15:53:29.939Z"
   },
   {
    "duration": 14,
    "start_time": "2022-02-21T15:53:29.950Z"
   },
   {
    "duration": 6,
    "start_time": "2022-02-21T15:53:29.965Z"
   },
   {
    "duration": 6,
    "start_time": "2022-02-21T15:53:29.972Z"
   },
   {
    "duration": 5,
    "start_time": "2022-02-21T15:53:29.980Z"
   },
   {
    "duration": 62,
    "start_time": "2022-02-21T15:53:29.986Z"
   },
   {
    "duration": 465,
    "start_time": "2022-02-21T15:53:30.049Z"
   },
   {
    "duration": 32,
    "start_time": "2022-02-21T15:53:30.516Z"
   },
   {
    "duration": 5,
    "start_time": "2022-02-21T15:53:30.550Z"
   },
   {
    "duration": 5,
    "start_time": "2022-02-21T15:53:30.557Z"
   },
   {
    "duration": 25,
    "start_time": "2022-02-21T15:53:30.564Z"
   },
   {
    "duration": 317,
    "start_time": "2022-02-21T15:53:30.591Z"
   },
   {
    "duration": 7,
    "start_time": "2022-02-21T15:53:30.909Z"
   },
   {
    "duration": 202,
    "start_time": "2022-02-21T15:53:30.918Z"
   },
   {
    "duration": 24,
    "start_time": "2022-02-21T15:53:31.121Z"
   },
   {
    "duration": 188,
    "start_time": "2022-02-21T15:53:31.146Z"
   },
   {
    "duration": 7,
    "start_time": "2022-02-21T15:53:31.336Z"
   },
   {
    "duration": 205,
    "start_time": "2022-02-21T15:53:31.345Z"
   },
   {
    "duration": 7,
    "start_time": "2022-02-21T15:53:31.552Z"
   },
   {
    "duration": 208,
    "start_time": "2022-02-21T15:53:31.561Z"
   },
   {
    "duration": 16,
    "start_time": "2022-02-21T15:53:31.771Z"
   },
   {
    "duration": 161,
    "start_time": "2022-02-21T15:53:31.789Z"
   },
   {
    "duration": 137,
    "start_time": "2022-02-21T15:53:31.952Z"
   },
   {
    "duration": 140,
    "start_time": "2022-02-21T15:53:32.091Z"
   },
   {
    "duration": 133,
    "start_time": "2022-02-21T15:53:32.233Z"
   },
   {
    "duration": 155,
    "start_time": "2022-02-21T15:53:32.367Z"
   },
   {
    "duration": 54,
    "start_time": "2022-02-21T15:53:32.523Z"
   },
   {
    "duration": 478,
    "start_time": "2022-02-21T15:53:32.578Z"
   },
   {
    "duration": 208,
    "start_time": "2022-02-21T15:53:33.058Z"
   },
   {
    "duration": -1142,
    "start_time": "2022-02-21T15:53:34.410Z"
   },
   {
    "duration": 349,
    "start_time": "2022-02-21T15:54:38.252Z"
   },
   {
    "duration": 451,
    "start_time": "2022-02-21T15:55:10.036Z"
   },
   {
    "duration": 160,
    "start_time": "2022-02-21T15:55:19.215Z"
   },
   {
    "duration": 155,
    "start_time": "2022-02-21T15:55:32.289Z"
   },
   {
    "duration": 5,
    "start_time": "2022-02-21T15:55:56.384Z"
   },
   {
    "duration": 391,
    "start_time": "2022-02-21T15:56:09.954Z"
   },
   {
    "duration": 454,
    "start_time": "2022-02-21T15:56:18.453Z"
   },
   {
    "duration": 559,
    "start_time": "2022-02-21T15:58:08.540Z"
   },
   {
    "duration": 450,
    "start_time": "2022-02-21T15:58:21.916Z"
   },
   {
    "duration": 457,
    "start_time": "2022-02-21T15:58:55.954Z"
   },
   {
    "duration": 381,
    "start_time": "2022-02-21T15:59:33.582Z"
   },
   {
    "duration": 600,
    "start_time": "2022-02-21T15:59:53.936Z"
   },
   {
    "duration": 242,
    "start_time": "2022-02-21T16:02:33.871Z"
   },
   {
    "duration": 136,
    "start_time": "2022-02-21T16:05:16.334Z"
   },
   {
    "duration": 139,
    "start_time": "2022-02-21T16:05:31.389Z"
   },
   {
    "duration": 56,
    "start_time": "2022-02-21T16:05:37.283Z"
   },
   {
    "duration": 101,
    "start_time": "2022-02-21T16:05:37.341Z"
   },
   {
    "duration": 10,
    "start_time": "2022-02-21T16:05:37.444Z"
   },
   {
    "duration": 8,
    "start_time": "2022-02-21T16:05:37.456Z"
   },
   {
    "duration": 7,
    "start_time": "2022-02-21T16:05:37.466Z"
   },
   {
    "duration": 23,
    "start_time": "2022-02-21T16:05:37.475Z"
   },
   {
    "duration": 31,
    "start_time": "2022-02-21T16:05:37.500Z"
   },
   {
    "duration": 23,
    "start_time": "2022-02-21T16:05:37.535Z"
   },
   {
    "duration": 23,
    "start_time": "2022-02-21T16:05:37.560Z"
   },
   {
    "duration": 5,
    "start_time": "2022-02-21T16:05:37.584Z"
   },
   {
    "duration": 52,
    "start_time": "2022-02-21T16:05:37.591Z"
   },
   {
    "duration": 11,
    "start_time": "2022-02-21T16:05:37.644Z"
   },
   {
    "duration": 8,
    "start_time": "2022-02-21T16:05:37.656Z"
   },
   {
    "duration": 16,
    "start_time": "2022-02-21T16:05:37.666Z"
   },
   {
    "duration": 5,
    "start_time": "2022-02-21T16:05:37.684Z"
   },
   {
    "duration": 5,
    "start_time": "2022-02-21T16:05:37.691Z"
   },
   {
    "duration": 34,
    "start_time": "2022-02-21T16:05:37.698Z"
   },
   {
    "duration": 25,
    "start_time": "2022-02-21T16:05:37.734Z"
   },
   {
    "duration": 477,
    "start_time": "2022-02-21T16:05:37.760Z"
   },
   {
    "duration": 23,
    "start_time": "2022-02-21T16:05:38.239Z"
   },
   {
    "duration": 6,
    "start_time": "2022-02-21T16:05:38.263Z"
   },
   {
    "duration": 6,
    "start_time": "2022-02-21T16:05:38.270Z"
   },
   {
    "duration": 26,
    "start_time": "2022-02-21T16:05:38.279Z"
   },
   {
    "duration": 217,
    "start_time": "2022-02-21T16:05:38.307Z"
   },
   {
    "duration": 7,
    "start_time": "2022-02-21T16:05:38.529Z"
   },
   {
    "duration": 258,
    "start_time": "2022-02-21T16:05:38.538Z"
   },
   {
    "duration": 32,
    "start_time": "2022-02-21T16:05:38.799Z"
   },
   {
    "duration": 236,
    "start_time": "2022-02-21T16:05:38.833Z"
   },
   {
    "duration": 6,
    "start_time": "2022-02-21T16:05:39.071Z"
   },
   {
    "duration": 213,
    "start_time": "2022-02-21T16:05:39.079Z"
   },
   {
    "duration": 8,
    "start_time": "2022-02-21T16:05:39.294Z"
   },
   {
    "duration": 211,
    "start_time": "2022-02-21T16:05:39.304Z"
   },
   {
    "duration": 24,
    "start_time": "2022-02-21T16:05:39.517Z"
   },
   {
    "duration": 151,
    "start_time": "2022-02-21T16:05:39.543Z"
   },
   {
    "duration": 140,
    "start_time": "2022-02-21T16:05:39.695Z"
   },
   {
    "duration": 136,
    "start_time": "2022-02-21T16:05:39.836Z"
   },
   {
    "duration": 141,
    "start_time": "2022-02-21T16:05:39.974Z"
   },
   {
    "duration": 173,
    "start_time": "2022-02-21T16:05:40.116Z"
   },
   {
    "duration": 55,
    "start_time": "2022-02-21T16:05:40.291Z"
   },
   {
    "duration": 461,
    "start_time": "2022-02-21T16:05:40.348Z"
   },
   {
    "duration": 122,
    "start_time": "2022-02-21T16:05:40.811Z"
   },
   {
    "duration": -1043,
    "start_time": "2022-02-21T16:05:41.978Z"
   },
   {
    "duration": 136,
    "start_time": "2022-02-21T16:06:02.239Z"
   },
   {
    "duration": 55,
    "start_time": "2022-02-21T16:06:08.018Z"
   },
   {
    "duration": 108,
    "start_time": "2022-02-21T16:06:08.075Z"
   },
   {
    "duration": 11,
    "start_time": "2022-02-21T16:06:08.185Z"
   },
   {
    "duration": 8,
    "start_time": "2022-02-21T16:06:08.198Z"
   },
   {
    "duration": 4,
    "start_time": "2022-02-21T16:06:08.231Z"
   },
   {
    "duration": 31,
    "start_time": "2022-02-21T16:06:08.236Z"
   },
   {
    "duration": 12,
    "start_time": "2022-02-21T16:06:08.269Z"
   },
   {
    "duration": 22,
    "start_time": "2022-02-21T16:06:08.283Z"
   },
   {
    "duration": 41,
    "start_time": "2022-02-21T16:06:08.307Z"
   },
   {
    "duration": 4,
    "start_time": "2022-02-21T16:06:08.350Z"
   },
   {
    "duration": 27,
    "start_time": "2022-02-21T16:06:08.356Z"
   },
   {
    "duration": 10,
    "start_time": "2022-02-21T16:06:08.385Z"
   },
   {
    "duration": 7,
    "start_time": "2022-02-21T16:06:08.397Z"
   },
   {
    "duration": 34,
    "start_time": "2022-02-21T16:06:08.405Z"
   },
   {
    "duration": 6,
    "start_time": "2022-02-21T16:06:08.441Z"
   },
   {
    "duration": 6,
    "start_time": "2022-02-21T16:06:08.449Z"
   },
   {
    "duration": 6,
    "start_time": "2022-02-21T16:06:08.457Z"
   },
   {
    "duration": 25,
    "start_time": "2022-02-21T16:06:08.465Z"
   },
   {
    "duration": 651,
    "start_time": "2022-02-21T16:06:08.493Z"
   },
   {
    "duration": 24,
    "start_time": "2022-02-21T16:06:09.145Z"
   },
   {
    "duration": 4,
    "start_time": "2022-02-21T16:06:09.171Z"
   },
   {
    "duration": 12,
    "start_time": "2022-02-21T16:06:09.176Z"
   },
   {
    "duration": 39,
    "start_time": "2022-02-21T16:06:09.192Z"
   },
   {
    "duration": 199,
    "start_time": "2022-02-21T16:06:09.233Z"
   },
   {
    "duration": 7,
    "start_time": "2022-02-21T16:06:09.434Z"
   },
   {
    "duration": 198,
    "start_time": "2022-02-21T16:06:09.443Z"
   },
   {
    "duration": 10,
    "start_time": "2022-02-21T16:06:09.643Z"
   },
   {
    "duration": 198,
    "start_time": "2022-02-21T16:06:09.654Z"
   },
   {
    "duration": 7,
    "start_time": "2022-02-21T16:06:09.854Z"
   },
   {
    "duration": 212,
    "start_time": "2022-02-21T16:06:09.862Z"
   },
   {
    "duration": 7,
    "start_time": "2022-02-21T16:06:10.076Z"
   },
   {
    "duration": 205,
    "start_time": "2022-02-21T16:06:10.085Z"
   },
   {
    "duration": 17,
    "start_time": "2022-02-21T16:06:10.292Z"
   },
   {
    "duration": 176,
    "start_time": "2022-02-21T16:06:10.311Z"
   },
   {
    "duration": 124,
    "start_time": "2022-02-21T16:06:10.489Z"
   },
   {
    "duration": 138,
    "start_time": "2022-02-21T16:06:10.615Z"
   },
   {
    "duration": 136,
    "start_time": "2022-02-21T16:06:10.754Z"
   },
   {
    "duration": 152,
    "start_time": "2022-02-21T16:06:10.891Z"
   },
   {
    "duration": 46,
    "start_time": "2022-02-21T16:06:11.045Z"
   },
   {
    "duration": 473,
    "start_time": "2022-02-21T16:06:11.092Z"
   },
   {
    "duration": 130,
    "start_time": "2022-02-21T16:06:11.567Z"
   },
   {
    "duration": -1027,
    "start_time": "2022-02-21T16:06:12.726Z"
   },
   {
    "duration": 5,
    "start_time": "2022-02-21T16:06:30.184Z"
   },
   {
    "duration": 54,
    "start_time": "2022-02-21T16:07:20.749Z"
   },
   {
    "duration": 76,
    "start_time": "2022-02-21T16:07:20.804Z"
   },
   {
    "duration": 9,
    "start_time": "2022-02-21T16:07:20.882Z"
   },
   {
    "duration": 8,
    "start_time": "2022-02-21T16:07:20.893Z"
   },
   {
    "duration": 4,
    "start_time": "2022-02-21T16:07:20.930Z"
   },
   {
    "duration": 22,
    "start_time": "2022-02-21T16:07:20.936Z"
   },
   {
    "duration": 8,
    "start_time": "2022-02-21T16:07:20.960Z"
   },
   {
    "duration": 22,
    "start_time": "2022-02-21T16:07:20.971Z"
   },
   {
    "duration": 51,
    "start_time": "2022-02-21T16:07:20.995Z"
   },
   {
    "duration": 7,
    "start_time": "2022-02-21T16:07:21.047Z"
   },
   {
    "duration": 27,
    "start_time": "2022-02-21T16:07:21.055Z"
   },
   {
    "duration": 13,
    "start_time": "2022-02-21T16:07:21.084Z"
   },
   {
    "duration": 34,
    "start_time": "2022-02-21T16:07:21.099Z"
   },
   {
    "duration": 16,
    "start_time": "2022-02-21T16:07:21.135Z"
   },
   {
    "duration": 6,
    "start_time": "2022-02-21T16:07:21.153Z"
   },
   {
    "duration": 7,
    "start_time": "2022-02-21T16:07:21.161Z"
   },
   {
    "duration": 6,
    "start_time": "2022-02-21T16:07:21.170Z"
   },
   {
    "duration": 52,
    "start_time": "2022-02-21T16:07:21.178Z"
   },
   {
    "duration": 530,
    "start_time": "2022-02-21T16:07:21.232Z"
   },
   {
    "duration": 24,
    "start_time": "2022-02-21T16:07:21.764Z"
   },
   {
    "duration": 3,
    "start_time": "2022-02-21T16:07:21.790Z"
   },
   {
    "duration": 5,
    "start_time": "2022-02-21T16:07:21.795Z"
   },
   {
    "duration": 45,
    "start_time": "2022-02-21T16:07:21.804Z"
   },
   {
    "duration": 195,
    "start_time": "2022-02-21T16:07:21.852Z"
   },
   {
    "duration": 8,
    "start_time": "2022-02-21T16:07:22.049Z"
   },
   {
    "duration": 213,
    "start_time": "2022-02-21T16:07:22.059Z"
   },
   {
    "duration": 20,
    "start_time": "2022-02-21T16:07:22.274Z"
   },
   {
    "duration": 211,
    "start_time": "2022-02-21T16:07:22.296Z"
   },
   {
    "duration": 7,
    "start_time": "2022-02-21T16:07:22.508Z"
   },
   {
    "duration": 202,
    "start_time": "2022-02-21T16:07:22.516Z"
   },
   {
    "duration": 12,
    "start_time": "2022-02-21T16:07:22.720Z"
   },
   {
    "duration": 212,
    "start_time": "2022-02-21T16:07:22.733Z"
   },
   {
    "duration": 17,
    "start_time": "2022-02-21T16:07:22.947Z"
   },
   {
    "duration": 157,
    "start_time": "2022-02-21T16:07:22.965Z"
   },
   {
    "duration": 148,
    "start_time": "2022-02-21T16:07:23.123Z"
   },
   {
    "duration": 148,
    "start_time": "2022-02-21T16:07:23.272Z"
   },
   {
    "duration": 146,
    "start_time": "2022-02-21T16:07:23.422Z"
   },
   {
    "duration": 162,
    "start_time": "2022-02-21T16:07:23.570Z"
   },
   {
    "duration": 52,
    "start_time": "2022-02-21T16:07:23.734Z"
   },
   {
    "duration": 468,
    "start_time": "2022-02-21T16:07:23.788Z"
   },
   {
    "duration": 139,
    "start_time": "2022-02-21T16:07:24.258Z"
   },
   {
    "duration": -1032,
    "start_time": "2022-02-21T16:07:25.430Z"
   },
   {
    "duration": 465,
    "start_time": "2022-02-21T16:07:38.191Z"
   },
   {
    "duration": 413,
    "start_time": "2022-02-21T16:07:41.579Z"
   },
   {
    "duration": 128,
    "start_time": "2022-02-21T16:08:13.358Z"
   },
   {
    "duration": 56,
    "start_time": "2022-02-21T16:08:17.409Z"
   },
   {
    "duration": 110,
    "start_time": "2022-02-21T16:08:17.467Z"
   },
   {
    "duration": 10,
    "start_time": "2022-02-21T16:08:17.580Z"
   },
   {
    "duration": 8,
    "start_time": "2022-02-21T16:08:17.592Z"
   },
   {
    "duration": 3,
    "start_time": "2022-02-21T16:08:17.602Z"
   },
   {
    "duration": 130,
    "start_time": "2022-02-21T16:08:17.607Z"
   },
   {
    "duration": 7,
    "start_time": "2022-02-21T16:08:17.738Z"
   },
   {
    "duration": 22,
    "start_time": "2022-02-21T16:08:17.747Z"
   },
   {
    "duration": 20,
    "start_time": "2022-02-21T16:08:17.771Z"
   },
   {
    "duration": 4,
    "start_time": "2022-02-21T16:08:17.792Z"
   },
   {
    "duration": 48,
    "start_time": "2022-02-21T16:08:17.798Z"
   },
   {
    "duration": 10,
    "start_time": "2022-02-21T16:08:17.848Z"
   },
   {
    "duration": 7,
    "start_time": "2022-02-21T16:08:17.860Z"
   },
   {
    "duration": 11,
    "start_time": "2022-02-21T16:08:17.869Z"
   },
   {
    "duration": 5,
    "start_time": "2022-02-21T16:08:17.881Z"
   },
   {
    "duration": 6,
    "start_time": "2022-02-21T16:08:17.888Z"
   },
   {
    "duration": 35,
    "start_time": "2022-02-21T16:08:17.895Z"
   },
   {
    "duration": 25,
    "start_time": "2022-02-21T16:08:17.932Z"
   },
   {
    "duration": 462,
    "start_time": "2022-02-21T16:08:17.958Z"
   },
   {
    "duration": 29,
    "start_time": "2022-02-21T16:08:18.421Z"
   },
   {
    "duration": 4,
    "start_time": "2022-02-21T16:08:18.451Z"
   },
   {
    "duration": 5,
    "start_time": "2022-02-21T16:08:18.456Z"
   },
   {
    "duration": 21,
    "start_time": "2022-02-21T16:08:18.465Z"
   },
   {
    "duration": 201,
    "start_time": "2022-02-21T16:08:18.488Z"
   },
   {
    "duration": 7,
    "start_time": "2022-02-21T16:08:18.690Z"
   },
   {
    "duration": 193,
    "start_time": "2022-02-21T16:08:18.699Z"
   },
   {
    "duration": 6,
    "start_time": "2022-02-21T16:08:18.894Z"
   },
   {
    "duration": 186,
    "start_time": "2022-02-21T16:08:18.902Z"
   },
   {
    "duration": 7,
    "start_time": "2022-02-21T16:08:19.090Z"
   },
   {
    "duration": 213,
    "start_time": "2022-02-21T16:08:19.099Z"
   },
   {
    "duration": 8,
    "start_time": "2022-02-21T16:08:19.313Z"
   },
   {
    "duration": 207,
    "start_time": "2022-02-21T16:08:19.323Z"
   },
   {
    "duration": 17,
    "start_time": "2022-02-21T16:08:19.532Z"
   },
   {
    "duration": 152,
    "start_time": "2022-02-21T16:08:19.551Z"
   },
   {
    "duration": 148,
    "start_time": "2022-02-21T16:08:19.705Z"
   },
   {
    "duration": 142,
    "start_time": "2022-02-21T16:08:19.856Z"
   },
   {
    "duration": 223,
    "start_time": "2022-02-21T16:08:20.000Z"
   },
   {
    "duration": 148,
    "start_time": "2022-02-21T16:08:20.230Z"
   },
   {
    "duration": 62,
    "start_time": "2022-02-21T16:08:20.380Z"
   },
   {
    "duration": 461,
    "start_time": "2022-02-21T16:08:20.444Z"
   },
   {
    "duration": 129,
    "start_time": "2022-02-21T16:08:20.906Z"
   },
   {
    "duration": -1035,
    "start_time": "2022-02-21T16:08:22.072Z"
   },
   {
    "duration": 5,
    "start_time": "2022-02-21T16:08:23.120Z"
   },
   {
    "duration": 459,
    "start_time": "2022-02-21T16:14:36.499Z"
   },
   {
    "duration": 5,
    "start_time": "2022-02-21T16:16:07.021Z"
   },
   {
    "duration": 140,
    "start_time": "2022-02-21T16:17:16.755Z"
   },
   {
    "duration": 160,
    "start_time": "2022-02-21T16:19:49.851Z"
   },
   {
    "duration": 126,
    "start_time": "2022-02-21T16:29:42.371Z"
   },
   {
    "duration": 789,
    "start_time": "2022-02-25T13:01:26.450Z"
   },
   {
    "duration": 86,
    "start_time": "2022-02-25T13:01:27.241Z"
   },
   {
    "duration": 12,
    "start_time": "2022-02-25T13:01:27.329Z"
   },
   {
    "duration": 21,
    "start_time": "2022-02-25T13:01:27.344Z"
   },
   {
    "duration": 10,
    "start_time": "2022-02-25T13:01:27.367Z"
   },
   {
    "duration": 40,
    "start_time": "2022-02-25T13:01:27.379Z"
   },
   {
    "duration": 26,
    "start_time": "2022-02-25T13:01:27.421Z"
   },
   {
    "duration": 42,
    "start_time": "2022-02-25T13:01:27.451Z"
   },
   {
    "duration": 26,
    "start_time": "2022-02-25T13:01:27.496Z"
   },
   {
    "duration": 10,
    "start_time": "2022-02-25T13:01:27.524Z"
   },
   {
    "duration": 37,
    "start_time": "2022-02-25T13:01:27.535Z"
   },
   {
    "duration": 27,
    "start_time": "2022-02-25T13:01:27.574Z"
   },
   {
    "duration": 9,
    "start_time": "2022-02-25T13:01:27.603Z"
   },
   {
    "duration": 30,
    "start_time": "2022-02-25T13:01:27.614Z"
   },
   {
    "duration": 6,
    "start_time": "2022-02-25T13:01:27.646Z"
   },
   {
    "duration": 7,
    "start_time": "2022-02-25T13:01:27.654Z"
   },
   {
    "duration": 5,
    "start_time": "2022-02-25T13:01:27.664Z"
   },
   {
    "duration": 45,
    "start_time": "2022-02-25T13:01:27.671Z"
   },
   {
    "duration": 529,
    "start_time": "2022-02-25T13:01:27.718Z"
   },
   {
    "duration": 27,
    "start_time": "2022-02-25T13:01:28.249Z"
   },
   {
    "duration": 17,
    "start_time": "2022-02-25T13:01:28.278Z"
   },
   {
    "duration": 5,
    "start_time": "2022-02-25T13:01:28.297Z"
   },
   {
    "duration": 30,
    "start_time": "2022-02-25T13:01:28.305Z"
   },
   {
    "duration": 358,
    "start_time": "2022-02-25T13:01:28.337Z"
   },
   {
    "duration": 8,
    "start_time": "2022-02-25T13:01:28.697Z"
   },
   {
    "duration": 224,
    "start_time": "2022-02-25T13:01:28.707Z"
   },
   {
    "duration": 9,
    "start_time": "2022-02-25T13:01:28.933Z"
   },
   {
    "duration": 223,
    "start_time": "2022-02-25T13:01:28.943Z"
   },
   {
    "duration": 8,
    "start_time": "2022-02-25T13:01:29.168Z"
   },
   {
    "duration": 244,
    "start_time": "2022-02-25T13:01:29.178Z"
   },
   {
    "duration": 8,
    "start_time": "2022-02-25T13:01:29.424Z"
   },
   {
    "duration": 242,
    "start_time": "2022-02-25T13:01:29.434Z"
   },
   {
    "duration": 28,
    "start_time": "2022-02-25T13:01:29.678Z"
   },
   {
    "duration": 183,
    "start_time": "2022-02-25T13:01:29.708Z"
   },
   {
    "duration": 162,
    "start_time": "2022-02-25T13:01:29.895Z"
   },
   {
    "duration": 167,
    "start_time": "2022-02-25T13:01:30.059Z"
   },
   {
    "duration": 160,
    "start_time": "2022-02-25T13:01:30.229Z"
   },
   {
    "duration": 168,
    "start_time": "2022-02-25T13:01:30.395Z"
   },
   {
    "duration": 69,
    "start_time": "2022-02-25T13:01:30.565Z"
   },
   {
    "duration": 531,
    "start_time": "2022-02-25T13:01:30.636Z"
   },
   {
    "duration": 4,
    "start_time": "2022-02-25T13:01:31.169Z"
   },
   {
    "duration": 585,
    "start_time": "2022-02-25T13:01:31.175Z"
   },
   {
    "duration": 5,
    "start_time": "2022-02-25T13:01:31.762Z"
   },
   {
    "duration": 82,
    "start_time": "2022-02-25T13:01:31.768Z"
   },
   {
    "duration": 16,
    "start_time": "2022-02-25T13:22:14.640Z"
   },
   {
    "duration": 27,
    "start_time": "2022-02-25T14:12:55.373Z"
   },
   {
    "duration": 21,
    "start_time": "2022-02-25T14:13:17.948Z"
   },
   {
    "duration": 14,
    "start_time": "2022-02-25T14:13:43.669Z"
   },
   {
    "duration": 17,
    "start_time": "2022-02-25T14:14:00.172Z"
   },
   {
    "duration": 15,
    "start_time": "2022-02-25T14:14:25.930Z"
   },
   {
    "duration": 15,
    "start_time": "2022-02-25T14:15:48.203Z"
   },
   {
    "duration": 468,
    "start_time": "2022-02-25T14:26:22.114Z"
   },
   {
    "duration": 50,
    "start_time": "2022-02-25T14:27:47.198Z"
   },
   {
    "duration": 19,
    "start_time": "2022-02-25T14:28:49.685Z"
   },
   {
    "duration": 206,
    "start_time": "2022-02-25T14:29:39.502Z"
   },
   {
    "duration": 16,
    "start_time": "2022-02-25T14:29:51.128Z"
   },
   {
    "duration": 25,
    "start_time": "2022-02-25T14:30:24.264Z"
   },
   {
    "duration": 27,
    "start_time": "2022-02-25T14:30:36.798Z"
   },
   {
    "duration": 18,
    "start_time": "2022-02-25T14:30:52.731Z"
   },
   {
    "duration": 20,
    "start_time": "2022-02-25T14:31:53.804Z"
   },
   {
    "duration": 19,
    "start_time": "2022-02-25T14:32:01.557Z"
   },
   {
    "duration": 19,
    "start_time": "2022-02-25T14:32:13.673Z"
   },
   {
    "duration": 17,
    "start_time": "2022-02-25T14:32:19.987Z"
   },
   {
    "duration": 416,
    "start_time": "2022-02-25T14:35:03.170Z"
   },
   {
    "duration": 506,
    "start_time": "2022-02-25T14:35:09.062Z"
   },
   {
    "duration": 317,
    "start_time": "2022-02-25T14:35:20.986Z"
   },
   {
    "duration": 372,
    "start_time": "2022-02-25T15:59:13.347Z"
   },
   {
    "duration": 19,
    "start_time": "2022-02-25T15:59:30.784Z"
   },
   {
    "duration": 6,
    "start_time": "2022-02-25T16:00:16.976Z"
   },
   {
    "duration": 6,
    "start_time": "2022-02-25T16:00:37.717Z"
   },
   {
    "duration": 12,
    "start_time": "2022-02-25T16:00:49.519Z"
   },
   {
    "duration": 64,
    "start_time": "2022-02-25T16:01:06.036Z"
   },
   {
    "duration": 112,
    "start_time": "2022-02-25T16:01:06.103Z"
   },
   {
    "duration": 11,
    "start_time": "2022-02-25T16:01:06.217Z"
   },
   {
    "duration": 18,
    "start_time": "2022-02-25T16:01:06.230Z"
   },
   {
    "duration": 12,
    "start_time": "2022-02-25T16:01:06.250Z"
   },
   {
    "duration": 40,
    "start_time": "2022-02-25T16:01:06.264Z"
   },
   {
    "duration": 21,
    "start_time": "2022-02-25T16:01:06.306Z"
   },
   {
    "duration": 35,
    "start_time": "2022-02-25T16:01:06.330Z"
   },
   {
    "duration": 33,
    "start_time": "2022-02-25T16:01:06.367Z"
   },
   {
    "duration": 6,
    "start_time": "2022-02-25T16:01:06.402Z"
   },
   {
    "duration": 37,
    "start_time": "2022-02-25T16:01:06.409Z"
   },
   {
    "duration": 11,
    "start_time": "2022-02-25T16:01:06.448Z"
   },
   {
    "duration": 17,
    "start_time": "2022-02-25T16:01:06.461Z"
   },
   {
    "duration": 35,
    "start_time": "2022-02-25T16:01:06.480Z"
   },
   {
    "duration": 12,
    "start_time": "2022-02-25T16:01:06.517Z"
   },
   {
    "duration": 34,
    "start_time": "2022-02-25T16:01:06.531Z"
   },
   {
    "duration": 36,
    "start_time": "2022-02-25T16:01:06.567Z"
   },
   {
    "duration": 40,
    "start_time": "2022-02-25T16:01:06.605Z"
   },
   {
    "duration": 496,
    "start_time": "2022-02-25T16:01:06.647Z"
   },
   {
    "duration": 27,
    "start_time": "2022-02-25T16:01:07.145Z"
   },
   {
    "duration": 22,
    "start_time": "2022-02-25T16:01:07.174Z"
   },
   {
    "duration": 11,
    "start_time": "2022-02-25T16:01:07.197Z"
   },
   {
    "duration": 27,
    "start_time": "2022-02-25T16:01:07.211Z"
   },
   {
    "duration": 204,
    "start_time": "2022-02-25T16:01:07.240Z"
   },
   {
    "duration": 8,
    "start_time": "2022-02-25T16:01:07.446Z"
   },
   {
    "duration": 219,
    "start_time": "2022-02-25T16:01:07.455Z"
   },
   {
    "duration": 18,
    "start_time": "2022-02-25T16:01:07.676Z"
   },
   {
    "duration": 215,
    "start_time": "2022-02-25T16:01:07.696Z"
   },
   {
    "duration": 8,
    "start_time": "2022-02-25T16:01:07.913Z"
   },
   {
    "duration": 253,
    "start_time": "2022-02-25T16:01:07.923Z"
   },
   {
    "duration": 21,
    "start_time": "2022-02-25T16:01:08.178Z"
   },
   {
    "duration": 339,
    "start_time": "2022-02-25T16:01:08.201Z"
   },
   {
    "duration": 24,
    "start_time": "2022-02-25T16:01:08.543Z"
   },
   {
    "duration": 408,
    "start_time": "2022-02-25T16:01:08.569Z"
   },
   {
    "duration": 150,
    "start_time": "2022-02-25T16:01:08.979Z"
   },
   {
    "duration": 225,
    "start_time": "2022-02-25T16:01:09.131Z"
   },
   {
    "duration": 156,
    "start_time": "2022-02-25T16:01:09.357Z"
   },
   {
    "duration": 161,
    "start_time": "2022-02-25T16:01:09.516Z"
   },
   {
    "duration": 59,
    "start_time": "2022-02-25T16:01:09.679Z"
   },
   {
    "duration": 528,
    "start_time": "2022-02-25T16:01:09.740Z"
   },
   {
    "duration": 5,
    "start_time": "2022-02-25T16:01:10.270Z"
   },
   {
    "duration": 503,
    "start_time": "2022-02-25T16:01:10.276Z"
   },
   {
    "duration": 4,
    "start_time": "2022-02-25T16:01:10.781Z"
   },
   {
    "duration": 16,
    "start_time": "2022-02-25T16:01:10.794Z"
   },
   {
    "duration": 14,
    "start_time": "2022-02-25T16:01:10.812Z"
   },
   {
    "duration": 14,
    "start_time": "2022-02-25T16:01:10.828Z"
   },
   {
    "duration": 17,
    "start_time": "2022-02-25T16:01:10.844Z"
   },
   {
    "duration": 46,
    "start_time": "2022-02-25T16:01:10.863Z"
   },
   {
    "duration": 12,
    "start_time": "2022-02-25T16:01:10.911Z"
   },
   {
    "duration": 14,
    "start_time": "2022-02-25T16:01:38.909Z"
   },
   {
    "duration": 12,
    "start_time": "2022-02-25T16:02:28.263Z"
   },
   {
    "duration": 62,
    "start_time": "2022-02-25T16:02:54.696Z"
   },
   {
    "duration": 106,
    "start_time": "2022-02-25T16:02:54.760Z"
   },
   {
    "duration": 26,
    "start_time": "2022-02-25T16:02:54.868Z"
   },
   {
    "duration": 10,
    "start_time": "2022-02-25T16:02:54.896Z"
   },
   {
    "duration": 5,
    "start_time": "2022-02-25T16:02:54.907Z"
   },
   {
    "duration": 24,
    "start_time": "2022-02-25T16:02:54.914Z"
   },
   {
    "duration": 17,
    "start_time": "2022-02-25T16:02:54.940Z"
   },
   {
    "duration": 52,
    "start_time": "2022-02-25T16:02:54.960Z"
   },
   {
    "duration": 26,
    "start_time": "2022-02-25T16:02:55.015Z"
   },
   {
    "duration": 6,
    "start_time": "2022-02-25T16:02:55.043Z"
   },
   {
    "duration": 52,
    "start_time": "2022-02-25T16:02:55.051Z"
   },
   {
    "duration": 13,
    "start_time": "2022-02-25T16:02:55.105Z"
   },
   {
    "duration": 9,
    "start_time": "2022-02-25T16:02:55.120Z"
   },
   {
    "duration": 15,
    "start_time": "2022-02-25T16:02:55.131Z"
   },
   {
    "duration": 6,
    "start_time": "2022-02-25T16:02:55.147Z"
   },
   {
    "duration": 8,
    "start_time": "2022-02-25T16:02:55.154Z"
   },
   {
    "duration": 8,
    "start_time": "2022-02-25T16:02:55.194Z"
   },
   {
    "duration": 29,
    "start_time": "2022-02-25T16:02:55.204Z"
   },
   {
    "duration": 552,
    "start_time": "2022-02-25T16:02:55.235Z"
   },
   {
    "duration": 30,
    "start_time": "2022-02-25T16:02:55.789Z"
   },
   {
    "duration": 5,
    "start_time": "2022-02-25T16:02:55.821Z"
   },
   {
    "duration": 9,
    "start_time": "2022-02-25T16:02:55.828Z"
   },
   {
    "duration": 53,
    "start_time": "2022-02-25T16:02:55.841Z"
   },
   {
    "duration": 217,
    "start_time": "2022-02-25T16:02:55.897Z"
   },
   {
    "duration": 9,
    "start_time": "2022-02-25T16:02:56.116Z"
   },
   {
    "duration": 227,
    "start_time": "2022-02-25T16:02:56.127Z"
   },
   {
    "duration": 9,
    "start_time": "2022-02-25T16:02:56.355Z"
   },
   {
    "duration": 336,
    "start_time": "2022-02-25T16:02:56.366Z"
   },
   {
    "duration": 8,
    "start_time": "2022-02-25T16:02:56.704Z"
   },
   {
    "duration": 332,
    "start_time": "2022-02-25T16:02:56.714Z"
   },
   {
    "duration": 11,
    "start_time": "2022-02-25T16:02:57.049Z"
   },
   {
    "duration": 283,
    "start_time": "2022-02-25T16:02:57.062Z"
   },
   {
    "duration": 19,
    "start_time": "2022-02-25T16:02:57.347Z"
   },
   {
    "duration": 218,
    "start_time": "2022-02-25T16:02:57.368Z"
   },
   {
    "duration": 170,
    "start_time": "2022-02-25T16:02:57.589Z"
   },
   {
    "duration": 182,
    "start_time": "2022-02-25T16:02:57.761Z"
   },
   {
    "duration": 162,
    "start_time": "2022-02-25T16:02:57.945Z"
   },
   {
    "duration": 172,
    "start_time": "2022-02-25T16:02:58.109Z"
   },
   {
    "duration": 58,
    "start_time": "2022-02-25T16:02:58.282Z"
   },
   {
    "duration": 1008,
    "start_time": "2022-02-25T16:02:58.342Z"
   },
   {
    "duration": 6,
    "start_time": "2022-02-25T16:02:59.352Z"
   },
   {
    "duration": 564,
    "start_time": "2022-02-25T16:02:59.361Z"
   },
   {
    "duration": 5,
    "start_time": "2022-02-25T16:02:59.927Z"
   },
   {
    "duration": 22,
    "start_time": "2022-02-25T16:02:59.934Z"
   },
   {
    "duration": 38,
    "start_time": "2022-02-25T16:02:59.958Z"
   },
   {
    "duration": 20,
    "start_time": "2022-02-25T16:02:59.998Z"
   },
   {
    "duration": 22,
    "start_time": "2022-02-25T16:03:00.020Z"
   },
   {
    "duration": 19,
    "start_time": "2022-02-25T16:03:00.044Z"
   },
   {
    "duration": 32,
    "start_time": "2022-02-25T16:03:00.065Z"
   },
   {
    "duration": 13,
    "start_time": "2022-02-25T16:03:10.036Z"
   },
   {
    "duration": 12,
    "start_time": "2022-02-25T16:03:17.112Z"
   },
   {
    "duration": 263,
    "start_time": "2022-02-26T14:50:26.568Z"
   },
   {
    "duration": 614,
    "start_time": "2022-02-26T14:50:30.032Z"
   },
   {
    "duration": 70,
    "start_time": "2022-02-26T14:50:30.648Z"
   },
   {
    "duration": 10,
    "start_time": "2022-02-26T14:50:30.720Z"
   },
   {
    "duration": 8,
    "start_time": "2022-02-26T14:50:30.731Z"
   },
   {
    "duration": 5,
    "start_time": "2022-02-26T14:50:30.741Z"
   },
   {
    "duration": 21,
    "start_time": "2022-02-26T14:50:30.747Z"
   },
   {
    "duration": 31,
    "start_time": "2022-02-26T14:50:30.770Z"
   },
   {
    "duration": 21,
    "start_time": "2022-02-26T14:50:30.804Z"
   },
   {
    "duration": 22,
    "start_time": "2022-02-26T14:50:30.826Z"
   },
   {
    "duration": 5,
    "start_time": "2022-02-26T14:50:30.849Z"
   },
   {
    "duration": 48,
    "start_time": "2022-02-26T14:50:30.856Z"
   },
   {
    "duration": 11,
    "start_time": "2022-02-26T14:50:30.906Z"
   },
   {
    "duration": 9,
    "start_time": "2022-02-26T14:50:30.918Z"
   },
   {
    "duration": 10,
    "start_time": "2022-02-26T14:50:30.929Z"
   },
   {
    "duration": 6,
    "start_time": "2022-02-26T14:50:30.940Z"
   },
   {
    "duration": 7,
    "start_time": "2022-02-26T14:50:30.947Z"
   },
   {
    "duration": 7,
    "start_time": "2022-02-26T14:50:30.955Z"
   },
   {
    "duration": 56,
    "start_time": "2022-02-26T14:50:30.963Z"
   },
   {
    "duration": 437,
    "start_time": "2022-02-26T14:50:31.020Z"
   },
   {
    "duration": 20,
    "start_time": "2022-02-26T14:50:31.459Z"
   },
   {
    "duration": 3,
    "start_time": "2022-02-26T14:50:31.481Z"
   },
   {
    "duration": 16,
    "start_time": "2022-02-26T14:50:31.485Z"
   },
   {
    "duration": 21,
    "start_time": "2022-02-26T14:50:31.505Z"
   },
   {
    "duration": 278,
    "start_time": "2022-02-26T14:50:31.529Z"
   },
   {
    "duration": 8,
    "start_time": "2022-02-26T14:50:31.809Z"
   },
   {
    "duration": 184,
    "start_time": "2022-02-26T14:50:31.818Z"
   },
   {
    "duration": 8,
    "start_time": "2022-02-26T14:50:32.004Z"
   },
   {
    "duration": 180,
    "start_time": "2022-02-26T14:50:32.013Z"
   },
   {
    "duration": 10,
    "start_time": "2022-02-26T14:50:32.195Z"
   },
   {
    "duration": 178,
    "start_time": "2022-02-26T14:50:32.207Z"
   },
   {
    "duration": 15,
    "start_time": "2022-02-26T14:50:32.386Z"
   },
   {
    "duration": 185,
    "start_time": "2022-02-26T14:50:32.403Z"
   },
   {
    "duration": 20,
    "start_time": "2022-02-26T14:50:32.589Z"
   },
   {
    "duration": 144,
    "start_time": "2022-02-26T14:50:32.611Z"
   },
   {
    "duration": 126,
    "start_time": "2022-02-26T14:50:32.756Z"
   },
   {
    "duration": 126,
    "start_time": "2022-02-26T14:50:32.883Z"
   },
   {
    "duration": 115,
    "start_time": "2022-02-26T14:50:33.011Z"
   },
   {
    "duration": 124,
    "start_time": "2022-02-26T14:50:33.127Z"
   },
   {
    "duration": 52,
    "start_time": "2022-02-26T14:50:33.252Z"
   },
   {
    "duration": 413,
    "start_time": "2022-02-26T14:50:33.305Z"
   },
   {
    "duration": 4,
    "start_time": "2022-02-26T14:50:33.719Z"
   },
   {
    "duration": 467,
    "start_time": "2022-02-26T14:50:33.724Z"
   },
   {
    "duration": 3,
    "start_time": "2022-02-26T14:50:34.192Z"
   },
   {
    "duration": 14,
    "start_time": "2022-02-26T14:50:34.197Z"
   },
   {
    "duration": 11,
    "start_time": "2022-02-26T14:50:34.212Z"
   },
   {
    "duration": 11,
    "start_time": "2022-02-26T14:50:34.224Z"
   },
   {
    "duration": 11,
    "start_time": "2022-02-26T14:50:34.237Z"
   },
   {
    "duration": 13,
    "start_time": "2022-02-26T14:50:34.249Z"
   },
   {
    "duration": 245,
    "start_time": "2022-02-26T14:50:34.263Z"
   },
   {
    "duration": 277,
    "start_time": "2022-02-26T14:50:53.138Z"
   },
   {
    "duration": 227,
    "start_time": "2022-02-26T14:51:27.648Z"
   },
   {
    "duration": 243,
    "start_time": "2022-02-26T14:51:54.179Z"
   },
   {
    "duration": 225,
    "start_time": "2022-02-26T14:52:02.936Z"
   },
   {
    "duration": 977,
    "start_time": "2022-02-26T14:53:00.445Z"
   },
   {
    "duration": 919,
    "start_time": "2022-02-26T14:53:15.041Z"
   },
   {
    "duration": 905,
    "start_time": "2022-02-26T14:53:21.579Z"
   },
   {
    "duration": 940,
    "start_time": "2022-02-26T14:53:26.087Z"
   },
   {
    "duration": 940,
    "start_time": "2022-02-26T14:54:35.978Z"
   },
   {
    "duration": 14,
    "start_time": "2022-02-26T14:55:23.772Z"
   },
   {
    "duration": 900,
    "start_time": "2022-02-26T14:55:31.148Z"
   },
   {
    "duration": 1000,
    "start_time": "2022-02-26T15:02:29.885Z"
   },
   {
    "duration": 1008,
    "start_time": "2022-02-26T15:05:04.711Z"
   },
   {
    "duration": 51,
    "start_time": "2022-02-26T15:05:09.474Z"
   },
   {
    "duration": 77,
    "start_time": "2022-02-26T15:05:09.526Z"
   },
   {
    "duration": 9,
    "start_time": "2022-02-26T15:05:09.604Z"
   },
   {
    "duration": 15,
    "start_time": "2022-02-26T15:05:09.615Z"
   },
   {
    "duration": 3,
    "start_time": "2022-02-26T15:05:09.632Z"
   },
   {
    "duration": 20,
    "start_time": "2022-02-26T15:05:09.636Z"
   },
   {
    "duration": 5,
    "start_time": "2022-02-26T15:05:09.657Z"
   },
   {
    "duration": 53,
    "start_time": "2022-02-26T15:05:09.664Z"
   },
   {
    "duration": 20,
    "start_time": "2022-02-26T15:05:09.720Z"
   },
   {
    "duration": 5,
    "start_time": "2022-02-26T15:05:09.742Z"
   },
   {
    "duration": 23,
    "start_time": "2022-02-26T15:05:09.748Z"
   },
   {
    "duration": 35,
    "start_time": "2022-02-26T15:05:09.773Z"
   },
   {
    "duration": 9,
    "start_time": "2022-02-26T15:05:09.809Z"
   },
   {
    "duration": 10,
    "start_time": "2022-02-26T15:05:09.819Z"
   },
   {
    "duration": 5,
    "start_time": "2022-02-26T15:05:09.831Z"
   },
   {
    "duration": 6,
    "start_time": "2022-02-26T15:05:09.837Z"
   },
   {
    "duration": 8,
    "start_time": "2022-02-26T15:05:09.844Z"
   },
   {
    "duration": 25,
    "start_time": "2022-02-26T15:05:09.854Z"
   },
   {
    "duration": 430,
    "start_time": "2022-02-26T15:05:09.901Z"
   },
   {
    "duration": 20,
    "start_time": "2022-02-26T15:05:10.333Z"
   },
   {
    "duration": 3,
    "start_time": "2022-02-26T15:05:10.355Z"
   },
   {
    "duration": 5,
    "start_time": "2022-02-26T15:05:10.359Z"
   },
   {
    "duration": 41,
    "start_time": "2022-02-26T15:05:10.366Z"
   },
   {
    "duration": 167,
    "start_time": "2022-02-26T15:05:10.408Z"
   },
   {
    "duration": 6,
    "start_time": "2022-02-26T15:05:10.577Z"
   },
   {
    "duration": 178,
    "start_time": "2022-02-26T15:05:10.585Z"
   },
   {
    "duration": 6,
    "start_time": "2022-02-26T15:05:10.765Z"
   },
   {
    "duration": 163,
    "start_time": "2022-02-26T15:05:10.772Z"
   },
   {
    "duration": 7,
    "start_time": "2022-02-26T15:05:10.936Z"
   },
   {
    "duration": 187,
    "start_time": "2022-02-26T15:05:10.944Z"
   },
   {
    "duration": 7,
    "start_time": "2022-02-26T15:05:11.132Z"
   },
   {
    "duration": 184,
    "start_time": "2022-02-26T15:05:11.141Z"
   },
   {
    "duration": 14,
    "start_time": "2022-02-26T15:05:11.327Z"
   },
   {
    "duration": 143,
    "start_time": "2022-02-26T15:05:11.343Z"
   },
   {
    "duration": 126,
    "start_time": "2022-02-26T15:05:11.488Z"
   },
   {
    "duration": 180,
    "start_time": "2022-02-26T15:05:11.616Z"
   },
   {
    "duration": 123,
    "start_time": "2022-02-26T15:05:11.800Z"
   },
   {
    "duration": 127,
    "start_time": "2022-02-26T15:05:11.925Z"
   },
   {
    "duration": 50,
    "start_time": "2022-02-26T15:05:12.054Z"
   },
   {
    "duration": 405,
    "start_time": "2022-02-26T15:05:12.106Z"
   },
   {
    "duration": 4,
    "start_time": "2022-02-26T15:05:12.512Z"
   },
   {
    "duration": 403,
    "start_time": "2022-02-26T15:05:12.518Z"
   },
   {
    "duration": 4,
    "start_time": "2022-02-26T15:05:12.922Z"
   },
   {
    "duration": 13,
    "start_time": "2022-02-26T15:05:12.927Z"
   },
   {
    "duration": 10,
    "start_time": "2022-02-26T15:05:12.941Z"
   },
   {
    "duration": 10,
    "start_time": "2022-02-26T15:05:12.953Z"
   },
   {
    "duration": 38,
    "start_time": "2022-02-26T15:05:12.964Z"
   },
   {
    "duration": 13,
    "start_time": "2022-02-26T15:05:13.003Z"
   },
   {
    "duration": 1137,
    "start_time": "2022-02-26T15:05:13.017Z"
   },
   {
    "duration": 668,
    "start_time": "2022-02-27T06:45:51.440Z"
   },
   {
    "duration": 75,
    "start_time": "2022-02-27T06:45:52.109Z"
   },
   {
    "duration": 11,
    "start_time": "2022-02-27T06:45:52.186Z"
   },
   {
    "duration": 8,
    "start_time": "2022-02-27T06:45:52.198Z"
   },
   {
    "duration": 3,
    "start_time": "2022-02-27T06:45:52.208Z"
   },
   {
    "duration": 22,
    "start_time": "2022-02-27T06:45:52.212Z"
   },
   {
    "duration": 6,
    "start_time": "2022-02-27T06:45:52.259Z"
   },
   {
    "duration": 24,
    "start_time": "2022-02-27T06:45:52.267Z"
   },
   {
    "duration": 21,
    "start_time": "2022-02-27T06:45:52.293Z"
   },
   {
    "duration": 5,
    "start_time": "2022-02-27T06:45:52.316Z"
   },
   {
    "duration": 54,
    "start_time": "2022-02-27T06:45:52.322Z"
   },
   {
    "duration": 11,
    "start_time": "2022-02-27T06:45:52.377Z"
   },
   {
    "duration": 8,
    "start_time": "2022-02-27T06:45:52.389Z"
   },
   {
    "duration": 13,
    "start_time": "2022-02-27T06:45:52.398Z"
   },
   {
    "duration": 5,
    "start_time": "2022-02-27T06:45:52.413Z"
   },
   {
    "duration": 6,
    "start_time": "2022-02-27T06:45:52.420Z"
   },
   {
    "duration": 34,
    "start_time": "2022-02-27T06:45:52.428Z"
   },
   {
    "duration": 23,
    "start_time": "2022-02-27T06:45:52.463Z"
   },
   {
    "duration": 467,
    "start_time": "2022-02-27T06:45:52.488Z"
   },
   {
    "duration": 23,
    "start_time": "2022-02-27T06:45:52.957Z"
   },
   {
    "duration": 4,
    "start_time": "2022-02-27T06:45:52.981Z"
   },
   {
    "duration": 5,
    "start_time": "2022-02-27T06:45:52.986Z"
   },
   {
    "duration": 21,
    "start_time": "2022-02-27T06:45:52.994Z"
   },
   {
    "duration": 303,
    "start_time": "2022-02-27T06:45:53.017Z"
   },
   {
    "duration": 8,
    "start_time": "2022-02-27T06:45:53.321Z"
   },
   {
    "duration": 207,
    "start_time": "2022-02-27T06:45:53.331Z"
   },
   {
    "duration": 7,
    "start_time": "2022-02-27T06:45:53.540Z"
   },
   {
    "duration": 203,
    "start_time": "2022-02-27T06:45:53.548Z"
   },
   {
    "duration": 12,
    "start_time": "2022-02-27T06:45:53.752Z"
   },
   {
    "duration": 212,
    "start_time": "2022-02-27T06:45:53.765Z"
   },
   {
    "duration": 7,
    "start_time": "2022-02-27T06:45:53.978Z"
   },
   {
    "duration": 222,
    "start_time": "2022-02-27T06:45:53.987Z"
   },
   {
    "duration": 17,
    "start_time": "2022-02-27T06:45:54.211Z"
   },
   {
    "duration": 161,
    "start_time": "2022-02-27T06:45:54.229Z"
   },
   {
    "duration": 140,
    "start_time": "2022-02-27T06:45:54.392Z"
   },
   {
    "duration": 143,
    "start_time": "2022-02-27T06:45:54.533Z"
   },
   {
    "duration": 131,
    "start_time": "2022-02-27T06:45:54.678Z"
   },
   {
    "duration": 154,
    "start_time": "2022-02-27T06:45:54.811Z"
   },
   {
    "duration": 46,
    "start_time": "2022-02-27T06:45:54.966Z"
   },
   {
    "duration": 496,
    "start_time": "2022-02-27T06:45:55.014Z"
   },
   {
    "duration": 5,
    "start_time": "2022-02-27T06:45:55.511Z"
   },
   {
    "duration": 489,
    "start_time": "2022-02-27T06:45:55.518Z"
   },
   {
    "duration": 4,
    "start_time": "2022-02-27T06:45:56.008Z"
   },
   {
    "duration": 14,
    "start_time": "2022-02-27T06:45:56.014Z"
   },
   {
    "duration": 37,
    "start_time": "2022-02-27T06:45:56.029Z"
   },
   {
    "duration": 13,
    "start_time": "2022-02-27T06:45:56.068Z"
   },
   {
    "duration": 13,
    "start_time": "2022-02-27T06:45:56.082Z"
   },
   {
    "duration": 14,
    "start_time": "2022-02-27T06:45:56.097Z"
   },
   {
    "duration": 960,
    "start_time": "2022-02-27T06:45:56.113Z"
   },
   {
    "duration": 1071,
    "start_time": "2022-02-27T06:46:50.673Z"
   },
   {
    "duration": 3,
    "start_time": "2022-02-27T06:47:07.463Z"
   },
   {
    "duration": 8,
    "start_time": "2022-02-27T06:47:21.914Z"
   },
   {
    "duration": 15,
    "start_time": "2022-02-27T06:49:24.086Z"
   },
   {
    "duration": 8,
    "start_time": "2022-02-27T06:49:31.112Z"
   },
   {
    "duration": 3,
    "start_time": "2022-02-27T06:54:10.428Z"
   },
   {
    "duration": 8,
    "start_time": "2022-02-27T06:54:32.262Z"
   },
   {
    "duration": 52,
    "start_time": "2022-02-27T06:54:41.292Z"
   },
   {
    "duration": 74,
    "start_time": "2022-02-27T06:54:41.345Z"
   },
   {
    "duration": 10,
    "start_time": "2022-02-27T06:54:41.421Z"
   },
   {
    "duration": 29,
    "start_time": "2022-02-27T06:54:41.433Z"
   },
   {
    "duration": 3,
    "start_time": "2022-02-27T06:54:41.463Z"
   },
   {
    "duration": 22,
    "start_time": "2022-02-27T06:54:41.468Z"
   },
   {
    "duration": 7,
    "start_time": "2022-02-27T06:54:41.491Z"
   },
   {
    "duration": 24,
    "start_time": "2022-02-27T06:54:41.500Z"
   },
   {
    "duration": 45,
    "start_time": "2022-02-27T06:54:41.526Z"
   },
   {
    "duration": 5,
    "start_time": "2022-02-27T06:54:41.573Z"
   },
   {
    "duration": 26,
    "start_time": "2022-02-27T06:54:41.579Z"
   },
   {
    "duration": 12,
    "start_time": "2022-02-27T06:54:41.608Z"
   },
   {
    "duration": 42,
    "start_time": "2022-02-27T06:54:41.622Z"
   },
   {
    "duration": 12,
    "start_time": "2022-02-27T06:54:41.666Z"
   },
   {
    "duration": 6,
    "start_time": "2022-02-27T06:54:41.680Z"
   },
   {
    "duration": 7,
    "start_time": "2022-02-27T06:54:41.687Z"
   },
   {
    "duration": 6,
    "start_time": "2022-02-27T06:54:41.696Z"
   },
   {
    "duration": 58,
    "start_time": "2022-02-27T06:54:41.704Z"
   },
   {
    "duration": 468,
    "start_time": "2022-02-27T06:54:41.763Z"
   },
   {
    "duration": 34,
    "start_time": "2022-02-27T06:54:42.233Z"
   },
   {
    "duration": 5,
    "start_time": "2022-02-27T06:54:42.269Z"
   },
   {
    "duration": 4,
    "start_time": "2022-02-27T06:54:42.276Z"
   },
   {
    "duration": 25,
    "start_time": "2022-02-27T06:54:42.285Z"
   },
   {
    "duration": 231,
    "start_time": "2022-02-27T06:54:42.312Z"
   },
   {
    "duration": 20,
    "start_time": "2022-02-27T06:54:42.545Z"
   },
   {
    "duration": 208,
    "start_time": "2022-02-27T06:54:42.567Z"
   },
   {
    "duration": 8,
    "start_time": "2022-02-27T06:54:42.776Z"
   },
   {
    "duration": 194,
    "start_time": "2022-02-27T06:54:42.786Z"
   },
   {
    "duration": 8,
    "start_time": "2022-02-27T06:54:42.982Z"
   },
   {
    "duration": 226,
    "start_time": "2022-02-27T06:54:42.992Z"
   },
   {
    "duration": 8,
    "start_time": "2022-02-27T06:54:43.220Z"
   },
   {
    "duration": 216,
    "start_time": "2022-02-27T06:54:43.230Z"
   },
   {
    "duration": 22,
    "start_time": "2022-02-27T06:54:43.448Z"
   },
   {
    "duration": 165,
    "start_time": "2022-02-27T06:54:43.472Z"
   },
   {
    "duration": 142,
    "start_time": "2022-02-27T06:54:43.639Z"
   },
   {
    "duration": 185,
    "start_time": "2022-02-27T06:54:43.783Z"
   },
   {
    "duration": 147,
    "start_time": "2022-02-27T06:54:43.970Z"
   },
   {
    "duration": 167,
    "start_time": "2022-02-27T06:54:44.119Z"
   },
   {
    "duration": 45,
    "start_time": "2022-02-27T06:54:44.288Z"
   },
   {
    "duration": 468,
    "start_time": "2022-02-27T06:54:44.334Z"
   },
   {
    "duration": 4,
    "start_time": "2022-02-27T06:54:44.804Z"
   },
   {
    "duration": 479,
    "start_time": "2022-02-27T06:54:44.810Z"
   },
   {
    "duration": 4,
    "start_time": "2022-02-27T06:54:45.291Z"
   },
   {
    "duration": 15,
    "start_time": "2022-02-27T06:54:45.296Z"
   },
   {
    "duration": 12,
    "start_time": "2022-02-27T06:54:45.312Z"
   },
   {
    "duration": 35,
    "start_time": "2022-02-27T06:54:45.325Z"
   },
   {
    "duration": 13,
    "start_time": "2022-02-27T06:54:45.362Z"
   },
   {
    "duration": 14,
    "start_time": "2022-02-27T06:54:45.377Z"
   },
   {
    "duration": 6,
    "start_time": "2022-02-27T06:54:45.393Z"
   },
   {
    "duration": 10,
    "start_time": "2022-02-27T06:54:45.400Z"
   },
   {
    "duration": 8,
    "start_time": "2022-02-27T06:55:01.957Z"
   },
   {
    "duration": 7,
    "start_time": "2022-02-27T06:55:12.262Z"
   },
   {
    "duration": 12,
    "start_time": "2022-02-27T07:13:31.634Z"
   },
   {
    "duration": 17,
    "start_time": "2022-02-27T07:13:46.094Z"
   },
   {
    "duration": 5,
    "start_time": "2022-02-27T07:14:26.982Z"
   },
   {
    "duration": 10,
    "start_time": "2022-02-27T07:14:45.721Z"
   },
   {
    "duration": 8,
    "start_time": "2022-02-27T07:15:02.492Z"
   },
   {
    "duration": 11,
    "start_time": "2022-02-27T07:23:17.283Z"
   },
   {
    "duration": 8,
    "start_time": "2022-02-27T07:23:30.265Z"
   },
   {
    "duration": 4,
    "start_time": "2022-02-27T08:53:29.304Z"
   },
   {
    "duration": 4,
    "start_time": "2022-02-27T08:53:35.152Z"
   },
   {
    "duration": 14,
    "start_time": "2022-02-27T08:54:52.639Z"
   },
   {
    "duration": 15,
    "start_time": "2022-02-27T09:18:20.553Z"
   },
   {
    "duration": 15,
    "start_time": "2022-02-27T09:18:42.322Z"
   },
   {
    "duration": 15,
    "start_time": "2022-02-27T09:19:33.860Z"
   },
   {
    "duration": 17,
    "start_time": "2022-02-27T09:20:18.698Z"
   },
   {
    "duration": 8,
    "start_time": "2022-02-27T09:21:10.680Z"
   },
   {
    "duration": 8,
    "start_time": "2022-02-27T09:21:56.644Z"
   },
   {
    "duration": 17,
    "start_time": "2022-02-27T09:23:56.831Z"
   },
   {
    "duration": 8,
    "start_time": "2022-02-27T09:24:31.522Z"
   },
   {
    "duration": 106,
    "start_time": "2022-02-27T09:30:11.058Z"
   },
   {
    "duration": 2,
    "start_time": "2022-02-27T09:32:25.930Z"
   },
   {
    "duration": 6508,
    "start_time": "2022-02-27T09:53:27.392Z"
   },
   {
    "duration": 44,
    "start_time": "2022-02-27T09:53:47.607Z"
   },
   {
    "duration": 30,
    "start_time": "2022-02-27T09:54:20.170Z"
   },
   {
    "duration": 14,
    "start_time": "2022-02-27T10:02:25.602Z"
   },
   {
    "duration": 23,
    "start_time": "2022-02-27T10:03:38.766Z"
   },
   {
    "duration": 7626,
    "start_time": "2022-02-27T10:05:38.698Z"
   },
   {
    "duration": 231,
    "start_time": "2022-02-27T10:10:41.130Z"
   },
   {
    "duration": 5,
    "start_time": "2022-02-27T10:17:40.594Z"
   },
   {
    "duration": 20,
    "start_time": "2022-02-27T10:17:58.881Z"
   },
   {
    "duration": 5,
    "start_time": "2022-02-27T10:20:11.493Z"
   },
   {
    "duration": 21,
    "start_time": "2022-02-27T10:20:14.716Z"
   },
   {
    "duration": 8257,
    "start_time": "2022-02-27T10:21:03.061Z"
   },
   {
    "duration": 16,
    "start_time": "2022-02-27T10:23:51.110Z"
   },
   {
    "duration": 2854,
    "start_time": "2022-02-27T10:25:09.626Z"
   },
   {
    "duration": 911,
    "start_time": "2022-02-27T10:25:36.016Z"
   },
   {
    "duration": 15,
    "start_time": "2022-02-27T10:25:52.810Z"
   },
   {
    "duration": 5792,
    "start_time": "2022-02-27T10:26:04.945Z"
   },
   {
    "duration": 190,
    "start_time": "2022-02-27T10:33:22.943Z"
   },
   {
    "duration": 223,
    "start_time": "2022-02-27T10:34:46.548Z"
   },
   {
    "duration": 212,
    "start_time": "2022-02-27T10:35:06.271Z"
   },
   {
    "duration": 204,
    "start_time": "2022-02-27T10:35:41.795Z"
   },
   {
    "duration": 196,
    "start_time": "2022-02-27T10:36:33.967Z"
   },
   {
    "duration": 198,
    "start_time": "2022-02-27T10:36:43.424Z"
   },
   {
    "duration": 30,
    "start_time": "2022-02-27T10:38:01.904Z"
   },
   {
    "duration": 5,
    "start_time": "2022-02-27T10:39:49.316Z"
   },
   {
    "duration": 15,
    "start_time": "2022-02-27T10:40:36.499Z"
   },
   {
    "duration": 16,
    "start_time": "2022-02-27T10:47:54.355Z"
   },
   {
    "duration": 183,
    "start_time": "2022-02-27T10:48:04.678Z"
   },
   {
    "duration": 23,
    "start_time": "2022-02-27T10:48:36.922Z"
   },
   {
    "duration": 287,
    "start_time": "2022-02-27T10:48:42.434Z"
   },
   {
    "duration": 195,
    "start_time": "2022-02-27T10:49:25.826Z"
   },
   {
    "duration": 200,
    "start_time": "2022-02-27T10:49:43.006Z"
   },
   {
    "duration": 198,
    "start_time": "2022-02-27T10:52:18.501Z"
   },
   {
    "duration": 26,
    "start_time": "2022-02-27T10:56:18.079Z"
   },
   {
    "duration": 34,
    "start_time": "2022-02-27T10:56:32.148Z"
   },
   {
    "duration": 40,
    "start_time": "2022-02-27T10:56:46.985Z"
   },
   {
    "duration": 36,
    "start_time": "2022-02-27T10:57:03.779Z"
   },
   {
    "duration": 41,
    "start_time": "2022-02-27T10:57:37.778Z"
   },
   {
    "duration": 26,
    "start_time": "2022-02-27T10:57:47.062Z"
   },
   {
    "duration": 40,
    "start_time": "2022-02-27T10:58:23.614Z"
   },
   {
    "duration": 31,
    "start_time": "2022-02-27T10:58:28.791Z"
   },
   {
    "duration": 186,
    "start_time": "2022-02-27T11:00:45.343Z"
   },
   {
    "duration": 7,
    "start_time": "2022-02-27T11:01:52.390Z"
   },
   {
    "duration": 194,
    "start_time": "2022-02-27T11:03:25.776Z"
   },
   {
    "duration": 177,
    "start_time": "2022-02-27T11:04:02.831Z"
   },
   {
    "duration": 7,
    "start_time": "2022-02-27T11:05:19.552Z"
   },
   {
    "duration": 181,
    "start_time": "2022-02-27T11:06:11.724Z"
   },
   {
    "duration": 7,
    "start_time": "2022-02-27T11:06:45.226Z"
   },
   {
    "duration": 206,
    "start_time": "2022-02-27T11:07:24.900Z"
   },
   {
    "duration": 193,
    "start_time": "2022-02-27T11:07:36.015Z"
   },
   {
    "duration": 8,
    "start_time": "2022-02-27T11:08:22.649Z"
   },
   {
    "duration": 7,
    "start_time": "2022-02-27T11:12:11.016Z"
   },
   {
    "duration": 332,
    "start_time": "2022-02-27T11:12:28.714Z"
   },
   {
    "duration": 5,
    "start_time": "2022-02-27T11:13:18.158Z"
   },
   {
    "duration": 4,
    "start_time": "2022-02-27T11:14:29.768Z"
   },
   {
    "duration": 287,
    "start_time": "2022-02-27T11:19:01.996Z"
   },
   {
    "duration": 351,
    "start_time": "2022-02-27T11:20:09.416Z"
   },
   {
    "duration": 4,
    "start_time": "2022-02-27T11:21:13.927Z"
   },
   {
    "duration": 13,
    "start_time": "2022-02-27T11:25:57.993Z"
   },
   {
    "duration": 13,
    "start_time": "2022-02-27T11:30:15.974Z"
   },
   {
    "duration": 55,
    "start_time": "2022-02-27T12:52:15.171Z"
   },
   {
    "duration": 87,
    "start_time": "2022-02-27T12:52:15.228Z"
   },
   {
    "duration": 10,
    "start_time": "2022-02-27T12:52:15.317Z"
   },
   {
    "duration": 33,
    "start_time": "2022-02-27T12:52:15.329Z"
   },
   {
    "duration": 76,
    "start_time": "2022-02-27T12:52:15.363Z"
   },
   {
    "duration": 40,
    "start_time": "2022-02-27T12:52:15.441Z"
   },
   {
    "duration": 5,
    "start_time": "2022-02-27T12:52:15.483Z"
   },
   {
    "duration": 24,
    "start_time": "2022-02-27T12:52:15.491Z"
   },
   {
    "duration": 59,
    "start_time": "2022-02-27T12:52:15.517Z"
   },
   {
    "duration": 4,
    "start_time": "2022-02-27T12:52:15.578Z"
   },
   {
    "duration": 26,
    "start_time": "2022-02-27T12:52:15.584Z"
   },
   {
    "duration": 10,
    "start_time": "2022-02-27T12:52:15.612Z"
   },
   {
    "duration": 7,
    "start_time": "2022-02-27T12:52:15.624Z"
   },
   {
    "duration": 33,
    "start_time": "2022-02-27T12:52:15.632Z"
   },
   {
    "duration": 5,
    "start_time": "2022-02-27T12:52:15.667Z"
   },
   {
    "duration": 6,
    "start_time": "2022-02-27T12:52:15.673Z"
   },
   {
    "duration": 6,
    "start_time": "2022-02-27T12:52:15.680Z"
   },
   {
    "duration": 23,
    "start_time": "2022-02-27T12:52:15.687Z"
   },
   {
    "duration": 502,
    "start_time": "2022-02-27T12:52:15.712Z"
   },
   {
    "duration": 25,
    "start_time": "2022-02-27T12:52:16.216Z"
   },
   {
    "duration": 17,
    "start_time": "2022-02-27T12:52:16.243Z"
   },
   {
    "duration": 4,
    "start_time": "2022-02-27T12:52:16.262Z"
   },
   {
    "duration": 23,
    "start_time": "2022-02-27T12:52:16.270Z"
   },
   {
    "duration": 218,
    "start_time": "2022-02-27T12:52:16.296Z"
   },
   {
    "duration": 8,
    "start_time": "2022-02-27T12:52:16.515Z"
   },
   {
    "duration": 212,
    "start_time": "2022-02-27T12:52:16.524Z"
   },
   {
    "duration": 7,
    "start_time": "2022-02-27T12:52:16.738Z"
   },
   {
    "duration": 202,
    "start_time": "2022-02-27T12:52:16.759Z"
   },
   {
    "duration": 7,
    "start_time": "2022-02-27T12:52:16.963Z"
   },
   {
    "duration": 231,
    "start_time": "2022-02-27T12:52:16.971Z"
   },
   {
    "duration": 7,
    "start_time": "2022-02-27T12:52:17.203Z"
   },
   {
    "duration": 221,
    "start_time": "2022-02-27T12:52:17.212Z"
   },
   {
    "duration": 24,
    "start_time": "2022-02-27T12:52:17.435Z"
   },
   {
    "duration": 163,
    "start_time": "2022-02-27T12:52:17.461Z"
   },
   {
    "duration": 156,
    "start_time": "2022-02-27T12:52:17.626Z"
   },
   {
    "duration": 151,
    "start_time": "2022-02-27T12:52:17.783Z"
   },
   {
    "duration": 241,
    "start_time": "2022-02-27T12:52:17.936Z"
   },
   {
    "duration": 157,
    "start_time": "2022-02-27T12:52:18.179Z"
   },
   {
    "duration": 60,
    "start_time": "2022-02-27T12:52:18.338Z"
   },
   {
    "duration": 507,
    "start_time": "2022-02-27T12:52:18.400Z"
   },
   {
    "duration": 4,
    "start_time": "2022-02-27T12:52:18.908Z"
   },
   {
    "duration": 479,
    "start_time": "2022-02-27T12:52:18.914Z"
   },
   {
    "duration": 4,
    "start_time": "2022-02-27T12:52:19.394Z"
   },
   {
    "duration": 17,
    "start_time": "2022-02-27T12:52:19.400Z"
   },
   {
    "duration": 13,
    "start_time": "2022-02-27T12:52:19.418Z"
   },
   {
    "duration": 30,
    "start_time": "2022-02-27T12:52:19.433Z"
   },
   {
    "duration": 14,
    "start_time": "2022-02-27T12:52:19.464Z"
   },
   {
    "duration": 14,
    "start_time": "2022-02-27T12:52:19.480Z"
   },
   {
    "duration": 7,
    "start_time": "2022-02-27T12:52:19.496Z"
   },
   {
    "duration": 7,
    "start_time": "2022-02-27T12:52:19.505Z"
   },
   {
    "duration": 50,
    "start_time": "2022-02-27T12:52:19.514Z"
   },
   {
    "duration": 9,
    "start_time": "2022-02-27T12:52:19.566Z"
   },
   {
    "duration": 30,
    "start_time": "2022-02-27T12:52:19.577Z"
   },
   {
    "duration": 4,
    "start_time": "2022-02-27T12:52:19.609Z"
   },
   {
    "duration": 49,
    "start_time": "2022-02-27T12:52:19.615Z"
   },
   {
    "duration": 220,
    "start_time": "2022-02-27T12:52:19.666Z"
   },
   {
    "duration": 26,
    "start_time": "2022-02-27T12:52:19.888Z"
   },
   {
    "duration": 201,
    "start_time": "2022-02-27T12:52:19.916Z"
   },
   {
    "duration": 7,
    "start_time": "2022-02-27T12:52:20.118Z"
   },
   {
    "duration": 194,
    "start_time": "2022-02-27T12:52:20.127Z"
   },
   {
    "duration": 7,
    "start_time": "2022-02-27T12:52:20.323Z"
   },
   {
    "duration": 194,
    "start_time": "2022-02-27T12:52:20.331Z"
   },
   {
    "duration": 6,
    "start_time": "2022-02-27T12:52:20.527Z"
   },
   {
    "duration": 214,
    "start_time": "2022-02-27T12:52:20.534Z"
   },
   {
    "duration": 13,
    "start_time": "2022-02-27T12:52:20.750Z"
   },
   {
    "duration": 337,
    "start_time": "2022-02-27T12:52:20.765Z"
   },
   {
    "duration": 4,
    "start_time": "2022-02-27T12:52:21.104Z"
   },
   {
    "duration": 338,
    "start_time": "2022-02-27T12:52:21.113Z"
   },
   {
    "duration": 9,
    "start_time": "2022-02-27T12:52:21.453Z"
   },
   {
    "duration": 22,
    "start_time": "2022-02-27T12:52:21.463Z"
   },
   {
    "duration": 14,
    "start_time": "2022-02-27T12:52:21.486Z"
   },
   {
    "duration": 654,
    "start_time": "2022-03-07T14:22:05.822Z"
   },
   {
    "duration": 99,
    "start_time": "2022-03-07T14:22:06.478Z"
   },
   {
    "duration": 11,
    "start_time": "2022-03-07T14:22:06.579Z"
   },
   {
    "duration": 8,
    "start_time": "2022-03-07T14:22:06.591Z"
   },
   {
    "duration": 5,
    "start_time": "2022-03-07T14:22:06.601Z"
   },
   {
    "duration": 50,
    "start_time": "2022-03-07T14:22:06.607Z"
   },
   {
    "duration": 8,
    "start_time": "2022-03-07T14:22:06.658Z"
   },
   {
    "duration": 26,
    "start_time": "2022-03-07T14:22:06.668Z"
   },
   {
    "duration": 42,
    "start_time": "2022-03-07T14:22:06.696Z"
   },
   {
    "duration": 6,
    "start_time": "2022-03-07T14:22:06.739Z"
   },
   {
    "duration": 25,
    "start_time": "2022-03-07T14:22:06.747Z"
   },
   {
    "duration": 11,
    "start_time": "2022-03-07T14:22:06.773Z"
   },
   {
    "duration": 7,
    "start_time": "2022-03-07T14:22:06.785Z"
   },
   {
    "duration": 45,
    "start_time": "2022-03-07T14:22:06.794Z"
   },
   {
    "duration": 6,
    "start_time": "2022-03-07T14:22:06.841Z"
   },
   {
    "duration": 7,
    "start_time": "2022-03-07T14:22:06.849Z"
   },
   {
    "duration": 9,
    "start_time": "2022-03-07T14:22:06.858Z"
   },
   {
    "duration": 29,
    "start_time": "2022-03-07T14:22:06.869Z"
   },
   {
    "duration": 480,
    "start_time": "2022-03-07T14:22:06.900Z"
   },
   {
    "duration": 23,
    "start_time": "2022-03-07T14:22:07.382Z"
   },
   {
    "duration": 4,
    "start_time": "2022-03-07T14:22:07.406Z"
   },
   {
    "duration": 26,
    "start_time": "2022-03-07T14:22:07.411Z"
   },
   {
    "duration": 25,
    "start_time": "2022-03-07T14:22:07.441Z"
   },
   {
    "duration": 321,
    "start_time": "2022-03-07T14:22:07.469Z"
   },
   {
    "duration": 8,
    "start_time": "2022-03-07T14:22:07.792Z"
   },
   {
    "duration": 214,
    "start_time": "2022-03-07T14:22:07.802Z"
   },
   {
    "duration": 21,
    "start_time": "2022-03-07T14:22:08.018Z"
   },
   {
    "duration": 222,
    "start_time": "2022-03-07T14:22:08.042Z"
   },
   {
    "duration": 7,
    "start_time": "2022-03-07T14:22:08.266Z"
   },
   {
    "duration": 234,
    "start_time": "2022-03-07T14:22:08.275Z"
   },
   {
    "duration": 8,
    "start_time": "2022-03-07T14:22:08.511Z"
   },
   {
    "duration": 234,
    "start_time": "2022-03-07T14:22:08.521Z"
   },
   {
    "duration": 18,
    "start_time": "2022-03-07T14:22:08.757Z"
   },
   {
    "duration": 168,
    "start_time": "2022-03-07T14:22:08.776Z"
   },
   {
    "duration": 152,
    "start_time": "2022-03-07T14:22:08.946Z"
   },
   {
    "duration": 153,
    "start_time": "2022-03-07T14:22:09.099Z"
   },
   {
    "duration": 147,
    "start_time": "2022-03-07T14:22:09.254Z"
   },
   {
    "duration": 163,
    "start_time": "2022-03-07T14:22:09.403Z"
   },
   {
    "duration": 54,
    "start_time": "2022-03-07T14:22:09.567Z"
   },
   {
    "duration": 480,
    "start_time": "2022-03-07T14:22:09.623Z"
   },
   {
    "duration": 5,
    "start_time": "2022-03-07T14:22:10.104Z"
   },
   {
    "duration": 548,
    "start_time": "2022-03-07T14:22:10.110Z"
   },
   {
    "duration": 4,
    "start_time": "2022-03-07T14:22:10.660Z"
   },
   {
    "duration": 19,
    "start_time": "2022-03-07T14:22:10.666Z"
   },
   {
    "duration": 14,
    "start_time": "2022-03-07T14:22:10.687Z"
   },
   {
    "duration": 39,
    "start_time": "2022-03-07T14:22:10.702Z"
   },
   {
    "duration": 15,
    "start_time": "2022-03-07T14:22:10.743Z"
   },
   {
    "duration": 15,
    "start_time": "2022-03-07T14:22:10.760Z"
   },
   {
    "duration": 7,
    "start_time": "2022-03-07T14:22:10.777Z"
   },
   {
    "duration": 10,
    "start_time": "2022-03-07T14:22:10.785Z"
   },
   {
    "duration": 49,
    "start_time": "2022-03-07T14:22:10.796Z"
   },
   {
    "duration": 12,
    "start_time": "2022-03-07T14:22:10.847Z"
   },
   {
    "duration": 30,
    "start_time": "2022-03-07T14:22:10.861Z"
   },
   {
    "duration": 6,
    "start_time": "2022-03-07T14:22:10.892Z"
   },
   {
    "duration": 51,
    "start_time": "2022-03-07T14:22:10.899Z"
   },
   {
    "duration": 218,
    "start_time": "2022-03-07T14:22:10.952Z"
   },
   {
    "duration": 27,
    "start_time": "2022-03-07T14:22:11.172Z"
   },
   {
    "duration": 246,
    "start_time": "2022-03-07T14:22:11.202Z"
   },
   {
    "duration": 9,
    "start_time": "2022-03-07T14:22:11.450Z"
   },
   {
    "duration": 234,
    "start_time": "2022-03-07T14:22:11.461Z"
   },
   {
    "duration": 8,
    "start_time": "2022-03-07T14:22:11.696Z"
   },
   {
    "duration": 215,
    "start_time": "2022-03-07T14:22:11.705Z"
   },
   {
    "duration": 18,
    "start_time": "2022-03-07T14:22:11.922Z"
   },
   {
    "duration": 249,
    "start_time": "2022-03-07T14:22:11.942Z"
   },
   {
    "duration": 7,
    "start_time": "2022-03-07T14:22:12.193Z"
   },
   {
    "duration": 395,
    "start_time": "2022-03-07T14:22:12.202Z"
   },
   {
    "duration": 5,
    "start_time": "2022-03-07T14:22:12.598Z"
   },
   {
    "duration": 381,
    "start_time": "2022-03-07T14:22:12.607Z"
   },
   {
    "duration": 6,
    "start_time": "2022-03-07T14:22:12.990Z"
   },
   {
    "duration": 20,
    "start_time": "2022-03-07T14:22:12.998Z"
   },
   {
    "duration": 28,
    "start_time": "2022-03-07T14:22:13.020Z"
   },
   {
    "duration": 639,
    "start_time": "2022-03-07T15:00:27.530Z"
   },
   {
    "duration": 83,
    "start_time": "2022-03-07T15:00:28.171Z"
   },
   {
    "duration": 11,
    "start_time": "2022-03-07T15:00:28.256Z"
   },
   {
    "duration": 8,
    "start_time": "2022-03-07T15:00:28.269Z"
   },
   {
    "duration": 4,
    "start_time": "2022-03-07T15:00:28.340Z"
   },
   {
    "duration": 22,
    "start_time": "2022-03-07T15:00:28.348Z"
   },
   {
    "duration": 10,
    "start_time": "2022-03-07T15:00:28.371Z"
   },
   {
    "duration": 24,
    "start_time": "2022-03-07T15:00:28.780Z"
   },
   {
    "duration": 21,
    "start_time": "2022-03-07T15:00:28.806Z"
   },
   {
    "duration": 6,
    "start_time": "2022-03-07T15:00:29.215Z"
   },
   {
    "duration": 32,
    "start_time": "2022-03-07T15:00:29.223Z"
   },
   {
    "duration": 11,
    "start_time": "2022-03-07T15:00:29.256Z"
   },
   {
    "duration": 8,
    "start_time": "2022-03-07T15:00:29.268Z"
   },
   {
    "duration": 11,
    "start_time": "2022-03-07T15:00:29.696Z"
   },
   {
    "duration": 6,
    "start_time": "2022-03-07T15:00:29.708Z"
   },
   {
    "duration": 9,
    "start_time": "2022-03-07T15:00:29.716Z"
   },
   {
    "duration": 9,
    "start_time": "2022-03-07T15:00:29.726Z"
   },
   {
    "duration": 26,
    "start_time": "2022-03-07T15:00:29.736Z"
   },
   {
    "duration": 496,
    "start_time": "2022-03-07T15:00:29.764Z"
   },
   {
    "duration": 33,
    "start_time": "2022-03-07T15:00:30.262Z"
   },
   {
    "duration": 4,
    "start_time": "2022-03-07T15:00:30.297Z"
   },
   {
    "duration": 10,
    "start_time": "2022-03-07T15:00:30.302Z"
   },
   {
    "duration": 42,
    "start_time": "2022-03-07T15:00:30.314Z"
   },
   {
    "duration": 335,
    "start_time": "2022-03-07T15:00:30.358Z"
   },
   {
    "duration": 8,
    "start_time": "2022-03-07T15:00:30.695Z"
   },
   {
    "duration": 232,
    "start_time": "2022-03-07T15:00:30.705Z"
   },
   {
    "duration": 8,
    "start_time": "2022-03-07T15:00:30.940Z"
   },
   {
    "duration": 216,
    "start_time": "2022-03-07T15:00:30.950Z"
   },
   {
    "duration": 8,
    "start_time": "2022-03-07T15:00:31.168Z"
   },
   {
    "duration": 236,
    "start_time": "2022-03-07T15:00:31.178Z"
   },
   {
    "duration": 7,
    "start_time": "2022-03-07T15:00:31.416Z"
   },
   {
    "duration": 223,
    "start_time": "2022-03-07T15:00:31.425Z"
   },
   {
    "duration": 18,
    "start_time": "2022-03-07T15:00:31.649Z"
   },
   {
    "duration": 181,
    "start_time": "2022-03-07T15:00:31.669Z"
   },
   {
    "duration": 154,
    "start_time": "2022-03-07T15:00:31.852Z"
   },
   {
    "duration": 153,
    "start_time": "2022-03-07T15:00:32.008Z"
   },
   {
    "duration": 152,
    "start_time": "2022-03-07T15:00:32.162Z"
   },
   {
    "duration": 158,
    "start_time": "2022-03-07T15:00:32.318Z"
   },
   {
    "duration": 64,
    "start_time": "2022-03-07T15:00:32.478Z"
   },
   {
    "duration": 459,
    "start_time": "2022-03-07T15:00:32.544Z"
   },
   {
    "duration": 4,
    "start_time": "2022-03-07T15:00:33.005Z"
   },
   {
    "duration": 552,
    "start_time": "2022-03-07T15:00:33.011Z"
   },
   {
    "duration": 4,
    "start_time": "2022-03-07T15:00:33.565Z"
   },
   {
    "duration": 19,
    "start_time": "2022-03-07T15:00:33.571Z"
   },
   {
    "duration": 14,
    "start_time": "2022-03-07T15:00:33.591Z"
   },
   {
    "duration": 36,
    "start_time": "2022-03-07T15:00:33.607Z"
   },
   {
    "duration": 16,
    "start_time": "2022-03-07T15:00:33.645Z"
   },
   {
    "duration": 17,
    "start_time": "2022-03-07T15:00:33.663Z"
   },
   {
    "duration": 7,
    "start_time": "2022-03-07T15:00:33.681Z"
   },
   {
    "duration": 9,
    "start_time": "2022-03-07T15:00:33.690Z"
   },
   {
    "duration": 54,
    "start_time": "2022-03-07T15:00:33.700Z"
   },
   {
    "duration": 12,
    "start_time": "2022-03-07T15:00:33.756Z"
   },
   {
    "duration": 33,
    "start_time": "2022-03-07T15:00:33.769Z"
   },
   {
    "duration": 35,
    "start_time": "2022-03-07T15:00:33.803Z"
   },
   {
    "duration": 18,
    "start_time": "2022-03-07T15:00:33.840Z"
   },
   {
    "duration": 235,
    "start_time": "2022-03-07T15:00:33.860Z"
   },
   {
    "duration": 42,
    "start_time": "2022-03-07T15:00:34.097Z"
   },
   {
    "duration": 210,
    "start_time": "2022-03-07T15:00:34.141Z"
   },
   {
    "duration": 9,
    "start_time": "2022-03-07T15:00:34.353Z"
   },
   {
    "duration": 208,
    "start_time": "2022-03-07T15:00:34.364Z"
   },
   {
    "duration": 8,
    "start_time": "2022-03-07T15:00:34.575Z"
   },
   {
    "duration": 190,
    "start_time": "2022-03-07T15:00:34.584Z"
   },
   {
    "duration": 7,
    "start_time": "2022-03-07T15:00:34.776Z"
   },
   {
    "duration": 223,
    "start_time": "2022-03-07T15:00:34.785Z"
   },
   {
    "duration": 9,
    "start_time": "2022-03-07T15:00:35.009Z"
   },
   {
    "duration": 355,
    "start_time": "2022-03-07T15:00:35.019Z"
   },
   {
    "duration": 4,
    "start_time": "2022-03-07T15:00:35.375Z"
   },
   {
    "duration": 331,
    "start_time": "2022-03-07T15:00:35.381Z"
   },
   {
    "duration": 5,
    "start_time": "2022-03-07T15:00:35.713Z"
   },
   {
    "duration": 27,
    "start_time": "2022-03-07T15:00:35.719Z"
   },
   {
    "duration": 13,
    "start_time": "2022-03-07T15:00:35.748Z"
   },
   {
    "duration": 280,
    "start_time": "2022-03-13T10:24:01.101Z"
   },
   {
    "duration": 775,
    "start_time": "2022-03-13T10:24:04.895Z"
   },
   {
    "duration": 91,
    "start_time": "2022-03-13T10:24:05.672Z"
   },
   {
    "duration": 12,
    "start_time": "2022-03-13T10:24:05.766Z"
   },
   {
    "duration": 26,
    "start_time": "2022-03-13T10:24:05.781Z"
   },
   {
    "duration": 4,
    "start_time": "2022-03-13T10:24:05.809Z"
   },
   {
    "duration": 46,
    "start_time": "2022-03-13T10:24:05.814Z"
   },
   {
    "duration": 201,
    "start_time": "2022-03-13T10:24:05.862Z"
   },
   {
    "duration": -22,
    "start_time": "2022-03-13T10:24:06.088Z"
   },
   {
    "duration": -25,
    "start_time": "2022-03-13T10:24:06.092Z"
   },
   {
    "duration": -29,
    "start_time": "2022-03-13T10:24:06.097Z"
   },
   {
    "duration": -31,
    "start_time": "2022-03-13T10:24:06.100Z"
   },
   {
    "duration": -35,
    "start_time": "2022-03-13T10:24:06.105Z"
   },
   {
    "duration": -38,
    "start_time": "2022-03-13T10:24:06.109Z"
   },
   {
    "duration": -41,
    "start_time": "2022-03-13T10:24:06.113Z"
   },
   {
    "duration": -44,
    "start_time": "2022-03-13T10:24:06.117Z"
   },
   {
    "duration": -48,
    "start_time": "2022-03-13T10:24:06.122Z"
   },
   {
    "duration": -51,
    "start_time": "2022-03-13T10:24:06.126Z"
   },
   {
    "duration": -54,
    "start_time": "2022-03-13T10:24:06.130Z"
   },
   {
    "duration": -57,
    "start_time": "2022-03-13T10:24:06.134Z"
   },
   {
    "duration": -59,
    "start_time": "2022-03-13T10:24:06.137Z"
   },
   {
    "duration": -63,
    "start_time": "2022-03-13T10:24:06.142Z"
   },
   {
    "duration": -66,
    "start_time": "2022-03-13T10:24:06.146Z"
   },
   {
    "duration": -69,
    "start_time": "2022-03-13T10:24:06.150Z"
   },
   {
    "duration": -73,
    "start_time": "2022-03-13T10:24:06.155Z"
   },
   {
    "duration": -76,
    "start_time": "2022-03-13T10:24:06.159Z"
   },
   {
    "duration": -80,
    "start_time": "2022-03-13T10:24:06.164Z"
   },
   {
    "duration": -82,
    "start_time": "2022-03-13T10:24:06.167Z"
   },
   {
    "duration": -86,
    "start_time": "2022-03-13T10:24:06.172Z"
   },
   {
    "duration": -89,
    "start_time": "2022-03-13T10:24:06.176Z"
   },
   {
    "duration": -101,
    "start_time": "2022-03-13T10:24:06.189Z"
   },
   {
    "duration": -105,
    "start_time": "2022-03-13T10:24:06.194Z"
   },
   {
    "duration": -108,
    "start_time": "2022-03-13T10:24:06.198Z"
   },
   {
    "duration": -110,
    "start_time": "2022-03-13T10:24:06.201Z"
   },
   {
    "duration": -113,
    "start_time": "2022-03-13T10:24:06.205Z"
   },
   {
    "duration": -117,
    "start_time": "2022-03-13T10:24:06.210Z"
   },
   {
    "duration": -121,
    "start_time": "2022-03-13T10:24:06.215Z"
   },
   {
    "duration": -133,
    "start_time": "2022-03-13T10:24:06.228Z"
   },
   {
    "duration": -144,
    "start_time": "2022-03-13T10:24:06.240Z"
   },
   {
    "duration": -157,
    "start_time": "2022-03-13T10:24:06.254Z"
   },
   {
    "duration": -162,
    "start_time": "2022-03-13T10:24:06.260Z"
   },
   {
    "duration": -174,
    "start_time": "2022-03-13T10:24:06.273Z"
   },
   {
    "duration": -186,
    "start_time": "2022-03-13T10:24:06.286Z"
   },
   {
    "duration": -190,
    "start_time": "2022-03-13T10:24:06.291Z"
   },
   {
    "duration": -203,
    "start_time": "2022-03-13T10:24:06.305Z"
   },
   {
    "duration": -207,
    "start_time": "2022-03-13T10:24:06.310Z"
   },
   {
    "duration": -218,
    "start_time": "2022-03-13T10:24:06.322Z"
   },
   {
    "duration": -222,
    "start_time": "2022-03-13T10:24:06.327Z"
   },
   {
    "duration": -234,
    "start_time": "2022-03-13T10:24:06.340Z"
   },
   {
    "duration": -246,
    "start_time": "2022-03-13T10:24:06.352Z"
   },
   {
    "duration": -252,
    "start_time": "2022-03-13T10:24:06.359Z"
   },
   {
    "duration": -263,
    "start_time": "2022-03-13T10:24:06.371Z"
   },
   {
    "duration": -268,
    "start_time": "2022-03-13T10:24:06.377Z"
   },
   {
    "duration": -279,
    "start_time": "2022-03-13T10:24:06.389Z"
   },
   {
    "duration": -282,
    "start_time": "2022-03-13T10:24:06.394Z"
   },
   {
    "duration": -293,
    "start_time": "2022-03-13T10:24:06.406Z"
   },
   {
    "duration": -305,
    "start_time": "2022-03-13T10:24:06.418Z"
   },
   {
    "duration": -308,
    "start_time": "2022-03-13T10:24:06.423Z"
   },
   {
    "duration": -320,
    "start_time": "2022-03-13T10:24:06.436Z"
   },
   {
    "duration": -326,
    "start_time": "2022-03-13T10:24:06.443Z"
   },
   {
    "duration": -338,
    "start_time": "2022-03-13T10:24:06.456Z"
   },
   {
    "duration": -343,
    "start_time": "2022-03-13T10:24:06.461Z"
   },
   {
    "duration": -354,
    "start_time": "2022-03-13T10:24:06.473Z"
   },
   {
    "duration": -366,
    "start_time": "2022-03-13T10:24:06.486Z"
   },
   {
    "duration": -371,
    "start_time": "2022-03-13T10:24:06.492Z"
   },
   {
    "duration": -383,
    "start_time": "2022-03-13T10:24:06.505Z"
   },
   {
    "duration": -387,
    "start_time": "2022-03-13T10:24:06.510Z"
   },
   {
    "duration": -398,
    "start_time": "2022-03-13T10:24:06.522Z"
   },
   {
    "duration": -401,
    "start_time": "2022-03-13T10:24:06.526Z"
   },
   {
    "duration": -420,
    "start_time": "2022-03-13T10:24:06.546Z"
   },
   {
    "duration": -423,
    "start_time": "2022-03-13T10:24:06.550Z"
   },
   {
    "duration": -425,
    "start_time": "2022-03-13T10:24:06.553Z"
   },
   {
    "duration": 6,
    "start_time": "2022-03-13T10:33:47.721Z"
   },
   {
    "duration": 5,
    "start_time": "2022-03-13T10:34:55.844Z"
   },
   {
    "duration": 6,
    "start_time": "2022-03-13T10:34:59.099Z"
   },
   {
    "duration": 56,
    "start_time": "2022-03-13T10:38:56.465Z"
   },
   {
    "duration": 63,
    "start_time": "2022-03-13T10:39:06.176Z"
   },
   {
    "duration": 66,
    "start_time": "2022-03-13T10:39:33.706Z"
   },
   {
    "duration": 73,
    "start_time": "2022-03-13T10:39:43.221Z"
   },
   {
    "duration": -333,
    "start_time": "2022-03-13T10:39:43.629Z"
   },
   {
    "duration": -339,
    "start_time": "2022-03-13T10:39:43.636Z"
   },
   {
    "duration": -344,
    "start_time": "2022-03-13T10:39:43.643Z"
   },
   {
    "duration": -347,
    "start_time": "2022-03-13T10:39:43.647Z"
   },
   {
    "duration": -369,
    "start_time": "2022-03-13T10:39:43.670Z"
   },
   {
    "duration": -374,
    "start_time": "2022-03-13T10:39:43.676Z"
   },
   {
    "duration": -377,
    "start_time": "2022-03-13T10:39:43.680Z"
   },
   {
    "duration": -382,
    "start_time": "2022-03-13T10:39:43.686Z"
   },
   {
    "duration": -389,
    "start_time": "2022-03-13T10:39:43.694Z"
   },
   {
    "duration": 10,
    "start_time": "2022-03-13T10:39:43.307Z"
   },
   {
    "duration": 34,
    "start_time": "2022-03-13T10:39:43.319Z"
   },
   {
    "duration": 51,
    "start_time": "2022-03-13T10:39:43.356Z"
   },
   {
    "duration": 12,
    "start_time": "2022-03-13T10:39:43.409Z"
   },
   {
    "duration": 13,
    "start_time": "2022-03-13T10:39:43.423Z"
   },
   {
    "duration": 7,
    "start_time": "2022-03-13T10:39:43.438Z"
   },
   {
    "duration": 61,
    "start_time": "2022-03-13T10:39:43.447Z"
   },
   {
    "duration": 7,
    "start_time": "2022-03-13T10:39:43.513Z"
   },
   {
    "duration": 30,
    "start_time": "2022-03-13T10:39:43.523Z"
   },
   {
    "duration": 559,
    "start_time": "2022-03-13T10:39:43.555Z"
   },
   {
    "duration": 24,
    "start_time": "2022-03-13T10:39:44.116Z"
   },
   {
    "duration": 4,
    "start_time": "2022-03-13T10:39:44.142Z"
   },
   {
    "duration": 7,
    "start_time": "2022-03-13T10:39:44.148Z"
   },
   {
    "duration": 47,
    "start_time": "2022-03-13T10:39:44.157Z"
   },
   {
    "duration": 342,
    "start_time": "2022-03-13T10:39:44.206Z"
   },
   {
    "duration": 9,
    "start_time": "2022-03-13T10:39:44.550Z"
   },
   {
    "duration": 220,
    "start_time": "2022-03-13T10:39:44.561Z"
   },
   {
    "duration": 18,
    "start_time": "2022-03-13T10:39:44.783Z"
   },
   {
    "duration": 221,
    "start_time": "2022-03-13T10:39:44.803Z"
   },
   {
    "duration": 10,
    "start_time": "2022-03-13T10:39:45.027Z"
   },
   {
    "duration": 243,
    "start_time": "2022-03-13T10:39:45.039Z"
   },
   {
    "duration": 22,
    "start_time": "2022-03-13T10:39:45.284Z"
   },
   {
    "duration": 214,
    "start_time": "2022-03-13T10:39:45.311Z"
   },
   {
    "duration": 8,
    "start_time": "2022-03-13T10:39:45.528Z"
   },
   {
    "duration": 163,
    "start_time": "2022-03-13T10:39:45.538Z"
   },
   {
    "duration": 148,
    "start_time": "2022-03-13T10:39:45.703Z"
   },
   {
    "duration": 170,
    "start_time": "2022-03-13T10:39:45.853Z"
   },
   {
    "duration": 140,
    "start_time": "2022-03-13T10:39:46.025Z"
   },
   {
    "duration": 164,
    "start_time": "2022-03-13T10:39:46.167Z"
   },
   {
    "duration": 46,
    "start_time": "2022-03-13T10:39:46.333Z"
   },
   {
    "duration": 438,
    "start_time": "2022-03-13T10:39:46.381Z"
   },
   {
    "duration": 5,
    "start_time": "2022-03-13T10:39:46.821Z"
   },
   {
    "duration": 464,
    "start_time": "2022-03-13T10:39:46.828Z"
   },
   {
    "duration": 9,
    "start_time": "2022-03-13T10:39:47.294Z"
   },
   {
    "duration": 18,
    "start_time": "2022-03-13T10:39:47.305Z"
   },
   {
    "duration": 15,
    "start_time": "2022-03-13T10:39:47.325Z"
   },
   {
    "duration": 15,
    "start_time": "2022-03-13T10:39:47.342Z"
   },
   {
    "duration": 49,
    "start_time": "2022-03-13T10:39:47.359Z"
   },
   {
    "duration": 17,
    "start_time": "2022-03-13T10:39:47.410Z"
   },
   {
    "duration": 8,
    "start_time": "2022-03-13T10:39:47.429Z"
   },
   {
    "duration": 12,
    "start_time": "2022-03-13T10:39:47.439Z"
   },
   {
    "duration": 47,
    "start_time": "2022-03-13T10:39:47.453Z"
   },
   {
    "duration": 11,
    "start_time": "2022-03-13T10:39:47.502Z"
   },
   {
    "duration": 30,
    "start_time": "2022-03-13T10:39:47.515Z"
   },
   {
    "duration": 5,
    "start_time": "2022-03-13T10:39:47.547Z"
   },
   {
    "duration": 49,
    "start_time": "2022-03-13T10:39:47.554Z"
   },
   {
    "duration": 230,
    "start_time": "2022-03-13T10:39:47.605Z"
   },
   {
    "duration": 26,
    "start_time": "2022-03-13T10:39:47.837Z"
   },
   {
    "duration": 208,
    "start_time": "2022-03-13T10:39:47.865Z"
   },
   {
    "duration": 7,
    "start_time": "2022-03-13T10:39:48.074Z"
   },
   {
    "duration": 193,
    "start_time": "2022-03-13T10:39:48.083Z"
   },
   {
    "duration": 7,
    "start_time": "2022-03-13T10:39:48.278Z"
   },
   {
    "duration": 198,
    "start_time": "2022-03-13T10:39:48.286Z"
   },
   {
    "duration": 16,
    "start_time": "2022-03-13T10:39:48.485Z"
   },
   {
    "duration": 212,
    "start_time": "2022-03-13T10:39:48.503Z"
   },
   {
    "duration": 7,
    "start_time": "2022-03-13T10:39:48.717Z"
   },
   {
    "duration": 337,
    "start_time": "2022-03-13T10:39:48.726Z"
   },
   {
    "duration": 4,
    "start_time": "2022-03-13T10:39:49.065Z"
   },
   {
    "duration": 371,
    "start_time": "2022-03-13T10:39:49.071Z"
   },
   {
    "duration": 4,
    "start_time": "2022-03-13T10:39:49.444Z"
   },
   {
    "duration": 17,
    "start_time": "2022-03-13T10:39:49.450Z"
   },
   {
    "duration": 33,
    "start_time": "2022-03-13T10:39:49.470Z"
   },
   {
    "duration": 114,
    "start_time": "2022-03-13T10:40:07.128Z"
   },
   {
    "duration": 58,
    "start_time": "2022-03-13T10:40:36.989Z"
   },
   {
    "duration": 62,
    "start_time": "2022-03-13T10:40:50.096Z"
   },
   {
    "duration": 61,
    "start_time": "2022-03-13T10:40:56.089Z"
   },
   {
    "duration": 70,
    "start_time": "2022-03-13T10:43:01.619Z"
   },
   {
    "duration": 5,
    "start_time": "2022-03-13T10:45:46.148Z"
   },
   {
    "duration": 25,
    "start_time": "2022-03-13T10:45:51.972Z"
   },
   {
    "duration": 38,
    "start_time": "2022-03-13T10:59:02.130Z"
   },
   {
    "duration": 211,
    "start_time": "2022-03-13T11:28:32.142Z"
   },
   {
    "duration": 199,
    "start_time": "2022-03-13T11:28:47.349Z"
   },
   {
    "duration": 204,
    "start_time": "2022-03-13T11:28:54.408Z"
   },
   {
    "duration": 275,
    "start_time": "2022-03-13T11:29:07.904Z"
   },
   {
    "duration": 211,
    "start_time": "2022-03-13T11:29:21.971Z"
   },
   {
    "duration": 214,
    "start_time": "2022-03-13T11:29:27.428Z"
   },
   {
    "duration": 214,
    "start_time": "2022-03-13T11:29:36.505Z"
   },
   {
    "duration": 228,
    "start_time": "2022-03-13T11:30:01.642Z"
   },
   {
    "duration": 13,
    "start_time": "2022-03-13T11:41:33.394Z"
   },
   {
    "duration": 42,
    "start_time": "2022-03-13T11:42:56.583Z"
   },
   {
    "duration": 3,
    "start_time": "2022-03-13T11:46:16.513Z"
   },
   {
    "duration": 65,
    "start_time": "2022-03-13T11:50:06.148Z"
   },
   {
    "duration": 4,
    "start_time": "2022-03-13T11:54:55.306Z"
   },
   {
    "duration": 4,
    "start_time": "2022-03-13T11:56:00.942Z"
   },
   {
    "duration": 6,
    "start_time": "2022-03-13T11:57:06.783Z"
   },
   {
    "duration": 221,
    "start_time": "2022-03-13T12:00:29.870Z"
   },
   {
    "duration": 12,
    "start_time": "2022-03-13T12:01:15.866Z"
   },
   {
    "duration": 58,
    "start_time": "2022-03-13T12:02:43.567Z"
   },
   {
    "duration": 10,
    "start_time": "2022-03-13T12:03:46.508Z"
   },
   {
    "duration": 5,
    "start_time": "2022-03-13T12:04:14.736Z"
   },
   {
    "duration": 10,
    "start_time": "2022-03-13T12:06:29.087Z"
   },
   {
    "duration": 5,
    "start_time": "2022-03-13T12:06:40.104Z"
   },
   {
    "duration": 5,
    "start_time": "2022-03-13T12:07:43.921Z"
   },
   {
    "duration": 60,
    "start_time": "2022-03-13T12:09:13.854Z"
   },
   {
    "duration": 387,
    "start_time": "2022-03-13T12:09:13.916Z"
   },
   {
    "duration": 14,
    "start_time": "2022-03-13T12:09:14.306Z"
   },
   {
    "duration": 11,
    "start_time": "2022-03-13T12:09:14.323Z"
   },
   {
    "duration": 12,
    "start_time": "2022-03-13T12:09:14.335Z"
   },
   {
    "duration": 14,
    "start_time": "2022-03-13T12:09:14.350Z"
   },
   {
    "duration": 48,
    "start_time": "2022-03-13T12:09:14.366Z"
   },
   {
    "duration": 5,
    "start_time": "2022-03-13T12:09:14.416Z"
   },
   {
    "duration": 32,
    "start_time": "2022-03-13T12:09:14.424Z"
   },
   {
    "duration": 44,
    "start_time": "2022-03-13T12:09:14.458Z"
   },
   {
    "duration": 34,
    "start_time": "2022-03-13T12:09:14.505Z"
   },
   {
    "duration": 7,
    "start_time": "2022-03-13T12:09:14.541Z"
   },
   {
    "duration": 59,
    "start_time": "2022-03-13T12:09:14.550Z"
   },
   {
    "duration": 18,
    "start_time": "2022-03-13T12:09:14.611Z"
   },
   {
    "duration": 16,
    "start_time": "2022-03-13T12:09:14.631Z"
   },
   {
    "duration": 18,
    "start_time": "2022-03-13T12:09:14.649Z"
   },
   {
    "duration": 32,
    "start_time": "2022-03-13T12:09:14.669Z"
   },
   {
    "duration": 8,
    "start_time": "2022-03-13T12:09:14.704Z"
   },
   {
    "duration": 8,
    "start_time": "2022-03-13T12:09:14.715Z"
   },
   {
    "duration": 29,
    "start_time": "2022-03-13T12:09:14.725Z"
   },
   {
    "duration": 553,
    "start_time": "2022-03-13T12:09:14.755Z"
   },
   {
    "duration": 30,
    "start_time": "2022-03-13T12:09:15.309Z"
   },
   {
    "duration": 5,
    "start_time": "2022-03-13T12:09:15.343Z"
   },
   {
    "duration": 10,
    "start_time": "2022-03-13T12:09:15.351Z"
   },
   {
    "duration": 50,
    "start_time": "2022-03-13T12:09:15.363Z"
   },
   {
    "duration": 215,
    "start_time": "2022-03-13T12:09:15.415Z"
   },
   {
    "duration": 8,
    "start_time": "2022-03-13T12:09:15.632Z"
   },
   {
    "duration": 224,
    "start_time": "2022-03-13T12:09:15.642Z"
   },
   {
    "duration": 10,
    "start_time": "2022-03-13T12:09:15.867Z"
   },
   {
    "duration": 300,
    "start_time": "2022-03-13T12:09:15.879Z"
   },
   {
    "duration": 21,
    "start_time": "2022-03-13T12:09:16.181Z"
   },
   {
    "duration": 241,
    "start_time": "2022-03-13T12:09:16.205Z"
   },
   {
    "duration": 8,
    "start_time": "2022-03-13T12:09:16.448Z"
   },
   {
    "duration": 229,
    "start_time": "2022-03-13T12:09:16.458Z"
   },
   {
    "duration": 23,
    "start_time": "2022-03-13T12:09:16.689Z"
   },
   {
    "duration": 257,
    "start_time": "2022-03-13T12:09:16.715Z"
   },
   {
    "duration": 159,
    "start_time": "2022-03-13T12:09:16.974Z"
   },
   {
    "duration": 162,
    "start_time": "2022-03-13T12:09:17.135Z"
   },
   {
    "duration": 158,
    "start_time": "2022-03-13T12:09:17.302Z"
   },
   {
    "duration": 175,
    "start_time": "2022-03-13T12:09:17.462Z"
   },
   {
    "duration": 62,
    "start_time": "2022-03-13T12:09:17.639Z"
   },
   {
    "duration": 52,
    "start_time": "2022-03-13T12:09:17.703Z"
   },
   {
    "duration": 4,
    "start_time": "2022-03-13T12:09:17.757Z"
   },
   {
    "duration": 520,
    "start_time": "2022-03-13T12:09:17.763Z"
   },
   {
    "duration": 5,
    "start_time": "2022-03-13T12:09:18.285Z"
   },
   {
    "duration": 707,
    "start_time": "2022-03-13T12:09:18.301Z"
   },
   {
    "duration": 5,
    "start_time": "2022-03-13T12:09:19.011Z"
   },
   {
    "duration": 17,
    "start_time": "2022-03-13T12:09:19.018Z"
   },
   {
    "duration": 16,
    "start_time": "2022-03-13T12:09:19.037Z"
   },
   {
    "duration": 48,
    "start_time": "2022-03-13T12:09:19.055Z"
   },
   {
    "duration": 18,
    "start_time": "2022-03-13T12:09:19.105Z"
   },
   {
    "duration": 19,
    "start_time": "2022-03-13T12:09:19.126Z"
   },
   {
    "duration": 9,
    "start_time": "2022-03-13T12:09:19.148Z"
   },
   {
    "duration": 46,
    "start_time": "2022-03-13T12:09:19.160Z"
   },
   {
    "duration": 21,
    "start_time": "2022-03-13T12:09:19.209Z"
   },
   {
    "duration": 14,
    "start_time": "2022-03-13T12:09:19.232Z"
   },
   {
    "duration": 64,
    "start_time": "2022-03-13T12:09:19.248Z"
   },
   {
    "duration": 8,
    "start_time": "2022-03-13T12:09:19.315Z"
   },
   {
    "duration": 23,
    "start_time": "2022-03-13T12:09:19.325Z"
   },
   {
    "duration": 250,
    "start_time": "2022-03-13T12:09:19.350Z"
   },
   {
    "duration": 29,
    "start_time": "2022-03-13T12:09:19.602Z"
   },
   {
    "duration": 230,
    "start_time": "2022-03-13T12:09:19.633Z"
   },
   {
    "duration": 8,
    "start_time": "2022-03-13T12:09:19.865Z"
   },
   {
    "duration": 219,
    "start_time": "2022-03-13T12:09:19.874Z"
   },
   {
    "duration": 11,
    "start_time": "2022-03-13T12:09:20.095Z"
   },
   {
    "duration": 211,
    "start_time": "2022-03-13T12:09:20.108Z"
   },
   {
    "duration": 8,
    "start_time": "2022-03-13T12:09:20.321Z"
   },
   {
    "duration": 327,
    "start_time": "2022-03-13T12:09:20.334Z"
   },
   {
    "duration": 8,
    "start_time": "2022-03-13T12:09:20.663Z"
   },
   {
    "duration": 409,
    "start_time": "2022-03-13T12:09:20.673Z"
   },
   {
    "duration": 5,
    "start_time": "2022-03-13T12:09:21.084Z"
   },
   {
    "duration": 455,
    "start_time": "2022-03-13T12:09:21.101Z"
   },
   {
    "duration": 5,
    "start_time": "2022-03-13T12:09:21.558Z"
   },
   {
    "duration": 36,
    "start_time": "2022-03-13T12:09:21.565Z"
   },
   {
    "duration": 19,
    "start_time": "2022-03-13T12:09:21.603Z"
   },
   {
    "duration": 556,
    "start_time": "2022-03-14T18:29:58.657Z"
   },
   {
    "duration": 1211,
    "start_time": "2022-03-14T18:30:03.345Z"
   },
   {
    "duration": 163,
    "start_time": "2022-03-14T18:30:04.560Z"
   },
   {
    "duration": 22,
    "start_time": "2022-03-14T18:30:04.727Z"
   },
   {
    "duration": 31,
    "start_time": "2022-03-14T18:30:04.753Z"
   },
   {
    "duration": 9,
    "start_time": "2022-03-14T18:30:04.787Z"
   },
   {
    "duration": 5,
    "start_time": "2022-03-14T18:30:04.799Z"
   },
   {
    "duration": 76,
    "start_time": "2022-03-14T18:30:04.806Z"
   },
   {
    "duration": 10,
    "start_time": "2022-03-14T18:30:04.889Z"
   },
   {
    "duration": 77,
    "start_time": "2022-03-14T18:30:04.902Z"
   },
   {
    "duration": 54,
    "start_time": "2022-03-14T18:30:04.983Z"
   },
   {
    "duration": 67,
    "start_time": "2022-03-14T18:30:05.040Z"
   },
   {
    "duration": 7,
    "start_time": "2022-03-14T18:30:05.110Z"
   },
   {
    "duration": 68,
    "start_time": "2022-03-14T18:30:05.120Z"
   },
   {
    "duration": 18,
    "start_time": "2022-03-14T18:30:05.190Z"
   },
   {
    "duration": 13,
    "start_time": "2022-03-14T18:30:05.211Z"
   },
   {
    "duration": 53,
    "start_time": "2022-03-14T18:30:05.226Z"
   },
   {
    "duration": 9,
    "start_time": "2022-03-14T18:30:05.283Z"
   },
   {
    "duration": 17,
    "start_time": "2022-03-14T18:30:05.294Z"
   },
   {
    "duration": 8,
    "start_time": "2022-03-14T18:30:05.314Z"
   },
   {
    "duration": 66,
    "start_time": "2022-03-14T18:30:05.325Z"
   },
   {
    "duration": 911,
    "start_time": "2022-03-14T18:30:05.394Z"
   },
   {
    "duration": 45,
    "start_time": "2022-03-14T18:30:06.309Z"
   },
   {
    "duration": 6,
    "start_time": "2022-03-14T18:30:06.373Z"
   },
   {
    "duration": 23,
    "start_time": "2022-03-14T18:30:06.384Z"
   },
   {
    "duration": 50,
    "start_time": "2022-03-14T18:30:06.409Z"
   },
   {
    "duration": 622,
    "start_time": "2022-03-14T18:30:06.462Z"
   },
   {
    "duration": 13,
    "start_time": "2022-03-14T18:30:07.087Z"
   },
   {
    "duration": 362,
    "start_time": "2022-03-14T18:30:07.103Z"
   },
   {
    "duration": 13,
    "start_time": "2022-03-14T18:30:07.468Z"
   },
   {
    "duration": 347,
    "start_time": "2022-03-14T18:30:07.483Z"
   },
   {
    "duration": 10,
    "start_time": "2022-03-14T18:30:07.832Z"
   },
   {
    "duration": 372,
    "start_time": "2022-03-14T18:30:07.845Z"
   },
   {
    "duration": 10,
    "start_time": "2022-03-14T18:30:08.220Z"
   },
   {
    "duration": 353,
    "start_time": "2022-03-14T18:30:08.233Z"
   },
   {
    "duration": 23,
    "start_time": "2022-03-14T18:30:08.589Z"
   },
   {
    "duration": 270,
    "start_time": "2022-03-14T18:30:08.615Z"
   },
   {
    "duration": 257,
    "start_time": "2022-03-14T18:30:08.887Z"
   },
   {
    "duration": 242,
    "start_time": "2022-03-14T18:30:09.147Z"
   },
   {
    "duration": 232,
    "start_time": "2022-03-14T18:30:09.392Z"
   },
   {
    "duration": 251,
    "start_time": "2022-03-14T18:30:09.627Z"
   },
   {
    "duration": 61,
    "start_time": "2022-03-14T18:30:09.881Z"
   },
   {
    "duration": 99,
    "start_time": "2022-03-14T18:30:09.944Z"
   },
   {
    "duration": 27,
    "start_time": "2022-03-14T18:30:10.046Z"
   },
   {
    "duration": 712,
    "start_time": "2022-03-14T18:30:10.075Z"
   },
   {
    "duration": 6,
    "start_time": "2022-03-14T18:30:10.790Z"
   },
   {
    "duration": 832,
    "start_time": "2022-03-14T18:30:10.798Z"
   },
   {
    "duration": 7,
    "start_time": "2022-03-14T18:30:11.634Z"
   },
   {
    "duration": 50,
    "start_time": "2022-03-14T18:30:11.644Z"
   },
   {
    "duration": 28,
    "start_time": "2022-03-14T18:30:11.697Z"
   },
   {
    "duration": 57,
    "start_time": "2022-03-14T18:30:11.728Z"
   },
   {
    "duration": 31,
    "start_time": "2022-03-14T18:30:11.788Z"
   },
   {
    "duration": 59,
    "start_time": "2022-03-14T18:30:11.822Z"
   },
   {
    "duration": 15,
    "start_time": "2022-03-14T18:30:11.884Z"
   },
   {
    "duration": 13,
    "start_time": "2022-03-14T18:30:11.902Z"
   },
   {
    "duration": 60,
    "start_time": "2022-03-14T18:30:11.918Z"
   },
   {
    "duration": 14,
    "start_time": "2022-03-14T18:30:11.980Z"
   },
   {
    "duration": 45,
    "start_time": "2022-03-14T18:30:11.997Z"
   },
   {
    "duration": 33,
    "start_time": "2022-03-14T18:30:12.045Z"
   },
   {
    "duration": 25,
    "start_time": "2022-03-14T18:30:12.080Z"
   },
   {
    "duration": 343,
    "start_time": "2022-03-14T18:30:12.108Z"
   },
   {
    "duration": 57,
    "start_time": "2022-03-14T18:30:12.453Z"
   },
   {
    "duration": 320,
    "start_time": "2022-03-14T18:30:12.512Z"
   },
   {
    "duration": 10,
    "start_time": "2022-03-14T18:30:12.835Z"
   },
   {
    "duration": 319,
    "start_time": "2022-03-14T18:30:12.847Z"
   },
   {
    "duration": 11,
    "start_time": "2022-03-14T18:30:13.168Z"
   },
   {
    "duration": 307,
    "start_time": "2022-03-14T18:30:13.181Z"
   },
   {
    "duration": 9,
    "start_time": "2022-03-14T18:30:13.491Z"
   },
   {
    "duration": 365,
    "start_time": "2022-03-14T18:30:13.508Z"
   },
   {
    "duration": 10,
    "start_time": "2022-03-14T18:30:13.876Z"
   },
   {
    "duration": 444,
    "start_time": "2022-03-14T18:30:13.888Z"
   },
   {
    "duration": 6,
    "start_time": "2022-03-14T18:30:14.334Z"
   },
   {
    "duration": 479,
    "start_time": "2022-03-14T18:30:14.343Z"
   },
   {
    "duration": 6,
    "start_time": "2022-03-14T18:30:14.824Z"
   },
   {
    "duration": 44,
    "start_time": "2022-03-14T18:30:14.832Z"
   },
   {
    "duration": 21,
    "start_time": "2022-03-14T18:30:14.878Z"
   },
   {
    "duration": 74,
    "start_time": "2022-03-14T18:33:14.648Z"
   },
   {
    "duration": 101,
    "start_time": "2022-03-14T18:33:22.315Z"
   },
   {
    "duration": 73,
    "start_time": "2022-03-14T18:33:36.857Z"
   },
   {
    "duration": 73,
    "start_time": "2022-03-14T18:33:44.335Z"
   },
   {
    "duration": 74,
    "start_time": "2022-03-14T18:33:59.444Z"
   },
   {
    "duration": 78,
    "start_time": "2022-03-14T18:34:05.485Z"
   },
   {
    "duration": 78,
    "start_time": "2022-03-14T18:34:16.929Z"
   },
   {
    "duration": 71,
    "start_time": "2022-03-14T18:35:49.233Z"
   },
   {
    "duration": 112,
    "start_time": "2022-03-14T18:35:54.213Z"
   },
   {
    "duration": 76,
    "start_time": "2022-03-14T18:35:59.957Z"
   },
   {
    "duration": 76,
    "start_time": "2022-03-14T18:36:05.342Z"
   },
   {
    "duration": 72,
    "start_time": "2022-03-14T18:36:13.586Z"
   },
   {
    "duration": 85,
    "start_time": "2022-03-14T18:36:19.062Z"
   },
   {
    "duration": 76,
    "start_time": "2022-03-14T18:36:26.769Z"
   },
   {
    "duration": 74,
    "start_time": "2022-03-14T18:36:49.258Z"
   },
   {
    "duration": 75,
    "start_time": "2022-03-14T18:37:04.704Z"
   },
   {
    "duration": 126,
    "start_time": "2022-03-14T18:37:18.770Z"
   },
   {
    "duration": 87,
    "start_time": "2022-03-14T18:37:24.424Z"
   },
   {
    "duration": 6,
    "start_time": "2022-03-14T18:37:49.685Z"
   },
   {
    "duration": 101,
    "start_time": "2022-03-14T18:38:08.902Z"
   },
   {
    "duration": 75,
    "start_time": "2022-03-14T18:38:19.630Z"
   },
   {
    "duration": 77,
    "start_time": "2022-03-14T18:38:27.419Z"
   },
   {
    "duration": 74,
    "start_time": "2022-03-14T18:38:37.263Z"
   },
   {
    "duration": 80,
    "start_time": "2022-03-14T18:38:59.584Z"
   },
   {
    "duration": 110,
    "start_time": "2022-03-14T18:39:41.403Z"
   },
   {
    "duration": 78,
    "start_time": "2022-03-14T18:39:48.124Z"
   },
   {
    "duration": 77,
    "start_time": "2022-03-14T18:40:00.388Z"
   },
   {
    "duration": 76,
    "start_time": "2022-03-14T18:40:09.329Z"
   },
   {
    "duration": 73,
    "start_time": "2022-03-14T18:40:20.355Z"
   },
   {
    "duration": 73,
    "start_time": "2022-03-14T18:41:47.977Z"
   },
   {
    "duration": 74,
    "start_time": "2022-03-14T18:44:34.107Z"
   },
   {
    "duration": 73,
    "start_time": "2022-03-14T18:45:46.257Z"
   },
   {
    "duration": 102,
    "start_time": "2022-03-14T18:45:51.807Z"
   },
   {
    "duration": 81,
    "start_time": "2022-03-14T18:46:20.212Z"
   },
   {
    "duration": 96,
    "start_time": "2022-03-14T18:46:25.614Z"
   },
   {
    "duration": 5,
    "start_time": "2022-03-14T18:46:52.230Z"
   },
   {
    "duration": 516,
    "start_time": "2022-05-10T09:29:28.195Z"
   },
   {
    "duration": 542,
    "start_time": "2022-06-28T09:47:46.287Z"
   },
   {
    "duration": 106,
    "start_time": "2022-06-28T09:47:46.832Z"
   },
   {
    "duration": 15,
    "start_time": "2022-06-28T09:47:46.939Z"
   },
   {
    "duration": 8,
    "start_time": "2022-06-28T09:47:46.967Z"
   },
   {
    "duration": 6,
    "start_time": "2022-06-28T09:47:46.977Z"
   },
   {
    "duration": 4,
    "start_time": "2022-06-28T09:47:46.985Z"
   },
   {
    "duration": 29,
    "start_time": "2022-06-28T09:47:46.991Z"
   },
   {
    "duration": 9,
    "start_time": "2022-06-28T09:47:47.022Z"
   },
   {
    "duration": 60,
    "start_time": "2022-06-28T09:47:47.033Z"
   },
   {
    "duration": 26,
    "start_time": "2022-06-28T09:47:47.096Z"
   },
   {
    "duration": 48,
    "start_time": "2022-06-28T09:47:47.124Z"
   },
   {
    "duration": 6,
    "start_time": "2022-06-28T09:47:47.174Z"
   },
   {
    "duration": 33,
    "start_time": "2022-06-28T09:47:47.181Z"
   },
   {
    "duration": 16,
    "start_time": "2022-06-28T09:47:47.215Z"
   },
   {
    "duration": 8,
    "start_time": "2022-06-28T09:47:47.233Z"
   },
   {
    "duration": 39,
    "start_time": "2022-06-28T09:47:47.243Z"
   },
   {
    "duration": 6,
    "start_time": "2022-06-28T09:47:47.284Z"
   },
   {
    "duration": 6,
    "start_time": "2022-06-28T09:47:47.292Z"
   },
   {
    "duration": 8,
    "start_time": "2022-06-28T09:47:47.300Z"
   },
   {
    "duration": 29,
    "start_time": "2022-06-28T09:47:47.310Z"
   },
   {
    "duration": 392,
    "start_time": "2022-06-28T09:47:47.367Z"
   },
   {
    "duration": 0,
    "start_time": "2022-06-28T09:47:47.763Z"
   },
   {
    "duration": 0,
    "start_time": "2022-06-28T09:47:47.764Z"
   },
   {
    "duration": 0,
    "start_time": "2022-06-28T09:47:47.765Z"
   },
   {
    "duration": 0,
    "start_time": "2022-06-28T09:47:47.766Z"
   },
   {
    "duration": 0,
    "start_time": "2022-06-28T09:47:47.768Z"
   },
   {
    "duration": 0,
    "start_time": "2022-06-28T09:47:47.769Z"
   },
   {
    "duration": 0,
    "start_time": "2022-06-28T09:47:47.770Z"
   },
   {
    "duration": 0,
    "start_time": "2022-06-28T09:47:47.772Z"
   },
   {
    "duration": 0,
    "start_time": "2022-06-28T09:47:47.773Z"
   },
   {
    "duration": 0,
    "start_time": "2022-06-28T09:47:47.774Z"
   },
   {
    "duration": 0,
    "start_time": "2022-06-28T09:47:47.775Z"
   },
   {
    "duration": 0,
    "start_time": "2022-06-28T09:47:47.776Z"
   },
   {
    "duration": 0,
    "start_time": "2022-06-28T09:47:47.777Z"
   },
   {
    "duration": 0,
    "start_time": "2022-06-28T09:47:47.778Z"
   },
   {
    "duration": 0,
    "start_time": "2022-06-28T09:47:47.780Z"
   },
   {
    "duration": 0,
    "start_time": "2022-06-28T09:47:47.781Z"
   },
   {
    "duration": 0,
    "start_time": "2022-06-28T09:47:47.782Z"
   },
   {
    "duration": 0,
    "start_time": "2022-06-28T09:47:47.783Z"
   },
   {
    "duration": 0,
    "start_time": "2022-06-28T09:47:47.784Z"
   },
   {
    "duration": 0,
    "start_time": "2022-06-28T09:47:47.785Z"
   },
   {
    "duration": 0,
    "start_time": "2022-06-28T09:47:47.788Z"
   },
   {
    "duration": 0,
    "start_time": "2022-06-28T09:47:47.789Z"
   },
   {
    "duration": 0,
    "start_time": "2022-06-28T09:47:47.790Z"
   },
   {
    "duration": 0,
    "start_time": "2022-06-28T09:47:47.792Z"
   },
   {
    "duration": 0,
    "start_time": "2022-06-28T09:47:47.793Z"
   },
   {
    "duration": 0,
    "start_time": "2022-06-28T09:47:47.794Z"
   },
   {
    "duration": 0,
    "start_time": "2022-06-28T09:47:47.795Z"
   },
   {
    "duration": 0,
    "start_time": "2022-06-28T09:47:47.797Z"
   },
   {
    "duration": 0,
    "start_time": "2022-06-28T09:47:47.798Z"
   },
   {
    "duration": 0,
    "start_time": "2022-06-28T09:47:47.799Z"
   },
   {
    "duration": 0,
    "start_time": "2022-06-28T09:47:47.801Z"
   },
   {
    "duration": 0,
    "start_time": "2022-06-28T09:47:47.802Z"
   },
   {
    "duration": 0,
    "start_time": "2022-06-28T09:47:47.803Z"
   },
   {
    "duration": 0,
    "start_time": "2022-06-28T09:47:47.804Z"
   },
   {
    "duration": 0,
    "start_time": "2022-06-28T09:47:47.805Z"
   },
   {
    "duration": 0,
    "start_time": "2022-06-28T09:47:47.806Z"
   },
   {
    "duration": 0,
    "start_time": "2022-06-28T09:47:47.867Z"
   },
   {
    "duration": 0,
    "start_time": "2022-06-28T09:47:47.868Z"
   },
   {
    "duration": 0,
    "start_time": "2022-06-28T09:47:47.869Z"
   },
   {
    "duration": 0,
    "start_time": "2022-06-28T09:47:47.870Z"
   },
   {
    "duration": 0,
    "start_time": "2022-06-28T09:47:47.871Z"
   },
   {
    "duration": 0,
    "start_time": "2022-06-28T09:47:47.872Z"
   },
   {
    "duration": 0,
    "start_time": "2022-06-28T09:47:47.873Z"
   },
   {
    "duration": 0,
    "start_time": "2022-06-28T09:47:47.875Z"
   },
   {
    "duration": 0,
    "start_time": "2022-06-28T09:47:47.875Z"
   },
   {
    "duration": 0,
    "start_time": "2022-06-28T09:47:47.876Z"
   },
   {
    "duration": 0,
    "start_time": "2022-06-28T09:47:47.878Z"
   },
   {
    "duration": 0,
    "start_time": "2022-06-28T09:47:47.878Z"
   },
   {
    "duration": 0,
    "start_time": "2022-06-28T09:47:47.880Z"
   },
   {
    "duration": 0,
    "start_time": "2022-06-28T09:47:47.881Z"
   },
   {
    "duration": 0,
    "start_time": "2022-06-28T09:47:47.882Z"
   },
   {
    "duration": 0,
    "start_time": "2022-06-28T09:47:47.883Z"
   },
   {
    "duration": 0,
    "start_time": "2022-06-28T09:47:47.885Z"
   },
   {
    "duration": 0,
    "start_time": "2022-06-28T09:47:47.886Z"
   },
   {
    "duration": 17,
    "start_time": "2022-06-28T09:58:20.392Z"
   },
   {
    "duration": 76,
    "start_time": "2022-06-28T10:05:02.351Z"
   },
   {
    "duration": 112,
    "start_time": "2022-06-28T10:05:02.429Z"
   },
   {
    "duration": 38,
    "start_time": "2022-06-28T10:05:02.543Z"
   },
   {
    "duration": 11,
    "start_time": "2022-06-28T10:05:02.583Z"
   },
   {
    "duration": 4,
    "start_time": "2022-06-28T10:05:02.596Z"
   },
   {
    "duration": 12,
    "start_time": "2022-06-28T10:05:02.602Z"
   },
   {
    "duration": 37,
    "start_time": "2022-06-28T10:05:02.617Z"
   },
   {
    "duration": 4,
    "start_time": "2022-06-28T10:05:02.668Z"
   },
   {
    "duration": 29,
    "start_time": "2022-06-28T10:05:02.674Z"
   },
   {
    "duration": 23,
    "start_time": "2022-06-28T10:05:02.705Z"
   },
   {
    "duration": 47,
    "start_time": "2022-06-28T10:05:02.730Z"
   },
   {
    "duration": 4,
    "start_time": "2022-06-28T10:05:02.779Z"
   },
   {
    "duration": 30,
    "start_time": "2022-06-28T10:05:02.785Z"
   },
   {
    "duration": 14,
    "start_time": "2022-06-28T10:05:02.817Z"
   },
   {
    "duration": 6,
    "start_time": "2022-06-28T10:05:02.833Z"
   },
   {
    "duration": 36,
    "start_time": "2022-06-28T10:05:02.841Z"
   },
   {
    "duration": 6,
    "start_time": "2022-06-28T10:05:02.878Z"
   },
   {
    "duration": 9,
    "start_time": "2022-06-28T10:05:02.885Z"
   },
   {
    "duration": 6,
    "start_time": "2022-06-28T10:05:02.895Z"
   },
   {
    "duration": 23,
    "start_time": "2022-06-28T10:05:02.902Z"
   },
   {
    "duration": 394,
    "start_time": "2022-06-28T10:05:02.927Z"
   },
   {
    "duration": 0,
    "start_time": "2022-06-28T10:05:03.324Z"
   },
   {
    "duration": 0,
    "start_time": "2022-06-28T10:05:03.326Z"
   },
   {
    "duration": 0,
    "start_time": "2022-06-28T10:05:03.327Z"
   },
   {
    "duration": 0,
    "start_time": "2022-06-28T10:05:03.328Z"
   },
   {
    "duration": 0,
    "start_time": "2022-06-28T10:05:03.329Z"
   },
   {
    "duration": 0,
    "start_time": "2022-06-28T10:05:03.331Z"
   },
   {
    "duration": 0,
    "start_time": "2022-06-28T10:05:03.332Z"
   },
   {
    "duration": 0,
    "start_time": "2022-06-28T10:05:03.333Z"
   },
   {
    "duration": 0,
    "start_time": "2022-06-28T10:05:03.334Z"
   },
   {
    "duration": 0,
    "start_time": "2022-06-28T10:05:03.335Z"
   },
   {
    "duration": 0,
    "start_time": "2022-06-28T10:05:03.336Z"
   },
   {
    "duration": 0,
    "start_time": "2022-06-28T10:05:03.337Z"
   },
   {
    "duration": 0,
    "start_time": "2022-06-28T10:05:03.338Z"
   },
   {
    "duration": 0,
    "start_time": "2022-06-28T10:05:03.339Z"
   },
   {
    "duration": 0,
    "start_time": "2022-06-28T10:05:03.340Z"
   },
   {
    "duration": 0,
    "start_time": "2022-06-28T10:05:03.342Z"
   },
   {
    "duration": 0,
    "start_time": "2022-06-28T10:05:03.343Z"
   },
   {
    "duration": 0,
    "start_time": "2022-06-28T10:05:03.344Z"
   },
   {
    "duration": 1,
    "start_time": "2022-06-28T10:05:03.345Z"
   },
   {
    "duration": 0,
    "start_time": "2022-06-28T10:05:03.346Z"
   },
   {
    "duration": 0,
    "start_time": "2022-06-28T10:05:03.348Z"
   },
   {
    "duration": 0,
    "start_time": "2022-06-28T10:05:03.349Z"
   },
   {
    "duration": 0,
    "start_time": "2022-06-28T10:05:03.350Z"
   },
   {
    "duration": 0,
    "start_time": "2022-06-28T10:05:03.351Z"
   },
   {
    "duration": 0,
    "start_time": "2022-06-28T10:05:03.352Z"
   },
   {
    "duration": 0,
    "start_time": "2022-06-28T10:05:03.353Z"
   },
   {
    "duration": 0,
    "start_time": "2022-06-28T10:05:03.354Z"
   },
   {
    "duration": 0,
    "start_time": "2022-06-28T10:05:03.355Z"
   },
   {
    "duration": 0,
    "start_time": "2022-06-28T10:05:03.356Z"
   },
   {
    "duration": 0,
    "start_time": "2022-06-28T10:05:03.357Z"
   },
   {
    "duration": 0,
    "start_time": "2022-06-28T10:05:03.358Z"
   },
   {
    "duration": 0,
    "start_time": "2022-06-28T10:05:03.359Z"
   },
   {
    "duration": 0,
    "start_time": "2022-06-28T10:05:03.360Z"
   },
   {
    "duration": 0,
    "start_time": "2022-06-28T10:05:03.367Z"
   },
   {
    "duration": 0,
    "start_time": "2022-06-28T10:05:03.368Z"
   },
   {
    "duration": 0,
    "start_time": "2022-06-28T10:05:03.369Z"
   },
   {
    "duration": 0,
    "start_time": "2022-06-28T10:05:03.370Z"
   },
   {
    "duration": 0,
    "start_time": "2022-06-28T10:05:03.371Z"
   },
   {
    "duration": 0,
    "start_time": "2022-06-28T10:05:03.372Z"
   },
   {
    "duration": 0,
    "start_time": "2022-06-28T10:05:03.374Z"
   },
   {
    "duration": 0,
    "start_time": "2022-06-28T10:05:03.375Z"
   },
   {
    "duration": 0,
    "start_time": "2022-06-28T10:05:03.376Z"
   },
   {
    "duration": 0,
    "start_time": "2022-06-28T10:05:03.377Z"
   },
   {
    "duration": 0,
    "start_time": "2022-06-28T10:05:03.379Z"
   },
   {
    "duration": 0,
    "start_time": "2022-06-28T10:05:03.380Z"
   },
   {
    "duration": 0,
    "start_time": "2022-06-28T10:05:03.382Z"
   },
   {
    "duration": 0,
    "start_time": "2022-06-28T10:05:03.383Z"
   },
   {
    "duration": 0,
    "start_time": "2022-06-28T10:05:03.385Z"
   },
   {
    "duration": 0,
    "start_time": "2022-06-28T10:05:03.386Z"
   },
   {
    "duration": 0,
    "start_time": "2022-06-28T10:05:03.388Z"
   },
   {
    "duration": 0,
    "start_time": "2022-06-28T10:05:03.389Z"
   },
   {
    "duration": 0,
    "start_time": "2022-06-28T10:05:03.391Z"
   },
   {
    "duration": 0,
    "start_time": "2022-06-28T10:05:03.392Z"
   },
   {
    "duration": 0,
    "start_time": "2022-06-28T10:05:03.393Z"
   },
   {
    "duration": 296,
    "start_time": "2022-06-28T10:05:15.242Z"
   }
  ],
  "kernelspec": {
   "display_name": "Python 3",
   "language": "python",
   "name": "python3"
  },
  "language_info": {
   "codemirror_mode": {
    "name": "ipython",
    "version": 3
   },
   "file_extension": ".py",
   "mimetype": "text/x-python",
   "name": "python",
   "nbconvert_exporter": "python",
   "pygments_lexer": "ipython3",
   "version": "3.7.1"
  },
  "toc": {
   "base_numbering": 1,
   "nav_menu": {},
   "number_sections": true,
   "sideBar": true,
   "skip_h1_title": true,
   "title_cell": "Содержание",
   "title_sidebar": "Contents",
   "toc_cell": true,
   "toc_position": {
    "height": "calc(100% - 180px)",
    "left": "10px",
    "top": "150px",
    "width": "329.6px"
   },
   "toc_section_display": true,
   "toc_window_display": false
  }
 },
 "nbformat": 4,
 "nbformat_minor": 2
}
