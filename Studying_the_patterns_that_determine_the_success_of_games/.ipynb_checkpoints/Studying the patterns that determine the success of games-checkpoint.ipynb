{
 "cells": [
  {
   "cell_type": "markdown",
   "metadata": {
    "toc": true
   },
   "source": [
    "<h1>Содержание<span class=\"tocSkip\"></span></h1>\n",
    "<div class=\"toc\"><ul class=\"toc-item\"><li><span><a href=\"#Открытие-файла-и-изучение-общей-информации\" data-toc-modified-id=\"Открытие-файла-и-изучение-общей-информации-1\"><span class=\"toc-item-num\">1&nbsp;&nbsp;</span>Открытие файла и изучение общей информации</a></span></li><li><span><a href=\"#Предобработка-данных\" data-toc-modified-id=\"Предобработка-данных-2\"><span class=\"toc-item-num\">2&nbsp;&nbsp;</span>Предобработка данных</a></span><ul class=\"toc-item\"><li><span><a href=\"#Изменение-названия-столбцов\" data-toc-modified-id=\"Изменение-названия-столбцов-2.1\"><span class=\"toc-item-num\">2.1&nbsp;&nbsp;</span>Изменение названия столбцов</a></span></li><li><span><a href=\"#Обработка-пропусков\" data-toc-modified-id=\"Обработка-пропусков-2.2\"><span class=\"toc-item-num\">2.2&nbsp;&nbsp;</span>Обработка пропусков</a></span></li><li><span><a href=\"#Замена-типа-данных\" data-toc-modified-id=\"Замена-типа-данных-2.3\"><span class=\"toc-item-num\">2.3&nbsp;&nbsp;</span>Замена типа данных</a></span></li><li><span><a href=\"#Посчёт-суммарных-продаж-во-всех-регионах\" data-toc-modified-id=\"Посчёт-суммарных-продаж-во-всех-регионах-2.4\"><span class=\"toc-item-num\">2.4&nbsp;&nbsp;</span>Посчёт суммарных продаж во всех регионах</a></span></li></ul></li><li><span><a href=\"#Исследовательский-анализ-данных\" data-toc-modified-id=\"Исследовательский-анализ-данных-3\"><span class=\"toc-item-num\">3&nbsp;&nbsp;</span>Исследовательский анализ данных</a></span><ul class=\"toc-item\"><li><span><a href=\"#Посчёт-игр-по-годам\" data-toc-modified-id=\"Посчёт-игр-по-годам-3.1\"><span class=\"toc-item-num\">3.1&nbsp;&nbsp;</span>Посчёт игр по годам</a></span></li><li><span><a href=\"#Анализ-изменения-продаж-по-платформам\" data-toc-modified-id=\"Анализ-изменения-продаж-по-платформам-3.2\"><span class=\"toc-item-num\">3.2&nbsp;&nbsp;</span>Анализ изменения продаж по платформам</a></span></li><li><span><a href=\"#Выбор-потенциально-прибыльных-платформ\" data-toc-modified-id=\"Выбор-потенциально-прибыльных-платформ-3.3\"><span class=\"toc-item-num\">3.3&nbsp;&nbsp;</span>Выбор потенциально прибыльных платформ</a></span></li><li><span><a href=\"#Анализ-продаж\" data-toc-modified-id=\"Анализ-продаж-3.4\"><span class=\"toc-item-num\">3.4&nbsp;&nbsp;</span>Анализ продаж</a></span></li></ul></li><li><span><a href=\"#Портрет-пользователя-каждого-региона\" data-toc-modified-id=\"Портрет-пользователя-каждого-региона-4\"><span class=\"toc-item-num\">4&nbsp;&nbsp;</span>Портрет пользователя каждого региона</a></span><ul class=\"toc-item\"><li><span><a href=\"#Самые-популярные-платформы-по-регионам\" data-toc-modified-id=\"Самые-популярные-платформы-по-регионам-4.1\"><span class=\"toc-item-num\">4.1&nbsp;&nbsp;</span>Самые популярные платформы по регионам</a></span></li><li><span><a href=\"#Самые-популярные-жанры-по-регионам\" data-toc-modified-id=\"Самые-популярные-жанры-по-регионам-4.2\"><span class=\"toc-item-num\">4.2&nbsp;&nbsp;</span>Самые популярные жанры по регионам</a></span></li><li><span><a href=\"#Влияет-ли-рейтинг-ESRB-на-продажи-в-отдельном-регионе?\" data-toc-modified-id=\"Влияет-ли-рейтинг-ESRB-на-продажи-в-отдельном-регионе?-4.3\"><span class=\"toc-item-num\">4.3&nbsp;&nbsp;</span>Влияет ли рейтинг ESRB на продажи в отдельном регионе?</a></span></li></ul></li><li><span><a href=\"#Проверка-гипотез\" data-toc-modified-id=\"Проверка-гипотез-5\"><span class=\"toc-item-num\">5&nbsp;&nbsp;</span>Проверка гипотез</a></span></li><li><span><a href=\"#Общий-вывод\" data-toc-modified-id=\"Общий-вывод-6\"><span class=\"toc-item-num\">6&nbsp;&nbsp;</span>Общий вывод</a></span></li></ul></div>"
   ]
  },
  {
   "cell_type": "markdown",
   "metadata": {},
   "source": [
    "# Сборный проект"
   ]
  },
  {
   "cell_type": "markdown",
   "metadata": {},
   "source": [
    "Мы работаем в интернет-магазине «Стримчик», который продаёт по всему миру компьютерные игры. Из открытых источников доступны исторические данные о продажах игр, оценки пользователей и экспертов, жанры и платформы (например, Xbox или PlayStation). Нам нужно выявить определяющие успешность игры закономерности. Это позволит сделать ставку на потенциально популярный продукт и спланировать рекламные кампании.\n",
    "\n",
    "Перед нами данные до 2016 года. Представим, что сейчас декабрь 2016 г., и мы планируем кампанию на 2017-й. \n",
    "В наборе данных попадается аббревиатура ESRB (Entertainment Software Rating Board) — это ассоциация, определяющая возрастной рейтинг компьютерных игр. ESRB оценивает игровой контент и присваивает ему подходящую возрастную категорию, например, «Для взрослых», «Для детей младшего возраста» или «Для подростков»."
   ]
  },
  {
   "cell_type": "markdown",
   "metadata": {},
   "source": [
    "## Открытие файла и изучение общей информации"
   ]
  },
  {
   "cell_type": "code",
   "execution_count": 1,
   "metadata": {},
   "outputs": [],
   "source": [
    "import pandas as pd # импортирую нужные библиотеки\n",
    "import matplotlib.pyplot as plt\n",
    "import seaborn as sns\n",
    "from scipy import stats as st\n",
    "import numpy as np"
   ]
  },
  {
   "cell_type": "code",
   "execution_count": 2,
   "metadata": {},
   "outputs": [
    {
     "data": {
      "text/html": [
       "<div>\n",
       "<style scoped>\n",
       "    .dataframe tbody tr th:only-of-type {\n",
       "        vertical-align: middle;\n",
       "    }\n",
       "\n",
       "    .dataframe tbody tr th {\n",
       "        vertical-align: top;\n",
       "    }\n",
       "\n",
       "    .dataframe thead th {\n",
       "        text-align: right;\n",
       "    }\n",
       "</style>\n",
       "<table border=\"1\" class=\"dataframe\">\n",
       "  <thead>\n",
       "    <tr style=\"text-align: right;\">\n",
       "      <th></th>\n",
       "      <th>Name</th>\n",
       "      <th>Platform</th>\n",
       "      <th>Year_of_Release</th>\n",
       "      <th>Genre</th>\n",
       "      <th>NA_sales</th>\n",
       "      <th>EU_sales</th>\n",
       "      <th>JP_sales</th>\n",
       "      <th>Other_sales</th>\n",
       "      <th>Critic_Score</th>\n",
       "      <th>User_Score</th>\n",
       "      <th>Rating</th>\n",
       "    </tr>\n",
       "  </thead>\n",
       "  <tbody>\n",
       "    <tr>\n",
       "      <th>0</th>\n",
       "      <td>Wii Sports</td>\n",
       "      <td>Wii</td>\n",
       "      <td>2006.0</td>\n",
       "      <td>Sports</td>\n",
       "      <td>41.36</td>\n",
       "      <td>28.96</td>\n",
       "      <td>3.77</td>\n",
       "      <td>8.45</td>\n",
       "      <td>76.0</td>\n",
       "      <td>8</td>\n",
       "      <td>E</td>\n",
       "    </tr>\n",
       "    <tr>\n",
       "      <th>1</th>\n",
       "      <td>Super Mario Bros.</td>\n",
       "      <td>NES</td>\n",
       "      <td>1985.0</td>\n",
       "      <td>Platform</td>\n",
       "      <td>29.08</td>\n",
       "      <td>3.58</td>\n",
       "      <td>6.81</td>\n",
       "      <td>0.77</td>\n",
       "      <td>NaN</td>\n",
       "      <td>NaN</td>\n",
       "      <td>NaN</td>\n",
       "    </tr>\n",
       "    <tr>\n",
       "      <th>2</th>\n",
       "      <td>Mario Kart Wii</td>\n",
       "      <td>Wii</td>\n",
       "      <td>2008.0</td>\n",
       "      <td>Racing</td>\n",
       "      <td>15.68</td>\n",
       "      <td>12.76</td>\n",
       "      <td>3.79</td>\n",
       "      <td>3.29</td>\n",
       "      <td>82.0</td>\n",
       "      <td>8.3</td>\n",
       "      <td>E</td>\n",
       "    </tr>\n",
       "    <tr>\n",
       "      <th>3</th>\n",
       "      <td>Wii Sports Resort</td>\n",
       "      <td>Wii</td>\n",
       "      <td>2009.0</td>\n",
       "      <td>Sports</td>\n",
       "      <td>15.61</td>\n",
       "      <td>10.93</td>\n",
       "      <td>3.28</td>\n",
       "      <td>2.95</td>\n",
       "      <td>80.0</td>\n",
       "      <td>8</td>\n",
       "      <td>E</td>\n",
       "    </tr>\n",
       "    <tr>\n",
       "      <th>4</th>\n",
       "      <td>Pokemon Red/Pokemon Blue</td>\n",
       "      <td>GB</td>\n",
       "      <td>1996.0</td>\n",
       "      <td>Role-Playing</td>\n",
       "      <td>11.27</td>\n",
       "      <td>8.89</td>\n",
       "      <td>10.22</td>\n",
       "      <td>1.00</td>\n",
       "      <td>NaN</td>\n",
       "      <td>NaN</td>\n",
       "      <td>NaN</td>\n",
       "    </tr>\n",
       "    <tr>\n",
       "      <th>5</th>\n",
       "      <td>Tetris</td>\n",
       "      <td>GB</td>\n",
       "      <td>1989.0</td>\n",
       "      <td>Puzzle</td>\n",
       "      <td>23.20</td>\n",
       "      <td>2.26</td>\n",
       "      <td>4.22</td>\n",
       "      <td>0.58</td>\n",
       "      <td>NaN</td>\n",
       "      <td>NaN</td>\n",
       "      <td>NaN</td>\n",
       "    </tr>\n",
       "    <tr>\n",
       "      <th>6</th>\n",
       "      <td>New Super Mario Bros.</td>\n",
       "      <td>DS</td>\n",
       "      <td>2006.0</td>\n",
       "      <td>Platform</td>\n",
       "      <td>11.28</td>\n",
       "      <td>9.14</td>\n",
       "      <td>6.50</td>\n",
       "      <td>2.88</td>\n",
       "      <td>89.0</td>\n",
       "      <td>8.5</td>\n",
       "      <td>E</td>\n",
       "    </tr>\n",
       "    <tr>\n",
       "      <th>7</th>\n",
       "      <td>Wii Play</td>\n",
       "      <td>Wii</td>\n",
       "      <td>2006.0</td>\n",
       "      <td>Misc</td>\n",
       "      <td>13.96</td>\n",
       "      <td>9.18</td>\n",
       "      <td>2.93</td>\n",
       "      <td>2.84</td>\n",
       "      <td>58.0</td>\n",
       "      <td>6.6</td>\n",
       "      <td>E</td>\n",
       "    </tr>\n",
       "    <tr>\n",
       "      <th>8</th>\n",
       "      <td>New Super Mario Bros. Wii</td>\n",
       "      <td>Wii</td>\n",
       "      <td>2009.0</td>\n",
       "      <td>Platform</td>\n",
       "      <td>14.44</td>\n",
       "      <td>6.94</td>\n",
       "      <td>4.70</td>\n",
       "      <td>2.24</td>\n",
       "      <td>87.0</td>\n",
       "      <td>8.4</td>\n",
       "      <td>E</td>\n",
       "    </tr>\n",
       "    <tr>\n",
       "      <th>9</th>\n",
       "      <td>Duck Hunt</td>\n",
       "      <td>NES</td>\n",
       "      <td>1984.0</td>\n",
       "      <td>Shooter</td>\n",
       "      <td>26.93</td>\n",
       "      <td>0.63</td>\n",
       "      <td>0.28</td>\n",
       "      <td>0.47</td>\n",
       "      <td>NaN</td>\n",
       "      <td>NaN</td>\n",
       "      <td>NaN</td>\n",
       "    </tr>\n",
       "    <tr>\n",
       "      <th>10</th>\n",
       "      <td>Nintendogs</td>\n",
       "      <td>DS</td>\n",
       "      <td>2005.0</td>\n",
       "      <td>Simulation</td>\n",
       "      <td>9.05</td>\n",
       "      <td>10.95</td>\n",
       "      <td>1.93</td>\n",
       "      <td>2.74</td>\n",
       "      <td>NaN</td>\n",
       "      <td>NaN</td>\n",
       "      <td>NaN</td>\n",
       "    </tr>\n",
       "    <tr>\n",
       "      <th>11</th>\n",
       "      <td>Mario Kart DS</td>\n",
       "      <td>DS</td>\n",
       "      <td>2005.0</td>\n",
       "      <td>Racing</td>\n",
       "      <td>9.71</td>\n",
       "      <td>7.47</td>\n",
       "      <td>4.13</td>\n",
       "      <td>1.90</td>\n",
       "      <td>91.0</td>\n",
       "      <td>8.6</td>\n",
       "      <td>E</td>\n",
       "    </tr>\n",
       "    <tr>\n",
       "      <th>12</th>\n",
       "      <td>Pokemon Gold/Pokemon Silver</td>\n",
       "      <td>GB</td>\n",
       "      <td>1999.0</td>\n",
       "      <td>Role-Playing</td>\n",
       "      <td>9.00</td>\n",
       "      <td>6.18</td>\n",
       "      <td>7.20</td>\n",
       "      <td>0.71</td>\n",
       "      <td>NaN</td>\n",
       "      <td>NaN</td>\n",
       "      <td>NaN</td>\n",
       "    </tr>\n",
       "    <tr>\n",
       "      <th>13</th>\n",
       "      <td>Wii Fit</td>\n",
       "      <td>Wii</td>\n",
       "      <td>2007.0</td>\n",
       "      <td>Sports</td>\n",
       "      <td>8.92</td>\n",
       "      <td>8.03</td>\n",
       "      <td>3.60</td>\n",
       "      <td>2.15</td>\n",
       "      <td>80.0</td>\n",
       "      <td>7.7</td>\n",
       "      <td>E</td>\n",
       "    </tr>\n",
       "    <tr>\n",
       "      <th>14</th>\n",
       "      <td>Kinect Adventures!</td>\n",
       "      <td>X360</td>\n",
       "      <td>2010.0</td>\n",
       "      <td>Misc</td>\n",
       "      <td>15.00</td>\n",
       "      <td>4.89</td>\n",
       "      <td>0.24</td>\n",
       "      <td>1.69</td>\n",
       "      <td>61.0</td>\n",
       "      <td>6.3</td>\n",
       "      <td>E</td>\n",
       "    </tr>\n",
       "    <tr>\n",
       "      <th>15</th>\n",
       "      <td>Wii Fit Plus</td>\n",
       "      <td>Wii</td>\n",
       "      <td>2009.0</td>\n",
       "      <td>Sports</td>\n",
       "      <td>9.01</td>\n",
       "      <td>8.49</td>\n",
       "      <td>2.53</td>\n",
       "      <td>1.77</td>\n",
       "      <td>80.0</td>\n",
       "      <td>7.4</td>\n",
       "      <td>E</td>\n",
       "    </tr>\n",
       "    <tr>\n",
       "      <th>16</th>\n",
       "      <td>Grand Theft Auto V</td>\n",
       "      <td>PS3</td>\n",
       "      <td>2013.0</td>\n",
       "      <td>Action</td>\n",
       "      <td>7.02</td>\n",
       "      <td>9.09</td>\n",
       "      <td>0.98</td>\n",
       "      <td>3.96</td>\n",
       "      <td>97.0</td>\n",
       "      <td>8.2</td>\n",
       "      <td>M</td>\n",
       "    </tr>\n",
       "    <tr>\n",
       "      <th>17</th>\n",
       "      <td>Grand Theft Auto: San Andreas</td>\n",
       "      <td>PS2</td>\n",
       "      <td>2004.0</td>\n",
       "      <td>Action</td>\n",
       "      <td>9.43</td>\n",
       "      <td>0.40</td>\n",
       "      <td>0.41</td>\n",
       "      <td>10.57</td>\n",
       "      <td>95.0</td>\n",
       "      <td>9</td>\n",
       "      <td>M</td>\n",
       "    </tr>\n",
       "    <tr>\n",
       "      <th>18</th>\n",
       "      <td>Super Mario World</td>\n",
       "      <td>SNES</td>\n",
       "      <td>1990.0</td>\n",
       "      <td>Platform</td>\n",
       "      <td>12.78</td>\n",
       "      <td>3.75</td>\n",
       "      <td>3.54</td>\n",
       "      <td>0.55</td>\n",
       "      <td>NaN</td>\n",
       "      <td>NaN</td>\n",
       "      <td>NaN</td>\n",
       "    </tr>\n",
       "    <tr>\n",
       "      <th>19</th>\n",
       "      <td>Brain Age: Train Your Brain in Minutes a Day</td>\n",
       "      <td>DS</td>\n",
       "      <td>2005.0</td>\n",
       "      <td>Misc</td>\n",
       "      <td>4.74</td>\n",
       "      <td>9.20</td>\n",
       "      <td>4.16</td>\n",
       "      <td>2.04</td>\n",
       "      <td>77.0</td>\n",
       "      <td>7.9</td>\n",
       "      <td>E</td>\n",
       "    </tr>\n",
       "  </tbody>\n",
       "</table>\n",
       "</div>"
      ],
      "text/plain": [
       "                                            Name Platform  Year_of_Release  \\\n",
       "0                                     Wii Sports      Wii           2006.0   \n",
       "1                              Super Mario Bros.      NES           1985.0   \n",
       "2                                 Mario Kart Wii      Wii           2008.0   \n",
       "3                              Wii Sports Resort      Wii           2009.0   \n",
       "4                       Pokemon Red/Pokemon Blue       GB           1996.0   \n",
       "5                                         Tetris       GB           1989.0   \n",
       "6                          New Super Mario Bros.       DS           2006.0   \n",
       "7                                       Wii Play      Wii           2006.0   \n",
       "8                      New Super Mario Bros. Wii      Wii           2009.0   \n",
       "9                                      Duck Hunt      NES           1984.0   \n",
       "10                                    Nintendogs       DS           2005.0   \n",
       "11                                 Mario Kart DS       DS           2005.0   \n",
       "12                   Pokemon Gold/Pokemon Silver       GB           1999.0   \n",
       "13                                       Wii Fit      Wii           2007.0   \n",
       "14                            Kinect Adventures!     X360           2010.0   \n",
       "15                                  Wii Fit Plus      Wii           2009.0   \n",
       "16                            Grand Theft Auto V      PS3           2013.0   \n",
       "17                 Grand Theft Auto: San Andreas      PS2           2004.0   \n",
       "18                             Super Mario World     SNES           1990.0   \n",
       "19  Brain Age: Train Your Brain in Minutes a Day       DS           2005.0   \n",
       "\n",
       "           Genre  NA_sales  EU_sales  JP_sales  Other_sales  Critic_Score  \\\n",
       "0         Sports     41.36     28.96      3.77         8.45          76.0   \n",
       "1       Platform     29.08      3.58      6.81         0.77           NaN   \n",
       "2         Racing     15.68     12.76      3.79         3.29          82.0   \n",
       "3         Sports     15.61     10.93      3.28         2.95          80.0   \n",
       "4   Role-Playing     11.27      8.89     10.22         1.00           NaN   \n",
       "5         Puzzle     23.20      2.26      4.22         0.58           NaN   \n",
       "6       Platform     11.28      9.14      6.50         2.88          89.0   \n",
       "7           Misc     13.96      9.18      2.93         2.84          58.0   \n",
       "8       Platform     14.44      6.94      4.70         2.24          87.0   \n",
       "9        Shooter     26.93      0.63      0.28         0.47           NaN   \n",
       "10    Simulation      9.05     10.95      1.93         2.74           NaN   \n",
       "11        Racing      9.71      7.47      4.13         1.90          91.0   \n",
       "12  Role-Playing      9.00      6.18      7.20         0.71           NaN   \n",
       "13        Sports      8.92      8.03      3.60         2.15          80.0   \n",
       "14          Misc     15.00      4.89      0.24         1.69          61.0   \n",
       "15        Sports      9.01      8.49      2.53         1.77          80.0   \n",
       "16        Action      7.02      9.09      0.98         3.96          97.0   \n",
       "17        Action      9.43      0.40      0.41        10.57          95.0   \n",
       "18      Platform     12.78      3.75      3.54         0.55           NaN   \n",
       "19          Misc      4.74      9.20      4.16         2.04          77.0   \n",
       "\n",
       "   User_Score Rating  \n",
       "0           8      E  \n",
       "1         NaN    NaN  \n",
       "2         8.3      E  \n",
       "3           8      E  \n",
       "4         NaN    NaN  \n",
       "5         NaN    NaN  \n",
       "6         8.5      E  \n",
       "7         6.6      E  \n",
       "8         8.4      E  \n",
       "9         NaN    NaN  \n",
       "10        NaN    NaN  \n",
       "11        8.6      E  \n",
       "12        NaN    NaN  \n",
       "13        7.7      E  \n",
       "14        6.3      E  \n",
       "15        7.4      E  \n",
       "16        8.2      M  \n",
       "17          9      M  \n",
       "18        NaN    NaN  \n",
       "19        7.9      E  "
      ]
     },
     "metadata": {},
     "output_type": "display_data"
    }
   ],
   "source": [
    "data = pd.read_csv('/datasets/games.csv') # читаю csv файл и вывожу первые 20 строк на экран\n",
    "display(data.head(20))"
   ]
  },
  {
   "cell_type": "code",
   "execution_count": 3,
   "metadata": {},
   "outputs": [
    {
     "name": "stdout",
     "output_type": "stream",
     "text": [
      "<class 'pandas.core.frame.DataFrame'>\n",
      "RangeIndex: 16715 entries, 0 to 16714\n",
      "Data columns (total 11 columns):\n",
      " #   Column           Non-Null Count  Dtype  \n",
      "---  ------           --------------  -----  \n",
      " 0   Name             16713 non-null  object \n",
      " 1   Platform         16715 non-null  object \n",
      " 2   Year_of_Release  16446 non-null  float64\n",
      " 3   Genre            16713 non-null  object \n",
      " 4   NA_sales         16715 non-null  float64\n",
      " 5   EU_sales         16715 non-null  float64\n",
      " 6   JP_sales         16715 non-null  float64\n",
      " 7   Other_sales      16715 non-null  float64\n",
      " 8   Critic_Score     8137 non-null   float64\n",
      " 9   User_Score       10014 non-null  object \n",
      " 10  Rating           9949 non-null   object \n",
      "dtypes: float64(6), object(5)\n",
      "memory usage: 1.4+ MB\n"
     ]
    }
   ],
   "source": [
    "data.info()"
   ]
  },
  {
   "cell_type": "markdown",
   "metadata": {},
   "source": [
    "**Вывод**"
   ]
  },
  {
   "cell_type": "markdown",
   "metadata": {},
   "source": [
    "Файл содержит 11 столбцов и 16715 строк с разными типами данных.  Исходя из общей информации о файле в столбцах 'Name', 'Year_of_Release', 'Genre', 'Critic_Score', 'User_Score', 'Rating ' встречаются пропуски данных, но к каждому стобцу нужен индивидуальный подход к заполнению пропусков, поговорим об этом в следующем разделе. В столбцах 'Year_of_Release', 'NA_sales', 'EU_sales', 'JP_sales', 'Other_sales' и 'Critic_Score' содержатся вещественные числа, что также ослажняет работы с этими данными, но не во всех из данных столбцов следует менять тип данных, также обсудим это в следующем разделе. Также необходимо заменить название столбов (приведите к нижнему регистру)."
   ]
  },
  {
   "cell_type": "markdown",
   "metadata": {},
   "source": [
    "## Предобработка данных"
   ]
  },
  {
   "cell_type": "markdown",
   "metadata": {},
   "source": [
    "### Изменение названия столбцов"
   ]
  },
  {
   "cell_type": "markdown",
   "metadata": {},
   "source": [
    "Выведите на экран названия столбцов:"
   ]
  },
  {
   "cell_type": "code",
   "execution_count": 4,
   "metadata": {},
   "outputs": [
    {
     "data": {
      "text/plain": [
       "Index(['Name', 'Platform', 'Year_of_Release', 'Genre', 'NA_sales', 'EU_sales',\n",
       "       'JP_sales', 'Other_sales', 'Critic_Score', 'User_Score', 'Rating'],\n",
       "      dtype='object')"
      ]
     },
     "execution_count": 4,
     "metadata": {},
     "output_type": "execute_result"
    }
   ],
   "source": [
    "data.columns # перечень названий столбцов таблицы"
   ]
  },
  {
   "cell_type": "markdown",
   "metadata": {},
   "source": [
    "Приведём названия в порядок:\n",
    "* приведём названия к нижнему регистру\n",
    "\n",
    "Для этого переименуйте колонки так:\n",
    "* `'Name':'name'`;\n",
    "* `'Platform':'platform'`;\n",
    "* `'Genre':'genre'`;\n",
    "* `'EU_sales':'eu_sales'`;\n",
    "* `'JP_sales':'jp_sales'`;    \n",
    "* `'NA_sales':'na_sales'`;\n",
    "* `'Critic_Score':'critic_Score'`; \n",
    "* `'User_Score':'user_Score'`; \n",
    "* `'Rating':'rating'`;\n",
    "* `'Other_sales':'other_sales'`."
   ]
  },
  {
   "cell_type": "code",
   "execution_count": 5,
   "metadata": {},
   "outputs": [],
   "source": [
    "data = data.rename(columns = {'Name':'name', 'Platform':'platform', 'Year_of_Release':'year_of_release', 'Genre':'genre', 'NA_sales':'na_sales', 'EU_sales':'eu_sales', 'JP_sales':'jp_sales', 'Other_sales':'other_sales', 'Critic_Score':'critic_score', 'User_Score':'user_score', 'Rating':'rating'}) # переименование столбцов"
   ]
  },
  {
   "cell_type": "markdown",
   "metadata": {},
   "source": [
    "Проверьте результат. Для этого ещё раз выведите на экран названия столбцов:"
   ]
  },
  {
   "cell_type": "code",
   "execution_count": 6,
   "metadata": {
    "scrolled": false
   },
   "outputs": [
    {
     "data": {
      "text/plain": [
       "Index(['name', 'platform', 'year_of_release', 'genre', 'na_sales', 'eu_sales',\n",
       "       'jp_sales', 'other_sales', 'critic_score', 'user_score', 'rating'],\n",
       "      dtype='object')"
      ]
     },
     "execution_count": 6,
     "metadata": {},
     "output_type": "execute_result"
    }
   ],
   "source": [
    "data.columns # проверка результатов - перечень названий столбцов"
   ]
  },
  {
   "cell_type": "markdown",
   "metadata": {},
   "source": [
    "Удалось привести названия столбцов в порядок"
   ]
  },
  {
   "cell_type": "markdown",
   "metadata": {},
   "source": [
    "### Обработка пропусков"
   ]
  },
  {
   "cell_type": "code",
   "execution_count": 7,
   "metadata": {
    "scrolled": true
   },
   "outputs": [
    {
     "data": {
      "text/plain": [
       "name                  2\n",
       "platform              0\n",
       "year_of_release     269\n",
       "genre                 2\n",
       "na_sales              0\n",
       "eu_sales              0\n",
       "jp_sales              0\n",
       "other_sales           0\n",
       "critic_score       8578\n",
       "user_score         6701\n",
       "rating             6766\n",
       "dtype: int64"
      ]
     },
     "execution_count": 7,
     "metadata": {},
     "output_type": "execute_result"
    }
   ],
   "source": [
    "data.isna().sum() # подсчитываю количество пропусков в каждом столбце"
   ]
  },
  {
   "cell_type": "markdown",
   "metadata": {},
   "source": [
    "Пропуски в столбце 'name' можно удалить, так как удаление 2 строчек из 16715 не исказит данные и пропуски в названиях не представляеся возможным заменить + там явно строки с неполными данными, так как пропуски в столбце жанр совпадает с пропусками в столбце 'name'. Год релиза тоже может быть разными и его сложно заменить каким-то единым значением. Пропуски в столбах с оценками пользователей и критиков 'user_score' и 'critic_score' тоже некорректно заполнять каким-либо значением, так как оценки сильно разнятся от игры к игре и не особо связанными между собой. Аббревиатура которая имеется в столбце с оценкой пользователей расшифровывается как To be determined, т. е. \"будет определено\", оставим это значение как есть, так как в дальнейшем база данных может обнавлятся и оценки возможно будут проставлены. Пропуски в столбеце 'rating' можно заполнить единой константой, например, аббревиатурой 'tbd', так как не во всех регионах данные рейтинги используются рейтинги. "
   ]
  },
  {
   "cell_type": "code",
   "execution_count": 8,
   "metadata": {},
   "outputs": [],
   "source": [
    "data = data.dropna(subset=['name']) # удаляю пропуски в столбце name"
   ]
  },
  {
   "cell_type": "code",
   "execution_count": 9,
   "metadata": {
    "scrolled": true
   },
   "outputs": [
    {
     "data": {
      "text/plain": [
       "0      E\n",
       "1    tbd\n",
       "2      E\n",
       "3      E\n",
       "4    tbd\n",
       "Name: rating, dtype: object"
      ]
     },
     "metadata": {},
     "output_type": "display_data"
    }
   ],
   "source": [
    "data['rating'] = data['rating'].fillna('tbd') # заменяю пропуски в столбце 'rating'\n",
    "display(data['rating'].head())"
   ]
  },
  {
   "cell_type": "markdown",
   "metadata": {},
   "source": [
    "Удалось заменить пропуски в столбце 'rating' на значение 'tbd'"
   ]
  },
  {
   "cell_type": "markdown",
   "metadata": {},
   "source": [
    "### Замена типа данных"
   ]
  },
  {
   "cell_type": "markdown",
   "metadata": {},
   "source": [
    "Как говорилось выше, во многих столбцах есть вещественные числа, разберёмся, в каких из них нужно менять тип данных. В столбце 'year_of_release' тип данных float64, но это дата, конкретно год, он дробным не бывает, в тоже время приводить один год к datetime тоже нет смысла, поэтому сделаем целым числом. Столбцы с продажми 'na_sales', 'eu_sales', 'jp_sales' и 'other_sales' также для удобства к целым значением с округлениями. 'сritic_score' целое число, его также необходимо сделать целым. У столбца 'user_score' тип object, приведём также к целому числу."
   ]
  },
  {
   "cell_type": "code",
   "execution_count": 10,
   "metadata": {},
   "outputs": [],
   "source": [
    "data['eu_sales'] = data['eu_sales'].round() # округляю значения в нужных столбцах до целого значения\n",
    "data['jp_sales'] = data['jp_sales'].round()\n",
    "data['na_sales'] = data['na_sales'].round()\n",
    "data['other_sales'] = data['other_sales'].round()"
   ]
  },
  {
   "cell_type": "code",
   "execution_count": 11,
   "metadata": {
    "scrolled": true
   },
   "outputs": [
    {
     "name": "stdout",
     "output_type": "stream",
     "text": [
      "<class 'pandas.core.frame.DataFrame'>\n",
      "Int64Index: 16713 entries, 0 to 16714\n",
      "Data columns (total 11 columns):\n",
      " #   Column           Non-Null Count  Dtype \n",
      "---  ------           --------------  ----- \n",
      " 0   name             16713 non-null  object\n",
      " 1   platform         16713 non-null  object\n",
      " 2   year_of_release  16444 non-null  Int64 \n",
      " 3   genre            16713 non-null  object\n",
      " 4   na_sales         16713 non-null  Int64 \n",
      " 5   eu_sales         16713 non-null  Int64 \n",
      " 6   jp_sales         16713 non-null  Int64 \n",
      " 7   other_sales      16713 non-null  Int64 \n",
      " 8   critic_score     8137 non-null   Int64 \n",
      " 9   user_score       10014 non-null  object\n",
      " 10  rating           16713 non-null  object\n",
      "dtypes: Int64(6), object(5)\n",
      "memory usage: 1.6+ MB\n"
     ]
    }
   ],
   "source": [
    "data = data.astype({\"eu_sales\":'Int64', \"jp_sales\":'Int64', \"na_sales\":'Int64', \"other_sales\":'Int64', \"year_of_release\":'Int64', \"critic_score\":'Int64'}) # изменяю тип данных в нужных столбцах\n",
    "data.info()"
   ]
  },
  {
   "cell_type": "markdown",
   "metadata": {},
   "source": [
    "Удалось изменить тип данных в нужных столбцах, для этого применили метод astype, так как он может изменить тип данных во всем столбе сразу, в отличие от, например, метода int(), который изменяет тип одного значения. После проверки общей информации о data потдвердилось, что тип данных в нужных столбцах изменился"
   ]
  },
  {
   "cell_type": "markdown",
   "metadata": {},
   "source": [
    "На всякий случай проверим дубликаты"
   ]
  },
  {
   "cell_type": "code",
   "execution_count": 12,
   "metadata": {},
   "outputs": [
    {
     "data": {
      "text/plain": [
       "0"
      ]
     },
     "execution_count": 12,
     "metadata": {},
     "output_type": "execute_result"
    }
   ],
   "source": [
    "data.duplicated().sum() # подсчёт явных дубликатов"
   ]
  },
  {
   "cell_type": "markdown",
   "metadata": {},
   "source": [
    "### Посчёт суммарных продаж во всех регионах"
   ]
  },
  {
   "cell_type": "code",
   "execution_count": 13,
   "metadata": {
    "scrolled": true
   },
   "outputs": [
    {
     "data": {
      "text/html": [
       "<div>\n",
       "<style scoped>\n",
       "    .dataframe tbody tr th:only-of-type {\n",
       "        vertical-align: middle;\n",
       "    }\n",
       "\n",
       "    .dataframe tbody tr th {\n",
       "        vertical-align: top;\n",
       "    }\n",
       "\n",
       "    .dataframe thead th {\n",
       "        text-align: right;\n",
       "    }\n",
       "</style>\n",
       "<table border=\"1\" class=\"dataframe\">\n",
       "  <thead>\n",
       "    <tr style=\"text-align: right;\">\n",
       "      <th></th>\n",
       "      <th>name</th>\n",
       "      <th>platform</th>\n",
       "      <th>year_of_release</th>\n",
       "      <th>genre</th>\n",
       "      <th>na_sales</th>\n",
       "      <th>eu_sales</th>\n",
       "      <th>jp_sales</th>\n",
       "      <th>other_sales</th>\n",
       "      <th>critic_score</th>\n",
       "      <th>user_score</th>\n",
       "      <th>rating</th>\n",
       "      <th>sum_sales</th>\n",
       "    </tr>\n",
       "  </thead>\n",
       "  <tbody>\n",
       "    <tr>\n",
       "      <th>0</th>\n",
       "      <td>Wii Sports</td>\n",
       "      <td>Wii</td>\n",
       "      <td>2006</td>\n",
       "      <td>Sports</td>\n",
       "      <td>41</td>\n",
       "      <td>29</td>\n",
       "      <td>4</td>\n",
       "      <td>8</td>\n",
       "      <td>76</td>\n",
       "      <td>8</td>\n",
       "      <td>E</td>\n",
       "      <td>82</td>\n",
       "    </tr>\n",
       "    <tr>\n",
       "      <th>1</th>\n",
       "      <td>Super Mario Bros.</td>\n",
       "      <td>NES</td>\n",
       "      <td>1985</td>\n",
       "      <td>Platform</td>\n",
       "      <td>29</td>\n",
       "      <td>4</td>\n",
       "      <td>7</td>\n",
       "      <td>1</td>\n",
       "      <td>&lt;NA&gt;</td>\n",
       "      <td>NaN</td>\n",
       "      <td>tbd</td>\n",
       "      <td>41</td>\n",
       "    </tr>\n",
       "    <tr>\n",
       "      <th>2</th>\n",
       "      <td>Mario Kart Wii</td>\n",
       "      <td>Wii</td>\n",
       "      <td>2008</td>\n",
       "      <td>Racing</td>\n",
       "      <td>16</td>\n",
       "      <td>13</td>\n",
       "      <td>4</td>\n",
       "      <td>3</td>\n",
       "      <td>82</td>\n",
       "      <td>8.3</td>\n",
       "      <td>E</td>\n",
       "      <td>36</td>\n",
       "    </tr>\n",
       "    <tr>\n",
       "      <th>3</th>\n",
       "      <td>Wii Sports Resort</td>\n",
       "      <td>Wii</td>\n",
       "      <td>2009</td>\n",
       "      <td>Sports</td>\n",
       "      <td>16</td>\n",
       "      <td>11</td>\n",
       "      <td>3</td>\n",
       "      <td>3</td>\n",
       "      <td>80</td>\n",
       "      <td>8</td>\n",
       "      <td>E</td>\n",
       "      <td>33</td>\n",
       "    </tr>\n",
       "    <tr>\n",
       "      <th>4</th>\n",
       "      <td>Pokemon Red/Pokemon Blue</td>\n",
       "      <td>GB</td>\n",
       "      <td>1996</td>\n",
       "      <td>Role-Playing</td>\n",
       "      <td>11</td>\n",
       "      <td>9</td>\n",
       "      <td>10</td>\n",
       "      <td>1</td>\n",
       "      <td>&lt;NA&gt;</td>\n",
       "      <td>NaN</td>\n",
       "      <td>tbd</td>\n",
       "      <td>31</td>\n",
       "    </tr>\n",
       "    <tr>\n",
       "      <th>...</th>\n",
       "      <td>...</td>\n",
       "      <td>...</td>\n",
       "      <td>...</td>\n",
       "      <td>...</td>\n",
       "      <td>...</td>\n",
       "      <td>...</td>\n",
       "      <td>...</td>\n",
       "      <td>...</td>\n",
       "      <td>...</td>\n",
       "      <td>...</td>\n",
       "      <td>...</td>\n",
       "      <td>...</td>\n",
       "    </tr>\n",
       "    <tr>\n",
       "      <th>16710</th>\n",
       "      <td>Samurai Warriors: Sanada Maru</td>\n",
       "      <td>PS3</td>\n",
       "      <td>2016</td>\n",
       "      <td>Action</td>\n",
       "      <td>0</td>\n",
       "      <td>0</td>\n",
       "      <td>0</td>\n",
       "      <td>0</td>\n",
       "      <td>&lt;NA&gt;</td>\n",
       "      <td>NaN</td>\n",
       "      <td>tbd</td>\n",
       "      <td>0</td>\n",
       "    </tr>\n",
       "    <tr>\n",
       "      <th>16711</th>\n",
       "      <td>LMA Manager 2007</td>\n",
       "      <td>X360</td>\n",
       "      <td>2006</td>\n",
       "      <td>Sports</td>\n",
       "      <td>0</td>\n",
       "      <td>0</td>\n",
       "      <td>0</td>\n",
       "      <td>0</td>\n",
       "      <td>&lt;NA&gt;</td>\n",
       "      <td>NaN</td>\n",
       "      <td>tbd</td>\n",
       "      <td>0</td>\n",
       "    </tr>\n",
       "    <tr>\n",
       "      <th>16712</th>\n",
       "      <td>Haitaka no Psychedelica</td>\n",
       "      <td>PSV</td>\n",
       "      <td>2016</td>\n",
       "      <td>Adventure</td>\n",
       "      <td>0</td>\n",
       "      <td>0</td>\n",
       "      <td>0</td>\n",
       "      <td>0</td>\n",
       "      <td>&lt;NA&gt;</td>\n",
       "      <td>NaN</td>\n",
       "      <td>tbd</td>\n",
       "      <td>0</td>\n",
       "    </tr>\n",
       "    <tr>\n",
       "      <th>16713</th>\n",
       "      <td>Spirits &amp; Spells</td>\n",
       "      <td>GBA</td>\n",
       "      <td>2003</td>\n",
       "      <td>Platform</td>\n",
       "      <td>0</td>\n",
       "      <td>0</td>\n",
       "      <td>0</td>\n",
       "      <td>0</td>\n",
       "      <td>&lt;NA&gt;</td>\n",
       "      <td>NaN</td>\n",
       "      <td>tbd</td>\n",
       "      <td>0</td>\n",
       "    </tr>\n",
       "    <tr>\n",
       "      <th>16714</th>\n",
       "      <td>Winning Post 8 2016</td>\n",
       "      <td>PSV</td>\n",
       "      <td>2016</td>\n",
       "      <td>Simulation</td>\n",
       "      <td>0</td>\n",
       "      <td>0</td>\n",
       "      <td>0</td>\n",
       "      <td>0</td>\n",
       "      <td>&lt;NA&gt;</td>\n",
       "      <td>NaN</td>\n",
       "      <td>tbd</td>\n",
       "      <td>0</td>\n",
       "    </tr>\n",
       "  </tbody>\n",
       "</table>\n",
       "<p>16713 rows × 12 columns</p>\n",
       "</div>"
      ],
      "text/plain": [
       "                                name platform  year_of_release         genre  \\\n",
       "0                         Wii Sports      Wii             2006        Sports   \n",
       "1                  Super Mario Bros.      NES             1985      Platform   \n",
       "2                     Mario Kart Wii      Wii             2008        Racing   \n",
       "3                  Wii Sports Resort      Wii             2009        Sports   \n",
       "4           Pokemon Red/Pokemon Blue       GB             1996  Role-Playing   \n",
       "...                              ...      ...              ...           ...   \n",
       "16710  Samurai Warriors: Sanada Maru      PS3             2016        Action   \n",
       "16711               LMA Manager 2007     X360             2006        Sports   \n",
       "16712        Haitaka no Psychedelica      PSV             2016     Adventure   \n",
       "16713               Spirits & Spells      GBA             2003      Platform   \n",
       "16714            Winning Post 8 2016      PSV             2016    Simulation   \n",
       "\n",
       "       na_sales  eu_sales  jp_sales  other_sales  critic_score user_score  \\\n",
       "0            41        29         4            8            76          8   \n",
       "1            29         4         7            1          <NA>        NaN   \n",
       "2            16        13         4            3            82        8.3   \n",
       "3            16        11         3            3            80          8   \n",
       "4            11         9        10            1          <NA>        NaN   \n",
       "...         ...       ...       ...          ...           ...        ...   \n",
       "16710         0         0         0            0          <NA>        NaN   \n",
       "16711         0         0         0            0          <NA>        NaN   \n",
       "16712         0         0         0            0          <NA>        NaN   \n",
       "16713         0         0         0            0          <NA>        NaN   \n",
       "16714         0         0         0            0          <NA>        NaN   \n",
       "\n",
       "      rating  sum_sales  \n",
       "0          E         82  \n",
       "1        tbd         41  \n",
       "2          E         36  \n",
       "3          E         33  \n",
       "4        tbd         31  \n",
       "...      ...        ...  \n",
       "16710    tbd          0  \n",
       "16711    tbd          0  \n",
       "16712    tbd          0  \n",
       "16713    tbd          0  \n",
       "16714    tbd          0  \n",
       "\n",
       "[16713 rows x 12 columns]"
      ]
     },
     "metadata": {},
     "output_type": "display_data"
    }
   ],
   "source": [
    "data['sum_sales'] = data['na_sales'] + data['eu_sales'] + data['jp_sales'] + data['other_sales'] # добавляю столбец с суммой продаж во всех регионах\n",
    "display(data)"
   ]
  },
  {
   "cell_type": "markdown",
   "metadata": {},
   "source": [
    "**Вывод**"
   ]
  },
  {
   "cell_type": "markdown",
   "metadata": {},
   "source": [
    "Предобработка обнаружила три проблемы в данных:\n",
    "\n",
    "- нарушения в стиле заголовков,\n",
    "- пропущенные значения\n",
    "- неккоректные типы данных\n",
    "\n",
    "Мы исправили заголовки и типы данных, чтобы упростить работу с таблицей. \n",
    "\n",
    "Пропущенные значения в столбце 'rating' мы заменили на `'tbd'`. Ещё предстоит увидеть, не повредят ли исследованию пропуски в колонке остальных столбцах.\n",
    "\n",
    "Также подсчитали суммарные продажи во всех регионах. "
   ]
  },
  {
   "cell_type": "markdown",
   "metadata": {},
   "source": [
    "## Исследовательский анализ данных"
   ]
  },
  {
   "cell_type": "markdown",
   "metadata": {},
   "source": [
    "### Посчёт игр по годам"
   ]
  },
  {
   "cell_type": "code",
   "execution_count": 14,
   "metadata": {
    "scrolled": false
   },
   "outputs": [
    {
     "data": {
      "text/html": [
       "<div>\n",
       "<style scoped>\n",
       "    .dataframe tbody tr th:only-of-type {\n",
       "        vertical-align: middle;\n",
       "    }\n",
       "\n",
       "    .dataframe tbody tr th {\n",
       "        vertical-align: top;\n",
       "    }\n",
       "\n",
       "    .dataframe thead tr th {\n",
       "        text-align: left;\n",
       "    }\n",
       "\n",
       "    .dataframe thead tr:last-of-type th {\n",
       "        text-align: right;\n",
       "    }\n",
       "</style>\n",
       "<table border=\"1\" class=\"dataframe\">\n",
       "  <thead>\n",
       "    <tr>\n",
       "      <th></th>\n",
       "      <th>count</th>\n",
       "    </tr>\n",
       "    <tr>\n",
       "      <th></th>\n",
       "      <th>name</th>\n",
       "    </tr>\n",
       "    <tr>\n",
       "      <th>year_of_release</th>\n",
       "      <th></th>\n",
       "    </tr>\n",
       "  </thead>\n",
       "  <tbody>\n",
       "    <tr>\n",
       "      <th>1980</th>\n",
       "      <td>9</td>\n",
       "    </tr>\n",
       "    <tr>\n",
       "      <th>1981</th>\n",
       "      <td>46</td>\n",
       "    </tr>\n",
       "    <tr>\n",
       "      <th>1982</th>\n",
       "      <td>36</td>\n",
       "    </tr>\n",
       "    <tr>\n",
       "      <th>1983</th>\n",
       "      <td>17</td>\n",
       "    </tr>\n",
       "    <tr>\n",
       "      <th>1984</th>\n",
       "      <td>14</td>\n",
       "    </tr>\n",
       "    <tr>\n",
       "      <th>1985</th>\n",
       "      <td>14</td>\n",
       "    </tr>\n",
       "    <tr>\n",
       "      <th>1986</th>\n",
       "      <td>21</td>\n",
       "    </tr>\n",
       "    <tr>\n",
       "      <th>1987</th>\n",
       "      <td>16</td>\n",
       "    </tr>\n",
       "    <tr>\n",
       "      <th>1988</th>\n",
       "      <td>15</td>\n",
       "    </tr>\n",
       "    <tr>\n",
       "      <th>1989</th>\n",
       "      <td>17</td>\n",
       "    </tr>\n",
       "    <tr>\n",
       "      <th>1990</th>\n",
       "      <td>16</td>\n",
       "    </tr>\n",
       "    <tr>\n",
       "      <th>1991</th>\n",
       "      <td>41</td>\n",
       "    </tr>\n",
       "    <tr>\n",
       "      <th>1992</th>\n",
       "      <td>43</td>\n",
       "    </tr>\n",
       "    <tr>\n",
       "      <th>1993</th>\n",
       "      <td>60</td>\n",
       "    </tr>\n",
       "    <tr>\n",
       "      <th>1994</th>\n",
       "      <td>121</td>\n",
       "    </tr>\n",
       "    <tr>\n",
       "      <th>1995</th>\n",
       "      <td>219</td>\n",
       "    </tr>\n",
       "    <tr>\n",
       "      <th>1996</th>\n",
       "      <td>263</td>\n",
       "    </tr>\n",
       "    <tr>\n",
       "      <th>1997</th>\n",
       "      <td>289</td>\n",
       "    </tr>\n",
       "    <tr>\n",
       "      <th>1998</th>\n",
       "      <td>379</td>\n",
       "    </tr>\n",
       "    <tr>\n",
       "      <th>1999</th>\n",
       "      <td>338</td>\n",
       "    </tr>\n",
       "    <tr>\n",
       "      <th>2000</th>\n",
       "      <td>350</td>\n",
       "    </tr>\n",
       "    <tr>\n",
       "      <th>2001</th>\n",
       "      <td>482</td>\n",
       "    </tr>\n",
       "    <tr>\n",
       "      <th>2002</th>\n",
       "      <td>829</td>\n",
       "    </tr>\n",
       "    <tr>\n",
       "      <th>2003</th>\n",
       "      <td>775</td>\n",
       "    </tr>\n",
       "    <tr>\n",
       "      <th>2004</th>\n",
       "      <td>762</td>\n",
       "    </tr>\n",
       "    <tr>\n",
       "      <th>2005</th>\n",
       "      <td>939</td>\n",
       "    </tr>\n",
       "    <tr>\n",
       "      <th>2006</th>\n",
       "      <td>1006</td>\n",
       "    </tr>\n",
       "    <tr>\n",
       "      <th>2007</th>\n",
       "      <td>1197</td>\n",
       "    </tr>\n",
       "    <tr>\n",
       "      <th>2008</th>\n",
       "      <td>1427</td>\n",
       "    </tr>\n",
       "    <tr>\n",
       "      <th>2009</th>\n",
       "      <td>1426</td>\n",
       "    </tr>\n",
       "    <tr>\n",
       "      <th>2010</th>\n",
       "      <td>1255</td>\n",
       "    </tr>\n",
       "    <tr>\n",
       "      <th>2011</th>\n",
       "      <td>1136</td>\n",
       "    </tr>\n",
       "    <tr>\n",
       "      <th>2012</th>\n",
       "      <td>653</td>\n",
       "    </tr>\n",
       "    <tr>\n",
       "      <th>2013</th>\n",
       "      <td>544</td>\n",
       "    </tr>\n",
       "    <tr>\n",
       "      <th>2014</th>\n",
       "      <td>581</td>\n",
       "    </tr>\n",
       "    <tr>\n",
       "      <th>2015</th>\n",
       "      <td>606</td>\n",
       "    </tr>\n",
       "    <tr>\n",
       "      <th>2016</th>\n",
       "      <td>502</td>\n",
       "    </tr>\n",
       "  </tbody>\n",
       "</table>\n",
       "</div>"
      ],
      "text/plain": [
       "                count\n",
       "                 name\n",
       "year_of_release      \n",
       "1980                9\n",
       "1981               46\n",
       "1982               36\n",
       "1983               17\n",
       "1984               14\n",
       "1985               14\n",
       "1986               21\n",
       "1987               16\n",
       "1988               15\n",
       "1989               17\n",
       "1990               16\n",
       "1991               41\n",
       "1992               43\n",
       "1993               60\n",
       "1994              121\n",
       "1995              219\n",
       "1996              263\n",
       "1997              289\n",
       "1998              379\n",
       "1999              338\n",
       "2000              350\n",
       "2001              482\n",
       "2002              829\n",
       "2003              775\n",
       "2004              762\n",
       "2005              939\n",
       "2006             1006\n",
       "2007             1197\n",
       "2008             1427\n",
       "2009             1426\n",
       "2010             1255\n",
       "2011             1136\n",
       "2012              653\n",
       "2013              544\n",
       "2014              581\n",
       "2015              606\n",
       "2016              502"
      ]
     },
     "metadata": {},
     "output_type": "display_data"
    }
   ],
   "source": [
    "data_pivot = data.pivot_table(index=['year_of_release'], values='name', aggfunc=['count']) # делаю сводную таблицу, которая покажет количество игр по годам\n",
    "display(data_pivot) # вывожу на экран данную таблицу"
   ]
  },
  {
   "cell_type": "code",
   "execution_count": 15,
   "metadata": {},
   "outputs": [
    {
     "data": {
      "text/plain": [
       "<AxesSubplot:xlabel='None,None,year_of_release'>"
      ]
     },
     "execution_count": 15,
     "metadata": {},
     "output_type": "execute_result"
    },
    {
     "data": {
      "image/png": "[encoded data removed]",
      "text/plain": [
       "<Figure size 1800x1080 with 1 Axes>"
      ]
     },
     "metadata": {
      "needs_background": "light"
     },
     "output_type": "display_data"
    }
   ],
   "source": [
    "data_pivot.unstack('year_of_release').plot(style='o-', grid=True, figsize=(25,15))"
   ]
  },
  {
   "cell_type": "markdown",
   "metadata": {},
   "source": [
    "С годами (до 2008 года) производство игр растёт. Думаю, количественные данные за все годы по производству игр не так важны, для анализа необходимо выделить актуальные данные по платформам."
   ]
  },
  {
   "cell_type": "markdown",
   "metadata": {},
   "source": [
    "### Анализ изменения продаж по платформам"
   ]
  },
  {
   "cell_type": "code",
   "execution_count": 16,
   "metadata": {
    "scrolled": false
   },
   "outputs": [
    {
     "data": {
      "text/html": [
       "<div>\n",
       "<style scoped>\n",
       "    .dataframe tbody tr th:only-of-type {\n",
       "        vertical-align: middle;\n",
       "    }\n",
       "\n",
       "    .dataframe tbody tr th {\n",
       "        vertical-align: top;\n",
       "    }\n",
       "\n",
       "    .dataframe thead th {\n",
       "        text-align: right;\n",
       "    }\n",
       "</style>\n",
       "<table border=\"1\" class=\"dataframe\">\n",
       "  <thead>\n",
       "    <tr style=\"text-align: right;\">\n",
       "      <th></th>\n",
       "      <th>sum_sales</th>\n",
       "    </tr>\n",
       "    <tr>\n",
       "      <th>platform</th>\n",
       "      <th></th>\n",
       "    </tr>\n",
       "  </thead>\n",
       "  <tbody>\n",
       "    <tr>\n",
       "      <th>PS2</th>\n",
       "      <td>801</td>\n",
       "    </tr>\n",
       "    <tr>\n",
       "      <th>X360</th>\n",
       "      <td>705</td>\n",
       "    </tr>\n",
       "    <tr>\n",
       "      <th>Wii</th>\n",
       "      <td>656</td>\n",
       "    </tr>\n",
       "    <tr>\n",
       "      <th>PS3</th>\n",
       "      <td>599</td>\n",
       "    </tr>\n",
       "    <tr>\n",
       "      <th>DS</th>\n",
       "      <td>505</td>\n",
       "    </tr>\n",
       "    <tr>\n",
       "      <th>PS</th>\n",
       "      <td>459</td>\n",
       "    </tr>\n",
       "    <tr>\n",
       "      <th>GB</th>\n",
       "      <td>243</td>\n",
       "    </tr>\n",
       "    <tr>\n",
       "      <th>NES</th>\n",
       "      <td>233</td>\n",
       "    </tr>\n",
       "    <tr>\n",
       "      <th>PS4</th>\n",
       "      <td>229</td>\n",
       "    </tr>\n",
       "    <tr>\n",
       "      <th>PC</th>\n",
       "      <td>173</td>\n",
       "    </tr>\n",
       "  </tbody>\n",
       "</table>\n",
       "</div>"
      ],
      "text/plain": [
       "          sum_sales\n",
       "platform           \n",
       "PS2             801\n",
       "X360            705\n",
       "Wii             656\n",
       "PS3             599\n",
       "DS              505\n",
       "PS              459\n",
       "GB              243\n",
       "NES             233\n",
       "PS4             229\n",
       "PC              173"
      ]
     },
     "metadata": {},
     "output_type": "display_data"
    }
   ],
   "source": [
    "data_pivot = data.pivot_table(index=['platform'], values='sum_sales', aggfunc=['sum']) # делаю сводную таблицу, которая покажет суммарные продажи по платформам\n",
    "data_pivot.columns = ['sum_sales'] # переименовываю столбец в сводной таблице\n",
    "sorted_data = data_pivot.sort_values(by='sum_sales', ascending=False) # сортирую значения в сводной таблиц по убыванию\n",
    "display(sorted_data.head(10)) # вывожу топ 10 платформ с наибольшими суммарными продажами на экран"
   ]
  },
  {
   "cell_type": "markdown",
   "metadata": {},
   "source": [
    "Представленные в сводной таблице платформы имеют наибольшие суммарные продажи"
   ]
  },
  {
   "cell_type": "markdown",
   "metadata": {},
   "source": [
    "Построим распределение суммарных продаж по годам с лучшими по суммарным продажам платформами"
   ]
  },
  {
   "cell_type": "code",
   "execution_count": 17,
   "metadata": {},
   "outputs": [],
   "source": [
    "top_platform_alltime = data.query('platform in [\"PS2\", \"X360\", \"Wii\", \"PS3\", \"DS\", \"PS\", \"GB\", \"NES\", \"PS4\", \"PC\"]') # делаю срез для выделения лучших платформ по суммарным продажам"
   ]
  },
  {
   "cell_type": "code",
   "execution_count": 18,
   "metadata": {
    "scrolled": true
   },
   "outputs": [
    {
     "data": {
      "text/plain": [
       "<AxesSubplot:xlabel='year_of_release'>"
      ]
     },
     "execution_count": 18,
     "metadata": {},
     "output_type": "execute_result"
    },
    {
     "data": {
      "image/png": "[encoded data removed]",
      "text/plain": [
       "<Figure size 1800x1080 with 1 Axes>"
      ]
     },
     "metadata": {
      "needs_background": "light"
     },
     "output_type": "display_data"
    }
   ],
   "source": [
    "top_platform_alltime.groupby(['platform', 'year_of_release'])['sum_sales'].sum().unstack('platform').plot(style='o-', grid=True, figsize=(25,15))"
   ]
  },
  {
   "cell_type": "markdown",
   "metadata": {},
   "source": [
    "Из графика видно, что характерный срок за который появляются новые и исчезают старые платформы составляет примерно 10 лет."
   ]
  },
  {
   "cell_type": "markdown",
   "metadata": {},
   "source": [
    "Сделаем срез данных по актуальному периоду. Актуальным периодом для построения прогноза на 2017 год будем счиать период в характерный срок в 10 лет, определенный выше. Итак, наш актуальный период с 2006 года по 2016."
   ]
  },
  {
   "cell_type": "code",
   "execution_count": 19,
   "metadata": {},
   "outputs": [
    {
     "data": {
      "text/html": [
       "<div>\n",
       "<style scoped>\n",
       "    .dataframe tbody tr th:only-of-type {\n",
       "        vertical-align: middle;\n",
       "    }\n",
       "\n",
       "    .dataframe tbody tr th {\n",
       "        vertical-align: top;\n",
       "    }\n",
       "\n",
       "    .dataframe thead th {\n",
       "        text-align: right;\n",
       "    }\n",
       "</style>\n",
       "<table border=\"1\" class=\"dataframe\">\n",
       "  <thead>\n",
       "    <tr style=\"text-align: right;\">\n",
       "      <th></th>\n",
       "      <th>name</th>\n",
       "      <th>platform</th>\n",
       "      <th>year_of_release</th>\n",
       "      <th>genre</th>\n",
       "      <th>na_sales</th>\n",
       "      <th>eu_sales</th>\n",
       "      <th>jp_sales</th>\n",
       "      <th>other_sales</th>\n",
       "      <th>critic_score</th>\n",
       "      <th>user_score</th>\n",
       "      <th>rating</th>\n",
       "      <th>sum_sales</th>\n",
       "    </tr>\n",
       "  </thead>\n",
       "  <tbody>\n",
       "    <tr>\n",
       "      <th>16</th>\n",
       "      <td>Grand Theft Auto V</td>\n",
       "      <td>PS3</td>\n",
       "      <td>2013</td>\n",
       "      <td>Action</td>\n",
       "      <td>7</td>\n",
       "      <td>9</td>\n",
       "      <td>1</td>\n",
       "      <td>4</td>\n",
       "      <td>97</td>\n",
       "      <td>8.2</td>\n",
       "      <td>M</td>\n",
       "      <td>21</td>\n",
       "    </tr>\n",
       "    <tr>\n",
       "      <th>23</th>\n",
       "      <td>Grand Theft Auto V</td>\n",
       "      <td>X360</td>\n",
       "      <td>2013</td>\n",
       "      <td>Action</td>\n",
       "      <td>10</td>\n",
       "      <td>5</td>\n",
       "      <td>0</td>\n",
       "      <td>1</td>\n",
       "      <td>97</td>\n",
       "      <td>8.1</td>\n",
       "      <td>M</td>\n",
       "      <td>16</td>\n",
       "    </tr>\n",
       "    <tr>\n",
       "      <th>29</th>\n",
       "      <td>Call of Duty: Modern Warfare 3</td>\n",
       "      <td>X360</td>\n",
       "      <td>2011</td>\n",
       "      <td>Shooter</td>\n",
       "      <td>9</td>\n",
       "      <td>4</td>\n",
       "      <td>0</td>\n",
       "      <td>1</td>\n",
       "      <td>88</td>\n",
       "      <td>3.4</td>\n",
       "      <td>M</td>\n",
       "      <td>14</td>\n",
       "    </tr>\n",
       "    <tr>\n",
       "      <th>31</th>\n",
       "      <td>Call of Duty: Black Ops 3</td>\n",
       "      <td>PS4</td>\n",
       "      <td>2015</td>\n",
       "      <td>Shooter</td>\n",
       "      <td>6</td>\n",
       "      <td>6</td>\n",
       "      <td>0</td>\n",
       "      <td>2</td>\n",
       "      <td>&lt;NA&gt;</td>\n",
       "      <td>NaN</td>\n",
       "      <td>tbd</td>\n",
       "      <td>14</td>\n",
       "    </tr>\n",
       "    <tr>\n",
       "      <th>33</th>\n",
       "      <td>Pokemon X/Pokemon Y</td>\n",
       "      <td>3DS</td>\n",
       "      <td>2013</td>\n",
       "      <td>Role-Playing</td>\n",
       "      <td>5</td>\n",
       "      <td>4</td>\n",
       "      <td>4</td>\n",
       "      <td>1</td>\n",
       "      <td>&lt;NA&gt;</td>\n",
       "      <td>NaN</td>\n",
       "      <td>tbd</td>\n",
       "      <td>14</td>\n",
       "    </tr>\n",
       "    <tr>\n",
       "      <th>34</th>\n",
       "      <td>Call of Duty: Black Ops II</td>\n",
       "      <td>PS3</td>\n",
       "      <td>2012</td>\n",
       "      <td>Shooter</td>\n",
       "      <td>5</td>\n",
       "      <td>6</td>\n",
       "      <td>1</td>\n",
       "      <td>2</td>\n",
       "      <td>83</td>\n",
       "      <td>5.3</td>\n",
       "      <td>M</td>\n",
       "      <td>14</td>\n",
       "    </tr>\n",
       "    <tr>\n",
       "      <th>35</th>\n",
       "      <td>Call of Duty: Black Ops II</td>\n",
       "      <td>X360</td>\n",
       "      <td>2012</td>\n",
       "      <td>Shooter</td>\n",
       "      <td>8</td>\n",
       "      <td>4</td>\n",
       "      <td>0</td>\n",
       "      <td>1</td>\n",
       "      <td>83</td>\n",
       "      <td>4.8</td>\n",
       "      <td>M</td>\n",
       "      <td>13</td>\n",
       "    </tr>\n",
       "    <tr>\n",
       "      <th>37</th>\n",
       "      <td>Call of Duty: Modern Warfare 3</td>\n",
       "      <td>PS3</td>\n",
       "      <td>2011</td>\n",
       "      <td>Shooter</td>\n",
       "      <td>6</td>\n",
       "      <td>6</td>\n",
       "      <td>0</td>\n",
       "      <td>2</td>\n",
       "      <td>88</td>\n",
       "      <td>3.2</td>\n",
       "      <td>M</td>\n",
       "      <td>14</td>\n",
       "    </tr>\n",
       "    <tr>\n",
       "      <th>40</th>\n",
       "      <td>Mario Kart 7</td>\n",
       "      <td>3DS</td>\n",
       "      <td>2011</td>\n",
       "      <td>Racing</td>\n",
       "      <td>5</td>\n",
       "      <td>4</td>\n",
       "      <td>3</td>\n",
       "      <td>1</td>\n",
       "      <td>85</td>\n",
       "      <td>8.2</td>\n",
       "      <td>E</td>\n",
       "      <td>13</td>\n",
       "    </tr>\n",
       "    <tr>\n",
       "      <th>42</th>\n",
       "      <td>Grand Theft Auto V</td>\n",
       "      <td>PS4</td>\n",
       "      <td>2014</td>\n",
       "      <td>Action</td>\n",
       "      <td>4</td>\n",
       "      <td>6</td>\n",
       "      <td>0</td>\n",
       "      <td>2</td>\n",
       "      <td>97</td>\n",
       "      <td>8.3</td>\n",
       "      <td>M</td>\n",
       "      <td>12</td>\n",
       "    </tr>\n",
       "    <tr>\n",
       "      <th>47</th>\n",
       "      <td>Pokemon Omega Ruby/Pokemon Alpha Sapphire</td>\n",
       "      <td>3DS</td>\n",
       "      <td>2014</td>\n",
       "      <td>Role-Playing</td>\n",
       "      <td>4</td>\n",
       "      <td>3</td>\n",
       "      <td>3</td>\n",
       "      <td>1</td>\n",
       "      <td>&lt;NA&gt;</td>\n",
       "      <td>NaN</td>\n",
       "      <td>tbd</td>\n",
       "      <td>11</td>\n",
       "    </tr>\n",
       "    <tr>\n",
       "      <th>53</th>\n",
       "      <td>Super Mario 3D Land</td>\n",
       "      <td>3DS</td>\n",
       "      <td>2011</td>\n",
       "      <td>Platform</td>\n",
       "      <td>5</td>\n",
       "      <td>3</td>\n",
       "      <td>2</td>\n",
       "      <td>1</td>\n",
       "      <td>90</td>\n",
       "      <td>8.4</td>\n",
       "      <td>E</td>\n",
       "      <td>11</td>\n",
       "    </tr>\n",
       "    <tr>\n",
       "      <th>60</th>\n",
       "      <td>Call of Duty: Ghosts</td>\n",
       "      <td>X360</td>\n",
       "      <td>2013</td>\n",
       "      <td>Shooter</td>\n",
       "      <td>7</td>\n",
       "      <td>3</td>\n",
       "      <td>0</td>\n",
       "      <td>1</td>\n",
       "      <td>73</td>\n",
       "      <td>2.6</td>\n",
       "      <td>M</td>\n",
       "      <td>11</td>\n",
       "    </tr>\n",
       "    <tr>\n",
       "      <th>61</th>\n",
       "      <td>Just Dance 3</td>\n",
       "      <td>Wii</td>\n",
       "      <td>2011</td>\n",
       "      <td>Misc</td>\n",
       "      <td>6</td>\n",
       "      <td>3</td>\n",
       "      <td>0</td>\n",
       "      <td>1</td>\n",
       "      <td>74</td>\n",
       "      <td>7.8</td>\n",
       "      <td>E10+</td>\n",
       "      <td>10</td>\n",
       "    </tr>\n",
       "    <tr>\n",
       "      <th>62</th>\n",
       "      <td>New Super Mario Bros. 2</td>\n",
       "      <td>3DS</td>\n",
       "      <td>2012</td>\n",
       "      <td>Platform</td>\n",
       "      <td>4</td>\n",
       "      <td>3</td>\n",
       "      <td>2</td>\n",
       "      <td>1</td>\n",
       "      <td>78</td>\n",
       "      <td>7.2</td>\n",
       "      <td>E</td>\n",
       "      <td>10</td>\n",
       "    </tr>\n",
       "    <tr>\n",
       "      <th>66</th>\n",
       "      <td>Halo 4</td>\n",
       "      <td>X360</td>\n",
       "      <td>2012</td>\n",
       "      <td>Shooter</td>\n",
       "      <td>7</td>\n",
       "      <td>2</td>\n",
       "      <td>0</td>\n",
       "      <td>1</td>\n",
       "      <td>87</td>\n",
       "      <td>7</td>\n",
       "      <td>M</td>\n",
       "      <td>10</td>\n",
       "    </tr>\n",
       "    <tr>\n",
       "      <th>69</th>\n",
       "      <td>Call of Duty: Ghosts</td>\n",
       "      <td>PS3</td>\n",
       "      <td>2013</td>\n",
       "      <td>Shooter</td>\n",
       "      <td>4</td>\n",
       "      <td>4</td>\n",
       "      <td>0</td>\n",
       "      <td>1</td>\n",
       "      <td>71</td>\n",
       "      <td>2.6</td>\n",
       "      <td>M</td>\n",
       "      <td>9</td>\n",
       "    </tr>\n",
       "    <tr>\n",
       "      <th>72</th>\n",
       "      <td>Minecraft</td>\n",
       "      <td>X360</td>\n",
       "      <td>2013</td>\n",
       "      <td>Misc</td>\n",
       "      <td>6</td>\n",
       "      <td>3</td>\n",
       "      <td>0</td>\n",
       "      <td>1</td>\n",
       "      <td>&lt;NA&gt;</td>\n",
       "      <td>NaN</td>\n",
       "      <td>tbd</td>\n",
       "      <td>10</td>\n",
       "    </tr>\n",
       "    <tr>\n",
       "      <th>73</th>\n",
       "      <td>Animal Crossing: New Leaf</td>\n",
       "      <td>3DS</td>\n",
       "      <td>2012</td>\n",
       "      <td>Simulation</td>\n",
       "      <td>2</td>\n",
       "      <td>2</td>\n",
       "      <td>4</td>\n",
       "      <td>0</td>\n",
       "      <td>88</td>\n",
       "      <td>8.7</td>\n",
       "      <td>E</td>\n",
       "      <td>8</td>\n",
       "    </tr>\n",
       "    <tr>\n",
       "      <th>75</th>\n",
       "      <td>The Elder Scrolls V: Skyrim</td>\n",
       "      <td>X360</td>\n",
       "      <td>2011</td>\n",
       "      <td>Role-Playing</td>\n",
       "      <td>5</td>\n",
       "      <td>3</td>\n",
       "      <td>0</td>\n",
       "      <td>1</td>\n",
       "      <td>96</td>\n",
       "      <td>8.4</td>\n",
       "      <td>M</td>\n",
       "      <td>9</td>\n",
       "    </tr>\n",
       "  </tbody>\n",
       "</table>\n",
       "</div>"
      ],
      "text/plain": [
       "                                         name platform  year_of_release  \\\n",
       "16                         Grand Theft Auto V      PS3             2013   \n",
       "23                         Grand Theft Auto V     X360             2013   \n",
       "29             Call of Duty: Modern Warfare 3     X360             2011   \n",
       "31                  Call of Duty: Black Ops 3      PS4             2015   \n",
       "33                        Pokemon X/Pokemon Y      3DS             2013   \n",
       "34                 Call of Duty: Black Ops II      PS3             2012   \n",
       "35                 Call of Duty: Black Ops II     X360             2012   \n",
       "37             Call of Duty: Modern Warfare 3      PS3             2011   \n",
       "40                               Mario Kart 7      3DS             2011   \n",
       "42                         Grand Theft Auto V      PS4             2014   \n",
       "47  Pokemon Omega Ruby/Pokemon Alpha Sapphire      3DS             2014   \n",
       "53                        Super Mario 3D Land      3DS             2011   \n",
       "60                       Call of Duty: Ghosts     X360             2013   \n",
       "61                               Just Dance 3      Wii             2011   \n",
       "62                    New Super Mario Bros. 2      3DS             2012   \n",
       "66                                     Halo 4     X360             2012   \n",
       "69                       Call of Duty: Ghosts      PS3             2013   \n",
       "72                                  Minecraft     X360             2013   \n",
       "73                  Animal Crossing: New Leaf      3DS             2012   \n",
       "75                The Elder Scrolls V: Skyrim     X360             2011   \n",
       "\n",
       "           genre  na_sales  eu_sales  jp_sales  other_sales  critic_score  \\\n",
       "16        Action         7         9         1            4            97   \n",
       "23        Action        10         5         0            1            97   \n",
       "29       Shooter         9         4         0            1            88   \n",
       "31       Shooter         6         6         0            2          <NA>   \n",
       "33  Role-Playing         5         4         4            1          <NA>   \n",
       "34       Shooter         5         6         1            2            83   \n",
       "35       Shooter         8         4         0            1            83   \n",
       "37       Shooter         6         6         0            2            88   \n",
       "40        Racing         5         4         3            1            85   \n",
       "42        Action         4         6         0            2            97   \n",
       "47  Role-Playing         4         3         3            1          <NA>   \n",
       "53      Platform         5         3         2            1            90   \n",
       "60       Shooter         7         3         0            1            73   \n",
       "61          Misc         6         3         0            1            74   \n",
       "62      Platform         4         3         2            1            78   \n",
       "66       Shooter         7         2         0            1            87   \n",
       "69       Shooter         4         4         0            1            71   \n",
       "72          Misc         6         3         0            1          <NA>   \n",
       "73    Simulation         2         2         4            0            88   \n",
       "75  Role-Playing         5         3         0            1            96   \n",
       "\n",
       "   user_score rating  sum_sales  \n",
       "16        8.2      M         21  \n",
       "23        8.1      M         16  \n",
       "29        3.4      M         14  \n",
       "31        NaN    tbd         14  \n",
       "33        NaN    tbd         14  \n",
       "34        5.3      M         14  \n",
       "35        4.8      M         13  \n",
       "37        3.2      M         14  \n",
       "40        8.2      E         13  \n",
       "42        8.3      M         12  \n",
       "47        NaN    tbd         11  \n",
       "53        8.4      E         11  \n",
       "60        2.6      M         11  \n",
       "61        7.8   E10+         10  \n",
       "62        7.2      E         10  \n",
       "66          7      M         10  \n",
       "69        2.6      M          9  \n",
       "72        NaN    tbd         10  \n",
       "73        8.7      E          8  \n",
       "75        8.4      M          9  "
      ]
     },
     "metadata": {},
     "output_type": "display_data"
    }
   ],
   "source": [
    "actual_data = data[(data['year_of_release'] >= 2011) & (data['year_of_release'] <= 2016)]\n",
    "display(actual_data.head(20))"
   ]
  },
  {
   "cell_type": "markdown",
   "metadata": {},
   "source": [
    "### Выбор потенциально прибыльных платформ"
   ]
  },
  {
   "cell_type": "code",
   "execution_count": 20,
   "metadata": {
    "scrolled": true
   },
   "outputs": [
    {
     "data": {
      "text/html": [
       "<div>\n",
       "<style scoped>\n",
       "    .dataframe tbody tr th:only-of-type {\n",
       "        vertical-align: middle;\n",
       "    }\n",
       "\n",
       "    .dataframe tbody tr th {\n",
       "        vertical-align: top;\n",
       "    }\n",
       "\n",
       "    .dataframe thead th {\n",
       "        text-align: right;\n",
       "    }\n",
       "</style>\n",
       "<table border=\"1\" class=\"dataframe\">\n",
       "  <thead>\n",
       "    <tr style=\"text-align: right;\">\n",
       "      <th></th>\n",
       "      <th>sum_sales</th>\n",
       "    </tr>\n",
       "    <tr>\n",
       "      <th>platform</th>\n",
       "      <th></th>\n",
       "    </tr>\n",
       "  </thead>\n",
       "  <tbody>\n",
       "    <tr>\n",
       "      <th>PS3</th>\n",
       "      <td>280</td>\n",
       "    </tr>\n",
       "    <tr>\n",
       "      <th>X360</th>\n",
       "      <td>274</td>\n",
       "    </tr>\n",
       "    <tr>\n",
       "      <th>PS4</th>\n",
       "      <td>229</td>\n",
       "    </tr>\n",
       "    <tr>\n",
       "      <th>3DS</th>\n",
       "      <td>164</td>\n",
       "    </tr>\n",
       "    <tr>\n",
       "      <th>XOne</th>\n",
       "      <td>108</td>\n",
       "    </tr>\n",
       "    <tr>\n",
       "      <th>Wii</th>\n",
       "      <td>56</td>\n",
       "    </tr>\n",
       "    <tr>\n",
       "      <th>WiiU</th>\n",
       "      <td>46</td>\n",
       "    </tr>\n",
       "    <tr>\n",
       "      <th>PC</th>\n",
       "      <td>43</td>\n",
       "    </tr>\n",
       "    <tr>\n",
       "      <th>DS</th>\n",
       "      <td>17</td>\n",
       "    </tr>\n",
       "    <tr>\n",
       "      <th>PSV</th>\n",
       "      <td>7</td>\n",
       "    </tr>\n",
       "  </tbody>\n",
       "</table>\n",
       "</div>"
      ],
      "text/plain": [
       "          sum_sales\n",
       "platform           \n",
       "PS3             280\n",
       "X360            274\n",
       "PS4             229\n",
       "3DS             164\n",
       "XOne            108\n",
       "Wii              56\n",
       "WiiU             46\n",
       "PC               43\n",
       "DS               17\n",
       "PSV               7"
      ]
     },
     "metadata": {},
     "output_type": "display_data"
    }
   ],
   "source": [
    "data_pivot = actual_data.pivot_table(index=['platform'], values='sum_sales', aggfunc=['sum']) # делаю сводную таблицу, которая покажет суммарные продажи по платформам по актуальным данным\n",
    "data_pivot.columns = ['sum_sales'] # переименовываю столбец в сводной таблице\n",
    "sorted_data = data_pivot.sort_values(by='sum_sales', ascending=False) # сортирую значения в сводной таблиц по убыванию\n",
    "display(sorted_data.head(10)) # вывожу топ 10 платформ с наибольшими суммарными продажами на экран"
   ]
  },
  {
   "cell_type": "markdown",
   "metadata": {},
   "source": [
    "Представленные в сводной таблице платформы имеют наибольшие суммарные продажи"
   ]
  },
  {
   "cell_type": "markdown",
   "metadata": {},
   "source": [
    "Построим распределение суммарных продаж по годам с лучшими по суммарным продажам платформами для актуального переиода"
   ]
  },
  {
   "cell_type": "code",
   "execution_count": 21,
   "metadata": {},
   "outputs": [],
   "source": [
    "top_platform_data = actual_data.query('platform in [\"PS3\", \"X360\", \"PS4\", \"DS\", \"3DS\", \"XOne\", \"Wii\", \"WiiU\", \"PC\", \"PSV\"]')  # делаю срез для выделения лучших платформ по суммарным продажам"
   ]
  },
  {
   "cell_type": "code",
   "execution_count": 22,
   "metadata": {},
   "outputs": [
    {
     "data": {
      "text/plain": [
       "<AxesSubplot:xlabel='year_of_release'>"
      ]
     },
     "execution_count": 22,
     "metadata": {},
     "output_type": "execute_result"
    },
    {
     "data": {
      "image/png": "[encoded data removed]",
      "text/plain": [
       "<Figure size 1440x1080 with 1 Axes>"
      ]
     },
     "metadata": {
      "needs_background": "light"
     },
     "output_type": "display_data"
    }
   ],
   "source": [
    "top_platform_data.groupby(['platform', 'year_of_release'])['sum_sales'].sum().unstack('platform').plot(style='o-', grid=True, figsize=(20,15))"
   ]
  },
  {
   "cell_type": "markdown",
   "metadata": {},
   "source": [
    "На графике видно, что снижение продаж наблюдается по всем платформам. Но попробуем выделить среди них потенциально прибылиные. Платформы DS, PC, PS2, PS3, PSP, Wii, X360 либо уже прекратили своё существование, либо находятся на завершающей стадии существования. В то время как самые \"молодые\" платоформы 'PS4', 'XOne', '3DS' ещё могут дать потенциальную прибыль."
   ]
  },
  {
   "cell_type": "markdown",
   "metadata": {},
   "source": [
    "### Анализ продаж"
   ]
  },
  {
   "cell_type": "markdown",
   "metadata": {},
   "source": [
    "Постройте график «ящик с усами» по глобальным продажам игр в разбивке по платформам"
   ]
  },
  {
   "cell_type": "code",
   "execution_count": 23,
   "metadata": {},
   "outputs": [],
   "source": [
    "profit_platform_data = actual_data.query('platform in [\"PS4\", \"3DS\",\"XOne\"] and sum_sales != 0')  # делаю срез для выделения потенциально выгодных платформ\n"
   ]
  },
  {
   "cell_type": "code",
   "execution_count": 24,
   "metadata": {
    "scrolled": true
   },
   "outputs": [
    {
     "data": {
      "image/png": "[encoded data removed]",
      "text/plain": [
       "<Figure size 1080x720 with 1 Axes>"
      ]
     },
     "metadata": {},
     "output_type": "display_data"
    }
   ],
   "source": [
    "sns.set(rc = {'figure.figsize':(15,10)})\n",
    "fig=plt.figure()\n",
    "ax=fig.add_subplot(111, label=\"1\")\n",
    "\n",
    "ax = sns.boxplot(x=\"platform\", y=\"sum_sales\", data=profit_platform_data)\n",
    "ax.set_xlabel(\"Платформа\", color=\"C1\", fontsize=16)\n",
    "ax.set_ylabel(\"Всего продаж\", color=\"C1\", fontsize=16)\n",
    "ax.set_ylim(0, 10)\n",
    "plt.title(\"Продажи по платформам\", fontsize=18)\n",
    "plt.xticks(fontsize=20)\n",
    "plt.show()"
   ]
  },
  {
   "cell_type": "markdown",
   "metadata": {},
   "source": [
    "Разброс значений продаж очень велик, это подтверждает график. Выбросы связаны с тем, что разные игры имеют разное количество проданых копий, в зависимости от популярности игры, по графику видно что на всех платформах есть ведущие игры с большим количеством проданных копий."
   ]
  },
  {
   "cell_type": "markdown",
   "metadata": {},
   "source": [
    "Посмотрим, как влияют на продажи внутри одной популярной платформы отзывы пользователей и критиков. Постройм диаграмму рассеяния и посчитаем корреляцию между отзывами и продажами для изучения зависимости между этими величинами. "
   ]
  },
  {
   "cell_type": "code",
   "execution_count": 25,
   "metadata": {
    "scrolled": false
   },
   "outputs": [],
   "source": [
    "PS4_platform_data = top_platform_data.query('platform in \"PS4\"')  # делаю срез для выделения потенциально выгодной платформы"
   ]
  },
  {
   "cell_type": "code",
   "execution_count": 26,
   "metadata": {},
   "outputs": [],
   "source": [
    "PS4_platform_data = PS4_platform_data.query('user_score != \"tbd\"') # делаю срез в столбце с оценками пользователей, что бы исключить не определённые значения\n",
    "PS4_platform_data = PS4_platform_data.dropna() # удаляем отсутствующие значения\n",
    "PS4_platform_data['user_score'] = PS4_platform_data['user_score'].astype('float64') # заменяю тип данных в столбце с пользователями для расчёта"
   ]
  },
  {
   "cell_type": "code",
   "execution_count": 27,
   "metadata": {
    "scrolled": false
   },
   "outputs": [
    {
     "name": "stderr",
     "output_type": "stream",
     "text": [
      "*c* argument looks like a single numeric RGB or RGBA sequence, which should be avoided as value-mapping will have precedence in case its length matches with *x* & *y*.  Please use the *color* keyword-argument or provide a 2-D array with a single row if you intend to specify the same RGB or RGBA value for all points.\n"
     ]
    },
    {
     "data": {
      "text/plain": [
       "<AxesSubplot:xlabel='critic_score', ylabel='sum_sales'>"
      ]
     },
     "execution_count": 27,
     "metadata": {},
     "output_type": "execute_result"
    },
    {
     "data": {
      "image/png": "[encoded data removed]",
      "text/plain": [
       "<Figure size 1080x720 with 1 Axes>"
      ]
     },
     "metadata": {},
     "output_type": "display_data"
    }
   ],
   "source": [
    "PS4_platform_data.plot(x='critic_score', y='sum_sales', kind='scatter', alpha=0.8) # строю диаграмму рассеяния для нужных данных"
   ]
  },
  {
   "cell_type": "code",
   "execution_count": 28,
   "metadata": {},
   "outputs": [
    {
     "name": "stderr",
     "output_type": "stream",
     "text": [
      "*c* argument looks like a single numeric RGB or RGBA sequence, which should be avoided as value-mapping will have precedence in case its length matches with *x* & *y*.  Please use the *color* keyword-argument or provide a 2-D array with a single row if you intend to specify the same RGB or RGBA value for all points.\n"
     ]
    },
    {
     "data": {
      "text/plain": [
       "<AxesSubplot:xlabel='user_score', ylabel='sum_sales'>"
      ]
     },
     "execution_count": 28,
     "metadata": {},
     "output_type": "execute_result"
    },
    {
     "data": {
      "image/png": "[encoded data removed]",
      "text/plain": [
       "<Figure size 1080x720 with 1 Axes>"
      ]
     },
     "metadata": {},
     "output_type": "display_data"
    }
   ],
   "source": [
    "PS4_platform_data.plot(x='user_score', y='sum_sales', kind='scatter', alpha=0.8) # строю диаграмму рассеяния для нужных данных"
   ]
  },
  {
   "cell_type": "code",
   "execution_count": 29,
   "metadata": {
    "scrolled": false
   },
   "outputs": [
    {
     "data": {
      "text/html": [
       "<div>\n",
       "<style scoped>\n",
       "    .dataframe tbody tr th:only-of-type {\n",
       "        vertical-align: middle;\n",
       "    }\n",
       "\n",
       "    .dataframe tbody tr th {\n",
       "        vertical-align: top;\n",
       "    }\n",
       "\n",
       "    .dataframe thead th {\n",
       "        text-align: right;\n",
       "    }\n",
       "</style>\n",
       "<table border=\"1\" class=\"dataframe\">\n",
       "  <thead>\n",
       "    <tr style=\"text-align: right;\">\n",
       "      <th></th>\n",
       "      <th>year_of_release</th>\n",
       "      <th>na_sales</th>\n",
       "      <th>eu_sales</th>\n",
       "      <th>jp_sales</th>\n",
       "      <th>other_sales</th>\n",
       "      <th>critic_score</th>\n",
       "      <th>user_score</th>\n",
       "      <th>sum_sales</th>\n",
       "    </tr>\n",
       "  </thead>\n",
       "  <tbody>\n",
       "    <tr>\n",
       "      <th>year_of_release</th>\n",
       "      <td>1.000000</td>\n",
       "      <td>-0.235739</td>\n",
       "      <td>-0.192573</td>\n",
       "      <td>NaN</td>\n",
       "      <td>-0.120456</td>\n",
       "      <td>-0.019983</td>\n",
       "      <td>0.150315</td>\n",
       "      <td>-0.213323</td>\n",
       "    </tr>\n",
       "    <tr>\n",
       "      <th>na_sales</th>\n",
       "      <td>-0.235739</td>\n",
       "      <td>1.000000</td>\n",
       "      <td>0.701807</td>\n",
       "      <td>NaN</td>\n",
       "      <td>0.747202</td>\n",
       "      <td>0.394685</td>\n",
       "      <td>-0.016370</td>\n",
       "      <td>0.885861</td>\n",
       "    </tr>\n",
       "    <tr>\n",
       "      <th>eu_sales</th>\n",
       "      <td>-0.192573</td>\n",
       "      <td>0.701807</td>\n",
       "      <td>1.000000</td>\n",
       "      <td>NaN</td>\n",
       "      <td>0.789099</td>\n",
       "      <td>0.325222</td>\n",
       "      <td>-0.044793</td>\n",
       "      <td>0.944335</td>\n",
       "    </tr>\n",
       "    <tr>\n",
       "      <th>jp_sales</th>\n",
       "      <td>NaN</td>\n",
       "      <td>NaN</td>\n",
       "      <td>NaN</td>\n",
       "      <td>NaN</td>\n",
       "      <td>NaN</td>\n",
       "      <td>NaN</td>\n",
       "      <td>NaN</td>\n",
       "      <td>NaN</td>\n",
       "    </tr>\n",
       "    <tr>\n",
       "      <th>other_sales</th>\n",
       "      <td>-0.120456</td>\n",
       "      <td>0.747202</td>\n",
       "      <td>0.789099</td>\n",
       "      <td>NaN</td>\n",
       "      <td>1.000000</td>\n",
       "      <td>0.292965</td>\n",
       "      <td>-0.044192</td>\n",
       "      <td>0.885671</td>\n",
       "    </tr>\n",
       "    <tr>\n",
       "      <th>critic_score</th>\n",
       "      <td>-0.019983</td>\n",
       "      <td>0.394685</td>\n",
       "      <td>0.325222</td>\n",
       "      <td>NaN</td>\n",
       "      <td>0.292965</td>\n",
       "      <td>1.000000</td>\n",
       "      <td>0.557654</td>\n",
       "      <td>0.375348</td>\n",
       "    </tr>\n",
       "    <tr>\n",
       "      <th>user_score</th>\n",
       "      <td>0.150315</td>\n",
       "      <td>-0.016370</td>\n",
       "      <td>-0.044793</td>\n",
       "      <td>NaN</td>\n",
       "      <td>-0.044192</td>\n",
       "      <td>0.557654</td>\n",
       "      <td>1.000000</td>\n",
       "      <td>-0.038340</td>\n",
       "    </tr>\n",
       "    <tr>\n",
       "      <th>sum_sales</th>\n",
       "      <td>-0.213323</td>\n",
       "      <td>0.885861</td>\n",
       "      <td>0.944335</td>\n",
       "      <td>NaN</td>\n",
       "      <td>0.885671</td>\n",
       "      <td>0.375348</td>\n",
       "      <td>-0.038340</td>\n",
       "      <td>1.000000</td>\n",
       "    </tr>\n",
       "  </tbody>\n",
       "</table>\n",
       "</div>"
      ],
      "text/plain": [
       "                 year_of_release  na_sales  eu_sales  jp_sales  other_sales  \\\n",
       "year_of_release         1.000000 -0.235739 -0.192573       NaN    -0.120456   \n",
       "na_sales               -0.235739  1.000000  0.701807       NaN     0.747202   \n",
       "eu_sales               -0.192573  0.701807  1.000000       NaN     0.789099   \n",
       "jp_sales                     NaN       NaN       NaN       NaN          NaN   \n",
       "other_sales            -0.120456  0.747202  0.789099       NaN     1.000000   \n",
       "critic_score           -0.019983  0.394685  0.325222       NaN     0.292965   \n",
       "user_score              0.150315 -0.016370 -0.044793       NaN    -0.044192   \n",
       "sum_sales              -0.213323  0.885861  0.944335       NaN     0.885671   \n",
       "\n",
       "                 critic_score  user_score  sum_sales  \n",
       "year_of_release     -0.019983    0.150315  -0.213323  \n",
       "na_sales             0.394685   -0.016370   0.885861  \n",
       "eu_sales             0.325222   -0.044793   0.944335  \n",
       "jp_sales                  NaN         NaN        NaN  \n",
       "other_sales          0.292965   -0.044192   0.885671  \n",
       "critic_score         1.000000    0.557654   0.375348  \n",
       "user_score           0.557654    1.000000  -0.038340  \n",
       "sum_sales            0.375348   -0.038340   1.000000  "
      ]
     },
     "execution_count": 29,
     "metadata": {},
     "output_type": "execute_result"
    }
   ],
   "source": [
    "PS4_platform_data.corr(method ='pearson') # Считаю коэффицент корреляции Пирсона"
   ]
  },
  {
   "cell_type": "markdown",
   "metadata": {},
   "source": [
    "Исходя из полученных результатов: \n",
    "- Имеется взаимосвязь между суммарными продажами и оценкой критиков, коэффициент корреляции Пирсона — положительный и равен 0,38. Корреляция в 0.38 говорит о наличии связи, однако не слишком сильной. Выходит, увеличение оценки критиков сопровождается увеличением продаж, но так бывает не всегда, зависимость начинает особенно проявлятсякогда оценка критиков привышает 60 баллов, что подтверждает диаграмма рассеяния. \n",
    "- Между суммарными продажами и оценкой пользователей взаимосвязи почти нет, коэффициент корреляции Пирсона — отрицательный и равен -0,04, Корреляция в -0.04 говорит о отсутствии связи между величинами. Выходит, изменение оценки пользователей практически не влияет на суммарные продажи, что подтверждает диаграмма рассеяния.\n"
   ]
  },
  {
   "cell_type": "markdown",
   "metadata": {},
   "source": [
    "Посмотрим, как влияют на продажи у других потенциально выгодных платформ отзывы пользователей и критиков. Постройм диаграмму рассеяния и посчитаем корреляцию между отзывами и продажами для изучения зависимости между этими величинами. "
   ]
  },
  {
   "cell_type": "code",
   "execution_count": 30,
   "metadata": {},
   "outputs": [],
   "source": [
    "DS3_platform_data = top_platform_data.query('platform in \"3DS\"')  # делаю срез для выделения потенциально выгодной платформы"
   ]
  },
  {
   "cell_type": "code",
   "execution_count": 31,
   "metadata": {},
   "outputs": [],
   "source": [
    "DS3_platform_data = DS3_platform_data.query('user_score != \"tbd\"') # делаю срез в столбце с оценками пользователей, что бы исключить не определённые значения\n",
    "DS3_platform_data = DS3_platform_data.dropna() # удаляем отсутствующие значения\n",
    "DS3_platform_data['user_score'] = DS3_platform_data['user_score'].astype('float64') # заменяю тип данных в столбце с пользователями для расчёта"
   ]
  },
  {
   "cell_type": "code",
   "execution_count": 32,
   "metadata": {
    "scrolled": true
   },
   "outputs": [
    {
     "data": {
      "text/html": [
       "<div>\n",
       "<style scoped>\n",
       "    .dataframe tbody tr th:only-of-type {\n",
       "        vertical-align: middle;\n",
       "    }\n",
       "\n",
       "    .dataframe tbody tr th {\n",
       "        vertical-align: top;\n",
       "    }\n",
       "\n",
       "    .dataframe thead th {\n",
       "        text-align: right;\n",
       "    }\n",
       "</style>\n",
       "<table border=\"1\" class=\"dataframe\">\n",
       "  <thead>\n",
       "    <tr style=\"text-align: right;\">\n",
       "      <th></th>\n",
       "      <th>year_of_release</th>\n",
       "      <th>na_sales</th>\n",
       "      <th>eu_sales</th>\n",
       "      <th>jp_sales</th>\n",
       "      <th>other_sales</th>\n",
       "      <th>critic_score</th>\n",
       "      <th>user_score</th>\n",
       "      <th>sum_sales</th>\n",
       "    </tr>\n",
       "  </thead>\n",
       "  <tbody>\n",
       "    <tr>\n",
       "      <th>year_of_release</th>\n",
       "      <td>1.000000</td>\n",
       "      <td>-0.077596</td>\n",
       "      <td>-0.054287</td>\n",
       "      <td>-0.033395</td>\n",
       "      <td>-0.110130</td>\n",
       "      <td>0.183561</td>\n",
       "      <td>0.229841</td>\n",
       "      <td>-0.065801</td>\n",
       "    </tr>\n",
       "    <tr>\n",
       "      <th>na_sales</th>\n",
       "      <td>-0.077596</td>\n",
       "      <td>1.000000</td>\n",
       "      <td>0.917677</td>\n",
       "      <td>0.757289</td>\n",
       "      <td>0.869106</td>\n",
       "      <td>0.316588</td>\n",
       "      <td>0.209861</td>\n",
       "      <td>0.969428</td>\n",
       "    </tr>\n",
       "    <tr>\n",
       "      <th>eu_sales</th>\n",
       "      <td>-0.054287</td>\n",
       "      <td>0.917677</td>\n",
       "      <td>1.000000</td>\n",
       "      <td>0.732096</td>\n",
       "      <td>0.869220</td>\n",
       "      <td>0.251092</td>\n",
       "      <td>0.163236</td>\n",
       "      <td>0.952404</td>\n",
       "    </tr>\n",
       "    <tr>\n",
       "      <th>jp_sales</th>\n",
       "      <td>-0.033395</td>\n",
       "      <td>0.757289</td>\n",
       "      <td>0.732096</td>\n",
       "      <td>1.000000</td>\n",
       "      <td>0.559892</td>\n",
       "      <td>0.293634</td>\n",
       "      <td>0.214998</td>\n",
       "      <td>0.868396</td>\n",
       "    </tr>\n",
       "    <tr>\n",
       "      <th>other_sales</th>\n",
       "      <td>-0.110130</td>\n",
       "      <td>0.869106</td>\n",
       "      <td>0.869220</td>\n",
       "      <td>0.559892</td>\n",
       "      <td>1.000000</td>\n",
       "      <td>0.186356</td>\n",
       "      <td>0.103860</td>\n",
       "      <td>0.851986</td>\n",
       "    </tr>\n",
       "    <tr>\n",
       "      <th>critic_score</th>\n",
       "      <td>0.183561</td>\n",
       "      <td>0.316588</td>\n",
       "      <td>0.251092</td>\n",
       "      <td>0.293634</td>\n",
       "      <td>0.186356</td>\n",
       "      <td>1.000000</td>\n",
       "      <td>0.745222</td>\n",
       "      <td>0.305177</td>\n",
       "    </tr>\n",
       "    <tr>\n",
       "      <th>user_score</th>\n",
       "      <td>0.229841</td>\n",
       "      <td>0.209861</td>\n",
       "      <td>0.163236</td>\n",
       "      <td>0.214998</td>\n",
       "      <td>0.103860</td>\n",
       "      <td>0.745222</td>\n",
       "      <td>1.000000</td>\n",
       "      <td>0.206104</td>\n",
       "    </tr>\n",
       "    <tr>\n",
       "      <th>sum_sales</th>\n",
       "      <td>-0.065801</td>\n",
       "      <td>0.969428</td>\n",
       "      <td>0.952404</td>\n",
       "      <td>0.868396</td>\n",
       "      <td>0.851986</td>\n",
       "      <td>0.305177</td>\n",
       "      <td>0.206104</td>\n",
       "      <td>1.000000</td>\n",
       "    </tr>\n",
       "  </tbody>\n",
       "</table>\n",
       "</div>"
      ],
      "text/plain": [
       "                 year_of_release  na_sales  eu_sales  jp_sales  other_sales  \\\n",
       "year_of_release         1.000000 -0.077596 -0.054287 -0.033395    -0.110130   \n",
       "na_sales               -0.077596  1.000000  0.917677  0.757289     0.869106   \n",
       "eu_sales               -0.054287  0.917677  1.000000  0.732096     0.869220   \n",
       "jp_sales               -0.033395  0.757289  0.732096  1.000000     0.559892   \n",
       "other_sales            -0.110130  0.869106  0.869220  0.559892     1.000000   \n",
       "critic_score            0.183561  0.316588  0.251092  0.293634     0.186356   \n",
       "user_score              0.229841  0.209861  0.163236  0.214998     0.103860   \n",
       "sum_sales              -0.065801  0.969428  0.952404  0.868396     0.851986   \n",
       "\n",
       "                 critic_score  user_score  sum_sales  \n",
       "year_of_release      0.183561    0.229841  -0.065801  \n",
       "na_sales             0.316588    0.209861   0.969428  \n",
       "eu_sales             0.251092    0.163236   0.952404  \n",
       "jp_sales             0.293634    0.214998   0.868396  \n",
       "other_sales          0.186356    0.103860   0.851986  \n",
       "critic_score         1.000000    0.745222   0.305177  \n",
       "user_score           0.745222    1.000000   0.206104  \n",
       "sum_sales            0.305177    0.206104   1.000000  "
      ]
     },
     "execution_count": 32,
     "metadata": {},
     "output_type": "execute_result"
    }
   ],
   "source": [
    "DS3_platform_data.corr(method ='pearson') # Считаю коэффицент корреляции Пирсона"
   ]
  },
  {
   "cell_type": "code",
   "execution_count": 33,
   "metadata": {},
   "outputs": [],
   "source": [
    "XOne_platform_data = top_platform_data.query('platform in \"XOne\"')  # делаю срез для выделения потенциально выгодной платформы"
   ]
  },
  {
   "cell_type": "code",
   "execution_count": 34,
   "metadata": {},
   "outputs": [],
   "source": [
    "XOne_platform_data = XOne_platform_data.query('user_score != \"tbd\"') # делаю срез в столбце с оценками пользователей, что бы исключить не определённые значения\n",
    "XOne_platform_data = XOne_platform_data.dropna() # удаляем отсутствующие значения\n",
    "XOne_platform_data['user_score'] = XOne_platform_data['user_score'].astype('float64') # заменяю тип данных в столбце с пользователями для расчёта"
   ]
  },
  {
   "cell_type": "code",
   "execution_count": 35,
   "metadata": {},
   "outputs": [
    {
     "data": {
      "text/html": [
       "<div>\n",
       "<style scoped>\n",
       "    .dataframe tbody tr th:only-of-type {\n",
       "        vertical-align: middle;\n",
       "    }\n",
       "\n",
       "    .dataframe tbody tr th {\n",
       "        vertical-align: top;\n",
       "    }\n",
       "\n",
       "    .dataframe thead th {\n",
       "        text-align: right;\n",
       "    }\n",
       "</style>\n",
       "<table border=\"1\" class=\"dataframe\">\n",
       "  <thead>\n",
       "    <tr style=\"text-align: right;\">\n",
       "      <th></th>\n",
       "      <th>year_of_release</th>\n",
       "      <th>na_sales</th>\n",
       "      <th>eu_sales</th>\n",
       "      <th>jp_sales</th>\n",
       "      <th>other_sales</th>\n",
       "      <th>critic_score</th>\n",
       "      <th>user_score</th>\n",
       "      <th>sum_sales</th>\n",
       "    </tr>\n",
       "  </thead>\n",
       "  <tbody>\n",
       "    <tr>\n",
       "      <th>year_of_release</th>\n",
       "      <td>1.000000</td>\n",
       "      <td>-0.229934</td>\n",
       "      <td>-0.166075</td>\n",
       "      <td>NaN</td>\n",
       "      <td>NaN</td>\n",
       "      <td>0.072812</td>\n",
       "      <td>0.117074</td>\n",
       "      <td>-0.229100</td>\n",
       "    </tr>\n",
       "    <tr>\n",
       "      <th>na_sales</th>\n",
       "      <td>-0.229934</td>\n",
       "      <td>1.000000</td>\n",
       "      <td>0.586048</td>\n",
       "      <td>NaN</td>\n",
       "      <td>NaN</td>\n",
       "      <td>0.368332</td>\n",
       "      <td>-0.061292</td>\n",
       "      <td>0.938180</td>\n",
       "    </tr>\n",
       "    <tr>\n",
       "      <th>eu_sales</th>\n",
       "      <td>-0.166075</td>\n",
       "      <td>0.586048</td>\n",
       "      <td>1.000000</td>\n",
       "      <td>NaN</td>\n",
       "      <td>NaN</td>\n",
       "      <td>0.309114</td>\n",
       "      <td>-0.106317</td>\n",
       "      <td>0.830295</td>\n",
       "    </tr>\n",
       "    <tr>\n",
       "      <th>jp_sales</th>\n",
       "      <td>NaN</td>\n",
       "      <td>NaN</td>\n",
       "      <td>NaN</td>\n",
       "      <td>NaN</td>\n",
       "      <td>NaN</td>\n",
       "      <td>NaN</td>\n",
       "      <td>NaN</td>\n",
       "      <td>NaN</td>\n",
       "    </tr>\n",
       "    <tr>\n",
       "      <th>other_sales</th>\n",
       "      <td>NaN</td>\n",
       "      <td>NaN</td>\n",
       "      <td>NaN</td>\n",
       "      <td>NaN</td>\n",
       "      <td>NaN</td>\n",
       "      <td>NaN</td>\n",
       "      <td>NaN</td>\n",
       "      <td>NaN</td>\n",
       "    </tr>\n",
       "    <tr>\n",
       "      <th>critic_score</th>\n",
       "      <td>0.072812</td>\n",
       "      <td>0.368332</td>\n",
       "      <td>0.309114</td>\n",
       "      <td>NaN</td>\n",
       "      <td>NaN</td>\n",
       "      <td>1.000000</td>\n",
       "      <td>0.472462</td>\n",
       "      <td>0.385400</td>\n",
       "    </tr>\n",
       "    <tr>\n",
       "      <th>user_score</th>\n",
       "      <td>0.117074</td>\n",
       "      <td>-0.061292</td>\n",
       "      <td>-0.106317</td>\n",
       "      <td>NaN</td>\n",
       "      <td>NaN</td>\n",
       "      <td>0.472462</td>\n",
       "      <td>1.000000</td>\n",
       "      <td>-0.087577</td>\n",
       "    </tr>\n",
       "    <tr>\n",
       "      <th>sum_sales</th>\n",
       "      <td>-0.229100</td>\n",
       "      <td>0.938180</td>\n",
       "      <td>0.830295</td>\n",
       "      <td>NaN</td>\n",
       "      <td>NaN</td>\n",
       "      <td>0.385400</td>\n",
       "      <td>-0.087577</td>\n",
       "      <td>1.000000</td>\n",
       "    </tr>\n",
       "  </tbody>\n",
       "</table>\n",
       "</div>"
      ],
      "text/plain": [
       "                 year_of_release  na_sales  eu_sales  jp_sales  other_sales  \\\n",
       "year_of_release         1.000000 -0.229934 -0.166075       NaN          NaN   \n",
       "na_sales               -0.229934  1.000000  0.586048       NaN          NaN   \n",
       "eu_sales               -0.166075  0.586048  1.000000       NaN          NaN   \n",
       "jp_sales                     NaN       NaN       NaN       NaN          NaN   \n",
       "other_sales                  NaN       NaN       NaN       NaN          NaN   \n",
       "critic_score            0.072812  0.368332  0.309114       NaN          NaN   \n",
       "user_score              0.117074 -0.061292 -0.106317       NaN          NaN   \n",
       "sum_sales              -0.229100  0.938180  0.830295       NaN          NaN   \n",
       "\n",
       "                 critic_score  user_score  sum_sales  \n",
       "year_of_release      0.072812    0.117074  -0.229100  \n",
       "na_sales             0.368332   -0.061292   0.938180  \n",
       "eu_sales             0.309114   -0.106317   0.830295  \n",
       "jp_sales                  NaN         NaN        NaN  \n",
       "other_sales               NaN         NaN        NaN  \n",
       "critic_score         1.000000    0.472462   0.385400  \n",
       "user_score           0.472462    1.000000  -0.087577  \n",
       "sum_sales            0.385400   -0.087577   1.000000  "
      ]
     },
     "execution_count": 35,
     "metadata": {},
     "output_type": "execute_result"
    }
   ],
   "source": [
    "XOne_platform_data.corr(method ='pearson') # Считаю коэффицент корреляции Пирсона"
   ]
  },
  {
   "cell_type": "markdown",
   "metadata": {},
   "source": [
    "Аналогичная ситуция складывается и на других потенциально прибыльных платформах. Имеется взаимосвязь суммарных продаж и оценки критиков (но не слишком сильная, корреляция по DS3 0,3, по XOne 0,38), а вот оценки пользователей также не влияют на суммарные продажи "
   ]
  },
  {
   "cell_type": "markdown",
   "metadata": {},
   "source": [
    "Посмотрим на общее распределение игр по жанрам"
   ]
  },
  {
   "cell_type": "code",
   "execution_count": 36,
   "metadata": {
    "scrolled": false
   },
   "outputs": [
    {
     "data": {
      "text/html": [
       "<div>\n",
       "<style scoped>\n",
       "    .dataframe tbody tr th:only-of-type {\n",
       "        vertical-align: middle;\n",
       "    }\n",
       "\n",
       "    .dataframe tbody tr th {\n",
       "        vertical-align: top;\n",
       "    }\n",
       "\n",
       "    .dataframe thead th {\n",
       "        text-align: right;\n",
       "    }\n",
       "</style>\n",
       "<table border=\"1\" class=\"dataframe\">\n",
       "  <thead>\n",
       "    <tr style=\"text-align: right;\">\n",
       "      <th></th>\n",
       "      <th>count</th>\n",
       "    </tr>\n",
       "    <tr>\n",
       "      <th>genre</th>\n",
       "      <th></th>\n",
       "    </tr>\n",
       "  </thead>\n",
       "  <tbody>\n",
       "    <tr>\n",
       "      <th>Action</th>\n",
       "      <td>1269</td>\n",
       "    </tr>\n",
       "    <tr>\n",
       "      <th>Role-Playing</th>\n",
       "      <td>465</td>\n",
       "    </tr>\n",
       "    <tr>\n",
       "      <th>Adventure</th>\n",
       "      <td>410</td>\n",
       "    </tr>\n",
       "    <tr>\n",
       "      <th>Sports</th>\n",
       "      <td>389</td>\n",
       "    </tr>\n",
       "    <tr>\n",
       "      <th>Misc</th>\n",
       "      <td>375</td>\n",
       "    </tr>\n",
       "    <tr>\n",
       "      <th>Shooter</th>\n",
       "      <td>329</td>\n",
       "    </tr>\n",
       "    <tr>\n",
       "      <th>Racing</th>\n",
       "      <td>180</td>\n",
       "    </tr>\n",
       "    <tr>\n",
       "      <th>Fighting</th>\n",
       "      <td>159</td>\n",
       "    </tr>\n",
       "    <tr>\n",
       "      <th>Simulation</th>\n",
       "      <td>136</td>\n",
       "    </tr>\n",
       "    <tr>\n",
       "      <th>Platform</th>\n",
       "      <td>122</td>\n",
       "    </tr>\n",
       "    <tr>\n",
       "      <th>Strategy</th>\n",
       "      <td>117</td>\n",
       "    </tr>\n",
       "    <tr>\n",
       "      <th>Puzzle</th>\n",
       "      <td>71</td>\n",
       "    </tr>\n",
       "  </tbody>\n",
       "</table>\n",
       "</div>"
      ],
      "text/plain": [
       "              count\n",
       "genre              \n",
       "Action         1269\n",
       "Role-Playing    465\n",
       "Adventure       410\n",
       "Sports          389\n",
       "Misc            375\n",
       "Shooter         329\n",
       "Racing          180\n",
       "Fighting        159\n",
       "Simulation      136\n",
       "Platform        122\n",
       "Strategy        117\n",
       "Puzzle           71"
      ]
     },
     "metadata": {},
     "output_type": "display_data"
    }
   ],
   "source": [
    "data_pivot = actual_data.pivot_table(index=['genre'], values='name', aggfunc=['count']) # делаю сводную таблицу, которая покажет  общее распределение игр по жанрам\n",
    "data_pivot.columns = ['count'] # переименовываю столбец в сводной таблице\n",
    "sorted_data = data_pivot.sort_values(by='count', ascending=False) # сортирую значения в сводной таблиц по убыванию\n",
    "display(sorted_data)"
   ]
  },
  {
   "cell_type": "markdown",
   "metadata": {},
   "source": [
    "Самые популярные жанры это Action, Role-Playing, Adventure. Результаты соотносятся с реальностью, данные жанры действительно очень популярны"
   ]
  },
  {
   "cell_type": "markdown",
   "metadata": {},
   "source": [
    "Теперь сравним жанры по продажам"
   ]
  },
  {
   "cell_type": "code",
   "execution_count": 37,
   "metadata": {},
   "outputs": [
    {
     "data": {
      "text/html": [
       "<div>\n",
       "<style scoped>\n",
       "    .dataframe tbody tr th:only-of-type {\n",
       "        vertical-align: middle;\n",
       "    }\n",
       "\n",
       "    .dataframe tbody tr th {\n",
       "        vertical-align: top;\n",
       "    }\n",
       "\n",
       "    .dataframe thead th {\n",
       "        text-align: right;\n",
       "    }\n",
       "</style>\n",
       "<table border=\"1\" class=\"dataframe\">\n",
       "  <thead>\n",
       "    <tr style=\"text-align: right;\">\n",
       "      <th></th>\n",
       "      <th>sum_sales</th>\n",
       "    </tr>\n",
       "    <tr>\n",
       "      <th>genre</th>\n",
       "      <th></th>\n",
       "    </tr>\n",
       "  </thead>\n",
       "  <tbody>\n",
       "    <tr>\n",
       "      <th>Shooter</th>\n",
       "      <td>319</td>\n",
       "    </tr>\n",
       "    <tr>\n",
       "      <th>Action</th>\n",
       "      <td>314</td>\n",
       "    </tr>\n",
       "    <tr>\n",
       "      <th>Sports</th>\n",
       "      <td>157</td>\n",
       "    </tr>\n",
       "    <tr>\n",
       "      <th>Role-Playing</th>\n",
       "      <td>156</td>\n",
       "    </tr>\n",
       "    <tr>\n",
       "      <th>Misc</th>\n",
       "      <td>81</td>\n",
       "    </tr>\n",
       "    <tr>\n",
       "      <th>Platform</th>\n",
       "      <td>64</td>\n",
       "    </tr>\n",
       "    <tr>\n",
       "      <th>Racing</th>\n",
       "      <td>53</td>\n",
       "    </tr>\n",
       "    <tr>\n",
       "      <th>Simulation</th>\n",
       "      <td>29</td>\n",
       "    </tr>\n",
       "    <tr>\n",
       "      <th>Fighting</th>\n",
       "      <td>28</td>\n",
       "    </tr>\n",
       "    <tr>\n",
       "      <th>Adventure</th>\n",
       "      <td>15</td>\n",
       "    </tr>\n",
       "    <tr>\n",
       "      <th>Strategy</th>\n",
       "      <td>6</td>\n",
       "    </tr>\n",
       "    <tr>\n",
       "      <th>Puzzle</th>\n",
       "      <td>3</td>\n",
       "    </tr>\n",
       "  </tbody>\n",
       "</table>\n",
       "</div>"
      ],
      "text/plain": [
       "              sum_sales\n",
       "genre                  \n",
       "Shooter             319\n",
       "Action              314\n",
       "Sports              157\n",
       "Role-Playing        156\n",
       "Misc                 81\n",
       "Platform             64\n",
       "Racing               53\n",
       "Simulation           29\n",
       "Fighting             28\n",
       "Adventure            15\n",
       "Strategy              6\n",
       "Puzzle                3"
      ]
     },
     "metadata": {},
     "output_type": "display_data"
    }
   ],
   "source": [
    "data_pivot = actual_data.pivot_table(index=['genre'], values='sum_sales', aggfunc=['sum']) # делаю сводную таблицу, которая покажет самые прибыльные жанры\n",
    "data_pivot.columns = ['sum_sales'] # переименовываю столбец в сводной таблице\n",
    "sorted_data = data_pivot.sort_values(by='sum_sales', ascending=False) # сортирую значения в сводной таблиц по убыванию\n",
    "display(sorted_data)"
   ]
  },
  {
   "cell_type": "markdown",
   "metadata": {},
   "source": [
    "Action\tтакже в тройке по продажам, как и в топе популярных жанров, а вот два других жанра отличаются, по продажам первые шутеры, замыкают тройку спорт игры, причем двойка лидеров идет с отрывом. Замыкают рейтинг продаж такие жанры как: Puzzle и Strategy. Возможно, многие игры данных жанров являются бесплатными "
   ]
  },
  {
   "cell_type": "markdown",
   "metadata": {},
   "source": [
    "**Вывод**"
   ]
  },
  {
   "cell_type": "markdown",
   "metadata": {},
   "source": [
    "В данном разделе исследования удалось отследить динамику игр по годам, выделить актуальный период в данных им оказасля период с 2011 по 2016 год, а также произвести подробный анализ продаж и выяснить взыимосвязи оценок и суммарных продаж, оказалось что оценки критиков имеют некоторое влияние на продажи, в отличии от оценок пользователей. Также удалось изучить распределение игр по жанрам, в топе жанров и по популярности и по продажам оказались жанр Action"
   ]
  },
  {
   "cell_type": "markdown",
   "metadata": {},
   "source": [
    "## Портрет пользователя каждого региона"
   ]
  },
  {
   "cell_type": "markdown",
   "metadata": {},
   "source": [
    "### Самые популярные платформы по регионам"
   ]
  },
  {
   "cell_type": "markdown",
   "metadata": {},
   "source": [
    "Построим рейтинги самых популярных платформ для каждого региона (NA, EU, JP)"
   ]
  },
  {
   "cell_type": "code",
   "execution_count": 38,
   "metadata": {},
   "outputs": [
    {
     "data": {
      "text/html": [
       "<div>\n",
       "<style scoped>\n",
       "    .dataframe tbody tr th:only-of-type {\n",
       "        vertical-align: middle;\n",
       "    }\n",
       "\n",
       "    .dataframe tbody tr th {\n",
       "        vertical-align: top;\n",
       "    }\n",
       "\n",
       "    .dataframe thead th {\n",
       "        text-align: right;\n",
       "    }\n",
       "</style>\n",
       "<table border=\"1\" class=\"dataframe\">\n",
       "  <thead>\n",
       "    <tr style=\"text-align: right;\">\n",
       "      <th></th>\n",
       "      <th>sum_na</th>\n",
       "    </tr>\n",
       "    <tr>\n",
       "      <th>platform</th>\n",
       "      <th></th>\n",
       "    </tr>\n",
       "  </thead>\n",
       "  <tbody>\n",
       "    <tr>\n",
       "      <th>X360</th>\n",
       "      <td>191</td>\n",
       "    </tr>\n",
       "    <tr>\n",
       "      <th>PS3</th>\n",
       "      <td>124</td>\n",
       "    </tr>\n",
       "    <tr>\n",
       "      <th>PS4</th>\n",
       "      <td>85</td>\n",
       "    </tr>\n",
       "    <tr>\n",
       "      <th>XOne</th>\n",
       "      <td>73</td>\n",
       "    </tr>\n",
       "    <tr>\n",
       "      <th>3DS</th>\n",
       "      <td>54</td>\n",
       "    </tr>\n",
       "  </tbody>\n",
       "</table>\n",
       "</div>"
      ],
      "text/plain": [
       "          sum_na\n",
       "platform        \n",
       "X360         191\n",
       "PS3          124\n",
       "PS4           85\n",
       "XOne          73\n",
       "3DS           54"
      ]
     },
     "metadata": {},
     "output_type": "display_data"
    }
   ],
   "source": [
    "data_pivot = actual_data.pivot_table(index=['platform'], values=['na_sales'], aggfunc=['sum']) # делаю сводную таблицу, которая покажет самые популярные платформы в Северной Америке\n",
    "data_pivot.columns = ['sum_na'] # переименовываю столбец в сводной таблице\n",
    "display(data_pivot.sort_values(by='sum_na', ascending=False).head()) # сортирую значения в сводной таблиц по убыванию и вывожу топ 5"
   ]
  },
  {
   "cell_type": "code",
   "execution_count": 39,
   "metadata": {},
   "outputs": [
    {
     "data": {
      "text/html": [
       "<div>\n",
       "<style scoped>\n",
       "    .dataframe tbody tr th:only-of-type {\n",
       "        vertical-align: middle;\n",
       "    }\n",
       "\n",
       "    .dataframe tbody tr th {\n",
       "        vertical-align: top;\n",
       "    }\n",
       "\n",
       "    .dataframe thead th {\n",
       "        text-align: right;\n",
       "    }\n",
       "</style>\n",
       "<table border=\"1\" class=\"dataframe\">\n",
       "  <thead>\n",
       "    <tr style=\"text-align: right;\">\n",
       "      <th></th>\n",
       "      <th>sum_eu</th>\n",
       "    </tr>\n",
       "    <tr>\n",
       "      <th>platform</th>\n",
       "      <th></th>\n",
       "    </tr>\n",
       "  </thead>\n",
       "  <tbody>\n",
       "    <tr>\n",
       "      <th>PS3</th>\n",
       "      <td>117</td>\n",
       "    </tr>\n",
       "    <tr>\n",
       "      <th>PS4</th>\n",
       "      <td>116</td>\n",
       "    </tr>\n",
       "    <tr>\n",
       "      <th>X360</th>\n",
       "      <td>73</td>\n",
       "    </tr>\n",
       "    <tr>\n",
       "      <th>3DS</th>\n",
       "      <td>37</td>\n",
       "    </tr>\n",
       "    <tr>\n",
       "      <th>XOne</th>\n",
       "      <td>34</td>\n",
       "    </tr>\n",
       "  </tbody>\n",
       "</table>\n",
       "</div>"
      ],
      "text/plain": [
       "          sum_eu\n",
       "platform        \n",
       "PS3          117\n",
       "PS4          116\n",
       "X360          73\n",
       "3DS           37\n",
       "XOne          34"
      ]
     },
     "metadata": {},
     "output_type": "display_data"
    }
   ],
   "source": [
    "data_pivot = actual_data.pivot_table(index=['platform'], values=['eu_sales'], aggfunc=['sum']) # делаю сводную таблицу, которая покажет самые популярные платформы в Европе\n",
    "data_pivot.columns = ['sum_eu'] # переименовываю столбец в сводной таблице\n",
    "display(data_pivot.sort_values(by='sum_eu', ascending=False).head())  # сортирую значения в сводной таблиц по убыванию и вывожу топ 5"
   ]
  },
  {
   "cell_type": "code",
   "execution_count": 40,
   "metadata": {},
   "outputs": [
    {
     "data": {
      "text/html": [
       "<div>\n",
       "<style scoped>\n",
       "    .dataframe tbody tr th:only-of-type {\n",
       "        vertical-align: middle;\n",
       "    }\n",
       "\n",
       "    .dataframe tbody tr th {\n",
       "        vertical-align: top;\n",
       "    }\n",
       "\n",
       "    .dataframe thead th {\n",
       "        text-align: right;\n",
       "    }\n",
       "</style>\n",
       "<table border=\"1\" class=\"dataframe\">\n",
       "  <thead>\n",
       "    <tr style=\"text-align: right;\">\n",
       "      <th></th>\n",
       "      <th>sum_jp</th>\n",
       "    </tr>\n",
       "    <tr>\n",
       "      <th>platform</th>\n",
       "      <th></th>\n",
       "    </tr>\n",
       "  </thead>\n",
       "  <tbody>\n",
       "    <tr>\n",
       "      <th>3DS</th>\n",
       "      <td>68</td>\n",
       "    </tr>\n",
       "    <tr>\n",
       "      <th>PS3</th>\n",
       "      <td>13</td>\n",
       "    </tr>\n",
       "    <tr>\n",
       "      <th>WiiU</th>\n",
       "      <td>7</td>\n",
       "    </tr>\n",
       "    <tr>\n",
       "      <th>Wii</th>\n",
       "      <td>5</td>\n",
       "    </tr>\n",
       "    <tr>\n",
       "      <th>DS</th>\n",
       "      <td>4</td>\n",
       "    </tr>\n",
       "  </tbody>\n",
       "</table>\n",
       "</div>"
      ],
      "text/plain": [
       "          sum_jp\n",
       "platform        \n",
       "3DS           68\n",
       "PS3           13\n",
       "WiiU           7\n",
       "Wii            5\n",
       "DS             4"
      ]
     },
     "metadata": {},
     "output_type": "display_data"
    }
   ],
   "source": [
    "data_pivot = actual_data.pivot_table(index=['platform'], values=['jp_sales'], aggfunc=['sum']) # делаю сводную таблицу, которая покажет самые популярные платформы в Японии\n",
    "data_pivot.columns = ['sum_jp'] # переименовываю столбец в сводной таблице\n",
    "display(data_pivot.sort_values(by='sum_jp', ascending=False).head())  # сортирую значения в сводной таблиц по убыванию и вывожу топ 5"
   ]
  },
  {
   "cell_type": "markdown",
   "metadata": {},
   "source": [
    "В Северной Америке самая большая доля продаж приходится на платформу X360 за ней следует PS3 и PS4. В Европе лидирует PS3, PS4 на 2 строчке, а замыкает тройку X360, в тройке новых платформ нет. А вот в Японии доли продаж отличаются, лидирует 3DS, за ней идет PS3 и на третьем месте WiiU. PS3 вошла в тройку лучших по долям продаж платформ во всех исследуемых регионах."
   ]
  },
  {
   "cell_type": "markdown",
   "metadata": {},
   "source": [
    "### Самые популярные жанры по регионам"
   ]
  },
  {
   "cell_type": "markdown",
   "metadata": {},
   "source": [
    "Построим рейтинги самых жанров платформ для каждого региона"
   ]
  },
  {
   "cell_type": "code",
   "execution_count": 41,
   "metadata": {},
   "outputs": [
    {
     "data": {
      "text/html": [
       "<div>\n",
       "<style scoped>\n",
       "    .dataframe tbody tr th:only-of-type {\n",
       "        vertical-align: middle;\n",
       "    }\n",
       "\n",
       "    .dataframe tbody tr th {\n",
       "        vertical-align: top;\n",
       "    }\n",
       "\n",
       "    .dataframe thead th {\n",
       "        text-align: right;\n",
       "    }\n",
       "</style>\n",
       "<table border=\"1\" class=\"dataframe\">\n",
       "  <thead>\n",
       "    <tr style=\"text-align: right;\">\n",
       "      <th></th>\n",
       "      <th>sum_na</th>\n",
       "    </tr>\n",
       "    <tr>\n",
       "      <th>genre</th>\n",
       "      <th></th>\n",
       "    </tr>\n",
       "  </thead>\n",
       "  <tbody>\n",
       "    <tr>\n",
       "      <th>Shooter</th>\n",
       "      <td>170</td>\n",
       "    </tr>\n",
       "    <tr>\n",
       "      <th>Action</th>\n",
       "      <td>157</td>\n",
       "    </tr>\n",
       "    <tr>\n",
       "      <th>Sports</th>\n",
       "      <td>86</td>\n",
       "    </tr>\n",
       "    <tr>\n",
       "      <th>Role-Playing</th>\n",
       "      <td>64</td>\n",
       "    </tr>\n",
       "    <tr>\n",
       "      <th>Misc</th>\n",
       "      <td>45</td>\n",
       "    </tr>\n",
       "  </tbody>\n",
       "</table>\n",
       "</div>"
      ],
      "text/plain": [
       "              sum_na\n",
       "genre               \n",
       "Shooter          170\n",
       "Action           157\n",
       "Sports            86\n",
       "Role-Playing      64\n",
       "Misc              45"
      ]
     },
     "metadata": {},
     "output_type": "display_data"
    }
   ],
   "source": [
    "data_pivot = actual_data.pivot_table(index=['genre'], values=['na_sales'], aggfunc=['sum']) # делаю сводную таблицу, которая покажет самые популярные жанры в Северной Америке\n",
    "data_pivot.columns = ['sum_na'] # переименовываю столбец в сводной таблице\n",
    "display(data_pivot.sort_values(by='sum_na', ascending=False).head()) # сортирую значения в сводной таблиц по убыванию и вывожу топ 5"
   ]
  },
  {
   "cell_type": "code",
   "execution_count": 42,
   "metadata": {},
   "outputs": [
    {
     "data": {
      "text/html": [
       "<div>\n",
       "<style scoped>\n",
       "    .dataframe tbody tr th:only-of-type {\n",
       "        vertical-align: middle;\n",
       "    }\n",
       "\n",
       "    .dataframe tbody tr th {\n",
       "        vertical-align: top;\n",
       "    }\n",
       "\n",
       "    .dataframe thead th {\n",
       "        text-align: right;\n",
       "    }\n",
       "</style>\n",
       "<table border=\"1\" class=\"dataframe\">\n",
       "  <thead>\n",
       "    <tr style=\"text-align: right;\">\n",
       "      <th></th>\n",
       "      <th>sum_eu</th>\n",
       "    </tr>\n",
       "    <tr>\n",
       "      <th>genre</th>\n",
       "      <th></th>\n",
       "    </tr>\n",
       "  </thead>\n",
       "  <tbody>\n",
       "    <tr>\n",
       "      <th>Shooter</th>\n",
       "      <td>120</td>\n",
       "    </tr>\n",
       "    <tr>\n",
       "      <th>Action</th>\n",
       "      <td>119</td>\n",
       "    </tr>\n",
       "    <tr>\n",
       "      <th>Sports</th>\n",
       "      <td>62</td>\n",
       "    </tr>\n",
       "    <tr>\n",
       "      <th>Role-Playing</th>\n",
       "      <td>40</td>\n",
       "    </tr>\n",
       "    <tr>\n",
       "      <th>Racing</th>\n",
       "      <td>28</td>\n",
       "    </tr>\n",
       "  </tbody>\n",
       "</table>\n",
       "</div>"
      ],
      "text/plain": [
       "              sum_eu\n",
       "genre               \n",
       "Shooter          120\n",
       "Action           119\n",
       "Sports            62\n",
       "Role-Playing      40\n",
       "Racing            28"
      ]
     },
     "metadata": {},
     "output_type": "display_data"
    }
   ],
   "source": [
    "data_pivot = actual_data.pivot_table(index=['genre'], values=['eu_sales'], aggfunc=['sum']) # делаю сводную таблицу, которая покажет самые популярные жанры в Европе\n",
    "data_pivot.columns = ['sum_eu'] # переименовываю столбец в сводной таблице\n",
    "display(data_pivot.sort_values(by='sum_eu', ascending=False).head()) # сортирую значения в сводной таблиц по убыванию и вывожу топ 5"
   ]
  },
  {
   "cell_type": "code",
   "execution_count": 43,
   "metadata": {},
   "outputs": [
    {
     "data": {
      "text/html": [
       "<div>\n",
       "<style scoped>\n",
       "    .dataframe tbody tr th:only-of-type {\n",
       "        vertical-align: middle;\n",
       "    }\n",
       "\n",
       "    .dataframe tbody tr th {\n",
       "        vertical-align: top;\n",
       "    }\n",
       "\n",
       "    .dataframe thead th {\n",
       "        text-align: right;\n",
       "    }\n",
       "</style>\n",
       "<table border=\"1\" class=\"dataframe\">\n",
       "  <thead>\n",
       "    <tr style=\"text-align: right;\">\n",
       "      <th></th>\n",
       "      <th>sum_jp</th>\n",
       "    </tr>\n",
       "    <tr>\n",
       "      <th>genre</th>\n",
       "      <th></th>\n",
       "    </tr>\n",
       "  </thead>\n",
       "  <tbody>\n",
       "    <tr>\n",
       "      <th>Role-Playing</th>\n",
       "      <td>44</td>\n",
       "    </tr>\n",
       "    <tr>\n",
       "      <th>Action</th>\n",
       "      <td>16</td>\n",
       "    </tr>\n",
       "    <tr>\n",
       "      <th>Platform</th>\n",
       "      <td>9</td>\n",
       "    </tr>\n",
       "    <tr>\n",
       "      <th>Simulation</th>\n",
       "      <td>9</td>\n",
       "    </tr>\n",
       "    <tr>\n",
       "      <th>Misc</th>\n",
       "      <td>7</td>\n",
       "    </tr>\n",
       "  </tbody>\n",
       "</table>\n",
       "</div>"
      ],
      "text/plain": [
       "              sum_jp\n",
       "genre               \n",
       "Role-Playing      44\n",
       "Action            16\n",
       "Platform           9\n",
       "Simulation         9\n",
       "Misc               7"
      ]
     },
     "metadata": {},
     "output_type": "display_data"
    }
   ],
   "source": [
    "data_pivot = actual_data.pivot_table(index=['genre'], values=['jp_sales'], aggfunc=['sum']) # делаю сводную таблицу, которая покажет самые популярные жанры в Японии\n",
    "data_pivot.columns = ['sum_jp'] # переименовываю столбец в сводной таблице\n",
    "display(data_pivot.sort_values(by='sum_jp', ascending=False).head()) # сортирую значения в сводной таблиц по убыванию и вывожу топ 5"
   ]
  },
  {
   "cell_type": "markdown",
   "metadata": {},
   "source": [
    "По жанрам также наблюдается сходство между пользователями в Европе и Северной Америке. В тройку входят одинаковые жанры Action, Sports и Shooter. А вот Япония опять выделяется, тут лидер Role-Playing следом идёт Role-Playing и только потом Action, который ледировал в Европе и Северной Америке."
   ]
  },
  {
   "cell_type": "markdown",
   "metadata": {},
   "source": [
    "### Влияет ли рейтинг ESRB на продажи в отдельном регионе?"
   ]
  },
  {
   "cell_type": "markdown",
   "metadata": {},
   "source": [
    "Выясним, влияет ли рейтинг ESRB на продажи в отдельном регионе"
   ]
  },
  {
   "cell_type": "code",
   "execution_count": 44,
   "metadata": {},
   "outputs": [
    {
     "data": {
      "text/html": [
       "<div>\n",
       "<style scoped>\n",
       "    .dataframe tbody tr th:only-of-type {\n",
       "        vertical-align: middle;\n",
       "    }\n",
       "\n",
       "    .dataframe tbody tr th {\n",
       "        vertical-align: top;\n",
       "    }\n",
       "\n",
       "    .dataframe thead th {\n",
       "        text-align: right;\n",
       "    }\n",
       "</style>\n",
       "<table border=\"1\" class=\"dataframe\">\n",
       "  <thead>\n",
       "    <tr style=\"text-align: right;\">\n",
       "      <th></th>\n",
       "      <th>sum_na</th>\n",
       "    </tr>\n",
       "    <tr>\n",
       "      <th>rating</th>\n",
       "      <th></th>\n",
       "    </tr>\n",
       "  </thead>\n",
       "  <tbody>\n",
       "    <tr>\n",
       "      <th>M</th>\n",
       "      <td>261</td>\n",
       "    </tr>\n",
       "    <tr>\n",
       "      <th>E</th>\n",
       "      <td>131</td>\n",
       "    </tr>\n",
       "    <tr>\n",
       "      <th>tbd</th>\n",
       "      <td>83</td>\n",
       "    </tr>\n",
       "    <tr>\n",
       "      <th>E10+</th>\n",
       "      <td>68</td>\n",
       "    </tr>\n",
       "    <tr>\n",
       "      <th>T</th>\n",
       "      <td>65</td>\n",
       "    </tr>\n",
       "    <tr>\n",
       "      <th>EC</th>\n",
       "      <td>0</td>\n",
       "    </tr>\n",
       "    <tr>\n",
       "      <th>RP</th>\n",
       "      <td>0</td>\n",
       "    </tr>\n",
       "  </tbody>\n",
       "</table>\n",
       "</div>"
      ],
      "text/plain": [
       "        sum_na\n",
       "rating        \n",
       "M          261\n",
       "E          131\n",
       "tbd         83\n",
       "E10+        68\n",
       "T           65\n",
       "EC           0\n",
       "RP           0"
      ]
     },
     "metadata": {},
     "output_type": "display_data"
    }
   ],
   "source": [
    "data_pivot = actual_data.pivot_table(index=['rating'], values=['na_sales'], aggfunc=['sum']) # делаю сводную таблицу, которая покажет влияет ли ретинг ESRB на продажи в Северной Америке\n",
    "data_pivot.columns = ['sum_na'] # переименовываю столбец в сводной таблице\n",
    "display(data_pivot.sort_values(by='sum_na', ascending=False)) # сортирую значения в сводной таблиц по убыванию и вывожу"
   ]
  },
  {
   "cell_type": "code",
   "execution_count": 45,
   "metadata": {},
   "outputs": [
    {
     "data": {
      "text/html": [
       "<div>\n",
       "<style scoped>\n",
       "    .dataframe tbody tr th:only-of-type {\n",
       "        vertical-align: middle;\n",
       "    }\n",
       "\n",
       "    .dataframe tbody tr th {\n",
       "        vertical-align: top;\n",
       "    }\n",
       "\n",
       "    .dataframe thead th {\n",
       "        text-align: right;\n",
       "    }\n",
       "</style>\n",
       "<table border=\"1\" class=\"dataframe\">\n",
       "  <thead>\n",
       "    <tr style=\"text-align: right;\">\n",
       "      <th></th>\n",
       "      <th>sum_eu</th>\n",
       "    </tr>\n",
       "    <tr>\n",
       "      <th>rating</th>\n",
       "      <th></th>\n",
       "    </tr>\n",
       "  </thead>\n",
       "  <tbody>\n",
       "    <tr>\n",
       "      <th>M</th>\n",
       "      <td>197</td>\n",
       "    </tr>\n",
       "    <tr>\n",
       "      <th>E</th>\n",
       "      <td>102</td>\n",
       "    </tr>\n",
       "    <tr>\n",
       "      <th>tbd</th>\n",
       "      <td>70</td>\n",
       "    </tr>\n",
       "    <tr>\n",
       "      <th>T</th>\n",
       "      <td>44</td>\n",
       "    </tr>\n",
       "    <tr>\n",
       "      <th>E10+</th>\n",
       "      <td>30</td>\n",
       "    </tr>\n",
       "    <tr>\n",
       "      <th>EC</th>\n",
       "      <td>0</td>\n",
       "    </tr>\n",
       "    <tr>\n",
       "      <th>RP</th>\n",
       "      <td>0</td>\n",
       "    </tr>\n",
       "  </tbody>\n",
       "</table>\n",
       "</div>"
      ],
      "text/plain": [
       "        sum_eu\n",
       "rating        \n",
       "M          197\n",
       "E          102\n",
       "tbd         70\n",
       "T           44\n",
       "E10+        30\n",
       "EC           0\n",
       "RP           0"
      ]
     },
     "metadata": {},
     "output_type": "display_data"
    }
   ],
   "source": [
    "data_pivot = actual_data.pivot_table(index=['rating'], values=['eu_sales'], aggfunc=['sum']) # делаю сводную таблицу, которая покажет влияет ли ретинг ESRB на продажи в Европе\n",
    "data_pivot.columns = ['sum_eu'] # переименовываю столбец в сводной таблице\n",
    "display(data_pivot.sort_values(by='sum_eu', ascending=False)) # сортирую значения в сводной таблиц по убыванию и вывожу"
   ]
  },
  {
   "cell_type": "code",
   "execution_count": 46,
   "metadata": {},
   "outputs": [
    {
     "data": {
      "text/html": [
       "<div>\n",
       "<style scoped>\n",
       "    .dataframe tbody tr th:only-of-type {\n",
       "        vertical-align: middle;\n",
       "    }\n",
       "\n",
       "    .dataframe tbody tr th {\n",
       "        vertical-align: top;\n",
       "    }\n",
       "\n",
       "    .dataframe thead th {\n",
       "        text-align: right;\n",
       "    }\n",
       "</style>\n",
       "<table border=\"1\" class=\"dataframe\">\n",
       "  <thead>\n",
       "    <tr style=\"text-align: right;\">\n",
       "      <th></th>\n",
       "      <th>sum_jp</th>\n",
       "    </tr>\n",
       "    <tr>\n",
       "      <th>rating</th>\n",
       "      <th></th>\n",
       "    </tr>\n",
       "  </thead>\n",
       "  <tbody>\n",
       "    <tr>\n",
       "      <th>tbd</th>\n",
       "      <td>56</td>\n",
       "    </tr>\n",
       "    <tr>\n",
       "      <th>E</th>\n",
       "      <td>26</td>\n",
       "    </tr>\n",
       "    <tr>\n",
       "      <th>T</th>\n",
       "      <td>9</td>\n",
       "    </tr>\n",
       "    <tr>\n",
       "      <th>M</th>\n",
       "      <td>6</td>\n",
       "    </tr>\n",
       "    <tr>\n",
       "      <th>E10+</th>\n",
       "      <td>2</td>\n",
       "    </tr>\n",
       "    <tr>\n",
       "      <th>EC</th>\n",
       "      <td>0</td>\n",
       "    </tr>\n",
       "    <tr>\n",
       "      <th>RP</th>\n",
       "      <td>0</td>\n",
       "    </tr>\n",
       "  </tbody>\n",
       "</table>\n",
       "</div>"
      ],
      "text/plain": [
       "        sum_jp\n",
       "rating        \n",
       "tbd         56\n",
       "E           26\n",
       "T            9\n",
       "M            6\n",
       "E10+         2\n",
       "EC           0\n",
       "RP           0"
      ]
     },
     "metadata": {},
     "output_type": "display_data"
    }
   ],
   "source": [
    "data_pivot = actual_data.pivot_table(index=['rating'], values=['jp_sales'], aggfunc=['sum']) # делаю сводную таблицу, которая покажет влияет ли ретинг ESRB на продажи в Японии\n",
    "data_pivot.columns = ['sum_jp'] # переименовываю столбец в сводной таблице\n",
    "display(data_pivot.sort_values(by='sum_jp', ascending=False)) # сортирую значения в сводной таблиц по убыванию и вывожу"
   ]
  },
  {
   "cell_type": "markdown",
   "metadata": {},
   "source": [
    "Из таблицы по Северной Америке и Европе видно, что рейтинг ESRB влияет на продажи в регионе, игры с рейтингом («E» («Everyone»)— «Для всех» и «M» («Mature») — «Для взрослых») то есть с рейтингами разрешающими играть большому количеству людей продаются чаще, чем игры с рейтинги с существенными ограничениями. В Японии система ESRB не так часто используется, поэтому много игр с неопределённым рейтингом, но даже у игр у которых определен рейтинг имеется та же тенденция что и в Европе и Северной Америке."
   ]
  },
  {
   "cell_type": "markdown",
   "metadata": {},
   "source": [
    "**Вывод**"
   ]
  },
  {
   "cell_type": "markdown",
   "metadata": {},
   "source": [
    "В данном разделе исследования удалось составить портреты пользователй каждого региона. Был произведен анализ пользователй по популярным платформам, жанрам и по влиянию ретига ESRB  на продажи в исследуемых регионах"
   ]
  },
  {
   "cell_type": "markdown",
   "metadata": {},
   "source": [
    "## Проверка гипотез"
   ]
  },
  {
   "cell_type": "markdown",
   "metadata": {},
   "source": [
    "**Средние пользовательские рейтинги платформ Xbox One и PC одинаковые**"
   ]
  },
  {
   "cell_type": "markdown",
   "metadata": {},
   "source": [
    "Проверим гипотезу о том, что средние пользовательские рейтинги платформ Xbox One и PC одинаковые с помщью t-теста\n",
    "\n",
    "Выбор уровня значимости — p-value: если вы признаёте 5%-ю вероятность достаточно малой и на этом основании отвергнем нулевую гипотезу, то в среднем в одном исследовании из 20 мы будем отвергать гипотезу не потому, что она неверна, а потому, что реальное значение случайно далеко «уехало» от предполагаемого. Поэтому, для точности выберем порог в 1%."
   ]
  },
  {
   "cell_type": "markdown",
   "metadata": {},
   "source": [
    "Нулевая гипотеза: средние пользовательские рейтинги платформ Xbox One и PC одинаковые\n",
    "\n",
    "Альтернативная: средние пользовательские рейтинги платформ Xbox One и PC различаются"
   ]
  },
  {
   "cell_type": "code",
   "execution_count": 47,
   "metadata": {},
   "outputs": [
    {
     "name": "stdout",
     "output_type": "stream",
     "text": [
      "p-значение: 0.6497780402343761\n",
      "Не получилось отвергнуть нулевую гипотезу\n"
     ]
    }
   ],
   "source": [
    "XOne = actual_data.query('platform in \"XOne\" and user_score != \"tbd\"') # делаю срез в столбце с оценками пользователей, что бы исключить не определённые значения и оставить только нужную платформу\n",
    "XOne = XOne.dropna() # удаляем отсутствующие значени\n",
    "XOne['user_score'] = XOne['user_score'].astype('float64') # заменяю тип данных в столбце с оценками пользователей для расчёта\n",
    "\n",
    "PC = actual_data.query('platform in \"PC\" and user_score != \"tbd\"') # делаю срез в столбце с оценками пользователей, что бы исключить не определённые значения и оставить только нужную платформу\n",
    "PC = PC.dropna() # удаляем отсутствующие значени\n",
    "PC['user_score'] = PC['user_score'].astype('float64') # заменяю тип данных в столбце с оценками пользователей для расчёта\n",
    "\n",
    "XOne = XOne['user_score']\n",
    "\n",
    "PC = PC['user_score']\n",
    "\n",
    "alpha =  0.01 # критический уровень статистической значимости\n",
    "\n",
    "results = st.ttest_ind(\n",
    "    XOne, \n",
    "    PC) # проверим гипотезу о равенстве средних двух совокупностей\n",
    "\n",
    "print('p-значение:', results.pvalue)\n",
    "\n",
    "if results.pvalue < alpha: # сравниваем получившееся p-значение с заданным уровнем статистической значимости :\n",
    "    print(\"Отвергаем нулевую гипотезу\")\n",
    "else:\n",
    "    print(\"Не получилось отвергнуть нулевую гипотезу\")"
   ]
  },
  {
   "cell_type": "code",
   "execution_count": 48,
   "metadata": {},
   "outputs": [
    {
     "data": {
      "text/plain": [
       "6.538181818181818"
      ]
     },
     "execution_count": 48,
     "metadata": {},
     "output_type": "execute_result"
    }
   ],
   "source": [
    "XOne.mean() # считаем среднее значение пользовательских рейтингов Xbox One"
   ]
  },
  {
   "cell_type": "code",
   "execution_count": 49,
   "metadata": {},
   "outputs": [
    {
     "data": {
      "text/plain": [
       "6.471527777777777"
      ]
     },
     "execution_count": 49,
     "metadata": {},
     "output_type": "execute_result"
    }
   ],
   "source": [
    "PC.mean() # считаем среднее значение пользовательских рейтингов PC"
   ]
  },
  {
   "cell_type": "markdown",
   "metadata": {},
   "source": [
    "Полученное значение p-value говорит о том, что вероятность получить такое или большее различие случайно 6,5 %, хотя средние пользовательские рейтинги и не неодинаковы (хотя и близки). Это слишком большая вероятность, чтобы делать вывод о значимом различии между средними пользовательскими рейтингами Xbox One и PC."
   ]
  },
  {
   "cell_type": "markdown",
   "metadata": {},
   "source": [
    "**Средние пользовательские рейтинги жанров Action (англ. «действие», экшен-игры) и Sports (англ. «спортивные соревнования») разные**"
   ]
  },
  {
   "cell_type": "markdown",
   "metadata": {},
   "source": [
    "Проверим гипотезу о том, что средние пользовательские рейтинги жанров Action и Sports разные"
   ]
  },
  {
   "cell_type": "markdown",
   "metadata": {},
   "source": [
    "Выбор уровня значимости — p-value: если вы признаёте 5%-ю вероятность достаточно малой и на этом основании отвергнем нулевую гипотезу, то в среднем в одном исследовании из 20 мы будем отвергать гипотезу не потому, что она неверна, а потому, что реальное значение случайно далеко «уехало» от предполагаемого. Поэтому, для точности выберем порог в 1%."
   ]
  },
  {
   "cell_type": "markdown",
   "metadata": {},
   "source": [
    "Нулевая гипотеза: средние пользовательские рейтинги  жанров Action и Sports одинаковые\n",
    "\n",
    "Альтернативная: средние пользовательские рейтинги жанров Action и Sports разные разные"
   ]
  },
  {
   "cell_type": "code",
   "execution_count": 50,
   "metadata": {
    "scrolled": true
   },
   "outputs": [
    {
     "name": "stdout",
     "output_type": "stream",
     "text": [
      "p-значение: 0.0003729206650377553\n",
      "Отвергаем нулевую гипотезу\n"
     ]
    }
   ],
   "source": [
    "Action = actual_data.query('genre in \"Action\" and user_score != \"tbd\"') # делаю срез в столбце с оценками пользователей, что бы исключить не определённые значения и оставить только нужный жанр\n",
    "Action = Action.dropna() # удаляем отсутствующие значени\n",
    "Action['user_score'] = Action['user_score'].astype('float64') # заменяю тип данных в столбце с оценками пользователей для расчёта\n",
    "\n",
    "Sports = actual_data.query('platform in \"PC\" and user_score != \"tbd\"') # делаю срез в столбце с оценками пользователей, что бы исключить не определённые значения и оставить только нужный жанр\n",
    "Sports = Sports.dropna() # удаляем отсутствующие значени\n",
    "Sports['user_score'] = Sports['user_score'].astype('float64') # заменяю тип данных в столбце с оценками пользователей для расчёта\n",
    "\n",
    "Action = Action['user_score']\n",
    "\n",
    "Sports = Sports['user_score']\n",
    "\n",
    "alpha =  0.01 # критический уровень статистической значимости\n",
    "\n",
    "results = st.ttest_ind(\n",
    "    Action, \n",
    "    Sports) # проверим гипотезу о равенстве средних двух совокупностей\n",
    "\n",
    "print('p-значение:', results.pvalue)\n",
    "\n",
    "if results.pvalue < alpha: # сравниваем получившееся p-значение с заданным уровнем статистической значимости :\n",
    "    print(\"Отвергаем нулевую гипотезу\")\n",
    "else:\n",
    "    print(\"Не получилось отвергнуть нулевую гипотезу\")"
   ]
  },
  {
   "cell_type": "code",
   "execution_count": 51,
   "metadata": {
    "scrolled": true
   },
   "outputs": [
    {
     "data": {
      "text/plain": [
       "6.834103019538188"
      ]
     },
     "execution_count": 51,
     "metadata": {},
     "output_type": "execute_result"
    }
   ],
   "source": [
    "Action.mean() # считаем среднее значение пользовательских рейтингов жанра Action"
   ]
  },
  {
   "cell_type": "code",
   "execution_count": 52,
   "metadata": {},
   "outputs": [
    {
     "data": {
      "text/plain": [
       "6.471527777777777"
      ]
     },
     "execution_count": 52,
     "metadata": {},
     "output_type": "execute_result"
    }
   ],
   "source": [
    "Sports.mean() # считаем среднее значение пользовательских рейтингов жанра Sports"
   ]
  },
  {
   "cell_type": "markdown",
   "metadata": {},
   "source": [
    "Полученное значение p-value говорит о том, что вероятность получить такое или большее различие случайно очень мала. Это явно слишком маленькая вероятность, можно сделать вывод о значимом различии между средними пользовательскими рейтингами жанров Action и Sports."
   ]
  },
  {
   "cell_type": "markdown",
   "metadata": {},
   "source": [
    "**Вывод**"
   ]
  },
  {
   "cell_type": "markdown",
   "metadata": {},
   "source": [
    "Удалось проверить необходимые гипотезы о том, что:\n",
    "- средние пользовательские рейтинги платформ Xbox One и PC одинаковые;\n",
    "- средние пользовательские рейтинги жанров Action и Sports разные.\n",
    "\n",
    "По обеим гипотезам сделал вывод о том, что вероятность получить такие или большие различие случайно довольно большая, чтобы делать вывод о значимом различии между средними пользовательскими рейтингами."
   ]
  },
  {
   "cell_type": "markdown",
   "metadata": {},
   "source": [
    "## Общий вывод"
   ]
  },
  {
   "cell_type": "markdown",
   "metadata": {},
   "source": [
    "В ходе исследования были изучены данные о продажах игр, оценки пользователей и экспертов, жанры и платформы.\n",
    "\n",
    "Подсчитаны суммарные продажи по всем регионам, количество игр выпущенных по годам. Проанализированы изменеия продаж по платформам, из них выбранны потенциально прибыльные, ими оказались платформы 'PS4', 'XOne', '3DS'. Также подробно проанализированны продажи, оказалось, что увеличение оценки критиков сопровождается увеличением продаж, но так бывает не всегда, зависимость начинает особенно проявлятсякогда оценка критиков привышает 60 баллов. Ещё определены самые продаваемые жанры, ими оказались Action, Sports и Shooter. \n",
    "\n",
    "Вместе с тем, был определен портрет пользователя каждого региона. Оказалось, что пользователи из Европы и Северной Америки похожи, а вот японские пользователи отличаются от остальных.\n",
    "\n",
    "Проверены гипотезы:\n",
    "- средние пользовательские рейтинги платформ Xbox One и PC одинаковые;\n",
    "- средние пользовательские рейтинги жанров Action и Sports разные.\n",
    "\n",
    "По гипотезам сделал вывод о том, что вероятность получить такие или большие различие случайно довольно большая, чтобы делать вывод о значимом различии между средними пользовательскими рейтингами.\n",
    "\n",
    "Таким образом, были выполнены все задачи, поставленные перед началом исследования."
   ]
  }
 ],
 "metadata": {
  "ExecuteTimeLog": [
   {
    "duration": 397,
    "start_time": "2022-05-10T09:27:28.353Z"
   },
   {
    "duration": 58,
    "start_time": "2022-05-10T09:28:29.639Z"
   },
   {
    "duration": 15,
    "start_time": "2022-05-10T09:32:09.757Z"
   },
   {
    "duration": 63,
    "start_time": "2022-05-10T10:08:37.894Z"
   },
   {
    "duration": 5,
    "start_time": "2022-05-10T10:08:52.773Z"
   },
   {
    "duration": 90,
    "start_time": "2022-05-10T10:09:44.989Z"
   },
   {
    "duration": 5,
    "start_time": "2022-05-10T10:19:04.204Z"
   },
   {
    "duration": 8,
    "start_time": "2022-05-10T10:19:40.596Z"
   },
   {
    "duration": 4,
    "start_time": "2022-05-10T10:19:49.539Z"
   },
   {
    "duration": 2,
    "start_time": "2022-05-10T10:21:26.648Z"
   },
   {
    "duration": 6,
    "start_time": "2022-05-10T10:33:31.915Z"
   },
   {
    "duration": 54,
    "start_time": "2022-05-10T10:35:21.633Z"
   },
   {
    "duration": 30,
    "start_time": "2022-05-10T10:35:33.612Z"
   },
   {
    "duration": 27,
    "start_time": "2022-05-10T10:35:50.465Z"
   },
   {
    "duration": 27,
    "start_time": "2022-05-10T10:35:54.769Z"
   },
   {
    "duration": 28,
    "start_time": "2022-05-10T10:36:39.447Z"
   },
   {
    "duration": 34,
    "start_time": "2022-05-10T10:36:42.589Z"
   },
   {
    "duration": 2,
    "start_time": "2022-05-10T10:36:50.954Z"
   },
   {
    "duration": 54,
    "start_time": "2022-05-10T10:36:50.958Z"
   },
   {
    "duration": 13,
    "start_time": "2022-05-10T10:36:51.014Z"
   },
   {
    "duration": 82,
    "start_time": "2022-05-10T10:36:51.030Z"
   },
   {
    "duration": 0,
    "start_time": "2022-05-10T10:36:51.113Z"
   },
   {
    "duration": 0,
    "start_time": "2022-05-10T10:36:51.114Z"
   },
   {
    "duration": 0,
    "start_time": "2022-05-10T10:36:51.115Z"
   },
   {
    "duration": 0,
    "start_time": "2022-05-10T10:36:51.116Z"
   },
   {
    "duration": 1465,
    "start_time": "2022-05-10T10:36:58.549Z"
   },
   {
    "duration": 1378,
    "start_time": "2022-05-10T10:37:07.857Z"
   },
   {
    "duration": 1591,
    "start_time": "2022-05-10T10:37:11.819Z"
   },
   {
    "duration": 2,
    "start_time": "2022-05-10T10:37:18.441Z"
   },
   {
    "duration": 54,
    "start_time": "2022-05-10T10:37:18.445Z"
   },
   {
    "duration": 23,
    "start_time": "2022-05-10T10:37:18.500Z"
   },
   {
    "duration": 83,
    "start_time": "2022-05-10T10:37:18.526Z"
   },
   {
    "duration": 0,
    "start_time": "2022-05-10T10:37:18.613Z"
   },
   {
    "duration": 0,
    "start_time": "2022-05-10T10:37:18.614Z"
   },
   {
    "duration": 0,
    "start_time": "2022-05-10T10:37:18.615Z"
   },
   {
    "duration": 0,
    "start_time": "2022-05-10T10:37:18.618Z"
   },
   {
    "duration": 1373,
    "start_time": "2022-05-10T10:48:25.253Z"
   },
   {
    "duration": 2,
    "start_time": "2022-05-10T10:48:34.877Z"
   },
   {
    "duration": 57,
    "start_time": "2022-05-10T10:48:34.882Z"
   },
   {
    "duration": 16,
    "start_time": "2022-05-10T10:48:34.941Z"
   },
   {
    "duration": 6,
    "start_time": "2022-05-10T10:48:34.960Z"
   },
   {
    "duration": 6,
    "start_time": "2022-05-10T10:48:34.968Z"
   },
   {
    "duration": 37,
    "start_time": "2022-05-10T10:48:34.976Z"
   },
   {
    "duration": 4,
    "start_time": "2022-05-10T10:48:35.016Z"
   },
   {
    "duration": 12,
    "start_time": "2022-05-10T10:48:35.022Z"
   },
   {
    "duration": 5,
    "start_time": "2022-05-10T10:49:15.130Z"
   },
   {
    "duration": 5,
    "start_time": "2022-05-10T10:51:00.565Z"
   },
   {
    "duration": 10,
    "start_time": "2022-05-10T10:53:52.726Z"
   },
   {
    "duration": 3,
    "start_time": "2022-05-10T10:53:59.555Z"
   },
   {
    "duration": 53,
    "start_time": "2022-05-10T10:53:59.560Z"
   },
   {
    "duration": 14,
    "start_time": "2022-05-10T10:53:59.615Z"
   },
   {
    "duration": 5,
    "start_time": "2022-05-10T10:53:59.631Z"
   },
   {
    "duration": 7,
    "start_time": "2022-05-10T10:53:59.638Z"
   },
   {
    "duration": 4,
    "start_time": "2022-05-10T10:53:59.647Z"
   },
   {
    "duration": 6,
    "start_time": "2022-05-10T10:53:59.653Z"
   },
   {
    "duration": 54,
    "start_time": "2022-05-10T10:53:59.661Z"
   },
   {
    "duration": 8,
    "start_time": "2022-05-10T10:54:03.057Z"
   },
   {
    "duration": 9,
    "start_time": "2022-05-10T10:55:04.184Z"
   },
   {
    "duration": 6,
    "start_time": "2022-05-10T10:55:07.626Z"
   },
   {
    "duration": 15,
    "start_time": "2022-05-10T10:56:12.297Z"
   },
   {
    "duration": 14,
    "start_time": "2022-05-10T10:56:24.240Z"
   },
   {
    "duration": 14,
    "start_time": "2022-05-10T10:56:31.666Z"
   },
   {
    "duration": 21,
    "start_time": "2022-05-10T10:56:47.831Z"
   },
   {
    "duration": 8,
    "start_time": "2022-05-10T10:57:09.861Z"
   },
   {
    "duration": 12,
    "start_time": "2022-05-10T10:57:30.090Z"
   },
   {
    "duration": 26,
    "start_time": "2022-05-10T10:58:08.801Z"
   },
   {
    "duration": 18,
    "start_time": "2022-05-10T10:58:17.831Z"
   },
   {
    "duration": 18,
    "start_time": "2022-05-10T10:58:25.535Z"
   },
   {
    "duration": 19,
    "start_time": "2022-05-10T10:58:35.444Z"
   },
   {
    "duration": 90,
    "start_time": "2022-05-10T10:58:50.854Z"
   },
   {
    "duration": 87,
    "start_time": "2022-05-10T10:59:03.305Z"
   },
   {
    "duration": 12,
    "start_time": "2022-05-10T10:59:16.766Z"
   },
   {
    "duration": 8,
    "start_time": "2022-05-10T10:59:43.437Z"
   },
   {
    "duration": 19,
    "start_time": "2022-05-10T10:59:52.324Z"
   },
   {
    "duration": 14,
    "start_time": "2022-05-10T11:00:06.350Z"
   },
   {
    "duration": 17,
    "start_time": "2022-05-10T11:00:16.671Z"
   },
   {
    "duration": 14,
    "start_time": "2022-05-10T11:04:27.591Z"
   },
   {
    "duration": 21,
    "start_time": "2022-05-10T11:05:14.411Z"
   },
   {
    "duration": 4,
    "start_time": "2022-05-10T11:05:41.596Z"
   },
   {
    "duration": 1716,
    "start_time": "2022-05-10T11:06:39.221Z"
   },
   {
    "duration": 3,
    "start_time": "2022-05-10T11:07:51.447Z"
   },
   {
    "duration": 56,
    "start_time": "2022-05-10T11:07:51.452Z"
   },
   {
    "duration": 18,
    "start_time": "2022-05-10T11:07:51.510Z"
   },
   {
    "duration": 4,
    "start_time": "2022-05-10T11:07:51.531Z"
   },
   {
    "duration": 6,
    "start_time": "2022-05-10T11:07:51.537Z"
   },
   {
    "duration": 5,
    "start_time": "2022-05-10T11:07:51.544Z"
   },
   {
    "duration": 6,
    "start_time": "2022-05-10T11:07:51.552Z"
   },
   {
    "duration": 72,
    "start_time": "2022-05-10T11:07:51.560Z"
   },
   {
    "duration": 4,
    "start_time": "2022-05-10T11:07:51.635Z"
   },
   {
    "duration": 1367,
    "start_time": "2022-05-10T11:07:51.641Z"
   },
   {
    "duration": 0,
    "start_time": "2022-05-10T11:07:53.010Z"
   },
   {
    "duration": 87,
    "start_time": "2022-05-10T11:08:14.227Z"
   },
   {
    "duration": 2,
    "start_time": "2022-05-10T11:08:18.665Z"
   },
   {
    "duration": 49,
    "start_time": "2022-05-10T11:08:18.670Z"
   },
   {
    "duration": 14,
    "start_time": "2022-05-10T11:08:18.721Z"
   },
   {
    "duration": 8,
    "start_time": "2022-05-10T11:08:18.737Z"
   },
   {
    "duration": 7,
    "start_time": "2022-05-10T11:08:18.747Z"
   },
   {
    "duration": 6,
    "start_time": "2022-05-10T11:08:18.756Z"
   },
   {
    "duration": 7,
    "start_time": "2022-05-10T11:08:18.763Z"
   },
   {
    "duration": 53,
    "start_time": "2022-05-10T11:08:18.771Z"
   },
   {
    "duration": 4,
    "start_time": "2022-05-10T11:08:18.826Z"
   },
   {
    "duration": 87,
    "start_time": "2022-05-10T11:08:18.832Z"
   },
   {
    "duration": 1884,
    "start_time": "2022-05-10T11:09:36.809Z"
   },
   {
    "duration": 1462,
    "start_time": "2022-05-10T11:09:43.971Z"
   },
   {
    "duration": 1573,
    "start_time": "2022-05-10T11:09:49.341Z"
   },
   {
    "duration": 16,
    "start_time": "2022-05-10T11:10:35.803Z"
   },
   {
    "duration": 423,
    "start_time": "2022-05-11T19:11:50.465Z"
   },
   {
    "duration": 61,
    "start_time": "2022-05-11T19:11:50.891Z"
   },
   {
    "duration": 17,
    "start_time": "2022-05-11T19:11:50.954Z"
   },
   {
    "duration": 5,
    "start_time": "2022-05-11T19:11:50.973Z"
   },
   {
    "duration": 14,
    "start_time": "2022-05-11T19:11:50.979Z"
   },
   {
    "duration": 6,
    "start_time": "2022-05-11T19:11:50.996Z"
   },
   {
    "duration": 39,
    "start_time": "2022-05-11T19:11:51.004Z"
   },
   {
    "duration": 23,
    "start_time": "2022-05-11T19:11:51.045Z"
   },
   {
    "duration": 16,
    "start_time": "2022-05-11T19:11:51.070Z"
   },
   {
    "duration": 110,
    "start_time": "2022-05-11T19:11:51.089Z"
   },
   {
    "duration": 17,
    "start_time": "2022-05-11T19:15:01.350Z"
   },
   {
    "duration": 7,
    "start_time": "2022-05-11T19:39:25.001Z"
   },
   {
    "duration": 86,
    "start_time": "2022-05-11T19:40:35.638Z"
   },
   {
    "duration": 3,
    "start_time": "2022-05-11T19:40:42.736Z"
   },
   {
    "duration": 80,
    "start_time": "2022-05-11T19:40:42.741Z"
   },
   {
    "duration": 18,
    "start_time": "2022-05-11T19:40:42.823Z"
   },
   {
    "duration": 8,
    "start_time": "2022-05-11T19:40:42.843Z"
   },
   {
    "duration": 21,
    "start_time": "2022-05-11T19:40:42.853Z"
   },
   {
    "duration": 10,
    "start_time": "2022-05-11T19:40:42.876Z"
   },
   {
    "duration": 28,
    "start_time": "2022-05-11T19:40:42.888Z"
   },
   {
    "duration": 11,
    "start_time": "2022-05-11T19:40:42.918Z"
   },
   {
    "duration": 13,
    "start_time": "2022-05-11T19:40:42.931Z"
   },
   {
    "duration": 0,
    "start_time": "2022-05-11T19:40:42.946Z"
   },
   {
    "duration": 0,
    "start_time": "2022-05-11T19:40:42.947Z"
   },
   {
    "duration": 4,
    "start_time": "2022-05-11T19:41:14.752Z"
   },
   {
    "duration": 5,
    "start_time": "2022-05-11T19:41:16.920Z"
   },
   {
    "duration": 9,
    "start_time": "2022-05-11T19:41:48.114Z"
   },
   {
    "duration": 5,
    "start_time": "2022-05-11T19:41:50.406Z"
   },
   {
    "duration": 6,
    "start_time": "2022-05-11T19:42:02.445Z"
   },
   {
    "duration": 4,
    "start_time": "2022-05-11T19:42:03.879Z"
   },
   {
    "duration": 3,
    "start_time": "2022-05-11T19:42:06.984Z"
   },
   {
    "duration": 69,
    "start_time": "2022-05-11T19:42:06.989Z"
   },
   {
    "duration": 15,
    "start_time": "2022-05-11T19:42:07.064Z"
   },
   {
    "duration": 5,
    "start_time": "2022-05-11T19:42:07.080Z"
   },
   {
    "duration": 6,
    "start_time": "2022-05-11T19:42:07.087Z"
   },
   {
    "duration": 9,
    "start_time": "2022-05-11T19:42:07.094Z"
   },
   {
    "duration": 13,
    "start_time": "2022-05-11T19:42:07.104Z"
   },
   {
    "duration": 30,
    "start_time": "2022-05-11T19:42:07.119Z"
   },
   {
    "duration": 20,
    "start_time": "2022-05-11T19:42:07.151Z"
   },
   {
    "duration": 0,
    "start_time": "2022-05-11T19:42:07.173Z"
   },
   {
    "duration": 0,
    "start_time": "2022-05-11T19:42:07.175Z"
   },
   {
    "duration": 11,
    "start_time": "2022-05-11T19:42:14.153Z"
   },
   {
    "duration": 9,
    "start_time": "2022-05-11T19:43:15.477Z"
   },
   {
    "duration": 6,
    "start_time": "2022-05-11T19:43:24.731Z"
   },
   {
    "duration": 2203,
    "start_time": "2022-05-11T19:44:07.298Z"
   },
   {
    "duration": 6,
    "start_time": "2022-05-11T19:44:19.026Z"
   },
   {
    "duration": 10,
    "start_time": "2022-05-11T19:54:50.428Z"
   },
   {
    "duration": 23,
    "start_time": "2022-05-11T19:56:02.997Z"
   },
   {
    "duration": 1801,
    "start_time": "2022-05-11T19:56:47.870Z"
   },
   {
    "duration": 21,
    "start_time": "2022-05-11T19:57:18.289Z"
   },
   {
    "duration": 34,
    "start_time": "2022-05-11T19:58:23.658Z"
   },
   {
    "duration": 18,
    "start_time": "2022-05-11T19:58:27.416Z"
   },
   {
    "duration": 18,
    "start_time": "2022-05-11T19:58:46.012Z"
   },
   {
    "duration": 20,
    "start_time": "2022-05-11T19:59:00.625Z"
   },
   {
    "duration": 19,
    "start_time": "2022-05-11T19:59:06.007Z"
   },
   {
    "duration": 21,
    "start_time": "2022-05-11T19:59:56.357Z"
   },
   {
    "duration": 21,
    "start_time": "2022-05-11T20:00:14.502Z"
   },
   {
    "duration": 14,
    "start_time": "2022-05-11T20:19:06.557Z"
   },
   {
    "duration": 63,
    "start_time": "2022-05-11T20:20:42.412Z"
   },
   {
    "duration": 71,
    "start_time": "2022-05-11T20:20:57.338Z"
   },
   {
    "duration": 80,
    "start_time": "2022-05-11T20:21:14.023Z"
   },
   {
    "duration": 62,
    "start_time": "2022-05-11T20:21:22.516Z"
   },
   {
    "duration": 57,
    "start_time": "2022-05-11T20:21:32.397Z"
   },
   {
    "duration": 62,
    "start_time": "2022-05-11T20:21:36.624Z"
   },
   {
    "duration": 68,
    "start_time": "2022-05-11T20:21:40.564Z"
   },
   {
    "duration": 83,
    "start_time": "2022-05-11T20:21:56.046Z"
   },
   {
    "duration": 55,
    "start_time": "2022-05-11T20:22:05.783Z"
   },
   {
    "duration": 1846,
    "start_time": "2022-05-11T20:24:20.533Z"
   },
   {
    "duration": 2055,
    "start_time": "2022-05-11T20:24:36.320Z"
   },
   {
    "duration": 1860,
    "start_time": "2022-05-11T20:25:11.026Z"
   },
   {
    "duration": 1730,
    "start_time": "2022-05-11T20:25:17.316Z"
   },
   {
    "duration": 2044,
    "start_time": "2022-05-11T20:25:47.341Z"
   },
   {
    "duration": 3,
    "start_time": "2022-05-11T20:25:53.085Z"
   },
   {
    "duration": 100,
    "start_time": "2022-05-11T20:25:53.092Z"
   },
   {
    "duration": 14,
    "start_time": "2022-05-11T20:25:53.194Z"
   },
   {
    "duration": 6,
    "start_time": "2022-05-11T20:25:53.210Z"
   },
   {
    "duration": 26,
    "start_time": "2022-05-11T20:25:53.218Z"
   },
   {
    "duration": 24,
    "start_time": "2022-05-11T20:25:53.247Z"
   },
   {
    "duration": 107,
    "start_time": "2022-05-11T20:25:53.273Z"
   },
   {
    "duration": 0,
    "start_time": "2022-05-11T20:25:53.381Z"
   },
   {
    "duration": 0,
    "start_time": "2022-05-11T20:25:53.383Z"
   },
   {
    "duration": 0,
    "start_time": "2022-05-11T20:25:53.384Z"
   },
   {
    "duration": 0,
    "start_time": "2022-05-11T20:25:53.385Z"
   },
   {
    "duration": 2,
    "start_time": "2022-05-11T20:26:15.739Z"
   },
   {
    "duration": 79,
    "start_time": "2022-05-11T20:26:15.745Z"
   },
   {
    "duration": 16,
    "start_time": "2022-05-11T20:26:15.826Z"
   },
   {
    "duration": 27,
    "start_time": "2022-05-11T20:26:15.845Z"
   },
   {
    "duration": 30,
    "start_time": "2022-05-11T20:26:15.874Z"
   },
   {
    "duration": 20,
    "start_time": "2022-05-11T20:26:15.907Z"
   },
   {
    "duration": 38,
    "start_time": "2022-05-11T20:26:15.928Z"
   },
   {
    "duration": 34,
    "start_time": "2022-05-11T20:26:15.968Z"
   },
   {
    "duration": 31,
    "start_time": "2022-05-11T20:26:16.004Z"
   },
   {
    "duration": 68,
    "start_time": "2022-05-11T20:26:16.037Z"
   },
   {
    "duration": 51,
    "start_time": "2022-05-11T20:32:15.145Z"
   },
   {
    "duration": 8,
    "start_time": "2022-05-11T20:36:05.185Z"
   },
   {
    "duration": 18,
    "start_time": "2022-05-11T20:36:14.419Z"
   },
   {
    "duration": 3,
    "start_time": "2022-05-11T20:36:58.685Z"
   },
   {
    "duration": 1810,
    "start_time": "2022-05-11T20:47:58.417Z"
   },
   {
    "duration": 2,
    "start_time": "2022-05-11T20:48:03.092Z"
   },
   {
    "duration": 69,
    "start_time": "2022-05-11T20:48:03.096Z"
   },
   {
    "duration": 16,
    "start_time": "2022-05-11T20:48:03.167Z"
   },
   {
    "duration": 12,
    "start_time": "2022-05-11T20:48:03.185Z"
   },
   {
    "duration": 28,
    "start_time": "2022-05-11T20:48:03.199Z"
   },
   {
    "duration": 8,
    "start_time": "2022-05-11T20:48:03.230Z"
   },
   {
    "duration": 19,
    "start_time": "2022-05-11T20:48:03.240Z"
   },
   {
    "duration": 10,
    "start_time": "2022-05-11T20:48:03.261Z"
   },
   {
    "duration": 6,
    "start_time": "2022-05-11T20:48:03.383Z"
   },
   {
    "duration": 27,
    "start_time": "2022-05-11T20:48:03.391Z"
   },
   {
    "duration": 15,
    "start_time": "2022-05-11T20:48:03.420Z"
   },
   {
    "duration": 1912,
    "start_time": "2022-05-11T20:48:03.480Z"
   },
   {
    "duration": 6,
    "start_time": "2022-05-11T20:49:35.462Z"
   },
   {
    "duration": 24,
    "start_time": "2022-05-11T20:49:52.454Z"
   },
   {
    "duration": 14,
    "start_time": "2022-05-18T18:45:02.737Z"
   },
   {
    "duration": 23,
    "start_time": "2022-05-18T18:45:28.078Z"
   },
   {
    "duration": 27,
    "start_time": "2022-05-18T18:46:24.079Z"
   },
   {
    "duration": 13,
    "start_time": "2022-05-18T18:47:11.666Z"
   },
   {
    "duration": 3,
    "start_time": "2022-05-18T18:47:34.317Z"
   },
   {
    "duration": 66,
    "start_time": "2022-05-18T18:47:34.322Z"
   },
   {
    "duration": 15,
    "start_time": "2022-05-18T18:47:34.389Z"
   },
   {
    "duration": 12,
    "start_time": "2022-05-18T18:47:34.409Z"
   },
   {
    "duration": 8,
    "start_time": "2022-05-18T18:47:34.423Z"
   },
   {
    "duration": 9,
    "start_time": "2022-05-18T18:47:34.432Z"
   },
   {
    "duration": 11,
    "start_time": "2022-05-18T18:47:34.442Z"
   },
   {
    "duration": 8,
    "start_time": "2022-05-18T18:47:34.454Z"
   },
   {
    "duration": 7,
    "start_time": "2022-05-18T18:47:34.463Z"
   },
   {
    "duration": 27,
    "start_time": "2022-05-18T18:47:34.471Z"
   },
   {
    "duration": 14,
    "start_time": "2022-05-18T18:47:34.500Z"
   },
   {
    "duration": 22,
    "start_time": "2022-05-18T18:47:34.515Z"
   },
   {
    "duration": 13,
    "start_time": "2022-05-18T18:47:34.538Z"
   },
   {
    "duration": 53,
    "start_time": "2022-05-18T18:47:34.554Z"
   },
   {
    "duration": 8,
    "start_time": "2022-05-18T18:47:34.610Z"
   },
   {
    "duration": 400,
    "start_time": "2022-05-18T18:47:34.619Z"
   },
   {
    "duration": 19,
    "start_time": "2022-05-18T18:47:35.021Z"
   },
   {
    "duration": 18,
    "start_time": "2022-05-18T18:47:35.042Z"
   },
   {
    "duration": 32,
    "start_time": "2022-05-18T18:47:35.062Z"
   },
   {
    "duration": 356,
    "start_time": "2022-05-18T18:47:35.096Z"
   },
   {
    "duration": 9,
    "start_time": "2022-05-18T18:47:35.454Z"
   },
   {
    "duration": 197,
    "start_time": "2022-05-18T18:47:35.465Z"
   },
   {
    "duration": 6,
    "start_time": "2022-05-18T18:47:35.664Z"
   },
   {
    "duration": 23,
    "start_time": "2022-05-18T18:47:35.671Z"
   },
   {
    "duration": 202,
    "start_time": "2022-05-18T18:47:35.695Z"
   },
   {
    "duration": 207,
    "start_time": "2022-05-18T18:47:35.899Z"
   },
   {
    "duration": 13,
    "start_time": "2022-05-18T18:47:36.108Z"
   },
   {
    "duration": 13,
    "start_time": "2022-05-18T18:47:36.122Z"
   },
   {
    "duration": 12,
    "start_time": "2022-05-18T18:47:36.136Z"
   },
   {
    "duration": 13,
    "start_time": "2022-05-18T18:47:36.150Z"
   },
   {
    "duration": 40,
    "start_time": "2022-05-18T18:47:36.165Z"
   },
   {
    "duration": 12,
    "start_time": "2022-05-18T18:47:36.207Z"
   },
   {
    "duration": 12,
    "start_time": "2022-05-18T18:47:36.220Z"
   },
   {
    "duration": 15,
    "start_time": "2022-05-18T18:47:36.234Z"
   },
   {
    "duration": 12,
    "start_time": "2022-05-18T18:47:36.251Z"
   },
   {
    "duration": 40,
    "start_time": "2022-05-18T18:47:36.264Z"
   },
   {
    "duration": 13,
    "start_time": "2022-05-18T18:47:36.306Z"
   },
   {
    "duration": 46,
    "start_time": "2022-05-18T18:52:47.442Z"
   },
   {
    "duration": 18,
    "start_time": "2022-05-18T18:59:02.142Z"
   },
   {
    "duration": 16,
    "start_time": "2022-05-18T18:59:45.014Z"
   },
   {
    "duration": 4,
    "start_time": "2022-05-18T18:59:51.966Z"
   },
   {
    "duration": 75,
    "start_time": "2022-05-18T18:59:51.973Z"
   },
   {
    "duration": 14,
    "start_time": "2022-05-18T18:59:52.051Z"
   },
   {
    "duration": 9,
    "start_time": "2022-05-18T18:59:52.067Z"
   },
   {
    "duration": 20,
    "start_time": "2022-05-18T18:59:52.096Z"
   },
   {
    "duration": 7,
    "start_time": "2022-05-18T18:59:52.117Z"
   },
   {
    "duration": 17,
    "start_time": "2022-05-18T18:59:52.125Z"
   },
   {
    "duration": 6,
    "start_time": "2022-05-18T18:59:52.144Z"
   },
   {
    "duration": 7,
    "start_time": "2022-05-18T18:59:52.152Z"
   },
   {
    "duration": 20,
    "start_time": "2022-05-18T18:59:52.160Z"
   },
   {
    "duration": 24,
    "start_time": "2022-05-18T18:59:52.183Z"
   },
   {
    "duration": 25,
    "start_time": "2022-05-18T18:59:52.208Z"
   },
   {
    "duration": 20,
    "start_time": "2022-05-18T18:59:52.235Z"
   },
   {
    "duration": 38,
    "start_time": "2022-05-18T18:59:52.257Z"
   },
   {
    "duration": 9,
    "start_time": "2022-05-18T18:59:52.299Z"
   },
   {
    "duration": 431,
    "start_time": "2022-05-18T18:59:52.314Z"
   },
   {
    "duration": 18,
    "start_time": "2022-05-18T18:59:52.747Z"
   },
   {
    "duration": 36,
    "start_time": "2022-05-18T18:59:52.767Z"
   },
   {
    "duration": 27,
    "start_time": "2022-05-18T18:59:52.804Z"
   },
   {
    "duration": 451,
    "start_time": "2022-05-18T18:59:52.832Z"
   },
   {
    "duration": 13,
    "start_time": "2022-05-18T18:59:53.285Z"
   },
   {
    "duration": 192,
    "start_time": "2022-05-18T18:59:53.299Z"
   },
   {
    "duration": 7,
    "start_time": "2022-05-18T18:59:53.493Z"
   },
   {
    "duration": 22,
    "start_time": "2022-05-18T18:59:53.504Z"
   },
   {
    "duration": 212,
    "start_time": "2022-05-18T18:59:53.528Z"
   },
   {
    "duration": 210,
    "start_time": "2022-05-18T18:59:53.742Z"
   },
   {
    "duration": 13,
    "start_time": "2022-05-18T18:59:53.953Z"
   },
   {
    "duration": 30,
    "start_time": "2022-05-18T18:59:53.967Z"
   },
   {
    "duration": 13,
    "start_time": "2022-05-18T18:59:54.002Z"
   },
   {
    "duration": 21,
    "start_time": "2022-05-18T18:59:54.017Z"
   },
   {
    "duration": 20,
    "start_time": "2022-05-18T18:59:54.039Z"
   },
   {
    "duration": 19,
    "start_time": "2022-05-18T18:59:54.061Z"
   },
   {
    "duration": 17,
    "start_time": "2022-05-18T18:59:54.098Z"
   },
   {
    "duration": 24,
    "start_time": "2022-05-18T18:59:54.118Z"
   },
   {
    "duration": 17,
    "start_time": "2022-05-18T18:59:54.144Z"
   },
   {
    "duration": 32,
    "start_time": "2022-05-18T18:59:54.163Z"
   },
   {
    "duration": 19,
    "start_time": "2022-05-18T18:59:54.201Z"
   },
   {
    "duration": 16,
    "start_time": "2022-05-18T18:59:54.222Z"
   },
   {
    "duration": 23,
    "start_time": "2022-05-18T19:00:48.724Z"
   },
   {
    "duration": 8,
    "start_time": "2022-05-18T19:00:51.723Z"
   },
   {
    "duration": 75,
    "start_time": "2022-05-18T19:00:51.733Z"
   },
   {
    "duration": 19,
    "start_time": "2022-05-18T19:00:51.816Z"
   },
   {
    "duration": 8,
    "start_time": "2022-05-18T19:00:51.838Z"
   },
   {
    "duration": 8,
    "start_time": "2022-05-18T19:00:51.847Z"
   },
   {
    "duration": 5,
    "start_time": "2022-05-18T19:00:51.857Z"
   },
   {
    "duration": 22,
    "start_time": "2022-05-18T19:00:51.864Z"
   },
   {
    "duration": 26,
    "start_time": "2022-05-18T19:00:51.888Z"
   },
   {
    "duration": 26,
    "start_time": "2022-05-18T19:00:51.916Z"
   },
   {
    "duration": 26,
    "start_time": "2022-05-18T19:00:51.944Z"
   },
   {
    "duration": 15,
    "start_time": "2022-05-18T19:00:51.972Z"
   },
   {
    "duration": 34,
    "start_time": "2022-05-18T19:00:51.989Z"
   },
   {
    "duration": 38,
    "start_time": "2022-05-18T19:00:52.025Z"
   },
   {
    "duration": 26,
    "start_time": "2022-05-18T19:00:52.065Z"
   },
   {
    "duration": 18,
    "start_time": "2022-05-18T19:00:52.093Z"
   },
   {
    "duration": 874,
    "start_time": "2022-05-18T19:00:52.113Z"
   },
   {
    "duration": 38,
    "start_time": "2022-05-18T19:00:52.989Z"
   },
   {
    "duration": 36,
    "start_time": "2022-05-18T19:00:53.029Z"
   },
   {
    "duration": 9,
    "start_time": "2022-05-18T19:00:53.068Z"
   },
   {
    "duration": 574,
    "start_time": "2022-05-18T19:00:53.079Z"
   },
   {
    "duration": 11,
    "start_time": "2022-05-18T19:00:53.655Z"
   },
   {
    "duration": 275,
    "start_time": "2022-05-18T19:00:53.668Z"
   },
   {
    "duration": 7,
    "start_time": "2022-05-18T19:00:53.947Z"
   },
   {
    "duration": 13,
    "start_time": "2022-05-18T19:00:53.959Z"
   },
   {
    "duration": 317,
    "start_time": "2022-05-18T19:00:53.974Z"
   },
   {
    "duration": 250,
    "start_time": "2022-05-18T19:00:54.292Z"
   },
   {
    "duration": 15,
    "start_time": "2022-05-18T19:00:54.544Z"
   },
   {
    "duration": 24,
    "start_time": "2022-05-18T19:00:54.562Z"
   },
   {
    "duration": 24,
    "start_time": "2022-05-18T19:00:54.588Z"
   },
   {
    "duration": 50,
    "start_time": "2022-05-18T19:00:54.614Z"
   },
   {
    "duration": 18,
    "start_time": "2022-05-18T19:00:54.666Z"
   },
   {
    "duration": 62,
    "start_time": "2022-05-18T19:00:54.686Z"
   },
   {
    "duration": 15,
    "start_time": "2022-05-18T19:00:54.750Z"
   },
   {
    "duration": 19,
    "start_time": "2022-05-18T19:00:54.766Z"
   },
   {
    "duration": 30,
    "start_time": "2022-05-18T19:00:54.786Z"
   },
   {
    "duration": 28,
    "start_time": "2022-05-18T19:00:54.817Z"
   },
   {
    "duration": 20,
    "start_time": "2022-05-18T19:00:54.848Z"
   },
   {
    "duration": 16,
    "start_time": "2022-05-18T19:00:54.870Z"
   },
   {
    "duration": 28,
    "start_time": "2022-05-18T19:01:03.478Z"
   },
   {
    "duration": 23,
    "start_time": "2022-05-18T19:05:00.078Z"
   },
   {
    "duration": 25,
    "start_time": "2022-05-18T19:05:52.034Z"
   },
   {
    "duration": 25,
    "start_time": "2022-05-18T19:06:12.544Z"
   },
   {
    "duration": 19,
    "start_time": "2022-05-18T19:07:19.224Z"
   },
   {
    "duration": 40,
    "start_time": "2022-05-18T19:08:19.685Z"
   },
   {
    "duration": 36,
    "start_time": "2022-05-18T19:48:42.081Z"
   },
   {
    "duration": 33,
    "start_time": "2022-05-18T19:49:43.202Z"
   },
   {
    "duration": 3,
    "start_time": "2022-05-18T19:56:29.530Z"
   },
   {
    "duration": 56,
    "start_time": "2022-05-18T19:56:29.535Z"
   },
   {
    "duration": 18,
    "start_time": "2022-05-18T19:56:29.592Z"
   },
   {
    "duration": 10,
    "start_time": "2022-05-18T19:56:29.612Z"
   },
   {
    "duration": 5,
    "start_time": "2022-05-18T19:56:29.624Z"
   },
   {
    "duration": 4,
    "start_time": "2022-05-18T19:56:29.631Z"
   },
   {
    "duration": 9,
    "start_time": "2022-05-18T19:56:29.637Z"
   },
   {
    "duration": 7,
    "start_time": "2022-05-18T19:56:29.648Z"
   },
   {
    "duration": 5,
    "start_time": "2022-05-18T19:56:29.656Z"
   },
   {
    "duration": 29,
    "start_time": "2022-05-18T19:56:29.694Z"
   },
   {
    "duration": 11,
    "start_time": "2022-05-18T19:56:29.725Z"
   },
   {
    "duration": 18,
    "start_time": "2022-05-18T19:56:29.738Z"
   },
   {
    "duration": 13,
    "start_time": "2022-05-18T19:56:29.757Z"
   },
   {
    "duration": 36,
    "start_time": "2022-05-18T19:56:29.772Z"
   },
   {
    "duration": 11,
    "start_time": "2022-05-18T19:56:29.812Z"
   },
   {
    "duration": 405,
    "start_time": "2022-05-18T19:56:29.825Z"
   },
   {
    "duration": 19,
    "start_time": "2022-05-18T19:56:30.231Z"
   },
   {
    "duration": 15,
    "start_time": "2022-05-18T19:56:30.251Z"
   },
   {
    "duration": 39,
    "start_time": "2022-05-18T19:56:30.267Z"
   },
   {
    "duration": 350,
    "start_time": "2022-05-18T19:56:30.308Z"
   },
   {
    "duration": 7,
    "start_time": "2022-05-18T19:56:30.660Z"
   },
   {
    "duration": 300,
    "start_time": "2022-05-18T19:56:30.668Z"
   },
   {
    "duration": 6,
    "start_time": "2022-05-18T19:56:30.970Z"
   },
   {
    "duration": 31,
    "start_time": "2022-05-18T19:56:30.978Z"
   },
   {
    "duration": 211,
    "start_time": "2022-05-18T19:56:31.011Z"
   },
   {
    "duration": 206,
    "start_time": "2022-05-18T19:56:31.225Z"
   },
   {
    "duration": 14,
    "start_time": "2022-05-18T19:56:31.433Z"
   },
   {
    "duration": 13,
    "start_time": "2022-05-18T19:56:31.449Z"
   },
   {
    "duration": 14,
    "start_time": "2022-05-18T19:56:31.465Z"
   },
   {
    "duration": 31,
    "start_time": "2022-05-18T19:56:31.480Z"
   },
   {
    "duration": 14,
    "start_time": "2022-05-18T19:56:31.512Z"
   },
   {
    "duration": 11,
    "start_time": "2022-05-18T19:56:31.527Z"
   },
   {
    "duration": 11,
    "start_time": "2022-05-18T19:56:31.540Z"
   },
   {
    "duration": 13,
    "start_time": "2022-05-18T19:56:31.552Z"
   },
   {
    "duration": 48,
    "start_time": "2022-05-18T19:56:31.566Z"
   },
   {
    "duration": 12,
    "start_time": "2022-05-18T19:56:31.616Z"
   },
   {
    "duration": 11,
    "start_time": "2022-05-18T19:56:31.629Z"
   },
   {
    "duration": 11,
    "start_time": "2022-05-18T19:56:31.642Z"
   },
   {
    "duration": 11,
    "start_time": "2022-05-18T19:56:31.655Z"
   },
   {
    "duration": 34,
    "start_time": "2022-05-18T19:56:31.668Z"
   },
   {
    "duration": 64,
    "start_time": "2022-05-19T19:51:25.689Z"
   },
   {
    "duration": 1732,
    "start_time": "2022-05-19T19:51:28.992Z"
   },
   {
    "duration": 114,
    "start_time": "2022-05-19T19:51:30.730Z"
   },
   {
    "duration": 21,
    "start_time": "2022-05-19T19:51:30.847Z"
   },
   {
    "duration": 6,
    "start_time": "2022-05-19T19:51:30.871Z"
   },
   {
    "duration": 10,
    "start_time": "2022-05-19T19:51:30.894Z"
   },
   {
    "duration": 11,
    "start_time": "2022-05-19T19:51:30.906Z"
   },
   {
    "duration": 18,
    "start_time": "2022-05-19T19:51:30.919Z"
   },
   {
    "duration": 8,
    "start_time": "2022-05-19T19:51:30.939Z"
   },
   {
    "duration": 13,
    "start_time": "2022-05-19T19:51:30.949Z"
   },
   {
    "duration": 43,
    "start_time": "2022-05-19T19:51:30.965Z"
   },
   {
    "duration": 19,
    "start_time": "2022-05-19T19:51:31.010Z"
   },
   {
    "duration": 24,
    "start_time": "2022-05-19T19:51:31.031Z"
   },
   {
    "duration": 50,
    "start_time": "2022-05-19T19:51:31.057Z"
   },
   {
    "duration": 18,
    "start_time": "2022-05-19T19:51:31.109Z"
   },
   {
    "duration": 12,
    "start_time": "2022-05-19T19:51:31.129Z"
   },
   {
    "duration": 601,
    "start_time": "2022-05-19T19:51:31.144Z"
   },
   {
    "duration": 22,
    "start_time": "2022-05-19T19:51:31.748Z"
   },
   {
    "duration": 25,
    "start_time": "2022-05-19T19:51:31.772Z"
   },
   {
    "duration": 10,
    "start_time": "2022-05-19T19:51:31.800Z"
   },
   {
    "duration": 443,
    "start_time": "2022-05-19T19:51:31.812Z"
   },
   {
    "duration": 8,
    "start_time": "2022-05-19T19:51:32.257Z"
   },
   {
    "duration": 244,
    "start_time": "2022-05-19T19:51:32.267Z"
   },
   {
    "duration": 11,
    "start_time": "2022-05-19T19:51:32.514Z"
   },
   {
    "duration": 22,
    "start_time": "2022-05-19T19:51:32.527Z"
   },
   {
    "duration": 266,
    "start_time": "2022-05-19T19:51:32.551Z"
   },
   {
    "duration": 265,
    "start_time": "2022-05-19T19:51:32.819Z"
   },
   {
    "duration": 22,
    "start_time": "2022-05-19T19:51:33.086Z"
   },
   {
    "duration": 13,
    "start_time": "2022-05-19T19:51:33.111Z"
   },
   {
    "duration": 25,
    "start_time": "2022-05-19T19:51:33.126Z"
   },
   {
    "duration": 42,
    "start_time": "2022-05-19T19:51:33.154Z"
   },
   {
    "duration": 24,
    "start_time": "2022-05-19T19:51:33.200Z"
   },
   {
    "duration": 19,
    "start_time": "2022-05-19T19:51:33.226Z"
   },
   {
    "duration": 19,
    "start_time": "2022-05-19T19:51:33.247Z"
   },
   {
    "duration": 18,
    "start_time": "2022-05-19T19:51:33.293Z"
   },
   {
    "duration": 18,
    "start_time": "2022-05-19T19:51:33.313Z"
   },
   {
    "duration": 18,
    "start_time": "2022-05-19T19:51:33.333Z"
   },
   {
    "duration": 48,
    "start_time": "2022-05-19T19:51:33.353Z"
   },
   {
    "duration": 17,
    "start_time": "2022-05-19T19:51:33.403Z"
   },
   {
    "duration": 16,
    "start_time": "2022-05-19T19:51:33.422Z"
   },
   {
    "duration": 17,
    "start_time": "2022-05-19T19:51:33.439Z"
   },
   {
    "duration": 60,
    "start_time": "2022-05-19T19:51:33.458Z"
   },
   {
    "duration": 96,
    "start_time": "2022-05-19T19:51:33.519Z"
   },
   {
    "duration": 3,
    "start_time": "2022-05-19T19:56:39.154Z"
   },
   {
    "duration": 67,
    "start_time": "2022-05-19T19:56:39.159Z"
   },
   {
    "duration": 17,
    "start_time": "2022-05-19T19:56:39.228Z"
   },
   {
    "duration": 9,
    "start_time": "2022-05-19T19:56:39.247Z"
   },
   {
    "duration": 40,
    "start_time": "2022-05-19T19:56:39.259Z"
   },
   {
    "duration": 16,
    "start_time": "2022-05-19T19:56:39.301Z"
   },
   {
    "duration": 18,
    "start_time": "2022-05-19T19:56:39.319Z"
   },
   {
    "duration": 9,
    "start_time": "2022-05-19T19:56:39.339Z"
   },
   {
    "duration": 13,
    "start_time": "2022-05-19T19:56:39.350Z"
   },
   {
    "duration": 41,
    "start_time": "2022-05-19T19:56:39.365Z"
   },
   {
    "duration": 16,
    "start_time": "2022-05-19T19:56:39.409Z"
   },
   {
    "duration": 24,
    "start_time": "2022-05-19T19:56:39.427Z"
   },
   {
    "duration": 45,
    "start_time": "2022-05-19T19:56:39.453Z"
   },
   {
    "duration": 19,
    "start_time": "2022-05-19T19:56:39.500Z"
   },
   {
    "duration": 9,
    "start_time": "2022-05-19T19:56:39.521Z"
   },
   {
    "duration": 507,
    "start_time": "2022-05-19T19:56:39.532Z"
   },
   {
    "duration": 25,
    "start_time": "2022-05-19T19:56:40.041Z"
   },
   {
    "duration": 38,
    "start_time": "2022-05-19T19:56:40.068Z"
   },
   {
    "duration": 10,
    "start_time": "2022-05-19T19:56:40.108Z"
   },
   {
    "duration": 441,
    "start_time": "2022-05-19T19:56:40.120Z"
   },
   {
    "duration": 11,
    "start_time": "2022-05-19T19:56:40.563Z"
   },
   {
    "duration": 261,
    "start_time": "2022-05-19T19:56:40.576Z"
   },
   {
    "duration": 7,
    "start_time": "2022-05-19T19:56:40.839Z"
   },
   {
    "duration": 16,
    "start_time": "2022-05-19T19:56:40.849Z"
   },
   {
    "duration": 264,
    "start_time": "2022-05-19T19:56:40.867Z"
   },
   {
    "duration": 242,
    "start_time": "2022-05-19T19:56:41.133Z"
   },
   {
    "duration": 27,
    "start_time": "2022-05-19T19:56:41.377Z"
   },
   {
    "duration": 17,
    "start_time": "2022-05-19T19:56:41.405Z"
   },
   {
    "duration": 28,
    "start_time": "2022-05-19T19:56:41.426Z"
   },
   {
    "duration": 22,
    "start_time": "2022-05-19T19:56:41.456Z"
   },
   {
    "duration": 25,
    "start_time": "2022-05-19T19:56:41.481Z"
   },
   {
    "duration": 16,
    "start_time": "2022-05-19T19:56:41.508Z"
   },
   {
    "duration": 17,
    "start_time": "2022-05-19T19:56:41.526Z"
   },
   {
    "duration": 49,
    "start_time": "2022-05-19T19:56:41.545Z"
   },
   {
    "duration": 19,
    "start_time": "2022-05-19T19:56:41.596Z"
   },
   {
    "duration": 17,
    "start_time": "2022-05-19T19:56:41.617Z"
   },
   {
    "duration": 18,
    "start_time": "2022-05-19T19:56:41.636Z"
   },
   {
    "duration": 53,
    "start_time": "2022-05-19T19:56:41.655Z"
   },
   {
    "duration": 16,
    "start_time": "2022-05-19T19:56:41.710Z"
   },
   {
    "duration": 16,
    "start_time": "2022-05-19T19:56:41.728Z"
   },
   {
    "duration": 49,
    "start_time": "2022-05-19T19:56:41.746Z"
   },
   {
    "duration": 0,
    "start_time": "2022-05-19T19:56:41.798Z"
   },
   {
    "duration": 4,
    "start_time": "2022-05-19T19:58:17.893Z"
   },
   {
    "duration": 69,
    "start_time": "2022-05-19T19:58:17.900Z"
   },
   {
    "duration": 36,
    "start_time": "2022-05-19T19:58:17.972Z"
   },
   {
    "duration": 5,
    "start_time": "2022-05-19T19:58:18.010Z"
   },
   {
    "duration": 8,
    "start_time": "2022-05-19T19:58:18.019Z"
   },
   {
    "duration": 7,
    "start_time": "2022-05-19T19:58:18.029Z"
   },
   {
    "duration": 58,
    "start_time": "2022-05-19T19:58:18.038Z"
   },
   {
    "duration": 13,
    "start_time": "2022-05-19T19:58:18.097Z"
   },
   {
    "duration": 7,
    "start_time": "2022-05-19T19:58:18.112Z"
   },
   {
    "duration": 23,
    "start_time": "2022-05-19T19:58:18.121Z"
   },
   {
    "duration": 17,
    "start_time": "2022-05-19T19:58:18.147Z"
   },
   {
    "duration": 25,
    "start_time": "2022-05-19T19:58:18.194Z"
   },
   {
    "duration": 19,
    "start_time": "2022-05-19T19:58:18.221Z"
   },
   {
    "duration": 19,
    "start_time": "2022-05-19T19:58:18.242Z"
   },
   {
    "duration": 39,
    "start_time": "2022-05-19T19:58:18.262Z"
   },
   {
    "duration": 480,
    "start_time": "2022-05-19T19:58:18.303Z"
   },
   {
    "duration": 29,
    "start_time": "2022-05-19T19:58:18.786Z"
   },
   {
    "duration": 19,
    "start_time": "2022-05-19T19:58:18.817Z"
   },
   {
    "duration": 15,
    "start_time": "2022-05-19T19:58:18.838Z"
   },
   {
    "duration": 611,
    "start_time": "2022-05-19T19:58:18.855Z"
   },
   {
    "duration": 8,
    "start_time": "2022-05-19T19:58:19.468Z"
   },
   {
    "duration": 242,
    "start_time": "2022-05-19T19:58:19.478Z"
   },
   {
    "duration": 8,
    "start_time": "2022-05-19T19:58:19.722Z"
   },
   {
    "duration": 35,
    "start_time": "2022-05-19T19:58:19.731Z"
   },
   {
    "duration": 279,
    "start_time": "2022-05-19T19:58:19.768Z"
   },
   {
    "duration": 262,
    "start_time": "2022-05-19T19:58:20.050Z"
   },
   {
    "duration": 16,
    "start_time": "2022-05-19T19:58:20.314Z"
   },
   {
    "duration": 14,
    "start_time": "2022-05-19T19:58:20.332Z"
   },
   {
    "duration": 18,
    "start_time": "2022-05-19T19:58:20.350Z"
   },
   {
    "duration": 39,
    "start_time": "2022-05-19T19:58:20.370Z"
   },
   {
    "duration": 18,
    "start_time": "2022-05-19T19:58:20.411Z"
   },
   {
    "duration": 16,
    "start_time": "2022-05-19T19:58:20.431Z"
   },
   {
    "duration": 49,
    "start_time": "2022-05-19T19:58:20.449Z"
   },
   {
    "duration": 17,
    "start_time": "2022-05-19T19:58:20.500Z"
   },
   {
    "duration": 17,
    "start_time": "2022-05-19T19:58:20.519Z"
   },
   {
    "duration": 17,
    "start_time": "2022-05-19T19:58:20.538Z"
   },
   {
    "duration": 50,
    "start_time": "2022-05-19T19:58:20.556Z"
   },
   {
    "duration": 17,
    "start_time": "2022-05-19T19:58:20.608Z"
   },
   {
    "duration": 25,
    "start_time": "2022-05-19T19:58:20.627Z"
   },
   {
    "duration": 50,
    "start_time": "2022-05-19T19:58:20.654Z"
   },
   {
    "duration": 59,
    "start_time": "2022-05-19T19:58:20.706Z"
   },
   {
    "duration": 0,
    "start_time": "2022-05-19T19:58:20.767Z"
   },
   {
    "duration": 8,
    "start_time": "2022-05-19T19:58:40.023Z"
   },
   {
    "duration": 16,
    "start_time": "2022-05-19T19:59:02.649Z"
   },
   {
    "duration": 11,
    "start_time": "2022-05-19T19:59:08.746Z"
   },
   {
    "duration": 3,
    "start_time": "2022-05-19T20:00:30.421Z"
   },
   {
    "duration": 90,
    "start_time": "2022-05-19T20:00:30.427Z"
   },
   {
    "duration": 17,
    "start_time": "2022-05-19T20:00:30.519Z"
   },
   {
    "duration": 31,
    "start_time": "2022-05-19T20:00:30.538Z"
   },
   {
    "duration": 47,
    "start_time": "2022-05-19T20:00:30.572Z"
   },
   {
    "duration": 52,
    "start_time": "2022-05-19T20:00:30.622Z"
   },
   {
    "duration": 42,
    "start_time": "2022-05-19T20:00:30.676Z"
   },
   {
    "duration": 46,
    "start_time": "2022-05-19T20:00:30.720Z"
   },
   {
    "duration": 28,
    "start_time": "2022-05-19T20:00:30.768Z"
   },
   {
    "duration": 53,
    "start_time": "2022-05-19T20:00:30.798Z"
   },
   {
    "duration": 17,
    "start_time": "2022-05-19T20:00:30.854Z"
   },
   {
    "duration": 44,
    "start_time": "2022-05-19T20:00:30.873Z"
   },
   {
    "duration": 34,
    "start_time": "2022-05-19T20:00:30.918Z"
   },
   {
    "duration": 55,
    "start_time": "2022-05-19T20:00:30.954Z"
   },
   {
    "duration": 36,
    "start_time": "2022-05-19T20:00:31.011Z"
   },
   {
    "duration": 497,
    "start_time": "2022-05-19T20:00:31.049Z"
   },
   {
    "duration": 23,
    "start_time": "2022-05-19T20:00:31.548Z"
   },
   {
    "duration": 36,
    "start_time": "2022-05-19T20:00:31.573Z"
   },
   {
    "duration": 9,
    "start_time": "2022-05-19T20:00:31.611Z"
   },
   {
    "duration": 485,
    "start_time": "2022-05-19T20:00:31.623Z"
   },
   {
    "duration": 10,
    "start_time": "2022-05-19T20:00:32.110Z"
   },
   {
    "duration": 270,
    "start_time": "2022-05-19T20:00:32.122Z"
   },
   {
    "duration": 9,
    "start_time": "2022-05-19T20:00:32.395Z"
   },
   {
    "duration": 42,
    "start_time": "2022-05-19T20:00:32.406Z"
   },
   {
    "duration": 283,
    "start_time": "2022-05-19T20:00:32.450Z"
   },
   {
    "duration": 259,
    "start_time": "2022-05-19T20:00:32.735Z"
   },
   {
    "duration": 16,
    "start_time": "2022-05-19T20:00:32.996Z"
   },
   {
    "duration": 36,
    "start_time": "2022-05-19T20:00:33.014Z"
   },
   {
    "duration": 24,
    "start_time": "2022-05-19T20:00:33.054Z"
   },
   {
    "duration": 28,
    "start_time": "2022-05-19T20:00:33.080Z"
   },
   {
    "duration": 20,
    "start_time": "2022-05-19T20:00:33.111Z"
   },
   {
    "duration": 27,
    "start_time": "2022-05-19T20:00:33.133Z"
   },
   {
    "duration": 34,
    "start_time": "2022-05-19T20:00:33.163Z"
   },
   {
    "duration": 30,
    "start_time": "2022-05-19T20:00:33.200Z"
   },
   {
    "duration": 23,
    "start_time": "2022-05-19T20:00:33.232Z"
   },
   {
    "duration": 45,
    "start_time": "2022-05-19T20:00:33.257Z"
   },
   {
    "duration": 26,
    "start_time": "2022-05-19T20:00:33.305Z"
   },
   {
    "duration": 35,
    "start_time": "2022-05-19T20:00:33.333Z"
   },
   {
    "duration": 37,
    "start_time": "2022-05-19T20:00:33.371Z"
   },
   {
    "duration": 25,
    "start_time": "2022-05-19T20:00:33.410Z"
   },
   {
    "duration": 63,
    "start_time": "2022-05-19T20:00:33.437Z"
   },
   {
    "duration": 0,
    "start_time": "2022-05-19T20:00:33.502Z"
   },
   {
    "duration": 3,
    "start_time": "2022-05-19T20:03:32.215Z"
   },
   {
    "duration": 64,
    "start_time": "2022-05-19T20:03:32.223Z"
   },
   {
    "duration": 15,
    "start_time": "2022-05-19T20:03:32.289Z"
   },
   {
    "duration": 4,
    "start_time": "2022-05-19T20:03:32.306Z"
   },
   {
    "duration": 7,
    "start_time": "2022-05-19T20:03:32.313Z"
   },
   {
    "duration": 13,
    "start_time": "2022-05-19T20:03:32.322Z"
   },
   {
    "duration": 16,
    "start_time": "2022-05-19T20:03:32.338Z"
   },
   {
    "duration": 39,
    "start_time": "2022-05-19T20:03:32.356Z"
   },
   {
    "duration": 6,
    "start_time": "2022-05-19T20:03:32.397Z"
   },
   {
    "duration": 38,
    "start_time": "2022-05-19T20:03:32.404Z"
   },
   {
    "duration": 19,
    "start_time": "2022-05-19T20:03:32.446Z"
   },
   {
    "duration": 42,
    "start_time": "2022-05-19T20:03:32.467Z"
   },
   {
    "duration": 20,
    "start_time": "2022-05-19T20:03:32.512Z"
   },
   {
    "duration": 20,
    "start_time": "2022-05-19T20:03:32.535Z"
   },
   {
    "duration": 40,
    "start_time": "2022-05-19T20:03:32.556Z"
   },
   {
    "duration": 480,
    "start_time": "2022-05-19T20:03:32.598Z"
   },
   {
    "duration": 33,
    "start_time": "2022-05-19T20:03:33.080Z"
   },
   {
    "duration": 21,
    "start_time": "2022-05-19T20:03:33.115Z"
   },
   {
    "duration": 11,
    "start_time": "2022-05-19T20:03:33.138Z"
   },
   {
    "duration": 477,
    "start_time": "2022-05-19T20:03:33.151Z"
   },
   {
    "duration": 8,
    "start_time": "2022-05-19T20:03:33.630Z"
   },
   {
    "duration": 363,
    "start_time": "2022-05-19T20:03:33.640Z"
   },
   {
    "duration": 8,
    "start_time": "2022-05-19T20:03:34.005Z"
   },
   {
    "duration": 15,
    "start_time": "2022-05-19T20:03:34.015Z"
   },
   {
    "duration": 281,
    "start_time": "2022-05-19T20:03:34.032Z"
   },
   {
    "duration": 274,
    "start_time": "2022-05-19T20:03:34.315Z"
   },
   {
    "duration": 18,
    "start_time": "2022-05-19T20:03:34.591Z"
   },
   {
    "duration": 13,
    "start_time": "2022-05-19T20:03:34.611Z"
   },
   {
    "duration": 17,
    "start_time": "2022-05-19T20:03:34.629Z"
   },
   {
    "duration": 67,
    "start_time": "2022-05-19T20:03:34.648Z"
   },
   {
    "duration": 23,
    "start_time": "2022-05-19T20:03:34.718Z"
   },
   {
    "duration": 21,
    "start_time": "2022-05-19T20:03:34.744Z"
   },
   {
    "duration": 41,
    "start_time": "2022-05-19T20:03:34.767Z"
   },
   {
    "duration": 18,
    "start_time": "2022-05-19T20:03:34.810Z"
   },
   {
    "duration": 20,
    "start_time": "2022-05-19T20:03:34.831Z"
   },
   {
    "duration": 58,
    "start_time": "2022-05-19T20:03:34.853Z"
   },
   {
    "duration": 18,
    "start_time": "2022-05-19T20:03:34.913Z"
   },
   {
    "duration": 18,
    "start_time": "2022-05-19T20:03:34.932Z"
   },
   {
    "duration": 49,
    "start_time": "2022-05-19T20:03:34.952Z"
   },
   {
    "duration": 19,
    "start_time": "2022-05-19T20:03:35.003Z"
   },
   {
    "duration": 31,
    "start_time": "2022-05-19T20:03:35.023Z"
   },
   {
    "duration": 0,
    "start_time": "2022-05-19T20:03:35.056Z"
   },
   {
    "duration": 3,
    "start_time": "2022-05-19T20:05:45.859Z"
   },
   {
    "duration": 70,
    "start_time": "2022-05-19T20:05:45.864Z"
   },
   {
    "duration": 18,
    "start_time": "2022-05-19T20:05:45.936Z"
   },
   {
    "duration": 38,
    "start_time": "2022-05-19T20:05:45.956Z"
   },
   {
    "duration": 6,
    "start_time": "2022-05-19T20:05:45.997Z"
   },
   {
    "duration": 13,
    "start_time": "2022-05-19T20:05:46.005Z"
   },
   {
    "duration": 19,
    "start_time": "2022-05-19T20:05:46.020Z"
   },
   {
    "duration": 24,
    "start_time": "2022-05-19T20:05:46.041Z"
   },
   {
    "duration": 17,
    "start_time": "2022-05-19T20:05:46.068Z"
   },
   {
    "duration": 32,
    "start_time": "2022-05-19T20:05:46.087Z"
   },
   {
    "duration": 18,
    "start_time": "2022-05-19T20:05:46.122Z"
   },
   {
    "duration": 23,
    "start_time": "2022-05-19T20:05:46.143Z"
   },
   {
    "duration": 46,
    "start_time": "2022-05-19T20:05:46.168Z"
   },
   {
    "duration": 22,
    "start_time": "2022-05-19T20:05:46.216Z"
   },
   {
    "duration": 18,
    "start_time": "2022-05-19T20:05:46.240Z"
   },
   {
    "duration": 472,
    "start_time": "2022-05-19T20:05:46.260Z"
   },
   {
    "duration": 24,
    "start_time": "2022-05-19T20:05:46.734Z"
   },
   {
    "duration": 37,
    "start_time": "2022-05-19T20:05:46.760Z"
   },
   {
    "duration": 9,
    "start_time": "2022-05-19T20:05:46.799Z"
   },
   {
    "duration": 425,
    "start_time": "2022-05-19T20:05:46.810Z"
   },
   {
    "duration": 8,
    "start_time": "2022-05-19T20:05:47.237Z"
   },
   {
    "duration": 215,
    "start_time": "2022-05-19T20:05:47.246Z"
   },
   {
    "duration": 7,
    "start_time": "2022-05-19T20:05:47.463Z"
   },
   {
    "duration": 33,
    "start_time": "2022-05-19T20:05:47.472Z"
   },
   {
    "duration": 237,
    "start_time": "2022-05-19T20:05:47.507Z"
   },
   {
    "duration": 241,
    "start_time": "2022-05-19T20:05:47.746Z"
   },
   {
    "duration": 15,
    "start_time": "2022-05-19T20:05:47.994Z"
   },
   {
    "duration": 14,
    "start_time": "2022-05-19T20:05:48.011Z"
   },
   {
    "duration": 16,
    "start_time": "2022-05-19T20:05:48.029Z"
   },
   {
    "duration": 17,
    "start_time": "2022-05-19T20:05:48.047Z"
   },
   {
    "duration": 44,
    "start_time": "2022-05-19T20:05:48.066Z"
   },
   {
    "duration": 17,
    "start_time": "2022-05-19T20:05:48.112Z"
   },
   {
    "duration": 18,
    "start_time": "2022-05-19T20:05:48.130Z"
   },
   {
    "duration": 51,
    "start_time": "2022-05-19T20:05:48.150Z"
   },
   {
    "duration": 17,
    "start_time": "2022-05-19T20:05:48.203Z"
   },
   {
    "duration": 17,
    "start_time": "2022-05-19T20:05:48.222Z"
   },
   {
    "duration": 17,
    "start_time": "2022-05-19T20:05:48.241Z"
   },
   {
    "duration": 47,
    "start_time": "2022-05-19T20:05:48.260Z"
   },
   {
    "duration": 17,
    "start_time": "2022-05-19T20:05:48.308Z"
   },
   {
    "duration": 17,
    "start_time": "2022-05-19T20:05:48.326Z"
   },
   {
    "duration": 54,
    "start_time": "2022-05-19T20:05:48.344Z"
   },
   {
    "duration": 8,
    "start_time": "2022-05-19T20:05:48.400Z"
   },
   {
    "duration": 309,
    "start_time": "2022-05-19T20:16:44.609Z"
   },
   {
    "duration": 428,
    "start_time": "2022-05-19T20:16:59.821Z"
   },
   {
    "duration": 7,
    "start_time": "2022-05-19T20:17:22.389Z"
   },
   {
    "duration": 5,
    "start_time": "2022-05-19T20:17:38.354Z"
   },
   {
    "duration": 5,
    "start_time": "2022-05-19T20:17:53.915Z"
   },
   {
    "duration": 5,
    "start_time": "2022-05-19T20:17:56.257Z"
   },
   {
    "duration": 6,
    "start_time": "2022-05-19T20:20:40.616Z"
   },
   {
    "duration": 6,
    "start_time": "2022-05-19T20:20:43.258Z"
   },
   {
    "duration": 5,
    "start_time": "2022-05-19T20:27:43.369Z"
   },
   {
    "duration": 5,
    "start_time": "2022-05-19T20:27:45.737Z"
   },
   {
    "duration": 26,
    "start_time": "2022-05-19T20:33:33.165Z"
   },
   {
    "duration": 4,
    "start_time": "2022-05-19T20:40:55.040Z"
   },
   {
    "duration": 65,
    "start_time": "2022-05-19T20:40:55.046Z"
   },
   {
    "duration": 15,
    "start_time": "2022-05-19T20:40:55.113Z"
   },
   {
    "duration": 6,
    "start_time": "2022-05-19T20:40:55.130Z"
   },
   {
    "duration": 6,
    "start_time": "2022-05-19T20:40:55.138Z"
   },
   {
    "duration": 5,
    "start_time": "2022-05-19T20:40:55.146Z"
   },
   {
    "duration": 47,
    "start_time": "2022-05-19T20:40:55.153Z"
   },
   {
    "duration": 8,
    "start_time": "2022-05-19T20:40:55.202Z"
   },
   {
    "duration": 11,
    "start_time": "2022-05-19T20:40:55.212Z"
   },
   {
    "duration": 26,
    "start_time": "2022-05-19T20:40:55.225Z"
   },
   {
    "duration": 43,
    "start_time": "2022-05-19T20:40:55.254Z"
   },
   {
    "duration": 25,
    "start_time": "2022-05-19T20:40:55.299Z"
   },
   {
    "duration": 19,
    "start_time": "2022-05-19T20:40:55.326Z"
   },
   {
    "duration": 19,
    "start_time": "2022-05-19T20:40:55.346Z"
   },
   {
    "duration": 11,
    "start_time": "2022-05-19T20:40:55.394Z"
   },
   {
    "duration": 494,
    "start_time": "2022-05-19T20:40:55.407Z"
   },
   {
    "duration": 24,
    "start_time": "2022-05-19T20:40:55.903Z"
   },
   {
    "duration": 18,
    "start_time": "2022-05-19T20:40:55.929Z"
   },
   {
    "duration": 11,
    "start_time": "2022-05-19T20:40:55.950Z"
   },
   {
    "duration": 480,
    "start_time": "2022-05-19T20:40:55.962Z"
   },
   {
    "duration": 9,
    "start_time": "2022-05-19T20:40:56.444Z"
   },
   {
    "duration": 257,
    "start_time": "2022-05-19T20:40:56.455Z"
   },
   {
    "duration": 8,
    "start_time": "2022-05-19T20:40:56.714Z"
   },
   {
    "duration": 25,
    "start_time": "2022-05-19T20:40:56.724Z"
   },
   {
    "duration": 276,
    "start_time": "2022-05-19T20:40:56.751Z"
   },
   {
    "duration": 268,
    "start_time": "2022-05-19T20:40:57.029Z"
   },
   {
    "duration": 14,
    "start_time": "2022-05-19T20:40:57.299Z"
   },
   {
    "duration": 10,
    "start_time": "2022-05-19T20:40:57.316Z"
   },
   {
    "duration": 17,
    "start_time": "2022-05-19T20:40:57.330Z"
   },
   {
    "duration": 49,
    "start_time": "2022-05-19T20:40:57.349Z"
   },
   {
    "duration": 21,
    "start_time": "2022-05-19T20:40:57.400Z"
   },
   {
    "duration": 19,
    "start_time": "2022-05-19T20:40:57.423Z"
   },
   {
    "duration": 51,
    "start_time": "2022-05-19T20:40:57.445Z"
   },
   {
    "duration": 19,
    "start_time": "2022-05-19T20:40:57.498Z"
   },
   {
    "duration": 19,
    "start_time": "2022-05-19T20:40:57.519Z"
   },
   {
    "duration": 18,
    "start_time": "2022-05-19T20:40:57.540Z"
   },
   {
    "duration": 51,
    "start_time": "2022-05-19T20:40:57.561Z"
   },
   {
    "duration": 20,
    "start_time": "2022-05-19T20:40:57.614Z"
   },
   {
    "duration": 23,
    "start_time": "2022-05-19T20:40:57.636Z"
   },
   {
    "duration": 52,
    "start_time": "2022-05-19T20:40:57.661Z"
   },
   {
    "duration": 35,
    "start_time": "2022-05-19T20:40:57.715Z"
   },
   {
    "duration": 70,
    "start_time": "2022-05-19T20:40:57.752Z"
   },
   {
    "duration": 7,
    "start_time": "2022-05-19T20:41:56.689Z"
   },
   {
    "duration": 5,
    "start_time": "2022-05-19T20:42:02.716Z"
   },
   {
    "duration": 5,
    "start_time": "2022-05-19T20:42:04.783Z"
   },
   {
    "duration": 6,
    "start_time": "2022-05-19T20:59:14.749Z"
   },
   {
    "duration": 29,
    "start_time": "2022-05-19T21:01:26.474Z"
   },
   {
    "duration": 33,
    "start_time": "2022-05-19T21:03:22.830Z"
   },
   {
    "duration": 3,
    "start_time": "2022-05-19T21:35:38.460Z"
   },
   {
    "duration": 62,
    "start_time": "2022-05-19T21:35:38.468Z"
   },
   {
    "duration": 17,
    "start_time": "2022-05-19T21:35:38.654Z"
   },
   {
    "duration": 5,
    "start_time": "2022-05-19T21:35:38.673Z"
   },
   {
    "duration": 9,
    "start_time": "2022-05-19T21:35:38.680Z"
   },
   {
    "duration": 6,
    "start_time": "2022-05-19T21:35:38.691Z"
   },
   {
    "duration": 14,
    "start_time": "2022-05-19T21:35:38.699Z"
   },
   {
    "duration": 12,
    "start_time": "2022-05-19T21:35:38.859Z"
   },
   {
    "duration": 31,
    "start_time": "2022-05-19T21:35:38.875Z"
   },
   {
    "duration": 36,
    "start_time": "2022-05-19T21:35:38.908Z"
   },
   {
    "duration": 21,
    "start_time": "2022-05-19T21:35:38.946Z"
   },
   {
    "duration": 26,
    "start_time": "2022-05-19T21:35:39.164Z"
   },
   {
    "duration": 21,
    "start_time": "2022-05-19T21:35:39.193Z"
   },
   {
    "duration": 20,
    "start_time": "2022-05-19T21:35:39.371Z"
   },
   {
    "duration": 11,
    "start_time": "2022-05-19T21:35:39.394Z"
   },
   {
    "duration": 463,
    "start_time": "2022-05-19T21:35:39.407Z"
   },
   {
    "duration": 33,
    "start_time": "2022-05-19T21:35:39.872Z"
   },
   {
    "duration": 17,
    "start_time": "2022-05-19T21:35:39.908Z"
   },
   {
    "duration": 9,
    "start_time": "2022-05-19T21:35:39.927Z"
   },
   {
    "duration": 637,
    "start_time": "2022-05-19T21:35:39.938Z"
   },
   {
    "duration": 22,
    "start_time": "2022-05-19T21:35:40.577Z"
   },
   {
    "duration": 251,
    "start_time": "2022-05-19T21:35:40.601Z"
   },
   {
    "duration": 8,
    "start_time": "2022-05-19T21:35:40.854Z"
   },
   {
    "duration": 17,
    "start_time": "2022-05-19T21:35:40.864Z"
   },
   {
    "duration": 267,
    "start_time": "2022-05-19T21:35:40.883Z"
   },
   {
    "duration": 251,
    "start_time": "2022-05-19T21:35:41.152Z"
   },
   {
    "duration": 15,
    "start_time": "2022-05-19T21:35:41.407Z"
   },
   {
    "duration": 16,
    "start_time": "2022-05-19T21:35:41.424Z"
   },
   {
    "duration": 17,
    "start_time": "2022-05-19T21:35:41.441Z"
   },
   {
    "duration": 44,
    "start_time": "2022-05-19T21:35:41.460Z"
   },
   {
    "duration": 17,
    "start_time": "2022-05-19T21:35:41.506Z"
   },
   {
    "duration": 18,
    "start_time": "2022-05-19T21:35:41.525Z"
   },
   {
    "duration": 49,
    "start_time": "2022-05-19T21:35:41.545Z"
   },
   {
    "duration": 17,
    "start_time": "2022-05-19T21:35:41.596Z"
   },
   {
    "duration": 18,
    "start_time": "2022-05-19T21:35:41.616Z"
   },
   {
    "duration": 17,
    "start_time": "2022-05-19T21:35:41.636Z"
   },
   {
    "duration": 47,
    "start_time": "2022-05-19T21:35:41.655Z"
   },
   {
    "duration": 16,
    "start_time": "2022-05-19T21:35:41.704Z"
   },
   {
    "duration": 15,
    "start_time": "2022-05-19T21:35:41.722Z"
   },
   {
    "duration": 16,
    "start_time": "2022-05-19T21:35:41.739Z"
   },
   {
    "duration": 56,
    "start_time": "2022-05-19T21:35:41.758Z"
   },
   {
    "duration": 24,
    "start_time": "2022-05-19T21:35:41.816Z"
   },
   {
    "duration": 4,
    "start_time": "2022-05-19T21:36:09.689Z"
   },
   {
    "duration": 65,
    "start_time": "2022-05-19T21:36:09.695Z"
   },
   {
    "duration": 35,
    "start_time": "2022-05-19T21:36:09.762Z"
   },
   {
    "duration": 5,
    "start_time": "2022-05-19T21:36:09.798Z"
   },
   {
    "duration": 7,
    "start_time": "2022-05-19T21:36:09.805Z"
   },
   {
    "duration": 6,
    "start_time": "2022-05-19T21:36:09.814Z"
   },
   {
    "duration": 14,
    "start_time": "2022-05-19T21:36:09.822Z"
   },
   {
    "duration": 11,
    "start_time": "2022-05-19T21:36:09.839Z"
   },
   {
    "duration": 46,
    "start_time": "2022-05-19T21:36:09.852Z"
   },
   {
    "duration": 24,
    "start_time": "2022-05-19T21:36:09.900Z"
   },
   {
    "duration": 16,
    "start_time": "2022-05-19T21:36:09.927Z"
   },
   {
    "duration": 57,
    "start_time": "2022-05-19T21:36:09.945Z"
   },
   {
    "duration": 18,
    "start_time": "2022-05-19T21:36:10.003Z"
   },
   {
    "duration": 19,
    "start_time": "2022-05-19T21:36:10.023Z"
   },
   {
    "duration": 11,
    "start_time": "2022-05-19T21:36:10.044Z"
   },
   {
    "duration": 480,
    "start_time": "2022-05-19T21:36:10.057Z"
   },
   {
    "duration": 23,
    "start_time": "2022-05-19T21:36:10.539Z"
   },
   {
    "duration": 45,
    "start_time": "2022-05-19T21:36:10.565Z"
   },
   {
    "duration": 12,
    "start_time": "2022-05-19T21:36:10.613Z"
   },
   {
    "duration": 444,
    "start_time": "2022-05-19T21:36:10.627Z"
   },
   {
    "duration": 24,
    "start_time": "2022-05-19T21:36:11.073Z"
   },
   {
    "duration": 221,
    "start_time": "2022-05-19T21:36:11.100Z"
   },
   {
    "duration": 10,
    "start_time": "2022-05-19T21:36:11.324Z"
   },
   {
    "duration": 18,
    "start_time": "2022-05-19T21:36:11.336Z"
   },
   {
    "duration": 274,
    "start_time": "2022-05-19T21:36:11.356Z"
   },
   {
    "duration": 252,
    "start_time": "2022-05-19T21:36:11.632Z"
   },
   {
    "duration": 21,
    "start_time": "2022-05-19T21:36:11.886Z"
   },
   {
    "duration": 16,
    "start_time": "2022-05-19T21:36:11.909Z"
   },
   {
    "duration": 17,
    "start_time": "2022-05-19T21:36:11.929Z"
   },
   {
    "duration": 47,
    "start_time": "2022-05-19T21:36:11.947Z"
   },
   {
    "duration": 17,
    "start_time": "2022-05-19T21:36:11.997Z"
   },
   {
    "duration": 17,
    "start_time": "2022-05-19T21:36:12.016Z"
   },
   {
    "duration": 18,
    "start_time": "2022-05-19T21:36:12.035Z"
   },
   {
    "duration": 49,
    "start_time": "2022-05-19T21:36:12.055Z"
   },
   {
    "duration": 16,
    "start_time": "2022-05-19T21:36:12.106Z"
   },
   {
    "duration": 17,
    "start_time": "2022-05-19T21:36:12.124Z"
   },
   {
    "duration": 18,
    "start_time": "2022-05-19T21:36:12.143Z"
   },
   {
    "duration": 49,
    "start_time": "2022-05-19T21:36:12.162Z"
   },
   {
    "duration": 20,
    "start_time": "2022-05-19T21:36:12.213Z"
   },
   {
    "duration": 19,
    "start_time": "2022-05-19T21:36:12.234Z"
   },
   {
    "duration": 59,
    "start_time": "2022-05-19T21:36:12.255Z"
   },
   {
    "duration": 28,
    "start_time": "2022-05-19T21:36:12.316Z"
   },
   {
    "duration": 4,
    "start_time": "2022-05-19T21:36:28.153Z"
   },
   {
    "duration": 67,
    "start_time": "2022-05-19T21:36:28.160Z"
   },
   {
    "duration": 17,
    "start_time": "2022-05-19T21:36:28.229Z"
   },
   {
    "duration": 5,
    "start_time": "2022-05-19T21:36:28.248Z"
   },
   {
    "duration": 41,
    "start_time": "2022-05-19T21:36:28.255Z"
   },
   {
    "duration": 9,
    "start_time": "2022-05-19T21:36:28.298Z"
   },
   {
    "duration": 13,
    "start_time": "2022-05-19T21:36:28.309Z"
   },
   {
    "duration": 13,
    "start_time": "2022-05-19T21:36:28.325Z"
   },
   {
    "duration": 7,
    "start_time": "2022-05-19T21:36:28.340Z"
   },
   {
    "duration": 52,
    "start_time": "2022-05-19T21:36:28.349Z"
   },
   {
    "duration": 16,
    "start_time": "2022-05-19T21:36:28.403Z"
   },
   {
    "duration": 23,
    "start_time": "2022-05-19T21:36:28.421Z"
   },
   {
    "duration": 49,
    "start_time": "2022-05-19T21:36:28.447Z"
   },
   {
    "duration": 19,
    "start_time": "2022-05-19T21:36:28.498Z"
   },
   {
    "duration": 10,
    "start_time": "2022-05-19T21:36:28.518Z"
   },
   {
    "duration": 512,
    "start_time": "2022-05-19T21:36:28.530Z"
   },
   {
    "duration": 25,
    "start_time": "2022-05-19T21:36:29.044Z"
   },
   {
    "duration": 39,
    "start_time": "2022-05-19T21:36:29.071Z"
   },
   {
    "duration": 10,
    "start_time": "2022-05-19T21:36:29.112Z"
   },
   {
    "duration": 438,
    "start_time": "2022-05-19T21:36:29.124Z"
   },
   {
    "duration": 9,
    "start_time": "2022-05-19T21:36:29.564Z"
   },
   {
    "duration": 240,
    "start_time": "2022-05-19T21:36:29.575Z"
   },
   {
    "duration": 8,
    "start_time": "2022-05-19T21:36:29.818Z"
   },
   {
    "duration": 24,
    "start_time": "2022-05-19T21:36:29.827Z"
   },
   {
    "duration": 266,
    "start_time": "2022-05-19T21:36:29.853Z"
   },
   {
    "duration": 253,
    "start_time": "2022-05-19T21:36:30.121Z"
   },
   {
    "duration": 26,
    "start_time": "2022-05-19T21:36:30.376Z"
   },
   {
    "duration": 13,
    "start_time": "2022-05-19T21:36:30.404Z"
   },
   {
    "duration": 21,
    "start_time": "2022-05-19T21:36:30.419Z"
   },
   {
    "duration": 17,
    "start_time": "2022-05-19T21:36:30.442Z"
   },
   {
    "duration": 45,
    "start_time": "2022-05-19T21:36:30.461Z"
   },
   {
    "duration": 18,
    "start_time": "2022-05-19T21:36:30.508Z"
   },
   {
    "duration": 20,
    "start_time": "2022-05-19T21:36:30.528Z"
   },
   {
    "duration": 30,
    "start_time": "2022-05-19T21:36:30.551Z"
   },
   {
    "duration": 17,
    "start_time": "2022-05-19T21:36:30.595Z"
   },
   {
    "duration": 22,
    "start_time": "2022-05-19T21:36:30.614Z"
   },
   {
    "duration": 19,
    "start_time": "2022-05-19T21:36:30.640Z"
   },
   {
    "duration": 51,
    "start_time": "2022-05-19T21:36:30.662Z"
   },
   {
    "duration": 21,
    "start_time": "2022-05-19T21:36:30.715Z"
   },
   {
    "duration": 27,
    "start_time": "2022-05-19T21:36:30.738Z"
   },
   {
    "duration": 42,
    "start_time": "2022-05-19T21:36:30.767Z"
   },
   {
    "duration": 26,
    "start_time": "2022-05-19T21:36:30.811Z"
   },
   {
    "duration": 1312,
    "start_time": "2022-05-20T14:24:27.875Z"
   },
   {
    "duration": 104,
    "start_time": "2022-05-20T14:24:29.189Z"
   },
   {
    "duration": 17,
    "start_time": "2022-05-20T14:24:29.295Z"
   },
   {
    "duration": 5,
    "start_time": "2022-05-20T14:24:29.314Z"
   },
   {
    "duration": 6,
    "start_time": "2022-05-20T14:24:29.324Z"
   },
   {
    "duration": 5,
    "start_time": "2022-05-20T14:24:29.331Z"
   },
   {
    "duration": 30,
    "start_time": "2022-05-20T14:24:29.337Z"
   },
   {
    "duration": 14,
    "start_time": "2022-05-20T14:24:29.369Z"
   },
   {
    "duration": 11,
    "start_time": "2022-05-20T14:24:29.386Z"
   },
   {
    "duration": 41,
    "start_time": "2022-05-20T14:24:29.399Z"
   },
   {
    "duration": 14,
    "start_time": "2022-05-20T14:24:29.441Z"
   },
   {
    "duration": 22,
    "start_time": "2022-05-20T14:24:29.457Z"
   },
   {
    "duration": 45,
    "start_time": "2022-05-20T14:24:29.480Z"
   },
   {
    "duration": 15,
    "start_time": "2022-05-20T14:24:29.528Z"
   },
   {
    "duration": 7,
    "start_time": "2022-05-20T14:24:29.545Z"
   },
   {
    "duration": 490,
    "start_time": "2022-05-20T14:24:29.553Z"
   },
   {
    "duration": 22,
    "start_time": "2022-05-20T14:24:30.045Z"
   },
   {
    "duration": 16,
    "start_time": "2022-05-20T14:24:30.070Z"
   },
   {
    "duration": 39,
    "start_time": "2022-05-20T14:24:30.088Z"
   },
   {
    "duration": 363,
    "start_time": "2022-05-20T14:24:30.129Z"
   },
   {
    "duration": 9,
    "start_time": "2022-05-20T14:24:30.493Z"
   },
   {
    "duration": 193,
    "start_time": "2022-05-20T14:24:30.523Z"
   },
   {
    "duration": 9,
    "start_time": "2022-05-20T14:24:30.718Z"
   },
   {
    "duration": 23,
    "start_time": "2022-05-20T14:24:30.729Z"
   },
   {
    "duration": 232,
    "start_time": "2022-05-20T14:24:30.754Z"
   },
   {
    "duration": 236,
    "start_time": "2022-05-20T14:24:30.987Z"
   },
   {
    "duration": 13,
    "start_time": "2022-05-20T14:24:31.224Z"
   },
   {
    "duration": 20,
    "start_time": "2022-05-20T14:24:31.239Z"
   },
   {
    "duration": 15,
    "start_time": "2022-05-20T14:24:31.260Z"
   },
   {
    "duration": 13,
    "start_time": "2022-05-20T14:24:31.276Z"
   },
   {
    "duration": 40,
    "start_time": "2022-05-20T14:24:31.291Z"
   },
   {
    "duration": 21,
    "start_time": "2022-05-20T14:24:31.333Z"
   },
   {
    "duration": 15,
    "start_time": "2022-05-20T14:24:31.356Z"
   },
   {
    "duration": 14,
    "start_time": "2022-05-20T14:24:31.373Z"
   },
   {
    "duration": 43,
    "start_time": "2022-05-20T14:24:31.388Z"
   },
   {
    "duration": 14,
    "start_time": "2022-05-20T14:24:31.433Z"
   },
   {
    "duration": 15,
    "start_time": "2022-05-20T14:24:31.449Z"
   },
   {
    "duration": 14,
    "start_time": "2022-05-20T14:24:31.466Z"
   },
   {
    "duration": 14,
    "start_time": "2022-05-20T14:24:31.522Z"
   },
   {
    "duration": 26,
    "start_time": "2022-05-20T14:24:31.537Z"
   },
   {
    "duration": 19,
    "start_time": "2022-05-20T14:24:31.567Z"
   },
   {
    "duration": 39,
    "start_time": "2022-05-20T14:24:31.587Z"
   },
   {
    "duration": 236,
    "start_time": "2022-05-20T14:45:39.057Z"
   },
   {
    "duration": 192,
    "start_time": "2022-05-20T14:45:58.315Z"
   },
   {
    "duration": 1098,
    "start_time": "2022-05-20T14:56:29.358Z"
   },
   {
    "duration": 70,
    "start_time": "2022-05-20T14:56:30.458Z"
   },
   {
    "duration": 16,
    "start_time": "2022-05-20T14:56:30.529Z"
   },
   {
    "duration": 6,
    "start_time": "2022-05-20T14:56:30.547Z"
   },
   {
    "duration": 28,
    "start_time": "2022-05-20T14:56:30.554Z"
   },
   {
    "duration": 9,
    "start_time": "2022-05-20T14:56:30.584Z"
   },
   {
    "duration": 15,
    "start_time": "2022-05-20T14:56:30.595Z"
   },
   {
    "duration": 7,
    "start_time": "2022-05-20T14:56:30.624Z"
   },
   {
    "duration": 19,
    "start_time": "2022-05-20T14:56:30.633Z"
   },
   {
    "duration": 45,
    "start_time": "2022-05-20T14:56:30.655Z"
   },
   {
    "duration": 21,
    "start_time": "2022-05-20T14:56:30.702Z"
   },
   {
    "duration": 30,
    "start_time": "2022-05-20T14:56:30.725Z"
   },
   {
    "duration": 17,
    "start_time": "2022-05-20T14:56:30.757Z"
   },
   {
    "duration": 20,
    "start_time": "2022-05-20T14:56:30.776Z"
   },
   {
    "duration": 8,
    "start_time": "2022-05-20T14:56:30.823Z"
   },
   {
    "duration": 546,
    "start_time": "2022-05-20T14:56:30.833Z"
   },
   {
    "duration": 27,
    "start_time": "2022-05-20T14:56:31.383Z"
   },
   {
    "duration": 15,
    "start_time": "2022-05-20T14:56:31.411Z"
   },
   {
    "duration": 8,
    "start_time": "2022-05-20T14:56:31.428Z"
   },
   {
    "duration": 399,
    "start_time": "2022-05-20T14:56:31.438Z"
   },
   {
    "duration": 8,
    "start_time": "2022-05-20T14:56:31.839Z"
   },
   {
    "duration": 275,
    "start_time": "2022-05-20T14:56:31.850Z"
   },
   {
    "duration": 6,
    "start_time": "2022-05-20T14:56:32.127Z"
   },
   {
    "duration": 24,
    "start_time": "2022-05-20T14:56:32.135Z"
   },
   {
    "duration": 274,
    "start_time": "2022-05-20T14:56:32.161Z"
   },
   {
    "duration": 286,
    "start_time": "2022-05-20T14:56:32.437Z"
   },
   {
    "duration": 17,
    "start_time": "2022-05-20T14:56:32.724Z"
   },
   {
    "duration": 35,
    "start_time": "2022-05-20T14:56:32.744Z"
   },
   {
    "duration": 15,
    "start_time": "2022-05-20T14:56:32.781Z"
   },
   {
    "duration": 33,
    "start_time": "2022-05-20T14:56:32.798Z"
   },
   {
    "duration": 16,
    "start_time": "2022-05-20T14:56:32.832Z"
   },
   {
    "duration": 15,
    "start_time": "2022-05-20T14:56:32.851Z"
   },
   {
    "duration": 23,
    "start_time": "2022-05-20T14:56:32.867Z"
   },
   {
    "duration": 41,
    "start_time": "2022-05-20T14:56:32.892Z"
   },
   {
    "duration": 14,
    "start_time": "2022-05-20T14:56:32.935Z"
   },
   {
    "duration": 15,
    "start_time": "2022-05-20T14:56:32.951Z"
   },
   {
    "duration": 14,
    "start_time": "2022-05-20T14:56:32.967Z"
   },
   {
    "duration": 52,
    "start_time": "2022-05-20T14:56:32.983Z"
   },
   {
    "duration": 13,
    "start_time": "2022-05-20T14:56:33.036Z"
   },
   {
    "duration": 13,
    "start_time": "2022-05-20T14:56:33.051Z"
   },
   {
    "duration": 18,
    "start_time": "2022-05-20T14:56:33.066Z"
   },
   {
    "duration": 53,
    "start_time": "2022-05-20T14:56:33.086Z"
   },
   {
    "duration": 1397,
    "start_time": "2022-05-21T07:19:27.292Z"
   },
   {
    "duration": 420,
    "start_time": "2022-05-21T07:19:28.691Z"
   },
   {
    "duration": 16,
    "start_time": "2022-05-21T07:19:29.112Z"
   },
   {
    "duration": 10,
    "start_time": "2022-05-21T07:19:29.130Z"
   },
   {
    "duration": 7,
    "start_time": "2022-05-21T07:19:29.142Z"
   },
   {
    "duration": 6,
    "start_time": "2022-05-21T07:19:29.151Z"
   },
   {
    "duration": 15,
    "start_time": "2022-05-21T07:19:29.159Z"
   },
   {
    "duration": 9,
    "start_time": "2022-05-21T07:19:29.176Z"
   },
   {
    "duration": 12,
    "start_time": "2022-05-21T07:19:29.187Z"
   },
   {
    "duration": 8,
    "start_time": "2022-05-21T07:19:29.201Z"
   },
   {
    "duration": 33,
    "start_time": "2022-05-21T07:19:29.210Z"
   },
   {
    "duration": 11,
    "start_time": "2022-05-21T07:19:29.245Z"
   },
   {
    "duration": 19,
    "start_time": "2022-05-21T07:19:29.258Z"
   },
   {
    "duration": 14,
    "start_time": "2022-05-21T07:19:29.278Z"
   },
   {
    "duration": 14,
    "start_time": "2022-05-21T07:19:29.293Z"
   },
   {
    "duration": 33,
    "start_time": "2022-05-21T07:19:29.308Z"
   },
   {
    "duration": 462,
    "start_time": "2022-05-21T07:19:29.343Z"
   },
   {
    "duration": 21,
    "start_time": "2022-05-21T07:19:29.808Z"
   },
   {
    "duration": 20,
    "start_time": "2022-05-21T07:19:29.831Z"
   },
   {
    "duration": 7,
    "start_time": "2022-05-21T07:19:29.853Z"
   },
   {
    "duration": 363,
    "start_time": "2022-05-21T07:19:29.863Z"
   },
   {
    "duration": 15,
    "start_time": "2022-05-21T07:19:30.227Z"
   },
   {
    "duration": 194,
    "start_time": "2022-05-21T07:19:30.244Z"
   },
   {
    "duration": 7,
    "start_time": "2022-05-21T07:19:30.439Z"
   },
   {
    "duration": 15,
    "start_time": "2022-05-21T07:19:30.447Z"
   },
   {
    "duration": 220,
    "start_time": "2022-05-21T07:19:30.464Z"
   },
   {
    "duration": 225,
    "start_time": "2022-05-21T07:19:30.687Z"
   },
   {
    "duration": 14,
    "start_time": "2022-05-21T07:19:30.916Z"
   },
   {
    "duration": 12,
    "start_time": "2022-05-21T07:19:30.940Z"
   },
   {
    "duration": 13,
    "start_time": "2022-05-21T07:19:30.953Z"
   },
   {
    "duration": 13,
    "start_time": "2022-05-21T07:19:30.968Z"
   },
   {
    "duration": 13,
    "start_time": "2022-05-21T07:19:30.983Z"
   },
   {
    "duration": 44,
    "start_time": "2022-05-21T07:19:30.997Z"
   },
   {
    "duration": 13,
    "start_time": "2022-05-21T07:19:31.043Z"
   },
   {
    "duration": 19,
    "start_time": "2022-05-21T07:19:31.057Z"
   },
   {
    "duration": 13,
    "start_time": "2022-05-21T07:19:31.077Z"
   },
   {
    "duration": 14,
    "start_time": "2022-05-21T07:19:31.092Z"
   },
   {
    "duration": 38,
    "start_time": "2022-05-21T07:19:31.108Z"
   },
   {
    "duration": 20,
    "start_time": "2022-05-21T07:19:31.147Z"
   },
   {
    "duration": 14,
    "start_time": "2022-05-21T07:19:31.168Z"
   },
   {
    "duration": 19,
    "start_time": "2022-05-21T07:19:31.183Z"
   },
   {
    "duration": 42,
    "start_time": "2022-05-21T07:19:31.204Z"
   },
   {
    "duration": 19,
    "start_time": "2022-05-21T07:19:31.247Z"
   },
   {
    "duration": 13,
    "start_time": "2022-05-21T07:20:04.040Z"
   },
   {
    "duration": 18,
    "start_time": "2022-05-21T07:20:20.667Z"
   },
   {
    "duration": 3,
    "start_time": "2022-05-21T07:20:47.797Z"
   },
   {
    "duration": 69,
    "start_time": "2022-05-21T07:20:47.802Z"
   },
   {
    "duration": 13,
    "start_time": "2022-05-21T07:20:47.873Z"
   },
   {
    "duration": 4,
    "start_time": "2022-05-21T07:20:47.887Z"
   },
   {
    "duration": 6,
    "start_time": "2022-05-21T07:20:47.893Z"
   },
   {
    "duration": 4,
    "start_time": "2022-05-21T07:20:47.901Z"
   },
   {
    "duration": 42,
    "start_time": "2022-05-21T07:20:47.906Z"
   },
   {
    "duration": 19,
    "start_time": "2022-05-21T07:20:47.949Z"
   },
   {
    "duration": 6,
    "start_time": "2022-05-21T07:20:47.969Z"
   },
   {
    "duration": 7,
    "start_time": "2022-05-21T07:20:47.976Z"
   },
   {
    "duration": 17,
    "start_time": "2022-05-21T07:20:47.985Z"
   },
   {
    "duration": 42,
    "start_time": "2022-05-21T07:20:48.003Z"
   },
   {
    "duration": 18,
    "start_time": "2022-05-21T07:20:48.047Z"
   },
   {
    "duration": 13,
    "start_time": "2022-05-21T07:20:48.066Z"
   },
   {
    "duration": 13,
    "start_time": "2022-05-21T07:20:48.081Z"
   },
   {
    "duration": 8,
    "start_time": "2022-05-21T07:20:48.096Z"
   },
   {
    "duration": 428,
    "start_time": "2022-05-21T07:20:48.105Z"
   },
   {
    "duration": 23,
    "start_time": "2022-05-21T07:20:48.534Z"
   },
   {
    "duration": 15,
    "start_time": "2022-05-21T07:20:48.559Z"
   },
   {
    "duration": 9,
    "start_time": "2022-05-21T07:20:48.575Z"
   },
   {
    "duration": 386,
    "start_time": "2022-05-21T07:20:48.585Z"
   },
   {
    "duration": 8,
    "start_time": "2022-05-21T07:20:48.972Z"
   },
   {
    "duration": 215,
    "start_time": "2022-05-21T07:20:48.982Z"
   },
   {
    "duration": 5,
    "start_time": "2022-05-21T07:20:49.199Z"
   },
   {
    "duration": 12,
    "start_time": "2022-05-21T07:20:49.206Z"
   },
   {
    "duration": 232,
    "start_time": "2022-05-21T07:20:49.219Z"
   },
   {
    "duration": 297,
    "start_time": "2022-05-21T07:20:49.453Z"
   },
   {
    "duration": 15,
    "start_time": "2022-05-21T07:20:49.752Z"
   },
   {
    "duration": 10,
    "start_time": "2022-05-21T07:20:49.770Z"
   },
   {
    "duration": 16,
    "start_time": "2022-05-21T07:20:49.782Z"
   },
   {
    "duration": 41,
    "start_time": "2022-05-21T07:20:49.800Z"
   },
   {
    "duration": 18,
    "start_time": "2022-05-21T07:20:49.843Z"
   },
   {
    "duration": 16,
    "start_time": "2022-05-21T07:20:49.863Z"
   },
   {
    "duration": 22,
    "start_time": "2022-05-21T07:20:49.881Z"
   },
   {
    "duration": 50,
    "start_time": "2022-05-21T07:20:49.905Z"
   },
   {
    "duration": 16,
    "start_time": "2022-05-21T07:20:49.957Z"
   },
   {
    "duration": 15,
    "start_time": "2022-05-21T07:20:49.975Z"
   },
   {
    "duration": 13,
    "start_time": "2022-05-21T07:20:49.992Z"
   },
   {
    "duration": 40,
    "start_time": "2022-05-21T07:20:50.007Z"
   },
   {
    "duration": 14,
    "start_time": "2022-05-21T07:20:50.049Z"
   },
   {
    "duration": 14,
    "start_time": "2022-05-21T07:20:50.064Z"
   },
   {
    "duration": 20,
    "start_time": "2022-05-21T07:20:50.079Z"
   },
   {
    "duration": 51,
    "start_time": "2022-05-21T07:20:50.100Z"
   },
   {
    "duration": 7,
    "start_time": "2022-05-21T07:21:21.673Z"
   },
   {
    "duration": 30,
    "start_time": "2022-05-21T07:23:11.220Z"
   },
   {
    "duration": 26,
    "start_time": "2022-05-21T07:23:14.372Z"
   },
   {
    "duration": 32,
    "start_time": "2022-05-21T07:23:21.805Z"
   },
   {
    "duration": 0,
    "start_time": "2022-05-21T07:23:21.839Z"
   },
   {
    "duration": 0,
    "start_time": "2022-05-21T07:23:21.841Z"
   },
   {
    "duration": 0,
    "start_time": "2022-05-21T07:23:21.842Z"
   },
   {
    "duration": 0,
    "start_time": "2022-05-21T07:23:21.843Z"
   },
   {
    "duration": 0,
    "start_time": "2022-05-21T07:23:21.845Z"
   },
   {
    "duration": 0,
    "start_time": "2022-05-21T07:23:21.846Z"
   },
   {
    "duration": 0,
    "start_time": "2022-05-21T07:23:21.847Z"
   },
   {
    "duration": 0,
    "start_time": "2022-05-21T07:23:21.848Z"
   },
   {
    "duration": 6,
    "start_time": "2022-05-21T07:23:21.850Z"
   },
   {
    "duration": 132,
    "start_time": "2022-05-21T07:23:21.873Z"
   },
   {
    "duration": 0,
    "start_time": "2022-05-21T07:23:22.007Z"
   },
   {
    "duration": 0,
    "start_time": "2022-05-21T07:23:22.009Z"
   },
   {
    "duration": 0,
    "start_time": "2022-05-21T07:23:22.009Z"
   },
   {
    "duration": 0,
    "start_time": "2022-05-21T07:23:22.011Z"
   },
   {
    "duration": 0,
    "start_time": "2022-05-21T07:23:22.012Z"
   },
   {
    "duration": 0,
    "start_time": "2022-05-21T07:23:22.013Z"
   },
   {
    "duration": 0,
    "start_time": "2022-05-21T07:23:22.014Z"
   },
   {
    "duration": 0,
    "start_time": "2022-05-21T07:23:22.042Z"
   },
   {
    "duration": 0,
    "start_time": "2022-05-21T07:23:22.043Z"
   },
   {
    "duration": 0,
    "start_time": "2022-05-21T07:23:22.044Z"
   },
   {
    "duration": 0,
    "start_time": "2022-05-21T07:23:22.044Z"
   },
   {
    "duration": 0,
    "start_time": "2022-05-21T07:23:22.045Z"
   },
   {
    "duration": 0,
    "start_time": "2022-05-21T07:23:22.046Z"
   },
   {
    "duration": 0,
    "start_time": "2022-05-21T07:23:22.047Z"
   },
   {
    "duration": 0,
    "start_time": "2022-05-21T07:23:22.048Z"
   },
   {
    "duration": 0,
    "start_time": "2022-05-21T07:23:22.049Z"
   },
   {
    "duration": 0,
    "start_time": "2022-05-21T07:23:22.050Z"
   },
   {
    "duration": 0,
    "start_time": "2022-05-21T07:23:22.051Z"
   },
   {
    "duration": 0,
    "start_time": "2022-05-21T07:23:22.052Z"
   },
   {
    "duration": 1,
    "start_time": "2022-05-21T07:23:22.052Z"
   },
   {
    "duration": 0,
    "start_time": "2022-05-21T07:23:22.053Z"
   },
   {
    "duration": 0,
    "start_time": "2022-05-21T07:23:22.054Z"
   },
   {
    "duration": 0,
    "start_time": "2022-05-21T07:23:22.055Z"
   },
   {
    "duration": 0,
    "start_time": "2022-05-21T07:23:22.057Z"
   },
   {
    "duration": 0,
    "start_time": "2022-05-21T07:23:22.057Z"
   },
   {
    "duration": 0,
    "start_time": "2022-05-21T07:23:22.058Z"
   },
   {
    "duration": 0,
    "start_time": "2022-05-21T07:23:22.059Z"
   },
   {
    "duration": 0,
    "start_time": "2022-05-21T07:23:22.060Z"
   },
   {
    "duration": 0,
    "start_time": "2022-05-21T07:23:22.062Z"
   },
   {
    "duration": 0,
    "start_time": "2022-05-21T07:23:22.063Z"
   },
   {
    "duration": 79,
    "start_time": "2022-05-21T07:23:22.065Z"
   },
   {
    "duration": 19,
    "start_time": "2022-05-21T07:23:22.145Z"
   },
   {
    "duration": 18,
    "start_time": "2022-05-21T07:23:22.166Z"
   },
   {
    "duration": 34,
    "start_time": "2022-05-21T07:23:53.763Z"
   },
   {
    "duration": 87,
    "start_time": "2022-05-21T07:25:03.379Z"
   },
   {
    "duration": 214,
    "start_time": "2022-05-21T07:25:22.271Z"
   },
   {
    "duration": 31,
    "start_time": "2022-05-21T07:25:49.191Z"
   },
   {
    "duration": 29,
    "start_time": "2022-05-21T07:26:13.109Z"
   },
   {
    "duration": 33,
    "start_time": "2022-05-21T07:26:21.197Z"
   },
   {
    "duration": 29,
    "start_time": "2022-05-21T07:27:05.034Z"
   },
   {
    "duration": 30,
    "start_time": "2022-05-21T07:27:08.867Z"
   },
   {
    "duration": 34,
    "start_time": "2022-05-21T07:27:24.967Z"
   },
   {
    "duration": 29,
    "start_time": "2022-05-21T07:27:27.850Z"
   },
   {
    "duration": 0,
    "start_time": "2022-05-21T07:27:27.881Z"
   },
   {
    "duration": 0,
    "start_time": "2022-05-21T07:27:27.883Z"
   },
   {
    "duration": 0,
    "start_time": "2022-05-21T07:27:27.884Z"
   },
   {
    "duration": 0,
    "start_time": "2022-05-21T07:27:27.885Z"
   },
   {
    "duration": 0,
    "start_time": "2022-05-21T07:27:27.887Z"
   },
   {
    "duration": 0,
    "start_time": "2022-05-21T07:27:27.888Z"
   },
   {
    "duration": 0,
    "start_time": "2022-05-21T07:27:27.889Z"
   },
   {
    "duration": 0,
    "start_time": "2022-05-21T07:27:27.890Z"
   },
   {
    "duration": 6,
    "start_time": "2022-05-21T07:27:27.921Z"
   },
   {
    "duration": 12,
    "start_time": "2022-05-21T07:27:27.929Z"
   },
   {
    "duration": 0,
    "start_time": "2022-05-21T07:27:27.943Z"
   },
   {
    "duration": 0,
    "start_time": "2022-05-21T07:27:27.944Z"
   },
   {
    "duration": 0,
    "start_time": "2022-05-21T07:27:27.944Z"
   },
   {
    "duration": 0,
    "start_time": "2022-05-21T07:27:27.945Z"
   },
   {
    "duration": 0,
    "start_time": "2022-05-21T07:27:27.946Z"
   },
   {
    "duration": 0,
    "start_time": "2022-05-21T07:27:27.946Z"
   },
   {
    "duration": 0,
    "start_time": "2022-05-21T07:27:27.947Z"
   },
   {
    "duration": 0,
    "start_time": "2022-05-21T07:27:27.947Z"
   },
   {
    "duration": 0,
    "start_time": "2022-05-21T07:27:27.948Z"
   },
   {
    "duration": 0,
    "start_time": "2022-05-21T07:27:27.949Z"
   },
   {
    "duration": 0,
    "start_time": "2022-05-21T07:27:27.949Z"
   },
   {
    "duration": 0,
    "start_time": "2022-05-21T07:27:27.950Z"
   },
   {
    "duration": 0,
    "start_time": "2022-05-21T07:27:27.952Z"
   },
   {
    "duration": 0,
    "start_time": "2022-05-21T07:27:27.953Z"
   },
   {
    "duration": 0,
    "start_time": "2022-05-21T07:27:27.954Z"
   },
   {
    "duration": 0,
    "start_time": "2022-05-21T07:27:27.955Z"
   },
   {
    "duration": 0,
    "start_time": "2022-05-21T07:27:27.957Z"
   },
   {
    "duration": 17,
    "start_time": "2022-05-21T07:27:27.959Z"
   },
   {
    "duration": 11,
    "start_time": "2022-05-21T07:27:27.978Z"
   },
   {
    "duration": 64,
    "start_time": "2022-05-21T07:27:27.991Z"
   },
   {
    "duration": 13,
    "start_time": "2022-05-21T07:27:28.057Z"
   },
   {
    "duration": 13,
    "start_time": "2022-05-21T07:27:28.072Z"
   },
   {
    "duration": 17,
    "start_time": "2022-05-21T07:27:28.086Z"
   },
   {
    "duration": 50,
    "start_time": "2022-05-21T07:27:28.105Z"
   },
   {
    "duration": 12,
    "start_time": "2022-05-21T07:27:28.157Z"
   },
   {
    "duration": 14,
    "start_time": "2022-05-21T07:27:28.170Z"
   },
   {
    "duration": 14,
    "start_time": "2022-05-21T07:27:28.185Z"
   },
   {
    "duration": 13,
    "start_time": "2022-05-21T07:27:28.200Z"
   },
   {
    "duration": 44,
    "start_time": "2022-05-21T07:27:28.215Z"
   },
   {
    "duration": 15,
    "start_time": "2022-05-21T07:27:28.261Z"
   },
   {
    "duration": 13,
    "start_time": "2022-05-21T07:27:28.278Z"
   },
   {
    "duration": 17,
    "start_time": "2022-05-21T07:27:28.293Z"
   },
   {
    "duration": 45,
    "start_time": "2022-05-21T07:27:28.312Z"
   },
   {
    "duration": 41,
    "start_time": "2022-05-21T07:28:16.095Z"
   },
   {
    "duration": 29,
    "start_time": "2022-05-21T07:28:21.397Z"
   },
   {
    "duration": 30,
    "start_time": "2022-05-21T07:29:09.422Z"
   },
   {
    "duration": 50,
    "start_time": "2022-05-21T07:30:10.603Z"
   },
   {
    "duration": 10,
    "start_time": "2022-05-21T07:37:16.683Z"
   },
   {
    "duration": 17,
    "start_time": "2022-05-21T07:37:26.740Z"
   },
   {
    "duration": 3,
    "start_time": "2022-05-21T07:37:37.164Z"
   },
   {
    "duration": 100,
    "start_time": "2022-05-21T07:37:37.170Z"
   },
   {
    "duration": 20,
    "start_time": "2022-05-21T07:37:37.273Z"
   },
   {
    "duration": 20,
    "start_time": "2022-05-21T07:37:37.296Z"
   },
   {
    "duration": 9,
    "start_time": "2022-05-21T07:37:37.319Z"
   },
   {
    "duration": 14,
    "start_time": "2022-05-21T07:37:37.330Z"
   },
   {
    "duration": 21,
    "start_time": "2022-05-21T07:37:37.346Z"
   },
   {
    "duration": 10,
    "start_time": "2022-05-21T07:37:37.369Z"
   },
   {
    "duration": 11,
    "start_time": "2022-05-21T07:37:37.381Z"
   },
   {
    "duration": 8,
    "start_time": "2022-05-21T07:37:37.394Z"
   },
   {
    "duration": 43,
    "start_time": "2022-05-21T07:37:37.404Z"
   },
   {
    "duration": 17,
    "start_time": "2022-05-21T07:37:37.449Z"
   },
   {
    "duration": 42,
    "start_time": "2022-05-21T07:37:37.468Z"
   },
   {
    "duration": 29,
    "start_time": "2022-05-21T07:37:37.514Z"
   },
   {
    "duration": 46,
    "start_time": "2022-05-21T07:37:37.545Z"
   },
   {
    "duration": 15,
    "start_time": "2022-05-21T07:37:37.593Z"
   },
   {
    "duration": 615,
    "start_time": "2022-05-21T07:37:37.610Z"
   },
   {
    "duration": 39,
    "start_time": "2022-05-21T07:37:38.227Z"
   },
   {
    "duration": 20,
    "start_time": "2022-05-21T07:37:38.268Z"
   },
   {
    "duration": 18,
    "start_time": "2022-05-21T07:37:38.290Z"
   },
   {
    "duration": 515,
    "start_time": "2022-05-21T07:37:38.310Z"
   },
   {
    "duration": 16,
    "start_time": "2022-05-21T07:37:38.827Z"
   },
   {
    "duration": 232,
    "start_time": "2022-05-21T07:37:38.845Z"
   },
   {
    "duration": 7,
    "start_time": "2022-05-21T07:37:39.079Z"
   },
   {
    "duration": 14,
    "start_time": "2022-05-21T07:37:39.087Z"
   },
   {
    "duration": 287,
    "start_time": "2022-05-21T07:37:39.103Z"
   },
   {
    "duration": 268,
    "start_time": "2022-05-21T07:37:39.392Z"
   },
   {
    "duration": 18,
    "start_time": "2022-05-21T07:37:39.662Z"
   },
   {
    "duration": 13,
    "start_time": "2022-05-21T07:37:39.682Z"
   },
   {
    "duration": 47,
    "start_time": "2022-05-21T07:37:39.697Z"
   },
   {
    "duration": 18,
    "start_time": "2022-05-21T07:37:39.746Z"
   },
   {
    "duration": 22,
    "start_time": "2022-05-21T07:37:39.766Z"
   },
   {
    "duration": 23,
    "start_time": "2022-05-21T07:37:39.790Z"
   },
   {
    "duration": 49,
    "start_time": "2022-05-21T07:37:39.814Z"
   },
   {
    "duration": 22,
    "start_time": "2022-05-21T07:37:39.865Z"
   },
   {
    "duration": 19,
    "start_time": "2022-05-21T07:37:39.888Z"
   },
   {
    "duration": 38,
    "start_time": "2022-05-21T07:37:39.909Z"
   },
   {
    "duration": 28,
    "start_time": "2022-05-21T07:37:39.954Z"
   },
   {
    "duration": 35,
    "start_time": "2022-05-21T07:37:39.985Z"
   },
   {
    "duration": 18,
    "start_time": "2022-05-21T07:37:40.022Z"
   },
   {
    "duration": 20,
    "start_time": "2022-05-21T07:37:40.045Z"
   },
   {
    "duration": 30,
    "start_time": "2022-05-21T07:37:40.067Z"
   },
   {
    "duration": 44,
    "start_time": "2022-05-21T07:37:40.099Z"
   },
   {
    "duration": 387,
    "start_time": "2022-05-21T15:34:05.084Z"
   },
   {
    "duration": 3,
    "start_time": "2022-05-21T16:27:54.427Z"
   },
   {
    "duration": 69,
    "start_time": "2022-05-21T16:27:54.432Z"
   },
   {
    "duration": 13,
    "start_time": "2022-05-21T16:27:54.503Z"
   },
   {
    "duration": 6,
    "start_time": "2022-05-21T16:27:54.518Z"
   },
   {
    "duration": 10,
    "start_time": "2022-05-21T16:27:54.526Z"
   },
   {
    "duration": 9,
    "start_time": "2022-05-21T16:27:54.537Z"
   },
   {
    "duration": 18,
    "start_time": "2022-05-21T16:27:54.548Z"
   },
   {
    "duration": 11,
    "start_time": "2022-05-21T16:27:54.568Z"
   },
   {
    "duration": 8,
    "start_time": "2022-05-21T16:27:54.581Z"
   },
   {
    "duration": 7,
    "start_time": "2022-05-21T16:27:54.591Z"
   },
   {
    "duration": 48,
    "start_time": "2022-05-21T16:27:54.599Z"
   },
   {
    "duration": 14,
    "start_time": "2022-05-21T16:27:54.650Z"
   },
   {
    "duration": 31,
    "start_time": "2022-05-21T16:27:54.666Z"
   },
   {
    "duration": 51,
    "start_time": "2022-05-21T16:27:54.699Z"
   },
   {
    "duration": 293,
    "start_time": "2022-05-21T16:27:54.752Z"
   },
   {
    "duration": 17,
    "start_time": "2022-05-21T16:27:55.046Z"
   },
   {
    "duration": 8,
    "start_time": "2022-05-21T16:27:55.064Z"
   },
   {
    "duration": 458,
    "start_time": "2022-05-21T16:27:55.074Z"
   },
   {
    "duration": 19,
    "start_time": "2022-05-21T16:27:55.534Z"
   },
   {
    "duration": 15,
    "start_time": "2022-05-21T16:27:55.555Z"
   },
   {
    "duration": 15,
    "start_time": "2022-05-21T16:27:55.573Z"
   },
   {
    "duration": 339,
    "start_time": "2022-05-21T16:27:55.591Z"
   },
   {
    "duration": 12,
    "start_time": "2022-05-21T16:27:55.932Z"
   },
   {
    "duration": 204,
    "start_time": "2022-05-21T16:27:55.945Z"
   },
   {
    "duration": 6,
    "start_time": "2022-05-21T16:27:56.150Z"
   },
   {
    "duration": 21,
    "start_time": "2022-05-21T16:27:56.158Z"
   },
   {
    "duration": 228,
    "start_time": "2022-05-21T16:27:56.180Z"
   },
   {
    "duration": 224,
    "start_time": "2022-05-21T16:27:56.410Z"
   },
   {
    "duration": 15,
    "start_time": "2022-05-21T16:27:56.641Z"
   },
   {
    "duration": 15,
    "start_time": "2022-05-21T16:27:56.657Z"
   },
   {
    "duration": 30,
    "start_time": "2022-05-21T16:27:56.673Z"
   },
   {
    "duration": 19,
    "start_time": "2022-05-21T16:27:56.705Z"
   },
   {
    "duration": 18,
    "start_time": "2022-05-21T16:27:56.726Z"
   },
   {
    "duration": 18,
    "start_time": "2022-05-21T16:27:56.746Z"
   },
   {
    "duration": 16,
    "start_time": "2022-05-21T16:27:56.766Z"
   },
   {
    "duration": 15,
    "start_time": "2022-05-21T16:27:56.787Z"
   },
   {
    "duration": 15,
    "start_time": "2022-05-21T16:27:56.804Z"
   },
   {
    "duration": 17,
    "start_time": "2022-05-21T16:27:56.843Z"
   },
   {
    "duration": 18,
    "start_time": "2022-05-21T16:27:56.862Z"
   },
   {
    "duration": 21,
    "start_time": "2022-05-21T16:27:56.882Z"
   },
   {
    "duration": 46,
    "start_time": "2022-05-21T16:27:56.905Z"
   },
   {
    "duration": 20,
    "start_time": "2022-05-21T16:27:56.953Z"
   },
   {
    "duration": 30,
    "start_time": "2022-05-21T16:27:56.975Z"
   },
   {
    "duration": 46,
    "start_time": "2022-05-21T16:27:57.007Z"
   },
   {
    "duration": 3,
    "start_time": "2022-05-21T16:30:17.570Z"
   },
   {
    "duration": 69,
    "start_time": "2022-05-21T16:30:17.577Z"
   },
   {
    "duration": 16,
    "start_time": "2022-05-21T16:30:17.648Z"
   },
   {
    "duration": 5,
    "start_time": "2022-05-21T16:30:17.665Z"
   },
   {
    "duration": 10,
    "start_time": "2022-05-21T16:30:17.672Z"
   },
   {
    "duration": 5,
    "start_time": "2022-05-21T16:30:17.684Z"
   },
   {
    "duration": 19,
    "start_time": "2022-05-21T16:30:17.690Z"
   },
   {
    "duration": 38,
    "start_time": "2022-05-21T16:30:17.710Z"
   },
   {
    "duration": 8,
    "start_time": "2022-05-21T16:30:17.750Z"
   },
   {
    "duration": 7,
    "start_time": "2022-05-21T16:30:17.760Z"
   },
   {
    "duration": 19,
    "start_time": "2022-05-21T16:30:17.770Z"
   },
   {
    "duration": 12,
    "start_time": "2022-05-21T16:30:17.791Z"
   },
   {
    "duration": 57,
    "start_time": "2022-05-21T16:30:17.805Z"
   },
   {
    "duration": 14,
    "start_time": "2022-05-21T16:30:17.864Z"
   },
   {
    "duration": 322,
    "start_time": "2022-05-21T16:30:17.880Z"
   },
   {
    "duration": 16,
    "start_time": "2022-05-21T16:30:18.204Z"
   },
   {
    "duration": 19,
    "start_time": "2022-05-21T16:30:18.222Z"
   },
   {
    "duration": 429,
    "start_time": "2022-05-21T16:30:18.243Z"
   },
   {
    "duration": 20,
    "start_time": "2022-05-21T16:30:18.674Z"
   },
   {
    "duration": 17,
    "start_time": "2022-05-21T16:30:18.696Z"
   },
   {
    "duration": 40,
    "start_time": "2022-05-21T16:30:18.714Z"
   },
   {
    "duration": 403,
    "start_time": "2022-05-21T16:30:18.757Z"
   },
   {
    "duration": 8,
    "start_time": "2022-05-21T16:30:19.162Z"
   },
   {
    "duration": 224,
    "start_time": "2022-05-21T16:30:19.171Z"
   },
   {
    "duration": 9,
    "start_time": "2022-05-21T16:30:19.397Z"
   },
   {
    "duration": 16,
    "start_time": "2022-05-21T16:30:19.408Z"
   },
   {
    "duration": 348,
    "start_time": "2022-05-21T16:30:19.426Z"
   },
   {
    "duration": 268,
    "start_time": "2022-05-21T16:30:19.776Z"
   },
   {
    "duration": 14,
    "start_time": "2022-05-21T16:30:20.047Z"
   },
   {
    "duration": 13,
    "start_time": "2022-05-21T16:30:20.063Z"
   },
   {
    "duration": 16,
    "start_time": "2022-05-21T16:30:20.077Z"
   },
   {
    "duration": 18,
    "start_time": "2022-05-21T16:30:20.096Z"
   },
   {
    "duration": 15,
    "start_time": "2022-05-21T16:30:20.143Z"
   },
   {
    "duration": 15,
    "start_time": "2022-05-21T16:30:20.160Z"
   },
   {
    "duration": 15,
    "start_time": "2022-05-21T16:30:20.176Z"
   },
   {
    "duration": 15,
    "start_time": "2022-05-21T16:30:20.192Z"
   },
   {
    "duration": 15,
    "start_time": "2022-05-21T16:30:20.241Z"
   },
   {
    "duration": 14,
    "start_time": "2022-05-21T16:30:20.258Z"
   },
   {
    "duration": 14,
    "start_time": "2022-05-21T16:30:20.274Z"
   },
   {
    "duration": 17,
    "start_time": "2022-05-21T16:30:20.289Z"
   },
   {
    "duration": 45,
    "start_time": "2022-05-21T16:30:20.308Z"
   },
   {
    "duration": 14,
    "start_time": "2022-05-21T16:30:20.354Z"
   },
   {
    "duration": 23,
    "start_time": "2022-05-21T16:30:20.371Z"
   },
   {
    "duration": 51,
    "start_time": "2022-05-21T16:30:20.395Z"
   },
   {
    "duration": 3,
    "start_time": "2022-05-21T16:32:12.618Z"
   },
   {
    "duration": 68,
    "start_time": "2022-05-21T16:32:12.624Z"
   },
   {
    "duration": 14,
    "start_time": "2022-05-21T16:32:12.694Z"
   },
   {
    "duration": 4,
    "start_time": "2022-05-21T16:32:12.709Z"
   },
   {
    "duration": 25,
    "start_time": "2022-05-21T16:32:12.716Z"
   },
   {
    "duration": 6,
    "start_time": "2022-05-21T16:32:12.743Z"
   },
   {
    "duration": 13,
    "start_time": "2022-05-21T16:32:12.751Z"
   },
   {
    "duration": 10,
    "start_time": "2022-05-21T16:32:12.765Z"
   },
   {
    "duration": 14,
    "start_time": "2022-05-21T16:32:12.777Z"
   },
   {
    "duration": 5,
    "start_time": "2022-05-21T16:32:12.793Z"
   },
   {
    "duration": 59,
    "start_time": "2022-05-21T16:32:12.801Z"
   },
   {
    "duration": 13,
    "start_time": "2022-05-21T16:32:12.862Z"
   },
   {
    "duration": 22,
    "start_time": "2022-05-21T16:32:12.876Z"
   },
   {
    "duration": 47,
    "start_time": "2022-05-21T16:32:12.899Z"
   },
   {
    "duration": 344,
    "start_time": "2022-05-21T16:32:12.948Z"
   },
   {
    "duration": 17,
    "start_time": "2022-05-21T16:32:13.294Z"
   },
   {
    "duration": 29,
    "start_time": "2022-05-21T16:32:13.312Z"
   },
   {
    "duration": 489,
    "start_time": "2022-05-21T16:32:13.344Z"
   },
   {
    "duration": 21,
    "start_time": "2022-05-21T16:32:13.840Z"
   },
   {
    "duration": 17,
    "start_time": "2022-05-21T16:32:13.863Z"
   },
   {
    "duration": 9,
    "start_time": "2022-05-21T16:32:13.881Z"
   },
   {
    "duration": 435,
    "start_time": "2022-05-21T16:32:13.892Z"
   },
   {
    "duration": 19,
    "start_time": "2022-05-21T16:32:14.329Z"
   },
   {
    "duration": 213,
    "start_time": "2022-05-21T16:32:14.350Z"
   },
   {
    "duration": 8,
    "start_time": "2022-05-21T16:32:14.565Z"
   },
   {
    "duration": 18,
    "start_time": "2022-05-21T16:32:14.574Z"
   },
   {
    "duration": 260,
    "start_time": "2022-05-21T16:32:14.594Z"
   },
   {
    "duration": 240,
    "start_time": "2022-05-21T16:32:14.857Z"
   },
   {
    "duration": 16,
    "start_time": "2022-05-21T16:32:15.101Z"
   },
   {
    "duration": 27,
    "start_time": "2022-05-21T16:32:15.119Z"
   },
   {
    "duration": 15,
    "start_time": "2022-05-21T16:32:15.148Z"
   },
   {
    "duration": 16,
    "start_time": "2022-05-21T16:32:15.166Z"
   },
   {
    "duration": 16,
    "start_time": "2022-05-21T16:32:15.185Z"
   },
   {
    "duration": 53,
    "start_time": "2022-05-21T16:32:15.203Z"
   },
   {
    "duration": 21,
    "start_time": "2022-05-21T16:32:15.258Z"
   },
   {
    "duration": 26,
    "start_time": "2022-05-21T16:32:15.281Z"
   },
   {
    "duration": 46,
    "start_time": "2022-05-21T16:32:15.309Z"
   },
   {
    "duration": 20,
    "start_time": "2022-05-21T16:32:15.357Z"
   },
   {
    "duration": 15,
    "start_time": "2022-05-21T16:32:15.379Z"
   },
   {
    "duration": 18,
    "start_time": "2022-05-21T16:32:15.395Z"
   },
   {
    "duration": 39,
    "start_time": "2022-05-21T16:32:15.414Z"
   },
   {
    "duration": 25,
    "start_time": "2022-05-21T16:32:15.455Z"
   },
   {
    "duration": 33,
    "start_time": "2022-05-21T16:32:15.482Z"
   },
   {
    "duration": 52,
    "start_time": "2022-05-21T16:32:15.517Z"
   },
   {
    "duration": 4,
    "start_time": "2022-05-21T16:34:32.317Z"
   },
   {
    "duration": 74,
    "start_time": "2022-05-21T16:34:32.324Z"
   },
   {
    "duration": 18,
    "start_time": "2022-05-21T16:34:32.400Z"
   },
   {
    "duration": 21,
    "start_time": "2022-05-21T16:34:32.420Z"
   },
   {
    "duration": 8,
    "start_time": "2022-05-21T16:34:32.445Z"
   },
   {
    "duration": 6,
    "start_time": "2022-05-21T16:34:32.454Z"
   },
   {
    "duration": 20,
    "start_time": "2022-05-21T16:34:32.462Z"
   },
   {
    "duration": 9,
    "start_time": "2022-05-21T16:34:32.484Z"
   },
   {
    "duration": 10,
    "start_time": "2022-05-21T16:34:32.495Z"
   },
   {
    "duration": 43,
    "start_time": "2022-05-21T16:34:32.506Z"
   },
   {
    "duration": 22,
    "start_time": "2022-05-21T16:34:32.553Z"
   },
   {
    "duration": 14,
    "start_time": "2022-05-21T16:34:32.577Z"
   },
   {
    "duration": 49,
    "start_time": "2022-05-21T16:34:32.593Z"
   },
   {
    "duration": 18,
    "start_time": "2022-05-21T16:34:32.645Z"
   },
   {
    "duration": 379,
    "start_time": "2022-05-21T16:34:32.665Z"
   },
   {
    "duration": 20,
    "start_time": "2022-05-21T16:34:33.045Z"
   },
   {
    "duration": 9,
    "start_time": "2022-05-21T16:34:33.067Z"
   },
   {
    "duration": 473,
    "start_time": "2022-05-21T16:34:33.077Z"
   },
   {
    "duration": 26,
    "start_time": "2022-05-21T16:34:33.553Z"
   },
   {
    "duration": 23,
    "start_time": "2022-05-21T16:34:33.582Z"
   },
   {
    "duration": 37,
    "start_time": "2022-05-21T16:34:33.607Z"
   },
   {
    "duration": 435,
    "start_time": "2022-05-21T16:34:33.646Z"
   },
   {
    "duration": 8,
    "start_time": "2022-05-21T16:34:34.083Z"
   },
   {
    "duration": 336,
    "start_time": "2022-05-21T16:34:34.093Z"
   },
   {
    "duration": 11,
    "start_time": "2022-05-21T16:34:34.431Z"
   },
   {
    "duration": 18,
    "start_time": "2022-05-21T16:34:34.444Z"
   },
   {
    "duration": 394,
    "start_time": "2022-05-21T16:34:34.464Z"
   },
   {
    "duration": 238,
    "start_time": "2022-05-21T16:34:34.860Z"
   },
   {
    "duration": 20,
    "start_time": "2022-05-21T16:34:35.102Z"
   },
   {
    "duration": 35,
    "start_time": "2022-05-21T16:34:35.125Z"
   },
   {
    "duration": 26,
    "start_time": "2022-05-21T16:34:35.163Z"
   },
   {
    "duration": 24,
    "start_time": "2022-05-21T16:34:35.192Z"
   },
   {
    "duration": 27,
    "start_time": "2022-05-21T16:34:35.217Z"
   },
   {
    "duration": 17,
    "start_time": "2022-05-21T16:34:35.246Z"
   },
   {
    "duration": 20,
    "start_time": "2022-05-21T16:34:35.265Z"
   },
   {
    "duration": 57,
    "start_time": "2022-05-21T16:34:35.288Z"
   },
   {
    "duration": 23,
    "start_time": "2022-05-21T16:34:35.347Z"
   },
   {
    "duration": 17,
    "start_time": "2022-05-21T16:34:35.372Z"
   },
   {
    "duration": 50,
    "start_time": "2022-05-21T16:34:35.392Z"
   },
   {
    "duration": 18,
    "start_time": "2022-05-21T16:34:35.444Z"
   },
   {
    "duration": 17,
    "start_time": "2022-05-21T16:34:35.464Z"
   },
   {
    "duration": 25,
    "start_time": "2022-05-21T16:34:35.483Z"
   },
   {
    "duration": 59,
    "start_time": "2022-05-21T16:34:35.511Z"
   },
   {
    "duration": 29,
    "start_time": "2022-05-21T16:34:35.572Z"
   },
   {
    "duration": 4,
    "start_time": "2022-05-21T16:38:23.262Z"
   },
   {
    "duration": 98,
    "start_time": "2022-05-21T16:38:23.268Z"
   },
   {
    "duration": 15,
    "start_time": "2022-05-21T16:38:23.369Z"
   },
   {
    "duration": 5,
    "start_time": "2022-05-21T16:38:23.387Z"
   },
   {
    "duration": 15,
    "start_time": "2022-05-21T16:38:23.394Z"
   },
   {
    "duration": 33,
    "start_time": "2022-05-21T16:38:23.410Z"
   },
   {
    "duration": 14,
    "start_time": "2022-05-21T16:38:23.446Z"
   },
   {
    "duration": 10,
    "start_time": "2022-05-21T16:38:23.462Z"
   },
   {
    "duration": 11,
    "start_time": "2022-05-21T16:38:23.475Z"
   },
   {
    "duration": 8,
    "start_time": "2022-05-21T16:38:23.488Z"
   },
   {
    "duration": 58,
    "start_time": "2022-05-21T16:38:23.498Z"
   },
   {
    "duration": 20,
    "start_time": "2022-05-21T16:38:23.559Z"
   },
   {
    "duration": 33,
    "start_time": "2022-05-21T16:38:23.582Z"
   },
   {
    "duration": 46,
    "start_time": "2022-05-21T16:38:23.617Z"
   },
   {
    "duration": 347,
    "start_time": "2022-05-21T16:38:23.665Z"
   },
   {
    "duration": 29,
    "start_time": "2022-05-21T16:38:24.014Z"
   },
   {
    "duration": 9,
    "start_time": "2022-05-21T16:38:24.045Z"
   },
   {
    "duration": 530,
    "start_time": "2022-05-21T16:38:24.055Z"
   },
   {
    "duration": 16,
    "start_time": "2022-05-21T16:38:24.588Z"
   },
   {
    "duration": 371,
    "start_time": "2022-05-21T16:38:24.606Z"
   },
   {
    "duration": 0,
    "start_time": "2022-05-21T16:38:24.979Z"
   },
   {
    "duration": 0,
    "start_time": "2022-05-21T16:38:24.981Z"
   },
   {
    "duration": 0,
    "start_time": "2022-05-21T16:38:24.983Z"
   },
   {
    "duration": 0,
    "start_time": "2022-05-21T16:38:24.985Z"
   },
   {
    "duration": 0,
    "start_time": "2022-05-21T16:38:24.986Z"
   },
   {
    "duration": 0,
    "start_time": "2022-05-21T16:38:24.987Z"
   },
   {
    "duration": 0,
    "start_time": "2022-05-21T16:38:24.988Z"
   },
   {
    "duration": 0,
    "start_time": "2022-05-21T16:38:24.989Z"
   },
   {
    "duration": 0,
    "start_time": "2022-05-21T16:38:24.990Z"
   },
   {
    "duration": 0,
    "start_time": "2022-05-21T16:38:24.991Z"
   },
   {
    "duration": 0,
    "start_time": "2022-05-21T16:38:24.992Z"
   },
   {
    "duration": 0,
    "start_time": "2022-05-21T16:38:24.994Z"
   },
   {
    "duration": 0,
    "start_time": "2022-05-21T16:38:24.995Z"
   },
   {
    "duration": 0,
    "start_time": "2022-05-21T16:38:24.997Z"
   },
   {
    "duration": 0,
    "start_time": "2022-05-21T16:38:24.998Z"
   },
   {
    "duration": 0,
    "start_time": "2022-05-21T16:38:25.000Z"
   },
   {
    "duration": 0,
    "start_time": "2022-05-21T16:38:25.001Z"
   },
   {
    "duration": 0,
    "start_time": "2022-05-21T16:38:25.003Z"
   },
   {
    "duration": 0,
    "start_time": "2022-05-21T16:38:25.004Z"
   },
   {
    "duration": 0,
    "start_time": "2022-05-21T16:38:25.006Z"
   },
   {
    "duration": 0,
    "start_time": "2022-05-21T16:38:25.007Z"
   },
   {
    "duration": 0,
    "start_time": "2022-05-21T16:38:25.009Z"
   },
   {
    "duration": 0,
    "start_time": "2022-05-21T16:38:25.010Z"
   },
   {
    "duration": 0,
    "start_time": "2022-05-21T16:38:25.012Z"
   },
   {
    "duration": 4,
    "start_time": "2022-05-21T16:41:12.410Z"
   },
   {
    "duration": 72,
    "start_time": "2022-05-21T16:41:12.416Z"
   },
   {
    "duration": 18,
    "start_time": "2022-05-21T16:41:12.490Z"
   },
   {
    "duration": 4,
    "start_time": "2022-05-21T16:41:12.510Z"
   },
   {
    "duration": 6,
    "start_time": "2022-05-21T16:41:12.542Z"
   },
   {
    "duration": 10,
    "start_time": "2022-05-21T16:41:12.550Z"
   },
   {
    "duration": 16,
    "start_time": "2022-05-21T16:41:12.562Z"
   },
   {
    "duration": 11,
    "start_time": "2022-05-21T16:41:12.580Z"
   },
   {
    "duration": 11,
    "start_time": "2022-05-21T16:41:12.592Z"
   },
   {
    "duration": 7,
    "start_time": "2022-05-21T16:41:12.642Z"
   },
   {
    "duration": 26,
    "start_time": "2022-05-21T16:41:12.651Z"
   },
   {
    "duration": 14,
    "start_time": "2022-05-21T16:41:12.678Z"
   },
   {
    "duration": 49,
    "start_time": "2022-05-21T16:41:12.694Z"
   },
   {
    "duration": 22,
    "start_time": "2022-05-21T16:41:12.744Z"
   },
   {
    "duration": 396,
    "start_time": "2022-05-21T16:41:12.768Z"
   },
   {
    "duration": 23,
    "start_time": "2022-05-21T16:41:13.166Z"
   },
   {
    "duration": 10,
    "start_time": "2022-05-21T16:41:13.191Z"
   },
   {
    "duration": 528,
    "start_time": "2022-05-21T16:41:13.203Z"
   },
   {
    "duration": 34,
    "start_time": "2022-05-21T16:41:13.733Z"
   },
   {
    "duration": 24,
    "start_time": "2022-05-21T16:41:13.769Z"
   },
   {
    "duration": 9,
    "start_time": "2022-05-21T16:41:13.795Z"
   },
   {
    "duration": 427,
    "start_time": "2022-05-21T16:41:13.808Z"
   },
   {
    "duration": 7,
    "start_time": "2022-05-21T16:41:14.241Z"
   },
   {
    "duration": 223,
    "start_time": "2022-05-21T16:41:14.250Z"
   },
   {
    "duration": 7,
    "start_time": "2022-05-21T16:41:14.475Z"
   },
   {
    "duration": 13,
    "start_time": "2022-05-21T16:41:14.484Z"
   },
   {
    "duration": 274,
    "start_time": "2022-05-21T16:41:14.499Z"
   },
   {
    "duration": 282,
    "start_time": "2022-05-21T16:41:14.775Z"
   },
   {
    "duration": 18,
    "start_time": "2022-05-21T16:41:15.063Z"
   },
   {
    "duration": 12,
    "start_time": "2022-05-21T16:41:15.083Z"
   },
   {
    "duration": 33,
    "start_time": "2022-05-21T16:41:15.097Z"
   },
   {
    "duration": 31,
    "start_time": "2022-05-21T16:41:15.132Z"
   },
   {
    "duration": 22,
    "start_time": "2022-05-21T16:41:15.165Z"
   },
   {
    "duration": 16,
    "start_time": "2022-05-21T16:41:15.190Z"
   },
   {
    "duration": 56,
    "start_time": "2022-05-21T16:41:15.208Z"
   },
   {
    "duration": 22,
    "start_time": "2022-05-21T16:41:15.266Z"
   },
   {
    "duration": 52,
    "start_time": "2022-05-21T16:41:15.290Z"
   },
   {
    "duration": 16,
    "start_time": "2022-05-21T16:41:15.345Z"
   },
   {
    "duration": 24,
    "start_time": "2022-05-21T16:41:15.363Z"
   },
   {
    "duration": 18,
    "start_time": "2022-05-21T16:41:15.388Z"
   },
   {
    "duration": 47,
    "start_time": "2022-05-21T16:41:15.408Z"
   },
   {
    "duration": 18,
    "start_time": "2022-05-21T16:41:15.458Z"
   },
   {
    "duration": 26,
    "start_time": "2022-05-21T16:41:15.478Z"
   },
   {
    "duration": 54,
    "start_time": "2022-05-21T16:41:15.506Z"
   },
   {
    "duration": 4,
    "start_time": "2022-05-21T16:49:45.216Z"
   },
   {
    "duration": 78,
    "start_time": "2022-05-21T16:49:45.221Z"
   },
   {
    "duration": 14,
    "start_time": "2022-05-21T16:49:45.302Z"
   },
   {
    "duration": 25,
    "start_time": "2022-05-21T16:49:45.318Z"
   },
   {
    "duration": 9,
    "start_time": "2022-05-21T16:49:45.344Z"
   },
   {
    "duration": 10,
    "start_time": "2022-05-21T16:49:45.355Z"
   },
   {
    "duration": 14,
    "start_time": "2022-05-21T16:49:45.366Z"
   },
   {
    "duration": 9,
    "start_time": "2022-05-21T16:49:45.381Z"
   },
   {
    "duration": 10,
    "start_time": "2022-05-21T16:49:45.393Z"
   },
   {
    "duration": 5,
    "start_time": "2022-05-21T16:49:45.442Z"
   },
   {
    "duration": 23,
    "start_time": "2022-05-21T16:49:45.449Z"
   },
   {
    "duration": 14,
    "start_time": "2022-05-21T16:49:45.474Z"
   },
   {
    "duration": 23,
    "start_time": "2022-05-21T16:49:45.489Z"
   },
   {
    "duration": 40,
    "start_time": "2022-05-21T16:49:45.514Z"
   },
   {
    "duration": 311,
    "start_time": "2022-05-21T16:49:45.556Z"
   },
   {
    "duration": 17,
    "start_time": "2022-05-21T16:49:45.869Z"
   },
   {
    "duration": 9,
    "start_time": "2022-05-21T16:49:45.888Z"
   },
   {
    "duration": 464,
    "start_time": "2022-05-21T16:49:45.899Z"
   },
   {
    "duration": 22,
    "start_time": "2022-05-21T16:49:46.364Z"
   },
   {
    "duration": 16,
    "start_time": "2022-05-21T16:49:46.388Z"
   },
   {
    "duration": 38,
    "start_time": "2022-05-21T16:49:46.406Z"
   },
   {
    "duration": 381,
    "start_time": "2022-05-21T16:49:46.446Z"
   },
   {
    "duration": 17,
    "start_time": "2022-05-21T16:49:46.829Z"
   },
   {
    "duration": 264,
    "start_time": "2022-05-21T16:49:46.851Z"
   },
   {
    "duration": 13,
    "start_time": "2022-05-21T16:49:47.118Z"
   },
   {
    "duration": 28,
    "start_time": "2022-05-21T16:49:47.134Z"
   },
   {
    "duration": 449,
    "start_time": "2022-05-21T16:49:47.165Z"
   },
   {
    "duration": 251,
    "start_time": "2022-05-21T16:49:47.616Z"
   },
   {
    "duration": 18,
    "start_time": "2022-05-21T16:49:47.869Z"
   },
   {
    "duration": 16,
    "start_time": "2022-05-21T16:49:47.889Z"
   },
   {
    "duration": 33,
    "start_time": "2022-05-21T16:49:47.907Z"
   },
   {
    "duration": 18,
    "start_time": "2022-05-21T16:49:47.943Z"
   },
   {
    "duration": 17,
    "start_time": "2022-05-21T16:49:47.964Z"
   },
   {
    "duration": 20,
    "start_time": "2022-05-21T16:49:47.983Z"
   },
   {
    "duration": 49,
    "start_time": "2022-05-21T16:49:48.005Z"
   },
   {
    "duration": 22,
    "start_time": "2022-05-21T16:49:48.056Z"
   },
   {
    "duration": 16,
    "start_time": "2022-05-21T16:49:48.079Z"
   },
   {
    "duration": 17,
    "start_time": "2022-05-21T16:49:48.097Z"
   },
   {
    "duration": 19,
    "start_time": "2022-05-21T16:49:48.142Z"
   },
   {
    "duration": 19,
    "start_time": "2022-05-21T16:49:48.163Z"
   },
   {
    "duration": 15,
    "start_time": "2022-05-21T16:49:48.184Z"
   },
   {
    "duration": 42,
    "start_time": "2022-05-21T16:49:48.200Z"
   },
   {
    "duration": 18,
    "start_time": "2022-05-21T16:49:48.244Z"
   },
   {
    "duration": 22,
    "start_time": "2022-05-21T16:49:48.264Z"
   },
   {
    "duration": 3,
    "start_time": "2022-05-21T16:52:32.448Z"
   },
   {
    "duration": 80,
    "start_time": "2022-05-21T16:52:32.453Z"
   },
   {
    "duration": 14,
    "start_time": "2022-05-21T16:52:32.534Z"
   },
   {
    "duration": 8,
    "start_time": "2022-05-21T16:52:32.550Z"
   },
   {
    "duration": 11,
    "start_time": "2022-05-21T16:52:32.560Z"
   },
   {
    "duration": 5,
    "start_time": "2022-05-21T16:52:32.573Z"
   },
   {
    "duration": 14,
    "start_time": "2022-05-21T16:52:32.579Z"
   },
   {
    "duration": 13,
    "start_time": "2022-05-21T16:52:32.594Z"
   },
   {
    "duration": 8,
    "start_time": "2022-05-21T16:52:32.609Z"
   },
   {
    "duration": 28,
    "start_time": "2022-05-21T16:52:32.618Z"
   },
   {
    "duration": 21,
    "start_time": "2022-05-21T16:52:32.647Z"
   },
   {
    "duration": 13,
    "start_time": "2022-05-21T16:52:32.669Z"
   },
   {
    "duration": 20,
    "start_time": "2022-05-21T16:52:32.683Z"
   },
   {
    "duration": 41,
    "start_time": "2022-05-21T16:52:32.705Z"
   },
   {
    "duration": 296,
    "start_time": "2022-05-21T16:52:32.748Z"
   },
   {
    "duration": 15,
    "start_time": "2022-05-21T16:52:33.045Z"
   },
   {
    "duration": 7,
    "start_time": "2022-05-21T16:52:33.062Z"
   },
   {
    "duration": 435,
    "start_time": "2022-05-21T16:52:33.071Z"
   },
   {
    "duration": 38,
    "start_time": "2022-05-21T16:52:33.508Z"
   },
   {
    "duration": 16,
    "start_time": "2022-05-21T16:52:33.548Z"
   },
   {
    "duration": 7,
    "start_time": "2022-05-21T16:52:33.566Z"
   },
   {
    "duration": 378,
    "start_time": "2022-05-21T16:52:33.574Z"
   },
   {
    "duration": 6,
    "start_time": "2022-05-21T16:52:33.954Z"
   },
   {
    "duration": 213,
    "start_time": "2022-05-21T16:52:33.962Z"
   },
   {
    "duration": 7,
    "start_time": "2022-05-21T16:52:34.176Z"
   },
   {
    "duration": 12,
    "start_time": "2022-05-21T16:52:34.185Z"
   },
   {
    "duration": 266,
    "start_time": "2022-05-21T16:52:34.199Z"
   },
   {
    "duration": 230,
    "start_time": "2022-05-21T16:52:34.467Z"
   },
   {
    "duration": 14,
    "start_time": "2022-05-21T16:52:34.700Z"
   },
   {
    "duration": 26,
    "start_time": "2022-05-21T16:52:34.715Z"
   },
   {
    "duration": 15,
    "start_time": "2022-05-21T16:52:34.742Z"
   },
   {
    "duration": 14,
    "start_time": "2022-05-21T16:52:34.758Z"
   },
   {
    "duration": 12,
    "start_time": "2022-05-21T16:52:34.774Z"
   },
   {
    "duration": 13,
    "start_time": "2022-05-21T16:52:34.788Z"
   },
   {
    "duration": 40,
    "start_time": "2022-05-21T16:52:34.802Z"
   },
   {
    "duration": 15,
    "start_time": "2022-05-21T16:52:34.844Z"
   },
   {
    "duration": 14,
    "start_time": "2022-05-21T16:52:34.860Z"
   },
   {
    "duration": 12,
    "start_time": "2022-05-21T16:52:34.876Z"
   },
   {
    "duration": 13,
    "start_time": "2022-05-21T16:52:34.890Z"
   },
   {
    "duration": 50,
    "start_time": "2022-05-21T16:52:34.905Z"
   },
   {
    "duration": 14,
    "start_time": "2022-05-21T16:52:34.958Z"
   },
   {
    "duration": 16,
    "start_time": "2022-05-21T16:52:34.974Z"
   },
   {
    "duration": 20,
    "start_time": "2022-05-21T16:52:34.992Z"
   },
   {
    "duration": 43,
    "start_time": "2022-05-21T16:52:35.014Z"
   },
   {
    "duration": 8,
    "start_time": "2022-05-21T17:10:48.451Z"
   },
   {
    "duration": 16,
    "start_time": "2022-05-21T17:11:26.426Z"
   },
   {
    "duration": 28,
    "start_time": "2022-05-21T17:12:09.158Z"
   },
   {
    "duration": 5,
    "start_time": "2022-05-21T17:13:31.873Z"
   },
   {
    "duration": 93,
    "start_time": "2022-05-21T17:13:31.881Z"
   },
   {
    "duration": 24,
    "start_time": "2022-05-21T17:13:31.976Z"
   },
   {
    "duration": 7,
    "start_time": "2022-05-21T17:13:32.003Z"
   },
   {
    "duration": 16,
    "start_time": "2022-05-21T17:13:32.041Z"
   },
   {
    "duration": 14,
    "start_time": "2022-05-21T17:13:32.059Z"
   },
   {
    "duration": 22,
    "start_time": "2022-05-21T17:13:32.076Z"
   },
   {
    "duration": 20,
    "start_time": "2022-05-21T17:13:32.100Z"
   },
   {
    "duration": 10,
    "start_time": "2022-05-21T17:13:32.123Z"
   },
   {
    "duration": 6,
    "start_time": "2022-05-21T17:13:32.142Z"
   },
   {
    "duration": 31,
    "start_time": "2022-05-21T17:13:32.149Z"
   },
   {
    "duration": 21,
    "start_time": "2022-05-21T17:13:32.182Z"
   },
   {
    "duration": 57,
    "start_time": "2022-05-21T17:13:32.205Z"
   },
   {
    "duration": 21,
    "start_time": "2022-05-21T17:13:32.265Z"
   },
   {
    "duration": 359,
    "start_time": "2022-05-21T17:13:32.288Z"
   },
   {
    "duration": 16,
    "start_time": "2022-05-21T17:13:32.649Z"
   },
   {
    "duration": 10,
    "start_time": "2022-05-21T17:13:32.668Z"
   },
   {
    "duration": 474,
    "start_time": "2022-05-21T17:13:32.680Z"
   },
   {
    "duration": 29,
    "start_time": "2022-05-21T17:13:33.156Z"
   },
   {
    "duration": 21,
    "start_time": "2022-05-21T17:13:33.187Z"
   },
   {
    "duration": 32,
    "start_time": "2022-05-21T17:13:33.210Z"
   },
   {
    "duration": 415,
    "start_time": "2022-05-21T17:13:33.243Z"
   },
   {
    "duration": 8,
    "start_time": "2022-05-21T17:13:33.660Z"
   },
   {
    "duration": 242,
    "start_time": "2022-05-21T17:13:33.672Z"
   },
   {
    "duration": 8,
    "start_time": "2022-05-21T17:13:33.916Z"
   },
   {
    "duration": 20,
    "start_time": "2022-05-21T17:13:33.926Z"
   },
   {
    "duration": 257,
    "start_time": "2022-05-21T17:13:33.948Z"
   },
   {
    "duration": 339,
    "start_time": "2022-05-21T17:13:34.207Z"
   },
   {
    "duration": 18,
    "start_time": "2022-05-21T17:13:34.548Z"
   },
   {
    "duration": 30,
    "start_time": "2022-05-21T17:13:34.568Z"
   },
   {
    "duration": 0,
    "start_time": "2022-05-21T17:13:34.600Z"
   },
   {
    "duration": 0,
    "start_time": "2022-05-21T17:13:34.602Z"
   },
   {
    "duration": 0,
    "start_time": "2022-05-21T17:13:34.603Z"
   },
   {
    "duration": 0,
    "start_time": "2022-05-21T17:13:34.605Z"
   },
   {
    "duration": 0,
    "start_time": "2022-05-21T17:13:34.605Z"
   },
   {
    "duration": 0,
    "start_time": "2022-05-21T17:13:34.607Z"
   },
   {
    "duration": 0,
    "start_time": "2022-05-21T17:13:34.608Z"
   },
   {
    "duration": 0,
    "start_time": "2022-05-21T17:13:34.609Z"
   },
   {
    "duration": 0,
    "start_time": "2022-05-21T17:13:34.611Z"
   },
   {
    "duration": 0,
    "start_time": "2022-05-21T17:13:34.613Z"
   },
   {
    "duration": 0,
    "start_time": "2022-05-21T17:13:34.615Z"
   },
   {
    "duration": 0,
    "start_time": "2022-05-21T17:13:34.616Z"
   },
   {
    "duration": 0,
    "start_time": "2022-05-21T17:13:34.617Z"
   },
   {
    "duration": 0,
    "start_time": "2022-05-21T17:13:34.618Z"
   },
   {
    "duration": 0,
    "start_time": "2022-05-21T17:13:34.620Z"
   },
   {
    "duration": 0,
    "start_time": "2022-05-21T17:13:34.621Z"
   },
   {
    "duration": 8,
    "start_time": "2022-05-21T17:13:57.376Z"
   },
   {
    "duration": 7,
    "start_time": "2022-05-21T17:14:07.602Z"
   },
   {
    "duration": 4,
    "start_time": "2022-05-21T17:14:09.533Z"
   },
   {
    "duration": 89,
    "start_time": "2022-05-21T17:14:09.540Z"
   },
   {
    "duration": 20,
    "start_time": "2022-05-21T17:14:09.630Z"
   },
   {
    "duration": 5,
    "start_time": "2022-05-21T17:14:09.654Z"
   },
   {
    "duration": 14,
    "start_time": "2022-05-21T17:14:09.661Z"
   },
   {
    "duration": 8,
    "start_time": "2022-05-21T17:14:09.677Z"
   },
   {
    "duration": 16,
    "start_time": "2022-05-21T17:14:09.686Z"
   },
   {
    "duration": 43,
    "start_time": "2022-05-21T17:14:09.705Z"
   },
   {
    "duration": 9,
    "start_time": "2022-05-21T17:14:09.751Z"
   },
   {
    "duration": 9,
    "start_time": "2022-05-21T17:14:09.762Z"
   },
   {
    "duration": 30,
    "start_time": "2022-05-21T17:14:09.773Z"
   },
   {
    "duration": 54,
    "start_time": "2022-05-21T17:14:09.805Z"
   },
   {
    "duration": 38,
    "start_time": "2022-05-21T17:14:09.860Z"
   },
   {
    "duration": 23,
    "start_time": "2022-05-21T17:14:09.900Z"
   },
   {
    "duration": 328,
    "start_time": "2022-05-21T17:14:09.941Z"
   },
   {
    "duration": 23,
    "start_time": "2022-05-21T17:14:10.271Z"
   },
   {
    "duration": 11,
    "start_time": "2022-05-21T17:14:10.295Z"
   },
   {
    "duration": 528,
    "start_time": "2022-05-21T17:14:10.308Z"
   },
   {
    "duration": 30,
    "start_time": "2022-05-21T17:14:10.838Z"
   },
   {
    "duration": 21,
    "start_time": "2022-05-21T17:14:10.870Z"
   },
   {
    "duration": 13,
    "start_time": "2022-05-21T17:14:10.895Z"
   },
   {
    "duration": 533,
    "start_time": "2022-05-21T17:14:10.910Z"
   },
   {
    "duration": 8,
    "start_time": "2022-05-21T17:14:11.445Z"
   },
   {
    "duration": 369,
    "start_time": "2022-05-21T17:14:11.457Z"
   },
   {
    "duration": 15,
    "start_time": "2022-05-21T17:14:11.829Z"
   },
   {
    "duration": 20,
    "start_time": "2022-05-21T17:14:11.846Z"
   },
   {
    "duration": 289,
    "start_time": "2022-05-21T17:14:11.868Z"
   },
   {
    "duration": 231,
    "start_time": "2022-05-21T17:14:12.160Z"
   },
   {
    "duration": 18,
    "start_time": "2022-05-21T17:14:12.393Z"
   },
   {
    "duration": 9,
    "start_time": "2022-05-21T17:14:12.413Z"
   },
   {
    "duration": 37,
    "start_time": "2022-05-21T17:14:12.442Z"
   },
   {
    "duration": 1,
    "start_time": "2022-05-21T17:14:12.481Z"
   },
   {
    "duration": 0,
    "start_time": "2022-05-21T17:14:12.483Z"
   },
   {
    "duration": 0,
    "start_time": "2022-05-21T17:14:12.484Z"
   },
   {
    "duration": 0,
    "start_time": "2022-05-21T17:14:12.485Z"
   },
   {
    "duration": 0,
    "start_time": "2022-05-21T17:14:12.487Z"
   },
   {
    "duration": 0,
    "start_time": "2022-05-21T17:14:12.490Z"
   },
   {
    "duration": 0,
    "start_time": "2022-05-21T17:14:12.492Z"
   },
   {
    "duration": 0,
    "start_time": "2022-05-21T17:14:12.493Z"
   },
   {
    "duration": 0,
    "start_time": "2022-05-21T17:14:12.495Z"
   },
   {
    "duration": 0,
    "start_time": "2022-05-21T17:14:12.496Z"
   },
   {
    "duration": 0,
    "start_time": "2022-05-21T17:14:12.498Z"
   },
   {
    "duration": 0,
    "start_time": "2022-05-21T17:14:12.499Z"
   },
   {
    "duration": 0,
    "start_time": "2022-05-21T17:14:12.501Z"
   },
   {
    "duration": 0,
    "start_time": "2022-05-21T17:14:12.502Z"
   },
   {
    "duration": 0,
    "start_time": "2022-05-21T17:14:12.504Z"
   },
   {
    "duration": 35,
    "start_time": "2022-05-21T17:14:39.967Z"
   },
   {
    "duration": 11,
    "start_time": "2022-05-21T17:14:49.274Z"
   },
   {
    "duration": 15,
    "start_time": "2022-05-21T17:16:22.925Z"
   },
   {
    "duration": 7,
    "start_time": "2022-05-21T17:17:46.407Z"
   },
   {
    "duration": 11,
    "start_time": "2022-05-21T17:18:05.027Z"
   },
   {
    "duration": 11,
    "start_time": "2022-05-21T17:20:23.344Z"
   },
   {
    "duration": 6,
    "start_time": "2022-05-21T17:20:32.684Z"
   },
   {
    "duration": 10,
    "start_time": "2022-05-21T17:20:34.707Z"
   },
   {
    "duration": 17,
    "start_time": "2022-05-21T17:20:52.278Z"
   },
   {
    "duration": 3,
    "start_time": "2022-05-21T17:27:31.298Z"
   },
   {
    "duration": 75,
    "start_time": "2022-05-21T17:27:31.303Z"
   },
   {
    "duration": 15,
    "start_time": "2022-05-21T17:27:31.380Z"
   },
   {
    "duration": 10,
    "start_time": "2022-05-21T17:27:31.396Z"
   },
   {
    "duration": 37,
    "start_time": "2022-05-21T17:27:31.408Z"
   },
   {
    "duration": 5,
    "start_time": "2022-05-21T17:27:31.448Z"
   },
   {
    "duration": 20,
    "start_time": "2022-05-21T17:27:31.454Z"
   },
   {
    "duration": 9,
    "start_time": "2022-05-21T17:27:31.476Z"
   },
   {
    "duration": 7,
    "start_time": "2022-05-21T17:27:31.486Z"
   },
   {
    "duration": 6,
    "start_time": "2022-05-21T17:27:31.495Z"
   },
   {
    "duration": 50,
    "start_time": "2022-05-21T17:27:31.504Z"
   },
   {
    "duration": 14,
    "start_time": "2022-05-21T17:27:31.559Z"
   },
   {
    "duration": 29,
    "start_time": "2022-05-21T17:27:31.575Z"
   },
   {
    "duration": 42,
    "start_time": "2022-05-21T17:27:31.606Z"
   },
   {
    "duration": 347,
    "start_time": "2022-05-21T17:27:31.650Z"
   },
   {
    "duration": 20,
    "start_time": "2022-05-21T17:27:31.999Z"
   },
   {
    "duration": 25,
    "start_time": "2022-05-21T17:27:32.020Z"
   },
   {
    "duration": 471,
    "start_time": "2022-05-21T17:27:32.047Z"
   },
   {
    "duration": 31,
    "start_time": "2022-05-21T17:27:32.520Z"
   },
   {
    "duration": 19,
    "start_time": "2022-05-21T17:27:32.553Z"
   },
   {
    "duration": 7,
    "start_time": "2022-05-21T17:27:32.574Z"
   },
   {
    "duration": 427,
    "start_time": "2022-05-21T17:27:32.582Z"
   },
   {
    "duration": 6,
    "start_time": "2022-05-21T17:27:33.011Z"
   },
   {
    "duration": 291,
    "start_time": "2022-05-21T17:27:33.019Z"
   },
   {
    "duration": 7,
    "start_time": "2022-05-21T17:27:33.312Z"
   },
   {
    "duration": 26,
    "start_time": "2022-05-21T17:27:33.321Z"
   },
   {
    "duration": 251,
    "start_time": "2022-05-21T17:27:33.350Z"
   },
   {
    "duration": 237,
    "start_time": "2022-05-21T17:27:33.602Z"
   },
   {
    "duration": 18,
    "start_time": "2022-05-21T17:27:33.846Z"
   },
   {
    "duration": 9,
    "start_time": "2022-05-21T17:27:33.866Z"
   },
   {
    "duration": 13,
    "start_time": "2022-05-21T17:27:33.877Z"
   },
   {
    "duration": 16,
    "start_time": "2022-05-21T17:27:33.892Z"
   },
   {
    "duration": 7,
    "start_time": "2022-05-21T17:27:33.910Z"
   },
   {
    "duration": 38,
    "start_time": "2022-05-21T17:27:33.919Z"
   },
   {
    "duration": 18,
    "start_time": "2022-05-21T17:27:33.959Z"
   },
   {
    "duration": 16,
    "start_time": "2022-05-21T17:27:33.979Z"
   },
   {
    "duration": 17,
    "start_time": "2022-05-21T17:27:33.998Z"
   },
   {
    "duration": 42,
    "start_time": "2022-05-21T17:27:34.017Z"
   },
   {
    "duration": 26,
    "start_time": "2022-05-21T17:27:34.061Z"
   },
   {
    "duration": 17,
    "start_time": "2022-05-21T17:27:34.089Z"
   },
   {
    "duration": 53,
    "start_time": "2022-05-21T17:27:34.108Z"
   },
   {
    "duration": 16,
    "start_time": "2022-05-21T17:27:34.162Z"
   },
   {
    "duration": 17,
    "start_time": "2022-05-21T17:27:34.179Z"
   },
   {
    "duration": 17,
    "start_time": "2022-05-21T17:27:34.198Z"
   },
   {
    "duration": 48,
    "start_time": "2022-05-21T17:27:34.217Z"
   },
   {
    "duration": 17,
    "start_time": "2022-05-21T17:27:34.267Z"
   },
   {
    "duration": 22,
    "start_time": "2022-05-21T17:27:34.286Z"
   },
   {
    "duration": 48,
    "start_time": "2022-05-21T17:27:34.309Z"
   },
   {
    "duration": 4,
    "start_time": "2022-05-21T17:56:21.575Z"
   },
   {
    "duration": 4,
    "start_time": "2022-05-21T17:56:30.173Z"
   },
   {
    "duration": 5,
    "start_time": "2022-05-21T17:56:35.044Z"
   },
   {
    "duration": 8,
    "start_time": "2022-05-21T17:58:48.301Z"
   },
   {
    "duration": 4,
    "start_time": "2022-05-21T18:00:25.010Z"
   },
   {
    "duration": 5,
    "start_time": "2022-05-21T18:00:38.475Z"
   },
   {
    "duration": 223,
    "start_time": "2022-05-21T18:25:59.502Z"
   },
   {
    "duration": 222,
    "start_time": "2022-05-21T18:26:09.578Z"
   },
   {
    "duration": 220,
    "start_time": "2022-05-21T18:26:17.519Z"
   },
   {
    "duration": 204,
    "start_time": "2022-05-21T18:28:00.370Z"
   },
   {
    "duration": 9,
    "start_time": "2022-05-21T18:28:06.340Z"
   },
   {
    "duration": 86,
    "start_time": "2022-05-21T18:28:06.351Z"
   },
   {
    "duration": 24,
    "start_time": "2022-05-21T18:28:06.439Z"
   },
   {
    "duration": 14,
    "start_time": "2022-05-21T18:28:06.465Z"
   },
   {
    "duration": 6,
    "start_time": "2022-05-21T18:28:06.481Z"
   },
   {
    "duration": 5,
    "start_time": "2022-05-21T18:28:06.488Z"
   },
   {
    "duration": 10,
    "start_time": "2022-05-21T18:28:06.494Z"
   },
   {
    "duration": 7,
    "start_time": "2022-05-21T18:28:06.506Z"
   },
   {
    "duration": 42,
    "start_time": "2022-05-21T18:28:06.515Z"
   },
   {
    "duration": 17,
    "start_time": "2022-05-21T18:28:06.560Z"
   },
   {
    "duration": 18,
    "start_time": "2022-05-21T18:28:06.582Z"
   },
   {
    "duration": 12,
    "start_time": "2022-05-21T18:28:06.602Z"
   },
   {
    "duration": 41,
    "start_time": "2022-05-21T18:28:06.616Z"
   },
   {
    "duration": 19,
    "start_time": "2022-05-21T18:28:06.658Z"
   },
   {
    "duration": 359,
    "start_time": "2022-05-21T18:28:06.679Z"
   },
   {
    "duration": 29,
    "start_time": "2022-05-21T18:28:07.052Z"
   },
   {
    "duration": 10,
    "start_time": "2022-05-21T18:28:07.084Z"
   },
   {
    "duration": 497,
    "start_time": "2022-05-21T18:28:07.096Z"
   },
   {
    "duration": 21,
    "start_time": "2022-05-21T18:28:07.595Z"
   },
   {
    "duration": 48,
    "start_time": "2022-05-21T18:28:07.617Z"
   },
   {
    "duration": 8,
    "start_time": "2022-05-21T18:28:07.667Z"
   },
   {
    "duration": 419,
    "start_time": "2022-05-21T18:28:07.677Z"
   },
   {
    "duration": 7,
    "start_time": "2022-05-21T18:28:08.097Z"
   },
   {
    "duration": 208,
    "start_time": "2022-05-21T18:28:08.106Z"
   },
   {
    "duration": 6,
    "start_time": "2022-05-21T18:28:08.316Z"
   },
   {
    "duration": 30,
    "start_time": "2022-05-21T18:28:08.324Z"
   },
   {
    "duration": 242,
    "start_time": "2022-05-21T18:28:08.364Z"
   },
   {
    "duration": 254,
    "start_time": "2022-05-21T18:28:08.607Z"
   },
   {
    "duration": 14,
    "start_time": "2022-05-21T18:28:08.869Z"
   },
   {
    "duration": 7,
    "start_time": "2022-05-21T18:28:08.885Z"
   },
   {
    "duration": 15,
    "start_time": "2022-05-21T18:28:08.893Z"
   },
   {
    "duration": 16,
    "start_time": "2022-05-21T18:28:08.909Z"
   },
   {
    "duration": 27,
    "start_time": "2022-05-21T18:28:08.927Z"
   },
   {
    "duration": 12,
    "start_time": "2022-05-21T18:28:08.956Z"
   },
   {
    "duration": 18,
    "start_time": "2022-05-21T18:28:08.970Z"
   },
   {
    "duration": 15,
    "start_time": "2022-05-21T18:28:08.990Z"
   },
   {
    "duration": 14,
    "start_time": "2022-05-21T18:28:09.007Z"
   },
   {
    "duration": 45,
    "start_time": "2022-05-21T18:28:09.023Z"
   },
   {
    "duration": 24,
    "start_time": "2022-05-21T18:28:09.070Z"
   },
   {
    "duration": 15,
    "start_time": "2022-05-21T18:28:09.096Z"
   },
   {
    "duration": 28,
    "start_time": "2022-05-21T18:28:09.113Z"
   },
   {
    "duration": 43,
    "start_time": "2022-05-21T18:28:09.143Z"
   },
   {
    "duration": 14,
    "start_time": "2022-05-21T18:28:09.188Z"
   },
   {
    "duration": 13,
    "start_time": "2022-05-21T18:28:09.204Z"
   },
   {
    "duration": 15,
    "start_time": "2022-05-21T18:28:09.219Z"
   },
   {
    "duration": 33,
    "start_time": "2022-05-21T18:28:09.236Z"
   },
   {
    "duration": 20,
    "start_time": "2022-05-21T18:28:09.271Z"
   },
   {
    "duration": 4,
    "start_time": "2022-05-21T18:28:09.293Z"
   },
   {
    "duration": 6,
    "start_time": "2022-05-21T18:28:09.298Z"
   },
   {
    "duration": 20,
    "start_time": "2022-05-21T18:28:09.306Z"
   },
   {
    "duration": 19,
    "start_time": "2022-05-21T18:28:09.344Z"
   },
   {
    "duration": 12,
    "start_time": "2022-05-21T18:28:09.365Z"
   },
   {
    "duration": 224,
    "start_time": "2022-05-21T18:28:43.563Z"
   },
   {
    "duration": 401,
    "start_time": "2022-05-21T18:28:51.328Z"
   },
   {
    "duration": 217,
    "start_time": "2022-05-21T18:29:13.235Z"
   },
   {
    "duration": 195,
    "start_time": "2022-05-21T18:29:56.218Z"
   },
   {
    "duration": 214,
    "start_time": "2022-05-21T18:32:03.219Z"
   },
   {
    "duration": 3,
    "start_time": "2022-05-21T18:32:07.243Z"
   },
   {
    "duration": 75,
    "start_time": "2022-05-21T18:32:07.248Z"
   },
   {
    "duration": 19,
    "start_time": "2022-05-21T18:32:07.324Z"
   },
   {
    "duration": 11,
    "start_time": "2022-05-21T18:32:07.345Z"
   },
   {
    "duration": 14,
    "start_time": "2022-05-21T18:32:07.358Z"
   },
   {
    "duration": 10,
    "start_time": "2022-05-21T18:32:07.373Z"
   },
   {
    "duration": 15,
    "start_time": "2022-05-21T18:32:07.385Z"
   },
   {
    "duration": 8,
    "start_time": "2022-05-21T18:32:07.402Z"
   },
   {
    "duration": 35,
    "start_time": "2022-05-21T18:32:07.412Z"
   },
   {
    "duration": 6,
    "start_time": "2022-05-21T18:32:07.450Z"
   },
   {
    "duration": 24,
    "start_time": "2022-05-21T18:32:07.457Z"
   },
   {
    "duration": 21,
    "start_time": "2022-05-21T18:32:07.483Z"
   },
   {
    "duration": 59,
    "start_time": "2022-05-21T18:32:07.508Z"
   },
   {
    "duration": 17,
    "start_time": "2022-05-21T18:32:07.570Z"
   },
   {
    "duration": 349,
    "start_time": "2022-05-21T18:32:07.589Z"
   },
   {
    "duration": 24,
    "start_time": "2022-05-21T18:32:07.941Z"
   },
   {
    "duration": 10,
    "start_time": "2022-05-21T18:32:07.967Z"
   },
   {
    "duration": 451,
    "start_time": "2022-05-21T18:32:07.979Z"
   },
   {
    "duration": 29,
    "start_time": "2022-05-21T18:32:08.440Z"
   },
   {
    "duration": 22,
    "start_time": "2022-05-21T18:32:08.471Z"
   },
   {
    "duration": 10,
    "start_time": "2022-05-21T18:32:08.495Z"
   },
   {
    "duration": 435,
    "start_time": "2022-05-21T18:32:08.506Z"
   },
   {
    "duration": 7,
    "start_time": "2022-05-21T18:32:08.943Z"
   },
   {
    "duration": 205,
    "start_time": "2022-05-21T18:32:08.952Z"
   },
   {
    "duration": 6,
    "start_time": "2022-05-21T18:32:09.159Z"
   },
   {
    "duration": 13,
    "start_time": "2022-05-21T18:32:09.167Z"
   },
   {
    "duration": 238,
    "start_time": "2022-05-21T18:32:09.182Z"
   },
   {
    "duration": 235,
    "start_time": "2022-05-21T18:32:09.422Z"
   },
   {
    "duration": 13,
    "start_time": "2022-05-21T18:32:09.659Z"
   },
   {
    "duration": 8,
    "start_time": "2022-05-21T18:32:09.674Z"
   },
   {
    "duration": 14,
    "start_time": "2022-05-21T18:32:09.684Z"
   },
   {
    "duration": 45,
    "start_time": "2022-05-21T18:32:09.701Z"
   },
   {
    "duration": 8,
    "start_time": "2022-05-21T18:32:09.748Z"
   },
   {
    "duration": 12,
    "start_time": "2022-05-21T18:32:09.757Z"
   },
   {
    "duration": 19,
    "start_time": "2022-05-21T18:32:09.771Z"
   },
   {
    "duration": 19,
    "start_time": "2022-05-21T18:32:09.792Z"
   },
   {
    "duration": 22,
    "start_time": "2022-05-21T18:32:09.842Z"
   },
   {
    "duration": 19,
    "start_time": "2022-05-21T18:32:09.866Z"
   },
   {
    "duration": 27,
    "start_time": "2022-05-21T18:32:09.888Z"
   },
   {
    "duration": 37,
    "start_time": "2022-05-21T18:32:09.917Z"
   },
   {
    "duration": 27,
    "start_time": "2022-05-21T18:32:09.956Z"
   },
   {
    "duration": 23,
    "start_time": "2022-05-21T18:32:09.985Z"
   },
   {
    "duration": 47,
    "start_time": "2022-05-21T18:32:10.009Z"
   },
   {
    "duration": 20,
    "start_time": "2022-05-21T18:32:10.059Z"
   },
   {
    "duration": 16,
    "start_time": "2022-05-21T18:32:10.081Z"
   },
   {
    "duration": 43,
    "start_time": "2022-05-21T18:32:10.099Z"
   },
   {
    "duration": 22,
    "start_time": "2022-05-21T18:32:10.144Z"
   },
   {
    "duration": 11,
    "start_time": "2022-05-21T18:32:10.168Z"
   },
   {
    "duration": 8,
    "start_time": "2022-05-21T18:32:10.181Z"
   },
   {
    "duration": 59,
    "start_time": "2022-05-21T18:32:10.192Z"
   },
   {
    "duration": 5,
    "start_time": "2022-05-21T18:32:10.253Z"
   },
   {
    "duration": 7,
    "start_time": "2022-05-21T18:32:10.260Z"
   },
   {
    "duration": 210,
    "start_time": "2022-05-21T18:32:35.376Z"
   },
   {
    "duration": 181,
    "start_time": "2022-05-21T18:32:57.487Z"
   },
   {
    "duration": 214,
    "start_time": "2022-05-21T18:33:12.084Z"
   },
   {
    "duration": 235,
    "start_time": "2022-05-21T18:33:25.611Z"
   },
   {
    "duration": 9,
    "start_time": "2022-05-21T18:35:44.737Z"
   },
   {
    "duration": 205,
    "start_time": "2022-05-21T18:35:56.054Z"
   },
   {
    "duration": 4,
    "start_time": "2022-05-21T18:36:03.938Z"
   },
   {
    "duration": 82,
    "start_time": "2022-05-21T18:36:03.944Z"
   },
   {
    "duration": 22,
    "start_time": "2022-05-21T18:36:04.028Z"
   },
   {
    "duration": 5,
    "start_time": "2022-05-21T18:36:04.057Z"
   },
   {
    "duration": 8,
    "start_time": "2022-05-21T18:36:04.064Z"
   },
   {
    "duration": 10,
    "start_time": "2022-05-21T18:36:04.075Z"
   },
   {
    "duration": 15,
    "start_time": "2022-05-21T18:36:04.088Z"
   },
   {
    "duration": 40,
    "start_time": "2022-05-21T18:36:04.106Z"
   },
   {
    "duration": 25,
    "start_time": "2022-05-21T18:36:04.152Z"
   },
   {
    "duration": 6,
    "start_time": "2022-05-21T18:36:04.179Z"
   },
   {
    "duration": 35,
    "start_time": "2022-05-21T18:36:04.188Z"
   },
   {
    "duration": 32,
    "start_time": "2022-05-21T18:36:04.224Z"
   },
   {
    "duration": 26,
    "start_time": "2022-05-21T18:36:04.258Z"
   },
   {
    "duration": 17,
    "start_time": "2022-05-21T18:36:04.286Z"
   },
   {
    "duration": 365,
    "start_time": "2022-05-21T18:36:04.306Z"
   },
   {
    "duration": 17,
    "start_time": "2022-05-21T18:36:04.673Z"
   },
   {
    "duration": 9,
    "start_time": "2022-05-21T18:36:04.692Z"
   },
   {
    "duration": 482,
    "start_time": "2022-05-21T18:36:04.703Z"
   },
   {
    "duration": 20,
    "start_time": "2022-05-21T18:36:05.186Z"
   },
   {
    "duration": 35,
    "start_time": "2022-05-21T18:36:05.208Z"
   },
   {
    "duration": 11,
    "start_time": "2022-05-21T18:36:05.244Z"
   },
   {
    "duration": 410,
    "start_time": "2022-05-21T18:36:05.256Z"
   },
   {
    "duration": 9,
    "start_time": "2022-05-21T18:36:05.668Z"
   },
   {
    "duration": 224,
    "start_time": "2022-05-21T18:36:05.682Z"
   },
   {
    "duration": 6,
    "start_time": "2022-05-21T18:36:05.908Z"
   },
   {
    "duration": 12,
    "start_time": "2022-05-21T18:36:05.916Z"
   },
   {
    "duration": 270,
    "start_time": "2022-05-21T18:36:05.929Z"
   },
   {
    "duration": 266,
    "start_time": "2022-05-21T18:36:06.201Z"
   },
   {
    "duration": 14,
    "start_time": "2022-05-21T18:36:06.469Z"
   },
   {
    "duration": 7,
    "start_time": "2022-05-21T18:36:06.485Z"
   },
   {
    "duration": 12,
    "start_time": "2022-05-21T18:36:06.494Z"
   },
   {
    "duration": 45,
    "start_time": "2022-05-21T18:36:06.508Z"
   },
   {
    "duration": 7,
    "start_time": "2022-05-21T18:36:06.555Z"
   },
   {
    "duration": 13,
    "start_time": "2022-05-21T18:36:06.563Z"
   },
   {
    "duration": 19,
    "start_time": "2022-05-21T18:36:06.578Z"
   },
   {
    "duration": 19,
    "start_time": "2022-05-21T18:36:06.599Z"
   },
   {
    "duration": 41,
    "start_time": "2022-05-21T18:36:06.621Z"
   },
   {
    "duration": 22,
    "start_time": "2022-05-21T18:36:06.665Z"
   },
   {
    "duration": 16,
    "start_time": "2022-05-21T18:36:06.689Z"
   },
   {
    "duration": 52,
    "start_time": "2022-05-21T18:36:06.707Z"
   },
   {
    "duration": 24,
    "start_time": "2022-05-21T18:36:06.761Z"
   },
   {
    "duration": 16,
    "start_time": "2022-05-21T18:36:06.787Z"
   },
   {
    "duration": 16,
    "start_time": "2022-05-21T18:36:06.805Z"
   },
   {
    "duration": 38,
    "start_time": "2022-05-21T18:36:06.823Z"
   },
   {
    "duration": 21,
    "start_time": "2022-05-21T18:36:06.863Z"
   },
   {
    "duration": 20,
    "start_time": "2022-05-21T18:36:06.886Z"
   },
   {
    "duration": 49,
    "start_time": "2022-05-21T18:36:06.908Z"
   },
   {
    "duration": 20,
    "start_time": "2022-05-21T18:36:06.959Z"
   },
   {
    "duration": 18,
    "start_time": "2022-05-21T18:36:06.981Z"
   },
   {
    "duration": 28,
    "start_time": "2022-05-21T18:36:07.001Z"
   },
   {
    "duration": 13,
    "start_time": "2022-05-21T18:36:07.031Z"
   },
   {
    "duration": 22,
    "start_time": "2022-05-21T18:36:07.046Z"
   },
   {
    "duration": 210,
    "start_time": "2022-05-21T18:36:34.342Z"
   },
   {
    "duration": 387,
    "start_time": "2022-05-21T18:42:14.449Z"
   },
   {
    "duration": 3,
    "start_time": "2022-05-21T18:42:27.599Z"
   },
   {
    "duration": 64,
    "start_time": "2022-05-21T18:42:27.604Z"
   },
   {
    "duration": 14,
    "start_time": "2022-05-21T18:42:27.669Z"
   },
   {
    "duration": 4,
    "start_time": "2022-05-21T18:42:27.685Z"
   },
   {
    "duration": 8,
    "start_time": "2022-05-21T18:42:27.691Z"
   },
   {
    "duration": 6,
    "start_time": "2022-05-21T18:42:27.701Z"
   },
   {
    "duration": 36,
    "start_time": "2022-05-21T18:42:27.708Z"
   },
   {
    "duration": 8,
    "start_time": "2022-05-21T18:42:27.745Z"
   },
   {
    "duration": 8,
    "start_time": "2022-05-21T18:42:27.755Z"
   },
   {
    "duration": 9,
    "start_time": "2022-05-21T18:42:27.764Z"
   },
   {
    "duration": 27,
    "start_time": "2022-05-21T18:42:27.775Z"
   },
   {
    "duration": 38,
    "start_time": "2022-05-21T18:42:27.804Z"
   },
   {
    "duration": 20,
    "start_time": "2022-05-21T18:42:27.844Z"
   },
   {
    "duration": 18,
    "start_time": "2022-05-21T18:42:27.867Z"
   },
   {
    "duration": 311,
    "start_time": "2022-05-21T18:42:27.886Z"
   },
   {
    "duration": 16,
    "start_time": "2022-05-21T18:42:28.198Z"
   },
   {
    "duration": 8,
    "start_time": "2022-05-21T18:42:28.215Z"
   },
   {
    "duration": 418,
    "start_time": "2022-05-21T18:42:28.241Z"
   },
   {
    "duration": 18,
    "start_time": "2022-05-21T18:42:28.661Z"
   },
   {
    "duration": 14,
    "start_time": "2022-05-21T18:42:28.681Z"
   },
   {
    "duration": 11,
    "start_time": "2022-05-21T18:42:28.697Z"
   },
   {
    "duration": 384,
    "start_time": "2022-05-21T18:42:28.709Z"
   },
   {
    "duration": 7,
    "start_time": "2022-05-21T18:42:29.095Z"
   },
   {
    "duration": 205,
    "start_time": "2022-05-21T18:42:29.103Z"
   },
   {
    "duration": 181,
    "start_time": "2022-05-21T18:42:29.310Z"
   },
   {
    "duration": 0,
    "start_time": "2022-05-21T18:42:29.493Z"
   },
   {
    "duration": 0,
    "start_time": "2022-05-21T18:42:29.494Z"
   },
   {
    "duration": 0,
    "start_time": "2022-05-21T18:42:29.495Z"
   },
   {
    "duration": 0,
    "start_time": "2022-05-21T18:42:29.496Z"
   },
   {
    "duration": 0,
    "start_time": "2022-05-21T18:42:29.497Z"
   },
   {
    "duration": 0,
    "start_time": "2022-05-21T18:42:29.498Z"
   },
   {
    "duration": 0,
    "start_time": "2022-05-21T18:42:29.499Z"
   },
   {
    "duration": 0,
    "start_time": "2022-05-21T18:42:29.500Z"
   },
   {
    "duration": 0,
    "start_time": "2022-05-21T18:42:29.501Z"
   },
   {
    "duration": 0,
    "start_time": "2022-05-21T18:42:29.502Z"
   },
   {
    "duration": 0,
    "start_time": "2022-05-21T18:42:29.504Z"
   },
   {
    "duration": 0,
    "start_time": "2022-05-21T18:42:29.505Z"
   },
   {
    "duration": 0,
    "start_time": "2022-05-21T18:42:29.506Z"
   },
   {
    "duration": 0,
    "start_time": "2022-05-21T18:42:29.507Z"
   },
   {
    "duration": 0,
    "start_time": "2022-05-21T18:42:29.508Z"
   },
   {
    "duration": 0,
    "start_time": "2022-05-21T18:42:29.509Z"
   },
   {
    "duration": 0,
    "start_time": "2022-05-21T18:42:29.510Z"
   },
   {
    "duration": 0,
    "start_time": "2022-05-21T18:42:29.511Z"
   },
   {
    "duration": 0,
    "start_time": "2022-05-21T18:42:29.512Z"
   },
   {
    "duration": 0,
    "start_time": "2022-05-21T18:42:29.513Z"
   },
   {
    "duration": 0,
    "start_time": "2022-05-21T18:42:29.513Z"
   },
   {
    "duration": 0,
    "start_time": "2022-05-21T18:42:29.514Z"
   },
   {
    "duration": 0,
    "start_time": "2022-05-21T18:42:29.514Z"
   },
   {
    "duration": 25,
    "start_time": "2022-05-21T18:42:29.515Z"
   },
   {
    "duration": 0,
    "start_time": "2022-05-21T18:42:29.542Z"
   },
   {
    "duration": 0,
    "start_time": "2022-05-21T18:42:29.543Z"
   },
   {
    "duration": 0,
    "start_time": "2022-05-21T18:42:29.544Z"
   },
   {
    "duration": 0,
    "start_time": "2022-05-21T18:42:29.545Z"
   },
   {
    "duration": 171,
    "start_time": "2022-05-21T18:44:03.606Z"
   },
   {
    "duration": 25,
    "start_time": "2022-05-21T19:16:58.888Z"
   },
   {
    "duration": 206,
    "start_time": "2022-05-21T19:17:20.643Z"
   },
   {
    "duration": 3,
    "start_time": "2022-05-21T19:17:30.862Z"
   },
   {
    "duration": 64,
    "start_time": "2022-05-21T19:17:30.880Z"
   },
   {
    "duration": 13,
    "start_time": "2022-05-21T19:17:30.946Z"
   },
   {
    "duration": 9,
    "start_time": "2022-05-21T19:17:30.961Z"
   },
   {
    "duration": 14,
    "start_time": "2022-05-21T19:17:30.972Z"
   },
   {
    "duration": 7,
    "start_time": "2022-05-21T19:17:30.989Z"
   },
   {
    "duration": 14,
    "start_time": "2022-05-21T19:17:30.998Z"
   },
   {
    "duration": 34,
    "start_time": "2022-05-21T19:17:31.014Z"
   },
   {
    "duration": 8,
    "start_time": "2022-05-21T19:17:31.051Z"
   },
   {
    "duration": 7,
    "start_time": "2022-05-21T19:17:31.061Z"
   },
   {
    "duration": 25,
    "start_time": "2022-05-21T19:17:31.070Z"
   },
   {
    "duration": 45,
    "start_time": "2022-05-21T19:17:31.097Z"
   },
   {
    "duration": 22,
    "start_time": "2022-05-21T19:17:31.145Z"
   },
   {
    "duration": 15,
    "start_time": "2022-05-21T19:17:31.169Z"
   },
   {
    "duration": 310,
    "start_time": "2022-05-21T19:17:31.187Z"
   },
   {
    "duration": 17,
    "start_time": "2022-05-21T19:17:31.499Z"
   },
   {
    "duration": 26,
    "start_time": "2022-05-21T19:17:31.518Z"
   },
   {
    "duration": 458,
    "start_time": "2022-05-21T19:17:31.546Z"
   },
   {
    "duration": 23,
    "start_time": "2022-05-21T19:17:32.006Z"
   },
   {
    "duration": 18,
    "start_time": "2022-05-21T19:17:32.042Z"
   },
   {
    "duration": 8,
    "start_time": "2022-05-21T19:17:32.062Z"
   },
   {
    "duration": 400,
    "start_time": "2022-05-21T19:17:32.072Z"
   },
   {
    "duration": 27,
    "start_time": "2022-05-21T19:17:32.474Z"
   },
   {
    "duration": 210,
    "start_time": "2022-05-21T19:17:32.503Z"
   },
   {
    "duration": 31,
    "start_time": "2022-05-21T19:17:32.714Z"
   },
   {
    "duration": 0,
    "start_time": "2022-05-21T19:17:32.747Z"
   },
   {
    "duration": 0,
    "start_time": "2022-05-21T19:17:32.748Z"
   },
   {
    "duration": 0,
    "start_time": "2022-05-21T19:17:32.749Z"
   },
   {
    "duration": 0,
    "start_time": "2022-05-21T19:17:32.751Z"
   },
   {
    "duration": 0,
    "start_time": "2022-05-21T19:17:32.752Z"
   },
   {
    "duration": 0,
    "start_time": "2022-05-21T19:17:32.753Z"
   },
   {
    "duration": 0,
    "start_time": "2022-05-21T19:17:32.754Z"
   },
   {
    "duration": 0,
    "start_time": "2022-05-21T19:17:32.755Z"
   },
   {
    "duration": 0,
    "start_time": "2022-05-21T19:17:32.756Z"
   },
   {
    "duration": 0,
    "start_time": "2022-05-21T19:17:32.757Z"
   },
   {
    "duration": 0,
    "start_time": "2022-05-21T19:17:32.758Z"
   },
   {
    "duration": 0,
    "start_time": "2022-05-21T19:17:32.759Z"
   },
   {
    "duration": 0,
    "start_time": "2022-05-21T19:17:32.760Z"
   },
   {
    "duration": 0,
    "start_time": "2022-05-21T19:17:32.761Z"
   },
   {
    "duration": 0,
    "start_time": "2022-05-21T19:17:32.762Z"
   },
   {
    "duration": 0,
    "start_time": "2022-05-21T19:17:32.763Z"
   },
   {
    "duration": 0,
    "start_time": "2022-05-21T19:17:32.764Z"
   },
   {
    "duration": 0,
    "start_time": "2022-05-21T19:17:32.766Z"
   },
   {
    "duration": 0,
    "start_time": "2022-05-21T19:17:32.767Z"
   },
   {
    "duration": 0,
    "start_time": "2022-05-21T19:17:32.768Z"
   },
   {
    "duration": 0,
    "start_time": "2022-05-21T19:17:32.769Z"
   },
   {
    "duration": 0,
    "start_time": "2022-05-21T19:17:32.769Z"
   },
   {
    "duration": 0,
    "start_time": "2022-05-21T19:17:32.771Z"
   },
   {
    "duration": 0,
    "start_time": "2022-05-21T19:17:32.772Z"
   },
   {
    "duration": 0,
    "start_time": "2022-05-21T19:17:32.773Z"
   },
   {
    "duration": 0,
    "start_time": "2022-05-21T19:17:32.774Z"
   },
   {
    "duration": 0,
    "start_time": "2022-05-21T19:17:32.775Z"
   },
   {
    "duration": 0,
    "start_time": "2022-05-21T19:17:32.776Z"
   },
   {
    "duration": 8,
    "start_time": "2022-05-21T19:29:44.897Z"
   },
   {
    "duration": 188,
    "start_time": "2022-05-21T19:29:48.810Z"
   },
   {
    "duration": 3,
    "start_time": "2022-05-21T19:30:05.498Z"
   },
   {
    "duration": 65,
    "start_time": "2022-05-21T19:30:05.503Z"
   },
   {
    "duration": 15,
    "start_time": "2022-05-21T19:30:05.570Z"
   },
   {
    "duration": 15,
    "start_time": "2022-05-21T19:30:05.587Z"
   },
   {
    "duration": 8,
    "start_time": "2022-05-21T19:30:05.605Z"
   },
   {
    "duration": 28,
    "start_time": "2022-05-21T19:30:05.615Z"
   },
   {
    "duration": 12,
    "start_time": "2022-05-21T19:30:05.645Z"
   },
   {
    "duration": 7,
    "start_time": "2022-05-21T19:30:05.659Z"
   },
   {
    "duration": 7,
    "start_time": "2022-05-21T19:30:05.668Z"
   },
   {
    "duration": 6,
    "start_time": "2022-05-21T19:30:05.677Z"
   },
   {
    "duration": 63,
    "start_time": "2022-05-21T19:30:05.685Z"
   },
   {
    "duration": 15,
    "start_time": "2022-05-21T19:30:05.750Z"
   },
   {
    "duration": 25,
    "start_time": "2022-05-21T19:30:05.766Z"
   },
   {
    "duration": 17,
    "start_time": "2022-05-21T19:30:05.792Z"
   },
   {
    "duration": 342,
    "start_time": "2022-05-21T19:30:05.811Z"
   },
   {
    "duration": 15,
    "start_time": "2022-05-21T19:30:06.155Z"
   },
   {
    "duration": 7,
    "start_time": "2022-05-21T19:30:06.172Z"
   },
   {
    "duration": 436,
    "start_time": "2022-05-21T19:30:06.181Z"
   },
   {
    "duration": 30,
    "start_time": "2022-05-21T19:30:06.619Z"
   },
   {
    "duration": 16,
    "start_time": "2022-05-21T19:30:06.650Z"
   },
   {
    "duration": 7,
    "start_time": "2022-05-21T19:30:06.667Z"
   },
   {
    "duration": 467,
    "start_time": "2022-05-21T19:30:06.676Z"
   },
   {
    "duration": 8,
    "start_time": "2022-05-21T19:30:07.145Z"
   },
   {
    "duration": 223,
    "start_time": "2022-05-21T19:30:07.157Z"
   },
   {
    "duration": 40,
    "start_time": "2022-05-21T19:30:07.382Z"
   },
   {
    "duration": 0,
    "start_time": "2022-05-21T19:30:07.424Z"
   },
   {
    "duration": 0,
    "start_time": "2022-05-21T19:30:07.425Z"
   },
   {
    "duration": 0,
    "start_time": "2022-05-21T19:30:07.426Z"
   },
   {
    "duration": 0,
    "start_time": "2022-05-21T19:30:07.428Z"
   },
   {
    "duration": 0,
    "start_time": "2022-05-21T19:30:07.429Z"
   },
   {
    "duration": 0,
    "start_time": "2022-05-21T19:30:07.430Z"
   },
   {
    "duration": 0,
    "start_time": "2022-05-21T19:30:07.431Z"
   },
   {
    "duration": 0,
    "start_time": "2022-05-21T19:30:07.432Z"
   },
   {
    "duration": 0,
    "start_time": "2022-05-21T19:30:07.434Z"
   },
   {
    "duration": 0,
    "start_time": "2022-05-21T19:30:07.435Z"
   },
   {
    "duration": 0,
    "start_time": "2022-05-21T19:30:07.436Z"
   },
   {
    "duration": 0,
    "start_time": "2022-05-21T19:30:07.437Z"
   },
   {
    "duration": 0,
    "start_time": "2022-05-21T19:30:07.438Z"
   },
   {
    "duration": 0,
    "start_time": "2022-05-21T19:30:07.439Z"
   },
   {
    "duration": 0,
    "start_time": "2022-05-21T19:30:07.440Z"
   },
   {
    "duration": 0,
    "start_time": "2022-05-21T19:30:07.441Z"
   },
   {
    "duration": 0,
    "start_time": "2022-05-21T19:30:07.443Z"
   },
   {
    "duration": 0,
    "start_time": "2022-05-21T19:30:07.444Z"
   },
   {
    "duration": 0,
    "start_time": "2022-05-21T19:30:07.445Z"
   },
   {
    "duration": 0,
    "start_time": "2022-05-21T19:30:07.446Z"
   },
   {
    "duration": 0,
    "start_time": "2022-05-21T19:30:07.447Z"
   },
   {
    "duration": 0,
    "start_time": "2022-05-21T19:30:07.448Z"
   },
   {
    "duration": 0,
    "start_time": "2022-05-21T19:30:07.449Z"
   },
   {
    "duration": 0,
    "start_time": "2022-05-21T19:30:07.450Z"
   },
   {
    "duration": 0,
    "start_time": "2022-05-21T19:30:07.451Z"
   },
   {
    "duration": 0,
    "start_time": "2022-05-21T19:30:07.452Z"
   },
   {
    "duration": 0,
    "start_time": "2022-05-21T19:30:07.453Z"
   },
   {
    "duration": 0,
    "start_time": "2022-05-21T19:30:07.454Z"
   },
   {
    "duration": 186,
    "start_time": "2022-05-21T19:33:19.249Z"
   },
   {
    "duration": 212,
    "start_time": "2022-05-21T19:33:31.895Z"
   },
   {
    "duration": 197,
    "start_time": "2022-05-21T19:33:41.716Z"
   },
   {
    "duration": 180,
    "start_time": "2022-05-21T19:33:51.407Z"
   },
   {
    "duration": 1199,
    "start_time": "2022-05-22T07:54:50.348Z"
   },
   {
    "duration": 203,
    "start_time": "2022-05-22T07:54:51.548Z"
   },
   {
    "duration": 18,
    "start_time": "2022-05-22T07:54:51.753Z"
   },
   {
    "duration": 4,
    "start_time": "2022-05-22T07:54:51.773Z"
   },
   {
    "duration": 18,
    "start_time": "2022-05-22T07:54:51.779Z"
   },
   {
    "duration": 5,
    "start_time": "2022-05-22T07:54:51.798Z"
   },
   {
    "duration": 26,
    "start_time": "2022-05-22T07:54:51.804Z"
   },
   {
    "duration": 12,
    "start_time": "2022-05-22T07:54:51.831Z"
   },
   {
    "duration": 24,
    "start_time": "2022-05-22T07:54:51.845Z"
   },
   {
    "duration": 20,
    "start_time": "2022-05-22T07:54:51.871Z"
   },
   {
    "duration": 31,
    "start_time": "2022-05-22T07:54:51.892Z"
   },
   {
    "duration": 12,
    "start_time": "2022-05-22T07:54:51.924Z"
   },
   {
    "duration": 26,
    "start_time": "2022-05-22T07:54:51.937Z"
   },
   {
    "duration": 14,
    "start_time": "2022-05-22T07:54:51.965Z"
   },
   {
    "duration": 278,
    "start_time": "2022-05-22T07:54:51.980Z"
   },
   {
    "duration": 14,
    "start_time": "2022-05-22T07:54:52.259Z"
   },
   {
    "duration": 7,
    "start_time": "2022-05-22T07:54:52.275Z"
   },
   {
    "duration": 461,
    "start_time": "2022-05-22T07:54:52.284Z"
   },
   {
    "duration": 19,
    "start_time": "2022-05-22T07:54:52.747Z"
   },
   {
    "duration": 13,
    "start_time": "2022-05-22T07:54:52.768Z"
   },
   {
    "duration": 7,
    "start_time": "2022-05-22T07:54:52.783Z"
   },
   {
    "duration": 321,
    "start_time": "2022-05-22T07:54:52.792Z"
   },
   {
    "duration": 8,
    "start_time": "2022-05-22T07:54:53.115Z"
   },
   {
    "duration": 186,
    "start_time": "2022-05-22T07:54:53.125Z"
   },
   {
    "duration": 6,
    "start_time": "2022-05-22T07:54:53.313Z"
   },
   {
    "duration": 11,
    "start_time": "2022-05-22T07:54:53.321Z"
   },
   {
    "duration": 226,
    "start_time": "2022-05-22T07:54:53.333Z"
   },
   {
    "duration": 206,
    "start_time": "2022-05-22T07:54:53.563Z"
   },
   {
    "duration": 17,
    "start_time": "2022-05-22T07:54:53.771Z"
   },
   {
    "duration": 15,
    "start_time": "2022-05-22T07:54:53.790Z"
   },
   {
    "duration": 11,
    "start_time": "2022-05-22T07:54:53.807Z"
   },
   {
    "duration": 15,
    "start_time": "2022-05-22T07:54:53.820Z"
   },
   {
    "duration": 6,
    "start_time": "2022-05-22T07:54:53.836Z"
   },
   {
    "duration": 11,
    "start_time": "2022-05-22T07:54:53.843Z"
   },
   {
    "duration": 13,
    "start_time": "2022-05-22T07:54:53.856Z"
   },
   {
    "duration": 39,
    "start_time": "2022-05-22T07:54:53.870Z"
   },
   {
    "duration": 14,
    "start_time": "2022-05-22T07:54:53.910Z"
   },
   {
    "duration": 13,
    "start_time": "2022-05-22T07:54:53.925Z"
   },
   {
    "duration": 17,
    "start_time": "2022-05-22T07:54:53.940Z"
   },
   {
    "duration": 13,
    "start_time": "2022-05-22T07:54:53.958Z"
   },
   {
    "duration": 40,
    "start_time": "2022-05-22T07:54:53.972Z"
   },
   {
    "duration": 13,
    "start_time": "2022-05-22T07:54:54.013Z"
   },
   {
    "duration": 11,
    "start_time": "2022-05-22T07:54:54.028Z"
   },
   {
    "duration": 11,
    "start_time": "2022-05-22T07:54:54.041Z"
   },
   {
    "duration": 12,
    "start_time": "2022-05-22T07:54:54.054Z"
   },
   {
    "duration": 44,
    "start_time": "2022-05-22T07:54:54.067Z"
   },
   {
    "duration": 17,
    "start_time": "2022-05-22T07:54:54.112Z"
   },
   {
    "duration": 3,
    "start_time": "2022-05-22T07:54:54.131Z"
   },
   {
    "duration": 6,
    "start_time": "2022-05-22T07:54:54.136Z"
   },
   {
    "duration": 23,
    "start_time": "2022-05-22T07:54:54.143Z"
   },
   {
    "duration": 4,
    "start_time": "2022-05-22T07:54:54.167Z"
   },
   {
    "duration": 6,
    "start_time": "2022-05-22T07:54:54.202Z"
   },
   {
    "duration": 1102,
    "start_time": "2022-05-22T08:44:44.640Z"
   },
   {
    "duration": 77,
    "start_time": "2022-05-22T08:44:45.744Z"
   },
   {
    "duration": 13,
    "start_time": "2022-05-22T08:44:45.824Z"
   },
   {
    "duration": 3,
    "start_time": "2022-05-22T08:44:45.839Z"
   },
   {
    "duration": 5,
    "start_time": "2022-05-22T08:44:45.844Z"
   },
   {
    "duration": 4,
    "start_time": "2022-05-22T08:44:45.851Z"
   },
   {
    "duration": 11,
    "start_time": "2022-05-22T08:44:45.857Z"
   },
   {
    "duration": 33,
    "start_time": "2022-05-22T08:44:45.869Z"
   },
   {
    "duration": 7,
    "start_time": "2022-05-22T08:44:45.904Z"
   },
   {
    "duration": 5,
    "start_time": "2022-05-22T08:44:45.913Z"
   },
   {
    "duration": 18,
    "start_time": "2022-05-22T08:44:45.920Z"
   },
   {
    "duration": 13,
    "start_time": "2022-05-22T08:44:45.939Z"
   },
   {
    "duration": 20,
    "start_time": "2022-05-22T08:44:45.953Z"
   },
   {
    "duration": 15,
    "start_time": "2022-05-22T08:44:46.001Z"
   },
   {
    "duration": 311,
    "start_time": "2022-05-22T08:44:46.017Z"
   },
   {
    "duration": 15,
    "start_time": "2022-05-22T08:44:46.329Z"
   },
   {
    "duration": 7,
    "start_time": "2022-05-22T08:44:46.345Z"
   },
   {
    "duration": 548,
    "start_time": "2022-05-22T08:44:46.353Z"
   },
   {
    "duration": 20,
    "start_time": "2022-05-22T08:44:46.902Z"
   },
   {
    "duration": 14,
    "start_time": "2022-05-22T08:44:46.924Z"
   },
   {
    "duration": 6,
    "start_time": "2022-05-22T08:44:46.940Z"
   },
   {
    "duration": 346,
    "start_time": "2022-05-22T08:44:46.947Z"
   },
   {
    "duration": 10,
    "start_time": "2022-05-22T08:44:47.294Z"
   },
   {
    "duration": 192,
    "start_time": "2022-05-22T08:44:47.306Z"
   },
   {
    "duration": 7,
    "start_time": "2022-05-22T08:44:47.502Z"
   },
   {
    "duration": 12,
    "start_time": "2022-05-22T08:44:47.510Z"
   },
   {
    "duration": 240,
    "start_time": "2022-05-22T08:44:47.524Z"
   },
   {
    "duration": 218,
    "start_time": "2022-05-22T08:44:47.767Z"
   },
   {
    "duration": 16,
    "start_time": "2022-05-22T08:44:47.987Z"
   },
   {
    "duration": 6,
    "start_time": "2022-05-22T08:44:48.004Z"
   },
   {
    "duration": 11,
    "start_time": "2022-05-22T08:44:48.011Z"
   },
   {
    "duration": 12,
    "start_time": "2022-05-22T08:44:48.024Z"
   },
   {
    "duration": 6,
    "start_time": "2022-05-22T08:44:48.037Z"
   },
   {
    "duration": 12,
    "start_time": "2022-05-22T08:44:48.044Z"
   },
   {
    "duration": 45,
    "start_time": "2022-05-22T08:44:48.057Z"
   },
   {
    "duration": 15,
    "start_time": "2022-05-22T08:44:48.104Z"
   },
   {
    "duration": 14,
    "start_time": "2022-05-22T08:44:48.121Z"
   },
   {
    "duration": 14,
    "start_time": "2022-05-22T08:44:48.137Z"
   },
   {
    "duration": 13,
    "start_time": "2022-05-22T08:44:48.152Z"
   },
   {
    "duration": 45,
    "start_time": "2022-05-22T08:44:48.167Z"
   },
   {
    "duration": 14,
    "start_time": "2022-05-22T08:44:48.214Z"
   },
   {
    "duration": 14,
    "start_time": "2022-05-22T08:44:48.229Z"
   },
   {
    "duration": 12,
    "start_time": "2022-05-22T08:44:48.244Z"
   },
   {
    "duration": 13,
    "start_time": "2022-05-22T08:44:48.258Z"
   },
   {
    "duration": 15,
    "start_time": "2022-05-22T08:44:48.301Z"
   },
   {
    "duration": 13,
    "start_time": "2022-05-22T08:44:48.317Z"
   },
   {
    "duration": 16,
    "start_time": "2022-05-22T08:44:48.332Z"
   },
   {
    "duration": 4,
    "start_time": "2022-05-22T08:44:48.349Z"
   },
   {
    "duration": 8,
    "start_time": "2022-05-22T08:44:48.354Z"
   },
   {
    "duration": 50,
    "start_time": "2022-05-22T08:44:48.364Z"
   },
   {
    "duration": 4,
    "start_time": "2022-05-22T08:44:48.416Z"
   },
   {
    "duration": 23,
    "start_time": "2022-05-22T08:44:48.422Z"
   }
  ],
  "kernelspec": {
   "display_name": "Python 3",
   "language": "python",
   "name": "python3"
  },
  "language_info": {
   "codemirror_mode": {
    "name": "ipython",
    "version": 3
   },
   "file_extension": ".py",
   "mimetype": "text/x-python",
   "name": "python",
   "nbconvert_exporter": "python",
   "pygments_lexer": "ipython3",
   "version": "3.7.1"
  },
  "toc": {
   "base_numbering": 1,
   "nav_menu": {
    "height": "46px",
    "width": "179px"
   },
   "number_sections": true,
   "sideBar": true,
   "skip_h1_title": true,
   "title_cell": "Содержание",
   "title_sidebar": "Contents",
   "toc_cell": true,
   "toc_position": {
    "height": "calc(100% - 180px)",
    "left": "10px",
    "top": "150px",
    "width": "348.569px"
   },
   "toc_section_display": true,
   "toc_window_display": true
  }
 },
 "nbformat": 4,
 "nbformat_minor": 2
}
